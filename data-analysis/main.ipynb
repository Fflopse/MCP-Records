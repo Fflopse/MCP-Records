{
 "cells": [
  {
   "cell_type": "markdown",
   "id": "71efeebb",
   "metadata": {},
   "source": [
    "### Initialization ###"
   ]
  },
  {
   "cell_type": "code",
   "execution_count": 1,
   "id": "55e3340b",
   "metadata": {},
   "outputs": [
    {
     "name": "stderr",
     "output_type": "stream",
     "text": [
      "/Users/eliasmb/MCP-Records/.venv/lib/python3.9/site-packages/urllib3/__init__.py:35: NotOpenSSLWarning: urllib3 v2 only supports OpenSSL 1.1.1+, currently the 'ssl' module is compiled with 'LibreSSL 2.8.3'. See: https://github.com/urllib3/urllib3/issues/3020\n",
      "  warnings.warn(\n"
     ]
    }
   ],
   "source": [
    "import scrape\n",
    "import helpers as h"
   ]
  },
  {
   "cell_type": "code",
   "execution_count": 2,
   "id": "4afae690",
   "metadata": {},
   "outputs": [],
   "source": [
    "scraper = scrape.RecordScraper()\n",
    "player_manager = scrape.PlayerManager()\n",
    "uuid_manager = scrape.UUIDManager()"
   ]
  },
  {
   "cell_type": "markdown",
   "id": "833263c4",
   "metadata": {},
   "source": [
    "### playerList assembly ###"
   ]
  },
  {
   "cell_type": "code",
   "execution_count": 3,
   "id": "10fbc588",
   "metadata": {},
   "outputs": [
    {
     "name": "stdout",
     "output_type": "stream",
     "text": [
      "Processing 247 players...\n",
      "Found 247 unique UUIDs\n",
      "Progress: 1/247 - demiu\n",
      "Progress: 2/247 - yzvm\n",
      "Progress: 3/247 - jimmi4Life\n",
      "Progress: 4/247 - JennieKim\n",
      "Progress: 5/247 - LordAlexos\n",
      "Progress: 6/247 - Kopfradio\n",
      "Progress: 7/247 - Persidieus\n",
      "Progress: 8/247 - JOW23\n",
      "Progress: 9/247 - frutigall\n",
      "Progress: 10/247 - BusinessBent\n",
      "Progress: 11/247 - NewNormal0947\n",
      "Progress: 12/247 - Tammywood\n",
      "Progress: 13/247 - ByNetherdude\n",
      "Progress: 14/247 - Picutar\n",
      "Progress: 15/247 - Axollotel\n",
      "Progress: 16/247 - Luis_XYZ\n",
      "Progress: 17/247 - medisant\n",
      "Progress: 18/247 - Ritokii\n",
      "Progress: 19/247 - revolverz\n",
      "Progress: 20/247 - Squashgitter333\n",
      "Progress: 21/247 - GeneralEnte06\n",
      "Progress: 22/247 - Steavn\n",
      "Progress: 23/247 - Bikoop\n",
      "Progress: 24/247 - Keenaai\n",
      "Progress: 25/247 - FrozenNoah\n",
      "Progress: 26/247 - Lelouch610\n",
      "Progress: 27/247 - LeMetin_\n",
      "Progress: 28/247 - M0orey_0\n",
      "Progress: 29/247 - schwarzekater\n",
      "Progress: 30/247 - GlowyDusk\n",
      "Progress: 31/247 - y9nic\n",
      "Progress: 32/247 - Bikop\n",
      "Progress: 33/247 - RyanxCole\n",
      "Progress: 34/247 - CuzImKnxck\n",
      "Progress: 35/247 - chrisihalt\n",
      "Progress: 36/247 - 20LeRe10\n",
      "Progress: 37/247 - unausgesprochen\n",
      "Progress: 38/247 - HerrDante\n",
      "Progress: 39/247 - _n3d\n",
      "Progress: 40/247 - Harold_Sensemann\n",
      "Progress: 41/247 - ForceFox\n",
      "Progress: 42/247 - Nervigerr\n",
      "Progress: 43/247 - DaVinci_Son\n",
      "Progress: 44/247 - Sackkerl\n",
      "Progress: 45/247 - Bartschii\n",
      "Progress: 46/247 - Laaaachs\n",
      "Progress: 47/247 - NotLennart\n",
      "Progress: 48/247 - Nor_Malo\n",
      "Progress: 49/247 - Gfrasti\n",
      "Progress: 50/247 - xX_Dima_ggg_Xx6\n",
      "Progress: 51/247 - juvona\n",
      "Progress: 52/247 - Lennart0911\n",
      "Progress: 53/247 - Acidey\n",
      "Progress: 54/247 - Lingex\n",
      "Progress: 55/247 - FluffyDragon2007\n",
      "Progress: 56/247 - _Waldi_\n",
      "Progress: 57/247 - sirmigorius\n",
      "Progress: 58/247 - musi1999\n",
      "Progress: 59/247 - redbrll\n",
      "Progress: 60/247 - Gobo9\n",
      "Progress: 61/247 - Failed to get name for 952123f8-0a2c-4736-a97e-ae988557572e\n",
      "Progress: 62/247 - Ungluecklicher\n",
      "Progress: 63/247 - MaxMitMaulkorb\n",
      "Progress: 64/247 - Gerrygames\n",
      "Progress: 65/247 - Kklopse\n",
      "Progress: 66/247 - KakaMC\n",
      "Progress: 67/247 - CladyNoClip_\n",
      "Progress: 68/247 - Kokochampo\n",
      "Progress: 69/247 - PolizeiDreamy\n",
      "Progress: 70/247 - Wolkenfarmer\n",
      "Progress: 71/247 - yiiq\n",
      "Progress: 72/247 - Pluto28\n",
      "Progress: 73/247 - qriezmannsOpa\n",
      "Progress: 74/247 - bawskey\n",
      "Progress: 75/247 - Cytoox\n",
      "Progress: 76/247 - shellny\n",
      "Progress: 77/247 - deadfiight\n",
      "Progress: 78/247 - YBCM\n",
      "Progress: 79/247 - loukrativ\n",
      "Progress: 80/247 - Teesily\n",
      "Progress: 81/247 - Sthyq\n",
      "Progress: 82/247 - camman18YT\n",
      "Progress: 83/247 - ScreamingBlatz\n",
      "Progress: 84/247 - marbrueck\n",
      "Progress: 85/247 - Gummibearchen\n",
      "Progress: 86/247 - Lubottus\n",
      "Progress: 87/247 - M0osebumps\n",
      "Progress: 88/247 - _Einfallslos_\n",
      "Progress: 89/247 - h4nnes\n",
      "Progress: 90/247 - yachayubin\n",
      "Progress: 91/247 - RasenLP\n",
      "Progress: 92/247 - cediiiiii_10\n",
      "Progress: 93/247 - agowskyy\n",
      "Progress: 94/247 - Janne4k\n",
      "Progress: 95/247 - Tim_Voltia\n",
      "Progress: 96/247 - Vacted\n",
      "Progress: 97/247 - PumiTheCat\n",
      "Progress: 98/247 - crocodile1870\n",
      "Progress: 99/247 - Gryzes\n",
      "Progress: 100/247 - Joe3346\n",
      "Progress: 101/247 - Juti0n\n",
      "Progress: 102/247 - Proofreader\n",
      "Progress: 103/247 - Morittz\n",
      "Progress: 104/247 - Odlaa\n",
      "Progress: 105/247 - TheFabo\n",
      "Progress: 106/247 - Martomias\n",
      "Progress: 107/247 - Lutorix\n",
      "Progress: 108/247 - Feinberg\n",
      "Progress: 109/247 - Dat_Klan\n",
      "Progress: 110/247 - Kyuudo\n",
      "Progress: 111/247 - rotmann2\n",
      "Progress: 112/247 - FlyingAutismus\n",
      "Progress: 113/247 - Txlentierter\n",
      "Progress: 114/247 - xBaumeisterin\n",
      "Progress: 115/247 - 2B9\n",
      "Progress: 116/247 - Chander24\n",
      "Progress: 117/247 - PixlNight\n",
      "Progress: 118/247 - Fflopse\n",
      "Progress: 119/247 - T_Niko_T\n",
      "Progress: 120/247 - Jan2220\n",
      "Progress: 121/247 - LilFueller\n",
      "Progress: 122/247 - lizsyy\n",
      "Progress: 123/247 - GingerTeddy\n",
      "Progress: 124/247 - Otronix\n",
      "Progress: 125/247 - xIForgotMySkill\n",
      "Progress: 126/247 - zBro\n",
      "Progress: 127/247 - Allooy\n",
      "Progress: 128/247 - GamemasterNiki\n",
      "Progress: 129/247 - cxl1lo\n",
      "Progress: 130/247 - yVendas\n",
      "Progress: 131/247 - JayMinInSane\n",
      "Progress: 132/247 - Stockinqs\n",
      "Progress: 133/247 - Oronor\n",
      "Progress: 134/247 - Joy_8oy\n",
      "Progress: 135/247 - OutcroYoutube\n",
      "Progress: 136/247 - Wienerisch\n",
      "Progress: 137/247 - Snitcherella\n",
      "Progress: 138/247 - SpeckyCut\n",
      "Progress: 139/247 - JustAnyy\n",
      "Progress: 140/247 - Sey__\n",
      "Progress: 141/247 - Wissender\n",
      "Progress: 142/247 - SatzdesPytag0ras\n",
      "Progress: 143/247 - Failed to get name for 5677c8b3-1b9a-45cd-ae32-685294849d58\n",
      "Progress: 144/247 - destr0yed_\n",
      "Progress: 145/247 - GrafikKatze\n",
      "Progress: 146/247 - Grapfen\n",
      "Progress: 147/247 - MoZadaTV\n",
      "Progress: 148/247 - KMaxN\n",
      "Progress: 149/247 - Carl1_1\n",
      "Progress: 150/247 - Navex\n",
      "Progress: 151/247 - miridis41\n",
      "Progress: 152/247 - xiooh\n",
      "Progress: 153/247 - Flitzi_Dino\n",
      "Progress: 154/247 - DarkCobweb\n",
      "Progress: 155/247 - Simlll\n",
      "Progress: 156/247 - linastunna\n",
      "Progress: 157/247 - Vanillinchen\n",
      "Progress: 158/247 - xd_Maiky\n",
      "Progress: 159/247 - Failed to get name for dfe255be-1359-4571-ac86-8d9b716daa62\n",
      "Progress: 160/247 - IchHolzDichWeg\n",
      "Progress: 161/247 - AnzeigeGehtRaus\n",
      "Progress: 162/247 - byTobi\n",
      "Progress: 163/247 - dossantosaveiro_\n",
      "Progress: 164/247 - Dubbly\n",
      "Progress: 165/247 - __egE\n",
      "Progress: 166/247 - BauHD\n",
      "Progress: 167/247 - NiklasMoWo\n",
      "Progress: 168/247 - Phoenix3000\n",
      "Progress: 169/247 - Falke_01\n",
      "Progress: 170/247 - WuschigesEtwas\n",
      "Progress: 171/247 - N3XV\n",
      "Progress: 172/247 - LeWi_100\n",
      "Progress: 173/247 - D4rkCookie\n",
      "Progress: 174/247 - Failed to get name for 003f12bd-dbb2-477b-a9c5-d390be6e9e53\n",
      "Progress: 175/247 - SecretAgent_K\n",
      "Progress: 176/247 - Failed to get name for 70ef6cd4-c813-4a06-a5e0-312a84ddd170\n",
      "Progress: 177/247 - Lord_Weibull\n",
      "Progress: 178/247 - qMika\n",
      "Progress: 179/247 - Julius16\n",
      "Progress: 180/247 - Krusti\n",
      "Progress: 181/247 - PedroZockt\n",
      "Progress: 182/247 - Anni808\n",
      "Progress: 183/247 - StaudammAusHolz\n",
      "Progress: 184/247 - TheKillerisback\n",
      "Progress: 185/247 - MaxOnTheRoad\n",
      "Progress: 186/247 - JOW24\n",
      "Progress: 187/247 - Highsay\n",
      "Progress: 188/247 - KINT0\n",
      "Progress: 189/247 - swiffle\n",
      "Progress: 190/247 - Luxemburq\n",
      "Progress: 191/247 - DieserBear\n",
      "Progress: 192/247 - SpinCrafter\n",
      "Progress: 193/247 - Sebi1801\n",
      "Progress: 194/247 - Mansuni\n",
      "Progress: 195/247 - LucaaOn\n",
      "Progress: 196/247 - GermanPie\n",
      "Progress: 197/247 - ZweitesIch\n",
      "Progress: 198/247 - G0at3D\n",
      "Progress: 199/247 - EinfachEazy\n",
      "Progress: 200/247 - SiLoHB\n",
      "Progress: 201/247 - WshPasie\n",
      "Progress: 202/247 - Gestimus\n",
      "Progress: 203/247 - Seemops_8\n",
      "Progress: 204/247 - MrNulfred\n",
      "Progress: 205/247 - Falke23_5\n",
      "Progress: 206/247 - xX_Masha_ggg_Xx9\n",
      "Progress: 207/247 - Sower_\n",
      "Progress: 208/247 - ArthurAlchemist\n",
      "Progress: 209/247 - Mincheeen\n",
      "Progress: 210/247 - Schmaarek\n",
      "Progress: 211/247 - Shiewk\n",
      "Progress: 212/247 - Ninivee\n",
      "Progress: 213/247 - Mvsk_\n",
      "Progress: 214/247 - SWLegende\n",
      "Progress: 215/247 - DrSpeed06\n",
      "Progress: 216/247 - Hyxeed\n",
      "Progress: 217/247 - cheesecake2901\n",
      "Progress: 218/247 - ffawks\n",
      "Progress: 219/247 - Scuprum\n",
      "Progress: 220/247 - HeIsJustAPoorBoy\n",
      "Progress: 221/247 - Muniix\n",
      "Progress: 222/247 - toxicplace\n",
      "Progress: 223/247 - lvlaurin\n",
      "Progress: 224/247 - zLachs\n",
      "Progress: 225/247 - BastiGHG\n",
      "Progress: 226/247 - SmartyxD\n",
      "Progress: 227/247 - Umgfoin\n",
      "Progress: 228/247 - Bildungsarten\n",
      "Progress: 229/247 - NanamiElvi\n",
      "Progress: 230/247 - BunnyKiko\n",
      "Progress: 231/247 - DerAutist\n",
      "Progress: 232/247 - Joel_the_king\n",
      "Progress: 233/247 - CML_Justin\n",
      "Progress: 234/247 - Ex4cted\n",
      "Progress: 235/247 - kfc_man069\n",
      "Progress: 236/247 - 2wc\n",
      "Progress: 237/247 - TheBreadHD\n",
      "Progress: 238/247 - vKito\n",
      "Progress: 239/247 - lolisamakun\n",
      "Progress: 240/247 - Dokkkkko\n",
      "Progress: 241/247 - twitchparaskiill\n",
      "Progress: 242/247 - Kanickelul\n",
      "Progress: 243/247 - WirdNichtGeladen\n",
      "Progress: 244/247 - lolisamasan\n",
      "Progress: 245/247 - Freeeedom\n",
      "Progress: 246/247 - Tomiokey\n",
      "Progress: 247/247 - SB387\n",
      "Warning: Keeping old name 'ReichesBrot' - couldn't fetch current name\n",
      "Warning: Keeping old name 'La_meleagro' - couldn't fetch current name\n",
      "Warning: Keeping old name 'Raefinzs' - couldn't fetch current name\n",
      "Warning: Keeping old name 'HerosHD' - couldn't fetch current name\n",
      "Warning: Keeping old name 'FlyingKyubi' - couldn't fetch current name\n",
      "\n",
      "Update complete!\n",
      "Total players: 247\n",
      "Name changes detected: 0\n",
      "Updated data saved to: player_uuids.json\n",
      "Player name list saved to: player_names.txt\n",
      "\n",
      "Current player names (247 total):\n",
      "  20LeRe10\n",
      "  2B9\n",
      "  2wc\n",
      "  Acidey\n",
      "  Allooy\n",
      "  Anni808\n",
      "  AnzeigeGehtRaus\n",
      "  ArthurAlchemist\n",
      "  Axollotel\n",
      "  Bartschii\n",
      "  ... and 237 more\n"
     ]
    }
   ],
   "source": [
    "playerList = h.assemblePlayerList()"
   ]
  },
  {
   "cell_type": "code",
   "execution_count": 4,
   "id": "e41db1f2",
   "metadata": {},
   "outputs": [
    {
     "name": "stdout",
     "output_type": "stream",
     "text": [
      "playerList contains 247 unique names\n"
     ]
    }
   ],
   "source": [
    "playerList = player_manager.process_player_list(playerList, consider_progress=True)"
   ]
  },
  {
   "cell_type": "code",
   "execution_count": 5,
   "id": "38ef69cf",
   "metadata": {},
   "outputs": [
    {
     "name": "stdout",
     "output_type": "stream",
     "text": [
      "Original player list: 247\n",
      "\n",
      "Filtering players...\n",
      "Checking player: 20LeRe10\n",
      "Missing MP data for player, considering inactive\n",
      "  ✗ Inactive (removing from list)\n",
      "Checking player: 2B9\n",
      "Missing MP data for player, considering inactive\n",
      "  ✗ Inactive (removing from list)\n",
      "Checking player: 2wc\n",
      "  ✓ Active (MP monthly time: 43633586)\n",
      "Checking player: Acidey\n",
      "Missing MP data for player, considering inactive\n",
      "  ✗ Inactive (removing from list)\n",
      "Checking player: Allooy\n",
      "  ✓ Active (MP monthly time: 651664)\n",
      "Checking player: Anni808\n",
      "  ✓ Active (MP monthly time: 3935119)\n",
      "Checking player: AnzeigeGehtRaus\n",
      "  ✓ Active (MP monthly time: 21436941)\n",
      "Checking player: ArthurAlchemist\n",
      "Missing MP data for player, considering inactive\n",
      "  ✗ Inactive (removing from list)\n",
      "Checking player: Axollotel\n",
      "Missing MP data for player, considering inactive\n",
      "  ✗ Inactive (removing from list)\n",
      "Checking player: Bartschii\n",
      "Missing MP data for player, considering inactive\n",
      "  ✗ Inactive (removing from list)\n",
      "Checking player: BastiGHG\n",
      "Missing MP data for player, considering inactive\n",
      "  ✗ Inactive (removing from list)\n",
      "Checking player: BauHD\n",
      "  ✓ Active (MP monthly time: 16429150)\n",
      "Checking player: Bikoop\n",
      "Missing MP data for player, considering inactive\n",
      "  ✗ Inactive (removing from list)\n",
      "Checking player: Bikop\n",
      "Missing MP data for player, considering inactive\n",
      "  ✗ Inactive (removing from list)\n",
      "Checking player: Bildungsarten\n",
      "  ✓ Active (MP monthly time: 13853128)\n",
      "Checking player: BunnyKiko\n",
      "Missing MP data for player, considering inactive\n",
      "  ✗ Inactive (removing from list)\n",
      "Checking player: BusinessBent\n",
      "Missing MP data for player, considering inactive\n",
      "  ✗ Inactive (removing from list)\n",
      "Checking player: ByNetherdude\n",
      "Missing MP data for player, considering inactive\n",
      "  ✗ Inactive (removing from list)\n",
      "Checking player: CML_Justin\n",
      "Missing MP data for player, considering inactive\n",
      "  ✗ Inactive (removing from list)\n",
      "Checking player: Carl1_1\n",
      "Missing MP data for player, considering inactive\n",
      "  ✗ Inactive (removing from list)\n",
      "Checking player: Chander24\n",
      "Missing MP data for player, considering inactive\n",
      "  ✗ Inactive (removing from list)\n",
      "Checking player: CladyNoClip_\n",
      "  ✓ Active (MP monthly time: 124470463)\n",
      "Checking player: CuzImKnxck\n",
      "  ✓ Active (MP monthly time: 102615466)\n",
      "Checking player: Cytoox\n",
      "Missing MP data for player, considering inactive\n",
      "  ✗ Inactive (removing from list)\n",
      "Checking player: D4rkCookie\n",
      "  ✓ Active (MP monthly time: 15976487)\n",
      "Checking player: DaVinci_Son\n",
      "Missing MP data for player, considering inactive\n",
      "  ✗ Inactive (removing from list)\n",
      "Checking player: DarkCobweb\n",
      "  ✓ Active (MP monthly time: 9730717)\n",
      "Checking player: Dat_Klan\n",
      "  ✓ Active (MP monthly time: 1453482)\n",
      "Checking player: DerAutist\n",
      "Missing MP data for player, considering inactive\n",
      "  ✗ Inactive (removing from list)\n",
      "Checking player: DieserBear\n",
      "Missing MP data for player, considering inactive\n",
      "  ✗ Inactive (removing from list)\n",
      "Checking player: Dokkkkko\n",
      "Missing MP data for player, considering inactive\n",
      "  ✗ Inactive (removing from list)\n",
      "Checking player: DrSpeed06\n",
      "Missing MP data for player, considering inactive\n",
      "  ✗ Inactive (removing from list)\n",
      "Checking player: Dubbly\n",
      "Missing MP data for player, considering inactive\n",
      "  ✗ Inactive (removing from list)\n",
      "Checking player: EinfachEazy\n",
      "Missing MP data for player, considering inactive\n",
      "  ✗ Inactive (removing from list)\n",
      "Checking player: Ex4cted\n",
      "  ✓ Active (MP monthly time: 23361544)\n",
      "Checking player: Falke23_5\n",
      "Missing MP data for player, considering inactive\n",
      "  ✗ Inactive (removing from list)\n",
      "Checking player: Falke_01\n",
      "Missing MP data for player, considering inactive\n",
      "  ✗ Inactive (removing from list)\n",
      "Checking player: Feinberg\n",
      "Missing MP data for player, considering inactive\n",
      "  ✗ Inactive (removing from list)\n",
      "Checking player: Fflopse\n",
      "Missing MP data for player, considering inactive\n",
      "  ✗ Inactive (removing from list)\n",
      "Checking player: Flitzi_Dino\n",
      "  ✓ Active (MP monthly time: 6773328)\n",
      "Checking player: FluffyDragon2007\n",
      "Missing MP data for player, considering inactive\n",
      "  ✗ Inactive (removing from list)\n",
      "Checking player: FlyingAutismus\n",
      "Missing MP data for player, considering inactive\n",
      "  ✗ Inactive (removing from list)\n",
      "Checking player: FlyingKyubi\n",
      "Missing MP data for player, considering inactive\n",
      "  ✗ Inactive (removing from list)\n",
      "Checking player: ForceFox\n",
      "  ✓ Active (MP monthly time: 1225779)\n",
      "Checking player: Freeeedom\n",
      "  ✓ Active (MP monthly time: 31196161)\n",
      "Checking player: FrozenNoah\n",
      "  ✓ Active (MP monthly time: 17150741)\n",
      "Checking player: G0at3D\n",
      "Missing MP data for player, considering inactive\n",
      "  ✗ Inactive (removing from list)\n",
      "Checking player: GamemasterNiki\n",
      "  ✓ Active (MP monthly time: 1848252)\n",
      "Checking player: GeneralEnte06\n",
      "Missing MP data for player, considering inactive\n",
      "  ✗ Inactive (removing from list)\n",
      "Checking player: GermanPie\n",
      "Missing MP data for player, considering inactive\n",
      "  ✗ Inactive (removing from list)\n",
      "Checking player: Gerrygames\n",
      "Missing MP data for player, considering inactive\n",
      "  ✗ Inactive (removing from list)\n",
      "Checking player: Gestimus\n",
      "Missing MP data for player, considering inactive\n",
      "  ✗ Inactive (removing from list)\n",
      "Checking player: Gfrasti\n",
      "Missing MP data for player, considering inactive\n",
      "  ✗ Inactive (removing from list)\n",
      "Checking player: GingerTeddy\n",
      "Missing MP data for player, considering inactive\n",
      "  ✗ Inactive (removing from list)\n",
      "Checking player: GlowyDusk\n",
      "Missing MP data for player, considering inactive\n",
      "  ✗ Inactive (removing from list)\n",
      "Checking player: Gobo9\n",
      "  ✓ Active (MP monthly time: 11753327)\n",
      "Checking player: GrafikKatze\n",
      "Missing MP data for player, considering inactive\n",
      "  ✗ Inactive (removing from list)\n",
      "Checking player: Grapfen\n",
      "Missing MP data for player, considering inactive\n",
      "  ✗ Inactive (removing from list)\n",
      "Checking player: Gryzes\n",
      "Missing MP data for player, considering inactive\n",
      "  ✗ Inactive (removing from list)\n",
      "Checking player: Gummibearchen\n",
      "Missing MP data for player, considering inactive\n",
      "  ✗ Inactive (removing from list)\n",
      "Checking player: Harold_Sensemann\n",
      "Missing MP data for player, considering inactive\n",
      "  ✗ Inactive (removing from list)\n",
      "Checking player: HeIsJustAPoorBoy\n",
      "Missing MP data for player, considering inactive\n",
      "  ✗ Inactive (removing from list)\n",
      "Checking player: HerosHD\n",
      "Missing MP data for player, considering inactive\n",
      "  ✗ Inactive (removing from list)\n",
      "Checking player: HerrDante\n",
      "  ✓ Active (MP monthly time: 70752810)\n",
      "Checking player: Highsay\n",
      "Missing MP data for player, considering inactive\n",
      "  ✗ Inactive (removing from list)\n",
      "Checking player: Hyxeed\n",
      "Missing MP data for player, considering inactive\n",
      "  ✗ Inactive (removing from list)\n",
      "Checking player: IchHolzDichWeg\n",
      "Missing MP data for player, considering inactive\n",
      "  ✗ Inactive (removing from list)\n",
      "Checking player: JOW23\n",
      "  ✓ Active (MP monthly time: 13412231)\n",
      "Checking player: JOW24\n",
      "Missing MP data for player, considering inactive\n",
      "  ✗ Inactive (removing from list)\n",
      "Checking player: Jan2220\n",
      "Missing MP data for player, considering inactive\n",
      "  ✗ Inactive (removing from list)\n",
      "Checking player: Janne4k\n",
      "Missing MP data for player, considering inactive\n",
      "  ✗ Inactive (removing from list)\n",
      "Checking player: JayMinInSane\n",
      "Missing MP data for player, considering inactive\n",
      "  ✗ Inactive (removing from list)\n",
      "Checking player: JennieKim\n",
      "  ✓ Active (MP monthly time: 50549566)\n",
      "Checking player: Joe3346\n",
      "  ✓ Active (MP monthly time: 141508047)\n",
      "Checking player: Joel_the_king\n",
      "  ✓ Active (MP monthly time: 139577545)\n",
      "Checking player: Joy_8oy\n",
      "Missing MP data for player, considering inactive\n",
      "  ✗ Inactive (removing from list)\n",
      "Checking player: Julius16\n",
      "Missing MP data for player, considering inactive\n",
      "  ✗ Inactive (removing from list)\n",
      "Checking player: JustAnyy\n",
      "  ✓ Active (MP monthly time: 68694449)\n",
      "Checking player: Juti0n\n",
      "Missing MP data for player, considering inactive\n",
      "  ✗ Inactive (removing from list)\n",
      "Checking player: KINT0\n",
      "Missing MP data for player, considering inactive\n",
      "  ✗ Inactive (removing from list)\n",
      "Checking player: KMaxN\n",
      "Missing MP data for player, considering inactive\n",
      "  ✗ Inactive (removing from list)\n",
      "Checking player: KakaMC\n",
      "Missing MP data for player, considering inactive\n",
      "  ✗ Inactive (removing from list)\n",
      "Checking player: Kanickelul\n",
      "Missing MP data for player, considering inactive\n",
      "  ✗ Inactive (removing from list)\n",
      "Checking player: Keenaai\n",
      "  ✓ Active (MP monthly time: 3019783)\n",
      "Checking player: Kklopse\n",
      "  ✓ Active (MP monthly time: 41102778)\n",
      "Checking player: Kokochampo\n",
      "Missing MP data for player, considering inactive\n",
      "  ✗ Inactive (removing from list)\n",
      "Checking player: Kopfradio\n",
      "Missing MP data for player, considering inactive\n",
      "  ✗ Inactive (removing from list)\n",
      "Checking player: Krusti\n",
      "  ✓ Active (MP monthly time: 17642193)\n",
      "Checking player: Kyuudo\n",
      "Missing MP data for player, considering inactive\n",
      "  ✗ Inactive (removing from list)\n",
      "Checking player: La_meleagro\n",
      "  ✓ Active (MP monthly time: 1025403)\n",
      "Checking player: Laaaachs\n",
      "  ✓ Active (MP monthly time: 6462822)\n",
      "Checking player: LeMetin_\n",
      "Missing MP data for player, considering inactive\n",
      "  ✗ Inactive (removing from list)\n",
      "Checking player: LeWi_100\n",
      "Missing MP data for player, considering inactive\n",
      "  ✗ Inactive (removing from list)\n",
      "Checking player: Lelouch610\n",
      "  ✓ Active (MP monthly time: 2494956)\n",
      "Checking player: Lennart0911\n",
      "Missing MP data for player, considering inactive\n",
      "  ✗ Inactive (removing from list)\n",
      "Checking player: LilFueller\n",
      "Missing MP data for player, considering inactive\n",
      "  ✗ Inactive (removing from list)\n",
      "Checking player: Lingex\n",
      "  ✓ Active (MP monthly time: 4071919)\n",
      "Checking player: LordAlexos\n",
      "Missing MP data for player, considering inactive\n",
      "  ✗ Inactive (removing from list)\n",
      "Checking player: Lord_Weibull\n",
      "Missing MP data for player, considering inactive\n",
      "  ✗ Inactive (removing from list)\n",
      "Checking player: Lubottus\n",
      "Missing MP data for player, considering inactive\n",
      "  ✗ Inactive (removing from list)\n",
      "Checking player: LucaaOn\n",
      "Missing MP data for player, considering inactive\n",
      "  ✗ Inactive (removing from list)\n",
      "Checking player: Luis_XYZ\n",
      "Missing MP data for player, considering inactive\n",
      "  ✗ Inactive (removing from list)\n",
      "Checking player: Lutorix\n",
      "Missing MP data for player, considering inactive\n",
      "  ✗ Inactive (removing from list)\n",
      "Checking player: Luxemburq\n",
      "  ✓ Active (MP monthly time: 81962170)\n",
      "Checking player: M0orey_0\n",
      "Missing MP data for player, considering inactive\n",
      "  ✗ Inactive (removing from list)\n",
      "Checking player: M0osebumps\n",
      "Missing MP data for player, considering inactive\n",
      "  ✗ Inactive (removing from list)\n",
      "Checking player: Mansuni\n",
      "  ✓ Active (MP monthly time: 931147)\n",
      "Checking player: Martomias\n",
      "Missing MP data for player, considering inactive\n",
      "  ✗ Inactive (removing from list)\n",
      "Checking player: MaxMitMaulkorb\n",
      "Missing MP data for player, considering inactive\n",
      "  ✗ Inactive (removing from list)\n",
      "Checking player: MaxOnTheRoad\n",
      "Missing MP data for player, considering inactive\n",
      "  ✗ Inactive (removing from list)\n",
      "Checking player: Mincheeen\n",
      "  ✓ Active (MP monthly time: 7001594)\n",
      "Checking player: MoZadaTV\n",
      "Missing MP data for player, considering inactive\n",
      "  ✗ Inactive (removing from list)\n",
      "Checking player: Morittz\n",
      "Missing MP data for player, considering inactive\n",
      "  ✗ Inactive (removing from list)\n",
      "Checking player: MrNulfred\n",
      "Missing MP data for player, considering inactive\n",
      "  ✗ Inactive (removing from list)\n",
      "Checking player: Muniix\n",
      "  ✓ Active (MP monthly time: 13294199)\n",
      "Checking player: Mvsk_\n",
      "Missing MP data for player, considering inactive\n",
      "  ✗ Inactive (removing from list)\n",
      "Checking player: N3XV\n",
      "  ✓ Active (MP monthly time: 3577638)\n",
      "Checking player: NanamiElvi\n",
      "Missing MP data for player, considering inactive\n",
      "  ✗ Inactive (removing from list)\n",
      "Checking player: Navex\n",
      "Missing MP data for player, considering inactive\n",
      "  ✗ Inactive (removing from list)\n",
      "Checking player: Nervigerr\n",
      "Missing MP data for player, considering inactive\n",
      "  ✗ Inactive (removing from list)\n",
      "Checking player: NewNormal0947\n",
      "  ✓ Active (MP monthly time: 117595997)\n",
      "Checking player: NiklasMoWo\n",
      "Missing MP data for player, considering inactive\n",
      "  ✗ Inactive (removing from list)\n",
      "Checking player: Ninivee\n",
      "  ✓ Active (MP monthly time: 2703282)\n",
      "Checking player: Nor_Malo\n",
      "  ✓ Active (MP monthly time: 7276996)\n",
      "Checking player: NotLennart\n",
      "  ✓ Active (MP monthly time: 1436507)\n",
      "Checking player: Odlaa\n",
      "Missing MP data for player, considering inactive\n",
      "  ✗ Inactive (removing from list)\n",
      "Checking player: Oronor\n",
      "Missing MP data for player, considering inactive\n",
      "  ✗ Inactive (removing from list)\n",
      "Checking player: Otronix\n",
      "  ✓ Active (MP monthly time: 37559782)\n",
      "Checking player: OutcroYoutube\n",
      "Missing MP data for player, considering inactive\n",
      "  ✗ Inactive (removing from list)\n",
      "Checking player: PedroZockt\n",
      "Missing MP data for player, considering inactive\n",
      "  ✗ Inactive (removing from list)\n",
      "Checking player: Persidieus\n",
      "Missing MP data for player, considering inactive\n",
      "  ✗ Inactive (removing from list)\n",
      "Checking player: Phoenix3000\n",
      "  ✓ Active (MP monthly time: 37202252)\n",
      "Checking player: Picutar\n",
      "Missing MP data for player, considering inactive\n",
      "  ✗ Inactive (removing from list)\n",
      "Checking player: PixlNight\n",
      "Missing MP data for player, considering inactive\n",
      "  ✗ Inactive (removing from list)\n",
      "Checking player: Pluto28\n",
      "  ✓ Active (MP monthly time: 3259363)\n",
      "Checking player: PolizeiDreamy\n",
      "  ✓ Active (MP monthly time: 915746)\n",
      "Checking player: Proofreader\n",
      "  ✓ Active (MP monthly time: 68022382)\n",
      "Checking player: PumiTheCat\n",
      "Missing MP data for player, considering inactive\n",
      "  ✗ Inactive (removing from list)\n",
      "Checking player: Raefinzs\n",
      "  ✓ Active (MP monthly time: 1169839)\n",
      "Checking player: RasenLP\n",
      "  ✓ Active (MP monthly time: 63815764)\n",
      "Checking player: ReichesBrot\n",
      "Missing MP data for player, considering inactive\n",
      "  ✗ Inactive (removing from list)\n",
      "Checking player: Ritokii\n",
      "Missing MP data for player, considering inactive\n",
      "  ✗ Inactive (removing from list)\n",
      "Checking player: RyanxCole\n",
      "Missing MP data for player, considering inactive\n",
      "  ✗ Inactive (removing from list)\n",
      "Checking player: SB387\n",
      "  ✓ Active (MP monthly time: 2695861)\n",
      "Checking player: SWLegende\n",
      "Missing MP data for player, considering inactive\n",
      "  ✗ Inactive (removing from list)\n",
      "Checking player: Sackkerl\n",
      "Missing MP data for player, considering inactive\n",
      "  ✗ Inactive (removing from list)\n",
      "Checking player: SatzdesPytag0ras\n",
      "Missing MP data for player, considering inactive\n",
      "  ✗ Inactive (removing from list)\n",
      "Checking player: Schmaarek\n",
      "Missing MP data for player, considering inactive\n",
      "  ✗ Inactive (removing from list)\n",
      "Checking player: ScreamingBlatz\n",
      "  ✓ Active (MP monthly time: 11886247)\n",
      "Checking player: Scuprum\n",
      "Missing MP data for player, considering inactive\n",
      "  ✗ Inactive (removing from list)\n",
      "Checking player: Sebi1801\n",
      "Missing MP data for player, considering inactive\n",
      "  ✗ Inactive (removing from list)\n",
      "Checking player: SecretAgent_K\n",
      "Missing MP data for player, considering inactive\n",
      "  ✗ Inactive (removing from list)\n",
      "Checking player: Seemops_8\n",
      "  ✓ Active (MP monthly time: 73422534)\n",
      "Checking player: Sey__\n",
      "  ✓ Active (MP monthly time: 38403933)\n",
      "Checking player: Shiewk\n",
      "Missing MP data for player, considering inactive\n",
      "  ✗ Inactive (removing from list)\n",
      "Checking player: SiLoHB\n",
      "Missing MP data for player, considering inactive\n",
      "  ✗ Inactive (removing from list)\n",
      "Checking player: Simlll\n",
      "Missing MP data for player, considering inactive\n",
      "  ✗ Inactive (removing from list)\n",
      "Checking player: SmartyxD\n",
      "Missing MP data for player, considering inactive\n",
      "  ✗ Inactive (removing from list)\n",
      "Checking player: Snitcherella\n",
      "Missing MP data for player, considering inactive\n",
      "  ✗ Inactive (removing from list)\n",
      "Checking player: Sower_\n",
      "Missing MP data for player, considering inactive\n",
      "  ✗ Inactive (removing from list)\n",
      "Checking player: SpeckyCut\n",
      "Missing MP data for player, considering inactive\n",
      "  ✗ Inactive (removing from list)\n",
      "Checking player: SpinCrafter\n",
      "Missing MP data for player, considering inactive\n",
      "  ✗ Inactive (removing from list)\n",
      "Checking player: Squashgitter333\n",
      "  ✓ Active (MP monthly time: 12870840)\n",
      "Checking player: StaudammAusHolz\n",
      "Missing MP data for player, considering inactive\n",
      "  ✗ Inactive (removing from list)\n",
      "Checking player: Steavn\n",
      "Missing MP data for player, considering inactive\n",
      "  ✗ Inactive (removing from list)\n",
      "Checking player: Sthyq\n",
      "  ✓ Active (MP monthly time: 7383411)\n",
      "Checking player: Stockinqs\n",
      "Missing MP data for player, considering inactive\n",
      "  ✗ Inactive (removing from list)\n",
      "Checking player: T_Niko_T\n",
      "Missing MP data for player, considering inactive\n",
      "  ✗ Inactive (removing from list)\n",
      "Checking player: Tammywood\n",
      "Missing MP data for player, considering inactive\n",
      "  ✗ Inactive (removing from list)\n",
      "Checking player: Teesily\n",
      "  ✓ Active (MP monthly time: 15582616)\n",
      "Checking player: TheBreadHD\n",
      "Missing MP data for player, considering inactive\n",
      "  ✗ Inactive (removing from list)\n",
      "Checking player: TheFabo\n",
      "Missing MP data for player, considering inactive\n",
      "  ✗ Inactive (removing from list)\n",
      "Checking player: TheKillerisback\n",
      "Missing MP data for player, considering inactive\n",
      "  ✗ Inactive (removing from list)\n",
      "Checking player: Tim_Voltia\n",
      "Missing MP data for player, considering inactive\n",
      "  ✗ Inactive (removing from list)\n",
      "Checking player: Tomiokey\n",
      "Missing MP data for player, considering inactive\n",
      "  ✗ Inactive (removing from list)\n",
      "Checking player: Txlentierter\n",
      "Missing MP data for player, considering inactive\n",
      "  ✗ Inactive (removing from list)\n",
      "Checking player: Umgfoin\n",
      "  ✓ Active (MP monthly time: 135724760)\n",
      "Checking player: Ungluecklicher\n",
      "  ✓ Active (MP monthly time: 131565658)\n",
      "Checking player: Vacted\n",
      "  ✓ Active (MP monthly time: 3041013)\n",
      "Checking player: Vanillinchen\n",
      "  ✓ Active (MP monthly time: 8648566)\n",
      "Checking player: Wienerisch\n",
      "  ✓ Active (MP monthly time: 159058388)\n",
      "Checking player: WirdNichtGeladen\n",
      "Missing MP data for player, considering inactive\n",
      "  ✗ Inactive (removing from list)\n",
      "Checking player: Wissender\n",
      "Missing MP data for player, considering inactive\n",
      "  ✗ Inactive (removing from list)\n",
      "Checking player: Wolkenfarmer\n",
      "Missing MP data for player, considering inactive\n",
      "  ✗ Inactive (removing from list)\n",
      "Checking player: WshPasie\n",
      "Missing MP data for player, considering inactive\n",
      "  ✗ Inactive (removing from list)\n",
      "Checking player: WuschigesEtwas\n",
      "Missing MP data for player, considering inactive\n",
      "  ✗ Inactive (removing from list)\n",
      "Checking player: YBCM\n",
      "Missing MP data for player, considering inactive\n",
      "  ✗ Inactive (removing from list)\n",
      "Checking player: ZweitesIch\n",
      "Missing MP data for player, considering inactive\n",
      "  ✗ Inactive (removing from list)\n",
      "Checking player: _Einfallslos_\n",
      "Missing MP data for player, considering inactive\n",
      "  ✗ Inactive (removing from list)\n",
      "Checking player: _Waldi_\n",
      "Missing MP data for player, considering inactive\n",
      "  ✗ Inactive (removing from list)\n",
      "Checking player: __egE\n",
      "Missing MP data for player, considering inactive\n",
      "  ✗ Inactive (removing from list)\n",
      "Checking player: _n3d\n",
      "  ✓ Active (MP monthly time: 16841676)\n",
      "Checking player: agowskyy\n",
      "Missing MP data for player, considering inactive\n",
      "  ✗ Inactive (removing from list)\n",
      "Checking player: bawskey\n",
      "Missing MP data for player, considering inactive\n",
      "  ✗ Inactive (removing from list)\n",
      "Checking player: byTobi\n",
      "  ✓ Active (MP monthly time: 1212193)\n",
      "Checking player: camman18YT\n",
      "Missing MP data for player, considering inactive\n",
      "  ✗ Inactive (removing from list)\n",
      "Checking player: cediiiiii_10\n",
      "  ✓ Active (MP monthly time: 89931399)\n",
      "Checking player: cheesecake2901\n",
      "Missing MP data for player, considering inactive\n",
      "  ✗ Inactive (removing from list)\n",
      "Checking player: chrisihalt\n",
      "  ✓ Active (MP monthly time: 132386001)\n",
      "Checking player: crocodile1870\n",
      "  ✓ Active (MP monthly time: 2490233)\n",
      "Checking player: cxl1lo\n",
      "Missing MP data for player, considering inactive\n",
      "  ✗ Inactive (removing from list)\n",
      "Checking player: deadfiight\n",
      "  ✓ Active (MP monthly time: 7443499)\n",
      "Checking player: demiu\n",
      "Missing MP data for player, considering inactive\n",
      "  ✗ Inactive (removing from list)\n",
      "Checking player: destr0yed_\n",
      "Missing MP data for player, considering inactive\n",
      "  ✗ Inactive (removing from list)\n",
      "Checking player: dossantosaveiro_\n",
      "Missing MP data for player, considering inactive\n",
      "  ✗ Inactive (removing from list)\n",
      "Checking player: ffawks\n",
      "Missing MP data for player, considering inactive\n",
      "  ✗ Inactive (removing from list)\n",
      "Checking player: frutigall\n",
      "Missing MP data for player, considering inactive\n",
      "  ✗ Inactive (removing from list)\n",
      "Checking player: h4nnes\n",
      "Missing MP data for player, considering inactive\n",
      "  ✗ Inactive (removing from list)\n",
      "Checking player: jimmi4Life\n",
      "  ✓ Active (MP monthly time: 864646)\n",
      "Checking player: juvona\n",
      "Missing MP data for player, considering inactive\n",
      "  ✗ Inactive (removing from list)\n",
      "Checking player: kfc_man069\n",
      "  ✓ Active (MP monthly time: 77331959)\n",
      "Checking player: linastunna\n",
      "Missing MP data for player, considering inactive\n",
      "  ✗ Inactive (removing from list)\n",
      "Checking player: lizsyy\n",
      "  ✓ Active (MP monthly time: 12327138)\n",
      "Checking player: lolisamakun\n",
      "Missing MP data for player, considering inactive\n",
      "  ✗ Inactive (removing from list)\n",
      "Checking player: lolisamasan\n",
      "Missing MP data for player, considering inactive\n",
      "  ✗ Inactive (removing from list)\n",
      "Checking player: loukrativ\n",
      "Missing MP data for player, considering inactive\n",
      "  ✗ Inactive (removing from list)\n",
      "Checking player: lvlaurin\n",
      "Missing MP data for player, considering inactive\n",
      "  ✗ Inactive (removing from list)\n",
      "Checking player: marbrueck\n",
      "  ✓ Active (MP monthly time: 2675929)\n",
      "Checking player: medisant\n",
      "Missing MP data for player, considering inactive\n",
      "  ✗ Inactive (removing from list)\n",
      "Checking player: miridis41\n",
      "Missing MP data for player, considering inactive\n",
      "  ✗ Inactive (removing from list)\n",
      "Checking player: musi1999\n",
      "Missing MP data for player, considering inactive\n",
      "  ✗ Inactive (removing from list)\n",
      "Checking player: qMika\n",
      "  ✓ Active (MP monthly time: 18775103)\n",
      "Checking player: qriezmannsOpa\n",
      "  ✓ Active (MP monthly time: 59110705)\n",
      "Checking player: redbrll\n",
      "  ✓ Active (MP monthly time: 15330168)\n",
      "Checking player: revolverz\n",
      "  ✓ Active (MP monthly time: 4168618)\n",
      "Checking player: rotmann2\n",
      "  ✓ Active (MP monthly time: 36090770)\n",
      "Checking player: schwarzekater\n",
      "  ✓ Active (MP monthly time: 24188595)\n",
      "Checking player: shellny\n",
      "Missing MP data for player, considering inactive\n",
      "  ✗ Inactive (removing from list)\n",
      "Checking player: sirmigorius\n",
      "Missing MP data for player, considering inactive\n",
      "  ✗ Inactive (removing from list)\n",
      "Checking player: swiffle\n",
      "  ✓ Active (MP monthly time: 14043404)\n",
      "Checking player: toxicplace\n",
      "Missing MP data for player, considering inactive\n",
      "  ✗ Inactive (removing from list)\n",
      "Checking player: twitchparaskiill\n",
      "Missing MP data for player, considering inactive\n",
      "  ✗ Inactive (removing from list)\n",
      "Checking player: unausgesprochen\n",
      "Missing MP data for player, considering inactive\n",
      "  ✗ Inactive (removing from list)\n",
      "Checking player: vKito\n",
      "Missing MP data for player, considering inactive\n",
      "  ✗ Inactive (removing from list)\n",
      "Checking player: xBaumeisterin\n",
      "Missing MP data for player, considering inactive\n",
      "  ✗ Inactive (removing from list)\n",
      "Checking player: xIForgotMySkill\n",
      "  ✓ Active (MP monthly time: 25601482)\n",
      "Checking player: xX_Dima_ggg_Xx6\n",
      "  ✓ Active (MP monthly time: 4144860)\n",
      "Checking player: xX_Masha_ggg_Xx9\n",
      "Missing MP data for player, considering inactive\n",
      "  ✗ Inactive (removing from list)\n",
      "Checking player: xd_Maiky\n",
      "Missing MP data for player, considering inactive\n",
      "  ✗ Inactive (removing from list)\n",
      "Checking player: xiooh\n",
      "Missing MP data for player, considering inactive\n",
      "  ✗ Inactive (removing from list)\n",
      "Checking player: y9nic\n",
      "Missing MP data for player, considering inactive\n",
      "  ✗ Inactive (removing from list)\n",
      "Checking player: yVendas\n",
      "  ✓ Active (MP monthly time: 93986826)\n",
      "Checking player: yachayubin\n",
      "Missing MP data for player, considering inactive\n",
      "  ✗ Inactive (removing from list)\n",
      "Checking player: yiiq\n",
      "Missing MP data for player, considering inactive\n",
      "  ✗ Inactive (removing from list)\n",
      "Checking player: yzvm\n",
      "Missing MP data for player, considering inactive\n",
      "  ✗ Inactive (removing from list)\n",
      "Checking player: zBro\n",
      "Missing MP data for player, considering inactive\n",
      "  ✗ Inactive (removing from list)\n",
      "Checking player: zLachs\n",
      "  ✓ Active (MP monthly time: 4862567)\n",
      "Filtered to 80 active players\n"
     ]
    }
   ],
   "source": [
    "print(\"Original player list:\", len(playerList))\n",
    "print(\"\\nFiltering players...\")\n",
    "playerList = player_manager.filter_active_players(playerList)\n",
    "print(f\"Filtered to {len(playerList)} active players\")"
   ]
  },
  {
   "cell_type": "code",
   "execution_count": 6,
   "id": "aa50b20c",
   "metadata": {},
   "outputs": [
    {
     "name": "stderr",
     "output_type": "stream",
     "text": [
      "Processing players:   0%|          | 0/80 [00:02<?, ?it/s]\n"
     ]
    },
    {
     "name": "stdout",
     "output_type": "stream",
     "text": [
      "Error renaming file for 2wc.\n"
     ]
    },
    {
     "name": "stderr",
     "output_type": "stream",
     "text": [
      "Processing players:   1%|▏         | 1/80 [00:02<02:51,  2.17s/it]\n"
     ]
    },
    {
     "name": "stdout",
     "output_type": "stream",
     "text": [
      "Error renaming file for Allooy.\n"
     ]
    },
    {
     "name": "stderr",
     "output_type": "stream",
     "text": [
      "Processing players:   2%|▎         | 2/80 [00:02<01:24,  1.09s/it]\n"
     ]
    },
    {
     "name": "stdout",
     "output_type": "stream",
     "text": [
      "Error renaming file for Anni808.\n"
     ]
    },
    {
     "name": "stderr",
     "output_type": "stream",
     "text": [
      "Processing players:   4%|▍         | 3/80 [00:02<00:55,  1.38it/s]\n"
     ]
    },
    {
     "name": "stdout",
     "output_type": "stream",
     "text": [
      "Error renaming file for AnzeigeGehtRaus.\n"
     ]
    },
    {
     "name": "stderr",
     "output_type": "stream",
     "text": [
      "Processing players:   5%|▌         | 4/80 [00:02<00:41,  1.84it/s]\n"
     ]
    },
    {
     "name": "stdout",
     "output_type": "stream",
     "text": [
      "Error renaming file for BauHD.\n"
     ]
    },
    {
     "name": "stderr",
     "output_type": "stream",
     "text": [
      "Processing players:   6%|▋         | 5/80 [00:02<00:32,  2.30it/s]\n"
     ]
    },
    {
     "name": "stdout",
     "output_type": "stream",
     "text": [
      "Error renaming file for Bildungsarten.\n"
     ]
    },
    {
     "name": "stderr",
     "output_type": "stream",
     "text": [
      "Processing players:   8%|▊         | 6/80 [00:02<00:26,  2.76it/s]\n"
     ]
    },
    {
     "name": "stdout",
     "output_type": "stream",
     "text": [
      "Error renaming file for CladyNoClip_.\n"
     ]
    },
    {
     "name": "stderr",
     "output_type": "stream",
     "text": [
      "Processing players:   9%|▉         | 7/80 [00:02<00:22,  3.22it/s]\n"
     ]
    },
    {
     "name": "stdout",
     "output_type": "stream",
     "text": [
      "Error renaming file for CuzImKnxck.\n"
     ]
    },
    {
     "name": "stderr",
     "output_type": "stream",
     "text": [
      "Processing players:  10%|█         | 8/80 [00:02<00:19,  3.68it/s]\n"
     ]
    },
    {
     "name": "stdout",
     "output_type": "stream",
     "text": [
      "Error renaming file for D4rkCookie.\n"
     ]
    },
    {
     "name": "stderr",
     "output_type": "stream",
     "text": [
      "Processing players:  11%|█▏        | 9/80 [00:02<00:17,  4.13it/s]\n"
     ]
    },
    {
     "name": "stdout",
     "output_type": "stream",
     "text": [
      "Error renaming file for DarkCobweb.\n"
     ]
    },
    {
     "name": "stderr",
     "output_type": "stream",
     "text": [
      "Processing players:  12%|█▎        | 10/80 [00:02<00:15,  4.60it/s]\n"
     ]
    },
    {
     "name": "stdout",
     "output_type": "stream",
     "text": [
      "Error renaming file for Dat_Klan.\n"
     ]
    },
    {
     "name": "stderr",
     "output_type": "stream",
     "text": [
      "Processing players:  14%|█▍        | 11/80 [00:02<00:13,  5.05it/s]\n"
     ]
    },
    {
     "name": "stdout",
     "output_type": "stream",
     "text": [
      "Error renaming file for Ex4cted.\n"
     ]
    },
    {
     "name": "stderr",
     "output_type": "stream",
     "text": [
      "Processing players:  15%|█▌        | 12/80 [00:02<00:12,  5.50it/s]\n"
     ]
    },
    {
     "name": "stdout",
     "output_type": "stream",
     "text": [
      "Error renaming file for Flitzi_Dino.\n"
     ]
    },
    {
     "name": "stderr",
     "output_type": "stream",
     "text": [
      "Processing players:  16%|█▋        | 13/80 [00:02<00:11,  5.97it/s]\n"
     ]
    },
    {
     "name": "stdout",
     "output_type": "stream",
     "text": [
      "Error renaming file for ForceFox.\n"
     ]
    },
    {
     "name": "stderr",
     "output_type": "stream",
     "text": [
      "Processing players:  18%|█▊        | 14/80 [00:02<00:10,  6.44it/s]\n"
     ]
    },
    {
     "name": "stdout",
     "output_type": "stream",
     "text": [
      "Error renaming file for Freeeedom.\n"
     ]
    },
    {
     "name": "stderr",
     "output_type": "stream",
     "text": [
      "Processing players:  19%|█▉        | 15/80 [00:02<00:09,  6.92it/s]\n"
     ]
    },
    {
     "name": "stdout",
     "output_type": "stream",
     "text": [
      "Error renaming file for FrozenNoah.\n"
     ]
    },
    {
     "name": "stderr",
     "output_type": "stream",
     "text": [
      "Processing players:  20%|██        | 16/80 [00:02<00:08,  7.35it/s]\n"
     ]
    },
    {
     "name": "stdout",
     "output_type": "stream",
     "text": [
      "Error renaming file for GamemasterNiki.\n"
     ]
    },
    {
     "name": "stderr",
     "output_type": "stream",
     "text": [
      "Processing players:  21%|██▏       | 17/80 [00:02<00:08,  7.83it/s]\n"
     ]
    },
    {
     "name": "stdout",
     "output_type": "stream",
     "text": [
      "Error renaming file for Gobo9.\n"
     ]
    },
    {
     "name": "stderr",
     "output_type": "stream",
     "text": [
      "Processing players:  22%|██▎       | 18/80 [00:02<00:07,  8.28it/s]\n"
     ]
    },
    {
     "name": "stdout",
     "output_type": "stream",
     "text": [
      "Error renaming file for HerrDante.\n"
     ]
    },
    {
     "name": "stderr",
     "output_type": "stream",
     "text": [
      "Processing players:  24%|██▍       | 19/80 [00:02<00:07,  8.71it/s]\n"
     ]
    },
    {
     "name": "stdout",
     "output_type": "stream",
     "text": [
      "Error renaming file for JOW23.\n"
     ]
    },
    {
     "name": "stderr",
     "output_type": "stream",
     "text": [
      "Processing players:  25%|██▌       | 20/80 [00:02<00:06,  9.18it/s]\n"
     ]
    },
    {
     "name": "stdout",
     "output_type": "stream",
     "text": [
      "Error renaming file for JennieKim.\n"
     ]
    },
    {
     "name": "stderr",
     "output_type": "stream",
     "text": [
      "Processing players:  26%|██▋       | 21/80 [00:02<00:06,  9.63it/s]\n"
     ]
    },
    {
     "name": "stdout",
     "output_type": "stream",
     "text": [
      "Error renaming file for Joe3346.\n"
     ]
    },
    {
     "name": "stderr",
     "output_type": "stream",
     "text": [
      "Processing players:  28%|██▊       | 22/80 [00:02<00:05, 10.11it/s]\n"
     ]
    },
    {
     "name": "stdout",
     "output_type": "stream",
     "text": [
      "Error renaming file for Joel_the_king.\n"
     ]
    },
    {
     "name": "stderr",
     "output_type": "stream",
     "text": [
      "Processing players:  29%|██▉       | 23/80 [00:02<00:05, 10.57it/s]\n"
     ]
    },
    {
     "name": "stdout",
     "output_type": "stream",
     "text": [
      "Error renaming file for JustAnyy.\n"
     ]
    },
    {
     "name": "stderr",
     "output_type": "stream",
     "text": [
      "Processing players:  30%|███       | 24/80 [00:02<00:05, 11.02it/s]\n"
     ]
    },
    {
     "name": "stdout",
     "output_type": "stream",
     "text": [
      "Error renaming file for Keenaai.\n"
     ]
    },
    {
     "name": "stderr",
     "output_type": "stream",
     "text": [
      "Processing players:  31%|███▏      | 25/80 [00:02<00:04, 11.49it/s]\n"
     ]
    },
    {
     "name": "stdout",
     "output_type": "stream",
     "text": [
      "Error renaming file for Kklopse.\n"
     ]
    },
    {
     "name": "stderr",
     "output_type": "stream",
     "text": [
      "Processing players:  32%|███▎      | 26/80 [00:02<00:04, 11.96it/s]\n"
     ]
    },
    {
     "name": "stdout",
     "output_type": "stream",
     "text": [
      "Error renaming file for Krusti.\n"
     ]
    },
    {
     "name": "stderr",
     "output_type": "stream",
     "text": [
      "Processing players:  34%|███▍      | 27/80 [00:02<00:04, 12.41it/s]\n"
     ]
    },
    {
     "name": "stdout",
     "output_type": "stream",
     "text": [
      "Error renaming file for La_meleagro.\n"
     ]
    },
    {
     "name": "stderr",
     "output_type": "stream",
     "text": [
      "Processing players:  35%|███▌      | 28/80 [00:02<00:04, 12.84it/s]\n"
     ]
    },
    {
     "name": "stdout",
     "output_type": "stream",
     "text": [
      "Error renaming file for Laaaachs.\n"
     ]
    },
    {
     "name": "stderr",
     "output_type": "stream",
     "text": [
      "Processing players:  36%|███▋      | 29/80 [00:02<00:03, 13.33it/s]\n"
     ]
    },
    {
     "name": "stdout",
     "output_type": "stream",
     "text": [
      "Error renaming file for Lelouch610.\n"
     ]
    },
    {
     "name": "stderr",
     "output_type": "stream",
     "text": [
      "Processing players:  38%|███▊      | 30/80 [00:02<00:03, 13.78it/s]\n"
     ]
    },
    {
     "name": "stdout",
     "output_type": "stream",
     "text": [
      "Error renaming file for Lingex.\n"
     ]
    },
    {
     "name": "stderr",
     "output_type": "stream",
     "text": [
      "Processing players:  39%|███▉      | 31/80 [00:02<00:03, 14.20it/s]\n"
     ]
    },
    {
     "name": "stdout",
     "output_type": "stream",
     "text": [
      "Error renaming file for Luxemburq.\n"
     ]
    },
    {
     "name": "stderr",
     "output_type": "stream",
     "text": [
      "Processing players:  40%|████      | 32/80 [00:02<00:03, 14.68it/s]\n"
     ]
    },
    {
     "name": "stdout",
     "output_type": "stream",
     "text": [
      "Error renaming file for Mansuni.\n"
     ]
    },
    {
     "name": "stderr",
     "output_type": "stream",
     "text": [
      "Processing players:  41%|████▏     | 33/80 [00:02<00:03, 15.20it/s]\n"
     ]
    },
    {
     "name": "stdout",
     "output_type": "stream",
     "text": [
      "Error renaming file for Mincheeen.\n"
     ]
    },
    {
     "name": "stderr",
     "output_type": "stream",
     "text": [
      "Processing players:  42%|████▎     | 34/80 [00:02<00:02, 15.61it/s]\n"
     ]
    },
    {
     "name": "stdout",
     "output_type": "stream",
     "text": [
      "Error renaming file for Muniix.\n"
     ]
    },
    {
     "name": "stderr",
     "output_type": "stream",
     "text": [
      "Processing players:  44%|████▍     | 35/80 [00:02<00:02, 16.08it/s]\n"
     ]
    },
    {
     "name": "stdout",
     "output_type": "stream",
     "text": [
      "Error renaming file for N3XV.\n"
     ]
    },
    {
     "name": "stderr",
     "output_type": "stream",
     "text": [
      "Processing players:  45%|████▌     | 36/80 [00:02<00:02, 16.52it/s]\n"
     ]
    },
    {
     "name": "stdout",
     "output_type": "stream",
     "text": [
      "Error renaming file for NewNormal0947.\n"
     ]
    },
    {
     "name": "stderr",
     "output_type": "stream",
     "text": [
      "Processing players:  46%|████▋     | 37/80 [00:02<00:02, 16.95it/s]\n"
     ]
    },
    {
     "name": "stdout",
     "output_type": "stream",
     "text": [
      "Error renaming file for Ninivee.\n"
     ]
    },
    {
     "name": "stderr",
     "output_type": "stream",
     "text": [
      "Processing players:  48%|████▊     | 38/80 [00:02<00:02, 17.38it/s]\n"
     ]
    },
    {
     "name": "stdout",
     "output_type": "stream",
     "text": [
      "Error renaming file for Nor_Malo.\n"
     ]
    },
    {
     "name": "stderr",
     "output_type": "stream",
     "text": [
      "Processing players:  49%|████▉     | 39/80 [00:02<00:02, 17.87it/s]\n"
     ]
    },
    {
     "name": "stdout",
     "output_type": "stream",
     "text": [
      "Error renaming file for NotLennart.\n"
     ]
    },
    {
     "name": "stderr",
     "output_type": "stream",
     "text": [
      "Processing players:  50%|█████     | 40/80 [00:02<00:02, 18.38it/s]\n"
     ]
    },
    {
     "name": "stdout",
     "output_type": "stream",
     "text": [
      "Error renaming file for Otronix.\n"
     ]
    },
    {
     "name": "stderr",
     "output_type": "stream",
     "text": [
      "Processing players:  51%|█████▏    | 41/80 [00:02<00:02, 18.82it/s]\n"
     ]
    },
    {
     "name": "stdout",
     "output_type": "stream",
     "text": [
      "Error renaming file for Phoenix3000.\n"
     ]
    },
    {
     "name": "stderr",
     "output_type": "stream",
     "text": [
      "Processing players:  52%|█████▎    | 42/80 [00:02<00:01, 19.32it/s]\n"
     ]
    },
    {
     "name": "stdout",
     "output_type": "stream",
     "text": [
      "Error renaming file for Pluto28.\n"
     ]
    },
    {
     "name": "stderr",
     "output_type": "stream",
     "text": [
      "Processing players:  54%|█████▍    | 43/80 [00:02<00:01, 19.79it/s]\n"
     ]
    },
    {
     "name": "stdout",
     "output_type": "stream",
     "text": [
      "Error renaming file for PolizeiDreamy.\n"
     ]
    },
    {
     "name": "stderr",
     "output_type": "stream",
     "text": [
      "Processing players:  55%|█████▌    | 44/80 [00:02<00:01, 20.14it/s]\n"
     ]
    },
    {
     "name": "stdout",
     "output_type": "stream",
     "text": [
      "Error renaming file for Proofreader.\n"
     ]
    },
    {
     "name": "stderr",
     "output_type": "stream",
     "text": [
      "Processing players:  56%|█████▋    | 45/80 [00:02<00:01, 20.67it/s]\n"
     ]
    },
    {
     "name": "stdout",
     "output_type": "stream",
     "text": [
      "Error renaming file for Raefinzs.\n"
     ]
    },
    {
     "name": "stderr",
     "output_type": "stream",
     "text": [
      "Processing players:  57%|█████▊    | 46/80 [00:02<00:01, 21.10it/s]\n"
     ]
    },
    {
     "name": "stdout",
     "output_type": "stream",
     "text": [
      "Error renaming file for RasenLP.\n"
     ]
    },
    {
     "name": "stderr",
     "output_type": "stream",
     "text": [
      "Processing players:  59%|█████▉    | 47/80 [00:02<00:01, 21.55it/s]\n"
     ]
    },
    {
     "name": "stdout",
     "output_type": "stream",
     "text": [
      "Error renaming file for SB387.\n"
     ]
    },
    {
     "name": "stderr",
     "output_type": "stream",
     "text": [
      "Processing players:  60%|██████    | 48/80 [00:02<00:01, 22.07it/s]\n"
     ]
    },
    {
     "name": "stdout",
     "output_type": "stream",
     "text": [
      "Error renaming file for ScreamingBlatz.\n"
     ]
    },
    {
     "name": "stderr",
     "output_type": "stream",
     "text": [
      "Processing players:  61%|██████▏   | 49/80 [00:02<00:01, 22.48it/s]\n"
     ]
    },
    {
     "name": "stdout",
     "output_type": "stream",
     "text": [
      "Error renaming file for Seemops_8.\n"
     ]
    },
    {
     "name": "stderr",
     "output_type": "stream",
     "text": [
      "Processing players:  62%|██████▎   | 50/80 [00:02<00:01, 23.00it/s]\n"
     ]
    },
    {
     "name": "stdout",
     "output_type": "stream",
     "text": [
      "Error renaming file for Sey__.\n"
     ]
    },
    {
     "name": "stderr",
     "output_type": "stream",
     "text": [
      "Processing players:  64%|██████▍   | 51/80 [00:02<00:01, 23.42it/s]\n"
     ]
    },
    {
     "name": "stdout",
     "output_type": "stream",
     "text": [
      "Error renaming file for Squashgitter333.\n"
     ]
    },
    {
     "name": "stderr",
     "output_type": "stream",
     "text": [
      "Processing players:  65%|██████▌   | 52/80 [00:02<00:01, 23.87it/s]\n"
     ]
    },
    {
     "name": "stdout",
     "output_type": "stream",
     "text": [
      "Error renaming file for Sthyq.\n"
     ]
    },
    {
     "name": "stderr",
     "output_type": "stream",
     "text": [
      "Processing players:  66%|██████▋   | 53/80 [00:02<00:01, 24.27it/s]\n"
     ]
    },
    {
     "name": "stdout",
     "output_type": "stream",
     "text": [
      "Error renaming file for Teesily.\n"
     ]
    },
    {
     "name": "stderr",
     "output_type": "stream",
     "text": [
      "Processing players:  68%|██████▊   | 54/80 [00:02<00:01, 24.80it/s]\n"
     ]
    },
    {
     "name": "stdout",
     "output_type": "stream",
     "text": [
      "Error renaming file for Umgfoin.\n"
     ]
    },
    {
     "name": "stderr",
     "output_type": "stream",
     "text": [
      "Processing players:  69%|██████▉   | 55/80 [00:02<00:00, 25.22it/s]\n"
     ]
    },
    {
     "name": "stdout",
     "output_type": "stream",
     "text": [
      "Error renaming file for Ungluecklicher.\n"
     ]
    },
    {
     "name": "stderr",
     "output_type": "stream",
     "text": [
      "Processing players:  70%|███████   | 56/80 [00:02<00:00, 25.83it/s]\n"
     ]
    },
    {
     "name": "stdout",
     "output_type": "stream",
     "text": [
      "Error renaming file for Vacted.\n"
     ]
    },
    {
     "name": "stderr",
     "output_type": "stream",
     "text": [
      "Processing players:  71%|███████▏  | 57/80 [00:02<00:00, 26.18it/s]\n"
     ]
    },
    {
     "name": "stdout",
     "output_type": "stream",
     "text": [
      "Error renaming file for Vanillinchen.\n"
     ]
    },
    {
     "name": "stderr",
     "output_type": "stream",
     "text": [
      "Processing players:  72%|███████▎  | 58/80 [00:02<00:00, 26.59it/s]\n"
     ]
    },
    {
     "name": "stdout",
     "output_type": "stream",
     "text": [
      "Error renaming file for Wienerisch.\n"
     ]
    },
    {
     "name": "stderr",
     "output_type": "stream",
     "text": [
      "Processing players:  74%|███████▍  | 59/80 [00:02<00:00, 27.10it/s]\n"
     ]
    },
    {
     "name": "stdout",
     "output_type": "stream",
     "text": [
      "Error renaming file for _n3d.\n"
     ]
    },
    {
     "name": "stderr",
     "output_type": "stream",
     "text": [
      "Processing players:  75%|███████▌  | 60/80 [00:02<00:00, 27.56it/s]\n"
     ]
    },
    {
     "name": "stdout",
     "output_type": "stream",
     "text": [
      "Error renaming file for byTobi.\n"
     ]
    },
    {
     "name": "stderr",
     "output_type": "stream",
     "text": [
      "Processing players:  76%|███████▋  | 61/80 [00:02<00:00, 27.93it/s]\n"
     ]
    },
    {
     "name": "stdout",
     "output_type": "stream",
     "text": [
      "Error renaming file for cediiiiii_10.\n"
     ]
    },
    {
     "name": "stderr",
     "output_type": "stream",
     "text": [
      "Processing players:  78%|███████▊  | 62/80 [00:02<00:00, 28.48it/s]\n"
     ]
    },
    {
     "name": "stdout",
     "output_type": "stream",
     "text": [
      "Error renaming file for chrisihalt.\n"
     ]
    },
    {
     "name": "stderr",
     "output_type": "stream",
     "text": [
      "Processing players:  79%|███████▉  | 63/80 [00:02<00:00, 28.90it/s]\n"
     ]
    },
    {
     "name": "stdout",
     "output_type": "stream",
     "text": [
      "Error renaming file for crocodile1870.\n"
     ]
    },
    {
     "name": "stderr",
     "output_type": "stream",
     "text": [
      "Processing players:  80%|████████  | 64/80 [00:02<00:00, 29.41it/s]\n"
     ]
    },
    {
     "name": "stdout",
     "output_type": "stream",
     "text": [
      "Error renaming file for deadfiight.\n"
     ]
    },
    {
     "name": "stderr",
     "output_type": "stream",
     "text": [
      "Processing players:  81%|████████▏ | 65/80 [00:02<00:00, 29.82it/s]\n"
     ]
    },
    {
     "name": "stdout",
     "output_type": "stream",
     "text": [
      "Error renaming file for jimmi4Life.\n"
     ]
    },
    {
     "name": "stderr",
     "output_type": "stream",
     "text": [
      "Processing players:  82%|████████▎ | 66/80 [00:02<00:00, 30.28it/s]\n"
     ]
    },
    {
     "name": "stdout",
     "output_type": "stream",
     "text": [
      "Error renaming file for kfc_man069.\n"
     ]
    },
    {
     "name": "stderr",
     "output_type": "stream",
     "text": [
      "Processing players:  84%|████████▍ | 67/80 [00:02<00:00, 30.87it/s]\n"
     ]
    },
    {
     "name": "stdout",
     "output_type": "stream",
     "text": [
      "Error renaming file for lizsyy.\n"
     ]
    },
    {
     "name": "stderr",
     "output_type": "stream",
     "text": [
      "Processing players:  85%|████████▌ | 68/80 [00:02<00:00, 31.27it/s]\n"
     ]
    },
    {
     "name": "stdout",
     "output_type": "stream",
     "text": [
      "Error renaming file for marbrueck.\n"
     ]
    },
    {
     "name": "stderr",
     "output_type": "stream",
     "text": [
      "Processing players:  86%|████████▋ | 69/80 [00:02<00:00, 31.69it/s]\n"
     ]
    },
    {
     "name": "stdout",
     "output_type": "stream",
     "text": [
      "Error renaming file for qMika.\n"
     ]
    },
    {
     "name": "stderr",
     "output_type": "stream",
     "text": [
      "Processing players:  88%|████████▊ | 70/80 [00:02<00:00, 32.11it/s]\n"
     ]
    },
    {
     "name": "stdout",
     "output_type": "stream",
     "text": [
      "Error renaming file for qriezmannsOpa.\n"
     ]
    },
    {
     "name": "stderr",
     "output_type": "stream",
     "text": [
      "Processing players:  89%|████████▉ | 71/80 [00:02<00:00, 32.67it/s]\n"
     ]
    },
    {
     "name": "stdout",
     "output_type": "stream",
     "text": [
      "Error renaming file for redbrll.\n"
     ]
    },
    {
     "name": "stderr",
     "output_type": "stream",
     "text": [
      "Processing players:  90%|█████████ | 72/80 [00:02<00:00, 33.07it/s]\n"
     ]
    },
    {
     "name": "stdout",
     "output_type": "stream",
     "text": [
      "Error renaming file for revolverz.\n"
     ]
    },
    {
     "name": "stderr",
     "output_type": "stream",
     "text": [
      "Processing players:  91%|█████████▏| 73/80 [00:02<00:00, 33.52it/s]\n"
     ]
    },
    {
     "name": "stdout",
     "output_type": "stream",
     "text": [
      "Error renaming file for rotmann2.\n"
     ]
    },
    {
     "name": "stderr",
     "output_type": "stream",
     "text": [
      "Processing players:  92%|█████████▎| 74/80 [00:02<00:00, 33.91it/s]\n"
     ]
    },
    {
     "name": "stdout",
     "output_type": "stream",
     "text": [
      "Error renaming file for schwarzekater.\n"
     ]
    },
    {
     "name": "stderr",
     "output_type": "stream",
     "text": [
      "Processing players:  94%|█████████▍| 75/80 [00:02<00:00, 34.46it/s]\n"
     ]
    },
    {
     "name": "stdout",
     "output_type": "stream",
     "text": [
      "Error renaming file for swiffle.\n"
     ]
    },
    {
     "name": "stderr",
     "output_type": "stream",
     "text": [
      "Processing players:  95%|█████████▌| 76/80 [00:02<00:00, 34.87it/s]\n"
     ]
    },
    {
     "name": "stdout",
     "output_type": "stream",
     "text": [
      "Error renaming file for xIForgotMySkill.\n"
     ]
    },
    {
     "name": "stderr",
     "output_type": "stream",
     "text": [
      "Processing players:  96%|█████████▋| 77/80 [00:02<00:00, 35.29it/s]\n"
     ]
    },
    {
     "name": "stdout",
     "output_type": "stream",
     "text": [
      "Error renaming file for xX_Dima_ggg_Xx6.\n"
     ]
    },
    {
     "name": "stderr",
     "output_type": "stream",
     "text": [
      "Processing players:  98%|█████████▊| 78/80 [00:02<00:00, 35.89it/s]\n"
     ]
    },
    {
     "name": "stdout",
     "output_type": "stream",
     "text": [
      "Error renaming file for yVendas.\n"
     ]
    },
    {
     "name": "stderr",
     "output_type": "stream",
     "text": [
      "Processing players:  99%|█████████▉| 79/80 [00:02<00:00, 36.36it/s]"
     ]
    },
    {
     "name": "stdout",
     "output_type": "stream",
     "text": [
      "Error renaming file for zLachs.\n"
     ]
    },
    {
     "name": "stderr",
     "output_type": "stream",
     "text": [
      "\n"
     ]
    },
    {
     "name": "stdout",
     "output_type": "stream",
     "text": [
      "2wc has no file.\n",
      "Allooy has no file.\n",
      "Anni808 has no file.\n",
      "AnzeigeGehtRaus has no file.\n",
      "BauHD has no file.\n",
      "Bildungsarten has no file.\n",
      "CladyNoClip_ has no file.\n",
      "CuzImKnxck has no file.\n",
      "D4rkCookie has no file.\n",
      "DarkCobweb has no file.\n",
      "Dat_Klan has no file.\n",
      "Ex4cted has no file.\n",
      "Flitzi_Dino has no file.\n",
      "ForceFox has no file.\n",
      "Freeeedom has no file.\n",
      "FrozenNoah has no file.\n",
      "GamemasterNiki has no file.\n",
      "Gobo9 has no file.\n",
      "HerrDante has no file.\n",
      "JOW23 has no file.\n",
      "JennieKim has no file.\n",
      "Joe3346 has no file.\n",
      "Joel_the_king has no file.\n",
      "JustAnyy has no file.\n",
      "Keenaai has no file.\n",
      "Kklopse has no file.\n",
      "Krusti has no file.\n",
      "La_meleagro has no file.\n",
      "Laaaachs has no file.\n",
      "Lelouch610 has no file.\n",
      "Lingex has no file.\n",
      "Luxemburq has no file.\n",
      "Mansuni has no file.\n",
      "Mincheeen has no file.\n",
      "Muniix has no file.\n",
      "N3XV has no file.\n",
      "NewNormal0947 has no file.\n",
      "Ninivee has no file.\n",
      "Nor_Malo has no file.\n",
      "NotLennart has no file.\n",
      "Otronix has no file.\n",
      "Phoenix3000 has no file.\n",
      "Pluto28 has no file.\n",
      "PolizeiDreamy has no file.\n",
      "Proofreader has no file.\n",
      "Raefinzs has no file.\n",
      "RasenLP has no file.\n",
      "SB387 has no file.\n",
      "ScreamingBlatz has no file.\n",
      "Seemops_8 has no file.\n",
      "Sey__ has no file.\n",
      "Squashgitter333 has no file.\n",
      "Sthyq has no file.\n",
      "Teesily has no file.\n",
      "Umgfoin has no file.\n",
      "Ungluecklicher has no file.\n",
      "Vacted has no file.\n",
      "Vanillinchen has no file.\n",
      "Wienerisch has no file.\n",
      "_n3d has no file.\n",
      "byTobi has no file.\n",
      "cediiiiii_10 has no file.\n",
      "chrisihalt has no file.\n",
      "crocodile1870 has no file.\n",
      "deadfiight has no file.\n",
      "jimmi4Life has no file.\n",
      "kfc_man069 has no file.\n",
      "lizsyy has no file.\n",
      "marbrueck has no file.\n",
      "qMika has no file.\n",
      "qriezmannsOpa has no file.\n",
      "redbrll has no file.\n",
      "revolverz has no file.\n",
      "rotmann2 has no file.\n",
      "schwarzekater has no file.\n",
      "swiffle has no file.\n",
      "xIForgotMySkill has no file.\n",
      "xX_Dima_ggg_Xx6 has no file.\n",
      "yVendas has no file.\n",
      "zLachs has no file.\n",
      "All files checked. 80 files had issues.\n"
     ]
    }
   ],
   "source": [
    "import pyautogui\n",
    "\n",
    "pyautogui.sleep(2)\n",
    "\n",
    "scraper.scrape(playerList, fast=False, dur=0.002, resolution=\"2k\")\n",
    "\n",
    "pyautogui.sleep(2)\n",
    "\n",
    "# Clean up and verify\n",
    "scraper.clear_temp_files()\n",
    "scraper.verify_desktop(playerList)"
   ]
  },
  {
   "cell_type": "code",
   "execution_count": 7,
   "id": "ea22b11c",
   "metadata": {},
   "outputs": [
    {
     "name": "stdout",
     "output_type": "stream",
     "text": [
      "Moved 0 files to in-new/\n"
     ]
    }
   ],
   "source": [
    "\n",
    "import pyautogui\n",
    "\n",
    "pyautogui.sleep(2)\n",
    "\n",
    "# move files from Desktop to working directory\n",
    "h.move_recent_txt_files()"
   ]
  },
  {
   "cell_type": "code",
   "execution_count": null,
   "id": "9e79fae9",
   "metadata": {},
   "outputs": [],
   "source": [
    "wait"
   ]
  },
  {
   "cell_type": "markdown",
   "id": "4a5de030",
   "metadata": {},
   "source": [
    "### Analysis ###\n",
    "compiling records from individual .txt files into one json. "
   ]
  },
  {
   "cell_type": "code",
   "execution_count": 8,
   "id": "3dd36274",
   "metadata": {},
   "outputs": [],
   "source": [
    "import analysis as a\n",
    "import helpers as h\n",
    "import os\n",
    "import shutil\n",
    "import datetime"
   ]
  },
  {
   "cell_type": "code",
   "execution_count": 9,
   "id": "f13f350a",
   "metadata": {},
   "outputs": [
    {
     "name": "stdout",
     "output_type": "stream",
     "text": [
      "No changes needed for '__egE.txt'\n",
      "No changes needed for 'Tammywood.txt'\n",
      "No changes needed for 'BunnyKiko.txt'\n",
      "No changes needed for 'SpeckyCut.txt'\n",
      "No changes needed for 'sirmigorius.txt'\n",
      "No changes needed for 'Hyxeed.txt'\n",
      "No changes needed for 'demiu.txt'\n",
      "No changes needed for 'SpinCrafter.txt'\n",
      "No changes needed for 'NanamiElvi.txt'\n",
      "No changes needed for '_n3d.txt'\n",
      "No changes needed for 'Sebi1801.txt'\n",
      "No changes needed for 'AnzeigeGehtRaus.txt'\n",
      "No changes needed for 'JayMinInSane.txt'\n",
      "No changes needed for 'Persidieus.txt'\n",
      "No changes needed for 'N3XV.txt'\n",
      "No changes needed for 'Wissender.txt'\n",
      "No changes needed for 'Gryzes.txt'\n",
      "No changes needed for 'jimmi4Life.txt'\n",
      "No changes needed for 'Gobo9.txt'\n",
      "No changes needed for 'Anni808.txt'\n",
      "No changes needed for 'LeWi_100.txt'\n",
      "No changes needed for '_Waldi_.txt'\n",
      "No changes needed for 'Grapfen.txt'\n",
      "No changes needed for 'PixlNight.txt'\n",
      "No changes needed for 'dossantosaveiro_.txt'\n",
      "No changes needed for 'agowskyy.txt'\n",
      "No changes needed for 'TheBreadHD.txt'\n",
      "No changes needed for 'Axollotel.txt'\n",
      "No changes needed for 'T_Niko_T.txt'\n",
      "No changes needed for 'Vanillinchen.txt'\n",
      "No changes needed for 'Odlaa.txt'\n",
      "No changes needed for 'D4rkCookie.txt'\n",
      "No changes needed for 'yzvm.txt'\n",
      "No changes needed for 'Tim_Voltia.txt'\n",
      "No changes needed for 'xBaumeisterin.txt'\n",
      "No changes needed for 'Ungluecklicher.txt'\n",
      "No changes needed for 'Lutorix.txt'\n",
      "No changes needed for 'Ninivee.txt'\n",
      "No changes needed for 'ArthurAlchemist.txt'\n",
      "No changes needed for 'redbrll.txt'\n",
      "No changes needed for 'Gfrasti.txt'\n",
      "No changes needed for 'Muniix.txt'\n",
      "No changes needed for 'Tomiokey.txt'\n",
      "No changes needed for 'Carl1_1.txt'\n",
      "No changes needed for 'DerAutist.txt'\n",
      "No changes needed for 'PolizeiDreamy.txt'\n",
      "No changes needed for 'xX_Dima_ggg_Xx6.txt'\n",
      "No changes needed for 'CuzImKnxck.txt'\n",
      "No changes needed for 'Falke23_5.txt'\n",
      "No changes needed for 'yVendas.txt'\n",
      "No changes needed for 'TheFabo.txt'\n",
      "No changes needed for 'DieserBear.txt'\n",
      "No changes needed for 'SWLegende.txt'\n",
      "No changes needed for 'Picutar.txt'\n",
      "No changes needed for '2B9.txt'\n",
      "No changes needed for 'Otronix.txt'\n",
      "No changes needed for 'Schmaarek.txt'\n",
      "No changes needed for 'musi1999.txt'\n",
      "No changes needed for 'PumiTheCat.txt'\n",
      "No changes needed for 'HerrDante.txt'\n",
      "No changes needed for 'KakaMC.txt'\n",
      "No changes needed for 'StaudammAusHolz.txt'\n",
      "No changes needed for 'Lelouch610.txt'\n",
      "No changes needed for 'Kyuudo.txt'\n",
      "No changes needed for 'twitchparaskiill.txt'\n",
      "No changes needed for 'G0at3D.txt'\n",
      "No changes needed for 'SecretAgent_K.txt'\n",
      "No changes needed for 'KMaxN.txt'\n",
      "No changes needed for 'Sey__.txt'\n",
      "No changes needed for 'ForceFox.txt'\n",
      "No changes needed for 'toxicplace.txt'\n",
      "No changes needed for 'Gestimus.txt'\n",
      "No changes needed for 'yachayubin.txt'\n",
      "No changes needed for 'Wolkenfarmer.txt'\n",
      "No changes needed for 'y9nic.txt'\n",
      "No changes needed for 'KINT0.txt'\n",
      "No changes needed for 'zBro.txt'\n",
      "No changes needed for 'qriezmannsOpa.txt'\n",
      "No changes needed for 'Harold_Sensemann.txt'\n",
      "No changes needed for 'JustAnyy.txt'\n",
      "No changes needed for 'PedroZockt.txt'\n",
      "No changes needed for 'MrNulfred.txt'\n",
      "No changes needed for 'Cytoox.txt'\n",
      "No changes needed for 'IchHolzDichWeg.txt'\n",
      "No changes needed for 'GingerTeddy.txt'\n",
      "No changes needed for 'Kopfradio.txt'\n",
      "No changes needed for 'loukrativ.txt'\n",
      "No changes needed for 'M0osebumps.txt'\n",
      "No changes needed for 'SmartyxD.txt'\n",
      "No changes needed for 'Kokochampo.txt'\n",
      "No changes needed for 'JennieKim.txt'\n",
      "No changes needed for 'Umgfoin.txt'\n",
      "No changes needed for 'ffawks.txt'\n",
      "No changes needed for 'Proofreader.txt'\n",
      "No changes needed for 'byTobi.txt'\n",
      "No changes needed for 'Shiewk.txt'\n",
      "No changes needed for 'La_meleagro.txt'\n",
      "No changes needed for 'Squashgitter333.txt'\n",
      "No changes needed for 'Luxemburq.txt'\n",
      "No changes needed for 'DarkCobweb.txt'\n",
      "No changes needed for 'Sackkerl.txt'\n",
      "No changes needed for 'Sthyq.txt'\n",
      "No changes needed for 'Acidey.txt'\n",
      "No changes needed for 'Laaaachs.txt'\n",
      "No changes needed for 'HerosHD.txt'\n",
      "No changes needed for 'Lennart0911.txt'\n",
      "No changes needed for 'Nor_Malo.txt'\n",
      "No changes needed for 'Gerrygames.txt'\n",
      "No changes needed for 'BusinessBent.txt'\n",
      "No changes needed for 'Simlll.txt'\n",
      "No changes needed for 'YBCM.txt'\n",
      "No changes needed for 'Txlentierter.txt'\n",
      "No changes needed for 'Dat_Klan.txt'\n",
      "No changes needed for 'Luis_XYZ.txt'\n",
      "No changes needed for 'NiklasMoWo.txt'\n",
      "No changes needed for 'MaxMitMaulkorb.txt'\n",
      "No changes needed for 'Oronor.txt'\n",
      "No changes needed for 'GamemasterNiki.txt'\n",
      "No changes needed for 'LordAlexos.txt'\n",
      "No changes needed for 'Pluto28.txt'\n",
      "No changes needed for 'GrafikKatze.txt'\n",
      "No changes needed for '_Einfallslos_.txt'\n",
      "No changes needed for 'cediiiiii_10.txt'\n",
      "No changes needed for 'Dokkkkko.txt'\n",
      "No changes needed for 'deadfiight.txt'\n",
      "No changes needed for 'Kanickelul.txt'\n",
      "No changes needed for 'crocodile1870.txt'\n",
      "No changes needed for 'Sower_.txt'\n",
      "No changes needed for 'Steavn.txt'\n",
      "No changes needed for 'EinfachEazy.txt'\n",
      "No changes needed for 'yiiq.txt'\n",
      "No changes needed for 'NotLennart.txt'\n",
      "No changes needed for 'Snitcherella.txt'\n",
      "No changes needed for 'Keenaai.txt'\n",
      "No changes needed for 'xd_Maiky.txt'\n",
      "No changes needed for 'Kklopse.txt'\n",
      "No changes needed for 'xIForgotMySkill.txt'\n",
      "No changes needed for 'ReichesBrot.txt'\n",
      "No changes needed for 'lolisamasan.txt'\n",
      "No changes needed for 'Raefinzs.txt'\n",
      "No changes needed for 'JOW24.txt'\n",
      "No changes needed for 'ByNetherdude.txt'\n",
      "No changes needed for 'ZweitesIch.txt'\n",
      "No changes needed for 'frutigall.txt'\n",
      "No changes needed for 'LilFueller.txt'\n",
      "No changes needed for 'xiooh.txt'\n",
      "No changes needed for 'qMika.txt'\n",
      "No changes needed for 'rotmann2.txt'\n",
      "No changes needed for 'FlyingKyubi.txt'\n",
      "No changes needed for 'Joy_8oy.txt'\n",
      "No changes needed for 'BauHD.txt'\n",
      "No changes needed for 'CML_Justin.txt'\n",
      "No changes needed for 'MoZadaTV.txt'\n",
      "No changes needed for 'BastiGHG.txt'\n",
      "No changes needed for 'Gummibearchen.txt'\n",
      "No changes needed for 'Lord_Weibull.txt'\n",
      "No changes needed for 'Stockinqs.txt'\n",
      "No changes needed for 'GlowyDusk.txt'\n",
      "No changes needed for 'Scuprum.txt'\n",
      "No changes needed for 'h4nnes.txt'\n",
      "No changes needed for 'cheesecake2901.txt'\n",
      "No changes needed for 'DrSpeed06.txt'\n",
      "No changes needed for 'Krusti.txt'\n",
      "No changes needed for 'marbrueck.txt'\n",
      "No changes needed for 'Vacted.txt'\n",
      "No changes needed for 'Janne4k.txt'\n",
      "No changes needed for 'Bartschii.txt'\n",
      "No changes needed for 'Mansuni.txt'\n",
      "No changes needed for 'SB387.txt'\n",
      "No changes needed for 'medisant.txt'\n",
      "No changes needed for 'Phoenix3000.txt'\n",
      "No changes needed for 'JOW23.txt'\n",
      "No changes needed for 'Ritokii.txt'\n",
      "No changes needed for 'Juti0n.txt'\n",
      "No changes needed for 'lvlaurin.txt'\n",
      "No changes needed for 'Bikoop.txt'\n",
      "No changes needed for 'FrozenNoah.txt'\n",
      "No changes needed for 'GeneralEnte06.txt'\n",
      "No changes needed for 'Dubbly.txt'\n",
      "No changes needed for 'revolverz.txt'\n",
      "No changes needed for 'Highsay.txt'\n",
      "No changes needed for 'ScreamingBlatz.txt'\n",
      "No changes needed for 'RyanxCole.txt'\n",
      "No changes needed for 'shellny.txt'\n",
      "No changes needed for 'kfc_man069.txt'\n",
      "No changes needed for 'TheKillerisback.txt'\n",
      "No changes needed for 'M0orey_0.txt'\n",
      "No changes needed for 'Mincheeen.txt'\n",
      "No changes needed for '2wc.txt'\n",
      "No changes needed for 'Feinberg.txt'\n",
      "No changes needed for 'Navex.txt'\n",
      "No changes needed for 'NewNormal0947.txt'\n",
      "No changes needed for 'Teesily.txt'\n",
      "No changes needed for 'linastunna.txt'\n",
      "No changes needed for 'SiLoHB.txt'\n",
      "No changes needed for 'Morittz.txt'\n",
      "No changes needed for 'cxl1lo.txt'\n",
      "No changes needed for 'LeMetin_.txt'\n",
      "No changes needed for 'unausgesprochen.txt'\n",
      "No changes needed for 'Freeeedom.txt'\n",
      "No changes needed for 'miridis41.txt'\n",
      "No changes needed for 'zLachs.txt'\n",
      "No changes needed for 'Joe3346.txt'\n",
      "No changes needed for 'Lingex.txt'\n",
      "No changes needed for 'xX_Masha_ggg_Xx9.txt'\n",
      "No changes needed for 'Julius16.txt'\n",
      "No changes needed for 'lizsyy.txt'\n",
      "No changes needed for 'camman18YT.txt'\n",
      "No changes needed for 'Jan2220.txt'\n",
      "No changes needed for 'Falke_01.txt'\n",
      "No changes needed for 'DaVinci_Son.txt'\n",
      "No changes needed for 'SatzdesPytag0ras.txt'\n",
      "No changes needed for 'Flitzi_Dino.txt'\n",
      "No changes needed for 'Wienerisch.txt'\n",
      "No changes needed for 'Seemops_8.txt'\n",
      "No changes needed for 'GermanPie.txt'\n",
      "No changes needed for 'Bildungsarten.txt'\n",
      "No changes needed for 'chrisihalt.txt'\n",
      "No changes needed for 'schwarzekater.txt'\n",
      "No changes needed for 'FluffyDragon2007.txt'\n",
      "No changes needed for 'LucaaOn.txt'\n",
      "No changes needed for 'Allooy.txt'\n",
      "No changes needed for 'Chander24.txt'\n",
      "No changes needed for 'Fflopse.txt'\n",
      "No changes needed for 'vKito.txt'\n",
      "No changes needed for 'bawskey.txt'\n",
      "No changes needed for 'RasenLP.txt'\n",
      "No changes needed for 'WshPasie.txt'\n",
      "No changes needed for 'Joel_the_king.txt'\n",
      "No changes needed for 'CladyNoClip_.txt'\n",
      "No changes needed for 'WirdNichtGeladen.txt'\n",
      "No changes needed for 'WuschigesEtwas.txt'\n",
      "No changes needed for 'OutcroYoutube.txt'\n",
      "No changes needed for 'HeIsJustAPoorBoy.txt'\n",
      "No changes needed for 'FlyingAutismus.txt'\n",
      "No changes needed for 'destr0yed_.txt'\n",
      "No changes needed for 'Ex4cted.txt'\n",
      "No changes needed for 'Mvsk_.txt'\n",
      "No changes needed for 'MaxOnTheRoad.txt'\n",
      "No changes needed for 'swiffle.txt'\n",
      "No changes needed for 'juvona.txt'\n",
      "No changes needed for 'Lubottus.txt'\n",
      "No changes needed for 'Nervigerr.txt'\n",
      "No changes needed for 'lolisamakun.txt'\n",
      "No changes needed for 'Martomias.txt'\n",
      "No changes needed for '20LeRe10.txt'\n",
      "\n",
      "Completed processing 246 file(s), 0 file(s) modified.\n"
     ]
    }
   ],
   "source": [
    "a.remove_kein_rekord_lines()"
   ]
  },
  {
   "cell_type": "code",
   "execution_count": 10,
   "id": "c428b052",
   "metadata": {},
   "outputs": [
    {
     "name": "stdout",
     "output_type": "stream",
     "text": [
      "\n",
      "Summary Statistics:\n",
      "--------------------------------------------------\n",
      "Total files: 246\n",
      "Files that are UTF-8: 246\n",
      "Files that are not UTF-8: 0\n",
      "\n",
      "Detected encodings distribution:\n",
      "detected_encoding\n",
      "utf-8         234\n",
      "ISO-8859-1      1\n",
      "MacRoman        1\n",
      "ascii           1\n",
      "Name: count, dtype: int64\n",
      "\n",
      "Files that are not UTF-8:\n",
      "None found\n"
     ]
    }
   ],
   "source": [
    "encoding_analysis = a.check_file_encodings()\n",
    "\n",
    "try: \n",
    "    os.remove('in-new/.DS_Store')\n",
    "except: pass"
   ]
  },
  {
   "cell_type": "code",
   "execution_count": 11,
   "id": "13333078",
   "metadata": {},
   "outputs": [
    {
     "ename": "TypeError",
     "evalue": "export_records_json() missing 1 required positional argument: 'records_file'",
     "output_type": "error",
     "traceback": [
      "\u001b[0;31m---------------------------------------------------------------------------\u001b[0m",
      "\u001b[0;31mTypeError\u001b[0m                                 Traceback (most recent call last)",
      "Cell \u001b[0;32mIn[11], line 1\u001b[0m\n\u001b[0;32m----> 1\u001b[0m \u001b[43ma\u001b[49m\u001b[38;5;241;43m.\u001b[39;49m\u001b[43mjsonExport\u001b[49m\u001b[43m(\u001b[49m\u001b[43m)\u001b[49m\n",
      "File \u001b[0;32m~/MCP-Records/data-analysis/analysis.py:489\u001b[0m, in \u001b[0;36mjsonExport\u001b[0;34m(debug)\u001b[0m\n\u001b[1;32m    486\u001b[0m minigames \u001b[38;5;241m=\u001b[39m (pointMiniGames \u001b[38;5;241m+\u001b[39m \u001b[38;5;124m'\u001b[39m\u001b[38;5;124m, \u001b[39m\u001b[38;5;124m'\u001b[39m \u001b[38;5;241m+\u001b[39m timeMiniGames)\u001b[38;5;241m.\u001b[39msplit(\u001b[38;5;124m'\u001b[39m\u001b[38;5;124m, \u001b[39m\u001b[38;5;124m'\u001b[39m)\n\u001b[1;32m    488\u001b[0m \u001b[38;5;28;01mif\u001b[39;00m debug: \u001b[38;5;28mprint\u001b[39m(\u001b[38;5;124mf\u001b[39m\u001b[38;5;124m\"\u001b[39m\u001b[38;5;124mprocessing \u001b[39m\u001b[38;5;132;01m{\u001b[39;00mminigames\u001b[38;5;132;01m}\u001b[39;00m\u001b[38;5;124m\"\u001b[39m)\n\u001b[0;32m--> 489\u001b[0m json_data \u001b[38;5;241m=\u001b[39m \u001b[43mexport_records_json\u001b[49m\u001b[43m(\u001b[49m\u001b[43mminigames\u001b[49m\u001b[43m)\u001b[49m\n\u001b[1;32m    491\u001b[0m \u001b[38;5;28;01mif\u001b[39;00m debug: \u001b[38;5;28mprint\u001b[39m(\u001b[38;5;124m\"\u001b[39m\u001b[38;5;124mjson_data has a length of: \u001b[39m\u001b[38;5;124m\"\u001b[39m \u001b[38;5;241m+\u001b[39m \u001b[38;5;28mstr\u001b[39m(\u001b[38;5;28mlen\u001b[39m(json_data)))\n\u001b[1;32m    493\u001b[0m \u001b[38;5;66;03m# Save as separate file\u001b[39;00m\n",
      "\u001b[0;31mTypeError\u001b[0m: export_records_json() missing 1 required positional argument: 'records_file'"
     ]
    }
   ],
   "source": [
    "a.jsonExport()"
   ]
  },
  {
   "cell_type": "code",
   "execution_count": null,
   "id": "0c5f4f92",
   "metadata": {},
   "outputs": [],
   "source": [
    "a.exportUUIDsAndRecords()"
   ]
  },
  {
   "cell_type": "code",
   "execution_count": null,
   "id": "e9f69b12",
   "metadata": {},
   "outputs": [],
   "source": [
    "current_date = datetime.datetime.now().strftime(\"%Y-%m-%d\")"
   ]
  },
  {
   "cell_type": "code",
   "execution_count": null,
   "id": "31af57db",
   "metadata": {},
   "outputs": [],
   "source": [
    "a.generateSwarmPlot(save=False)"
   ]
  }
 ],
 "metadata": {
  "kernelspec": {
   "display_name": ".venv",
   "language": "python",
   "name": "python3"
  },
  "language_info": {
   "codemirror_mode": {
    "name": "ipython",
    "version": 3
   },
   "file_extension": ".py",
   "mimetype": "text/x-python",
   "name": "python",
   "nbconvert_exporter": "python",
   "pygments_lexer": "ipython3",
   "version": "3.9.6"
  }
 },
 "nbformat": 4,
 "nbformat_minor": 5
}
