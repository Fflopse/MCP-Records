{
 "cells": [
  {
   "cell_type": "code",
   "execution_count": 5,
   "metadata": {},
   "outputs": [
    {
     "name": "stderr",
     "output_type": "stream",
     "text": [
      "Scraping Progress: 100%|██████████| 209/209 [12:16<00:00,  3.52s/player, last_player=zBro, last_rank=Spieler]            \n"
     ]
    },
    {
     "name": "stdout",
     "output_type": "stream",
     "text": [
      "Data exported to player_data.json\n"
     ]
    }
   ],
   "source": [
    "from selenium import webdriver\n",
    "from selenium.webdriver.chrome.service import Service\n",
    "from selenium.webdriver.chrome.options import Options\n",
    "from bs4 import BeautifulSoup\n",
    "import time\n",
    "import os\n",
    "from tqdm import tqdm\n",
    "import json\n",
    "\n",
    "# List of keywords to search for\n",
    "keywords = ['Premium+', 'Premium', 'Bauteam', 'Spieler', 'Entwickler', 'VIP', 'Content', 'Supporter', 'Owner', 'Moderator']\n",
    "\n",
    "# Dictionaries to store results\n",
    "player_data = {}\n",
    "player_categories = {keyword: [] for keyword in keywords}\n",
    "\n",
    "# Set up Chrome WebDriver\n",
    "chrome_options = Options()\n",
    "chrome_options.add_argument('--headless')\n",
    "chrome_options.add_argument('--disable-gpu')\n",
    "driver = webdriver.Chrome(options=chrome_options)\n",
    "\n",
    "# Check OS and set directory\n",
    "userOS = os.name\n",
    "if \"nt\" in userOS:\n",
    "    directory = os.getcwd() + \"\\\\in-new\"\n",
    "elif \"posix\" in userOS:\n",
    "    directory = os.getcwd() + \"/in-new\"\n",
    "else:\n",
    "    directory = None\n",
    "\n",
    "# Get player list\n",
    "file_names = []\n",
    "for file in os.listdir(directory):\n",
    "    if file.endswith(\".txt\") and \"log.\" not in file:\n",
    "        file_names.append(file[:-4])\n",
    "\n",
    "playerList = sorted(file_names)\n",
    "renamed = [\"BacardiSprite\", \"187leonbande\", \"Bannbaar\", \"BearchenGott\", \"H1ghsay\", \"Liichtenstein\", \"Kosmaxnaut\", \"Livgo\", \"Lubotter2009\", 'JustK1lling', 'schmaarek', \"ymq_\", \"zTotito\", \"Radiokopf\", \"toxicplace\", \"KMaxN\"]\n",
    "for i in renamed:\n",
    "    try: playerList.remove(i)\n",
    "    except: ValueError(i + \" not in list.\")\n",
    "\n",
    "newPlayers = [\"RasenLP\", \"FluffyDragon2007\", \"Tim_Voltia\", \"BunnyKiko\", \"BauHD\", \"Joe3346\"]\n",
    "\n",
    "playerList.extend(newPlayers)\n",
    "\n",
    "playerLower = [i.lower() for i in playerList]\n",
    "\n",
    "playerList = sorted(playerList)\n",
    "\n",
    "playerList = sorted(list(dict.fromkeys(playerList)))\n",
    "\n",
    "# Function to scrape data for a single player\n",
    "import logging\n",
    "\n",
    "# Set up logging\n",
    "logging.basicConfig(level=logging.INFO, format='%(asctime)s - %(levelname)s - %(message)s')\n",
    "\n",
    "def scrape_player_data(player_name, log=False):\n",
    "    url = f\"https://stats.cytooxien.de/player/{player_name}\"\n",
    "    driver.get(url)\n",
    "    time.sleep(3.2)\n",
    "    soup = BeautifulSoup(driver.page_source, 'html.parser')\n",
    "\n",
    "    if log: logging.info(f\"Scraping data for player: {player_name}\")\n",
    "\n",
    "    player_data[player_name] = {\n",
    "        \"name\": player_name,\n",
    "        \"rank\": \"None\",\n",
    "        \"minecraft_party\": {}\n",
    "    }\n",
    "\n",
    "    # Find player rank\n",
    "    player_ranks = soup.find_all('span', class_='player-rank')\n",
    "    for rank in player_ranks:\n",
    "        rank_text = rank.get_text(strip=True)\n",
    "        if rank_text in keywords:\n",
    "            player_data[player_name][\"rank\"] = rank_text\n",
    "            player_categories[rank_text].append(player_name)\n",
    "            if log: logging.info(f\"Player rank: {rank_text}\")\n",
    "            break\n",
    "\n",
    "    # Find Minecraft Party game mode\n",
    "    game_modes = soup.find_all('div', class_='stats-gamemode')\n",
    "    \n",
    "    for mode in game_modes:\n",
    "        title = mode.find('h3').text.strip()\n",
    "        \n",
    "        if title == \"Minecraft Party\":\n",
    "            if log: logging.info(\"Found Minecraft Party data\")\n",
    "            stats_contents = mode.find_all('div', class_='stats-content')\n",
    "            \n",
    "            for stat in stats_contents:\n",
    "                stat_name = stat.find('div', class_='col-mid').get_text(strip=True)\n",
    "                stat_value = stat.find('div', class_='col-right').get_text(strip=True)\n",
    "                \n",
    "                player_data[player_name][\"minecraft_party\"][stat_name] = stat_value\n",
    "                if log: logging.info(f\"Scraped: {stat_name} = {stat_value}\")\n",
    "            \n",
    "            break  # Exit the loop once Minecraft Party data is found\n",
    "\n",
    "    if not player_data[player_name][\"minecraft_party\"]:\n",
    "        logging.warning(\"No Minecraft Party data found for\" + player_name)\n",
    "\n",
    "    return player_data[player_name][\"rank\"]\n",
    "\n",
    "# Scrape data for all players and display progress bar\n",
    "progress_bar = tqdm(playerList, desc=\"Scraping Progress\", unit=\"player\")\n",
    "for player_name in progress_bar:\n",
    "    last_rank = scrape_player_data(player_name, log=False)\n",
    "    progress_bar.set_postfix(last_rank=last_rank, last_player=player_name)\n",
    "\n",
    "# Export data as JSON\n",
    "with open('player_data.json', 'w', encoding='utf-8') as f:\n",
    "    json.dump(player_data, f, ensure_ascii=False, indent=4)\n",
    "\n",
    "print(\"Data exported to player_data.json\")\n",
    "\n",
    "# Export ranks to txt files\n",
    "#for category, players in player_categories.items():\n",
    "#    with open(f'{category}.txt', 'w', encoding='utf-8') as f:\n",
    "#        for player in sorted(players):\n",
    "#            f.write(f\"{player}\\n\")\n",
    "#    print(f\"Exported {category}.txt\")\n",
    "\n",
    "# Quit the WebDriver\n",
    "driver.quit()"
   ]
  },
  {
   "cell_type": "code",
   "execution_count": 6,
   "metadata": {},
   "outputs": [],
   "source": [
    "# save to text file \n",
    "with open(f\"out/ranks.txt\", \"w\") as f:\n",
    "    for category, players in player_categories.items():\n",
    "        f.write(f\"{category}: {players}\\n\")"
   ]
  },
  {
   "cell_type": "code",
   "execution_count": 7,
   "metadata": {},
   "outputs": [
    {
     "name": "stdout",
     "output_type": "stream",
     "text": [
      "['20LeRe10', '2B9', '2wc', 'Acidey', 'Allooy', 'Anni808', 'ArthurAlchemist', 'Axollotel', 'Bartschii', 'BastiGHG', 'BauHD', 'Bikoop', 'BunnyKiko', 'BusinessBent', 'ByNetherdude', 'Carl1_1', 'Chander24', 'Cytoox', 'D4rkCookie', 'DarkCobweb', 'Dat_Klan', 'Davinci_Son', 'DerAutist', 'DieserBear', 'Dokkkkko', 'DrSpeed06', 'Dubbly', 'EinfachEazy', 'Ex4cted', 'Falke23_5', 'Falke_01', 'Feinberg', 'Fflopse', 'Flitzi_Dino', 'FluffyDragon2007', 'FlyingAutismus', 'FlyingKyubi', 'ForceFox', 'Freeeedom', 'FrozenNoah', 'Fussbild', 'G0at3D', 'GamemasterNiki', 'GeneralEnte06', 'GermanPie', 'Gerrygames', 'Gestimus', 'Gfrasti', 'GlowyDusk', 'Gobo9', 'GrafikKatze', 'Grapfen', 'Gryzes', 'Gummibearchen', 'Harold_Sensemann', 'HeIsJustAPoorBoy', 'HerosHD', 'HerrDante', 'Highsay', 'Hyxeed', 'IchHolzDichWeg', 'JOW23', 'JOW24', 'Jan2220', 'Janne4k', 'JayMinInSane', 'JennieKim', 'Joe3346', 'Joy_8oy', 'Julius16', 'Juti0n', 'KINT0', 'KakaMC', 'Kanickelul', 'Keenaai', 'Kokochampo', 'Kopfradio', 'Krusti', 'Kyuudo', 'La_meleagro', 'Laaaaachs', 'LeMetin_', 'LeWi_100', 'Lennart0911', 'LilFueller', 'Lingex', 'LordAlexos', 'Lord_Weibull', 'Lubottus', 'LucaaOn', 'Luis_XYZ', 'Lutorix', 'Luxemburq', 'M0orey_0', 'M0osebumps', 'Mansuni', 'Martomias', 'MaxMitMaulkorb', 'MaxOnTheRoad', 'Mincheeen', 'MindsetKito', 'MoZadaCraft', 'Morittz', 'MrNulfred', 'Mvsk_', 'NanamiElvi', 'Navex', 'Nervigerr', 'NiklasMoWo', 'Ninivee', 'NotLennart', 'Odlaa', 'Oronor', 'Pedrozockt', 'Persidieus', 'Picutar', 'PixlNight', 'Pluto28', 'PolizeiDreamy', 'PumiTheCat', 'Radattel', 'Raefinzs', 'RasenLP', 'ReichesBrot', 'Ritokii', 'RyanxCole', 'SB387', 'Sackkerl', 'SatzdesPytag0ras', 'Schmaarek', 'ScreamingBlatz', 'Scuprum', 'Sebi1801', 'SecretAgent_K', 'Seemops_8', 'Sey__', 'Shiewk', 'SiLoHB', 'Simlll', 'Snitcherella', 'Sower_', 'SpeckyCut', 'SpinCrafter', 'Squashgitter333', 'StaudammAusHolz', 'Steavn', 'Sthyq', 'Stockinqs', 'T_Niko_T', 'Tammywood', 'Teesily', 'TheBreadHD', 'TheFabo', 'TheKillerisback', 'Tim_Voltia', 'Tomiokey', 'Txlentierter', 'Umgfoin', 'Ungluecklicher', 'Vacted', 'Vanillinchen', 'Wienerisch', 'WirdNichtGeladen', 'Wissender', 'Wolkenfarmer', 'WuschigesEtwas', 'YBCM', 'ZweitesIch', '_Einfallslos_', '__ege', '_n3d', 'agowskyy', 'bawskey', 'bikop', 'byTobi', 'camman18YT', 'cediiiiii_10', 'cheesecake2901', 'chrisihalt', 'crocodile1870', 'cxl1lo', 'deadfiight', 'demiu', 'destr0yed_', 'ffawks', 'frutigall', 'h4nnes', 'juvona', 'lizsyy', 'lolisamakun', 'lolisamasan', 'loukrativ', 'lvlaurin', 'marbrueck', 'medisant', 'miridis41', 'revolverz', 'shellny', 'smartyxd', 'twitchparaskiill', 'unausgesprochen', 'xBaumeisterin', 'xX_Dima_ggg_Xx6', 'xX_Masha_ggg_Xx9', 'xd_Maiky', 'y9nic', 'yiiq', 'yzvm', 'zBro']\n"
     ]
    }
   ],
   "source": [
    "print(playerList)"
   ]
  },
  {
   "cell_type": "code",
   "execution_count": null,
   "metadata": {},
   "outputs": [],
   "source": []
  }
 ],
 "metadata": {
  "kernelspec": {
   "display_name": "Python 3",
   "language": "python",
   "name": "python3"
  },
  "language_info": {
   "codemirror_mode": {
    "name": "ipython",
    "version": 3
   },
   "file_extension": ".py",
   "mimetype": "text/x-python",
   "name": "python",
   "nbconvert_exporter": "python",
   "pygments_lexer": "ipython3",
   "version": "3.11.9"
  }
 },
 "nbformat": 4,
 "nbformat_minor": 2
}
