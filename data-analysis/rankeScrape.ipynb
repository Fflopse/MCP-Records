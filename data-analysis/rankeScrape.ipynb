{
 "cells": [
  {
   "cell_type": "code",
   "execution_count": 9,
   "metadata": {},
   "outputs": [
    {
     "name": "stderr",
     "output_type": "stream",
     "text": [
      "Scraping Progress: 100%|██████████| 89/89 [05:03<00:00,  3.42s/player, last_rank=Spieler]   "
     ]
    },
    {
     "name": "stdout",
     "output_type": "stream",
     "text": [
      "Premium+: ['Freeeedom', 'GamemasterNiki', 'Ninivee', 'Pedrozockt', 'PolizeiDreamy', 'Umgfoin', 'cxl1lo']\n",
      "Premium: ['Chander24', 'Ex4cted', 'Harold_Sensemann', 'HerrDante', 'KakaMC', 'Kokochampo', 'Mincheeen', 'Raefinzs', 'Sebi1801', 'SpeckyCut', 'cediiiiii_10', 'twitchparaskiill', 'ymq_']\n",
      "Bauteam: ['Fflopse', 'Kanickelul', 'marbrueck']\n",
      "Spieler: ['Anni808', 'Axollotel', 'BusinessBent', 'ByNetherdude', 'Chrisi20101', 'DarkCobweb', 'DerBaumIstDerWeg', 'Dokkkkko', 'Falke23_5', 'ForceFox', 'GeneralEnte06', 'Gobo9', 'GrafikKatze', 'Grapfen', 'Gummibearchen', 'H1ghsay', 'JOW23', 'Jan2220', 'JennieKim', 'Joy_8oy', 'JustK1lling', 'Kokochampi', 'Krusti', 'Kyuudo', 'LeWi_100', 'LordAlexos', 'Luis_XYZ', 'M0orey_0', 'Martomias', 'MrNulfred', 'Oronor', 'Picutar', 'PixlNight', 'Radattel', 'Ritokii', 'Sackkerl', 'ScreamingBlatz', 'Seemops_8', 'Sey__', 'StaudammAusHolz', 'Tomiokey', 'Txlentierter', 'WirdNichtGeladen', 'Wissender', '_Waldi_', '_n3d', 'agowskyy', 'bawskey', 'crocodile1870', 'frutigall', 'h4nnes', 'jimmi1410', 'lizsyy', 'officialryzon', 'rXzEr_Justin', 'schmaarek', 'tsuneee', 'xBaumeisterin', 'xX_Dima_ggg_Xx6', 'xX_Masha_ggg_Xx9', 'yzvm', 'zTotito']\n",
      "Entwickler: ['Gerrygames']\n"
     ]
    },
    {
     "name": "stderr",
     "output_type": "stream",
     "text": [
      "\n"
     ]
    }
   ],
   "source": [
    "from selenium import webdriver\n",
    "from selenium.webdriver.chrome.service import Service\n",
    "from selenium.webdriver.chrome.options import Options\n",
    "from bs4 import BeautifulSoup\n",
    "import time\n",
    "import os\n",
    "from tqdm import tqdm\n",
    "\n",
    "# List of keywords to search for\n",
    "keywords = ['Premium+', 'Premium', 'Bauteam', 'Spieler', 'Entwickler']\n",
    "\n",
    "# Dictionary to store results\n",
    "player_categories = {keyword: [] for keyword in keywords}\n",
    "\n",
    "# Set up Chrome WebDriver\n",
    "chrome_options = Options()\n",
    "chrome_options.add_argument('--headless')\n",
    "chrome_options.add_argument('--disable-gpu')  # Disable GPU acceleration\n",
    "driver = webdriver.Chrome(options=chrome_options)\n",
    "\n",
    "# Check OS\n",
    "userOS = os.name\n",
    "\n",
    "if \"nt\" in userOS: \n",
    "    directory = os.getcwd() + \"\\\\in-new\"\n",
    "elif \"posix\" in userOS:\n",
    "    directory = os.getcwd() + \"/in-new\"\n",
    "else: \n",
    "    directory = None\n",
    "\n",
    "file_names = []\n",
    "\n",
    "for file in os.listdir(directory):\n",
    "    if file.endswith(\".txt\") and \"log\" not in file:\n",
    "        file_names.append(file[:-4])\n",
    "\n",
    "# List of players, source from directory with previously scraped player names \n",
    "playerList = sorted(file_names)\n",
    "renamed = [\"BacardiSprite\", \"BearchenGott\", \"Livgo\", \"Lubotter2009\"]\n",
    "\n",
    "for i in renamed: \n",
    "    try: playerList.remove(i)\n",
    "    except: ValueError(i + \" not in list.\")\n",
    "\n",
    "# Add new players\n",
    "newPlayers = [\"ScreamingBlatz\", \"xX_Masha_ggg_Xx9\", 'Dokkkkko', 'GamemasterNiki', 'Krusti']\n",
    "\n",
    "for i in newPlayers:\n",
    "    if i not in playerList:\n",
    "        playerList.append(i)\n",
    "\n",
    "playerList = sorted(playerList)\n",
    "\n",
    "# Check for .txt files in the desktop path and add them to a list\n",
    "desktop_path = os.path.expanduser(\"~/Desktop\")\n",
    "desktop_files = os.listdir(desktop_path)\n",
    "\n",
    "for file in desktop_files:\n",
    "    if file.endswith(\".txt\"):\n",
    "        file = file[:-4]\n",
    "    \n",
    "    try: playerList.remove(file)\n",
    "    except: pass\n",
    "\n",
    "# Remove duplicates from playerList\n",
    "playerList = list(dict.fromkeys(playerList))\n",
    "\n",
    "# Function to scrape data for a single player\n",
    "def scrape_player_data(player_name):\n",
    "    url = f\"https://stats.cytooxien.de/player/{player_name}\"\n",
    "    driver.get(url)\n",
    "    time.sleep(3.3)  # Wait for 3.3 seconds for the page to fully load\n",
    "    soup = BeautifulSoup(driver.page_source, 'html.parser')\n",
    "    # Find all <span> elements with class \"player-rank\"\n",
    "    player_ranks = soup.find_all('span', class_='player-rank')\n",
    "    last_rank = None\n",
    "    for rank in player_ranks:\n",
    "        rank_text = rank.get_text(strip=True)  # Get the text content of the span\n",
    "        if rank_text in keywords:\n",
    "            player_categories[rank_text].append(player_name)\n",
    "            last_rank = rank_text\n",
    "    return last_rank\n",
    "\n",
    "# Scrape data for all players and display progress bar\n",
    "progress_bar = tqdm(playerList, desc=\"Scraping Progress\", unit=\"player\")\n",
    "for player_name in progress_bar:\n",
    "    last_rank = scrape_player_data(player_name)\n",
    "    progress_bar.set_postfix(last_rank=last_rank)\n",
    "\n",
    "# Print the results\n",
    "for category, players in player_categories.items():\n",
    "    print(f\"{category}: {players}\")\n",
    "\n",
    "# Quit the WebDriver\n",
    "driver.quit()\n"
   ]
  },
  {
   "cell_type": "code",
   "execution_count": 14,
   "metadata": {},
   "outputs": [
    {
     "data": {
      "text/plain": [
       "dict_values([['Freeeedom', 'GamemasterNiki', 'Ninivee', 'Pedrozockt', 'PolizeiDreamy', 'Umgfoin', 'cxl1lo'], ['Chander24', 'Ex4cted', 'Harold_Sensemann', 'HerrDante', 'KakaMC', 'Kokochampo', 'Mincheeen', 'Raefinzs', 'Sebi1801', 'SpeckyCut', 'cediiiiii_10', 'twitchparaskiill', 'ymq_'], ['Fflopse', 'Kanickelul', 'marbrueck'], ['Anni808', 'Axollotel', 'BusinessBent', 'ByNetherdude', 'Chrisi20101', 'DarkCobweb', 'DerBaumIstDerWeg', 'Dokkkkko', 'Falke23_5', 'ForceFox', 'GeneralEnte06', 'Gobo9', 'GrafikKatze', 'Grapfen', 'Gummibearchen', 'H1ghsay', 'JOW23', 'Jan2220', 'JennieKim', 'Joy_8oy', 'JustK1lling', 'Kokochampi', 'Krusti', 'Kyuudo', 'LeWi_100', 'LordAlexos', 'Luis_XYZ', 'M0orey_0', 'Martomias', 'MrNulfred', 'Oronor', 'Picutar', 'PixlNight', 'Radattel', 'Ritokii', 'Sackkerl', 'ScreamingBlatz', 'Seemops_8', 'Sey__', 'StaudammAusHolz', 'Tomiokey', 'Txlentierter', 'WirdNichtGeladen', 'Wissender', '_Waldi_', '_n3d', 'agowskyy', 'bawskey', 'crocodile1870', 'frutigall', 'h4nnes', 'jimmi1410', 'lizsyy', 'officialryzon', 'rXzEr_Justin', 'schmaarek', 'tsuneee', 'xBaumeisterin', 'xX_Dima_ggg_Xx6', 'xX_Masha_ggg_Xx9', 'yzvm', 'zTotito'], ['Gerrygames']])"
      ]
     },
     "execution_count": 14,
     "metadata": {},
     "output_type": "execute_result"
    }
   ],
   "source": [
    "player_categories.values()"
   ]
  },
  {
   "cell_type": "code",
   "execution_count": null,
   "metadata": {},
   "outputs": [],
   "source": []
  }
 ],
 "metadata": {
  "kernelspec": {
   "display_name": "base",
   "language": "python",
   "name": "python3"
  },
  "language_info": {
   "codemirror_mode": {
    "name": "ipython",
    "version": 3
   },
   "file_extension": ".py",
   "mimetype": "text/x-python",
   "name": "python",
   "nbconvert_exporter": "python",
   "pygments_lexer": "ipython3",
   "version": "3.11.1"
  }
 },
 "nbformat": 4,
 "nbformat_minor": 2
}
