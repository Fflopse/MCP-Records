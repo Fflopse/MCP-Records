{
 "cells": [
  {
   "cell_type": "code",
   "execution_count": 122,
   "metadata": {},
   "outputs": [],
   "source": [
    "import os\n",
    "import re \n",
    "import pandas as pd\n",
    "import seaborn as sns \n",
    "\n",
    "def getPlayerPaths():\n",
    "    file_list = os.listdir('in-new')\n",
    "    return file_list\n",
    "\n",
    "def read_file(file):\n",
    "    with open('in-new/'+file, 'r') as f:\n",
    "        data = f.read().replace('TooltipEvent, ', '')\n",
    "    return data\n",
    "\n",
    "def getRecordData(playerPath, minigame):\n",
    "    data = read_file(playerPath).split('\\n')\n",
    "    for line in data: \n",
    "        if minigame in line: \n",
    "            minigameData = line\n",
    "            minigameData = minigameData.replace(minigame, '').strip()\n",
    "            return minigameData  # return the data instead of printing it\n",
    "\n",
    "def create_dataframe(input_string):\n",
    "\n",
    "    # Define regular expression pattern to match map names and times\n",
    "    pattern = r'(\\w+\\s?\\w+)\\s*:\\s*(?:(\\d+)\\s*min\\s*)?(?:(\\d+)\\s*s\\s*)?(\\d+)\\s*ms'\n",
    "\n",
    "    # Find all matches in the input string\n",
    "    matches = re.findall(pattern, input_string)\n",
    "\n",
    "    # Initialize data dictionary to store map names and times\n",
    "    data = {}\n",
    "\n",
    "    # Iterate over matches and populate data dictionary\n",
    "    for match in matches:\n",
    "        map_name = match[0]\n",
    "        minutes = int(match[1] or 0)\n",
    "        seconds = int(match[2] or 0) + int(match[3]) / 1000\n",
    "        time_seconds = minutes * 60 + seconds\n",
    "        data[map_name] = time_seconds\n",
    "\n",
    "    # Create DataFrame from data dictionary\n",
    "    df = pd.DataFrame(data, index=[0])\n",
    "    return df\n",
    "\n",
    "paths = getPlayerPaths()\n"
   ]
  },
  {
   "cell_type": "code",
   "execution_count": 123,
   "metadata": {},
   "outputs": [
    {
     "data": {
      "text/plain": [
       "'Islands :  1 min  12 s  024 ms Snow :  44 s  468 ms Cyberpunk :  1 min  17 s  441 ms Cherry Blossom Canyon :  1 min  19 s  553 ms Green Hills :  1 min  02 s  593 ms'"
      ]
     },
     "execution_count": 123,
     "metadata": {},
     "output_type": "execute_result"
    }
   ],
   "source": [
    "getRecordData(playerPath=paths[0], minigame='Wettrennen')"
   ]
  },
  {
   "cell_type": "code",
   "execution_count": 140,
   "metadata": {},
   "outputs": [
    {
     "data": {
      "text/html": [
       "<div>\n",
       "<style scoped>\n",
       "    .dataframe tbody tr th:only-of-type {\n",
       "        vertical-align: middle;\n",
       "    }\n",
       "\n",
       "    .dataframe tbody tr th {\n",
       "        vertical-align: top;\n",
       "    }\n",
       "\n",
       "    .dataframe thead th {\n",
       "        text-align: right;\n",
       "    }\n",
       "</style>\n",
       "<table border=\"1\" class=\"dataframe\">\n",
       "  <thead>\n",
       "    <tr style=\"text-align: right;\">\n",
       "      <th></th>\n",
       "      <th>Islands</th>\n",
       "      <th>Snow</th>\n",
       "      <th>Cyberpunk</th>\n",
       "      <th>Blossom Canyon</th>\n",
       "      <th>Green Hills</th>\n",
       "    </tr>\n",
       "  </thead>\n",
       "  <tbody>\n",
       "    <tr>\n",
       "      <th>Fflopse</th>\n",
       "      <td>72.858</td>\n",
       "      <td>44.748</td>\n",
       "      <td>75.806</td>\n",
       "      <td>56.032</td>\n",
       "      <td>65.744</td>\n",
       "    </tr>\n",
       "    <tr>\n",
       "      <th>ymq_</th>\n",
       "      <td>72.102</td>\n",
       "      <td>44.878</td>\n",
       "      <td>77.846</td>\n",
       "      <td>79.157</td>\n",
       "      <td>66.612</td>\n",
       "    </tr>\n",
       "    <tr>\n",
       "      <th>lizsyy</th>\n",
       "      <td>72.603</td>\n",
       "      <td>44.964</td>\n",
       "      <td>80.763</td>\n",
       "      <td>79.201</td>\n",
       "      <td>65.912</td>\n",
       "    </tr>\n",
       "    <tr>\n",
       "      <th>Gobo9</th>\n",
       "      <td>72.024</td>\n",
       "      <td>44.468</td>\n",
       "      <td>77.441</td>\n",
       "      <td>79.553</td>\n",
       "      <td>62.593</td>\n",
       "    </tr>\n",
       "    <tr>\n",
       "      <th>Ex4cted</th>\n",
       "      <td>73.051</td>\n",
       "      <td>45.214</td>\n",
       "      <td>80.885</td>\n",
       "      <td>82.648</td>\n",
       "      <td>65.830</td>\n",
       "    </tr>\n",
       "  </tbody>\n",
       "</table>\n",
       "</div>"
      ],
      "text/plain": [
       "         Islands    Snow  Cyberpunk  Blossom Canyon  Green Hills\n",
       "Fflopse   72.858  44.748     75.806          56.032       65.744\n",
       "ymq_      72.102  44.878     77.846          79.157       66.612\n",
       "lizsyy    72.603  44.964     80.763          79.201       65.912\n",
       "Gobo9     72.024  44.468     77.441          79.553       62.593\n",
       "Ex4cted   73.051  45.214     80.885          82.648       65.830"
      ]
     },
     "execution_count": 140,
     "metadata": {},
     "output_type": "execute_result"
    }
   ],
   "source": [
    "def getRecordsDataframe(minigame='Wettrennen'):\n",
    "    outDf = pd.DataFrame()\n",
    "\n",
    "    for i in paths:\n",
    "        # print(i) # debug\n",
    "        df = create_dataframe(getRecordData(playerPath=i, minigame=minigame))\n",
    "        df.index = [i.replace('.txt', '')]\n",
    "\n",
    "        outDf = pd.concat([outDf, df])\n",
    "\n",
    "    return outDf\n",
    "\n",
    "getRecordsDataframe(minigame='Wettrennen').sort_values(by='Blossom Canyon', ascending=True)"
   ]
  },
  {
   "cell_type": "code",
   "execution_count": 141,
   "metadata": {},
   "outputs": [
    {
     "data": {
      "text/html": [
       "<div>\n",
       "<style scoped>\n",
       "    .dataframe tbody tr th:only-of-type {\n",
       "        vertical-align: middle;\n",
       "    }\n",
       "\n",
       "    .dataframe tbody tr th {\n",
       "        vertical-align: top;\n",
       "    }\n",
       "\n",
       "    .dataframe thead th {\n",
       "        text-align: right;\n",
       "    }\n",
       "</style>\n",
       "<table border=\"1\" class=\"dataframe\">\n",
       "  <thead>\n",
       "    <tr style=\"text-align: right;\">\n",
       "      <th></th>\n",
       "      <th>City</th>\n",
       "    </tr>\n",
       "  </thead>\n",
       "  <tbody>\n",
       "    <tr>\n",
       "      <th>Fflopse</th>\n",
       "      <td>21.701</td>\n",
       "    </tr>\n",
       "    <tr>\n",
       "      <th>Ex4cted</th>\n",
       "      <td>22.086</td>\n",
       "    </tr>\n",
       "    <tr>\n",
       "      <th>lizsyy</th>\n",
       "      <td>23.475</td>\n",
       "    </tr>\n",
       "    <tr>\n",
       "      <th>Gobo9</th>\n",
       "      <td>24.624</td>\n",
       "    </tr>\n",
       "    <tr>\n",
       "      <th>ymq_</th>\n",
       "      <td>25.351</td>\n",
       "    </tr>\n",
       "  </tbody>\n",
       "</table>\n",
       "</div>"
      ],
      "text/plain": [
       "           City\n",
       "Fflopse  21.701\n",
       "Ex4cted  22.086\n",
       "lizsyy   23.475\n",
       "Gobo9    24.624\n",
       "ymq_     25.351"
      ]
     },
     "execution_count": 141,
     "metadata": {},
     "output_type": "execute_result"
    }
   ],
   "source": [
    "getRecordsDataframe(minigame='Blockhüpfer').sort_values(by='City', ascending=True)"
   ]
  },
  {
   "cell_type": "code",
   "execution_count": null,
   "metadata": {},
   "outputs": [],
   "source": []
  }
 ],
 "metadata": {
  "kernelspec": {
   "display_name": "Python 3",
   "language": "python",
   "name": "python3"
  },
  "language_info": {
   "codemirror_mode": {
    "name": "ipython",
    "version": 3
   },
   "file_extension": ".py",
   "mimetype": "text/x-python",
   "name": "python",
   "nbconvert_exporter": "python",
   "pygments_lexer": "ipython3",
   "version": "3.11.5"
  }
 },
 "nbformat": 4,
 "nbformat_minor": 2
}
