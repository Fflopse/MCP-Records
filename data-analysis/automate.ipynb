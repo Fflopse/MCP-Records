{
 "cells": [
  {
   "cell_type": "code",
   "execution_count": 16,
   "metadata": {},
   "outputs": [
    {
     "ename": "TypeError",
     "evalue": "'int' object is not callable",
     "output_type": "error",
     "traceback": [
      "\u001b[0;31m---------------------------------------------------------------------------\u001b[0m",
      "\u001b[0;31mTypeError\u001b[0m                                 Traceback (most recent call last)",
      "Cell \u001b[0;32mIn[16], line 48\u001b[0m\n\u001b[1;32m     45\u001b[0m pyautogui\u001b[38;5;241m.\u001b[39mmoveTo(x \u001b[38;5;241m=\u001b[39m \u001b[38;5;241m500\u001b[39m, y \u001b[38;5;241m=\u001b[39m \u001b[38;5;241m500\u001b[39m, duration\u001b[38;5;241m=\u001b[39m\u001b[38;5;241m0.2\u001b[39m)\n\u001b[1;32m     47\u001b[0m \u001b[38;5;28;01mfor\u001b[39;00m i \u001b[38;5;129;01min\u001b[39;00m \u001b[38;5;28mrange\u001b[39m(\u001b[38;5;241m0\u001b[39m, \u001b[38;5;241m6\u001b[39m):\n\u001b[0;32m---> 48\u001b[0m     pyautogui\u001b[38;5;241m.\u001b[39mmoveTo(x \u001b[38;5;241m=\u001b[39m _2kRecordIconPositionsX[i], y \u001b[38;5;241m=\u001b[39m _2kRecordIconPositionsY[i], duration\u001b[38;5;241m=\u001b[39m\u001b[38;5;241m0.3\u001b[39m, tween\u001b[38;5;241m=\u001b[39m\u001b[38;5;241m2\u001b[39m)\n\u001b[1;32m     49\u001b[0m     \u001b[38;5;66;03m# pyautogui.click()\u001b[39;00m\n\u001b[1;32m     50\u001b[0m     pyautogui\u001b[38;5;241m.\u001b[39msleep(\u001b[38;5;241m0.1\u001b[39m)\n",
      "File \u001b[0;32m~/anaconda3/lib/python3.11/site-packages/pyautogui/__init__.py:594\u001b[0m, in \u001b[0;36m_genericPyAutoGUIChecks.<locals>.wrapper\u001b[0;34m(*args, **kwargs)\u001b[0m\n\u001b[1;32m    591\u001b[0m \u001b[38;5;129m@functools\u001b[39m\u001b[38;5;241m.\u001b[39mwraps(wrappedFunction)\n\u001b[1;32m    592\u001b[0m \u001b[38;5;28;01mdef\u001b[39;00m \u001b[38;5;21mwrapper\u001b[39m(\u001b[38;5;241m*\u001b[39margs, \u001b[38;5;241m*\u001b[39m\u001b[38;5;241m*\u001b[39mkwargs):\n\u001b[1;32m    593\u001b[0m     failSafeCheck()\n\u001b[0;32m--> 594\u001b[0m     returnVal \u001b[38;5;241m=\u001b[39m wrappedFunction(\u001b[38;5;241m*\u001b[39margs, \u001b[38;5;241m*\u001b[39m\u001b[38;5;241m*\u001b[39mkwargs)\n\u001b[1;32m    595\u001b[0m     _handlePause(kwargs\u001b[38;5;241m.\u001b[39mget(\u001b[38;5;124m\"\u001b[39m\u001b[38;5;124m_pause\u001b[39m\u001b[38;5;124m\"\u001b[39m, \u001b[38;5;28;01mTrue\u001b[39;00m))\n\u001b[1;32m    596\u001b[0m     \u001b[38;5;28;01mreturn\u001b[39;00m returnVal\n",
      "File \u001b[0;32m~/anaconda3/lib/python3.11/site-packages/pyautogui/__init__.py:1288\u001b[0m, in \u001b[0;36mmoveTo\u001b[0;34m(x, y, duration, tween, logScreenshot, _pause)\u001b[0m\n\u001b[1;32m   1285\u001b[0m x, y \u001b[38;5;241m=\u001b[39m _normalizeXYArgs(x, y)\n\u001b[1;32m   1287\u001b[0m _logScreenshot(logScreenshot, \u001b[38;5;124m\"\u001b[39m\u001b[38;5;124mmoveTo\u001b[39m\u001b[38;5;124m\"\u001b[39m, \u001b[38;5;124m\"\u001b[39m\u001b[38;5;132;01m%s\u001b[39;00m\u001b[38;5;124m,\u001b[39m\u001b[38;5;132;01m%s\u001b[39;00m\u001b[38;5;124m\"\u001b[39m \u001b[38;5;241m%\u001b[39m (x, y), folder\u001b[38;5;241m=\u001b[39m\u001b[38;5;124m\"\u001b[39m\u001b[38;5;124m.\u001b[39m\u001b[38;5;124m\"\u001b[39m)\n\u001b[0;32m-> 1288\u001b[0m _mouseMoveDrag(\u001b[38;5;124m\"\u001b[39m\u001b[38;5;124mmove\u001b[39m\u001b[38;5;124m\"\u001b[39m, x, y, \u001b[38;5;241m0\u001b[39m, \u001b[38;5;241m0\u001b[39m, duration, tween)\n",
      "File \u001b[0;32m~/anaconda3/lib/python3.11/site-packages/pyautogui/__init__.py:1488\u001b[0m, in \u001b[0;36m_mouseMoveDrag\u001b[0;34m(moveOrDrag, x, y, xOffset, yOffset, duration, tween, button)\u001b[0m\n\u001b[1;32m   1485\u001b[0m     num_steps \u001b[38;5;241m=\u001b[39m \u001b[38;5;28mint\u001b[39m(duration \u001b[38;5;241m/\u001b[39m MINIMUM_SLEEP)\n\u001b[1;32m   1486\u001b[0m     sleep_amount \u001b[38;5;241m=\u001b[39m duration \u001b[38;5;241m/\u001b[39m num_steps\n\u001b[0;32m-> 1488\u001b[0m steps \u001b[38;5;241m=\u001b[39m [getPointOnLine(startx, starty, x, y, tween(n \u001b[38;5;241m/\u001b[39m num_steps)) \u001b[38;5;28;01mfor\u001b[39;00m n \u001b[38;5;129;01min\u001b[39;00m \u001b[38;5;28mrange\u001b[39m(num_steps)]\n\u001b[1;32m   1489\u001b[0m \u001b[38;5;66;03m# Making sure the last position is the actual destination.\u001b[39;00m\n\u001b[1;32m   1490\u001b[0m steps\u001b[38;5;241m.\u001b[39mappend((x, y))\n",
      "File \u001b[0;32m~/anaconda3/lib/python3.11/site-packages/pyautogui/__init__.py:1488\u001b[0m, in \u001b[0;36m<listcomp>\u001b[0;34m(.0)\u001b[0m\n\u001b[1;32m   1485\u001b[0m     num_steps \u001b[38;5;241m=\u001b[39m \u001b[38;5;28mint\u001b[39m(duration \u001b[38;5;241m/\u001b[39m MINIMUM_SLEEP)\n\u001b[1;32m   1486\u001b[0m     sleep_amount \u001b[38;5;241m=\u001b[39m duration \u001b[38;5;241m/\u001b[39m num_steps\n\u001b[0;32m-> 1488\u001b[0m steps \u001b[38;5;241m=\u001b[39m [getPointOnLine(startx, starty, x, y, tween(n \u001b[38;5;241m/\u001b[39m num_steps)) \u001b[38;5;28;01mfor\u001b[39;00m n \u001b[38;5;129;01min\u001b[39;00m \u001b[38;5;28mrange\u001b[39m(num_steps)]\n\u001b[1;32m   1489\u001b[0m \u001b[38;5;66;03m# Making sure the last position is the actual destination.\u001b[39;00m\n\u001b[1;32m   1490\u001b[0m steps\u001b[38;5;241m.\u001b[39mappend((x, y))\n",
      "\u001b[0;31mTypeError\u001b[0m: 'int' object is not callable"
     ]
    }
   ],
   "source": [
    "pyautogui.FAILSAFE = True\n",
    "\n",
    "import pyautogui\n",
    "import os\n",
    "\n",
    "# get player names from MCP-Records/data-analysis/in-new folder\n",
    "directory = \"/Users/eliasmb/VScodeProjects/MCP-Records/MCP-Records/data-analysis/in-new\"\n",
    "file_names = []\n",
    "\n",
    "for file in os.listdir(directory):\n",
    "    if file.endswith(\".txt\") and \"log\" not in file:\n",
    "        file_names.append(file[:-4])\n",
    "\n",
    "# List of players, source from directory with previously scraped player names \n",
    "playerList = sorted(file_names)\n",
    "\n",
    "# List of Positions for each record icon x, y (at given GUI scale, resolution (4k), window size) \n",
    "_4kRecordIconPositionsX = [1842, 2274, 2274, 1842, 1842, 2274]\n",
    "_4kRecordIconPositionsY = [1155, 1155, 1209, 1209, 1260, 1260]\n",
    "\n",
    "_2kRecordIconPositionsX = [921, 1137, 1137, 921, 921, 1137]\n",
    "_2kRecordIconPositionsY = [int(i) / 2 for i in _4kRecordIconPositionsY]\n",
    "\n",
    "# wait 5s before starting\n",
    "pyautogui.sleep(5)\n",
    "\n",
    "# Scrape Records for Each Player in playerList\n",
    "for player in playerList:\n",
    "    # Switch to Minecraft window\n",
    "    # minecraft_window = pyautogui.getWindowsWithTitle(\"minecraft\")[0] \n",
    "    # eminecraft_window.activate()\n",
    "\n",
    "    # Open Chat\n",
    "    pyautogui.press(\"t\")\n",
    "\n",
    "    # Assemble Command String\n",
    "    command = \"/rekorde \" + player\n",
    "\n",
    "    # Execute Command\n",
    "    pyautogui.typewrite(command)\n",
    "    pyautogui.press(\"enter\")\n",
    "\n",
    "    # mooth smoothly through all positions x, y, taking x and y from the respective list\n",
    "\n",
    "    pyautogui.moveTo(x = 500, y = 500, duration=0.2)\n",
    "\n",
    "    for i in range(0, 6):\n",
    "        pyautogui.moveTo(x = _2kRecordIconPositionsX[i], y = _2kRecordIconPositionsY[i], duration=0.3)\n",
    "        # pyautogui.click()\n",
    "        pyautogui.sleep(0.1)\n",
    "\n",
    "        pyautogui.moveTo()\n",
    "\n",
    "    pyautogui.press(\"e\")\n",
    "\n",
    "    # Wait 300 ms until next player] \n",
    "    pyautogui.sleep(0.3)\n",
    "\n",
    "    # Rename file on desktop\n",
    "    new_filename = player + \".txt\"\n",
    "    desktop_path = os.path.expanduser(\"~/Desktop\")\n",
    "    old_filepath = os.path.join(desktop_path, \"ItemTooltipExport.txt\")\n",
    "    new_filepath = os.path.join(desktop_path, new_filename)\n",
    "    os.rename(old_filepath, new_filepath)\n",
    "\n",
    "    print(\"Record for \" + player + \" scraped successfully.\" + \"\\n\")"
   ]
  },
  {
   "cell_type": "code",
   "execution_count": null,
   "metadata": {},
   "outputs": [],
   "source": []
  }
 ],
 "metadata": {
  "kernelspec": {
   "display_name": "Python 3",
   "language": "python",
   "name": "python3"
  },
  "language_info": {
   "codemirror_mode": {
    "name": "ipython",
    "version": 3
   },
   "file_extension": ".py",
   "mimetype": "text/x-python",
   "name": "python",
   "nbconvert_exporter": "python",
   "pygments_lexer": "ipython3",
   "version": "3.11.5"
  }
 },
 "nbformat": 4,
 "nbformat_minor": 2
}
