{
 "cells": [
  {
   "cell_type": "code",
   "execution_count": 46,
   "metadata": {},
   "outputs": [],
   "source": [
    "''' compatible with: \n",
    "    1. Walls\n",
    "    2. Mini SG \n",
    "    3. Mini SW\n",
    "    4. Lasertag\n",
    "    5. Mienengefecht\n",
    "    6. OITC\n",
    "    7. Paintball\n",
    "    8. Spleef\n",
    "'''\n",
    "\n",
    "import os \n",
    "import re\n",
    "import pandas as pd \n",
    "import numpy as np\n",
    "\n",
    "directory = \"in/\"\n",
    "fileList = [os.path.join(directory, file) for file in os.listdir(directory)]\n",
    "\n",
    "def getPlayerName(path):  \n",
    "    name_pattern = re.compile(r\"/([a-zA-Z0-9_]+)\\.txt\")\n",
    "    match_name = name_pattern.search(path)\n",
    "\n",
    "    # Extracted name\n",
    "    extracted_name = match_name.group(1) if match_name else None\n",
    "    \n",
    "    return extracted_name\n",
    "\n",
    "playerList = []\n",
    "\n",
    "for file in fileList:\n",
    "    player = getPlayerName(file)\n",
    "    playerList.append(player)\n",
    "\n",
    "\n",
    "def getPointRecord(filepath, minigame):\n",
    "    records = []\n",
    "    \n",
    "    if type(filepath) == str:\n",
    "        try: \n",
    "            fh = open(filepath, 'r')\n",
    "        except: \n",
    "            print(\"Invalid Filepath\")\n",
    "            return None\n",
    "\n",
    "        for line in fh:\n",
    "            if minigame in line:\n",
    "                player_name = getPlayerName(filepath)\n",
    "\n",
    "                pattern = r\"literal\\{([^}]*)\\}\\[style=\\{\\}\\], literal\\{: \\}\\[style=\\{\\}\\]\\].+?literal\\{(\\d+)\\}\\[style=\\{\\}\\]\"\n",
    "                matches = re.findall(pattern, line)         \n",
    "\n",
    "\n",
    "                #for map_name, value in matches:\n",
    "                    #if value != None:\n",
    "                        #try: value = int(matches)\n",
    "                        # except: print(value, \"could not be converted to an integer\")\n",
    "\n",
    "                # Creating a dictionary from the matches\n",
    "                data = {map_name: int(value) for map_name, value in matches}\n",
    "\n",
    "                # Converting the dictionary into a DataFrame\n",
    "                df = pd.DataFrame([data], index=[player_name])\n",
    "\n",
    "                return df\n",
    "\n",
    "        fh.close()\n",
    "\n",
    "\n",
    "def getHtmlPointRecords(minigame):\n",
    "    combined_df = pd.DataFrame()\n",
    "\n",
    "    for filePath in fileList:\n",
    "        if \"txt\" in filePath:\n",
    "            temp_df = getPointRecord(filePath, minigame)\n",
    "            combined_df = pd.concat([combined_df, temp_df], axis=0)\n",
    "        \n",
    "    return combined_df.to_html().replace('\\n', '').replace('<table border=\"1\" class=\"dataframe\">', '').replace('</table>', '')\n",
    "\n",
    "def getDataFramePointRecords(minigame):\n",
    "    combined_df = pd.DataFrame()\n",
    "\n",
    "    for filePath in fileList:\n",
    "        if \"txt\" in filePath:\n",
    "            temp_df = getPointRecord(filePath, minigame)\n",
    "            combined_df = pd.concat([combined_df, temp_df], axis=0)\n",
    "\n",
    "    return combined_df.fillna(0 )    \n"
   ]
  },
  {
   "cell_type": "markdown",
   "metadata": {},
   "source": [
    "# Rekorde in HTML:\n",
    "\n",
    "1. Walls\n",
    "2. Mini SG \n",
    "3. Mini SW\n",
    "4. Lasertag\n",
    "5. Mienengefecht\n",
    "6. OITC\n",
    "7. Paintball\n",
    "8. Spleef"
   ]
  },
  {
   "cell_type": "code",
   "execution_count": 47,
   "metadata": {},
   "outputs": [
    {
     "data": {
      "text/plain": [
       "'  <thead>    <tr style=\"text-align: right;\">      <th></th>      <th>Grass</th>      <th>Vulcano</th>      <th>Garden</th>    </tr>  </thead>  <tbody>    <tr>      <th>Livgo</th>      <td>7</td>      <td>7</td>      <td>7</td>    </tr>    <tr>      <th>SpeckyCut</th>      <td>4</td>      <td>5</td>      <td>6</td>    </tr>    <tr>      <th>_n3d</th>      <td>8</td>      <td>9</td>      <td>10</td>    </tr>    <tr>      <th>MrMclaren</th>      <td>7</td>      <td>4</td>      <td>5</td>    </tr>    <tr>      <th>Gobo9</th>      <td>11</td>      <td>10</td>      <td>10</td>    </tr>    <tr>      <th>Anni808</th>      <td>3</td>      <td>5</td>      <td>5</td>    </tr>    <tr>      <th>Grapfen</th>      <td>10</td>      <td>10</td>      <td>12</td>    </tr>    <tr>      <th>PixlNight</th>      <td>6</td>      <td>6</td>      <td>7</td>    </tr>    <tr>      <th>Kiritoonroad</th>      <td>9</td>      <td>9</td>      <td>12</td>    </tr>    <tr>      <th>PolizeiDreamy</th>      <td>8</td>      <td>4</td>      <td>6</td>    </tr>    <tr>      <th>Radattel</th>      <td>6</td>      <td>7</td>      <td>5</td>    </tr>    <tr>      <th>DieserBear</th>      <td>8</td>      <td>6</td>      <td>9</td>    </tr>    <tr>      <th>schmaarek</th>      <td>8</td>      <td>8</td>      <td>8</td>    </tr>    <tr>      <th>HerrDante</th>      <td>9</td>      <td>9</td>      <td>10</td>    </tr>    <tr>      <th>StaudammAusHolz</th>      <td>7</td>      <td>6</td>      <td>4</td>    </tr>    <tr>      <th>Kyuudo</th>      <td>8</td>      <td>8</td>      <td>7</td>    </tr>    <tr>      <th>Sey__</th>      <td>9</td>      <td>7</td>      <td>8</td>    </tr>    <tr>      <th>ForceFox</th>      <td>7</td>      <td>7</td>      <td>7</td>    </tr>    <tr>      <th>PedroZockt</th>      <td>12</td>      <td>11</td>      <td>10</td>    </tr>    <tr>      <th>Kokochampo</th>      <td>7</td>      <td>5</td>      <td>4</td>    </tr>    <tr>      <th>cediiiiii_10</th>      <td>12</td>      <td>9</td>      <td>12</td>    </tr>    <tr>      <th>crocodile1870</th>      <td>3</td>      <td>4</td>      <td>6</td>    </tr>    <tr>      <th>Kokochampi</th>      <td>7</td>      <td>2</td>      <td>4</td>    </tr>    <tr>      <th>Brilux</th>      <td>5</td>      <td>7</td>      <td>5</td>    </tr>    <tr>      <th>Gummibearchen</th>      <td>6</td>      <td>5</td>      <td>5</td>    </tr>    <tr>      <th>officialryzon</th>      <td>9</td>      <td>10</td>      <td>8</td>    </tr>    <tr>      <th>Lubotter2009</th>      <td>7</td>      <td>10</td>      <td>6</td>    </tr>    <tr>      <th>GeneralEnte06</th>      <td>7</td>      <td>8</td>      <td>7</td>    </tr>    <tr>      <th>CrocoCun2020</th>      <td>3</td>      <td>0</td>      <td>3</td>    </tr>    <tr>      <th>tsuneee</th>      <td>2</td>      <td>7</td>      <td>6</td>    </tr>    <tr>      <th>cxl1lo</th>      <td>5</td>      <td>4</td>      <td>4</td>    </tr>    <tr>      <th>Freeeedom</th>      <td>9</td>      <td>9</td>      <td>6</td>    </tr>    <tr>      <th>lizsyy</th>      <td>8</td>      <td>8</td>      <td>6</td>    </tr>    <tr>      <th>Jan2220</th>      <td>6</td>      <td>7</td>      <td>8</td>    </tr>    <tr>      <th>Chander24</th>      <td>4</td>      <td>3</td>      <td>4</td>    </tr>    <tr>      <th>Fflopse</th>      <td>8</td>      <td>8</td>      <td>9</td>    </tr>    <tr>      <th>Ex4cted</th>      <td>8</td>      <td>4</td>      <td>9</td>    </tr>    <tr>      <th>MONSCHKI</th>      <td>2</td>      <td>3</td>      <td>3</td>    </tr>    <tr>      <th>jimmi1410</th>      <td>3</td>      <td>3</td>      <td>1</td>    </tr>  </tbody>'"
      ]
     },
     "execution_count": 47,
     "metadata": {},
     "output_type": "execute_result"
    }
   ],
   "source": [
    "getDataFramePointRecords(\"Wall\").fillna(0).to_html().replace('\\n', '').replace('<table border=\"1\" class=\"dataframe\">', '').replace('</table>', '').replace(\".0\", \"\")"
   ]
  },
  {
   "cell_type": "code",
   "execution_count": 48,
   "metadata": {},
   "outputs": [
    {
     "data": {
      "text/plain": [
       "'  <thead>    <tr style=\"text-align: right;\">      <th></th>      <th>Winter Village</th>      <th>Canyon</th>    </tr>  </thead>  <tbody>    <tr>      <th>Livgo</th>      <td>9</td>      <td>7</td>    </tr>    <tr>      <th>SpeckyCut</th>      <td>6</td>      <td>6</td>    </tr>    <tr>      <th>_n3d</th>      <td>9</td>      <td>7</td>    </tr>    <tr>      <th>MrMclaren</th>      <td>5</td>      <td>5</td>    </tr>    <tr>      <th>Gobo9</th>      <td>10</td>      <td>11</td>    </tr>    <tr>      <th>Anni808</th>      <td>3</td>      <td>7</td>    </tr>    <tr>      <th>Grapfen</th>      <td>12</td>      <td>10</td>    </tr>    <tr>      <th>PixlNight</th>      <td>8</td>      <td>9</td>    </tr>    <tr>      <th>Kiritoonroad</th>      <td>10</td>      <td>10</td>    </tr>    <tr>      <th>PolizeiDreamy</th>      <td>7</td>      <td>8</td>    </tr>    <tr>      <th>Radattel</th>      <td>9</td>      <td>10</td>    </tr>    <tr>      <th>DieserBear</th>      <td>9</td>      <td>11</td>    </tr>    <tr>      <th>schmaarek</th>      <td>11</td>      <td>10</td>    </tr>    <tr>      <th>HerrDante</th>      <td>10</td>      <td>11</td>    </tr>    <tr>      <th>StaudammAusHolz</th>      <td>7</td>      <td>9</td>    </tr>    <tr>      <th>Kyuudo</th>      <td>11</td>      <td>8</td>    </tr>    <tr>      <th>Sey__</th>      <td>9</td>      <td>8</td>    </tr>    <tr>      <th>ForceFox</th>      <td>8</td>      <td>7</td>    </tr>    <tr>      <th>PedroZockt</th>      <td>10</td>      <td>9</td>    </tr>    <tr>      <th>Kokochampo</th>      <td>9</td>      <td>8</td>    </tr>    <tr>      <th>cediiiiii_10</th>      <td>12</td>      <td>11</td>    </tr>    <tr>      <th>crocodile1870</th>      <td>3</td>      <td>6</td>    </tr>    <tr>      <th>Kokochampi</th>      <td>8</td>      <td>8</td>    </tr>    <tr>      <th>Brilux</th>      <td>9</td>      <td>11</td>    </tr>    <tr>      <th>Gummibearchen</th>      <td>7</td>      <td>7</td>    </tr>    <tr>      <th>officialryzon</th>      <td>10</td>      <td>12</td>    </tr>    <tr>      <th>Lubotter2009</th>      <td>8</td>      <td>8</td>    </tr>    <tr>      <th>GeneralEnte06</th>      <td>8</td>      <td>12</td>    </tr>    <tr>      <th>CrocoCun2020</th>      <td>2</td>      <td>2</td>    </tr>    <tr>      <th>tsuneee</th>      <td>4</td>      <td>3</td>    </tr>    <tr>      <th>cxl1lo</th>      <td>3</td>      <td>6</td>    </tr>    <tr>      <th>Freeeedom</th>      <td>9</td>      <td>8</td>    </tr>    <tr>      <th>lizsyy</th>      <td>7</td>      <td>9</td>    </tr>    <tr>      <th>Jan2220</th>      <td>9</td>      <td>8</td>    </tr>    <tr>      <th>Chander24</th>      <td>4</td>      <td>3</td>    </tr>    <tr>      <th>Fflopse</th>      <td>10</td>      <td>10</td>    </tr>    <tr>      <th>Ex4cted</th>      <td>10</td>      <td>8</td>    </tr>    <tr>      <th>MONSCHKI</th>      <td>3</td>      <td>1</td>    </tr>    <tr>      <th>jimmi1410</th>      <td>2</td>      <td>5</td>    </tr>  </tbody>'"
      ]
     },
     "execution_count": 48,
     "metadata": {},
     "output_type": "execute_result"
    }
   ],
   "source": [
    "getHtmlPointRecords(\"Survival\")"
   ]
  },
  {
   "cell_type": "code",
   "execution_count": 49,
   "metadata": {},
   "outputs": [
    {
     "data": {
      "text/plain": [
       "'  <thead>    <tr style=\"text-align: right;\">      <th></th>      <th>Asia</th>      <th>Wild West</th>      <th>Swamp</th>      <th>Coconut</th>    </tr>  </thead>  <tbody>    <tr>      <th>Livgo</th>      <td>6</td>      <td>5</td>      <td>5.0</td>      <td>NaN</td>    </tr>    <tr>      <th>SpeckyCut</th>      <td>7</td>      <td>6</td>      <td>8.0</td>      <td>1.0</td>    </tr>    <tr>      <th>_n3d</th>      <td>6</td>      <td>6</td>      <td>6.0</td>      <td>NaN</td>    </tr>    <tr>      <th>MrMclaren</th>      <td>4</td>      <td>4</td>      <td>5.0</td>      <td>NaN</td>    </tr>    <tr>      <th>Gobo9</th>      <td>8</td>      <td>9</td>      <td>8.0</td>      <td>NaN</td>    </tr>    <tr>      <th>Anni808</th>      <td>2</td>      <td>3</td>      <td>3.0</td>      <td>NaN</td>    </tr>    <tr>      <th>Grapfen</th>      <td>8</td>      <td>10</td>      <td>8.0</td>      <td>NaN</td>    </tr>    <tr>      <th>PixlNight</th>      <td>6</td>      <td>5</td>      <td>5.0</td>      <td>1.0</td>    </tr>    <tr>      <th>Kiritoonroad</th>      <td>9</td>      <td>9</td>      <td>7.0</td>      <td>3.0</td>    </tr>    <tr>      <th>PolizeiDreamy</th>      <td>8</td>      <td>7</td>      <td>5.0</td>      <td>NaN</td>    </tr>    <tr>      <th>Radattel</th>      <td>7</td>      <td>4</td>      <td>5.0</td>      <td>NaN</td>    </tr>    <tr>      <th>DieserBear</th>      <td>7</td>      <td>7</td>      <td>8.0</td>      <td>NaN</td>    </tr>    <tr>      <th>schmaarek</th>      <td>8</td>      <td>9</td>      <td>8.0</td>      <td>NaN</td>    </tr>    <tr>      <th>HerrDante</th>      <td>8</td>      <td>8</td>      <td>8.0</td>      <td>NaN</td>    </tr>    <tr>      <th>StaudammAusHolz</th>      <td>5</td>      <td>4</td>      <td>5.0</td>      <td>1.0</td>    </tr>    <tr>      <th>Kyuudo</th>      <td>9</td>      <td>8</td>      <td>9.0</td>      <td>NaN</td>    </tr>    <tr>      <th>Sey__</th>      <td>7</td>      <td>8</td>      <td>7.0</td>      <td>NaN</td>    </tr>    <tr>      <th>ForceFox</th>      <td>7</td>      <td>9</td>      <td>4.0</td>      <td>NaN</td>    </tr>    <tr>      <th>PedroZockt</th>      <td>8</td>      <td>10</td>      <td>8.0</td>      <td>NaN</td>    </tr>    <tr>      <th>Kokochampo</th>      <td>6</td>      <td>6</td>      <td>8.0</td>      <td>NaN</td>    </tr>    <tr>      <th>cediiiiii_10</th>      <td>10</td>      <td>11</td>      <td>10.0</td>      <td>NaN</td>    </tr>    <tr>      <th>crocodile1870</th>      <td>3</td>      <td>3</td>      <td>3.0</td>      <td>NaN</td>    </tr>    <tr>      <th>Kokochampi</th>      <td>6</td>      <td>7</td>      <td>2.0</td>      <td>NaN</td>    </tr>    <tr>      <th>Brilux</th>      <td>5</td>      <td>8</td>      <td>5.0</td>      <td>NaN</td>    </tr>    <tr>      <th>Gummibearchen</th>      <td>5</td>      <td>7</td>      <td>4.0</td>      <td>NaN</td>    </tr>    <tr>      <th>officialryzon</th>      <td>8</td>      <td>6</td>      <td>6.0</td>      <td>NaN</td>    </tr>    <tr>      <th>Lubotter2009</th>      <td>6</td>      <td>4</td>      <td>6.0</td>      <td>NaN</td>    </tr>    <tr>      <th>GeneralEnte06</th>      <td>6</td>      <td>5</td>      <td>4.0</td>      <td>NaN</td>    </tr>    <tr>      <th>CrocoCun2020</th>      <td>2</td>      <td>2</td>      <td>2.0</td>      <td>NaN</td>    </tr>    <tr>      <th>tsuneee</th>      <td>6</td>      <td>5</td>      <td>NaN</td>      <td>NaN</td>    </tr>    <tr>      <th>cxl1lo</th>      <td>6</td>      <td>3</td>      <td>3.0</td>      <td>NaN</td>    </tr>    <tr>      <th>Freeeedom</th>      <td>5</td>      <td>6</td>      <td>5.0</td>      <td>NaN</td>    </tr>    <tr>      <th>lizsyy</th>      <td>7</td>      <td>9</td>      <td>7.0</td>      <td>NaN</td>    </tr>    <tr>      <th>Jan2220</th>      <td>9</td>      <td>6</td>      <td>7.0</td>      <td>NaN</td>    </tr>    <tr>      <th>Chander24</th>      <td>7</td>      <td>4</td>      <td>4.0</td>      <td>NaN</td>    </tr>    <tr>      <th>Fflopse</th>      <td>8</td>      <td>7</td>      <td>6.0</td>      <td>NaN</td>    </tr>    <tr>      <th>Ex4cted</th>      <td>5</td>      <td>4</td>      <td>5.0</td>      <td>2.0</td>    </tr>    <tr>      <th>MONSCHKI</th>      <td>2</td>      <td>1</td>      <td>2.0</td>      <td>NaN</td>    </tr>    <tr>      <th>jimmi1410</th>      <td>2</td>      <td>1</td>      <td>4.0</td>      <td>NaN</td>    </tr>  </tbody>'"
      ]
     },
     "execution_count": 49,
     "metadata": {},
     "output_type": "execute_result"
    }
   ],
   "source": [
    "getHtmlPointRecords(\"Sky\")"
   ]
  },
  {
   "cell_type": "code",
   "execution_count": 50,
   "metadata": {},
   "outputs": [
    {
     "data": {
      "text/plain": [
       "'  <thead>    <tr style=\"text-align: right;\">      <th></th>      <th>Neon</th>      <th>Port</th>      <th>Factory</th>    </tr>  </thead>  <tbody>    <tr>      <th>Livgo</th>      <td>23</td>      <td>26</td>      <td>43</td>    </tr>    <tr>      <th>SpeckyCut</th>      <td>24</td>      <td>21</td>      <td>30</td>    </tr>    <tr>      <th>_n3d</th>      <td>37</td>      <td>34</td>      <td>41</td>    </tr>    <tr>      <th>MrMclaren</th>      <td>22</td>      <td>19</td>      <td>29</td>    </tr>    <tr>      <th>Gobo9</th>      <td>40</td>      <td>37</td>      <td>47</td>    </tr>    <tr>      <th>Anni808</th>      <td>27</td>      <td>20</td>      <td>25</td>    </tr>    <tr>      <th>Grapfen</th>      <td>40</td>      <td>38</td>      <td>42</td>    </tr>    <tr>      <th>PixlNight</th>      <td>27</td>      <td>21</td>      <td>29</td>    </tr>    <tr>      <th>Kiritoonroad</th>      <td>43</td>      <td>42</td>      <td>65</td>    </tr>    <tr>      <th>PolizeiDreamy</th>      <td>29</td>      <td>23</td>      <td>36</td>    </tr>    <tr>      <th>Radattel</th>      <td>27</td>      <td>19</td>      <td>35</td>    </tr>    <tr>      <th>DieserBear</th>      <td>41</td>      <td>30</td>      <td>59</td>    </tr>    <tr>      <th>schmaarek</th>      <td>37</td>      <td>26</td>      <td>41</td>    </tr>    <tr>      <th>HerrDante</th>      <td>50</td>      <td>40</td>      <td>88</td>    </tr>    <tr>      <th>StaudammAusHolz</th>      <td>25</td>      <td>20</td>      <td>35</td>    </tr>    <tr>      <th>Kyuudo</th>      <td>23</td>      <td>22</td>      <td>35</td>    </tr>    <tr>      <th>Sey__</th>      <td>26</td>      <td>32</td>      <td>49</td>    </tr>    <tr>      <th>ForceFox</th>      <td>20</td>      <td>16</td>      <td>34</td>    </tr>    <tr>      <th>PedroZockt</th>      <td>43</td>      <td>42</td>      <td>47</td>    </tr>    <tr>      <th>Kokochampo</th>      <td>34</td>      <td>24</td>      <td>37</td>    </tr>    <tr>      <th>cediiiiii_10</th>      <td>41</td>      <td>33</td>      <td>55</td>    </tr>    <tr>      <th>crocodile1870</th>      <td>27</td>      <td>20</td>      <td>27</td>    </tr>    <tr>      <th>Kokochampi</th>      <td>20</td>      <td>17</td>      <td>37</td>    </tr>    <tr>      <th>Brilux</th>      <td>38</td>      <td>28</td>      <td>35</td>    </tr>    <tr>      <th>Gummibearchen</th>      <td>35</td>      <td>21</td>      <td>36</td>    </tr>    <tr>      <th>officialryzon</th>      <td>34</td>      <td>25</td>      <td>50</td>    </tr>    <tr>      <th>Lubotter2009</th>      <td>26</td>      <td>28</td>      <td>37</td>    </tr>    <tr>      <th>GeneralEnte06</th>      <td>27</td>      <td>26</td>      <td>36</td>    </tr>    <tr>      <th>CrocoCun2020</th>      <td>17</td>      <td>8</td>      <td>24</td>    </tr>    <tr>      <th>tsuneee</th>      <td>34</td>      <td>28</td>      <td>55</td>    </tr>    <tr>      <th>cxl1lo</th>      <td>17</td>      <td>17</td>      <td>22</td>    </tr>    <tr>      <th>Freeeedom</th>      <td>36</td>      <td>34</td>      <td>38</td>    </tr>    <tr>      <th>lizsyy</th>      <td>35</td>      <td>32</td>      <td>49</td>    </tr>    <tr>      <th>Jan2220</th>      <td>31</td>      <td>27</td>      <td>38</td>    </tr>    <tr>      <th>Chander24</th>      <td>17</td>      <td>19</td>      <td>27</td>    </tr>    <tr>      <th>Fflopse</th>      <td>45</td>      <td>40</td>      <td>70</td>    </tr>    <tr>      <th>Ex4cted</th>      <td>35</td>      <td>33</td>      <td>78</td>    </tr>    <tr>      <th>MONSCHKI</th>      <td>20</td>      <td>24</td>      <td>26</td>    </tr>    <tr>      <th>jimmi1410</th>      <td>23</td>      <td>13</td>      <td>25</td>    </tr>  </tbody>'"
      ]
     },
     "execution_count": 50,
     "metadata": {},
     "output_type": "execute_result"
    }
   ],
   "source": [
    "getHtmlPointRecords(\"Laser\")"
   ]
  },
  {
   "cell_type": "code",
   "execution_count": 51,
   "metadata": {},
   "outputs": [
    {
     "data": {
      "text/plain": [
       "'  <thead>    <tr style=\"text-align: right;\">      <th></th>      <th>Ruin</th>      <th>Overworld</th>      <th>Nether</th>    </tr>  </thead>  <tbody>    <tr>      <th>Livgo</th>      <td>5</td>      <td>8</td>      <td>6</td>    </tr>    <tr>      <th>SpeckyCut</th>      <td>7</td>      <td>7</td>      <td>6</td>    </tr>    <tr>      <th>_n3d</th>      <td>6</td>      <td>11</td>      <td>9</td>    </tr>    <tr>      <th>MrMclaren</th>      <td>3</td>      <td>5</td>      <td>4</td>    </tr>    <tr>      <th>Gobo9</th>      <td>9</td>      <td>9</td>      <td>10</td>    </tr>    <tr>      <th>Anni808</th>      <td>4</td>      <td>7</td>      <td>3</td>    </tr>    <tr>      <th>Grapfen</th>      <td>9</td>      <td>9</td>      <td>9</td>    </tr>    <tr>      <th>PixlNight</th>      <td>5</td>      <td>6</td>      <td>5</td>    </tr>    <tr>      <th>Kiritoonroad</th>      <td>11</td>      <td>8</td>      <td>9</td>    </tr>    <tr>      <th>PolizeiDreamy</th>      <td>5</td>      <td>8</td>      <td>4</td>    </tr>    <tr>      <th>Radattel</th>      <td>9</td>      <td>7</td>      <td>8</td>    </tr>    <tr>      <th>DieserBear</th>      <td>8</td>      <td>10</td>      <td>8</td>    </tr>    <tr>      <th>schmaarek</th>      <td>9</td>      <td>10</td>      <td>9</td>    </tr>    <tr>      <th>HerrDante</th>      <td>9</td>      <td>11</td>      <td>9</td>    </tr>    <tr>      <th>StaudammAusHolz</th>      <td>5</td>      <td>7</td>      <td>6</td>    </tr>    <tr>      <th>Kyuudo</th>      <td>8</td>      <td>10</td>      <td>11</td>    </tr>    <tr>      <th>Sey__</th>      <td>8</td>      <td>8</td>      <td>9</td>    </tr>    <tr>      <th>ForceFox</th>      <td>10</td>      <td>6</td>      <td>7</td>    </tr>    <tr>      <th>PedroZockt</th>      <td>8</td>      <td>9</td>      <td>9</td>    </tr>    <tr>      <th>Kokochampo</th>      <td>5</td>      <td>5</td>      <td>6</td>    </tr>    <tr>      <th>cediiiiii_10</th>      <td>13</td>      <td>13</td>      <td>11</td>    </tr>    <tr>      <th>crocodile1870</th>      <td>5</td>      <td>6</td>      <td>5</td>    </tr>    <tr>      <th>Kokochampi</th>      <td>7</td>      <td>6</td>      <td>4</td>    </tr>    <tr>      <th>Brilux</th>      <td>7</td>      <td>6</td>      <td>8</td>    </tr>    <tr>      <th>Gummibearchen</th>      <td>7</td>      <td>6</td>      <td>4</td>    </tr>    <tr>      <th>officialryzon</th>      <td>7</td>      <td>8</td>      <td>8</td>    </tr>    <tr>      <th>Lubotter2009</th>      <td>8</td>      <td>7</td>      <td>7</td>    </tr>    <tr>      <th>GeneralEnte06</th>      <td>9</td>      <td>7</td>      <td>10</td>    </tr>    <tr>      <th>CrocoCun2020</th>      <td>1</td>      <td>4</td>      <td>1</td>    </tr>    <tr>      <th>tsuneee</th>      <td>4</td>      <td>6</td>      <td>8</td>    </tr>    <tr>      <th>cxl1lo</th>      <td>3</td>      <td>3</td>      <td>4</td>    </tr>    <tr>      <th>Freeeedom</th>      <td>9</td>      <td>9</td>      <td>10</td>    </tr>    <tr>      <th>lizsyy</th>      <td>9</td>      <td>6</td>      <td>8</td>    </tr>    <tr>      <th>Jan2220</th>      <td>6</td>      <td>6</td>      <td>9</td>    </tr>    <tr>      <th>Chander24</th>      <td>4</td>      <td>6</td>      <td>3</td>    </tr>    <tr>      <th>Fflopse</th>      <td>8</td>      <td>8</td>      <td>9</td>    </tr>    <tr>      <th>Ex4cted</th>      <td>5</td>      <td>10</td>      <td>6</td>    </tr>    <tr>      <th>MONSCHKI</th>      <td>1</td>      <td>1</td>      <td>2</td>    </tr>    <tr>      <th>jimmi1410</th>      <td>3</td>      <td>2</td>      <td>3</td>    </tr>  </tbody>'"
      ]
     },
     "execution_count": 51,
     "metadata": {},
     "output_type": "execute_result"
    }
   ],
   "source": [
    "getHtmlPointRecords(\"Mine\")"
   ]
  },
  {
   "cell_type": "code",
   "execution_count": 52,
   "metadata": {},
   "outputs": [
    {
     "data": {
      "text/plain": [
       "'  <thead>    <tr style=\"text-align: right;\">      <th></th>      <th>Japan</th>      <th>Asia</th>      <th>Fall</th>    </tr>  </thead>  <tbody>    <tr>      <th>Livgo</th>      <td>17</td>      <td>23</td>      <td>14</td>    </tr>    <tr>      <th>SpeckyCut</th>      <td>19</td>      <td>17</td>      <td>16</td>    </tr>    <tr>      <th>_n3d</th>      <td>31</td>      <td>23</td>      <td>16</td>    </tr>    <tr>      <th>MrMclaren</th>      <td>16</td>      <td>20</td>      <td>8</td>    </tr>    <tr>      <th>Gobo9</th>      <td>32</td>      <td>33</td>      <td>26</td>    </tr>    <tr>      <th>Anni808</th>      <td>19</td>      <td>19</td>      <td>14</td>    </tr>    <tr>      <th>Grapfen</th>      <td>32</td>      <td>31</td>      <td>25</td>    </tr>    <tr>      <th>PixlNight</th>      <td>23</td>      <td>23</td>      <td>12</td>    </tr>    <tr>      <th>Kiritoonroad</th>      <td>32</td>      <td>34</td>      <td>25</td>    </tr>    <tr>      <th>PolizeiDreamy</th>      <td>25</td>      <td>29</td>      <td>16</td>    </tr>    <tr>      <th>Radattel</th>      <td>21</td>      <td>23</td>      <td>10</td>    </tr>    <tr>      <th>DieserBear</th>      <td>34</td>      <td>35</td>      <td>23</td>    </tr>    <tr>      <th>schmaarek</th>      <td>25</td>      <td>24</td>      <td>19</td>    </tr>    <tr>      <th>HerrDante</th>      <td>38</td>      <td>36</td>      <td>29</td>    </tr>    <tr>      <th>StaudammAusHolz</th>      <td>20</td>      <td>19</td>      <td>10</td>    </tr>    <tr>      <th>Kyuudo</th>      <td>22</td>      <td>26</td>      <td>21</td>    </tr>    <tr>      <th>Sey__</th>      <td>23</td>      <td>22</td>      <td>19</td>    </tr>    <tr>      <th>ForceFox</th>      <td>23</td>      <td>21</td>      <td>11</td>    </tr>    <tr>      <th>PedroZockt</th>      <td>28</td>      <td>27</td>      <td>17</td>    </tr>    <tr>      <th>Kokochampo</th>      <td>18</td>      <td>23</td>      <td>9</td>    </tr>    <tr>      <th>cediiiiii_10</th>      <td>38</td>      <td>31</td>      <td>26</td>    </tr>    <tr>      <th>crocodile1870</th>      <td>16</td>      <td>16</td>      <td>10</td>    </tr>    <tr>      <th>Kokochampi</th>      <td>16</td>      <td>17</td>      <td>0</td>    </tr>    <tr>      <th>Brilux</th>      <td>37</td>      <td>25</td>      <td>23</td>    </tr>    <tr>      <th>Gummibearchen</th>      <td>24</td>      <td>30</td>      <td>14</td>    </tr>    <tr>      <th>officialryzon</th>      <td>25</td>      <td>28</td>      <td>15</td>    </tr>    <tr>      <th>Lubotter2009</th>      <td>23</td>      <td>26</td>      <td>18</td>    </tr>    <tr>      <th>GeneralEnte06</th>      <td>27</td>      <td>28</td>      <td>16</td>    </tr>    <tr>      <th>CrocoCun2020</th>      <td>17</td>      <td>14</td>      <td>6</td>    </tr>    <tr>      <th>tsuneee</th>      <td>24</td>      <td>27</td>      <td>23</td>    </tr>    <tr>      <th>cxl1lo</th>      <td>16</td>      <td>22</td>      <td>13</td>    </tr>    <tr>      <th>Freeeedom</th>      <td>27</td>      <td>25</td>      <td>17</td>    </tr>    <tr>      <th>lizsyy</th>      <td>28</td>      <td>26</td>      <td>18</td>    </tr>    <tr>      <th>Jan2220</th>      <td>20</td>      <td>26</td>      <td>15</td>    </tr>    <tr>      <th>Chander24</th>      <td>19</td>      <td>16</td>      <td>14</td>    </tr>    <tr>      <th>Fflopse</th>      <td>40</td>      <td>42</td>      <td>28</td>    </tr>    <tr>      <th>Ex4cted</th>      <td>27</td>      <td>31</td>      <td>16</td>    </tr>    <tr>      <th>MONSCHKI</th>      <td>8</td>      <td>10</td>      <td>4</td>    </tr>    <tr>      <th>jimmi1410</th>      <td>11</td>      <td>16</td>      <td>9</td>    </tr>  </tbody>'"
      ]
     },
     "execution_count": 52,
     "metadata": {},
     "output_type": "execute_result"
    }
   ],
   "source": [
    "getDataFramePointRecords(\" im \").fillna(0).to_html().replace('\\n', '').replace('<table border=\"1\" class=\"dataframe\">', '').replace('</table>', '').replace(\".0\", \"\")"
   ]
  },
  {
   "cell_type": "code",
   "execution_count": 53,
   "metadata": {},
   "outputs": [
    {
     "data": {
      "text/plain": [
       "'  <thead>    <tr style=\"text-align: right;\">      <th></th>      <th>Cyber Arena</th>      <th>Arabic</th>      <th>Modern</th>    </tr>  </thead>  <tbody>    <tr>      <th>Livgo</th>      <td>15</td>      <td>18</td>      <td>14</td>    </tr>    <tr>      <th>SpeckyCut</th>      <td>12</td>      <td>10</td>      <td>10</td>    </tr>    <tr>      <th>_n3d</th>      <td>20</td>      <td>17</td>      <td>19</td>    </tr>    <tr>      <th>MrMclaren</th>      <td>9</td>      <td>8</td>      <td>11</td>    </tr>    <tr>      <th>Gobo9</th>      <td>19</td>      <td>20</td>      <td>20</td>    </tr>    <tr>      <th>Anni808</th>      <td>11</td>      <td>18</td>      <td>14</td>    </tr>    <tr>      <th>Grapfen</th>      <td>20</td>      <td>25</td>      <td>23</td>    </tr>    <tr>      <th>PixlNight</th>      <td>18</td>      <td>21</td>      <td>16</td>    </tr>    <tr>      <th>Kiritoonroad</th>      <td>23</td>      <td>21</td>      <td>22</td>    </tr>    <tr>      <th>PolizeiDreamy</th>      <td>14</td>      <td>14</td>      <td>14</td>    </tr>    <tr>      <th>Radattel</th>      <td>13</td>      <td>17</td>      <td>12</td>    </tr>    <tr>      <th>DieserBear</th>      <td>17</td>      <td>19</td>      <td>17</td>    </tr>    <tr>      <th>schmaarek</th>      <td>16</td>      <td>23</td>      <td>18</td>    </tr>    <tr>      <th>HerrDante</th>      <td>32</td>      <td>24</td>      <td>25</td>    </tr>    <tr>      <th>StaudammAusHolz</th>      <td>15</td>      <td>15</td>      <td>15</td>    </tr>    <tr>      <th>Kyuudo</th>      <td>16</td>      <td>15</td>      <td>14</td>    </tr>    <tr>      <th>Sey__</th>      <td>15</td>      <td>18</td>      <td>14</td>    </tr>    <tr>      <th>ForceFox</th>      <td>14</td>      <td>10</td>      <td>13</td>    </tr>    <tr>      <th>PedroZockt</th>      <td>25</td>      <td>28</td>      <td>24</td>    </tr>    <tr>      <th>Kokochampo</th>      <td>17</td>      <td>22</td>      <td>15</td>    </tr>    <tr>      <th>cediiiiii_10</th>      <td>19</td>      <td>24</td>      <td>22</td>    </tr>    <tr>      <th>crocodile1870</th>      <td>12</td>      <td>19</td>      <td>13</td>    </tr>    <tr>      <th>Kokochampi</th>      <td>15</td>      <td>15</td>      <td>14</td>    </tr>    <tr>      <th>Brilux</th>      <td>15</td>      <td>20</td>      <td>17</td>    </tr>    <tr>      <th>Gummibearchen</th>      <td>18</td>      <td>22</td>      <td>12</td>    </tr>    <tr>      <th>officialryzon</th>      <td>17</td>      <td>19</td>      <td>21</td>    </tr>    <tr>      <th>Lubotter2009</th>      <td>15</td>      <td>17</td>      <td>16</td>    </tr>    <tr>      <th>GeneralEnte06</th>      <td>21</td>      <td>19</td>      <td>17</td>    </tr>    <tr>      <th>CrocoCun2020</th>      <td>13</td>      <td>3</td>      <td>11</td>    </tr>    <tr>      <th>tsuneee</th>      <td>15</td>      <td>17</td>      <td>17</td>    </tr>    <tr>      <th>cxl1lo</th>      <td>8</td>      <td>19</td>      <td>11</td>    </tr>    <tr>      <th>Freeeedom</th>      <td>15</td>      <td>17</td>      <td>13</td>    </tr>    <tr>      <th>lizsyy</th>      <td>19</td>      <td>21</td>      <td>17</td>    </tr>    <tr>      <th>Jan2220</th>      <td>15</td>      <td>17</td>      <td>19</td>    </tr>    <tr>      <th>Chander24</th>      <td>13</td>      <td>13</td>      <td>12</td>    </tr>    <tr>      <th>Fflopse</th>      <td>27</td>      <td>29</td>      <td>25</td>    </tr>    <tr>      <th>Ex4cted</th>      <td>20</td>      <td>14</td>      <td>17</td>    </tr>    <tr>      <th>MONSCHKI</th>      <td>12</td>      <td>13</td>      <td>12</td>    </tr>    <tr>      <th>jimmi1410</th>      <td>8</td>      <td>14</td>      <td>10</td>    </tr>  </tbody>'"
      ]
     },
     "execution_count": 53,
     "metadata": {},
     "output_type": "execute_result"
    }
   ],
   "source": [
    "getHtmlPointRecords(\"Paint\")"
   ]
  },
  {
   "cell_type": "code",
   "execution_count": 54,
   "metadata": {},
   "outputs": [
    {
     "data": {
      "text/plain": [
       "'  <thead>    <tr style=\"text-align: right;\">      <th></th>      <th>Mountains</th>      <th>Jungle</th>    </tr>  </thead>  <tbody>    <tr>      <th>Livgo</th>      <td>6</td>      <td>5</td>    </tr>    <tr>      <th>SpeckyCut</th>      <td>5</td>      <td>3</td>    </tr>    <tr>      <th>_n3d</th>      <td>8</td>      <td>6</td>    </tr>    <tr>      <th>MrMclaren</th>      <td>5</td>      <td>3</td>    </tr>    <tr>      <th>Gobo9</th>      <td>7</td>      <td>6</td>    </tr>    <tr>      <th>Anni808</th>      <td>6</td>      <td>3</td>    </tr>    <tr>      <th>Grapfen</th>      <td>8</td>      <td>7</td>    </tr>    <tr>      <th>PixlNight</th>      <td>6</td>      <td>4</td>    </tr>    <tr>      <th>Kiritoonroad</th>      <td>9</td>      <td>6</td>    </tr>    <tr>      <th>PolizeiDreamy</th>      <td>4</td>      <td>5</td>    </tr>    <tr>      <th>Radattel</th>      <td>6</td>      <td>5</td>    </tr>    <tr>      <th>DieserBear</th>      <td>8</td>      <td>6</td>    </tr>    <tr>      <th>schmaarek</th>      <td>5</td>      <td>6</td>    </tr>    <tr>      <th>HerrDante</th>      <td>8</td>      <td>5</td>    </tr>    <tr>      <th>StaudammAusHolz</th>      <td>3</td>      <td>4</td>    </tr>    <tr>      <th>Kyuudo</th>      <td>5</td>      <td>4</td>    </tr>    <tr>      <th>Sey__</th>      <td>5</td>      <td>6</td>    </tr>    <tr>      <th>ForceFox</th>      <td>4</td>      <td>5</td>    </tr>    <tr>      <th>PedroZockt</th>      <td>11</td>      <td>7</td>    </tr>    <tr>      <th>Kokochampo</th>      <td>3</td>      <td>7</td>    </tr>    <tr>      <th>cediiiiii_10</th>      <td>6</td>      <td>8</td>    </tr>    <tr>      <th>crocodile1870</th>      <td>6</td>      <td>6</td>    </tr>    <tr>      <th>Kokochampi</th>      <td>3</td>      <td>3</td>    </tr>    <tr>      <th>Brilux</th>      <td>6</td>      <td>5</td>    </tr>    <tr>      <th>Gummibearchen</th>      <td>6</td>      <td>7</td>    </tr>    <tr>      <th>officialryzon</th>      <td>7</td>      <td>6</td>    </tr>    <tr>      <th>Lubotter2009</th>      <td>5</td>      <td>7</td>    </tr>    <tr>      <th>GeneralEnte06</th>      <td>6</td>      <td>7</td>    </tr>    <tr>      <th>CrocoCun2020</th>      <td>3</td>      <td>3</td>    </tr>    <tr>      <th>tsuneee</th>      <td>7</td>      <td>6</td>    </tr>    <tr>      <th>cxl1lo</th>      <td>5</td>      <td>4</td>    </tr>    <tr>      <th>Freeeedom</th>      <td>5</td>      <td>6</td>    </tr>    <tr>      <th>lizsyy</th>      <td>7</td>      <td>8</td>    </tr>    <tr>      <th>Jan2220</th>      <td>7</td>      <td>6</td>    </tr>    <tr>      <th>Chander24</th>      <td>4</td>      <td>5</td>    </tr>    <tr>      <th>Fflopse</th>      <td>8</td>      <td>6</td>    </tr>    <tr>      <th>Ex4cted</th>      <td>8</td>      <td>7</td>    </tr>    <tr>      <th>MONSCHKI</th>      <td>3</td>      <td>3</td>    </tr>    <tr>      <th>jimmi1410</th>      <td>3</td>      <td>5</td>    </tr>  </tbody>'"
      ]
     },
     "execution_count": 54,
     "metadata": {},
     "output_type": "execute_result"
    }
   ],
   "source": [
    "getHtmlPointRecords(\"Spleef\")"
   ]
  }
 ],
 "metadata": {
  "kernelspec": {
   "display_name": "base",
   "language": "python",
   "name": "python3"
  },
  "language_info": {
   "codemirror_mode": {
    "name": "ipython",
    "version": 3
   },
   "file_extension": ".py",
   "mimetype": "text/x-python",
   "name": "python",
   "nbconvert_exporter": "python",
   "pygments_lexer": "ipython3",
   "version": "3.11.5"
  }
 },
 "nbformat": 4,
 "nbformat_minor": 2
}
