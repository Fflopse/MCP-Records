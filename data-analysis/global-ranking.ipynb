{
 "cells": [
  {
   "cell_type": "code",
   "execution_count": 19,
   "metadata": {},
   "outputs": [
    {
     "data": {
      "text/plain": [
       "'\\n    Each Minigame may yield a total of 100 points per player. \\n    Records #1 through #10 are considered \\n\\n    If a minigame has multiple maps, the 100 points are distributed equally. For Sammelwahn and Replika, the sum over all records is considered solely. \\n\\n    E.g. Frozen Path (1 Map Minigame)\\n    #1 player: 100 points\\n    #2 player: 90 points\\n    #3 player: 80 points\\n    ...\\n    #10 player: 10 points\\n\\n    E.g. Schießstand (3 Map Minigame)\\n    Map 1: \\n    #1 player: 100/3 (33.333) points\\n    #2 player: 90/3 (30) points\\n    ...\\n    Map 2:\\n    #1 player: 100/3 (33.333) points\\n    #2 player: 90/3 (30) points\\n    ...\\n    Map 3:\\n    #1 player: 100/3 (33.333) points\\n    #2 player: 90/3 (30) points\\n    ...\\n\\n    E.g. Speed Race (5 Map Minigame)\\n    Map 1:\\n    #1 player: 100/5 (20) points\\n    #2 player: 90/5 (18) points\\n    ...\\n    Map 2:\\n    #1 player: 100/5 (20) points\\n    #2 player: 90/5 (18) points\\n    ...\\n\\n    Thus, a player holding #1 records in a minigame will always be assigned 100 points. \\n'"
      ]
     },
     "execution_count": 19,
     "metadata": {},
     "output_type": "execute_result"
    }
   ],
   "source": [
    "# figuring out the best player over all minigames \n",
    "\n",
    "'''\n",
    "    Each Minigame may yield a total of 100 points per player. \n",
    "    Records #1 through #10 are considered \n",
    "\n",
    "    If a minigame has multiple maps, the 100 points are distributed equally. For Sammelwahn and Replika, the sum over all records is considered solely. \n",
    "\n",
    "    E.g. Frozen Path (1 Map Minigame)\n",
    "    #1 player: 100 points\n",
    "    #2 player: 90 points\n",
    "    #3 player: 80 points\n",
    "    ...\n",
    "    #10 player: 10 points\n",
    "\n",
    "    E.g. Schießstand (3 Map Minigame)\n",
    "    Map 1: \n",
    "    #1 player: 100/3 (33.333) points\n",
    "    #2 player: 90/3 (30) points\n",
    "    ...\n",
    "    Map 2:\n",
    "    #1 player: 100/3 (33.333) points\n",
    "    #2 player: 90/3 (30) points\n",
    "    ...\n",
    "    Map 3:\n",
    "    #1 player: 100/3 (33.333) points\n",
    "    #2 player: 90/3 (30) points\n",
    "    ...\n",
    "\n",
    "    E.g. Speed Race (5 Map Minigame)\n",
    "    Map 1:\n",
    "    #1 player: 100/5 (20) points\n",
    "    #2 player: 90/5 (18) points\n",
    "    ...\n",
    "    Map 2:\n",
    "    #1 player: 100/5 (20) points\n",
    "    #2 player: 90/5 (18) points\n",
    "    ...\n",
    "\n",
    "    Thus, a player holding #1 records in a minigame will always be assigned 100 points. \n",
    "'''"
   ]
  },
  {
   "cell_type": "code",
   "execution_count": 20,
   "metadata": {},
   "outputs": [],
   "source": [
    "import os\n",
    "import re \n",
    "import pandas as pd\n",
    "import seaborn as sns \n",
    "import numpy as np \n",
    "\n",
    "pointMiniGames = \"Sammelwahn, Schießstand, Walls, Mini Survivalgames, Mini Skywars, Lasertag, Minengefecht, Einer im Köcher, Paintball, Spleef, Buntes Chaos, Duelle\" \n",
    "timeMiniGames = \"Wettrennen, Jump and Run, Pferderennen, Drachenflucht, Replika, Blockhüpfer, Todeswürfel, Freier Fall, Elytrarennen, Waffenfolge, Minenfeld, Kletter-König, Ampelrennen, Hoch hinaus, Frostiger Pfad\"\n",
    "\n",
    "def getPlayerPaths():\n",
    "    file_list = os.listdir('in-new')\n",
    "    return file_list\n",
    "\n",
    "def read_file(file):\n",
    "    try:\n",
    "        with open('in-new/' + file, 'r', encoding='utf-8') as f:\n",
    "            data = f.read()\n",
    "    except UnicodeDecodeError:\n",
    "        # print(f'Error: {file} contains invalid characters for UTF-8. Trying with latin-1.')\n",
    "        try:\n",
    "            with open('in-new/' + file, 'r', encoding='latin-1') as f:\n",
    "                data = f.read()\n",
    "        except Exception as e:\n",
    "            print(f'Error: Could not read {file} with latin-1 encoding. {e}')\n",
    "            return None\n",
    "    except FileNotFoundError:\n",
    "        print(f'Error: {file} not found.')\n",
    "        return None\n",
    "    except Exception as e:\n",
    "        print(f'Error: An unexpected error occurred while reading {file}. {e}')\n",
    "        return None\n",
    "\n",
    "    if \"TooltipEvent\" not in data:\n",
    "        print(f'Error: {file} does not contain any TooltipEvent data')\n",
    "        return None\n",
    "    else:\n",
    "        data = data.replace('TooltipEvent, ', '')\n",
    "    \n",
    "    return data\n",
    "\n",
    "\n",
    "def getRecordData(playerPath, minigame):\n",
    "    # if read_file(playerPath) is None: return None\n",
    "\n",
    "    data = read_file(playerPath).split('\\n')\n",
    "    for line in data: \n",
    "        if minigame in line: \n",
    "            minigameData = line\n",
    "            minigameData = minigameData.replace(minigame, '').strip()\n",
    "            return minigameData  # return the data instead of printing it\n",
    "\n",
    "def create_dataframe(input_string, minigame):\n",
    "\n",
    "    # Define regular expression pattern to match map names and times\n",
    "    pattern = r'(\\w+\\s?\\w+)\\s*:\\s*(?:(\\d+)\\s*min\\s*)?(?:(\\d+)\\s*s\\s*)?(\\d+)\\s*ms'\n",
    "\n",
    "    # Find all matches in the input string\n",
    "    try: matches = re.findall(pattern, input_string)\n",
    "    except: matches = None\n",
    "\n",
    "    # Initialize data dictionary to store map names and times\n",
    "    data = {}\n",
    "\n",
    "    # Iterate over matches and populate data dictionary\n",
    "    if matches: \n",
    "        for match in matches:\n",
    "            map_name = match[0]\n",
    "            minutes = int(match[1] or 0)\n",
    "            seconds = int(match[2] or 0) + int(match[3]) / 1000\n",
    "            time_seconds = minutes * 60 + seconds\n",
    "            data[map_name] = time_seconds\n",
    "    else: return pd.DataFrame()\n",
    "\n",
    "    # Create DataFrame from data dictionary\n",
    "    df = pd.DataFrame(data, index=[0])\n",
    "\n",
    "\n",
    "    return df\n",
    "\n",
    "def createPointDataframe(input_string, minigame):\n",
    "    # Define regular expression pattern to match map names and times\n",
    "    pattern = r'(\\w+\\s?\\w+)\\s*:\\s*(\\d+)'\n",
    "\n",
    "    # Find all matches in the input string\n",
    "    matches = re.findall(pattern, input_string)\n",
    "\n",
    "    # Initialize data dictionary to store map names and times\n",
    "    data = {}\n",
    "\n",
    "    # Iterate over matches and populate data dictionary\n",
    "    for match in matches:\n",
    "        map_name = match[0]\n",
    "        time_value = int(match[1])\n",
    "        data[map_name] = time_value\n",
    "\n",
    "    # Create DataFrame from data dictionary\n",
    "    df = pd.DataFrame(data, index=[0])\n",
    "    return df.fillna(0)\n",
    "\n",
    "def getRecordsDataframe(minigame='Wettrennen', save=False, log=False, html=False, rank=True):\n",
    "\n",
    "    paths = getPlayerPaths()\n",
    "\n",
    "    outDf = pd.DataFrame()\n",
    "\n",
    "    if log:\n",
    "        print(f'processing {minigame}...')\n",
    "\n",
    "    if minigame in pointMiniGames: \n",
    "        pass\n",
    "    elif minigame in timeMiniGames:\n",
    "        pass\n",
    "    else: \n",
    "        ValueError('Not a valid minigame name')\n",
    "\n",
    "    for i in paths:\n",
    "        if minigame in timeMiniGames:\n",
    "            df = create_dataframe(getRecordData(playerPath=i, minigame=minigame), minigame)\n",
    "\n",
    "        if minigame in pointMiniGames:\n",
    "            try: \n",
    "                df = createPointDataframe(getRecordData(playerPath=i, minigame=minigame), minigame)\n",
    "                df.fillna(0, inplace=True)\n",
    "            except: \n",
    "                continue\n",
    "\n",
    "        if df is not None:  \n",
    "            df.index = [i.replace('.txt', '')]\n",
    "            outDf = pd.concat([outDf, df])\n",
    "\n",
    "    outPath = 'out/' + minigame + '.json'\n",
    "\n",
    "    '''\n",
    "        Minigame Specific changes to the df\n",
    "    '''\n",
    "\n",
    "    if (\"Replika\" in minigame): \n",
    "\n",
    "        replikaDf = outDf \n",
    "\n",
    "        # fillNa columns without \"ms\" with values from \"ms\", e.g. ms Arrow -> Arrow, then drop \"ms\" columns\n",
    "\n",
    "        try:\n",
    "            replikaDf[\"Arrow\"] = replikaDf[\"Arrow\"].fillna(replikaDf[\"ms Arrow\"])\n",
    "            replikaDf[\"Cow\"] = replikaDf[\"Cow\"].fillna(replikaDf[\"ms Cow\"])\n",
    "            replikaDf[\"Deadpool\"] = replikaDf[\"Deadpool\"].fillna(replikaDf[\"ms Deadpool\"])\n",
    "            replikaDf[\"Doge\"] = replikaDf[\"Doge\"].fillna(replikaDf[\"ms Doge\"])\n",
    "            replikaDf[\"Sonic\"] = replikaDf[\"Sonic\"].fillna(replikaDf[\"ms Sonic\"])\n",
    "\n",
    "            replikaDf.drop(columns=[\"ms Arrow\", \"ms Cow\", \"ms Deadpool\", \"ms Doge\", \"ms Sonic\"], inplace=True)\n",
    "        except: print(\"Warning, >ms< columns not found in ReplikaDf\")\n",
    "\n",
    "        replikaDf.fillna(25, inplace=True) # assigning a value to a never-played-before pattern, 17 perturbs worse player order and alt account stats lol, 27 is probably too much, difficult to choose an appropriate value here\n",
    "        row_sums = replikaDf.sum(axis=1)\n",
    "        \n",
    "        # Append the sum as a new column\n",
    "        replikaDf['Sum'] = row_sums\n",
    "\n",
    "        # Re-indexing\n",
    "        replikaDf = replikaDf.reindex(sorted(replikaDf.columns), axis=1)\n",
    "    \n",
    "        # Move 'Sum' column to the first position\n",
    "        cols = replikaDf.columns.tolist()\n",
    "        cols = ['Sum'] + [col for col in cols if col != 'Sum']\n",
    "        replikaDf = replikaDf[cols]\n",
    "\n",
    "        # replace 25 values again with None\n",
    "        replikaDf = replikaDf.replace(25, np.nan)\n",
    "\n",
    "        # replikaDf = replikaDf.reindex(sorted(replikaDf.columns), axis=1)\n",
    "\n",
    "\n",
    "        # Removing player data with too many NaNs (players that haven't played most of the patterns)\n",
    "        # replikaDf = replikaDf.drop(columns=[\"Ritokii\", \"Feinberg\", \"Sebi1801\"])\n",
    "\n",
    "        outDf = replikaDf\n",
    "\n",
    "    if (\"Sammelwahn\" in minigame):\n",
    "\n",
    "            row_sums = outDf.sum(axis=1)\n",
    "\n",
    "            # Append the sum as a new column\n",
    "            outDf['Sum'] = row_sums\n",
    "\n",
    "            # Re-indexing\n",
    "            outDf = outDf.reindex(sorted(outDf.columns), axis=1)\n",
    "\n",
    "            # Move 'Sum' column to the first position\n",
    "            cols = outDf.columns.tolist()\n",
    "            cols = ['Sum'] + [col.lstrip() for col in cols if col != 'Sum']\n",
    "            outDf = outDf[cols]\n",
    "\n",
    "            # remove \"Punkte\" from all columns\n",
    "            outDf.columns = outDf.columns.str.replace('Punkte', '')\n",
    "\n",
    "    if (\"Lasertag\" in minigame):\n",
    "        # Merge the columns \"tungen Port\" and \"Port\" into one column\n",
    "        \n",
    "        # debug \n",
    "        # print(outDf.columns)\n",
    "\n",
    "        try:\n",
    "\n",
    "            outDf[\"Tötungen Port\"] = outDf[\"Tötungen Port\"].replace(0, np.nan)\n",
    "\n",
    "            outDf[\"temp1\"] = outDf[\"Tötungen Port\"]\n",
    "            try: outDf.drop(columns=[\"Port\"], inplace=True)\n",
    "            except: pass\n",
    "            outDf[\"Port\"] = outDf[\"temp1\"]\n",
    "\n",
    "            outDf[\"Tötungen Neon\"] = outDf[\"Tötungen Neon\"].replace(0, np.nan)\n",
    "\n",
    "            outDf[\"temp2\"] = outDf[\"Tötungen Neon\"]\n",
    "            try: outDf.drop(columns=[\"Neon\"], inplace=True)\n",
    "            except: pass\n",
    "            outDf[\"Neon\"] = outDf[\"temp2\"]\n",
    "\n",
    "            outDf.drop(columns=[\"temp1\", \"temp2\", \"Tötungen Neon\", \"Tötungen Port\"], inplace=True)  \n",
    "\n",
    "        except: pass\n",
    "\n",
    "    if (\"Einer im Köcher\" in minigame):\n",
    "        try:\n",
    "            outDf[\"Tötungen Asia\"] = outDf[\"Tötungen Asia\"].replace(0, np.nan)\n",
    "            outDf[\"Asia\"] = outDf[\"Asia\"].replace(0, np.nan)\n",
    "\n",
    "            outDf[\"temp1\"] = outDf[\"Asia\"].fillna(outDf[\"Tötungen Asia\"])\n",
    "            outDf.drop(columns=[\"Asia\", \"Tötungen Asia\"], inplace=True)\n",
    "        except: pass\n",
    "            \n",
    "        try:\n",
    "            outDf[\"Asia\"] = outDf[\"temp1\"]\n",
    "\n",
    "            outDf[\"Tötungen Japan\"] = outDf[\"Tötungen Japan\"].replace(0, np.nan)\n",
    "            outDf[\"Japan\"] = outDf[\"Tötungen Japan\"]\n",
    "\n",
    "            outDf.drop(columns=[\"temp1\", \"Tötungen Japan\"], inplace=True)\n",
    "        except: pass\n",
    "        \n",
    "    if (\"Paintball\" in minigame):\n",
    "        outDf[\"Tötungen Arabic\"] = outDf[\"Tötungen Arabic\"].replace(0, np.nan)\n",
    "\n",
    "        outDf[\"temp1\"] = outDf[\"Tötungen Arabic\"]\n",
    "        try: outDf.drop(columns=[\"Tötungen Arabic\"], inplace=True)\n",
    "        except: pass\n",
    "        outDf[\"Arabic\"] = outDf[\"temp1\"]\n",
    "\n",
    "        outDf.drop(columns=[\"temp1\"], inplace=True)\n",
    "\n",
    "        # SW Columns: Swamp', 'Tötung Asia', 'Tötungen Asia', 'Tötungen Coconut', 'Wild West', 'tung Asia', 'tungen Asia'\n",
    "\n",
    "    if (\"Mini Skywars\" in minigame):\n",
    "\n",
    "        print(outDf.columns)\n",
    "\n",
    "        outDf[\"Tötungen Asia\"] = outDf[\"Tötungen Asia\"].replace(0, np.nan)\n",
    "        outDf[\"Tötung Asia\"] = outDf[\"Tötung Asia\"].replace(0, np.nan)\n",
    "        outDf[\"Asia\"] = outDf[\"Asia\"].replace(0, np.nan)\n",
    "        #outDf[\"tung Asia\"] = outDf[\"tung Asia\"].replace(0, np.nan)\n",
    "        \n",
    "        outDf[\"temp1\"] = outDf[\"Tötung Asia\"]\n",
    "\n",
    "        outDf[\"temp1\"] = outDf[\"Tötungen Asia\"].fillna(outDf[\"Tötung Asia\"])\n",
    "        outDf[\"temp1\"] = outDf[\"temp1\"].fillna(outDf[\"Asia\"])\n",
    "        #outDf[\"temp1\"] = outDf[\"Tötungen Asia\"].fillna(outDf[\"tung Asia\"])\n",
    "        try: outDf.drop(columns=[\"Tötung Asia\", \"Tötungen Asia\", \"Asia\"], inplace=True)\n",
    "        except: pass\n",
    "        outDf[\"Asia\"] = outDf[\"temp1\"]\n",
    "\n",
    "        outDf[\"Tötungen Coconut\"] = outDf[\"Tötungen Coconut\"].replace(0, np.nan)\n",
    "        #outDf[\"tungen Coconut\"] = outDf[\"tungen Coconut\"].replace(0, np.nan)\n",
    "\n",
    "        #outDf[\"temp2\"] = outDf[\"tungen Coconut\"].fillna(outDf[\"Tötungen Coconut\"])\n",
    "        try: outDf.drop(columns=[\"tungen Coconut\", \"Tötungen Coconut\"], inplace=True)\n",
    "        except: pass\n",
    "        #outDf[\"Coconut\"] = outDf[\"temp2\"]\n",
    "\n",
    "        outDf[\"Rust\"] = outDf[\"Tötungen Rust\"]\n",
    "        outDf.drop(columns=[\"Tötungen Rust\"], inplace=True)\n",
    "\n",
    "        outDf.drop(columns=[\"temp1\"], inplace=True)\n",
    "\n",
    "        outDf[\"Tötungen Coconut\"] = outDf[\"Tötungen Coconut\"].replace(0, np.nan).fillna(outDf[\"Tötung Coconut\"])\n",
    "\n",
    "        outDf[\"temp1\"] = outDf[\"Tötungen Coconut\"]\n",
    "        try: outDf.drop(columns=[\"Tötungen Coconut\"], inplace=True)\n",
    "        except: pass\n",
    "        outDf[\"Coconut\"] = outDf[\"temp1\"]\n",
    "\n",
    "        outDf.drop(columns=[\"temp1\", \"Tötung Coconut\"], inplace=True)\n",
    "\n",
    "        outDf[\"Tötung Rust\"] = outDf[\"Tötung Rust\"].replace(0, np.nan)\n",
    "        outDf[\"Rust\"] = outDf[\"Rust\"].fillna(outDf[\"Tötung Rust\"])\n",
    "\n",
    "        try: \n",
    "            outDf.drop(columns=[\"Tötung Rust\"], inplace=True)\n",
    "        except: pass\n",
    "\n",
    "    if (\"Mini Survivalgames\" in minigame and True):\n",
    "        #outDf[\"Tötungen Prison\"] = outDf[\"Tótungen Prison\"].replace(0, np.nan)\n",
    "        outDf[\"Tötung Prison\"] = outDf[\"Tötung Prison\"].replace(0, np.nan)\n",
    "        outDf[\"Prison\"] = outDf[\"Prison\"].replace(0, np.nan)\n",
    "        # outDf[\"Prison\"] = outDf[\"Prison\"].fillna(outDf[\"Tötungen Prison\"])\n",
    "        outDf[\"Prison\"] = outDf[\"Prison\"].fillna(outDf[\"Tötung Prison\"])\n",
    "\n",
    "        try:\n",
    "            outDf.drop(columns=[\"Tötungen Prison\", \"Tötung Prison\"], inplace=True)\n",
    "        except: pass\n",
    "\n",
    "    if (\"Minengefecht\" in minigame):\n",
    "        outDf[\"Tötungen Overworld\"] = outDf[\"Tötungen Overworld\"].replace(0, np.nan)\n",
    "        outDf[\"Overworld\"] = outDf[\"Overworld\"].replace(0, np.nan)\n",
    "\n",
    "        outDf[\"temp1\"] = outDf[\"Overworld\"].fillna(outDf[\"Tötungen Overworld\"])\n",
    "        outDf[\"temp1\"] = outDf[\"temp1\"]\n",
    "\n",
    "        try: outDf.drop(columns=[\"Overworld\", \"Tötungen Overworld\"], inplace=True)\n",
    "        except: pass\n",
    "        outDf[\"Overworld\"] = outDf[\"temp1\"]\n",
    "\n",
    "        outDf.drop(columns=[\"temp1\"], inplace=True)\n",
    "        \n",
    "        outDf[\"Tötungen Ruin\"] = outDf[\"Tötungen Ruin\"].replace(0, np.nan)\n",
    "\n",
    "        outDf[\"temp2\"] = outDf[\"Tötungen Ruin\"]\n",
    "        try: outDf.drop(columns=[\"Tötungen Ruin\"], inplace=True)\n",
    "        except: pass\n",
    "        outDf[\"Ruin\"] = outDf[\"temp2\"]\n",
    "\n",
    "        outDf.drop(columns=[\"temp2\"], inplace=True)\n",
    "\n",
    "        try: outDf.drop(columns=[\"Tötung Overworld\", \"Tötung Ruin\"], inplace=True)\n",
    "        except: pass\n",
    "\n",
    "    if (\"Walls\" in minigame):\n",
    "        \n",
    "        outDf[\"Tötungen Grass\"] = outDf[\"Tötungen Grass\"].replace(0, np.nan)\n",
    "        outDf[\"Grass\"] = outDf[\"Grass\"].replace(0, np.nan)\n",
    "        outDf[\"Tötung Grass\"] = outDf[\"Tötung Grass\"].replace(0, np.nan)\n",
    "\n",
    "        outDf[\"temp1\"] = outDf[\"Grass\"].fillna(outDf[\"Tötungen Grass\"])\n",
    "        outDf[\"temp1\"] = outDf[\"temp1\"].fillna(outDf[\"Tötung Grass\"])\n",
    "\n",
    "        try: outDf.drop(columns=[\"Grass\", \"Tötungen Grass\", \"Tötung Grass\"], inplace=True)\n",
    "        except: pass\n",
    "\n",
    "        outDf[\"Grass\"] = outDf[\"temp1\"]\n",
    "\n",
    "        outDf.drop(columns=[\"temp1\"], inplace=True)\n",
    "        \n",
    "        outDf[\"Tötungen Vulcano\"] = outDf[\"Tötungen Vulcano\"].replace(0, np.nan)\n",
    "\n",
    "        outDf[\"temp2\"] = outDf[\"Tötungen Vulcano\"]\n",
    "        try: outDf.drop(columns=[\"Tötungen Vulcano\"], inplace=True)\n",
    "        except: pass\n",
    "        outDf[\"Vulcano\"] = outDf[\"temp2\"]\n",
    "\n",
    "        outDf.drop(columns=[\"temp2\"], inplace=True)\n",
    "\n",
    "        try: outDf.drop(columns=[\"Tötung Vulcano\"], inplace=True)\n",
    "        except: pass\n",
    "\n",
    "    if (\"Schie\" in minigame):\n",
    "        outDf[\"Punkte City\"] = outDf[\"Punkte City\"].replace(0, np.nan)\n",
    "        outDf[\"City\"] = outDf[\"City\"].replace(0, np.nan)\n",
    "\n",
    "        outDf[\"temp1\"] = outDf[\"City\"].fillna(outDf[\"Punkte City\"])\n",
    "        try: outDf.drop(columns=[\"City\", \"Punkte City\"], inplace=True)\n",
    "        except: pass\n",
    "\n",
    "        outDf[\"City\"] = outDf[\"temp1\"]\n",
    "\n",
    "        outDf[\"Punkte Jungle\"] = outDf[\"Punkte Jungle\"].replace(0, np.nan)\n",
    "\n",
    "        outDf[\"temp1\"] = outDf[\"Punkte Jungle\"]\n",
    "        try: outDf.drop(columns=[\"Punkte Jungle\"], inplace=True)\n",
    "        except: pass\n",
    "\n",
    "        outDf[\"Jungle\"] = outDf[\"temp1\"]\n",
    "\n",
    "        outDf.drop(columns=[\"temp1\"], inplace=True)\n",
    "        \n",
    "    if (\"Frostiger\" in minigame): \n",
    "        # remove values bigger than 100 with nan\n",
    "        outDf = outDf.where(outDf < 100, np.nan)\n",
    "\n",
    "    if (\"Duel\" in minigame): \n",
    "        outDf = outDf.where(outDf > 10, 0.0)\n",
    "\n",
    "    if (\"Einer im Köcher\" in minigame):\n",
    "\n",
    "        try:\n",
    "            outDf[\"Tötung Asia\"] = outDf[\"Tötung Asia\"].replace(0, np.nan)\n",
    "            outDf[\"Asia\"] = outDf[\"Asia\"].replace(0, np.nan)\n",
    "\n",
    "            outDf[\"temp1\"] = outDf[\"Asia\"].fillna(outDf[\"Tötung Asia\"])\n",
    "            outDf.drop(columns=[\"Asia\", \"Tötung Asia\"], inplace=True)\n",
    "            \n",
    "            outDf[\"Asia\"] = outDf[\"temp1\"]\n",
    "\n",
    "            outDf.drop(columns=[\"temp1\"], inplace=True)\n",
    "        except: pass\n",
    "\n",
    "    if (\"Buntes\" in minigame):\n",
    "        outDf = outDf.fillna(0)\n",
    "        \n",
    "        outDf['temp1'] = outDf[\"Runden Cyberpunk\"].fillna(outDf[\"Cyberpunk\"])\n",
    "        outDf.drop(columns=[\"Runden Cyberpunk\", \"Cyberpunk\"], inplace=True)\n",
    "\n",
    "        outDf['Cyberpunk'] = outDf['temp1']\n",
    "\n",
    "        outDf.drop(columns=[\"temp1\"], inplace=True)\n",
    "\n",
    "    if (\"Pferd\" in minigame):\n",
    "        outDf[\"s Arena\"] = outDf[\"s Arena\"].replace(0, np.nan)\n",
    "        outDf[\"Wario's Arena\"] = outDf[\"s Arena\"]\n",
    "\n",
    "        outDf.drop(columns=[\"s Arena\"], inplace=True)\n",
    "\n",
    "\n",
    "    # Sorting columns alphabetically for any outDf except if minigame == \"Replika\" (sum column)\n",
    "    \n",
    "    if (\"Replika\" not in minigame):\n",
    "        if (\"Sammelwahn\" not in minigame):\n",
    "            outDf = outDf.reindex(sorted(outDf.columns), axis=1)\n",
    "\n",
    "\n",
    "\n",
    "\n",
    "    '''\n",
    "        debugging options\n",
    "    '''\n",
    "        \n",
    "    if save: \n",
    "        if \"Replika\" in minigame: \n",
    "            json_df = outDf.iloc[:, 1:]\n",
    "            json_df.T.to_json(outPath)\n",
    "        \n",
    "        else: outDf.T.to_json(outPath) \n",
    "\n",
    "    if log: \n",
    "        print(f'{minigame} processed')\n",
    "    \n",
    "    if rank: \n",
    "        if minigame in pointMiniGames: \n",
    "            outDf = outDf.rank(ascending=False, method='min', axis=0)\n",
    "        if minigame in timeMiniGames:\n",
    "            outDf = outDf.rank(ascending=True, method='min', axis=0)\n",
    "\n",
    "    if html == False: \n",
    "        return outDf"
   ]
  },
  {
   "cell_type": "code",
   "execution_count": 21,
   "metadata": {},
   "outputs": [
    {
     "name": "stdout",
     "output_type": "stream",
     "text": [
      "processing Schießstand...\n",
      "Schießstand processed\n"
     ]
    },
    {
     "data": {
      "text/plain": [
       "City      2.0\n",
       "Farm      2.0\n",
       "Jungle    2.0\n",
       "Name: Fflopse, dtype: float64"
      ]
     },
     "execution_count": 21,
     "metadata": {},
     "output_type": "execute_result"
    }
   ],
   "source": [
    "df = getRecordsDataframe(minigame='Schießstand', save=False, log=True, html=False, rank=True)\n",
    "\n",
    "df.loc['Fflopse']\n",
    "\n",
    "# df.columns"
   ]
  },
  {
   "cell_type": "code",
   "execution_count": 22,
   "metadata": {},
   "outputs": [],
   "source": [
    "def getBestPlayer(minigame='Wettrennen'):\n",
    "    df = getRecordsDataframe(minigame=minigame, save=False, log=True, html=False, rank=True)\n",
    "\n",
    "    num_cols = len(df.columns) \n",
    "\n",
    "    '''\n",
    "    Each Minigame may yield a total of 100 points per player. \n",
    "    Records #1 through #10 are considered \n",
    "\n",
    "    If a minigame has multiple maps, the 100 points are distributed equally. For Sammelwahn and Replika, the sum over all records is considered solely. \n",
    "\n",
    "    E.g. Frozen Path (1 Map Minigame)\n",
    "    #1 player: 100 points\n",
    "    #2 player: 90 points\n",
    "    #3 player: 80 points\n",
    "    ...\n",
    "    #10 player: 10 points\n",
    "\n",
    "    E.g. Schießstand (3 Map Minigame)\n",
    "    Map 1: \n",
    "    #1 player: 100/3 (33.333) points\n",
    "    #2 player: 90/3 (30) points\n",
    "    ...\n",
    "    Map 2:\n",
    "    #1 player: 100/3 (33.333) points\n",
    "    #2 player: 90/3 (30) points\n",
    "    ...\n",
    "    Map 3:\n",
    "    #1 player: 100/3 (33.333) points\n",
    "    #2 player: 90/3 (30) points\n",
    "    ...\n",
    "\n",
    "    E.g. Speed Race (5 Map Minigame)\n",
    "    Map 1:\n",
    "    #1 player: 100/5 (20) points\n",
    "    #2 player: 90/5 (18) points\n",
    "    ...\n",
    "    Map 2:\n",
    "    #1 player: 100/5 (20) points\n",
    "    #2 player: 90/5 (18) points\n",
    "    ...\n",
    "\n",
    "    Thus, a player holding #1 records in a minigame will always be assigned 100 points. \n",
    "    '''\n",
    "\n",
    "    # fill values > 10.0 with 0\n",
    "    df = df.where(df < 10.0, 0)\n",
    "\n",
    "    # replace the rank values in the dataframe with the apprpriate score values\n",
    "\n",
    "    if minigame in pointMiniGames:\n",
    "        df = df.replace({1.0: 100, 2.0: 90, 3.0: 80, 4.0: 70, 5.0: 60, 6.0: 50, 7.0: 40, 8.0: 30, 9.0: 20, 10.0: 10})\n",
    "    if minigame in timeMiniGames:\n",
    "        df = df.replace({1.0: 100, 2.0: 90, 3.0: 80, 4.0: 70, 5.0: 60, 6.0: 50, 7.0: 40, 8.0: 30, 9.0: 20, 10.0: 10})\n",
    "\n",
    "    # sum the scores for each player\n",
    "    df['PointSum'] = df.sum(axis=1) / num_cols\n",
    "\n",
    "    # sort the dataframe by the PointSum column\n",
    "    df = df.sort_values(by='PointSum', ascending=False)\n",
    "\n",
    "    # for Sammelwahn and Replika, simply get the points from the sum column\n",
    "    if minigame in \"Sammelwahn Replika\":\n",
    "        df['Pointsum'] = df['Sum']\n",
    "\n",
    "    return df\n",
    "    "
   ]
  },
  {
   "cell_type": "code",
   "execution_count": 23,
   "metadata": {},
   "outputs": [],
   "source": [
    "# getBestPlayer(minigame='Wettrennen')"
   ]
  },
  {
   "cell_type": "code",
   "execution_count": 24,
   "metadata": {},
   "outputs": [
    {
     "name": "stdout",
     "output_type": "stream",
     "text": [
      "processing Sammelwahn...\n",
      "Sammelwahn processed\n",
      "processing Schießstand...\n",
      "Schießstand processed\n",
      "processing Walls...\n",
      "Walls processed\n",
      "processing Mini Survivalgames...\n",
      "Mini Survivalgames processed\n",
      "processing Lasertag...\n",
      "Lasertag processed\n",
      "processing Minengefecht...\n",
      "Minengefecht processed\n",
      "processing Einer im Köcher...\n",
      "Einer im Köcher processed\n",
      "processing Spleef...\n",
      "Spleef processed\n",
      "processing Buntes Chaos...\n",
      "Buntes Chaos processed\n",
      "processing Duelle...\n",
      "Duelle processed\n",
      "processing Wettrennen...\n",
      "Wettrennen processed\n",
      "processing Jump and Run...\n",
      "Jump and Run processed\n",
      "processing Pferderennen...\n",
      "Pferderennen processed\n",
      "processing Drachenflucht...\n",
      "Drachenflucht processed\n",
      "processing Replika...\n",
      "Warning, >ms< columns not found in ReplikaDf\n",
      "Replika processed\n",
      "processing Todeswürfel...\n",
      "Todeswürfel processed\n",
      "processing Freier Fall...\n",
      "Freier Fall processed\n",
      "processing Elytrarennen...\n",
      "Elytrarennen processed\n",
      "processing Waffenfolge...\n",
      "Waffenfolge processed\n",
      "processing Minenfeld...\n",
      "Minenfeld processed\n",
      "processing Kletter-König...\n",
      "Kletter-König processed\n",
      "processing Ampelrennen...\n",
      "Ampelrennen processed\n",
      "processing Hoch hinaus...\n",
      "Hoch hinaus processed\n",
      "processing Frostiger Pfad...\n",
      "Frostiger Pfad processed\n"
     ]
    }
   ],
   "source": [
    "for minigame in (pointMiniGames + \", \" + timeMiniGames).split(', '): \n",
    "    if minigame not in [\"Mini Skywars\", \"Blockhüpfer\", \"Paintball\"]:\n",
    "        temp = getBestPlayer(minigame=minigame)\n",
    "\n",
    "        # rename PointSum to minigame name\n",
    "        temp.rename(columns={'PointSum': minigame}, inplace=True)\n",
    "\n",
    "        # drop all columns but the pointDf column\n",
    "        temp = temp[[minigame]]\n",
    "\n",
    "        # concat all minigame dataframes\n",
    "        try: \n",
    "            outDf = pd.concat([outDf, temp], axis=1)\n",
    "        except: \n",
    "            outDf = temp\n"
   ]
  },
  {
   "cell_type": "code",
   "execution_count": 25,
   "metadata": {},
   "outputs": [
    {
     "data": {
      "text/html": [
       "<div>\n",
       "<style scoped>\n",
       "    .dataframe tbody tr th:only-of-type {\n",
       "        vertical-align: middle;\n",
       "    }\n",
       "\n",
       "    .dataframe tbody tr th {\n",
       "        vertical-align: top;\n",
       "    }\n",
       "\n",
       "    .dataframe thead th {\n",
       "        text-align: right;\n",
       "    }\n",
       "</style>\n",
       "<table border=\"1\" class=\"dataframe\">\n",
       "  <thead>\n",
       "    <tr style=\"text-align: right;\">\n",
       "      <th></th>\n",
       "      <th>Schießstand</th>\n",
       "      <th>Schießstand</th>\n",
       "      <th>Schießstand</th>\n",
       "      <th>Schießstand</th>\n",
       "    </tr>\n",
       "  </thead>\n",
       "  <tbody>\n",
       "    <tr>\n",
       "      <th>cediiiiii_10</th>\n",
       "      <td>26.666667</td>\n",
       "      <td>26.666667</td>\n",
       "      <td>26.666667</td>\n",
       "      <td>26.666667</td>\n",
       "    </tr>\n",
       "    <tr>\n",
       "      <th>Gobo9</th>\n",
       "      <td>43.333333</td>\n",
       "      <td>43.333333</td>\n",
       "      <td>43.333333</td>\n",
       "      <td>43.333333</td>\n",
       "    </tr>\n",
       "    <tr>\n",
       "      <th>Gerrygames</th>\n",
       "      <td>0.000000</td>\n",
       "      <td>0.000000</td>\n",
       "      <td>0.000000</td>\n",
       "      <td>0.000000</td>\n",
       "    </tr>\n",
       "    <tr>\n",
       "      <th>Sower_</th>\n",
       "      <td>0.000000</td>\n",
       "      <td>0.000000</td>\n",
       "      <td>0.000000</td>\n",
       "      <td>0.000000</td>\n",
       "    </tr>\n",
       "    <tr>\n",
       "      <th>Fflopse</th>\n",
       "      <td>90.000000</td>\n",
       "      <td>90.000000</td>\n",
       "      <td>90.000000</td>\n",
       "      <td>90.000000</td>\n",
       "    </tr>\n",
       "    <tr>\n",
       "      <th>...</th>\n",
       "      <td>...</td>\n",
       "      <td>...</td>\n",
       "      <td>...</td>\n",
       "      <td>...</td>\n",
       "    </tr>\n",
       "    <tr>\n",
       "      <th>Joy_8oy</th>\n",
       "      <td>0.000000</td>\n",
       "      <td>0.000000</td>\n",
       "      <td>0.000000</td>\n",
       "      <td>0.000000</td>\n",
       "    </tr>\n",
       "    <tr>\n",
       "      <th>shellny</th>\n",
       "      <td>NaN</td>\n",
       "      <td>NaN</td>\n",
       "      <td>NaN</td>\n",
       "      <td>NaN</td>\n",
       "    </tr>\n",
       "    <tr>\n",
       "      <th>DieserBear</th>\n",
       "      <td>NaN</td>\n",
       "      <td>NaN</td>\n",
       "      <td>NaN</td>\n",
       "      <td>NaN</td>\n",
       "    </tr>\n",
       "    <tr>\n",
       "      <th>juvona</th>\n",
       "      <td>NaN</td>\n",
       "      <td>NaN</td>\n",
       "      <td>NaN</td>\n",
       "      <td>NaN</td>\n",
       "    </tr>\n",
       "    <tr>\n",
       "      <th>JOW24</th>\n",
       "      <td>NaN</td>\n",
       "      <td>NaN</td>\n",
       "      <td>NaN</td>\n",
       "      <td>NaN</td>\n",
       "    </tr>\n",
       "  </tbody>\n",
       "</table>\n",
       "<p>207 rows × 4 columns</p>\n",
       "</div>"
      ],
      "text/plain": [
       "              Schießstand  Schießstand  Schießstand  Schießstand\n",
       "cediiiiii_10    26.666667    26.666667    26.666667    26.666667\n",
       "Gobo9           43.333333    43.333333    43.333333    43.333333\n",
       "Gerrygames       0.000000     0.000000     0.000000     0.000000\n",
       "Sower_           0.000000     0.000000     0.000000     0.000000\n",
       "Fflopse         90.000000    90.000000    90.000000    90.000000\n",
       "...                   ...          ...          ...          ...\n",
       "Joy_8oy          0.000000     0.000000     0.000000     0.000000\n",
       "shellny               NaN          NaN          NaN          NaN\n",
       "DieserBear            NaN          NaN          NaN          NaN\n",
       "juvona                NaN          NaN          NaN          NaN\n",
       "JOW24                 NaN          NaN          NaN          NaN\n",
       "\n",
       "[207 rows x 4 columns]"
      ]
     },
     "execution_count": 25,
     "metadata": {},
     "output_type": "execute_result"
    }
   ],
   "source": [
    "outDf['Schießstand']"
   ]
  },
  {
   "cell_type": "code",
   "execution_count": 26,
   "metadata": {},
   "outputs": [
    {
     "name": "stdout",
     "output_type": "stream",
     "text": [
      "processing Schießstand...\n",
      "Schießstand processed\n"
     ]
    },
    {
     "data": {
      "text/html": [
       "<div>\n",
       "<style scoped>\n",
       "    .dataframe tbody tr th:only-of-type {\n",
       "        vertical-align: middle;\n",
       "    }\n",
       "\n",
       "    .dataframe tbody tr th {\n",
       "        vertical-align: top;\n",
       "    }\n",
       "\n",
       "    .dataframe thead th {\n",
       "        text-align: right;\n",
       "    }\n",
       "</style>\n",
       "<table border=\"1\" class=\"dataframe\">\n",
       "  <thead>\n",
       "    <tr style=\"text-align: right;\">\n",
       "      <th></th>\n",
       "      <th>City</th>\n",
       "      <th>Farm</th>\n",
       "      <th>Jungle</th>\n",
       "      <th>PointSum</th>\n",
       "    </tr>\n",
       "  </thead>\n",
       "  <tbody>\n",
       "    <tr>\n",
       "      <th>Fflopse</th>\n",
       "      <td>90.0</td>\n",
       "      <td>90.0</td>\n",
       "      <td>90.0</td>\n",
       "      <td>90.000000</td>\n",
       "    </tr>\n",
       "    <tr>\n",
       "      <th>Ex4cted</th>\n",
       "      <td>100.0</td>\n",
       "      <td>70.0</td>\n",
       "      <td>70.0</td>\n",
       "      <td>80.000000</td>\n",
       "    </tr>\n",
       "    <tr>\n",
       "      <th>JOW23</th>\n",
       "      <td>30.0</td>\n",
       "      <td>90.0</td>\n",
       "      <td>100.0</td>\n",
       "      <td>73.333333</td>\n",
       "    </tr>\n",
       "    <tr>\n",
       "      <th>HerrDante</th>\n",
       "      <td>50.0</td>\n",
       "      <td>30.0</td>\n",
       "      <td>80.0</td>\n",
       "      <td>53.333333</td>\n",
       "    </tr>\n",
       "    <tr>\n",
       "      <th>Squashgitter333</th>\n",
       "      <td>0.0</td>\n",
       "      <td>100.0</td>\n",
       "      <td>50.0</td>\n",
       "      <td>50.000000</td>\n",
       "    </tr>\n",
       "    <tr>\n",
       "      <th>...</th>\n",
       "      <td>...</td>\n",
       "      <td>...</td>\n",
       "      <td>...</td>\n",
       "      <td>...</td>\n",
       "    </tr>\n",
       "    <tr>\n",
       "      <th>IchHolzDichWeg</th>\n",
       "      <td>0.0</td>\n",
       "      <td>0.0</td>\n",
       "      <td>0.0</td>\n",
       "      <td>0.000000</td>\n",
       "    </tr>\n",
       "    <tr>\n",
       "      <th>Jan2220</th>\n",
       "      <td>0.0</td>\n",
       "      <td>0.0</td>\n",
       "      <td>0.0</td>\n",
       "      <td>0.000000</td>\n",
       "    </tr>\n",
       "    <tr>\n",
       "      <th>Janne4k</th>\n",
       "      <td>0.0</td>\n",
       "      <td>0.0</td>\n",
       "      <td>0.0</td>\n",
       "      <td>0.000000</td>\n",
       "    </tr>\n",
       "    <tr>\n",
       "      <th>JayMinInSane</th>\n",
       "      <td>0.0</td>\n",
       "      <td>0.0</td>\n",
       "      <td>0.0</td>\n",
       "      <td>0.000000</td>\n",
       "    </tr>\n",
       "    <tr>\n",
       "      <th>__ege</th>\n",
       "      <td>0.0</td>\n",
       "      <td>0.0</td>\n",
       "      <td>0.0</td>\n",
       "      <td>0.000000</td>\n",
       "    </tr>\n",
       "  </tbody>\n",
       "</table>\n",
       "<p>203 rows × 4 columns</p>\n",
       "</div>"
      ],
      "text/plain": [
       "                  City   Farm  Jungle   PointSum\n",
       "Fflopse           90.0   90.0    90.0  90.000000\n",
       "Ex4cted          100.0   70.0    70.0  80.000000\n",
       "JOW23             30.0   90.0   100.0  73.333333\n",
       "HerrDante         50.0   30.0    80.0  53.333333\n",
       "Squashgitter333    0.0  100.0    50.0  50.000000\n",
       "...                ...    ...     ...        ...\n",
       "IchHolzDichWeg     0.0    0.0     0.0   0.000000\n",
       "Jan2220            0.0    0.0     0.0   0.000000\n",
       "Janne4k            0.0    0.0     0.0   0.000000\n",
       "JayMinInSane       0.0    0.0     0.0   0.000000\n",
       "__ege              0.0    0.0     0.0   0.000000\n",
       "\n",
       "[203 rows x 4 columns]"
      ]
     },
     "execution_count": 26,
     "metadata": {},
     "output_type": "execute_result"
    }
   ],
   "source": [
    "getBestPlayer(minigame='Schießstand')"
   ]
  },
  {
   "cell_type": "code",
   "execution_count": 27,
   "metadata": {},
   "outputs": [
    {
     "data": {
      "image/png": "[encoded data removed]",
      "text/plain": [
       "<Figure size 2000x1400 with 1 Axes>"
      ]
     },
     "metadata": {},
     "output_type": "display_data"
    }
   ],
   "source": [
    "import matplotlib.pyplot as plt\n",
    "import plotly.express as px\n",
    "\n",
    "# print(outDf)\n",
    "\n",
    "# sum all lines to get the total score\n",
    "\n",
    "outDf['Total'] = outDf.sum(axis=1)\n",
    "\n",
    "outDf = outDf.sort_values(by='Total', ascending=False).fillna(0)\n",
    "\n",
    "# crop df to the top 10 players and plot the data, as a stacked barplot, place legend outside\n",
    "\n",
    "cropDf = outDf.head(10)\n",
    "\n",
    "cropDf = cropDf.drop(columns=['Total'])\n",
    "\n",
    "cropDf.plot(kind='bar', stacked=True, figsize=(20, 14))\n",
    "\n",
    "plt.legend(loc='center left', bbox_to_anchor=(1.0, 0.5))\n",
    "\n",
    "plt.show()"
   ]
  },
  {
   "cell_type": "code",
   "execution_count": 28,
   "metadata": {},
   "outputs": [
    {
     "data": {
      "text/html": [
       "<div>\n",
       "<style scoped>\n",
       "    .dataframe tbody tr th:only-of-type {\n",
       "        vertical-align: middle;\n",
       "    }\n",
       "\n",
       "    .dataframe tbody tr th {\n",
       "        vertical-align: top;\n",
       "    }\n",
       "\n",
       "    .dataframe thead th {\n",
       "        text-align: right;\n",
       "    }\n",
       "</style>\n",
       "<table border=\"1\" class=\"dataframe\">\n",
       "  <thead>\n",
       "    <tr style=\"text-align: right;\">\n",
       "      <th></th>\n",
       "      <th>Sammelwahn</th>\n",
       "      <th>Schießstand</th>\n",
       "      <th>Walls</th>\n",
       "      <th>Mini Survivalgames</th>\n",
       "      <th>Sammelwahn</th>\n",
       "      <th>Schießstand</th>\n",
       "      <th>Walls</th>\n",
       "      <th>Mini Survivalgames</th>\n",
       "      <th>Lasertag</th>\n",
       "      <th>Minengefecht</th>\n",
       "      <th>...</th>\n",
       "      <th>Todeswürfel</th>\n",
       "      <th>Freier Fall</th>\n",
       "      <th>Elytrarennen</th>\n",
       "      <th>Waffenfolge</th>\n",
       "      <th>Minenfeld</th>\n",
       "      <th>Kletter-König</th>\n",
       "      <th>Ampelrennen</th>\n",
       "      <th>Hoch hinaus</th>\n",
       "      <th>Frostiger Pfad</th>\n",
       "      <th>Total</th>\n",
       "    </tr>\n",
       "  </thead>\n",
       "  <tbody>\n",
       "    <tr>\n",
       "      <th>cediiiiii_10</th>\n",
       "      <td>36.428571</td>\n",
       "      <td>26.666667</td>\n",
       "      <td>86.666667</td>\n",
       "      <td>33.333333</td>\n",
       "      <td>36.428571</td>\n",
       "      <td>26.666667</td>\n",
       "      <td>86.666667</td>\n",
       "      <td>33.333333</td>\n",
       "      <td>20.000000</td>\n",
       "      <td>72.5</td>\n",
       "      <td>...</td>\n",
       "      <td>0.0</td>\n",
       "      <td>0.0</td>\n",
       "      <td>73.333333</td>\n",
       "      <td>60.0</td>\n",
       "      <td>10.000000</td>\n",
       "      <td>46.666667</td>\n",
       "      <td>15.0</td>\n",
       "      <td>60.0</td>\n",
       "      <td>70.0</td>\n",
       "      <td>1830.735321</td>\n",
       "    </tr>\n",
       "    <tr>\n",
       "      <th>Fflopse</th>\n",
       "      <td>19.761905</td>\n",
       "      <td>90.000000</td>\n",
       "      <td>33.333333</td>\n",
       "      <td>6.666667</td>\n",
       "      <td>19.761905</td>\n",
       "      <td>90.000000</td>\n",
       "      <td>33.333333</td>\n",
       "      <td>6.666667</td>\n",
       "      <td>83.333333</td>\n",
       "      <td>10.0</td>\n",
       "      <td>...</td>\n",
       "      <td>0.0</td>\n",
       "      <td>0.0</td>\n",
       "      <td>53.333333</td>\n",
       "      <td>0.0</td>\n",
       "      <td>33.333333</td>\n",
       "      <td>73.333333</td>\n",
       "      <td>45.0</td>\n",
       "      <td>70.0</td>\n",
       "      <td>40.0</td>\n",
       "      <td>1777.756357</td>\n",
       "    </tr>\n",
       "    <tr>\n",
       "      <th>Allooy</th>\n",
       "      <td>15.238095</td>\n",
       "      <td>23.333333</td>\n",
       "      <td>0.000000</td>\n",
       "      <td>33.333333</td>\n",
       "      <td>15.238095</td>\n",
       "      <td>23.333333</td>\n",
       "      <td>0.000000</td>\n",
       "      <td>33.333333</td>\n",
       "      <td>0.000000</td>\n",
       "      <td>47.5</td>\n",
       "      <td>...</td>\n",
       "      <td>0.0</td>\n",
       "      <td>0.0</td>\n",
       "      <td>83.333333</td>\n",
       "      <td>20.0</td>\n",
       "      <td>13.333333</td>\n",
       "      <td>46.666667</td>\n",
       "      <td>0.0</td>\n",
       "      <td>0.0</td>\n",
       "      <td>100.0</td>\n",
       "      <td>1358.316459</td>\n",
       "    </tr>\n",
       "    <tr>\n",
       "      <th>Gobo9</th>\n",
       "      <td>30.238095</td>\n",
       "      <td>43.333333</td>\n",
       "      <td>46.666667</td>\n",
       "      <td>20.000000</td>\n",
       "      <td>30.238095</td>\n",
       "      <td>43.333333</td>\n",
       "      <td>46.666667</td>\n",
       "      <td>20.000000</td>\n",
       "      <td>20.000000</td>\n",
       "      <td>50.0</td>\n",
       "      <td>...</td>\n",
       "      <td>0.0</td>\n",
       "      <td>0.0</td>\n",
       "      <td>6.666667</td>\n",
       "      <td>0.0</td>\n",
       "      <td>0.000000</td>\n",
       "      <td>26.666667</td>\n",
       "      <td>50.0</td>\n",
       "      <td>30.0</td>\n",
       "      <td>90.0</td>\n",
       "      <td>1307.936200</td>\n",
       "    </tr>\n",
       "    <tr>\n",
       "      <th>JOW23</th>\n",
       "      <td>0.952381</td>\n",
       "      <td>73.333333</td>\n",
       "      <td>36.666667</td>\n",
       "      <td>16.666667</td>\n",
       "      <td>0.952381</td>\n",
       "      <td>73.333333</td>\n",
       "      <td>36.666667</td>\n",
       "      <td>16.666667</td>\n",
       "      <td>40.000000</td>\n",
       "      <td>52.5</td>\n",
       "      <td>...</td>\n",
       "      <td>0.0</td>\n",
       "      <td>0.0</td>\n",
       "      <td>0.000000</td>\n",
       "      <td>100.0</td>\n",
       "      <td>0.000000</td>\n",
       "      <td>0.000000</td>\n",
       "      <td>10.0</td>\n",
       "      <td>0.0</td>\n",
       "      <td>0.0</td>\n",
       "      <td>1056.694637</td>\n",
       "    </tr>\n",
       "    <tr>\n",
       "      <th>...</th>\n",
       "      <td>...</td>\n",
       "      <td>...</td>\n",
       "      <td>...</td>\n",
       "      <td>...</td>\n",
       "      <td>...</td>\n",
       "      <td>...</td>\n",
       "      <td>...</td>\n",
       "      <td>...</td>\n",
       "      <td>...</td>\n",
       "      <td>...</td>\n",
       "      <td>...</td>\n",
       "      <td>...</td>\n",
       "      <td>...</td>\n",
       "      <td>...</td>\n",
       "      <td>...</td>\n",
       "      <td>...</td>\n",
       "      <td>...</td>\n",
       "      <td>...</td>\n",
       "      <td>...</td>\n",
       "      <td>...</td>\n",
       "      <td>...</td>\n",
       "    </tr>\n",
       "    <tr>\n",
       "      <th>Steavn</th>\n",
       "      <td>0.000000</td>\n",
       "      <td>0.000000</td>\n",
       "      <td>0.000000</td>\n",
       "      <td>0.000000</td>\n",
       "      <td>0.000000</td>\n",
       "      <td>0.000000</td>\n",
       "      <td>0.000000</td>\n",
       "      <td>0.000000</td>\n",
       "      <td>0.000000</td>\n",
       "      <td>0.0</td>\n",
       "      <td>...</td>\n",
       "      <td>0.0</td>\n",
       "      <td>0.0</td>\n",
       "      <td>0.000000</td>\n",
       "      <td>0.0</td>\n",
       "      <td>0.000000</td>\n",
       "      <td>0.000000</td>\n",
       "      <td>0.0</td>\n",
       "      <td>0.0</td>\n",
       "      <td>0.0</td>\n",
       "      <td>0.000000</td>\n",
       "    </tr>\n",
       "    <tr>\n",
       "      <th>Tammywood</th>\n",
       "      <td>0.000000</td>\n",
       "      <td>0.000000</td>\n",
       "      <td>0.000000</td>\n",
       "      <td>0.000000</td>\n",
       "      <td>0.000000</td>\n",
       "      <td>0.000000</td>\n",
       "      <td>0.000000</td>\n",
       "      <td>0.000000</td>\n",
       "      <td>0.000000</td>\n",
       "      <td>0.0</td>\n",
       "      <td>...</td>\n",
       "      <td>0.0</td>\n",
       "      <td>0.0</td>\n",
       "      <td>0.000000</td>\n",
       "      <td>0.0</td>\n",
       "      <td>0.000000</td>\n",
       "      <td>0.000000</td>\n",
       "      <td>0.0</td>\n",
       "      <td>0.0</td>\n",
       "      <td>0.0</td>\n",
       "      <td>0.000000</td>\n",
       "    </tr>\n",
       "    <tr>\n",
       "      <th>Radattel</th>\n",
       "      <td>0.000000</td>\n",
       "      <td>0.000000</td>\n",
       "      <td>0.000000</td>\n",
       "      <td>0.000000</td>\n",
       "      <td>0.000000</td>\n",
       "      <td>0.000000</td>\n",
       "      <td>0.000000</td>\n",
       "      <td>0.000000</td>\n",
       "      <td>0.000000</td>\n",
       "      <td>0.0</td>\n",
       "      <td>...</td>\n",
       "      <td>0.0</td>\n",
       "      <td>0.0</td>\n",
       "      <td>0.000000</td>\n",
       "      <td>0.0</td>\n",
       "      <td>0.000000</td>\n",
       "      <td>0.000000</td>\n",
       "      <td>0.0</td>\n",
       "      <td>0.0</td>\n",
       "      <td>0.0</td>\n",
       "      <td>0.000000</td>\n",
       "    </tr>\n",
       "    <tr>\n",
       "      <th>Tomiokey</th>\n",
       "      <td>0.000000</td>\n",
       "      <td>0.000000</td>\n",
       "      <td>0.000000</td>\n",
       "      <td>0.000000</td>\n",
       "      <td>0.000000</td>\n",
       "      <td>0.000000</td>\n",
       "      <td>0.000000</td>\n",
       "      <td>0.000000</td>\n",
       "      <td>0.000000</td>\n",
       "      <td>0.0</td>\n",
       "      <td>...</td>\n",
       "      <td>0.0</td>\n",
       "      <td>0.0</td>\n",
       "      <td>0.000000</td>\n",
       "      <td>0.0</td>\n",
       "      <td>0.000000</td>\n",
       "      <td>0.000000</td>\n",
       "      <td>0.0</td>\n",
       "      <td>0.0</td>\n",
       "      <td>0.0</td>\n",
       "      <td>0.000000</td>\n",
       "    </tr>\n",
       "    <tr>\n",
       "      <th>JOW24</th>\n",
       "      <td>0.000000</td>\n",
       "      <td>0.000000</td>\n",
       "      <td>0.000000</td>\n",
       "      <td>0.000000</td>\n",
       "      <td>0.000000</td>\n",
       "      <td>0.000000</td>\n",
       "      <td>0.000000</td>\n",
       "      <td>0.000000</td>\n",
       "      <td>0.000000</td>\n",
       "      <td>0.0</td>\n",
       "      <td>...</td>\n",
       "      <td>0.0</td>\n",
       "      <td>0.0</td>\n",
       "      <td>0.000000</td>\n",
       "      <td>0.0</td>\n",
       "      <td>0.000000</td>\n",
       "      <td>0.000000</td>\n",
       "      <td>0.0</td>\n",
       "      <td>0.0</td>\n",
       "      <td>0.0</td>\n",
       "      <td>0.000000</td>\n",
       "    </tr>\n",
       "  </tbody>\n",
       "</table>\n",
       "<p>207 rows × 43 columns</p>\n",
       "</div>"
      ],
      "text/plain": [
       "              Sammelwahn  Schießstand      Walls  Mini Survivalgames  \\\n",
       "cediiiiii_10   36.428571    26.666667  86.666667           33.333333   \n",
       "Fflopse        19.761905    90.000000  33.333333            6.666667   \n",
       "Allooy         15.238095    23.333333   0.000000           33.333333   \n",
       "Gobo9          30.238095    43.333333  46.666667           20.000000   \n",
       "JOW23           0.952381    73.333333  36.666667           16.666667   \n",
       "...                  ...          ...        ...                 ...   \n",
       "Steavn          0.000000     0.000000   0.000000            0.000000   \n",
       "Tammywood       0.000000     0.000000   0.000000            0.000000   \n",
       "Radattel        0.000000     0.000000   0.000000            0.000000   \n",
       "Tomiokey        0.000000     0.000000   0.000000            0.000000   \n",
       "JOW24           0.000000     0.000000   0.000000            0.000000   \n",
       "\n",
       "              Sammelwahn  Schießstand      Walls  Mini Survivalgames  \\\n",
       "cediiiiii_10   36.428571    26.666667  86.666667           33.333333   \n",
       "Fflopse        19.761905    90.000000  33.333333            6.666667   \n",
       "Allooy         15.238095    23.333333   0.000000           33.333333   \n",
       "Gobo9          30.238095    43.333333  46.666667           20.000000   \n",
       "JOW23           0.952381    73.333333  36.666667           16.666667   \n",
       "...                  ...          ...        ...                 ...   \n",
       "Steavn          0.000000     0.000000   0.000000            0.000000   \n",
       "Tammywood       0.000000     0.000000   0.000000            0.000000   \n",
       "Radattel        0.000000     0.000000   0.000000            0.000000   \n",
       "Tomiokey        0.000000     0.000000   0.000000            0.000000   \n",
       "JOW24           0.000000     0.000000   0.000000            0.000000   \n",
       "\n",
       "               Lasertag  Minengefecht  ...  Todeswürfel  Freier Fall  \\\n",
       "cediiiiii_10  20.000000          72.5  ...          0.0          0.0   \n",
       "Fflopse       83.333333          10.0  ...          0.0          0.0   \n",
       "Allooy         0.000000          47.5  ...          0.0          0.0   \n",
       "Gobo9         20.000000          50.0  ...          0.0          0.0   \n",
       "JOW23         40.000000          52.5  ...          0.0          0.0   \n",
       "...                 ...           ...  ...          ...          ...   \n",
       "Steavn         0.000000           0.0  ...          0.0          0.0   \n",
       "Tammywood      0.000000           0.0  ...          0.0          0.0   \n",
       "Radattel       0.000000           0.0  ...          0.0          0.0   \n",
       "Tomiokey       0.000000           0.0  ...          0.0          0.0   \n",
       "JOW24          0.000000           0.0  ...          0.0          0.0   \n",
       "\n",
       "              Elytrarennen  Waffenfolge  Minenfeld  Kletter-König  \\\n",
       "cediiiiii_10     73.333333         60.0  10.000000      46.666667   \n",
       "Fflopse          53.333333          0.0  33.333333      73.333333   \n",
       "Allooy           83.333333         20.0  13.333333      46.666667   \n",
       "Gobo9             6.666667          0.0   0.000000      26.666667   \n",
       "JOW23             0.000000        100.0   0.000000       0.000000   \n",
       "...                    ...          ...        ...            ...   \n",
       "Steavn            0.000000          0.0   0.000000       0.000000   \n",
       "Tammywood         0.000000          0.0   0.000000       0.000000   \n",
       "Radattel          0.000000          0.0   0.000000       0.000000   \n",
       "Tomiokey          0.000000          0.0   0.000000       0.000000   \n",
       "JOW24             0.000000          0.0   0.000000       0.000000   \n",
       "\n",
       "              Ampelrennen  Hoch hinaus  Frostiger Pfad        Total  \n",
       "cediiiiii_10         15.0         60.0            70.0  1830.735321  \n",
       "Fflopse              45.0         70.0            40.0  1777.756357  \n",
       "Allooy                0.0          0.0           100.0  1358.316459  \n",
       "Gobo9                50.0         30.0            90.0  1307.936200  \n",
       "JOW23                10.0          0.0             0.0  1056.694637  \n",
       "...                   ...          ...             ...          ...  \n",
       "Steavn                0.0          0.0             0.0     0.000000  \n",
       "Tammywood             0.0          0.0             0.0     0.000000  \n",
       "Radattel              0.0          0.0             0.0     0.000000  \n",
       "Tomiokey              0.0          0.0             0.0     0.000000  \n",
       "JOW24                 0.0          0.0             0.0     0.000000  \n",
       "\n",
       "[207 rows x 43 columns]"
      ]
     },
     "execution_count": 28,
     "metadata": {},
     "output_type": "execute_result"
    }
   ],
   "source": [
    "outDf"
   ]
  },
  {
   "cell_type": "code",
   "execution_count": 29,
   "metadata": {},
   "outputs": [
    {
     "data": {
      "application/vnd.plotly.v1+json": {
       "config": {
        "plotlyServerURL": "https://plot.ly"
       },
       "data": [
        {
         "marker": {
          "color": "rgb(136, 204, 238)"
         },
         "name": "Ampelrennen",
         "type": "bar",
         "x": [
          "cediiiiii_10",
          "Fflopse",
          "Allooy",
          "Gobo9",
          "JOW23",
          "HerrDante",
          "ReichesBrot",
          "Pedrozockt",
          "Ex4cted",
          "_n3d",
          "2wc",
          "FrozenNoah",
          "chrisihalt",
          "DarkCobweb",
          "Freeeedom",
          "camman18YT",
          "yzvm",
          "byTobi",
          "Ninivee",
          "yiiq"
         ],
         "y": [
          15,
          45,
          0,
          50,
          10,
          25,
          0,
          70,
          45,
          20,
          0,
          0,
          0,
          0,
          0,
          0,
          0,
          0,
          0,
          0
         ]
        },
        {
         "marker": {
          "color": "rgb(204, 102, 119)"
         },
         "name": "Buntes Chaos",
         "type": "bar",
         "x": [
          "cediiiiii_10",
          "Fflopse",
          "Allooy",
          "Gobo9",
          "JOW23",
          "HerrDante",
          "ReichesBrot",
          "Pedrozockt",
          "Ex4cted",
          "_n3d",
          "2wc",
          "FrozenNoah",
          "chrisihalt",
          "DarkCobweb",
          "Freeeedom",
          "camman18YT",
          "yzvm",
          "byTobi",
          "Ninivee",
          "yiiq"
         ],
         "y": [
          50,
          100,
          50,
          50,
          0,
          50,
          100,
          100,
          50,
          100,
          0,
          0,
          0,
          0,
          50,
          0,
          0,
          0,
          100,
          0
         ]
        },
        {
         "marker": {
          "color": "rgb(221, 204, 119)"
         },
         "name": "Drachenflucht",
         "type": "bar",
         "x": [
          "cediiiiii_10",
          "Fflopse",
          "Allooy",
          "Gobo9",
          "JOW23",
          "HerrDante",
          "ReichesBrot",
          "Pedrozockt",
          "Ex4cted",
          "_n3d",
          "2wc",
          "FrozenNoah",
          "chrisihalt",
          "DarkCobweb",
          "Freeeedom",
          "camman18YT",
          "yzvm",
          "byTobi",
          "Ninivee",
          "yiiq"
         ],
         "y": [
          0,
          0,
          0,
          0,
          0,
          0,
          0,
          0,
          0,
          0,
          0,
          0,
          0,
          0,
          0,
          0,
          0,
          0,
          0,
          0
         ]
        },
        {
         "marker": {
          "color": "rgb(17, 119, 51)"
         },
         "name": "Duelle",
         "type": "bar",
         "x": [
          "cediiiiii_10",
          "Fflopse",
          "Allooy",
          "Gobo9",
          "JOW23",
          "HerrDante",
          "ReichesBrot",
          "Pedrozockt",
          "Ex4cted",
          "_n3d",
          "2wc",
          "FrozenNoah",
          "chrisihalt",
          "DarkCobweb",
          "Freeeedom",
          "camman18YT",
          "yzvm",
          "byTobi",
          "Ninivee",
          "yiiq"
         ],
         "y": [
          70,
          0,
          0,
          0,
          20,
          0,
          0,
          0,
          0,
          0,
          70,
          0,
          70,
          70,
          0,
          0,
          70,
          0,
          0,
          0
         ]
        },
        {
         "marker": {
          "color": "rgb(51, 34, 136)"
         },
         "name": "Einer im Köcher",
         "type": "bar",
         "x": [
          "cediiiiii_10",
          "Fflopse",
          "Allooy",
          "Gobo9",
          "JOW23",
          "HerrDante",
          "ReichesBrot",
          "Pedrozockt",
          "Ex4cted",
          "_n3d",
          "2wc",
          "FrozenNoah",
          "chrisihalt",
          "DarkCobweb",
          "Freeeedom",
          "camman18YT",
          "yzvm",
          "byTobi",
          "Ninivee",
          "yiiq"
         ],
         "y": [
          [
           40,
           40,
           40
          ],
          [
           80,
           80,
           80
          ],
          [
           83.33333333333333,
           83.33333333333333,
           83.33333333333333
          ],
          [
           6.666666666666667,
           6.666666666666667,
           6.666666666666667
          ],
          [
           13.333333333333334,
           13.333333333333334,
           13.333333333333334
          ],
          [
           76.66666666666667,
           76.66666666666667,
           76.66666666666667
          ],
          [
           6.666666666666667,
           6.666666666666667,
           6.666666666666667
          ],
          [
           0,
           0,
           0
          ],
          [
           0,
           0,
           0
          ],
          [
           10,
           10,
           10
          ],
          [
           0,
           0,
           0
          ],
          [
           73.33333333333333,
           73.33333333333333,
           73.33333333333333
          ],
          [
           0,
           0,
           0
          ],
          [
           0,
           0,
           0
          ],
          [
           33.333333333333336,
           33.333333333333336,
           33.333333333333336
          ],
          [
           0,
           0,
           0
          ],
          [
           0,
           0,
           0
          ],
          [
           30,
           30,
           30
          ],
          [
           0,
           0,
           0
          ],
          [
           0,
           0,
           0
          ]
         ]
        },
        {
         "marker": {
          "color": "rgb(170, 68, 153)"
         },
         "name": "Elytrarennen",
         "type": "bar",
         "x": [
          "cediiiiii_10",
          "Fflopse",
          "Allooy",
          "Gobo9",
          "JOW23",
          "HerrDante",
          "ReichesBrot",
          "Pedrozockt",
          "Ex4cted",
          "_n3d",
          "2wc",
          "FrozenNoah",
          "chrisihalt",
          "DarkCobweb",
          "Freeeedom",
          "camman18YT",
          "yzvm",
          "byTobi",
          "Ninivee",
          "yiiq"
         ],
         "y": [
          73.33333333333333,
          53.333333333333336,
          83.33333333333333,
          6.666666666666667,
          0,
          0,
          80,
          0,
          0,
          23.333333333333332,
          16.666666666666668,
          0,
          36.666666666666664,
          0,
          16.666666666666668,
          0,
          0,
          0,
          0,
          0
         ]
        },
        {
         "marker": {
          "color": "rgb(68, 170, 153)"
         },
         "name": "Freier Fall",
         "type": "bar",
         "x": [
          "cediiiiii_10",
          "Fflopse",
          "Allooy",
          "Gobo9",
          "JOW23",
          "HerrDante",
          "ReichesBrot",
          "Pedrozockt",
          "Ex4cted",
          "_n3d",
          "2wc",
          "FrozenNoah",
          "chrisihalt",
          "DarkCobweb",
          "Freeeedom",
          "camman18YT",
          "yzvm",
          "byTobi",
          "Ninivee",
          "yiiq"
         ],
         "y": [
          0,
          0,
          0,
          0,
          0,
          0,
          0,
          0,
          0,
          0,
          0,
          0,
          0,
          0,
          0,
          0,
          0,
          0,
          0,
          0
         ]
        },
        {
         "marker": {
          "color": "rgb(153, 153, 51)"
         },
         "name": "Frostiger Pfad",
         "type": "bar",
         "x": [
          "cediiiiii_10",
          "Fflopse",
          "Allooy",
          "Gobo9",
          "JOW23",
          "HerrDante",
          "ReichesBrot",
          "Pedrozockt",
          "Ex4cted",
          "_n3d",
          "2wc",
          "FrozenNoah",
          "chrisihalt",
          "DarkCobweb",
          "Freeeedom",
          "camman18YT",
          "yzvm",
          "byTobi",
          "Ninivee",
          "yiiq"
         ],
         "y": [
          70,
          40,
          100,
          90,
          0,
          0,
          80,
          0,
          0,
          0,
          0,
          0,
          0,
          0,
          60,
          0,
          0,
          0,
          20,
          0
         ]
        },
        {
         "marker": {
          "color": "rgb(136, 34, 85)"
         },
         "name": "Hoch hinaus",
         "type": "bar",
         "x": [
          "cediiiiii_10",
          "Fflopse",
          "Allooy",
          "Gobo9",
          "JOW23",
          "HerrDante",
          "ReichesBrot",
          "Pedrozockt",
          "Ex4cted",
          "_n3d",
          "2wc",
          "FrozenNoah",
          "chrisihalt",
          "DarkCobweb",
          "Freeeedom",
          "camman18YT",
          "yzvm",
          "byTobi",
          "Ninivee",
          "yiiq"
         ],
         "y": [
          60,
          70,
          0,
          30,
          0,
          0,
          20,
          80,
          0,
          50,
          0,
          0,
          0,
          0,
          0,
          0,
          0,
          0,
          90,
          0
         ]
        },
        {
         "marker": {
          "color": "rgb(102, 17, 0)"
         },
         "name": "Jump and Run",
         "type": "bar",
         "x": [
          "cediiiiii_10",
          "Fflopse",
          "Allooy",
          "Gobo9",
          "JOW23",
          "HerrDante",
          "ReichesBrot",
          "Pedrozockt",
          "Ex4cted",
          "_n3d",
          "2wc",
          "FrozenNoah",
          "chrisihalt",
          "DarkCobweb",
          "Freeeedom",
          "camman18YT",
          "yzvm",
          "byTobi",
          "Ninivee",
          "yiiq"
         ],
         "y": [
          33.333333333333336,
          50,
          70,
          86.66666666666667,
          13.333333333333334,
          6.666666666666667,
          93.33333333333333,
          20,
          0,
          0,
          16.666666666666668,
          0,
          30,
          0,
          0,
          33.333333333333336,
          0,
          0,
          0,
          0
         ]
        },
        {
         "marker": {
          "color": "rgb(136, 136, 136)"
         },
         "name": "Kletter-König",
         "type": "bar",
         "x": [
          "cediiiiii_10",
          "Fflopse",
          "Allooy",
          "Gobo9",
          "JOW23",
          "HerrDante",
          "ReichesBrot",
          "Pedrozockt",
          "Ex4cted",
          "_n3d",
          "2wc",
          "FrozenNoah",
          "chrisihalt",
          "DarkCobweb",
          "Freeeedom",
          "camman18YT",
          "yzvm",
          "byTobi",
          "Ninivee",
          "yiiq"
         ],
         "y": [
          46.666666666666664,
          73.33333333333333,
          46.666666666666664,
          26.666666666666668,
          0,
          10,
          66.66666666666667,
          0,
          0,
          0,
          10,
          0,
          23.333333333333332,
          0,
          0,
          33.333333333333336,
          10,
          0,
          26.666666666666668,
          53.333333333333336
         ]
        },
        {
         "marker": {
          "color": "rgb(136, 204, 238)"
         },
         "name": "Lasertag",
         "type": "bar",
         "x": [
          "cediiiiii_10",
          "Fflopse",
          "Allooy",
          "Gobo9",
          "JOW23",
          "HerrDante",
          "ReichesBrot",
          "Pedrozockt",
          "Ex4cted",
          "_n3d",
          "2wc",
          "FrozenNoah",
          "chrisihalt",
          "DarkCobweb",
          "Freeeedom",
          "camman18YT",
          "yzvm",
          "byTobi",
          "Ninivee",
          "yiiq"
         ],
         "y": [
          [
           20,
           20,
           20
          ],
          [
           83.33333333333333,
           83.33333333333333,
           83.33333333333333
          ],
          [
           0,
           0,
           0
          ],
          [
           20,
           20,
           20
          ],
          [
           40,
           40,
           40
          ],
          [
           83.33333333333333,
           83.33333333333333,
           83.33333333333333
          ],
          [
           13.333333333333334,
           13.333333333333334,
           13.333333333333334
          ],
          [
           26.666666666666668,
           26.666666666666668,
           26.666666666666668
          ],
          [
           30,
           30,
           30
          ],
          [
           0,
           0,
           0
          ],
          [
           23.333333333333332,
           23.333333333333332,
           23.333333333333332
          ],
          [
           0,
           0,
           0
          ],
          [
           0,
           0,
           0
          ],
          [
           0,
           0,
           0
          ],
          [
           0,
           0,
           0
          ],
          [
           0,
           0,
           0
          ],
          [
           0,
           0,
           0
          ],
          [
           0,
           0,
           0
          ],
          [
           0,
           0,
           0
          ],
          [
           0,
           0,
           0
          ]
         ]
        },
        {
         "marker": {
          "color": "rgb(204, 102, 119)"
         },
         "name": "Minenfeld",
         "type": "bar",
         "x": [
          "cediiiiii_10",
          "Fflopse",
          "Allooy",
          "Gobo9",
          "JOW23",
          "HerrDante",
          "ReichesBrot",
          "Pedrozockt",
          "Ex4cted",
          "_n3d",
          "2wc",
          "FrozenNoah",
          "chrisihalt",
          "DarkCobweb",
          "Freeeedom",
          "camman18YT",
          "yzvm",
          "byTobi",
          "Ninivee",
          "yiiq"
         ],
         "y": [
          10,
          33.333333333333336,
          13.333333333333334,
          0,
          0,
          46.666666666666664,
          16.666666666666668,
          0,
          10,
          20,
          0,
          16.666666666666668,
          33.333333333333336,
          0,
          23.333333333333332,
          0,
          0,
          0,
          10,
          0
         ]
        },
        {
         "marker": {
          "color": "rgb(221, 204, 119)"
         },
         "name": "Minengefecht",
         "type": "bar",
         "x": [
          "cediiiiii_10",
          "Fflopse",
          "Allooy",
          "Gobo9",
          "JOW23",
          "HerrDante",
          "ReichesBrot",
          "Pedrozockt",
          "Ex4cted",
          "_n3d",
          "2wc",
          "FrozenNoah",
          "chrisihalt",
          "DarkCobweb",
          "Freeeedom",
          "camman18YT",
          "yzvm",
          "byTobi",
          "Ninivee",
          "yiiq"
         ],
         "y": [
          [
           72.5,
           72.5,
           72.5
          ],
          [
           10,
           10,
           10
          ],
          [
           47.5,
           47.5,
           47.5
          ],
          [
           50,
           50,
           50
          ],
          [
           52.5,
           52.5,
           52.5
          ],
          [
           7.5,
           7.5,
           7.5
          ],
          [
           10,
           10,
           10
          ],
          [
           0,
           0,
           0
          ],
          [
           0,
           0,
           0
          ],
          [
           7.5,
           7.5,
           7.5
          ],
          [
           20,
           20,
           20
          ],
          [
           55,
           55,
           55
          ],
          [
           45,
           45,
           45
          ],
          [
           52.5,
           52.5,
           52.5
          ],
          [
           0,
           0,
           0
          ],
          [
           0,
           0,
           0
          ],
          [
           30,
           30,
           30
          ],
          [
           0,
           0,
           0
          ],
          [
           0,
           0,
           0
          ],
          [
           47.5,
           47.5,
           47.5
          ]
         ]
        },
        {
         "marker": {
          "color": "rgb(17, 119, 51)"
         },
         "name": "Mini Survivalgames",
         "type": "bar",
         "x": [
          "cediiiiii_10",
          "Fflopse",
          "Allooy",
          "Gobo9",
          "JOW23",
          "HerrDante",
          "ReichesBrot",
          "Pedrozockt",
          "Ex4cted",
          "_n3d",
          "2wc",
          "FrozenNoah",
          "chrisihalt",
          "DarkCobweb",
          "Freeeedom",
          "camman18YT",
          "yzvm",
          "byTobi",
          "Ninivee",
          "yiiq"
         ],
         "y": [
          [
           33.333333333333336,
           33.333333333333336,
           33.333333333333336,
           33.333333333333336
          ],
          [
           6.666666666666667,
           6.666666666666667,
           6.666666666666667,
           6.666666666666667
          ],
          [
           33.333333333333336,
           33.333333333333336,
           33.333333333333336,
           33.333333333333336
          ],
          [
           20,
           20,
           20,
           20
          ],
          [
           16.666666666666668,
           16.666666666666668,
           16.666666666666668,
           16.666666666666668
          ],
          [
           0,
           0,
           0,
           0
          ],
          [
           33.333333333333336,
           33.333333333333336,
           33.333333333333336,
           33.333333333333336
          ],
          [
           0,
           0,
           0,
           0
          ],
          [
           0,
           0,
           0,
           0
          ],
          [
           6.666666666666667,
           6.666666666666667,
           6.666666666666667,
           6.666666666666667
          ],
          [
           33.333333333333336,
           33.333333333333336,
           33.333333333333336,
           33.333333333333336
          ],
          [
           33.333333333333336,
           33.333333333333336,
           33.333333333333336,
           33.333333333333336
          ],
          [
           6.666666666666667,
           6.666666666666667,
           6.666666666666667,
           6.666666666666667
          ],
          [
           10,
           10,
           10,
           10
          ],
          [
           20,
           20,
           20,
           20
          ],
          [
           46.666666666666664,
           46.666666666666664,
           46.666666666666664,
           46.666666666666664
          ],
          [
           0,
           0,
           0,
           0
          ],
          [
           43.333333333333336,
           43.333333333333336,
           43.333333333333336,
           43.333333333333336
          ],
          [
           10,
           10,
           10,
           10
          ],
          [
           0,
           0,
           0,
           0
          ]
         ]
        },
        {
         "marker": {
          "color": "rgb(51, 34, 136)"
         },
         "name": "Pferderennen",
         "type": "bar",
         "x": [
          "cediiiiii_10",
          "Fflopse",
          "Allooy",
          "Gobo9",
          "JOW23",
          "HerrDante",
          "ReichesBrot",
          "Pedrozockt",
          "Ex4cted",
          "_n3d",
          "2wc",
          "FrozenNoah",
          "chrisihalt",
          "DarkCobweb",
          "Freeeedom",
          "camman18YT",
          "yzvm",
          "byTobi",
          "Ninivee",
          "yiiq"
         ],
         "y": [
          81.66666666666667,
          80,
          45,
          53.333333333333336,
          6.666666666666667,
          3.3333333333333335,
          53.333333333333336,
          23.333333333333332,
          0,
          0,
          15,
          0,
          0,
          0,
          10,
          0,
          13.333333333333334,
          0,
          0,
          21.666666666666668
         ]
        },
        {
         "marker": {
          "color": "rgb(170, 68, 153)"
         },
         "name": "Replika",
         "type": "bar",
         "x": [
          "cediiiiii_10",
          "Fflopse",
          "Allooy",
          "Gobo9",
          "JOW23",
          "HerrDante",
          "ReichesBrot",
          "Pedrozockt",
          "Ex4cted",
          "_n3d",
          "2wc",
          "FrozenNoah",
          "chrisihalt",
          "DarkCobweb",
          "Freeeedom",
          "camman18YT",
          "yzvm",
          "byTobi",
          "Ninivee",
          "yiiq"
         ],
         "y": [
          74.85436893203884,
          39.70873786407767,
          77.86407766990291,
          81.6504854368932,
          2.7184466019417477,
          3.883495145631068,
          8.349514563106796,
          37.0873786407767,
          30,
          2.4271844660194173,
          0.970873786407767,
          0,
          2.621359223300971,
          0,
          3.0097087378640777,
          3.1067961165048543,
          0,
          0,
          0,
          19.02912621359223
         ]
        },
        {
         "marker": {
          "color": "rgb(68, 170, 153)"
         },
         "name": "Sammelwahn",
         "type": "bar",
         "x": [
          "cediiiiii_10",
          "Fflopse",
          "Allooy",
          "Gobo9",
          "JOW23",
          "HerrDante",
          "ReichesBrot",
          "Pedrozockt",
          "Ex4cted",
          "_n3d",
          "2wc",
          "FrozenNoah",
          "chrisihalt",
          "DarkCobweb",
          "Freeeedom",
          "camman18YT",
          "yzvm",
          "byTobi",
          "Ninivee",
          "yiiq"
         ],
         "y": [
          [
           36.42857142857143,
           36.42857142857143,
           36.42857142857143,
           36.42857142857143
          ],
          [
           19.761904761904763,
           19.761904761904763,
           19.761904761904763,
           19.761904761904763
          ],
          [
           15.238095238095237,
           15.238095238095237,
           15.238095238095237,
           15.238095238095237
          ],
          [
           30.238095238095237,
           30.238095238095237,
           30.238095238095237,
           30.238095238095237
          ],
          [
           0.9523809523809523,
           0.9523809523809523,
           0.9523809523809523,
           0.9523809523809523
          ],
          [
           6.190476190476191,
           6.190476190476191,
           6.190476190476191,
           6.190476190476191
          ],
          [
           2.380952380952381,
           2.380952380952381,
           2.380952380952381,
           2.380952380952381
          ],
          [
           0,
           0,
           0,
           0
          ],
          [
           15.952380952380953,
           15.952380952380953,
           15.952380952380953,
           15.952380952380953
          ],
          [
           6.428571428571429,
           6.428571428571429,
           6.428571428571429,
           6.428571428571429
          ],
          [
           0.7142857142857143,
           0.7142857142857143,
           0.7142857142857143,
           0.7142857142857143
          ],
          [
           2.380952380952381,
           2.380952380952381,
           2.380952380952381,
           2.380952380952381
          ],
          [
           9.047619047619047,
           9.047619047619047,
           9.047619047619047,
           9.047619047619047
          ],
          [
           2.857142857142857,
           2.857142857142857,
           2.857142857142857,
           2.857142857142857
          ],
          [
           11.666666666666666,
           11.666666666666666,
           11.666666666666666,
           11.666666666666666
          ],
          [
           6.190476190476191,
           6.190476190476191,
           6.190476190476191,
           6.190476190476191
          ],
          [
           3.5714285714285716,
           3.5714285714285716,
           3.5714285714285716,
           3.5714285714285716
          ],
          [
           1.1904761904761905,
           1.1904761904761905,
           1.1904761904761905,
           1.1904761904761905
          ],
          [
           3.3333333333333335,
           3.3333333333333335,
           3.3333333333333335,
           3.3333333333333335
          ],
          [
           0,
           0,
           0,
           0
          ]
         ]
        },
        {
         "marker": {
          "color": "rgb(153, 153, 51)"
         },
         "name": "Schießstand",
         "type": "bar",
         "x": [
          "cediiiiii_10",
          "Fflopse",
          "Allooy",
          "Gobo9",
          "JOW23",
          "HerrDante",
          "ReichesBrot",
          "Pedrozockt",
          "Ex4cted",
          "_n3d",
          "2wc",
          "FrozenNoah",
          "chrisihalt",
          "DarkCobweb",
          "Freeeedom",
          "camman18YT",
          "yzvm",
          "byTobi",
          "Ninivee",
          "yiiq"
         ],
         "y": [
          [
           26.666666666666668,
           26.666666666666668,
           26.666666666666668,
           26.666666666666668
          ],
          [
           90,
           90,
           90,
           90
          ],
          [
           23.333333333333332,
           23.333333333333332,
           23.333333333333332,
           23.333333333333332
          ],
          [
           43.333333333333336,
           43.333333333333336,
           43.333333333333336,
           43.333333333333336
          ],
          [
           73.33333333333333,
           73.33333333333333,
           73.33333333333333,
           73.33333333333333
          ],
          [
           53.333333333333336,
           53.333333333333336,
           53.333333333333336,
           53.333333333333336
          ],
          [
           0,
           0,
           0,
           0
          ],
          [
           0,
           0,
           0,
           0
          ],
          [
           80,
           80,
           80,
           80
          ],
          [
           26.666666666666668,
           26.666666666666668,
           26.666666666666668,
           26.666666666666668
          ],
          [
           0,
           0,
           0,
           0
          ],
          [
           0,
           0,
           0,
           0
          ],
          [
           6.666666666666667,
           6.666666666666667,
           6.666666666666667,
           6.666666666666667
          ],
          [
           0,
           0,
           0,
           0
          ],
          [
           0,
           0,
           0,
           0
          ],
          [
           0,
           0,
           0,
           0
          ],
          [
           0,
           0,
           0,
           0
          ],
          [
           0,
           0,
           0,
           0
          ],
          [
           0,
           0,
           0,
           0
          ],
          [
           0,
           0,
           0,
           0
          ]
         ]
        },
        {
         "marker": {
          "color": "rgb(136, 34, 85)"
         },
         "name": "Spleef",
         "type": "bar",
         "x": [
          "cediiiiii_10",
          "Fflopse",
          "Allooy",
          "Gobo9",
          "JOW23",
          "HerrDante",
          "ReichesBrot",
          "Pedrozockt",
          "Ex4cted",
          "_n3d",
          "2wc",
          "FrozenNoah",
          "chrisihalt",
          "DarkCobweb",
          "Freeeedom",
          "camman18YT",
          "yzvm",
          "byTobi",
          "Ninivee",
          "yiiq"
         ],
         "y": [
          0,
          0,
          100,
          0,
          70,
          0,
          0,
          0,
          0,
          20,
          60,
          0,
          90,
          0,
          90,
          0,
          0,
          0,
          0,
          0
         ]
        },
        {
         "marker": {
          "color": "rgb(102, 17, 0)"
         },
         "name": "Todeswürfel",
         "type": "bar",
         "x": [
          "cediiiiii_10",
          "Fflopse",
          "Allooy",
          "Gobo9",
          "JOW23",
          "HerrDante",
          "ReichesBrot",
          "Pedrozockt",
          "Ex4cted",
          "_n3d",
          "2wc",
          "FrozenNoah",
          "chrisihalt",
          "DarkCobweb",
          "Freeeedom",
          "camman18YT",
          "yzvm",
          "byTobi",
          "Ninivee",
          "yiiq"
         ],
         "y": [
          0,
          0,
          0,
          0,
          0,
          0,
          0,
          0,
          0,
          0,
          0,
          0,
          0,
          0,
          0,
          0,
          0,
          0,
          0,
          0
         ]
        },
        {
         "marker": {
          "color": "rgb(136, 136, 136)"
         },
         "name": "Waffenfolge",
         "type": "bar",
         "x": [
          "cediiiiii_10",
          "Fflopse",
          "Allooy",
          "Gobo9",
          "JOW23",
          "HerrDante",
          "ReichesBrot",
          "Pedrozockt",
          "Ex4cted",
          "_n3d",
          "2wc",
          "FrozenNoah",
          "chrisihalt",
          "DarkCobweb",
          "Freeeedom",
          "camman18YT",
          "yzvm",
          "byTobi",
          "Ninivee",
          "yiiq"
         ],
         "y": [
          60,
          0,
          20,
          0,
          100,
          0,
          40,
          50,
          0,
          0,
          0,
          0,
          0,
          0,
          0,
          0,
          90,
          0,
          0,
          70
         ]
        },
        {
         "marker": {
          "color": "rgb(136, 204, 238)"
         },
         "name": "Walls",
         "type": "bar",
         "x": [
          "cediiiiii_10",
          "Fflopse",
          "Allooy",
          "Gobo9",
          "JOW23",
          "HerrDante",
          "ReichesBrot",
          "Pedrozockt",
          "Ex4cted",
          "_n3d",
          "2wc",
          "FrozenNoah",
          "chrisihalt",
          "DarkCobweb",
          "Freeeedom",
          "camman18YT",
          "yzvm",
          "byTobi",
          "Ninivee",
          "yiiq"
         ],
         "y": [
          [
           86.66666666666667,
           86.66666666666667,
           86.66666666666667,
           86.66666666666667
          ],
          [
           33.333333333333336,
           33.333333333333336,
           33.333333333333336,
           33.333333333333336
          ],
          [
           0,
           0,
           0,
           0
          ],
          [
           46.666666666666664,
           46.666666666666664,
           46.666666666666664,
           46.666666666666664
          ],
          [
           36.666666666666664,
           36.666666666666664,
           36.666666666666664,
           36.666666666666664
          ],
          [
           0,
           0,
           0,
           0
          ],
          [
           6.666666666666667,
           6.666666666666667,
           6.666666666666667,
           6.666666666666667
          ],
          [
           50,
           50,
           50,
           50
          ],
          [
           0,
           0,
           0,
           0
          ],
          [
           33.333333333333336,
           33.333333333333336,
           33.333333333333336,
           33.333333333333336
          ],
          [
           23.333333333333332,
           23.333333333333332,
           23.333333333333332,
           23.333333333333332
          ],
          [
           0,
           0,
           0,
           0
          ],
          [
           0,
           0,
           0,
           0
          ],
          [
           63.333333333333336,
           63.333333333333336,
           63.333333333333336,
           63.333333333333336
          ],
          [
           0,
           0,
           0,
           0
          ],
          [
           50,
           50,
           50,
           50
          ],
          [
           40,
           40,
           40,
           40
          ],
          [
           43.333333333333336,
           43.333333333333336,
           43.333333333333336,
           43.333333333333336
          ],
          [
           33.333333333333336,
           33.333333333333336,
           33.333333333333336,
           33.333333333333336
          ],
          [
           16.666666666666668,
           16.666666666666668,
           16.666666666666668,
           16.666666666666668
          ]
         ]
        },
        {
         "marker": {
          "color": "rgb(204, 102, 119)"
         },
         "name": "Wettrennen",
         "type": "bar",
         "x": [
          "cediiiiii_10",
          "Fflopse",
          "Allooy",
          "Gobo9",
          "JOW23",
          "HerrDante",
          "ReichesBrot",
          "Pedrozockt",
          "Ex4cted",
          "_n3d",
          "2wc",
          "FrozenNoah",
          "chrisihalt",
          "DarkCobweb",
          "Freeeedom",
          "camman18YT",
          "yzvm",
          "byTobi",
          "Ninivee",
          "yiiq"
         ],
         "y": [
          56,
          74,
          72,
          42,
          6,
          4,
          38,
          0,
          0,
          0,
          4,
          0,
          34,
          0,
          26,
          0,
          0,
          0,
          0,
          30
         ]
        }
       ],
       "layout": {
        "annotations": [
         {
          "font": {
           "size": 12
          },
          "showarrow": false,
          "text": "Max 100 points per minigame. Records #1 through #10 are considered (#1: 100, #2: 90, ..., #10: 10). If a minigame has multiple maps, the 100 points are distributed equally. fflopse.github.io/MCP-Records/data-analysis/global-ranking.ipynb",
          "x": 0.5,
          "xanchor": "center",
          "xref": "paper",
          "y": -0.235,
          "yref": "paper"
         }
        ],
        "barmode": "stack",
        "legend": {
         "bgcolor": "rgba(255, 255, 255, 0)",
         "bordercolor": "rgba(0, 0, 0, 0)",
         "font": {
          "size": 12
         },
         "traceorder": "normal",
         "x": 1.05,
         "y": 0.5
        },
        "margin": {
         "r": 200
        },
        "template": {
         "data": {
          "bar": [
           {
            "error_x": {
             "color": "#2a3f5f"
            },
            "error_y": {
             "color": "#2a3f5f"
            },
            "marker": {
             "line": {
              "color": "#E5ECF6",
              "width": 0.5
             },
             "pattern": {
              "fillmode": "overlay",
              "size": 10,
              "solidity": 0.2
             }
            },
            "type": "bar"
           }
          ],
          "barpolar": [
           {
            "marker": {
             "line": {
              "color": "#E5ECF6",
              "width": 0.5
             },
             "pattern": {
              "fillmode": "overlay",
              "size": 10,
              "solidity": 0.2
             }
            },
            "type": "barpolar"
           }
          ],
          "carpet": [
           {
            "aaxis": {
             "endlinecolor": "#2a3f5f",
             "gridcolor": "white",
             "linecolor": "white",
             "minorgridcolor": "white",
             "startlinecolor": "#2a3f5f"
            },
            "baxis": {
             "endlinecolor": "#2a3f5f",
             "gridcolor": "white",
             "linecolor": "white",
             "minorgridcolor": "white",
             "startlinecolor": "#2a3f5f"
            },
            "type": "carpet"
           }
          ],
          "choropleth": [
           {
            "colorbar": {
             "outlinewidth": 0,
             "ticks": ""
            },
            "type": "choropleth"
           }
          ],
          "contour": [
           {
            "colorbar": {
             "outlinewidth": 0,
             "ticks": ""
            },
            "colorscale": [
             [
              0,
              "#0d0887"
             ],
             [
              0.1111111111111111,
              "#46039f"
             ],
             [
              0.2222222222222222,
              "#7201a8"
             ],
             [
              0.3333333333333333,
              "#9c179e"
             ],
             [
              0.4444444444444444,
              "#bd3786"
             ],
             [
              0.5555555555555556,
              "#d8576b"
             ],
             [
              0.6666666666666666,
              "#ed7953"
             ],
             [
              0.7777777777777778,
              "#fb9f3a"
             ],
             [
              0.8888888888888888,
              "#fdca26"
             ],
             [
              1,
              "#f0f921"
             ]
            ],
            "type": "contour"
           }
          ],
          "contourcarpet": [
           {
            "colorbar": {
             "outlinewidth": 0,
             "ticks": ""
            },
            "type": "contourcarpet"
           }
          ],
          "heatmap": [
           {
            "colorbar": {
             "outlinewidth": 0,
             "ticks": ""
            },
            "colorscale": [
             [
              0,
              "#0d0887"
             ],
             [
              0.1111111111111111,
              "#46039f"
             ],
             [
              0.2222222222222222,
              "#7201a8"
             ],
             [
              0.3333333333333333,
              "#9c179e"
             ],
             [
              0.4444444444444444,
              "#bd3786"
             ],
             [
              0.5555555555555556,
              "#d8576b"
             ],
             [
              0.6666666666666666,
              "#ed7953"
             ],
             [
              0.7777777777777778,
              "#fb9f3a"
             ],
             [
              0.8888888888888888,
              "#fdca26"
             ],
             [
              1,
              "#f0f921"
             ]
            ],
            "type": "heatmap"
           }
          ],
          "heatmapgl": [
           {
            "colorbar": {
             "outlinewidth": 0,
             "ticks": ""
            },
            "colorscale": [
             [
              0,
              "#0d0887"
             ],
             [
              0.1111111111111111,
              "#46039f"
             ],
             [
              0.2222222222222222,
              "#7201a8"
             ],
             [
              0.3333333333333333,
              "#9c179e"
             ],
             [
              0.4444444444444444,
              "#bd3786"
             ],
             [
              0.5555555555555556,
              "#d8576b"
             ],
             [
              0.6666666666666666,
              "#ed7953"
             ],
             [
              0.7777777777777778,
              "#fb9f3a"
             ],
             [
              0.8888888888888888,
              "#fdca26"
             ],
             [
              1,
              "#f0f921"
             ]
            ],
            "type": "heatmapgl"
           }
          ],
          "histogram": [
           {
            "marker": {
             "pattern": {
              "fillmode": "overlay",
              "size": 10,
              "solidity": 0.2
             }
            },
            "type": "histogram"
           }
          ],
          "histogram2d": [
           {
            "colorbar": {
             "outlinewidth": 0,
             "ticks": ""
            },
            "colorscale": [
             [
              0,
              "#0d0887"
             ],
             [
              0.1111111111111111,
              "#46039f"
             ],
             [
              0.2222222222222222,
              "#7201a8"
             ],
             [
              0.3333333333333333,
              "#9c179e"
             ],
             [
              0.4444444444444444,
              "#bd3786"
             ],
             [
              0.5555555555555556,
              "#d8576b"
             ],
             [
              0.6666666666666666,
              "#ed7953"
             ],
             [
              0.7777777777777778,
              "#fb9f3a"
             ],
             [
              0.8888888888888888,
              "#fdca26"
             ],
             [
              1,
              "#f0f921"
             ]
            ],
            "type": "histogram2d"
           }
          ],
          "histogram2dcontour": [
           {
            "colorbar": {
             "outlinewidth": 0,
             "ticks": ""
            },
            "colorscale": [
             [
              0,
              "#0d0887"
             ],
             [
              0.1111111111111111,
              "#46039f"
             ],
             [
              0.2222222222222222,
              "#7201a8"
             ],
             [
              0.3333333333333333,
              "#9c179e"
             ],
             [
              0.4444444444444444,
              "#bd3786"
             ],
             [
              0.5555555555555556,
              "#d8576b"
             ],
             [
              0.6666666666666666,
              "#ed7953"
             ],
             [
              0.7777777777777778,
              "#fb9f3a"
             ],
             [
              0.8888888888888888,
              "#fdca26"
             ],
             [
              1,
              "#f0f921"
             ]
            ],
            "type": "histogram2dcontour"
           }
          ],
          "mesh3d": [
           {
            "colorbar": {
             "outlinewidth": 0,
             "ticks": ""
            },
            "type": "mesh3d"
           }
          ],
          "parcoords": [
           {
            "line": {
             "colorbar": {
              "outlinewidth": 0,
              "ticks": ""
             }
            },
            "type": "parcoords"
           }
          ],
          "pie": [
           {
            "automargin": true,
            "type": "pie"
           }
          ],
          "scatter": [
           {
            "fillpattern": {
             "fillmode": "overlay",
             "size": 10,
             "solidity": 0.2
            },
            "type": "scatter"
           }
          ],
          "scatter3d": [
           {
            "line": {
             "colorbar": {
              "outlinewidth": 0,
              "ticks": ""
             }
            },
            "marker": {
             "colorbar": {
              "outlinewidth": 0,
              "ticks": ""
             }
            },
            "type": "scatter3d"
           }
          ],
          "scattercarpet": [
           {
            "marker": {
             "colorbar": {
              "outlinewidth": 0,
              "ticks": ""
             }
            },
            "type": "scattercarpet"
           }
          ],
          "scattergeo": [
           {
            "marker": {
             "colorbar": {
              "outlinewidth": 0,
              "ticks": ""
             }
            },
            "type": "scattergeo"
           }
          ],
          "scattergl": [
           {
            "marker": {
             "colorbar": {
              "outlinewidth": 0,
              "ticks": ""
             }
            },
            "type": "scattergl"
           }
          ],
          "scattermapbox": [
           {
            "marker": {
             "colorbar": {
              "outlinewidth": 0,
              "ticks": ""
             }
            },
            "type": "scattermapbox"
           }
          ],
          "scatterpolar": [
           {
            "marker": {
             "colorbar": {
              "outlinewidth": 0,
              "ticks": ""
             }
            },
            "type": "scatterpolar"
           }
          ],
          "scatterpolargl": [
           {
            "marker": {
             "colorbar": {
              "outlinewidth": 0,
              "ticks": ""
             }
            },
            "type": "scatterpolargl"
           }
          ],
          "scatterternary": [
           {
            "marker": {
             "colorbar": {
              "outlinewidth": 0,
              "ticks": ""
             }
            },
            "type": "scatterternary"
           }
          ],
          "surface": [
           {
            "colorbar": {
             "outlinewidth": 0,
             "ticks": ""
            },
            "colorscale": [
             [
              0,
              "#0d0887"
             ],
             [
              0.1111111111111111,
              "#46039f"
             ],
             [
              0.2222222222222222,
              "#7201a8"
             ],
             [
              0.3333333333333333,
              "#9c179e"
             ],
             [
              0.4444444444444444,
              "#bd3786"
             ],
             [
              0.5555555555555556,
              "#d8576b"
             ],
             [
              0.6666666666666666,
              "#ed7953"
             ],
             [
              0.7777777777777778,
              "#fb9f3a"
             ],
             [
              0.8888888888888888,
              "#fdca26"
             ],
             [
              1,
              "#f0f921"
             ]
            ],
            "type": "surface"
           }
          ],
          "table": [
           {
            "cells": {
             "fill": {
              "color": "#EBF0F8"
             },
             "line": {
              "color": "white"
             }
            },
            "header": {
             "fill": {
              "color": "#C8D4E3"
             },
             "line": {
              "color": "white"
             }
            },
            "type": "table"
           }
          ]
         },
         "layout": {
          "annotationdefaults": {
           "arrowcolor": "#2a3f5f",
           "arrowhead": 0,
           "arrowwidth": 1
          },
          "autotypenumbers": "strict",
          "coloraxis": {
           "colorbar": {
            "outlinewidth": 0,
            "ticks": ""
           }
          },
          "colorscale": {
           "diverging": [
            [
             0,
             "#8e0152"
            ],
            [
             0.1,
             "#c51b7d"
            ],
            [
             0.2,
             "#de77ae"
            ],
            [
             0.3,
             "#f1b6da"
            ],
            [
             0.4,
             "#fde0ef"
            ],
            [
             0.5,
             "#f7f7f7"
            ],
            [
             0.6,
             "#e6f5d0"
            ],
            [
             0.7,
             "#b8e186"
            ],
            [
             0.8,
             "#7fbc41"
            ],
            [
             0.9,
             "#4d9221"
            ],
            [
             1,
             "#276419"
            ]
           ],
           "sequential": [
            [
             0,
             "#0d0887"
            ],
            [
             0.1111111111111111,
             "#46039f"
            ],
            [
             0.2222222222222222,
             "#7201a8"
            ],
            [
             0.3333333333333333,
             "#9c179e"
            ],
            [
             0.4444444444444444,
             "#bd3786"
            ],
            [
             0.5555555555555556,
             "#d8576b"
            ],
            [
             0.6666666666666666,
             "#ed7953"
            ],
            [
             0.7777777777777778,
             "#fb9f3a"
            ],
            [
             0.8888888888888888,
             "#fdca26"
            ],
            [
             1,
             "#f0f921"
            ]
           ],
           "sequentialminus": [
            [
             0,
             "#0d0887"
            ],
            [
             0.1111111111111111,
             "#46039f"
            ],
            [
             0.2222222222222222,
             "#7201a8"
            ],
            [
             0.3333333333333333,
             "#9c179e"
            ],
            [
             0.4444444444444444,
             "#bd3786"
            ],
            [
             0.5555555555555556,
             "#d8576b"
            ],
            [
             0.6666666666666666,
             "#ed7953"
            ],
            [
             0.7777777777777778,
             "#fb9f3a"
            ],
            [
             0.8888888888888888,
             "#fdca26"
            ],
            [
             1,
             "#f0f921"
            ]
           ]
          },
          "colorway": [
           "#636efa",
           "#EF553B",
           "#00cc96",
           "#ab63fa",
           "#FFA15A",
           "#19d3f3",
           "#FF6692",
           "#B6E880",
           "#FF97FF",
           "#FECB52"
          ],
          "font": {
           "color": "#2a3f5f"
          },
          "geo": {
           "bgcolor": "white",
           "lakecolor": "white",
           "landcolor": "#E5ECF6",
           "showlakes": true,
           "showland": true,
           "subunitcolor": "white"
          },
          "hoverlabel": {
           "align": "left"
          },
          "hovermode": "closest",
          "mapbox": {
           "style": "light"
          },
          "paper_bgcolor": "white",
          "plot_bgcolor": "#E5ECF6",
          "polar": {
           "angularaxis": {
            "gridcolor": "white",
            "linecolor": "white",
            "ticks": ""
           },
           "bgcolor": "#E5ECF6",
           "radialaxis": {
            "gridcolor": "white",
            "linecolor": "white",
            "ticks": ""
           }
          },
          "scene": {
           "xaxis": {
            "backgroundcolor": "#E5ECF6",
            "gridcolor": "white",
            "gridwidth": 2,
            "linecolor": "white",
            "showbackground": true,
            "ticks": "",
            "zerolinecolor": "white"
           },
           "yaxis": {
            "backgroundcolor": "#E5ECF6",
            "gridcolor": "white",
            "gridwidth": 2,
            "linecolor": "white",
            "showbackground": true,
            "ticks": "",
            "zerolinecolor": "white"
           },
           "zaxis": {
            "backgroundcolor": "#E5ECF6",
            "gridcolor": "white",
            "gridwidth": 2,
            "linecolor": "white",
            "showbackground": true,
            "ticks": "",
            "zerolinecolor": "white"
           }
          },
          "shapedefaults": {
           "line": {
            "color": "#2a3f5f"
           }
          },
          "ternary": {
           "aaxis": {
            "gridcolor": "white",
            "linecolor": "white",
            "ticks": ""
           },
           "baxis": {
            "gridcolor": "white",
            "linecolor": "white",
            "ticks": ""
           },
           "bgcolor": "#E5ECF6",
           "caxis": {
            "gridcolor": "white",
            "linecolor": "white",
            "ticks": ""
           }
          },
          "title": {
           "x": 0.05
          },
          "xaxis": {
           "automargin": true,
           "gridcolor": "white",
           "linecolor": "white",
           "ticks": "",
           "title": {
            "standoff": 15
           },
           "zerolinecolor": "white",
           "zerolinewidth": 2
          },
          "yaxis": {
           "automargin": true,
           "gridcolor": "white",
           "linecolor": "white",
           "ticks": "",
           "title": {
            "standoff": 15
           },
           "zerolinecolor": "white",
           "zerolinewidth": 2
          }
         }
        },
        "title": {
         "text": "Overall Record Comparison - Top 20 Players"
        },
        "xaxis": {
         "title": {
          "text": "Player"
         }
        },
        "yaxis": {
         "title": {
          "text": "Points"
         }
        }
       }
      }
     },
     "metadata": {},
     "output_type": "display_data"
    }
   ],
   "source": [
    "import plotly.graph_objects as go\n",
    "\n",
    "# Sum all columns to get the total score\n",
    "outDf['Total'] = outDf.sum(axis=1)\n",
    "\n",
    "# Sort by total score and fill N/A values with 0\n",
    "outDf = outDf.sort_values(by='Total', ascending=False).fillna(0)\n",
    "\n",
    "# Crop to top 10 players\n",
    "cropDf = outDf.head(20).copy()\n",
    "\n",
    "# Drop the 'Total' column for plotting\n",
    "cropDf = cropDf.drop(columns=['Total'])\n",
    "\n",
    "# Create a color palette\n",
    "color_palette = px.colors.qualitative.Safe\n",
    "\n",
    "# Create the stacked bar plot\n",
    "fig = go.Figure()\n",
    "\n",
    "for column in cropDf.columns.difference(['Player']):\n",
    "    fig.add_trace(go.Bar(\n",
    "        x=cropDf.index,\n",
    "        y=cropDf[column],\n",
    "        name=column,\n",
    "        marker_color=color_palette[len(fig.data) % len(color_palette)]\n",
    "    ))\n",
    "\n",
    "# Update layout\n",
    "fig.update_layout(\n",
    "    barmode='stack',\n",
    "    title='Overall Record Comparison - Top 20 Players',\n",
    "    xaxis=dict(title='Player'),\n",
    "    yaxis=dict(title='Points'),\n",
    "    #height=800,\n",
    "    #width=1000,\n",
    "    legend=dict(\n",
    "        x=1.05,\n",
    "        y=0.5,\n",
    "        traceorder='normal',\n",
    "        font=dict(size=12),\n",
    "        bgcolor='rgba(255, 255, 255, 0)',\n",
    "        bordercolor='rgba(0, 0, 0, 0)'\n",
    "    ),\n",
    "    margin=dict(r=200),  # Adjust right margin to make room for the legend\n",
    "    annotations=[\n",
    "        dict(\n",
    "            x=0.5,\n",
    "            y=-0.235,\n",
    "            xref='paper',\n",
    "            yref='paper',\n",
    "            text='Max 100 points per minigame. Records #1 through #10 are considered (#1: 100, #2: 90, ..., #10: 10). If a minigame has multiple maps, the 100 points are distributed equally. fflopse.github.io/MCP-Records/data-analysis/global-ranking.ipynb',\n",
    "            showarrow=False,\n",
    "            font=dict(size=12),\n",
    "            xanchor='center'\n",
    "        )\n",
    "    ]\n",
    ")\n",
    "\n",
    "fig.show()\n",
    "\n",
    "# save the plot as an html file\n",
    "\n",
    "fig.write_html('out/overall_record_comparison.html')"
   ]
  },
  {
   "cell_type": "code",
   "execution_count": 30,
   "metadata": {},
   "outputs": [
    {
     "data": {
      "application/vnd.plotly.v1+json": {
       "config": {
        "plotlyServerURL": "https://plot.ly"
       },
       "data": [
        {
         "marker": {
          "color": "rgb(136, 204, 238)"
         },
         "name": "Ampelrennen",
         "type": "bar",
         "x": [
          "cediiiiii_10",
          "Fflopse",
          "Allooy",
          "Gobo9",
          "JOW23",
          "HerrDante",
          "ReichesBrot",
          "Pedrozockt",
          "Ex4cted",
          "_n3d",
          "2wc",
          "FrozenNoah",
          "chrisihalt",
          "DarkCobweb",
          "Freeeedom",
          "camman18YT",
          "yzvm",
          "byTobi",
          "Ninivee",
          "yiiq",
          "Grapfen",
          "Squashgitter333",
          "MindsetKito",
          "Teesily",
          "KakaMC",
          "h4nnes",
          "2B9",
          "zBro",
          "unausgesprochen",
          "Schmaarek",
          "Davinci_Son",
          "miridis41",
          "TheFabo",
          "Umgfoin",
          "lizsyy",
          "Shiewk",
          "ffawks",
          "TheBreadHD",
          "HeIsJustAPoorBoy",
          "La_meleagro"
         ],
         "y": [
          15,
          45,
          0,
          50,
          10,
          25,
          0,
          70,
          45,
          20,
          0,
          0,
          0,
          0,
          0,
          0,
          0,
          0,
          0,
          0,
          0,
          0,
          0,
          0,
          0,
          0,
          0,
          0,
          30,
          0,
          0,
          20,
          0,
          50,
          0,
          0,
          0,
          0,
          0,
          0
         ]
        },
        {
         "marker": {
          "color": "rgb(204, 102, 119)"
         },
         "name": "Buntes Chaos",
         "type": "bar",
         "x": [
          "cediiiiii_10",
          "Fflopse",
          "Allooy",
          "Gobo9",
          "JOW23",
          "HerrDante",
          "ReichesBrot",
          "Pedrozockt",
          "Ex4cted",
          "_n3d",
          "2wc",
          "FrozenNoah",
          "chrisihalt",
          "DarkCobweb",
          "Freeeedom",
          "camman18YT",
          "yzvm",
          "byTobi",
          "Ninivee",
          "yiiq",
          "Grapfen",
          "Squashgitter333",
          "MindsetKito",
          "Teesily",
          "KakaMC",
          "h4nnes",
          "2B9",
          "zBro",
          "unausgesprochen",
          "Schmaarek",
          "Davinci_Son",
          "miridis41",
          "TheFabo",
          "Umgfoin",
          "lizsyy",
          "Shiewk",
          "ffawks",
          "TheBreadHD",
          "HeIsJustAPoorBoy",
          "La_meleagro"
         ],
         "y": [
          50,
          100,
          50,
          50,
          0,
          50,
          100,
          100,
          50,
          100,
          0,
          0,
          0,
          0,
          50,
          0,
          0,
          0,
          100,
          0,
          0,
          0,
          0,
          100,
          100,
          0,
          0,
          0,
          0,
          50,
          0,
          0,
          0,
          100,
          100,
          100,
          0,
          0,
          0,
          0
         ]
        },
        {
         "marker": {
          "color": "rgb(221, 204, 119)"
         },
         "name": "Drachenflucht",
         "type": "bar",
         "x": [
          "cediiiiii_10",
          "Fflopse",
          "Allooy",
          "Gobo9",
          "JOW23",
          "HerrDante",
          "ReichesBrot",
          "Pedrozockt",
          "Ex4cted",
          "_n3d",
          "2wc",
          "FrozenNoah",
          "chrisihalt",
          "DarkCobweb",
          "Freeeedom",
          "camman18YT",
          "yzvm",
          "byTobi",
          "Ninivee",
          "yiiq",
          "Grapfen",
          "Squashgitter333",
          "MindsetKito",
          "Teesily",
          "KakaMC",
          "h4nnes",
          "2B9",
          "zBro",
          "unausgesprochen",
          "Schmaarek",
          "Davinci_Son",
          "miridis41",
          "TheFabo",
          "Umgfoin",
          "lizsyy",
          "Shiewk",
          "ffawks",
          "TheBreadHD",
          "HeIsJustAPoorBoy",
          "La_meleagro"
         ],
         "y": [
          0,
          0,
          0,
          0,
          0,
          0,
          0,
          0,
          0,
          0,
          0,
          0,
          0,
          0,
          0,
          0,
          0,
          0,
          0,
          0,
          0,
          0,
          0,
          0,
          0,
          0,
          0,
          16.666666666666668,
          0,
          0,
          0,
          0,
          0,
          0,
          0,
          0,
          0,
          0,
          10,
          26.666666666666668
         ]
        },
        {
         "marker": {
          "color": "rgb(17, 119, 51)"
         },
         "name": "Duelle",
         "type": "bar",
         "x": [
          "cediiiiii_10",
          "Fflopse",
          "Allooy",
          "Gobo9",
          "JOW23",
          "HerrDante",
          "ReichesBrot",
          "Pedrozockt",
          "Ex4cted",
          "_n3d",
          "2wc",
          "FrozenNoah",
          "chrisihalt",
          "DarkCobweb",
          "Freeeedom",
          "camman18YT",
          "yzvm",
          "byTobi",
          "Ninivee",
          "yiiq",
          "Grapfen",
          "Squashgitter333",
          "MindsetKito",
          "Teesily",
          "KakaMC",
          "h4nnes",
          "2B9",
          "zBro",
          "unausgesprochen",
          "Schmaarek",
          "Davinci_Son",
          "miridis41",
          "TheFabo",
          "Umgfoin",
          "lizsyy",
          "Shiewk",
          "ffawks",
          "TheBreadHD",
          "HeIsJustAPoorBoy",
          "La_meleagro"
         ],
         "y": [
          70,
          0,
          0,
          0,
          20,
          0,
          0,
          0,
          0,
          0,
          70,
          0,
          70,
          70,
          0,
          0,
          70,
          0,
          0,
          0,
          0,
          0,
          0,
          0,
          0,
          0,
          90,
          0,
          0,
          0,
          0,
          80,
          0,
          0,
          0,
          0,
          0,
          0,
          0,
          100
         ]
        },
        {
         "marker": {
          "color": "rgb(51, 34, 136)"
         },
         "name": "Einer im Köcher",
         "type": "bar",
         "x": [
          "cediiiiii_10",
          "Fflopse",
          "Allooy",
          "Gobo9",
          "JOW23",
          "HerrDante",
          "ReichesBrot",
          "Pedrozockt",
          "Ex4cted",
          "_n3d",
          "2wc",
          "FrozenNoah",
          "chrisihalt",
          "DarkCobweb",
          "Freeeedom",
          "camman18YT",
          "yzvm",
          "byTobi",
          "Ninivee",
          "yiiq",
          "Grapfen",
          "Squashgitter333",
          "MindsetKito",
          "Teesily",
          "KakaMC",
          "h4nnes",
          "2B9",
          "zBro",
          "unausgesprochen",
          "Schmaarek",
          "Davinci_Son",
          "miridis41",
          "TheFabo",
          "Umgfoin",
          "lizsyy",
          "Shiewk",
          "ffawks",
          "TheBreadHD",
          "HeIsJustAPoorBoy",
          "La_meleagro"
         ],
         "y": [
          [
           40,
           40,
           40
          ],
          [
           80,
           80,
           80
          ],
          [
           83.33333333333333,
           83.33333333333333,
           83.33333333333333
          ],
          [
           6.666666666666667,
           6.666666666666667,
           6.666666666666667
          ],
          [
           13.333333333333334,
           13.333333333333334,
           13.333333333333334
          ],
          [
           76.66666666666667,
           76.66666666666667,
           76.66666666666667
          ],
          [
           6.666666666666667,
           6.666666666666667,
           6.666666666666667
          ],
          [
           0,
           0,
           0
          ],
          [
           0,
           0,
           0
          ],
          [
           10,
           10,
           10
          ],
          [
           0,
           0,
           0
          ],
          [
           73.33333333333333,
           73.33333333333333,
           73.33333333333333
          ],
          [
           0,
           0,
           0
          ],
          [
           0,
           0,
           0
          ],
          [
           33.333333333333336,
           33.333333333333336,
           33.333333333333336
          ],
          [
           0,
           0,
           0
          ],
          [
           0,
           0,
           0
          ],
          [
           30,
           30,
           30
          ],
          [
           0,
           0,
           0
          ],
          [
           0,
           0,
           0
          ],
          [
           0,
           0,
           0
          ],
          [
           0,
           0,
           0
          ],
          [
           30,
           30,
           30
          ],
          [
           20,
           20,
           20
          ],
          [
           0,
           0,
           0
          ],
          [
           50,
           50,
           50
          ],
          [
           0,
           0,
           0
          ],
          [
           0,
           0,
           0
          ],
          [
           0,
           0,
           0
          ],
          [
           0,
           0,
           0
          ],
          [
           0,
           0,
           0
          ],
          [
           0,
           0,
           0
          ],
          [
           10,
           10,
           10
          ],
          [
           0,
           0,
           0
          ],
          [
           0,
           0,
           0
          ],
          [
           0,
           0,
           0
          ],
          [
           0,
           0,
           0
          ],
          [
           0,
           0,
           0
          ],
          [
           0,
           0,
           0
          ],
          [
           0,
           0,
           0
          ]
         ]
        },
        {
         "marker": {
          "color": "rgb(170, 68, 153)"
         },
         "name": "Elytrarennen",
         "type": "bar",
         "x": [
          "cediiiiii_10",
          "Fflopse",
          "Allooy",
          "Gobo9",
          "JOW23",
          "HerrDante",
          "ReichesBrot",
          "Pedrozockt",
          "Ex4cted",
          "_n3d",
          "2wc",
          "FrozenNoah",
          "chrisihalt",
          "DarkCobweb",
          "Freeeedom",
          "camman18YT",
          "yzvm",
          "byTobi",
          "Ninivee",
          "yiiq",
          "Grapfen",
          "Squashgitter333",
          "MindsetKito",
          "Teesily",
          "KakaMC",
          "h4nnes",
          "2B9",
          "zBro",
          "unausgesprochen",
          "Schmaarek",
          "Davinci_Son",
          "miridis41",
          "TheFabo",
          "Umgfoin",
          "lizsyy",
          "Shiewk",
          "ffawks",
          "TheBreadHD",
          "HeIsJustAPoorBoy",
          "La_meleagro"
         ],
         "y": [
          73.33333333333333,
          53.333333333333336,
          83.33333333333333,
          6.666666666666667,
          0,
          0,
          80,
          0,
          0,
          23.333333333333332,
          16.666666666666668,
          0,
          36.666666666666664,
          0,
          16.666666666666668,
          0,
          0,
          0,
          0,
          0,
          0,
          93.33333333333333,
          0,
          33.333333333333336,
          0,
          0,
          0,
          0,
          0,
          0,
          0,
          0,
          0,
          0,
          0,
          0,
          0,
          0,
          0,
          0
         ]
        },
        {
         "marker": {
          "color": "rgb(68, 170, 153)"
         },
         "name": "Freier Fall",
         "type": "bar",
         "x": [
          "cediiiiii_10",
          "Fflopse",
          "Allooy",
          "Gobo9",
          "JOW23",
          "HerrDante",
          "ReichesBrot",
          "Pedrozockt",
          "Ex4cted",
          "_n3d",
          "2wc",
          "FrozenNoah",
          "chrisihalt",
          "DarkCobweb",
          "Freeeedom",
          "camman18YT",
          "yzvm",
          "byTobi",
          "Ninivee",
          "yiiq",
          "Grapfen",
          "Squashgitter333",
          "MindsetKito",
          "Teesily",
          "KakaMC",
          "h4nnes",
          "2B9",
          "zBro",
          "unausgesprochen",
          "Schmaarek",
          "Davinci_Son",
          "miridis41",
          "TheFabo",
          "Umgfoin",
          "lizsyy",
          "Shiewk",
          "ffawks",
          "TheBreadHD",
          "HeIsJustAPoorBoy",
          "La_meleagro"
         ],
         "y": [
          0,
          0,
          0,
          0,
          0,
          0,
          0,
          0,
          0,
          0,
          0,
          0,
          0,
          0,
          0,
          0,
          0,
          0,
          0,
          0,
          0,
          0,
          0,
          0,
          0,
          0,
          0,
          0,
          0,
          0,
          0,
          0,
          0,
          0,
          0,
          0,
          0,
          0,
          0,
          0
         ]
        },
        {
         "marker": {
          "color": "rgb(153, 153, 51)"
         },
         "name": "Frostiger Pfad",
         "type": "bar",
         "x": [
          "cediiiiii_10",
          "Fflopse",
          "Allooy",
          "Gobo9",
          "JOW23",
          "HerrDante",
          "ReichesBrot",
          "Pedrozockt",
          "Ex4cted",
          "_n3d",
          "2wc",
          "FrozenNoah",
          "chrisihalt",
          "DarkCobweb",
          "Freeeedom",
          "camman18YT",
          "yzvm",
          "byTobi",
          "Ninivee",
          "yiiq",
          "Grapfen",
          "Squashgitter333",
          "MindsetKito",
          "Teesily",
          "KakaMC",
          "h4nnes",
          "2B9",
          "zBro",
          "unausgesprochen",
          "Schmaarek",
          "Davinci_Son",
          "miridis41",
          "TheFabo",
          "Umgfoin",
          "lizsyy",
          "Shiewk",
          "ffawks",
          "TheBreadHD",
          "HeIsJustAPoorBoy",
          "La_meleagro"
         ],
         "y": [
          70,
          40,
          100,
          90,
          0,
          0,
          80,
          0,
          0,
          0,
          0,
          0,
          0,
          0,
          60,
          0,
          0,
          0,
          20,
          0,
          0,
          0,
          0,
          0,
          0,
          0,
          0,
          0,
          0,
          0,
          0,
          0,
          0,
          0,
          0,
          0,
          0,
          0,
          0,
          0
         ]
        },
        {
         "marker": {
          "color": "rgb(136, 34, 85)"
         },
         "name": "Hoch hinaus",
         "type": "bar",
         "x": [
          "cediiiiii_10",
          "Fflopse",
          "Allooy",
          "Gobo9",
          "JOW23",
          "HerrDante",
          "ReichesBrot",
          "Pedrozockt",
          "Ex4cted",
          "_n3d",
          "2wc",
          "FrozenNoah",
          "chrisihalt",
          "DarkCobweb",
          "Freeeedom",
          "camman18YT",
          "yzvm",
          "byTobi",
          "Ninivee",
          "yiiq",
          "Grapfen",
          "Squashgitter333",
          "MindsetKito",
          "Teesily",
          "KakaMC",
          "h4nnes",
          "2B9",
          "zBro",
          "unausgesprochen",
          "Schmaarek",
          "Davinci_Son",
          "miridis41",
          "TheFabo",
          "Umgfoin",
          "lizsyy",
          "Shiewk",
          "ffawks",
          "TheBreadHD",
          "HeIsJustAPoorBoy",
          "La_meleagro"
         ],
         "y": [
          60,
          70,
          0,
          30,
          0,
          0,
          20,
          80,
          0,
          50,
          0,
          0,
          0,
          0,
          0,
          0,
          0,
          0,
          90,
          0,
          0,
          0,
          0,
          50,
          0,
          0,
          0,
          0,
          0,
          0,
          0,
          0,
          0,
          0,
          0,
          0,
          0,
          0,
          0,
          0
         ]
        },
        {
         "marker": {
          "color": "rgb(102, 17, 0)"
         },
         "name": "Jump and Run",
         "type": "bar",
         "x": [
          "cediiiiii_10",
          "Fflopse",
          "Allooy",
          "Gobo9",
          "JOW23",
          "HerrDante",
          "ReichesBrot",
          "Pedrozockt",
          "Ex4cted",
          "_n3d",
          "2wc",
          "FrozenNoah",
          "chrisihalt",
          "DarkCobweb",
          "Freeeedom",
          "camman18YT",
          "yzvm",
          "byTobi",
          "Ninivee",
          "yiiq",
          "Grapfen",
          "Squashgitter333",
          "MindsetKito",
          "Teesily",
          "KakaMC",
          "h4nnes",
          "2B9",
          "zBro",
          "unausgesprochen",
          "Schmaarek",
          "Davinci_Son",
          "miridis41",
          "TheFabo",
          "Umgfoin",
          "lizsyy",
          "Shiewk",
          "ffawks",
          "TheBreadHD",
          "HeIsJustAPoorBoy",
          "La_meleagro"
         ],
         "y": [
          33.333333333333336,
          50,
          70,
          86.66666666666667,
          13.333333333333334,
          6.666666666666667,
          93.33333333333333,
          20,
          0,
          0,
          16.666666666666668,
          0,
          30,
          0,
          0,
          33.333333333333336,
          0,
          0,
          0,
          0,
          0,
          0,
          0,
          0,
          0,
          0,
          0,
          0,
          0,
          0,
          0,
          0,
          0,
          0,
          0,
          0,
          0,
          0,
          0,
          0
         ]
        },
        {
         "marker": {
          "color": "rgb(136, 136, 136)"
         },
         "name": "Kletter-König",
         "type": "bar",
         "x": [
          "cediiiiii_10",
          "Fflopse",
          "Allooy",
          "Gobo9",
          "JOW23",
          "HerrDante",
          "ReichesBrot",
          "Pedrozockt",
          "Ex4cted",
          "_n3d",
          "2wc",
          "FrozenNoah",
          "chrisihalt",
          "DarkCobweb",
          "Freeeedom",
          "camman18YT",
          "yzvm",
          "byTobi",
          "Ninivee",
          "yiiq",
          "Grapfen",
          "Squashgitter333",
          "MindsetKito",
          "Teesily",
          "KakaMC",
          "h4nnes",
          "2B9",
          "zBro",
          "unausgesprochen",
          "Schmaarek",
          "Davinci_Son",
          "miridis41",
          "TheFabo",
          "Umgfoin",
          "lizsyy",
          "Shiewk",
          "ffawks",
          "TheBreadHD",
          "HeIsJustAPoorBoy",
          "La_meleagro"
         ],
         "y": [
          46.666666666666664,
          73.33333333333333,
          46.666666666666664,
          26.666666666666668,
          0,
          10,
          66.66666666666667,
          0,
          0,
          0,
          10,
          0,
          23.333333333333332,
          0,
          0,
          33.333333333333336,
          10,
          0,
          26.666666666666668,
          53.333333333333336,
          0,
          0,
          0,
          0,
          0,
          0,
          0,
          0,
          0,
          0,
          0,
          0,
          0,
          0,
          0,
          0,
          6.666666666666667,
          0,
          0,
          0
         ]
        },
        {
         "marker": {
          "color": "rgb(136, 204, 238)"
         },
         "name": "Lasertag",
         "type": "bar",
         "x": [
          "cediiiiii_10",
          "Fflopse",
          "Allooy",
          "Gobo9",
          "JOW23",
          "HerrDante",
          "ReichesBrot",
          "Pedrozockt",
          "Ex4cted",
          "_n3d",
          "2wc",
          "FrozenNoah",
          "chrisihalt",
          "DarkCobweb",
          "Freeeedom",
          "camman18YT",
          "yzvm",
          "byTobi",
          "Ninivee",
          "yiiq",
          "Grapfen",
          "Squashgitter333",
          "MindsetKito",
          "Teesily",
          "KakaMC",
          "h4nnes",
          "2B9",
          "zBro",
          "unausgesprochen",
          "Schmaarek",
          "Davinci_Son",
          "miridis41",
          "TheFabo",
          "Umgfoin",
          "lizsyy",
          "Shiewk",
          "ffawks",
          "TheBreadHD",
          "HeIsJustAPoorBoy",
          "La_meleagro"
         ],
         "y": [
          [
           20,
           20,
           20
          ],
          [
           83.33333333333333,
           83.33333333333333,
           83.33333333333333
          ],
          [
           0,
           0,
           0
          ],
          [
           20,
           20,
           20
          ],
          [
           40,
           40,
           40
          ],
          [
           83.33333333333333,
           83.33333333333333,
           83.33333333333333
          ],
          [
           13.333333333333334,
           13.333333333333334,
           13.333333333333334
          ],
          [
           26.666666666666668,
           26.666666666666668,
           26.666666666666668
          ],
          [
           30,
           30,
           30
          ],
          [
           0,
           0,
           0
          ],
          [
           23.333333333333332,
           23.333333333333332,
           23.333333333333332
          ],
          [
           0,
           0,
           0
          ],
          [
           0,
           0,
           0
          ],
          [
           0,
           0,
           0
          ],
          [
           0,
           0,
           0
          ],
          [
           0,
           0,
           0
          ],
          [
           0,
           0,
           0
          ],
          [
           0,
           0,
           0
          ],
          [
           0,
           0,
           0
          ],
          [
           0,
           0,
           0
          ],
          [
           10,
           10,
           10
          ],
          [
           0,
           0,
           0
          ],
          [
           33.333333333333336,
           33.333333333333336,
           33.333333333333336
          ],
          [
           0,
           0,
           0
          ],
          [
           0,
           0,
           0
          ],
          [
           20,
           20,
           20
          ],
          [
           0,
           0,
           0
          ],
          [
           6.666666666666667,
           6.666666666666667,
           6.666666666666667
          ],
          [
           30,
           30,
           30
          ],
          [
           0,
           0,
           0
          ],
          [
           10,
           10,
           10
          ],
          [
           0,
           0,
           0
          ],
          [
           43.333333333333336,
           43.333333333333336,
           43.333333333333336
          ],
          [
           0,
           0,
           0
          ],
          [
           0,
           0,
           0
          ],
          [
           0,
           0,
           0
          ],
          [
           26.666666666666668,
           26.666666666666668,
           26.666666666666668
          ],
          [
           0,
           0,
           0
          ],
          [
           0,
           0,
           0
          ],
          [
           0,
           0,
           0
          ]
         ]
        },
        {
         "marker": {
          "color": "rgb(204, 102, 119)"
         },
         "name": "Minenfeld",
         "type": "bar",
         "x": [
          "cediiiiii_10",
          "Fflopse",
          "Allooy",
          "Gobo9",
          "JOW23",
          "HerrDante",
          "ReichesBrot",
          "Pedrozockt",
          "Ex4cted",
          "_n3d",
          "2wc",
          "FrozenNoah",
          "chrisihalt",
          "DarkCobweb",
          "Freeeedom",
          "camman18YT",
          "yzvm",
          "byTobi",
          "Ninivee",
          "yiiq",
          "Grapfen",
          "Squashgitter333",
          "MindsetKito",
          "Teesily",
          "KakaMC",
          "h4nnes",
          "2B9",
          "zBro",
          "unausgesprochen",
          "Schmaarek",
          "Davinci_Son",
          "miridis41",
          "TheFabo",
          "Umgfoin",
          "lizsyy",
          "Shiewk",
          "ffawks",
          "TheBreadHD",
          "HeIsJustAPoorBoy",
          "La_meleagro"
         ],
         "y": [
          10,
          33.333333333333336,
          13.333333333333334,
          0,
          0,
          46.666666666666664,
          16.666666666666668,
          0,
          10,
          20,
          0,
          16.666666666666668,
          33.333333333333336,
          0,
          23.333333333333332,
          0,
          0,
          0,
          10,
          0,
          0,
          0,
          0,
          0,
          0,
          0,
          23.333333333333332,
          56.666666666666664,
          0,
          0,
          0,
          0,
          0,
          0,
          0,
          0,
          0,
          0,
          0,
          0
         ]
        },
        {
         "marker": {
          "color": "rgb(221, 204, 119)"
         },
         "name": "Minengefecht",
         "type": "bar",
         "x": [
          "cediiiiii_10",
          "Fflopse",
          "Allooy",
          "Gobo9",
          "JOW23",
          "HerrDante",
          "ReichesBrot",
          "Pedrozockt",
          "Ex4cted",
          "_n3d",
          "2wc",
          "FrozenNoah",
          "chrisihalt",
          "DarkCobweb",
          "Freeeedom",
          "camman18YT",
          "yzvm",
          "byTobi",
          "Ninivee",
          "yiiq",
          "Grapfen",
          "Squashgitter333",
          "MindsetKito",
          "Teesily",
          "KakaMC",
          "h4nnes",
          "2B9",
          "zBro",
          "unausgesprochen",
          "Schmaarek",
          "Davinci_Son",
          "miridis41",
          "TheFabo",
          "Umgfoin",
          "lizsyy",
          "Shiewk",
          "ffawks",
          "TheBreadHD",
          "HeIsJustAPoorBoy",
          "La_meleagro"
         ],
         "y": [
          [
           72.5,
           72.5,
           72.5
          ],
          [
           10,
           10,
           10
          ],
          [
           47.5,
           47.5,
           47.5
          ],
          [
           50,
           50,
           50
          ],
          [
           52.5,
           52.5,
           52.5
          ],
          [
           7.5,
           7.5,
           7.5
          ],
          [
           10,
           10,
           10
          ],
          [
           0,
           0,
           0
          ],
          [
           0,
           0,
           0
          ],
          [
           7.5,
           7.5,
           7.5
          ],
          [
           20,
           20,
           20
          ],
          [
           55,
           55,
           55
          ],
          [
           45,
           45,
           45
          ],
          [
           52.5,
           52.5,
           52.5
          ],
          [
           0,
           0,
           0
          ],
          [
           0,
           0,
           0
          ],
          [
           30,
           30,
           30
          ],
          [
           0,
           0,
           0
          ],
          [
           0,
           0,
           0
          ],
          [
           47.5,
           47.5,
           47.5
          ],
          [
           10,
           10,
           10
          ],
          [
           0,
           0,
           0
          ],
          [
           0,
           0,
           0
          ],
          [
           0,
           0,
           0
          ],
          [
           0,
           0,
           0
          ],
          [
           0,
           0,
           0
          ],
          [
           0,
           0,
           0
          ],
          [
           0,
           0,
           0
          ],
          [
           0,
           0,
           0
          ],
          [
           20,
           20,
           20
          ],
          [
           20,
           20,
           20
          ],
          [
           0,
           0,
           0
          ],
          [
           0,
           0,
           0
          ],
          [
           0,
           0,
           0
          ],
          [
           0,
           0,
           0
          ],
          [
           0,
           0,
           0
          ],
          [
           7.5,
           7.5,
           7.5
          ],
          [
           0,
           0,
           0
          ],
          [
           0,
           0,
           0
          ],
          [
           0,
           0,
           0
          ]
         ]
        },
        {
         "marker": {
          "color": "rgb(17, 119, 51)"
         },
         "name": "Mini Survivalgames",
         "type": "bar",
         "x": [
          "cediiiiii_10",
          "Fflopse",
          "Allooy",
          "Gobo9",
          "JOW23",
          "HerrDante",
          "ReichesBrot",
          "Pedrozockt",
          "Ex4cted",
          "_n3d",
          "2wc",
          "FrozenNoah",
          "chrisihalt",
          "DarkCobweb",
          "Freeeedom",
          "camman18YT",
          "yzvm",
          "byTobi",
          "Ninivee",
          "yiiq",
          "Grapfen",
          "Squashgitter333",
          "MindsetKito",
          "Teesily",
          "KakaMC",
          "h4nnes",
          "2B9",
          "zBro",
          "unausgesprochen",
          "Schmaarek",
          "Davinci_Son",
          "miridis41",
          "TheFabo",
          "Umgfoin",
          "lizsyy",
          "Shiewk",
          "ffawks",
          "TheBreadHD",
          "HeIsJustAPoorBoy",
          "La_meleagro"
         ],
         "y": [
          [
           33.333333333333336,
           33.333333333333336,
           33.333333333333336,
           33.333333333333336
          ],
          [
           6.666666666666667,
           6.666666666666667,
           6.666666666666667,
           6.666666666666667
          ],
          [
           33.333333333333336,
           33.333333333333336,
           33.333333333333336,
           33.333333333333336
          ],
          [
           20,
           20,
           20,
           20
          ],
          [
           16.666666666666668,
           16.666666666666668,
           16.666666666666668,
           16.666666666666668
          ],
          [
           0,
           0,
           0,
           0
          ],
          [
           33.333333333333336,
           33.333333333333336,
           33.333333333333336,
           33.333333333333336
          ],
          [
           0,
           0,
           0,
           0
          ],
          [
           0,
           0,
           0,
           0
          ],
          [
           6.666666666666667,
           6.666666666666667,
           6.666666666666667,
           6.666666666666667
          ],
          [
           33.333333333333336,
           33.333333333333336,
           33.333333333333336,
           33.333333333333336
          ],
          [
           33.333333333333336,
           33.333333333333336,
           33.333333333333336,
           33.333333333333336
          ],
          [
           6.666666666666667,
           6.666666666666667,
           6.666666666666667,
           6.666666666666667
          ],
          [
           10,
           10,
           10,
           10
          ],
          [
           20,
           20,
           20,
           20
          ],
          [
           46.666666666666664,
           46.666666666666664,
           46.666666666666664,
           46.666666666666664
          ],
          [
           0,
           0,
           0,
           0
          ],
          [
           43.333333333333336,
           43.333333333333336,
           43.333333333333336,
           43.333333333333336
          ],
          [
           10,
           10,
           10,
           10
          ],
          [
           0,
           0,
           0,
           0
          ],
          [
           26.666666666666668,
           26.666666666666668,
           26.666666666666668,
           26.666666666666668
          ],
          [
           0,
           0,
           0,
           0
          ],
          [
           20,
           20,
           20,
           20
          ],
          [
           0,
           0,
           0,
           0
          ],
          [
           0,
           0,
           0,
           0
          ],
          [
           10,
           10,
           10,
           10
          ],
          [
           33.333333333333336,
           33.333333333333336,
           33.333333333333336,
           33.333333333333336
          ],
          [
           0,
           0,
           0,
           0
          ],
          [
           0,
           0,
           0,
           0
          ],
          [
           16.666666666666668,
           16.666666666666668,
           16.666666666666668,
           16.666666666666668
          ],
          [
           10,
           10,
           10,
           10
          ],
          [
           10,
           10,
           10,
           10
          ],
          [
           0,
           0,
           0,
           0
          ],
          [
           0,
           0,
           0,
           0
          ],
          [
           0,
           0,
           0,
           0
          ],
          [
           26.666666666666668,
           26.666666666666668,
           26.666666666666668,
           26.666666666666668
          ],
          [
           0,
           0,
           0,
           0
          ],
          [
           46.666666666666664,
           46.666666666666664,
           46.666666666666664,
           46.666666666666664
          ],
          [
           26.666666666666668,
           26.666666666666668,
           26.666666666666668,
           26.666666666666668
          ],
          [
           0,
           0,
           0,
           0
          ]
         ]
        },
        {
         "marker": {
          "color": "rgb(51, 34, 136)"
         },
         "name": "Pferderennen",
         "type": "bar",
         "x": [
          "cediiiiii_10",
          "Fflopse",
          "Allooy",
          "Gobo9",
          "JOW23",
          "HerrDante",
          "ReichesBrot",
          "Pedrozockt",
          "Ex4cted",
          "_n3d",
          "2wc",
          "FrozenNoah",
          "chrisihalt",
          "DarkCobweb",
          "Freeeedom",
          "camman18YT",
          "yzvm",
          "byTobi",
          "Ninivee",
          "yiiq",
          "Grapfen",
          "Squashgitter333",
          "MindsetKito",
          "Teesily",
          "KakaMC",
          "h4nnes",
          "2B9",
          "zBro",
          "unausgesprochen",
          "Schmaarek",
          "Davinci_Son",
          "miridis41",
          "TheFabo",
          "Umgfoin",
          "lizsyy",
          "Shiewk",
          "ffawks",
          "TheBreadHD",
          "HeIsJustAPoorBoy",
          "La_meleagro"
         ],
         "y": [
          81.66666666666667,
          80,
          45,
          53.333333333333336,
          6.666666666666667,
          3.3333333333333335,
          53.333333333333336,
          23.333333333333332,
          0,
          0,
          15,
          0,
          0,
          0,
          10,
          0,
          13.333333333333334,
          0,
          0,
          21.666666666666668,
          0,
          30,
          0,
          0,
          0,
          0,
          0,
          0,
          0,
          11.666666666666666,
          0,
          0,
          0,
          3.3333333333333335,
          6.666666666666667,
          0,
          28.333333333333332,
          0,
          0,
          0
         ]
        },
        {
         "marker": {
          "color": "rgb(170, 68, 153)"
         },
         "name": "Replika",
         "type": "bar",
         "x": [
          "cediiiiii_10",
          "Fflopse",
          "Allooy",
          "Gobo9",
          "JOW23",
          "HerrDante",
          "ReichesBrot",
          "Pedrozockt",
          "Ex4cted",
          "_n3d",
          "2wc",
          "FrozenNoah",
          "chrisihalt",
          "DarkCobweb",
          "Freeeedom",
          "camman18YT",
          "yzvm",
          "byTobi",
          "Ninivee",
          "yiiq",
          "Grapfen",
          "Squashgitter333",
          "MindsetKito",
          "Teesily",
          "KakaMC",
          "h4nnes",
          "2B9",
          "zBro",
          "unausgesprochen",
          "Schmaarek",
          "Davinci_Son",
          "miridis41",
          "TheFabo",
          "Umgfoin",
          "lizsyy",
          "Shiewk",
          "ffawks",
          "TheBreadHD",
          "HeIsJustAPoorBoy",
          "La_meleagro"
         ],
         "y": [
          74.85436893203884,
          39.70873786407767,
          77.86407766990291,
          81.6504854368932,
          2.7184466019417477,
          3.883495145631068,
          8.349514563106796,
          37.0873786407767,
          30,
          2.4271844660194173,
          0.970873786407767,
          0,
          2.621359223300971,
          0,
          3.0097087378640777,
          3.1067961165048543,
          0,
          0,
          0,
          19.02912621359223,
          0.1941747572815534,
          12.135922330097088,
          0,
          17.66990291262136,
          17.66990291262136,
          0,
          0,
          0,
          0,
          0,
          0,
          0,
          5.339805825242719,
          0,
          7.766990291262136,
          0,
          8.54368932038835,
          0,
          0,
          0.7766990291262136
         ]
        },
        {
         "marker": {
          "color": "rgb(68, 170, 153)"
         },
         "name": "Sammelwahn",
         "type": "bar",
         "x": [
          "cediiiiii_10",
          "Fflopse",
          "Allooy",
          "Gobo9",
          "JOW23",
          "HerrDante",
          "ReichesBrot",
          "Pedrozockt",
          "Ex4cted",
          "_n3d",
          "2wc",
          "FrozenNoah",
          "chrisihalt",
          "DarkCobweb",
          "Freeeedom",
          "camman18YT",
          "yzvm",
          "byTobi",
          "Ninivee",
          "yiiq",
          "Grapfen",
          "Squashgitter333",
          "MindsetKito",
          "Teesily",
          "KakaMC",
          "h4nnes",
          "2B9",
          "zBro",
          "unausgesprochen",
          "Schmaarek",
          "Davinci_Son",
          "miridis41",
          "TheFabo",
          "Umgfoin",
          "lizsyy",
          "Shiewk",
          "ffawks",
          "TheBreadHD",
          "HeIsJustAPoorBoy",
          "La_meleagro"
         ],
         "y": [
          [
           36.42857142857143,
           36.42857142857143,
           36.42857142857143,
           36.42857142857143
          ],
          [
           19.761904761904763,
           19.761904761904763,
           19.761904761904763,
           19.761904761904763
          ],
          [
           15.238095238095237,
           15.238095238095237,
           15.238095238095237,
           15.238095238095237
          ],
          [
           30.238095238095237,
           30.238095238095237,
           30.238095238095237,
           30.238095238095237
          ],
          [
           0.9523809523809523,
           0.9523809523809523,
           0.9523809523809523,
           0.9523809523809523
          ],
          [
           6.190476190476191,
           6.190476190476191,
           6.190476190476191,
           6.190476190476191
          ],
          [
           2.380952380952381,
           2.380952380952381,
           2.380952380952381,
           2.380952380952381
          ],
          [
           0,
           0,
           0,
           0
          ],
          [
           15.952380952380953,
           15.952380952380953,
           15.952380952380953,
           15.952380952380953
          ],
          [
           6.428571428571429,
           6.428571428571429,
           6.428571428571429,
           6.428571428571429
          ],
          [
           0.7142857142857143,
           0.7142857142857143,
           0.7142857142857143,
           0.7142857142857143
          ],
          [
           2.380952380952381,
           2.380952380952381,
           2.380952380952381,
           2.380952380952381
          ],
          [
           9.047619047619047,
           9.047619047619047,
           9.047619047619047,
           9.047619047619047
          ],
          [
           2.857142857142857,
           2.857142857142857,
           2.857142857142857,
           2.857142857142857
          ],
          [
           11.666666666666666,
           11.666666666666666,
           11.666666666666666,
           11.666666666666666
          ],
          [
           6.190476190476191,
           6.190476190476191,
           6.190476190476191,
           6.190476190476191
          ],
          [
           3.5714285714285716,
           3.5714285714285716,
           3.5714285714285716,
           3.5714285714285716
          ],
          [
           1.1904761904761905,
           1.1904761904761905,
           1.1904761904761905,
           1.1904761904761905
          ],
          [
           3.3333333333333335,
           3.3333333333333335,
           3.3333333333333335,
           3.3333333333333335
          ],
          [
           0,
           0,
           0,
           0
          ],
          [
           10.714285714285714,
           10.714285714285714,
           10.714285714285714,
           10.714285714285714
          ],
          [
           1.6666666666666667,
           1.6666666666666667,
           1.6666666666666667,
           1.6666666666666667
          ],
          [
           2.142857142857143,
           2.142857142857143,
           2.142857142857143,
           2.142857142857143
          ],
          [
           6.904761904761905,
           6.904761904761905,
           6.904761904761905,
           6.904761904761905
          ],
          [
           8.333333333333334,
           8.333333333333334,
           8.333333333333334,
           8.333333333333334
          ],
          [
           3.8095238095238093,
           3.8095238095238093,
           3.8095238095238093,
           3.8095238095238093
          ],
          [
           2.380952380952381,
           2.380952380952381,
           2.380952380952381,
           2.380952380952381
          ],
          [
           2.619047619047619,
           2.619047619047619,
           2.619047619047619,
           2.619047619047619
          ],
          [
           2.142857142857143,
           2.142857142857143,
           2.142857142857143,
           2.142857142857143
          ],
          [
           8.571428571428571,
           8.571428571428571,
           8.571428571428571,
           8.571428571428571
          ],
          [
           2.619047619047619,
           2.619047619047619,
           2.619047619047619,
           2.619047619047619
          ],
          [
           6.666666666666667,
           6.666666666666667,
           6.666666666666667,
           6.666666666666667
          ],
          [
           13.80952380952381,
           13.80952380952381,
           13.80952380952381,
           13.80952380952381
          ],
          [
           11.428571428571429,
           11.428571428571429,
           11.428571428571429,
           11.428571428571429
          ],
          [
           3.3333333333333335,
           3.3333333333333335,
           3.3333333333333335,
           3.3333333333333335
          ],
          [
           0,
           0,
           0,
           0
          ],
          [
           0.47619047619047616,
           0.47619047619047616,
           0.47619047619047616,
           0.47619047619047616
          ],
          [
           0,
           0,
           0,
           0
          ],
          [
           0,
           0,
           0,
           0
          ],
          [
           10,
           10,
           10,
           10
          ]
         ]
        },
        {
         "marker": {
          "color": "rgb(153, 153, 51)"
         },
         "name": "Schießstand",
         "type": "bar",
         "x": [
          "cediiiiii_10",
          "Fflopse",
          "Allooy",
          "Gobo9",
          "JOW23",
          "HerrDante",
          "ReichesBrot",
          "Pedrozockt",
          "Ex4cted",
          "_n3d",
          "2wc",
          "FrozenNoah",
          "chrisihalt",
          "DarkCobweb",
          "Freeeedom",
          "camman18YT",
          "yzvm",
          "byTobi",
          "Ninivee",
          "yiiq",
          "Grapfen",
          "Squashgitter333",
          "MindsetKito",
          "Teesily",
          "KakaMC",
          "h4nnes",
          "2B9",
          "zBro",
          "unausgesprochen",
          "Schmaarek",
          "Davinci_Son",
          "miridis41",
          "TheFabo",
          "Umgfoin",
          "lizsyy",
          "Shiewk",
          "ffawks",
          "TheBreadHD",
          "HeIsJustAPoorBoy",
          "La_meleagro"
         ],
         "y": [
          [
           26.666666666666668,
           26.666666666666668,
           26.666666666666668,
           26.666666666666668
          ],
          [
           90,
           90,
           90,
           90
          ],
          [
           23.333333333333332,
           23.333333333333332,
           23.333333333333332,
           23.333333333333332
          ],
          [
           43.333333333333336,
           43.333333333333336,
           43.333333333333336,
           43.333333333333336
          ],
          [
           73.33333333333333,
           73.33333333333333,
           73.33333333333333,
           73.33333333333333
          ],
          [
           53.333333333333336,
           53.333333333333336,
           53.333333333333336,
           53.333333333333336
          ],
          [
           0,
           0,
           0,
           0
          ],
          [
           0,
           0,
           0,
           0
          ],
          [
           80,
           80,
           80,
           80
          ],
          [
           26.666666666666668,
           26.666666666666668,
           26.666666666666668,
           26.666666666666668
          ],
          [
           0,
           0,
           0,
           0
          ],
          [
           0,
           0,
           0,
           0
          ],
          [
           6.666666666666667,
           6.666666666666667,
           6.666666666666667,
           6.666666666666667
          ],
          [
           0,
           0,
           0,
           0
          ],
          [
           0,
           0,
           0,
           0
          ],
          [
           0,
           0,
           0,
           0
          ],
          [
           0,
           0,
           0,
           0
          ],
          [
           0,
           0,
           0,
           0
          ],
          [
           0,
           0,
           0,
           0
          ],
          [
           0,
           0,
           0,
           0
          ],
          [
           0,
           0,
           0,
           0
          ],
          [
           50,
           50,
           50,
           50
          ],
          [
           0,
           0,
           0,
           0
          ],
          [
           0,
           0,
           0,
           0
          ],
          [
           0,
           0,
           0,
           0
          ],
          [
           0,
           0,
           0,
           0
          ],
          [
           0,
           0,
           0,
           0
          ],
          [
           0,
           0,
           0,
           0
          ],
          [
           26.666666666666668,
           26.666666666666668,
           26.666666666666668,
           26.666666666666668
          ],
          [
           0,
           0,
           0,
           0
          ],
          [
           13.333333333333334,
           13.333333333333334,
           13.333333333333334,
           13.333333333333334
          ],
          [
           0,
           0,
           0,
           0
          ],
          [
           0,
           0,
           0,
           0
          ],
          [
           0,
           0,
           0,
           0
          ],
          [
           20,
           20,
           20,
           20
          ],
          [
           0,
           0,
           0,
           0
          ],
          [
           13.333333333333334,
           13.333333333333334,
           13.333333333333334,
           13.333333333333334
          ],
          [
           0,
           0,
           0,
           0
          ],
          [
           0,
           0,
           0,
           0
          ],
          [
           0,
           0,
           0,
           0
          ]
         ]
        },
        {
         "marker": {
          "color": "rgb(136, 34, 85)"
         },
         "name": "Spleef",
         "type": "bar",
         "x": [
          "cediiiiii_10",
          "Fflopse",
          "Allooy",
          "Gobo9",
          "JOW23",
          "HerrDante",
          "ReichesBrot",
          "Pedrozockt",
          "Ex4cted",
          "_n3d",
          "2wc",
          "FrozenNoah",
          "chrisihalt",
          "DarkCobweb",
          "Freeeedom",
          "camman18YT",
          "yzvm",
          "byTobi",
          "Ninivee",
          "yiiq",
          "Grapfen",
          "Squashgitter333",
          "MindsetKito",
          "Teesily",
          "KakaMC",
          "h4nnes",
          "2B9",
          "zBro",
          "unausgesprochen",
          "Schmaarek",
          "Davinci_Son",
          "miridis41",
          "TheFabo",
          "Umgfoin",
          "lizsyy",
          "Shiewk",
          "ffawks",
          "TheBreadHD",
          "HeIsJustAPoorBoy",
          "La_meleagro"
         ],
         "y": [
          0,
          0,
          100,
          0,
          70,
          0,
          0,
          0,
          0,
          20,
          60,
          0,
          90,
          0,
          90,
          0,
          0,
          0,
          0,
          0,
          0,
          0,
          0,
          0,
          0,
          0,
          0,
          0,
          0,
          0,
          0,
          0,
          0,
          0,
          0,
          0,
          0,
          0,
          0,
          0
         ]
        },
        {
         "marker": {
          "color": "rgb(102, 17, 0)"
         },
         "name": "Todeswürfel",
         "type": "bar",
         "x": [
          "cediiiiii_10",
          "Fflopse",
          "Allooy",
          "Gobo9",
          "JOW23",
          "HerrDante",
          "ReichesBrot",
          "Pedrozockt",
          "Ex4cted",
          "_n3d",
          "2wc",
          "FrozenNoah",
          "chrisihalt",
          "DarkCobweb",
          "Freeeedom",
          "camman18YT",
          "yzvm",
          "byTobi",
          "Ninivee",
          "yiiq",
          "Grapfen",
          "Squashgitter333",
          "MindsetKito",
          "Teesily",
          "KakaMC",
          "h4nnes",
          "2B9",
          "zBro",
          "unausgesprochen",
          "Schmaarek",
          "Davinci_Son",
          "miridis41",
          "TheFabo",
          "Umgfoin",
          "lizsyy",
          "Shiewk",
          "ffawks",
          "TheBreadHD",
          "HeIsJustAPoorBoy",
          "La_meleagro"
         ],
         "y": [
          0,
          0,
          0,
          0,
          0,
          0,
          0,
          0,
          0,
          0,
          0,
          0,
          0,
          0,
          0,
          0,
          0,
          0,
          0,
          0,
          0,
          0,
          0,
          0,
          0,
          0,
          0,
          0,
          0,
          0,
          0,
          0,
          0,
          0,
          0,
          0,
          0,
          0,
          0,
          0
         ]
        },
        {
         "marker": {
          "color": "rgb(136, 136, 136)"
         },
         "name": "Waffenfolge",
         "type": "bar",
         "x": [
          "cediiiiii_10",
          "Fflopse",
          "Allooy",
          "Gobo9",
          "JOW23",
          "HerrDante",
          "ReichesBrot",
          "Pedrozockt",
          "Ex4cted",
          "_n3d",
          "2wc",
          "FrozenNoah",
          "chrisihalt",
          "DarkCobweb",
          "Freeeedom",
          "camman18YT",
          "yzvm",
          "byTobi",
          "Ninivee",
          "yiiq",
          "Grapfen",
          "Squashgitter333",
          "MindsetKito",
          "Teesily",
          "KakaMC",
          "h4nnes",
          "2B9",
          "zBro",
          "unausgesprochen",
          "Schmaarek",
          "Davinci_Son",
          "miridis41",
          "TheFabo",
          "Umgfoin",
          "lizsyy",
          "Shiewk",
          "ffawks",
          "TheBreadHD",
          "HeIsJustAPoorBoy",
          "La_meleagro"
         ],
         "y": [
          60,
          0,
          20,
          0,
          100,
          0,
          40,
          50,
          0,
          0,
          0,
          0,
          0,
          0,
          0,
          0,
          90,
          0,
          0,
          70,
          30,
          0,
          0,
          0,
          0,
          0,
          0,
          0,
          0,
          0,
          0,
          0,
          0,
          0,
          0,
          0,
          0,
          0,
          0,
          0
         ]
        },
        {
         "marker": {
          "color": "rgb(136, 204, 238)"
         },
         "name": "Walls",
         "type": "bar",
         "x": [
          "cediiiiii_10",
          "Fflopse",
          "Allooy",
          "Gobo9",
          "JOW23",
          "HerrDante",
          "ReichesBrot",
          "Pedrozockt",
          "Ex4cted",
          "_n3d",
          "2wc",
          "FrozenNoah",
          "chrisihalt",
          "DarkCobweb",
          "Freeeedom",
          "camman18YT",
          "yzvm",
          "byTobi",
          "Ninivee",
          "yiiq",
          "Grapfen",
          "Squashgitter333",
          "MindsetKito",
          "Teesily",
          "KakaMC",
          "h4nnes",
          "2B9",
          "zBro",
          "unausgesprochen",
          "Schmaarek",
          "Davinci_Son",
          "miridis41",
          "TheFabo",
          "Umgfoin",
          "lizsyy",
          "Shiewk",
          "ffawks",
          "TheBreadHD",
          "HeIsJustAPoorBoy",
          "La_meleagro"
         ],
         "y": [
          [
           86.66666666666667,
           86.66666666666667,
           86.66666666666667,
           86.66666666666667
          ],
          [
           33.333333333333336,
           33.333333333333336,
           33.333333333333336,
           33.333333333333336
          ],
          [
           0,
           0,
           0,
           0
          ],
          [
           46.666666666666664,
           46.666666666666664,
           46.666666666666664,
           46.666666666666664
          ],
          [
           36.666666666666664,
           36.666666666666664,
           36.666666666666664,
           36.666666666666664
          ],
          [
           0,
           0,
           0,
           0
          ],
          [
           6.666666666666667,
           6.666666666666667,
           6.666666666666667,
           6.666666666666667
          ],
          [
           50,
           50,
           50,
           50
          ],
          [
           0,
           0,
           0,
           0
          ],
          [
           33.333333333333336,
           33.333333333333336,
           33.333333333333336,
           33.333333333333336
          ],
          [
           23.333333333333332,
           23.333333333333332,
           23.333333333333332,
           23.333333333333332
          ],
          [
           0,
           0,
           0,
           0
          ],
          [
           0,
           0,
           0,
           0
          ],
          [
           63.333333333333336,
           63.333333333333336,
           63.333333333333336,
           63.333333333333336
          ],
          [
           0,
           0,
           0,
           0
          ],
          [
           50,
           50,
           50,
           50
          ],
          [
           40,
           40,
           40,
           40
          ],
          [
           43.333333333333336,
           43.333333333333336,
           43.333333333333336,
           43.333333333333336
          ],
          [
           33.333333333333336,
           33.333333333333336,
           33.333333333333336,
           33.333333333333336
          ],
          [
           16.666666666666668,
           16.666666666666668,
           16.666666666666668,
           16.666666666666668
          ],
          [
           30,
           30,
           30,
           30
          ],
          [
           0,
           0,
           0,
           0
          ],
          [
           16.666666666666668,
           16.666666666666668,
           16.666666666666668,
           16.666666666666668
          ],
          [
           0,
           0,
           0,
           0
          ],
          [
           30,
           30,
           30,
           30
          ],
          [
           0,
           0,
           0,
           0
          ],
          [
           0,
           0,
           0,
           0
          ],
          [
           33.333333333333336,
           33.333333333333336,
           33.333333333333336,
           33.333333333333336
          ],
          [
           0,
           0,
           0,
           0
          ],
          [
           0,
           0,
           0,
           0
          ],
          [
           10,
           10,
           10,
           10
          ],
          [
           16.666666666666668,
           16.666666666666668,
           16.666666666666668,
           16.666666666666668
          ],
          [
           0,
           0,
           0,
           0
          ],
          [
           0,
           0,
           0,
           0
          ],
          [
           0,
           0,
           0,
           0
          ],
          [
           0,
           0,
           0,
           0
          ],
          [
           0,
           0,
           0,
           0
          ],
          [
           0,
           0,
           0,
           0
          ],
          [
           16.666666666666668,
           16.666666666666668,
           16.666666666666668,
           16.666666666666668
          ],
          [
           0,
           0,
           0,
           0
          ]
         ]
        },
        {
         "marker": {
          "color": "rgb(204, 102, 119)"
         },
         "name": "Wettrennen",
         "type": "bar",
         "x": [
          "cediiiiii_10",
          "Fflopse",
          "Allooy",
          "Gobo9",
          "JOW23",
          "HerrDante",
          "ReichesBrot",
          "Pedrozockt",
          "Ex4cted",
          "_n3d",
          "2wc",
          "FrozenNoah",
          "chrisihalt",
          "DarkCobweb",
          "Freeeedom",
          "camman18YT",
          "yzvm",
          "byTobi",
          "Ninivee",
          "yiiq",
          "Grapfen",
          "Squashgitter333",
          "MindsetKito",
          "Teesily",
          "KakaMC",
          "h4nnes",
          "2B9",
          "zBro",
          "unausgesprochen",
          "Schmaarek",
          "Davinci_Son",
          "miridis41",
          "TheFabo",
          "Umgfoin",
          "lizsyy",
          "Shiewk",
          "ffawks",
          "TheBreadHD",
          "HeIsJustAPoorBoy",
          "La_meleagro"
         ],
         "y": [
          56,
          74,
          72,
          42,
          6,
          4,
          38,
          0,
          0,
          0,
          4,
          0,
          34,
          0,
          26,
          0,
          0,
          0,
          0,
          30,
          0,
          12,
          0,
          0,
          0,
          0,
          0,
          0,
          0,
          12,
          0,
          0,
          0,
          14,
          0,
          0,
          4,
          0,
          0,
          0
         ]
        }
       ],
       "layout": {
        "annotations": [
         {
          "font": {
           "size": 12
          },
          "showarrow": false,
          "text": "Max 100 points per minigame. Records #1 through #10 of games & maps in the active pool are considered (#1: 100, #2: 90, ..., #10: 10). If a minigame has multiple maps, the 100 points are distributed equally. fflopse.github.io/MCP-Records/data-analysis/global-ranking.ipynb",
          "x": 0.5,
          "xanchor": "center",
          "xref": "paper",
          "y": 1.1635,
          "yref": "paper"
         }
        ],
        "barmode": "stack",
        "legend": {
         "bgcolor": "rgba(255, 255, 255, 0)",
         "bordercolor": "rgba(0, 0, 0, 0)",
         "font": {
          "size": 12
         },
         "traceorder": "normal",
         "x": 1.05,
         "y": 0.5
        },
        "margin": {
         "r": 200
        },
        "template": {
         "data": {
          "bar": [
           {
            "error_x": {
             "color": "#2a3f5f"
            },
            "error_y": {
             "color": "#2a3f5f"
            },
            "marker": {
             "line": {
              "color": "#E5ECF6",
              "width": 0.5
             },
             "pattern": {
              "fillmode": "overlay",
              "size": 10,
              "solidity": 0.2
             }
            },
            "type": "bar"
           }
          ],
          "barpolar": [
           {
            "marker": {
             "line": {
              "color": "#E5ECF6",
              "width": 0.5
             },
             "pattern": {
              "fillmode": "overlay",
              "size": 10,
              "solidity": 0.2
             }
            },
            "type": "barpolar"
           }
          ],
          "carpet": [
           {
            "aaxis": {
             "endlinecolor": "#2a3f5f",
             "gridcolor": "white",
             "linecolor": "white",
             "minorgridcolor": "white",
             "startlinecolor": "#2a3f5f"
            },
            "baxis": {
             "endlinecolor": "#2a3f5f",
             "gridcolor": "white",
             "linecolor": "white",
             "minorgridcolor": "white",
             "startlinecolor": "#2a3f5f"
            },
            "type": "carpet"
           }
          ],
          "choropleth": [
           {
            "colorbar": {
             "outlinewidth": 0,
             "ticks": ""
            },
            "type": "choropleth"
           }
          ],
          "contour": [
           {
            "colorbar": {
             "outlinewidth": 0,
             "ticks": ""
            },
            "colorscale": [
             [
              0,
              "#0d0887"
             ],
             [
              0.1111111111111111,
              "#46039f"
             ],
             [
              0.2222222222222222,
              "#7201a8"
             ],
             [
              0.3333333333333333,
              "#9c179e"
             ],
             [
              0.4444444444444444,
              "#bd3786"
             ],
             [
              0.5555555555555556,
              "#d8576b"
             ],
             [
              0.6666666666666666,
              "#ed7953"
             ],
             [
              0.7777777777777778,
              "#fb9f3a"
             ],
             [
              0.8888888888888888,
              "#fdca26"
             ],
             [
              1,
              "#f0f921"
             ]
            ],
            "type": "contour"
           }
          ],
          "contourcarpet": [
           {
            "colorbar": {
             "outlinewidth": 0,
             "ticks": ""
            },
            "type": "contourcarpet"
           }
          ],
          "heatmap": [
           {
            "colorbar": {
             "outlinewidth": 0,
             "ticks": ""
            },
            "colorscale": [
             [
              0,
              "#0d0887"
             ],
             [
              0.1111111111111111,
              "#46039f"
             ],
             [
              0.2222222222222222,
              "#7201a8"
             ],
             [
              0.3333333333333333,
              "#9c179e"
             ],
             [
              0.4444444444444444,
              "#bd3786"
             ],
             [
              0.5555555555555556,
              "#d8576b"
             ],
             [
              0.6666666666666666,
              "#ed7953"
             ],
             [
              0.7777777777777778,
              "#fb9f3a"
             ],
             [
              0.8888888888888888,
              "#fdca26"
             ],
             [
              1,
              "#f0f921"
             ]
            ],
            "type": "heatmap"
           }
          ],
          "heatmapgl": [
           {
            "colorbar": {
             "outlinewidth": 0,
             "ticks": ""
            },
            "colorscale": [
             [
              0,
              "#0d0887"
             ],
             [
              0.1111111111111111,
              "#46039f"
             ],
             [
              0.2222222222222222,
              "#7201a8"
             ],
             [
              0.3333333333333333,
              "#9c179e"
             ],
             [
              0.4444444444444444,
              "#bd3786"
             ],
             [
              0.5555555555555556,
              "#d8576b"
             ],
             [
              0.6666666666666666,
              "#ed7953"
             ],
             [
              0.7777777777777778,
              "#fb9f3a"
             ],
             [
              0.8888888888888888,
              "#fdca26"
             ],
             [
              1,
              "#f0f921"
             ]
            ],
            "type": "heatmapgl"
           }
          ],
          "histogram": [
           {
            "marker": {
             "pattern": {
              "fillmode": "overlay",
              "size": 10,
              "solidity": 0.2
             }
            },
            "type": "histogram"
           }
          ],
          "histogram2d": [
           {
            "colorbar": {
             "outlinewidth": 0,
             "ticks": ""
            },
            "colorscale": [
             [
              0,
              "#0d0887"
             ],
             [
              0.1111111111111111,
              "#46039f"
             ],
             [
              0.2222222222222222,
              "#7201a8"
             ],
             [
              0.3333333333333333,
              "#9c179e"
             ],
             [
              0.4444444444444444,
              "#bd3786"
             ],
             [
              0.5555555555555556,
              "#d8576b"
             ],
             [
              0.6666666666666666,
              "#ed7953"
             ],
             [
              0.7777777777777778,
              "#fb9f3a"
             ],
             [
              0.8888888888888888,
              "#fdca26"
             ],
             [
              1,
              "#f0f921"
             ]
            ],
            "type": "histogram2d"
           }
          ],
          "histogram2dcontour": [
           {
            "colorbar": {
             "outlinewidth": 0,
             "ticks": ""
            },
            "colorscale": [
             [
              0,
              "#0d0887"
             ],
             [
              0.1111111111111111,
              "#46039f"
             ],
             [
              0.2222222222222222,
              "#7201a8"
             ],
             [
              0.3333333333333333,
              "#9c179e"
             ],
             [
              0.4444444444444444,
              "#bd3786"
             ],
             [
              0.5555555555555556,
              "#d8576b"
             ],
             [
              0.6666666666666666,
              "#ed7953"
             ],
             [
              0.7777777777777778,
              "#fb9f3a"
             ],
             [
              0.8888888888888888,
              "#fdca26"
             ],
             [
              1,
              "#f0f921"
             ]
            ],
            "type": "histogram2dcontour"
           }
          ],
          "mesh3d": [
           {
            "colorbar": {
             "outlinewidth": 0,
             "ticks": ""
            },
            "type": "mesh3d"
           }
          ],
          "parcoords": [
           {
            "line": {
             "colorbar": {
              "outlinewidth": 0,
              "ticks": ""
             }
            },
            "type": "parcoords"
           }
          ],
          "pie": [
           {
            "automargin": true,
            "type": "pie"
           }
          ],
          "scatter": [
           {
            "fillpattern": {
             "fillmode": "overlay",
             "size": 10,
             "solidity": 0.2
            },
            "type": "scatter"
           }
          ],
          "scatter3d": [
           {
            "line": {
             "colorbar": {
              "outlinewidth": 0,
              "ticks": ""
             }
            },
            "marker": {
             "colorbar": {
              "outlinewidth": 0,
              "ticks": ""
             }
            },
            "type": "scatter3d"
           }
          ],
          "scattercarpet": [
           {
            "marker": {
             "colorbar": {
              "outlinewidth": 0,
              "ticks": ""
             }
            },
            "type": "scattercarpet"
           }
          ],
          "scattergeo": [
           {
            "marker": {
             "colorbar": {
              "outlinewidth": 0,
              "ticks": ""
             }
            },
            "type": "scattergeo"
           }
          ],
          "scattergl": [
           {
            "marker": {
             "colorbar": {
              "outlinewidth": 0,
              "ticks": ""
             }
            },
            "type": "scattergl"
           }
          ],
          "scattermapbox": [
           {
            "marker": {
             "colorbar": {
              "outlinewidth": 0,
              "ticks": ""
             }
            },
            "type": "scattermapbox"
           }
          ],
          "scatterpolar": [
           {
            "marker": {
             "colorbar": {
              "outlinewidth": 0,
              "ticks": ""
             }
            },
            "type": "scatterpolar"
           }
          ],
          "scatterpolargl": [
           {
            "marker": {
             "colorbar": {
              "outlinewidth": 0,
              "ticks": ""
             }
            },
            "type": "scatterpolargl"
           }
          ],
          "scatterternary": [
           {
            "marker": {
             "colorbar": {
              "outlinewidth": 0,
              "ticks": ""
             }
            },
            "type": "scatterternary"
           }
          ],
          "surface": [
           {
            "colorbar": {
             "outlinewidth": 0,
             "ticks": ""
            },
            "colorscale": [
             [
              0,
              "#0d0887"
             ],
             [
              0.1111111111111111,
              "#46039f"
             ],
             [
              0.2222222222222222,
              "#7201a8"
             ],
             [
              0.3333333333333333,
              "#9c179e"
             ],
             [
              0.4444444444444444,
              "#bd3786"
             ],
             [
              0.5555555555555556,
              "#d8576b"
             ],
             [
              0.6666666666666666,
              "#ed7953"
             ],
             [
              0.7777777777777778,
              "#fb9f3a"
             ],
             [
              0.8888888888888888,
              "#fdca26"
             ],
             [
              1,
              "#f0f921"
             ]
            ],
            "type": "surface"
           }
          ],
          "table": [
           {
            "cells": {
             "fill": {
              "color": "#EBF0F8"
             },
             "line": {
              "color": "white"
             }
            },
            "header": {
             "fill": {
              "color": "#C8D4E3"
             },
             "line": {
              "color": "white"
             }
            },
            "type": "table"
           }
          ]
         },
         "layout": {
          "annotationdefaults": {
           "arrowcolor": "#2a3f5f",
           "arrowhead": 0,
           "arrowwidth": 1
          },
          "autotypenumbers": "strict",
          "coloraxis": {
           "colorbar": {
            "outlinewidth": 0,
            "ticks": ""
           }
          },
          "colorscale": {
           "diverging": [
            [
             0,
             "#8e0152"
            ],
            [
             0.1,
             "#c51b7d"
            ],
            [
             0.2,
             "#de77ae"
            ],
            [
             0.3,
             "#f1b6da"
            ],
            [
             0.4,
             "#fde0ef"
            ],
            [
             0.5,
             "#f7f7f7"
            ],
            [
             0.6,
             "#e6f5d0"
            ],
            [
             0.7,
             "#b8e186"
            ],
            [
             0.8,
             "#7fbc41"
            ],
            [
             0.9,
             "#4d9221"
            ],
            [
             1,
             "#276419"
            ]
           ],
           "sequential": [
            [
             0,
             "#0d0887"
            ],
            [
             0.1111111111111111,
             "#46039f"
            ],
            [
             0.2222222222222222,
             "#7201a8"
            ],
            [
             0.3333333333333333,
             "#9c179e"
            ],
            [
             0.4444444444444444,
             "#bd3786"
            ],
            [
             0.5555555555555556,
             "#d8576b"
            ],
            [
             0.6666666666666666,
             "#ed7953"
            ],
            [
             0.7777777777777778,
             "#fb9f3a"
            ],
            [
             0.8888888888888888,
             "#fdca26"
            ],
            [
             1,
             "#f0f921"
            ]
           ],
           "sequentialminus": [
            [
             0,
             "#0d0887"
            ],
            [
             0.1111111111111111,
             "#46039f"
            ],
            [
             0.2222222222222222,
             "#7201a8"
            ],
            [
             0.3333333333333333,
             "#9c179e"
            ],
            [
             0.4444444444444444,
             "#bd3786"
            ],
            [
             0.5555555555555556,
             "#d8576b"
            ],
            [
             0.6666666666666666,
             "#ed7953"
            ],
            [
             0.7777777777777778,
             "#fb9f3a"
            ],
            [
             0.8888888888888888,
             "#fdca26"
            ],
            [
             1,
             "#f0f921"
            ]
           ]
          },
          "colorway": [
           "#636efa",
           "#EF553B",
           "#00cc96",
           "#ab63fa",
           "#FFA15A",
           "#19d3f3",
           "#FF6692",
           "#B6E880",
           "#FF97FF",
           "#FECB52"
          ],
          "font": {
           "color": "#2a3f5f"
          },
          "geo": {
           "bgcolor": "white",
           "lakecolor": "white",
           "landcolor": "#E5ECF6",
           "showlakes": true,
           "showland": true,
           "subunitcolor": "white"
          },
          "hoverlabel": {
           "align": "left"
          },
          "hovermode": "closest",
          "mapbox": {
           "style": "light"
          },
          "paper_bgcolor": "white",
          "plot_bgcolor": "#E5ECF6",
          "polar": {
           "angularaxis": {
            "gridcolor": "white",
            "linecolor": "white",
            "ticks": ""
           },
           "bgcolor": "#E5ECF6",
           "radialaxis": {
            "gridcolor": "white",
            "linecolor": "white",
            "ticks": ""
           }
          },
          "scene": {
           "xaxis": {
            "backgroundcolor": "#E5ECF6",
            "gridcolor": "white",
            "gridwidth": 2,
            "linecolor": "white",
            "showbackground": true,
            "ticks": "",
            "zerolinecolor": "white"
           },
           "yaxis": {
            "backgroundcolor": "#E5ECF6",
            "gridcolor": "white",
            "gridwidth": 2,
            "linecolor": "white",
            "showbackground": true,
            "ticks": "",
            "zerolinecolor": "white"
           },
           "zaxis": {
            "backgroundcolor": "#E5ECF6",
            "gridcolor": "white",
            "gridwidth": 2,
            "linecolor": "white",
            "showbackground": true,
            "ticks": "",
            "zerolinecolor": "white"
           }
          },
          "shapedefaults": {
           "line": {
            "color": "#2a3f5f"
           }
          },
          "ternary": {
           "aaxis": {
            "gridcolor": "white",
            "linecolor": "white",
            "ticks": ""
           },
           "baxis": {
            "gridcolor": "white",
            "linecolor": "white",
            "ticks": ""
           },
           "bgcolor": "#E5ECF6",
           "caxis": {
            "gridcolor": "white",
            "linecolor": "white",
            "ticks": ""
           }
          },
          "title": {
           "x": 0.05
          },
          "xaxis": {
           "automargin": true,
           "gridcolor": "white",
           "linecolor": "white",
           "ticks": "",
           "title": {
            "standoff": 15
           },
           "zerolinecolor": "white",
           "zerolinewidth": 2
          },
          "yaxis": {
           "automargin": true,
           "gridcolor": "white",
           "linecolor": "white",
           "ticks": "",
           "title": {
            "standoff": 15
           },
           "zerolinecolor": "white",
           "zerolinewidth": 2
          }
         }
        },
        "title": {
         "text": "Extended Overall Record Comparison - Top 40 Players"
        },
        "xaxis": {
         "title": {
          "text": "Player"
         }
        },
        "yaxis": {
         "title": {
          "text": "Points"
         }
        }
       }
      }
     },
     "metadata": {},
     "output_type": "display_data"
    }
   ],
   "source": [
    "import plotly.graph_objects as go\n",
    "\n",
    "# Sum all columns to get the total score\n",
    "outDf['Total'] = outDf.sum(axis=1)\n",
    "\n",
    "# Sort by total score and fill N/A values with 0\n",
    "outDf = outDf.sort_values(by='Total', ascending=False).fillna(0)\n",
    "\n",
    "# Crop to top 10 players\n",
    "cropDf = outDf.head(40).copy()\n",
    "\n",
    "# Drop the 'Total' column for plotting\n",
    "cropDf = cropDf.drop(columns=['Total'])\n",
    "\n",
    "# Create a color palette\n",
    "color_palette = px.colors.qualitative.Safe\n",
    "\n",
    "# Create the stacked bar plot\n",
    "fig = go.Figure()\n",
    "\n",
    "for column in cropDf.columns.difference(['Player']):\n",
    "    fig.add_trace(go.Bar(\n",
    "        x=cropDf.index,\n",
    "        y=cropDf[column],\n",
    "        name=column,\n",
    "        marker_color=color_palette[len(fig.data) % len(color_palette)]\n",
    "    ))\n",
    "\n",
    "# Update layout\n",
    "fig.update_layout(\n",
    "    barmode='stack',\n",
    "    title='Extended Overall Record Comparison - Top 40 Players',\n",
    "    xaxis=dict(title='Player'),\n",
    "    yaxis=dict(title='Points'),\n",
    "    #height=800,\n",
    "    #width=1000,\n",
    "    legend=dict(\n",
    "        x=1.05,\n",
    "        y=0.5,\n",
    "        traceorder='normal',\n",
    "        font=dict(size=12),\n",
    "        bgcolor='rgba(255, 255, 255, 0)',\n",
    "        bordercolor='rgba(0, 0, 0, 0)'\n",
    "    ),\n",
    "    margin=dict(r=200),  # Adjust right margin to make room for the legend\n",
    "    annotations=[\n",
    "        dict(\n",
    "            x=0.5,\n",
    "            y=1.1635,\n",
    "            xref='paper',\n",
    "            yref='paper',\n",
    "            text='Max 100 points per minigame. Records #1 through #10 of games & maps in the active pool are considered (#1: 100, #2: 90, ..., #10: 10). If a minigame has multiple maps, the 100 points are distributed equally. fflopse.github.io/MCP-Records/data-analysis/global-ranking.ipynb',\n",
    "            showarrow=False,\n",
    "            font=dict(size=12),\n",
    "            xanchor='center'\n",
    "        )\n",
    "    ]\n",
    ")\n",
    "\n",
    "fig.show()\n",
    "\n",
    "# save the plot as an html file\n",
    "\n",
    "fig.write_html('out/ext_overall_record_comparison.html')"
   ]
  },
  {
   "cell_type": "code",
   "execution_count": 31,
   "metadata": {},
   "outputs": [
    {
     "data": {
      "application/vnd.plotly.v1+json": {
       "config": {
        "plotlyServerURL": "https://plot.ly"
       },
       "data": [
        {
         "marker": {
          "color": "rgb(136, 204, 238)"
         },
         "name": "Ampelrennen",
         "type": "bar",
         "x": [
          "cediiiiii_10",
          "Fflopse",
          "Allooy",
          "Gobo9",
          "JOW23",
          "HerrDante",
          "ReichesBrot",
          "Pedrozockt",
          "Ex4cted",
          "_n3d",
          "2wc",
          "FrozenNoah",
          "chrisihalt",
          "DarkCobweb",
          "Freeeedom",
          "camman18YT",
          "yzvm",
          "byTobi",
          "Ninivee",
          "yiiq",
          "Grapfen",
          "Squashgitter333",
          "MindsetKito",
          "Teesily",
          "KakaMC",
          "h4nnes",
          "2B9",
          "zBro",
          "unausgesprochen",
          "Schmaarek",
          "Davinci_Son",
          "miridis41",
          "TheFabo",
          "Umgfoin",
          "lizsyy",
          "Shiewk",
          "ffawks",
          "TheBreadHD",
          "HeIsJustAPoorBoy",
          "La_meleagro",
          "IchHolzDichWeg",
          "Sey__",
          "Luxemburq",
          "MaxMitMaulkorb",
          "G0at3D",
          "Gerrygames",
          "ByNetherdude",
          "Kyuudo",
          "Gummibearchen",
          "GeneralEnte06",
          "lolisamakun",
          "Lingex",
          "LeWi_100",
          "Pluto28",
          "Morittz",
          "NotLennart",
          "Lubottus",
          "Simlll",
          "GamemasterNiki",
          "LordAlexos",
          "agowskyy",
          "M0osebumps",
          "JennieKim",
          "revolverz",
          "Dokkkkko",
          "Sower_",
          "GermanPie",
          "Julius16",
          "SiLoHB",
          "Feinberg",
          "Stockinqs",
          "Cytoox",
          "LeMetin_",
          "Janne4k",
          "Krusti",
          "Vanillinchen",
          "20LeRe10",
          "MoZadaCraft",
          "YBCM",
          "lolisamasan",
          "xBaumeisterin",
          "Bikoop",
          "Mincheeen",
          "Vacted",
          "xX_Dima_ggg_Xx6",
          "Falke23_5",
          "Tim_Voltia",
          "Seemops_8",
          "ScreamingBlatz",
          "Gryzes",
          "EinfachEazy",
          "RasenLP",
          "Lennart0911",
          "HerosHD",
          "BastiGHG",
          "Navex",
          "deadfiight",
          "frutigall",
          "Ritokii",
          "SpeckyCut"
         ],
         "y": [
          15,
          45,
          0,
          50,
          10,
          25,
          0,
          70,
          45,
          20,
          0,
          0,
          0,
          0,
          0,
          0,
          0,
          0,
          0,
          0,
          0,
          0,
          0,
          0,
          0,
          0,
          0,
          0,
          30,
          0,
          0,
          20,
          0,
          50,
          0,
          0,
          0,
          0,
          0,
          0,
          0,
          40,
          0,
          0,
          0,
          0,
          0,
          0,
          0,
          0,
          0,
          0,
          0,
          0,
          0,
          0,
          0,
          0,
          0,
          35,
          0,
          0,
          0,
          0,
          0,
          0,
          25,
          0,
          0,
          0,
          0,
          0,
          15,
          0,
          0,
          0,
          0,
          0,
          0,
          0,
          0,
          0,
          0,
          0,
          0,
          0,
          0,
          0,
          0,
          0,
          0,
          0,
          0,
          0,
          0,
          0,
          0,
          0,
          35,
          0
         ]
        },
        {
         "marker": {
          "color": "rgb(204, 102, 119)"
         },
         "name": "Buntes Chaos",
         "type": "bar",
         "x": [
          "cediiiiii_10",
          "Fflopse",
          "Allooy",
          "Gobo9",
          "JOW23",
          "HerrDante",
          "ReichesBrot",
          "Pedrozockt",
          "Ex4cted",
          "_n3d",
          "2wc",
          "FrozenNoah",
          "chrisihalt",
          "DarkCobweb",
          "Freeeedom",
          "camman18YT",
          "yzvm",
          "byTobi",
          "Ninivee",
          "yiiq",
          "Grapfen",
          "Squashgitter333",
          "MindsetKito",
          "Teesily",
          "KakaMC",
          "h4nnes",
          "2B9",
          "zBro",
          "unausgesprochen",
          "Schmaarek",
          "Davinci_Son",
          "miridis41",
          "TheFabo",
          "Umgfoin",
          "lizsyy",
          "Shiewk",
          "ffawks",
          "TheBreadHD",
          "HeIsJustAPoorBoy",
          "La_meleagro",
          "IchHolzDichWeg",
          "Sey__",
          "Luxemburq",
          "MaxMitMaulkorb",
          "G0at3D",
          "Gerrygames",
          "ByNetherdude",
          "Kyuudo",
          "Gummibearchen",
          "GeneralEnte06",
          "lolisamakun",
          "Lingex",
          "LeWi_100",
          "Pluto28",
          "Morittz",
          "NotLennart",
          "Lubottus",
          "Simlll",
          "GamemasterNiki",
          "LordAlexos",
          "agowskyy",
          "M0osebumps",
          "JennieKim",
          "revolverz",
          "Dokkkkko",
          "Sower_",
          "GermanPie",
          "Julius16",
          "SiLoHB",
          "Feinberg",
          "Stockinqs",
          "Cytoox",
          "LeMetin_",
          "Janne4k",
          "Krusti",
          "Vanillinchen",
          "20LeRe10",
          "MoZadaCraft",
          "YBCM",
          "lolisamasan",
          "xBaumeisterin",
          "Bikoop",
          "Mincheeen",
          "Vacted",
          "xX_Dima_ggg_Xx6",
          "Falke23_5",
          "Tim_Voltia",
          "Seemops_8",
          "ScreamingBlatz",
          "Gryzes",
          "EinfachEazy",
          "RasenLP",
          "Lennart0911",
          "HerosHD",
          "BastiGHG",
          "Navex",
          "deadfiight",
          "frutigall",
          "Ritokii",
          "SpeckyCut"
         ],
         "y": [
          50,
          100,
          50,
          50,
          0,
          50,
          100,
          100,
          50,
          100,
          0,
          0,
          0,
          0,
          50,
          0,
          0,
          0,
          100,
          0,
          0,
          0,
          0,
          100,
          100,
          0,
          0,
          0,
          0,
          50,
          0,
          0,
          0,
          100,
          100,
          100,
          0,
          0,
          0,
          0,
          0,
          0,
          0,
          50,
          0,
          0,
          0,
          0,
          0,
          50,
          0,
          0,
          0,
          0,
          0,
          0,
          50,
          0,
          0,
          0,
          0,
          0,
          0,
          0,
          0,
          0,
          50,
          0,
          0,
          50,
          50,
          0,
          0,
          0,
          0,
          0,
          0,
          0,
          50,
          0,
          50,
          0,
          50,
          0,
          0,
          0,
          0,
          50,
          0,
          0,
          0,
          0,
          0,
          0,
          0,
          0,
          0,
          0,
          0,
          0
         ]
        },
        {
         "marker": {
          "color": "rgb(221, 204, 119)"
         },
         "name": "Drachenflucht",
         "type": "bar",
         "x": [
          "cediiiiii_10",
          "Fflopse",
          "Allooy",
          "Gobo9",
          "JOW23",
          "HerrDante",
          "ReichesBrot",
          "Pedrozockt",
          "Ex4cted",
          "_n3d",
          "2wc",
          "FrozenNoah",
          "chrisihalt",
          "DarkCobweb",
          "Freeeedom",
          "camman18YT",
          "yzvm",
          "byTobi",
          "Ninivee",
          "yiiq",
          "Grapfen",
          "Squashgitter333",
          "MindsetKito",
          "Teesily",
          "KakaMC",
          "h4nnes",
          "2B9",
          "zBro",
          "unausgesprochen",
          "Schmaarek",
          "Davinci_Son",
          "miridis41",
          "TheFabo",
          "Umgfoin",
          "lizsyy",
          "Shiewk",
          "ffawks",
          "TheBreadHD",
          "HeIsJustAPoorBoy",
          "La_meleagro",
          "IchHolzDichWeg",
          "Sey__",
          "Luxemburq",
          "MaxMitMaulkorb",
          "G0at3D",
          "Gerrygames",
          "ByNetherdude",
          "Kyuudo",
          "Gummibearchen",
          "GeneralEnte06",
          "lolisamakun",
          "Lingex",
          "LeWi_100",
          "Pluto28",
          "Morittz",
          "NotLennart",
          "Lubottus",
          "Simlll",
          "GamemasterNiki",
          "LordAlexos",
          "agowskyy",
          "M0osebumps",
          "JennieKim",
          "revolverz",
          "Dokkkkko",
          "Sower_",
          "GermanPie",
          "Julius16",
          "SiLoHB",
          "Feinberg",
          "Stockinqs",
          "Cytoox",
          "LeMetin_",
          "Janne4k",
          "Krusti",
          "Vanillinchen",
          "20LeRe10",
          "MoZadaCraft",
          "YBCM",
          "lolisamasan",
          "xBaumeisterin",
          "Bikoop",
          "Mincheeen",
          "Vacted",
          "xX_Dima_ggg_Xx6",
          "Falke23_5",
          "Tim_Voltia",
          "Seemops_8",
          "ScreamingBlatz",
          "Gryzes",
          "EinfachEazy",
          "RasenLP",
          "Lennart0911",
          "HerosHD",
          "BastiGHG",
          "Navex",
          "deadfiight",
          "frutigall",
          "Ritokii",
          "SpeckyCut"
         ],
         "y": [
          0,
          0,
          0,
          0,
          0,
          0,
          0,
          0,
          0,
          0,
          0,
          0,
          0,
          0,
          0,
          0,
          0,
          0,
          0,
          0,
          0,
          0,
          0,
          0,
          0,
          0,
          0,
          16.666666666666668,
          0,
          0,
          0,
          0,
          0,
          0,
          0,
          0,
          0,
          0,
          10,
          26.666666666666668,
          6.666666666666667,
          0,
          0,
          0,
          16.666666666666668,
          0,
          0,
          0,
          23.333333333333332,
          26.666666666666668,
          0,
          0,
          0,
          0,
          0,
          0,
          0,
          0,
          0,
          0,
          0,
          0,
          0,
          33.333333333333336,
          0,
          0,
          0,
          26.666666666666668,
          0,
          0,
          0,
          20,
          0,
          0,
          0,
          0,
          0,
          0,
          0,
          0,
          0,
          0,
          0,
          33.333333333333336,
          0,
          6.666666666666667,
          0,
          0,
          0,
          0,
          46.666666666666664,
          0,
          0,
          33.333333333333336,
          0,
          0,
          36.666666666666664,
          0,
          0,
          30
         ]
        },
        {
         "marker": {
          "color": "rgb(17, 119, 51)"
         },
         "name": "Duelle",
         "type": "bar",
         "x": [
          "cediiiiii_10",
          "Fflopse",
          "Allooy",
          "Gobo9",
          "JOW23",
          "HerrDante",
          "ReichesBrot",
          "Pedrozockt",
          "Ex4cted",
          "_n3d",
          "2wc",
          "FrozenNoah",
          "chrisihalt",
          "DarkCobweb",
          "Freeeedom",
          "camman18YT",
          "yzvm",
          "byTobi",
          "Ninivee",
          "yiiq",
          "Grapfen",
          "Squashgitter333",
          "MindsetKito",
          "Teesily",
          "KakaMC",
          "h4nnes",
          "2B9",
          "zBro",
          "unausgesprochen",
          "Schmaarek",
          "Davinci_Son",
          "miridis41",
          "TheFabo",
          "Umgfoin",
          "lizsyy",
          "Shiewk",
          "ffawks",
          "TheBreadHD",
          "HeIsJustAPoorBoy",
          "La_meleagro",
          "IchHolzDichWeg",
          "Sey__",
          "Luxemburq",
          "MaxMitMaulkorb",
          "G0at3D",
          "Gerrygames",
          "ByNetherdude",
          "Kyuudo",
          "Gummibearchen",
          "GeneralEnte06",
          "lolisamakun",
          "Lingex",
          "LeWi_100",
          "Pluto28",
          "Morittz",
          "NotLennart",
          "Lubottus",
          "Simlll",
          "GamemasterNiki",
          "LordAlexos",
          "agowskyy",
          "M0osebumps",
          "JennieKim",
          "revolverz",
          "Dokkkkko",
          "Sower_",
          "GermanPie",
          "Julius16",
          "SiLoHB",
          "Feinberg",
          "Stockinqs",
          "Cytoox",
          "LeMetin_",
          "Janne4k",
          "Krusti",
          "Vanillinchen",
          "20LeRe10",
          "MoZadaCraft",
          "YBCM",
          "lolisamasan",
          "xBaumeisterin",
          "Bikoop",
          "Mincheeen",
          "Vacted",
          "xX_Dima_ggg_Xx6",
          "Falke23_5",
          "Tim_Voltia",
          "Seemops_8",
          "ScreamingBlatz",
          "Gryzes",
          "EinfachEazy",
          "RasenLP",
          "Lennart0911",
          "HerosHD",
          "BastiGHG",
          "Navex",
          "deadfiight",
          "frutigall",
          "Ritokii",
          "SpeckyCut"
         ],
         "y": [
          70,
          0,
          0,
          0,
          20,
          0,
          0,
          0,
          0,
          0,
          70,
          0,
          70,
          70,
          0,
          0,
          70,
          0,
          0,
          0,
          0,
          0,
          0,
          0,
          0,
          0,
          90,
          0,
          0,
          0,
          0,
          80,
          0,
          0,
          0,
          0,
          0,
          0,
          0,
          100,
          0,
          0,
          0,
          0,
          0,
          0,
          0,
          0,
          0,
          0,
          0,
          0,
          0,
          0,
          0,
          0,
          0,
          0,
          0,
          0,
          0,
          0,
          0,
          0,
          0,
          0,
          0,
          0,
          0,
          0,
          0,
          0,
          0,
          0,
          0,
          0,
          0,
          0,
          0,
          0,
          0,
          0,
          0,
          0,
          0,
          0,
          0,
          0,
          0,
          0,
          0,
          0,
          0,
          0,
          0,
          0,
          0,
          0,
          0,
          0
         ]
        },
        {
         "marker": {
          "color": "rgb(51, 34, 136)"
         },
         "name": "Einer im Köcher",
         "type": "bar",
         "x": [
          "cediiiiii_10",
          "Fflopse",
          "Allooy",
          "Gobo9",
          "JOW23",
          "HerrDante",
          "ReichesBrot",
          "Pedrozockt",
          "Ex4cted",
          "_n3d",
          "2wc",
          "FrozenNoah",
          "chrisihalt",
          "DarkCobweb",
          "Freeeedom",
          "camman18YT",
          "yzvm",
          "byTobi",
          "Ninivee",
          "yiiq",
          "Grapfen",
          "Squashgitter333",
          "MindsetKito",
          "Teesily",
          "KakaMC",
          "h4nnes",
          "2B9",
          "zBro",
          "unausgesprochen",
          "Schmaarek",
          "Davinci_Son",
          "miridis41",
          "TheFabo",
          "Umgfoin",
          "lizsyy",
          "Shiewk",
          "ffawks",
          "TheBreadHD",
          "HeIsJustAPoorBoy",
          "La_meleagro",
          "IchHolzDichWeg",
          "Sey__",
          "Luxemburq",
          "MaxMitMaulkorb",
          "G0at3D",
          "Gerrygames",
          "ByNetherdude",
          "Kyuudo",
          "Gummibearchen",
          "GeneralEnte06",
          "lolisamakun",
          "Lingex",
          "LeWi_100",
          "Pluto28",
          "Morittz",
          "NotLennart",
          "Lubottus",
          "Simlll",
          "GamemasterNiki",
          "LordAlexos",
          "agowskyy",
          "M0osebumps",
          "JennieKim",
          "revolverz",
          "Dokkkkko",
          "Sower_",
          "GermanPie",
          "Julius16",
          "SiLoHB",
          "Feinberg",
          "Stockinqs",
          "Cytoox",
          "LeMetin_",
          "Janne4k",
          "Krusti",
          "Vanillinchen",
          "20LeRe10",
          "MoZadaCraft",
          "YBCM",
          "lolisamasan",
          "xBaumeisterin",
          "Bikoop",
          "Mincheeen",
          "Vacted",
          "xX_Dima_ggg_Xx6",
          "Falke23_5",
          "Tim_Voltia",
          "Seemops_8",
          "ScreamingBlatz",
          "Gryzes",
          "EinfachEazy",
          "RasenLP",
          "Lennart0911",
          "HerosHD",
          "BastiGHG",
          "Navex",
          "deadfiight",
          "frutigall",
          "Ritokii",
          "SpeckyCut"
         ],
         "y": [
          [
           40,
           40,
           40
          ],
          [
           80,
           80,
           80
          ],
          [
           83.33333333333333,
           83.33333333333333,
           83.33333333333333
          ],
          [
           6.666666666666667,
           6.666666666666667,
           6.666666666666667
          ],
          [
           13.333333333333334,
           13.333333333333334,
           13.333333333333334
          ],
          [
           76.66666666666667,
           76.66666666666667,
           76.66666666666667
          ],
          [
           6.666666666666667,
           6.666666666666667,
           6.666666666666667
          ],
          [
           0,
           0,
           0
          ],
          [
           0,
           0,
           0
          ],
          [
           10,
           10,
           10
          ],
          [
           0,
           0,
           0
          ],
          [
           73.33333333333333,
           73.33333333333333,
           73.33333333333333
          ],
          [
           0,
           0,
           0
          ],
          [
           0,
           0,
           0
          ],
          [
           33.333333333333336,
           33.333333333333336,
           33.333333333333336
          ],
          [
           0,
           0,
           0
          ],
          [
           0,
           0,
           0
          ],
          [
           30,
           30,
           30
          ],
          [
           0,
           0,
           0
          ],
          [
           0,
           0,
           0
          ],
          [
           0,
           0,
           0
          ],
          [
           0,
           0,
           0
          ],
          [
           30,
           30,
           30
          ],
          [
           20,
           20,
           20
          ],
          [
           0,
           0,
           0
          ],
          [
           50,
           50,
           50
          ],
          [
           0,
           0,
           0
          ],
          [
           0,
           0,
           0
          ],
          [
           0,
           0,
           0
          ],
          [
           0,
           0,
           0
          ],
          [
           0,
           0,
           0
          ],
          [
           0,
           0,
           0
          ],
          [
           10,
           10,
           10
          ],
          [
           0,
           0,
           0
          ],
          [
           0,
           0,
           0
          ],
          [
           0,
           0,
           0
          ],
          [
           0,
           0,
           0
          ],
          [
           0,
           0,
           0
          ],
          [
           0,
           0,
           0
          ],
          [
           0,
           0,
           0
          ],
          [
           0,
           0,
           0
          ],
          [
           0,
           0,
           0
          ],
          [
           0,
           0,
           0
          ],
          [
           0,
           0,
           0
          ],
          [
           0,
           0,
           0
          ],
          [
           0,
           0,
           0
          ],
          [
           0,
           0,
           0
          ],
          [
           0,
           0,
           0
          ],
          [
           0,
           0,
           0
          ],
          [
           0,
           0,
           0
          ],
          [
           0,
           0,
           0
          ],
          [
           0,
           0,
           0
          ],
          [
           0,
           0,
           0
          ],
          [
           0,
           0,
           0
          ],
          [
           0,
           0,
           0
          ],
          [
           0,
           0,
           0
          ],
          [
           0,
           0,
           0
          ],
          [
           0,
           0,
           0
          ],
          [
           6.666666666666667,
           6.666666666666667,
           6.666666666666667
          ],
          [
           6.666666666666667,
           6.666666666666667,
           6.666666666666667
          ],
          [
           0,
           0,
           0
          ],
          [
           20,
           20,
           20
          ],
          [
           0,
           0,
           0
          ],
          [
           0,
           0,
           0
          ],
          [
           0,
           0,
           0
          ],
          [
           0,
           0,
           0
          ],
          [
           0,
           0,
           0
          ],
          [
           0,
           0,
           0
          ],
          [
           0,
           0,
           0
          ],
          [
           0,
           0,
           0
          ],
          [
           0,
           0,
           0
          ],
          [
           0,
           0,
           0
          ],
          [
           0,
           0,
           0
          ],
          [
           0,
           0,
           0
          ],
          [
           0,
           0,
           0
          ],
          [
           0,
           0,
           0
          ],
          [
           6.666666666666667,
           6.666666666666667,
           6.666666666666667
          ],
          [
           0,
           0,
           0
          ],
          [
           0,
           0,
           0
          ],
          [
           0,
           0,
           0
          ],
          [
           0,
           0,
           0
          ],
          [
           20,
           20,
           20
          ],
          [
           0,
           0,
           0
          ],
          [
           0,
           0,
           0
          ],
          [
           0,
           0,
           0
          ],
          [
           0,
           0,
           0
          ],
          [
           0,
           0,
           0
          ],
          [
           0,
           0,
           0
          ],
          [
           0,
           0,
           0
          ],
          [
           0,
           0,
           0
          ],
          [
           0,
           0,
           0
          ],
          [
           0,
           0,
           0
          ],
          [
           0,
           0,
           0
          ],
          [
           0,
           0,
           0
          ],
          [
           13.333333333333334,
           13.333333333333334,
           13.333333333333334
          ],
          [
           0,
           0,
           0
          ],
          [
           0,
           0,
           0
          ],
          [
           0,
           0,
           0
          ],
          [
           0,
           0,
           0
          ],
          [
           0,
           0,
           0
          ]
         ]
        },
        {
         "marker": {
          "color": "rgb(170, 68, 153)"
         },
         "name": "Elytrarennen",
         "type": "bar",
         "x": [
          "cediiiiii_10",
          "Fflopse",
          "Allooy",
          "Gobo9",
          "JOW23",
          "HerrDante",
          "ReichesBrot",
          "Pedrozockt",
          "Ex4cted",
          "_n3d",
          "2wc",
          "FrozenNoah",
          "chrisihalt",
          "DarkCobweb",
          "Freeeedom",
          "camman18YT",
          "yzvm",
          "byTobi",
          "Ninivee",
          "yiiq",
          "Grapfen",
          "Squashgitter333",
          "MindsetKito",
          "Teesily",
          "KakaMC",
          "h4nnes",
          "2B9",
          "zBro",
          "unausgesprochen",
          "Schmaarek",
          "Davinci_Son",
          "miridis41",
          "TheFabo",
          "Umgfoin",
          "lizsyy",
          "Shiewk",
          "ffawks",
          "TheBreadHD",
          "HeIsJustAPoorBoy",
          "La_meleagro",
          "IchHolzDichWeg",
          "Sey__",
          "Luxemburq",
          "MaxMitMaulkorb",
          "G0at3D",
          "Gerrygames",
          "ByNetherdude",
          "Kyuudo",
          "Gummibearchen",
          "GeneralEnte06",
          "lolisamakun",
          "Lingex",
          "LeWi_100",
          "Pluto28",
          "Morittz",
          "NotLennart",
          "Lubottus",
          "Simlll",
          "GamemasterNiki",
          "LordAlexos",
          "agowskyy",
          "M0osebumps",
          "JennieKim",
          "revolverz",
          "Dokkkkko",
          "Sower_",
          "GermanPie",
          "Julius16",
          "SiLoHB",
          "Feinberg",
          "Stockinqs",
          "Cytoox",
          "LeMetin_",
          "Janne4k",
          "Krusti",
          "Vanillinchen",
          "20LeRe10",
          "MoZadaCraft",
          "YBCM",
          "lolisamasan",
          "xBaumeisterin",
          "Bikoop",
          "Mincheeen",
          "Vacted",
          "xX_Dima_ggg_Xx6",
          "Falke23_5",
          "Tim_Voltia",
          "Seemops_8",
          "ScreamingBlatz",
          "Gryzes",
          "EinfachEazy",
          "RasenLP",
          "Lennart0911",
          "HerosHD",
          "BastiGHG",
          "Navex",
          "deadfiight",
          "frutigall",
          "Ritokii",
          "SpeckyCut"
         ],
         "y": [
          73.33333333333333,
          53.333333333333336,
          83.33333333333333,
          6.666666666666667,
          0,
          0,
          80,
          0,
          0,
          23.333333333333332,
          16.666666666666668,
          0,
          36.666666666666664,
          0,
          16.666666666666668,
          0,
          0,
          0,
          0,
          0,
          0,
          93.33333333333333,
          0,
          33.333333333333336,
          0,
          0,
          0,
          0,
          0,
          0,
          0,
          0,
          0,
          0,
          0,
          0,
          0,
          0,
          0,
          0,
          0,
          0,
          0,
          0,
          0,
          0,
          0,
          0,
          0,
          0,
          0,
          0,
          0,
          0,
          0,
          0,
          0,
          0,
          0,
          0,
          0,
          0,
          0,
          0,
          0,
          0,
          0,
          0,
          0,
          0,
          0,
          0,
          0,
          0,
          0,
          0,
          0,
          0,
          0,
          0,
          0,
          0,
          0,
          0,
          0,
          0,
          0,
          0,
          0,
          0,
          0,
          10,
          0,
          0,
          0,
          0,
          0,
          0,
          0,
          0
         ]
        },
        {
         "marker": {
          "color": "rgb(68, 170, 153)"
         },
         "name": "Freier Fall",
         "type": "bar",
         "x": [
          "cediiiiii_10",
          "Fflopse",
          "Allooy",
          "Gobo9",
          "JOW23",
          "HerrDante",
          "ReichesBrot",
          "Pedrozockt",
          "Ex4cted",
          "_n3d",
          "2wc",
          "FrozenNoah",
          "chrisihalt",
          "DarkCobweb",
          "Freeeedom",
          "camman18YT",
          "yzvm",
          "byTobi",
          "Ninivee",
          "yiiq",
          "Grapfen",
          "Squashgitter333",
          "MindsetKito",
          "Teesily",
          "KakaMC",
          "h4nnes",
          "2B9",
          "zBro",
          "unausgesprochen",
          "Schmaarek",
          "Davinci_Son",
          "miridis41",
          "TheFabo",
          "Umgfoin",
          "lizsyy",
          "Shiewk",
          "ffawks",
          "TheBreadHD",
          "HeIsJustAPoorBoy",
          "La_meleagro",
          "IchHolzDichWeg",
          "Sey__",
          "Luxemburq",
          "MaxMitMaulkorb",
          "G0at3D",
          "Gerrygames",
          "ByNetherdude",
          "Kyuudo",
          "Gummibearchen",
          "GeneralEnte06",
          "lolisamakun",
          "Lingex",
          "LeWi_100",
          "Pluto28",
          "Morittz",
          "NotLennart",
          "Lubottus",
          "Simlll",
          "GamemasterNiki",
          "LordAlexos",
          "agowskyy",
          "M0osebumps",
          "JennieKim",
          "revolverz",
          "Dokkkkko",
          "Sower_",
          "GermanPie",
          "Julius16",
          "SiLoHB",
          "Feinberg",
          "Stockinqs",
          "Cytoox",
          "LeMetin_",
          "Janne4k",
          "Krusti",
          "Vanillinchen",
          "20LeRe10",
          "MoZadaCraft",
          "YBCM",
          "lolisamasan",
          "xBaumeisterin",
          "Bikoop",
          "Mincheeen",
          "Vacted",
          "xX_Dima_ggg_Xx6",
          "Falke23_5",
          "Tim_Voltia",
          "Seemops_8",
          "ScreamingBlatz",
          "Gryzes",
          "EinfachEazy",
          "RasenLP",
          "Lennart0911",
          "HerosHD",
          "BastiGHG",
          "Navex",
          "deadfiight",
          "frutigall",
          "Ritokii",
          "SpeckyCut"
         ],
         "y": [
          0,
          0,
          0,
          0,
          0,
          0,
          0,
          0,
          0,
          0,
          0,
          0,
          0,
          0,
          0,
          0,
          0,
          0,
          0,
          0,
          0,
          0,
          0,
          0,
          0,
          0,
          0,
          0,
          0,
          0,
          0,
          0,
          0,
          0,
          0,
          0,
          0,
          0,
          0,
          0,
          0,
          0,
          0,
          0,
          0,
          0,
          0,
          0,
          0,
          0,
          0,
          0,
          0,
          0,
          0,
          0,
          0,
          0,
          0,
          0,
          0,
          0,
          0,
          0,
          0,
          0,
          0,
          0,
          0,
          0,
          0,
          0,
          0,
          0,
          0,
          0,
          0,
          0,
          0,
          0,
          0,
          0,
          0,
          0,
          0,
          0,
          0,
          0,
          0,
          0,
          0,
          0,
          0,
          0,
          0,
          0,
          0,
          0,
          0,
          0
         ]
        },
        {
         "marker": {
          "color": "rgb(153, 153, 51)"
         },
         "name": "Frostiger Pfad",
         "type": "bar",
         "x": [
          "cediiiiii_10",
          "Fflopse",
          "Allooy",
          "Gobo9",
          "JOW23",
          "HerrDante",
          "ReichesBrot",
          "Pedrozockt",
          "Ex4cted",
          "_n3d",
          "2wc",
          "FrozenNoah",
          "chrisihalt",
          "DarkCobweb",
          "Freeeedom",
          "camman18YT",
          "yzvm",
          "byTobi",
          "Ninivee",
          "yiiq",
          "Grapfen",
          "Squashgitter333",
          "MindsetKito",
          "Teesily",
          "KakaMC",
          "h4nnes",
          "2B9",
          "zBro",
          "unausgesprochen",
          "Schmaarek",
          "Davinci_Son",
          "miridis41",
          "TheFabo",
          "Umgfoin",
          "lizsyy",
          "Shiewk",
          "ffawks",
          "TheBreadHD",
          "HeIsJustAPoorBoy",
          "La_meleagro",
          "IchHolzDichWeg",
          "Sey__",
          "Luxemburq",
          "MaxMitMaulkorb",
          "G0at3D",
          "Gerrygames",
          "ByNetherdude",
          "Kyuudo",
          "Gummibearchen",
          "GeneralEnte06",
          "lolisamakun",
          "Lingex",
          "LeWi_100",
          "Pluto28",
          "Morittz",
          "NotLennart",
          "Lubottus",
          "Simlll",
          "GamemasterNiki",
          "LordAlexos",
          "agowskyy",
          "M0osebumps",
          "JennieKim",
          "revolverz",
          "Dokkkkko",
          "Sower_",
          "GermanPie",
          "Julius16",
          "SiLoHB",
          "Feinberg",
          "Stockinqs",
          "Cytoox",
          "LeMetin_",
          "Janne4k",
          "Krusti",
          "Vanillinchen",
          "20LeRe10",
          "MoZadaCraft",
          "YBCM",
          "lolisamasan",
          "xBaumeisterin",
          "Bikoop",
          "Mincheeen",
          "Vacted",
          "xX_Dima_ggg_Xx6",
          "Falke23_5",
          "Tim_Voltia",
          "Seemops_8",
          "ScreamingBlatz",
          "Gryzes",
          "EinfachEazy",
          "RasenLP",
          "Lennart0911",
          "HerosHD",
          "BastiGHG",
          "Navex",
          "deadfiight",
          "frutigall",
          "Ritokii",
          "SpeckyCut"
         ],
         "y": [
          70,
          40,
          100,
          90,
          0,
          0,
          80,
          0,
          0,
          0,
          0,
          0,
          0,
          0,
          60,
          0,
          0,
          0,
          20,
          0,
          0,
          0,
          0,
          0,
          0,
          0,
          0,
          0,
          0,
          0,
          0,
          0,
          0,
          0,
          0,
          0,
          0,
          0,
          0,
          0,
          0,
          0,
          50,
          0,
          0,
          0,
          0,
          0,
          0,
          0,
          0,
          0,
          0,
          0,
          0,
          0,
          0,
          0,
          30,
          0,
          0,
          0,
          0,
          0,
          0,
          0,
          0,
          0,
          0,
          0,
          0,
          0,
          0,
          0,
          0,
          0,
          0,
          0,
          0,
          0,
          0,
          0,
          0,
          0,
          0,
          0,
          0,
          0,
          0,
          0,
          0,
          0,
          0,
          0,
          0,
          0,
          0,
          0,
          0,
          0
         ]
        },
        {
         "marker": {
          "color": "rgb(136, 34, 85)"
         },
         "name": "Hoch hinaus",
         "type": "bar",
         "x": [
          "cediiiiii_10",
          "Fflopse",
          "Allooy",
          "Gobo9",
          "JOW23",
          "HerrDante",
          "ReichesBrot",
          "Pedrozockt",
          "Ex4cted",
          "_n3d",
          "2wc",
          "FrozenNoah",
          "chrisihalt",
          "DarkCobweb",
          "Freeeedom",
          "camman18YT",
          "yzvm",
          "byTobi",
          "Ninivee",
          "yiiq",
          "Grapfen",
          "Squashgitter333",
          "MindsetKito",
          "Teesily",
          "KakaMC",
          "h4nnes",
          "2B9",
          "zBro",
          "unausgesprochen",
          "Schmaarek",
          "Davinci_Son",
          "miridis41",
          "TheFabo",
          "Umgfoin",
          "lizsyy",
          "Shiewk",
          "ffawks",
          "TheBreadHD",
          "HeIsJustAPoorBoy",
          "La_meleagro",
          "IchHolzDichWeg",
          "Sey__",
          "Luxemburq",
          "MaxMitMaulkorb",
          "G0at3D",
          "Gerrygames",
          "ByNetherdude",
          "Kyuudo",
          "Gummibearchen",
          "GeneralEnte06",
          "lolisamakun",
          "Lingex",
          "LeWi_100",
          "Pluto28",
          "Morittz",
          "NotLennart",
          "Lubottus",
          "Simlll",
          "GamemasterNiki",
          "LordAlexos",
          "agowskyy",
          "M0osebumps",
          "JennieKim",
          "revolverz",
          "Dokkkkko",
          "Sower_",
          "GermanPie",
          "Julius16",
          "SiLoHB",
          "Feinberg",
          "Stockinqs",
          "Cytoox",
          "LeMetin_",
          "Janne4k",
          "Krusti",
          "Vanillinchen",
          "20LeRe10",
          "MoZadaCraft",
          "YBCM",
          "lolisamasan",
          "xBaumeisterin",
          "Bikoop",
          "Mincheeen",
          "Vacted",
          "xX_Dima_ggg_Xx6",
          "Falke23_5",
          "Tim_Voltia",
          "Seemops_8",
          "ScreamingBlatz",
          "Gryzes",
          "EinfachEazy",
          "RasenLP",
          "Lennart0911",
          "HerosHD",
          "BastiGHG",
          "Navex",
          "deadfiight",
          "frutigall",
          "Ritokii",
          "SpeckyCut"
         ],
         "y": [
          60,
          70,
          0,
          30,
          0,
          0,
          20,
          80,
          0,
          50,
          0,
          0,
          0,
          0,
          0,
          0,
          0,
          0,
          90,
          0,
          0,
          0,
          0,
          50,
          0,
          0,
          0,
          0,
          0,
          0,
          0,
          0,
          0,
          0,
          0,
          0,
          0,
          0,
          0,
          0,
          0,
          0,
          0,
          0,
          0,
          0,
          100,
          0,
          0,
          0,
          0,
          0,
          0,
          0,
          0,
          0,
          0,
          0,
          0,
          0,
          0,
          0,
          0,
          0,
          0,
          0,
          0,
          0,
          0,
          0,
          0,
          0,
          0,
          0,
          0,
          0,
          0,
          0,
          0,
          0,
          0,
          0,
          0,
          0,
          0,
          0,
          0,
          0,
          0,
          0,
          0,
          0,
          0,
          0,
          0,
          0,
          0,
          0,
          0,
          0
         ]
        },
        {
         "marker": {
          "color": "rgb(102, 17, 0)"
         },
         "name": "Jump and Run",
         "type": "bar",
         "x": [
          "cediiiiii_10",
          "Fflopse",
          "Allooy",
          "Gobo9",
          "JOW23",
          "HerrDante",
          "ReichesBrot",
          "Pedrozockt",
          "Ex4cted",
          "_n3d",
          "2wc",
          "FrozenNoah",
          "chrisihalt",
          "DarkCobweb",
          "Freeeedom",
          "camman18YT",
          "yzvm",
          "byTobi",
          "Ninivee",
          "yiiq",
          "Grapfen",
          "Squashgitter333",
          "MindsetKito",
          "Teesily",
          "KakaMC",
          "h4nnes",
          "2B9",
          "zBro",
          "unausgesprochen",
          "Schmaarek",
          "Davinci_Son",
          "miridis41",
          "TheFabo",
          "Umgfoin",
          "lizsyy",
          "Shiewk",
          "ffawks",
          "TheBreadHD",
          "HeIsJustAPoorBoy",
          "La_meleagro",
          "IchHolzDichWeg",
          "Sey__",
          "Luxemburq",
          "MaxMitMaulkorb",
          "G0at3D",
          "Gerrygames",
          "ByNetherdude",
          "Kyuudo",
          "Gummibearchen",
          "GeneralEnte06",
          "lolisamakun",
          "Lingex",
          "LeWi_100",
          "Pluto28",
          "Morittz",
          "NotLennart",
          "Lubottus",
          "Simlll",
          "GamemasterNiki",
          "LordAlexos",
          "agowskyy",
          "M0osebumps",
          "JennieKim",
          "revolverz",
          "Dokkkkko",
          "Sower_",
          "GermanPie",
          "Julius16",
          "SiLoHB",
          "Feinberg",
          "Stockinqs",
          "Cytoox",
          "LeMetin_",
          "Janne4k",
          "Krusti",
          "Vanillinchen",
          "20LeRe10",
          "MoZadaCraft",
          "YBCM",
          "lolisamasan",
          "xBaumeisterin",
          "Bikoop",
          "Mincheeen",
          "Vacted",
          "xX_Dima_ggg_Xx6",
          "Falke23_5",
          "Tim_Voltia",
          "Seemops_8",
          "ScreamingBlatz",
          "Gryzes",
          "EinfachEazy",
          "RasenLP",
          "Lennart0911",
          "HerosHD",
          "BastiGHG",
          "Navex",
          "deadfiight",
          "frutigall",
          "Ritokii",
          "SpeckyCut"
         ],
         "y": [
          33.333333333333336,
          50,
          70,
          86.66666666666667,
          13.333333333333334,
          6.666666666666667,
          93.33333333333333,
          20,
          0,
          0,
          16.666666666666668,
          0,
          30,
          0,
          0,
          33.333333333333336,
          0,
          0,
          0,
          0,
          0,
          0,
          0,
          0,
          0,
          0,
          0,
          0,
          0,
          0,
          0,
          0,
          0,
          0,
          0,
          0,
          0,
          0,
          0,
          0,
          0,
          33.333333333333336,
          0,
          0,
          0,
          0,
          0,
          0,
          0,
          0,
          0,
          0,
          30,
          16.666666666666668,
          0,
          0,
          0,
          0,
          0,
          0,
          0,
          0,
          0,
          0,
          0,
          0,
          0,
          0,
          0,
          0,
          0,
          0,
          0,
          0,
          0,
          0,
          0,
          0,
          0,
          0,
          0,
          0,
          0,
          0,
          0,
          0,
          0,
          0,
          0,
          0,
          0,
          0,
          0,
          0,
          0,
          0,
          0,
          0,
          0,
          0
         ]
        },
        {
         "marker": {
          "color": "rgb(136, 136, 136)"
         },
         "name": "Kletter-König",
         "type": "bar",
         "x": [
          "cediiiiii_10",
          "Fflopse",
          "Allooy",
          "Gobo9",
          "JOW23",
          "HerrDante",
          "ReichesBrot",
          "Pedrozockt",
          "Ex4cted",
          "_n3d",
          "2wc",
          "FrozenNoah",
          "chrisihalt",
          "DarkCobweb",
          "Freeeedom",
          "camman18YT",
          "yzvm",
          "byTobi",
          "Ninivee",
          "yiiq",
          "Grapfen",
          "Squashgitter333",
          "MindsetKito",
          "Teesily",
          "KakaMC",
          "h4nnes",
          "2B9",
          "zBro",
          "unausgesprochen",
          "Schmaarek",
          "Davinci_Son",
          "miridis41",
          "TheFabo",
          "Umgfoin",
          "lizsyy",
          "Shiewk",
          "ffawks",
          "TheBreadHD",
          "HeIsJustAPoorBoy",
          "La_meleagro",
          "IchHolzDichWeg",
          "Sey__",
          "Luxemburq",
          "MaxMitMaulkorb",
          "G0at3D",
          "Gerrygames",
          "ByNetherdude",
          "Kyuudo",
          "Gummibearchen",
          "GeneralEnte06",
          "lolisamakun",
          "Lingex",
          "LeWi_100",
          "Pluto28",
          "Morittz",
          "NotLennart",
          "Lubottus",
          "Simlll",
          "GamemasterNiki",
          "LordAlexos",
          "agowskyy",
          "M0osebumps",
          "JennieKim",
          "revolverz",
          "Dokkkkko",
          "Sower_",
          "GermanPie",
          "Julius16",
          "SiLoHB",
          "Feinberg",
          "Stockinqs",
          "Cytoox",
          "LeMetin_",
          "Janne4k",
          "Krusti",
          "Vanillinchen",
          "20LeRe10",
          "MoZadaCraft",
          "YBCM",
          "lolisamasan",
          "xBaumeisterin",
          "Bikoop",
          "Mincheeen",
          "Vacted",
          "xX_Dima_ggg_Xx6",
          "Falke23_5",
          "Tim_Voltia",
          "Seemops_8",
          "ScreamingBlatz",
          "Gryzes",
          "EinfachEazy",
          "RasenLP",
          "Lennart0911",
          "HerosHD",
          "BastiGHG",
          "Navex",
          "deadfiight",
          "frutigall",
          "Ritokii",
          "SpeckyCut"
         ],
         "y": [
          46.666666666666664,
          73.33333333333333,
          46.666666666666664,
          26.666666666666668,
          0,
          10,
          66.66666666666667,
          0,
          0,
          0,
          10,
          0,
          23.333333333333332,
          0,
          0,
          33.333333333333336,
          10,
          0,
          26.666666666666668,
          53.333333333333336,
          0,
          0,
          0,
          0,
          0,
          0,
          0,
          0,
          0,
          0,
          0,
          0,
          0,
          0,
          0,
          0,
          6.666666666666667,
          0,
          0,
          0,
          0,
          0,
          0,
          0,
          0,
          0,
          0,
          0,
          0,
          0,
          0,
          0,
          23.333333333333332,
          0,
          0,
          0,
          23.333333333333332,
          0,
          0,
          0,
          0,
          0,
          20,
          0,
          0,
          0,
          0,
          0,
          0,
          13.333333333333334,
          0,
          0,
          0,
          0,
          0,
          0,
          0,
          0,
          0,
          0,
          0,
          0,
          0,
          0,
          26.666666666666668,
          0,
          0,
          0,
          0,
          0,
          0,
          0,
          0,
          0,
          0,
          0,
          0,
          0,
          0,
          0
         ]
        },
        {
         "marker": {
          "color": "rgb(136, 204, 238)"
         },
         "name": "Lasertag",
         "type": "bar",
         "x": [
          "cediiiiii_10",
          "Fflopse",
          "Allooy",
          "Gobo9",
          "JOW23",
          "HerrDante",
          "ReichesBrot",
          "Pedrozockt",
          "Ex4cted",
          "_n3d",
          "2wc",
          "FrozenNoah",
          "chrisihalt",
          "DarkCobweb",
          "Freeeedom",
          "camman18YT",
          "yzvm",
          "byTobi",
          "Ninivee",
          "yiiq",
          "Grapfen",
          "Squashgitter333",
          "MindsetKito",
          "Teesily",
          "KakaMC",
          "h4nnes",
          "2B9",
          "zBro",
          "unausgesprochen",
          "Schmaarek",
          "Davinci_Son",
          "miridis41",
          "TheFabo",
          "Umgfoin",
          "lizsyy",
          "Shiewk",
          "ffawks",
          "TheBreadHD",
          "HeIsJustAPoorBoy",
          "La_meleagro",
          "IchHolzDichWeg",
          "Sey__",
          "Luxemburq",
          "MaxMitMaulkorb",
          "G0at3D",
          "Gerrygames",
          "ByNetherdude",
          "Kyuudo",
          "Gummibearchen",
          "GeneralEnte06",
          "lolisamakun",
          "Lingex",
          "LeWi_100",
          "Pluto28",
          "Morittz",
          "NotLennart",
          "Lubottus",
          "Simlll",
          "GamemasterNiki",
          "LordAlexos",
          "agowskyy",
          "M0osebumps",
          "JennieKim",
          "revolverz",
          "Dokkkkko",
          "Sower_",
          "GermanPie",
          "Julius16",
          "SiLoHB",
          "Feinberg",
          "Stockinqs",
          "Cytoox",
          "LeMetin_",
          "Janne4k",
          "Krusti",
          "Vanillinchen",
          "20LeRe10",
          "MoZadaCraft",
          "YBCM",
          "lolisamasan",
          "xBaumeisterin",
          "Bikoop",
          "Mincheeen",
          "Vacted",
          "xX_Dima_ggg_Xx6",
          "Falke23_5",
          "Tim_Voltia",
          "Seemops_8",
          "ScreamingBlatz",
          "Gryzes",
          "EinfachEazy",
          "RasenLP",
          "Lennart0911",
          "HerosHD",
          "BastiGHG",
          "Navex",
          "deadfiight",
          "frutigall",
          "Ritokii",
          "SpeckyCut"
         ],
         "y": [
          [
           20,
           20,
           20
          ],
          [
           83.33333333333333,
           83.33333333333333,
           83.33333333333333
          ],
          [
           0,
           0,
           0
          ],
          [
           20,
           20,
           20
          ],
          [
           40,
           40,
           40
          ],
          [
           83.33333333333333,
           83.33333333333333,
           83.33333333333333
          ],
          [
           13.333333333333334,
           13.333333333333334,
           13.333333333333334
          ],
          [
           26.666666666666668,
           26.666666666666668,
           26.666666666666668
          ],
          [
           30,
           30,
           30
          ],
          [
           0,
           0,
           0
          ],
          [
           23.333333333333332,
           23.333333333333332,
           23.333333333333332
          ],
          [
           0,
           0,
           0
          ],
          [
           0,
           0,
           0
          ],
          [
           0,
           0,
           0
          ],
          [
           0,
           0,
           0
          ],
          [
           0,
           0,
           0
          ],
          [
           0,
           0,
           0
          ],
          [
           0,
           0,
           0
          ],
          [
           0,
           0,
           0
          ],
          [
           0,
           0,
           0
          ],
          [
           10,
           10,
           10
          ],
          [
           0,
           0,
           0
          ],
          [
           33.333333333333336,
           33.333333333333336,
           33.333333333333336
          ],
          [
           0,
           0,
           0
          ],
          [
           0,
           0,
           0
          ],
          [
           20,
           20,
           20
          ],
          [
           0,
           0,
           0
          ],
          [
           6.666666666666667,
           6.666666666666667,
           6.666666666666667
          ],
          [
           30,
           30,
           30
          ],
          [
           0,
           0,
           0
          ],
          [
           10,
           10,
           10
          ],
          [
           0,
           0,
           0
          ],
          [
           43.333333333333336,
           43.333333333333336,
           43.333333333333336
          ],
          [
           0,
           0,
           0
          ],
          [
           0,
           0,
           0
          ],
          [
           0,
           0,
           0
          ],
          [
           26.666666666666668,
           26.666666666666668,
           26.666666666666668
          ],
          [
           0,
           0,
           0
          ],
          [
           0,
           0,
           0
          ],
          [
           0,
           0,
           0
          ],
          [
           0,
           0,
           0
          ],
          [
           0,
           0,
           0
          ],
          [
           0,
           0,
           0
          ],
          [
           0,
           0,
           0
          ],
          [
           0,
           0,
           0
          ],
          [
           0,
           0,
           0
          ],
          [
           0,
           0,
           0
          ],
          [
           0,
           0,
           0
          ],
          [
           0,
           0,
           0
          ],
          [
           0,
           0,
           0
          ],
          [
           0,
           0,
           0
          ],
          [
           0,
           0,
           0
          ],
          [
           0,
           0,
           0
          ],
          [
           0,
           0,
           0
          ],
          [
           0,
           0,
           0
          ],
          [
           0,
           0,
           0
          ],
          [
           0,
           0,
           0
          ],
          [
           0,
           0,
           0
          ],
          [
           0,
           0,
           0
          ],
          [
           0,
           0,
           0
          ],
          [
           0,
           0,
           0
          ],
          [
           0,
           0,
           0
          ],
          [
           0,
           0,
           0
          ],
          [
           16.666666666666668,
           16.666666666666668,
           16.666666666666668
          ],
          [
           0,
           0,
           0
          ],
          [
           0,
           0,
           0
          ],
          [
           0,
           0,
           0
          ],
          [
           0,
           0,
           0
          ],
          [
           0,
           0,
           0
          ],
          [
           0,
           0,
           0
          ],
          [
           0,
           0,
           0
          ],
          [
           0,
           0,
           0
          ],
          [
           0,
           0,
           0
          ],
          [
           0,
           0,
           0
          ],
          [
           0,
           0,
           0
          ],
          [
           0,
           0,
           0
          ],
          [
           0,
           0,
           0
          ],
          [
           0,
           0,
           0
          ],
          [
           0,
           0,
           0
          ],
          [
           20,
           20,
           20
          ],
          [
           0,
           0,
           0
          ],
          [
           0,
           0,
           0
          ],
          [
           0,
           0,
           0
          ],
          [
           0,
           0,
           0
          ],
          [
           0,
           0,
           0
          ],
          [
           0,
           0,
           0
          ],
          [
           0,
           0,
           0
          ],
          [
           0,
           0,
           0
          ],
          [
           0,
           0,
           0
          ],
          [
           13.333333333333334,
           13.333333333333334,
           13.333333333333334
          ],
          [
           0,
           0,
           0
          ],
          [
           0,
           0,
           0
          ],
          [
           0,
           0,
           0
          ],
          [
           0,
           0,
           0
          ],
          [
           0,
           0,
           0
          ],
          [
           0,
           0,
           0
          ],
          [
           0,
           0,
           0
          ],
          [
           10,
           10,
           10
          ],
          [
           0,
           0,
           0
          ],
          [
           0,
           0,
           0
          ]
         ]
        },
        {
         "marker": {
          "color": "rgb(204, 102, 119)"
         },
         "name": "Minenfeld",
         "type": "bar",
         "x": [
          "cediiiiii_10",
          "Fflopse",
          "Allooy",
          "Gobo9",
          "JOW23",
          "HerrDante",
          "ReichesBrot",
          "Pedrozockt",
          "Ex4cted",
          "_n3d",
          "2wc",
          "FrozenNoah",
          "chrisihalt",
          "DarkCobweb",
          "Freeeedom",
          "camman18YT",
          "yzvm",
          "byTobi",
          "Ninivee",
          "yiiq",
          "Grapfen",
          "Squashgitter333",
          "MindsetKito",
          "Teesily",
          "KakaMC",
          "h4nnes",
          "2B9",
          "zBro",
          "unausgesprochen",
          "Schmaarek",
          "Davinci_Son",
          "miridis41",
          "TheFabo",
          "Umgfoin",
          "lizsyy",
          "Shiewk",
          "ffawks",
          "TheBreadHD",
          "HeIsJustAPoorBoy",
          "La_meleagro",
          "IchHolzDichWeg",
          "Sey__",
          "Luxemburq",
          "MaxMitMaulkorb",
          "G0at3D",
          "Gerrygames",
          "ByNetherdude",
          "Kyuudo",
          "Gummibearchen",
          "GeneralEnte06",
          "lolisamakun",
          "Lingex",
          "LeWi_100",
          "Pluto28",
          "Morittz",
          "NotLennart",
          "Lubottus",
          "Simlll",
          "GamemasterNiki",
          "LordAlexos",
          "agowskyy",
          "M0osebumps",
          "JennieKim",
          "revolverz",
          "Dokkkkko",
          "Sower_",
          "GermanPie",
          "Julius16",
          "SiLoHB",
          "Feinberg",
          "Stockinqs",
          "Cytoox",
          "LeMetin_",
          "Janne4k",
          "Krusti",
          "Vanillinchen",
          "20LeRe10",
          "MoZadaCraft",
          "YBCM",
          "lolisamasan",
          "xBaumeisterin",
          "Bikoop",
          "Mincheeen",
          "Vacted",
          "xX_Dima_ggg_Xx6",
          "Falke23_5",
          "Tim_Voltia",
          "Seemops_8",
          "ScreamingBlatz",
          "Gryzes",
          "EinfachEazy",
          "RasenLP",
          "Lennart0911",
          "HerosHD",
          "BastiGHG",
          "Navex",
          "deadfiight",
          "frutigall",
          "Ritokii",
          "SpeckyCut"
         ],
         "y": [
          10,
          33.333333333333336,
          13.333333333333334,
          0,
          0,
          46.666666666666664,
          16.666666666666668,
          0,
          10,
          20,
          0,
          16.666666666666668,
          33.333333333333336,
          0,
          23.333333333333332,
          0,
          0,
          0,
          10,
          0,
          0,
          0,
          0,
          0,
          0,
          0,
          23.333333333333332,
          56.666666666666664,
          0,
          0,
          0,
          0,
          0,
          0,
          0,
          0,
          0,
          0,
          0,
          0,
          0,
          43.333333333333336,
          0,
          33.333333333333336,
          0,
          0,
          0,
          0,
          0,
          0,
          0,
          0,
          23.333333333333332,
          0,
          0,
          0,
          0,
          0,
          0,
          0,
          0,
          0,
          0,
          0,
          0,
          0,
          0,
          0,
          0,
          0,
          0,
          0,
          30,
          0,
          13.333333333333334,
          0,
          0,
          0,
          0,
          0,
          0,
          0,
          0,
          0,
          0,
          0,
          0,
          0,
          0,
          0,
          0,
          0,
          0,
          0,
          0,
          0,
          0,
          6.666666666666667,
          0,
          0
         ]
        },
        {
         "marker": {
          "color": "rgb(221, 204, 119)"
         },
         "name": "Minengefecht",
         "type": "bar",
         "x": [
          "cediiiiii_10",
          "Fflopse",
          "Allooy",
          "Gobo9",
          "JOW23",
          "HerrDante",
          "ReichesBrot",
          "Pedrozockt",
          "Ex4cted",
          "_n3d",
          "2wc",
          "FrozenNoah",
          "chrisihalt",
          "DarkCobweb",
          "Freeeedom",
          "camman18YT",
          "yzvm",
          "byTobi",
          "Ninivee",
          "yiiq",
          "Grapfen",
          "Squashgitter333",
          "MindsetKito",
          "Teesily",
          "KakaMC",
          "h4nnes",
          "2B9",
          "zBro",
          "unausgesprochen",
          "Schmaarek",
          "Davinci_Son",
          "miridis41",
          "TheFabo",
          "Umgfoin",
          "lizsyy",
          "Shiewk",
          "ffawks",
          "TheBreadHD",
          "HeIsJustAPoorBoy",
          "La_meleagro",
          "IchHolzDichWeg",
          "Sey__",
          "Luxemburq",
          "MaxMitMaulkorb",
          "G0at3D",
          "Gerrygames",
          "ByNetherdude",
          "Kyuudo",
          "Gummibearchen",
          "GeneralEnte06",
          "lolisamakun",
          "Lingex",
          "LeWi_100",
          "Pluto28",
          "Morittz",
          "NotLennart",
          "Lubottus",
          "Simlll",
          "GamemasterNiki",
          "LordAlexos",
          "agowskyy",
          "M0osebumps",
          "JennieKim",
          "revolverz",
          "Dokkkkko",
          "Sower_",
          "GermanPie",
          "Julius16",
          "SiLoHB",
          "Feinberg",
          "Stockinqs",
          "Cytoox",
          "LeMetin_",
          "Janne4k",
          "Krusti",
          "Vanillinchen",
          "20LeRe10",
          "MoZadaCraft",
          "YBCM",
          "lolisamasan",
          "xBaumeisterin",
          "Bikoop",
          "Mincheeen",
          "Vacted",
          "xX_Dima_ggg_Xx6",
          "Falke23_5",
          "Tim_Voltia",
          "Seemops_8",
          "ScreamingBlatz",
          "Gryzes",
          "EinfachEazy",
          "RasenLP",
          "Lennart0911",
          "HerosHD",
          "BastiGHG",
          "Navex",
          "deadfiight",
          "frutigall",
          "Ritokii",
          "SpeckyCut"
         ],
         "y": [
          [
           72.5,
           72.5,
           72.5
          ],
          [
           10,
           10,
           10
          ],
          [
           47.5,
           47.5,
           47.5
          ],
          [
           50,
           50,
           50
          ],
          [
           52.5,
           52.5,
           52.5
          ],
          [
           7.5,
           7.5,
           7.5
          ],
          [
           10,
           10,
           10
          ],
          [
           0,
           0,
           0
          ],
          [
           0,
           0,
           0
          ],
          [
           7.5,
           7.5,
           7.5
          ],
          [
           20,
           20,
           20
          ],
          [
           55,
           55,
           55
          ],
          [
           45,
           45,
           45
          ],
          [
           52.5,
           52.5,
           52.5
          ],
          [
           0,
           0,
           0
          ],
          [
           0,
           0,
           0
          ],
          [
           30,
           30,
           30
          ],
          [
           0,
           0,
           0
          ],
          [
           0,
           0,
           0
          ],
          [
           47.5,
           47.5,
           47.5
          ],
          [
           10,
           10,
           10
          ],
          [
           0,
           0,
           0
          ],
          [
           0,
           0,
           0
          ],
          [
           0,
           0,
           0
          ],
          [
           0,
           0,
           0
          ],
          [
           0,
           0,
           0
          ],
          [
           0,
           0,
           0
          ],
          [
           0,
           0,
           0
          ],
          [
           0,
           0,
           0
          ],
          [
           20,
           20,
           20
          ],
          [
           20,
           20,
           20
          ],
          [
           0,
           0,
           0
          ],
          [
           0,
           0,
           0
          ],
          [
           0,
           0,
           0
          ],
          [
           0,
           0,
           0
          ],
          [
           0,
           0,
           0
          ],
          [
           7.5,
           7.5,
           7.5
          ],
          [
           0,
           0,
           0
          ],
          [
           0,
           0,
           0
          ],
          [
           0,
           0,
           0
          ],
          [
           0,
           0,
           0
          ],
          [
           0,
           0,
           0
          ],
          [
           0,
           0,
           0
          ],
          [
           0,
           0,
           0
          ],
          [
           0,
           0,
           0
          ],
          [
           0,
           0,
           0
          ],
          [
           0,
           0,
           0
          ],
          [
           22.5,
           22.5,
           22.5
          ],
          [
           0,
           0,
           0
          ],
          [
           0,
           0,
           0
          ],
          [
           0,
           0,
           0
          ],
          [
           0,
           0,
           0
          ],
          [
           0,
           0,
           0
          ],
          [
           0,
           0,
           0
          ],
          [
           7.5,
           7.5,
           7.5
          ],
          [
           20,
           20,
           20
          ],
          [
           0,
           0,
           0
          ],
          [
           0,
           0,
           0
          ],
          [
           0,
           0,
           0
          ],
          [
           0,
           0,
           0
          ],
          [
           0,
           0,
           0
          ],
          [
           0,
           0,
           0
          ],
          [
           0,
           0,
           0
          ],
          [
           0,
           0,
           0
          ],
          [
           0,
           0,
           0
          ],
          [
           0,
           0,
           0
          ],
          [
           0,
           0,
           0
          ],
          [
           0,
           0,
           0
          ],
          [
           0,
           0,
           0
          ],
          [
           0,
           0,
           0
          ],
          [
           0,
           0,
           0
          ],
          [
           0,
           0,
           0
          ],
          [
           0,
           0,
           0
          ],
          [
           22.5,
           22.5,
           22.5
          ],
          [
           0,
           0,
           0
          ],
          [
           20,
           20,
           20
          ],
          [
           0,
           0,
           0
          ],
          [
           7.5,
           7.5,
           7.5
          ],
          [
           0,
           0,
           0
          ],
          [
           0,
           0,
           0
          ],
          [
           0,
           0,
           0
          ],
          [
           0,
           0,
           0
          ],
          [
           0,
           0,
           0
          ],
          [
           0,
           0,
           0
          ],
          [
           7.5,
           7.5,
           7.5
          ],
          [
           0,
           0,
           0
          ],
          [
           0,
           0,
           0
          ],
          [
           0,
           0,
           0
          ],
          [
           0,
           0,
           0
          ],
          [
           0,
           0,
           0
          ],
          [
           0,
           0,
           0
          ],
          [
           0,
           0,
           0
          ],
          [
           0,
           0,
           0
          ],
          [
           0,
           0,
           0
          ],
          [
           0,
           0,
           0
          ],
          [
           0,
           0,
           0
          ],
          [
           0,
           0,
           0
          ],
          [
           0,
           0,
           0
          ],
          [
           0,
           0,
           0
          ],
          [
           0,
           0,
           0
          ]
         ]
        },
        {
         "marker": {
          "color": "rgb(17, 119, 51)"
         },
         "name": "Mini Survivalgames",
         "type": "bar",
         "x": [
          "cediiiiii_10",
          "Fflopse",
          "Allooy",
          "Gobo9",
          "JOW23",
          "HerrDante",
          "ReichesBrot",
          "Pedrozockt",
          "Ex4cted",
          "_n3d",
          "2wc",
          "FrozenNoah",
          "chrisihalt",
          "DarkCobweb",
          "Freeeedom",
          "camman18YT",
          "yzvm",
          "byTobi",
          "Ninivee",
          "yiiq",
          "Grapfen",
          "Squashgitter333",
          "MindsetKito",
          "Teesily",
          "KakaMC",
          "h4nnes",
          "2B9",
          "zBro",
          "unausgesprochen",
          "Schmaarek",
          "Davinci_Son",
          "miridis41",
          "TheFabo",
          "Umgfoin",
          "lizsyy",
          "Shiewk",
          "ffawks",
          "TheBreadHD",
          "HeIsJustAPoorBoy",
          "La_meleagro",
          "IchHolzDichWeg",
          "Sey__",
          "Luxemburq",
          "MaxMitMaulkorb",
          "G0at3D",
          "Gerrygames",
          "ByNetherdude",
          "Kyuudo",
          "Gummibearchen",
          "GeneralEnte06",
          "lolisamakun",
          "Lingex",
          "LeWi_100",
          "Pluto28",
          "Morittz",
          "NotLennart",
          "Lubottus",
          "Simlll",
          "GamemasterNiki",
          "LordAlexos",
          "agowskyy",
          "M0osebumps",
          "JennieKim",
          "revolverz",
          "Dokkkkko",
          "Sower_",
          "GermanPie",
          "Julius16",
          "SiLoHB",
          "Feinberg",
          "Stockinqs",
          "Cytoox",
          "LeMetin_",
          "Janne4k",
          "Krusti",
          "Vanillinchen",
          "20LeRe10",
          "MoZadaCraft",
          "YBCM",
          "lolisamasan",
          "xBaumeisterin",
          "Bikoop",
          "Mincheeen",
          "Vacted",
          "xX_Dima_ggg_Xx6",
          "Falke23_5",
          "Tim_Voltia",
          "Seemops_8",
          "ScreamingBlatz",
          "Gryzes",
          "EinfachEazy",
          "RasenLP",
          "Lennart0911",
          "HerosHD",
          "BastiGHG",
          "Navex",
          "deadfiight",
          "frutigall",
          "Ritokii",
          "SpeckyCut"
         ],
         "y": [
          [
           33.333333333333336,
           33.333333333333336,
           33.333333333333336,
           33.333333333333336
          ],
          [
           6.666666666666667,
           6.666666666666667,
           6.666666666666667,
           6.666666666666667
          ],
          [
           33.333333333333336,
           33.333333333333336,
           33.333333333333336,
           33.333333333333336
          ],
          [
           20,
           20,
           20,
           20
          ],
          [
           16.666666666666668,
           16.666666666666668,
           16.666666666666668,
           16.666666666666668
          ],
          [
           0,
           0,
           0,
           0
          ],
          [
           33.333333333333336,
           33.333333333333336,
           33.333333333333336,
           33.333333333333336
          ],
          [
           0,
           0,
           0,
           0
          ],
          [
           0,
           0,
           0,
           0
          ],
          [
           6.666666666666667,
           6.666666666666667,
           6.666666666666667,
           6.666666666666667
          ],
          [
           33.333333333333336,
           33.333333333333336,
           33.333333333333336,
           33.333333333333336
          ],
          [
           33.333333333333336,
           33.333333333333336,
           33.333333333333336,
           33.333333333333336
          ],
          [
           6.666666666666667,
           6.666666666666667,
           6.666666666666667,
           6.666666666666667
          ],
          [
           10,
           10,
           10,
           10
          ],
          [
           20,
           20,
           20,
           20
          ],
          [
           46.666666666666664,
           46.666666666666664,
           46.666666666666664,
           46.666666666666664
          ],
          [
           0,
           0,
           0,
           0
          ],
          [
           43.333333333333336,
           43.333333333333336,
           43.333333333333336,
           43.333333333333336
          ],
          [
           10,
           10,
           10,
           10
          ],
          [
           0,
           0,
           0,
           0
          ],
          [
           26.666666666666668,
           26.666666666666668,
           26.666666666666668,
           26.666666666666668
          ],
          [
           0,
           0,
           0,
           0
          ],
          [
           20,
           20,
           20,
           20
          ],
          [
           0,
           0,
           0,
           0
          ],
          [
           0,
           0,
           0,
           0
          ],
          [
           10,
           10,
           10,
           10
          ],
          [
           33.333333333333336,
           33.333333333333336,
           33.333333333333336,
           33.333333333333336
          ],
          [
           0,
           0,
           0,
           0
          ],
          [
           0,
           0,
           0,
           0
          ],
          [
           16.666666666666668,
           16.666666666666668,
           16.666666666666668,
           16.666666666666668
          ],
          [
           10,
           10,
           10,
           10
          ],
          [
           10,
           10,
           10,
           10
          ],
          [
           0,
           0,
           0,
           0
          ],
          [
           0,
           0,
           0,
           0
          ],
          [
           0,
           0,
           0,
           0
          ],
          [
           26.666666666666668,
           26.666666666666668,
           26.666666666666668,
           26.666666666666668
          ],
          [
           0,
           0,
           0,
           0
          ],
          [
           46.666666666666664,
           46.666666666666664,
           46.666666666666664,
           46.666666666666664
          ],
          [
           26.666666666666668,
           26.666666666666668,
           26.666666666666668,
           26.666666666666668
          ],
          [
           0,
           0,
           0,
           0
          ],
          [
           33.333333333333336,
           33.333333333333336,
           33.333333333333336,
           33.333333333333336
          ],
          [
           0,
           0,
           0,
           0
          ],
          [
           0,
           0,
           0,
           0
          ],
          [
           10,
           10,
           10,
           10
          ],
          [
           30,
           30,
           30,
           30
          ],
          [
           0,
           0,
           0,
           0
          ],
          [
           6.666666666666667,
           6.666666666666667,
           6.666666666666667,
           6.666666666666667
          ],
          [
           10,
           10,
           10,
           10
          ],
          [
           0,
           0,
           0,
           0
          ],
          [
           0,
           0,
           0,
           0
          ],
          [
           26.666666666666668,
           26.666666666666668,
           26.666666666666668,
           26.666666666666668
          ],
          [
           26.666666666666668,
           26.666666666666668,
           26.666666666666668,
           26.666666666666668
          ],
          [
           0,
           0,
           0,
           0
          ],
          [
           0,
           0,
           0,
           0
          ],
          [
           10,
           10,
           10,
           10
          ],
          [
           0,
           0,
           0,
           0
          ],
          [
           0,
           0,
           0,
           0
          ],
          [
           0,
           0,
           0,
           0
          ],
          [
           6.666666666666667,
           6.666666666666667,
           6.666666666666667,
           6.666666666666667
          ],
          [
           10,
           10,
           10,
           10
          ],
          [
           0,
           0,
           0,
           0
          ],
          [
           0,
           0,
           0,
           0
          ],
          [
           6.666666666666667,
           6.666666666666667,
           6.666666666666667,
           6.666666666666667
          ],
          [
           0,
           0,
           0,
           0
          ],
          [
           0,
           0,
           0,
           0
          ],
          [
           0,
           0,
           0,
           0
          ],
          [
           0,
           0,
           0,
           0
          ],
          [
           10,
           10,
           10,
           10
          ],
          [
           16.666666666666668,
           16.666666666666668,
           16.666666666666668,
           16.666666666666668
          ],
          [
           0,
           0,
           0,
           0
          ],
          [
           0,
           0,
           0,
           0
          ],
          [
           10,
           10,
           10,
           10
          ],
          [
           0,
           0,
           0,
           0
          ],
          [
           0,
           0,
           0,
           0
          ],
          [
           10,
           10,
           10,
           10
          ],
          [
           0,
           0,
           0,
           0
          ],
          [
           10,
           10,
           10,
           10
          ],
          [
           10,
           10,
           10,
           10
          ],
          [
           0,
           0,
           0,
           0
          ],
          [
           0,
           0,
           0,
           0
          ],
          [
           0,
           0,
           0,
           0
          ],
          [
           0,
           0,
           0,
           0
          ],
          [
           0,
           0,
           0,
           0
          ],
          [
           6.666666666666667,
           6.666666666666667,
           6.666666666666667,
           6.666666666666667
          ],
          [
           0,
           0,
           0,
           0
          ],
          [
           10,
           10,
           10,
           10
          ],
          [
           6.666666666666667,
           6.666666666666667,
           6.666666666666667,
           6.666666666666667
          ],
          [
           0,
           0,
           0,
           0
          ],
          [
           0,
           0,
           0,
           0
          ],
          [
           0,
           0,
           0,
           0
          ],
          [
           0,
           0,
           0,
           0
          ],
          [
           0,
           0,
           0,
           0
          ],
          [
           10,
           10,
           10,
           10
          ],
          [
           0,
           0,
           0,
           0
          ],
          [
           0,
           0,
           0,
           0
          ],
          [
           10,
           10,
           10,
           10
          ],
          [
           0,
           0,
           0,
           0
          ],
          [
           0,
           0,
           0,
           0
          ],
          [
           0,
           0,
           0,
           0
          ],
          [
           0,
           0,
           0,
           0
          ]
         ]
        },
        {
         "marker": {
          "color": "rgb(51, 34, 136)"
         },
         "name": "Pferderennen",
         "type": "bar",
         "x": [
          "cediiiiii_10",
          "Fflopse",
          "Allooy",
          "Gobo9",
          "JOW23",
          "HerrDante",
          "ReichesBrot",
          "Pedrozockt",
          "Ex4cted",
          "_n3d",
          "2wc",
          "FrozenNoah",
          "chrisihalt",
          "DarkCobweb",
          "Freeeedom",
          "camman18YT",
          "yzvm",
          "byTobi",
          "Ninivee",
          "yiiq",
          "Grapfen",
          "Squashgitter333",
          "MindsetKito",
          "Teesily",
          "KakaMC",
          "h4nnes",
          "2B9",
          "zBro",
          "unausgesprochen",
          "Schmaarek",
          "Davinci_Son",
          "miridis41",
          "TheFabo",
          "Umgfoin",
          "lizsyy",
          "Shiewk",
          "ffawks",
          "TheBreadHD",
          "HeIsJustAPoorBoy",
          "La_meleagro",
          "IchHolzDichWeg",
          "Sey__",
          "Luxemburq",
          "MaxMitMaulkorb",
          "G0at3D",
          "Gerrygames",
          "ByNetherdude",
          "Kyuudo",
          "Gummibearchen",
          "GeneralEnte06",
          "lolisamakun",
          "Lingex",
          "LeWi_100",
          "Pluto28",
          "Morittz",
          "NotLennart",
          "Lubottus",
          "Simlll",
          "GamemasterNiki",
          "LordAlexos",
          "agowskyy",
          "M0osebumps",
          "JennieKim",
          "revolverz",
          "Dokkkkko",
          "Sower_",
          "GermanPie",
          "Julius16",
          "SiLoHB",
          "Feinberg",
          "Stockinqs",
          "Cytoox",
          "LeMetin_",
          "Janne4k",
          "Krusti",
          "Vanillinchen",
          "20LeRe10",
          "MoZadaCraft",
          "YBCM",
          "lolisamasan",
          "xBaumeisterin",
          "Bikoop",
          "Mincheeen",
          "Vacted",
          "xX_Dima_ggg_Xx6",
          "Falke23_5",
          "Tim_Voltia",
          "Seemops_8",
          "ScreamingBlatz",
          "Gryzes",
          "EinfachEazy",
          "RasenLP",
          "Lennart0911",
          "HerosHD",
          "BastiGHG",
          "Navex",
          "deadfiight",
          "frutigall",
          "Ritokii",
          "SpeckyCut"
         ],
         "y": [
          81.66666666666667,
          80,
          45,
          53.333333333333336,
          6.666666666666667,
          3.3333333333333335,
          53.333333333333336,
          23.333333333333332,
          0,
          0,
          15,
          0,
          0,
          0,
          10,
          0,
          13.333333333333334,
          0,
          0,
          21.666666666666668,
          0,
          30,
          0,
          0,
          0,
          0,
          0,
          0,
          0,
          11.666666666666666,
          0,
          0,
          0,
          3.3333333333333335,
          6.666666666666667,
          0,
          28.333333333333332,
          0,
          0,
          0,
          0,
          0,
          0,
          0,
          0,
          0,
          0,
          0,
          0,
          8.333333333333334,
          0,
          0,
          11.666666666666666,
          0,
          0,
          0,
          0,
          0,
          0,
          0,
          0,
          0,
          15,
          0,
          0,
          0,
          0,
          0,
          0,
          0,
          0,
          0,
          0,
          0,
          0,
          0,
          0,
          0,
          0,
          0,
          0,
          0,
          0,
          0,
          0,
          0,
          0,
          0,
          0,
          0,
          0,
          16.666666666666668,
          0,
          0,
          0,
          0,
          0,
          0,
          0,
          0
         ]
        },
        {
         "marker": {
          "color": "rgb(170, 68, 153)"
         },
         "name": "Replika",
         "type": "bar",
         "x": [
          "cediiiiii_10",
          "Fflopse",
          "Allooy",
          "Gobo9",
          "JOW23",
          "HerrDante",
          "ReichesBrot",
          "Pedrozockt",
          "Ex4cted",
          "_n3d",
          "2wc",
          "FrozenNoah",
          "chrisihalt",
          "DarkCobweb",
          "Freeeedom",
          "camman18YT",
          "yzvm",
          "byTobi",
          "Ninivee",
          "yiiq",
          "Grapfen",
          "Squashgitter333",
          "MindsetKito",
          "Teesily",
          "KakaMC",
          "h4nnes",
          "2B9",
          "zBro",
          "unausgesprochen",
          "Schmaarek",
          "Davinci_Son",
          "miridis41",
          "TheFabo",
          "Umgfoin",
          "lizsyy",
          "Shiewk",
          "ffawks",
          "TheBreadHD",
          "HeIsJustAPoorBoy",
          "La_meleagro",
          "IchHolzDichWeg",
          "Sey__",
          "Luxemburq",
          "MaxMitMaulkorb",
          "G0at3D",
          "Gerrygames",
          "ByNetherdude",
          "Kyuudo",
          "Gummibearchen",
          "GeneralEnte06",
          "lolisamakun",
          "Lingex",
          "LeWi_100",
          "Pluto28",
          "Morittz",
          "NotLennart",
          "Lubottus",
          "Simlll",
          "GamemasterNiki",
          "LordAlexos",
          "agowskyy",
          "M0osebumps",
          "JennieKim",
          "revolverz",
          "Dokkkkko",
          "Sower_",
          "GermanPie",
          "Julius16",
          "SiLoHB",
          "Feinberg",
          "Stockinqs",
          "Cytoox",
          "LeMetin_",
          "Janne4k",
          "Krusti",
          "Vanillinchen",
          "20LeRe10",
          "MoZadaCraft",
          "YBCM",
          "lolisamasan",
          "xBaumeisterin",
          "Bikoop",
          "Mincheeen",
          "Vacted",
          "xX_Dima_ggg_Xx6",
          "Falke23_5",
          "Tim_Voltia",
          "Seemops_8",
          "ScreamingBlatz",
          "Gryzes",
          "EinfachEazy",
          "RasenLP",
          "Lennart0911",
          "HerosHD",
          "BastiGHG",
          "Navex",
          "deadfiight",
          "frutigall",
          "Ritokii",
          "SpeckyCut"
         ],
         "y": [
          74.85436893203884,
          39.70873786407767,
          77.86407766990291,
          81.6504854368932,
          2.7184466019417477,
          3.883495145631068,
          8.349514563106796,
          37.0873786407767,
          30,
          2.4271844660194173,
          0.970873786407767,
          0,
          2.621359223300971,
          0,
          3.0097087378640777,
          3.1067961165048543,
          0,
          0,
          0,
          19.02912621359223,
          0.1941747572815534,
          12.135922330097088,
          0,
          17.66990291262136,
          17.66990291262136,
          0,
          0,
          0,
          0,
          0,
          0,
          0,
          5.339805825242719,
          0,
          7.766990291262136,
          0,
          8.54368932038835,
          0,
          0,
          0.7766990291262136,
          0.3883495145631068,
          0,
          6.310679611650485,
          0,
          0,
          7.087378640776699,
          0,
          0,
          0.3883495145631068,
          0,
          0,
          0,
          0.2912621359223301,
          1.2621359223300972,
          0,
          0.4854368932038835,
          1.0679611650485437,
          0,
          22.62135922330097,
          0,
          0,
          3.0097087378640777,
          0,
          0,
          0,
          0,
          0,
          0,
          0.8737864077669902,
          3.3980582524271843,
          1.0679611650485437,
          0,
          0,
          0,
          0,
          2.0388349514563107,
          0,
          0,
          0,
          0,
          0,
          0.6796116504854369,
          0.6796116504854369,
          0,
          0,
          0,
          0,
          0,
          0,
          0,
          0,
          3.495145631067961,
          0,
          0.1941747572815534,
          0,
          0,
          1.941747572815534,
          0,
          3.1067961165048543,
          0
         ]
        },
        {
         "marker": {
          "color": "rgb(68, 170, 153)"
         },
         "name": "Sammelwahn",
         "type": "bar",
         "x": [
          "cediiiiii_10",
          "Fflopse",
          "Allooy",
          "Gobo9",
          "JOW23",
          "HerrDante",
          "ReichesBrot",
          "Pedrozockt",
          "Ex4cted",
          "_n3d",
          "2wc",
          "FrozenNoah",
          "chrisihalt",
          "DarkCobweb",
          "Freeeedom",
          "camman18YT",
          "yzvm",
          "byTobi",
          "Ninivee",
          "yiiq",
          "Grapfen",
          "Squashgitter333",
          "MindsetKito",
          "Teesily",
          "KakaMC",
          "h4nnes",
          "2B9",
          "zBro",
          "unausgesprochen",
          "Schmaarek",
          "Davinci_Son",
          "miridis41",
          "TheFabo",
          "Umgfoin",
          "lizsyy",
          "Shiewk",
          "ffawks",
          "TheBreadHD",
          "HeIsJustAPoorBoy",
          "La_meleagro",
          "IchHolzDichWeg",
          "Sey__",
          "Luxemburq",
          "MaxMitMaulkorb",
          "G0at3D",
          "Gerrygames",
          "ByNetherdude",
          "Kyuudo",
          "Gummibearchen",
          "GeneralEnte06",
          "lolisamakun",
          "Lingex",
          "LeWi_100",
          "Pluto28",
          "Morittz",
          "NotLennart",
          "Lubottus",
          "Simlll",
          "GamemasterNiki",
          "LordAlexos",
          "agowskyy",
          "M0osebumps",
          "JennieKim",
          "revolverz",
          "Dokkkkko",
          "Sower_",
          "GermanPie",
          "Julius16",
          "SiLoHB",
          "Feinberg",
          "Stockinqs",
          "Cytoox",
          "LeMetin_",
          "Janne4k",
          "Krusti",
          "Vanillinchen",
          "20LeRe10",
          "MoZadaCraft",
          "YBCM",
          "lolisamasan",
          "xBaumeisterin",
          "Bikoop",
          "Mincheeen",
          "Vacted",
          "xX_Dima_ggg_Xx6",
          "Falke23_5",
          "Tim_Voltia",
          "Seemops_8",
          "ScreamingBlatz",
          "Gryzes",
          "EinfachEazy",
          "RasenLP",
          "Lennart0911",
          "HerosHD",
          "BastiGHG",
          "Navex",
          "deadfiight",
          "frutigall",
          "Ritokii",
          "SpeckyCut"
         ],
         "y": [
          [
           36.42857142857143,
           36.42857142857143,
           36.42857142857143,
           36.42857142857143
          ],
          [
           19.761904761904763,
           19.761904761904763,
           19.761904761904763,
           19.761904761904763
          ],
          [
           15.238095238095237,
           15.238095238095237,
           15.238095238095237,
           15.238095238095237
          ],
          [
           30.238095238095237,
           30.238095238095237,
           30.238095238095237,
           30.238095238095237
          ],
          [
           0.9523809523809523,
           0.9523809523809523,
           0.9523809523809523,
           0.9523809523809523
          ],
          [
           6.190476190476191,
           6.190476190476191,
           6.190476190476191,
           6.190476190476191
          ],
          [
           2.380952380952381,
           2.380952380952381,
           2.380952380952381,
           2.380952380952381
          ],
          [
           0,
           0,
           0,
           0
          ],
          [
           15.952380952380953,
           15.952380952380953,
           15.952380952380953,
           15.952380952380953
          ],
          [
           6.428571428571429,
           6.428571428571429,
           6.428571428571429,
           6.428571428571429
          ],
          [
           0.7142857142857143,
           0.7142857142857143,
           0.7142857142857143,
           0.7142857142857143
          ],
          [
           2.380952380952381,
           2.380952380952381,
           2.380952380952381,
           2.380952380952381
          ],
          [
           9.047619047619047,
           9.047619047619047,
           9.047619047619047,
           9.047619047619047
          ],
          [
           2.857142857142857,
           2.857142857142857,
           2.857142857142857,
           2.857142857142857
          ],
          [
           11.666666666666666,
           11.666666666666666,
           11.666666666666666,
           11.666666666666666
          ],
          [
           6.190476190476191,
           6.190476190476191,
           6.190476190476191,
           6.190476190476191
          ],
          [
           3.5714285714285716,
           3.5714285714285716,
           3.5714285714285716,
           3.5714285714285716
          ],
          [
           1.1904761904761905,
           1.1904761904761905,
           1.1904761904761905,
           1.1904761904761905
          ],
          [
           3.3333333333333335,
           3.3333333333333335,
           3.3333333333333335,
           3.3333333333333335
          ],
          [
           0,
           0,
           0,
           0
          ],
          [
           10.714285714285714,
           10.714285714285714,
           10.714285714285714,
           10.714285714285714
          ],
          [
           1.6666666666666667,
           1.6666666666666667,
           1.6666666666666667,
           1.6666666666666667
          ],
          [
           2.142857142857143,
           2.142857142857143,
           2.142857142857143,
           2.142857142857143
          ],
          [
           6.904761904761905,
           6.904761904761905,
           6.904761904761905,
           6.904761904761905
          ],
          [
           8.333333333333334,
           8.333333333333334,
           8.333333333333334,
           8.333333333333334
          ],
          [
           3.8095238095238093,
           3.8095238095238093,
           3.8095238095238093,
           3.8095238095238093
          ],
          [
           2.380952380952381,
           2.380952380952381,
           2.380952380952381,
           2.380952380952381
          ],
          [
           2.619047619047619,
           2.619047619047619,
           2.619047619047619,
           2.619047619047619
          ],
          [
           2.142857142857143,
           2.142857142857143,
           2.142857142857143,
           2.142857142857143
          ],
          [
           8.571428571428571,
           8.571428571428571,
           8.571428571428571,
           8.571428571428571
          ],
          [
           2.619047619047619,
           2.619047619047619,
           2.619047619047619,
           2.619047619047619
          ],
          [
           6.666666666666667,
           6.666666666666667,
           6.666666666666667,
           6.666666666666667
          ],
          [
           13.80952380952381,
           13.80952380952381,
           13.80952380952381,
           13.80952380952381
          ],
          [
           11.428571428571429,
           11.428571428571429,
           11.428571428571429,
           11.428571428571429
          ],
          [
           3.3333333333333335,
           3.3333333333333335,
           3.3333333333333335,
           3.3333333333333335
          ],
          [
           0,
           0,
           0,
           0
          ],
          [
           0.47619047619047616,
           0.47619047619047616,
           0.47619047619047616,
           0.47619047619047616
          ],
          [
           0,
           0,
           0,
           0
          ],
          [
           0,
           0,
           0,
           0
          ],
          [
           10,
           10,
           10,
           10
          ],
          [
           0,
           0,
           0,
           0
          ],
          [
           8.571428571428571,
           8.571428571428571,
           8.571428571428571,
           8.571428571428571
          ],
          [
           7.619047619047619,
           7.619047619047619,
           7.619047619047619,
           7.619047619047619
          ],
          [
           3.3333333333333335,
           3.3333333333333335,
           3.3333333333333335,
           3.3333333333333335
          ],
          [
           0,
           0,
           0,
           0
          ],
          [
           25.476190476190474,
           25.476190476190474,
           25.476190476190474,
           25.476190476190474
          ],
          [
           0,
           0,
           0,
           0
          ],
          [
           2.142857142857143,
           2.142857142857143,
           2.142857142857143,
           2.142857142857143
          ],
          [
           0,
           0,
           0,
           0
          ],
          [
           6.190476190476191,
           6.190476190476191,
           6.190476190476191,
           6.190476190476191
          ],
          [
           0,
           0,
           0,
           0
          ],
          [
           0,
           0,
           0,
           0
          ],
          [
           0,
           0,
           0,
           0
          ],
          [
           2.142857142857143,
           2.142857142857143,
           2.142857142857143,
           2.142857142857143
          ],
          [
           0,
           0,
           0,
           0
          ],
          [
           0.47619047619047616,
           0.47619047619047616,
           0.47619047619047616,
           0.47619047619047616
          ],
          [
           6.904761904761905,
           6.904761904761905,
           6.904761904761905,
           6.904761904761905
          ],
          [
           2.142857142857143,
           2.142857142857143,
           2.142857142857143,
           2.142857142857143
          ],
          [
           0,
           0,
           0,
           0
          ],
          [
           0,
           0,
           0,
           0
          ],
          [
           0.47619047619047616,
           0.47619047619047616,
           0.47619047619047616,
           0.47619047619047616
          ],
          [
           2.619047619047619,
           2.619047619047619,
           2.619047619047619,
           2.619047619047619
          ],
          [
           6.428571428571429,
           6.428571428571429,
           6.428571428571429,
           6.428571428571429
          ],
          [
           0,
           0,
           0,
           0
          ],
          [
           4.0476190476190474,
           4.0476190476190474,
           4.0476190476190474,
           4.0476190476190474
          ],
          [
           20.714285714285715,
           20.714285714285715,
           20.714285714285715,
           20.714285714285715
          ],
          [
           1.1904761904761905,
           1.1904761904761905,
           1.1904761904761905,
           1.1904761904761905
          ],
          [
           2.857142857142857,
           2.857142857142857,
           2.857142857142857,
           2.857142857142857
          ],
          [
           2.380952380952381,
           2.380952380952381,
           2.380952380952381,
           2.380952380952381
          ],
          [
           2.380952380952381,
           2.380952380952381,
           2.380952380952381,
           2.380952380952381
          ],
          [
           5.714285714285714,
           5.714285714285714,
           5.714285714285714,
           5.714285714285714
          ],
          [
           2.142857142857143,
           2.142857142857143,
           2.142857142857143,
           2.142857142857143
          ],
          [
           3.3333333333333335,
           3.3333333333333335,
           3.3333333333333335,
           3.3333333333333335
          ],
          [
           0,
           0,
           0,
           0
          ],
          [
           3.0952380952380953,
           3.0952380952380953,
           3.0952380952380953,
           3.0952380952380953
          ],
          [
           0.7142857142857143,
           0.7142857142857143,
           0.7142857142857143,
           0.7142857142857143
          ],
          [
           0.7142857142857143,
           0.7142857142857143,
           0.7142857142857143,
           0.7142857142857143
          ],
          [
           0,
           0,
           0,
           0
          ],
          [
           3.0952380952380953,
           3.0952380952380953,
           3.0952380952380953,
           3.0952380952380953
          ],
          [
           0.47619047619047616,
           0.47619047619047616,
           0.47619047619047616,
           0.47619047619047616
          ],
          [
           1.9047619047619047,
           1.9047619047619047,
           1.9047619047619047,
           1.9047619047619047
          ],
          [
           0,
           0,
           0,
           0
          ],
          [
           2.380952380952381,
           2.380952380952381,
           2.380952380952381,
           2.380952380952381
          ],
          [
           0,
           0,
           0,
           0
          ],
          [
           2.380952380952381,
           2.380952380952381,
           2.380952380952381,
           2.380952380952381
          ],
          [
           2.380952380952381,
           2.380952380952381,
           2.380952380952381,
           2.380952380952381
          ],
          [
           2.857142857142857,
           2.857142857142857,
           2.857142857142857,
           2.857142857142857
          ],
          [
           0,
           0,
           0,
           0
          ],
          [
           0,
           0,
           0,
           0
          ],
          [
           2.142857142857143,
           2.142857142857143,
           2.142857142857143,
           2.142857142857143
          ],
          [
           0,
           0,
           0,
           0
          ],
          [
           3.3333333333333335,
           3.3333333333333335,
           3.3333333333333335,
           3.3333333333333335
          ],
          [
           0.7142857142857143,
           0.7142857142857143,
           0.7142857142857143,
           0.7142857142857143
          ],
          [
           1.6666666666666667,
           1.6666666666666667,
           1.6666666666666667,
           1.6666666666666667
          ],
          [
           0,
           0,
           0,
           0
          ],
          [
           0,
           0,
           0,
           0
          ],
          [
           0,
           0,
           0,
           0
          ],
          [
           0.47619047619047616,
           0.47619047619047616,
           0.47619047619047616,
           0.47619047619047616
          ],
          [
           0,
           0,
           0,
           0
          ],
          [
           1.4285714285714286,
           1.4285714285714286,
           1.4285714285714286,
           1.4285714285714286
          ]
         ]
        },
        {
         "marker": {
          "color": "rgb(153, 153, 51)"
         },
         "name": "Schießstand",
         "type": "bar",
         "x": [
          "cediiiiii_10",
          "Fflopse",
          "Allooy",
          "Gobo9",
          "JOW23",
          "HerrDante",
          "ReichesBrot",
          "Pedrozockt",
          "Ex4cted",
          "_n3d",
          "2wc",
          "FrozenNoah",
          "chrisihalt",
          "DarkCobweb",
          "Freeeedom",
          "camman18YT",
          "yzvm",
          "byTobi",
          "Ninivee",
          "yiiq",
          "Grapfen",
          "Squashgitter333",
          "MindsetKito",
          "Teesily",
          "KakaMC",
          "h4nnes",
          "2B9",
          "zBro",
          "unausgesprochen",
          "Schmaarek",
          "Davinci_Son",
          "miridis41",
          "TheFabo",
          "Umgfoin",
          "lizsyy",
          "Shiewk",
          "ffawks",
          "TheBreadHD",
          "HeIsJustAPoorBoy",
          "La_meleagro",
          "IchHolzDichWeg",
          "Sey__",
          "Luxemburq",
          "MaxMitMaulkorb",
          "G0at3D",
          "Gerrygames",
          "ByNetherdude",
          "Kyuudo",
          "Gummibearchen",
          "GeneralEnte06",
          "lolisamakun",
          "Lingex",
          "LeWi_100",
          "Pluto28",
          "Morittz",
          "NotLennart",
          "Lubottus",
          "Simlll",
          "GamemasterNiki",
          "LordAlexos",
          "agowskyy",
          "M0osebumps",
          "JennieKim",
          "revolverz",
          "Dokkkkko",
          "Sower_",
          "GermanPie",
          "Julius16",
          "SiLoHB",
          "Feinberg",
          "Stockinqs",
          "Cytoox",
          "LeMetin_",
          "Janne4k",
          "Krusti",
          "Vanillinchen",
          "20LeRe10",
          "MoZadaCraft",
          "YBCM",
          "lolisamasan",
          "xBaumeisterin",
          "Bikoop",
          "Mincheeen",
          "Vacted",
          "xX_Dima_ggg_Xx6",
          "Falke23_5",
          "Tim_Voltia",
          "Seemops_8",
          "ScreamingBlatz",
          "Gryzes",
          "EinfachEazy",
          "RasenLP",
          "Lennart0911",
          "HerosHD",
          "BastiGHG",
          "Navex",
          "deadfiight",
          "frutigall",
          "Ritokii",
          "SpeckyCut"
         ],
         "y": [
          [
           26.666666666666668,
           26.666666666666668,
           26.666666666666668,
           26.666666666666668
          ],
          [
           90,
           90,
           90,
           90
          ],
          [
           23.333333333333332,
           23.333333333333332,
           23.333333333333332,
           23.333333333333332
          ],
          [
           43.333333333333336,
           43.333333333333336,
           43.333333333333336,
           43.333333333333336
          ],
          [
           73.33333333333333,
           73.33333333333333,
           73.33333333333333,
           73.33333333333333
          ],
          [
           53.333333333333336,
           53.333333333333336,
           53.333333333333336,
           53.333333333333336
          ],
          [
           0,
           0,
           0,
           0
          ],
          [
           0,
           0,
           0,
           0
          ],
          [
           80,
           80,
           80,
           80
          ],
          [
           26.666666666666668,
           26.666666666666668,
           26.666666666666668,
           26.666666666666668
          ],
          [
           0,
           0,
           0,
           0
          ],
          [
           0,
           0,
           0,
           0
          ],
          [
           6.666666666666667,
           6.666666666666667,
           6.666666666666667,
           6.666666666666667
          ],
          [
           0,
           0,
           0,
           0
          ],
          [
           0,
           0,
           0,
           0
          ],
          [
           0,
           0,
           0,
           0
          ],
          [
           0,
           0,
           0,
           0
          ],
          [
           0,
           0,
           0,
           0
          ],
          [
           0,
           0,
           0,
           0
          ],
          [
           0,
           0,
           0,
           0
          ],
          [
           0,
           0,
           0,
           0
          ],
          [
           50,
           50,
           50,
           50
          ],
          [
           0,
           0,
           0,
           0
          ],
          [
           0,
           0,
           0,
           0
          ],
          [
           0,
           0,
           0,
           0
          ],
          [
           0,
           0,
           0,
           0
          ],
          [
           0,
           0,
           0,
           0
          ],
          [
           0,
           0,
           0,
           0
          ],
          [
           26.666666666666668,
           26.666666666666668,
           26.666666666666668,
           26.666666666666668
          ],
          [
           0,
           0,
           0,
           0
          ],
          [
           13.333333333333334,
           13.333333333333334,
           13.333333333333334,
           13.333333333333334
          ],
          [
           0,
           0,
           0,
           0
          ],
          [
           0,
           0,
           0,
           0
          ],
          [
           0,
           0,
           0,
           0
          ],
          [
           20,
           20,
           20,
           20
          ],
          [
           0,
           0,
           0,
           0
          ],
          [
           13.333333333333334,
           13.333333333333334,
           13.333333333333334,
           13.333333333333334
          ],
          [
           0,
           0,
           0,
           0
          ],
          [
           0,
           0,
           0,
           0
          ],
          [
           0,
           0,
           0,
           0
          ],
          [
           0,
           0,
           0,
           0
          ],
          [
           0,
           0,
           0,
           0
          ],
          [
           0,
           0,
           0,
           0
          ],
          [
           0,
           0,
           0,
           0
          ],
          [
           0,
           0,
           0,
           0
          ],
          [
           0,
           0,
           0,
           0
          ],
          [
           0,
           0,
           0,
           0
          ],
          [
           0,
           0,
           0,
           0
          ],
          [
           0,
           0,
           0,
           0
          ],
          [
           0,
           0,
           0,
           0
          ],
          [
           0,
           0,
           0,
           0
          ],
          [
           0,
           0,
           0,
           0
          ],
          [
           0,
           0,
           0,
           0
          ],
          [
           0,
           0,
           0,
           0
          ],
          [
           0,
           0,
           0,
           0
          ],
          [
           0,
           0,
           0,
           0
          ],
          [
           0,
           0,
           0,
           0
          ],
          [
           0,
           0,
           0,
           0
          ],
          [
           0,
           0,
           0,
           0
          ],
          [
           0,
           0,
           0,
           0
          ],
          [
           0,
           0,
           0,
           0
          ],
          [
           0,
           0,
           0,
           0
          ],
          [
           0,
           0,
           0,
           0
          ],
          [
           0,
           0,
           0,
           0
          ],
          [
           0,
           0,
           0,
           0
          ],
          [
           0,
           0,
           0,
           0
          ],
          [
           0,
           0,
           0,
           0
          ],
          [
           0,
           0,
           0,
           0
          ],
          [
           0,
           0,
           0,
           0
          ],
          [
           0,
           0,
           0,
           0
          ],
          [
           0,
           0,
           0,
           0
          ],
          [
           0,
           0,
           0,
           0
          ],
          [
           0,
           0,
           0,
           0
          ],
          [
           0,
           0,
           0,
           0
          ],
          [
           0,
           0,
           0,
           0
          ],
          [
           0,
           0,
           0,
           0
          ],
          [
           0,
           0,
           0,
           0
          ],
          [
           0,
           0,
           0,
           0
          ],
          [
           0,
           0,
           0,
           0
          ],
          [
           0,
           0,
           0,
           0
          ],
          [
           0,
           0,
           0,
           0
          ],
          [
           0,
           0,
           0,
           0
          ],
          [
           0,
           0,
           0,
           0
          ],
          [
           0,
           0,
           0,
           0
          ],
          [
           0,
           0,
           0,
           0
          ],
          [
           0,
           0,
           0,
           0
          ],
          [
           0,
           0,
           0,
           0
          ],
          [
           0,
           0,
           0,
           0
          ],
          [
           0,
           0,
           0,
           0
          ],
          [
           0,
           0,
           0,
           0
          ],
          [
           0,
           0,
           0,
           0
          ],
          [
           0,
           0,
           0,
           0
          ],
          [
           0,
           0,
           0,
           0
          ],
          [
           0,
           0,
           0,
           0
          ],
          [
           0,
           0,
           0,
           0
          ],
          [
           0,
           0,
           0,
           0
          ],
          [
           0,
           0,
           0,
           0
          ],
          [
           0,
           0,
           0,
           0
          ],
          [
           0,
           0,
           0,
           0
          ],
          [
           0,
           0,
           0,
           0
          ]
         ]
        },
        {
         "marker": {
          "color": "rgb(136, 34, 85)"
         },
         "name": "Spleef",
         "type": "bar",
         "x": [
          "cediiiiii_10",
          "Fflopse",
          "Allooy",
          "Gobo9",
          "JOW23",
          "HerrDante",
          "ReichesBrot",
          "Pedrozockt",
          "Ex4cted",
          "_n3d",
          "2wc",
          "FrozenNoah",
          "chrisihalt",
          "DarkCobweb",
          "Freeeedom",
          "camman18YT",
          "yzvm",
          "byTobi",
          "Ninivee",
          "yiiq",
          "Grapfen",
          "Squashgitter333",
          "MindsetKito",
          "Teesily",
          "KakaMC",
          "h4nnes",
          "2B9",
          "zBro",
          "unausgesprochen",
          "Schmaarek",
          "Davinci_Son",
          "miridis41",
          "TheFabo",
          "Umgfoin",
          "lizsyy",
          "Shiewk",
          "ffawks",
          "TheBreadHD",
          "HeIsJustAPoorBoy",
          "La_meleagro",
          "IchHolzDichWeg",
          "Sey__",
          "Luxemburq",
          "MaxMitMaulkorb",
          "G0at3D",
          "Gerrygames",
          "ByNetherdude",
          "Kyuudo",
          "Gummibearchen",
          "GeneralEnte06",
          "lolisamakun",
          "Lingex",
          "LeWi_100",
          "Pluto28",
          "Morittz",
          "NotLennart",
          "Lubottus",
          "Simlll",
          "GamemasterNiki",
          "LordAlexos",
          "agowskyy",
          "M0osebumps",
          "JennieKim",
          "revolverz",
          "Dokkkkko",
          "Sower_",
          "GermanPie",
          "Julius16",
          "SiLoHB",
          "Feinberg",
          "Stockinqs",
          "Cytoox",
          "LeMetin_",
          "Janne4k",
          "Krusti",
          "Vanillinchen",
          "20LeRe10",
          "MoZadaCraft",
          "YBCM",
          "lolisamasan",
          "xBaumeisterin",
          "Bikoop",
          "Mincheeen",
          "Vacted",
          "xX_Dima_ggg_Xx6",
          "Falke23_5",
          "Tim_Voltia",
          "Seemops_8",
          "ScreamingBlatz",
          "Gryzes",
          "EinfachEazy",
          "RasenLP",
          "Lennart0911",
          "HerosHD",
          "BastiGHG",
          "Navex",
          "deadfiight",
          "frutigall",
          "Ritokii",
          "SpeckyCut"
         ],
         "y": [
          0,
          0,
          100,
          0,
          70,
          0,
          0,
          0,
          0,
          20,
          60,
          0,
          90,
          0,
          90,
          0,
          0,
          0,
          0,
          0,
          0,
          0,
          0,
          0,
          0,
          0,
          0,
          0,
          0,
          0,
          0,
          0,
          0,
          0,
          0,
          0,
          0,
          0,
          0,
          0,
          0,
          0,
          50,
          0,
          0,
          0,
          0,
          0,
          0,
          0,
          0,
          0,
          0,
          0,
          0,
          0,
          0,
          0,
          0,
          0,
          50,
          0,
          0,
          0,
          0,
          0,
          0,
          0,
          0,
          0,
          0,
          0,
          0,
          0,
          0,
          0,
          0,
          0,
          0,
          0,
          0,
          0,
          0,
          0,
          0,
          0,
          0,
          0,
          50,
          0,
          0,
          0,
          0,
          0,
          0,
          0,
          0,
          0,
          0,
          0
         ]
        },
        {
         "marker": {
          "color": "rgb(102, 17, 0)"
         },
         "name": "Todeswürfel",
         "type": "bar",
         "x": [
          "cediiiiii_10",
          "Fflopse",
          "Allooy",
          "Gobo9",
          "JOW23",
          "HerrDante",
          "ReichesBrot",
          "Pedrozockt",
          "Ex4cted",
          "_n3d",
          "2wc",
          "FrozenNoah",
          "chrisihalt",
          "DarkCobweb",
          "Freeeedom",
          "camman18YT",
          "yzvm",
          "byTobi",
          "Ninivee",
          "yiiq",
          "Grapfen",
          "Squashgitter333",
          "MindsetKito",
          "Teesily",
          "KakaMC",
          "h4nnes",
          "2B9",
          "zBro",
          "unausgesprochen",
          "Schmaarek",
          "Davinci_Son",
          "miridis41",
          "TheFabo",
          "Umgfoin",
          "lizsyy",
          "Shiewk",
          "ffawks",
          "TheBreadHD",
          "HeIsJustAPoorBoy",
          "La_meleagro",
          "IchHolzDichWeg",
          "Sey__",
          "Luxemburq",
          "MaxMitMaulkorb",
          "G0at3D",
          "Gerrygames",
          "ByNetherdude",
          "Kyuudo",
          "Gummibearchen",
          "GeneralEnte06",
          "lolisamakun",
          "Lingex",
          "LeWi_100",
          "Pluto28",
          "Morittz",
          "NotLennart",
          "Lubottus",
          "Simlll",
          "GamemasterNiki",
          "LordAlexos",
          "agowskyy",
          "M0osebumps",
          "JennieKim",
          "revolverz",
          "Dokkkkko",
          "Sower_",
          "GermanPie",
          "Julius16",
          "SiLoHB",
          "Feinberg",
          "Stockinqs",
          "Cytoox",
          "LeMetin_",
          "Janne4k",
          "Krusti",
          "Vanillinchen",
          "20LeRe10",
          "MoZadaCraft",
          "YBCM",
          "lolisamasan",
          "xBaumeisterin",
          "Bikoop",
          "Mincheeen",
          "Vacted",
          "xX_Dima_ggg_Xx6",
          "Falke23_5",
          "Tim_Voltia",
          "Seemops_8",
          "ScreamingBlatz",
          "Gryzes",
          "EinfachEazy",
          "RasenLP",
          "Lennart0911",
          "HerosHD",
          "BastiGHG",
          "Navex",
          "deadfiight",
          "frutigall",
          "Ritokii",
          "SpeckyCut"
         ],
         "y": [
          0,
          0,
          0,
          0,
          0,
          0,
          0,
          0,
          0,
          0,
          0,
          0,
          0,
          0,
          0,
          0,
          0,
          0,
          0,
          0,
          0,
          0,
          0,
          0,
          0,
          0,
          0,
          0,
          0,
          0,
          0,
          0,
          0,
          0,
          0,
          0,
          0,
          0,
          0,
          0,
          0,
          0,
          0,
          0,
          0,
          0,
          0,
          0,
          0,
          0,
          0,
          0,
          0,
          0,
          0,
          0,
          0,
          0,
          0,
          0,
          0,
          0,
          0,
          0,
          0,
          0,
          0,
          0,
          0,
          0,
          0,
          0,
          0,
          0,
          0,
          0,
          0,
          0,
          0,
          0,
          0,
          0,
          0,
          0,
          0,
          0,
          0,
          0,
          0,
          0,
          0,
          0,
          0,
          0,
          0,
          0,
          0,
          0,
          0,
          0
         ]
        },
        {
         "marker": {
          "color": "rgb(136, 136, 136)"
         },
         "name": "Waffenfolge",
         "type": "bar",
         "x": [
          "cediiiiii_10",
          "Fflopse",
          "Allooy",
          "Gobo9",
          "JOW23",
          "HerrDante",
          "ReichesBrot",
          "Pedrozockt",
          "Ex4cted",
          "_n3d",
          "2wc",
          "FrozenNoah",
          "chrisihalt",
          "DarkCobweb",
          "Freeeedom",
          "camman18YT",
          "yzvm",
          "byTobi",
          "Ninivee",
          "yiiq",
          "Grapfen",
          "Squashgitter333",
          "MindsetKito",
          "Teesily",
          "KakaMC",
          "h4nnes",
          "2B9",
          "zBro",
          "unausgesprochen",
          "Schmaarek",
          "Davinci_Son",
          "miridis41",
          "TheFabo",
          "Umgfoin",
          "lizsyy",
          "Shiewk",
          "ffawks",
          "TheBreadHD",
          "HeIsJustAPoorBoy",
          "La_meleagro",
          "IchHolzDichWeg",
          "Sey__",
          "Luxemburq",
          "MaxMitMaulkorb",
          "G0at3D",
          "Gerrygames",
          "ByNetherdude",
          "Kyuudo",
          "Gummibearchen",
          "GeneralEnte06",
          "lolisamakun",
          "Lingex",
          "LeWi_100",
          "Pluto28",
          "Morittz",
          "NotLennart",
          "Lubottus",
          "Simlll",
          "GamemasterNiki",
          "LordAlexos",
          "agowskyy",
          "M0osebumps",
          "JennieKim",
          "revolverz",
          "Dokkkkko",
          "Sower_",
          "GermanPie",
          "Julius16",
          "SiLoHB",
          "Feinberg",
          "Stockinqs",
          "Cytoox",
          "LeMetin_",
          "Janne4k",
          "Krusti",
          "Vanillinchen",
          "20LeRe10",
          "MoZadaCraft",
          "YBCM",
          "lolisamasan",
          "xBaumeisterin",
          "Bikoop",
          "Mincheeen",
          "Vacted",
          "xX_Dima_ggg_Xx6",
          "Falke23_5",
          "Tim_Voltia",
          "Seemops_8",
          "ScreamingBlatz",
          "Gryzes",
          "EinfachEazy",
          "RasenLP",
          "Lennart0911",
          "HerosHD",
          "BastiGHG",
          "Navex",
          "deadfiight",
          "frutigall",
          "Ritokii",
          "SpeckyCut"
         ],
         "y": [
          60,
          0,
          20,
          0,
          100,
          0,
          40,
          50,
          0,
          0,
          0,
          0,
          0,
          0,
          0,
          0,
          90,
          0,
          0,
          70,
          30,
          0,
          0,
          0,
          0,
          0,
          0,
          0,
          0,
          0,
          0,
          0,
          0,
          0,
          0,
          0,
          0,
          0,
          0,
          0,
          0,
          0,
          0,
          0,
          0,
          0,
          0,
          0,
          0,
          0,
          0,
          0,
          0,
          80,
          0,
          0,
          0,
          0,
          0,
          0,
          0,
          0,
          0,
          0,
          0,
          0,
          0,
          0,
          0,
          0,
          0,
          0,
          0,
          0,
          0,
          0,
          0,
          0,
          0,
          0,
          0,
          0,
          0,
          0,
          0,
          0,
          0,
          0,
          0,
          0,
          0,
          0,
          0,
          0,
          0,
          0,
          0,
          0,
          0,
          0
         ]
        },
        {
         "marker": {
          "color": "rgb(136, 204, 238)"
         },
         "name": "Walls",
         "type": "bar",
         "x": [
          "cediiiiii_10",
          "Fflopse",
          "Allooy",
          "Gobo9",
          "JOW23",
          "HerrDante",
          "ReichesBrot",
          "Pedrozockt",
          "Ex4cted",
          "_n3d",
          "2wc",
          "FrozenNoah",
          "chrisihalt",
          "DarkCobweb",
          "Freeeedom",
          "camman18YT",
          "yzvm",
          "byTobi",
          "Ninivee",
          "yiiq",
          "Grapfen",
          "Squashgitter333",
          "MindsetKito",
          "Teesily",
          "KakaMC",
          "h4nnes",
          "2B9",
          "zBro",
          "unausgesprochen",
          "Schmaarek",
          "Davinci_Son",
          "miridis41",
          "TheFabo",
          "Umgfoin",
          "lizsyy",
          "Shiewk",
          "ffawks",
          "TheBreadHD",
          "HeIsJustAPoorBoy",
          "La_meleagro",
          "IchHolzDichWeg",
          "Sey__",
          "Luxemburq",
          "MaxMitMaulkorb",
          "G0at3D",
          "Gerrygames",
          "ByNetherdude",
          "Kyuudo",
          "Gummibearchen",
          "GeneralEnte06",
          "lolisamakun",
          "Lingex",
          "LeWi_100",
          "Pluto28",
          "Morittz",
          "NotLennart",
          "Lubottus",
          "Simlll",
          "GamemasterNiki",
          "LordAlexos",
          "agowskyy",
          "M0osebumps",
          "JennieKim",
          "revolverz",
          "Dokkkkko",
          "Sower_",
          "GermanPie",
          "Julius16",
          "SiLoHB",
          "Feinberg",
          "Stockinqs",
          "Cytoox",
          "LeMetin_",
          "Janne4k",
          "Krusti",
          "Vanillinchen",
          "20LeRe10",
          "MoZadaCraft",
          "YBCM",
          "lolisamasan",
          "xBaumeisterin",
          "Bikoop",
          "Mincheeen",
          "Vacted",
          "xX_Dima_ggg_Xx6",
          "Falke23_5",
          "Tim_Voltia",
          "Seemops_8",
          "ScreamingBlatz",
          "Gryzes",
          "EinfachEazy",
          "RasenLP",
          "Lennart0911",
          "HerosHD",
          "BastiGHG",
          "Navex",
          "deadfiight",
          "frutigall",
          "Ritokii",
          "SpeckyCut"
         ],
         "y": [
          [
           86.66666666666667,
           86.66666666666667,
           86.66666666666667,
           86.66666666666667
          ],
          [
           33.333333333333336,
           33.333333333333336,
           33.333333333333336,
           33.333333333333336
          ],
          [
           0,
           0,
           0,
           0
          ],
          [
           46.666666666666664,
           46.666666666666664,
           46.666666666666664,
           46.666666666666664
          ],
          [
           36.666666666666664,
           36.666666666666664,
           36.666666666666664,
           36.666666666666664
          ],
          [
           0,
           0,
           0,
           0
          ],
          [
           6.666666666666667,
           6.666666666666667,
           6.666666666666667,
           6.666666666666667
          ],
          [
           50,
           50,
           50,
           50
          ],
          [
           0,
           0,
           0,
           0
          ],
          [
           33.333333333333336,
           33.333333333333336,
           33.333333333333336,
           33.333333333333336
          ],
          [
           23.333333333333332,
           23.333333333333332,
           23.333333333333332,
           23.333333333333332
          ],
          [
           0,
           0,
           0,
           0
          ],
          [
           0,
           0,
           0,
           0
          ],
          [
           63.333333333333336,
           63.333333333333336,
           63.333333333333336,
           63.333333333333336
          ],
          [
           0,
           0,
           0,
           0
          ],
          [
           50,
           50,
           50,
           50
          ],
          [
           40,
           40,
           40,
           40
          ],
          [
           43.333333333333336,
           43.333333333333336,
           43.333333333333336,
           43.333333333333336
          ],
          [
           33.333333333333336,
           33.333333333333336,
           33.333333333333336,
           33.333333333333336
          ],
          [
           16.666666666666668,
           16.666666666666668,
           16.666666666666668,
           16.666666666666668
          ],
          [
           30,
           30,
           30,
           30
          ],
          [
           0,
           0,
           0,
           0
          ],
          [
           16.666666666666668,
           16.666666666666668,
           16.666666666666668,
           16.666666666666668
          ],
          [
           0,
           0,
           0,
           0
          ],
          [
           30,
           30,
           30,
           30
          ],
          [
           0,
           0,
           0,
           0
          ],
          [
           0,
           0,
           0,
           0
          ],
          [
           33.333333333333336,
           33.333333333333336,
           33.333333333333336,
           33.333333333333336
          ],
          [
           0,
           0,
           0,
           0
          ],
          [
           0,
           0,
           0,
           0
          ],
          [
           10,
           10,
           10,
           10
          ],
          [
           16.666666666666668,
           16.666666666666668,
           16.666666666666668,
           16.666666666666668
          ],
          [
           0,
           0,
           0,
           0
          ],
          [
           0,
           0,
           0,
           0
          ],
          [
           0,
           0,
           0,
           0
          ],
          [
           0,
           0,
           0,
           0
          ],
          [
           0,
           0,
           0,
           0
          ],
          [
           0,
           0,
           0,
           0
          ],
          [
           16.666666666666668,
           16.666666666666668,
           16.666666666666668,
           16.666666666666668
          ],
          [
           0,
           0,
           0,
           0
          ],
          [
           6.666666666666667,
           6.666666666666667,
           6.666666666666667,
           6.666666666666667
          ],
          [
           0,
           0,
           0,
           0
          ],
          [
           0,
           0,
           0,
           0
          ],
          [
           0,
           0,
           0,
           0
          ],
          [
           0,
           0,
           0,
           0
          ],
          [
           0,
           0,
           0,
           0
          ],
          [
           0,
           0,
           0,
           0
          ],
          [
           0,
           0,
           0,
           0
          ],
          [
           16.666666666666668,
           16.666666666666668,
           16.666666666666668,
           16.666666666666668
          ],
          [
           0,
           0,
           0,
           0
          ],
          [
           0,
           0,
           0,
           0
          ],
          [
           0,
           0,
           0,
           0
          ],
          [
           0,
           0,
           0,
           0
          ],
          [
           0,
           0,
           0,
           0
          ],
          [
           10,
           10,
           10,
           10
          ],
          [
           10,
           10,
           10,
           10
          ],
          [
           0,
           0,
           0,
           0
          ],
          [
           23.333333333333332,
           23.333333333333332,
           23.333333333333332,
           23.333333333333332
          ],
          [
           0,
           0,
           0,
           0
          ],
          [
           0,
           0,
           0,
           0
          ],
          [
           10,
           10,
           10,
           10
          ],
          [
           0,
           0,
           0,
           0
          ],
          [
           0,
           0,
           0,
           0
          ],
          [
           0,
           0,
           0,
           0
          ],
          [
           16.666666666666668,
           16.666666666666668,
           16.666666666666668,
           16.666666666666668
          ],
          [
           0,
           0,
           0,
           0
          ],
          [
           0,
           0,
           0,
           0
          ],
          [
           0,
           0,
           0,
           0
          ],
          [
           0,
           0,
           0,
           0
          ],
          [
           0,
           0,
           0,
           0
          ],
          [
           0,
           0,
           0,
           0
          ],
          [
           0,
           0,
           0,
           0
          ],
          [
           0,
           0,
           0,
           0
          ],
          [
           0,
           0,
           0,
           0
          ],
          [
           0,
           0,
           0,
           0
          ],
          [
           0,
           0,
           0,
           0
          ],
          [
           0,
           0,
           0,
           0
          ],
          [
           0,
           0,
           0,
           0
          ],
          [
           0,
           0,
           0,
           0
          ],
          [
           0,
           0,
           0,
           0
          ],
          [
           0,
           0,
           0,
           0
          ],
          [
           0,
           0,
           0,
           0
          ],
          [
           0,
           0,
           0,
           0
          ],
          [
           0,
           0,
           0,
           0
          ],
          [
           0,
           0,
           0,
           0
          ],
          [
           0,
           0,
           0,
           0
          ],
          [
           0,
           0,
           0,
           0
          ],
          [
           0,
           0,
           0,
           0
          ],
          [
           0,
           0,
           0,
           0
          ],
          [
           0,
           0,
           0,
           0
          ],
          [
           0,
           0,
           0,
           0
          ],
          [
           0,
           0,
           0,
           0
          ],
          [
           0,
           0,
           0,
           0
          ],
          [
           0,
           0,
           0,
           0
          ],
          [
           0,
           0,
           0,
           0
          ],
          [
           0,
           0,
           0,
           0
          ],
          [
           0,
           0,
           0,
           0
          ],
          [
           0,
           0,
           0,
           0
          ],
          [
           0,
           0,
           0,
           0
          ],
          [
           0,
           0,
           0,
           0
          ]
         ]
        },
        {
         "marker": {
          "color": "rgb(204, 102, 119)"
         },
         "name": "Wettrennen",
         "type": "bar",
         "x": [
          "cediiiiii_10",
          "Fflopse",
          "Allooy",
          "Gobo9",
          "JOW23",
          "HerrDante",
          "ReichesBrot",
          "Pedrozockt",
          "Ex4cted",
          "_n3d",
          "2wc",
          "FrozenNoah",
          "chrisihalt",
          "DarkCobweb",
          "Freeeedom",
          "camman18YT",
          "yzvm",
          "byTobi",
          "Ninivee",
          "yiiq",
          "Grapfen",
          "Squashgitter333",
          "MindsetKito",
          "Teesily",
          "KakaMC",
          "h4nnes",
          "2B9",
          "zBro",
          "unausgesprochen",
          "Schmaarek",
          "Davinci_Son",
          "miridis41",
          "TheFabo",
          "Umgfoin",
          "lizsyy",
          "Shiewk",
          "ffawks",
          "TheBreadHD",
          "HeIsJustAPoorBoy",
          "La_meleagro",
          "IchHolzDichWeg",
          "Sey__",
          "Luxemburq",
          "MaxMitMaulkorb",
          "G0at3D",
          "Gerrygames",
          "ByNetherdude",
          "Kyuudo",
          "Gummibearchen",
          "GeneralEnte06",
          "lolisamakun",
          "Lingex",
          "LeWi_100",
          "Pluto28",
          "Morittz",
          "NotLennart",
          "Lubottus",
          "Simlll",
          "GamemasterNiki",
          "LordAlexos",
          "agowskyy",
          "M0osebumps",
          "JennieKim",
          "revolverz",
          "Dokkkkko",
          "Sower_",
          "GermanPie",
          "Julius16",
          "SiLoHB",
          "Feinberg",
          "Stockinqs",
          "Cytoox",
          "LeMetin_",
          "Janne4k",
          "Krusti",
          "Vanillinchen",
          "20LeRe10",
          "MoZadaCraft",
          "YBCM",
          "lolisamasan",
          "xBaumeisterin",
          "Bikoop",
          "Mincheeen",
          "Vacted",
          "xX_Dima_ggg_Xx6",
          "Falke23_5",
          "Tim_Voltia",
          "Seemops_8",
          "ScreamingBlatz",
          "Gryzes",
          "EinfachEazy",
          "RasenLP",
          "Lennart0911",
          "HerosHD",
          "BastiGHG",
          "Navex",
          "deadfiight",
          "frutigall",
          "Ritokii",
          "SpeckyCut"
         ],
         "y": [
          56,
          74,
          72,
          42,
          6,
          4,
          38,
          0,
          0,
          0,
          4,
          0,
          34,
          0,
          26,
          0,
          0,
          0,
          0,
          30,
          0,
          12,
          0,
          0,
          0,
          0,
          0,
          0,
          0,
          12,
          0,
          0,
          0,
          14,
          0,
          0,
          4,
          0,
          0,
          0,
          0,
          0,
          0,
          0,
          0,
          20,
          0,
          6,
          26,
          0,
          0,
          0,
          18,
          0,
          0,
          0,
          0,
          0,
          0,
          0,
          0,
          16,
          0,
          0,
          0,
          0,
          0,
          0,
          0,
          0,
          0,
          0,
          10,
          0,
          0,
          0,
          0,
          0,
          0,
          0,
          4,
          0,
          0,
          0,
          0,
          0,
          12,
          0,
          0,
          0,
          0,
          0,
          0,
          0,
          0,
          0,
          0,
          0,
          0,
          0
         ]
        }
       ],
       "layout": {
        "annotations": [
         {
          "font": {
           "size": 12
          },
          "showarrow": false,
          "text": "Max 100 points per minigame. Records #1 through #10 of games & maps in the active pool are considered (#1: 100, #2: 90, ..., #10: 10). If a minigame has multiple maps, the 100 points are distributed equally. fflopse.github.io/MCP-Records/data-analysis/global-ranking.ipynb",
          "x": 0.5,
          "xanchor": "center",
          "xref": "paper",
          "y": 1.1635,
          "yref": "paper"
         }
        ],
        "barmode": "stack",
        "legend": {
         "bgcolor": "rgba(255, 255, 255, 0)",
         "bordercolor": "rgba(0, 0, 0, 0)",
         "font": {
          "size": 12
         },
         "traceorder": "normal",
         "x": 1.05,
         "y": 0.5
        },
        "margin": {
         "r": 200
        },
        "template": {
         "data": {
          "bar": [
           {
            "error_x": {
             "color": "#2a3f5f"
            },
            "error_y": {
             "color": "#2a3f5f"
            },
            "marker": {
             "line": {
              "color": "#E5ECF6",
              "width": 0.5
             },
             "pattern": {
              "fillmode": "overlay",
              "size": 10,
              "solidity": 0.2
             }
            },
            "type": "bar"
           }
          ],
          "barpolar": [
           {
            "marker": {
             "line": {
              "color": "#E5ECF6",
              "width": 0.5
             },
             "pattern": {
              "fillmode": "overlay",
              "size": 10,
              "solidity": 0.2
             }
            },
            "type": "barpolar"
           }
          ],
          "carpet": [
           {
            "aaxis": {
             "endlinecolor": "#2a3f5f",
             "gridcolor": "white",
             "linecolor": "white",
             "minorgridcolor": "white",
             "startlinecolor": "#2a3f5f"
            },
            "baxis": {
             "endlinecolor": "#2a3f5f",
             "gridcolor": "white",
             "linecolor": "white",
             "minorgridcolor": "white",
             "startlinecolor": "#2a3f5f"
            },
            "type": "carpet"
           }
          ],
          "choropleth": [
           {
            "colorbar": {
             "outlinewidth": 0,
             "ticks": ""
            },
            "type": "choropleth"
           }
          ],
          "contour": [
           {
            "colorbar": {
             "outlinewidth": 0,
             "ticks": ""
            },
            "colorscale": [
             [
              0,
              "#0d0887"
             ],
             [
              0.1111111111111111,
              "#46039f"
             ],
             [
              0.2222222222222222,
              "#7201a8"
             ],
             [
              0.3333333333333333,
              "#9c179e"
             ],
             [
              0.4444444444444444,
              "#bd3786"
             ],
             [
              0.5555555555555556,
              "#d8576b"
             ],
             [
              0.6666666666666666,
              "#ed7953"
             ],
             [
              0.7777777777777778,
              "#fb9f3a"
             ],
             [
              0.8888888888888888,
              "#fdca26"
             ],
             [
              1,
              "#f0f921"
             ]
            ],
            "type": "contour"
           }
          ],
          "contourcarpet": [
           {
            "colorbar": {
             "outlinewidth": 0,
             "ticks": ""
            },
            "type": "contourcarpet"
           }
          ],
          "heatmap": [
           {
            "colorbar": {
             "outlinewidth": 0,
             "ticks": ""
            },
            "colorscale": [
             [
              0,
              "#0d0887"
             ],
             [
              0.1111111111111111,
              "#46039f"
             ],
             [
              0.2222222222222222,
              "#7201a8"
             ],
             [
              0.3333333333333333,
              "#9c179e"
             ],
             [
              0.4444444444444444,
              "#bd3786"
             ],
             [
              0.5555555555555556,
              "#d8576b"
             ],
             [
              0.6666666666666666,
              "#ed7953"
             ],
             [
              0.7777777777777778,
              "#fb9f3a"
             ],
             [
              0.8888888888888888,
              "#fdca26"
             ],
             [
              1,
              "#f0f921"
             ]
            ],
            "type": "heatmap"
           }
          ],
          "heatmapgl": [
           {
            "colorbar": {
             "outlinewidth": 0,
             "ticks": ""
            },
            "colorscale": [
             [
              0,
              "#0d0887"
             ],
             [
              0.1111111111111111,
              "#46039f"
             ],
             [
              0.2222222222222222,
              "#7201a8"
             ],
             [
              0.3333333333333333,
              "#9c179e"
             ],
             [
              0.4444444444444444,
              "#bd3786"
             ],
             [
              0.5555555555555556,
              "#d8576b"
             ],
             [
              0.6666666666666666,
              "#ed7953"
             ],
             [
              0.7777777777777778,
              "#fb9f3a"
             ],
             [
              0.8888888888888888,
              "#fdca26"
             ],
             [
              1,
              "#f0f921"
             ]
            ],
            "type": "heatmapgl"
           }
          ],
          "histogram": [
           {
            "marker": {
             "pattern": {
              "fillmode": "overlay",
              "size": 10,
              "solidity": 0.2
             }
            },
            "type": "histogram"
           }
          ],
          "histogram2d": [
           {
            "colorbar": {
             "outlinewidth": 0,
             "ticks": ""
            },
            "colorscale": [
             [
              0,
              "#0d0887"
             ],
             [
              0.1111111111111111,
              "#46039f"
             ],
             [
              0.2222222222222222,
              "#7201a8"
             ],
             [
              0.3333333333333333,
              "#9c179e"
             ],
             [
              0.4444444444444444,
              "#bd3786"
             ],
             [
              0.5555555555555556,
              "#d8576b"
             ],
             [
              0.6666666666666666,
              "#ed7953"
             ],
             [
              0.7777777777777778,
              "#fb9f3a"
             ],
             [
              0.8888888888888888,
              "#fdca26"
             ],
             [
              1,
              "#f0f921"
             ]
            ],
            "type": "histogram2d"
           }
          ],
          "histogram2dcontour": [
           {
            "colorbar": {
             "outlinewidth": 0,
             "ticks": ""
            },
            "colorscale": [
             [
              0,
              "#0d0887"
             ],
             [
              0.1111111111111111,
              "#46039f"
             ],
             [
              0.2222222222222222,
              "#7201a8"
             ],
             [
              0.3333333333333333,
              "#9c179e"
             ],
             [
              0.4444444444444444,
              "#bd3786"
             ],
             [
              0.5555555555555556,
              "#d8576b"
             ],
             [
              0.6666666666666666,
              "#ed7953"
             ],
             [
              0.7777777777777778,
              "#fb9f3a"
             ],
             [
              0.8888888888888888,
              "#fdca26"
             ],
             [
              1,
              "#f0f921"
             ]
            ],
            "type": "histogram2dcontour"
           }
          ],
          "mesh3d": [
           {
            "colorbar": {
             "outlinewidth": 0,
             "ticks": ""
            },
            "type": "mesh3d"
           }
          ],
          "parcoords": [
           {
            "line": {
             "colorbar": {
              "outlinewidth": 0,
              "ticks": ""
             }
            },
            "type": "parcoords"
           }
          ],
          "pie": [
           {
            "automargin": true,
            "type": "pie"
           }
          ],
          "scatter": [
           {
            "fillpattern": {
             "fillmode": "overlay",
             "size": 10,
             "solidity": 0.2
            },
            "type": "scatter"
           }
          ],
          "scatter3d": [
           {
            "line": {
             "colorbar": {
              "outlinewidth": 0,
              "ticks": ""
             }
            },
            "marker": {
             "colorbar": {
              "outlinewidth": 0,
              "ticks": ""
             }
            },
            "type": "scatter3d"
           }
          ],
          "scattercarpet": [
           {
            "marker": {
             "colorbar": {
              "outlinewidth": 0,
              "ticks": ""
             }
            },
            "type": "scattercarpet"
           }
          ],
          "scattergeo": [
           {
            "marker": {
             "colorbar": {
              "outlinewidth": 0,
              "ticks": ""
             }
            },
            "type": "scattergeo"
           }
          ],
          "scattergl": [
           {
            "marker": {
             "colorbar": {
              "outlinewidth": 0,
              "ticks": ""
             }
            },
            "type": "scattergl"
           }
          ],
          "scattermapbox": [
           {
            "marker": {
             "colorbar": {
              "outlinewidth": 0,
              "ticks": ""
             }
            },
            "type": "scattermapbox"
           }
          ],
          "scatterpolar": [
           {
            "marker": {
             "colorbar": {
              "outlinewidth": 0,
              "ticks": ""
             }
            },
            "type": "scatterpolar"
           }
          ],
          "scatterpolargl": [
           {
            "marker": {
             "colorbar": {
              "outlinewidth": 0,
              "ticks": ""
             }
            },
            "type": "scatterpolargl"
           }
          ],
          "scatterternary": [
           {
            "marker": {
             "colorbar": {
              "outlinewidth": 0,
              "ticks": ""
             }
            },
            "type": "scatterternary"
           }
          ],
          "surface": [
           {
            "colorbar": {
             "outlinewidth": 0,
             "ticks": ""
            },
            "colorscale": [
             [
              0,
              "#0d0887"
             ],
             [
              0.1111111111111111,
              "#46039f"
             ],
             [
              0.2222222222222222,
              "#7201a8"
             ],
             [
              0.3333333333333333,
              "#9c179e"
             ],
             [
              0.4444444444444444,
              "#bd3786"
             ],
             [
              0.5555555555555556,
              "#d8576b"
             ],
             [
              0.6666666666666666,
              "#ed7953"
             ],
             [
              0.7777777777777778,
              "#fb9f3a"
             ],
             [
              0.8888888888888888,
              "#fdca26"
             ],
             [
              1,
              "#f0f921"
             ]
            ],
            "type": "surface"
           }
          ],
          "table": [
           {
            "cells": {
             "fill": {
              "color": "#EBF0F8"
             },
             "line": {
              "color": "white"
             }
            },
            "header": {
             "fill": {
              "color": "#C8D4E3"
             },
             "line": {
              "color": "white"
             }
            },
            "type": "table"
           }
          ]
         },
         "layout": {
          "annotationdefaults": {
           "arrowcolor": "#2a3f5f",
           "arrowhead": 0,
           "arrowwidth": 1
          },
          "autotypenumbers": "strict",
          "coloraxis": {
           "colorbar": {
            "outlinewidth": 0,
            "ticks": ""
           }
          },
          "colorscale": {
           "diverging": [
            [
             0,
             "#8e0152"
            ],
            [
             0.1,
             "#c51b7d"
            ],
            [
             0.2,
             "#de77ae"
            ],
            [
             0.3,
             "#f1b6da"
            ],
            [
             0.4,
             "#fde0ef"
            ],
            [
             0.5,
             "#f7f7f7"
            ],
            [
             0.6,
             "#e6f5d0"
            ],
            [
             0.7,
             "#b8e186"
            ],
            [
             0.8,
             "#7fbc41"
            ],
            [
             0.9,
             "#4d9221"
            ],
            [
             1,
             "#276419"
            ]
           ],
           "sequential": [
            [
             0,
             "#0d0887"
            ],
            [
             0.1111111111111111,
             "#46039f"
            ],
            [
             0.2222222222222222,
             "#7201a8"
            ],
            [
             0.3333333333333333,
             "#9c179e"
            ],
            [
             0.4444444444444444,
             "#bd3786"
            ],
            [
             0.5555555555555556,
             "#d8576b"
            ],
            [
             0.6666666666666666,
             "#ed7953"
            ],
            [
             0.7777777777777778,
             "#fb9f3a"
            ],
            [
             0.8888888888888888,
             "#fdca26"
            ],
            [
             1,
             "#f0f921"
            ]
           ],
           "sequentialminus": [
            [
             0,
             "#0d0887"
            ],
            [
             0.1111111111111111,
             "#46039f"
            ],
            [
             0.2222222222222222,
             "#7201a8"
            ],
            [
             0.3333333333333333,
             "#9c179e"
            ],
            [
             0.4444444444444444,
             "#bd3786"
            ],
            [
             0.5555555555555556,
             "#d8576b"
            ],
            [
             0.6666666666666666,
             "#ed7953"
            ],
            [
             0.7777777777777778,
             "#fb9f3a"
            ],
            [
             0.8888888888888888,
             "#fdca26"
            ],
            [
             1,
             "#f0f921"
            ]
           ]
          },
          "colorway": [
           "#636efa",
           "#EF553B",
           "#00cc96",
           "#ab63fa",
           "#FFA15A",
           "#19d3f3",
           "#FF6692",
           "#B6E880",
           "#FF97FF",
           "#FECB52"
          ],
          "font": {
           "color": "#2a3f5f"
          },
          "geo": {
           "bgcolor": "white",
           "lakecolor": "white",
           "landcolor": "#E5ECF6",
           "showlakes": true,
           "showland": true,
           "subunitcolor": "white"
          },
          "hoverlabel": {
           "align": "left"
          },
          "hovermode": "closest",
          "mapbox": {
           "style": "light"
          },
          "paper_bgcolor": "white",
          "plot_bgcolor": "#E5ECF6",
          "polar": {
           "angularaxis": {
            "gridcolor": "white",
            "linecolor": "white",
            "ticks": ""
           },
           "bgcolor": "#E5ECF6",
           "radialaxis": {
            "gridcolor": "white",
            "linecolor": "white",
            "ticks": ""
           }
          },
          "scene": {
           "xaxis": {
            "backgroundcolor": "#E5ECF6",
            "gridcolor": "white",
            "gridwidth": 2,
            "linecolor": "white",
            "showbackground": true,
            "ticks": "",
            "zerolinecolor": "white"
           },
           "yaxis": {
            "backgroundcolor": "#E5ECF6",
            "gridcolor": "white",
            "gridwidth": 2,
            "linecolor": "white",
            "showbackground": true,
            "ticks": "",
            "zerolinecolor": "white"
           },
           "zaxis": {
            "backgroundcolor": "#E5ECF6",
            "gridcolor": "white",
            "gridwidth": 2,
            "linecolor": "white",
            "showbackground": true,
            "ticks": "",
            "zerolinecolor": "white"
           }
          },
          "shapedefaults": {
           "line": {
            "color": "#2a3f5f"
           }
          },
          "ternary": {
           "aaxis": {
            "gridcolor": "white",
            "linecolor": "white",
            "ticks": ""
           },
           "baxis": {
            "gridcolor": "white",
            "linecolor": "white",
            "ticks": ""
           },
           "bgcolor": "#E5ECF6",
           "caxis": {
            "gridcolor": "white",
            "linecolor": "white",
            "ticks": ""
           }
          },
          "title": {
           "x": 0.05
          },
          "xaxis": {
           "automargin": true,
           "gridcolor": "white",
           "linecolor": "white",
           "ticks": "",
           "title": {
            "standoff": 15
           },
           "zerolinecolor": "white",
           "zerolinewidth": 2
          },
          "yaxis": {
           "automargin": true,
           "gridcolor": "white",
           "linecolor": "white",
           "ticks": "",
           "title": {
            "standoff": 15
           },
           "zerolinecolor": "white",
           "zerolinewidth": 2
          }
         }
        },
        "title": {
         "text": "Extended Overall Record Comparison - Top 100 Players"
        },
        "xaxis": {
         "title": {
          "text": "Player"
         }
        },
        "yaxis": {
         "title": {
          "text": "Points"
         }
        }
       }
      }
     },
     "metadata": {},
     "output_type": "display_data"
    }
   ],
   "source": [
    "import plotly.graph_objects as go\n",
    "\n",
    "# Sum all columns to get the total score\n",
    "outDf['Total'] = outDf.sum(axis=1)\n",
    "\n",
    "# Sort by total score and fill N/A values with 0\n",
    "outDf = outDf.sort_values(by='Total', ascending=False).fillna(0)\n",
    "\n",
    "# Crop to top 10 players\n",
    "cropDf = outDf.head(100).copy()\n",
    "\n",
    "# Drop the 'Total' column for plotting\n",
    "cropDf = cropDf.drop(columns=['Total'])\n",
    "\n",
    "# Create a color palette\n",
    "color_palette = px.colors.qualitative.Safe\n",
    "\n",
    "# Create the stacked bar plot\n",
    "fig = go.Figure()\n",
    "\n",
    "for column in cropDf.columns.difference(['Player']):\n",
    "    fig.add_trace(go.Bar(\n",
    "        x=cropDf.index,\n",
    "        y=cropDf[column],\n",
    "        name=column,\n",
    "        marker_color=color_palette[len(fig.data) % len(color_palette)]\n",
    "    ))\n",
    "\n",
    "# Update layout\n",
    "fig.update_layout(\n",
    "    barmode='stack',\n",
    "    title='Extended Overall Record Comparison - Top 100 Players',\n",
    "    xaxis=dict(title='Player'),\n",
    "    yaxis=dict(title='Points'),\n",
    "    #height=800,\n",
    "    #width=1000,\n",
    "    legend=dict(\n",
    "        x=1.05,\n",
    "        y=0.5,\n",
    "        traceorder='normal',\n",
    "        font=dict(size=12),\n",
    "        bgcolor='rgba(255, 255, 255, 0)',\n",
    "        bordercolor='rgba(0, 0, 0, 0)'\n",
    "    ),\n",
    "    margin=dict(r=200),  # Adjust right margin to make room for the legend\n",
    "    annotations=[\n",
    "        dict(\n",
    "            x=0.5,\n",
    "            y=1.1635,\n",
    "            xref='paper',\n",
    "            yref='paper',\n",
    "            text='Max 100 points per minigame. Records #1 through #10 of games & maps in the active pool are considered (#1: 100, #2: 90, ..., #10: 10). If a minigame has multiple maps, the 100 points are distributed equally. fflopse.github.io/MCP-Records/data-analysis/global-ranking.ipynb',\n",
    "            showarrow=False,\n",
    "            font=dict(size=12),\n",
    "            xanchor='center'\n",
    "        )\n",
    "    ]\n",
    ")\n",
    "\n",
    "fig.show()\n",
    "\n",
    "# save the plot as an html file\n",
    "\n",
    "fig.write_html('out/full_overall_record_comparison.html')"
   ]
  },
  {
   "cell_type": "code",
   "execution_count": 32,
   "metadata": {},
   "outputs": [],
   "source": [
    "outDf['Total'].to_clipboard()"
   ]
  },
  {
   "cell_type": "code",
   "execution_count": null,
   "metadata": {},
   "outputs": [],
   "source": []
  }
 ],
 "metadata": {
  "kernelspec": {
   "display_name": "base",
   "language": "python",
   "name": "python3"
  },
  "language_info": {
   "codemirror_mode": {
    "name": "ipython",
    "version": 3
   },
   "file_extension": ".py",
   "mimetype": "text/x-python",
   "name": "python",
   "nbconvert_exporter": "python",
   "pygments_lexer": "ipython3",
   "version": "3.11.7"
  }
 },
 "nbformat": 4,
 "nbformat_minor": 2
}
