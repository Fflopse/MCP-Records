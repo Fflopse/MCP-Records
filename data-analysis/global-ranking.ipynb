{
 "cells": [
  {
   "cell_type": "code",
   "execution_count": 14,
   "metadata": {},
   "outputs": [
    {
     "data": {
      "text/plain": [
       "'\\n    Each Minigame may yield a total of 100 points per player. \\n    Records #1 through #10 are considered \\n\\n    If a minigame has multiple maps, the 100 points are distributed equally. For Sammelwahn and Replika, the sum over all records is considered solely. \\n\\n    E.g. Frozen Path (1 Map Minigame)\\n    #1 player: 100 points\\n    #2 player: 90 points\\n    #3 player: 80 points\\n    ...\\n    #10 player: 10 points\\n\\n    E.g. Schießstand (3 Map Minigame)\\n    Map 1: \\n    #1 player: 100/3 (33.333) points\\n    #2 player: 90/3 (30) points\\n    ...\\n    Map 2:\\n    #1 player: 100/3 (33.333) points\\n    #2 player: 90/3 (30) points\\n    ...\\n    Map 3:\\n    #1 player: 100/3 (33.333) points\\n    #2 player: 90/3 (30) points\\n    ...\\n\\n    E.g. Speed Race (5 Map Minigame)\\n    Map 1:\\n    #1 player: 100/5 (20) points\\n    #2 player: 90/5 (18) points\\n    ...\\n    Map 2:\\n    #1 player: 100/5 (20) points\\n    #2 player: 90/5 (18) points\\n    ...\\n\\n    Thus, a player holding #1 records in a minigame will always be assigned 100 points. \\n'"
      ]
     },
     "execution_count": 14,
     "metadata": {},
     "output_type": "execute_result"
    }
   ],
   "source": [
    "# figuring out the best player over all minigames \n",
    "\n",
    "'''\n",
    "    Each Minigame may yield a total of 100 points per player. \n",
    "    Records #1 through #10 are considered \n",
    "\n",
    "    If a minigame has multiple maps, the 100 points are distributed equally. For Sammelwahn and Replika, the sum over all records is considered solely. \n",
    "\n",
    "    E.g. Frozen Path (1 Map Minigame)\n",
    "    #1 player: 100 points\n",
    "    #2 player: 90 points\n",
    "    #3 player: 80 points\n",
    "    ...\n",
    "    #10 player: 10 points\n",
    "\n",
    "    E.g. Schießstand (3 Map Minigame)\n",
    "    Map 1: \n",
    "    #1 player: 100/3 (33.333) points\n",
    "    #2 player: 90/3 (30) points\n",
    "    ...\n",
    "    Map 2:\n",
    "    #1 player: 100/3 (33.333) points\n",
    "    #2 player: 90/3 (30) points\n",
    "    ...\n",
    "    Map 3:\n",
    "    #1 player: 100/3 (33.333) points\n",
    "    #2 player: 90/3 (30) points\n",
    "    ...\n",
    "\n",
    "    E.g. Speed Race (5 Map Minigame)\n",
    "    Map 1:\n",
    "    #1 player: 100/5 (20) points\n",
    "    #2 player: 90/5 (18) points\n",
    "    ...\n",
    "    Map 2:\n",
    "    #1 player: 100/5 (20) points\n",
    "    #2 player: 90/5 (18) points\n",
    "    ...\n",
    "\n",
    "    Thus, a player holding #1 records in a minigame will always be assigned 100 points. \n",
    "'''"
   ]
  },
  {
   "cell_type": "code",
   "execution_count": 15,
   "metadata": {},
   "outputs": [],
   "source": [
    "import os\n",
    "import re \n",
    "import pandas as pd\n",
    "import seaborn as sns \n",
    "import numpy as np \n",
    "\n",
    "pointMiniGames = \"Sammelwahn, Schießstand, Walls, Mini Survivalgames, Mini Skywars, Lasertag, Minengefecht, Einer im Köcher, Paintball, Spleef, Buntes Chaos, Duelle\" \n",
    "timeMiniGames = \"Wettrennen, Jump and Run, Pferderennen, Drachenflucht, Replika, Blockhüpfer, Todeswürfel, Freier Fall, Elytrarennen, Waffenfolge, Minenfeld, Kletter-König, Ampelrennen, Hoch hinaus, Frostiger Pfad\"\n",
    "\n",
    "def getPlayerPaths():\n",
    "    file_list = os.listdir('in-new')\n",
    "    return file_list\n",
    "\n",
    "def read_file(file):\n",
    "    try:\n",
    "        with open('in-new/' + file, 'r', encoding='utf-8') as f:\n",
    "            data = f.read()\n",
    "    except UnicodeDecodeError:\n",
    "        # print(f'Error: {file} contains invalid characters for UTF-8. Trying with latin-1.')\n",
    "        try:\n",
    "            with open('in-new/' + file, 'r', encoding='latin-1') as f:\n",
    "                data = f.read()\n",
    "        except Exception as e:\n",
    "            print(f'Error: Could not read {file} with latin-1 encoding. {e}')\n",
    "            return None\n",
    "    except FileNotFoundError:\n",
    "        print(f'Error: {file} not found.')\n",
    "        return None\n",
    "    except Exception as e:\n",
    "        print(f'Error: An unexpected error occurred while reading {file}. {e}')\n",
    "        return None\n",
    "\n",
    "    if \"TooltipEvent\" not in data:\n",
    "        print(f'Error: {file} does not contain any TooltipEvent data')\n",
    "        return None\n",
    "    else:\n",
    "        data = data.replace('TooltipEvent, ', '')\n",
    "    \n",
    "    return data\n",
    "\n",
    "\n",
    "def getRecordData(playerPath, minigame):\n",
    "    # if read_file(playerPath) is None: return None\n",
    "\n",
    "    data = read_file(playerPath).split('\\n')\n",
    "    for line in data: \n",
    "        if minigame in line: \n",
    "            minigameData = line\n",
    "            minigameData = minigameData.replace(minigame, '').strip()\n",
    "            return minigameData  # return the data instead of printing it\n",
    "\n",
    "def create_dataframe(input_string, minigame):\n",
    "\n",
    "    # Define regular expression pattern to match map names and times\n",
    "    pattern = r'(\\w+\\s?\\w+)\\s*:\\s*(?:(\\d+)\\s*min\\s*)?(?:(\\d+)\\s*s\\s*)?(\\d+)\\s*ms'\n",
    "\n",
    "    # Find all matches in the input string\n",
    "    try: matches = re.findall(pattern, input_string)\n",
    "    except: matches = None\n",
    "\n",
    "    # Initialize data dictionary to store map names and times\n",
    "    data = {}\n",
    "\n",
    "    # Iterate over matches and populate data dictionary\n",
    "    if matches: \n",
    "        for match in matches:\n",
    "            map_name = match[0]\n",
    "            minutes = int(match[1] or 0)\n",
    "            seconds = int(match[2] or 0) + int(match[3]) / 1000\n",
    "            time_seconds = minutes * 60 + seconds\n",
    "            data[map_name] = time_seconds\n",
    "    else: return pd.DataFrame()\n",
    "\n",
    "    # Create DataFrame from data dictionary\n",
    "    df = pd.DataFrame(data, index=[0])\n",
    "\n",
    "\n",
    "    return df\n",
    "\n",
    "def createPointDataframe(input_string, minigame):\n",
    "    # Define regular expression pattern to match map names and times\n",
    "    pattern = r'(\\w+\\s?\\w+)\\s*:\\s*(\\d+)'\n",
    "\n",
    "    # Find all matches in the input string\n",
    "    matches = re.findall(pattern, input_string)\n",
    "\n",
    "    # Initialize data dictionary to store map names and times\n",
    "    data = {}\n",
    "\n",
    "    # Iterate over matches and populate data dictionary\n",
    "    for match in matches:\n",
    "        map_name = match[0]\n",
    "        time_value = int(match[1])\n",
    "        data[map_name] = time_value\n",
    "\n",
    "    # Create DataFrame from data dictionary\n",
    "    df = pd.DataFrame(data, index=[0])\n",
    "    return df.fillna(0)\n",
    "\n",
    "def getRecordsDataframe(minigame='Wettrennen', save=False, log=False, html=False, rank=True):\n",
    "\n",
    "    paths = getPlayerPaths()\n",
    "\n",
    "    outDf = pd.DataFrame()\n",
    "\n",
    "    if log:\n",
    "        print(f'processing {minigame}...')\n",
    "\n",
    "    if minigame in pointMiniGames: \n",
    "        pass\n",
    "    elif minigame in timeMiniGames:\n",
    "        pass\n",
    "    else: \n",
    "        ValueError('Not a valid minigame name')\n",
    "\n",
    "    for i in paths:\n",
    "        if minigame in timeMiniGames:\n",
    "            df = create_dataframe(getRecordData(playerPath=i, minigame=minigame), minigame)\n",
    "\n",
    "        if minigame in pointMiniGames:\n",
    "            try: \n",
    "                df = createPointDataframe(getRecordData(playerPath=i, minigame=minigame), minigame)\n",
    "                df.fillna(0, inplace=True)\n",
    "            except: \n",
    "                continue\n",
    "\n",
    "        if df is not None:  \n",
    "            df.index = [i.replace('.txt', '')]\n",
    "            outDf = pd.concat([outDf, df])\n",
    "\n",
    "    outPath = 'out/' + minigame + '.json'\n",
    "\n",
    "    '''\n",
    "        Minigame Specific changes to the df\n",
    "    '''\n",
    "\n",
    "    if (\"Replika\" in minigame): \n",
    "\n",
    "        replikaDf = outDf \n",
    "        replikaDf.fillna(25, inplace=True) # assigning a value to a never-played-before pattern, 17 perturbs worse player order and alt account stats lol, 27 is probably too much, difficult to choose an appropriate value here\n",
    "        row_sums = replikaDf.sum(axis=1)\n",
    "        \n",
    "        # Append the sum as a new column\n",
    "        replikaDf['Sum'] = row_sums\n",
    "\n",
    "        # Re-indexing\n",
    "        replikaDf = replikaDf.reindex(sorted(replikaDf.columns), axis=1)\n",
    "    \n",
    "        # Move 'Sum' column to the first position\n",
    "        cols = replikaDf.columns.tolist()\n",
    "        cols = ['Sum'] + [col for col in cols if col != 'Sum']\n",
    "        replikaDf = replikaDf[cols]\n",
    "\n",
    "        # Removing player data with too many NaNs (players that haven't played most of the patterns)\n",
    "        # replikaDf = replikaDf.drop(columns=[\"Ritokii\", \"Feinberg\", \"Sebi1801\"])\n",
    "\n",
    "        outDf = replikaDf\n",
    "\n",
    "    if (\"Sammelwahn\" in minigame):\n",
    "\n",
    "        row_sums = outDf.sum(axis=1)\n",
    "\n",
    "        # Append the sum as a new column\n",
    "        outDf['Sum'] = row_sums\n",
    "\n",
    "        # Re-indexing\n",
    "        outDf = outDf.reindex(sorted(outDf.columns), axis=1)\n",
    "\n",
    "        # Move 'Sum' column to the first position\n",
    "        cols = outDf.columns.tolist()\n",
    "        cols = ['Sum'] + [col for col in cols if col != 'Sum']\n",
    "        outDf = outDf[cols]\n",
    "\n",
    "        # remove \"Punkte\" from all columns\n",
    "        outDf.columns = outDf.columns.str.replace('Punkte', '')\n",
    "\n",
    "    if (\"Lasertag\" in minigame):\n",
    "        # Merge the columns \"tungen Port\" and \"Port\" into one column\n",
    "        \n",
    "        # debug \n",
    "        # print(outDf.columns)\n",
    "\n",
    "        outDf[\"Tötungen Port\"] = outDf[\"Tötungen Port\"].replace(0, np.nan)\n",
    "\n",
    "        outDf[\"temp1\"] = outDf[\"Tötungen Port\"]\n",
    "        try: outDf.drop(columns=[\"Port\"], inplace=True)\n",
    "        except: pass\n",
    "        outDf[\"Port\"] = outDf[\"temp1\"]\n",
    "\n",
    "        outDf[\"Tötungen Neon\"] = outDf[\"Tötungen Neon\"].replace(0, np.nan)\n",
    "\n",
    "        outDf[\"temp2\"] = outDf[\"Tötungen Neon\"]\n",
    "        try: outDf.drop(columns=[\"Neon\"], inplace=True)\n",
    "        except: pass\n",
    "        outDf[\"Neon\"] = outDf[\"temp2\"]\n",
    "\n",
    "        outDf.drop(columns=[\"temp1\", \"temp2\", \"Tötungen Neon\", \"Tötungen Port\"], inplace=True)  \n",
    "\n",
    "    if (\"Einer im Köcher\" in minigame):\n",
    "        outDf[\"Tötungen Asia\"] = outDf[\"Tötungen Asia\"].replace(0, np.nan)\n",
    "        outDf[\"Asia\"] = outDf[\"Asia\"].replace(0, np.nan)\n",
    "\n",
    "        outDf[\"temp1\"] = outDf[\"Asia\"].fillna(outDf[\"Tötungen Asia\"])\n",
    "        try: outDf.drop(columns=[\"Asia\", \"Tötungen Asia\"], inplace=True)\n",
    "        except: pass\n",
    "        outDf[\"Asia\"] = outDf[\"temp1\"]\n",
    "\n",
    "        outDf.drop(columns=[\"temp1\"], inplace=True)\n",
    "        \n",
    "    if (\"Paintball\" in minigame):\n",
    "        outDf[\"Tötungen Arabic\"] = outDf[\"Tötungen Arabic\"].replace(0, np.nan)\n",
    "\n",
    "        outDf[\"temp1\"] = outDf[\"Tötungen Arabic\"]\n",
    "        try: outDf.drop(columns=[\"Tötungen Arabic\"], inplace=True)\n",
    "        except: pass\n",
    "        outDf[\"Arabic\"] = outDf[\"temp1\"]\n",
    "\n",
    "        outDf.drop(columns=[\"temp1\"], inplace=True)\n",
    "\n",
    "        # SW Columns: Swamp', 'Tötung Asia', 'Tötungen Asia', 'Tötungen Coconut', 'Wild West', 'tung Asia', 'tungen Asia'\n",
    "\n",
    "    if (\"Mini Skywars\" in minigame):\n",
    "        outDf[\"Tötungen Asia\"] = outDf[\"Tötungen Asia\"].replace(0, np.nan)\n",
    "        outDf[\"Tötung Asia\"] = outDf[\"Tötung Asia\"].replace(0, np.nan)\n",
    "        #outDf[\"tung Asia\"] = outDf[\"tung Asia\"].replace(0, np.nan)\n",
    "\n",
    "        outDf[\"temp1\"] = outDf[\"Tötungen Asia\"].fillna(outDf[\"Tötung Asia\"])\n",
    "        #outDf[\"temp1\"] = outDf[\"Tötungen Asia\"].fillna(outDf[\"tung Asia\"])\n",
    "        outDf[\"temp1\"] = outDf[\"Tötungen Asia\"]\n",
    "        try: outDf.drop(columns=[\"Tötung Asia\", \"Tötungen Asia\"], inplace=True)\n",
    "        except: pass\n",
    "        outDf[\"Asia\"] = outDf[\"temp1\"]\n",
    "\n",
    "        outDf[\"Tötungen Coconut\"] = outDf[\"Tötungen Coconut\"].replace(0, np.nan)\n",
    "        #outDf[\"tungen Coconut\"] = outDf[\"tungen Coconut\"].replace(0, np.nan)\n",
    "\n",
    "        #outDf[\"temp2\"] = outDf[\"tungen Coconut\"].fillna(outDf[\"Tötungen Coconut\"])\n",
    "        try: outDf.drop(columns=[\"tungen Coconut\", \"Tötungen Coconut\"], inplace=True)\n",
    "        except: pass\n",
    "        #outDf[\"Coconut\"] = outDf[\"temp2\"]\n",
    "\n",
    "        outDf.drop(columns=[\"temp1\"], inplace=True)\n",
    "\n",
    "    if (\"Minengefecht\" in minigame):\n",
    "        outDf[\"Tötungen Overworld\"] = outDf[\"Tötungen Overworld\"].replace(0, np.nan)\n",
    "        outDf[\"Overworld\"] = outDf[\"Overworld\"].replace(0, np.nan)\n",
    "\n",
    "        outDf[\"temp1\"] = outDf[\"Overworld\"].fillna(outDf[\"Tötungen Overworld\"])\n",
    "        outDf[\"temp1\"] = outDf[\"temp1\"]\n",
    "\n",
    "        try: outDf.drop(columns=[\"Overworld\", \"Tötungen Overworld\"], inplace=True)\n",
    "        except: pass\n",
    "        outDf[\"Overworld\"] = outDf[\"temp1\"]\n",
    "\n",
    "        outDf.drop(columns=[\"temp1\"], inplace=True)\n",
    "        \n",
    "        outDf[\"Tötungen Ruin\"] = outDf[\"Tötungen Ruin\"].replace(0, np.nan)\n",
    "\n",
    "        outDf[\"temp2\"] = outDf[\"Tötungen Ruin\"]\n",
    "        try: outDf.drop(columns=[\"Tötungen Ruin\"], inplace=True)\n",
    "        except: pass\n",
    "        outDf[\"Ruin\"] = outDf[\"temp2\"]\n",
    "\n",
    "        outDf.drop(columns=[\"temp2\"], inplace=True)\n",
    "\n",
    "        try: outDf.drop(columns=[\"Tötung Overworld\", \"Tötung Ruin\"], inplace=True)\n",
    "        except: pass\n",
    "\n",
    "    if (\"Spleef\" in minigame):\n",
    "        outDf[\"Tötungen Mountains\"] = outDf[\"Tötungen Mountains\"].replace(0, np.nan)\n",
    "        outDf[\"Mountains\"] = outDf[\"Mountains\"].replace(0, np.nan)\n",
    "\n",
    "        outDf[\"temp1\"] = outDf[\"Mountains\"].fillna(outDf[\"Tötungen Mountains\"])\n",
    "        outDf[\"temp1\"] = outDf[\"temp1\"]\n",
    "\n",
    "        try: outDf.drop(columns=[\"Mountains\", \"Tötungen Mountains\"], inplace=True)\n",
    "        except: pass\n",
    "        outDf[\"Mountains\"] = outDf[\"temp1\"]\n",
    "\n",
    "        outDf.drop(columns=[\"temp1\"], inplace=True)\n",
    "\n",
    "    if (\"Skywars\" in minigame):\n",
    "        outDf[\"Tötungen Coconut\"] = outDf[\"Tötungen Coconut\"].replace(0, np.nan).fillna(outDf[\"Tötung Coconut\"])\n",
    "\n",
    "        outDf[\"temp1\"] = outDf[\"Tötungen Coconut\"]\n",
    "        try: outDf.drop(columns=[\"Tötungen Coconut\"], inplace=True)\n",
    "        except: pass\n",
    "        outDf[\"Coconut\"] = outDf[\"temp1\"]\n",
    "\n",
    "        outDf.drop(columns=[\"temp1\", \"Tötung Coconut\"], inplace=True)\n",
    "\n",
    "    if (\"Walls\" in minigame):\n",
    "        \n",
    "        outDf[\"Tötungen Grass\"] = outDf[\"Tötungen Grass\"].replace(0, np.nan)\n",
    "        outDf[\"Grass\"] = outDf[\"Grass\"].replace(0, np.nan)\n",
    "        outDf[\"Tötung Grass\"] = outDf[\"Tötung Grass\"].replace(0, np.nan)\n",
    "\n",
    "        outDf[\"temp1\"] = outDf[\"Grass\"].fillna(outDf[\"Tötungen Grass\"])\n",
    "        outDf[\"temp1\"] = outDf[\"temp1\"].fillna(outDf[\"Tötung Grass\"])\n",
    "\n",
    "        try: outDf.drop(columns=[\"Grass\", \"Tötungen Grass\", \"Tötung Grass\"], inplace=True)\n",
    "        except: pass\n",
    "\n",
    "        outDf[\"Grass\"] = outDf[\"temp1\"]\n",
    "\n",
    "        outDf.drop(columns=[\"temp1\"], inplace=True)\n",
    "        \n",
    "        outDf[\"Tötungen Vulcano\"] = outDf[\"Tötungen Vulcano\"].replace(0, np.nan)\n",
    "\n",
    "        outDf[\"temp2\"] = outDf[\"Tötungen Vulcano\"]\n",
    "        try: outDf.drop(columns=[\"Tötungen Vulcano\"], inplace=True)\n",
    "        except: pass\n",
    "        outDf[\"Vulcano\"] = outDf[\"temp2\"]\n",
    "\n",
    "        outDf.drop(columns=[\"temp2\"], inplace=True)\n",
    "        \n",
    "    if (\"Frostiger\" in minigame): \n",
    "        # remove values bigger than 100 with nan\n",
    "        outDf = outDf.where(outDf < 100, np.nan)\n",
    "         \n",
    "    if (\"Spleef\" in minigame):\n",
    "\n",
    "        outDf[\"Tötung Mountains\"] = outDf[\"Tötung Mountains\"].replace(0, np.nan)\n",
    "        outDf[\"Mountains\"] = outDf[\"Mountains\"].replace(0, np.nan)\n",
    "\n",
    "        outDf[\"temp1\"] = outDf[\"Mountains\"].fillna(outDf[\"Tötung Mountains\"])\n",
    "        try: outDf.drop(columns=[\"Mountains\", \"Tötung Mountains\"], inplace=True)\n",
    "        except: pass\n",
    "        outDf[\"Mountains\"] = outDf[\"temp1\"]\n",
    "\n",
    "        outDf.drop(columns=[\"temp1\"], inplace=True)\n",
    "\n",
    "    if (\"Einer im Köcher\" in minigame):\n",
    "        outDf[\"Tötung Asia\"] = outDf[\"Tötung Asia\"].replace(0, np.nan)\n",
    "        outDf[\"Asia\"] = outDf[\"Asia\"].replace(0, np.nan)\n",
    "\n",
    "        outDf[\"temp1\"] = outDf[\"Asia\"].fillna(outDf[\"Tötung Asia\"])\n",
    "        try: outDf.drop(columns=[\"Asia\", \"Tötung Asia\"], inplace=True)\n",
    "        except: pass\n",
    "        outDf[\"Asia\"] = outDf[\"temp1\"]\n",
    "\n",
    "        outDf.drop(columns=[\"temp1\"], inplace=True)\n",
    "\n",
    "    if (\"Buntes\" in minigame):\n",
    "        outDf = outDf.fillna(0)\n",
    "        \n",
    "        outDf['temp1'] = outDf[\"Runden Cyberpunk\"].fillna(outDf[\"Cyberpunk\"])\n",
    "        outDf.drop(columns=[\"Runden Cyberpunk\", \"Cyberpunk\"], inplace=True)\n",
    "\n",
    "        outDf['Cyberpunk'] = outDf['temp1']\n",
    "\n",
    "        outDf.drop(columns=[\"temp1\"], inplace=True)\n",
    "\n",
    "    # Sorting columns alphabetically for any outDf except if minigame == \"Replika\" (sum column)\n",
    "    \n",
    "    if (\"Replika\" not in minigame):\n",
    "        if (\"Sammelwahn\" not in minigame):\n",
    "            outDf = outDf.reindex(sorted(outDf.columns), axis=1)\n",
    "\n",
    "\n",
    "    '''\n",
    "        debugging options\n",
    "    '''\n",
    "        \n",
    "    if save: \n",
    "        if \"Replika\" in minigame: \n",
    "            json_df = outDf.iloc[:, 1:]\n",
    "            json_df.T.to_json(outPath)\n",
    "        \n",
    "        else: outDf.T.to_json(outPath) \n",
    "\n",
    "    if log: \n",
    "        print(f'{minigame} processed')\n",
    "    \n",
    "    if rank: \n",
    "        if minigame in pointMiniGames: \n",
    "            outDf = outDf.rank(ascending=False, method='min', axis=0)\n",
    "        if minigame in timeMiniGames:\n",
    "            outDf = outDf.rank(ascending=True, method='min', axis=0)\n",
    "\n",
    "    if html == False: \n",
    "        return outDf"
   ]
  },
  {
   "cell_type": "code",
   "execution_count": 16,
   "metadata": {},
   "outputs": [
    {
     "name": "stdout",
     "output_type": "stream",
     "text": [
      "processing Wettrennen...\n",
      "Wettrennen processed\n"
     ]
    },
    {
     "data": {
      "text/plain": [
       "Blossom Canyon    1.0\n",
       "Cyberpunk         1.0\n",
       "Green Hills       6.0\n",
       "Islands           3.0\n",
       "Snow              3.0\n",
       "Name: Fflopse, dtype: float64"
      ]
     },
     "execution_count": 16,
     "metadata": {},
     "output_type": "execute_result"
    }
   ],
   "source": [
    "df = getRecordsDataframe(minigame='Wettrennen', save=False, log=True, html=False, rank=True)\n",
    "\n",
    "df.loc['Fflopse']\n",
    "\n",
    "# df.columns"
   ]
  },
  {
   "cell_type": "code",
   "execution_count": 17,
   "metadata": {},
   "outputs": [],
   "source": [
    "def getBestPlayer(minigame='Wettrennen'):\n",
    "    df = getRecordsDataframe(minigame=minigame, save=False, log=True, html=False, rank=True)\n",
    "\n",
    "    num_cols = len(df.columns) \n",
    "\n",
    "    '''\n",
    "    Each Minigame may yield a total of 100 points per player. \n",
    "    Records #1 through #10 are considered \n",
    "\n",
    "    If a minigame has multiple maps, the 100 points are distributed equally. For Sammelwahn and Replika, the sum over all records is considered solely. \n",
    "\n",
    "    E.g. Frozen Path (1 Map Minigame)\n",
    "    #1 player: 100 points\n",
    "    #2 player: 90 points\n",
    "    #3 player: 80 points\n",
    "    ...\n",
    "    #10 player: 10 points\n",
    "\n",
    "    E.g. Schießstand (3 Map Minigame)\n",
    "    Map 1: \n",
    "    #1 player: 100/3 (33.333) points\n",
    "    #2 player: 90/3 (30) points\n",
    "    ...\n",
    "    Map 2:\n",
    "    #1 player: 100/3 (33.333) points\n",
    "    #2 player: 90/3 (30) points\n",
    "    ...\n",
    "    Map 3:\n",
    "    #1 player: 100/3 (33.333) points\n",
    "    #2 player: 90/3 (30) points\n",
    "    ...\n",
    "\n",
    "    E.g. Speed Race (5 Map Minigame)\n",
    "    Map 1:\n",
    "    #1 player: 100/5 (20) points\n",
    "    #2 player: 90/5 (18) points\n",
    "    ...\n",
    "    Map 2:\n",
    "    #1 player: 100/5 (20) points\n",
    "    #2 player: 90/5 (18) points\n",
    "    ...\n",
    "\n",
    "    Thus, a player holding #1 records in a minigame will always be assigned 100 points. \n",
    "    '''\n",
    "\n",
    "    # fill values > 10.0 with 0\n",
    "    df = df.where(df < 10.0, 0)\n",
    "\n",
    "    # replace the rank values in the dataframe with the apprpriate score values\n",
    "\n",
    "    if minigame in pointMiniGames:\n",
    "        df = df.replace({1.0: 100, 2.0: 90, 3.0: 80, 4.0: 70, 5.0: 60, 6.0: 50, 7.0: 40, 8.0: 30, 9.0: 20, 10.0: 10})\n",
    "    if minigame in timeMiniGames:\n",
    "        df = df.replace({1.0: 100, 2.0: 90, 3.0: 80, 4.0: 70, 5.0: 60, 6.0: 50, 7.0: 40, 8.0: 30, 9.0: 20, 10.0: 10})\n",
    "\n",
    "    # sum the scores for each player\n",
    "    df['PointSum'] = df.sum(axis=1) / num_cols\n",
    "\n",
    "    # sort the dataframe by the PointSum column\n",
    "    df = df.sort_values(by='PointSum', ascending=False)\n",
    "\n",
    "    # for Sammelwahn and Replika, simply get the points from the sum column\n",
    "    if minigame in \"Sammelwahn Replika\":\n",
    "        df['Pointsum'] = df['Sum']\n",
    "\n",
    "    return df\n",
    "    "
   ]
  },
  {
   "cell_type": "code",
   "execution_count": 18,
   "metadata": {},
   "outputs": [],
   "source": [
    "# getBestPlayer(minigame='Wettrennen')"
   ]
  },
  {
   "cell_type": "code",
   "execution_count": 19,
   "metadata": {},
   "outputs": [
    {
     "name": "stdout",
     "output_type": "stream",
     "text": [
      "processing Sammelwahn...\n",
      "Sammelwahn processed\n",
      "processing Schießstand...\n",
      "Schießstand processed\n",
      "processing Walls...\n",
      "Walls processed\n",
      "processing Mini Survivalgames...\n",
      "Mini Survivalgames processed\n",
      "processing Mini Skywars...\n",
      "Mini Skywars processed\n",
      "processing Lasertag...\n",
      "Lasertag processed\n",
      "processing Minengefecht...\n",
      "Minengefecht processed\n",
      "processing Einer im Köcher...\n",
      "Einer im Köcher processed\n",
      "processing Paintball...\n",
      "Paintball processed\n",
      "processing Spleef...\n",
      "Spleef processed\n",
      "processing Buntes Chaos...\n",
      "Buntes Chaos processed\n",
      "processing Duelle...\n",
      "Duelle processed\n",
      "processing Wettrennen...\n",
      "Wettrennen processed\n",
      "processing Jump and Run...\n",
      "Jump and Run processed\n",
      "processing Pferderennen...\n",
      "Pferderennen processed\n",
      "processing Drachenflucht...\n",
      "Drachenflucht processed\n",
      "processing Replika...\n",
      "Replika processed\n",
      "processing Blockhüpfer...\n",
      "Blockhüpfer processed\n",
      "processing Todeswürfel...\n",
      "Todeswürfel processed\n",
      "processing Freier Fall...\n",
      "Freier Fall processed\n",
      "processing Elytrarennen...\n",
      "Elytrarennen processed\n",
      "processing Waffenfolge...\n",
      "Waffenfolge processed\n",
      "processing Minenfeld...\n",
      "Minenfeld processed\n",
      "processing Kletter-König...\n",
      "Kletter-König processed\n",
      "processing Ampelrennen...\n",
      "Ampelrennen processed\n",
      "processing Hoch hinaus...\n",
      "Hoch hinaus processed\n",
      "processing Frostiger Pfad...\n",
      "Frostiger Pfad processed\n"
     ]
    }
   ],
   "source": [
    "for minigame in (pointMiniGames + \", \" + timeMiniGames).split(', '): \n",
    "    temp = getBestPlayer(minigame=minigame)\n",
    "\n",
    "    # rename PointSum to minigame name\n",
    "    temp.rename(columns={'PointSum': minigame}, inplace=True)\n",
    "\n",
    "    # drop all columns but the pointDf column\n",
    "    temp = temp[[minigame]]\n",
    "\n",
    "    # concat all minigame dataframes\n",
    "    try: \n",
    "        outDf = pd.concat([outDf, temp], axis=1)\n",
    "    except: \n",
    "        outDf = temp\n"
   ]
  },
  {
   "cell_type": "code",
   "execution_count": 20,
   "metadata": {},
   "outputs": [
    {
     "data": {
      "text/html": [
       "<div>\n",
       "<style scoped>\n",
       "    .dataframe tbody tr th:only-of-type {\n",
       "        vertical-align: middle;\n",
       "    }\n",
       "\n",
       "    .dataframe tbody tr th {\n",
       "        vertical-align: top;\n",
       "    }\n",
       "\n",
       "    .dataframe thead th {\n",
       "        text-align: right;\n",
       "    }\n",
       "</style>\n",
       "<table border=\"1\" class=\"dataframe\">\n",
       "  <thead>\n",
       "    <tr style=\"text-align: right;\">\n",
       "      <th></th>\n",
       "      <th>Sammelwahn</th>\n",
       "      <th>Schießstand</th>\n",
       "      <th>Walls</th>\n",
       "      <th>Mini Survivalgames</th>\n",
       "      <th>Mini Skywars</th>\n",
       "      <th>Lasertag</th>\n",
       "      <th>Minengefecht</th>\n",
       "      <th>Einer im Köcher</th>\n",
       "      <th>Paintball</th>\n",
       "      <th>Spleef</th>\n",
       "      <th>...</th>\n",
       "      <th>Blockhüpfer</th>\n",
       "      <th>Todeswürfel</th>\n",
       "      <th>Freier Fall</th>\n",
       "      <th>Elytrarennen</th>\n",
       "      <th>Waffenfolge</th>\n",
       "      <th>Minenfeld</th>\n",
       "      <th>Kletter-König</th>\n",
       "      <th>Ampelrennen</th>\n",
       "      <th>Hoch hinaus</th>\n",
       "      <th>Frostiger Pfad</th>\n",
       "    </tr>\n",
       "  </thead>\n",
       "  <tbody>\n",
       "    <tr>\n",
       "      <th>Fflopse</th>\n",
       "      <td>20.50</td>\n",
       "      <td>67.5</td>\n",
       "      <td>25.0</td>\n",
       "      <td>10.000000</td>\n",
       "      <td>25.000000</td>\n",
       "      <td>86.666667</td>\n",
       "      <td>20.000000</td>\n",
       "      <td>90.000000</td>\n",
       "      <td>76.666667</td>\n",
       "      <td>75.0</td>\n",
       "      <td>...</td>\n",
       "      <td>100.0</td>\n",
       "      <td>0.0</td>\n",
       "      <td>45.0</td>\n",
       "      <td>90.000000</td>\n",
       "      <td>50.0</td>\n",
       "      <td>33.333333</td>\n",
       "      <td>95.0</td>\n",
       "      <td>50.0</td>\n",
       "      <td>80.0</td>\n",
       "      <td>70.0</td>\n",
       "    </tr>\n",
       "    <tr>\n",
       "      <th>cediiiiii_10</th>\n",
       "      <td>35.50</td>\n",
       "      <td>32.5</td>\n",
       "      <td>70.0</td>\n",
       "      <td>43.333333</td>\n",
       "      <td>45.000000</td>\n",
       "      <td>0.000000</td>\n",
       "      <td>100.000000</td>\n",
       "      <td>50.000000</td>\n",
       "      <td>10.000000</td>\n",
       "      <td>90.0</td>\n",
       "      <td>...</td>\n",
       "      <td>0.0</td>\n",
       "      <td>20.0</td>\n",
       "      <td>52.5</td>\n",
       "      <td>0.000000</td>\n",
       "      <td>80.0</td>\n",
       "      <td>16.666667</td>\n",
       "      <td>0.0</td>\n",
       "      <td>20.0</td>\n",
       "      <td>30.0</td>\n",
       "      <td>0.0</td>\n",
       "    </tr>\n",
       "    <tr>\n",
       "      <th>Gobo9</th>\n",
       "      <td>28.25</td>\n",
       "      <td>25.0</td>\n",
       "      <td>35.0</td>\n",
       "      <td>63.333333</td>\n",
       "      <td>38.333333</td>\n",
       "      <td>13.333333</td>\n",
       "      <td>16.666667</td>\n",
       "      <td>36.666667</td>\n",
       "      <td>0.000000</td>\n",
       "      <td>75.0</td>\n",
       "      <td>...</td>\n",
       "      <td>80.0</td>\n",
       "      <td>0.0</td>\n",
       "      <td>42.5</td>\n",
       "      <td>6.666667</td>\n",
       "      <td>0.0</td>\n",
       "      <td>0.000000</td>\n",
       "      <td>30.0</td>\n",
       "      <td>50.0</td>\n",
       "      <td>70.0</td>\n",
       "      <td>0.0</td>\n",
       "    </tr>\n",
       "    <tr>\n",
       "      <th>PedroZockt</th>\n",
       "      <td>16.75</td>\n",
       "      <td>0.0</td>\n",
       "      <td>45.0</td>\n",
       "      <td>0.000000</td>\n",
       "      <td>11.666667</td>\n",
       "      <td>36.666667</td>\n",
       "      <td>0.000000</td>\n",
       "      <td>0.000000</td>\n",
       "      <td>60.000000</td>\n",
       "      <td>50.0</td>\n",
       "      <td>...</td>\n",
       "      <td>50.0</td>\n",
       "      <td>60.0</td>\n",
       "      <td>25.0</td>\n",
       "      <td>50.000000</td>\n",
       "      <td>70.0</td>\n",
       "      <td>6.666667</td>\n",
       "      <td>25.0</td>\n",
       "      <td>75.0</td>\n",
       "      <td>90.0</td>\n",
       "      <td>20.0</td>\n",
       "    </tr>\n",
       "    <tr>\n",
       "      <th>HerrDante</th>\n",
       "      <td>10.25</td>\n",
       "      <td>55.0</td>\n",
       "      <td>0.0</td>\n",
       "      <td>16.666667</td>\n",
       "      <td>0.000000</td>\n",
       "      <td>86.666667</td>\n",
       "      <td>16.666667</td>\n",
       "      <td>90.000000</td>\n",
       "      <td>53.333333</td>\n",
       "      <td>30.0</td>\n",
       "      <td>...</td>\n",
       "      <td>0.0</td>\n",
       "      <td>90.0</td>\n",
       "      <td>62.5</td>\n",
       "      <td>0.000000</td>\n",
       "      <td>0.0</td>\n",
       "      <td>46.666667</td>\n",
       "      <td>25.0</td>\n",
       "      <td>30.0</td>\n",
       "      <td>0.0</td>\n",
       "      <td>0.0</td>\n",
       "    </tr>\n",
       "    <tr>\n",
       "      <th>...</th>\n",
       "      <td>...</td>\n",
       "      <td>...</td>\n",
       "      <td>...</td>\n",
       "      <td>...</td>\n",
       "      <td>...</td>\n",
       "      <td>...</td>\n",
       "      <td>...</td>\n",
       "      <td>...</td>\n",
       "      <td>...</td>\n",
       "      <td>...</td>\n",
       "      <td>...</td>\n",
       "      <td>...</td>\n",
       "      <td>...</td>\n",
       "      <td>...</td>\n",
       "      <td>...</td>\n",
       "      <td>...</td>\n",
       "      <td>...</td>\n",
       "      <td>...</td>\n",
       "      <td>...</td>\n",
       "      <td>...</td>\n",
       "      <td>...</td>\n",
       "    </tr>\n",
       "    <tr>\n",
       "      <th>Kokochampo</th>\n",
       "      <td>0.00</td>\n",
       "      <td>0.0</td>\n",
       "      <td>0.0</td>\n",
       "      <td>0.000000</td>\n",
       "      <td>0.000000</td>\n",
       "      <td>0.000000</td>\n",
       "      <td>0.000000</td>\n",
       "      <td>0.000000</td>\n",
       "      <td>0.000000</td>\n",
       "      <td>0.0</td>\n",
       "      <td>...</td>\n",
       "      <td>0.0</td>\n",
       "      <td>0.0</td>\n",
       "      <td>0.0</td>\n",
       "      <td>0.000000</td>\n",
       "      <td>0.0</td>\n",
       "      <td>0.000000</td>\n",
       "      <td>0.0</td>\n",
       "      <td>0.0</td>\n",
       "      <td>0.0</td>\n",
       "      <td>0.0</td>\n",
       "    </tr>\n",
       "    <tr>\n",
       "      <th>Kopfradio</th>\n",
       "      <td>0.00</td>\n",
       "      <td>0.0</td>\n",
       "      <td>0.0</td>\n",
       "      <td>0.000000</td>\n",
       "      <td>0.000000</td>\n",
       "      <td>0.000000</td>\n",
       "      <td>0.000000</td>\n",
       "      <td>0.000000</td>\n",
       "      <td>0.000000</td>\n",
       "      <td>0.0</td>\n",
       "      <td>...</td>\n",
       "      <td>0.0</td>\n",
       "      <td>0.0</td>\n",
       "      <td>0.0</td>\n",
       "      <td>0.000000</td>\n",
       "      <td>0.0</td>\n",
       "      <td>0.000000</td>\n",
       "      <td>0.0</td>\n",
       "      <td>0.0</td>\n",
       "      <td>0.0</td>\n",
       "      <td>0.0</td>\n",
       "    </tr>\n",
       "    <tr>\n",
       "      <th>ScreamingBlatz</th>\n",
       "      <td>0.00</td>\n",
       "      <td>0.0</td>\n",
       "      <td>0.0</td>\n",
       "      <td>0.000000</td>\n",
       "      <td>0.000000</td>\n",
       "      <td>0.000000</td>\n",
       "      <td>0.000000</td>\n",
       "      <td>0.000000</td>\n",
       "      <td>0.000000</td>\n",
       "      <td>0.0</td>\n",
       "      <td>...</td>\n",
       "      <td>0.0</td>\n",
       "      <td>0.0</td>\n",
       "      <td>0.0</td>\n",
       "      <td>0.000000</td>\n",
       "      <td>0.0</td>\n",
       "      <td>0.000000</td>\n",
       "      <td>0.0</td>\n",
       "      <td>0.0</td>\n",
       "      <td>0.0</td>\n",
       "      <td>0.0</td>\n",
       "    </tr>\n",
       "    <tr>\n",
       "      <th>jimmi1410</th>\n",
       "      <td>0.00</td>\n",
       "      <td>0.0</td>\n",
       "      <td>0.0</td>\n",
       "      <td>0.000000</td>\n",
       "      <td>0.000000</td>\n",
       "      <td>0.000000</td>\n",
       "      <td>0.000000</td>\n",
       "      <td>0.000000</td>\n",
       "      <td>0.000000</td>\n",
       "      <td>0.0</td>\n",
       "      <td>...</td>\n",
       "      <td>0.0</td>\n",
       "      <td>0.0</td>\n",
       "      <td>0.0</td>\n",
       "      <td>0.000000</td>\n",
       "      <td>0.0</td>\n",
       "      <td>0.000000</td>\n",
       "      <td>0.0</td>\n",
       "      <td>0.0</td>\n",
       "      <td>0.0</td>\n",
       "      <td>0.0</td>\n",
       "    </tr>\n",
       "    <tr>\n",
       "      <th>Seemops_8</th>\n",
       "      <td>0.00</td>\n",
       "      <td>0.0</td>\n",
       "      <td>0.0</td>\n",
       "      <td>0.000000</td>\n",
       "      <td>0.000000</td>\n",
       "      <td>0.000000</td>\n",
       "      <td>0.000000</td>\n",
       "      <td>0.000000</td>\n",
       "      <td>0.000000</td>\n",
       "      <td>0.0</td>\n",
       "      <td>...</td>\n",
       "      <td>0.0</td>\n",
       "      <td>0.0</td>\n",
       "      <td>0.0</td>\n",
       "      <td>0.000000</td>\n",
       "      <td>0.0</td>\n",
       "      <td>0.000000</td>\n",
       "      <td>0.0</td>\n",
       "      <td>0.0</td>\n",
       "      <td>0.0</td>\n",
       "      <td>0.0</td>\n",
       "    </tr>\n",
       "  </tbody>\n",
       "</table>\n",
       "<p>133 rows × 55 columns</p>\n",
       "</div>"
      ],
      "text/plain": [
       "                Sammelwahn  Schießstand  Walls  Mini Survivalgames  \\\n",
       "Fflopse              20.50         67.5   25.0           10.000000   \n",
       "cediiiiii_10         35.50         32.5   70.0           43.333333   \n",
       "Gobo9                28.25         25.0   35.0           63.333333   \n",
       "PedroZockt           16.75          0.0   45.0            0.000000   \n",
       "HerrDante            10.25         55.0    0.0           16.666667   \n",
       "...                    ...          ...    ...                 ...   \n",
       "Kokochampo            0.00          0.0    0.0            0.000000   \n",
       "Kopfradio             0.00          0.0    0.0            0.000000   \n",
       "ScreamingBlatz        0.00          0.0    0.0            0.000000   \n",
       "jimmi1410             0.00          0.0    0.0            0.000000   \n",
       "Seemops_8             0.00          0.0    0.0            0.000000   \n",
       "\n",
       "                Mini Skywars   Lasertag  Minengefecht  Einer im Köcher  \\\n",
       "Fflopse            25.000000  86.666667     20.000000        90.000000   \n",
       "cediiiiii_10       45.000000   0.000000    100.000000        50.000000   \n",
       "Gobo9              38.333333  13.333333     16.666667        36.666667   \n",
       "PedroZockt         11.666667  36.666667      0.000000         0.000000   \n",
       "HerrDante           0.000000  86.666667     16.666667        90.000000   \n",
       "...                      ...        ...           ...              ...   \n",
       "Kokochampo          0.000000   0.000000      0.000000         0.000000   \n",
       "Kopfradio           0.000000   0.000000      0.000000         0.000000   \n",
       "ScreamingBlatz      0.000000   0.000000      0.000000         0.000000   \n",
       "jimmi1410           0.000000   0.000000      0.000000         0.000000   \n",
       "Seemops_8           0.000000   0.000000      0.000000         0.000000   \n",
       "\n",
       "                Paintball  Spleef  ...  Blockhüpfer  Todeswürfel  Freier Fall  \\\n",
       "Fflopse         76.666667    75.0  ...        100.0          0.0         45.0   \n",
       "cediiiiii_10    10.000000    90.0  ...          0.0         20.0         52.5   \n",
       "Gobo9            0.000000    75.0  ...         80.0          0.0         42.5   \n",
       "PedroZockt      60.000000    50.0  ...         50.0         60.0         25.0   \n",
       "HerrDante       53.333333    30.0  ...          0.0         90.0         62.5   \n",
       "...                   ...     ...  ...          ...          ...          ...   \n",
       "Kokochampo       0.000000     0.0  ...          0.0          0.0          0.0   \n",
       "Kopfradio        0.000000     0.0  ...          0.0          0.0          0.0   \n",
       "ScreamingBlatz   0.000000     0.0  ...          0.0          0.0          0.0   \n",
       "jimmi1410        0.000000     0.0  ...          0.0          0.0          0.0   \n",
       "Seemops_8        0.000000     0.0  ...          0.0          0.0          0.0   \n",
       "\n",
       "                Elytrarennen  Waffenfolge  Minenfeld  Kletter-König  \\\n",
       "Fflopse            90.000000         50.0  33.333333           95.0   \n",
       "cediiiiii_10        0.000000         80.0  16.666667            0.0   \n",
       "Gobo9               6.666667          0.0   0.000000           30.0   \n",
       "PedroZockt         50.000000         70.0   6.666667           25.0   \n",
       "HerrDante           0.000000          0.0  46.666667           25.0   \n",
       "...                      ...          ...        ...            ...   \n",
       "Kokochampo          0.000000          0.0   0.000000            0.0   \n",
       "Kopfradio           0.000000          0.0   0.000000            0.0   \n",
       "ScreamingBlatz      0.000000          0.0   0.000000            0.0   \n",
       "jimmi1410           0.000000          0.0   0.000000            0.0   \n",
       "Seemops_8           0.000000          0.0   0.000000            0.0   \n",
       "\n",
       "                Ampelrennen  Hoch hinaus  Frostiger Pfad  \n",
       "Fflopse                50.0         80.0            70.0  \n",
       "cediiiiii_10           20.0         30.0             0.0  \n",
       "Gobo9                  50.0         70.0             0.0  \n",
       "PedroZockt             75.0         90.0            20.0  \n",
       "HerrDante              30.0          0.0             0.0  \n",
       "...                     ...          ...             ...  \n",
       "Kokochampo              0.0          0.0             0.0  \n",
       "Kopfradio               0.0          0.0             0.0  \n",
       "ScreamingBlatz          0.0          0.0             0.0  \n",
       "jimmi1410               0.0          0.0             0.0  \n",
       "Seemops_8               0.0          0.0             0.0  \n",
       "\n",
       "[133 rows x 55 columns]"
      ]
     },
     "execution_count": 20,
     "metadata": {},
     "output_type": "execute_result"
    }
   ],
   "source": [
    "outDf"
   ]
  },
  {
   "cell_type": "code",
   "execution_count": 21,
   "metadata": {},
   "outputs": [
    {
     "data": {
      "image/png": "[encoded data removed]",
      "text/plain": [
       "<Figure size 2000x1400 with 1 Axes>"
      ]
     },
     "metadata": {},
     "output_type": "display_data"
    }
   ],
   "source": [
    "import matplotlib.pyplot as plt\n",
    "import plotly.express as px\n",
    "\n",
    "# print(outDf)\n",
    "\n",
    "# sum all lines to get the total score\n",
    "\n",
    "outDf['Total'] = outDf.sum(axis=1)\n",
    "\n",
    "outDf = outDf.sort_values(by='Total', ascending=False).fillna(0)\n",
    "\n",
    "# crop df to the top 10 players and plot the data, as a stacked barplot, place legend outside\n",
    "\n",
    "cropDf = outDf.head(10)\n",
    "\n",
    "cropDf = cropDf.drop(columns=['Total'])\n",
    "\n",
    "cropDf.plot(kind='bar', stacked=True, figsize=(20, 14))\n",
    "\n",
    "plt.legend(loc='center left', bbox_to_anchor=(1.0, 0.5))\n",
    "\n",
    "plt.show()"
   ]
  },
  {
   "cell_type": "code",
   "execution_count": 22,
   "metadata": {},
   "outputs": [
    {
     "data": {
      "text/html": [
       "<div>\n",
       "<style scoped>\n",
       "    .dataframe tbody tr th:only-of-type {\n",
       "        vertical-align: middle;\n",
       "    }\n",
       "\n",
       "    .dataframe tbody tr th {\n",
       "        vertical-align: top;\n",
       "    }\n",
       "\n",
       "    .dataframe thead th {\n",
       "        text-align: right;\n",
       "    }\n",
       "</style>\n",
       "<table border=\"1\" class=\"dataframe\">\n",
       "  <thead>\n",
       "    <tr style=\"text-align: right;\">\n",
       "      <th></th>\n",
       "      <th>Sammelwahn</th>\n",
       "      <th>Schießstand</th>\n",
       "      <th>Walls</th>\n",
       "      <th>Mini Survivalgames</th>\n",
       "      <th>Mini Skywars</th>\n",
       "      <th>Lasertag</th>\n",
       "      <th>Minengefecht</th>\n",
       "      <th>Einer im Köcher</th>\n",
       "      <th>Paintball</th>\n",
       "      <th>Spleef</th>\n",
       "      <th>...</th>\n",
       "      <th>Blockhüpfer</th>\n",
       "      <th>Todeswürfel</th>\n",
       "      <th>Freier Fall</th>\n",
       "      <th>Elytrarennen</th>\n",
       "      <th>Waffenfolge</th>\n",
       "      <th>Minenfeld</th>\n",
       "      <th>Kletter-König</th>\n",
       "      <th>Ampelrennen</th>\n",
       "      <th>Hoch hinaus</th>\n",
       "      <th>Frostiger Pfad</th>\n",
       "    </tr>\n",
       "  </thead>\n",
       "  <tbody>\n",
       "    <tr>\n",
       "      <th>Fflopse</th>\n",
       "      <td>20.50</td>\n",
       "      <td>67.5</td>\n",
       "      <td>25.0</td>\n",
       "      <td>10.000000</td>\n",
       "      <td>25.000000</td>\n",
       "      <td>86.666667</td>\n",
       "      <td>20.000000</td>\n",
       "      <td>90.000000</td>\n",
       "      <td>76.666667</td>\n",
       "      <td>75.0</td>\n",
       "      <td>...</td>\n",
       "      <td>100.0</td>\n",
       "      <td>0.0</td>\n",
       "      <td>45.0</td>\n",
       "      <td>90.000000</td>\n",
       "      <td>50.0</td>\n",
       "      <td>33.333333</td>\n",
       "      <td>95.0</td>\n",
       "      <td>50.0</td>\n",
       "      <td>80.0</td>\n",
       "      <td>70.0</td>\n",
       "    </tr>\n",
       "    <tr>\n",
       "      <th>cediiiiii_10</th>\n",
       "      <td>35.50</td>\n",
       "      <td>32.5</td>\n",
       "      <td>70.0</td>\n",
       "      <td>43.333333</td>\n",
       "      <td>45.000000</td>\n",
       "      <td>0.000000</td>\n",
       "      <td>100.000000</td>\n",
       "      <td>50.000000</td>\n",
       "      <td>10.000000</td>\n",
       "      <td>90.0</td>\n",
       "      <td>...</td>\n",
       "      <td>0.0</td>\n",
       "      <td>20.0</td>\n",
       "      <td>52.5</td>\n",
       "      <td>0.000000</td>\n",
       "      <td>80.0</td>\n",
       "      <td>16.666667</td>\n",
       "      <td>0.0</td>\n",
       "      <td>20.0</td>\n",
       "      <td>30.0</td>\n",
       "      <td>0.0</td>\n",
       "    </tr>\n",
       "    <tr>\n",
       "      <th>Gobo9</th>\n",
       "      <td>28.25</td>\n",
       "      <td>25.0</td>\n",
       "      <td>35.0</td>\n",
       "      <td>63.333333</td>\n",
       "      <td>38.333333</td>\n",
       "      <td>13.333333</td>\n",
       "      <td>16.666667</td>\n",
       "      <td>36.666667</td>\n",
       "      <td>0.000000</td>\n",
       "      <td>75.0</td>\n",
       "      <td>...</td>\n",
       "      <td>80.0</td>\n",
       "      <td>0.0</td>\n",
       "      <td>42.5</td>\n",
       "      <td>6.666667</td>\n",
       "      <td>0.0</td>\n",
       "      <td>0.000000</td>\n",
       "      <td>30.0</td>\n",
       "      <td>50.0</td>\n",
       "      <td>70.0</td>\n",
       "      <td>0.0</td>\n",
       "    </tr>\n",
       "    <tr>\n",
       "      <th>PedroZockt</th>\n",
       "      <td>16.75</td>\n",
       "      <td>0.0</td>\n",
       "      <td>45.0</td>\n",
       "      <td>0.000000</td>\n",
       "      <td>11.666667</td>\n",
       "      <td>36.666667</td>\n",
       "      <td>0.000000</td>\n",
       "      <td>0.000000</td>\n",
       "      <td>60.000000</td>\n",
       "      <td>50.0</td>\n",
       "      <td>...</td>\n",
       "      <td>50.0</td>\n",
       "      <td>60.0</td>\n",
       "      <td>25.0</td>\n",
       "      <td>50.000000</td>\n",
       "      <td>70.0</td>\n",
       "      <td>6.666667</td>\n",
       "      <td>25.0</td>\n",
       "      <td>75.0</td>\n",
       "      <td>90.0</td>\n",
       "      <td>20.0</td>\n",
       "    </tr>\n",
       "    <tr>\n",
       "      <th>HerrDante</th>\n",
       "      <td>10.25</td>\n",
       "      <td>55.0</td>\n",
       "      <td>0.0</td>\n",
       "      <td>16.666667</td>\n",
       "      <td>0.000000</td>\n",
       "      <td>86.666667</td>\n",
       "      <td>16.666667</td>\n",
       "      <td>90.000000</td>\n",
       "      <td>53.333333</td>\n",
       "      <td>30.0</td>\n",
       "      <td>...</td>\n",
       "      <td>0.0</td>\n",
       "      <td>90.0</td>\n",
       "      <td>62.5</td>\n",
       "      <td>0.000000</td>\n",
       "      <td>0.0</td>\n",
       "      <td>46.666667</td>\n",
       "      <td>25.0</td>\n",
       "      <td>30.0</td>\n",
       "      <td>0.0</td>\n",
       "      <td>0.0</td>\n",
       "    </tr>\n",
       "    <tr>\n",
       "      <th>...</th>\n",
       "      <td>...</td>\n",
       "      <td>...</td>\n",
       "      <td>...</td>\n",
       "      <td>...</td>\n",
       "      <td>...</td>\n",
       "      <td>...</td>\n",
       "      <td>...</td>\n",
       "      <td>...</td>\n",
       "      <td>...</td>\n",
       "      <td>...</td>\n",
       "      <td>...</td>\n",
       "      <td>...</td>\n",
       "      <td>...</td>\n",
       "      <td>...</td>\n",
       "      <td>...</td>\n",
       "      <td>...</td>\n",
       "      <td>...</td>\n",
       "      <td>...</td>\n",
       "      <td>...</td>\n",
       "      <td>...</td>\n",
       "      <td>...</td>\n",
       "    </tr>\n",
       "    <tr>\n",
       "      <th>Kokochampo</th>\n",
       "      <td>0.00</td>\n",
       "      <td>0.0</td>\n",
       "      <td>0.0</td>\n",
       "      <td>0.000000</td>\n",
       "      <td>0.000000</td>\n",
       "      <td>0.000000</td>\n",
       "      <td>0.000000</td>\n",
       "      <td>0.000000</td>\n",
       "      <td>0.000000</td>\n",
       "      <td>0.0</td>\n",
       "      <td>...</td>\n",
       "      <td>0.0</td>\n",
       "      <td>0.0</td>\n",
       "      <td>0.0</td>\n",
       "      <td>0.000000</td>\n",
       "      <td>0.0</td>\n",
       "      <td>0.000000</td>\n",
       "      <td>0.0</td>\n",
       "      <td>0.0</td>\n",
       "      <td>0.0</td>\n",
       "      <td>0.0</td>\n",
       "    </tr>\n",
       "    <tr>\n",
       "      <th>Kopfradio</th>\n",
       "      <td>0.00</td>\n",
       "      <td>0.0</td>\n",
       "      <td>0.0</td>\n",
       "      <td>0.000000</td>\n",
       "      <td>0.000000</td>\n",
       "      <td>0.000000</td>\n",
       "      <td>0.000000</td>\n",
       "      <td>0.000000</td>\n",
       "      <td>0.000000</td>\n",
       "      <td>0.0</td>\n",
       "      <td>...</td>\n",
       "      <td>0.0</td>\n",
       "      <td>0.0</td>\n",
       "      <td>0.0</td>\n",
       "      <td>0.000000</td>\n",
       "      <td>0.0</td>\n",
       "      <td>0.000000</td>\n",
       "      <td>0.0</td>\n",
       "      <td>0.0</td>\n",
       "      <td>0.0</td>\n",
       "      <td>0.0</td>\n",
       "    </tr>\n",
       "    <tr>\n",
       "      <th>ScreamingBlatz</th>\n",
       "      <td>0.00</td>\n",
       "      <td>0.0</td>\n",
       "      <td>0.0</td>\n",
       "      <td>0.000000</td>\n",
       "      <td>0.000000</td>\n",
       "      <td>0.000000</td>\n",
       "      <td>0.000000</td>\n",
       "      <td>0.000000</td>\n",
       "      <td>0.000000</td>\n",
       "      <td>0.0</td>\n",
       "      <td>...</td>\n",
       "      <td>0.0</td>\n",
       "      <td>0.0</td>\n",
       "      <td>0.0</td>\n",
       "      <td>0.000000</td>\n",
       "      <td>0.0</td>\n",
       "      <td>0.000000</td>\n",
       "      <td>0.0</td>\n",
       "      <td>0.0</td>\n",
       "      <td>0.0</td>\n",
       "      <td>0.0</td>\n",
       "    </tr>\n",
       "    <tr>\n",
       "      <th>jimmi1410</th>\n",
       "      <td>0.00</td>\n",
       "      <td>0.0</td>\n",
       "      <td>0.0</td>\n",
       "      <td>0.000000</td>\n",
       "      <td>0.000000</td>\n",
       "      <td>0.000000</td>\n",
       "      <td>0.000000</td>\n",
       "      <td>0.000000</td>\n",
       "      <td>0.000000</td>\n",
       "      <td>0.0</td>\n",
       "      <td>...</td>\n",
       "      <td>0.0</td>\n",
       "      <td>0.0</td>\n",
       "      <td>0.0</td>\n",
       "      <td>0.000000</td>\n",
       "      <td>0.0</td>\n",
       "      <td>0.000000</td>\n",
       "      <td>0.0</td>\n",
       "      <td>0.0</td>\n",
       "      <td>0.0</td>\n",
       "      <td>0.0</td>\n",
       "    </tr>\n",
       "    <tr>\n",
       "      <th>Seemops_8</th>\n",
       "      <td>0.00</td>\n",
       "      <td>0.0</td>\n",
       "      <td>0.0</td>\n",
       "      <td>0.000000</td>\n",
       "      <td>0.000000</td>\n",
       "      <td>0.000000</td>\n",
       "      <td>0.000000</td>\n",
       "      <td>0.000000</td>\n",
       "      <td>0.000000</td>\n",
       "      <td>0.0</td>\n",
       "      <td>...</td>\n",
       "      <td>0.0</td>\n",
       "      <td>0.0</td>\n",
       "      <td>0.0</td>\n",
       "      <td>0.000000</td>\n",
       "      <td>0.0</td>\n",
       "      <td>0.000000</td>\n",
       "      <td>0.0</td>\n",
       "      <td>0.0</td>\n",
       "      <td>0.0</td>\n",
       "      <td>0.0</td>\n",
       "    </tr>\n",
       "  </tbody>\n",
       "</table>\n",
       "<p>133 rows × 55 columns</p>\n",
       "</div>"
      ],
      "text/plain": [
       "                Sammelwahn  Schießstand  Walls  Mini Survivalgames  \\\n",
       "Fflopse              20.50         67.5   25.0           10.000000   \n",
       "cediiiiii_10         35.50         32.5   70.0           43.333333   \n",
       "Gobo9                28.25         25.0   35.0           63.333333   \n",
       "PedroZockt           16.75          0.0   45.0            0.000000   \n",
       "HerrDante            10.25         55.0    0.0           16.666667   \n",
       "...                    ...          ...    ...                 ...   \n",
       "Kokochampo            0.00          0.0    0.0            0.000000   \n",
       "Kopfradio             0.00          0.0    0.0            0.000000   \n",
       "ScreamingBlatz        0.00          0.0    0.0            0.000000   \n",
       "jimmi1410             0.00          0.0    0.0            0.000000   \n",
       "Seemops_8             0.00          0.0    0.0            0.000000   \n",
       "\n",
       "                Mini Skywars   Lasertag  Minengefecht  Einer im Köcher  \\\n",
       "Fflopse            25.000000  86.666667     20.000000        90.000000   \n",
       "cediiiiii_10       45.000000   0.000000    100.000000        50.000000   \n",
       "Gobo9              38.333333  13.333333     16.666667        36.666667   \n",
       "PedroZockt         11.666667  36.666667      0.000000         0.000000   \n",
       "HerrDante           0.000000  86.666667     16.666667        90.000000   \n",
       "...                      ...        ...           ...              ...   \n",
       "Kokochampo          0.000000   0.000000      0.000000         0.000000   \n",
       "Kopfradio           0.000000   0.000000      0.000000         0.000000   \n",
       "ScreamingBlatz      0.000000   0.000000      0.000000         0.000000   \n",
       "jimmi1410           0.000000   0.000000      0.000000         0.000000   \n",
       "Seemops_8           0.000000   0.000000      0.000000         0.000000   \n",
       "\n",
       "                Paintball  Spleef  ...  Blockhüpfer  Todeswürfel  Freier Fall  \\\n",
       "Fflopse         76.666667    75.0  ...        100.0          0.0         45.0   \n",
       "cediiiiii_10    10.000000    90.0  ...          0.0         20.0         52.5   \n",
       "Gobo9            0.000000    75.0  ...         80.0          0.0         42.5   \n",
       "PedroZockt      60.000000    50.0  ...         50.0         60.0         25.0   \n",
       "HerrDante       53.333333    30.0  ...          0.0         90.0         62.5   \n",
       "...                   ...     ...  ...          ...          ...          ...   \n",
       "Kokochampo       0.000000     0.0  ...          0.0          0.0          0.0   \n",
       "Kopfradio        0.000000     0.0  ...          0.0          0.0          0.0   \n",
       "ScreamingBlatz   0.000000     0.0  ...          0.0          0.0          0.0   \n",
       "jimmi1410        0.000000     0.0  ...          0.0          0.0          0.0   \n",
       "Seemops_8        0.000000     0.0  ...          0.0          0.0          0.0   \n",
       "\n",
       "                Elytrarennen  Waffenfolge  Minenfeld  Kletter-König  \\\n",
       "Fflopse            90.000000         50.0  33.333333           95.0   \n",
       "cediiiiii_10        0.000000         80.0  16.666667            0.0   \n",
       "Gobo9               6.666667          0.0   0.000000           30.0   \n",
       "PedroZockt         50.000000         70.0   6.666667           25.0   \n",
       "HerrDante           0.000000          0.0  46.666667           25.0   \n",
       "...                      ...          ...        ...            ...   \n",
       "Kokochampo          0.000000          0.0   0.000000            0.0   \n",
       "Kopfradio           0.000000          0.0   0.000000            0.0   \n",
       "ScreamingBlatz      0.000000          0.0   0.000000            0.0   \n",
       "jimmi1410           0.000000          0.0   0.000000            0.0   \n",
       "Seemops_8           0.000000          0.0   0.000000            0.0   \n",
       "\n",
       "                Ampelrennen  Hoch hinaus  Frostiger Pfad  \n",
       "Fflopse                50.0         80.0            70.0  \n",
       "cediiiiii_10           20.0         30.0             0.0  \n",
       "Gobo9                  50.0         70.0             0.0  \n",
       "PedroZockt             75.0         90.0            20.0  \n",
       "HerrDante              30.0          0.0             0.0  \n",
       "...                     ...          ...             ...  \n",
       "Kokochampo              0.0          0.0             0.0  \n",
       "Kopfradio               0.0          0.0             0.0  \n",
       "ScreamingBlatz          0.0          0.0             0.0  \n",
       "jimmi1410               0.0          0.0             0.0  \n",
       "Seemops_8               0.0          0.0             0.0  \n",
       "\n",
       "[133 rows x 55 columns]"
      ]
     },
     "execution_count": 22,
     "metadata": {},
     "output_type": "execute_result"
    }
   ],
   "source": [
    "outDf"
   ]
  },
  {
   "cell_type": "code",
   "execution_count": 23,
   "metadata": {},
   "outputs": [
    {
     "data": {
      "application/vnd.plotly.v1+json": {
       "config": {
        "plotlyServerURL": "https://plot.ly"
       },
       "data": [
        {
         "marker": {
          "color": "rgb(136, 204, 238)"
         },
         "name": "Ampelrennen",
         "type": "bar",
         "x": [
          "Fflopse",
          "cediiiiii_10",
          "Gobo9",
          "PedroZockt",
          "HerrDante",
          "ReichesBrot",
          "_n3d",
          "Ex4cted",
          "yiiq",
          "JOW23",
          "lizsyy",
          "DarkCobweb",
          "camman18YT",
          "2wc",
          "Ninivee",
          "yzvm",
          "Grapfen",
          "Sey__",
          "Umgfoin",
          "KakaMC"
         ],
         "y": [
          [
           50,
           50
          ],
          [
           20,
           20
          ],
          [
           50,
           50
          ],
          [
           75,
           75
          ],
          [
           30,
           30
          ],
          [
           10,
           10
          ],
          [
           25,
           25
          ],
          [
           45,
           45
          ],
          [
           0,
           0
          ],
          [
           0,
           0
          ],
          [
           15,
           15
          ],
          [
           0,
           0
          ],
          [
           0,
           0
          ],
          [
           0,
           0
          ],
          [
           0,
           0
          ],
          [
           0,
           0
          ],
          [
           0,
           0
          ],
          [
           40,
           40
          ],
          [
           0,
           0
          ],
          [
           0,
           0
          ]
         ]
        },
        {
         "marker": {
          "color": "rgb(204, 102, 119)"
         },
         "name": "Blockhüpfer",
         "type": "bar",
         "x": [
          "Fflopse",
          "cediiiiii_10",
          "Gobo9",
          "PedroZockt",
          "HerrDante",
          "ReichesBrot",
          "_n3d",
          "Ex4cted",
          "yiiq",
          "JOW23",
          "lizsyy",
          "DarkCobweb",
          "camman18YT",
          "2wc",
          "Ninivee",
          "yzvm",
          "Grapfen",
          "Sey__",
          "Umgfoin",
          "KakaMC"
         ],
         "y": [
          [
           100,
           100
          ],
          [
           0,
           0
          ],
          [
           80,
           80
          ],
          [
           50,
           50
          ],
          [
           0,
           0
          ],
          [
           0,
           0
          ],
          [
           0,
           0
          ],
          [
           90,
           90
          ],
          [
           40,
           40
          ],
          [
           0,
           0
          ],
          [
           70,
           70
          ],
          [
           0,
           0
          ],
          [
           0,
           0
          ],
          [
           0,
           0
          ],
          [
           0,
           0
          ],
          [
           0,
           0
          ],
          [
           0,
           0
          ],
          [
           30,
           30
          ],
          [
           0,
           0
          ],
          [
           0,
           0
          ]
         ]
        },
        {
         "marker": {
          "color": "rgb(221, 204, 119)"
         },
         "name": "Buntes Chaos",
         "type": "bar",
         "x": [
          "Fflopse",
          "cediiiiii_10",
          "Gobo9",
          "PedroZockt",
          "HerrDante",
          "ReichesBrot",
          "_n3d",
          "Ex4cted",
          "yiiq",
          "JOW23",
          "lizsyy",
          "DarkCobweb",
          "camman18YT",
          "2wc",
          "Ninivee",
          "yzvm",
          "Grapfen",
          "Sey__",
          "Umgfoin",
          "KakaMC"
         ],
         "y": [
          [
           100,
           100
          ],
          [
           50,
           50
          ],
          [
           50,
           50
          ],
          [
           100,
           100
          ],
          [
           50,
           50
          ],
          [
           100,
           100
          ],
          [
           100,
           100
          ],
          [
           50,
           50
          ],
          [
           0,
           0
          ],
          [
           0,
           0
          ],
          [
           100,
           100
          ],
          [
           0,
           0
          ],
          [
           0,
           0
          ],
          [
           0,
           0
          ],
          [
           100,
           100
          ],
          [
           0,
           0
          ],
          [
           0,
           0
          ],
          [
           0,
           0
          ],
          [
           100,
           100
          ],
          [
           100,
           100
          ]
         ]
        },
        {
         "marker": {
          "color": "rgb(17, 119, 51)"
         },
         "name": "Drachenflucht",
         "type": "bar",
         "x": [
          "Fflopse",
          "cediiiiii_10",
          "Gobo9",
          "PedroZockt",
          "HerrDante",
          "ReichesBrot",
          "_n3d",
          "Ex4cted",
          "yiiq",
          "JOW23",
          "lizsyy",
          "DarkCobweb",
          "camman18YT",
          "2wc",
          "Ninivee",
          "yzvm",
          "Grapfen",
          "Sey__",
          "Umgfoin",
          "KakaMC"
         ],
         "y": [
          [
           0,
           0
          ],
          [
           0,
           0
          ],
          [
           0,
           0
          ],
          [
           0,
           0
          ],
          [
           0,
           0
          ],
          [
           0,
           0
          ],
          [
           16,
           16
          ],
          [
           0,
           0
          ],
          [
           0,
           0
          ],
          [
           0,
           0
          ],
          [
           0,
           0
          ],
          [
           0,
           0
          ],
          [
           0,
           0
          ],
          [
           0,
           0
          ],
          [
           0,
           0
          ],
          [
           0,
           0
          ],
          [
           0,
           0
          ],
          [
           0,
           0
          ],
          [
           0,
           0
          ],
          [
           0,
           0
          ]
         ]
        },
        {
         "marker": {
          "color": "rgb(51, 34, 136)"
         },
         "name": "Duelle",
         "type": "bar",
         "x": [
          "Fflopse",
          "cediiiiii_10",
          "Gobo9",
          "PedroZockt",
          "HerrDante",
          "ReichesBrot",
          "_n3d",
          "Ex4cted",
          "yiiq",
          "JOW23",
          "lizsyy",
          "DarkCobweb",
          "camman18YT",
          "2wc",
          "Ninivee",
          "yzvm",
          "Grapfen",
          "Sey__",
          "Umgfoin",
          "KakaMC"
         ],
         "y": [
          [
           20,
           20
          ],
          [
           70,
           70
          ],
          [
           0,
           0
          ],
          [
           0,
           0
          ],
          [
           0,
           0
          ],
          [
           0,
           0
          ],
          [
           20,
           20
          ],
          [
           0,
           0
          ],
          [
           20,
           20
          ],
          [
           20,
           20
          ],
          [
           0,
           0
          ],
          [
           70,
           70
          ],
          [
           0,
           0
          ],
          [
           70,
           70
          ],
          [
           0,
           0
          ],
          [
           70,
           70
          ],
          [
           0,
           0
          ],
          [
           20,
           20
          ],
          [
           0,
           0
          ],
          [
           0,
           0
          ]
         ]
        },
        {
         "marker": {
          "color": "rgb(170, 68, 153)"
         },
         "name": "Einer im Köcher",
         "type": "bar",
         "x": [
          "Fflopse",
          "cediiiiii_10",
          "Gobo9",
          "PedroZockt",
          "HerrDante",
          "ReichesBrot",
          "_n3d",
          "Ex4cted",
          "yiiq",
          "JOW23",
          "lizsyy",
          "DarkCobweb",
          "camman18YT",
          "2wc",
          "Ninivee",
          "yzvm",
          "Grapfen",
          "Sey__",
          "Umgfoin",
          "KakaMC"
         ],
         "y": [
          [
           90,
           90
          ],
          [
           50,
           50
          ],
          [
           36.666666666666664,
           36.666666666666664
          ],
          [
           0,
           0
          ],
          [
           90,
           90
          ],
          [
           0,
           0
          ],
          [
           16.666666666666668,
           16.666666666666668
          ],
          [
           0,
           0
          ],
          [
           10,
           10
          ],
          [
           26.666666666666668,
           26.666666666666668
          ],
          [
           0,
           0
          ],
          [
           0,
           0
          ],
          [
           0,
           0
          ],
          [
           0,
           0
          ],
          [
           0,
           0
          ],
          [
           0,
           0
          ],
          [
           10,
           10
          ],
          [
           0,
           0
          ],
          [
           0,
           0
          ],
          [
           0,
           0
          ]
         ]
        },
        {
         "marker": {
          "color": "rgb(68, 170, 153)"
         },
         "name": "Elytrarennen",
         "type": "bar",
         "x": [
          "Fflopse",
          "cediiiiii_10",
          "Gobo9",
          "PedroZockt",
          "HerrDante",
          "ReichesBrot",
          "_n3d",
          "Ex4cted",
          "yiiq",
          "JOW23",
          "lizsyy",
          "DarkCobweb",
          "camman18YT",
          "2wc",
          "Ninivee",
          "yzvm",
          "Grapfen",
          "Sey__",
          "Umgfoin",
          "KakaMC"
         ],
         "y": [
          [
           90,
           90
          ],
          [
           0,
           0
          ],
          [
           6.666666666666667,
           6.666666666666667
          ],
          [
           50,
           50
          ],
          [
           0,
           0
          ],
          [
           90,
           90
          ],
          [
           76.66666666666667,
           76.66666666666667
          ],
          [
           0,
           0
          ],
          [
           0,
           0
          ],
          [
           0,
           0
          ],
          [
           0,
           0
          ],
          [
           0,
           0
          ],
          [
           26.666666666666668,
           26.666666666666668
          ],
          [
           0,
           0
          ],
          [
           0,
           0
          ],
          [
           0,
           0
          ],
          [
           0,
           0
          ],
          [
           0,
           0
          ],
          [
           0,
           0
          ],
          [
           0,
           0
          ]
         ]
        },
        {
         "marker": {
          "color": "rgb(153, 153, 51)"
         },
         "name": "Freier Fall",
         "type": "bar",
         "x": [
          "Fflopse",
          "cediiiiii_10",
          "Gobo9",
          "PedroZockt",
          "HerrDante",
          "ReichesBrot",
          "_n3d",
          "Ex4cted",
          "yiiq",
          "JOW23",
          "lizsyy",
          "DarkCobweb",
          "camman18YT",
          "2wc",
          "Ninivee",
          "yzvm",
          "Grapfen",
          "Sey__",
          "Umgfoin",
          "KakaMC"
         ],
         "y": [
          [
           45,
           45
          ],
          [
           52.5,
           52.5
          ],
          [
           42.5,
           42.5
          ],
          [
           25,
           25
          ],
          [
           62.5,
           62.5
          ],
          [
           22.5,
           22.5
          ],
          [
           20,
           20
          ],
          [
           25,
           25
          ],
          [
           0,
           0
          ],
          [
           0,
           0
          ],
          [
           0,
           0
          ],
          [
           0,
           0
          ],
          [
           0,
           0
          ],
          [
           42.5,
           42.5
          ],
          [
           17.5,
           17.5
          ],
          [
           0,
           0
          ],
          [
           0,
           0
          ],
          [
           12.5,
           12.5
          ],
          [
           15,
           15
          ],
          [
           0,
           0
          ]
         ]
        },
        {
         "marker": {
          "color": "rgb(136, 34, 85)"
         },
         "name": "Frostiger Pfad",
         "type": "bar",
         "x": [
          "Fflopse",
          "cediiiiii_10",
          "Gobo9",
          "PedroZockt",
          "HerrDante",
          "ReichesBrot",
          "_n3d",
          "Ex4cted",
          "yiiq",
          "JOW23",
          "lizsyy",
          "DarkCobweb",
          "camman18YT",
          "2wc",
          "Ninivee",
          "yzvm",
          "Grapfen",
          "Sey__",
          "Umgfoin",
          "KakaMC"
         ],
         "y": [
          [
           70,
           70
          ],
          [
           0,
           0
          ],
          [
           0,
           0
          ],
          [
           20,
           20
          ],
          [
           0,
           0
          ],
          [
           100,
           100
          ],
          [
           60,
           60
          ],
          [
           0,
           0
          ],
          [
           0,
           0
          ],
          [
           0,
           0
          ],
          [
           0,
           0
          ],
          [
           0,
           0
          ],
          [
           0,
           0
          ],
          [
           0,
           0
          ],
          [
           90,
           90
          ],
          [
           0,
           0
          ],
          [
           0,
           0
          ],
          [
           0,
           0
          ],
          [
           0,
           0
          ],
          [
           0,
           0
          ]
         ]
        },
        {
         "marker": {
          "color": "rgb(102, 17, 0)"
         },
         "name": "Hoch hinaus",
         "type": "bar",
         "x": [
          "Fflopse",
          "cediiiiii_10",
          "Gobo9",
          "PedroZockt",
          "HerrDante",
          "ReichesBrot",
          "_n3d",
          "Ex4cted",
          "yiiq",
          "JOW23",
          "lizsyy",
          "DarkCobweb",
          "camman18YT",
          "2wc",
          "Ninivee",
          "yzvm",
          "Grapfen",
          "Sey__",
          "Umgfoin",
          "KakaMC"
         ],
         "y": [
          [
           80,
           80
          ],
          [
           30,
           30
          ],
          [
           70,
           70
          ],
          [
           90,
           90
          ],
          [
           0,
           0
          ],
          [
           0,
           0
          ],
          [
           0,
           0
          ],
          [
           50,
           50
          ],
          [
           0,
           0
          ],
          [
           0,
           0
          ],
          [
           0,
           0
          ],
          [
           0,
           0
          ],
          [
           0,
           0
          ],
          [
           0,
           0
          ],
          [
           0,
           0
          ],
          [
           0,
           0
          ],
          [
           0,
           0
          ],
          [
           40,
           40
          ],
          [
           20,
           20
          ],
          [
           0,
           0
          ]
         ]
        },
        {
         "marker": {
          "color": "rgb(136, 136, 136)"
         },
         "name": "Jump and Run",
         "type": "bar",
         "x": [
          "Fflopse",
          "cediiiiii_10",
          "Gobo9",
          "PedroZockt",
          "HerrDante",
          "ReichesBrot",
          "_n3d",
          "Ex4cted",
          "yiiq",
          "JOW23",
          "lizsyy",
          "DarkCobweb",
          "camman18YT",
          "2wc",
          "Ninivee",
          "yzvm",
          "Grapfen",
          "Sey__",
          "Umgfoin",
          "KakaMC"
         ],
         "y": [
          [
           56.666666666666664,
           56.666666666666664
          ],
          [
           23.333333333333332,
           23.333333333333332
          ],
          [
           96.66666666666667,
           96.66666666666667
          ],
          [
           20,
           20
          ],
          [
           36.666666666666664,
           36.666666666666664
          ],
          [
           86.66666666666667,
           86.66666666666667
          ],
          [
           0,
           0
          ],
          [
           6.666666666666667,
           6.666666666666667
          ],
          [
           13.333333333333334,
           13.333333333333334
          ],
          [
           10,
           10
          ],
          [
           16.666666666666668,
           16.666666666666668
          ],
          [
           0,
           0
          ],
          [
           36.666666666666664,
           36.666666666666664
          ],
          [
           16.666666666666668,
           16.666666666666668
          ],
          [
           0,
           0
          ],
          [
           0,
           0
          ],
          [
           0,
           0
          ],
          [
           20,
           20
          ],
          [
           0,
           0
          ],
          [
           13.333333333333334,
           13.333333333333334
          ]
         ]
        },
        {
         "marker": {
          "color": "rgb(136, 204, 238)"
         },
         "name": "Kletter-König",
         "type": "bar",
         "x": [
          "Fflopse",
          "cediiiiii_10",
          "Gobo9",
          "PedroZockt",
          "HerrDante",
          "ReichesBrot",
          "_n3d",
          "Ex4cted",
          "yiiq",
          "JOW23",
          "lizsyy",
          "DarkCobweb",
          "camman18YT",
          "2wc",
          "Ninivee",
          "yzvm",
          "Grapfen",
          "Sey__",
          "Umgfoin",
          "KakaMC"
         ],
         "y": [
          [
           95,
           95
          ],
          [
           0,
           0
          ],
          [
           30,
           30
          ],
          [
           25,
           25
          ],
          [
           25,
           25
          ],
          [
           50,
           50
          ],
          [
           0,
           0
          ],
          [
           0,
           0
          ],
          [
           40,
           40
          ],
          [
           0,
           0
          ],
          [
           0,
           0
          ],
          [
           0,
           0
          ],
          [
           50,
           50
          ],
          [
           0,
           0
          ],
          [
           0,
           0
          ],
          [
           25,
           25
          ],
          [
           0,
           0
          ],
          [
           0,
           0
          ],
          [
           0,
           0
          ],
          [
           0,
           0
          ]
         ]
        },
        {
         "marker": {
          "color": "rgb(204, 102, 119)"
         },
         "name": "Lasertag",
         "type": "bar",
         "x": [
          "Fflopse",
          "cediiiiii_10",
          "Gobo9",
          "PedroZockt",
          "HerrDante",
          "ReichesBrot",
          "_n3d",
          "Ex4cted",
          "yiiq",
          "JOW23",
          "lizsyy",
          "DarkCobweb",
          "camman18YT",
          "2wc",
          "Ninivee",
          "yzvm",
          "Grapfen",
          "Sey__",
          "Umgfoin",
          "KakaMC"
         ],
         "y": [
          [
           86.66666666666667,
           86.66666666666667
          ],
          [
           0,
           0
          ],
          [
           13.333333333333334,
           13.333333333333334
          ],
          [
           36.666666666666664,
           36.666666666666664
          ],
          [
           86.66666666666667,
           86.66666666666667
          ],
          [
           0,
           0
          ],
          [
           0,
           0
          ],
          [
           30,
           30
          ],
          [
           0,
           0
          ],
          [
           53.333333333333336,
           53.333333333333336
          ],
          [
           0,
           0
          ],
          [
           0,
           0
          ],
          [
           0,
           0
          ],
          [
           23.333333333333332,
           23.333333333333332
          ],
          [
           0,
           0
          ],
          [
           0,
           0
          ],
          [
           16.666666666666668,
           16.666666666666668
          ],
          [
           0,
           0
          ],
          [
           0,
           0
          ],
          [
           0,
           0
          ]
         ]
        },
        {
         "marker": {
          "color": "rgb(221, 204, 119)"
         },
         "name": "Minenfeld",
         "type": "bar",
         "x": [
          "Fflopse",
          "cediiiiii_10",
          "Gobo9",
          "PedroZockt",
          "HerrDante",
          "ReichesBrot",
          "_n3d",
          "Ex4cted",
          "yiiq",
          "JOW23",
          "lizsyy",
          "DarkCobweb",
          "camman18YT",
          "2wc",
          "Ninivee",
          "yzvm",
          "Grapfen",
          "Sey__",
          "Umgfoin",
          "KakaMC"
         ],
         "y": [
          [
           33.333333333333336,
           33.333333333333336
          ],
          [
           16.666666666666668,
           16.666666666666668
          ],
          [
           0,
           0
          ],
          [
           6.666666666666667,
           6.666666666666667
          ],
          [
           46.666666666666664,
           46.666666666666664
          ],
          [
           30,
           30
          ],
          [
           13.333333333333334,
           13.333333333333334
          ],
          [
           10,
           10
          ],
          [
           0,
           0
          ],
          [
           13.333333333333334,
           13.333333333333334
          ],
          [
           0,
           0
          ],
          [
           0,
           0
          ],
          [
           0,
           0
          ],
          [
           10,
           10
          ],
          [
           26.666666666666668,
           26.666666666666668
          ],
          [
           0,
           0
          ],
          [
           0,
           0
          ],
          [
           40,
           40
          ],
          [
           0,
           0
          ],
          [
           0,
           0
          ]
         ]
        },
        {
         "marker": {
          "color": "rgb(17, 119, 51)"
         },
         "name": "Minengefecht",
         "type": "bar",
         "x": [
          "Fflopse",
          "cediiiiii_10",
          "Gobo9",
          "PedroZockt",
          "HerrDante",
          "ReichesBrot",
          "_n3d",
          "Ex4cted",
          "yiiq",
          "JOW23",
          "lizsyy",
          "DarkCobweb",
          "camman18YT",
          "2wc",
          "Ninivee",
          "yzvm",
          "Grapfen",
          "Sey__",
          "Umgfoin",
          "KakaMC"
         ],
         "y": [
          [
           20,
           20
          ],
          [
           100,
           100
          ],
          [
           16.666666666666668,
           16.666666666666668
          ],
          [
           0,
           0
          ],
          [
           16.666666666666668,
           16.666666666666668
          ],
          [
           20,
           20
          ],
          [
           33.333333333333336,
           33.333333333333336
          ],
          [
           0,
           0
          ],
          [
           66.66666666666667,
           66.66666666666667
          ],
          [
           26.666666666666668,
           26.666666666666668
          ],
          [
           0,
           0
          ],
          [
           83.33333333333333,
           83.33333333333333
          ],
          [
           0,
           0
          ],
          [
           30,
           30
          ],
          [
           0,
           0
          ],
          [
           50,
           50
          ],
          [
           20,
           20
          ],
          [
           0,
           0
          ],
          [
           0,
           0
          ],
          [
           0,
           0
          ]
         ]
        },
        {
         "marker": {
          "color": "rgb(51, 34, 136)"
         },
         "name": "Mini Skywars",
         "type": "bar",
         "x": [
          "Fflopse",
          "cediiiiii_10",
          "Gobo9",
          "PedroZockt",
          "HerrDante",
          "ReichesBrot",
          "_n3d",
          "Ex4cted",
          "yiiq",
          "JOW23",
          "lizsyy",
          "DarkCobweb",
          "camman18YT",
          "2wc",
          "Ninivee",
          "yzvm",
          "Grapfen",
          "Sey__",
          "Umgfoin",
          "KakaMC"
         ],
         "y": [
          [
           25,
           25
          ],
          [
           45,
           45
          ],
          [
           38.333333333333336,
           38.333333333333336
          ],
          [
           11.666666666666666,
           11.666666666666666
          ],
          [
           0,
           0
          ],
          [
           0,
           0
          ],
          [
           26.666666666666668,
           26.666666666666668
          ],
          [
           11.666666666666666,
           11.666666666666666
          ],
          [
           15,
           15
          ],
          [
           20,
           20
          ],
          [
           3.3333333333333335,
           3.3333333333333335
          ],
          [
           31.666666666666668,
           31.666666666666668
          ],
          [
           15,
           15
          ],
          [
           31.666666666666668,
           31.666666666666668
          ],
          [
           11.666666666666666,
           11.666666666666666
          ],
          [
           0,
           0
          ],
          [
           28.333333333333332,
           28.333333333333332
          ],
          [
           0,
           0
          ],
          [
           3.3333333333333335,
           3.3333333333333335
          ],
          [
           16.666666666666668,
           16.666666666666668
          ]
         ]
        },
        {
         "marker": {
          "color": "rgb(170, 68, 153)"
         },
         "name": "Mini Survivalgames",
         "type": "bar",
         "x": [
          "Fflopse",
          "cediiiiii_10",
          "Gobo9",
          "PedroZockt",
          "HerrDante",
          "ReichesBrot",
          "_n3d",
          "Ex4cted",
          "yiiq",
          "JOW23",
          "lizsyy",
          "DarkCobweb",
          "camman18YT",
          "2wc",
          "Ninivee",
          "yzvm",
          "Grapfen",
          "Sey__",
          "Umgfoin",
          "KakaMC"
         ],
         "y": [
          [
           10,
           10
          ],
          [
           43.333333333333336,
           43.333333333333336
          ],
          [
           63.333333333333336,
           63.333333333333336
          ],
          [
           0,
           0
          ],
          [
           16.666666666666668,
           16.666666666666668
          ],
          [
           33.333333333333336,
           33.333333333333336
          ],
          [
           0,
           0
          ],
          [
           0,
           0
          ],
          [
           0,
           0
          ],
          [
           0,
           0
          ],
          [
           0,
           0
          ],
          [
           26.666666666666668,
           26.666666666666668
          ],
          [
           90,
           90
          ],
          [
           26.666666666666668,
           26.666666666666668
          ],
          [
           46.666666666666664,
           46.666666666666664
          ],
          [
           0,
           0
          ],
          [
           26.666666666666668,
           26.666666666666668
          ],
          [
           0,
           0
          ],
          [
           10,
           10
          ],
          [
           0,
           0
          ]
         ]
        },
        {
         "marker": {
          "color": "rgb(68, 170, 153)"
         },
         "name": "Paintball",
         "type": "bar",
         "x": [
          "Fflopse",
          "cediiiiii_10",
          "Gobo9",
          "PedroZockt",
          "HerrDante",
          "ReichesBrot",
          "_n3d",
          "Ex4cted",
          "yiiq",
          "JOW23",
          "lizsyy",
          "DarkCobweb",
          "camman18YT",
          "2wc",
          "Ninivee",
          "yzvm",
          "Grapfen",
          "Sey__",
          "Umgfoin",
          "KakaMC"
         ],
         "y": [
          [
           76.66666666666667,
           76.66666666666667
          ],
          [
           10,
           10
          ],
          [
           0,
           0
          ],
          [
           60,
           60
          ],
          [
           53.333333333333336,
           53.333333333333336
          ],
          [
           30,
           30
          ],
          [
           20,
           20
          ],
          [
           0,
           0
          ],
          [
           33.333333333333336,
           33.333333333333336
          ],
          [
           0,
           0
          ],
          [
           0,
           0
          ],
          [
           20,
           20
          ],
          [
           0,
           0
          ],
          [
           33.333333333333336,
           33.333333333333336
          ],
          [
           0,
           0
          ],
          [
           26.666666666666668,
           26.666666666666668
          ],
          [
           33.333333333333336,
           33.333333333333336
          ],
          [
           0,
           0
          ],
          [
           0,
           0
          ],
          [
           0,
           0
          ]
         ]
        },
        {
         "marker": {
          "color": "rgb(153, 153, 51)"
         },
         "name": "Pferderennen",
         "type": "bar",
         "x": [
          "Fflopse",
          "cediiiiii_10",
          "Gobo9",
          "PedroZockt",
          "HerrDante",
          "ReichesBrot",
          "_n3d",
          "Ex4cted",
          "yiiq",
          "JOW23",
          "lizsyy",
          "DarkCobweb",
          "camman18YT",
          "2wc",
          "Ninivee",
          "yzvm",
          "Grapfen",
          "Sey__",
          "Umgfoin",
          "KakaMC"
         ],
         "y": [
          [
           91.66666666666667,
           91.66666666666667
          ],
          [
           75,
           75
          ],
          [
           65,
           65
          ],
          [
           45,
           45
          ],
          [
           6.666666666666667,
           6.666666666666667
          ],
          [
           10,
           10
          ],
          [
           3.3333333333333335,
           3.3333333333333335
          ],
          [
           0,
           0
          ],
          [
           46.666666666666664,
           46.666666666666664
          ],
          [
           0,
           0
          ],
          [
           35,
           35
          ],
          [
           0,
           0
          ],
          [
           0,
           0
          ],
          [
           0,
           0
          ],
          [
           0,
           0
          ],
          [
           13.333333333333334,
           13.333333333333334
          ],
          [
           0,
           0
          ],
          [
           3.3333333333333335,
           3.3333333333333335
          ],
          [
           8.333333333333334,
           8.333333333333334
          ],
          [
           0,
           0
          ]
         ]
        },
        {
         "marker": {
          "color": "rgb(136, 34, 85)"
         },
         "name": "Replika",
         "type": "bar",
         "x": [
          "Fflopse",
          "cediiiiii_10",
          "Gobo9",
          "PedroZockt",
          "HerrDante",
          "ReichesBrot",
          "_n3d",
          "Ex4cted",
          "yiiq",
          "JOW23",
          "lizsyy",
          "DarkCobweb",
          "camman18YT",
          "2wc",
          "Ninivee",
          "yzvm",
          "Grapfen",
          "Sey__",
          "Umgfoin",
          "KakaMC"
         ],
         "y": [
          [
           56.407766990291265,
           56.407766990291265
          ],
          [
           54.95145631067961,
           54.95145631067961
          ],
          [
           90.87378640776699,
           90.87378640776699
          ],
          [
           60.970873786407765,
           60.970873786407765
          ],
          [
           10.87378640776699,
           10.87378640776699
          ],
          [
           7.669902912621359,
           7.669902912621359
          ],
          [
           7.669902912621359,
           7.669902912621359
          ],
          [
           48.44660194174757,
           48.44660194174757
          ],
          [
           30.194174757281555,
           30.194174757281555
          ],
          [
           5.631067961165049,
           5.631067961165049
          ],
          [
           22.33009708737864,
           22.33009708737864
          ],
          [
           4.951456310679611,
           4.951456310679611
          ],
          [
           8.058252427184467,
           8.058252427184467
          ],
          [
           7.669902912621359,
           7.669902912621359
          ],
          [
           2.912621359223301,
           2.912621359223301
          ],
          [
           3.1067961165048543,
           3.1067961165048543
          ],
          [
           4.854368932038835,
           4.854368932038835
          ],
          [
           3.1067961165048543,
           3.1067961165048543
          ],
          [
           2.912621359223301,
           2.912621359223301
          ],
          [
           36.79611650485437,
           36.79611650485437
          ]
         ]
        },
        {
         "marker": {
          "color": "rgb(102, 17, 0)"
         },
         "name": "Sammelwahn",
         "type": "bar",
         "x": [
          "Fflopse",
          "cediiiiii_10",
          "Gobo9",
          "PedroZockt",
          "HerrDante",
          "ReichesBrot",
          "_n3d",
          "Ex4cted",
          "yiiq",
          "JOW23",
          "lizsyy",
          "DarkCobweb",
          "camman18YT",
          "2wc",
          "Ninivee",
          "yzvm",
          "Grapfen",
          "Sey__",
          "Umgfoin",
          "KakaMC"
         ],
         "y": [
          [
           20.5,
           20.5
          ],
          [
           35.5,
           35.5
          ],
          [
           28.25,
           28.25
          ],
          [
           16.75,
           16.75
          ],
          [
           10.25,
           10.25
          ],
          [
           3.5,
           3.5
          ],
          [
           4.5,
           4.5
          ],
          [
           17,
           17
          ],
          [
           0,
           0
          ],
          [
           4.25,
           4.25
          ],
          [
           5,
           5
          ],
          [
           6.75,
           6.75
          ],
          [
           6,
           6
          ],
          [
           0,
           0
          ],
          [
           2.25,
           2.25
          ],
          [
           4.75,
           4.75
          ],
          [
           16,
           16
          ],
          [
           8.5,
           8.5
          ],
          [
           5,
           5
          ],
          [
           10.75,
           10.75
          ]
         ]
        },
        {
         "marker": {
          "color": "rgb(136, 136, 136)"
         },
         "name": "Schießstand",
         "type": "bar",
         "x": [
          "Fflopse",
          "cediiiiii_10",
          "Gobo9",
          "PedroZockt",
          "HerrDante",
          "ReichesBrot",
          "_n3d",
          "Ex4cted",
          "yiiq",
          "JOW23",
          "lizsyy",
          "DarkCobweb",
          "camman18YT",
          "2wc",
          "Ninivee",
          "yzvm",
          "Grapfen",
          "Sey__",
          "Umgfoin",
          "KakaMC"
         ],
         "y": [
          [
           67.5,
           67.5
          ],
          [
           32.5,
           32.5
          ],
          [
           25,
           25
          ],
          [
           0,
           0
          ],
          [
           55,
           55
          ],
          [
           0,
           0
          ],
          [
           20,
           20
          ],
          [
           67.5,
           67.5
          ],
          [
           0,
           0
          ],
          [
           12.5,
           12.5
          ],
          [
           32.5,
           32.5
          ],
          [
           0,
           0
          ],
          [
           0,
           0
          ],
          [
           0,
           0
          ],
          [
           0,
           0
          ],
          [
           0,
           0
          ],
          [
           0,
           0
          ],
          [
           0,
           0
          ],
          [
           0,
           0
          ],
          [
           0,
           0
          ]
         ]
        },
        {
         "marker": {
          "color": "rgb(136, 204, 238)"
         },
         "name": "Spleef",
         "type": "bar",
         "x": [
          "Fflopse",
          "cediiiiii_10",
          "Gobo9",
          "PedroZockt",
          "HerrDante",
          "ReichesBrot",
          "_n3d",
          "Ex4cted",
          "yiiq",
          "JOW23",
          "lizsyy",
          "DarkCobweb",
          "camman18YT",
          "2wc",
          "Ninivee",
          "yzvm",
          "Grapfen",
          "Sey__",
          "Umgfoin",
          "KakaMC"
         ],
         "y": [
          [
           75,
           75
          ],
          [
           90,
           90
          ],
          [
           75,
           75
          ],
          [
           50,
           50
          ],
          [
           30,
           30
          ],
          [
           0,
           0
          ],
          [
           45,
           45
          ],
          [
           30,
           30
          ],
          [
           30,
           30
          ],
          [
           45,
           45
          ],
          [
           45,
           45
          ],
          [
           30,
           30
          ],
          [
           0,
           0
          ],
          [
           0,
           0
          ],
          [
           0,
           0
          ],
          [
           0,
           0
          ],
          [
           30,
           30
          ],
          [
           0,
           0
          ],
          [
           80,
           80
          ],
          [
           0,
           0
          ]
         ]
        },
        {
         "marker": {
          "color": "rgb(204, 102, 119)"
         },
         "name": "Todeswürfel",
         "type": "bar",
         "x": [
          "Fflopse",
          "cediiiiii_10",
          "Gobo9",
          "PedroZockt",
          "HerrDante",
          "ReichesBrot",
          "_n3d",
          "Ex4cted",
          "yiiq",
          "JOW23",
          "lizsyy",
          "DarkCobweb",
          "camman18YT",
          "2wc",
          "Ninivee",
          "yzvm",
          "Grapfen",
          "Sey__",
          "Umgfoin",
          "KakaMC"
         ],
         "y": [
          [
           0,
           0
          ],
          [
           20,
           20
          ],
          [
           0,
           0
          ],
          [
           60,
           60
          ],
          [
           90,
           90
          ],
          [
           0,
           0
          ],
          [
           0,
           0
          ],
          [
           0,
           0
          ],
          [
           0,
           0
          ],
          [
           0,
           0
          ],
          [
           0,
           0
          ],
          [
           0,
           0
          ],
          [
           50,
           50
          ],
          [
           0,
           0
          ],
          [
           0,
           0
          ],
          [
           0,
           0
          ],
          [
           0,
           0
          ],
          [
           0,
           0
          ],
          [
           0,
           0
          ],
          [
           40,
           40
          ]
         ]
        },
        {
         "marker": {
          "color": "rgb(221, 204, 119)"
         },
         "name": "Waffenfolge",
         "type": "bar",
         "x": [
          "Fflopse",
          "cediiiiii_10",
          "Gobo9",
          "PedroZockt",
          "HerrDante",
          "ReichesBrot",
          "_n3d",
          "Ex4cted",
          "yiiq",
          "JOW23",
          "lizsyy",
          "DarkCobweb",
          "camman18YT",
          "2wc",
          "Ninivee",
          "yzvm",
          "Grapfen",
          "Sey__",
          "Umgfoin",
          "KakaMC"
         ],
         "y": [
          [
           50,
           50
          ],
          [
           80,
           80
          ],
          [
           0,
           0
          ],
          [
           70,
           70
          ],
          [
           0,
           0
          ],
          [
           0,
           0
          ],
          [
           0,
           0
          ],
          [
           0,
           0
          ],
          [
           0,
           0
          ],
          [
           100,
           100
          ],
          [
           0,
           0
          ],
          [
           0,
           0
          ],
          [
           0,
           0
          ],
          [
           0,
           0
          ],
          [
           0,
           0
          ],
          [
           90,
           90
          ],
          [
           60,
           60
          ],
          [
           20,
           20
          ],
          [
           0,
           0
          ],
          [
           0,
           0
          ]
         ]
        },
        {
         "marker": {
          "color": "rgb(17, 119, 51)"
         },
         "name": "Walls",
         "type": "bar",
         "x": [
          "Fflopse",
          "cediiiiii_10",
          "Gobo9",
          "PedroZockt",
          "HerrDante",
          "ReichesBrot",
          "_n3d",
          "Ex4cted",
          "yiiq",
          "JOW23",
          "lizsyy",
          "DarkCobweb",
          "camman18YT",
          "2wc",
          "Ninivee",
          "yzvm",
          "Grapfen",
          "Sey__",
          "Umgfoin",
          "KakaMC"
         ],
         "y": [
          [
           25,
           25
          ],
          [
           70,
           70
          ],
          [
           35,
           35
          ],
          [
           45,
           45
          ],
          [
           0,
           0
          ],
          [
           0,
           0
          ],
          [
           0,
           0
          ],
          [
           0,
           0
          ],
          [
           22.5,
           22.5
          ],
          [
           25,
           25
          ],
          [
           0,
           0
          ],
          [
           50,
           50
          ],
          [
           40,
           40
          ],
          [
           15,
           15
          ],
          [
           15,
           15
          ],
          [
           12.5,
           12.5
          ],
          [
           32.5,
           32.5
          ],
          [
           0,
           0
          ],
          [
           0,
           0
          ],
          [
           25,
           25
          ]
         ]
        },
        {
         "marker": {
          "color": "rgb(51, 34, 136)"
         },
         "name": "Wettrennen",
         "type": "bar",
         "x": [
          "Fflopse",
          "cediiiiii_10",
          "Gobo9",
          "PedroZockt",
          "HerrDante",
          "ReichesBrot",
          "_n3d",
          "Ex4cted",
          "yiiq",
          "JOW23",
          "lizsyy",
          "DarkCobweb",
          "camman18YT",
          "2wc",
          "Ninivee",
          "yzvm",
          "Grapfen",
          "Sey__",
          "Umgfoin",
          "KakaMC"
         ],
         "y": [
          [
           82,
           82
          ],
          [
           48,
           48
          ],
          [
           72,
           72
          ],
          [
           14,
           14
          ],
          [
           20,
           20
          ],
          [
           40,
           40
          ],
          [
           4,
           4
          ],
          [
           0,
           0
          ],
          [
           42,
           42
          ],
          [
           0,
           0
          ],
          [
           14,
           14
          ],
          [
           0,
           0
          ],
          [
           0,
           0
          ],
          [
           8,
           8
          ],
          [
           0,
           0
          ],
          [
           14,
           14
          ],
          [
           0,
           0
          ],
          [
           8,
           8
          ],
          [
           0,
           0
          ],
          [
           0,
           0
          ]
         ]
        }
       ],
       "layout": {
        "annotations": [
         {
          "font": {
           "size": 12
          },
          "showarrow": false,
          "text": "Max 100 points per minigame. Records #1 through #10 are considered (#1: 100, #2: 90, ..., #10: 10). If a minigame has multiple maps, the 100 points are distributed equally. fflopse.github.io/MCP-Records/data-analysis/global-ranking.ipynb",
          "x": 0.5,
          "xanchor": "center",
          "xref": "paper",
          "y": -0.235,
          "yref": "paper"
         }
        ],
        "barmode": "stack",
        "legend": {
         "bgcolor": "rgba(255, 255, 255, 0)",
         "bordercolor": "rgba(0, 0, 0, 0)",
         "font": {
          "size": 12
         },
         "traceorder": "normal",
         "x": 1.05,
         "y": 0.5
        },
        "margin": {
         "r": 200
        },
        "template": {
         "data": {
          "bar": [
           {
            "error_x": {
             "color": "#2a3f5f"
            },
            "error_y": {
             "color": "#2a3f5f"
            },
            "marker": {
             "line": {
              "color": "#E5ECF6",
              "width": 0.5
             },
             "pattern": {
              "fillmode": "overlay",
              "size": 10,
              "solidity": 0.2
             }
            },
            "type": "bar"
           }
          ],
          "barpolar": [
           {
            "marker": {
             "line": {
              "color": "#E5ECF6",
              "width": 0.5
             },
             "pattern": {
              "fillmode": "overlay",
              "size": 10,
              "solidity": 0.2
             }
            },
            "type": "barpolar"
           }
          ],
          "carpet": [
           {
            "aaxis": {
             "endlinecolor": "#2a3f5f",
             "gridcolor": "white",
             "linecolor": "white",
             "minorgridcolor": "white",
             "startlinecolor": "#2a3f5f"
            },
            "baxis": {
             "endlinecolor": "#2a3f5f",
             "gridcolor": "white",
             "linecolor": "white",
             "minorgridcolor": "white",
             "startlinecolor": "#2a3f5f"
            },
            "type": "carpet"
           }
          ],
          "choropleth": [
           {
            "colorbar": {
             "outlinewidth": 0,
             "ticks": ""
            },
            "type": "choropleth"
           }
          ],
          "contour": [
           {
            "colorbar": {
             "outlinewidth": 0,
             "ticks": ""
            },
            "colorscale": [
             [
              0,
              "#0d0887"
             ],
             [
              0.1111111111111111,
              "#46039f"
             ],
             [
              0.2222222222222222,
              "#7201a8"
             ],
             [
              0.3333333333333333,
              "#9c179e"
             ],
             [
              0.4444444444444444,
              "#bd3786"
             ],
             [
              0.5555555555555556,
              "#d8576b"
             ],
             [
              0.6666666666666666,
              "#ed7953"
             ],
             [
              0.7777777777777778,
              "#fb9f3a"
             ],
             [
              0.8888888888888888,
              "#fdca26"
             ],
             [
              1,
              "#f0f921"
             ]
            ],
            "type": "contour"
           }
          ],
          "contourcarpet": [
           {
            "colorbar": {
             "outlinewidth": 0,
             "ticks": ""
            },
            "type": "contourcarpet"
           }
          ],
          "heatmap": [
           {
            "colorbar": {
             "outlinewidth": 0,
             "ticks": ""
            },
            "colorscale": [
             [
              0,
              "#0d0887"
             ],
             [
              0.1111111111111111,
              "#46039f"
             ],
             [
              0.2222222222222222,
              "#7201a8"
             ],
             [
              0.3333333333333333,
              "#9c179e"
             ],
             [
              0.4444444444444444,
              "#bd3786"
             ],
             [
              0.5555555555555556,
              "#d8576b"
             ],
             [
              0.6666666666666666,
              "#ed7953"
             ],
             [
              0.7777777777777778,
              "#fb9f3a"
             ],
             [
              0.8888888888888888,
              "#fdca26"
             ],
             [
              1,
              "#f0f921"
             ]
            ],
            "type": "heatmap"
           }
          ],
          "heatmapgl": [
           {
            "colorbar": {
             "outlinewidth": 0,
             "ticks": ""
            },
            "colorscale": [
             [
              0,
              "#0d0887"
             ],
             [
              0.1111111111111111,
              "#46039f"
             ],
             [
              0.2222222222222222,
              "#7201a8"
             ],
             [
              0.3333333333333333,
              "#9c179e"
             ],
             [
              0.4444444444444444,
              "#bd3786"
             ],
             [
              0.5555555555555556,
              "#d8576b"
             ],
             [
              0.6666666666666666,
              "#ed7953"
             ],
             [
              0.7777777777777778,
              "#fb9f3a"
             ],
             [
              0.8888888888888888,
              "#fdca26"
             ],
             [
              1,
              "#f0f921"
             ]
            ],
            "type": "heatmapgl"
           }
          ],
          "histogram": [
           {
            "marker": {
             "pattern": {
              "fillmode": "overlay",
              "size": 10,
              "solidity": 0.2
             }
            },
            "type": "histogram"
           }
          ],
          "histogram2d": [
           {
            "colorbar": {
             "outlinewidth": 0,
             "ticks": ""
            },
            "colorscale": [
             [
              0,
              "#0d0887"
             ],
             [
              0.1111111111111111,
              "#46039f"
             ],
             [
              0.2222222222222222,
              "#7201a8"
             ],
             [
              0.3333333333333333,
              "#9c179e"
             ],
             [
              0.4444444444444444,
              "#bd3786"
             ],
             [
              0.5555555555555556,
              "#d8576b"
             ],
             [
              0.6666666666666666,
              "#ed7953"
             ],
             [
              0.7777777777777778,
              "#fb9f3a"
             ],
             [
              0.8888888888888888,
              "#fdca26"
             ],
             [
              1,
              "#f0f921"
             ]
            ],
            "type": "histogram2d"
           }
          ],
          "histogram2dcontour": [
           {
            "colorbar": {
             "outlinewidth": 0,
             "ticks": ""
            },
            "colorscale": [
             [
              0,
              "#0d0887"
             ],
             [
              0.1111111111111111,
              "#46039f"
             ],
             [
              0.2222222222222222,
              "#7201a8"
             ],
             [
              0.3333333333333333,
              "#9c179e"
             ],
             [
              0.4444444444444444,
              "#bd3786"
             ],
             [
              0.5555555555555556,
              "#d8576b"
             ],
             [
              0.6666666666666666,
              "#ed7953"
             ],
             [
              0.7777777777777778,
              "#fb9f3a"
             ],
             [
              0.8888888888888888,
              "#fdca26"
             ],
             [
              1,
              "#f0f921"
             ]
            ],
            "type": "histogram2dcontour"
           }
          ],
          "mesh3d": [
           {
            "colorbar": {
             "outlinewidth": 0,
             "ticks": ""
            },
            "type": "mesh3d"
           }
          ],
          "parcoords": [
           {
            "line": {
             "colorbar": {
              "outlinewidth": 0,
              "ticks": ""
             }
            },
            "type": "parcoords"
           }
          ],
          "pie": [
           {
            "automargin": true,
            "type": "pie"
           }
          ],
          "scatter": [
           {
            "fillpattern": {
             "fillmode": "overlay",
             "size": 10,
             "solidity": 0.2
            },
            "type": "scatter"
           }
          ],
          "scatter3d": [
           {
            "line": {
             "colorbar": {
              "outlinewidth": 0,
              "ticks": ""
             }
            },
            "marker": {
             "colorbar": {
              "outlinewidth": 0,
              "ticks": ""
             }
            },
            "type": "scatter3d"
           }
          ],
          "scattercarpet": [
           {
            "marker": {
             "colorbar": {
              "outlinewidth": 0,
              "ticks": ""
             }
            },
            "type": "scattercarpet"
           }
          ],
          "scattergeo": [
           {
            "marker": {
             "colorbar": {
              "outlinewidth": 0,
              "ticks": ""
             }
            },
            "type": "scattergeo"
           }
          ],
          "scattergl": [
           {
            "marker": {
             "colorbar": {
              "outlinewidth": 0,
              "ticks": ""
             }
            },
            "type": "scattergl"
           }
          ],
          "scattermapbox": [
           {
            "marker": {
             "colorbar": {
              "outlinewidth": 0,
              "ticks": ""
             }
            },
            "type": "scattermapbox"
           }
          ],
          "scatterpolar": [
           {
            "marker": {
             "colorbar": {
              "outlinewidth": 0,
              "ticks": ""
             }
            },
            "type": "scatterpolar"
           }
          ],
          "scatterpolargl": [
           {
            "marker": {
             "colorbar": {
              "outlinewidth": 0,
              "ticks": ""
             }
            },
            "type": "scatterpolargl"
           }
          ],
          "scatterternary": [
           {
            "marker": {
             "colorbar": {
              "outlinewidth": 0,
              "ticks": ""
             }
            },
            "type": "scatterternary"
           }
          ],
          "surface": [
           {
            "colorbar": {
             "outlinewidth": 0,
             "ticks": ""
            },
            "colorscale": [
             [
              0,
              "#0d0887"
             ],
             [
              0.1111111111111111,
              "#46039f"
             ],
             [
              0.2222222222222222,
              "#7201a8"
             ],
             [
              0.3333333333333333,
              "#9c179e"
             ],
             [
              0.4444444444444444,
              "#bd3786"
             ],
             [
              0.5555555555555556,
              "#d8576b"
             ],
             [
              0.6666666666666666,
              "#ed7953"
             ],
             [
              0.7777777777777778,
              "#fb9f3a"
             ],
             [
              0.8888888888888888,
              "#fdca26"
             ],
             [
              1,
              "#f0f921"
             ]
            ],
            "type": "surface"
           }
          ],
          "table": [
           {
            "cells": {
             "fill": {
              "color": "#EBF0F8"
             },
             "line": {
              "color": "white"
             }
            },
            "header": {
             "fill": {
              "color": "#C8D4E3"
             },
             "line": {
              "color": "white"
             }
            },
            "type": "table"
           }
          ]
         },
         "layout": {
          "annotationdefaults": {
           "arrowcolor": "#2a3f5f",
           "arrowhead": 0,
           "arrowwidth": 1
          },
          "autotypenumbers": "strict",
          "coloraxis": {
           "colorbar": {
            "outlinewidth": 0,
            "ticks": ""
           }
          },
          "colorscale": {
           "diverging": [
            [
             0,
             "#8e0152"
            ],
            [
             0.1,
             "#c51b7d"
            ],
            [
             0.2,
             "#de77ae"
            ],
            [
             0.3,
             "#f1b6da"
            ],
            [
             0.4,
             "#fde0ef"
            ],
            [
             0.5,
             "#f7f7f7"
            ],
            [
             0.6,
             "#e6f5d0"
            ],
            [
             0.7,
             "#b8e186"
            ],
            [
             0.8,
             "#7fbc41"
            ],
            [
             0.9,
             "#4d9221"
            ],
            [
             1,
             "#276419"
            ]
           ],
           "sequential": [
            [
             0,
             "#0d0887"
            ],
            [
             0.1111111111111111,
             "#46039f"
            ],
            [
             0.2222222222222222,
             "#7201a8"
            ],
            [
             0.3333333333333333,
             "#9c179e"
            ],
            [
             0.4444444444444444,
             "#bd3786"
            ],
            [
             0.5555555555555556,
             "#d8576b"
            ],
            [
             0.6666666666666666,
             "#ed7953"
            ],
            [
             0.7777777777777778,
             "#fb9f3a"
            ],
            [
             0.8888888888888888,
             "#fdca26"
            ],
            [
             1,
             "#f0f921"
            ]
           ],
           "sequentialminus": [
            [
             0,
             "#0d0887"
            ],
            [
             0.1111111111111111,
             "#46039f"
            ],
            [
             0.2222222222222222,
             "#7201a8"
            ],
            [
             0.3333333333333333,
             "#9c179e"
            ],
            [
             0.4444444444444444,
             "#bd3786"
            ],
            [
             0.5555555555555556,
             "#d8576b"
            ],
            [
             0.6666666666666666,
             "#ed7953"
            ],
            [
             0.7777777777777778,
             "#fb9f3a"
            ],
            [
             0.8888888888888888,
             "#fdca26"
            ],
            [
             1,
             "#f0f921"
            ]
           ]
          },
          "colorway": [
           "#636efa",
           "#EF553B",
           "#00cc96",
           "#ab63fa",
           "#FFA15A",
           "#19d3f3",
           "#FF6692",
           "#B6E880",
           "#FF97FF",
           "#FECB52"
          ],
          "font": {
           "color": "#2a3f5f"
          },
          "geo": {
           "bgcolor": "white",
           "lakecolor": "white",
           "landcolor": "#E5ECF6",
           "showlakes": true,
           "showland": true,
           "subunitcolor": "white"
          },
          "hoverlabel": {
           "align": "left"
          },
          "hovermode": "closest",
          "mapbox": {
           "style": "light"
          },
          "paper_bgcolor": "white",
          "plot_bgcolor": "#E5ECF6",
          "polar": {
           "angularaxis": {
            "gridcolor": "white",
            "linecolor": "white",
            "ticks": ""
           },
           "bgcolor": "#E5ECF6",
           "radialaxis": {
            "gridcolor": "white",
            "linecolor": "white",
            "ticks": ""
           }
          },
          "scene": {
           "xaxis": {
            "backgroundcolor": "#E5ECF6",
            "gridcolor": "white",
            "gridwidth": 2,
            "linecolor": "white",
            "showbackground": true,
            "ticks": "",
            "zerolinecolor": "white"
           },
           "yaxis": {
            "backgroundcolor": "#E5ECF6",
            "gridcolor": "white",
            "gridwidth": 2,
            "linecolor": "white",
            "showbackground": true,
            "ticks": "",
            "zerolinecolor": "white"
           },
           "zaxis": {
            "backgroundcolor": "#E5ECF6",
            "gridcolor": "white",
            "gridwidth": 2,
            "linecolor": "white",
            "showbackground": true,
            "ticks": "",
            "zerolinecolor": "white"
           }
          },
          "shapedefaults": {
           "line": {
            "color": "#2a3f5f"
           }
          },
          "ternary": {
           "aaxis": {
            "gridcolor": "white",
            "linecolor": "white",
            "ticks": ""
           },
           "baxis": {
            "gridcolor": "white",
            "linecolor": "white",
            "ticks": ""
           },
           "bgcolor": "#E5ECF6",
           "caxis": {
            "gridcolor": "white",
            "linecolor": "white",
            "ticks": ""
           }
          },
          "title": {
           "x": 0.05
          },
          "xaxis": {
           "automargin": true,
           "gridcolor": "white",
           "linecolor": "white",
           "ticks": "",
           "title": {
            "standoff": 15
           },
           "zerolinecolor": "white",
           "zerolinewidth": 2
          },
          "yaxis": {
           "automargin": true,
           "gridcolor": "white",
           "linecolor": "white",
           "ticks": "",
           "title": {
            "standoff": 15
           },
           "zerolinecolor": "white",
           "zerolinewidth": 2
          }
         }
        },
        "title": {
         "text": "Overall Record Comparison - Top 20 Players"
        },
        "xaxis": {
         "title": {
          "text": "Player"
         }
        },
        "yaxis": {
         "title": {
          "text": "Points"
         }
        }
       }
      }
     },
     "metadata": {},
     "output_type": "display_data"
    }
   ],
   "source": [
    "import plotly.graph_objects as go\n",
    "\n",
    "# Sum all columns to get the total score\n",
    "outDf['Total'] = outDf.sum(axis=1)\n",
    "\n",
    "# Sort by total score and fill N/A values with 0\n",
    "outDf = outDf.sort_values(by='Total', ascending=False).fillna(0)\n",
    "\n",
    "# Crop to top 10 players\n",
    "cropDf = outDf.head(20).copy()\n",
    "\n",
    "# Drop the 'Total' column for plotting\n",
    "cropDf = cropDf.drop(columns=['Total'])\n",
    "\n",
    "# Create a color palette\n",
    "color_palette = px.colors.qualitative.Safe\n",
    "\n",
    "# Create the stacked bar plot\n",
    "fig = go.Figure()\n",
    "\n",
    "for column in cropDf.columns.difference(['Player']):\n",
    "    fig.add_trace(go.Bar(\n",
    "        x=cropDf.index,\n",
    "        y=cropDf[column],\n",
    "        name=column,\n",
    "        marker_color=color_palette[len(fig.data) % len(color_palette)]\n",
    "    ))\n",
    "\n",
    "# Update layout\n",
    "fig.update_layout(\n",
    "    barmode='stack',\n",
    "    title='Overall Record Comparison - Top 20 Players',\n",
    "    xaxis=dict(title='Player'),\n",
    "    yaxis=dict(title='Points'),\n",
    "    #height=800,\n",
    "    #width=1000,\n",
    "    legend=dict(\n",
    "        x=1.05,\n",
    "        y=0.5,\n",
    "        traceorder='normal',\n",
    "        font=dict(size=12),\n",
    "        bgcolor='rgba(255, 255, 255, 0)',\n",
    "        bordercolor='rgba(0, 0, 0, 0)'\n",
    "    ),\n",
    "    margin=dict(r=200),  # Adjust right margin to make room for the legend\n",
    "    annotations=[\n",
    "        dict(\n",
    "            x=0.5,\n",
    "            y=-0.235,\n",
    "            xref='paper',\n",
    "            yref='paper',\n",
    "            text='Max 100 points per minigame. Records #1 through #10 are considered (#1: 100, #2: 90, ..., #10: 10). If a minigame has multiple maps, the 100 points are distributed equally. fflopse.github.io/MCP-Records/data-analysis/global-ranking.ipynb',\n",
    "            showarrow=False,\n",
    "            font=dict(size=12),\n",
    "            xanchor='center'\n",
    "        )\n",
    "    ]\n",
    ")\n",
    "\n",
    "fig.show()\n",
    "\n",
    "# save the plot as an html file\n",
    "\n",
    "fig.write_html('out/overall_record_comparison.html')"
   ]
  },
  {
   "cell_type": "code",
   "execution_count": 24,
   "metadata": {},
   "outputs": [
    {
     "data": {
      "application/vnd.plotly.v1+json": {
       "config": {
        "plotlyServerURL": "https://plot.ly"
       },
       "data": [
        {
         "marker": {
          "color": "rgb(136, 204, 238)"
         },
         "name": "Ampelrennen",
         "type": "bar",
         "x": [
          "Fflopse",
          "cediiiiii_10",
          "Gobo9",
          "PedroZockt",
          "HerrDante",
          "ReichesBrot",
          "_n3d",
          "Ex4cted",
          "yiiq",
          "JOW23",
          "lizsyy",
          "DarkCobweb",
          "camman18YT",
          "2wc",
          "Ninivee",
          "yzvm",
          "Grapfen",
          "Sey__",
          "Umgfoin",
          "KakaMC",
          "miridis41",
          "ffawks",
          "h4nnes",
          "Gerrygames",
          "Davinci_Son",
          "Sower_",
          "TheFabo",
          "2B9",
          "LeWi_100",
          "zBro",
          "unausgesprochen",
          "DieserBear",
          "Schmaarek",
          "GeneralEnte06",
          "lolisamasan",
          "Lubottus",
          "M0osebumps",
          "Freeeedom",
          "Gummibearchen",
          "frutigall"
         ],
         "y": [
          [
           50,
           50
          ],
          [
           20,
           20
          ],
          [
           50,
           50
          ],
          [
           75,
           75
          ],
          [
           30,
           30
          ],
          [
           10,
           10
          ],
          [
           25,
           25
          ],
          [
           45,
           45
          ],
          [
           0,
           0
          ],
          [
           0,
           0
          ],
          [
           15,
           15
          ],
          [
           0,
           0
          ],
          [
           0,
           0
          ],
          [
           0,
           0
          ],
          [
           0,
           0
          ],
          [
           0,
           0
          ],
          [
           0,
           0
          ],
          [
           40,
           40
          ],
          [
           0,
           0
          ],
          [
           0,
           0
          ],
          [
           25,
           25
          ],
          [
           0,
           0
          ],
          [
           0,
           0
          ],
          [
           0,
           0
          ],
          [
           0,
           0
          ],
          [
           0,
           0
          ],
          [
           0,
           0
          ],
          [
           0,
           0
          ],
          [
           0,
           0
          ],
          [
           0,
           0
          ],
          [
           35,
           35
          ],
          [
           0,
           0
          ],
          [
           0,
           0
          ],
          [
           0,
           0
          ],
          [
           0,
           0
          ],
          [
           0,
           0
          ],
          [
           0,
           0
          ],
          [
           0,
           0
          ],
          [
           0,
           0
          ],
          [
           0,
           0
          ]
         ]
        },
        {
         "marker": {
          "color": "rgb(204, 102, 119)"
         },
         "name": "Blockhüpfer",
         "type": "bar",
         "x": [
          "Fflopse",
          "cediiiiii_10",
          "Gobo9",
          "PedroZockt",
          "HerrDante",
          "ReichesBrot",
          "_n3d",
          "Ex4cted",
          "yiiq",
          "JOW23",
          "lizsyy",
          "DarkCobweb",
          "camman18YT",
          "2wc",
          "Ninivee",
          "yzvm",
          "Grapfen",
          "Sey__",
          "Umgfoin",
          "KakaMC",
          "miridis41",
          "ffawks",
          "h4nnes",
          "Gerrygames",
          "Davinci_Son",
          "Sower_",
          "TheFabo",
          "2B9",
          "LeWi_100",
          "zBro",
          "unausgesprochen",
          "DieserBear",
          "Schmaarek",
          "GeneralEnte06",
          "lolisamasan",
          "Lubottus",
          "M0osebumps",
          "Freeeedom",
          "Gummibearchen",
          "frutigall"
         ],
         "y": [
          [
           100,
           100
          ],
          [
           0,
           0
          ],
          [
           80,
           80
          ],
          [
           50,
           50
          ],
          [
           0,
           0
          ],
          [
           0,
           0
          ],
          [
           0,
           0
          ],
          [
           90,
           90
          ],
          [
           40,
           40
          ],
          [
           0,
           0
          ],
          [
           70,
           70
          ],
          [
           0,
           0
          ],
          [
           0,
           0
          ],
          [
           0,
           0
          ],
          [
           0,
           0
          ],
          [
           0,
           0
          ],
          [
           0,
           0
          ],
          [
           30,
           30
          ],
          [
           0,
           0
          ],
          [
           0,
           0
          ],
          [
           0,
           0
          ],
          [
           0,
           0
          ],
          [
           60,
           60
          ],
          [
           0,
           0
          ],
          [
           0,
           0
          ],
          [
           0,
           0
          ],
          [
           0,
           0
          ],
          [
           0,
           0
          ],
          [
           0,
           0
          ],
          [
           0,
           0
          ],
          [
           0,
           0
          ],
          [
           0,
           0
          ],
          [
           0,
           0
          ],
          [
           0,
           0
          ],
          [
           0,
           0
          ],
          [
           0,
           0
          ],
          [
           0,
           0
          ],
          [
           0,
           0
          ],
          [
           0,
           0
          ],
          [
           20,
           20
          ]
         ]
        },
        {
         "marker": {
          "color": "rgb(221, 204, 119)"
         },
         "name": "Buntes Chaos",
         "type": "bar",
         "x": [
          "Fflopse",
          "cediiiiii_10",
          "Gobo9",
          "PedroZockt",
          "HerrDante",
          "ReichesBrot",
          "_n3d",
          "Ex4cted",
          "yiiq",
          "JOW23",
          "lizsyy",
          "DarkCobweb",
          "camman18YT",
          "2wc",
          "Ninivee",
          "yzvm",
          "Grapfen",
          "Sey__",
          "Umgfoin",
          "KakaMC",
          "miridis41",
          "ffawks",
          "h4nnes",
          "Gerrygames",
          "Davinci_Son",
          "Sower_",
          "TheFabo",
          "2B9",
          "LeWi_100",
          "zBro",
          "unausgesprochen",
          "DieserBear",
          "Schmaarek",
          "GeneralEnte06",
          "lolisamasan",
          "Lubottus",
          "M0osebumps",
          "Freeeedom",
          "Gummibearchen",
          "frutigall"
         ],
         "y": [
          [
           100,
           100
          ],
          [
           50,
           50
          ],
          [
           50,
           50
          ],
          [
           100,
           100
          ],
          [
           50,
           50
          ],
          [
           100,
           100
          ],
          [
           100,
           100
          ],
          [
           50,
           50
          ],
          [
           0,
           0
          ],
          [
           0,
           0
          ],
          [
           100,
           100
          ],
          [
           0,
           0
          ],
          [
           0,
           0
          ],
          [
           0,
           0
          ],
          [
           100,
           100
          ],
          [
           0,
           0
          ],
          [
           0,
           0
          ],
          [
           0,
           0
          ],
          [
           100,
           100
          ],
          [
           100,
           100
          ],
          [
           0,
           0
          ],
          [
           0,
           0
          ],
          [
           0,
           0
          ],
          [
           0,
           0
          ],
          [
           0,
           0
          ],
          [
           0,
           0
          ],
          [
           0,
           0
          ],
          [
           0,
           0
          ],
          [
           0,
           0
          ],
          [
           0,
           0
          ],
          [
           0,
           0
          ],
          [
           0,
           0
          ],
          [
           50,
           50
          ],
          [
           50,
           50
          ],
          [
           0,
           0
          ],
          [
           50,
           50
          ],
          [
           0,
           0
          ],
          [
           0,
           0
          ],
          [
           0,
           0
          ],
          [
           0,
           0
          ]
         ]
        },
        {
         "marker": {
          "color": "rgb(17, 119, 51)"
         },
         "name": "Drachenflucht",
         "type": "bar",
         "x": [
          "Fflopse",
          "cediiiiii_10",
          "Gobo9",
          "PedroZockt",
          "HerrDante",
          "ReichesBrot",
          "_n3d",
          "Ex4cted",
          "yiiq",
          "JOW23",
          "lizsyy",
          "DarkCobweb",
          "camman18YT",
          "2wc",
          "Ninivee",
          "yzvm",
          "Grapfen",
          "Sey__",
          "Umgfoin",
          "KakaMC",
          "miridis41",
          "ffawks",
          "h4nnes",
          "Gerrygames",
          "Davinci_Son",
          "Sower_",
          "TheFabo",
          "2B9",
          "LeWi_100",
          "zBro",
          "unausgesprochen",
          "DieserBear",
          "Schmaarek",
          "GeneralEnte06",
          "lolisamasan",
          "Lubottus",
          "M0osebumps",
          "Freeeedom",
          "Gummibearchen",
          "frutigall"
         ],
         "y": [
          [
           0,
           0
          ],
          [
           0,
           0
          ],
          [
           0,
           0
          ],
          [
           0,
           0
          ],
          [
           0,
           0
          ],
          [
           0,
           0
          ],
          [
           16,
           16
          ],
          [
           0,
           0
          ],
          [
           0,
           0
          ],
          [
           0,
           0
          ],
          [
           0,
           0
          ],
          [
           0,
           0
          ],
          [
           0,
           0
          ],
          [
           0,
           0
          ],
          [
           0,
           0
          ],
          [
           0,
           0
          ],
          [
           0,
           0
          ],
          [
           0,
           0
          ],
          [
           0,
           0
          ],
          [
           0,
           0
          ],
          [
           32,
           32
          ],
          [
           0,
           0
          ],
          [
           0,
           0
          ],
          [
           18,
           18
          ],
          [
           0,
           0
          ],
          [
           18,
           18
          ],
          [
           6,
           6
          ],
          [
           4,
           4
          ],
          [
           0,
           0
          ],
          [
           4,
           4
          ],
          [
           20,
           20
          ],
          [
           0,
           0
          ],
          [
           0,
           0
          ],
          [
           0,
           0
          ],
          [
           0,
           0
          ],
          [
           0,
           0
          ],
          [
           0,
           0
          ],
          [
           0,
           0
          ],
          [
           0,
           0
          ],
          [
           0,
           0
          ]
         ]
        },
        {
         "marker": {
          "color": "rgb(51, 34, 136)"
         },
         "name": "Duelle",
         "type": "bar",
         "x": [
          "Fflopse",
          "cediiiiii_10",
          "Gobo9",
          "PedroZockt",
          "HerrDante",
          "ReichesBrot",
          "_n3d",
          "Ex4cted",
          "yiiq",
          "JOW23",
          "lizsyy",
          "DarkCobweb",
          "camman18YT",
          "2wc",
          "Ninivee",
          "yzvm",
          "Grapfen",
          "Sey__",
          "Umgfoin",
          "KakaMC",
          "miridis41",
          "ffawks",
          "h4nnes",
          "Gerrygames",
          "Davinci_Son",
          "Sower_",
          "TheFabo",
          "2B9",
          "LeWi_100",
          "zBro",
          "unausgesprochen",
          "DieserBear",
          "Schmaarek",
          "GeneralEnte06",
          "lolisamasan",
          "Lubottus",
          "M0osebumps",
          "Freeeedom",
          "Gummibearchen",
          "frutigall"
         ],
         "y": [
          [
           20,
           20
          ],
          [
           70,
           70
          ],
          [
           0,
           0
          ],
          [
           0,
           0
          ],
          [
           0,
           0
          ],
          [
           0,
           0
          ],
          [
           20,
           20
          ],
          [
           0,
           0
          ],
          [
           20,
           20
          ],
          [
           20,
           20
          ],
          [
           0,
           0
          ],
          [
           70,
           70
          ],
          [
           0,
           0
          ],
          [
           70,
           70
          ],
          [
           0,
           0
          ],
          [
           70,
           70
          ],
          [
           0,
           0
          ],
          [
           20,
           20
          ],
          [
           0,
           0
          ],
          [
           0,
           0
          ],
          [
           80,
           80
          ],
          [
           0,
           0
          ],
          [
           0,
           0
          ],
          [
           0,
           0
          ],
          [
           0,
           0
          ],
          [
           0,
           0
          ],
          [
           0,
           0
          ],
          [
           90,
           90
          ],
          [
           0,
           0
          ],
          [
           0,
           0
          ],
          [
           0,
           0
          ],
          [
           0,
           0
          ],
          [
           0,
           0
          ],
          [
           0,
           0
          ],
          [
           0,
           0
          ],
          [
           0,
           0
          ],
          [
           0,
           0
          ],
          [
           0,
           0
          ],
          [
           0,
           0
          ],
          [
           0,
           0
          ]
         ]
        },
        {
         "marker": {
          "color": "rgb(170, 68, 153)"
         },
         "name": "Einer im Köcher",
         "type": "bar",
         "x": [
          "Fflopse",
          "cediiiiii_10",
          "Gobo9",
          "PedroZockt",
          "HerrDante",
          "ReichesBrot",
          "_n3d",
          "Ex4cted",
          "yiiq",
          "JOW23",
          "lizsyy",
          "DarkCobweb",
          "camman18YT",
          "2wc",
          "Ninivee",
          "yzvm",
          "Grapfen",
          "Sey__",
          "Umgfoin",
          "KakaMC",
          "miridis41",
          "ffawks",
          "h4nnes",
          "Gerrygames",
          "Davinci_Son",
          "Sower_",
          "TheFabo",
          "2B9",
          "LeWi_100",
          "zBro",
          "unausgesprochen",
          "DieserBear",
          "Schmaarek",
          "GeneralEnte06",
          "lolisamasan",
          "Lubottus",
          "M0osebumps",
          "Freeeedom",
          "Gummibearchen",
          "frutigall"
         ],
         "y": [
          [
           90,
           90
          ],
          [
           50,
           50
          ],
          [
           36.666666666666664,
           36.666666666666664
          ],
          [
           0,
           0
          ],
          [
           90,
           90
          ],
          [
           0,
           0
          ],
          [
           16.666666666666668,
           16.666666666666668
          ],
          [
           0,
           0
          ],
          [
           10,
           10
          ],
          [
           26.666666666666668,
           26.666666666666668
          ],
          [
           0,
           0
          ],
          [
           0,
           0
          ],
          [
           0,
           0
          ],
          [
           0,
           0
          ],
          [
           0,
           0
          ],
          [
           0,
           0
          ],
          [
           10,
           10
          ],
          [
           0,
           0
          ],
          [
           0,
           0
          ],
          [
           0,
           0
          ],
          [
           0,
           0
          ],
          [
           0,
           0
          ],
          [
           60,
           60
          ],
          [
           0,
           0
          ],
          [
           0,
           0
          ],
          [
           0,
           0
          ],
          [
           16.666666666666668,
           16.666666666666668
          ],
          [
           0,
           0
          ],
          [
           0,
           0
          ],
          [
           13.333333333333334,
           13.333333333333334
          ],
          [
           0,
           0
          ],
          [
           36.666666666666664,
           36.666666666666664
          ],
          [
           0,
           0
          ],
          [
           0,
           0
          ],
          [
           13.333333333333334,
           13.333333333333334
          ],
          [
           0,
           0
          ],
          [
           26.666666666666668,
           26.666666666666668
          ],
          [
           0,
           0
          ],
          [
           10,
           10
          ],
          [
           0,
           0
          ]
         ]
        },
        {
         "marker": {
          "color": "rgb(68, 170, 153)"
         },
         "name": "Elytrarennen",
         "type": "bar",
         "x": [
          "Fflopse",
          "cediiiiii_10",
          "Gobo9",
          "PedroZockt",
          "HerrDante",
          "ReichesBrot",
          "_n3d",
          "Ex4cted",
          "yiiq",
          "JOW23",
          "lizsyy",
          "DarkCobweb",
          "camman18YT",
          "2wc",
          "Ninivee",
          "yzvm",
          "Grapfen",
          "Sey__",
          "Umgfoin",
          "KakaMC",
          "miridis41",
          "ffawks",
          "h4nnes",
          "Gerrygames",
          "Davinci_Son",
          "Sower_",
          "TheFabo",
          "2B9",
          "LeWi_100",
          "zBro",
          "unausgesprochen",
          "DieserBear",
          "Schmaarek",
          "GeneralEnte06",
          "lolisamasan",
          "Lubottus",
          "M0osebumps",
          "Freeeedom",
          "Gummibearchen",
          "frutigall"
         ],
         "y": [
          [
           90,
           90
          ],
          [
           0,
           0
          ],
          [
           6.666666666666667,
           6.666666666666667
          ],
          [
           50,
           50
          ],
          [
           0,
           0
          ],
          [
           90,
           90
          ],
          [
           76.66666666666667,
           76.66666666666667
          ],
          [
           0,
           0
          ],
          [
           0,
           0
          ],
          [
           0,
           0
          ],
          [
           0,
           0
          ],
          [
           0,
           0
          ],
          [
           26.666666666666668,
           26.666666666666668
          ],
          [
           0,
           0
          ],
          [
           0,
           0
          ],
          [
           0,
           0
          ],
          [
           0,
           0
          ],
          [
           0,
           0
          ],
          [
           0,
           0
          ],
          [
           0,
           0
          ],
          [
           0,
           0
          ],
          [
           43.333333333333336,
           43.333333333333336
          ],
          [
           0,
           0
          ],
          [
           0,
           0
          ],
          [
           0,
           0
          ],
          [
           0,
           0
          ],
          [
           0,
           0
          ],
          [
           0,
           0
          ],
          [
           0,
           0
          ],
          [
           0,
           0
          ],
          [
           0,
           0
          ],
          [
           0,
           0
          ],
          [
           0,
           0
          ],
          [
           0,
           0
          ],
          [
           0,
           0
          ],
          [
           0,
           0
          ],
          [
           0,
           0
          ],
          [
           40,
           40
          ],
          [
           0,
           0
          ],
          [
           0,
           0
          ]
         ]
        },
        {
         "marker": {
          "color": "rgb(153, 153, 51)"
         },
         "name": "Freier Fall",
         "type": "bar",
         "x": [
          "Fflopse",
          "cediiiiii_10",
          "Gobo9",
          "PedroZockt",
          "HerrDante",
          "ReichesBrot",
          "_n3d",
          "Ex4cted",
          "yiiq",
          "JOW23",
          "lizsyy",
          "DarkCobweb",
          "camman18YT",
          "2wc",
          "Ninivee",
          "yzvm",
          "Grapfen",
          "Sey__",
          "Umgfoin",
          "KakaMC",
          "miridis41",
          "ffawks",
          "h4nnes",
          "Gerrygames",
          "Davinci_Son",
          "Sower_",
          "TheFabo",
          "2B9",
          "LeWi_100",
          "zBro",
          "unausgesprochen",
          "DieserBear",
          "Schmaarek",
          "GeneralEnte06",
          "lolisamasan",
          "Lubottus",
          "M0osebumps",
          "Freeeedom",
          "Gummibearchen",
          "frutigall"
         ],
         "y": [
          [
           45,
           45
          ],
          [
           52.5,
           52.5
          ],
          [
           42.5,
           42.5
          ],
          [
           25,
           25
          ],
          [
           62.5,
           62.5
          ],
          [
           22.5,
           22.5
          ],
          [
           20,
           20
          ],
          [
           25,
           25
          ],
          [
           0,
           0
          ],
          [
           0,
           0
          ],
          [
           0,
           0
          ],
          [
           0,
           0
          ],
          [
           0,
           0
          ],
          [
           42.5,
           42.5
          ],
          [
           17.5,
           17.5
          ],
          [
           0,
           0
          ],
          [
           0,
           0
          ],
          [
           12.5,
           12.5
          ],
          [
           15,
           15
          ],
          [
           0,
           0
          ],
          [
           0,
           0
          ],
          [
           0,
           0
          ],
          [
           0,
           0
          ],
          [
           25,
           25
          ],
          [
           7.5,
           7.5
          ],
          [
           20,
           20
          ],
          [
           20,
           20
          ],
          [
           0,
           0
          ],
          [
           0,
           0
          ],
          [
           10,
           10
          ],
          [
           22.5,
           22.5
          ],
          [
           12.5,
           12.5
          ],
          [
           0,
           0
          ],
          [
           0,
           0
          ],
          [
           0,
           0
          ],
          [
           0,
           0
          ],
          [
           0,
           0
          ],
          [
           0,
           0
          ],
          [
           0,
           0
          ],
          [
           0,
           0
          ]
         ]
        },
        {
         "marker": {
          "color": "rgb(136, 34, 85)"
         },
         "name": "Frostiger Pfad",
         "type": "bar",
         "x": [
          "Fflopse",
          "cediiiiii_10",
          "Gobo9",
          "PedroZockt",
          "HerrDante",
          "ReichesBrot",
          "_n3d",
          "Ex4cted",
          "yiiq",
          "JOW23",
          "lizsyy",
          "DarkCobweb",
          "camman18YT",
          "2wc",
          "Ninivee",
          "yzvm",
          "Grapfen",
          "Sey__",
          "Umgfoin",
          "KakaMC",
          "miridis41",
          "ffawks",
          "h4nnes",
          "Gerrygames",
          "Davinci_Son",
          "Sower_",
          "TheFabo",
          "2B9",
          "LeWi_100",
          "zBro",
          "unausgesprochen",
          "DieserBear",
          "Schmaarek",
          "GeneralEnte06",
          "lolisamasan",
          "Lubottus",
          "M0osebumps",
          "Freeeedom",
          "Gummibearchen",
          "frutigall"
         ],
         "y": [
          [
           70,
           70
          ],
          [
           0,
           0
          ],
          [
           0,
           0
          ],
          [
           20,
           20
          ],
          [
           0,
           0
          ],
          [
           100,
           100
          ],
          [
           60,
           60
          ],
          [
           0,
           0
          ],
          [
           0,
           0
          ],
          [
           0,
           0
          ],
          [
           0,
           0
          ],
          [
           0,
           0
          ],
          [
           0,
           0
          ],
          [
           0,
           0
          ],
          [
           90,
           90
          ],
          [
           0,
           0
          ],
          [
           0,
           0
          ],
          [
           0,
           0
          ],
          [
           0,
           0
          ],
          [
           0,
           0
          ],
          [
           0,
           0
          ],
          [
           0,
           0
          ],
          [
           0,
           0
          ],
          [
           0,
           0
          ],
          [
           0,
           0
          ],
          [
           0,
           0
          ],
          [
           0,
           0
          ],
          [
           0,
           0
          ],
          [
           0,
           0
          ],
          [
           0,
           0
          ],
          [
           0,
           0
          ],
          [
           0,
           0
          ],
          [
           0,
           0
          ],
          [
           0,
           0
          ],
          [
           0,
           0
          ],
          [
           0,
           0
          ],
          [
           0,
           0
          ],
          [
           30,
           30
          ],
          [
           0,
           0
          ],
          [
           0,
           0
          ]
         ]
        },
        {
         "marker": {
          "color": "rgb(102, 17, 0)"
         },
         "name": "Hoch hinaus",
         "type": "bar",
         "x": [
          "Fflopse",
          "cediiiiii_10",
          "Gobo9",
          "PedroZockt",
          "HerrDante",
          "ReichesBrot",
          "_n3d",
          "Ex4cted",
          "yiiq",
          "JOW23",
          "lizsyy",
          "DarkCobweb",
          "camman18YT",
          "2wc",
          "Ninivee",
          "yzvm",
          "Grapfen",
          "Sey__",
          "Umgfoin",
          "KakaMC",
          "miridis41",
          "ffawks",
          "h4nnes",
          "Gerrygames",
          "Davinci_Son",
          "Sower_",
          "TheFabo",
          "2B9",
          "LeWi_100",
          "zBro",
          "unausgesprochen",
          "DieserBear",
          "Schmaarek",
          "GeneralEnte06",
          "lolisamasan",
          "Lubottus",
          "M0osebumps",
          "Freeeedom",
          "Gummibearchen",
          "frutigall"
         ],
         "y": [
          [
           80,
           80
          ],
          [
           30,
           30
          ],
          [
           70,
           70
          ],
          [
           90,
           90
          ],
          [
           0,
           0
          ],
          [
           0,
           0
          ],
          [
           0,
           0
          ],
          [
           50,
           50
          ],
          [
           0,
           0
          ],
          [
           0,
           0
          ],
          [
           0,
           0
          ],
          [
           0,
           0
          ],
          [
           0,
           0
          ],
          [
           0,
           0
          ],
          [
           0,
           0
          ],
          [
           0,
           0
          ],
          [
           0,
           0
          ],
          [
           40,
           40
          ],
          [
           20,
           20
          ],
          [
           0,
           0
          ],
          [
           0,
           0
          ],
          [
           0,
           0
          ],
          [
           0,
           0
          ],
          [
           0,
           0
          ],
          [
           0,
           0
          ],
          [
           0,
           0
          ],
          [
           0,
           0
          ],
          [
           0,
           0
          ],
          [
           0,
           0
          ],
          [
           0,
           0
          ],
          [
           0,
           0
          ],
          [
           0,
           0
          ],
          [
           0,
           0
          ],
          [
           0,
           0
          ],
          [
           0,
           0
          ],
          [
           0,
           0
          ],
          [
           0,
           0
          ],
          [
           0,
           0
          ],
          [
           0,
           0
          ],
          [
           0,
           0
          ]
         ]
        },
        {
         "marker": {
          "color": "rgb(136, 136, 136)"
         },
         "name": "Jump and Run",
         "type": "bar",
         "x": [
          "Fflopse",
          "cediiiiii_10",
          "Gobo9",
          "PedroZockt",
          "HerrDante",
          "ReichesBrot",
          "_n3d",
          "Ex4cted",
          "yiiq",
          "JOW23",
          "lizsyy",
          "DarkCobweb",
          "camman18YT",
          "2wc",
          "Ninivee",
          "yzvm",
          "Grapfen",
          "Sey__",
          "Umgfoin",
          "KakaMC",
          "miridis41",
          "ffawks",
          "h4nnes",
          "Gerrygames",
          "Davinci_Son",
          "Sower_",
          "TheFabo",
          "2B9",
          "LeWi_100",
          "zBro",
          "unausgesprochen",
          "DieserBear",
          "Schmaarek",
          "GeneralEnte06",
          "lolisamasan",
          "Lubottus",
          "M0osebumps",
          "Freeeedom",
          "Gummibearchen",
          "frutigall"
         ],
         "y": [
          [
           56.666666666666664,
           56.666666666666664
          ],
          [
           23.333333333333332,
           23.333333333333332
          ],
          [
           96.66666666666667,
           96.66666666666667
          ],
          [
           20,
           20
          ],
          [
           36.666666666666664,
           36.666666666666664
          ],
          [
           86.66666666666667,
           86.66666666666667
          ],
          [
           0,
           0
          ],
          [
           6.666666666666667,
           6.666666666666667
          ],
          [
           13.333333333333334,
           13.333333333333334
          ],
          [
           10,
           10
          ],
          [
           16.666666666666668,
           16.666666666666668
          ],
          [
           0,
           0
          ],
          [
           36.666666666666664,
           36.666666666666664
          ],
          [
           16.666666666666668,
           16.666666666666668
          ],
          [
           0,
           0
          ],
          [
           0,
           0
          ],
          [
           0,
           0
          ],
          [
           20,
           20
          ],
          [
           0,
           0
          ],
          [
           13.333333333333334,
           13.333333333333334
          ],
          [
           0,
           0
          ],
          [
           0,
           0
          ],
          [
           0,
           0
          ],
          [
           0,
           0
          ],
          [
           0,
           0
          ],
          [
           0,
           0
          ],
          [
           0,
           0
          ],
          [
           0,
           0
          ],
          [
           46.666666666666664,
           46.666666666666664
          ],
          [
           0,
           0
          ],
          [
           0,
           0
          ],
          [
           0,
           0
          ],
          [
           0,
           0
          ],
          [
           0,
           0
          ],
          [
           0,
           0
          ],
          [
           6.666666666666667,
           6.666666666666667
          ],
          [
           0,
           0
          ],
          [
           0,
           0
          ],
          [
           0,
           0
          ],
          [
           0,
           0
          ]
         ]
        },
        {
         "marker": {
          "color": "rgb(136, 204, 238)"
         },
         "name": "Kletter-König",
         "type": "bar",
         "x": [
          "Fflopse",
          "cediiiiii_10",
          "Gobo9",
          "PedroZockt",
          "HerrDante",
          "ReichesBrot",
          "_n3d",
          "Ex4cted",
          "yiiq",
          "JOW23",
          "lizsyy",
          "DarkCobweb",
          "camman18YT",
          "2wc",
          "Ninivee",
          "yzvm",
          "Grapfen",
          "Sey__",
          "Umgfoin",
          "KakaMC",
          "miridis41",
          "ffawks",
          "h4nnes",
          "Gerrygames",
          "Davinci_Son",
          "Sower_",
          "TheFabo",
          "2B9",
          "LeWi_100",
          "zBro",
          "unausgesprochen",
          "DieserBear",
          "Schmaarek",
          "GeneralEnte06",
          "lolisamasan",
          "Lubottus",
          "M0osebumps",
          "Freeeedom",
          "Gummibearchen",
          "frutigall"
         ],
         "y": [
          [
           95,
           95
          ],
          [
           0,
           0
          ],
          [
           30,
           30
          ],
          [
           25,
           25
          ],
          [
           25,
           25
          ],
          [
           50,
           50
          ],
          [
           0,
           0
          ],
          [
           0,
           0
          ],
          [
           40,
           40
          ],
          [
           0,
           0
          ],
          [
           0,
           0
          ],
          [
           0,
           0
          ],
          [
           50,
           50
          ],
          [
           0,
           0
          ],
          [
           0,
           0
          ],
          [
           25,
           25
          ],
          [
           0,
           0
          ],
          [
           0,
           0
          ],
          [
           0,
           0
          ],
          [
           0,
           0
          ],
          [
           0,
           0
          ],
          [
           20,
           20
          ],
          [
           0,
           0
          ],
          [
           0,
           0
          ],
          [
           0,
           0
          ],
          [
           0,
           0
          ],
          [
           0,
           0
          ],
          [
           0,
           0
          ],
          [
           40,
           40
          ],
          [
           0,
           0
          ],
          [
           0,
           0
          ],
          [
           0,
           0
          ],
          [
           0,
           0
          ],
          [
           0,
           0
          ],
          [
           0,
           0
          ],
          [
           55,
           55
          ],
          [
           0,
           0
          ],
          [
           0,
           0
          ],
          [
           0,
           0
          ],
          [
           0,
           0
          ]
         ]
        },
        {
         "marker": {
          "color": "rgb(204, 102, 119)"
         },
         "name": "Lasertag",
         "type": "bar",
         "x": [
          "Fflopse",
          "cediiiiii_10",
          "Gobo9",
          "PedroZockt",
          "HerrDante",
          "ReichesBrot",
          "_n3d",
          "Ex4cted",
          "yiiq",
          "JOW23",
          "lizsyy",
          "DarkCobweb",
          "camman18YT",
          "2wc",
          "Ninivee",
          "yzvm",
          "Grapfen",
          "Sey__",
          "Umgfoin",
          "KakaMC",
          "miridis41",
          "ffawks",
          "h4nnes",
          "Gerrygames",
          "Davinci_Son",
          "Sower_",
          "TheFabo",
          "2B9",
          "LeWi_100",
          "zBro",
          "unausgesprochen",
          "DieserBear",
          "Schmaarek",
          "GeneralEnte06",
          "lolisamasan",
          "Lubottus",
          "M0osebumps",
          "Freeeedom",
          "Gummibearchen",
          "frutigall"
         ],
         "y": [
          [
           86.66666666666667,
           86.66666666666667
          ],
          [
           0,
           0
          ],
          [
           13.333333333333334,
           13.333333333333334
          ],
          [
           36.666666666666664,
           36.666666666666664
          ],
          [
           86.66666666666667,
           86.66666666666667
          ],
          [
           0,
           0
          ],
          [
           0,
           0
          ],
          [
           30,
           30
          ],
          [
           0,
           0
          ],
          [
           53.333333333333336,
           53.333333333333336
          ],
          [
           0,
           0
          ],
          [
           0,
           0
          ],
          [
           0,
           0
          ],
          [
           23.333333333333332,
           23.333333333333332
          ],
          [
           0,
           0
          ],
          [
           0,
           0
          ],
          [
           16.666666666666668,
           16.666666666666668
          ],
          [
           0,
           0
          ],
          [
           0,
           0
          ],
          [
           0,
           0
          ],
          [
           0,
           0
          ],
          [
           26.666666666666668,
           26.666666666666668
          ],
          [
           20,
           20
          ],
          [
           0,
           0
          ],
          [
           13.333333333333334,
           13.333333333333334
          ],
          [
           0,
           0
          ],
          [
           46.666666666666664,
           46.666666666666664
          ],
          [
           0,
           0
          ],
          [
           0,
           0
          ],
          [
           10,
           10
          ],
          [
           36.666666666666664,
           36.666666666666664
          ],
          [
           0,
           0
          ],
          [
           0,
           0
          ],
          [
           0,
           0
          ],
          [
           23.333333333333332,
           23.333333333333332
          ],
          [
           0,
           0
          ],
          [
           0,
           0
          ],
          [
           0,
           0
          ],
          [
           0,
           0
          ],
          [
           16.666666666666668,
           16.666666666666668
          ]
         ]
        },
        {
         "marker": {
          "color": "rgb(221, 204, 119)"
         },
         "name": "Minenfeld",
         "type": "bar",
         "x": [
          "Fflopse",
          "cediiiiii_10",
          "Gobo9",
          "PedroZockt",
          "HerrDante",
          "ReichesBrot",
          "_n3d",
          "Ex4cted",
          "yiiq",
          "JOW23",
          "lizsyy",
          "DarkCobweb",
          "camman18YT",
          "2wc",
          "Ninivee",
          "yzvm",
          "Grapfen",
          "Sey__",
          "Umgfoin",
          "KakaMC",
          "miridis41",
          "ffawks",
          "h4nnes",
          "Gerrygames",
          "Davinci_Son",
          "Sower_",
          "TheFabo",
          "2B9",
          "LeWi_100",
          "zBro",
          "unausgesprochen",
          "DieserBear",
          "Schmaarek",
          "GeneralEnte06",
          "lolisamasan",
          "Lubottus",
          "M0osebumps",
          "Freeeedom",
          "Gummibearchen",
          "frutigall"
         ],
         "y": [
          [
           33.333333333333336,
           33.333333333333336
          ],
          [
           16.666666666666668,
           16.666666666666668
          ],
          [
           0,
           0
          ],
          [
           6.666666666666667,
           6.666666666666667
          ],
          [
           46.666666666666664,
           46.666666666666664
          ],
          [
           30,
           30
          ],
          [
           13.333333333333334,
           13.333333333333334
          ],
          [
           10,
           10
          ],
          [
           0,
           0
          ],
          [
           13.333333333333334,
           13.333333333333334
          ],
          [
           0,
           0
          ],
          [
           0,
           0
          ],
          [
           0,
           0
          ],
          [
           10,
           10
          ],
          [
           26.666666666666668,
           26.666666666666668
          ],
          [
           0,
           0
          ],
          [
           0,
           0
          ],
          [
           40,
           40
          ],
          [
           0,
           0
          ],
          [
           0,
           0
          ],
          [
           0,
           0
          ],
          [
           0,
           0
          ],
          [
           0,
           0
          ],
          [
           0,
           0
          ],
          [
           6.666666666666667,
           6.666666666666667
          ],
          [
           0,
           0
          ],
          [
           0,
           0
          ],
          [
           23.333333333333332,
           23.333333333333332
          ],
          [
           26.666666666666668,
           26.666666666666668
          ],
          [
           60,
           60
          ],
          [
           0,
           0
          ],
          [
           0,
           0
          ],
          [
           0,
           0
          ],
          [
           0,
           0
          ],
          [
           0,
           0
          ],
          [
           0,
           0
          ],
          [
           0,
           0
          ],
          [
           0,
           0
          ],
          [
           0,
           0
          ],
          [
           6.666666666666667,
           6.666666666666667
          ]
         ]
        },
        {
         "marker": {
          "color": "rgb(17, 119, 51)"
         },
         "name": "Minengefecht",
         "type": "bar",
         "x": [
          "Fflopse",
          "cediiiiii_10",
          "Gobo9",
          "PedroZockt",
          "HerrDante",
          "ReichesBrot",
          "_n3d",
          "Ex4cted",
          "yiiq",
          "JOW23",
          "lizsyy",
          "DarkCobweb",
          "camman18YT",
          "2wc",
          "Ninivee",
          "yzvm",
          "Grapfen",
          "Sey__",
          "Umgfoin",
          "KakaMC",
          "miridis41",
          "ffawks",
          "h4nnes",
          "Gerrygames",
          "Davinci_Son",
          "Sower_",
          "TheFabo",
          "2B9",
          "LeWi_100",
          "zBro",
          "unausgesprochen",
          "DieserBear",
          "Schmaarek",
          "GeneralEnte06",
          "lolisamasan",
          "Lubottus",
          "M0osebumps",
          "Freeeedom",
          "Gummibearchen",
          "frutigall"
         ],
         "y": [
          [
           20,
           20
          ],
          [
           100,
           100
          ],
          [
           16.666666666666668,
           16.666666666666668
          ],
          [
           0,
           0
          ],
          [
           16.666666666666668,
           16.666666666666668
          ],
          [
           20,
           20
          ],
          [
           33.333333333333336,
           33.333333333333336
          ],
          [
           0,
           0
          ],
          [
           66.66666666666667,
           66.66666666666667
          ],
          [
           26.666666666666668,
           26.666666666666668
          ],
          [
           0,
           0
          ],
          [
           83.33333333333333,
           83.33333333333333
          ],
          [
           0,
           0
          ],
          [
           30,
           30
          ],
          [
           0,
           0
          ],
          [
           50,
           50
          ],
          [
           20,
           20
          ],
          [
           0,
           0
          ],
          [
           0,
           0
          ],
          [
           0,
           0
          ],
          [
           0,
           0
          ],
          [
           16.666666666666668,
           16.666666666666668
          ],
          [
           0,
           0
          ],
          [
           0,
           0
          ],
          [
           30,
           30
          ],
          [
           0,
           0
          ],
          [
           0,
           0
          ],
          [
           0,
           0
          ],
          [
           0,
           0
          ],
          [
           0,
           0
          ],
          [
           0,
           0
          ],
          [
           0,
           0
          ],
          [
           26.666666666666668,
           26.666666666666668
          ],
          [
           16.666666666666668,
           16.666666666666668
          ],
          [
           0,
           0
          ],
          [
           0,
           0
          ],
          [
           0,
           0
          ],
          [
           16.666666666666668,
           16.666666666666668
          ],
          [
           16.666666666666668,
           16.666666666666668
          ],
          [
           0,
           0
          ]
         ]
        },
        {
         "marker": {
          "color": "rgb(51, 34, 136)"
         },
         "name": "Mini Skywars",
         "type": "bar",
         "x": [
          "Fflopse",
          "cediiiiii_10",
          "Gobo9",
          "PedroZockt",
          "HerrDante",
          "ReichesBrot",
          "_n3d",
          "Ex4cted",
          "yiiq",
          "JOW23",
          "lizsyy",
          "DarkCobweb",
          "camman18YT",
          "2wc",
          "Ninivee",
          "yzvm",
          "Grapfen",
          "Sey__",
          "Umgfoin",
          "KakaMC",
          "miridis41",
          "ffawks",
          "h4nnes",
          "Gerrygames",
          "Davinci_Son",
          "Sower_",
          "TheFabo",
          "2B9",
          "LeWi_100",
          "zBro",
          "unausgesprochen",
          "DieserBear",
          "Schmaarek",
          "GeneralEnte06",
          "lolisamasan",
          "Lubottus",
          "M0osebumps",
          "Freeeedom",
          "Gummibearchen",
          "frutigall"
         ],
         "y": [
          [
           25,
           25
          ],
          [
           45,
           45
          ],
          [
           38.333333333333336,
           38.333333333333336
          ],
          [
           11.666666666666666,
           11.666666666666666
          ],
          [
           0,
           0
          ],
          [
           0,
           0
          ],
          [
           26.666666666666668,
           26.666666666666668
          ],
          [
           11.666666666666666,
           11.666666666666666
          ],
          [
           15,
           15
          ],
          [
           20,
           20
          ],
          [
           3.3333333333333335,
           3.3333333333333335
          ],
          [
           31.666666666666668,
           31.666666666666668
          ],
          [
           15,
           15
          ],
          [
           31.666666666666668,
           31.666666666666668
          ],
          [
           11.666666666666666,
           11.666666666666666
          ],
          [
           0,
           0
          ],
          [
           28.333333333333332,
           28.333333333333332
          ],
          [
           0,
           0
          ],
          [
           3.3333333333333335,
           3.3333333333333335
          ],
          [
           16.666666666666668,
           16.666666666666668
          ],
          [
           0,
           0
          ],
          [
           0,
           0
          ],
          [
           3.3333333333333335,
           3.3333333333333335
          ],
          [
           10,
           10
          ],
          [
           0,
           0
          ],
          [
           0,
           0
          ],
          [
           0,
           0
          ],
          [
           3.3333333333333335,
           3.3333333333333335
          ],
          [
           0,
           0
          ],
          [
           13.333333333333334,
           13.333333333333334
          ],
          [
           13.333333333333334,
           13.333333333333334
          ],
          [
           0,
           0
          ],
          [
           11.666666666666666,
           11.666666666666666
          ],
          [
           0,
           0
          ],
          [
           11.666666666666666,
           11.666666666666666
          ],
          [
           0,
           0
          ],
          [
           20,
           20
          ],
          [
           21.666666666666668,
           21.666666666666668
          ],
          [
           8.333333333333334,
           8.333333333333334
          ],
          [
           0,
           0
          ]
         ]
        },
        {
         "marker": {
          "color": "rgb(170, 68, 153)"
         },
         "name": "Mini Survivalgames",
         "type": "bar",
         "x": [
          "Fflopse",
          "cediiiiii_10",
          "Gobo9",
          "PedroZockt",
          "HerrDante",
          "ReichesBrot",
          "_n3d",
          "Ex4cted",
          "yiiq",
          "JOW23",
          "lizsyy",
          "DarkCobweb",
          "camman18YT",
          "2wc",
          "Ninivee",
          "yzvm",
          "Grapfen",
          "Sey__",
          "Umgfoin",
          "KakaMC",
          "miridis41",
          "ffawks",
          "h4nnes",
          "Gerrygames",
          "Davinci_Son",
          "Sower_",
          "TheFabo",
          "2B9",
          "LeWi_100",
          "zBro",
          "unausgesprochen",
          "DieserBear",
          "Schmaarek",
          "GeneralEnte06",
          "lolisamasan",
          "Lubottus",
          "M0osebumps",
          "Freeeedom",
          "Gummibearchen",
          "frutigall"
         ],
         "y": [
          [
           10,
           10
          ],
          [
           43.333333333333336,
           43.333333333333336
          ],
          [
           63.333333333333336,
           63.333333333333336
          ],
          [
           0,
           0
          ],
          [
           16.666666666666668,
           16.666666666666668
          ],
          [
           33.333333333333336,
           33.333333333333336
          ],
          [
           0,
           0
          ],
          [
           0,
           0
          ],
          [
           0,
           0
          ],
          [
           0,
           0
          ],
          [
           0,
           0
          ],
          [
           26.666666666666668,
           26.666666666666668
          ],
          [
           90,
           90
          ],
          [
           26.666666666666668,
           26.666666666666668
          ],
          [
           46.666666666666664,
           46.666666666666664
          ],
          [
           0,
           0
          ],
          [
           26.666666666666668,
           26.666666666666668
          ],
          [
           0,
           0
          ],
          [
           10,
           10
          ],
          [
           0,
           0
          ],
          [
           40,
           40
          ],
          [
           0,
           0
          ],
          [
           10,
           10
          ],
          [
           0,
           0
          ],
          [
           26.666666666666668,
           26.666666666666668
          ],
          [
           0,
           0
          ],
          [
           0,
           0
          ],
          [
           33.333333333333336,
           33.333333333333336
          ],
          [
           0,
           0
          ],
          [
           16.666666666666668,
           16.666666666666668
          ],
          [
           0,
           0
          ],
          [
           16.666666666666668,
           16.666666666666668
          ],
          [
           10,
           10
          ],
          [
           30,
           30
          ],
          [
           0,
           0
          ],
          [
           0,
           0
          ],
          [
           0,
           0
          ],
          [
           0,
           0
          ],
          [
           0,
           0
          ],
          [
           0,
           0
          ]
         ]
        },
        {
         "marker": {
          "color": "rgb(68, 170, 153)"
         },
         "name": "Paintball",
         "type": "bar",
         "x": [
          "Fflopse",
          "cediiiiii_10",
          "Gobo9",
          "PedroZockt",
          "HerrDante",
          "ReichesBrot",
          "_n3d",
          "Ex4cted",
          "yiiq",
          "JOW23",
          "lizsyy",
          "DarkCobweb",
          "camman18YT",
          "2wc",
          "Ninivee",
          "yzvm",
          "Grapfen",
          "Sey__",
          "Umgfoin",
          "KakaMC",
          "miridis41",
          "ffawks",
          "h4nnes",
          "Gerrygames",
          "Davinci_Son",
          "Sower_",
          "TheFabo",
          "2B9",
          "LeWi_100",
          "zBro",
          "unausgesprochen",
          "DieserBear",
          "Schmaarek",
          "GeneralEnte06",
          "lolisamasan",
          "Lubottus",
          "M0osebumps",
          "Freeeedom",
          "Gummibearchen",
          "frutigall"
         ],
         "y": [
          [
           76.66666666666667,
           76.66666666666667
          ],
          [
           10,
           10
          ],
          [
           0,
           0
          ],
          [
           60,
           60
          ],
          [
           53.333333333333336,
           53.333333333333336
          ],
          [
           30,
           30
          ],
          [
           20,
           20
          ],
          [
           0,
           0
          ],
          [
           33.333333333333336,
           33.333333333333336
          ],
          [
           0,
           0
          ],
          [
           0,
           0
          ],
          [
           20,
           20
          ],
          [
           0,
           0
          ],
          [
           33.333333333333336,
           33.333333333333336
          ],
          [
           0,
           0
          ],
          [
           26.666666666666668,
           26.666666666666668
          ],
          [
           33.333333333333336,
           33.333333333333336
          ],
          [
           0,
           0
          ],
          [
           0,
           0
          ],
          [
           0,
           0
          ],
          [
           26.666666666666668,
           26.666666666666668
          ],
          [
           0,
           0
          ],
          [
           36.666666666666664,
           36.666666666666664
          ],
          [
           0,
           0
          ],
          [
           0,
           0
          ],
          [
           0,
           0
          ],
          [
           0,
           0
          ],
          [
           0,
           0
          ],
          [
           0,
           0
          ],
          [
           0,
           0
          ],
          [
           0,
           0
          ],
          [
           0,
           0
          ],
          [
           0,
           0
          ],
          [
           0,
           0
          ],
          [
           20,
           20
          ],
          [
           0,
           0
          ],
          [
           0,
           0
          ],
          [
           0,
           0
          ],
          [
           33.333333333333336,
           33.333333333333336
          ],
          [
           0,
           0
          ]
         ]
        },
        {
         "marker": {
          "color": "rgb(153, 153, 51)"
         },
         "name": "Pferderennen",
         "type": "bar",
         "x": [
          "Fflopse",
          "cediiiiii_10",
          "Gobo9",
          "PedroZockt",
          "HerrDante",
          "ReichesBrot",
          "_n3d",
          "Ex4cted",
          "yiiq",
          "JOW23",
          "lizsyy",
          "DarkCobweb",
          "camman18YT",
          "2wc",
          "Ninivee",
          "yzvm",
          "Grapfen",
          "Sey__",
          "Umgfoin",
          "KakaMC",
          "miridis41",
          "ffawks",
          "h4nnes",
          "Gerrygames",
          "Davinci_Son",
          "Sower_",
          "TheFabo",
          "2B9",
          "LeWi_100",
          "zBro",
          "unausgesprochen",
          "DieserBear",
          "Schmaarek",
          "GeneralEnte06",
          "lolisamasan",
          "Lubottus",
          "M0osebumps",
          "Freeeedom",
          "Gummibearchen",
          "frutigall"
         ],
         "y": [
          [
           91.66666666666667,
           91.66666666666667
          ],
          [
           75,
           75
          ],
          [
           65,
           65
          ],
          [
           45,
           45
          ],
          [
           6.666666666666667,
           6.666666666666667
          ],
          [
           10,
           10
          ],
          [
           3.3333333333333335,
           3.3333333333333335
          ],
          [
           0,
           0
          ],
          [
           46.666666666666664,
           46.666666666666664
          ],
          [
           0,
           0
          ],
          [
           35,
           35
          ],
          [
           0,
           0
          ],
          [
           0,
           0
          ],
          [
           0,
           0
          ],
          [
           0,
           0
          ],
          [
           13.333333333333334,
           13.333333333333334
          ],
          [
           0,
           0
          ],
          [
           3.3333333333333335,
           3.3333333333333335
          ],
          [
           8.333333333333334,
           8.333333333333334
          ],
          [
           0,
           0
          ],
          [
           0,
           0
          ],
          [
           50,
           50
          ],
          [
           0,
           0
          ],
          [
           0,
           0
          ],
          [
           0,
           0
          ],
          [
           0,
           0
          ],
          [
           0,
           0
          ],
          [
           0,
           0
          ],
          [
           20,
           20
          ],
          [
           0,
           0
          ],
          [
           0,
           0
          ],
          [
           0,
           0
          ],
          [
           23.333333333333332,
           23.333333333333332
          ],
          [
           21.666666666666668,
           21.666666666666668
          ],
          [
           0,
           0
          ],
          [
           0,
           0
          ],
          [
           0,
           0
          ],
          [
           16.666666666666668,
           16.666666666666668
          ],
          [
           0,
           0
          ],
          [
           0,
           0
          ]
         ]
        },
        {
         "marker": {
          "color": "rgb(136, 34, 85)"
         },
         "name": "Replika",
         "type": "bar",
         "x": [
          "Fflopse",
          "cediiiiii_10",
          "Gobo9",
          "PedroZockt",
          "HerrDante",
          "ReichesBrot",
          "_n3d",
          "Ex4cted",
          "yiiq",
          "JOW23",
          "lizsyy",
          "DarkCobweb",
          "camman18YT",
          "2wc",
          "Ninivee",
          "yzvm",
          "Grapfen",
          "Sey__",
          "Umgfoin",
          "KakaMC",
          "miridis41",
          "ffawks",
          "h4nnes",
          "Gerrygames",
          "Davinci_Son",
          "Sower_",
          "TheFabo",
          "2B9",
          "LeWi_100",
          "zBro",
          "unausgesprochen",
          "DieserBear",
          "Schmaarek",
          "GeneralEnte06",
          "lolisamasan",
          "Lubottus",
          "M0osebumps",
          "Freeeedom",
          "Gummibearchen",
          "frutigall"
         ],
         "y": [
          [
           56.407766990291265,
           56.407766990291265
          ],
          [
           54.95145631067961,
           54.95145631067961
          ],
          [
           90.87378640776699,
           90.87378640776699
          ],
          [
           60.970873786407765,
           60.970873786407765
          ],
          [
           10.87378640776699,
           10.87378640776699
          ],
          [
           7.669902912621359,
           7.669902912621359
          ],
          [
           7.669902912621359,
           7.669902912621359
          ],
          [
           48.44660194174757,
           48.44660194174757
          ],
          [
           30.194174757281555,
           30.194174757281555
          ],
          [
           5.631067961165049,
           5.631067961165049
          ],
          [
           22.33009708737864,
           22.33009708737864
          ],
          [
           4.951456310679611,
           4.951456310679611
          ],
          [
           8.058252427184467,
           8.058252427184467
          ],
          [
           7.669902912621359,
           7.669902912621359
          ],
          [
           2.912621359223301,
           2.912621359223301
          ],
          [
           3.1067961165048543,
           3.1067961165048543
          ],
          [
           4.854368932038835,
           4.854368932038835
          ],
          [
           3.1067961165048543,
           3.1067961165048543
          ],
          [
           2.912621359223301,
           2.912621359223301
          ],
          [
           36.79611650485437,
           36.79611650485437
          ],
          [
           4.077669902912621,
           4.077669902912621
          ],
          [
           15.825242718446601,
           15.825242718446601
          ],
          [
           2.912621359223301,
           2.912621359223301
          ],
          [
           16.699029126213592,
           16.699029126213592
          ],
          [
           5.339805825242719,
           5.339805825242719
          ],
          [
           5.048543689320389,
           5.048543689320389
          ],
          [
           16.893203883495147,
           16.893203883495147
          ],
          [
           5.048543689320389,
           5.048543689320389
          ],
          [
           3.1067961165048543,
           3.1067961165048543
          ],
          [
           3.6893203883495147,
           3.6893203883495147
          ],
          [
           4.271844660194175,
           4.271844660194175
          ],
          [
           10.097087378640778,
           10.097087378640778
          ],
          [
           2.912621359223301,
           2.912621359223301
          ],
          [
           3.3009708737864076,
           3.3009708737864076
          ],
          [
           3.1067961165048543,
           3.1067961165048543
          ],
          [
           6.213592233009709,
           6.213592233009709
          ],
          [
           8.54368932038835,
           8.54368932038835
          ],
          [
           3.1067961165048543,
           3.1067961165048543
          ],
          [
           4.854368932038835,
           4.854368932038835
          ],
          [
           2.912621359223301,
           2.912621359223301
          ]
         ]
        },
        {
         "marker": {
          "color": "rgb(102, 17, 0)"
         },
         "name": "Sammelwahn",
         "type": "bar",
         "x": [
          "Fflopse",
          "cediiiiii_10",
          "Gobo9",
          "PedroZockt",
          "HerrDante",
          "ReichesBrot",
          "_n3d",
          "Ex4cted",
          "yiiq",
          "JOW23",
          "lizsyy",
          "DarkCobweb",
          "camman18YT",
          "2wc",
          "Ninivee",
          "yzvm",
          "Grapfen",
          "Sey__",
          "Umgfoin",
          "KakaMC",
          "miridis41",
          "ffawks",
          "h4nnes",
          "Gerrygames",
          "Davinci_Son",
          "Sower_",
          "TheFabo",
          "2B9",
          "LeWi_100",
          "zBro",
          "unausgesprochen",
          "DieserBear",
          "Schmaarek",
          "GeneralEnte06",
          "lolisamasan",
          "Lubottus",
          "M0osebumps",
          "Freeeedom",
          "Gummibearchen",
          "frutigall"
         ],
         "y": [
          [
           20.5,
           20.5
          ],
          [
           35.5,
           35.5
          ],
          [
           28.25,
           28.25
          ],
          [
           16.75,
           16.75
          ],
          [
           10.25,
           10.25
          ],
          [
           3.5,
           3.5
          ],
          [
           4.5,
           4.5
          ],
          [
           17,
           17
          ],
          [
           0,
           0
          ],
          [
           4.25,
           4.25
          ],
          [
           5,
           5
          ],
          [
           6.75,
           6.75
          ],
          [
           6,
           6
          ],
          [
           0,
           0
          ],
          [
           2.25,
           2.25
          ],
          [
           4.75,
           4.75
          ],
          [
           16,
           16
          ],
          [
           8.5,
           8.5
          ],
          [
           5,
           5
          ],
          [
           10.75,
           10.75
          ],
          [
           7,
           7
          ],
          [
           2.75,
           2.75
          ],
          [
           4.75,
           4.75
          ],
          [
           31.5,
           31.5
          ],
          [
           3.25,
           3.25
          ],
          [
           21.75,
           21.75
          ],
          [
           17.5,
           17.5
          ],
          [
           2.5,
           2.5
          ],
          [
           0,
           0
          ],
          [
           3.5,
           3.5
          ],
          [
           3.25,
           3.25
          ],
          [
           20.75,
           20.75
          ],
          [
           10,
           10
          ],
          [
           10.5,
           10.5
          ],
          [
           1,
           1
          ],
          [
           10.25,
           10.25
          ],
          [
           3.5,
           3.5
          ],
          [
           0,
           0
          ],
          [
           0,
           0
          ],
          [
           0.5,
           0.5
          ]
         ]
        },
        {
         "marker": {
          "color": "rgb(136, 136, 136)"
         },
         "name": "Schießstand",
         "type": "bar",
         "x": [
          "Fflopse",
          "cediiiiii_10",
          "Gobo9",
          "PedroZockt",
          "HerrDante",
          "ReichesBrot",
          "_n3d",
          "Ex4cted",
          "yiiq",
          "JOW23",
          "lizsyy",
          "DarkCobweb",
          "camman18YT",
          "2wc",
          "Ninivee",
          "yzvm",
          "Grapfen",
          "Sey__",
          "Umgfoin",
          "KakaMC",
          "miridis41",
          "ffawks",
          "h4nnes",
          "Gerrygames",
          "Davinci_Son",
          "Sower_",
          "TheFabo",
          "2B9",
          "LeWi_100",
          "zBro",
          "unausgesprochen",
          "DieserBear",
          "Schmaarek",
          "GeneralEnte06",
          "lolisamasan",
          "Lubottus",
          "M0osebumps",
          "Freeeedom",
          "Gummibearchen",
          "frutigall"
         ],
         "y": [
          [
           67.5,
           67.5
          ],
          [
           32.5,
           32.5
          ],
          [
           25,
           25
          ],
          [
           0,
           0
          ],
          [
           55,
           55
          ],
          [
           0,
           0
          ],
          [
           20,
           20
          ],
          [
           67.5,
           67.5
          ],
          [
           0,
           0
          ],
          [
           12.5,
           12.5
          ],
          [
           32.5,
           32.5
          ],
          [
           0,
           0
          ],
          [
           0,
           0
          ],
          [
           0,
           0
          ],
          [
           0,
           0
          ],
          [
           0,
           0
          ],
          [
           0,
           0
          ],
          [
           0,
           0
          ],
          [
           0,
           0
          ],
          [
           0,
           0
          ],
          [
           0,
           0
          ],
          [
           27.5,
           27.5
          ],
          [
           7.5,
           7.5
          ],
          [
           0,
           0
          ],
          [
           22.5,
           22.5
          ],
          [
           0,
           0
          ],
          [
           0,
           0
          ],
          [
           0,
           0
          ],
          [
           0,
           0
          ],
          [
           0,
           0
          ],
          [
           22.5,
           22.5
          ],
          [
           22.5,
           22.5
          ],
          [
           0,
           0
          ],
          [
           0,
           0
          ],
          [
           0,
           0
          ],
          [
           0,
           0
          ],
          [
           0,
           0
          ],
          [
           0,
           0
          ],
          [
           0,
           0
          ],
          [
           0,
           0
          ]
         ]
        },
        {
         "marker": {
          "color": "rgb(136, 204, 238)"
         },
         "name": "Spleef",
         "type": "bar",
         "x": [
          "Fflopse",
          "cediiiiii_10",
          "Gobo9",
          "PedroZockt",
          "HerrDante",
          "ReichesBrot",
          "_n3d",
          "Ex4cted",
          "yiiq",
          "JOW23",
          "lizsyy",
          "DarkCobweb",
          "camman18YT",
          "2wc",
          "Ninivee",
          "yzvm",
          "Grapfen",
          "Sey__",
          "Umgfoin",
          "KakaMC",
          "miridis41",
          "ffawks",
          "h4nnes",
          "Gerrygames",
          "Davinci_Son",
          "Sower_",
          "TheFabo",
          "2B9",
          "LeWi_100",
          "zBro",
          "unausgesprochen",
          "DieserBear",
          "Schmaarek",
          "GeneralEnte06",
          "lolisamasan",
          "Lubottus",
          "M0osebumps",
          "Freeeedom",
          "Gummibearchen",
          "frutigall"
         ],
         "y": [
          [
           75,
           75
          ],
          [
           90,
           90
          ],
          [
           75,
           75
          ],
          [
           50,
           50
          ],
          [
           30,
           30
          ],
          [
           0,
           0
          ],
          [
           45,
           45
          ],
          [
           30,
           30
          ],
          [
           30,
           30
          ],
          [
           45,
           45
          ],
          [
           45,
           45
          ],
          [
           30,
           30
          ],
          [
           0,
           0
          ],
          [
           0,
           0
          ],
          [
           0,
           0
          ],
          [
           0,
           0
          ],
          [
           30,
           30
          ],
          [
           0,
           0
          ],
          [
           80,
           80
          ],
          [
           0,
           0
          ],
          [
           0,
           0
          ],
          [
           0,
           0
          ],
          [
           0,
           0
          ],
          [
           0,
           0
          ],
          [
           45,
           45
          ],
          [
           0,
           0
          ],
          [
           0,
           0
          ],
          [
           0,
           0
          ],
          [
           0,
           0
          ],
          [
           0,
           0
          ],
          [
           0,
           0
          ],
          [
           30,
           30
          ],
          [
           0,
           0
          ],
          [
           0,
           0
          ],
          [
           0,
           0
          ],
          [
           0,
           0
          ],
          [
           30,
           30
          ],
          [
           0,
           0
          ],
          [
           0,
           0
          ],
          [
           75,
           75
          ]
         ]
        },
        {
         "marker": {
          "color": "rgb(204, 102, 119)"
         },
         "name": "Todeswürfel",
         "type": "bar",
         "x": [
          "Fflopse",
          "cediiiiii_10",
          "Gobo9",
          "PedroZockt",
          "HerrDante",
          "ReichesBrot",
          "_n3d",
          "Ex4cted",
          "yiiq",
          "JOW23",
          "lizsyy",
          "DarkCobweb",
          "camman18YT",
          "2wc",
          "Ninivee",
          "yzvm",
          "Grapfen",
          "Sey__",
          "Umgfoin",
          "KakaMC",
          "miridis41",
          "ffawks",
          "h4nnes",
          "Gerrygames",
          "Davinci_Son",
          "Sower_",
          "TheFabo",
          "2B9",
          "LeWi_100",
          "zBro",
          "unausgesprochen",
          "DieserBear",
          "Schmaarek",
          "GeneralEnte06",
          "lolisamasan",
          "Lubottus",
          "M0osebumps",
          "Freeeedom",
          "Gummibearchen",
          "frutigall"
         ],
         "y": [
          [
           0,
           0
          ],
          [
           20,
           20
          ],
          [
           0,
           0
          ],
          [
           60,
           60
          ],
          [
           90,
           90
          ],
          [
           0,
           0
          ],
          [
           0,
           0
          ],
          [
           0,
           0
          ],
          [
           0,
           0
          ],
          [
           0,
           0
          ],
          [
           0,
           0
          ],
          [
           0,
           0
          ],
          [
           50,
           50
          ],
          [
           0,
           0
          ],
          [
           0,
           0
          ],
          [
           0,
           0
          ],
          [
           0,
           0
          ],
          [
           0,
           0
          ],
          [
           0,
           0
          ],
          [
           40,
           40
          ],
          [
           0,
           0
          ],
          [
           0,
           0
          ],
          [
           0,
           0
          ],
          [
           80,
           80
          ],
          [
           0,
           0
          ],
          [
           100,
           100
          ],
          [
           0,
           0
          ],
          [
           0,
           0
          ],
          [
           0,
           0
          ],
          [
           0,
           0
          ],
          [
           0,
           0
          ],
          [
           0,
           0
          ],
          [
           0,
           0
          ],
          [
           0,
           0
          ],
          [
           70,
           70
          ],
          [
           0,
           0
          ],
          [
           30,
           30
          ],
          [
           0,
           0
          ],
          [
           0,
           0
          ],
          [
           0,
           0
          ]
         ]
        },
        {
         "marker": {
          "color": "rgb(221, 204, 119)"
         },
         "name": "Waffenfolge",
         "type": "bar",
         "x": [
          "Fflopse",
          "cediiiiii_10",
          "Gobo9",
          "PedroZockt",
          "HerrDante",
          "ReichesBrot",
          "_n3d",
          "Ex4cted",
          "yiiq",
          "JOW23",
          "lizsyy",
          "DarkCobweb",
          "camman18YT",
          "2wc",
          "Ninivee",
          "yzvm",
          "Grapfen",
          "Sey__",
          "Umgfoin",
          "KakaMC",
          "miridis41",
          "ffawks",
          "h4nnes",
          "Gerrygames",
          "Davinci_Son",
          "Sower_",
          "TheFabo",
          "2B9",
          "LeWi_100",
          "zBro",
          "unausgesprochen",
          "DieserBear",
          "Schmaarek",
          "GeneralEnte06",
          "lolisamasan",
          "Lubottus",
          "M0osebumps",
          "Freeeedom",
          "Gummibearchen",
          "frutigall"
         ],
         "y": [
          [
           50,
           50
          ],
          [
           80,
           80
          ],
          [
           0,
           0
          ],
          [
           70,
           70
          ],
          [
           0,
           0
          ],
          [
           0,
           0
          ],
          [
           0,
           0
          ],
          [
           0,
           0
          ],
          [
           0,
           0
          ],
          [
           100,
           100
          ],
          [
           0,
           0
          ],
          [
           0,
           0
          ],
          [
           0,
           0
          ],
          [
           0,
           0
          ],
          [
           0,
           0
          ],
          [
           90,
           90
          ],
          [
           60,
           60
          ],
          [
           20,
           20
          ],
          [
           0,
           0
          ],
          [
           0,
           0
          ],
          [
           0,
           0
          ],
          [
           0,
           0
          ],
          [
           0,
           0
          ],
          [
           0,
           0
          ],
          [
           0,
           0
          ],
          [
           0,
           0
          ],
          [
           40,
           40
          ],
          [
           0,
           0
          ],
          [
           0,
           0
          ],
          [
           0,
           0
          ],
          [
           0,
           0
          ],
          [
           0,
           0
          ],
          [
           0,
           0
          ],
          [
           0,
           0
          ],
          [
           0,
           0
          ],
          [
           0,
           0
          ],
          [
           0,
           0
          ],
          [
           0,
           0
          ],
          [
           0,
           0
          ],
          [
           0,
           0
          ]
         ]
        },
        {
         "marker": {
          "color": "rgb(17, 119, 51)"
         },
         "name": "Walls",
         "type": "bar",
         "x": [
          "Fflopse",
          "cediiiiii_10",
          "Gobo9",
          "PedroZockt",
          "HerrDante",
          "ReichesBrot",
          "_n3d",
          "Ex4cted",
          "yiiq",
          "JOW23",
          "lizsyy",
          "DarkCobweb",
          "camman18YT",
          "2wc",
          "Ninivee",
          "yzvm",
          "Grapfen",
          "Sey__",
          "Umgfoin",
          "KakaMC",
          "miridis41",
          "ffawks",
          "h4nnes",
          "Gerrygames",
          "Davinci_Son",
          "Sower_",
          "TheFabo",
          "2B9",
          "LeWi_100",
          "zBro",
          "unausgesprochen",
          "DieserBear",
          "Schmaarek",
          "GeneralEnte06",
          "lolisamasan",
          "Lubottus",
          "M0osebumps",
          "Freeeedom",
          "Gummibearchen",
          "frutigall"
         ],
         "y": [
          [
           25,
           25
          ],
          [
           70,
           70
          ],
          [
           35,
           35
          ],
          [
           45,
           45
          ],
          [
           0,
           0
          ],
          [
           0,
           0
          ],
          [
           0,
           0
          ],
          [
           0,
           0
          ],
          [
           22.5,
           22.5
          ],
          [
           25,
           25
          ],
          [
           0,
           0
          ],
          [
           50,
           50
          ],
          [
           40,
           40
          ],
          [
           15,
           15
          ],
          [
           15,
           15
          ],
          [
           12.5,
           12.5
          ],
          [
           32.5,
           32.5
          ],
          [
           0,
           0
          ],
          [
           0,
           0
          ],
          [
           25,
           25
          ],
          [
           15,
           15
          ],
          [
           0,
           0
          ],
          [
           0,
           0
          ],
          [
           0,
           0
          ],
          [
           12.5,
           12.5
          ],
          [
           0,
           0
          ],
          [
           0,
           0
          ],
          [
           0,
           0
          ],
          [
           0,
           0
          ],
          [
           25,
           25
          ],
          [
           0,
           0
          ],
          [
           0,
           0
          ],
          [
           0,
           0
          ],
          [
           0,
           0
          ],
          [
           0,
           0
          ],
          [
           7.5,
           7.5
          ],
          [
           0,
           0
          ],
          [
           0,
           0
          ],
          [
           20,
           20
          ],
          [
           0,
           0
          ]
         ]
        },
        {
         "marker": {
          "color": "rgb(51, 34, 136)"
         },
         "name": "Wettrennen",
         "type": "bar",
         "x": [
          "Fflopse",
          "cediiiiii_10",
          "Gobo9",
          "PedroZockt",
          "HerrDante",
          "ReichesBrot",
          "_n3d",
          "Ex4cted",
          "yiiq",
          "JOW23",
          "lizsyy",
          "DarkCobweb",
          "camman18YT",
          "2wc",
          "Ninivee",
          "yzvm",
          "Grapfen",
          "Sey__",
          "Umgfoin",
          "KakaMC",
          "miridis41",
          "ffawks",
          "h4nnes",
          "Gerrygames",
          "Davinci_Son",
          "Sower_",
          "TheFabo",
          "2B9",
          "LeWi_100",
          "zBro",
          "unausgesprochen",
          "DieserBear",
          "Schmaarek",
          "GeneralEnte06",
          "lolisamasan",
          "Lubottus",
          "M0osebumps",
          "Freeeedom",
          "Gummibearchen",
          "frutigall"
         ],
         "y": [
          [
           82,
           82
          ],
          [
           48,
           48
          ],
          [
           72,
           72
          ],
          [
           14,
           14
          ],
          [
           20,
           20
          ],
          [
           40,
           40
          ],
          [
           4,
           4
          ],
          [
           0,
           0
          ],
          [
           42,
           42
          ],
          [
           0,
           0
          ],
          [
           14,
           14
          ],
          [
           0,
           0
          ],
          [
           0,
           0
          ],
          [
           8,
           8
          ],
          [
           0,
           0
          ],
          [
           14,
           14
          ],
          [
           0,
           0
          ],
          [
           8,
           8
          ],
          [
           0,
           0
          ],
          [
           0,
           0
          ],
          [
           0,
           0
          ],
          [
           12,
           12
          ],
          [
           0,
           0
          ],
          [
           20,
           20
          ],
          [
           0,
           0
          ],
          [
           0,
           0
          ],
          [
           0,
           0
          ],
          [
           0,
           0
          ],
          [
           24,
           24
          ],
          [
           0,
           0
          ],
          [
           0,
           0
          ],
          [
           0,
           0
          ],
          [
           14,
           14
          ],
          [
           12,
           12
          ],
          [
           0,
           0
          ],
          [
           4,
           4
          ],
          [
           16,
           16
          ],
          [
           0,
           0
          ],
          [
           32,
           32
          ],
          [
           0,
           0
          ]
         ]
        }
       ],
       "layout": {
        "annotations": [
         {
          "font": {
           "size": 12
          },
          "showarrow": false,
          "text": "Max 100 points per minigame. Records #1 through #10 of games & maps in the active pool are considered (#1: 100, #2: 90, ..., #10: 10). If a minigame has multiple maps, the 100 points are distributed equally. fflopse.github.io/MCP-Records/data-analysis/global-ranking.ipynb",
          "x": 0.5,
          "xanchor": "center",
          "xref": "paper",
          "y": 1.1635,
          "yref": "paper"
         }
        ],
        "barmode": "stack",
        "legend": {
         "bgcolor": "rgba(255, 255, 255, 0)",
         "bordercolor": "rgba(0, 0, 0, 0)",
         "font": {
          "size": 12
         },
         "traceorder": "normal",
         "x": 1.05,
         "y": 0.5
        },
        "margin": {
         "r": 200
        },
        "template": {
         "data": {
          "bar": [
           {
            "error_x": {
             "color": "#2a3f5f"
            },
            "error_y": {
             "color": "#2a3f5f"
            },
            "marker": {
             "line": {
              "color": "#E5ECF6",
              "width": 0.5
             },
             "pattern": {
              "fillmode": "overlay",
              "size": 10,
              "solidity": 0.2
             }
            },
            "type": "bar"
           }
          ],
          "barpolar": [
           {
            "marker": {
             "line": {
              "color": "#E5ECF6",
              "width": 0.5
             },
             "pattern": {
              "fillmode": "overlay",
              "size": 10,
              "solidity": 0.2
             }
            },
            "type": "barpolar"
           }
          ],
          "carpet": [
           {
            "aaxis": {
             "endlinecolor": "#2a3f5f",
             "gridcolor": "white",
             "linecolor": "white",
             "minorgridcolor": "white",
             "startlinecolor": "#2a3f5f"
            },
            "baxis": {
             "endlinecolor": "#2a3f5f",
             "gridcolor": "white",
             "linecolor": "white",
             "minorgridcolor": "white",
             "startlinecolor": "#2a3f5f"
            },
            "type": "carpet"
           }
          ],
          "choropleth": [
           {
            "colorbar": {
             "outlinewidth": 0,
             "ticks": ""
            },
            "type": "choropleth"
           }
          ],
          "contour": [
           {
            "colorbar": {
             "outlinewidth": 0,
             "ticks": ""
            },
            "colorscale": [
             [
              0,
              "#0d0887"
             ],
             [
              0.1111111111111111,
              "#46039f"
             ],
             [
              0.2222222222222222,
              "#7201a8"
             ],
             [
              0.3333333333333333,
              "#9c179e"
             ],
             [
              0.4444444444444444,
              "#bd3786"
             ],
             [
              0.5555555555555556,
              "#d8576b"
             ],
             [
              0.6666666666666666,
              "#ed7953"
             ],
             [
              0.7777777777777778,
              "#fb9f3a"
             ],
             [
              0.8888888888888888,
              "#fdca26"
             ],
             [
              1,
              "#f0f921"
             ]
            ],
            "type": "contour"
           }
          ],
          "contourcarpet": [
           {
            "colorbar": {
             "outlinewidth": 0,
             "ticks": ""
            },
            "type": "contourcarpet"
           }
          ],
          "heatmap": [
           {
            "colorbar": {
             "outlinewidth": 0,
             "ticks": ""
            },
            "colorscale": [
             [
              0,
              "#0d0887"
             ],
             [
              0.1111111111111111,
              "#46039f"
             ],
             [
              0.2222222222222222,
              "#7201a8"
             ],
             [
              0.3333333333333333,
              "#9c179e"
             ],
             [
              0.4444444444444444,
              "#bd3786"
             ],
             [
              0.5555555555555556,
              "#d8576b"
             ],
             [
              0.6666666666666666,
              "#ed7953"
             ],
             [
              0.7777777777777778,
              "#fb9f3a"
             ],
             [
              0.8888888888888888,
              "#fdca26"
             ],
             [
              1,
              "#f0f921"
             ]
            ],
            "type": "heatmap"
           }
          ],
          "heatmapgl": [
           {
            "colorbar": {
             "outlinewidth": 0,
             "ticks": ""
            },
            "colorscale": [
             [
              0,
              "#0d0887"
             ],
             [
              0.1111111111111111,
              "#46039f"
             ],
             [
              0.2222222222222222,
              "#7201a8"
             ],
             [
              0.3333333333333333,
              "#9c179e"
             ],
             [
              0.4444444444444444,
              "#bd3786"
             ],
             [
              0.5555555555555556,
              "#d8576b"
             ],
             [
              0.6666666666666666,
              "#ed7953"
             ],
             [
              0.7777777777777778,
              "#fb9f3a"
             ],
             [
              0.8888888888888888,
              "#fdca26"
             ],
             [
              1,
              "#f0f921"
             ]
            ],
            "type": "heatmapgl"
           }
          ],
          "histogram": [
           {
            "marker": {
             "pattern": {
              "fillmode": "overlay",
              "size": 10,
              "solidity": 0.2
             }
            },
            "type": "histogram"
           }
          ],
          "histogram2d": [
           {
            "colorbar": {
             "outlinewidth": 0,
             "ticks": ""
            },
            "colorscale": [
             [
              0,
              "#0d0887"
             ],
             [
              0.1111111111111111,
              "#46039f"
             ],
             [
              0.2222222222222222,
              "#7201a8"
             ],
             [
              0.3333333333333333,
              "#9c179e"
             ],
             [
              0.4444444444444444,
              "#bd3786"
             ],
             [
              0.5555555555555556,
              "#d8576b"
             ],
             [
              0.6666666666666666,
              "#ed7953"
             ],
             [
              0.7777777777777778,
              "#fb9f3a"
             ],
             [
              0.8888888888888888,
              "#fdca26"
             ],
             [
              1,
              "#f0f921"
             ]
            ],
            "type": "histogram2d"
           }
          ],
          "histogram2dcontour": [
           {
            "colorbar": {
             "outlinewidth": 0,
             "ticks": ""
            },
            "colorscale": [
             [
              0,
              "#0d0887"
             ],
             [
              0.1111111111111111,
              "#46039f"
             ],
             [
              0.2222222222222222,
              "#7201a8"
             ],
             [
              0.3333333333333333,
              "#9c179e"
             ],
             [
              0.4444444444444444,
              "#bd3786"
             ],
             [
              0.5555555555555556,
              "#d8576b"
             ],
             [
              0.6666666666666666,
              "#ed7953"
             ],
             [
              0.7777777777777778,
              "#fb9f3a"
             ],
             [
              0.8888888888888888,
              "#fdca26"
             ],
             [
              1,
              "#f0f921"
             ]
            ],
            "type": "histogram2dcontour"
           }
          ],
          "mesh3d": [
           {
            "colorbar": {
             "outlinewidth": 0,
             "ticks": ""
            },
            "type": "mesh3d"
           }
          ],
          "parcoords": [
           {
            "line": {
             "colorbar": {
              "outlinewidth": 0,
              "ticks": ""
             }
            },
            "type": "parcoords"
           }
          ],
          "pie": [
           {
            "automargin": true,
            "type": "pie"
           }
          ],
          "scatter": [
           {
            "fillpattern": {
             "fillmode": "overlay",
             "size": 10,
             "solidity": 0.2
            },
            "type": "scatter"
           }
          ],
          "scatter3d": [
           {
            "line": {
             "colorbar": {
              "outlinewidth": 0,
              "ticks": ""
             }
            },
            "marker": {
             "colorbar": {
              "outlinewidth": 0,
              "ticks": ""
             }
            },
            "type": "scatter3d"
           }
          ],
          "scattercarpet": [
           {
            "marker": {
             "colorbar": {
              "outlinewidth": 0,
              "ticks": ""
             }
            },
            "type": "scattercarpet"
           }
          ],
          "scattergeo": [
           {
            "marker": {
             "colorbar": {
              "outlinewidth": 0,
              "ticks": ""
             }
            },
            "type": "scattergeo"
           }
          ],
          "scattergl": [
           {
            "marker": {
             "colorbar": {
              "outlinewidth": 0,
              "ticks": ""
             }
            },
            "type": "scattergl"
           }
          ],
          "scattermapbox": [
           {
            "marker": {
             "colorbar": {
              "outlinewidth": 0,
              "ticks": ""
             }
            },
            "type": "scattermapbox"
           }
          ],
          "scatterpolar": [
           {
            "marker": {
             "colorbar": {
              "outlinewidth": 0,
              "ticks": ""
             }
            },
            "type": "scatterpolar"
           }
          ],
          "scatterpolargl": [
           {
            "marker": {
             "colorbar": {
              "outlinewidth": 0,
              "ticks": ""
             }
            },
            "type": "scatterpolargl"
           }
          ],
          "scatterternary": [
           {
            "marker": {
             "colorbar": {
              "outlinewidth": 0,
              "ticks": ""
             }
            },
            "type": "scatterternary"
           }
          ],
          "surface": [
           {
            "colorbar": {
             "outlinewidth": 0,
             "ticks": ""
            },
            "colorscale": [
             [
              0,
              "#0d0887"
             ],
             [
              0.1111111111111111,
              "#46039f"
             ],
             [
              0.2222222222222222,
              "#7201a8"
             ],
             [
              0.3333333333333333,
              "#9c179e"
             ],
             [
              0.4444444444444444,
              "#bd3786"
             ],
             [
              0.5555555555555556,
              "#d8576b"
             ],
             [
              0.6666666666666666,
              "#ed7953"
             ],
             [
              0.7777777777777778,
              "#fb9f3a"
             ],
             [
              0.8888888888888888,
              "#fdca26"
             ],
             [
              1,
              "#f0f921"
             ]
            ],
            "type": "surface"
           }
          ],
          "table": [
           {
            "cells": {
             "fill": {
              "color": "#EBF0F8"
             },
             "line": {
              "color": "white"
             }
            },
            "header": {
             "fill": {
              "color": "#C8D4E3"
             },
             "line": {
              "color": "white"
             }
            },
            "type": "table"
           }
          ]
         },
         "layout": {
          "annotationdefaults": {
           "arrowcolor": "#2a3f5f",
           "arrowhead": 0,
           "arrowwidth": 1
          },
          "autotypenumbers": "strict",
          "coloraxis": {
           "colorbar": {
            "outlinewidth": 0,
            "ticks": ""
           }
          },
          "colorscale": {
           "diverging": [
            [
             0,
             "#8e0152"
            ],
            [
             0.1,
             "#c51b7d"
            ],
            [
             0.2,
             "#de77ae"
            ],
            [
             0.3,
             "#f1b6da"
            ],
            [
             0.4,
             "#fde0ef"
            ],
            [
             0.5,
             "#f7f7f7"
            ],
            [
             0.6,
             "#e6f5d0"
            ],
            [
             0.7,
             "#b8e186"
            ],
            [
             0.8,
             "#7fbc41"
            ],
            [
             0.9,
             "#4d9221"
            ],
            [
             1,
             "#276419"
            ]
           ],
           "sequential": [
            [
             0,
             "#0d0887"
            ],
            [
             0.1111111111111111,
             "#46039f"
            ],
            [
             0.2222222222222222,
             "#7201a8"
            ],
            [
             0.3333333333333333,
             "#9c179e"
            ],
            [
             0.4444444444444444,
             "#bd3786"
            ],
            [
             0.5555555555555556,
             "#d8576b"
            ],
            [
             0.6666666666666666,
             "#ed7953"
            ],
            [
             0.7777777777777778,
             "#fb9f3a"
            ],
            [
             0.8888888888888888,
             "#fdca26"
            ],
            [
             1,
             "#f0f921"
            ]
           ],
           "sequentialminus": [
            [
             0,
             "#0d0887"
            ],
            [
             0.1111111111111111,
             "#46039f"
            ],
            [
             0.2222222222222222,
             "#7201a8"
            ],
            [
             0.3333333333333333,
             "#9c179e"
            ],
            [
             0.4444444444444444,
             "#bd3786"
            ],
            [
             0.5555555555555556,
             "#d8576b"
            ],
            [
             0.6666666666666666,
             "#ed7953"
            ],
            [
             0.7777777777777778,
             "#fb9f3a"
            ],
            [
             0.8888888888888888,
             "#fdca26"
            ],
            [
             1,
             "#f0f921"
            ]
           ]
          },
          "colorway": [
           "#636efa",
           "#EF553B",
           "#00cc96",
           "#ab63fa",
           "#FFA15A",
           "#19d3f3",
           "#FF6692",
           "#B6E880",
           "#FF97FF",
           "#FECB52"
          ],
          "font": {
           "color": "#2a3f5f"
          },
          "geo": {
           "bgcolor": "white",
           "lakecolor": "white",
           "landcolor": "#E5ECF6",
           "showlakes": true,
           "showland": true,
           "subunitcolor": "white"
          },
          "hoverlabel": {
           "align": "left"
          },
          "hovermode": "closest",
          "mapbox": {
           "style": "light"
          },
          "paper_bgcolor": "white",
          "plot_bgcolor": "#E5ECF6",
          "polar": {
           "angularaxis": {
            "gridcolor": "white",
            "linecolor": "white",
            "ticks": ""
           },
           "bgcolor": "#E5ECF6",
           "radialaxis": {
            "gridcolor": "white",
            "linecolor": "white",
            "ticks": ""
           }
          },
          "scene": {
           "xaxis": {
            "backgroundcolor": "#E5ECF6",
            "gridcolor": "white",
            "gridwidth": 2,
            "linecolor": "white",
            "showbackground": true,
            "ticks": "",
            "zerolinecolor": "white"
           },
           "yaxis": {
            "backgroundcolor": "#E5ECF6",
            "gridcolor": "white",
            "gridwidth": 2,
            "linecolor": "white",
            "showbackground": true,
            "ticks": "",
            "zerolinecolor": "white"
           },
           "zaxis": {
            "backgroundcolor": "#E5ECF6",
            "gridcolor": "white",
            "gridwidth": 2,
            "linecolor": "white",
            "showbackground": true,
            "ticks": "",
            "zerolinecolor": "white"
           }
          },
          "shapedefaults": {
           "line": {
            "color": "#2a3f5f"
           }
          },
          "ternary": {
           "aaxis": {
            "gridcolor": "white",
            "linecolor": "white",
            "ticks": ""
           },
           "baxis": {
            "gridcolor": "white",
            "linecolor": "white",
            "ticks": ""
           },
           "bgcolor": "#E5ECF6",
           "caxis": {
            "gridcolor": "white",
            "linecolor": "white",
            "ticks": ""
           }
          },
          "title": {
           "x": 0.05
          },
          "xaxis": {
           "automargin": true,
           "gridcolor": "white",
           "linecolor": "white",
           "ticks": "",
           "title": {
            "standoff": 15
           },
           "zerolinecolor": "white",
           "zerolinewidth": 2
          },
          "yaxis": {
           "automargin": true,
           "gridcolor": "white",
           "linecolor": "white",
           "ticks": "",
           "title": {
            "standoff": 15
           },
           "zerolinecolor": "white",
           "zerolinewidth": 2
          }
         }
        },
        "title": {
         "text": "Extended Overall Record Comparison - Top 40 Players"
        },
        "xaxis": {
         "title": {
          "text": "Player"
         }
        },
        "yaxis": {
         "title": {
          "text": "Points"
         }
        }
       }
      }
     },
     "metadata": {},
     "output_type": "display_data"
    }
   ],
   "source": [
    "import plotly.graph_objects as go\n",
    "\n",
    "# Sum all columns to get the total score\n",
    "outDf['Total'] = outDf.sum(axis=1)\n",
    "\n",
    "# Sort by total score and fill N/A values with 0\n",
    "outDf = outDf.sort_values(by='Total', ascending=False).fillna(0)\n",
    "\n",
    "# Crop to top 10 players\n",
    "cropDf = outDf.head(40).copy()\n",
    "\n",
    "# Drop the 'Total' column for plotting\n",
    "cropDf = cropDf.drop(columns=['Total'])\n",
    "\n",
    "# Create a color palette\n",
    "color_palette = px.colors.qualitative.Safe\n",
    "\n",
    "# Create the stacked bar plot\n",
    "fig = go.Figure()\n",
    "\n",
    "for column in cropDf.columns.difference(['Player']):\n",
    "    fig.add_trace(go.Bar(\n",
    "        x=cropDf.index,\n",
    "        y=cropDf[column],\n",
    "        name=column,\n",
    "        marker_color=color_palette[len(fig.data) % len(color_palette)]\n",
    "    ))\n",
    "\n",
    "# Update layout\n",
    "fig.update_layout(\n",
    "    barmode='stack',\n",
    "    title='Extended Overall Record Comparison - Top 40 Players',\n",
    "    xaxis=dict(title='Player'),\n",
    "    yaxis=dict(title='Points'),\n",
    "    #height=800,\n",
    "    #width=1000,\n",
    "    legend=dict(\n",
    "        x=1.05,\n",
    "        y=0.5,\n",
    "        traceorder='normal',\n",
    "        font=dict(size=12),\n",
    "        bgcolor='rgba(255, 255, 255, 0)',\n",
    "        bordercolor='rgba(0, 0, 0, 0)'\n",
    "    ),\n",
    "    margin=dict(r=200),  # Adjust right margin to make room for the legend\n",
    "    annotations=[\n",
    "        dict(\n",
    "            x=0.5,\n",
    "            y=1.1635,\n",
    "            xref='paper',\n",
    "            yref='paper',\n",
    "            text='Max 100 points per minigame. Records #1 through #10 of games & maps in the active pool are considered (#1: 100, #2: 90, ..., #10: 10). If a minigame has multiple maps, the 100 points are distributed equally. fflopse.github.io/MCP-Records/data-analysis/global-ranking.ipynb',\n",
    "            showarrow=False,\n",
    "            font=dict(size=12),\n",
    "            xanchor='center'\n",
    "        )\n",
    "    ]\n",
    ")\n",
    "\n",
    "fig.show()\n",
    "\n",
    "# save the plot as an html file\n",
    "\n",
    "fig.write_html('out/ext_overall_record_comparison.html')"
   ]
  },
  {
   "cell_type": "code",
   "execution_count": 25,
   "metadata": {},
   "outputs": [
    {
     "data": {
      "application/vnd.plotly.v1+json": {
       "config": {
        "plotlyServerURL": "https://plot.ly"
       },
       "data": [
        {
         "marker": {
          "color": "rgb(136, 204, 238)"
         },
         "name": "Ampelrennen",
         "type": "bar",
         "x": [
          "Fflopse",
          "cediiiiii_10",
          "Gobo9",
          "PedroZockt",
          "HerrDante",
          "ReichesBrot",
          "_n3d",
          "Ex4cted",
          "yiiq",
          "JOW23",
          "lizsyy",
          "DarkCobweb",
          "camman18YT",
          "2wc",
          "Ninivee",
          "yzvm",
          "Grapfen",
          "Sey__",
          "Umgfoin",
          "KakaMC",
          "miridis41",
          "ffawks",
          "h4nnes",
          "Gerrygames",
          "Davinci_Son",
          "Sower_",
          "TheFabo",
          "2B9",
          "LeWi_100",
          "zBro",
          "unausgesprochen",
          "DieserBear",
          "Schmaarek",
          "GeneralEnte06",
          "lolisamasan",
          "Lubottus",
          "M0osebumps",
          "Freeeedom",
          "Gummibearchen",
          "frutigall",
          "La_meleagro",
          "CML_Justin",
          "chrisihalt",
          "xX_Dima_ggg_Xx6",
          "Feinberg",
          "ByNetherdude",
          "Morittz",
          "Flitzi_Dino",
          "bawskey",
          "Krusti",
          "Ritokii",
          "ZweitesIch",
          "HeIsJustAPoorBoy",
          "LeMetin_",
          "Luis_XYZ",
          "Janne4k",
          "byTobi",
          "Lingex",
          "LilFueller",
          "Shiewk",
          "Radiokopf",
          "Mincheeen",
          "Kyuudo",
          "Gryzes",
          "xBaumeisterin",
          "Jan2220",
          "LordAlexos",
          "DerBaumIstDerWeg",
          "Bartschii",
          "Kanickelul",
          "Wissender",
          "PixlNight",
          "Dokkkkko",
          "Navex",
          "officialryzon",
          "Falke23_5",
          "SpeckyCut",
          "Tomiokey",
          "ForceFox",
          "TheBreadHD",
          "SB387",
          "Sebi1801",
          "loukrativ",
          "GamemasterNiki",
          "Martomias",
          "Oronor",
          "_Waldi_",
          "Harold_Sensemann",
          "Allooy",
          "GrafikKatze",
          "WirdNichtGeladen",
          "revolverz",
          "deadfiight",
          "Chander24",
          "lvlaurin",
          "Vacted",
          "xX_Masha_ggg_Xx9",
          "Joy_8oy",
          "twitchparaskiill",
          "Mvsk_"
         ],
         "y": [
          [
           50,
           50
          ],
          [
           20,
           20
          ],
          [
           50,
           50
          ],
          [
           75,
           75
          ],
          [
           30,
           30
          ],
          [
           10,
           10
          ],
          [
           25,
           25
          ],
          [
           45,
           45
          ],
          [
           0,
           0
          ],
          [
           0,
           0
          ],
          [
           15,
           15
          ],
          [
           0,
           0
          ],
          [
           0,
           0
          ],
          [
           0,
           0
          ],
          [
           0,
           0
          ],
          [
           0,
           0
          ],
          [
           0,
           0
          ],
          [
           40,
           40
          ],
          [
           0,
           0
          ],
          [
           0,
           0
          ],
          [
           25,
           25
          ],
          [
           0,
           0
          ],
          [
           0,
           0
          ],
          [
           0,
           0
          ],
          [
           0,
           0
          ],
          [
           0,
           0
          ],
          [
           0,
           0
          ],
          [
           0,
           0
          ],
          [
           0,
           0
          ],
          [
           0,
           0
          ],
          [
           35,
           35
          ],
          [
           0,
           0
          ],
          [
           0,
           0
          ],
          [
           0,
           0
          ],
          [
           0,
           0
          ],
          [
           0,
           0
          ],
          [
           0,
           0
          ],
          [
           0,
           0
          ],
          [
           0,
           0
          ],
          [
           0,
           0
          ],
          [
           0,
           0
          ],
          [
           0,
           0
          ],
          [
           0,
           0
          ],
          [
           0,
           0
          ],
          [
           0,
           0
          ],
          [
           0,
           0
          ],
          [
           0,
           0
          ],
          [
           0,
           0
          ],
          [
           0,
           0
          ],
          [
           0,
           0
          ],
          [
           35,
           35
          ],
          [
           0,
           0
          ],
          [
           0,
           0
          ],
          [
           20,
           20
          ],
          [
           0,
           0
          ],
          [
           0,
           0
          ],
          [
           0,
           0
          ],
          [
           0,
           0
          ],
          [
           0,
           0
          ],
          [
           0,
           0
          ],
          [
           0,
           0
          ],
          [
           0,
           0
          ],
          [
           0,
           0
          ],
          [
           0,
           0
          ],
          [
           0,
           0
          ],
          [
           10,
           10
          ],
          [
           40,
           40
          ],
          [
           0,
           0
          ],
          [
           0,
           0
          ],
          [
           0,
           0
          ],
          [
           0,
           0
          ],
          [
           0,
           0
          ],
          [
           0,
           0
          ],
          [
           0,
           0
          ],
          [
           0,
           0
          ],
          [
           0,
           0
          ],
          [
           0,
           0
          ],
          [
           0,
           0
          ],
          [
           0,
           0
          ],
          [
           0,
           0
          ],
          [
           0,
           0
          ],
          [
           0,
           0
          ],
          [
           0,
           0
          ],
          [
           0,
           0
          ],
          [
           0,
           0
          ],
          [
           0,
           0
          ],
          [
           0,
           0
          ],
          [
           0,
           0
          ],
          [
           0,
           0
          ],
          [
           0,
           0
          ],
          [
           0,
           0
          ],
          [
           0,
           0
          ],
          [
           0,
           0
          ],
          [
           0,
           0
          ],
          [
           0,
           0
          ],
          [
           0,
           0
          ],
          [
           0,
           0
          ],
          [
           0,
           0
          ],
          [
           0,
           0
          ],
          [
           0,
           0
          ]
         ]
        },
        {
         "marker": {
          "color": "rgb(204, 102, 119)"
         },
         "name": "Blockhüpfer",
         "type": "bar",
         "x": [
          "Fflopse",
          "cediiiiii_10",
          "Gobo9",
          "PedroZockt",
          "HerrDante",
          "ReichesBrot",
          "_n3d",
          "Ex4cted",
          "yiiq",
          "JOW23",
          "lizsyy",
          "DarkCobweb",
          "camman18YT",
          "2wc",
          "Ninivee",
          "yzvm",
          "Grapfen",
          "Sey__",
          "Umgfoin",
          "KakaMC",
          "miridis41",
          "ffawks",
          "h4nnes",
          "Gerrygames",
          "Davinci_Son",
          "Sower_",
          "TheFabo",
          "2B9",
          "LeWi_100",
          "zBro",
          "unausgesprochen",
          "DieserBear",
          "Schmaarek",
          "GeneralEnte06",
          "lolisamasan",
          "Lubottus",
          "M0osebumps",
          "Freeeedom",
          "Gummibearchen",
          "frutigall",
          "La_meleagro",
          "CML_Justin",
          "chrisihalt",
          "xX_Dima_ggg_Xx6",
          "Feinberg",
          "ByNetherdude",
          "Morittz",
          "Flitzi_Dino",
          "bawskey",
          "Krusti",
          "Ritokii",
          "ZweitesIch",
          "HeIsJustAPoorBoy",
          "LeMetin_",
          "Luis_XYZ",
          "Janne4k",
          "byTobi",
          "Lingex",
          "LilFueller",
          "Shiewk",
          "Radiokopf",
          "Mincheeen",
          "Kyuudo",
          "Gryzes",
          "xBaumeisterin",
          "Jan2220",
          "LordAlexos",
          "DerBaumIstDerWeg",
          "Bartschii",
          "Kanickelul",
          "Wissender",
          "PixlNight",
          "Dokkkkko",
          "Navex",
          "officialryzon",
          "Falke23_5",
          "SpeckyCut",
          "Tomiokey",
          "ForceFox",
          "TheBreadHD",
          "SB387",
          "Sebi1801",
          "loukrativ",
          "GamemasterNiki",
          "Martomias",
          "Oronor",
          "_Waldi_",
          "Harold_Sensemann",
          "Allooy",
          "GrafikKatze",
          "WirdNichtGeladen",
          "revolverz",
          "deadfiight",
          "Chander24",
          "lvlaurin",
          "Vacted",
          "xX_Masha_ggg_Xx9",
          "Joy_8oy",
          "twitchparaskiill",
          "Mvsk_"
         ],
         "y": [
          [
           100,
           100
          ],
          [
           0,
           0
          ],
          [
           80,
           80
          ],
          [
           50,
           50
          ],
          [
           0,
           0
          ],
          [
           0,
           0
          ],
          [
           0,
           0
          ],
          [
           90,
           90
          ],
          [
           40,
           40
          ],
          [
           0,
           0
          ],
          [
           70,
           70
          ],
          [
           0,
           0
          ],
          [
           0,
           0
          ],
          [
           0,
           0
          ],
          [
           0,
           0
          ],
          [
           0,
           0
          ],
          [
           0,
           0
          ],
          [
           30,
           30
          ],
          [
           0,
           0
          ],
          [
           0,
           0
          ],
          [
           0,
           0
          ],
          [
           0,
           0
          ],
          [
           60,
           60
          ],
          [
           0,
           0
          ],
          [
           0,
           0
          ],
          [
           0,
           0
          ],
          [
           0,
           0
          ],
          [
           0,
           0
          ],
          [
           0,
           0
          ],
          [
           0,
           0
          ],
          [
           0,
           0
          ],
          [
           0,
           0
          ],
          [
           0,
           0
          ],
          [
           0,
           0
          ],
          [
           0,
           0
          ],
          [
           0,
           0
          ],
          [
           0,
           0
          ],
          [
           0,
           0
          ],
          [
           0,
           0
          ],
          [
           20,
           20
          ],
          [
           0,
           0
          ],
          [
           0,
           0
          ],
          [
           0,
           0
          ],
          [
           0,
           0
          ],
          [
           0,
           0
          ],
          [
           0,
           0
          ],
          [
           0,
           0
          ],
          [
           0,
           0
          ],
          [
           0,
           0
          ],
          [
           0,
           0
          ],
          [
           0,
           0
          ],
          [
           0,
           0
          ],
          [
           0,
           0
          ],
          [
           0,
           0
          ],
          [
           0,
           0
          ],
          [
           0,
           0
          ],
          [
           0,
           0
          ],
          [
           0,
           0
          ],
          [
           0,
           0
          ],
          [
           0,
           0
          ],
          [
           0,
           0
          ],
          [
           0,
           0
          ],
          [
           0,
           0
          ],
          [
           0,
           0
          ],
          [
           0,
           0
          ],
          [
           0,
           0
          ],
          [
           0,
           0
          ],
          [
           0,
           0
          ],
          [
           0,
           0
          ],
          [
           0,
           0
          ],
          [
           0,
           0
          ],
          [
           0,
           0
          ],
          [
           0,
           0
          ],
          [
           0,
           0
          ],
          [
           0,
           0
          ],
          [
           0,
           0
          ],
          [
           0,
           0
          ],
          [
           0,
           0
          ],
          [
           0,
           0
          ],
          [
           0,
           0
          ],
          [
           0,
           0
          ],
          [
           0,
           0
          ],
          [
           0,
           0
          ],
          [
           0,
           0
          ],
          [
           0,
           0
          ],
          [
           0,
           0
          ],
          [
           0,
           0
          ],
          [
           0,
           0
          ],
          [
           0,
           0
          ],
          [
           0,
           0
          ],
          [
           0,
           0
          ],
          [
           0,
           0
          ],
          [
           0,
           0
          ],
          [
           0,
           0
          ],
          [
           0,
           0
          ],
          [
           0,
           0
          ],
          [
           0,
           0
          ],
          [
           0,
           0
          ],
          [
           0,
           0
          ],
          [
           0,
           0
          ]
         ]
        },
        {
         "marker": {
          "color": "rgb(221, 204, 119)"
         },
         "name": "Buntes Chaos",
         "type": "bar",
         "x": [
          "Fflopse",
          "cediiiiii_10",
          "Gobo9",
          "PedroZockt",
          "HerrDante",
          "ReichesBrot",
          "_n3d",
          "Ex4cted",
          "yiiq",
          "JOW23",
          "lizsyy",
          "DarkCobweb",
          "camman18YT",
          "2wc",
          "Ninivee",
          "yzvm",
          "Grapfen",
          "Sey__",
          "Umgfoin",
          "KakaMC",
          "miridis41",
          "ffawks",
          "h4nnes",
          "Gerrygames",
          "Davinci_Son",
          "Sower_",
          "TheFabo",
          "2B9",
          "LeWi_100",
          "zBro",
          "unausgesprochen",
          "DieserBear",
          "Schmaarek",
          "GeneralEnte06",
          "lolisamasan",
          "Lubottus",
          "M0osebumps",
          "Freeeedom",
          "Gummibearchen",
          "frutigall",
          "La_meleagro",
          "CML_Justin",
          "chrisihalt",
          "xX_Dima_ggg_Xx6",
          "Feinberg",
          "ByNetherdude",
          "Morittz",
          "Flitzi_Dino",
          "bawskey",
          "Krusti",
          "Ritokii",
          "ZweitesIch",
          "HeIsJustAPoorBoy",
          "LeMetin_",
          "Luis_XYZ",
          "Janne4k",
          "byTobi",
          "Lingex",
          "LilFueller",
          "Shiewk",
          "Radiokopf",
          "Mincheeen",
          "Kyuudo",
          "Gryzes",
          "xBaumeisterin",
          "Jan2220",
          "LordAlexos",
          "DerBaumIstDerWeg",
          "Bartschii",
          "Kanickelul",
          "Wissender",
          "PixlNight",
          "Dokkkkko",
          "Navex",
          "officialryzon",
          "Falke23_5",
          "SpeckyCut",
          "Tomiokey",
          "ForceFox",
          "TheBreadHD",
          "SB387",
          "Sebi1801",
          "loukrativ",
          "GamemasterNiki",
          "Martomias",
          "Oronor",
          "_Waldi_",
          "Harold_Sensemann",
          "Allooy",
          "GrafikKatze",
          "WirdNichtGeladen",
          "revolverz",
          "deadfiight",
          "Chander24",
          "lvlaurin",
          "Vacted",
          "xX_Masha_ggg_Xx9",
          "Joy_8oy",
          "twitchparaskiill",
          "Mvsk_"
         ],
         "y": [
          [
           100,
           100
          ],
          [
           50,
           50
          ],
          [
           50,
           50
          ],
          [
           100,
           100
          ],
          [
           50,
           50
          ],
          [
           100,
           100
          ],
          [
           100,
           100
          ],
          [
           50,
           50
          ],
          [
           0,
           0
          ],
          [
           0,
           0
          ],
          [
           100,
           100
          ],
          [
           0,
           0
          ],
          [
           0,
           0
          ],
          [
           0,
           0
          ],
          [
           100,
           100
          ],
          [
           0,
           0
          ],
          [
           0,
           0
          ],
          [
           0,
           0
          ],
          [
           100,
           100
          ],
          [
           100,
           100
          ],
          [
           0,
           0
          ],
          [
           0,
           0
          ],
          [
           0,
           0
          ],
          [
           0,
           0
          ],
          [
           0,
           0
          ],
          [
           0,
           0
          ],
          [
           0,
           0
          ],
          [
           0,
           0
          ],
          [
           0,
           0
          ],
          [
           0,
           0
          ],
          [
           0,
           0
          ],
          [
           0,
           0
          ],
          [
           50,
           50
          ],
          [
           50,
           50
          ],
          [
           0,
           0
          ],
          [
           50,
           50
          ],
          [
           0,
           0
          ],
          [
           0,
           0
          ],
          [
           0,
           0
          ],
          [
           0,
           0
          ],
          [
           0,
           0
          ],
          [
           50,
           50
          ],
          [
           0,
           0
          ],
          [
           0,
           0
          ],
          [
           50,
           50
          ],
          [
           0,
           0
          ],
          [
           0,
           0
          ],
          [
           0,
           0
          ],
          [
           0,
           0
          ],
          [
           0,
           0
          ],
          [
           0,
           0
          ],
          [
           0,
           0
          ],
          [
           0,
           0
          ],
          [
           0,
           0
          ],
          [
           0,
           0
          ],
          [
           0,
           0
          ],
          [
           0,
           0
          ],
          [
           0,
           0
          ],
          [
           0,
           0
          ],
          [
           50,
           50
          ],
          [
           50,
           50
          ],
          [
           50,
           50
          ],
          [
           0,
           0
          ],
          [
           0,
           0
          ],
          [
           50,
           50
          ],
          [
           0,
           0
          ],
          [
           0,
           0
          ],
          [
           0,
           0
          ],
          [
           0,
           0
          ],
          [
           0,
           0
          ],
          [
           0,
           0
          ],
          [
           0,
           0
          ],
          [
           0,
           0
          ],
          [
           0,
           0
          ],
          [
           0,
           0
          ],
          [
           0,
           0
          ],
          [
           0,
           0
          ],
          [
           0,
           0
          ],
          [
           0,
           0
          ],
          [
           0,
           0
          ],
          [
           0,
           0
          ],
          [
           0,
           0
          ],
          [
           0,
           0
          ],
          [
           0,
           0
          ],
          [
           0,
           0
          ],
          [
           0,
           0
          ],
          [
           0,
           0
          ],
          [
           0,
           0
          ],
          [
           0,
           0
          ],
          [
           0,
           0
          ],
          [
           0,
           0
          ],
          [
           0,
           0
          ],
          [
           0,
           0
          ],
          [
           0,
           0
          ],
          [
           0,
           0
          ],
          [
           0,
           0
          ],
          [
           0,
           0
          ],
          [
           0,
           0
          ],
          [
           0,
           0
          ],
          [
           0,
           0
          ]
         ]
        },
        {
         "marker": {
          "color": "rgb(17, 119, 51)"
         },
         "name": "Drachenflucht",
         "type": "bar",
         "x": [
          "Fflopse",
          "cediiiiii_10",
          "Gobo9",
          "PedroZockt",
          "HerrDante",
          "ReichesBrot",
          "_n3d",
          "Ex4cted",
          "yiiq",
          "JOW23",
          "lizsyy",
          "DarkCobweb",
          "camman18YT",
          "2wc",
          "Ninivee",
          "yzvm",
          "Grapfen",
          "Sey__",
          "Umgfoin",
          "KakaMC",
          "miridis41",
          "ffawks",
          "h4nnes",
          "Gerrygames",
          "Davinci_Son",
          "Sower_",
          "TheFabo",
          "2B9",
          "LeWi_100",
          "zBro",
          "unausgesprochen",
          "DieserBear",
          "Schmaarek",
          "GeneralEnte06",
          "lolisamasan",
          "Lubottus",
          "M0osebumps",
          "Freeeedom",
          "Gummibearchen",
          "frutigall",
          "La_meleagro",
          "CML_Justin",
          "chrisihalt",
          "xX_Dima_ggg_Xx6",
          "Feinberg",
          "ByNetherdude",
          "Morittz",
          "Flitzi_Dino",
          "bawskey",
          "Krusti",
          "Ritokii",
          "ZweitesIch",
          "HeIsJustAPoorBoy",
          "LeMetin_",
          "Luis_XYZ",
          "Janne4k",
          "byTobi",
          "Lingex",
          "LilFueller",
          "Shiewk",
          "Radiokopf",
          "Mincheeen",
          "Kyuudo",
          "Gryzes",
          "xBaumeisterin",
          "Jan2220",
          "LordAlexos",
          "DerBaumIstDerWeg",
          "Bartschii",
          "Kanickelul",
          "Wissender",
          "PixlNight",
          "Dokkkkko",
          "Navex",
          "officialryzon",
          "Falke23_5",
          "SpeckyCut",
          "Tomiokey",
          "ForceFox",
          "TheBreadHD",
          "SB387",
          "Sebi1801",
          "loukrativ",
          "GamemasterNiki",
          "Martomias",
          "Oronor",
          "_Waldi_",
          "Harold_Sensemann",
          "Allooy",
          "GrafikKatze",
          "WirdNichtGeladen",
          "revolverz",
          "deadfiight",
          "Chander24",
          "lvlaurin",
          "Vacted",
          "xX_Masha_ggg_Xx9",
          "Joy_8oy",
          "twitchparaskiill",
          "Mvsk_"
         ],
         "y": [
          [
           0,
           0
          ],
          [
           0,
           0
          ],
          [
           0,
           0
          ],
          [
           0,
           0
          ],
          [
           0,
           0
          ],
          [
           0,
           0
          ],
          [
           16,
           16
          ],
          [
           0,
           0
          ],
          [
           0,
           0
          ],
          [
           0,
           0
          ],
          [
           0,
           0
          ],
          [
           0,
           0
          ],
          [
           0,
           0
          ],
          [
           0,
           0
          ],
          [
           0,
           0
          ],
          [
           0,
           0
          ],
          [
           0,
           0
          ],
          [
           0,
           0
          ],
          [
           0,
           0
          ],
          [
           0,
           0
          ],
          [
           32,
           32
          ],
          [
           0,
           0
          ],
          [
           0,
           0
          ],
          [
           18,
           18
          ],
          [
           0,
           0
          ],
          [
           18,
           18
          ],
          [
           6,
           6
          ],
          [
           4,
           4
          ],
          [
           0,
           0
          ],
          [
           4,
           4
          ],
          [
           20,
           20
          ],
          [
           0,
           0
          ],
          [
           0,
           0
          ],
          [
           0,
           0
          ],
          [
           0,
           0
          ],
          [
           0,
           0
          ],
          [
           0,
           0
          ],
          [
           0,
           0
          ],
          [
           0,
           0
          ],
          [
           0,
           0
          ],
          [
           8,
           8
          ],
          [
           0,
           0
          ],
          [
           0,
           0
          ],
          [
           0,
           0
          ],
          [
           18,
           18
          ],
          [
           0,
           0
          ],
          [
           0,
           0
          ],
          [
           64,
           64
          ],
          [
           0,
           0
          ],
          [
           0,
           0
          ],
          [
           14,
           14
          ],
          [
           6,
           6
          ],
          [
           0,
           0
          ],
          [
           0,
           0
          ],
          [
           20,
           20
          ],
          [
           0,
           0
          ],
          [
           0,
           0
          ],
          [
           0,
           0
          ],
          [
           16,
           16
          ],
          [
           0,
           0
          ],
          [
           14,
           14
          ],
          [
           0,
           0
          ],
          [
           0,
           0
          ],
          [
           0,
           0
          ],
          [
           0,
           0
          ],
          [
           0,
           0
          ],
          [
           0,
           0
          ],
          [
           0,
           0
          ],
          [
           20,
           20
          ],
          [
           36,
           36
          ],
          [
           0,
           0
          ],
          [
           0,
           0
          ],
          [
           0,
           0
          ],
          [
           0,
           0
          ],
          [
           24,
           24
          ],
          [
           0,
           0
          ],
          [
           28,
           28
          ],
          [
           0,
           0
          ],
          [
           8,
           8
          ],
          [
           0,
           0
          ],
          [
           16,
           16
          ],
          [
           0,
           0
          ],
          [
           20,
           20
          ],
          [
           0,
           0
          ],
          [
           0,
           0
          ],
          [
           0,
           0
          ],
          [
           0,
           0
          ],
          [
           0,
           0
          ],
          [
           0,
           0
          ],
          [
           0,
           0
          ],
          [
           0,
           0
          ],
          [
           0,
           0
          ],
          [
           0,
           0
          ],
          [
           18,
           18
          ],
          [
           0,
           0
          ],
          [
           12,
           12
          ],
          [
           0,
           0
          ],
          [
           18,
           18
          ],
          [
           0,
           0
          ],
          [
           0,
           0
          ]
         ]
        },
        {
         "marker": {
          "color": "rgb(51, 34, 136)"
         },
         "name": "Duelle",
         "type": "bar",
         "x": [
          "Fflopse",
          "cediiiiii_10",
          "Gobo9",
          "PedroZockt",
          "HerrDante",
          "ReichesBrot",
          "_n3d",
          "Ex4cted",
          "yiiq",
          "JOW23",
          "lizsyy",
          "DarkCobweb",
          "camman18YT",
          "2wc",
          "Ninivee",
          "yzvm",
          "Grapfen",
          "Sey__",
          "Umgfoin",
          "KakaMC",
          "miridis41",
          "ffawks",
          "h4nnes",
          "Gerrygames",
          "Davinci_Son",
          "Sower_",
          "TheFabo",
          "2B9",
          "LeWi_100",
          "zBro",
          "unausgesprochen",
          "DieserBear",
          "Schmaarek",
          "GeneralEnte06",
          "lolisamasan",
          "Lubottus",
          "M0osebumps",
          "Freeeedom",
          "Gummibearchen",
          "frutigall",
          "La_meleagro",
          "CML_Justin",
          "chrisihalt",
          "xX_Dima_ggg_Xx6",
          "Feinberg",
          "ByNetherdude",
          "Morittz",
          "Flitzi_Dino",
          "bawskey",
          "Krusti",
          "Ritokii",
          "ZweitesIch",
          "HeIsJustAPoorBoy",
          "LeMetin_",
          "Luis_XYZ",
          "Janne4k",
          "byTobi",
          "Lingex",
          "LilFueller",
          "Shiewk",
          "Radiokopf",
          "Mincheeen",
          "Kyuudo",
          "Gryzes",
          "xBaumeisterin",
          "Jan2220",
          "LordAlexos",
          "DerBaumIstDerWeg",
          "Bartschii",
          "Kanickelul",
          "Wissender",
          "PixlNight",
          "Dokkkkko",
          "Navex",
          "officialryzon",
          "Falke23_5",
          "SpeckyCut",
          "Tomiokey",
          "ForceFox",
          "TheBreadHD",
          "SB387",
          "Sebi1801",
          "loukrativ",
          "GamemasterNiki",
          "Martomias",
          "Oronor",
          "_Waldi_",
          "Harold_Sensemann",
          "Allooy",
          "GrafikKatze",
          "WirdNichtGeladen",
          "revolverz",
          "deadfiight",
          "Chander24",
          "lvlaurin",
          "Vacted",
          "xX_Masha_ggg_Xx9",
          "Joy_8oy",
          "twitchparaskiill",
          "Mvsk_"
         ],
         "y": [
          [
           20,
           20
          ],
          [
           70,
           70
          ],
          [
           0,
           0
          ],
          [
           0,
           0
          ],
          [
           0,
           0
          ],
          [
           0,
           0
          ],
          [
           20,
           20
          ],
          [
           0,
           0
          ],
          [
           20,
           20
          ],
          [
           20,
           20
          ],
          [
           0,
           0
          ],
          [
           70,
           70
          ],
          [
           0,
           0
          ],
          [
           70,
           70
          ],
          [
           0,
           0
          ],
          [
           70,
           70
          ],
          [
           0,
           0
          ],
          [
           20,
           20
          ],
          [
           0,
           0
          ],
          [
           0,
           0
          ],
          [
           80,
           80
          ],
          [
           0,
           0
          ],
          [
           0,
           0
          ],
          [
           0,
           0
          ],
          [
           0,
           0
          ],
          [
           0,
           0
          ],
          [
           0,
           0
          ],
          [
           90,
           90
          ],
          [
           0,
           0
          ],
          [
           0,
           0
          ],
          [
           0,
           0
          ],
          [
           0,
           0
          ],
          [
           0,
           0
          ],
          [
           0,
           0
          ],
          [
           0,
           0
          ],
          [
           0,
           0
          ],
          [
           0,
           0
          ],
          [
           0,
           0
          ],
          [
           0,
           0
          ],
          [
           0,
           0
          ],
          [
           100,
           100
          ],
          [
           0,
           0
          ],
          [
           0,
           0
          ],
          [
           0,
           0
          ],
          [
           0,
           0
          ],
          [
           0,
           0
          ],
          [
           0,
           0
          ],
          [
           0,
           0
          ],
          [
           0,
           0
          ],
          [
           0,
           0
          ],
          [
           0,
           0
          ],
          [
           0,
           0
          ],
          [
           0,
           0
          ],
          [
           0,
           0
          ],
          [
           0,
           0
          ],
          [
           0,
           0
          ],
          [
           0,
           0
          ],
          [
           0,
           0
          ],
          [
           0,
           0
          ],
          [
           0,
           0
          ],
          [
           0,
           0
          ],
          [
           0,
           0
          ],
          [
           0,
           0
          ],
          [
           0,
           0
          ],
          [
           0,
           0
          ],
          [
           0,
           0
          ],
          [
           0,
           0
          ],
          [
           0,
           0
          ],
          [
           0,
           0
          ],
          [
           0,
           0
          ],
          [
           0,
           0
          ],
          [
           0,
           0
          ],
          [
           0,
           0
          ],
          [
           0,
           0
          ],
          [
           0,
           0
          ],
          [
           0,
           0
          ],
          [
           0,
           0
          ],
          [
           20,
           20
          ],
          [
           0,
           0
          ],
          [
           0,
           0
          ],
          [
           0,
           0
          ],
          [
           30,
           30
          ],
          [
           0,
           0
          ],
          [
           0,
           0
          ],
          [
           0,
           0
          ],
          [
           0,
           0
          ],
          [
           0,
           0
          ],
          [
           0,
           0
          ],
          [
           0,
           0
          ],
          [
           0,
           0
          ],
          [
           0,
           0
          ],
          [
           0,
           0
          ],
          [
           0,
           0
          ],
          [
           0,
           0
          ],
          [
           0,
           0
          ],
          [
           0,
           0
          ],
          [
           0,
           0
          ],
          [
           0,
           0
          ],
          [
           0,
           0
          ],
          [
           0,
           0
          ]
         ]
        },
        {
         "marker": {
          "color": "rgb(170, 68, 153)"
         },
         "name": "Einer im Köcher",
         "type": "bar",
         "x": [
          "Fflopse",
          "cediiiiii_10",
          "Gobo9",
          "PedroZockt",
          "HerrDante",
          "ReichesBrot",
          "_n3d",
          "Ex4cted",
          "yiiq",
          "JOW23",
          "lizsyy",
          "DarkCobweb",
          "camman18YT",
          "2wc",
          "Ninivee",
          "yzvm",
          "Grapfen",
          "Sey__",
          "Umgfoin",
          "KakaMC",
          "miridis41",
          "ffawks",
          "h4nnes",
          "Gerrygames",
          "Davinci_Son",
          "Sower_",
          "TheFabo",
          "2B9",
          "LeWi_100",
          "zBro",
          "unausgesprochen",
          "DieserBear",
          "Schmaarek",
          "GeneralEnte06",
          "lolisamasan",
          "Lubottus",
          "M0osebumps",
          "Freeeedom",
          "Gummibearchen",
          "frutigall",
          "La_meleagro",
          "CML_Justin",
          "chrisihalt",
          "xX_Dima_ggg_Xx6",
          "Feinberg",
          "ByNetherdude",
          "Morittz",
          "Flitzi_Dino",
          "bawskey",
          "Krusti",
          "Ritokii",
          "ZweitesIch",
          "HeIsJustAPoorBoy",
          "LeMetin_",
          "Luis_XYZ",
          "Janne4k",
          "byTobi",
          "Lingex",
          "LilFueller",
          "Shiewk",
          "Radiokopf",
          "Mincheeen",
          "Kyuudo",
          "Gryzes",
          "xBaumeisterin",
          "Jan2220",
          "LordAlexos",
          "DerBaumIstDerWeg",
          "Bartschii",
          "Kanickelul",
          "Wissender",
          "PixlNight",
          "Dokkkkko",
          "Navex",
          "officialryzon",
          "Falke23_5",
          "SpeckyCut",
          "Tomiokey",
          "ForceFox",
          "TheBreadHD",
          "SB387",
          "Sebi1801",
          "loukrativ",
          "GamemasterNiki",
          "Martomias",
          "Oronor",
          "_Waldi_",
          "Harold_Sensemann",
          "Allooy",
          "GrafikKatze",
          "WirdNichtGeladen",
          "revolverz",
          "deadfiight",
          "Chander24",
          "lvlaurin",
          "Vacted",
          "xX_Masha_ggg_Xx9",
          "Joy_8oy",
          "twitchparaskiill",
          "Mvsk_"
         ],
         "y": [
          [
           90,
           90
          ],
          [
           50,
           50
          ],
          [
           36.666666666666664,
           36.666666666666664
          ],
          [
           0,
           0
          ],
          [
           90,
           90
          ],
          [
           0,
           0
          ],
          [
           16.666666666666668,
           16.666666666666668
          ],
          [
           0,
           0
          ],
          [
           10,
           10
          ],
          [
           26.666666666666668,
           26.666666666666668
          ],
          [
           0,
           0
          ],
          [
           0,
           0
          ],
          [
           0,
           0
          ],
          [
           0,
           0
          ],
          [
           0,
           0
          ],
          [
           0,
           0
          ],
          [
           10,
           10
          ],
          [
           0,
           0
          ],
          [
           0,
           0
          ],
          [
           0,
           0
          ],
          [
           0,
           0
          ],
          [
           0,
           0
          ],
          [
           60,
           60
          ],
          [
           0,
           0
          ],
          [
           0,
           0
          ],
          [
           0,
           0
          ],
          [
           16.666666666666668,
           16.666666666666668
          ],
          [
           0,
           0
          ],
          [
           0,
           0
          ],
          [
           13.333333333333334,
           13.333333333333334
          ],
          [
           0,
           0
          ],
          [
           36.666666666666664,
           36.666666666666664
          ],
          [
           0,
           0
          ],
          [
           0,
           0
          ],
          [
           13.333333333333334,
           13.333333333333334
          ],
          [
           0,
           0
          ],
          [
           26.666666666666668,
           26.666666666666668
          ],
          [
           0,
           0
          ],
          [
           10,
           10
          ],
          [
           0,
           0
          ],
          [
           0,
           0
          ],
          [
           0,
           0
          ],
          [
           0,
           0
          ],
          [
           0,
           0
          ],
          [
           0,
           0
          ],
          [
           0,
           0
          ],
          [
           0,
           0
          ],
          [
           0,
           0
          ],
          [
           0,
           0
          ],
          [
           0,
           0
          ],
          [
           0,
           0
          ],
          [
           0,
           0
          ],
          [
           0,
           0
          ],
          [
           0,
           0
          ],
          [
           0,
           0
          ],
          [
           0,
           0
          ],
          [
           33.333333333333336,
           33.333333333333336
          ],
          [
           0,
           0
          ],
          [
           0,
           0
          ],
          [
           0,
           0
          ],
          [
           0,
           0
          ],
          [
           0,
           0
          ],
          [
           0,
           0
          ],
          [
           0,
           0
          ],
          [
           0,
           0
          ],
          [
           0,
           0
          ],
          [
           23.333333333333332,
           23.333333333333332
          ],
          [
           20,
           20
          ],
          [
           0,
           0
          ],
          [
           0,
           0
          ],
          [
           0,
           0
          ],
          [
           0,
           0
          ],
          [
           0,
           0
          ],
          [
           0,
           0
          ],
          [
           0,
           0
          ],
          [
           0,
           0
          ],
          [
           0,
           0
          ],
          [
           0,
           0
          ],
          [
           0,
           0
          ],
          [
           0,
           0
          ],
          [
           0,
           0
          ],
          [
           0,
           0
          ],
          [
           0,
           0
          ],
          [
           23.333333333333332,
           23.333333333333332
          ],
          [
           0,
           0
          ],
          [
           0,
           0
          ],
          [
           0,
           0
          ],
          [
           0,
           0
          ],
          [
           0,
           0
          ],
          [
           0,
           0
          ],
          [
           0,
           0
          ],
          [
           0,
           0
          ],
          [
           0,
           0
          ],
          [
           0,
           0
          ],
          [
           0,
           0
          ],
          [
           0,
           0
          ],
          [
           0,
           0
          ],
          [
           0,
           0
          ],
          [
           0,
           0
          ],
          [
           0,
           0
          ]
         ]
        },
        {
         "marker": {
          "color": "rgb(68, 170, 153)"
         },
         "name": "Elytrarennen",
         "type": "bar",
         "x": [
          "Fflopse",
          "cediiiiii_10",
          "Gobo9",
          "PedroZockt",
          "HerrDante",
          "ReichesBrot",
          "_n3d",
          "Ex4cted",
          "yiiq",
          "JOW23",
          "lizsyy",
          "DarkCobweb",
          "camman18YT",
          "2wc",
          "Ninivee",
          "yzvm",
          "Grapfen",
          "Sey__",
          "Umgfoin",
          "KakaMC",
          "miridis41",
          "ffawks",
          "h4nnes",
          "Gerrygames",
          "Davinci_Son",
          "Sower_",
          "TheFabo",
          "2B9",
          "LeWi_100",
          "zBro",
          "unausgesprochen",
          "DieserBear",
          "Schmaarek",
          "GeneralEnte06",
          "lolisamasan",
          "Lubottus",
          "M0osebumps",
          "Freeeedom",
          "Gummibearchen",
          "frutigall",
          "La_meleagro",
          "CML_Justin",
          "chrisihalt",
          "xX_Dima_ggg_Xx6",
          "Feinberg",
          "ByNetherdude",
          "Morittz",
          "Flitzi_Dino",
          "bawskey",
          "Krusti",
          "Ritokii",
          "ZweitesIch",
          "HeIsJustAPoorBoy",
          "LeMetin_",
          "Luis_XYZ",
          "Janne4k",
          "byTobi",
          "Lingex",
          "LilFueller",
          "Shiewk",
          "Radiokopf",
          "Mincheeen",
          "Kyuudo",
          "Gryzes",
          "xBaumeisterin",
          "Jan2220",
          "LordAlexos",
          "DerBaumIstDerWeg",
          "Bartschii",
          "Kanickelul",
          "Wissender",
          "PixlNight",
          "Dokkkkko",
          "Navex",
          "officialryzon",
          "Falke23_5",
          "SpeckyCut",
          "Tomiokey",
          "ForceFox",
          "TheBreadHD",
          "SB387",
          "Sebi1801",
          "loukrativ",
          "GamemasterNiki",
          "Martomias",
          "Oronor",
          "_Waldi_",
          "Harold_Sensemann",
          "Allooy",
          "GrafikKatze",
          "WirdNichtGeladen",
          "revolverz",
          "deadfiight",
          "Chander24",
          "lvlaurin",
          "Vacted",
          "xX_Masha_ggg_Xx9",
          "Joy_8oy",
          "twitchparaskiill",
          "Mvsk_"
         ],
         "y": [
          [
           90,
           90
          ],
          [
           0,
           0
          ],
          [
           6.666666666666667,
           6.666666666666667
          ],
          [
           50,
           50
          ],
          [
           0,
           0
          ],
          [
           90,
           90
          ],
          [
           76.66666666666667,
           76.66666666666667
          ],
          [
           0,
           0
          ],
          [
           0,
           0
          ],
          [
           0,
           0
          ],
          [
           0,
           0
          ],
          [
           0,
           0
          ],
          [
           26.666666666666668,
           26.666666666666668
          ],
          [
           0,
           0
          ],
          [
           0,
           0
          ],
          [
           0,
           0
          ],
          [
           0,
           0
          ],
          [
           0,
           0
          ],
          [
           0,
           0
          ],
          [
           0,
           0
          ],
          [
           0,
           0
          ],
          [
           43.333333333333336,
           43.333333333333336
          ],
          [
           0,
           0
          ],
          [
           0,
           0
          ],
          [
           0,
           0
          ],
          [
           0,
           0
          ],
          [
           0,
           0
          ],
          [
           0,
           0
          ],
          [
           0,
           0
          ],
          [
           0,
           0
          ],
          [
           0,
           0
          ],
          [
           0,
           0
          ],
          [
           0,
           0
          ],
          [
           0,
           0
          ],
          [
           0,
           0
          ],
          [
           0,
           0
          ],
          [
           0,
           0
          ],
          [
           40,
           40
          ],
          [
           0,
           0
          ],
          [
           0,
           0
          ],
          [
           0,
           0
          ],
          [
           0,
           0
          ],
          [
           0,
           0
          ],
          [
           0,
           0
          ],
          [
           0,
           0
          ],
          [
           0,
           0
          ],
          [
           0,
           0
          ],
          [
           0,
           0
          ],
          [
           0,
           0
          ],
          [
           0,
           0
          ],
          [
           0,
           0
          ],
          [
           10,
           10
          ],
          [
           0,
           0
          ],
          [
           0,
           0
          ],
          [
           30,
           30
          ],
          [
           33.333333333333336,
           33.333333333333336
          ],
          [
           0,
           0
          ],
          [
           0,
           0
          ],
          [
           30,
           30
          ],
          [
           0,
           0
          ],
          [
           0,
           0
          ],
          [
           0,
           0
          ],
          [
           0,
           0
          ],
          [
           0,
           0
          ],
          [
           0,
           0
          ],
          [
           0,
           0
          ],
          [
           0,
           0
          ],
          [
           0,
           0
          ],
          [
           0,
           0
          ],
          [
           0,
           0
          ],
          [
           0,
           0
          ],
          [
           0,
           0
          ],
          [
           0,
           0
          ],
          [
           0,
           0
          ],
          [
           0,
           0
          ],
          [
           0,
           0
          ],
          [
           0,
           0
          ],
          [
           0,
           0
          ],
          [
           0,
           0
          ],
          [
           0,
           0
          ],
          [
           0,
           0
          ],
          [
           0,
           0
          ],
          [
           0,
           0
          ],
          [
           0,
           0
          ],
          [
           0,
           0
          ],
          [
           0,
           0
          ],
          [
           0,
           0
          ],
          [
           0,
           0
          ],
          [
           0,
           0
          ],
          [
           0,
           0
          ],
          [
           0,
           0
          ],
          [
           0,
           0
          ],
          [
           0,
           0
          ],
          [
           0,
           0
          ],
          [
           13.333333333333334,
           13.333333333333334
          ],
          [
           0,
           0
          ],
          [
           0,
           0
          ],
          [
           0,
           0
          ],
          [
           0,
           0
          ],
          [
           0,
           0
          ]
         ]
        },
        {
         "marker": {
          "color": "rgb(153, 153, 51)"
         },
         "name": "Freier Fall",
         "type": "bar",
         "x": [
          "Fflopse",
          "cediiiiii_10",
          "Gobo9",
          "PedroZockt",
          "HerrDante",
          "ReichesBrot",
          "_n3d",
          "Ex4cted",
          "yiiq",
          "JOW23",
          "lizsyy",
          "DarkCobweb",
          "camman18YT",
          "2wc",
          "Ninivee",
          "yzvm",
          "Grapfen",
          "Sey__",
          "Umgfoin",
          "KakaMC",
          "miridis41",
          "ffawks",
          "h4nnes",
          "Gerrygames",
          "Davinci_Son",
          "Sower_",
          "TheFabo",
          "2B9",
          "LeWi_100",
          "zBro",
          "unausgesprochen",
          "DieserBear",
          "Schmaarek",
          "GeneralEnte06",
          "lolisamasan",
          "Lubottus",
          "M0osebumps",
          "Freeeedom",
          "Gummibearchen",
          "frutigall",
          "La_meleagro",
          "CML_Justin",
          "chrisihalt",
          "xX_Dima_ggg_Xx6",
          "Feinberg",
          "ByNetherdude",
          "Morittz",
          "Flitzi_Dino",
          "bawskey",
          "Krusti",
          "Ritokii",
          "ZweitesIch",
          "HeIsJustAPoorBoy",
          "LeMetin_",
          "Luis_XYZ",
          "Janne4k",
          "byTobi",
          "Lingex",
          "LilFueller",
          "Shiewk",
          "Radiokopf",
          "Mincheeen",
          "Kyuudo",
          "Gryzes",
          "xBaumeisterin",
          "Jan2220",
          "LordAlexos",
          "DerBaumIstDerWeg",
          "Bartschii",
          "Kanickelul",
          "Wissender",
          "PixlNight",
          "Dokkkkko",
          "Navex",
          "officialryzon",
          "Falke23_5",
          "SpeckyCut",
          "Tomiokey",
          "ForceFox",
          "TheBreadHD",
          "SB387",
          "Sebi1801",
          "loukrativ",
          "GamemasterNiki",
          "Martomias",
          "Oronor",
          "_Waldi_",
          "Harold_Sensemann",
          "Allooy",
          "GrafikKatze",
          "WirdNichtGeladen",
          "revolverz",
          "deadfiight",
          "Chander24",
          "lvlaurin",
          "Vacted",
          "xX_Masha_ggg_Xx9",
          "Joy_8oy",
          "twitchparaskiill",
          "Mvsk_"
         ],
         "y": [
          [
           45,
           45
          ],
          [
           52.5,
           52.5
          ],
          [
           42.5,
           42.5
          ],
          [
           25,
           25
          ],
          [
           62.5,
           62.5
          ],
          [
           22.5,
           22.5
          ],
          [
           20,
           20
          ],
          [
           25,
           25
          ],
          [
           0,
           0
          ],
          [
           0,
           0
          ],
          [
           0,
           0
          ],
          [
           0,
           0
          ],
          [
           0,
           0
          ],
          [
           42.5,
           42.5
          ],
          [
           17.5,
           17.5
          ],
          [
           0,
           0
          ],
          [
           0,
           0
          ],
          [
           12.5,
           12.5
          ],
          [
           15,
           15
          ],
          [
           0,
           0
          ],
          [
           0,
           0
          ],
          [
           0,
           0
          ],
          [
           0,
           0
          ],
          [
           25,
           25
          ],
          [
           7.5,
           7.5
          ],
          [
           20,
           20
          ],
          [
           20,
           20
          ],
          [
           0,
           0
          ],
          [
           0,
           0
          ],
          [
           10,
           10
          ],
          [
           22.5,
           22.5
          ],
          [
           12.5,
           12.5
          ],
          [
           0,
           0
          ],
          [
           0,
           0
          ],
          [
           0,
           0
          ],
          [
           0,
           0
          ],
          [
           0,
           0
          ],
          [
           0,
           0
          ],
          [
           0,
           0
          ],
          [
           0,
           0
          ],
          [
           0,
           0
          ],
          [
           0,
           0
          ],
          [
           0,
           0
          ],
          [
           0,
           0
          ],
          [
           0,
           0
          ],
          [
           0,
           0
          ],
          [
           0,
           0
          ],
          [
           0,
           0
          ],
          [
           0,
           0
          ],
          [
           0,
           0
          ],
          [
           15,
           15
          ],
          [
           0,
           0
          ],
          [
           0,
           0
          ],
          [
           0,
           0
          ],
          [
           12.5,
           12.5
          ],
          [
           0,
           0
          ],
          [
           0,
           0
          ],
          [
           0,
           0
          ],
          [
           0,
           0
          ],
          [
           0,
           0
          ],
          [
           0,
           0
          ],
          [
           0,
           0
          ],
          [
           0,
           0
          ],
          [
           0,
           0
          ],
          [
           0,
           0
          ],
          [
           0,
           0
          ],
          [
           0,
           0
          ],
          [
           0,
           0
          ],
          [
           0,
           0
          ],
          [
           0,
           0
          ],
          [
           0,
           0
          ],
          [
           0,
           0
          ],
          [
           0,
           0
          ],
          [
           0,
           0
          ],
          [
           0,
           0
          ],
          [
           7.5,
           7.5
          ],
          [
           0,
           0
          ],
          [
           0,
           0
          ],
          [
           0,
           0
          ],
          [
           0,
           0
          ],
          [
           0,
           0
          ],
          [
           0,
           0
          ],
          [
           0,
           0
          ],
          [
           0,
           0
          ],
          [
           0,
           0
          ],
          [
           0,
           0
          ],
          [
           0,
           0
          ],
          [
           0,
           0
          ],
          [
           0,
           0
          ],
          [
           0,
           0
          ],
          [
           0,
           0
          ],
          [
           0,
           0
          ],
          [
           0,
           0
          ],
          [
           0,
           0
          ],
          [
           5,
           5
          ],
          [
           0,
           0
          ],
          [
           0,
           0
          ],
          [
           0,
           0
          ],
          [
           0,
           0
          ],
          [
           0,
           0
          ]
         ]
        },
        {
         "marker": {
          "color": "rgb(136, 34, 85)"
         },
         "name": "Frostiger Pfad",
         "type": "bar",
         "x": [
          "Fflopse",
          "cediiiiii_10",
          "Gobo9",
          "PedroZockt",
          "HerrDante",
          "ReichesBrot",
          "_n3d",
          "Ex4cted",
          "yiiq",
          "JOW23",
          "lizsyy",
          "DarkCobweb",
          "camman18YT",
          "2wc",
          "Ninivee",
          "yzvm",
          "Grapfen",
          "Sey__",
          "Umgfoin",
          "KakaMC",
          "miridis41",
          "ffawks",
          "h4nnes",
          "Gerrygames",
          "Davinci_Son",
          "Sower_",
          "TheFabo",
          "2B9",
          "LeWi_100",
          "zBro",
          "unausgesprochen",
          "DieserBear",
          "Schmaarek",
          "GeneralEnte06",
          "lolisamasan",
          "Lubottus",
          "M0osebumps",
          "Freeeedom",
          "Gummibearchen",
          "frutigall",
          "La_meleagro",
          "CML_Justin",
          "chrisihalt",
          "xX_Dima_ggg_Xx6",
          "Feinberg",
          "ByNetherdude",
          "Morittz",
          "Flitzi_Dino",
          "bawskey",
          "Krusti",
          "Ritokii",
          "ZweitesIch",
          "HeIsJustAPoorBoy",
          "LeMetin_",
          "Luis_XYZ",
          "Janne4k",
          "byTobi",
          "Lingex",
          "LilFueller",
          "Shiewk",
          "Radiokopf",
          "Mincheeen",
          "Kyuudo",
          "Gryzes",
          "xBaumeisterin",
          "Jan2220",
          "LordAlexos",
          "DerBaumIstDerWeg",
          "Bartschii",
          "Kanickelul",
          "Wissender",
          "PixlNight",
          "Dokkkkko",
          "Navex",
          "officialryzon",
          "Falke23_5",
          "SpeckyCut",
          "Tomiokey",
          "ForceFox",
          "TheBreadHD",
          "SB387",
          "Sebi1801",
          "loukrativ",
          "GamemasterNiki",
          "Martomias",
          "Oronor",
          "_Waldi_",
          "Harold_Sensemann",
          "Allooy",
          "GrafikKatze",
          "WirdNichtGeladen",
          "revolverz",
          "deadfiight",
          "Chander24",
          "lvlaurin",
          "Vacted",
          "xX_Masha_ggg_Xx9",
          "Joy_8oy",
          "twitchparaskiill",
          "Mvsk_"
         ],
         "y": [
          [
           70,
           70
          ],
          [
           0,
           0
          ],
          [
           0,
           0
          ],
          [
           20,
           20
          ],
          [
           0,
           0
          ],
          [
           100,
           100
          ],
          [
           60,
           60
          ],
          [
           0,
           0
          ],
          [
           0,
           0
          ],
          [
           0,
           0
          ],
          [
           0,
           0
          ],
          [
           0,
           0
          ],
          [
           0,
           0
          ],
          [
           0,
           0
          ],
          [
           90,
           90
          ],
          [
           0,
           0
          ],
          [
           0,
           0
          ],
          [
           0,
           0
          ],
          [
           0,
           0
          ],
          [
           0,
           0
          ],
          [
           0,
           0
          ],
          [
           0,
           0
          ],
          [
           0,
           0
          ],
          [
           0,
           0
          ],
          [
           0,
           0
          ],
          [
           0,
           0
          ],
          [
           0,
           0
          ],
          [
           0,
           0
          ],
          [
           0,
           0
          ],
          [
           0,
           0
          ],
          [
           0,
           0
          ],
          [
           0,
           0
          ],
          [
           0,
           0
          ],
          [
           0,
           0
          ],
          [
           0,
           0
          ],
          [
           0,
           0
          ],
          [
           0,
           0
          ],
          [
           30,
           30
          ],
          [
           0,
           0
          ],
          [
           0,
           0
          ],
          [
           0,
           0
          ],
          [
           0,
           0
          ],
          [
           80,
           80
          ],
          [
           0,
           0
          ],
          [
           0,
           0
          ],
          [
           0,
           0
          ],
          [
           0,
           0
          ],
          [
           0,
           0
          ],
          [
           0,
           0
          ],
          [
           0,
           0
          ],
          [
           0,
           0
          ],
          [
           50,
           50
          ],
          [
           0,
           0
          ],
          [
           0,
           0
          ],
          [
           0,
           0
          ],
          [
           0,
           0
          ],
          [
           0,
           0
          ],
          [
           0,
           0
          ],
          [
           0,
           0
          ],
          [
           0,
           0
          ],
          [
           0,
           0
          ],
          [
           0,
           0
          ],
          [
           0,
           0
          ],
          [
           0,
           0
          ],
          [
           0,
           0
          ],
          [
           0,
           0
          ],
          [
           0,
           0
          ],
          [
           0,
           0
          ],
          [
           0,
           0
          ],
          [
           0,
           0
          ],
          [
           0,
           0
          ],
          [
           0,
           0
          ],
          [
           0,
           0
          ],
          [
           40,
           40
          ],
          [
           0,
           0
          ],
          [
           0,
           0
          ],
          [
           0,
           0
          ],
          [
           0,
           0
          ],
          [
           0,
           0
          ],
          [
           0,
           0
          ],
          [
           0,
           0
          ],
          [
           0,
           0
          ],
          [
           0,
           0
          ],
          [
           0,
           0
          ],
          [
           0,
           0
          ],
          [
           0,
           0
          ],
          [
           0,
           0
          ],
          [
           0,
           0
          ],
          [
           0,
           0
          ],
          [
           0,
           0
          ],
          [
           0,
           0
          ],
          [
           0,
           0
          ],
          [
           0,
           0
          ],
          [
           0,
           0
          ],
          [
           0,
           0
          ],
          [
           0,
           0
          ],
          [
           0,
           0
          ],
          [
           0,
           0
          ],
          [
           0,
           0
          ],
          [
           0,
           0
          ]
         ]
        },
        {
         "marker": {
          "color": "rgb(102, 17, 0)"
         },
         "name": "Hoch hinaus",
         "type": "bar",
         "x": [
          "Fflopse",
          "cediiiiii_10",
          "Gobo9",
          "PedroZockt",
          "HerrDante",
          "ReichesBrot",
          "_n3d",
          "Ex4cted",
          "yiiq",
          "JOW23",
          "lizsyy",
          "DarkCobweb",
          "camman18YT",
          "2wc",
          "Ninivee",
          "yzvm",
          "Grapfen",
          "Sey__",
          "Umgfoin",
          "KakaMC",
          "miridis41",
          "ffawks",
          "h4nnes",
          "Gerrygames",
          "Davinci_Son",
          "Sower_",
          "TheFabo",
          "2B9",
          "LeWi_100",
          "zBro",
          "unausgesprochen",
          "DieserBear",
          "Schmaarek",
          "GeneralEnte06",
          "lolisamasan",
          "Lubottus",
          "M0osebumps",
          "Freeeedom",
          "Gummibearchen",
          "frutigall",
          "La_meleagro",
          "CML_Justin",
          "chrisihalt",
          "xX_Dima_ggg_Xx6",
          "Feinberg",
          "ByNetherdude",
          "Morittz",
          "Flitzi_Dino",
          "bawskey",
          "Krusti",
          "Ritokii",
          "ZweitesIch",
          "HeIsJustAPoorBoy",
          "LeMetin_",
          "Luis_XYZ",
          "Janne4k",
          "byTobi",
          "Lingex",
          "LilFueller",
          "Shiewk",
          "Radiokopf",
          "Mincheeen",
          "Kyuudo",
          "Gryzes",
          "xBaumeisterin",
          "Jan2220",
          "LordAlexos",
          "DerBaumIstDerWeg",
          "Bartschii",
          "Kanickelul",
          "Wissender",
          "PixlNight",
          "Dokkkkko",
          "Navex",
          "officialryzon",
          "Falke23_5",
          "SpeckyCut",
          "Tomiokey",
          "ForceFox",
          "TheBreadHD",
          "SB387",
          "Sebi1801",
          "loukrativ",
          "GamemasterNiki",
          "Martomias",
          "Oronor",
          "_Waldi_",
          "Harold_Sensemann",
          "Allooy",
          "GrafikKatze",
          "WirdNichtGeladen",
          "revolverz",
          "deadfiight",
          "Chander24",
          "lvlaurin",
          "Vacted",
          "xX_Masha_ggg_Xx9",
          "Joy_8oy",
          "twitchparaskiill",
          "Mvsk_"
         ],
         "y": [
          [
           80,
           80
          ],
          [
           30,
           30
          ],
          [
           70,
           70
          ],
          [
           90,
           90
          ],
          [
           0,
           0
          ],
          [
           0,
           0
          ],
          [
           0,
           0
          ],
          [
           50,
           50
          ],
          [
           0,
           0
          ],
          [
           0,
           0
          ],
          [
           0,
           0
          ],
          [
           0,
           0
          ],
          [
           0,
           0
          ],
          [
           0,
           0
          ],
          [
           0,
           0
          ],
          [
           0,
           0
          ],
          [
           0,
           0
          ],
          [
           40,
           40
          ],
          [
           20,
           20
          ],
          [
           0,
           0
          ],
          [
           0,
           0
          ],
          [
           0,
           0
          ],
          [
           0,
           0
          ],
          [
           0,
           0
          ],
          [
           0,
           0
          ],
          [
           0,
           0
          ],
          [
           0,
           0
          ],
          [
           0,
           0
          ],
          [
           0,
           0
          ],
          [
           0,
           0
          ],
          [
           0,
           0
          ],
          [
           0,
           0
          ],
          [
           0,
           0
          ],
          [
           0,
           0
          ],
          [
           0,
           0
          ],
          [
           0,
           0
          ],
          [
           0,
           0
          ],
          [
           0,
           0
          ],
          [
           0,
           0
          ],
          [
           0,
           0
          ],
          [
           0,
           0
          ],
          [
           60,
           60
          ],
          [
           0,
           0
          ],
          [
           0,
           0
          ],
          [
           0,
           0
          ],
          [
           100,
           100
          ],
          [
           0,
           0
          ],
          [
           0,
           0
          ],
          [
           0,
           0
          ],
          [
           0,
           0
          ],
          [
           0,
           0
          ],
          [
           0,
           0
          ],
          [
           0,
           0
          ],
          [
           0,
           0
          ],
          [
           0,
           0
          ],
          [
           0,
           0
          ],
          [
           0,
           0
          ],
          [
           0,
           0
          ],
          [
           0,
           0
          ],
          [
           0,
           0
          ],
          [
           0,
           0
          ],
          [
           0,
           0
          ],
          [
           0,
           0
          ],
          [
           0,
           0
          ],
          [
           0,
           0
          ],
          [
           0,
           0
          ],
          [
           0,
           0
          ],
          [
           0,
           0
          ],
          [
           0,
           0
          ],
          [
           0,
           0
          ],
          [
           0,
           0
          ],
          [
           0,
           0
          ],
          [
           0,
           0
          ],
          [
           0,
           0
          ],
          [
           0,
           0
          ],
          [
           0,
           0
          ],
          [
           0,
           0
          ],
          [
           0,
           0
          ],
          [
           0,
           0
          ],
          [
           0,
           0
          ],
          [
           0,
           0
          ],
          [
           0,
           0
          ],
          [
           0,
           0
          ],
          [
           0,
           0
          ],
          [
           0,
           0
          ],
          [
           0,
           0
          ],
          [
           0,
           0
          ],
          [
           0,
           0
          ],
          [
           0,
           0
          ],
          [
           0,
           0
          ],
          [
           0,
           0
          ],
          [
           0,
           0
          ],
          [
           0,
           0
          ],
          [
           0,
           0
          ],
          [
           0,
           0
          ],
          [
           0,
           0
          ],
          [
           0,
           0
          ],
          [
           0,
           0
          ],
          [
           0,
           0
          ],
          [
           0,
           0
          ]
         ]
        },
        {
         "marker": {
          "color": "rgb(136, 136, 136)"
         },
         "name": "Jump and Run",
         "type": "bar",
         "x": [
          "Fflopse",
          "cediiiiii_10",
          "Gobo9",
          "PedroZockt",
          "HerrDante",
          "ReichesBrot",
          "_n3d",
          "Ex4cted",
          "yiiq",
          "JOW23",
          "lizsyy",
          "DarkCobweb",
          "camman18YT",
          "2wc",
          "Ninivee",
          "yzvm",
          "Grapfen",
          "Sey__",
          "Umgfoin",
          "KakaMC",
          "miridis41",
          "ffawks",
          "h4nnes",
          "Gerrygames",
          "Davinci_Son",
          "Sower_",
          "TheFabo",
          "2B9",
          "LeWi_100",
          "zBro",
          "unausgesprochen",
          "DieserBear",
          "Schmaarek",
          "GeneralEnte06",
          "lolisamasan",
          "Lubottus",
          "M0osebumps",
          "Freeeedom",
          "Gummibearchen",
          "frutigall",
          "La_meleagro",
          "CML_Justin",
          "chrisihalt",
          "xX_Dima_ggg_Xx6",
          "Feinberg",
          "ByNetherdude",
          "Morittz",
          "Flitzi_Dino",
          "bawskey",
          "Krusti",
          "Ritokii",
          "ZweitesIch",
          "HeIsJustAPoorBoy",
          "LeMetin_",
          "Luis_XYZ",
          "Janne4k",
          "byTobi",
          "Lingex",
          "LilFueller",
          "Shiewk",
          "Radiokopf",
          "Mincheeen",
          "Kyuudo",
          "Gryzes",
          "xBaumeisterin",
          "Jan2220",
          "LordAlexos",
          "DerBaumIstDerWeg",
          "Bartschii",
          "Kanickelul",
          "Wissender",
          "PixlNight",
          "Dokkkkko",
          "Navex",
          "officialryzon",
          "Falke23_5",
          "SpeckyCut",
          "Tomiokey",
          "ForceFox",
          "TheBreadHD",
          "SB387",
          "Sebi1801",
          "loukrativ",
          "GamemasterNiki",
          "Martomias",
          "Oronor",
          "_Waldi_",
          "Harold_Sensemann",
          "Allooy",
          "GrafikKatze",
          "WirdNichtGeladen",
          "revolverz",
          "deadfiight",
          "Chander24",
          "lvlaurin",
          "Vacted",
          "xX_Masha_ggg_Xx9",
          "Joy_8oy",
          "twitchparaskiill",
          "Mvsk_"
         ],
         "y": [
          [
           56.666666666666664,
           56.666666666666664
          ],
          [
           23.333333333333332,
           23.333333333333332
          ],
          [
           96.66666666666667,
           96.66666666666667
          ],
          [
           20,
           20
          ],
          [
           36.666666666666664,
           36.666666666666664
          ],
          [
           86.66666666666667,
           86.66666666666667
          ],
          [
           0,
           0
          ],
          [
           6.666666666666667,
           6.666666666666667
          ],
          [
           13.333333333333334,
           13.333333333333334
          ],
          [
           10,
           10
          ],
          [
           16.666666666666668,
           16.666666666666668
          ],
          [
           0,
           0
          ],
          [
           36.666666666666664,
           36.666666666666664
          ],
          [
           16.666666666666668,
           16.666666666666668
          ],
          [
           0,
           0
          ],
          [
           0,
           0
          ],
          [
           0,
           0
          ],
          [
           20,
           20
          ],
          [
           0,
           0
          ],
          [
           13.333333333333334,
           13.333333333333334
          ],
          [
           0,
           0
          ],
          [
           0,
           0
          ],
          [
           0,
           0
          ],
          [
           0,
           0
          ],
          [
           0,
           0
          ],
          [
           0,
           0
          ],
          [
           0,
           0
          ],
          [
           0,
           0
          ],
          [
           46.666666666666664,
           46.666666666666664
          ],
          [
           0,
           0
          ],
          [
           0,
           0
          ],
          [
           0,
           0
          ],
          [
           0,
           0
          ],
          [
           0,
           0
          ],
          [
           0,
           0
          ],
          [
           6.666666666666667,
           6.666666666666667
          ],
          [
           0,
           0
          ],
          [
           0,
           0
          ],
          [
           0,
           0
          ],
          [
           0,
           0
          ],
          [
           0,
           0
          ],
          [
           0,
           0
          ],
          [
           0,
           0
          ],
          [
           0,
           0
          ],
          [
           0,
           0
          ],
          [
           0,
           0
          ],
          [
           0,
           0
          ],
          [
           0,
           0
          ],
          [
           0,
           0
          ],
          [
           0,
           0
          ],
          [
           0,
           0
          ],
          [
           0,
           0
          ],
          [
           0,
           0
          ],
          [
           0,
           0
          ],
          [
           0,
           0
          ],
          [
           0,
           0
          ],
          [
           0,
           0
          ],
          [
           0,
           0
          ],
          [
           0,
           0
          ],
          [
           0,
           0
          ],
          [
           0,
           0
          ],
          [
           0,
           0
          ],
          [
           0,
           0
          ],
          [
           0,
           0
          ],
          [
           0,
           0
          ],
          [
           0,
           0
          ],
          [
           0,
           0
          ],
          [
           23.333333333333332,
           23.333333333333332
          ],
          [
           0,
           0
          ],
          [
           0,
           0
          ],
          [
           0,
           0
          ],
          [
           0,
           0
          ],
          [
           0,
           0
          ],
          [
           0,
           0
          ],
          [
           0,
           0
          ],
          [
           0,
           0
          ],
          [
           0,
           0
          ],
          [
           0,
           0
          ],
          [
           0,
           0
          ],
          [
           0,
           0
          ],
          [
           0,
           0
          ],
          [
           0,
           0
          ],
          [
           0,
           0
          ],
          [
           0,
           0
          ],
          [
           0,
           0
          ],
          [
           0,
           0
          ],
          [
           0,
           0
          ],
          [
           0,
           0
          ],
          [
           0,
           0
          ],
          [
           0,
           0
          ],
          [
           0,
           0
          ],
          [
           0,
           0
          ],
          [
           0,
           0
          ],
          [
           0,
           0
          ],
          [
           0,
           0
          ],
          [
           0,
           0
          ],
          [
           0,
           0
          ],
          [
           0,
           0
          ],
          [
           0,
           0
          ],
          [
           0,
           0
          ]
         ]
        },
        {
         "marker": {
          "color": "rgb(136, 204, 238)"
         },
         "name": "Kletter-König",
         "type": "bar",
         "x": [
          "Fflopse",
          "cediiiiii_10",
          "Gobo9",
          "PedroZockt",
          "HerrDante",
          "ReichesBrot",
          "_n3d",
          "Ex4cted",
          "yiiq",
          "JOW23",
          "lizsyy",
          "DarkCobweb",
          "camman18YT",
          "2wc",
          "Ninivee",
          "yzvm",
          "Grapfen",
          "Sey__",
          "Umgfoin",
          "KakaMC",
          "miridis41",
          "ffawks",
          "h4nnes",
          "Gerrygames",
          "Davinci_Son",
          "Sower_",
          "TheFabo",
          "2B9",
          "LeWi_100",
          "zBro",
          "unausgesprochen",
          "DieserBear",
          "Schmaarek",
          "GeneralEnte06",
          "lolisamasan",
          "Lubottus",
          "M0osebumps",
          "Freeeedom",
          "Gummibearchen",
          "frutigall",
          "La_meleagro",
          "CML_Justin",
          "chrisihalt",
          "xX_Dima_ggg_Xx6",
          "Feinberg",
          "ByNetherdude",
          "Morittz",
          "Flitzi_Dino",
          "bawskey",
          "Krusti",
          "Ritokii",
          "ZweitesIch",
          "HeIsJustAPoorBoy",
          "LeMetin_",
          "Luis_XYZ",
          "Janne4k",
          "byTobi",
          "Lingex",
          "LilFueller",
          "Shiewk",
          "Radiokopf",
          "Mincheeen",
          "Kyuudo",
          "Gryzes",
          "xBaumeisterin",
          "Jan2220",
          "LordAlexos",
          "DerBaumIstDerWeg",
          "Bartschii",
          "Kanickelul",
          "Wissender",
          "PixlNight",
          "Dokkkkko",
          "Navex",
          "officialryzon",
          "Falke23_5",
          "SpeckyCut",
          "Tomiokey",
          "ForceFox",
          "TheBreadHD",
          "SB387",
          "Sebi1801",
          "loukrativ",
          "GamemasterNiki",
          "Martomias",
          "Oronor",
          "_Waldi_",
          "Harold_Sensemann",
          "Allooy",
          "GrafikKatze",
          "WirdNichtGeladen",
          "revolverz",
          "deadfiight",
          "Chander24",
          "lvlaurin",
          "Vacted",
          "xX_Masha_ggg_Xx9",
          "Joy_8oy",
          "twitchparaskiill",
          "Mvsk_"
         ],
         "y": [
          [
           95,
           95
          ],
          [
           0,
           0
          ],
          [
           30,
           30
          ],
          [
           25,
           25
          ],
          [
           25,
           25
          ],
          [
           50,
           50
          ],
          [
           0,
           0
          ],
          [
           0,
           0
          ],
          [
           40,
           40
          ],
          [
           0,
           0
          ],
          [
           0,
           0
          ],
          [
           0,
           0
          ],
          [
           50,
           50
          ],
          [
           0,
           0
          ],
          [
           0,
           0
          ],
          [
           25,
           25
          ],
          [
           0,
           0
          ],
          [
           0,
           0
          ],
          [
           0,
           0
          ],
          [
           0,
           0
          ],
          [
           0,
           0
          ],
          [
           20,
           20
          ],
          [
           0,
           0
          ],
          [
           0,
           0
          ],
          [
           0,
           0
          ],
          [
           0,
           0
          ],
          [
           0,
           0
          ],
          [
           0,
           0
          ],
          [
           40,
           40
          ],
          [
           0,
           0
          ],
          [
           0,
           0
          ],
          [
           0,
           0
          ],
          [
           0,
           0
          ],
          [
           0,
           0
          ],
          [
           0,
           0
          ],
          [
           55,
           55
          ],
          [
           0,
           0
          ],
          [
           0,
           0
          ],
          [
           0,
           0
          ],
          [
           0,
           0
          ],
          [
           0,
           0
          ],
          [
           0,
           0
          ],
          [
           0,
           0
          ],
          [
           45,
           45
          ],
          [
           30,
           30
          ],
          [
           0,
           0
          ],
          [
           0,
           0
          ],
          [
           0,
           0
          ],
          [
           0,
           0
          ],
          [
           0,
           0
          ],
          [
           0,
           0
          ],
          [
           0,
           0
          ],
          [
           0,
           0
          ],
          [
           0,
           0
          ],
          [
           0,
           0
          ],
          [
           0,
           0
          ],
          [
           0,
           0
          ],
          [
           0,
           0
          ],
          [
           0,
           0
          ],
          [
           0,
           0
          ],
          [
           0,
           0
          ],
          [
           0,
           0
          ],
          [
           0,
           0
          ],
          [
           0,
           0
          ],
          [
           0,
           0
          ],
          [
           0,
           0
          ],
          [
           0,
           0
          ],
          [
           0,
           0
          ],
          [
           0,
           0
          ],
          [
           0,
           0
          ],
          [
           0,
           0
          ],
          [
           10,
           10
          ],
          [
           0,
           0
          ],
          [
           0,
           0
          ],
          [
           0,
           0
          ],
          [
           0,
           0
          ],
          [
           0,
           0
          ],
          [
           0,
           0
          ],
          [
           0,
           0
          ],
          [
           0,
           0
          ],
          [
           0,
           0
          ],
          [
           0,
           0
          ],
          [
           0,
           0
          ],
          [
           0,
           0
          ],
          [
           0,
           0
          ],
          [
           0,
           0
          ],
          [
           0,
           0
          ],
          [
           0,
           0
          ],
          [
           0,
           0
          ],
          [
           0,
           0
          ],
          [
           0,
           0
          ],
          [
           0,
           0
          ],
          [
           0,
           0
          ],
          [
           0,
           0
          ],
          [
           0,
           0
          ],
          [
           0,
           0
          ],
          [
           0,
           0
          ],
          [
           0,
           0
          ],
          [
           0,
           0
          ],
          [
           0,
           0
          ]
         ]
        },
        {
         "marker": {
          "color": "rgb(204, 102, 119)"
         },
         "name": "Lasertag",
         "type": "bar",
         "x": [
          "Fflopse",
          "cediiiiii_10",
          "Gobo9",
          "PedroZockt",
          "HerrDante",
          "ReichesBrot",
          "_n3d",
          "Ex4cted",
          "yiiq",
          "JOW23",
          "lizsyy",
          "DarkCobweb",
          "camman18YT",
          "2wc",
          "Ninivee",
          "yzvm",
          "Grapfen",
          "Sey__",
          "Umgfoin",
          "KakaMC",
          "miridis41",
          "ffawks",
          "h4nnes",
          "Gerrygames",
          "Davinci_Son",
          "Sower_",
          "TheFabo",
          "2B9",
          "LeWi_100",
          "zBro",
          "unausgesprochen",
          "DieserBear",
          "Schmaarek",
          "GeneralEnte06",
          "lolisamasan",
          "Lubottus",
          "M0osebumps",
          "Freeeedom",
          "Gummibearchen",
          "frutigall",
          "La_meleagro",
          "CML_Justin",
          "chrisihalt",
          "xX_Dima_ggg_Xx6",
          "Feinberg",
          "ByNetherdude",
          "Morittz",
          "Flitzi_Dino",
          "bawskey",
          "Krusti",
          "Ritokii",
          "ZweitesIch",
          "HeIsJustAPoorBoy",
          "LeMetin_",
          "Luis_XYZ",
          "Janne4k",
          "byTobi",
          "Lingex",
          "LilFueller",
          "Shiewk",
          "Radiokopf",
          "Mincheeen",
          "Kyuudo",
          "Gryzes",
          "xBaumeisterin",
          "Jan2220",
          "LordAlexos",
          "DerBaumIstDerWeg",
          "Bartschii",
          "Kanickelul",
          "Wissender",
          "PixlNight",
          "Dokkkkko",
          "Navex",
          "officialryzon",
          "Falke23_5",
          "SpeckyCut",
          "Tomiokey",
          "ForceFox",
          "TheBreadHD",
          "SB387",
          "Sebi1801",
          "loukrativ",
          "GamemasterNiki",
          "Martomias",
          "Oronor",
          "_Waldi_",
          "Harold_Sensemann",
          "Allooy",
          "GrafikKatze",
          "WirdNichtGeladen",
          "revolverz",
          "deadfiight",
          "Chander24",
          "lvlaurin",
          "Vacted",
          "xX_Masha_ggg_Xx9",
          "Joy_8oy",
          "twitchparaskiill",
          "Mvsk_"
         ],
         "y": [
          [
           86.66666666666667,
           86.66666666666667
          ],
          [
           0,
           0
          ],
          [
           13.333333333333334,
           13.333333333333334
          ],
          [
           36.666666666666664,
           36.666666666666664
          ],
          [
           86.66666666666667,
           86.66666666666667
          ],
          [
           0,
           0
          ],
          [
           0,
           0
          ],
          [
           30,
           30
          ],
          [
           0,
           0
          ],
          [
           53.333333333333336,
           53.333333333333336
          ],
          [
           0,
           0
          ],
          [
           0,
           0
          ],
          [
           0,
           0
          ],
          [
           23.333333333333332,
           23.333333333333332
          ],
          [
           0,
           0
          ],
          [
           0,
           0
          ],
          [
           16.666666666666668,
           16.666666666666668
          ],
          [
           0,
           0
          ],
          [
           0,
           0
          ],
          [
           0,
           0
          ],
          [
           0,
           0
          ],
          [
           26.666666666666668,
           26.666666666666668
          ],
          [
           20,
           20
          ],
          [
           0,
           0
          ],
          [
           13.333333333333334,
           13.333333333333334
          ],
          [
           0,
           0
          ],
          [
           46.666666666666664,
           46.666666666666664
          ],
          [
           0,
           0
          ],
          [
           0,
           0
          ],
          [
           10,
           10
          ],
          [
           36.666666666666664,
           36.666666666666664
          ],
          [
           0,
           0
          ],
          [
           0,
           0
          ],
          [
           0,
           0
          ],
          [
           23.333333333333332,
           23.333333333333332
          ],
          [
           0,
           0
          ],
          [
           0,
           0
          ],
          [
           0,
           0
          ],
          [
           0,
           0
          ],
          [
           16.666666666666668,
           16.666666666666668
          ],
          [
           0,
           0
          ],
          [
           0,
           0
          ],
          [
           0,
           0
          ],
          [
           0,
           0
          ],
          [
           0,
           0
          ],
          [
           0,
           0
          ],
          [
           0,
           0
          ],
          [
           0,
           0
          ],
          [
           6.666666666666667,
           6.666666666666667
          ],
          [
           0,
           0
          ],
          [
           0,
           0
          ],
          [
           0,
           0
          ],
          [
           0,
           0
          ],
          [
           0,
           0
          ],
          [
           0,
           0
          ],
          [
           0,
           0
          ],
          [
           0,
           0
          ],
          [
           0,
           0
          ],
          [
           0,
           0
          ],
          [
           0,
           0
          ],
          [
           0,
           0
          ],
          [
           0,
           0
          ],
          [
           0,
           0
          ],
          [
           13.333333333333334,
           13.333333333333334
          ],
          [
           0,
           0
          ],
          [
           0,
           0
          ],
          [
           0,
           0
          ],
          [
           0,
           0
          ],
          [
           0,
           0
          ],
          [
           0,
           0
          ],
          [
           0,
           0
          ],
          [
           0,
           0
          ],
          [
           0,
           0
          ],
          [
           0,
           0
          ],
          [
           0,
           0
          ],
          [
           0,
           0
          ],
          [
           0,
           0
          ],
          [
           0,
           0
          ],
          [
           0,
           0
          ],
          [
           0,
           0
          ],
          [
           0,
           0
          ],
          [
           0,
           0
          ],
          [
           0,
           0
          ],
          [
           0,
           0
          ],
          [
           0,
           0
          ],
          [
           0,
           0
          ],
          [
           0,
           0
          ],
          [
           0,
           0
          ],
          [
           0,
           0
          ],
          [
           0,
           0
          ],
          [
           0,
           0
          ],
          [
           16.666666666666668,
           16.666666666666668
          ],
          [
           0,
           0
          ],
          [
           0,
           0
          ],
          [
           0,
           0
          ],
          [
           0,
           0
          ],
          [
           0,
           0
          ],
          [
           0,
           0
          ],
          [
           0,
           0
          ],
          [
           0,
           0
          ]
         ]
        },
        {
         "marker": {
          "color": "rgb(221, 204, 119)"
         },
         "name": "Minenfeld",
         "type": "bar",
         "x": [
          "Fflopse",
          "cediiiiii_10",
          "Gobo9",
          "PedroZockt",
          "HerrDante",
          "ReichesBrot",
          "_n3d",
          "Ex4cted",
          "yiiq",
          "JOW23",
          "lizsyy",
          "DarkCobweb",
          "camman18YT",
          "2wc",
          "Ninivee",
          "yzvm",
          "Grapfen",
          "Sey__",
          "Umgfoin",
          "KakaMC",
          "miridis41",
          "ffawks",
          "h4nnes",
          "Gerrygames",
          "Davinci_Son",
          "Sower_",
          "TheFabo",
          "2B9",
          "LeWi_100",
          "zBro",
          "unausgesprochen",
          "DieserBear",
          "Schmaarek",
          "GeneralEnte06",
          "lolisamasan",
          "Lubottus",
          "M0osebumps",
          "Freeeedom",
          "Gummibearchen",
          "frutigall",
          "La_meleagro",
          "CML_Justin",
          "chrisihalt",
          "xX_Dima_ggg_Xx6",
          "Feinberg",
          "ByNetherdude",
          "Morittz",
          "Flitzi_Dino",
          "bawskey",
          "Krusti",
          "Ritokii",
          "ZweitesIch",
          "HeIsJustAPoorBoy",
          "LeMetin_",
          "Luis_XYZ",
          "Janne4k",
          "byTobi",
          "Lingex",
          "LilFueller",
          "Shiewk",
          "Radiokopf",
          "Mincheeen",
          "Kyuudo",
          "Gryzes",
          "xBaumeisterin",
          "Jan2220",
          "LordAlexos",
          "DerBaumIstDerWeg",
          "Bartschii",
          "Kanickelul",
          "Wissender",
          "PixlNight",
          "Dokkkkko",
          "Navex",
          "officialryzon",
          "Falke23_5",
          "SpeckyCut",
          "Tomiokey",
          "ForceFox",
          "TheBreadHD",
          "SB387",
          "Sebi1801",
          "loukrativ",
          "GamemasterNiki",
          "Martomias",
          "Oronor",
          "_Waldi_",
          "Harold_Sensemann",
          "Allooy",
          "GrafikKatze",
          "WirdNichtGeladen",
          "revolverz",
          "deadfiight",
          "Chander24",
          "lvlaurin",
          "Vacted",
          "xX_Masha_ggg_Xx9",
          "Joy_8oy",
          "twitchparaskiill",
          "Mvsk_"
         ],
         "y": [
          [
           33.333333333333336,
           33.333333333333336
          ],
          [
           16.666666666666668,
           16.666666666666668
          ],
          [
           0,
           0
          ],
          [
           6.666666666666667,
           6.666666666666667
          ],
          [
           46.666666666666664,
           46.666666666666664
          ],
          [
           30,
           30
          ],
          [
           13.333333333333334,
           13.333333333333334
          ],
          [
           10,
           10
          ],
          [
           0,
           0
          ],
          [
           13.333333333333334,
           13.333333333333334
          ],
          [
           0,
           0
          ],
          [
           0,
           0
          ],
          [
           0,
           0
          ],
          [
           10,
           10
          ],
          [
           26.666666666666668,
           26.666666666666668
          ],
          [
           0,
           0
          ],
          [
           0,
           0
          ],
          [
           40,
           40
          ],
          [
           0,
           0
          ],
          [
           0,
           0
          ],
          [
           0,
           0
          ],
          [
           0,
           0
          ],
          [
           0,
           0
          ],
          [
           0,
           0
          ],
          [
           6.666666666666667,
           6.666666666666667
          ],
          [
           0,
           0
          ],
          [
           0,
           0
          ],
          [
           23.333333333333332,
           23.333333333333332
          ],
          [
           26.666666666666668,
           26.666666666666668
          ],
          [
           60,
           60
          ],
          [
           0,
           0
          ],
          [
           0,
           0
          ],
          [
           0,
           0
          ],
          [
           0,
           0
          ],
          [
           0,
           0
          ],
          [
           0,
           0
          ],
          [
           0,
           0
          ],
          [
           0,
           0
          ],
          [
           0,
           0
          ],
          [
           6.666666666666667,
           6.666666666666667
          ],
          [
           0,
           0
          ],
          [
           0,
           0
          ],
          [
           33.333333333333336,
           33.333333333333336
          ],
          [
           0,
           0
          ],
          [
           0,
           0
          ],
          [
           0,
           0
          ],
          [
           0,
           0
          ],
          [
           0,
           0
          ],
          [
           0,
           0
          ],
          [
           13.333333333333334,
           13.333333333333334
          ],
          [
           0,
           0
          ],
          [
           0,
           0
          ],
          [
           0,
           0
          ],
          [
           53.333333333333336,
           53.333333333333336
          ],
          [
           10,
           10
          ],
          [
           0,
           0
          ],
          [
           0,
           0
          ],
          [
           0,
           0
          ],
          [
           0,
           0
          ],
          [
           0,
           0
          ],
          [
           0,
           0
          ],
          [
           0,
           0
          ],
          [
           0,
           0
          ],
          [
           0,
           0
          ],
          [
           0,
           0
          ],
          [
           0,
           0
          ],
          [
           0,
           0
          ],
          [
           0,
           0
          ],
          [
           0,
           0
          ],
          [
           0,
           0
          ],
          [
           0,
           0
          ],
          [
           23.333333333333332,
           23.333333333333332
          ],
          [
           0,
           0
          ],
          [
           0,
           0
          ],
          [
           0,
           0
          ],
          [
           0,
           0
          ],
          [
           0,
           0
          ],
          [
           0,
           0
          ],
          [
           0,
           0
          ],
          [
           0,
           0
          ],
          [
           0,
           0
          ],
          [
           0,
           0
          ],
          [
           0,
           0
          ],
          [
           0,
           0
          ],
          [
           0,
           0
          ],
          [
           20,
           20
          ],
          [
           0,
           0
          ],
          [
           0,
           0
          ],
          [
           0,
           0
          ],
          [
           0,
           0
          ],
          [
           0,
           0
          ],
          [
           0,
           0
          ],
          [
           16.666666666666668,
           16.666666666666668
          ],
          [
           0,
           0
          ],
          [
           0,
           0
          ],
          [
           0,
           0
          ],
          [
           0,
           0
          ],
          [
           0,
           0
          ],
          [
           0,
           0
          ],
          [
           0,
           0
          ]
         ]
        },
        {
         "marker": {
          "color": "rgb(17, 119, 51)"
         },
         "name": "Minengefecht",
         "type": "bar",
         "x": [
          "Fflopse",
          "cediiiiii_10",
          "Gobo9",
          "PedroZockt",
          "HerrDante",
          "ReichesBrot",
          "_n3d",
          "Ex4cted",
          "yiiq",
          "JOW23",
          "lizsyy",
          "DarkCobweb",
          "camman18YT",
          "2wc",
          "Ninivee",
          "yzvm",
          "Grapfen",
          "Sey__",
          "Umgfoin",
          "KakaMC",
          "miridis41",
          "ffawks",
          "h4nnes",
          "Gerrygames",
          "Davinci_Son",
          "Sower_",
          "TheFabo",
          "2B9",
          "LeWi_100",
          "zBro",
          "unausgesprochen",
          "DieserBear",
          "Schmaarek",
          "GeneralEnte06",
          "lolisamasan",
          "Lubottus",
          "M0osebumps",
          "Freeeedom",
          "Gummibearchen",
          "frutigall",
          "La_meleagro",
          "CML_Justin",
          "chrisihalt",
          "xX_Dima_ggg_Xx6",
          "Feinberg",
          "ByNetherdude",
          "Morittz",
          "Flitzi_Dino",
          "bawskey",
          "Krusti",
          "Ritokii",
          "ZweitesIch",
          "HeIsJustAPoorBoy",
          "LeMetin_",
          "Luis_XYZ",
          "Janne4k",
          "byTobi",
          "Lingex",
          "LilFueller",
          "Shiewk",
          "Radiokopf",
          "Mincheeen",
          "Kyuudo",
          "Gryzes",
          "xBaumeisterin",
          "Jan2220",
          "LordAlexos",
          "DerBaumIstDerWeg",
          "Bartschii",
          "Kanickelul",
          "Wissender",
          "PixlNight",
          "Dokkkkko",
          "Navex",
          "officialryzon",
          "Falke23_5",
          "SpeckyCut",
          "Tomiokey",
          "ForceFox",
          "TheBreadHD",
          "SB387",
          "Sebi1801",
          "loukrativ",
          "GamemasterNiki",
          "Martomias",
          "Oronor",
          "_Waldi_",
          "Harold_Sensemann",
          "Allooy",
          "GrafikKatze",
          "WirdNichtGeladen",
          "revolverz",
          "deadfiight",
          "Chander24",
          "lvlaurin",
          "Vacted",
          "xX_Masha_ggg_Xx9",
          "Joy_8oy",
          "twitchparaskiill",
          "Mvsk_"
         ],
         "y": [
          [
           20,
           20
          ],
          [
           100,
           100
          ],
          [
           16.666666666666668,
           16.666666666666668
          ],
          [
           0,
           0
          ],
          [
           16.666666666666668,
           16.666666666666668
          ],
          [
           20,
           20
          ],
          [
           33.333333333333336,
           33.333333333333336
          ],
          [
           0,
           0
          ],
          [
           66.66666666666667,
           66.66666666666667
          ],
          [
           26.666666666666668,
           26.666666666666668
          ],
          [
           0,
           0
          ],
          [
           83.33333333333333,
           83.33333333333333
          ],
          [
           0,
           0
          ],
          [
           30,
           30
          ],
          [
           0,
           0
          ],
          [
           50,
           50
          ],
          [
           20,
           20
          ],
          [
           0,
           0
          ],
          [
           0,
           0
          ],
          [
           0,
           0
          ],
          [
           0,
           0
          ],
          [
           16.666666666666668,
           16.666666666666668
          ],
          [
           0,
           0
          ],
          [
           0,
           0
          ],
          [
           30,
           30
          ],
          [
           0,
           0
          ],
          [
           0,
           0
          ],
          [
           0,
           0
          ],
          [
           0,
           0
          ],
          [
           0,
           0
          ],
          [
           0,
           0
          ],
          [
           0,
           0
          ],
          [
           26.666666666666668,
           26.666666666666668
          ],
          [
           16.666666666666668,
           16.666666666666668
          ],
          [
           0,
           0
          ],
          [
           0,
           0
          ],
          [
           0,
           0
          ],
          [
           16.666666666666668,
           16.666666666666668
          ],
          [
           16.666666666666668,
           16.666666666666668
          ],
          [
           0,
           0
          ],
          [
           0,
           0
          ],
          [
           0,
           0
          ],
          [
           0,
           0
          ],
          [
           0,
           0
          ],
          [
           0,
           0
          ],
          [
           0,
           0
          ],
          [
           16.666666666666668,
           16.666666666666668
          ],
          [
           0,
           0
          ],
          [
           0,
           0
          ],
          [
           0,
           0
          ],
          [
           0,
           0
          ],
          [
           0,
           0
          ],
          [
           0,
           0
          ],
          [
           0,
           0
          ],
          [
           0,
           0
          ],
          [
           33.333333333333336,
           33.333333333333336
          ],
          [
           0,
           0
          ],
          [
           0,
           0
          ],
          [
           0,
           0
          ],
          [
           0,
           0
          ],
          [
           0,
           0
          ],
          [
           0,
           0
          ],
          [
           33.333333333333336,
           33.333333333333336
          ],
          [
           0,
           0
          ],
          [
           0,
           0
          ],
          [
           0,
           0
          ],
          [
           0,
           0
          ],
          [
           0,
           0
          ],
          [
           0,
           0
          ],
          [
           0,
           0
          ],
          [
           0,
           0
          ],
          [
           0,
           0
          ],
          [
           0,
           0
          ],
          [
           0,
           0
          ],
          [
           0,
           0
          ],
          [
           0,
           0
          ],
          [
           0,
           0
          ],
          [
           0,
           0
          ],
          [
           20,
           20
          ],
          [
           0,
           0
          ],
          [
           0,
           0
          ],
          [
           0,
           0
          ],
          [
           0,
           0
          ],
          [
           0,
           0
          ],
          [
           0,
           0
          ],
          [
           0,
           0
          ],
          [
           0,
           0
          ],
          [
           20,
           20
          ],
          [
           0,
           0
          ],
          [
           0,
           0
          ],
          [
           0,
           0
          ],
          [
           0,
           0
          ],
          [
           0,
           0
          ],
          [
           0,
           0
          ],
          [
           0,
           0
          ],
          [
           0,
           0
          ],
          [
           0,
           0
          ],
          [
           0,
           0
          ],
          [
           0,
           0
          ],
          [
           0,
           0
          ]
         ]
        },
        {
         "marker": {
          "color": "rgb(51, 34, 136)"
         },
         "name": "Mini Skywars",
         "type": "bar",
         "x": [
          "Fflopse",
          "cediiiiii_10",
          "Gobo9",
          "PedroZockt",
          "HerrDante",
          "ReichesBrot",
          "_n3d",
          "Ex4cted",
          "yiiq",
          "JOW23",
          "lizsyy",
          "DarkCobweb",
          "camman18YT",
          "2wc",
          "Ninivee",
          "yzvm",
          "Grapfen",
          "Sey__",
          "Umgfoin",
          "KakaMC",
          "miridis41",
          "ffawks",
          "h4nnes",
          "Gerrygames",
          "Davinci_Son",
          "Sower_",
          "TheFabo",
          "2B9",
          "LeWi_100",
          "zBro",
          "unausgesprochen",
          "DieserBear",
          "Schmaarek",
          "GeneralEnte06",
          "lolisamasan",
          "Lubottus",
          "M0osebumps",
          "Freeeedom",
          "Gummibearchen",
          "frutigall",
          "La_meleagro",
          "CML_Justin",
          "chrisihalt",
          "xX_Dima_ggg_Xx6",
          "Feinberg",
          "ByNetherdude",
          "Morittz",
          "Flitzi_Dino",
          "bawskey",
          "Krusti",
          "Ritokii",
          "ZweitesIch",
          "HeIsJustAPoorBoy",
          "LeMetin_",
          "Luis_XYZ",
          "Janne4k",
          "byTobi",
          "Lingex",
          "LilFueller",
          "Shiewk",
          "Radiokopf",
          "Mincheeen",
          "Kyuudo",
          "Gryzes",
          "xBaumeisterin",
          "Jan2220",
          "LordAlexos",
          "DerBaumIstDerWeg",
          "Bartschii",
          "Kanickelul",
          "Wissender",
          "PixlNight",
          "Dokkkkko",
          "Navex",
          "officialryzon",
          "Falke23_5",
          "SpeckyCut",
          "Tomiokey",
          "ForceFox",
          "TheBreadHD",
          "SB387",
          "Sebi1801",
          "loukrativ",
          "GamemasterNiki",
          "Martomias",
          "Oronor",
          "_Waldi_",
          "Harold_Sensemann",
          "Allooy",
          "GrafikKatze",
          "WirdNichtGeladen",
          "revolverz",
          "deadfiight",
          "Chander24",
          "lvlaurin",
          "Vacted",
          "xX_Masha_ggg_Xx9",
          "Joy_8oy",
          "twitchparaskiill",
          "Mvsk_"
         ],
         "y": [
          [
           25,
           25
          ],
          [
           45,
           45
          ],
          [
           38.333333333333336,
           38.333333333333336
          ],
          [
           11.666666666666666,
           11.666666666666666
          ],
          [
           0,
           0
          ],
          [
           0,
           0
          ],
          [
           26.666666666666668,
           26.666666666666668
          ],
          [
           11.666666666666666,
           11.666666666666666
          ],
          [
           15,
           15
          ],
          [
           20,
           20
          ],
          [
           3.3333333333333335,
           3.3333333333333335
          ],
          [
           31.666666666666668,
           31.666666666666668
          ],
          [
           15,
           15
          ],
          [
           31.666666666666668,
           31.666666666666668
          ],
          [
           11.666666666666666,
           11.666666666666666
          ],
          [
           0,
           0
          ],
          [
           28.333333333333332,
           28.333333333333332
          ],
          [
           0,
           0
          ],
          [
           3.3333333333333335,
           3.3333333333333335
          ],
          [
           16.666666666666668,
           16.666666666666668
          ],
          [
           0,
           0
          ],
          [
           0,
           0
          ],
          [
           3.3333333333333335,
           3.3333333333333335
          ],
          [
           10,
           10
          ],
          [
           0,
           0
          ],
          [
           0,
           0
          ],
          [
           0,
           0
          ],
          [
           3.3333333333333335,
           3.3333333333333335
          ],
          [
           0,
           0
          ],
          [
           13.333333333333334,
           13.333333333333334
          ],
          [
           13.333333333333334,
           13.333333333333334
          ],
          [
           0,
           0
          ],
          [
           11.666666666666666,
           11.666666666666666
          ],
          [
           0,
           0
          ],
          [
           11.666666666666666,
           11.666666666666666
          ],
          [
           0,
           0
          ],
          [
           20,
           20
          ],
          [
           21.666666666666668,
           21.666666666666668
          ],
          [
           8.333333333333334,
           8.333333333333334
          ],
          [
           0,
           0
          ],
          [
           0,
           0
          ],
          [
           0,
           0
          ],
          [
           0,
           0
          ],
          [
           0,
           0
          ],
          [
           0,
           0
          ],
          [
           0,
           0
          ],
          [
           23.333333333333332,
           23.333333333333332
          ],
          [
           0,
           0
          ],
          [
           0,
           0
          ],
          [
           15,
           15
          ],
          [
           11.666666666666666,
           11.666666666666666
          ],
          [
           0,
           0
          ],
          [
           35,
           35
          ],
          [
           0,
           0
          ],
          [
           0,
           0
          ],
          [
           0,
           0
          ],
          [
           16.666666666666668,
           16.666666666666668
          ],
          [
           3.3333333333333335,
           3.3333333333333335
          ],
          [
           16.666666666666668,
           16.666666666666668
          ],
          [
           0,
           0
          ],
          [
           0,
           0
          ],
          [
           3.3333333333333335,
           3.3333333333333335
          ],
          [
           8.333333333333334,
           8.333333333333334
          ],
          [
           20,
           20
          ],
          [
           0,
           0
          ],
          [
           11.666666666666666,
           11.666666666666666
          ],
          [
           0,
           0
          ],
          [
           0,
           0
          ],
          [
           0,
           0
          ],
          [
           10,
           10
          ],
          [
           0,
           0
          ],
          [
           10,
           10
          ],
          [
           0,
           0
          ],
          [
           0,
           0
          ],
          [
           0,
           0
          ],
          [
           0,
           0
          ],
          [
           10,
           10
          ],
          [
           0,
           0
          ],
          [
           6.666666666666667,
           6.666666666666667
          ],
          [
           0,
           0
          ],
          [
           0,
           0
          ],
          [
           0,
           0
          ],
          [
           0,
           0
          ],
          [
           0,
           0
          ],
          [
           0,
           0
          ],
          [
           0,
           0
          ],
          [
           8.333333333333334,
           8.333333333333334
          ],
          [
           0,
           0
          ],
          [
           3.3333333333333335,
           3.3333333333333335
          ],
          [
           0,
           0
          ],
          [
           0,
           0
          ],
          [
           0,
           0
          ],
          [
           0,
           0
          ],
          [
           0,
           0
          ],
          [
           0,
           0
          ],
          [
           6.666666666666667,
           6.666666666666667
          ],
          [
           0,
           0
          ],
          [
           0,
           0
          ],
          [
           15,
           15
          ],
          [
           0,
           0
          ]
         ]
        },
        {
         "marker": {
          "color": "rgb(170, 68, 153)"
         },
         "name": "Mini Survivalgames",
         "type": "bar",
         "x": [
          "Fflopse",
          "cediiiiii_10",
          "Gobo9",
          "PedroZockt",
          "HerrDante",
          "ReichesBrot",
          "_n3d",
          "Ex4cted",
          "yiiq",
          "JOW23",
          "lizsyy",
          "DarkCobweb",
          "camman18YT",
          "2wc",
          "Ninivee",
          "yzvm",
          "Grapfen",
          "Sey__",
          "Umgfoin",
          "KakaMC",
          "miridis41",
          "ffawks",
          "h4nnes",
          "Gerrygames",
          "Davinci_Son",
          "Sower_",
          "TheFabo",
          "2B9",
          "LeWi_100",
          "zBro",
          "unausgesprochen",
          "DieserBear",
          "Schmaarek",
          "GeneralEnte06",
          "lolisamasan",
          "Lubottus",
          "M0osebumps",
          "Freeeedom",
          "Gummibearchen",
          "frutigall",
          "La_meleagro",
          "CML_Justin",
          "chrisihalt",
          "xX_Dima_ggg_Xx6",
          "Feinberg",
          "ByNetherdude",
          "Morittz",
          "Flitzi_Dino",
          "bawskey",
          "Krusti",
          "Ritokii",
          "ZweitesIch",
          "HeIsJustAPoorBoy",
          "LeMetin_",
          "Luis_XYZ",
          "Janne4k",
          "byTobi",
          "Lingex",
          "LilFueller",
          "Shiewk",
          "Radiokopf",
          "Mincheeen",
          "Kyuudo",
          "Gryzes",
          "xBaumeisterin",
          "Jan2220",
          "LordAlexos",
          "DerBaumIstDerWeg",
          "Bartschii",
          "Kanickelul",
          "Wissender",
          "PixlNight",
          "Dokkkkko",
          "Navex",
          "officialryzon",
          "Falke23_5",
          "SpeckyCut",
          "Tomiokey",
          "ForceFox",
          "TheBreadHD",
          "SB387",
          "Sebi1801",
          "loukrativ",
          "GamemasterNiki",
          "Martomias",
          "Oronor",
          "_Waldi_",
          "Harold_Sensemann",
          "Allooy",
          "GrafikKatze",
          "WirdNichtGeladen",
          "revolverz",
          "deadfiight",
          "Chander24",
          "lvlaurin",
          "Vacted",
          "xX_Masha_ggg_Xx9",
          "Joy_8oy",
          "twitchparaskiill",
          "Mvsk_"
         ],
         "y": [
          [
           10,
           10
          ],
          [
           43.333333333333336,
           43.333333333333336
          ],
          [
           63.333333333333336,
           63.333333333333336
          ],
          [
           0,
           0
          ],
          [
           16.666666666666668,
           16.666666666666668
          ],
          [
           33.333333333333336,
           33.333333333333336
          ],
          [
           0,
           0
          ],
          [
           0,
           0
          ],
          [
           0,
           0
          ],
          [
           0,
           0
          ],
          [
           0,
           0
          ],
          [
           26.666666666666668,
           26.666666666666668
          ],
          [
           90,
           90
          ],
          [
           26.666666666666668,
           26.666666666666668
          ],
          [
           46.666666666666664,
           46.666666666666664
          ],
          [
           0,
           0
          ],
          [
           26.666666666666668,
           26.666666666666668
          ],
          [
           0,
           0
          ],
          [
           10,
           10
          ],
          [
           0,
           0
          ],
          [
           40,
           40
          ],
          [
           0,
           0
          ],
          [
           10,
           10
          ],
          [
           0,
           0
          ],
          [
           26.666666666666668,
           26.666666666666668
          ],
          [
           0,
           0
          ],
          [
           0,
           0
          ],
          [
           33.333333333333336,
           33.333333333333336
          ],
          [
           0,
           0
          ],
          [
           16.666666666666668,
           16.666666666666668
          ],
          [
           0,
           0
          ],
          [
           16.666666666666668,
           16.666666666666668
          ],
          [
           10,
           10
          ],
          [
           30,
           30
          ],
          [
           0,
           0
          ],
          [
           0,
           0
          ],
          [
           0,
           0
          ],
          [
           0,
           0
          ],
          [
           0,
           0
          ],
          [
           0,
           0
          ],
          [
           0,
           0
          ],
          [
           0,
           0
          ],
          [
           0,
           0
          ],
          [
           0,
           0
          ],
          [
           0,
           0
          ],
          [
           0,
           0
          ],
          [
           43.333333333333336,
           43.333333333333336
          ],
          [
           0,
           0
          ],
          [
           16.666666666666668,
           16.666666666666668
          ],
          [
           26.666666666666668,
           26.666666666666668
          ],
          [
           0,
           0
          ],
          [
           0,
           0
          ],
          [
           0,
           0
          ],
          [
           0,
           0
          ],
          [
           0,
           0
          ],
          [
           0,
           0
          ],
          [
           10,
           10
          ],
          [
           60,
           60
          ],
          [
           0,
           0
          ],
          [
           0,
           0
          ],
          [
           0,
           0
          ],
          [
           0,
           0
          ],
          [
           10,
           10
          ],
          [
           0,
           0
          ],
          [
           0,
           0
          ],
          [
           10,
           10
          ],
          [
           0,
           0
          ],
          [
           16.666666666666668,
           16.666666666666668
          ],
          [
           0,
           0
          ],
          [
           0,
           0
          ],
          [
           0,
           0
          ],
          [
           0,
           0
          ],
          [
           0,
           0
          ],
          [
           0,
           0
          ],
          [
           16.666666666666668,
           16.666666666666668
          ],
          [
           30,
           30
          ],
          [
           0,
           0
          ],
          [
           16.666666666666668,
           16.666666666666668
          ],
          [
           0,
           0
          ],
          [
           33.333333333333336,
           33.333333333333336
          ],
          [
           16.666666666666668,
           16.666666666666668
          ],
          [
           0,
           0
          ],
          [
           10,
           10
          ],
          [
           0,
           0
          ],
          [
           0,
           0
          ],
          [
           0,
           0
          ],
          [
           16.666666666666668,
           16.666666666666668
          ],
          [
           0,
           0
          ],
          [
           16.666666666666668,
           16.666666666666668
          ],
          [
           20,
           20
          ],
          [
           16.666666666666668,
           16.666666666666668
          ],
          [
           0,
           0
          ],
          [
           0,
           0
          ],
          [
           0,
           0
          ],
          [
           0,
           0
          ],
          [
           0,
           0
          ],
          [
           16.666666666666668,
           16.666666666666668
          ],
          [
           0,
           0
          ],
          [
           0,
           0
          ],
          [
           16.666666666666668,
           16.666666666666668
          ]
         ]
        },
        {
         "marker": {
          "color": "rgb(68, 170, 153)"
         },
         "name": "Paintball",
         "type": "bar",
         "x": [
          "Fflopse",
          "cediiiiii_10",
          "Gobo9",
          "PedroZockt",
          "HerrDante",
          "ReichesBrot",
          "_n3d",
          "Ex4cted",
          "yiiq",
          "JOW23",
          "lizsyy",
          "DarkCobweb",
          "camman18YT",
          "2wc",
          "Ninivee",
          "yzvm",
          "Grapfen",
          "Sey__",
          "Umgfoin",
          "KakaMC",
          "miridis41",
          "ffawks",
          "h4nnes",
          "Gerrygames",
          "Davinci_Son",
          "Sower_",
          "TheFabo",
          "2B9",
          "LeWi_100",
          "zBro",
          "unausgesprochen",
          "DieserBear",
          "Schmaarek",
          "GeneralEnte06",
          "lolisamasan",
          "Lubottus",
          "M0osebumps",
          "Freeeedom",
          "Gummibearchen",
          "frutigall",
          "La_meleagro",
          "CML_Justin",
          "chrisihalt",
          "xX_Dima_ggg_Xx6",
          "Feinberg",
          "ByNetherdude",
          "Morittz",
          "Flitzi_Dino",
          "bawskey",
          "Krusti",
          "Ritokii",
          "ZweitesIch",
          "HeIsJustAPoorBoy",
          "LeMetin_",
          "Luis_XYZ",
          "Janne4k",
          "byTobi",
          "Lingex",
          "LilFueller",
          "Shiewk",
          "Radiokopf",
          "Mincheeen",
          "Kyuudo",
          "Gryzes",
          "xBaumeisterin",
          "Jan2220",
          "LordAlexos",
          "DerBaumIstDerWeg",
          "Bartschii",
          "Kanickelul",
          "Wissender",
          "PixlNight",
          "Dokkkkko",
          "Navex",
          "officialryzon",
          "Falke23_5",
          "SpeckyCut",
          "Tomiokey",
          "ForceFox",
          "TheBreadHD",
          "SB387",
          "Sebi1801",
          "loukrativ",
          "GamemasterNiki",
          "Martomias",
          "Oronor",
          "_Waldi_",
          "Harold_Sensemann",
          "Allooy",
          "GrafikKatze",
          "WirdNichtGeladen",
          "revolverz",
          "deadfiight",
          "Chander24",
          "lvlaurin",
          "Vacted",
          "xX_Masha_ggg_Xx9",
          "Joy_8oy",
          "twitchparaskiill",
          "Mvsk_"
         ],
         "y": [
          [
           76.66666666666667,
           76.66666666666667
          ],
          [
           10,
           10
          ],
          [
           0,
           0
          ],
          [
           60,
           60
          ],
          [
           53.333333333333336,
           53.333333333333336
          ],
          [
           30,
           30
          ],
          [
           20,
           20
          ],
          [
           0,
           0
          ],
          [
           33.333333333333336,
           33.333333333333336
          ],
          [
           0,
           0
          ],
          [
           0,
           0
          ],
          [
           20,
           20
          ],
          [
           0,
           0
          ],
          [
           33.333333333333336,
           33.333333333333336
          ],
          [
           0,
           0
          ],
          [
           26.666666666666668,
           26.666666666666668
          ],
          [
           33.333333333333336,
           33.333333333333336
          ],
          [
           0,
           0
          ],
          [
           0,
           0
          ],
          [
           0,
           0
          ],
          [
           26.666666666666668,
           26.666666666666668
          ],
          [
           0,
           0
          ],
          [
           36.666666666666664,
           36.666666666666664
          ],
          [
           0,
           0
          ],
          [
           0,
           0
          ],
          [
           0,
           0
          ],
          [
           0,
           0
          ],
          [
           0,
           0
          ],
          [
           0,
           0
          ],
          [
           0,
           0
          ],
          [
           0,
           0
          ],
          [
           0,
           0
          ],
          [
           0,
           0
          ],
          [
           0,
           0
          ],
          [
           20,
           20
          ],
          [
           0,
           0
          ],
          [
           0,
           0
          ],
          [
           0,
           0
          ],
          [
           33.333333333333336,
           33.333333333333336
          ],
          [
           0,
           0
          ],
          [
           0,
           0
          ],
          [
           0,
           0
          ],
          [
           0,
           0
          ],
          [
           10,
           10
          ],
          [
           0,
           0
          ],
          [
           0,
           0
          ],
          [
           0,
           0
          ],
          [
           0,
           0
          ],
          [
           20,
           20
          ],
          [
           23.333333333333332,
           23.333333333333332
          ],
          [
           0,
           0
          ],
          [
           10,
           10
          ],
          [
           0,
           0
          ],
          [
           0,
           0
          ],
          [
           0,
           0
          ],
          [
           0,
           0
          ],
          [
           0,
           0
          ],
          [
           10,
           10
          ],
          [
           0,
           0
          ],
          [
           20,
           20
          ],
          [
           0,
           0
          ],
          [
           0,
           0
          ],
          [
           0,
           0
          ],
          [
           23.333333333333332,
           23.333333333333332
          ],
          [
           0,
           0
          ],
          [
           0,
           0
          ],
          [
           0,
           0
          ],
          [
           0,
           0
          ],
          [
           0,
           0
          ],
          [
           0,
           0
          ],
          [
           0,
           0
          ],
          [
           0,
           0
          ],
          [
           23.333333333333332,
           23.333333333333332
          ],
          [
           0,
           0
          ],
          [
           0,
           0
          ],
          [
           0,
           0
          ],
          [
           0,
           0
          ],
          [
           0,
           0
          ],
          [
           0,
           0
          ],
          [
           0,
           0
          ],
          [
           0,
           0
          ],
          [
           0,
           0
          ],
          [
           0,
           0
          ],
          [
           0,
           0
          ],
          [
           0,
           0
          ],
          [
           10,
           10
          ],
          [
           0,
           0
          ],
          [
           0,
           0
          ],
          [
           0,
           0
          ],
          [
           0,
           0
          ],
          [
           0,
           0
          ],
          [
           0,
           0
          ],
          [
           0,
           0
          ],
          [
           0,
           0
          ],
          [
           0,
           0
          ],
          [
           0,
           0
          ],
          [
           0,
           0
          ],
          [
           0,
           0
          ],
          [
           0,
           0
          ],
          [
           0,
           0
          ]
         ]
        },
        {
         "marker": {
          "color": "rgb(153, 153, 51)"
         },
         "name": "Pferderennen",
         "type": "bar",
         "x": [
          "Fflopse",
          "cediiiiii_10",
          "Gobo9",
          "PedroZockt",
          "HerrDante",
          "ReichesBrot",
          "_n3d",
          "Ex4cted",
          "yiiq",
          "JOW23",
          "lizsyy",
          "DarkCobweb",
          "camman18YT",
          "2wc",
          "Ninivee",
          "yzvm",
          "Grapfen",
          "Sey__",
          "Umgfoin",
          "KakaMC",
          "miridis41",
          "ffawks",
          "h4nnes",
          "Gerrygames",
          "Davinci_Son",
          "Sower_",
          "TheFabo",
          "2B9",
          "LeWi_100",
          "zBro",
          "unausgesprochen",
          "DieserBear",
          "Schmaarek",
          "GeneralEnte06",
          "lolisamasan",
          "Lubottus",
          "M0osebumps",
          "Freeeedom",
          "Gummibearchen",
          "frutigall",
          "La_meleagro",
          "CML_Justin",
          "chrisihalt",
          "xX_Dima_ggg_Xx6",
          "Feinberg",
          "ByNetherdude",
          "Morittz",
          "Flitzi_Dino",
          "bawskey",
          "Krusti",
          "Ritokii",
          "ZweitesIch",
          "HeIsJustAPoorBoy",
          "LeMetin_",
          "Luis_XYZ",
          "Janne4k",
          "byTobi",
          "Lingex",
          "LilFueller",
          "Shiewk",
          "Radiokopf",
          "Mincheeen",
          "Kyuudo",
          "Gryzes",
          "xBaumeisterin",
          "Jan2220",
          "LordAlexos",
          "DerBaumIstDerWeg",
          "Bartschii",
          "Kanickelul",
          "Wissender",
          "PixlNight",
          "Dokkkkko",
          "Navex",
          "officialryzon",
          "Falke23_5",
          "SpeckyCut",
          "Tomiokey",
          "ForceFox",
          "TheBreadHD",
          "SB387",
          "Sebi1801",
          "loukrativ",
          "GamemasterNiki",
          "Martomias",
          "Oronor",
          "_Waldi_",
          "Harold_Sensemann",
          "Allooy",
          "GrafikKatze",
          "WirdNichtGeladen",
          "revolverz",
          "deadfiight",
          "Chander24",
          "lvlaurin",
          "Vacted",
          "xX_Masha_ggg_Xx9",
          "Joy_8oy",
          "twitchparaskiill",
          "Mvsk_"
         ],
         "y": [
          [
           91.66666666666667,
           91.66666666666667
          ],
          [
           75,
           75
          ],
          [
           65,
           65
          ],
          [
           45,
           45
          ],
          [
           6.666666666666667,
           6.666666666666667
          ],
          [
           10,
           10
          ],
          [
           3.3333333333333335,
           3.3333333333333335
          ],
          [
           0,
           0
          ],
          [
           46.666666666666664,
           46.666666666666664
          ],
          [
           0,
           0
          ],
          [
           35,
           35
          ],
          [
           0,
           0
          ],
          [
           0,
           0
          ],
          [
           0,
           0
          ],
          [
           0,
           0
          ],
          [
           13.333333333333334,
           13.333333333333334
          ],
          [
           0,
           0
          ],
          [
           3.3333333333333335,
           3.3333333333333335
          ],
          [
           8.333333333333334,
           8.333333333333334
          ],
          [
           0,
           0
          ],
          [
           0,
           0
          ],
          [
           50,
           50
          ],
          [
           0,
           0
          ],
          [
           0,
           0
          ],
          [
           0,
           0
          ],
          [
           0,
           0
          ],
          [
           0,
           0
          ],
          [
           0,
           0
          ],
          [
           20,
           20
          ],
          [
           0,
           0
          ],
          [
           0,
           0
          ],
          [
           0,
           0
          ],
          [
           23.333333333333332,
           23.333333333333332
          ],
          [
           21.666666666666668,
           21.666666666666668
          ],
          [
           0,
           0
          ],
          [
           0,
           0
          ],
          [
           0,
           0
          ],
          [
           16.666666666666668,
           16.666666666666668
          ],
          [
           0,
           0
          ],
          [
           0,
           0
          ],
          [
           0,
           0
          ],
          [
           0,
           0
          ],
          [
           0,
           0
          ],
          [
           0,
           0
          ],
          [
           0,
           0
          ],
          [
           0,
           0
          ],
          [
           0,
           0
          ],
          [
           0,
           0
          ],
          [
           0,
           0
          ],
          [
           0,
           0
          ],
          [
           0,
           0
          ],
          [
           0,
           0
          ],
          [
           0,
           0
          ],
          [
           0,
           0
          ],
          [
           3.3333333333333335,
           3.3333333333333335
          ],
          [
           0,
           0
          ],
          [
           0,
           0
          ],
          [
           0,
           0
          ],
          [
           3.3333333333333335,
           3.3333333333333335
          ],
          [
           0,
           0
          ],
          [
           0,
           0
          ],
          [
           0,
           0
          ],
          [
           0,
           0
          ],
          [
           0,
           0
          ],
          [
           0,
           0
          ],
          [
           0,
           0
          ],
          [
           0,
           0
          ],
          [
           0,
           0
          ],
          [
           0,
           0
          ],
          [
           0,
           0
          ],
          [
           0,
           0
          ],
          [
           0,
           0
          ],
          [
           0,
           0
          ],
          [
           0,
           0
          ],
          [
           0,
           0
          ],
          [
           0,
           0
          ],
          [
           0,
           0
          ],
          [
           0,
           0
          ],
          [
           0,
           0
          ],
          [
           0,
           0
          ],
          [
           0,
           0
          ],
          [
           0,
           0
          ],
          [
           0,
           0
          ],
          [
           0,
           0
          ],
          [
           0,
           0
          ],
          [
           0,
           0
          ],
          [
           0,
           0
          ],
          [
           0,
           0
          ],
          [
           0,
           0
          ],
          [
           0,
           0
          ],
          [
           0,
           0
          ],
          [
           0,
           0
          ],
          [
           0,
           0
          ],
          [
           0,
           0
          ],
          [
           0,
           0
          ],
          [
           0,
           0
          ],
          [
           0,
           0
          ],
          [
           0,
           0
          ],
          [
           0,
           0
          ],
          [
           0,
           0
          ]
         ]
        },
        {
         "marker": {
          "color": "rgb(136, 34, 85)"
         },
         "name": "Replika",
         "type": "bar",
         "x": [
          "Fflopse",
          "cediiiiii_10",
          "Gobo9",
          "PedroZockt",
          "HerrDante",
          "ReichesBrot",
          "_n3d",
          "Ex4cted",
          "yiiq",
          "JOW23",
          "lizsyy",
          "DarkCobweb",
          "camman18YT",
          "2wc",
          "Ninivee",
          "yzvm",
          "Grapfen",
          "Sey__",
          "Umgfoin",
          "KakaMC",
          "miridis41",
          "ffawks",
          "h4nnes",
          "Gerrygames",
          "Davinci_Son",
          "Sower_",
          "TheFabo",
          "2B9",
          "LeWi_100",
          "zBro",
          "unausgesprochen",
          "DieserBear",
          "Schmaarek",
          "GeneralEnte06",
          "lolisamasan",
          "Lubottus",
          "M0osebumps",
          "Freeeedom",
          "Gummibearchen",
          "frutigall",
          "La_meleagro",
          "CML_Justin",
          "chrisihalt",
          "xX_Dima_ggg_Xx6",
          "Feinberg",
          "ByNetherdude",
          "Morittz",
          "Flitzi_Dino",
          "bawskey",
          "Krusti",
          "Ritokii",
          "ZweitesIch",
          "HeIsJustAPoorBoy",
          "LeMetin_",
          "Luis_XYZ",
          "Janne4k",
          "byTobi",
          "Lingex",
          "LilFueller",
          "Shiewk",
          "Radiokopf",
          "Mincheeen",
          "Kyuudo",
          "Gryzes",
          "xBaumeisterin",
          "Jan2220",
          "LordAlexos",
          "DerBaumIstDerWeg",
          "Bartschii",
          "Kanickelul",
          "Wissender",
          "PixlNight",
          "Dokkkkko",
          "Navex",
          "officialryzon",
          "Falke23_5",
          "SpeckyCut",
          "Tomiokey",
          "ForceFox",
          "TheBreadHD",
          "SB387",
          "Sebi1801",
          "loukrativ",
          "GamemasterNiki",
          "Martomias",
          "Oronor",
          "_Waldi_",
          "Harold_Sensemann",
          "Allooy",
          "GrafikKatze",
          "WirdNichtGeladen",
          "revolverz",
          "deadfiight",
          "Chander24",
          "lvlaurin",
          "Vacted",
          "xX_Masha_ggg_Xx9",
          "Joy_8oy",
          "twitchparaskiill",
          "Mvsk_"
         ],
         "y": [
          [
           56.407766990291265,
           56.407766990291265
          ],
          [
           54.95145631067961,
           54.95145631067961
          ],
          [
           90.87378640776699,
           90.87378640776699
          ],
          [
           60.970873786407765,
           60.970873786407765
          ],
          [
           10.87378640776699,
           10.87378640776699
          ],
          [
           7.669902912621359,
           7.669902912621359
          ],
          [
           7.669902912621359,
           7.669902912621359
          ],
          [
           48.44660194174757,
           48.44660194174757
          ],
          [
           30.194174757281555,
           30.194174757281555
          ],
          [
           5.631067961165049,
           5.631067961165049
          ],
          [
           22.33009708737864,
           22.33009708737864
          ],
          [
           4.951456310679611,
           4.951456310679611
          ],
          [
           8.058252427184467,
           8.058252427184467
          ],
          [
           7.669902912621359,
           7.669902912621359
          ],
          [
           2.912621359223301,
           2.912621359223301
          ],
          [
           3.1067961165048543,
           3.1067961165048543
          ],
          [
           4.854368932038835,
           4.854368932038835
          ],
          [
           3.1067961165048543,
           3.1067961165048543
          ],
          [
           2.912621359223301,
           2.912621359223301
          ],
          [
           36.79611650485437,
           36.79611650485437
          ],
          [
           4.077669902912621,
           4.077669902912621
          ],
          [
           15.825242718446601,
           15.825242718446601
          ],
          [
           2.912621359223301,
           2.912621359223301
          ],
          [
           16.699029126213592,
           16.699029126213592
          ],
          [
           5.339805825242719,
           5.339805825242719
          ],
          [
           5.048543689320389,
           5.048543689320389
          ],
          [
           16.893203883495147,
           16.893203883495147
          ],
          [
           5.048543689320389,
           5.048543689320389
          ],
          [
           3.1067961165048543,
           3.1067961165048543
          ],
          [
           3.6893203883495147,
           3.6893203883495147
          ],
          [
           4.271844660194175,
           4.271844660194175
          ],
          [
           10.097087378640778,
           10.097087378640778
          ],
          [
           2.912621359223301,
           2.912621359223301
          ],
          [
           3.3009708737864076,
           3.3009708737864076
          ],
          [
           3.1067961165048543,
           3.1067961165048543
          ],
          [
           6.213592233009709,
           6.213592233009709
          ],
          [
           8.54368932038835,
           8.54368932038835
          ],
          [
           3.1067961165048543,
           3.1067961165048543
          ],
          [
           4.854368932038835,
           4.854368932038835
          ],
          [
           2.912621359223301,
           2.912621359223301
          ],
          [
           2.1359223300970873,
           2.1359223300970873
          ],
          [
           4.271844660194175,
           4.271844660194175
          ],
          [
           2.5242718446601944,
           2.5242718446601944
          ],
          [
           3.495145631067961,
           3.495145631067961
          ],
          [
           10.485436893203884,
           10.485436893203884
          ],
          [
           4.660194174757281,
           4.660194174757281
          ],
          [
           5.048543689320389,
           5.048543689320389
          ],
          [
           4.854368932038835,
           4.854368932038835
          ],
          [
           3.495145631067961,
           3.495145631067961
          ],
          [
           2.912621359223301,
           2.912621359223301
          ],
          [
           9.029126213592233,
           9.029126213592233
          ],
          [
           6.601941747572815,
           6.601941747572815
          ],
          [
           5.048543689320389,
           5.048543689320389
          ],
          [
           4.466019417475728,
           4.466019417475728
          ],
          [
           4.174757281553398,
           4.174757281553398
          ],
          [
           5.048543689320389,
           5.048543689320389
          ],
          [
           3.1067961165048543,
           3.1067961165048543
          ],
          [
           2.912621359223301,
           2.912621359223301
          ],
          [
           9.320388349514563,
           9.320388349514563
          ],
          [
           3.7864077669902914,
           3.7864077669902914
          ],
          [
           3.0097087378640777,
           3.0097087378640777
          ],
          [
           7.961165048543689,
           7.961165048543689
          ],
          [
           2.912621359223301,
           2.912621359223301
          ],
          [
           3.495145631067961,
           3.495145631067961
          ],
          [
           3.883495145631068,
           3.883495145631068
          ],
          [
           4.466019417475728,
           4.466019417475728
          ],
          [
           2.912621359223301,
           2.912621359223301
          ],
          [
           2.912621359223301,
           2.912621359223301
          ],
          [
           5.048543689320389,
           5.048543689320389
          ],
          [
           5.048543689320389,
           5.048543689320389
          ],
          [
           2.912621359223301,
           2.912621359223301
          ],
          [
           4.466019417475728,
           4.466019417475728
          ],
          [
           3.3009708737864076,
           3.3009708737864076
          ],
          [
           5.048543689320389,
           5.048543689320389
          ],
          [
           5.048543689320389,
           5.048543689320389
          ],
          [
           3.7864077669902914,
           3.7864077669902914
          ],
          [
           3.1067961165048543,
           3.1067961165048543
          ],
          [
           2.912621359223301,
           2.912621359223301
          ],
          [
           4.660194174757281,
           4.660194174757281
          ],
          [
           4.854368932038835,
           4.854368932038835
          ],
          [
           3.883495145631068,
           3.883495145631068
          ],
          [
           5.048543689320389,
           5.048543689320389
          ],
          [
           5.048543689320389,
           5.048543689320389
          ],
          [
           12.135922330097088,
           12.135922330097088
          ],
          [
           2.912621359223301,
           2.912621359223301
          ],
          [
           2.7184466019417477,
           2.7184466019417477
          ],
          [
           4.466019417475728,
           4.466019417475728
          ],
          [
           4.077669902912621,
           4.077669902912621
          ],
          [
           4.077669902912621,
           4.077669902912621
          ],
          [
           4.951456310679611,
           4.951456310679611
          ],
          [
           3.495145631067961,
           3.495145631067961
          ],
          [
           4.271844660194175,
           4.271844660194175
          ],
          [
           6.407766990291262,
           6.407766990291262
          ],
          [
           3.3009708737864076,
           3.3009708737864076
          ],
          [
           2.912621359223301,
           2.912621359223301
          ],
          [
           3.495145631067961,
           3.495145631067961
          ],
          [
           3.495145631067961,
           3.495145631067961
          ],
          [
           3.495145631067961,
           3.495145631067961
          ],
          [
           2.1359223300970873,
           2.1359223300970873
          ],
          [
           3.1067961165048543,
           3.1067961165048543
          ]
         ]
        },
        {
         "marker": {
          "color": "rgb(102, 17, 0)"
         },
         "name": "Sammelwahn",
         "type": "bar",
         "x": [
          "Fflopse",
          "cediiiiii_10",
          "Gobo9",
          "PedroZockt",
          "HerrDante",
          "ReichesBrot",
          "_n3d",
          "Ex4cted",
          "yiiq",
          "JOW23",
          "lizsyy",
          "DarkCobweb",
          "camman18YT",
          "2wc",
          "Ninivee",
          "yzvm",
          "Grapfen",
          "Sey__",
          "Umgfoin",
          "KakaMC",
          "miridis41",
          "ffawks",
          "h4nnes",
          "Gerrygames",
          "Davinci_Son",
          "Sower_",
          "TheFabo",
          "2B9",
          "LeWi_100",
          "zBro",
          "unausgesprochen",
          "DieserBear",
          "Schmaarek",
          "GeneralEnte06",
          "lolisamasan",
          "Lubottus",
          "M0osebumps",
          "Freeeedom",
          "Gummibearchen",
          "frutigall",
          "La_meleagro",
          "CML_Justin",
          "chrisihalt",
          "xX_Dima_ggg_Xx6",
          "Feinberg",
          "ByNetherdude",
          "Morittz",
          "Flitzi_Dino",
          "bawskey",
          "Krusti",
          "Ritokii",
          "ZweitesIch",
          "HeIsJustAPoorBoy",
          "LeMetin_",
          "Luis_XYZ",
          "Janne4k",
          "byTobi",
          "Lingex",
          "LilFueller",
          "Shiewk",
          "Radiokopf",
          "Mincheeen",
          "Kyuudo",
          "Gryzes",
          "xBaumeisterin",
          "Jan2220",
          "LordAlexos",
          "DerBaumIstDerWeg",
          "Bartschii",
          "Kanickelul",
          "Wissender",
          "PixlNight",
          "Dokkkkko",
          "Navex",
          "officialryzon",
          "Falke23_5",
          "SpeckyCut",
          "Tomiokey",
          "ForceFox",
          "TheBreadHD",
          "SB387",
          "Sebi1801",
          "loukrativ",
          "GamemasterNiki",
          "Martomias",
          "Oronor",
          "_Waldi_",
          "Harold_Sensemann",
          "Allooy",
          "GrafikKatze",
          "WirdNichtGeladen",
          "revolverz",
          "deadfiight",
          "Chander24",
          "lvlaurin",
          "Vacted",
          "xX_Masha_ggg_Xx9",
          "Joy_8oy",
          "twitchparaskiill",
          "Mvsk_"
         ],
         "y": [
          [
           20.5,
           20.5
          ],
          [
           35.5,
           35.5
          ],
          [
           28.25,
           28.25
          ],
          [
           16.75,
           16.75
          ],
          [
           10.25,
           10.25
          ],
          [
           3.5,
           3.5
          ],
          [
           4.5,
           4.5
          ],
          [
           17,
           17
          ],
          [
           0,
           0
          ],
          [
           4.25,
           4.25
          ],
          [
           5,
           5
          ],
          [
           6.75,
           6.75
          ],
          [
           6,
           6
          ],
          [
           0,
           0
          ],
          [
           2.25,
           2.25
          ],
          [
           4.75,
           4.75
          ],
          [
           16,
           16
          ],
          [
           8.5,
           8.5
          ],
          [
           5,
           5
          ],
          [
           10.75,
           10.75
          ],
          [
           7,
           7
          ],
          [
           2.75,
           2.75
          ],
          [
           4.75,
           4.75
          ],
          [
           31.5,
           31.5
          ],
          [
           3.25,
           3.25
          ],
          [
           21.75,
           21.75
          ],
          [
           17.5,
           17.5
          ],
          [
           2.5,
           2.5
          ],
          [
           0,
           0
          ],
          [
           3.5,
           3.5
          ],
          [
           3.25,
           3.25
          ],
          [
           20.75,
           20.75
          ],
          [
           10,
           10
          ],
          [
           10.5,
           10.5
          ],
          [
           1,
           1
          ],
          [
           10.25,
           10.25
          ],
          [
           3.5,
           3.5
          ],
          [
           0,
           0
          ],
          [
           0,
           0
          ],
          [
           0.5,
           0.5
          ],
          [
           11,
           11
          ],
          [
           4.75,
           4.75
          ],
          [
           1.25,
           1.25
          ],
          [
           6,
           6
          ],
          [
           3.5,
           3.5
          ],
          [
           0,
           0
          ],
          [
           0,
           0
          ],
          [
           0,
           0
          ],
          [
           0,
           0
          ],
          [
           4.25,
           4.25
          ],
          [
           0.5,
           0.5
          ],
          [
           2.5,
           2.5
          ],
          [
           0,
           0
          ],
          [
           3.25,
           3.25
          ],
          [
           0,
           0
          ],
          [
           0,
           0
          ],
          [
           1.75,
           1.75
          ],
          [
           0,
           0
          ],
          [
           0,
           0
          ],
          [
           1,
           1
          ],
          [
           7.25,
           7.25
          ],
          [
           2,
           2
          ],
          [
           4.25,
           4.25
          ],
          [
           2.25,
           2.25
          ],
          [
           3.25,
           3.25
          ],
          [
           0.5,
           0.5
          ],
          [
           0,
           0
          ],
          [
           0,
           0
          ],
          [
           2,
           2
          ],
          [
           0,
           0
          ],
          [
           0,
           0
          ],
          [
           0,
           0
          ],
          [
           5.5,
           5.5
          ],
          [
           2,
           2
          ],
          [
           0,
           0
          ],
          [
           2.5,
           2.5
          ],
          [
           1.5,
           1.5
          ],
          [
           0,
           0
          ],
          [
           0,
           0
          ],
          [
           0,
           0
          ],
          [
           0,
           0
          ],
          [
           1,
           1
          ],
          [
           0.5,
           0.5
          ],
          [
           0,
           0
          ],
          [
           1,
           1
          ],
          [
           0,
           0
          ],
          [
           0,
           0
          ],
          [
           1.5,
           1.5
          ],
          [
           1,
           1
          ],
          [
           0,
           0
          ],
          [
           3.5,
           3.5
          ],
          [
           2.5,
           2.5
          ],
          [
           0,
           0
          ],
          [
           1.75,
           1.75
          ],
          [
           1.75,
           1.75
          ],
          [
           0,
           0
          ],
          [
           1.5,
           1.5
          ],
          [
           0,
           0
          ],
          [
           3,
           3
          ],
          [
           0,
           0
          ]
         ]
        },
        {
         "marker": {
          "color": "rgb(136, 136, 136)"
         },
         "name": "Schießstand",
         "type": "bar",
         "x": [
          "Fflopse",
          "cediiiiii_10",
          "Gobo9",
          "PedroZockt",
          "HerrDante",
          "ReichesBrot",
          "_n3d",
          "Ex4cted",
          "yiiq",
          "JOW23",
          "lizsyy",
          "DarkCobweb",
          "camman18YT",
          "2wc",
          "Ninivee",
          "yzvm",
          "Grapfen",
          "Sey__",
          "Umgfoin",
          "KakaMC",
          "miridis41",
          "ffawks",
          "h4nnes",
          "Gerrygames",
          "Davinci_Son",
          "Sower_",
          "TheFabo",
          "2B9",
          "LeWi_100",
          "zBro",
          "unausgesprochen",
          "DieserBear",
          "Schmaarek",
          "GeneralEnte06",
          "lolisamasan",
          "Lubottus",
          "M0osebumps",
          "Freeeedom",
          "Gummibearchen",
          "frutigall",
          "La_meleagro",
          "CML_Justin",
          "chrisihalt",
          "xX_Dima_ggg_Xx6",
          "Feinberg",
          "ByNetherdude",
          "Morittz",
          "Flitzi_Dino",
          "bawskey",
          "Krusti",
          "Ritokii",
          "ZweitesIch",
          "HeIsJustAPoorBoy",
          "LeMetin_",
          "Luis_XYZ",
          "Janne4k",
          "byTobi",
          "Lingex",
          "LilFueller",
          "Shiewk",
          "Radiokopf",
          "Mincheeen",
          "Kyuudo",
          "Gryzes",
          "xBaumeisterin",
          "Jan2220",
          "LordAlexos",
          "DerBaumIstDerWeg",
          "Bartschii",
          "Kanickelul",
          "Wissender",
          "PixlNight",
          "Dokkkkko",
          "Navex",
          "officialryzon",
          "Falke23_5",
          "SpeckyCut",
          "Tomiokey",
          "ForceFox",
          "TheBreadHD",
          "SB387",
          "Sebi1801",
          "loukrativ",
          "GamemasterNiki",
          "Martomias",
          "Oronor",
          "_Waldi_",
          "Harold_Sensemann",
          "Allooy",
          "GrafikKatze",
          "WirdNichtGeladen",
          "revolverz",
          "deadfiight",
          "Chander24",
          "lvlaurin",
          "Vacted",
          "xX_Masha_ggg_Xx9",
          "Joy_8oy",
          "twitchparaskiill",
          "Mvsk_"
         ],
         "y": [
          [
           67.5,
           67.5
          ],
          [
           32.5,
           32.5
          ],
          [
           25,
           25
          ],
          [
           0,
           0
          ],
          [
           55,
           55
          ],
          [
           0,
           0
          ],
          [
           20,
           20
          ],
          [
           67.5,
           67.5
          ],
          [
           0,
           0
          ],
          [
           12.5,
           12.5
          ],
          [
           32.5,
           32.5
          ],
          [
           0,
           0
          ],
          [
           0,
           0
          ],
          [
           0,
           0
          ],
          [
           0,
           0
          ],
          [
           0,
           0
          ],
          [
           0,
           0
          ],
          [
           0,
           0
          ],
          [
           0,
           0
          ],
          [
           0,
           0
          ],
          [
           0,
           0
          ],
          [
           27.5,
           27.5
          ],
          [
           7.5,
           7.5
          ],
          [
           0,
           0
          ],
          [
           22.5,
           22.5
          ],
          [
           0,
           0
          ],
          [
           0,
           0
          ],
          [
           0,
           0
          ],
          [
           0,
           0
          ],
          [
           0,
           0
          ],
          [
           22.5,
           22.5
          ],
          [
           22.5,
           22.5
          ],
          [
           0,
           0
          ],
          [
           0,
           0
          ],
          [
           0,
           0
          ],
          [
           0,
           0
          ],
          [
           0,
           0
          ],
          [
           0,
           0
          ],
          [
           0,
           0
          ],
          [
           0,
           0
          ],
          [
           0,
           0
          ],
          [
           0,
           0
          ],
          [
           0,
           0
          ],
          [
           0,
           0
          ],
          [
           0,
           0
          ],
          [
           0,
           0
          ],
          [
           0,
           0
          ],
          [
           0,
           0
          ],
          [
           0,
           0
          ],
          [
           0,
           0
          ],
          [
           0,
           0
          ],
          [
           0,
           0
          ],
          [
           0,
           0
          ],
          [
           0,
           0
          ],
          [
           0,
           0
          ],
          [
           0,
           0
          ],
          [
           0,
           0
          ],
          [
           0,
           0
          ],
          [
           0,
           0
          ],
          [
           0,
           0
          ],
          [
           0,
           0
          ],
          [
           0,
           0
          ],
          [
           0,
           0
          ],
          [
           0,
           0
          ],
          [
           0,
           0
          ],
          [
           0,
           0
          ],
          [
           0,
           0
          ],
          [
           0,
           0
          ],
          [
           25,
           25
          ],
          [
           0,
           0
          ],
          [
           0,
           0
          ],
          [
           0,
           0
          ],
          [
           0,
           0
          ],
          [
           0,
           0
          ],
          [
           0,
           0
          ],
          [
           0,
           0
          ],
          [
           0,
           0
          ],
          [
           0,
           0
          ],
          [
           0,
           0
          ],
          [
           0,
           0
          ],
          [
           0,
           0
          ],
          [
           0,
           0
          ],
          [
           0,
           0
          ],
          [
           0,
           0
          ],
          [
           0,
           0
          ],
          [
           0,
           0
          ],
          [
           0,
           0
          ],
          [
           0,
           0
          ],
          [
           0,
           0
          ],
          [
           0,
           0
          ],
          [
           0,
           0
          ],
          [
           0,
           0
          ],
          [
           0,
           0
          ],
          [
           0,
           0
          ],
          [
           0,
           0
          ],
          [
           0,
           0
          ],
          [
           0,
           0
          ],
          [
           0,
           0
          ],
          [
           0,
           0
          ],
          [
           0,
           0
          ]
         ]
        },
        {
         "marker": {
          "color": "rgb(136, 204, 238)"
         },
         "name": "Spleef",
         "type": "bar",
         "x": [
          "Fflopse",
          "cediiiiii_10",
          "Gobo9",
          "PedroZockt",
          "HerrDante",
          "ReichesBrot",
          "_n3d",
          "Ex4cted",
          "yiiq",
          "JOW23",
          "lizsyy",
          "DarkCobweb",
          "camman18YT",
          "2wc",
          "Ninivee",
          "yzvm",
          "Grapfen",
          "Sey__",
          "Umgfoin",
          "KakaMC",
          "miridis41",
          "ffawks",
          "h4nnes",
          "Gerrygames",
          "Davinci_Son",
          "Sower_",
          "TheFabo",
          "2B9",
          "LeWi_100",
          "zBro",
          "unausgesprochen",
          "DieserBear",
          "Schmaarek",
          "GeneralEnte06",
          "lolisamasan",
          "Lubottus",
          "M0osebumps",
          "Freeeedom",
          "Gummibearchen",
          "frutigall",
          "La_meleagro",
          "CML_Justin",
          "chrisihalt",
          "xX_Dima_ggg_Xx6",
          "Feinberg",
          "ByNetherdude",
          "Morittz",
          "Flitzi_Dino",
          "bawskey",
          "Krusti",
          "Ritokii",
          "ZweitesIch",
          "HeIsJustAPoorBoy",
          "LeMetin_",
          "Luis_XYZ",
          "Janne4k",
          "byTobi",
          "Lingex",
          "LilFueller",
          "Shiewk",
          "Radiokopf",
          "Mincheeen",
          "Kyuudo",
          "Gryzes",
          "xBaumeisterin",
          "Jan2220",
          "LordAlexos",
          "DerBaumIstDerWeg",
          "Bartschii",
          "Kanickelul",
          "Wissender",
          "PixlNight",
          "Dokkkkko",
          "Navex",
          "officialryzon",
          "Falke23_5",
          "SpeckyCut",
          "Tomiokey",
          "ForceFox",
          "TheBreadHD",
          "SB387",
          "Sebi1801",
          "loukrativ",
          "GamemasterNiki",
          "Martomias",
          "Oronor",
          "_Waldi_",
          "Harold_Sensemann",
          "Allooy",
          "GrafikKatze",
          "WirdNichtGeladen",
          "revolverz",
          "deadfiight",
          "Chander24",
          "lvlaurin",
          "Vacted",
          "xX_Masha_ggg_Xx9",
          "Joy_8oy",
          "twitchparaskiill",
          "Mvsk_"
         ],
         "y": [
          [
           75,
           75
          ],
          [
           90,
           90
          ],
          [
           75,
           75
          ],
          [
           50,
           50
          ],
          [
           30,
           30
          ],
          [
           0,
           0
          ],
          [
           45,
           45
          ],
          [
           30,
           30
          ],
          [
           30,
           30
          ],
          [
           45,
           45
          ],
          [
           45,
           45
          ],
          [
           30,
           30
          ],
          [
           0,
           0
          ],
          [
           0,
           0
          ],
          [
           0,
           0
          ],
          [
           0,
           0
          ],
          [
           30,
           30
          ],
          [
           0,
           0
          ],
          [
           80,
           80
          ],
          [
           0,
           0
          ],
          [
           0,
           0
          ],
          [
           0,
           0
          ],
          [
           0,
           0
          ],
          [
           0,
           0
          ],
          [
           45,
           45
          ],
          [
           0,
           0
          ],
          [
           0,
           0
          ],
          [
           0,
           0
          ],
          [
           0,
           0
          ],
          [
           0,
           0
          ],
          [
           0,
           0
          ],
          [
           30,
           30
          ],
          [
           0,
           0
          ],
          [
           0,
           0
          ],
          [
           0,
           0
          ],
          [
           0,
           0
          ],
          [
           30,
           30
          ],
          [
           0,
           0
          ],
          [
           0,
           0
          ],
          [
           75,
           75
          ],
          [
           0,
           0
          ],
          [
           0,
           0
          ],
          [
           0,
           0
          ],
          [
           45,
           45
          ],
          [
           0,
           0
          ],
          [
           0,
           0
          ],
          [
           0,
           0
          ],
          [
           0,
           0
          ],
          [
           0,
           0
          ],
          [
           0,
           0
          ],
          [
           0,
           0
          ],
          [
           0,
           0
          ],
          [
           45,
           45
          ],
          [
           0,
           0
          ],
          [
           0,
           0
          ],
          [
           0,
           0
          ],
          [
           0,
           0
          ],
          [
           0,
           0
          ],
          [
           0,
           0
          ],
          [
           0,
           0
          ],
          [
           0,
           0
          ],
          [
           0,
           0
          ],
          [
           0,
           0
          ],
          [
           0,
           0
          ],
          [
           0,
           0
          ],
          [
           30,
           30
          ],
          [
           0,
           0
          ],
          [
           0,
           0
          ],
          [
           0,
           0
          ],
          [
           0,
           0
          ],
          [
           45,
           45
          ],
          [
           0,
           0
          ],
          [
           0,
           0
          ],
          [
           0,
           0
          ],
          [
           0,
           0
          ],
          [
           0,
           0
          ],
          [
           0,
           0
          ],
          [
           0,
           0
          ],
          [
           0,
           0
          ],
          [
           0,
           0
          ],
          [
           0,
           0
          ],
          [
           0,
           0
          ],
          [
           0,
           0
          ],
          [
           0,
           0
          ],
          [
           30,
           30
          ],
          [
           0,
           0
          ],
          [
           0,
           0
          ],
          [
           0,
           0
          ],
          [
           0,
           0
          ],
          [
           0,
           0
          ],
          [
           0,
           0
          ],
          [
           0,
           0
          ],
          [
           0,
           0
          ],
          [
           0,
           0
          ],
          [
           0,
           0
          ],
          [
           0,
           0
          ],
          [
           0,
           0
          ],
          [
           0,
           0
          ],
          [
           0,
           0
          ],
          [
           0,
           0
          ]
         ]
        },
        {
         "marker": {
          "color": "rgb(204, 102, 119)"
         },
         "name": "Todeswürfel",
         "type": "bar",
         "x": [
          "Fflopse",
          "cediiiiii_10",
          "Gobo9",
          "PedroZockt",
          "HerrDante",
          "ReichesBrot",
          "_n3d",
          "Ex4cted",
          "yiiq",
          "JOW23",
          "lizsyy",
          "DarkCobweb",
          "camman18YT",
          "2wc",
          "Ninivee",
          "yzvm",
          "Grapfen",
          "Sey__",
          "Umgfoin",
          "KakaMC",
          "miridis41",
          "ffawks",
          "h4nnes",
          "Gerrygames",
          "Davinci_Son",
          "Sower_",
          "TheFabo",
          "2B9",
          "LeWi_100",
          "zBro",
          "unausgesprochen",
          "DieserBear",
          "Schmaarek",
          "GeneralEnte06",
          "lolisamasan",
          "Lubottus",
          "M0osebumps",
          "Freeeedom",
          "Gummibearchen",
          "frutigall",
          "La_meleagro",
          "CML_Justin",
          "chrisihalt",
          "xX_Dima_ggg_Xx6",
          "Feinberg",
          "ByNetherdude",
          "Morittz",
          "Flitzi_Dino",
          "bawskey",
          "Krusti",
          "Ritokii",
          "ZweitesIch",
          "HeIsJustAPoorBoy",
          "LeMetin_",
          "Luis_XYZ",
          "Janne4k",
          "byTobi",
          "Lingex",
          "LilFueller",
          "Shiewk",
          "Radiokopf",
          "Mincheeen",
          "Kyuudo",
          "Gryzes",
          "xBaumeisterin",
          "Jan2220",
          "LordAlexos",
          "DerBaumIstDerWeg",
          "Bartschii",
          "Kanickelul",
          "Wissender",
          "PixlNight",
          "Dokkkkko",
          "Navex",
          "officialryzon",
          "Falke23_5",
          "SpeckyCut",
          "Tomiokey",
          "ForceFox",
          "TheBreadHD",
          "SB387",
          "Sebi1801",
          "loukrativ",
          "GamemasterNiki",
          "Martomias",
          "Oronor",
          "_Waldi_",
          "Harold_Sensemann",
          "Allooy",
          "GrafikKatze",
          "WirdNichtGeladen",
          "revolverz",
          "deadfiight",
          "Chander24",
          "lvlaurin",
          "Vacted",
          "xX_Masha_ggg_Xx9",
          "Joy_8oy",
          "twitchparaskiill",
          "Mvsk_"
         ],
         "y": [
          [
           0,
           0
          ],
          [
           20,
           20
          ],
          [
           0,
           0
          ],
          [
           60,
           60
          ],
          [
           90,
           90
          ],
          [
           0,
           0
          ],
          [
           0,
           0
          ],
          [
           0,
           0
          ],
          [
           0,
           0
          ],
          [
           0,
           0
          ],
          [
           0,
           0
          ],
          [
           0,
           0
          ],
          [
           50,
           50
          ],
          [
           0,
           0
          ],
          [
           0,
           0
          ],
          [
           0,
           0
          ],
          [
           0,
           0
          ],
          [
           0,
           0
          ],
          [
           0,
           0
          ],
          [
           40,
           40
          ],
          [
           0,
           0
          ],
          [
           0,
           0
          ],
          [
           0,
           0
          ],
          [
           80,
           80
          ],
          [
           0,
           0
          ],
          [
           100,
           100
          ],
          [
           0,
           0
          ],
          [
           0,
           0
          ],
          [
           0,
           0
          ],
          [
           0,
           0
          ],
          [
           0,
           0
          ],
          [
           0,
           0
          ],
          [
           0,
           0
          ],
          [
           0,
           0
          ],
          [
           70,
           70
          ],
          [
           0,
           0
          ],
          [
           30,
           30
          ],
          [
           0,
           0
          ],
          [
           0,
           0
          ],
          [
           0,
           0
          ],
          [
           0,
           0
          ],
          [
           0,
           0
          ],
          [
           0,
           0
          ],
          [
           0,
           0
          ],
          [
           0,
           0
          ],
          [
           0,
           0
          ],
          [
           0,
           0
          ],
          [
           0,
           0
          ],
          [
           0,
           0
          ],
          [
           0,
           0
          ],
          [
           0,
           0
          ],
          [
           0,
           0
          ],
          [
           0,
           0
          ],
          [
           0,
           0
          ],
          [
           0,
           0
          ],
          [
           0,
           0
          ],
          [
           0,
           0
          ],
          [
           0,
           0
          ],
          [
           0,
           0
          ],
          [
           0,
           0
          ],
          [
           0,
           0
          ],
          [
           0,
           0
          ],
          [
           0,
           0
          ],
          [
           0,
           0
          ],
          [
           0,
           0
          ],
          [
           0,
           0
          ],
          [
           0,
           0
          ],
          [
           0,
           0
          ],
          [
           0,
           0
          ],
          [
           0,
           0
          ],
          [
           0,
           0
          ],
          [
           0,
           0
          ],
          [
           0,
           0
          ],
          [
           0,
           0
          ],
          [
           0,
           0
          ],
          [
           0,
           0
          ],
          [
           0,
           0
          ],
          [
           0,
           0
          ],
          [
           0,
           0
          ],
          [
           0,
           0
          ],
          [
           0,
           0
          ],
          [
           0,
           0
          ],
          [
           0,
           0
          ],
          [
           0,
           0
          ],
          [
           0,
           0
          ],
          [
           0,
           0
          ],
          [
           0,
           0
          ],
          [
           0,
           0
          ],
          [
           0,
           0
          ],
          [
           0,
           0
          ],
          [
           0,
           0
          ],
          [
           0,
           0
          ],
          [
           0,
           0
          ],
          [
           0,
           0
          ],
          [
           0,
           0
          ],
          [
           0,
           0
          ],
          [
           0,
           0
          ],
          [
           0,
           0
          ],
          [
           0,
           0
          ],
          [
           0,
           0
          ]
         ]
        },
        {
         "marker": {
          "color": "rgb(221, 204, 119)"
         },
         "name": "Waffenfolge",
         "type": "bar",
         "x": [
          "Fflopse",
          "cediiiiii_10",
          "Gobo9",
          "PedroZockt",
          "HerrDante",
          "ReichesBrot",
          "_n3d",
          "Ex4cted",
          "yiiq",
          "JOW23",
          "lizsyy",
          "DarkCobweb",
          "camman18YT",
          "2wc",
          "Ninivee",
          "yzvm",
          "Grapfen",
          "Sey__",
          "Umgfoin",
          "KakaMC",
          "miridis41",
          "ffawks",
          "h4nnes",
          "Gerrygames",
          "Davinci_Son",
          "Sower_",
          "TheFabo",
          "2B9",
          "LeWi_100",
          "zBro",
          "unausgesprochen",
          "DieserBear",
          "Schmaarek",
          "GeneralEnte06",
          "lolisamasan",
          "Lubottus",
          "M0osebumps",
          "Freeeedom",
          "Gummibearchen",
          "frutigall",
          "La_meleagro",
          "CML_Justin",
          "chrisihalt",
          "xX_Dima_ggg_Xx6",
          "Feinberg",
          "ByNetherdude",
          "Morittz",
          "Flitzi_Dino",
          "bawskey",
          "Krusti",
          "Ritokii",
          "ZweitesIch",
          "HeIsJustAPoorBoy",
          "LeMetin_",
          "Luis_XYZ",
          "Janne4k",
          "byTobi",
          "Lingex",
          "LilFueller",
          "Shiewk",
          "Radiokopf",
          "Mincheeen",
          "Kyuudo",
          "Gryzes",
          "xBaumeisterin",
          "Jan2220",
          "LordAlexos",
          "DerBaumIstDerWeg",
          "Bartschii",
          "Kanickelul",
          "Wissender",
          "PixlNight",
          "Dokkkkko",
          "Navex",
          "officialryzon",
          "Falke23_5",
          "SpeckyCut",
          "Tomiokey",
          "ForceFox",
          "TheBreadHD",
          "SB387",
          "Sebi1801",
          "loukrativ",
          "GamemasterNiki",
          "Martomias",
          "Oronor",
          "_Waldi_",
          "Harold_Sensemann",
          "Allooy",
          "GrafikKatze",
          "WirdNichtGeladen",
          "revolverz",
          "deadfiight",
          "Chander24",
          "lvlaurin",
          "Vacted",
          "xX_Masha_ggg_Xx9",
          "Joy_8oy",
          "twitchparaskiill",
          "Mvsk_"
         ],
         "y": [
          [
           50,
           50
          ],
          [
           80,
           80
          ],
          [
           0,
           0
          ],
          [
           70,
           70
          ],
          [
           0,
           0
          ],
          [
           0,
           0
          ],
          [
           0,
           0
          ],
          [
           0,
           0
          ],
          [
           0,
           0
          ],
          [
           100,
           100
          ],
          [
           0,
           0
          ],
          [
           0,
           0
          ],
          [
           0,
           0
          ],
          [
           0,
           0
          ],
          [
           0,
           0
          ],
          [
           90,
           90
          ],
          [
           60,
           60
          ],
          [
           20,
           20
          ],
          [
           0,
           0
          ],
          [
           0,
           0
          ],
          [
           0,
           0
          ],
          [
           0,
           0
          ],
          [
           0,
           0
          ],
          [
           0,
           0
          ],
          [
           0,
           0
          ],
          [
           0,
           0
          ],
          [
           40,
           40
          ],
          [
           0,
           0
          ],
          [
           0,
           0
          ],
          [
           0,
           0
          ],
          [
           0,
           0
          ],
          [
           0,
           0
          ],
          [
           0,
           0
          ],
          [
           0,
           0
          ],
          [
           0,
           0
          ],
          [
           0,
           0
          ],
          [
           0,
           0
          ],
          [
           0,
           0
          ],
          [
           0,
           0
          ],
          [
           0,
           0
          ],
          [
           0,
           0
          ],
          [
           0,
           0
          ],
          [
           0,
           0
          ],
          [
           0,
           0
          ],
          [
           0,
           0
          ],
          [
           0,
           0
          ],
          [
           0,
           0
          ],
          [
           0,
           0
          ],
          [
           30,
           30
          ],
          [
           0,
           0
          ],
          [
           0,
           0
          ],
          [
           0,
           0
          ],
          [
           0,
           0
          ],
          [
           0,
           0
          ],
          [
           0,
           0
          ],
          [
           0,
           0
          ],
          [
           0,
           0
          ],
          [
           0,
           0
          ],
          [
           0,
           0
          ],
          [
           0,
           0
          ],
          [
           0,
           0
          ],
          [
           0,
           0
          ],
          [
           0,
           0
          ],
          [
           0,
           0
          ],
          [
           0,
           0
          ],
          [
           0,
           0
          ],
          [
           0,
           0
          ],
          [
           0,
           0
          ],
          [
           0,
           0
          ],
          [
           0,
           0
          ],
          [
           0,
           0
          ],
          [
           0,
           0
          ],
          [
           0,
           0
          ],
          [
           0,
           0
          ],
          [
           0,
           0
          ],
          [
           0,
           0
          ],
          [
           0,
           0
          ],
          [
           0,
           0
          ],
          [
           0,
           0
          ],
          [
           0,
           0
          ],
          [
           0,
           0
          ],
          [
           0,
           0
          ],
          [
           0,
           0
          ],
          [
           0,
           0
          ],
          [
           0,
           0
          ],
          [
           0,
           0
          ],
          [
           0,
           0
          ],
          [
           0,
           0
          ],
          [
           0,
           0
          ],
          [
           0,
           0
          ],
          [
           0,
           0
          ],
          [
           0,
           0
          ],
          [
           0,
           0
          ],
          [
           0,
           0
          ],
          [
           0,
           0
          ],
          [
           0,
           0
          ],
          [
           0,
           0
          ],
          [
           0,
           0
          ],
          [
           0,
           0
          ],
          [
           0,
           0
          ]
         ]
        },
        {
         "marker": {
          "color": "rgb(17, 119, 51)"
         },
         "name": "Walls",
         "type": "bar",
         "x": [
          "Fflopse",
          "cediiiiii_10",
          "Gobo9",
          "PedroZockt",
          "HerrDante",
          "ReichesBrot",
          "_n3d",
          "Ex4cted",
          "yiiq",
          "JOW23",
          "lizsyy",
          "DarkCobweb",
          "camman18YT",
          "2wc",
          "Ninivee",
          "yzvm",
          "Grapfen",
          "Sey__",
          "Umgfoin",
          "KakaMC",
          "miridis41",
          "ffawks",
          "h4nnes",
          "Gerrygames",
          "Davinci_Son",
          "Sower_",
          "TheFabo",
          "2B9",
          "LeWi_100",
          "zBro",
          "unausgesprochen",
          "DieserBear",
          "Schmaarek",
          "GeneralEnte06",
          "lolisamasan",
          "Lubottus",
          "M0osebumps",
          "Freeeedom",
          "Gummibearchen",
          "frutigall",
          "La_meleagro",
          "CML_Justin",
          "chrisihalt",
          "xX_Dima_ggg_Xx6",
          "Feinberg",
          "ByNetherdude",
          "Morittz",
          "Flitzi_Dino",
          "bawskey",
          "Krusti",
          "Ritokii",
          "ZweitesIch",
          "HeIsJustAPoorBoy",
          "LeMetin_",
          "Luis_XYZ",
          "Janne4k",
          "byTobi",
          "Lingex",
          "LilFueller",
          "Shiewk",
          "Radiokopf",
          "Mincheeen",
          "Kyuudo",
          "Gryzes",
          "xBaumeisterin",
          "Jan2220",
          "LordAlexos",
          "DerBaumIstDerWeg",
          "Bartschii",
          "Kanickelul",
          "Wissender",
          "PixlNight",
          "Dokkkkko",
          "Navex",
          "officialryzon",
          "Falke23_5",
          "SpeckyCut",
          "Tomiokey",
          "ForceFox",
          "TheBreadHD",
          "SB387",
          "Sebi1801",
          "loukrativ",
          "GamemasterNiki",
          "Martomias",
          "Oronor",
          "_Waldi_",
          "Harold_Sensemann",
          "Allooy",
          "GrafikKatze",
          "WirdNichtGeladen",
          "revolverz",
          "deadfiight",
          "Chander24",
          "lvlaurin",
          "Vacted",
          "xX_Masha_ggg_Xx9",
          "Joy_8oy",
          "twitchparaskiill",
          "Mvsk_"
         ],
         "y": [
          [
           25,
           25
          ],
          [
           70,
           70
          ],
          [
           35,
           35
          ],
          [
           45,
           45
          ],
          [
           0,
           0
          ],
          [
           0,
           0
          ],
          [
           0,
           0
          ],
          [
           0,
           0
          ],
          [
           22.5,
           22.5
          ],
          [
           25,
           25
          ],
          [
           0,
           0
          ],
          [
           50,
           50
          ],
          [
           40,
           40
          ],
          [
           15,
           15
          ],
          [
           15,
           15
          ],
          [
           12.5,
           12.5
          ],
          [
           32.5,
           32.5
          ],
          [
           0,
           0
          ],
          [
           0,
           0
          ],
          [
           25,
           25
          ],
          [
           15,
           15
          ],
          [
           0,
           0
          ],
          [
           0,
           0
          ],
          [
           0,
           0
          ],
          [
           12.5,
           12.5
          ],
          [
           0,
           0
          ],
          [
           0,
           0
          ],
          [
           0,
           0
          ],
          [
           0,
           0
          ],
          [
           25,
           25
          ],
          [
           0,
           0
          ],
          [
           0,
           0
          ],
          [
           0,
           0
          ],
          [
           0,
           0
          ],
          [
           0,
           0
          ],
          [
           7.5,
           7.5
          ],
          [
           0,
           0
          ],
          [
           0,
           0
          ],
          [
           20,
           20
          ],
          [
           0,
           0
          ],
          [
           0,
           0
          ],
          [
           0,
           0
          ],
          [
           0,
           0
          ],
          [
           7.5,
           7.5
          ],
          [
           0,
           0
          ],
          [
           0,
           0
          ],
          [
           12.5,
           12.5
          ],
          [
           25,
           25
          ],
          [
           12.5,
           12.5
          ],
          [
           0,
           0
          ],
          [
           0,
           0
          ],
          [
           0,
           0
          ],
          [
           0,
           0
          ],
          [
           0,
           0
          ],
          [
           0,
           0
          ],
          [
           7.5,
           7.5
          ],
          [
           12.5,
           12.5
          ],
          [
           0,
           0
          ],
          [
           0,
           0
          ],
          [
           0,
           0
          ],
          [
           0,
           0
          ],
          [
           0,
           0
          ],
          [
           0,
           0
          ],
          [
           7.5,
           7.5
          ],
          [
           0,
           0
          ],
          [
           0,
           0
          ],
          [
           0,
           0
          ],
          [
           0,
           0
          ],
          [
           0,
           0
          ],
          [
           0,
           0
          ],
          [
           0,
           0
          ],
          [
           0,
           0
          ],
          [
           15,
           15
          ],
          [
           0,
           0
          ],
          [
           0,
           0
          ],
          [
           0,
           0
          ],
          [
           0,
           0
          ],
          [
           0,
           0
          ],
          [
           0,
           0
          ],
          [
           0,
           0
          ],
          [
           0,
           0
          ],
          [
           0,
           0
          ],
          [
           0,
           0
          ],
          [
           0,
           0
          ],
          [
           0,
           0
          ],
          [
           0,
           0
          ],
          [
           0,
           0
          ],
          [
           0,
           0
          ],
          [
           0,
           0
          ],
          [
           0,
           0
          ],
          [
           0,
           0
          ],
          [
           0,
           0
          ],
          [
           0,
           0
          ],
          [
           0,
           0
          ],
          [
           0,
           0
          ],
          [
           0,
           0
          ],
          [
           0,
           0
          ],
          [
           0,
           0
          ],
          [
           0,
           0
          ],
          [
           0,
           0
          ]
         ]
        },
        {
         "marker": {
          "color": "rgb(51, 34, 136)"
         },
         "name": "Wettrennen",
         "type": "bar",
         "x": [
          "Fflopse",
          "cediiiiii_10",
          "Gobo9",
          "PedroZockt",
          "HerrDante",
          "ReichesBrot",
          "_n3d",
          "Ex4cted",
          "yiiq",
          "JOW23",
          "lizsyy",
          "DarkCobweb",
          "camman18YT",
          "2wc",
          "Ninivee",
          "yzvm",
          "Grapfen",
          "Sey__",
          "Umgfoin",
          "KakaMC",
          "miridis41",
          "ffawks",
          "h4nnes",
          "Gerrygames",
          "Davinci_Son",
          "Sower_",
          "TheFabo",
          "2B9",
          "LeWi_100",
          "zBro",
          "unausgesprochen",
          "DieserBear",
          "Schmaarek",
          "GeneralEnte06",
          "lolisamasan",
          "Lubottus",
          "M0osebumps",
          "Freeeedom",
          "Gummibearchen",
          "frutigall",
          "La_meleagro",
          "CML_Justin",
          "chrisihalt",
          "xX_Dima_ggg_Xx6",
          "Feinberg",
          "ByNetherdude",
          "Morittz",
          "Flitzi_Dino",
          "bawskey",
          "Krusti",
          "Ritokii",
          "ZweitesIch",
          "HeIsJustAPoorBoy",
          "LeMetin_",
          "Luis_XYZ",
          "Janne4k",
          "byTobi",
          "Lingex",
          "LilFueller",
          "Shiewk",
          "Radiokopf",
          "Mincheeen",
          "Kyuudo",
          "Gryzes",
          "xBaumeisterin",
          "Jan2220",
          "LordAlexos",
          "DerBaumIstDerWeg",
          "Bartschii",
          "Kanickelul",
          "Wissender",
          "PixlNight",
          "Dokkkkko",
          "Navex",
          "officialryzon",
          "Falke23_5",
          "SpeckyCut",
          "Tomiokey",
          "ForceFox",
          "TheBreadHD",
          "SB387",
          "Sebi1801",
          "loukrativ",
          "GamemasterNiki",
          "Martomias",
          "Oronor",
          "_Waldi_",
          "Harold_Sensemann",
          "Allooy",
          "GrafikKatze",
          "WirdNichtGeladen",
          "revolverz",
          "deadfiight",
          "Chander24",
          "lvlaurin",
          "Vacted",
          "xX_Masha_ggg_Xx9",
          "Joy_8oy",
          "twitchparaskiill",
          "Mvsk_"
         ],
         "y": [
          [
           82,
           82
          ],
          [
           48,
           48
          ],
          [
           72,
           72
          ],
          [
           14,
           14
          ],
          [
           20,
           20
          ],
          [
           40,
           40
          ],
          [
           4,
           4
          ],
          [
           0,
           0
          ],
          [
           42,
           42
          ],
          [
           0,
           0
          ],
          [
           14,
           14
          ],
          [
           0,
           0
          ],
          [
           0,
           0
          ],
          [
           8,
           8
          ],
          [
           0,
           0
          ],
          [
           14,
           14
          ],
          [
           0,
           0
          ],
          [
           8,
           8
          ],
          [
           0,
           0
          ],
          [
           0,
           0
          ],
          [
           0,
           0
          ],
          [
           12,
           12
          ],
          [
           0,
           0
          ],
          [
           20,
           20
          ],
          [
           0,
           0
          ],
          [
           0,
           0
          ],
          [
           0,
           0
          ],
          [
           0,
           0
          ],
          [
           24,
           24
          ],
          [
           0,
           0
          ],
          [
           0,
           0
          ],
          [
           0,
           0
          ],
          [
           14,
           14
          ],
          [
           12,
           12
          ],
          [
           0,
           0
          ],
          [
           4,
           4
          ],
          [
           16,
           16
          ],
          [
           0,
           0
          ],
          [
           32,
           32
          ],
          [
           0,
           0
          ],
          [
           0,
           0
          ],
          [
           0,
           0
          ],
          [
           0,
           0
          ],
          [
           0,
           0
          ],
          [
           0,
           0
          ],
          [
           0,
           0
          ],
          [
           0,
           0
          ],
          [
           0,
           0
          ],
          [
           0,
           0
          ],
          [
           0,
           0
          ],
          [
           0,
           0
          ],
          [
           0,
           0
          ],
          [
           0,
           0
          ],
          [
           0,
           0
          ],
          [
           0,
           0
          ],
          [
           0,
           0
          ],
          [
           0,
           0
          ],
          [
           0,
           0
          ],
          [
           0,
           0
          ],
          [
           0,
           0
          ],
          [
           0,
           0
          ],
          [
           10,
           10
          ],
          [
           12,
           12
          ],
          [
           0,
           0
          ],
          [
           12,
           12
          ],
          [
           0,
           0
          ],
          [
           0,
           0
          ],
          [
           0,
           0
          ],
          [
           0,
           0
          ],
          [
           0,
           0
          ],
          [
           0,
           0
          ],
          [
           0,
           0
          ],
          [
           0,
           0
          ],
          [
           0,
           0
          ],
          [
           0,
           0
          ],
          [
           0,
           0
          ],
          [
           0,
           0
          ],
          [
           0,
           0
          ],
          [
           0,
           0
          ],
          [
           0,
           0
          ],
          [
           0,
           0
          ],
          [
           0,
           0
          ],
          [
           0,
           0
          ],
          [
           0,
           0
          ],
          [
           0,
           0
          ],
          [
           0,
           0
          ],
          [
           0,
           0
          ],
          [
           0,
           0
          ],
          [
           0,
           0
          ],
          [
           0,
           0
          ],
          [
           0,
           0
          ],
          [
           0,
           0
          ],
          [
           0,
           0
          ],
          [
           0,
           0
          ],
          [
           0,
           0
          ],
          [
           0,
           0
          ],
          [
           0,
           0
          ],
          [
           0,
           0
          ],
          [
           0,
           0
          ],
          [
           0,
           0
          ]
         ]
        }
       ],
       "layout": {
        "annotations": [
         {
          "font": {
           "size": 12
          },
          "showarrow": false,
          "text": "Max 100 points per minigame. Records #1 through #10 of games & maps in the active pool are considered (#1: 100, #2: 90, ..., #10: 10). If a minigame has multiple maps, the 100 points are distributed equally. fflopse.github.io/MCP-Records/data-analysis/global-ranking.ipynb",
          "x": 0.5,
          "xanchor": "center",
          "xref": "paper",
          "y": 1.1635,
          "yref": "paper"
         }
        ],
        "barmode": "stack",
        "legend": {
         "bgcolor": "rgba(255, 255, 255, 0)",
         "bordercolor": "rgba(0, 0, 0, 0)",
         "font": {
          "size": 12
         },
         "traceorder": "normal",
         "x": 1.05,
         "y": 0.5
        },
        "margin": {
         "r": 200
        },
        "template": {
         "data": {
          "bar": [
           {
            "error_x": {
             "color": "#2a3f5f"
            },
            "error_y": {
             "color": "#2a3f5f"
            },
            "marker": {
             "line": {
              "color": "#E5ECF6",
              "width": 0.5
             },
             "pattern": {
              "fillmode": "overlay",
              "size": 10,
              "solidity": 0.2
             }
            },
            "type": "bar"
           }
          ],
          "barpolar": [
           {
            "marker": {
             "line": {
              "color": "#E5ECF6",
              "width": 0.5
             },
             "pattern": {
              "fillmode": "overlay",
              "size": 10,
              "solidity": 0.2
             }
            },
            "type": "barpolar"
           }
          ],
          "carpet": [
           {
            "aaxis": {
             "endlinecolor": "#2a3f5f",
             "gridcolor": "white",
             "linecolor": "white",
             "minorgridcolor": "white",
             "startlinecolor": "#2a3f5f"
            },
            "baxis": {
             "endlinecolor": "#2a3f5f",
             "gridcolor": "white",
             "linecolor": "white",
             "minorgridcolor": "white",
             "startlinecolor": "#2a3f5f"
            },
            "type": "carpet"
           }
          ],
          "choropleth": [
           {
            "colorbar": {
             "outlinewidth": 0,
             "ticks": ""
            },
            "type": "choropleth"
           }
          ],
          "contour": [
           {
            "colorbar": {
             "outlinewidth": 0,
             "ticks": ""
            },
            "colorscale": [
             [
              0,
              "#0d0887"
             ],
             [
              0.1111111111111111,
              "#46039f"
             ],
             [
              0.2222222222222222,
              "#7201a8"
             ],
             [
              0.3333333333333333,
              "#9c179e"
             ],
             [
              0.4444444444444444,
              "#bd3786"
             ],
             [
              0.5555555555555556,
              "#d8576b"
             ],
             [
              0.6666666666666666,
              "#ed7953"
             ],
             [
              0.7777777777777778,
              "#fb9f3a"
             ],
             [
              0.8888888888888888,
              "#fdca26"
             ],
             [
              1,
              "#f0f921"
             ]
            ],
            "type": "contour"
           }
          ],
          "contourcarpet": [
           {
            "colorbar": {
             "outlinewidth": 0,
             "ticks": ""
            },
            "type": "contourcarpet"
           }
          ],
          "heatmap": [
           {
            "colorbar": {
             "outlinewidth": 0,
             "ticks": ""
            },
            "colorscale": [
             [
              0,
              "#0d0887"
             ],
             [
              0.1111111111111111,
              "#46039f"
             ],
             [
              0.2222222222222222,
              "#7201a8"
             ],
             [
              0.3333333333333333,
              "#9c179e"
             ],
             [
              0.4444444444444444,
              "#bd3786"
             ],
             [
              0.5555555555555556,
              "#d8576b"
             ],
             [
              0.6666666666666666,
              "#ed7953"
             ],
             [
              0.7777777777777778,
              "#fb9f3a"
             ],
             [
              0.8888888888888888,
              "#fdca26"
             ],
             [
              1,
              "#f0f921"
             ]
            ],
            "type": "heatmap"
           }
          ],
          "heatmapgl": [
           {
            "colorbar": {
             "outlinewidth": 0,
             "ticks": ""
            },
            "colorscale": [
             [
              0,
              "#0d0887"
             ],
             [
              0.1111111111111111,
              "#46039f"
             ],
             [
              0.2222222222222222,
              "#7201a8"
             ],
             [
              0.3333333333333333,
              "#9c179e"
             ],
             [
              0.4444444444444444,
              "#bd3786"
             ],
             [
              0.5555555555555556,
              "#d8576b"
             ],
             [
              0.6666666666666666,
              "#ed7953"
             ],
             [
              0.7777777777777778,
              "#fb9f3a"
             ],
             [
              0.8888888888888888,
              "#fdca26"
             ],
             [
              1,
              "#f0f921"
             ]
            ],
            "type": "heatmapgl"
           }
          ],
          "histogram": [
           {
            "marker": {
             "pattern": {
              "fillmode": "overlay",
              "size": 10,
              "solidity": 0.2
             }
            },
            "type": "histogram"
           }
          ],
          "histogram2d": [
           {
            "colorbar": {
             "outlinewidth": 0,
             "ticks": ""
            },
            "colorscale": [
             [
              0,
              "#0d0887"
             ],
             [
              0.1111111111111111,
              "#46039f"
             ],
             [
              0.2222222222222222,
              "#7201a8"
             ],
             [
              0.3333333333333333,
              "#9c179e"
             ],
             [
              0.4444444444444444,
              "#bd3786"
             ],
             [
              0.5555555555555556,
              "#d8576b"
             ],
             [
              0.6666666666666666,
              "#ed7953"
             ],
             [
              0.7777777777777778,
              "#fb9f3a"
             ],
             [
              0.8888888888888888,
              "#fdca26"
             ],
             [
              1,
              "#f0f921"
             ]
            ],
            "type": "histogram2d"
           }
          ],
          "histogram2dcontour": [
           {
            "colorbar": {
             "outlinewidth": 0,
             "ticks": ""
            },
            "colorscale": [
             [
              0,
              "#0d0887"
             ],
             [
              0.1111111111111111,
              "#46039f"
             ],
             [
              0.2222222222222222,
              "#7201a8"
             ],
             [
              0.3333333333333333,
              "#9c179e"
             ],
             [
              0.4444444444444444,
              "#bd3786"
             ],
             [
              0.5555555555555556,
              "#d8576b"
             ],
             [
              0.6666666666666666,
              "#ed7953"
             ],
             [
              0.7777777777777778,
              "#fb9f3a"
             ],
             [
              0.8888888888888888,
              "#fdca26"
             ],
             [
              1,
              "#f0f921"
             ]
            ],
            "type": "histogram2dcontour"
           }
          ],
          "mesh3d": [
           {
            "colorbar": {
             "outlinewidth": 0,
             "ticks": ""
            },
            "type": "mesh3d"
           }
          ],
          "parcoords": [
           {
            "line": {
             "colorbar": {
              "outlinewidth": 0,
              "ticks": ""
             }
            },
            "type": "parcoords"
           }
          ],
          "pie": [
           {
            "automargin": true,
            "type": "pie"
           }
          ],
          "scatter": [
           {
            "fillpattern": {
             "fillmode": "overlay",
             "size": 10,
             "solidity": 0.2
            },
            "type": "scatter"
           }
          ],
          "scatter3d": [
           {
            "line": {
             "colorbar": {
              "outlinewidth": 0,
              "ticks": ""
             }
            },
            "marker": {
             "colorbar": {
              "outlinewidth": 0,
              "ticks": ""
             }
            },
            "type": "scatter3d"
           }
          ],
          "scattercarpet": [
           {
            "marker": {
             "colorbar": {
              "outlinewidth": 0,
              "ticks": ""
             }
            },
            "type": "scattercarpet"
           }
          ],
          "scattergeo": [
           {
            "marker": {
             "colorbar": {
              "outlinewidth": 0,
              "ticks": ""
             }
            },
            "type": "scattergeo"
           }
          ],
          "scattergl": [
           {
            "marker": {
             "colorbar": {
              "outlinewidth": 0,
              "ticks": ""
             }
            },
            "type": "scattergl"
           }
          ],
          "scattermapbox": [
           {
            "marker": {
             "colorbar": {
              "outlinewidth": 0,
              "ticks": ""
             }
            },
            "type": "scattermapbox"
           }
          ],
          "scatterpolar": [
           {
            "marker": {
             "colorbar": {
              "outlinewidth": 0,
              "ticks": ""
             }
            },
            "type": "scatterpolar"
           }
          ],
          "scatterpolargl": [
           {
            "marker": {
             "colorbar": {
              "outlinewidth": 0,
              "ticks": ""
             }
            },
            "type": "scatterpolargl"
           }
          ],
          "scatterternary": [
           {
            "marker": {
             "colorbar": {
              "outlinewidth": 0,
              "ticks": ""
             }
            },
            "type": "scatterternary"
           }
          ],
          "surface": [
           {
            "colorbar": {
             "outlinewidth": 0,
             "ticks": ""
            },
            "colorscale": [
             [
              0,
              "#0d0887"
             ],
             [
              0.1111111111111111,
              "#46039f"
             ],
             [
              0.2222222222222222,
              "#7201a8"
             ],
             [
              0.3333333333333333,
              "#9c179e"
             ],
             [
              0.4444444444444444,
              "#bd3786"
             ],
             [
              0.5555555555555556,
              "#d8576b"
             ],
             [
              0.6666666666666666,
              "#ed7953"
             ],
             [
              0.7777777777777778,
              "#fb9f3a"
             ],
             [
              0.8888888888888888,
              "#fdca26"
             ],
             [
              1,
              "#f0f921"
             ]
            ],
            "type": "surface"
           }
          ],
          "table": [
           {
            "cells": {
             "fill": {
              "color": "#EBF0F8"
             },
             "line": {
              "color": "white"
             }
            },
            "header": {
             "fill": {
              "color": "#C8D4E3"
             },
             "line": {
              "color": "white"
             }
            },
            "type": "table"
           }
          ]
         },
         "layout": {
          "annotationdefaults": {
           "arrowcolor": "#2a3f5f",
           "arrowhead": 0,
           "arrowwidth": 1
          },
          "autotypenumbers": "strict",
          "coloraxis": {
           "colorbar": {
            "outlinewidth": 0,
            "ticks": ""
           }
          },
          "colorscale": {
           "diverging": [
            [
             0,
             "#8e0152"
            ],
            [
             0.1,
             "#c51b7d"
            ],
            [
             0.2,
             "#de77ae"
            ],
            [
             0.3,
             "#f1b6da"
            ],
            [
             0.4,
             "#fde0ef"
            ],
            [
             0.5,
             "#f7f7f7"
            ],
            [
             0.6,
             "#e6f5d0"
            ],
            [
             0.7,
             "#b8e186"
            ],
            [
             0.8,
             "#7fbc41"
            ],
            [
             0.9,
             "#4d9221"
            ],
            [
             1,
             "#276419"
            ]
           ],
           "sequential": [
            [
             0,
             "#0d0887"
            ],
            [
             0.1111111111111111,
             "#46039f"
            ],
            [
             0.2222222222222222,
             "#7201a8"
            ],
            [
             0.3333333333333333,
             "#9c179e"
            ],
            [
             0.4444444444444444,
             "#bd3786"
            ],
            [
             0.5555555555555556,
             "#d8576b"
            ],
            [
             0.6666666666666666,
             "#ed7953"
            ],
            [
             0.7777777777777778,
             "#fb9f3a"
            ],
            [
             0.8888888888888888,
             "#fdca26"
            ],
            [
             1,
             "#f0f921"
            ]
           ],
           "sequentialminus": [
            [
             0,
             "#0d0887"
            ],
            [
             0.1111111111111111,
             "#46039f"
            ],
            [
             0.2222222222222222,
             "#7201a8"
            ],
            [
             0.3333333333333333,
             "#9c179e"
            ],
            [
             0.4444444444444444,
             "#bd3786"
            ],
            [
             0.5555555555555556,
             "#d8576b"
            ],
            [
             0.6666666666666666,
             "#ed7953"
            ],
            [
             0.7777777777777778,
             "#fb9f3a"
            ],
            [
             0.8888888888888888,
             "#fdca26"
            ],
            [
             1,
             "#f0f921"
            ]
           ]
          },
          "colorway": [
           "#636efa",
           "#EF553B",
           "#00cc96",
           "#ab63fa",
           "#FFA15A",
           "#19d3f3",
           "#FF6692",
           "#B6E880",
           "#FF97FF",
           "#FECB52"
          ],
          "font": {
           "color": "#2a3f5f"
          },
          "geo": {
           "bgcolor": "white",
           "lakecolor": "white",
           "landcolor": "#E5ECF6",
           "showlakes": true,
           "showland": true,
           "subunitcolor": "white"
          },
          "hoverlabel": {
           "align": "left"
          },
          "hovermode": "closest",
          "mapbox": {
           "style": "light"
          },
          "paper_bgcolor": "white",
          "plot_bgcolor": "#E5ECF6",
          "polar": {
           "angularaxis": {
            "gridcolor": "white",
            "linecolor": "white",
            "ticks": ""
           },
           "bgcolor": "#E5ECF6",
           "radialaxis": {
            "gridcolor": "white",
            "linecolor": "white",
            "ticks": ""
           }
          },
          "scene": {
           "xaxis": {
            "backgroundcolor": "#E5ECF6",
            "gridcolor": "white",
            "gridwidth": 2,
            "linecolor": "white",
            "showbackground": true,
            "ticks": "",
            "zerolinecolor": "white"
           },
           "yaxis": {
            "backgroundcolor": "#E5ECF6",
            "gridcolor": "white",
            "gridwidth": 2,
            "linecolor": "white",
            "showbackground": true,
            "ticks": "",
            "zerolinecolor": "white"
           },
           "zaxis": {
            "backgroundcolor": "#E5ECF6",
            "gridcolor": "white",
            "gridwidth": 2,
            "linecolor": "white",
            "showbackground": true,
            "ticks": "",
            "zerolinecolor": "white"
           }
          },
          "shapedefaults": {
           "line": {
            "color": "#2a3f5f"
           }
          },
          "ternary": {
           "aaxis": {
            "gridcolor": "white",
            "linecolor": "white",
            "ticks": ""
           },
           "baxis": {
            "gridcolor": "white",
            "linecolor": "white",
            "ticks": ""
           },
           "bgcolor": "#E5ECF6",
           "caxis": {
            "gridcolor": "white",
            "linecolor": "white",
            "ticks": ""
           }
          },
          "title": {
           "x": 0.05
          },
          "xaxis": {
           "automargin": true,
           "gridcolor": "white",
           "linecolor": "white",
           "ticks": "",
           "title": {
            "standoff": 15
           },
           "zerolinecolor": "white",
           "zerolinewidth": 2
          },
          "yaxis": {
           "automargin": true,
           "gridcolor": "white",
           "linecolor": "white",
           "ticks": "",
           "title": {
            "standoff": 15
           },
           "zerolinecolor": "white",
           "zerolinewidth": 2
          }
         }
        },
        "title": {
         "text": "Extended Overall Record Comparison - Top 100 Players"
        },
        "xaxis": {
         "title": {
          "text": "Player"
         }
        },
        "yaxis": {
         "title": {
          "text": "Points"
         }
        }
       }
      }
     },
     "metadata": {},
     "output_type": "display_data"
    }
   ],
   "source": [
    "import plotly.graph_objects as go\n",
    "\n",
    "# Sum all columns to get the total score\n",
    "outDf['Total'] = outDf.sum(axis=1)\n",
    "\n",
    "# Sort by total score and fill N/A values with 0\n",
    "outDf = outDf.sort_values(by='Total', ascending=False).fillna(0)\n",
    "\n",
    "# Crop to top 10 players\n",
    "cropDf = outDf.head(100).copy()\n",
    "\n",
    "# Drop the 'Total' column for plotting\n",
    "cropDf = cropDf.drop(columns=['Total'])\n",
    "\n",
    "# Create a color palette\n",
    "color_palette = px.colors.qualitative.Safe\n",
    "\n",
    "# Create the stacked bar plot\n",
    "fig = go.Figure()\n",
    "\n",
    "for column in cropDf.columns.difference(['Player']):\n",
    "    fig.add_trace(go.Bar(\n",
    "        x=cropDf.index,\n",
    "        y=cropDf[column],\n",
    "        name=column,\n",
    "        marker_color=color_palette[len(fig.data) % len(color_palette)]\n",
    "    ))\n",
    "\n",
    "# Update layout\n",
    "fig.update_layout(\n",
    "    barmode='stack',\n",
    "    title='Extended Overall Record Comparison - Top 100 Players',\n",
    "    xaxis=dict(title='Player'),\n",
    "    yaxis=dict(title='Points'),\n",
    "    #height=800,\n",
    "    #width=1000,\n",
    "    legend=dict(\n",
    "        x=1.05,\n",
    "        y=0.5,\n",
    "        traceorder='normal',\n",
    "        font=dict(size=12),\n",
    "        bgcolor='rgba(255, 255, 255, 0)',\n",
    "        bordercolor='rgba(0, 0, 0, 0)'\n",
    "    ),\n",
    "    margin=dict(r=200),  # Adjust right margin to make room for the legend\n",
    "    annotations=[\n",
    "        dict(\n",
    "            x=0.5,\n",
    "            y=1.1635,\n",
    "            xref='paper',\n",
    "            yref='paper',\n",
    "            text='Max 100 points per minigame. Records #1 through #10 of games & maps in the active pool are considered (#1: 100, #2: 90, ..., #10: 10). If a minigame has multiple maps, the 100 points are distributed equally. fflopse.github.io/MCP-Records/data-analysis/global-ranking.ipynb',\n",
    "            showarrow=False,\n",
    "            font=dict(size=12),\n",
    "            xanchor='center'\n",
    "        )\n",
    "    ]\n",
    ")\n",
    "\n",
    "fig.show()\n",
    "\n",
    "# save the plot as an html file\n",
    "\n",
    "fig.write_html('out/full_overall_record_comparison.html')"
   ]
  },
  {
   "cell_type": "code",
   "execution_count": 26,
   "metadata": {},
   "outputs": [],
   "source": [
    "outDf['Total'].to_clipboard()"
   ]
  },
  {
   "cell_type": "code",
   "execution_count": null,
   "metadata": {},
   "outputs": [],
   "source": []
  }
 ],
 "metadata": {
  "kernelspec": {
   "display_name": "base",
   "language": "python",
   "name": "python3"
  },
  "language_info": {
   "codemirror_mode": {
    "name": "ipython",
    "version": 3
   },
   "file_extension": ".py",
   "mimetype": "text/x-python",
   "name": "python",
   "nbconvert_exporter": "python",
   "pygments_lexer": "ipython3",
   "version": "3.11.9"
  }
 },
 "nbformat": 4,
 "nbformat_minor": 2
}
