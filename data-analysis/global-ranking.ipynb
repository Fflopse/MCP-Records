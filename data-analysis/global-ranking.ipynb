{
 "cells": [
  {
   "cell_type": "code",
   "execution_count": 1,
   "metadata": {},
   "outputs": [
    {
     "data": {
      "text/plain": [
       "'\\n    Each Minigame may yield a total of 100 points per player. \\n    Records #1 through #10 are considered \\n\\n    If a minigame has multiple maps, the 100 points are distributed equally. For Sammelwahn and Replika, the sum over all records is considered solely. \\n\\n    E.g. Frozen Path (1 Map Minigame)\\n    #1 player: 100 points\\n    #2 player: 90 points\\n    #3 player: 80 points\\n    ...\\n    #10 player: 10 points\\n\\n    E.g. Schießstand (3 Map Minigame)\\n    Map 1: \\n    #1 player: 100/3 (33.333) points\\n    #2 player: 90/3 (30) points\\n    ...\\n    Map 2:\\n    #1 player: 100/3 (33.333) points\\n    #2 player: 90/3 (30) points\\n    ...\\n    Map 3:\\n    #1 player: 100/3 (33.333) points\\n    #2 player: 90/3 (30) points\\n    ...\\n\\n    E.g. Speed Race (5 Map Minigame)\\n    Map 1:\\n    #1 player: 100/5 (20) points\\n    #2 player: 90/5 (18) points\\n    ...\\n    Map 2:\\n    #1 player: 100/5 (20) points\\n    #2 player: 90/5 (18) points\\n    ...\\n\\n    Thus, a player holding #1 records in a minigame will always be assigned 100 points. \\n'"
      ]
     },
     "execution_count": 1,
     "metadata": {},
     "output_type": "execute_result"
    }
   ],
   "source": [
    "# figuring out the best player over all minigames \n",
    "\n",
    "'''\n",
    "    Each Minigame may yield a total of 100 points per player. \n",
    "    Records #1 through #10 are considered \n",
    "\n",
    "    If a minigame has multiple maps, the 100 points are distributed equally. For Sammelwahn and Replika, the sum over all records is considered solely. \n",
    "\n",
    "    E.g. Frozen Path (1 Map Minigame)\n",
    "    #1 player: 100 points\n",
    "    #2 player: 90 points\n",
    "    #3 player: 80 points\n",
    "    ...\n",
    "    #10 player: 10 points\n",
    "\n",
    "    E.g. Schießstand (3 Map Minigame)\n",
    "    Map 1: \n",
    "    #1 player: 100/3 (33.333) points\n",
    "    #2 player: 90/3 (30) points\n",
    "    ...\n",
    "    Map 2:\n",
    "    #1 player: 100/3 (33.333) points\n",
    "    #2 player: 90/3 (30) points\n",
    "    ...\n",
    "    Map 3:\n",
    "    #1 player: 100/3 (33.333) points\n",
    "    #2 player: 90/3 (30) points\n",
    "    ...\n",
    "\n",
    "    E.g. Speed Race (5 Map Minigame)\n",
    "    Map 1:\n",
    "    #1 player: 100/5 (20) points\n",
    "    #2 player: 90/5 (18) points\n",
    "    ...\n",
    "    Map 2:\n",
    "    #1 player: 100/5 (20) points\n",
    "    #2 player: 90/5 (18) points\n",
    "    ...\n",
    "\n",
    "    Thus, a player holding #1 records in a minigame will always be assigned 100 points. \n",
    "'''"
   ]
  },
  {
   "cell_type": "code",
   "execution_count": 2,
   "metadata": {},
   "outputs": [],
   "source": [
    "import os\n",
    "import re \n",
    "import pandas as pd\n",
    "import seaborn as sns \n",
    "import numpy as np \n",
    "\n",
    "pointMiniGames = \"Sammelwahn, Schießstand, Walls, Mini Survivalgames, Mini Skywars, Lasertag, Minengefecht, Einer im Köcher, Paintball, Spleef, Buntes Chaos, Duelle\" \n",
    "timeMiniGames = \"Wettrennen, Jump and Run, Pferderennen, Drachenflucht, Replika, Blockhüpfer, Todeswürfel, Freier Fall, Elytrarennen, Waffenfolge, Minenfeld, Kletter-König, Ampelrennen, Hoch hinaus, Frostiger Pfad\"\n",
    "\n",
    "def getPlayerPaths():\n",
    "    file_list = os.listdir('in-new')\n",
    "    return file_list\n",
    "\n",
    "def read_file(file):\n",
    "    try:\n",
    "        with open('in-new/' + file, 'r', encoding='utf-8') as f:\n",
    "            data = f.read()\n",
    "    except UnicodeDecodeError:\n",
    "        # print(f'Error: {file} contains invalid characters for UTF-8. Trying with latin-1.')\n",
    "        try:\n",
    "            with open('in-new/' + file, 'r', encoding='latin-1') as f:\n",
    "                data = f.read()\n",
    "        except Exception as e:\n",
    "            print(f'Error: Could not read {file} with latin-1 encoding. {e}')\n",
    "            return None\n",
    "    except FileNotFoundError:\n",
    "        print(f'Error: {file} not found.')\n",
    "        return None\n",
    "    except Exception as e:\n",
    "        print(f'Error: An unexpected error occurred while reading {file}. {e}')\n",
    "        return None\n",
    "\n",
    "    if \"TooltipEvent\" not in data:\n",
    "        print(f'Error: {file} does not contain any TooltipEvent data')\n",
    "        return None\n",
    "    else:\n",
    "        data = data.replace('TooltipEvent, ', '')\n",
    "    \n",
    "    return data\n",
    "\n",
    "\n",
    "def getRecordData(playerPath, minigame):\n",
    "    # if read_file(playerPath) is None: return None\n",
    "\n",
    "    data = read_file(playerPath).split('\\n')\n",
    "    for line in data: \n",
    "        if minigame in line: \n",
    "            minigameData = line\n",
    "            minigameData = minigameData.replace(minigame, '').strip()\n",
    "            return minigameData  # return the data instead of printing it\n",
    "\n",
    "def create_dataframe(input_string, minigame):\n",
    "\n",
    "    # Define regular expression pattern to match map names and times\n",
    "    pattern = r'(\\w+\\s?\\w+)\\s*:\\s*(?:(\\d+)\\s*min\\s*)?(?:(\\d+)\\s*s\\s*)?(\\d+)\\s*ms'\n",
    "\n",
    "    # Find all matches in the input string\n",
    "    try: matches = re.findall(pattern, input_string)\n",
    "    except: matches = None\n",
    "\n",
    "    # Initialize data dictionary to store map names and times\n",
    "    data = {}\n",
    "\n",
    "    # Iterate over matches and populate data dictionary\n",
    "    if matches: \n",
    "        for match in matches:\n",
    "            map_name = match[0]\n",
    "            minutes = int(match[1] or 0)\n",
    "            seconds = int(match[2] or 0) + int(match[3]) / 1000\n",
    "            time_seconds = minutes * 60 + seconds\n",
    "            data[map_name] = time_seconds\n",
    "    else: return pd.DataFrame()\n",
    "\n",
    "    # Create DataFrame from data dictionary\n",
    "    df = pd.DataFrame(data, index=[0])\n",
    "\n",
    "\n",
    "    return df\n",
    "\n",
    "def createPointDataframe(input_string, minigame):\n",
    "    # Define regular expression pattern to match map names and times\n",
    "    pattern = r'(\\w+\\s?\\w+)\\s*:\\s*(\\d+)'\n",
    "\n",
    "    # Find all matches in the input string\n",
    "    matches = re.findall(pattern, input_string)\n",
    "\n",
    "    # Initialize data dictionary to store map names and times\n",
    "    data = {}\n",
    "\n",
    "    # Iterate over matches and populate data dictionary\n",
    "    for match in matches:\n",
    "        map_name = match[0]\n",
    "        time_value = int(match[1])\n",
    "        data[map_name] = time_value\n",
    "\n",
    "    # Create DataFrame from data dictionary\n",
    "    df = pd.DataFrame(data, index=[0])\n",
    "    return df.fillna(0)\n",
    "\n",
    "def getRecordsDataframe(minigame='Wettrennen', save=False, log=False, html=False, rank=True):\n",
    "\n",
    "    paths = getPlayerPaths()\n",
    "\n",
    "    outDf = pd.DataFrame()\n",
    "\n",
    "    if log:\n",
    "        print(f'processing {minigame}...')\n",
    "\n",
    "    if minigame in pointMiniGames: \n",
    "        pass\n",
    "    elif minigame in timeMiniGames:\n",
    "        pass\n",
    "    else: \n",
    "        ValueError('Not a valid minigame name')\n",
    "\n",
    "    for i in paths:\n",
    "        if minigame in timeMiniGames:\n",
    "            df = create_dataframe(getRecordData(playerPath=i, minigame=minigame), minigame)\n",
    "\n",
    "        if minigame in pointMiniGames:\n",
    "            try: \n",
    "                df = createPointDataframe(getRecordData(playerPath=i, minigame=minigame), minigame)\n",
    "                df.fillna(0, inplace=True)\n",
    "            except: \n",
    "                continue\n",
    "\n",
    "        if df is not None:  \n",
    "            df.index = [i.replace('.txt', '')]\n",
    "            outDf = pd.concat([outDf, df])\n",
    "\n",
    "    outPath = 'out/' + minigame + '.json'\n",
    "\n",
    "    '''\n",
    "        Minigame Specific changes to the df\n",
    "    '''\n",
    "\n",
    "    if (\"Replika\" in minigame): \n",
    "\n",
    "        replikaDf = outDf \n",
    "\n",
    "        # fillNa columns without \"ms\" with values from \"ms\", e.g. ms Arrow -> Arrow, then drop \"ms\" columns\n",
    "\n",
    "        try:\n",
    "            replikaDf[\"Arrow\"] = replikaDf[\"Arrow\"].fillna(replikaDf[\"ms Arrow\"])\n",
    "            replikaDf[\"Cow\"] = replikaDf[\"Cow\"].fillna(replikaDf[\"ms Cow\"])\n",
    "            replikaDf[\"Deadpool\"] = replikaDf[\"Deadpool\"].fillna(replikaDf[\"ms Deadpool\"])\n",
    "            replikaDf[\"Doge\"] = replikaDf[\"Doge\"].fillna(replikaDf[\"ms Doge\"])\n",
    "            replikaDf[\"Sonic\"] = replikaDf[\"Sonic\"].fillna(replikaDf[\"ms Sonic\"])\n",
    "\n",
    "            replikaDf.drop(columns=[\"ms Arrow\", \"ms Cow\", \"ms Deadpool\", \"ms Doge\", \"ms Sonic\"], inplace=True)\n",
    "        except: print(\"Warning, >ms< columns not found in ReplikaDf\")\n",
    "\n",
    "        replikaDf.fillna(25, inplace=True) # assigning a value to a never-played-before pattern, 17 perturbs worse player order and alt account stats lol, 27 is probably too much, difficult to choose an appropriate value here\n",
    "        row_sums = replikaDf.sum(axis=1)\n",
    "        \n",
    "        # Append the sum as a new column\n",
    "        replikaDf['Sum'] = row_sums\n",
    "\n",
    "        # Re-indexing\n",
    "        replikaDf = replikaDf.reindex(sorted(replikaDf.columns), axis=1)\n",
    "    \n",
    "        # Move 'Sum' column to the first position\n",
    "        cols = replikaDf.columns.tolist()\n",
    "        cols = ['Sum'] + [col for col in cols if col != 'Sum']\n",
    "        replikaDf = replikaDf[cols]\n",
    "\n",
    "        # replace 25 values again with None\n",
    "        replikaDf = replikaDf.replace(25, np.nan)\n",
    "\n",
    "        # replikaDf = replikaDf.reindex(sorted(replikaDf.columns), axis=1)\n",
    "\n",
    "\n",
    "        # Removing player data with too many NaNs (players that haven't played most of the patterns)\n",
    "        # replikaDf = replikaDf.drop(columns=[\"Ritokii\", \"Feinberg\", \"Sebi1801\"])\n",
    "\n",
    "        outDf = replikaDf\n",
    "\n",
    "    if (\"Sammelwahn\" in minigame):\n",
    "\n",
    "            row_sums = outDf.sum(axis=1)\n",
    "\n",
    "            # Append the sum as a new column\n",
    "            outDf['Sum'] = row_sums\n",
    "\n",
    "            # Re-indexing\n",
    "            outDf = outDf.reindex(sorted(outDf.columns), axis=1)\n",
    "\n",
    "            # Move 'Sum' column to the first position\n",
    "            cols = outDf.columns.tolist()\n",
    "            cols = ['Sum'] + [col.lstrip() for col in cols if col != 'Sum']\n",
    "            outDf = outDf[cols]\n",
    "\n",
    "            # remove \"Punkte\" from all columns\n",
    "            outDf.columns = outDf.columns.str.replace('Punkte', '')\n",
    "\n",
    "    if (\"Lasertag\" in minigame):\n",
    "        # Merge the columns \"tungen Port\" and \"Port\" into one column\n",
    "        \n",
    "        # debug \n",
    "        # print(outDf.columns)\n",
    "\n",
    "        try:\n",
    "\n",
    "            outDf[\"Tötungen Port\"] = outDf[\"Tötungen Port\"].replace(0, np.nan)\n",
    "\n",
    "            outDf[\"temp1\"] = outDf[\"Tötungen Port\"]\n",
    "            try: outDf.drop(columns=[\"Port\"], inplace=True)\n",
    "            except: pass\n",
    "            outDf[\"Port\"] = outDf[\"temp1\"]\n",
    "\n",
    "            outDf[\"Tötungen Neon\"] = outDf[\"Tötungen Neon\"].replace(0, np.nan)\n",
    "\n",
    "            outDf[\"temp2\"] = outDf[\"Tötungen Neon\"]\n",
    "            try: outDf.drop(columns=[\"Neon\"], inplace=True)\n",
    "            except: pass\n",
    "            outDf[\"Neon\"] = outDf[\"temp2\"]\n",
    "\n",
    "            outDf.drop(columns=[\"temp1\", \"temp2\", \"Tötungen Neon\", \"Tötungen Port\"], inplace=True)  \n",
    "\n",
    "        except: pass\n",
    "\n",
    "    if (\"Einer im Köcher\" in minigame):\n",
    "        try:\n",
    "            outDf[\"Tötungen Asia\"] = outDf[\"Tötungen Asia\"].replace(0, np.nan)\n",
    "            outDf[\"Asia\"] = outDf[\"Asia\"].replace(0, np.nan)\n",
    "\n",
    "            outDf[\"temp1\"] = outDf[\"Asia\"].fillna(outDf[\"Tötungen Asia\"])\n",
    "            outDf.drop(columns=[\"Asia\", \"Tötungen Asia\"], inplace=True)\n",
    "        except: pass\n",
    "            \n",
    "        try:\n",
    "            outDf[\"Asia\"] = outDf[\"temp1\"]\n",
    "\n",
    "            outDf[\"Tötungen Japan\"] = outDf[\"Tötungen Japan\"].replace(0, np.nan)\n",
    "            outDf[\"Japan\"] = outDf[\"Tötungen Japan\"]\n",
    "\n",
    "            outDf.drop(columns=[\"temp1\", \"Tötungen Japan\"], inplace=True)\n",
    "        except: pass\n",
    "        \n",
    "    if (\"Paintball\" in minigame):\n",
    "        outDf[\"Tötungen Arabic\"] = outDf[\"Tötungen Arabic\"].replace(0, np.nan)\n",
    "\n",
    "        outDf[\"temp1\"] = outDf[\"Tötungen Arabic\"]\n",
    "        try: outDf.drop(columns=[\"Tötungen Arabic\"], inplace=True)\n",
    "        except: pass\n",
    "        outDf[\"Arabic\"] = outDf[\"temp1\"]\n",
    "\n",
    "        outDf.drop(columns=[\"temp1\"], inplace=True)\n",
    "\n",
    "        # SW Columns: Swamp', 'Tötung Asia', 'Tötungen Asia', 'Tötungen Coconut', 'Wild West', 'tung Asia', 'tungen Asia'\n",
    "\n",
    "    if (\"Mini Skywars\" in minigame):\n",
    "\n",
    "        print(outDf.columns)\n",
    "\n",
    "        outDf[\"Tötungen Asia\"] = outDf[\"Tötungen Asia\"].replace(0, np.nan)\n",
    "        outDf[\"Tötung Asia\"] = outDf[\"Tötung Asia\"].replace(0, np.nan)\n",
    "        outDf[\"Asia\"] = outDf[\"Asia\"].replace(0, np.nan)\n",
    "        #outDf[\"tung Asia\"] = outDf[\"tung Asia\"].replace(0, np.nan)\n",
    "        \n",
    "        outDf[\"temp1\"] = outDf[\"Tötung Asia\"]\n",
    "\n",
    "        outDf[\"temp1\"] = outDf[\"Tötungen Asia\"].fillna(outDf[\"Tötung Asia\"])\n",
    "        outDf[\"temp1\"] = outDf[\"temp1\"].fillna(outDf[\"Asia\"])\n",
    "        #outDf[\"temp1\"] = outDf[\"Tötungen Asia\"].fillna(outDf[\"tung Asia\"])\n",
    "        try: outDf.drop(columns=[\"Tötung Asia\", \"Tötungen Asia\", \"Asia\"], inplace=True)\n",
    "        except: pass\n",
    "        outDf[\"Asia\"] = outDf[\"temp1\"]\n",
    "\n",
    "        outDf[\"Tötungen Coconut\"] = outDf[\"Tötungen Coconut\"].replace(0, np.nan)\n",
    "        #outDf[\"tungen Coconut\"] = outDf[\"tungen Coconut\"].replace(0, np.nan)\n",
    "\n",
    "        #outDf[\"temp2\"] = outDf[\"tungen Coconut\"].fillna(outDf[\"Tötungen Coconut\"])\n",
    "        try: outDf.drop(columns=[\"tungen Coconut\", \"Tötungen Coconut\"], inplace=True)\n",
    "        except: pass\n",
    "        #outDf[\"Coconut\"] = outDf[\"temp2\"]\n",
    "\n",
    "        outDf[\"Rust\"] = outDf[\"Tötungen Rust\"]\n",
    "        outDf.drop(columns=[\"Tötungen Rust\"], inplace=True)\n",
    "\n",
    "        outDf.drop(columns=[\"temp1\"], inplace=True)\n",
    "\n",
    "        outDf[\"Tötungen Coconut\"] = outDf[\"Tötungen Coconut\"].replace(0, np.nan).fillna(outDf[\"Tötung Coconut\"])\n",
    "\n",
    "        outDf[\"temp1\"] = outDf[\"Tötungen Coconut\"]\n",
    "        try: outDf.drop(columns=[\"Tötungen Coconut\"], inplace=True)\n",
    "        except: pass\n",
    "        outDf[\"Coconut\"] = outDf[\"temp1\"]\n",
    "\n",
    "        outDf.drop(columns=[\"temp1\", \"Tötung Coconut\"], inplace=True)\n",
    "\n",
    "        outDf[\"Tötung Rust\"] = outDf[\"Tötung Rust\"].replace(0, np.nan)\n",
    "        outDf[\"Rust\"] = outDf[\"Rust\"].fillna(outDf[\"Tötung Rust\"])\n",
    "\n",
    "        try: \n",
    "            outDf.drop(columns=[\"Tötung Rust\"], inplace=True)\n",
    "        except: pass\n",
    "\n",
    "    if (\"Mini Survivalgames\" in minigame and True):\n",
    "        #outDf[\"Tötungen Prison\"] = outDf[\"Tótungen Prison\"].replace(0, np.nan)\n",
    "        outDf[\"Tötung Prison\"] = outDf[\"Tötung Prison\"].replace(0, np.nan)\n",
    "        outDf[\"Prison\"] = outDf[\"Prison\"].replace(0, np.nan)\n",
    "        # outDf[\"Prison\"] = outDf[\"Prison\"].fillna(outDf[\"Tötungen Prison\"])\n",
    "        outDf[\"Prison\"] = outDf[\"Prison\"].fillna(outDf[\"Tötung Prison\"])\n",
    "\n",
    "        try:\n",
    "            outDf.drop(columns=[\"Tötungen Prison\", \"Tötung Prison\"], inplace=True)\n",
    "        except: pass\n",
    "\n",
    "    if (\"Minengefecht\" in minigame):\n",
    "        outDf[\"Tötungen Overworld\"] = outDf[\"Tötungen Overworld\"].replace(0, np.nan)\n",
    "        outDf[\"Overworld\"] = outDf[\"Overworld\"].replace(0, np.nan)\n",
    "\n",
    "        outDf[\"temp1\"] = outDf[\"Overworld\"].fillna(outDf[\"Tötungen Overworld\"])\n",
    "        outDf[\"temp1\"] = outDf[\"temp1\"]\n",
    "\n",
    "        try: outDf.drop(columns=[\"Overworld\", \"Tötungen Overworld\"], inplace=True)\n",
    "        except: pass\n",
    "        outDf[\"Overworld\"] = outDf[\"temp1\"]\n",
    "\n",
    "        outDf.drop(columns=[\"temp1\"], inplace=True)\n",
    "        \n",
    "        outDf[\"Tötungen Ruin\"] = outDf[\"Tötungen Ruin\"].replace(0, np.nan)\n",
    "\n",
    "        outDf[\"temp2\"] = outDf[\"Tötungen Ruin\"]\n",
    "        try: outDf.drop(columns=[\"Tötungen Ruin\"], inplace=True)\n",
    "        except: pass\n",
    "        outDf[\"Ruin\"] = outDf[\"temp2\"]\n",
    "\n",
    "        outDf.drop(columns=[\"temp2\"], inplace=True)\n",
    "\n",
    "        try: outDf.drop(columns=[\"Tötung Overworld\", \"Tötung Ruin\"], inplace=True)\n",
    "        except: pass\n",
    "\n",
    "    if (\"Spleef\" in minigame):\n",
    "        outDf[\"Tötungen Mountains\"] = outDf[\"Tötungen Mountains\"].replace(0, np.nan)\n",
    "        outDf[\"Mountains\"] = outDf[\"Mountains\"].replace(0, np.nan)\n",
    "\n",
    "        outDf[\"temp1\"] = outDf[\"Mountains\"].fillna(outDf[\"Tötungen Mountains\"])\n",
    "        outDf[\"temp1\"] = outDf[\"temp1\"]\n",
    "\n",
    "        try: outDf.drop(columns=[\"Mountains\", \"Tötungen Mountains\"], inplace=True)\n",
    "        except: pass\n",
    "        outDf[\"Mountains\"] = outDf[\"temp1\"]\n",
    "\n",
    "        outDf.drop(columns=[\"temp1\"], inplace=True)\n",
    "\n",
    "    if (\"Walls\" in minigame):\n",
    "        \n",
    "        outDf[\"Tötungen Grass\"] = outDf[\"Tötungen Grass\"].replace(0, np.nan)\n",
    "        outDf[\"Grass\"] = outDf[\"Grass\"].replace(0, np.nan)\n",
    "        outDf[\"Tötung Grass\"] = outDf[\"Tötung Grass\"].replace(0, np.nan)\n",
    "\n",
    "        outDf[\"temp1\"] = outDf[\"Grass\"].fillna(outDf[\"Tötungen Grass\"])\n",
    "        outDf[\"temp1\"] = outDf[\"temp1\"].fillna(outDf[\"Tötung Grass\"])\n",
    "\n",
    "        try: outDf.drop(columns=[\"Grass\", \"Tötungen Grass\", \"Tötung Grass\"], inplace=True)\n",
    "        except: pass\n",
    "\n",
    "        outDf[\"Grass\"] = outDf[\"temp1\"]\n",
    "\n",
    "        outDf.drop(columns=[\"temp1\"], inplace=True)\n",
    "        \n",
    "        outDf[\"Tötungen Vulcano\"] = outDf[\"Tötungen Vulcano\"].replace(0, np.nan)\n",
    "\n",
    "        outDf[\"temp2\"] = outDf[\"Tötungen Vulcano\"]\n",
    "        try: outDf.drop(columns=[\"Tötungen Vulcano\"], inplace=True)\n",
    "        except: pass\n",
    "        outDf[\"Vulcano\"] = outDf[\"temp2\"]\n",
    "\n",
    "        outDf.drop(columns=[\"temp2\"], inplace=True)\n",
    "\n",
    "        try: outDf.drop(columns=[\"Tötung Vulcano\"], inplace=True)\n",
    "        except: pass\n",
    "\n",
    "    if (\"Schie\" in minigame):\n",
    "        outDf[\"Punkte City\"] = outDf[\"Punkte City\"].replace(0, np.nan)\n",
    "        outDf[\"City\"] = outDf[\"City\"].replace(0, np.nan)\n",
    "\n",
    "        outDf[\"temp1\"] = outDf[\"City\"].fillna(outDf[\"Punkte City\"])\n",
    "        try: outDf.drop(columns=[\"City\", \"Punkte City\"], inplace=True)\n",
    "        except: pass\n",
    "\n",
    "        outDf[\"City\"] = outDf[\"temp1\"]\n",
    "\n",
    "        outDf[\"Punkte Jungle\"] = outDf[\"Punkte Jungle\"].replace(0, np.nan)\n",
    "\n",
    "        outDf[\"temp1\"] = outDf[\"Punkte Jungle\"]\n",
    "        try: outDf.drop(columns=[\"Punkte Jungle\"], inplace=True)\n",
    "        except: pass\n",
    "\n",
    "        outDf[\"Jungle\"] = outDf[\"temp1\"]\n",
    "\n",
    "        outDf.drop(columns=[\"temp1\"], inplace=True)\n",
    "        \n",
    "    if (\"Frostiger\" in minigame): \n",
    "        # remove values bigger than 100 with nan\n",
    "        outDf = outDf.where(outDf < 100, np.nan)\n",
    "\n",
    "    if (\"Duel\" in minigame): \n",
    "        outDf = outDf.where(outDf > 10, 0.0)\n",
    "\n",
    "    if (\"Spleef\" in minigame):\n",
    "\n",
    "        outDf[\"Tötung Mountains\"] = outDf[\"Tötung Mountains\"].replace(0, np.nan)\n",
    "        outDf[\"Mountains\"] = outDf[\"Mountains\"].replace(0, np.nan)\n",
    "\n",
    "        outDf[\"temp1\"] = outDf[\"Mountains\"].fillna(outDf[\"Tötung Mountains\"])\n",
    "        try: outDf.drop(columns=[\"Mountains\", \"Tötung Mountains\"], inplace=True)\n",
    "        except: pass\n",
    "        outDf[\"Mountains\"] = outDf[\"temp1\"]\n",
    "\n",
    "        outDf.drop(columns=[\"temp1\"], inplace=True)\n",
    "\n",
    "    if (\"Einer im Köcher\" in minigame):\n",
    "\n",
    "        try:\n",
    "            outDf[\"Tötung Asia\"] = outDf[\"Tötung Asia\"].replace(0, np.nan)\n",
    "            outDf[\"Asia\"] = outDf[\"Asia\"].replace(0, np.nan)\n",
    "\n",
    "            outDf[\"temp1\"] = outDf[\"Asia\"].fillna(outDf[\"Tötung Asia\"])\n",
    "            outDf.drop(columns=[\"Asia\", \"Tötung Asia\"], inplace=True)\n",
    "            \n",
    "            outDf[\"Asia\"] = outDf[\"temp1\"]\n",
    "\n",
    "            outDf.drop(columns=[\"temp1\"], inplace=True)\n",
    "        except: pass\n",
    "\n",
    "    if (\"Buntes\" in minigame):\n",
    "        outDf = outDf.fillna(0)\n",
    "        \n",
    "        outDf['temp1'] = outDf[\"Runden Cyberpunk\"].fillna(outDf[\"Cyberpunk\"])\n",
    "        outDf.drop(columns=[\"Runden Cyberpunk\", \"Cyberpunk\"], inplace=True)\n",
    "\n",
    "        outDf['Cyberpunk'] = outDf['temp1']\n",
    "\n",
    "        outDf.drop(columns=[\"temp1\"], inplace=True)\n",
    "\n",
    "    if (\"Pferd\" in minigame):\n",
    "        outDf[\"s Arena\"] = outDf[\"s Arena\"].replace(0, np.nan)\n",
    "        outDf[\"Wario's Arena\"] = outDf[\"s Arena\"]\n",
    "\n",
    "        outDf.drop(columns=[\"s Arena\"], inplace=True)\n",
    "\n",
    "\n",
    "    # Sorting columns alphabetically for any outDf except if minigame == \"Replika\" (sum column)\n",
    "    \n",
    "    if (\"Replika\" not in minigame):\n",
    "        if (\"Sammelwahn\" not in minigame):\n",
    "            outDf = outDf.reindex(sorted(outDf.columns), axis=1)\n",
    "\n",
    "\n",
    "\n",
    "\n",
    "    '''\n",
    "        debugging options\n",
    "    '''\n",
    "        \n",
    "    if save: \n",
    "        if \"Replika\" in minigame: \n",
    "            json_df = outDf.iloc[:, 1:]\n",
    "            json_df.T.to_json(outPath)\n",
    "        \n",
    "        else: outDf.T.to_json(outPath) \n",
    "\n",
    "    if log: \n",
    "        print(f'{minigame} processed')\n",
    "    \n",
    "    if rank: \n",
    "        if minigame in pointMiniGames: \n",
    "            outDf = outDf.rank(ascending=False, method='min', axis=0)\n",
    "        if minigame in timeMiniGames:\n",
    "            outDf = outDf.rank(ascending=True, method='min', axis=0)\n",
    "\n",
    "    if html == False: \n",
    "        return outDf"
   ]
  },
  {
   "cell_type": "code",
   "execution_count": 3,
   "metadata": {},
   "outputs": [
    {
     "name": "stdout",
     "output_type": "stream",
     "text": [
      "processing Schießstand...\n",
      "Error: smasdebug.mov does not contain any TooltipEvent data\n",
      "Schießstand processed\n"
     ]
    },
    {
     "data": {
      "text/plain": [
       "City      2.0\n",
       "Farm      1.0\n",
       "Jungle    1.0\n",
       "Name: Fflopse, dtype: float64"
      ]
     },
     "execution_count": 3,
     "metadata": {},
     "output_type": "execute_result"
    }
   ],
   "source": [
    "df = getRecordsDataframe(minigame='Schießstand', save=False, log=True, html=False, rank=True)\n",
    "\n",
    "df.loc['Fflopse']\n",
    "\n",
    "# df.columns"
   ]
  },
  {
   "cell_type": "code",
   "execution_count": 4,
   "metadata": {},
   "outputs": [],
   "source": [
    "def getBestPlayer(minigame='Wettrennen'):\n",
    "    df = getRecordsDataframe(minigame=minigame, save=False, log=True, html=False, rank=True)\n",
    "\n",
    "    num_cols = len(df.columns) \n",
    "\n",
    "    '''\n",
    "    Each Minigame may yield a total of 100 points per player. \n",
    "    Records #1 through #10 are considered \n",
    "\n",
    "    If a minigame has multiple maps, the 100 points are distributed equally. For Sammelwahn and Replika, the sum over all records is considered solely. \n",
    "\n",
    "    E.g. Frozen Path (1 Map Minigame)\n",
    "    #1 player: 100 points\n",
    "    #2 player: 90 points\n",
    "    #3 player: 80 points\n",
    "    ...\n",
    "    #10 player: 10 points\n",
    "\n",
    "    E.g. Schießstand (3 Map Minigame)\n",
    "    Map 1: \n",
    "    #1 player: 100/3 (33.333) points\n",
    "    #2 player: 90/3 (30) points\n",
    "    ...\n",
    "    Map 2:\n",
    "    #1 player: 100/3 (33.333) points\n",
    "    #2 player: 90/3 (30) points\n",
    "    ...\n",
    "    Map 3:\n",
    "    #1 player: 100/3 (33.333) points\n",
    "    #2 player: 90/3 (30) points\n",
    "    ...\n",
    "\n",
    "    E.g. Speed Race (5 Map Minigame)\n",
    "    Map 1:\n",
    "    #1 player: 100/5 (20) points\n",
    "    #2 player: 90/5 (18) points\n",
    "    ...\n",
    "    Map 2:\n",
    "    #1 player: 100/5 (20) points\n",
    "    #2 player: 90/5 (18) points\n",
    "    ...\n",
    "\n",
    "    Thus, a player holding #1 records in a minigame will always be assigned 100 points. \n",
    "    '''\n",
    "\n",
    "    # fill values > 10.0 with 0\n",
    "    df = df.where(df < 10.0, 0)\n",
    "\n",
    "    # replace the rank values in the dataframe with the apprpriate score values\n",
    "\n",
    "    if minigame in pointMiniGames:\n",
    "        df = df.replace({1.0: 100, 2.0: 90, 3.0: 80, 4.0: 70, 5.0: 60, 6.0: 50, 7.0: 40, 8.0: 30, 9.0: 20, 10.0: 10})\n",
    "    if minigame in timeMiniGames:\n",
    "        df = df.replace({1.0: 100, 2.0: 90, 3.0: 80, 4.0: 70, 5.0: 60, 6.0: 50, 7.0: 40, 8.0: 30, 9.0: 20, 10.0: 10})\n",
    "\n",
    "    # sum the scores for each player\n",
    "    df['PointSum'] = df.sum(axis=1) / num_cols\n",
    "\n",
    "    # sort the dataframe by the PointSum column\n",
    "    df = df.sort_values(by='PointSum', ascending=False)\n",
    "\n",
    "    # for Sammelwahn and Replika, simply get the points from the sum column\n",
    "    if minigame in \"Sammelwahn Replika\":\n",
    "        df['Pointsum'] = df['Sum']\n",
    "\n",
    "    return df\n",
    "    "
   ]
  },
  {
   "cell_type": "code",
   "execution_count": 5,
   "metadata": {},
   "outputs": [],
   "source": [
    "# getBestPlayer(minigame='Wettrennen')"
   ]
  },
  {
   "cell_type": "code",
   "execution_count": 6,
   "metadata": {},
   "outputs": [
    {
     "name": "stdout",
     "output_type": "stream",
     "text": [
      "processing Sammelwahn...\n",
      "Error: smasdebug.mov does not contain any TooltipEvent data\n",
      "Sammelwahn processed\n",
      "processing Schießstand...\n",
      "Error: smasdebug.mov does not contain any TooltipEvent data\n",
      "Schießstand processed\n",
      "processing Walls...\n",
      "Error: smasdebug.mov does not contain any TooltipEvent data\n",
      "Walls processed\n",
      "processing Mini Survivalgames...\n",
      "Error: smasdebug.mov does not contain any TooltipEvent data\n",
      "Mini Survivalgames processed\n",
      "processing Mini Skywars...\n",
      "Error: smasdebug.mov does not contain any TooltipEvent data\n",
      "Index(['Swamp', 'Wild West', 'Tötungen Rust', 'Tötungen Asia', 'Tötung Asia',\n",
      "       'Asia', 'Tötung Rust', 'Tötungen Coconut', 'Tötung Coconut'],\n",
      "      dtype='object')\n",
      "Mini Skywars processed\n",
      "processing Lasertag...\n",
      "Error: smasdebug.mov does not contain any TooltipEvent data\n",
      "Lasertag processed\n",
      "processing Minengefecht...\n",
      "Error: smasdebug.mov does not contain any TooltipEvent data\n",
      "Minengefecht processed\n",
      "processing Einer im Köcher...\n",
      "Error: smasdebug.mov does not contain any TooltipEvent data\n",
      "Einer im Köcher processed\n",
      "processing Paintball...\n",
      "Error: smasdebug.mov does not contain any TooltipEvent data\n",
      "Paintball processed\n",
      "processing Spleef...\n",
      "Error: smasdebug.mov does not contain any TooltipEvent data\n",
      "Spleef processed\n",
      "processing Buntes Chaos...\n",
      "Error: smasdebug.mov does not contain any TooltipEvent data\n",
      "Buntes Chaos processed\n",
      "processing Duelle...\n",
      "Error: smasdebug.mov does not contain any TooltipEvent data\n",
      "Duelle processed\n",
      "processing Wettrennen...\n",
      "Error: smasdebug.mov does not contain any TooltipEvent data\n"
     ]
    },
    {
     "ename": "AttributeError",
     "evalue": "'NoneType' object has no attribute 'split'",
     "output_type": "error",
     "traceback": [
      "\u001b[1;31m---------------------------------------------------------------------------\u001b[0m",
      "\u001b[1;31mAttributeError\u001b[0m                            Traceback (most recent call last)",
      "Cell \u001b[1;32mIn[6], line 2\u001b[0m\n\u001b[0;32m      1\u001b[0m \u001b[38;5;28;01mfor\u001b[39;00m minigame \u001b[38;5;129;01min\u001b[39;00m (pointMiniGames \u001b[38;5;241m+\u001b[39m \u001b[38;5;124m\"\u001b[39m\u001b[38;5;124m, \u001b[39m\u001b[38;5;124m\"\u001b[39m \u001b[38;5;241m+\u001b[39m timeMiniGames)\u001b[38;5;241m.\u001b[39msplit(\u001b[38;5;124m'\u001b[39m\u001b[38;5;124m, \u001b[39m\u001b[38;5;124m'\u001b[39m): \n\u001b[1;32m----> 2\u001b[0m     temp \u001b[38;5;241m=\u001b[39m getBestPlayer(minigame\u001b[38;5;241m=\u001b[39mminigame)\n\u001b[0;32m      4\u001b[0m     \u001b[38;5;66;03m# rename PointSum to minigame name\u001b[39;00m\n\u001b[0;32m      5\u001b[0m     temp\u001b[38;5;241m.\u001b[39mrename(columns\u001b[38;5;241m=\u001b[39m{\u001b[38;5;124m'\u001b[39m\u001b[38;5;124mPointSum\u001b[39m\u001b[38;5;124m'\u001b[39m: minigame}, inplace\u001b[38;5;241m=\u001b[39m\u001b[38;5;28;01mTrue\u001b[39;00m)\n",
      "Cell \u001b[1;32mIn[4], line 2\u001b[0m, in \u001b[0;36mgetBestPlayer\u001b[1;34m(minigame)\u001b[0m\n\u001b[0;32m      1\u001b[0m \u001b[38;5;28;01mdef\u001b[39;00m \u001b[38;5;21mgetBestPlayer\u001b[39m(minigame\u001b[38;5;241m=\u001b[39m\u001b[38;5;124m'\u001b[39m\u001b[38;5;124mWettrennen\u001b[39m\u001b[38;5;124m'\u001b[39m):\n\u001b[1;32m----> 2\u001b[0m     df \u001b[38;5;241m=\u001b[39m getRecordsDataframe(minigame\u001b[38;5;241m=\u001b[39mminigame, save\u001b[38;5;241m=\u001b[39m\u001b[38;5;28;01mFalse\u001b[39;00m, log\u001b[38;5;241m=\u001b[39m\u001b[38;5;28;01mTrue\u001b[39;00m, html\u001b[38;5;241m=\u001b[39m\u001b[38;5;28;01mFalse\u001b[39;00m, rank\u001b[38;5;241m=\u001b[39m\u001b[38;5;28;01mTrue\u001b[39;00m)\n\u001b[0;32m      4\u001b[0m     num_cols \u001b[38;5;241m=\u001b[39m \u001b[38;5;28mlen\u001b[39m(df\u001b[38;5;241m.\u001b[39mcolumns) \n\u001b[0;32m      6\u001b[0m \u001b[38;5;250m    \u001b[39m\u001b[38;5;124;03m'''\u001b[39;00m\n\u001b[0;32m      7\u001b[0m \u001b[38;5;124;03m    Each Minigame may yield a total of 100 points per player. \u001b[39;00m\n\u001b[0;32m      8\u001b[0m \u001b[38;5;124;03m    Records #1 through #10 are considered \u001b[39;00m\n\u001b[1;32m   (...)\u001b[0m\n\u001b[0;32m     43\u001b[0m \u001b[38;5;124;03m    Thus, a player holding #1 records in a minigame will always be assigned 100 points. \u001b[39;00m\n\u001b[0;32m     44\u001b[0m \u001b[38;5;124;03m    '''\u001b[39;00m\n",
      "Cell \u001b[1;32mIn[2], line 118\u001b[0m, in \u001b[0;36mgetRecordsDataframe\u001b[1;34m(minigame, save, log, html, rank)\u001b[0m\n\u001b[0;32m    116\u001b[0m \u001b[38;5;28;01mfor\u001b[39;00m i \u001b[38;5;129;01min\u001b[39;00m paths:\n\u001b[0;32m    117\u001b[0m     \u001b[38;5;28;01mif\u001b[39;00m minigame \u001b[38;5;129;01min\u001b[39;00m timeMiniGames:\n\u001b[1;32m--> 118\u001b[0m         df \u001b[38;5;241m=\u001b[39m create_dataframe(getRecordData(playerPath\u001b[38;5;241m=\u001b[39mi, minigame\u001b[38;5;241m=\u001b[39mminigame), minigame)\n\u001b[0;32m    120\u001b[0m     \u001b[38;5;28;01mif\u001b[39;00m minigame \u001b[38;5;129;01min\u001b[39;00m pointMiniGames:\n\u001b[0;32m    121\u001b[0m         \u001b[38;5;28;01mtry\u001b[39;00m: \n",
      "Cell \u001b[1;32mIn[2], line 45\u001b[0m, in \u001b[0;36mgetRecordData\u001b[1;34m(playerPath, minigame)\u001b[0m\n\u001b[0;32m     42\u001b[0m \u001b[38;5;28;01mdef\u001b[39;00m \u001b[38;5;21mgetRecordData\u001b[39m(playerPath, minigame):\n\u001b[0;32m     43\u001b[0m     \u001b[38;5;66;03m# if read_file(playerPath) is None: return None\u001b[39;00m\n\u001b[1;32m---> 45\u001b[0m     data \u001b[38;5;241m=\u001b[39m read_file(playerPath)\u001b[38;5;241m.\u001b[39msplit(\u001b[38;5;124m'\u001b[39m\u001b[38;5;130;01m\\n\u001b[39;00m\u001b[38;5;124m'\u001b[39m)\n\u001b[0;32m     46\u001b[0m     \u001b[38;5;28;01mfor\u001b[39;00m line \u001b[38;5;129;01min\u001b[39;00m data: \n\u001b[0;32m     47\u001b[0m         \u001b[38;5;28;01mif\u001b[39;00m minigame \u001b[38;5;129;01min\u001b[39;00m line: \n",
      "\u001b[1;31mAttributeError\u001b[0m: 'NoneType' object has no attribute 'split'"
     ]
    }
   ],
   "source": [
    "for minigame in (pointMiniGames + \", \" + timeMiniGames).split(', '): \n",
    "    temp = getBestPlayer(minigame=minigame)\n",
    "\n",
    "    # rename PointSum to minigame name\n",
    "    temp.rename(columns={'PointSum': minigame}, inplace=True)\n",
    "\n",
    "    # drop all columns but the pointDf column\n",
    "    temp = temp[[minigame]]\n",
    "\n",
    "    # concat all minigame dataframes\n",
    "    try: \n",
    "        outDf = pd.concat([outDf, temp], axis=1)\n",
    "    except: \n",
    "        outDf = temp\n"
   ]
  },
  {
   "cell_type": "code",
   "execution_count": 21,
   "metadata": {},
   "outputs": [
    {
     "data": {
      "text/html": [
       "<div>\n",
       "<style scoped>\n",
       "    .dataframe tbody tr th:only-of-type {\n",
       "        vertical-align: middle;\n",
       "    }\n",
       "\n",
       "    .dataframe tbody tr th {\n",
       "        vertical-align: top;\n",
       "    }\n",
       "\n",
       "    .dataframe thead th {\n",
       "        text-align: right;\n",
       "    }\n",
       "</style>\n",
       "<table border=\"1\" class=\"dataframe\">\n",
       "  <thead>\n",
       "    <tr style=\"text-align: right;\">\n",
       "      <th></th>\n",
       "      <th>Schießstand</th>\n",
       "      <th>Schießstand</th>\n",
       "    </tr>\n",
       "  </thead>\n",
       "  <tbody>\n",
       "    <tr>\n",
       "      <th>Fflopse</th>\n",
       "      <td>96.666667</td>\n",
       "      <td>96.666667</td>\n",
       "    </tr>\n",
       "    <tr>\n",
       "      <th>ReichesBrot</th>\n",
       "      <td>10.000000</td>\n",
       "      <td>10.000000</td>\n",
       "    </tr>\n",
       "    <tr>\n",
       "      <th>Gobo9</th>\n",
       "      <td>50.000000</td>\n",
       "      <td>50.000000</td>\n",
       "    </tr>\n",
       "    <tr>\n",
       "      <th>cediiiiii_10</th>\n",
       "      <td>40.000000</td>\n",
       "      <td>40.000000</td>\n",
       "    </tr>\n",
       "    <tr>\n",
       "      <th>PedroZockt</th>\n",
       "      <td>0.000000</td>\n",
       "      <td>0.000000</td>\n",
       "    </tr>\n",
       "    <tr>\n",
       "      <th>...</th>\n",
       "      <td>...</td>\n",
       "      <td>...</td>\n",
       "    </tr>\n",
       "    <tr>\n",
       "      <th>bikop</th>\n",
       "      <td>0.000000</td>\n",
       "      <td>0.000000</td>\n",
       "    </tr>\n",
       "    <tr>\n",
       "      <th>ArthurAlchemist</th>\n",
       "      <td>0.000000</td>\n",
       "      <td>0.000000</td>\n",
       "    </tr>\n",
       "    <tr>\n",
       "      <th>SB387</th>\n",
       "      <td>0.000000</td>\n",
       "      <td>0.000000</td>\n",
       "    </tr>\n",
       "    <tr>\n",
       "      <th>PolizeiDreamy</th>\n",
       "      <td>0.000000</td>\n",
       "      <td>0.000000</td>\n",
       "    </tr>\n",
       "    <tr>\n",
       "      <th>Steavn</th>\n",
       "      <td>0.000000</td>\n",
       "      <td>0.000000</td>\n",
       "    </tr>\n",
       "  </tbody>\n",
       "</table>\n",
       "<p>210 rows × 2 columns</p>\n",
       "</div>"
      ],
      "text/plain": [
       "                 Schießstand  Schießstand\n",
       "Fflopse            96.666667    96.666667\n",
       "ReichesBrot        10.000000    10.000000\n",
       "Gobo9              50.000000    50.000000\n",
       "cediiiiii_10       40.000000    40.000000\n",
       "PedroZockt          0.000000     0.000000\n",
       "...                      ...          ...\n",
       "bikop               0.000000     0.000000\n",
       "ArthurAlchemist     0.000000     0.000000\n",
       "SB387               0.000000     0.000000\n",
       "PolizeiDreamy       0.000000     0.000000\n",
       "Steavn              0.000000     0.000000\n",
       "\n",
       "[210 rows x 2 columns]"
      ]
     },
     "execution_count": 21,
     "metadata": {},
     "output_type": "execute_result"
    }
   ],
   "source": [
    "outDf['Schießstand']"
   ]
  },
  {
   "cell_type": "code",
   "execution_count": 22,
   "metadata": {},
   "outputs": [
    {
     "name": "stdout",
     "output_type": "stream",
     "text": [
      "processing Schießstand...\n",
      "Schießstand processed\n"
     ]
    },
    {
     "data": {
      "text/html": [
       "<div>\n",
       "<style scoped>\n",
       "    .dataframe tbody tr th:only-of-type {\n",
       "        vertical-align: middle;\n",
       "    }\n",
       "\n",
       "    .dataframe tbody tr th {\n",
       "        vertical-align: top;\n",
       "    }\n",
       "\n",
       "    .dataframe thead th {\n",
       "        text-align: right;\n",
       "    }\n",
       "</style>\n",
       "<table border=\"1\" class=\"dataframe\">\n",
       "  <thead>\n",
       "    <tr style=\"text-align: right;\">\n",
       "      <th></th>\n",
       "      <th>City</th>\n",
       "      <th>Farm</th>\n",
       "      <th>Jungle</th>\n",
       "      <th>PointSum</th>\n",
       "    </tr>\n",
       "  </thead>\n",
       "  <tbody>\n",
       "    <tr>\n",
       "      <th>Fflopse</th>\n",
       "      <td>90.0</td>\n",
       "      <td>100.0</td>\n",
       "      <td>100.0</td>\n",
       "      <td>96.666667</td>\n",
       "    </tr>\n",
       "    <tr>\n",
       "      <th>Ex4cted</th>\n",
       "      <td>100.0</td>\n",
       "      <td>90.0</td>\n",
       "      <td>80.0</td>\n",
       "      <td>90.000000</td>\n",
       "    </tr>\n",
       "    <tr>\n",
       "      <th>HerrDante</th>\n",
       "      <td>50.0</td>\n",
       "      <td>60.0</td>\n",
       "      <td>90.0</td>\n",
       "      <td>66.666667</td>\n",
       "    </tr>\n",
       "    <tr>\n",
       "      <th>Gobo9</th>\n",
       "      <td>70.0</td>\n",
       "      <td>20.0</td>\n",
       "      <td>60.0</td>\n",
       "      <td>50.000000</td>\n",
       "    </tr>\n",
       "    <tr>\n",
       "      <th>cediiiiii_10</th>\n",
       "      <td>20.0</td>\n",
       "      <td>50.0</td>\n",
       "      <td>50.0</td>\n",
       "      <td>40.000000</td>\n",
       "    </tr>\n",
       "    <tr>\n",
       "      <th>...</th>\n",
       "      <td>...</td>\n",
       "      <td>...</td>\n",
       "      <td>...</td>\n",
       "      <td>...</td>\n",
       "    </tr>\n",
       "    <tr>\n",
       "      <th>Jan2220</th>\n",
       "      <td>0.0</td>\n",
       "      <td>0.0</td>\n",
       "      <td>0.0</td>\n",
       "      <td>0.000000</td>\n",
       "    </tr>\n",
       "    <tr>\n",
       "      <th>Janne4k</th>\n",
       "      <td>0.0</td>\n",
       "      <td>0.0</td>\n",
       "      <td>0.0</td>\n",
       "      <td>0.000000</td>\n",
       "    </tr>\n",
       "    <tr>\n",
       "      <th>JayMinInSane</th>\n",
       "      <td>0.0</td>\n",
       "      <td>0.0</td>\n",
       "      <td>0.0</td>\n",
       "      <td>0.000000</td>\n",
       "    </tr>\n",
       "    <tr>\n",
       "      <th>JennieKim</th>\n",
       "      <td>0.0</td>\n",
       "      <td>0.0</td>\n",
       "      <td>0.0</td>\n",
       "      <td>0.000000</td>\n",
       "    </tr>\n",
       "    <tr>\n",
       "      <th>__ege</th>\n",
       "      <td>0.0</td>\n",
       "      <td>0.0</td>\n",
       "      <td>0.0</td>\n",
       "      <td>0.000000</td>\n",
       "    </tr>\n",
       "  </tbody>\n",
       "</table>\n",
       "<p>210 rows × 4 columns</p>\n",
       "</div>"
      ],
      "text/plain": [
       "               City   Farm  Jungle   PointSum\n",
       "Fflopse        90.0  100.0   100.0  96.666667\n",
       "Ex4cted       100.0   90.0    80.0  90.000000\n",
       "HerrDante      50.0   60.0    90.0  66.666667\n",
       "Gobo9          70.0   20.0    60.0  50.000000\n",
       "cediiiiii_10   20.0   50.0    50.0  40.000000\n",
       "...             ...    ...     ...        ...\n",
       "Jan2220         0.0    0.0     0.0   0.000000\n",
       "Janne4k         0.0    0.0     0.0   0.000000\n",
       "JayMinInSane    0.0    0.0     0.0   0.000000\n",
       "JennieKim       0.0    0.0     0.0   0.000000\n",
       "__ege           0.0    0.0     0.0   0.000000\n",
       "\n",
       "[210 rows x 4 columns]"
      ]
     },
     "execution_count": 22,
     "metadata": {},
     "output_type": "execute_result"
    }
   ],
   "source": [
    "getBestPlayer(minigame='Schießstand')"
   ]
  },
  {
   "cell_type": "code",
   "execution_count": 23,
   "metadata": {},
   "outputs": [
    {
     "data": {
      "image/png": "[encoded data removed]",
      "text/plain": [
       "<Figure size 2000x1400 with 1 Axes>"
      ]
     },
     "metadata": {},
     "output_type": "display_data"
    }
   ],
   "source": [
    "import matplotlib.pyplot as plt\n",
    "import plotly.express as px\n",
    "\n",
    "# print(outDf)\n",
    "\n",
    "# sum all lines to get the total score\n",
    "\n",
    "outDf['Total'] = outDf.sum(axis=1)\n",
    "\n",
    "outDf = outDf.sort_values(by='Total', ascending=False).fillna(0)\n",
    "\n",
    "# crop df to the top 10 players and plot the data, as a stacked barplot, place legend outside\n",
    "\n",
    "cropDf = outDf.head(10)\n",
    "\n",
    "cropDf = cropDf.drop(columns=['Total'])\n",
    "\n",
    "cropDf.plot(kind='bar', stacked=True, figsize=(20, 14))\n",
    "\n",
    "plt.legend(loc='center left', bbox_to_anchor=(1.0, 0.5))\n",
    "\n",
    "plt.show()"
   ]
  },
  {
   "cell_type": "code",
   "execution_count": 24,
   "metadata": {},
   "outputs": [
    {
     "data": {
      "text/html": [
       "<div>\n",
       "<style scoped>\n",
       "    .dataframe tbody tr th:only-of-type {\n",
       "        vertical-align: middle;\n",
       "    }\n",
       "\n",
       "    .dataframe tbody tr th {\n",
       "        vertical-align: top;\n",
       "    }\n",
       "\n",
       "    .dataframe thead th {\n",
       "        text-align: right;\n",
       "    }\n",
       "</style>\n",
       "<table border=\"1\" class=\"dataframe\">\n",
       "  <thead>\n",
       "    <tr style=\"text-align: right;\">\n",
       "      <th></th>\n",
       "      <th>Sammelwahn</th>\n",
       "      <th>Schießstand</th>\n",
       "      <th>Walls</th>\n",
       "      <th>Mini Survivalgames</th>\n",
       "      <th>Mini Skywars</th>\n",
       "      <th>Lasertag</th>\n",
       "      <th>Minengefecht</th>\n",
       "      <th>Einer im Köcher</th>\n",
       "      <th>Paintball</th>\n",
       "      <th>Spleef</th>\n",
       "      <th>...</th>\n",
       "      <th>Blockhüpfer</th>\n",
       "      <th>Todeswürfel</th>\n",
       "      <th>Freier Fall</th>\n",
       "      <th>Elytrarennen</th>\n",
       "      <th>Waffenfolge</th>\n",
       "      <th>Minenfeld</th>\n",
       "      <th>Kletter-König</th>\n",
       "      <th>Ampelrennen</th>\n",
       "      <th>Hoch hinaus</th>\n",
       "      <th>Frostiger Pfad</th>\n",
       "    </tr>\n",
       "  </thead>\n",
       "  <tbody>\n",
       "    <tr>\n",
       "      <th>Fflopse</th>\n",
       "      <td>18.837209</td>\n",
       "      <td>96.666667</td>\n",
       "      <td>33.333333</td>\n",
       "      <td>30.000000</td>\n",
       "      <td>24.0</td>\n",
       "      <td>83.333333</td>\n",
       "      <td>12.5</td>\n",
       "      <td>83.333333</td>\n",
       "      <td>73.333333</td>\n",
       "      <td>50.0</td>\n",
       "      <td>...</td>\n",
       "      <td>90.0</td>\n",
       "      <td>60.0</td>\n",
       "      <td>47.5</td>\n",
       "      <td>83.333333</td>\n",
       "      <td>30.0</td>\n",
       "      <td>33.333333</td>\n",
       "      <td>85.0</td>\n",
       "      <td>45.0</td>\n",
       "      <td>80.0</td>\n",
       "      <td>0.0</td>\n",
       "    </tr>\n",
       "    <tr>\n",
       "      <th>ReichesBrot</th>\n",
       "      <td>2.790698</td>\n",
       "      <td>10.000000</td>\n",
       "      <td>13.333333</td>\n",
       "      <td>26.666667</td>\n",
       "      <td>20.0</td>\n",
       "      <td>0.000000</td>\n",
       "      <td>22.5</td>\n",
       "      <td>13.333333</td>\n",
       "      <td>86.666667</td>\n",
       "      <td>75.0</td>\n",
       "      <td>...</td>\n",
       "      <td>100.0</td>\n",
       "      <td>0.0</td>\n",
       "      <td>35.0</td>\n",
       "      <td>100.000000</td>\n",
       "      <td>50.0</td>\n",
       "      <td>23.333333</td>\n",
       "      <td>100.0</td>\n",
       "      <td>0.0</td>\n",
       "      <td>60.0</td>\n",
       "      <td>90.0</td>\n",
       "    </tr>\n",
       "    <tr>\n",
       "      <th>Gobo9</th>\n",
       "      <td>28.837209</td>\n",
       "      <td>50.000000</td>\n",
       "      <td>33.333333</td>\n",
       "      <td>26.666667</td>\n",
       "      <td>76.0</td>\n",
       "      <td>26.666667</td>\n",
       "      <td>30.0</td>\n",
       "      <td>20.000000</td>\n",
       "      <td>0.000000</td>\n",
       "      <td>50.0</td>\n",
       "      <td>...</td>\n",
       "      <td>50.0</td>\n",
       "      <td>0.0</td>\n",
       "      <td>50.0</td>\n",
       "      <td>46.666667</td>\n",
       "      <td>0.0</td>\n",
       "      <td>13.333333</td>\n",
       "      <td>30.0</td>\n",
       "      <td>50.0</td>\n",
       "      <td>70.0</td>\n",
       "      <td>100.0</td>\n",
       "    </tr>\n",
       "    <tr>\n",
       "      <th>cediiiiii_10</th>\n",
       "      <td>29.767442</td>\n",
       "      <td>40.000000</td>\n",
       "      <td>86.666667</td>\n",
       "      <td>26.666667</td>\n",
       "      <td>48.0</td>\n",
       "      <td>0.000000</td>\n",
       "      <td>75.0</td>\n",
       "      <td>36.666667</td>\n",
       "      <td>0.000000</td>\n",
       "      <td>70.0</td>\n",
       "      <td>...</td>\n",
       "      <td>0.0</td>\n",
       "      <td>0.0</td>\n",
       "      <td>50.0</td>\n",
       "      <td>0.000000</td>\n",
       "      <td>70.0</td>\n",
       "      <td>10.000000</td>\n",
       "      <td>0.0</td>\n",
       "      <td>15.0</td>\n",
       "      <td>0.0</td>\n",
       "      <td>0.0</td>\n",
       "    </tr>\n",
       "    <tr>\n",
       "      <th>PedroZockt</th>\n",
       "      <td>12.790698</td>\n",
       "      <td>0.000000</td>\n",
       "      <td>56.666667</td>\n",
       "      <td>0.000000</td>\n",
       "      <td>26.0</td>\n",
       "      <td>33.333333</td>\n",
       "      <td>0.0</td>\n",
       "      <td>0.000000</td>\n",
       "      <td>50.000000</td>\n",
       "      <td>50.0</td>\n",
       "      <td>...</td>\n",
       "      <td>0.0</td>\n",
       "      <td>50.0</td>\n",
       "      <td>25.0</td>\n",
       "      <td>0.000000</td>\n",
       "      <td>60.0</td>\n",
       "      <td>0.000000</td>\n",
       "      <td>10.0</td>\n",
       "      <td>70.0</td>\n",
       "      <td>90.0</td>\n",
       "      <td>0.0</td>\n",
       "    </tr>\n",
       "    <tr>\n",
       "      <th>...</th>\n",
       "      <td>...</td>\n",
       "      <td>...</td>\n",
       "      <td>...</td>\n",
       "      <td>...</td>\n",
       "      <td>...</td>\n",
       "      <td>...</td>\n",
       "      <td>...</td>\n",
       "      <td>...</td>\n",
       "      <td>...</td>\n",
       "      <td>...</td>\n",
       "      <td>...</td>\n",
       "      <td>...</td>\n",
       "      <td>...</td>\n",
       "      <td>...</td>\n",
       "      <td>...</td>\n",
       "      <td>...</td>\n",
       "      <td>...</td>\n",
       "      <td>...</td>\n",
       "      <td>...</td>\n",
       "      <td>...</td>\n",
       "      <td>...</td>\n",
       "    </tr>\n",
       "    <tr>\n",
       "      <th>Falke_01</th>\n",
       "      <td>0.000000</td>\n",
       "      <td>0.000000</td>\n",
       "      <td>0.000000</td>\n",
       "      <td>0.000000</td>\n",
       "      <td>0.0</td>\n",
       "      <td>0.000000</td>\n",
       "      <td>0.0</td>\n",
       "      <td>0.000000</td>\n",
       "      <td>0.000000</td>\n",
       "      <td>0.0</td>\n",
       "      <td>...</td>\n",
       "      <td>0.0</td>\n",
       "      <td>0.0</td>\n",
       "      <td>0.0</td>\n",
       "      <td>0.000000</td>\n",
       "      <td>0.0</td>\n",
       "      <td>0.000000</td>\n",
       "      <td>0.0</td>\n",
       "      <td>0.0</td>\n",
       "      <td>0.0</td>\n",
       "      <td>0.0</td>\n",
       "    </tr>\n",
       "    <tr>\n",
       "      <th>Dubbly</th>\n",
       "      <td>0.000000</td>\n",
       "      <td>0.000000</td>\n",
       "      <td>0.000000</td>\n",
       "      <td>0.000000</td>\n",
       "      <td>0.0</td>\n",
       "      <td>0.000000</td>\n",
       "      <td>0.0</td>\n",
       "      <td>0.000000</td>\n",
       "      <td>0.000000</td>\n",
       "      <td>0.0</td>\n",
       "      <td>...</td>\n",
       "      <td>0.0</td>\n",
       "      <td>0.0</td>\n",
       "      <td>0.0</td>\n",
       "      <td>0.000000</td>\n",
       "      <td>0.0</td>\n",
       "      <td>0.000000</td>\n",
       "      <td>0.0</td>\n",
       "      <td>0.0</td>\n",
       "      <td>0.0</td>\n",
       "      <td>0.0</td>\n",
       "    </tr>\n",
       "    <tr>\n",
       "      <th>destr0yed_</th>\n",
       "      <td>0.000000</td>\n",
       "      <td>0.000000</td>\n",
       "      <td>0.000000</td>\n",
       "      <td>0.000000</td>\n",
       "      <td>0.0</td>\n",
       "      <td>0.000000</td>\n",
       "      <td>0.0</td>\n",
       "      <td>0.000000</td>\n",
       "      <td>0.000000</td>\n",
       "      <td>0.0</td>\n",
       "      <td>...</td>\n",
       "      <td>0.0</td>\n",
       "      <td>0.0</td>\n",
       "      <td>0.0</td>\n",
       "      <td>0.000000</td>\n",
       "      <td>0.0</td>\n",
       "      <td>0.000000</td>\n",
       "      <td>0.0</td>\n",
       "      <td>0.0</td>\n",
       "      <td>0.0</td>\n",
       "      <td>0.0</td>\n",
       "    </tr>\n",
       "    <tr>\n",
       "      <th>DerAutist</th>\n",
       "      <td>0.000000</td>\n",
       "      <td>0.000000</td>\n",
       "      <td>0.000000</td>\n",
       "      <td>0.000000</td>\n",
       "      <td>0.0</td>\n",
       "      <td>0.000000</td>\n",
       "      <td>0.0</td>\n",
       "      <td>0.000000</td>\n",
       "      <td>0.000000</td>\n",
       "      <td>0.0</td>\n",
       "      <td>...</td>\n",
       "      <td>0.0</td>\n",
       "      <td>0.0</td>\n",
       "      <td>0.0</td>\n",
       "      <td>0.000000</td>\n",
       "      <td>0.0</td>\n",
       "      <td>0.000000</td>\n",
       "      <td>0.0</td>\n",
       "      <td>0.0</td>\n",
       "      <td>0.0</td>\n",
       "      <td>0.0</td>\n",
       "    </tr>\n",
       "    <tr>\n",
       "      <th>Steavn</th>\n",
       "      <td>0.000000</td>\n",
       "      <td>0.000000</td>\n",
       "      <td>0.000000</td>\n",
       "      <td>0.000000</td>\n",
       "      <td>0.0</td>\n",
       "      <td>0.000000</td>\n",
       "      <td>0.0</td>\n",
       "      <td>0.000000</td>\n",
       "      <td>0.000000</td>\n",
       "      <td>0.0</td>\n",
       "      <td>...</td>\n",
       "      <td>0.0</td>\n",
       "      <td>0.0</td>\n",
       "      <td>0.0</td>\n",
       "      <td>0.000000</td>\n",
       "      <td>0.0</td>\n",
       "      <td>0.000000</td>\n",
       "      <td>0.0</td>\n",
       "      <td>0.0</td>\n",
       "      <td>0.0</td>\n",
       "      <td>0.0</td>\n",
       "    </tr>\n",
       "  </tbody>\n",
       "</table>\n",
       "<p>210 rows × 55 columns</p>\n",
       "</div>"
      ],
      "text/plain": [
       "              Sammelwahn  Schießstand      Walls  Mini Survivalgames  \\\n",
       "Fflopse        18.837209    96.666667  33.333333           30.000000   \n",
       "ReichesBrot     2.790698    10.000000  13.333333           26.666667   \n",
       "Gobo9          28.837209    50.000000  33.333333           26.666667   \n",
       "cediiiiii_10   29.767442    40.000000  86.666667           26.666667   \n",
       "PedroZockt     12.790698     0.000000  56.666667            0.000000   \n",
       "...                  ...          ...        ...                 ...   \n",
       "Falke_01        0.000000     0.000000   0.000000            0.000000   \n",
       "Dubbly          0.000000     0.000000   0.000000            0.000000   \n",
       "destr0yed_      0.000000     0.000000   0.000000            0.000000   \n",
       "DerAutist       0.000000     0.000000   0.000000            0.000000   \n",
       "Steavn          0.000000     0.000000   0.000000            0.000000   \n",
       "\n",
       "              Mini Skywars   Lasertag  Minengefecht  Einer im Köcher  \\\n",
       "Fflopse               24.0  83.333333          12.5        83.333333   \n",
       "ReichesBrot           20.0   0.000000          22.5        13.333333   \n",
       "Gobo9                 76.0  26.666667          30.0        20.000000   \n",
       "cediiiiii_10          48.0   0.000000          75.0        36.666667   \n",
       "PedroZockt            26.0  33.333333           0.0         0.000000   \n",
       "...                    ...        ...           ...              ...   \n",
       "Falke_01               0.0   0.000000           0.0         0.000000   \n",
       "Dubbly                 0.0   0.000000           0.0         0.000000   \n",
       "destr0yed_             0.0   0.000000           0.0         0.000000   \n",
       "DerAutist              0.0   0.000000           0.0         0.000000   \n",
       "Steavn                 0.0   0.000000           0.0         0.000000   \n",
       "\n",
       "              Paintball  Spleef  ...  Blockhüpfer  Todeswürfel  Freier Fall  \\\n",
       "Fflopse       73.333333    50.0  ...         90.0         60.0         47.5   \n",
       "ReichesBrot   86.666667    75.0  ...        100.0          0.0         35.0   \n",
       "Gobo9          0.000000    50.0  ...         50.0          0.0         50.0   \n",
       "cediiiiii_10   0.000000    70.0  ...          0.0          0.0         50.0   \n",
       "PedroZockt    50.000000    50.0  ...          0.0         50.0         25.0   \n",
       "...                 ...     ...  ...          ...          ...          ...   \n",
       "Falke_01       0.000000     0.0  ...          0.0          0.0          0.0   \n",
       "Dubbly         0.000000     0.0  ...          0.0          0.0          0.0   \n",
       "destr0yed_     0.000000     0.0  ...          0.0          0.0          0.0   \n",
       "DerAutist      0.000000     0.0  ...          0.0          0.0          0.0   \n",
       "Steavn         0.000000     0.0  ...          0.0          0.0          0.0   \n",
       "\n",
       "              Elytrarennen  Waffenfolge  Minenfeld  Kletter-König  \\\n",
       "Fflopse          83.333333         30.0  33.333333           85.0   \n",
       "ReichesBrot     100.000000         50.0  23.333333          100.0   \n",
       "Gobo9            46.666667          0.0  13.333333           30.0   \n",
       "cediiiiii_10      0.000000         70.0  10.000000            0.0   \n",
       "PedroZockt        0.000000         60.0   0.000000           10.0   \n",
       "...                    ...          ...        ...            ...   \n",
       "Falke_01          0.000000          0.0   0.000000            0.0   \n",
       "Dubbly            0.000000          0.0   0.000000            0.0   \n",
       "destr0yed_        0.000000          0.0   0.000000            0.0   \n",
       "DerAutist         0.000000          0.0   0.000000            0.0   \n",
       "Steavn            0.000000          0.0   0.000000            0.0   \n",
       "\n",
       "              Ampelrennen  Hoch hinaus  Frostiger Pfad  \n",
       "Fflopse              45.0         80.0             0.0  \n",
       "ReichesBrot           0.0         60.0            90.0  \n",
       "Gobo9                50.0         70.0           100.0  \n",
       "cediiiiii_10         15.0          0.0             0.0  \n",
       "PedroZockt           70.0         90.0             0.0  \n",
       "...                   ...          ...             ...  \n",
       "Falke_01              0.0          0.0             0.0  \n",
       "Dubbly                0.0          0.0             0.0  \n",
       "destr0yed_            0.0          0.0             0.0  \n",
       "DerAutist             0.0          0.0             0.0  \n",
       "Steavn                0.0          0.0             0.0  \n",
       "\n",
       "[210 rows x 55 columns]"
      ]
     },
     "execution_count": 24,
     "metadata": {},
     "output_type": "execute_result"
    }
   ],
   "source": [
    "outDf"
   ]
  },
  {
   "cell_type": "code",
   "execution_count": 25,
   "metadata": {},
   "outputs": [
    {
     "data": {
      "application/vnd.plotly.v1+json": {
       "config": {
        "plotlyServerURL": "https://plot.ly"
       },
       "data": [
        {
         "marker": {
          "color": "rgb(136, 204, 238)"
         },
         "name": "Ampelrennen",
         "type": "bar",
         "x": [
          "Fflopse",
          "ReichesBrot",
          "Gobo9",
          "cediiiiii_10",
          "PedroZockt",
          "HerrDante",
          "Ex4cted",
          "_n3d",
          "JOW23",
          "Freeeedom",
          "yiiq",
          "lizsyy",
          "CML_Justin",
          "Umgfoin",
          "2wc",
          "DarkCobweb",
          "yzvm",
          "Ninivee",
          "camman18YT",
          "KakaMC"
         ],
         "y": [
          [
           45,
           45
          ],
          [
           0,
           0
          ],
          [
           50,
           50
          ],
          [
           15,
           15
          ],
          [
           70,
           70
          ],
          [
           25,
           25
          ],
          [
           45,
           45
          ],
          [
           20,
           20
          ],
          [
           0,
           0
          ],
          [
           0,
           0
          ],
          [
           0,
           0
          ],
          [
           10,
           10
          ],
          [
           0,
           0
          ],
          [
           50,
           50
          ],
          [
           0,
           0
          ],
          [
           0,
           0
          ],
          [
           0,
           0
          ],
          [
           0,
           0
          ],
          [
           0,
           0
          ],
          [
           0,
           0
          ]
         ]
        },
        {
         "marker": {
          "color": "rgb(204, 102, 119)"
         },
         "name": "Blockhüpfer",
         "type": "bar",
         "x": [
          "Fflopse",
          "ReichesBrot",
          "Gobo9",
          "cediiiiii_10",
          "PedroZockt",
          "HerrDante",
          "Ex4cted",
          "_n3d",
          "JOW23",
          "Freeeedom",
          "yiiq",
          "lizsyy",
          "CML_Justin",
          "Umgfoin",
          "2wc",
          "DarkCobweb",
          "yzvm",
          "Ninivee",
          "camman18YT",
          "KakaMC"
         ],
         "y": [
          [
           90,
           90
          ],
          [
           100,
           100
          ],
          [
           50,
           50
          ],
          [
           0,
           0
          ],
          [
           0,
           0
          ],
          [
           0,
           0
          ],
          [
           80,
           80
          ],
          [
           0,
           0
          ],
          [
           0,
           0
          ],
          [
           0,
           0
          ],
          [
           0,
           0
          ],
          [
           30,
           30
          ],
          [
           70,
           70
          ],
          [
           0,
           0
          ],
          [
           0,
           0
          ],
          [
           0,
           0
          ],
          [
           0,
           0
          ],
          [
           0,
           0
          ],
          [
           0,
           0
          ],
          [
           0,
           0
          ]
         ]
        },
        {
         "marker": {
          "color": "rgb(221, 204, 119)"
         },
         "name": "Buntes Chaos",
         "type": "bar",
         "x": [
          "Fflopse",
          "ReichesBrot",
          "Gobo9",
          "cediiiiii_10",
          "PedroZockt",
          "HerrDante",
          "Ex4cted",
          "_n3d",
          "JOW23",
          "Freeeedom",
          "yiiq",
          "lizsyy",
          "CML_Justin",
          "Umgfoin",
          "2wc",
          "DarkCobweb",
          "yzvm",
          "Ninivee",
          "camman18YT",
          "KakaMC"
         ],
         "y": [
          [
           100,
           100
          ],
          [
           100,
           100
          ],
          [
           50,
           50
          ],
          [
           50,
           50
          ],
          [
           100,
           100
          ],
          [
           50,
           50
          ],
          [
           50,
           50
          ],
          [
           100,
           100
          ],
          [
           0,
           0
          ],
          [
           50,
           50
          ],
          [
           0,
           0
          ],
          [
           100,
           100
          ],
          [
           50,
           50
          ],
          [
           100,
           100
          ],
          [
           0,
           0
          ],
          [
           0,
           0
          ],
          [
           0,
           0
          ],
          [
           100,
           100
          ],
          [
           0,
           0
          ],
          [
           100,
           100
          ]
         ]
        },
        {
         "marker": {
          "color": "rgb(17, 119, 51)"
         },
         "name": "Drachenflucht",
         "type": "bar",
         "x": [
          "Fflopse",
          "ReichesBrot",
          "Gobo9",
          "cediiiiii_10",
          "PedroZockt",
          "HerrDante",
          "Ex4cted",
          "_n3d",
          "JOW23",
          "Freeeedom",
          "yiiq",
          "lizsyy",
          "CML_Justin",
          "Umgfoin",
          "2wc",
          "DarkCobweb",
          "yzvm",
          "Ninivee",
          "camman18YT",
          "KakaMC"
         ],
         "y": [
          [
           0,
           0
          ],
          [
           0,
           0
          ],
          [
           0,
           0
          ],
          [
           0,
           0
          ],
          [
           33.333333333333336,
           33.333333333333336
          ],
          [
           0,
           0
          ],
          [
           0,
           0
          ],
          [
           0,
           0
          ],
          [
           0,
           0
          ],
          [
           0,
           0
          ],
          [
           0,
           0
          ],
          [
           33.333333333333336,
           33.333333333333336
          ],
          [
           0,
           0
          ],
          [
           0,
           0
          ],
          [
           0,
           0
          ],
          [
           0,
           0
          ],
          [
           0,
           0
          ],
          [
           0,
           0
          ],
          [
           0,
           0
          ],
          [
           0,
           0
          ]
         ]
        },
        {
         "marker": {
          "color": "rgb(51, 34, 136)"
         },
         "name": "Duelle",
         "type": "bar",
         "x": [
          "Fflopse",
          "ReichesBrot",
          "Gobo9",
          "cediiiiii_10",
          "PedroZockt",
          "HerrDante",
          "Ex4cted",
          "_n3d",
          "JOW23",
          "Freeeedom",
          "yiiq",
          "lizsyy",
          "CML_Justin",
          "Umgfoin",
          "2wc",
          "DarkCobweb",
          "yzvm",
          "Ninivee",
          "camman18YT",
          "KakaMC"
         ],
         "y": [
          [
           0,
           0
          ],
          [
           0,
           0
          ],
          [
           0,
           0
          ],
          [
           60,
           60
          ],
          [
           0,
           0
          ],
          [
           0,
           0
          ],
          [
           0,
           0
          ],
          [
           0,
           0
          ],
          [
           0,
           0
          ],
          [
           0,
           0
          ],
          [
           0,
           0
          ],
          [
           0,
           0
          ],
          [
           0,
           0
          ],
          [
           0,
           0
          ],
          [
           60,
           60
          ],
          [
           60,
           60
          ],
          [
           60,
           60
          ],
          [
           0,
           0
          ],
          [
           0,
           0
          ],
          [
           0,
           0
          ]
         ]
        },
        {
         "marker": {
          "color": "rgb(170, 68, 153)"
         },
         "name": "Einer im Köcher",
         "type": "bar",
         "x": [
          "Fflopse",
          "ReichesBrot",
          "Gobo9",
          "cediiiiii_10",
          "PedroZockt",
          "HerrDante",
          "Ex4cted",
          "_n3d",
          "JOW23",
          "Freeeedom",
          "yiiq",
          "lizsyy",
          "CML_Justin",
          "Umgfoin",
          "2wc",
          "DarkCobweb",
          "yzvm",
          "Ninivee",
          "camman18YT",
          "KakaMC"
         ],
         "y": [
          [
           83.33333333333333,
           83.33333333333333
          ],
          [
           13.333333333333334,
           13.333333333333334
          ],
          [
           20,
           20
          ],
          [
           36.666666666666664,
           36.666666666666664
          ],
          [
           0,
           0
          ],
          [
           83.33333333333333,
           83.33333333333333
          ],
          [
           0,
           0
          ],
          [
           10,
           10
          ],
          [
           13.333333333333334,
           13.333333333333334
          ],
          [
           33.333333333333336,
           33.333333333333336
          ],
          [
           0,
           0
          ],
          [
           0,
           0
          ],
          [
           0,
           0
          ],
          [
           0,
           0
          ],
          [
           0,
           0
          ],
          [
           0,
           0
          ],
          [
           0,
           0
          ],
          [
           0,
           0
          ],
          [
           0,
           0
          ],
          [
           0,
           0
          ]
         ]
        },
        {
         "marker": {
          "color": "rgb(68, 170, 153)"
         },
         "name": "Elytrarennen",
         "type": "bar",
         "x": [
          "Fflopse",
          "ReichesBrot",
          "Gobo9",
          "cediiiiii_10",
          "PedroZockt",
          "HerrDante",
          "Ex4cted",
          "_n3d",
          "JOW23",
          "Freeeedom",
          "yiiq",
          "lizsyy",
          "CML_Justin",
          "Umgfoin",
          "2wc",
          "DarkCobweb",
          "yzvm",
          "Ninivee",
          "camman18YT",
          "KakaMC"
         ],
         "y": [
          [
           83.33333333333333,
           83.33333333333333
          ],
          [
           100,
           100
          ],
          [
           46.666666666666664,
           46.666666666666664
          ],
          [
           0,
           0
          ],
          [
           0,
           0
          ],
          [
           0,
           0
          ],
          [
           0,
           0
          ],
          [
           56.666666666666664,
           56.666666666666664
          ],
          [
           0,
           0
          ],
          [
           80,
           80
          ],
          [
           0,
           0
          ],
          [
           0,
           0
          ],
          [
           40,
           40
          ],
          [
           13.333333333333334,
           13.333333333333334
          ],
          [
           0,
           0
          ],
          [
           0,
           0
          ],
          [
           0,
           0
          ],
          [
           0,
           0
          ],
          [
           0,
           0
          ],
          [
           0,
           0
          ]
         ]
        },
        {
         "marker": {
          "color": "rgb(153, 153, 51)"
         },
         "name": "Freier Fall",
         "type": "bar",
         "x": [
          "Fflopse",
          "ReichesBrot",
          "Gobo9",
          "cediiiiii_10",
          "PedroZockt",
          "HerrDante",
          "Ex4cted",
          "_n3d",
          "JOW23",
          "Freeeedom",
          "yiiq",
          "lizsyy",
          "CML_Justin",
          "Umgfoin",
          "2wc",
          "DarkCobweb",
          "yzvm",
          "Ninivee",
          "camman18YT",
          "KakaMC"
         ],
         "y": [
          [
           47.5,
           47.5
          ],
          [
           35,
           35
          ],
          [
           50,
           50
          ],
          [
           50,
           50
          ],
          [
           25,
           25
          ],
          [
           62.5,
           62.5
          ],
          [
           12.5,
           12.5
          ],
          [
           7.5,
           7.5
          ],
          [
           0,
           0
          ],
          [
           12.5,
           12.5
          ],
          [
           0,
           0
          ],
          [
           0,
           0
          ],
          [
           5,
           5
          ],
          [
           0,
           0
          ],
          [
           40,
           40
          ],
          [
           0,
           0
          ],
          [
           0,
           0
          ],
          [
           0,
           0
          ],
          [
           0,
           0
          ],
          [
           0,
           0
          ]
         ]
        },
        {
         "marker": {
          "color": "rgb(136, 34, 85)"
         },
         "name": "Frostiger Pfad",
         "type": "bar",
         "x": [
          "Fflopse",
          "ReichesBrot",
          "Gobo9",
          "cediiiiii_10",
          "PedroZockt",
          "HerrDante",
          "Ex4cted",
          "_n3d",
          "JOW23",
          "Freeeedom",
          "yiiq",
          "lizsyy",
          "CML_Justin",
          "Umgfoin",
          "2wc",
          "DarkCobweb",
          "yzvm",
          "Ninivee",
          "camman18YT",
          "KakaMC"
         ],
         "y": [
          [
           0,
           0
          ],
          [
           90,
           90
          ],
          [
           100,
           100
          ],
          [
           0,
           0
          ],
          [
           0,
           0
          ],
          [
           0,
           0
          ],
          [
           0,
           0
          ],
          [
           20,
           20
          ],
          [
           0,
           0
          ],
          [
           80,
           80
          ],
          [
           0,
           0
          ],
          [
           0,
           0
          ],
          [
           0,
           0
          ],
          [
           0,
           0
          ],
          [
           0,
           0
          ],
          [
           0,
           0
          ],
          [
           0,
           0
          ],
          [
           60,
           60
          ],
          [
           0,
           0
          ],
          [
           0,
           0
          ]
         ]
        },
        {
         "marker": {
          "color": "rgb(102, 17, 0)"
         },
         "name": "Hoch hinaus",
         "type": "bar",
         "x": [
          "Fflopse",
          "ReichesBrot",
          "Gobo9",
          "cediiiiii_10",
          "PedroZockt",
          "HerrDante",
          "Ex4cted",
          "_n3d",
          "JOW23",
          "Freeeedom",
          "yiiq",
          "lizsyy",
          "CML_Justin",
          "Umgfoin",
          "2wc",
          "DarkCobweb",
          "yzvm",
          "Ninivee",
          "camman18YT",
          "KakaMC"
         ],
         "y": [
          [
           80,
           80
          ],
          [
           60,
           60
          ],
          [
           70,
           70
          ],
          [
           0,
           0
          ],
          [
           90,
           90
          ],
          [
           0,
           0
          ],
          [
           20,
           20
          ],
          [
           0,
           0
          ],
          [
           50,
           50
          ],
          [
           0,
           0
          ],
          [
           0,
           0
          ],
          [
           0,
           0
          ],
          [
           40,
           40
          ],
          [
           0,
           0
          ],
          [
           0,
           0
          ],
          [
           0,
           0
          ],
          [
           0,
           0
          ],
          [
           0,
           0
          ],
          [
           0,
           0
          ],
          [
           0,
           0
          ]
         ]
        },
        {
         "marker": {
          "color": "rgb(136, 136, 136)"
         },
         "name": "Jump and Run",
         "type": "bar",
         "x": [
          "Fflopse",
          "ReichesBrot",
          "Gobo9",
          "cediiiiii_10",
          "PedroZockt",
          "HerrDante",
          "Ex4cted",
          "_n3d",
          "JOW23",
          "Freeeedom",
          "yiiq",
          "lizsyy",
          "CML_Justin",
          "Umgfoin",
          "2wc",
          "DarkCobweb",
          "yzvm",
          "Ninivee",
          "camman18YT",
          "KakaMC"
         ],
         "y": [
          [
           53.333333333333336,
           53.333333333333336
          ],
          [
           93.33333333333333,
           93.33333333333333
          ],
          [
           93.33333333333333,
           93.33333333333333
          ],
          [
           20,
           20
          ],
          [
           33.333333333333336,
           33.333333333333336
          ],
          [
           23.333333333333332,
           23.333333333333332
          ],
          [
           0,
           0
          ],
          [
           0,
           0
          ],
          [
           0,
           0
          ],
          [
           0,
           0
          ],
          [
           0,
           0
          ],
          [
           13.333333333333334,
           13.333333333333334
          ],
          [
           0,
           0
          ],
          [
           0,
           0
          ],
          [
           13.333333333333334,
           13.333333333333334
          ],
          [
           0,
           0
          ],
          [
           0,
           0
          ],
          [
           0,
           0
          ],
          [
           33.333333333333336,
           33.333333333333336
          ],
          [
           10,
           10
          ]
         ]
        },
        {
         "marker": {
          "color": "rgb(136, 204, 238)"
         },
         "name": "Kletter-König",
         "type": "bar",
         "x": [
          "Fflopse",
          "ReichesBrot",
          "Gobo9",
          "cediiiiii_10",
          "PedroZockt",
          "HerrDante",
          "Ex4cted",
          "_n3d",
          "JOW23",
          "Freeeedom",
          "yiiq",
          "lizsyy",
          "CML_Justin",
          "Umgfoin",
          "2wc",
          "DarkCobweb",
          "yzvm",
          "Ninivee",
          "camman18YT",
          "KakaMC"
         ],
         "y": [
          [
           85,
           85
          ],
          [
           100,
           100
          ],
          [
           30,
           30
          ],
          [
           0,
           0
          ],
          [
           10,
           10
          ],
          [
           20,
           20
          ],
          [
           0,
           0
          ],
          [
           0,
           0
          ],
          [
           0,
           0
          ],
          [
           0,
           0
          ],
          [
           80,
           80
          ],
          [
           0,
           0
          ],
          [
           0,
           0
          ],
          [
           0,
           0
          ],
          [
           0,
           0
          ],
          [
           0,
           0
          ],
          [
           20,
           20
          ],
          [
           0,
           0
          ],
          [
           40,
           40
          ],
          [
           0,
           0
          ]
         ]
        },
        {
         "marker": {
          "color": "rgb(204, 102, 119)"
         },
         "name": "Lasertag",
         "type": "bar",
         "x": [
          "Fflopse",
          "ReichesBrot",
          "Gobo9",
          "cediiiiii_10",
          "PedroZockt",
          "HerrDante",
          "Ex4cted",
          "_n3d",
          "JOW23",
          "Freeeedom",
          "yiiq",
          "lizsyy",
          "CML_Justin",
          "Umgfoin",
          "2wc",
          "DarkCobweb",
          "yzvm",
          "Ninivee",
          "camman18YT",
          "KakaMC"
         ],
         "y": [
          [
           83.33333333333333,
           83.33333333333333
          ],
          [
           0,
           0
          ],
          [
           26.666666666666668,
           26.666666666666668
          ],
          [
           0,
           0
          ],
          [
           33.333333333333336,
           33.333333333333336
          ],
          [
           83.33333333333333,
           83.33333333333333
          ],
          [
           30,
           30
          ],
          [
           0,
           0
          ],
          [
           50,
           50
          ],
          [
           0,
           0
          ],
          [
           0,
           0
          ],
          [
           0,
           0
          ],
          [
           0,
           0
          ],
          [
           0,
           0
          ],
          [
           23.333333333333332,
           23.333333333333332
          ],
          [
           0,
           0
          ],
          [
           0,
           0
          ],
          [
           0,
           0
          ],
          [
           0,
           0
          ],
          [
           0,
           0
          ]
         ]
        },
        {
         "marker": {
          "color": "rgb(221, 204, 119)"
         },
         "name": "Minenfeld",
         "type": "bar",
         "x": [
          "Fflopse",
          "ReichesBrot",
          "Gobo9",
          "cediiiiii_10",
          "PedroZockt",
          "HerrDante",
          "Ex4cted",
          "_n3d",
          "JOW23",
          "Freeeedom",
          "yiiq",
          "lizsyy",
          "CML_Justin",
          "Umgfoin",
          "2wc",
          "DarkCobweb",
          "yzvm",
          "Ninivee",
          "camman18YT",
          "KakaMC"
         ],
         "y": [
          [
           33.333333333333336,
           33.333333333333336
          ],
          [
           23.333333333333332,
           23.333333333333332
          ],
          [
           13.333333333333334,
           13.333333333333334
          ],
          [
           10,
           10
          ],
          [
           0,
           0
          ],
          [
           40,
           40
          ],
          [
           10,
           10
          ],
          [
           26.666666666666668,
           26.666666666666668
          ],
          [
           0,
           0
          ],
          [
           0,
           0
          ],
          [
           0,
           0
          ],
          [
           0,
           0
          ],
          [
           0,
           0
          ],
          [
           0,
           0
          ],
          [
           0,
           0
          ],
          [
           0,
           0
          ],
          [
           0,
           0
          ],
          [
           20,
           20
          ],
          [
           0,
           0
          ],
          [
           0,
           0
          ]
         ]
        },
        {
         "marker": {
          "color": "rgb(17, 119, 51)"
         },
         "name": "Minengefecht",
         "type": "bar",
         "x": [
          "Fflopse",
          "ReichesBrot",
          "Gobo9",
          "cediiiiii_10",
          "PedroZockt",
          "HerrDante",
          "Ex4cted",
          "_n3d",
          "JOW23",
          "Freeeedom",
          "yiiq",
          "lizsyy",
          "CML_Justin",
          "Umgfoin",
          "2wc",
          "DarkCobweb",
          "yzvm",
          "Ninivee",
          "camman18YT",
          "KakaMC"
         ],
         "y": [
          [
           12.5,
           12.5
          ],
          [
           22.5,
           22.5
          ],
          [
           30,
           30
          ],
          [
           75,
           75
          ],
          [
           0,
           0
          ],
          [
           10,
           10
          ],
          [
           0,
           0
          ],
          [
           20,
           20
          ],
          [
           45,
           45
          ],
          [
           10,
           10
          ],
          [
           50,
           50
          ],
          [
           0,
           0
          ],
          [
           10,
           10
          ],
          [
           0,
           0
          ],
          [
           22.5,
           22.5
          ],
          [
           60,
           60
          ],
          [
           35,
           35
          ],
          [
           0,
           0
          ],
          [
           0,
           0
          ],
          [
           0,
           0
          ]
         ]
        },
        {
         "marker": {
          "color": "rgb(51, 34, 136)"
         },
         "name": "Mini Skywars",
         "type": "bar",
         "x": [
          "Fflopse",
          "ReichesBrot",
          "Gobo9",
          "cediiiiii_10",
          "PedroZockt",
          "HerrDante",
          "Ex4cted",
          "_n3d",
          "JOW23",
          "Freeeedom",
          "yiiq",
          "lizsyy",
          "CML_Justin",
          "Umgfoin",
          "2wc",
          "DarkCobweb",
          "yzvm",
          "Ninivee",
          "camman18YT",
          "KakaMC"
         ],
         "y": [
          [
           24,
           24
          ],
          [
           20,
           20
          ],
          [
           76,
           76
          ],
          [
           48,
           48
          ],
          [
           26,
           26
          ],
          [
           0,
           0
          ],
          [
           12,
           12
          ],
          [
           20,
           20
          ],
          [
           20,
           20
          ],
          [
           22,
           22
          ],
          [
           10,
           10
          ],
          [
           0,
           0
          ],
          [
           18,
           18
          ],
          [
           18,
           18
          ],
          [
           34,
           34
          ],
          [
           32,
           32
          ],
          [
           0,
           0
          ],
          [
           8,
           8
          ],
          [
           8,
           8
          ],
          [
           20,
           20
          ]
         ]
        },
        {
         "marker": {
          "color": "rgb(170, 68, 153)"
         },
         "name": "Mini Survivalgames",
         "type": "bar",
         "x": [
          "Fflopse",
          "ReichesBrot",
          "Gobo9",
          "cediiiiii_10",
          "PedroZockt",
          "HerrDante",
          "Ex4cted",
          "_n3d",
          "JOW23",
          "Freeeedom",
          "yiiq",
          "lizsyy",
          "CML_Justin",
          "Umgfoin",
          "2wc",
          "DarkCobweb",
          "yzvm",
          "Ninivee",
          "camman18YT",
          "KakaMC"
         ],
         "y": [
          [
           30,
           30
          ],
          [
           26.666666666666668,
           26.666666666666668
          ],
          [
           26.666666666666668,
           26.666666666666668
          ],
          [
           26.666666666666668,
           26.666666666666668
          ],
          [
           0,
           0
          ],
          [
           13.333333333333334,
           13.333333333333334
          ],
          [
           0,
           0
          ],
          [
           0,
           0
          ],
          [
           26.666666666666668,
           26.666666666666668
          ],
          [
           0,
           0
          ],
          [
           0,
           0
          ],
          [
           0,
           0
          ],
          [
           0,
           0
          ],
          [
           26.666666666666668,
           26.666666666666668
          ],
          [
           26.666666666666668,
           26.666666666666668
          ],
          [
           10,
           10
          ],
          [
           0,
           0
          ],
          [
           36.666666666666664,
           36.666666666666664
          ],
          [
           56.666666666666664,
           56.666666666666664
          ],
          [
           0,
           0
          ]
         ]
        },
        {
         "marker": {
          "color": "rgb(68, 170, 153)"
         },
         "name": "Paintball",
         "type": "bar",
         "x": [
          "Fflopse",
          "ReichesBrot",
          "Gobo9",
          "cediiiiii_10",
          "PedroZockt",
          "HerrDante",
          "Ex4cted",
          "_n3d",
          "JOW23",
          "Freeeedom",
          "yiiq",
          "lizsyy",
          "CML_Justin",
          "Umgfoin",
          "2wc",
          "DarkCobweb",
          "yzvm",
          "Ninivee",
          "camman18YT",
          "KakaMC"
         ],
         "y": [
          [
           73.33333333333333,
           73.33333333333333
          ],
          [
           86.66666666666667,
           86.66666666666667
          ],
          [
           0,
           0
          ],
          [
           0,
           0
          ],
          [
           50,
           50
          ],
          [
           40,
           40
          ],
          [
           0,
           0
          ],
          [
           6.666666666666667,
           6.666666666666667
          ],
          [
           0,
           0
          ],
          [
           23.333333333333332,
           23.333333333333332
          ],
          [
           23.333333333333332,
           23.333333333333332
          ],
          [
           0,
           0
          ],
          [
           0,
           0
          ],
          [
           0,
           0
          ],
          [
           33.333333333333336,
           33.333333333333336
          ],
          [
           16.666666666666668,
           16.666666666666668
          ],
          [
           20,
           20
          ],
          [
           0,
           0
          ],
          [
           0,
           0
          ],
          [
           0,
           0
          ]
         ]
        },
        {
         "marker": {
          "color": "rgb(153, 153, 51)"
         },
         "name": "Pferderennen",
         "type": "bar",
         "x": [
          "Fflopse",
          "ReichesBrot",
          "Gobo9",
          "cediiiiii_10",
          "PedroZockt",
          "HerrDante",
          "Ex4cted",
          "_n3d",
          "JOW23",
          "Freeeedom",
          "yiiq",
          "lizsyy",
          "CML_Justin",
          "Umgfoin",
          "2wc",
          "DarkCobweb",
          "yzvm",
          "Ninivee",
          "camman18YT",
          "KakaMC"
         ],
         "y": [
          [
           90,
           90
          ],
          [
           68.33333333333333,
           68.33333333333333
          ],
          [
           65,
           65
          ],
          [
           71.66666666666667,
           71.66666666666667
          ],
          [
           40,
           40
          ],
          [
           6.666666666666667,
           6.666666666666667
          ],
          [
           0,
           0
          ],
          [
           0,
           0
          ],
          [
           0,
           0
          ],
          [
           10,
           10
          ],
          [
           41.666666666666664,
           41.666666666666664
          ],
          [
           26.666666666666668,
           26.666666666666668
          ],
          [
           0,
           0
          ],
          [
           6.666666666666667,
           6.666666666666667
          ],
          [
           0,
           0
          ],
          [
           0,
           0
          ],
          [
           13.333333333333334,
           13.333333333333334
          ],
          [
           0,
           0
          ],
          [
           0,
           0
          ],
          [
           0,
           0
          ]
         ]
        },
        {
         "marker": {
          "color": "rgb(136, 34, 85)"
         },
         "name": "Replika",
         "type": "bar",
         "x": [
          "Fflopse",
          "ReichesBrot",
          "Gobo9",
          "cediiiiii_10",
          "PedroZockt",
          "HerrDante",
          "Ex4cted",
          "_n3d",
          "JOW23",
          "Freeeedom",
          "yiiq",
          "lizsyy",
          "CML_Justin",
          "Umgfoin",
          "2wc",
          "DarkCobweb",
          "yzvm",
          "Ninivee",
          "camman18YT",
          "KakaMC"
         ],
         "y": [
          [
           54.1747572815534,
           54.1747572815534
          ],
          [
           13.106796116504855,
           13.106796116504855
          ],
          [
           90.87378640776699,
           90.87378640776699
          ],
          [
           49.90291262135922,
           49.90291262135922
          ],
          [
           55.43689320388349,
           55.43689320388349
          ],
          [
           7.864077669902913,
           7.864077669902913
          ],
          [
           41.650485436893206,
           41.650485436893206
          ],
          [
           5.922330097087379,
           5.922330097087379
          ],
          [
           2.5242718446601944,
           2.5242718446601944
          ],
          [
           3.9805825242718447,
           3.9805825242718447
          ],
          [
           27.475728155339805,
           27.475728155339805
          ],
          [
           16.699029126213592,
           16.699029126213592
          ],
          [
           4.174757281553398,
           4.174757281553398
          ],
          [
           0,
           0
          ],
          [
           2.4271844660194173,
           2.4271844660194173
          ],
          [
           1.6504854368932038,
           1.6504854368932038
          ],
          [
           0,
           0
          ],
          [
           0,
           0
          ],
          [
           4.854368932038835,
           4.854368932038835
          ],
          [
           30.87378640776699,
           30.87378640776699
          ]
         ]
        },
        {
         "marker": {
          "color": "rgb(102, 17, 0)"
         },
         "name": "Sammelwahn",
         "type": "bar",
         "x": [
          "Fflopse",
          "ReichesBrot",
          "Gobo9",
          "cediiiiii_10",
          "PedroZockt",
          "HerrDante",
          "Ex4cted",
          "_n3d",
          "JOW23",
          "Freeeedom",
          "yiiq",
          "lizsyy",
          "CML_Justin",
          "Umgfoin",
          "2wc",
          "DarkCobweb",
          "yzvm",
          "Ninivee",
          "camman18YT",
          "KakaMC"
         ],
         "y": [
          [
           18.837209302325583,
           18.837209302325583
          ],
          [
           2.7906976744186047,
           2.7906976744186047
          ],
          [
           28.837209302325583,
           28.837209302325583
          ],
          [
           29.767441860465116,
           29.767441860465116
          ],
          [
           12.790697674418604,
           12.790697674418604
          ],
          [
           6.976744186046512,
           6.976744186046512
          ],
          [
           14.186046511627907,
           14.186046511627907
          ],
          [
           6.976744186046512,
           6.976744186046512
          ],
          [
           2.3255813953488373,
           2.3255813953488373
          ],
          [
           2.7906976744186047,
           2.7906976744186047
          ],
          [
           0,
           0
          ],
          [
           3.953488372093023,
           3.953488372093023
          ],
          [
           3.7209302325581395,
           3.7209302325581395
          ],
          [
           5.116279069767442,
           5.116279069767442
          ],
          [
           0,
           0
          ],
          [
           3.7209302325581395,
           3.7209302325581395
          ],
          [
           3.0232558139534884,
           3.0232558139534884
          ],
          [
           1.627906976744186,
           1.627906976744186
          ],
          [
           5.116279069767442,
           5.116279069767442
          ],
          [
           9.534883720930232,
           9.534883720930232
          ]
         ]
        },
        {
         "marker": {
          "color": "rgb(136, 136, 136)"
         },
         "name": "Schießstand",
         "type": "bar",
         "x": [
          "Fflopse",
          "ReichesBrot",
          "Gobo9",
          "cediiiiii_10",
          "PedroZockt",
          "HerrDante",
          "Ex4cted",
          "_n3d",
          "JOW23",
          "Freeeedom",
          "yiiq",
          "lizsyy",
          "CML_Justin",
          "Umgfoin",
          "2wc",
          "DarkCobweb",
          "yzvm",
          "Ninivee",
          "camman18YT",
          "KakaMC"
         ],
         "y": [
          [
           96.66666666666667,
           96.66666666666667
          ],
          [
           10,
           10
          ],
          [
           50,
           50
          ],
          [
           40,
           40
          ],
          [
           0,
           0
          ],
          [
           66.66666666666667,
           66.66666666666667
          ],
          [
           90,
           90
          ],
          [
           26.666666666666668,
           26.666666666666668
          ],
          [
           10,
           10
          ],
          [
           0,
           0
          ],
          [
           0,
           0
          ],
          [
           33.333333333333336,
           33.333333333333336
          ],
          [
           0,
           0
          ],
          [
           0,
           0
          ],
          [
           0,
           0
          ],
          [
           0,
           0
          ],
          [
           0,
           0
          ],
          [
           0,
           0
          ],
          [
           0,
           0
          ],
          [
           0,
           0
          ]
         ]
        },
        {
         "marker": {
          "color": "rgb(136, 204, 238)"
         },
         "name": "Spleef",
         "type": "bar",
         "x": [
          "Fflopse",
          "ReichesBrot",
          "Gobo9",
          "cediiiiii_10",
          "PedroZockt",
          "HerrDante",
          "Ex4cted",
          "_n3d",
          "JOW23",
          "Freeeedom",
          "yiiq",
          "lizsyy",
          "CML_Justin",
          "Umgfoin",
          "2wc",
          "DarkCobweb",
          "yzvm",
          "Ninivee",
          "camman18YT",
          "KakaMC"
         ],
         "y": [
          [
           50,
           50
          ],
          [
           75,
           75
          ],
          [
           50,
           50
          ],
          [
           70,
           70
          ],
          [
           50,
           50
          ],
          [
           20,
           20
          ],
          [
           20,
           20
          ],
          [
           40,
           40
          ],
          [
           40,
           40
          ],
          [
           0,
           0
          ],
          [
           20,
           20
          ],
          [
           30,
           30
          ],
          [
           30,
           30
          ],
          [
           65,
           65
          ],
          [
           0,
           0
          ],
          [
           20,
           20
          ],
          [
           0,
           0
          ],
          [
           0,
           0
          ],
          [
           0,
           0
          ],
          [
           0,
           0
          ]
         ]
        },
        {
         "marker": {
          "color": "rgb(204, 102, 119)"
         },
         "name": "Todeswürfel",
         "type": "bar",
         "x": [
          "Fflopse",
          "ReichesBrot",
          "Gobo9",
          "cediiiiii_10",
          "PedroZockt",
          "HerrDante",
          "Ex4cted",
          "_n3d",
          "JOW23",
          "Freeeedom",
          "yiiq",
          "lizsyy",
          "CML_Justin",
          "Umgfoin",
          "2wc",
          "DarkCobweb",
          "yzvm",
          "Ninivee",
          "camman18YT",
          "KakaMC"
         ],
         "y": [
          [
           60,
           60
          ],
          [
           0,
           0
          ],
          [
           0,
           0
          ],
          [
           0,
           0
          ],
          [
           50,
           50
          ],
          [
           90,
           90
          ],
          [
           0,
           0
          ],
          [
           0,
           0
          ],
          [
           0,
           0
          ],
          [
           0,
           0
          ],
          [
           0,
           0
          ],
          [
           0,
           0
          ],
          [
           20,
           20
          ],
          [
           0,
           0
          ],
          [
           0,
           0
          ],
          [
           0,
           0
          ],
          [
           0,
           0
          ],
          [
           0,
           0
          ],
          [
           40,
           40
          ],
          [
           30,
           30
          ]
         ]
        },
        {
         "marker": {
          "color": "rgb(221, 204, 119)"
         },
         "name": "Waffenfolge",
         "type": "bar",
         "x": [
          "Fflopse",
          "ReichesBrot",
          "Gobo9",
          "cediiiiii_10",
          "PedroZockt",
          "HerrDante",
          "Ex4cted",
          "_n3d",
          "JOW23",
          "Freeeedom",
          "yiiq",
          "lizsyy",
          "CML_Justin",
          "Umgfoin",
          "2wc",
          "DarkCobweb",
          "yzvm",
          "Ninivee",
          "camman18YT",
          "KakaMC"
         ],
         "y": [
          [
           30,
           30
          ],
          [
           50,
           50
          ],
          [
           0,
           0
          ],
          [
           70,
           70
          ],
          [
           60,
           60
          ],
          [
           0,
           0
          ],
          [
           0,
           0
          ],
          [
           0,
           0
          ],
          [
           100,
           100
          ],
          [
           0,
           0
          ],
          [
           0,
           0
          ],
          [
           0,
           0
          ],
          [
           0,
           0
          ],
          [
           0,
           0
          ],
          [
           0,
           0
          ],
          [
           0,
           0
          ],
          [
           90,
           90
          ],
          [
           0,
           0
          ],
          [
           0,
           0
          ],
          [
           0,
           0
          ]
         ]
        },
        {
         "marker": {
          "color": "rgb(17, 119, 51)"
         },
         "name": "Walls",
         "type": "bar",
         "x": [
          "Fflopse",
          "ReichesBrot",
          "Gobo9",
          "cediiiiii_10",
          "PedroZockt",
          "HerrDante",
          "Ex4cted",
          "_n3d",
          "JOW23",
          "Freeeedom",
          "yiiq",
          "lizsyy",
          "CML_Justin",
          "Umgfoin",
          "2wc",
          "DarkCobweb",
          "yzvm",
          "Ninivee",
          "camman18YT",
          "KakaMC"
         ],
         "y": [
          [
           33.333333333333336,
           33.333333333333336
          ],
          [
           13.333333333333334,
           13.333333333333334
          ],
          [
           33.333333333333336,
           33.333333333333336
          ],
          [
           86.66666666666667,
           86.66666666666667
          ],
          [
           56.666666666666664,
           56.666666666666664
          ],
          [
           0,
           0
          ],
          [
           0,
           0
          ],
          [
           33.333333333333336,
           33.333333333333336
          ],
          [
           30,
           30
          ],
          [
           0,
           0
          ],
          [
           20,
           20
          ],
          [
           0,
           0
          ],
          [
           0,
           0
          ],
          [
           0,
           0
          ],
          [
           20,
           20
          ],
          [
           63.333333333333336,
           63.333333333333336
          ],
          [
           13.333333333333334,
           13.333333333333334
          ],
          [
           20,
           20
          ],
          [
           53.333333333333336,
           53.333333333333336
          ],
          [
           30,
           30
          ]
         ]
        },
        {
         "marker": {
          "color": "rgb(51, 34, 136)"
         },
         "name": "Wettrennen",
         "type": "bar",
         "x": [
          "Fflopse",
          "ReichesBrot",
          "Gobo9",
          "cediiiiii_10",
          "PedroZockt",
          "HerrDante",
          "Ex4cted",
          "_n3d",
          "JOW23",
          "Freeeedom",
          "yiiq",
          "lizsyy",
          "CML_Justin",
          "Umgfoin",
          "2wc",
          "DarkCobweb",
          "yzvm",
          "Ninivee",
          "camman18YT",
          "KakaMC"
         ],
         "y": [
          [
           82,
           82
          ],
          [
           62,
           62
          ],
          [
           74,
           74
          ],
          [
           40,
           40
          ],
          [
           10,
           10
          ],
          [
           14,
           14
          ],
          [
           0,
           0
          ],
          [
           4,
           4
          ],
          [
           0,
           0
          ],
          [
           0,
           0
          ],
          [
           40,
           40
          ],
          [
           14,
           14
          ],
          [
           0,
           0
          ],
          [
           0,
           0
          ],
          [
           8,
           8
          ],
          [
           0,
           0
          ],
          [
           10,
           10
          ],
          [
           0,
           0
          ],
          [
           0,
           0
          ],
          [
           0,
           0
          ]
         ]
        }
       ],
       "layout": {
        "annotations": [
         {
          "font": {
           "size": 12
          },
          "showarrow": false,
          "text": "Max 100 points per minigame. Records #1 through #10 are considered (#1: 100, #2: 90, ..., #10: 10). If a minigame has multiple maps, the 100 points are distributed equally. fflopse.github.io/MCP-Records/data-analysis/global-ranking.ipynb",
          "x": 0.5,
          "xanchor": "center",
          "xref": "paper",
          "y": -0.235,
          "yref": "paper"
         }
        ],
        "barmode": "stack",
        "legend": {
         "bgcolor": "rgba(255, 255, 255, 0)",
         "bordercolor": "rgba(0, 0, 0, 0)",
         "font": {
          "size": 12
         },
         "traceorder": "normal",
         "x": 1.05,
         "y": 0.5
        },
        "margin": {
         "r": 200
        },
        "template": {
         "data": {
          "bar": [
           {
            "error_x": {
             "color": "#2a3f5f"
            },
            "error_y": {
             "color": "#2a3f5f"
            },
            "marker": {
             "line": {
              "color": "#E5ECF6",
              "width": 0.5
             },
             "pattern": {
              "fillmode": "overlay",
              "size": 10,
              "solidity": 0.2
             }
            },
            "type": "bar"
           }
          ],
          "barpolar": [
           {
            "marker": {
             "line": {
              "color": "#E5ECF6",
              "width": 0.5
             },
             "pattern": {
              "fillmode": "overlay",
              "size": 10,
              "solidity": 0.2
             }
            },
            "type": "barpolar"
           }
          ],
          "carpet": [
           {
            "aaxis": {
             "endlinecolor": "#2a3f5f",
             "gridcolor": "white",
             "linecolor": "white",
             "minorgridcolor": "white",
             "startlinecolor": "#2a3f5f"
            },
            "baxis": {
             "endlinecolor": "#2a3f5f",
             "gridcolor": "white",
             "linecolor": "white",
             "minorgridcolor": "white",
             "startlinecolor": "#2a3f5f"
            },
            "type": "carpet"
           }
          ],
          "choropleth": [
           {
            "colorbar": {
             "outlinewidth": 0,
             "ticks": ""
            },
            "type": "choropleth"
           }
          ],
          "contour": [
           {
            "colorbar": {
             "outlinewidth": 0,
             "ticks": ""
            },
            "colorscale": [
             [
              0,
              "#0d0887"
             ],
             [
              0.1111111111111111,
              "#46039f"
             ],
             [
              0.2222222222222222,
              "#7201a8"
             ],
             [
              0.3333333333333333,
              "#9c179e"
             ],
             [
              0.4444444444444444,
              "#bd3786"
             ],
             [
              0.5555555555555556,
              "#d8576b"
             ],
             [
              0.6666666666666666,
              "#ed7953"
             ],
             [
              0.7777777777777778,
              "#fb9f3a"
             ],
             [
              0.8888888888888888,
              "#fdca26"
             ],
             [
              1,
              "#f0f921"
             ]
            ],
            "type": "contour"
           }
          ],
          "contourcarpet": [
           {
            "colorbar": {
             "outlinewidth": 0,
             "ticks": ""
            },
            "type": "contourcarpet"
           }
          ],
          "heatmap": [
           {
            "colorbar": {
             "outlinewidth": 0,
             "ticks": ""
            },
            "colorscale": [
             [
              0,
              "#0d0887"
             ],
             [
              0.1111111111111111,
              "#46039f"
             ],
             [
              0.2222222222222222,
              "#7201a8"
             ],
             [
              0.3333333333333333,
              "#9c179e"
             ],
             [
              0.4444444444444444,
              "#bd3786"
             ],
             [
              0.5555555555555556,
              "#d8576b"
             ],
             [
              0.6666666666666666,
              "#ed7953"
             ],
             [
              0.7777777777777778,
              "#fb9f3a"
             ],
             [
              0.8888888888888888,
              "#fdca26"
             ],
             [
              1,
              "#f0f921"
             ]
            ],
            "type": "heatmap"
           }
          ],
          "heatmapgl": [
           {
            "colorbar": {
             "outlinewidth": 0,
             "ticks": ""
            },
            "colorscale": [
             [
              0,
              "#0d0887"
             ],
             [
              0.1111111111111111,
              "#46039f"
             ],
             [
              0.2222222222222222,
              "#7201a8"
             ],
             [
              0.3333333333333333,
              "#9c179e"
             ],
             [
              0.4444444444444444,
              "#bd3786"
             ],
             [
              0.5555555555555556,
              "#d8576b"
             ],
             [
              0.6666666666666666,
              "#ed7953"
             ],
             [
              0.7777777777777778,
              "#fb9f3a"
             ],
             [
              0.8888888888888888,
              "#fdca26"
             ],
             [
              1,
              "#f0f921"
             ]
            ],
            "type": "heatmapgl"
           }
          ],
          "histogram": [
           {
            "marker": {
             "pattern": {
              "fillmode": "overlay",
              "size": 10,
              "solidity": 0.2
             }
            },
            "type": "histogram"
           }
          ],
          "histogram2d": [
           {
            "colorbar": {
             "outlinewidth": 0,
             "ticks": ""
            },
            "colorscale": [
             [
              0,
              "#0d0887"
             ],
             [
              0.1111111111111111,
              "#46039f"
             ],
             [
              0.2222222222222222,
              "#7201a8"
             ],
             [
              0.3333333333333333,
              "#9c179e"
             ],
             [
              0.4444444444444444,
              "#bd3786"
             ],
             [
              0.5555555555555556,
              "#d8576b"
             ],
             [
              0.6666666666666666,
              "#ed7953"
             ],
             [
              0.7777777777777778,
              "#fb9f3a"
             ],
             [
              0.8888888888888888,
              "#fdca26"
             ],
             [
              1,
              "#f0f921"
             ]
            ],
            "type": "histogram2d"
           }
          ],
          "histogram2dcontour": [
           {
            "colorbar": {
             "outlinewidth": 0,
             "ticks": ""
            },
            "colorscale": [
             [
              0,
              "#0d0887"
             ],
             [
              0.1111111111111111,
              "#46039f"
             ],
             [
              0.2222222222222222,
              "#7201a8"
             ],
             [
              0.3333333333333333,
              "#9c179e"
             ],
             [
              0.4444444444444444,
              "#bd3786"
             ],
             [
              0.5555555555555556,
              "#d8576b"
             ],
             [
              0.6666666666666666,
              "#ed7953"
             ],
             [
              0.7777777777777778,
              "#fb9f3a"
             ],
             [
              0.8888888888888888,
              "#fdca26"
             ],
             [
              1,
              "#f0f921"
             ]
            ],
            "type": "histogram2dcontour"
           }
          ],
          "mesh3d": [
           {
            "colorbar": {
             "outlinewidth": 0,
             "ticks": ""
            },
            "type": "mesh3d"
           }
          ],
          "parcoords": [
           {
            "line": {
             "colorbar": {
              "outlinewidth": 0,
              "ticks": ""
             }
            },
            "type": "parcoords"
           }
          ],
          "pie": [
           {
            "automargin": true,
            "type": "pie"
           }
          ],
          "scatter": [
           {
            "fillpattern": {
             "fillmode": "overlay",
             "size": 10,
             "solidity": 0.2
            },
            "type": "scatter"
           }
          ],
          "scatter3d": [
           {
            "line": {
             "colorbar": {
              "outlinewidth": 0,
              "ticks": ""
             }
            },
            "marker": {
             "colorbar": {
              "outlinewidth": 0,
              "ticks": ""
             }
            },
            "type": "scatter3d"
           }
          ],
          "scattercarpet": [
           {
            "marker": {
             "colorbar": {
              "outlinewidth": 0,
              "ticks": ""
             }
            },
            "type": "scattercarpet"
           }
          ],
          "scattergeo": [
           {
            "marker": {
             "colorbar": {
              "outlinewidth": 0,
              "ticks": ""
             }
            },
            "type": "scattergeo"
           }
          ],
          "scattergl": [
           {
            "marker": {
             "colorbar": {
              "outlinewidth": 0,
              "ticks": ""
             }
            },
            "type": "scattergl"
           }
          ],
          "scattermapbox": [
           {
            "marker": {
             "colorbar": {
              "outlinewidth": 0,
              "ticks": ""
             }
            },
            "type": "scattermapbox"
           }
          ],
          "scatterpolar": [
           {
            "marker": {
             "colorbar": {
              "outlinewidth": 0,
              "ticks": ""
             }
            },
            "type": "scatterpolar"
           }
          ],
          "scatterpolargl": [
           {
            "marker": {
             "colorbar": {
              "outlinewidth": 0,
              "ticks": ""
             }
            },
            "type": "scatterpolargl"
           }
          ],
          "scatterternary": [
           {
            "marker": {
             "colorbar": {
              "outlinewidth": 0,
              "ticks": ""
             }
            },
            "type": "scatterternary"
           }
          ],
          "surface": [
           {
            "colorbar": {
             "outlinewidth": 0,
             "ticks": ""
            },
            "colorscale": [
             [
              0,
              "#0d0887"
             ],
             [
              0.1111111111111111,
              "#46039f"
             ],
             [
              0.2222222222222222,
              "#7201a8"
             ],
             [
              0.3333333333333333,
              "#9c179e"
             ],
             [
              0.4444444444444444,
              "#bd3786"
             ],
             [
              0.5555555555555556,
              "#d8576b"
             ],
             [
              0.6666666666666666,
              "#ed7953"
             ],
             [
              0.7777777777777778,
              "#fb9f3a"
             ],
             [
              0.8888888888888888,
              "#fdca26"
             ],
             [
              1,
              "#f0f921"
             ]
            ],
            "type": "surface"
           }
          ],
          "table": [
           {
            "cells": {
             "fill": {
              "color": "#EBF0F8"
             },
             "line": {
              "color": "white"
             }
            },
            "header": {
             "fill": {
              "color": "#C8D4E3"
             },
             "line": {
              "color": "white"
             }
            },
            "type": "table"
           }
          ]
         },
         "layout": {
          "annotationdefaults": {
           "arrowcolor": "#2a3f5f",
           "arrowhead": 0,
           "arrowwidth": 1
          },
          "autotypenumbers": "strict",
          "coloraxis": {
           "colorbar": {
            "outlinewidth": 0,
            "ticks": ""
           }
          },
          "colorscale": {
           "diverging": [
            [
             0,
             "#8e0152"
            ],
            [
             0.1,
             "#c51b7d"
            ],
            [
             0.2,
             "#de77ae"
            ],
            [
             0.3,
             "#f1b6da"
            ],
            [
             0.4,
             "#fde0ef"
            ],
            [
             0.5,
             "#f7f7f7"
            ],
            [
             0.6,
             "#e6f5d0"
            ],
            [
             0.7,
             "#b8e186"
            ],
            [
             0.8,
             "#7fbc41"
            ],
            [
             0.9,
             "#4d9221"
            ],
            [
             1,
             "#276419"
            ]
           ],
           "sequential": [
            [
             0,
             "#0d0887"
            ],
            [
             0.1111111111111111,
             "#46039f"
            ],
            [
             0.2222222222222222,
             "#7201a8"
            ],
            [
             0.3333333333333333,
             "#9c179e"
            ],
            [
             0.4444444444444444,
             "#bd3786"
            ],
            [
             0.5555555555555556,
             "#d8576b"
            ],
            [
             0.6666666666666666,
             "#ed7953"
            ],
            [
             0.7777777777777778,
             "#fb9f3a"
            ],
            [
             0.8888888888888888,
             "#fdca26"
            ],
            [
             1,
             "#f0f921"
            ]
           ],
           "sequentialminus": [
            [
             0,
             "#0d0887"
            ],
            [
             0.1111111111111111,
             "#46039f"
            ],
            [
             0.2222222222222222,
             "#7201a8"
            ],
            [
             0.3333333333333333,
             "#9c179e"
            ],
            [
             0.4444444444444444,
             "#bd3786"
            ],
            [
             0.5555555555555556,
             "#d8576b"
            ],
            [
             0.6666666666666666,
             "#ed7953"
            ],
            [
             0.7777777777777778,
             "#fb9f3a"
            ],
            [
             0.8888888888888888,
             "#fdca26"
            ],
            [
             1,
             "#f0f921"
            ]
           ]
          },
          "colorway": [
           "#636efa",
           "#EF553B",
           "#00cc96",
           "#ab63fa",
           "#FFA15A",
           "#19d3f3",
           "#FF6692",
           "#B6E880",
           "#FF97FF",
           "#FECB52"
          ],
          "font": {
           "color": "#2a3f5f"
          },
          "geo": {
           "bgcolor": "white",
           "lakecolor": "white",
           "landcolor": "#E5ECF6",
           "showlakes": true,
           "showland": true,
           "subunitcolor": "white"
          },
          "hoverlabel": {
           "align": "left"
          },
          "hovermode": "closest",
          "mapbox": {
           "style": "light"
          },
          "paper_bgcolor": "white",
          "plot_bgcolor": "#E5ECF6",
          "polar": {
           "angularaxis": {
            "gridcolor": "white",
            "linecolor": "white",
            "ticks": ""
           },
           "bgcolor": "#E5ECF6",
           "radialaxis": {
            "gridcolor": "white",
            "linecolor": "white",
            "ticks": ""
           }
          },
          "scene": {
           "xaxis": {
            "backgroundcolor": "#E5ECF6",
            "gridcolor": "white",
            "gridwidth": 2,
            "linecolor": "white",
            "showbackground": true,
            "ticks": "",
            "zerolinecolor": "white"
           },
           "yaxis": {
            "backgroundcolor": "#E5ECF6",
            "gridcolor": "white",
            "gridwidth": 2,
            "linecolor": "white",
            "showbackground": true,
            "ticks": "",
            "zerolinecolor": "white"
           },
           "zaxis": {
            "backgroundcolor": "#E5ECF6",
            "gridcolor": "white",
            "gridwidth": 2,
            "linecolor": "white",
            "showbackground": true,
            "ticks": "",
            "zerolinecolor": "white"
           }
          },
          "shapedefaults": {
           "line": {
            "color": "#2a3f5f"
           }
          },
          "ternary": {
           "aaxis": {
            "gridcolor": "white",
            "linecolor": "white",
            "ticks": ""
           },
           "baxis": {
            "gridcolor": "white",
            "linecolor": "white",
            "ticks": ""
           },
           "bgcolor": "#E5ECF6",
           "caxis": {
            "gridcolor": "white",
            "linecolor": "white",
            "ticks": ""
           }
          },
          "title": {
           "x": 0.05
          },
          "xaxis": {
           "automargin": true,
           "gridcolor": "white",
           "linecolor": "white",
           "ticks": "",
           "title": {
            "standoff": 15
           },
           "zerolinecolor": "white",
           "zerolinewidth": 2
          },
          "yaxis": {
           "automargin": true,
           "gridcolor": "white",
           "linecolor": "white",
           "ticks": "",
           "title": {
            "standoff": 15
           },
           "zerolinecolor": "white",
           "zerolinewidth": 2
          }
         }
        },
        "title": {
         "text": "Overall Record Comparison - Top 20 Players"
        },
        "xaxis": {
         "title": {
          "text": "Player"
         }
        },
        "yaxis": {
         "title": {
          "text": "Points"
         }
        }
       }
      }
     },
     "metadata": {},
     "output_type": "display_data"
    }
   ],
   "source": [
    "import plotly.graph_objects as go\n",
    "\n",
    "# Sum all columns to get the total score\n",
    "outDf['Total'] = outDf.sum(axis=1)\n",
    "\n",
    "# Sort by total score and fill N/A values with 0\n",
    "outDf = outDf.sort_values(by='Total', ascending=False).fillna(0)\n",
    "\n",
    "# Crop to top 10 players\n",
    "cropDf = outDf.head(20).copy()\n",
    "\n",
    "# Drop the 'Total' column for plotting\n",
    "cropDf = cropDf.drop(columns=['Total'])\n",
    "\n",
    "# Create a color palette\n",
    "color_palette = px.colors.qualitative.Safe\n",
    "\n",
    "# Create the stacked bar plot\n",
    "fig = go.Figure()\n",
    "\n",
    "for column in cropDf.columns.difference(['Player']):\n",
    "    fig.add_trace(go.Bar(\n",
    "        x=cropDf.index,\n",
    "        y=cropDf[column],\n",
    "        name=column,\n",
    "        marker_color=color_palette[len(fig.data) % len(color_palette)]\n",
    "    ))\n",
    "\n",
    "# Update layout\n",
    "fig.update_layout(\n",
    "    barmode='stack',\n",
    "    title='Overall Record Comparison - Top 20 Players',\n",
    "    xaxis=dict(title='Player'),\n",
    "    yaxis=dict(title='Points'),\n",
    "    #height=800,\n",
    "    #width=1000,\n",
    "    legend=dict(\n",
    "        x=1.05,\n",
    "        y=0.5,\n",
    "        traceorder='normal',\n",
    "        font=dict(size=12),\n",
    "        bgcolor='rgba(255, 255, 255, 0)',\n",
    "        bordercolor='rgba(0, 0, 0, 0)'\n",
    "    ),\n",
    "    margin=dict(r=200),  # Adjust right margin to make room for the legend\n",
    "    annotations=[\n",
    "        dict(\n",
    "            x=0.5,\n",
    "            y=-0.235,\n",
    "            xref='paper',\n",
    "            yref='paper',\n",
    "            text='Max 100 points per minigame. Records #1 through #10 are considered (#1: 100, #2: 90, ..., #10: 10). If a minigame has multiple maps, the 100 points are distributed equally. fflopse.github.io/MCP-Records/data-analysis/global-ranking.ipynb',\n",
    "            showarrow=False,\n",
    "            font=dict(size=12),\n",
    "            xanchor='center'\n",
    "        )\n",
    "    ]\n",
    ")\n",
    "\n",
    "fig.show()\n",
    "\n",
    "# save the plot as an html file\n",
    "\n",
    "fig.write_html('out/overall_record_comparison.html')"
   ]
  },
  {
   "cell_type": "code",
   "execution_count": 26,
   "metadata": {},
   "outputs": [
    {
     "data": {
      "application/vnd.plotly.v1+json": {
       "config": {
        "plotlyServerURL": "https://plot.ly"
       },
       "data": [
        {
         "marker": {
          "color": "rgb(136, 204, 238)"
         },
         "name": "Ampelrennen",
         "type": "bar",
         "x": [
          "Fflopse",
          "ReichesBrot",
          "Gobo9",
          "cediiiiii_10",
          "PedroZockt",
          "HerrDante",
          "Ex4cted",
          "_n3d",
          "JOW23",
          "Freeeedom",
          "yiiq",
          "lizsyy",
          "CML_Justin",
          "Umgfoin",
          "2wc",
          "DarkCobweb",
          "yzvm",
          "Ninivee",
          "camman18YT",
          "KakaMC",
          "Grapfen",
          "FrozenNoah",
          "ffawks",
          "Gerrygames",
          "toxicplace",
          "LeMetin_",
          "Sey__",
          "Pluto28",
          "MoZadaCraft",
          "miridis41",
          "2B9",
          "h4nnes",
          "Gummibearchen",
          "Sower_",
          "LeWi_100",
          "MaxMitMaulkorb",
          "Schmaarek",
          "unausgesprochen",
          "Davinci_Son",
          "Janne4k"
         ],
         "y": [
          [
           45,
           45
          ],
          [
           0,
           0
          ],
          [
           50,
           50
          ],
          [
           15,
           15
          ],
          [
           70,
           70
          ],
          [
           25,
           25
          ],
          [
           45,
           45
          ],
          [
           20,
           20
          ],
          [
           0,
           0
          ],
          [
           0,
           0
          ],
          [
           0,
           0
          ],
          [
           10,
           10
          ],
          [
           0,
           0
          ],
          [
           50,
           50
          ],
          [
           0,
           0
          ],
          [
           0,
           0
          ],
          [
           0,
           0
          ],
          [
           0,
           0
          ],
          [
           0,
           0
          ],
          [
           0,
           0
          ],
          [
           0,
           0
          ],
          [
           0,
           0
          ],
          [
           0,
           0
          ],
          [
           0,
           0
          ],
          [
           0,
           0
          ],
          [
           15,
           15
          ],
          [
           40,
           40
          ],
          [
           0,
           0
          ],
          [
           0,
           0
          ],
          [
           20,
           20
          ],
          [
           0,
           0
          ],
          [
           0,
           0
          ],
          [
           0,
           0
          ],
          [
           0,
           0
          ],
          [
           0,
           0
          ],
          [
           0,
           0
          ],
          [
           0,
           0
          ],
          [
           30,
           30
          ],
          [
           0,
           0
          ],
          [
           0,
           0
          ]
         ]
        },
        {
         "marker": {
          "color": "rgb(204, 102, 119)"
         },
         "name": "Blockhüpfer",
         "type": "bar",
         "x": [
          "Fflopse",
          "ReichesBrot",
          "Gobo9",
          "cediiiiii_10",
          "PedroZockt",
          "HerrDante",
          "Ex4cted",
          "_n3d",
          "JOW23",
          "Freeeedom",
          "yiiq",
          "lizsyy",
          "CML_Justin",
          "Umgfoin",
          "2wc",
          "DarkCobweb",
          "yzvm",
          "Ninivee",
          "camman18YT",
          "KakaMC",
          "Grapfen",
          "FrozenNoah",
          "ffawks",
          "Gerrygames",
          "toxicplace",
          "LeMetin_",
          "Sey__",
          "Pluto28",
          "MoZadaCraft",
          "miridis41",
          "2B9",
          "h4nnes",
          "Gummibearchen",
          "Sower_",
          "LeWi_100",
          "MaxMitMaulkorb",
          "Schmaarek",
          "unausgesprochen",
          "Davinci_Son",
          "Janne4k"
         ],
         "y": [
          [
           90,
           90
          ],
          [
           100,
           100
          ],
          [
           50,
           50
          ],
          [
           0,
           0
          ],
          [
           0,
           0
          ],
          [
           0,
           0
          ],
          [
           80,
           80
          ],
          [
           0,
           0
          ],
          [
           0,
           0
          ],
          [
           0,
           0
          ],
          [
           0,
           0
          ],
          [
           30,
           30
          ],
          [
           70,
           70
          ],
          [
           0,
           0
          ],
          [
           0,
           0
          ],
          [
           0,
           0
          ],
          [
           0,
           0
          ],
          [
           0,
           0
          ],
          [
           0,
           0
          ],
          [
           0,
           0
          ],
          [
           0,
           0
          ],
          [
           0,
           0
          ],
          [
           0,
           0
          ],
          [
           0,
           0
          ],
          [
           0,
           0
          ],
          [
           60,
           60
          ],
          [
           0,
           0
          ],
          [
           0,
           0
          ],
          [
           40,
           40
          ],
          [
           0,
           0
          ],
          [
           0,
           0
          ],
          [
           20,
           20
          ],
          [
           0,
           0
          ],
          [
           0,
           0
          ],
          [
           0,
           0
          ],
          [
           0,
           0
          ],
          [
           0,
           0
          ],
          [
           0,
           0
          ],
          [
           0,
           0
          ],
          [
           0,
           0
          ]
         ]
        },
        {
         "marker": {
          "color": "rgb(221, 204, 119)"
         },
         "name": "Buntes Chaos",
         "type": "bar",
         "x": [
          "Fflopse",
          "ReichesBrot",
          "Gobo9",
          "cediiiiii_10",
          "PedroZockt",
          "HerrDante",
          "Ex4cted",
          "_n3d",
          "JOW23",
          "Freeeedom",
          "yiiq",
          "lizsyy",
          "CML_Justin",
          "Umgfoin",
          "2wc",
          "DarkCobweb",
          "yzvm",
          "Ninivee",
          "camman18YT",
          "KakaMC",
          "Grapfen",
          "FrozenNoah",
          "ffawks",
          "Gerrygames",
          "toxicplace",
          "LeMetin_",
          "Sey__",
          "Pluto28",
          "MoZadaCraft",
          "miridis41",
          "2B9",
          "h4nnes",
          "Gummibearchen",
          "Sower_",
          "LeWi_100",
          "MaxMitMaulkorb",
          "Schmaarek",
          "unausgesprochen",
          "Davinci_Son",
          "Janne4k"
         ],
         "y": [
          [
           100,
           100
          ],
          [
           100,
           100
          ],
          [
           50,
           50
          ],
          [
           50,
           50
          ],
          [
           100,
           100
          ],
          [
           50,
           50
          ],
          [
           50,
           50
          ],
          [
           100,
           100
          ],
          [
           0,
           0
          ],
          [
           50,
           50
          ],
          [
           0,
           0
          ],
          [
           100,
           100
          ],
          [
           50,
           50
          ],
          [
           100,
           100
          ],
          [
           0,
           0
          ],
          [
           0,
           0
          ],
          [
           0,
           0
          ],
          [
           100,
           100
          ],
          [
           0,
           0
          ],
          [
           100,
           100
          ],
          [
           0,
           0
          ],
          [
           0,
           0
          ],
          [
           0,
           0
          ],
          [
           0,
           0
          ],
          [
           0,
           0
          ],
          [
           0,
           0
          ],
          [
           0,
           0
          ],
          [
           0,
           0
          ],
          [
           0,
           0
          ],
          [
           0,
           0
          ],
          [
           0,
           0
          ],
          [
           0,
           0
          ],
          [
           0,
           0
          ],
          [
           0,
           0
          ],
          [
           0,
           0
          ],
          [
           50,
           50
          ],
          [
           50,
           50
          ],
          [
           0,
           0
          ],
          [
           0,
           0
          ],
          [
           0,
           0
          ]
         ]
        },
        {
         "marker": {
          "color": "rgb(17, 119, 51)"
         },
         "name": "Drachenflucht",
         "type": "bar",
         "x": [
          "Fflopse",
          "ReichesBrot",
          "Gobo9",
          "cediiiiii_10",
          "PedroZockt",
          "HerrDante",
          "Ex4cted",
          "_n3d",
          "JOW23",
          "Freeeedom",
          "yiiq",
          "lizsyy",
          "CML_Justin",
          "Umgfoin",
          "2wc",
          "DarkCobweb",
          "yzvm",
          "Ninivee",
          "camman18YT",
          "KakaMC",
          "Grapfen",
          "FrozenNoah",
          "ffawks",
          "Gerrygames",
          "toxicplace",
          "LeMetin_",
          "Sey__",
          "Pluto28",
          "MoZadaCraft",
          "miridis41",
          "2B9",
          "h4nnes",
          "Gummibearchen",
          "Sower_",
          "LeWi_100",
          "MaxMitMaulkorb",
          "Schmaarek",
          "unausgesprochen",
          "Davinci_Son",
          "Janne4k"
         ],
         "y": [
          [
           0,
           0
          ],
          [
           0,
           0
          ],
          [
           0,
           0
          ],
          [
           0,
           0
          ],
          [
           33.333333333333336,
           33.333333333333336
          ],
          [
           0,
           0
          ],
          [
           0,
           0
          ],
          [
           0,
           0
          ],
          [
           0,
           0
          ],
          [
           0,
           0
          ],
          [
           0,
           0
          ],
          [
           33.333333333333336,
           33.333333333333336
          ],
          [
           0,
           0
          ],
          [
           0,
           0
          ],
          [
           0,
           0
          ],
          [
           0,
           0
          ],
          [
           0,
           0
          ],
          [
           0,
           0
          ],
          [
           0,
           0
          ],
          [
           0,
           0
          ],
          [
           0,
           0
          ],
          [
           0,
           0
          ],
          [
           0,
           0
          ],
          [
           0,
           0
          ],
          [
           0,
           0
          ],
          [
           0,
           0
          ],
          [
           0,
           0
          ],
          [
           0,
           0
          ],
          [
           0,
           0
          ],
          [
           0,
           0
          ],
          [
           0,
           0
          ],
          [
           0,
           0
          ],
          [
           30,
           30
          ],
          [
           0,
           0
          ],
          [
           0,
           0
          ],
          [
           0,
           0
          ],
          [
           0,
           0
          ],
          [
           0,
           0
          ],
          [
           0,
           0
          ],
          [
           0,
           0
          ]
         ]
        },
        {
         "marker": {
          "color": "rgb(51, 34, 136)"
         },
         "name": "Duelle",
         "type": "bar",
         "x": [
          "Fflopse",
          "ReichesBrot",
          "Gobo9",
          "cediiiiii_10",
          "PedroZockt",
          "HerrDante",
          "Ex4cted",
          "_n3d",
          "JOW23",
          "Freeeedom",
          "yiiq",
          "lizsyy",
          "CML_Justin",
          "Umgfoin",
          "2wc",
          "DarkCobweb",
          "yzvm",
          "Ninivee",
          "camman18YT",
          "KakaMC",
          "Grapfen",
          "FrozenNoah",
          "ffawks",
          "Gerrygames",
          "toxicplace",
          "LeMetin_",
          "Sey__",
          "Pluto28",
          "MoZadaCraft",
          "miridis41",
          "2B9",
          "h4nnes",
          "Gummibearchen",
          "Sower_",
          "LeWi_100",
          "MaxMitMaulkorb",
          "Schmaarek",
          "unausgesprochen",
          "Davinci_Son",
          "Janne4k"
         ],
         "y": [
          [
           0,
           0
          ],
          [
           0,
           0
          ],
          [
           0,
           0
          ],
          [
           60,
           60
          ],
          [
           0,
           0
          ],
          [
           0,
           0
          ],
          [
           0,
           0
          ],
          [
           0,
           0
          ],
          [
           0,
           0
          ],
          [
           0,
           0
          ],
          [
           0,
           0
          ],
          [
           0,
           0
          ],
          [
           0,
           0
          ],
          [
           0,
           0
          ],
          [
           60,
           60
          ],
          [
           60,
           60
          ],
          [
           60,
           60
          ],
          [
           0,
           0
          ],
          [
           0,
           0
          ],
          [
           0,
           0
          ],
          [
           0,
           0
          ],
          [
           0,
           0
          ],
          [
           0,
           0
          ],
          [
           0,
           0
          ],
          [
           100,
           100
          ],
          [
           0,
           0
          ],
          [
           0,
           0
          ],
          [
           0,
           0
          ],
          [
           0,
           0
          ],
          [
           70,
           70
          ],
          [
           80,
           80
          ],
          [
           0,
           0
          ],
          [
           0,
           0
          ],
          [
           0,
           0
          ],
          [
           0,
           0
          ],
          [
           0,
           0
          ],
          [
           0,
           0
          ],
          [
           0,
           0
          ],
          [
           0,
           0
          ],
          [
           0,
           0
          ]
         ]
        },
        {
         "marker": {
          "color": "rgb(170, 68, 153)"
         },
         "name": "Einer im Köcher",
         "type": "bar",
         "x": [
          "Fflopse",
          "ReichesBrot",
          "Gobo9",
          "cediiiiii_10",
          "PedroZockt",
          "HerrDante",
          "Ex4cted",
          "_n3d",
          "JOW23",
          "Freeeedom",
          "yiiq",
          "lizsyy",
          "CML_Justin",
          "Umgfoin",
          "2wc",
          "DarkCobweb",
          "yzvm",
          "Ninivee",
          "camman18YT",
          "KakaMC",
          "Grapfen",
          "FrozenNoah",
          "ffawks",
          "Gerrygames",
          "toxicplace",
          "LeMetin_",
          "Sey__",
          "Pluto28",
          "MoZadaCraft",
          "miridis41",
          "2B9",
          "h4nnes",
          "Gummibearchen",
          "Sower_",
          "LeWi_100",
          "MaxMitMaulkorb",
          "Schmaarek",
          "unausgesprochen",
          "Davinci_Son",
          "Janne4k"
         ],
         "y": [
          [
           83.33333333333333,
           83.33333333333333
          ],
          [
           13.333333333333334,
           13.333333333333334
          ],
          [
           20,
           20
          ],
          [
           36.666666666666664,
           36.666666666666664
          ],
          [
           0,
           0
          ],
          [
           83.33333333333333,
           83.33333333333333
          ],
          [
           0,
           0
          ],
          [
           10,
           10
          ],
          [
           13.333333333333334,
           13.333333333333334
          ],
          [
           33.333333333333336,
           33.333333333333336
          ],
          [
           0,
           0
          ],
          [
           0,
           0
          ],
          [
           0,
           0
          ],
          [
           0,
           0
          ],
          [
           0,
           0
          ],
          [
           0,
           0
          ],
          [
           0,
           0
          ],
          [
           0,
           0
          ],
          [
           0,
           0
          ],
          [
           0,
           0
          ],
          [
           0,
           0
          ],
          [
           73.33333333333333,
           73.33333333333333
          ],
          [
           0,
           0
          ],
          [
           0,
           0
          ],
          [
           0,
           0
          ],
          [
           0,
           0
          ],
          [
           0,
           0
          ],
          [
           0,
           0
          ],
          [
           0,
           0
          ],
          [
           0,
           0
          ],
          [
           0,
           0
          ],
          [
           53.333333333333336,
           53.333333333333336
          ],
          [
           0,
           0
          ],
          [
           0,
           0
          ],
          [
           0,
           0
          ],
          [
           0,
           0
          ],
          [
           0,
           0
          ],
          [
           0,
           0
          ],
          [
           0,
           0
          ],
          [
           0,
           0
          ]
         ]
        },
        {
         "marker": {
          "color": "rgb(68, 170, 153)"
         },
         "name": "Elytrarennen",
         "type": "bar",
         "x": [
          "Fflopse",
          "ReichesBrot",
          "Gobo9",
          "cediiiiii_10",
          "PedroZockt",
          "HerrDante",
          "Ex4cted",
          "_n3d",
          "JOW23",
          "Freeeedom",
          "yiiq",
          "lizsyy",
          "CML_Justin",
          "Umgfoin",
          "2wc",
          "DarkCobweb",
          "yzvm",
          "Ninivee",
          "camman18YT",
          "KakaMC",
          "Grapfen",
          "FrozenNoah",
          "ffawks",
          "Gerrygames",
          "toxicplace",
          "LeMetin_",
          "Sey__",
          "Pluto28",
          "MoZadaCraft",
          "miridis41",
          "2B9",
          "h4nnes",
          "Gummibearchen",
          "Sower_",
          "LeWi_100",
          "MaxMitMaulkorb",
          "Schmaarek",
          "unausgesprochen",
          "Davinci_Son",
          "Janne4k"
         ],
         "y": [
          [
           83.33333333333333,
           83.33333333333333
          ],
          [
           100,
           100
          ],
          [
           46.666666666666664,
           46.666666666666664
          ],
          [
           0,
           0
          ],
          [
           0,
           0
          ],
          [
           0,
           0
          ],
          [
           0,
           0
          ],
          [
           56.666666666666664,
           56.666666666666664
          ],
          [
           0,
           0
          ],
          [
           80,
           80
          ],
          [
           0,
           0
          ],
          [
           0,
           0
          ],
          [
           40,
           40
          ],
          [
           13.333333333333334,
           13.333333333333334
          ],
          [
           0,
           0
          ],
          [
           0,
           0
          ],
          [
           0,
           0
          ],
          [
           0,
           0
          ],
          [
           0,
           0
          ],
          [
           0,
           0
          ],
          [
           0,
           0
          ],
          [
           0,
           0
          ],
          [
           26.666666666666668,
           26.666666666666668
          ],
          [
           0,
           0
          ],
          [
           0,
           0
          ],
          [
           0,
           0
          ],
          [
           6.666666666666667,
           6.666666666666667
          ],
          [
           0,
           0
          ],
          [
           0,
           0
          ],
          [
           0,
           0
          ],
          [
           0,
           0
          ],
          [
           0,
           0
          ],
          [
           0,
           0
          ],
          [
           0,
           0
          ],
          [
           0,
           0
          ],
          [
           0,
           0
          ],
          [
           0,
           0
          ],
          [
           0,
           0
          ],
          [
           0,
           0
          ],
          [
           20,
           20
          ]
         ]
        },
        {
         "marker": {
          "color": "rgb(153, 153, 51)"
         },
         "name": "Freier Fall",
         "type": "bar",
         "x": [
          "Fflopse",
          "ReichesBrot",
          "Gobo9",
          "cediiiiii_10",
          "PedroZockt",
          "HerrDante",
          "Ex4cted",
          "_n3d",
          "JOW23",
          "Freeeedom",
          "yiiq",
          "lizsyy",
          "CML_Justin",
          "Umgfoin",
          "2wc",
          "DarkCobweb",
          "yzvm",
          "Ninivee",
          "camman18YT",
          "KakaMC",
          "Grapfen",
          "FrozenNoah",
          "ffawks",
          "Gerrygames",
          "toxicplace",
          "LeMetin_",
          "Sey__",
          "Pluto28",
          "MoZadaCraft",
          "miridis41",
          "2B9",
          "h4nnes",
          "Gummibearchen",
          "Sower_",
          "LeWi_100",
          "MaxMitMaulkorb",
          "Schmaarek",
          "unausgesprochen",
          "Davinci_Son",
          "Janne4k"
         ],
         "y": [
          [
           47.5,
           47.5
          ],
          [
           35,
           35
          ],
          [
           50,
           50
          ],
          [
           50,
           50
          ],
          [
           25,
           25
          ],
          [
           62.5,
           62.5
          ],
          [
           12.5,
           12.5
          ],
          [
           7.5,
           7.5
          ],
          [
           0,
           0
          ],
          [
           12.5,
           12.5
          ],
          [
           0,
           0
          ],
          [
           0,
           0
          ],
          [
           5,
           5
          ],
          [
           0,
           0
          ],
          [
           40,
           40
          ],
          [
           0,
           0
          ],
          [
           0,
           0
          ],
          [
           0,
           0
          ],
          [
           0,
           0
          ],
          [
           0,
           0
          ],
          [
           0,
           0
          ],
          [
           0,
           0
          ],
          [
           0,
           0
          ],
          [
           25,
           25
          ],
          [
           0,
           0
          ],
          [
           17.5,
           17.5
          ],
          [
           10,
           10
          ],
          [
           0,
           0
          ],
          [
           0,
           0
          ],
          [
           0,
           0
          ],
          [
           0,
           0
          ],
          [
           0,
           0
          ],
          [
           0,
           0
          ],
          [
           20,
           20
          ],
          [
           0,
           0
          ],
          [
           12.5,
           12.5
          ],
          [
           0,
           0
          ],
          [
           17.5,
           17.5
          ],
          [
           0,
           0
          ],
          [
           10,
           10
          ]
         ]
        },
        {
         "marker": {
          "color": "rgb(136, 34, 85)"
         },
         "name": "Frostiger Pfad",
         "type": "bar",
         "x": [
          "Fflopse",
          "ReichesBrot",
          "Gobo9",
          "cediiiiii_10",
          "PedroZockt",
          "HerrDante",
          "Ex4cted",
          "_n3d",
          "JOW23",
          "Freeeedom",
          "yiiq",
          "lizsyy",
          "CML_Justin",
          "Umgfoin",
          "2wc",
          "DarkCobweb",
          "yzvm",
          "Ninivee",
          "camman18YT",
          "KakaMC",
          "Grapfen",
          "FrozenNoah",
          "ffawks",
          "Gerrygames",
          "toxicplace",
          "LeMetin_",
          "Sey__",
          "Pluto28",
          "MoZadaCraft",
          "miridis41",
          "2B9",
          "h4nnes",
          "Gummibearchen",
          "Sower_",
          "LeWi_100",
          "MaxMitMaulkorb",
          "Schmaarek",
          "unausgesprochen",
          "Davinci_Son",
          "Janne4k"
         ],
         "y": [
          [
           0,
           0
          ],
          [
           90,
           90
          ],
          [
           100,
           100
          ],
          [
           0,
           0
          ],
          [
           0,
           0
          ],
          [
           0,
           0
          ],
          [
           0,
           0
          ],
          [
           20,
           20
          ],
          [
           0,
           0
          ],
          [
           80,
           80
          ],
          [
           0,
           0
          ],
          [
           0,
           0
          ],
          [
           0,
           0
          ],
          [
           0,
           0
          ],
          [
           0,
           0
          ],
          [
           0,
           0
          ],
          [
           0,
           0
          ],
          [
           60,
           60
          ],
          [
           0,
           0
          ],
          [
           0,
           0
          ],
          [
           0,
           0
          ],
          [
           0,
           0
          ],
          [
           0,
           0
          ],
          [
           0,
           0
          ],
          [
           0,
           0
          ],
          [
           0,
           0
          ],
          [
           0,
           0
          ],
          [
           70,
           70
          ],
          [
           0,
           0
          ],
          [
           0,
           0
          ],
          [
           0,
           0
          ],
          [
           0,
           0
          ],
          [
           0,
           0
          ],
          [
           0,
           0
          ],
          [
           0,
           0
          ],
          [
           0,
           0
          ],
          [
           0,
           0
          ],
          [
           0,
           0
          ],
          [
           0,
           0
          ],
          [
           40,
           40
          ]
         ]
        },
        {
         "marker": {
          "color": "rgb(102, 17, 0)"
         },
         "name": "Hoch hinaus",
         "type": "bar",
         "x": [
          "Fflopse",
          "ReichesBrot",
          "Gobo9",
          "cediiiiii_10",
          "PedroZockt",
          "HerrDante",
          "Ex4cted",
          "_n3d",
          "JOW23",
          "Freeeedom",
          "yiiq",
          "lizsyy",
          "CML_Justin",
          "Umgfoin",
          "2wc",
          "DarkCobweb",
          "yzvm",
          "Ninivee",
          "camman18YT",
          "KakaMC",
          "Grapfen",
          "FrozenNoah",
          "ffawks",
          "Gerrygames",
          "toxicplace",
          "LeMetin_",
          "Sey__",
          "Pluto28",
          "MoZadaCraft",
          "miridis41",
          "2B9",
          "h4nnes",
          "Gummibearchen",
          "Sower_",
          "LeWi_100",
          "MaxMitMaulkorb",
          "Schmaarek",
          "unausgesprochen",
          "Davinci_Son",
          "Janne4k"
         ],
         "y": [
          [
           80,
           80
          ],
          [
           60,
           60
          ],
          [
           70,
           70
          ],
          [
           0,
           0
          ],
          [
           90,
           90
          ],
          [
           0,
           0
          ],
          [
           20,
           20
          ],
          [
           0,
           0
          ],
          [
           50,
           50
          ],
          [
           0,
           0
          ],
          [
           0,
           0
          ],
          [
           0,
           0
          ],
          [
           40,
           40
          ],
          [
           0,
           0
          ],
          [
           0,
           0
          ],
          [
           0,
           0
          ],
          [
           0,
           0
          ],
          [
           0,
           0
          ],
          [
           0,
           0
          ],
          [
           0,
           0
          ],
          [
           0,
           0
          ],
          [
           0,
           0
          ],
          [
           0,
           0
          ],
          [
           0,
           0
          ],
          [
           0,
           0
          ],
          [
           0,
           0
          ],
          [
           0,
           0
          ],
          [
           0,
           0
          ],
          [
           0,
           0
          ],
          [
           0,
           0
          ],
          [
           0,
           0
          ],
          [
           0,
           0
          ],
          [
           0,
           0
          ],
          [
           0,
           0
          ],
          [
           0,
           0
          ],
          [
           0,
           0
          ],
          [
           0,
           0
          ],
          [
           0,
           0
          ],
          [
           0,
           0
          ],
          [
           0,
           0
          ]
         ]
        },
        {
         "marker": {
          "color": "rgb(136, 136, 136)"
         },
         "name": "Jump and Run",
         "type": "bar",
         "x": [
          "Fflopse",
          "ReichesBrot",
          "Gobo9",
          "cediiiiii_10",
          "PedroZockt",
          "HerrDante",
          "Ex4cted",
          "_n3d",
          "JOW23",
          "Freeeedom",
          "yiiq",
          "lizsyy",
          "CML_Justin",
          "Umgfoin",
          "2wc",
          "DarkCobweb",
          "yzvm",
          "Ninivee",
          "camman18YT",
          "KakaMC",
          "Grapfen",
          "FrozenNoah",
          "ffawks",
          "Gerrygames",
          "toxicplace",
          "LeMetin_",
          "Sey__",
          "Pluto28",
          "MoZadaCraft",
          "miridis41",
          "2B9",
          "h4nnes",
          "Gummibearchen",
          "Sower_",
          "LeWi_100",
          "MaxMitMaulkorb",
          "Schmaarek",
          "unausgesprochen",
          "Davinci_Son",
          "Janne4k"
         ],
         "y": [
          [
           53.333333333333336,
           53.333333333333336
          ],
          [
           93.33333333333333,
           93.33333333333333
          ],
          [
           93.33333333333333,
           93.33333333333333
          ],
          [
           20,
           20
          ],
          [
           33.333333333333336,
           33.333333333333336
          ],
          [
           23.333333333333332,
           23.333333333333332
          ],
          [
           0,
           0
          ],
          [
           0,
           0
          ],
          [
           0,
           0
          ],
          [
           0,
           0
          ],
          [
           0,
           0
          ],
          [
           13.333333333333334,
           13.333333333333334
          ],
          [
           0,
           0
          ],
          [
           0,
           0
          ],
          [
           13.333333333333334,
           13.333333333333334
          ],
          [
           0,
           0
          ],
          [
           0,
           0
          ],
          [
           0,
           0
          ],
          [
           33.333333333333336,
           33.333333333333336
          ],
          [
           10,
           10
          ],
          [
           0,
           0
          ],
          [
           0,
           0
          ],
          [
           0,
           0
          ],
          [
           0,
           0
          ],
          [
           40,
           40
          ],
          [
           0,
           0
          ],
          [
           40,
           40
          ],
          [
           0,
           0
          ],
          [
           0,
           0
          ],
          [
           0,
           0
          ],
          [
           0,
           0
          ],
          [
           0,
           0
          ],
          [
           0,
           0
          ],
          [
           0,
           0
          ],
          [
           40,
           40
          ],
          [
           0,
           0
          ],
          [
           0,
           0
          ],
          [
           0,
           0
          ],
          [
           0,
           0
          ],
          [
           0,
           0
          ]
         ]
        },
        {
         "marker": {
          "color": "rgb(136, 204, 238)"
         },
         "name": "Kletter-König",
         "type": "bar",
         "x": [
          "Fflopse",
          "ReichesBrot",
          "Gobo9",
          "cediiiiii_10",
          "PedroZockt",
          "HerrDante",
          "Ex4cted",
          "_n3d",
          "JOW23",
          "Freeeedom",
          "yiiq",
          "lizsyy",
          "CML_Justin",
          "Umgfoin",
          "2wc",
          "DarkCobweb",
          "yzvm",
          "Ninivee",
          "camman18YT",
          "KakaMC",
          "Grapfen",
          "FrozenNoah",
          "ffawks",
          "Gerrygames",
          "toxicplace",
          "LeMetin_",
          "Sey__",
          "Pluto28",
          "MoZadaCraft",
          "miridis41",
          "2B9",
          "h4nnes",
          "Gummibearchen",
          "Sower_",
          "LeWi_100",
          "MaxMitMaulkorb",
          "Schmaarek",
          "unausgesprochen",
          "Davinci_Son",
          "Janne4k"
         ],
         "y": [
          [
           85,
           85
          ],
          [
           100,
           100
          ],
          [
           30,
           30
          ],
          [
           0,
           0
          ],
          [
           10,
           10
          ],
          [
           20,
           20
          ],
          [
           0,
           0
          ],
          [
           0,
           0
          ],
          [
           0,
           0
          ],
          [
           0,
           0
          ],
          [
           80,
           80
          ],
          [
           0,
           0
          ],
          [
           0,
           0
          ],
          [
           0,
           0
          ],
          [
           0,
           0
          ],
          [
           0,
           0
          ],
          [
           20,
           20
          ],
          [
           0,
           0
          ],
          [
           40,
           40
          ],
          [
           0,
           0
          ],
          [
           0,
           0
          ],
          [
           0,
           0
          ],
          [
           15,
           15
          ],
          [
           0,
           0
          ],
          [
           0,
           0
          ],
          [
           0,
           0
          ],
          [
           0,
           0
          ],
          [
           0,
           0
          ],
          [
           0,
           0
          ],
          [
           0,
           0
          ],
          [
           0,
           0
          ],
          [
           0,
           0
          ],
          [
           0,
           0
          ],
          [
           0,
           0
          ],
          [
           35,
           35
          ],
          [
           0,
           0
          ],
          [
           0,
           0
          ],
          [
           0,
           0
          ],
          [
           0,
           0
          ],
          [
           0,
           0
          ]
         ]
        },
        {
         "marker": {
          "color": "rgb(204, 102, 119)"
         },
         "name": "Lasertag",
         "type": "bar",
         "x": [
          "Fflopse",
          "ReichesBrot",
          "Gobo9",
          "cediiiiii_10",
          "PedroZockt",
          "HerrDante",
          "Ex4cted",
          "_n3d",
          "JOW23",
          "Freeeedom",
          "yiiq",
          "lizsyy",
          "CML_Justin",
          "Umgfoin",
          "2wc",
          "DarkCobweb",
          "yzvm",
          "Ninivee",
          "camman18YT",
          "KakaMC",
          "Grapfen",
          "FrozenNoah",
          "ffawks",
          "Gerrygames",
          "toxicplace",
          "LeMetin_",
          "Sey__",
          "Pluto28",
          "MoZadaCraft",
          "miridis41",
          "2B9",
          "h4nnes",
          "Gummibearchen",
          "Sower_",
          "LeWi_100",
          "MaxMitMaulkorb",
          "Schmaarek",
          "unausgesprochen",
          "Davinci_Son",
          "Janne4k"
         ],
         "y": [
          [
           83.33333333333333,
           83.33333333333333
          ],
          [
           0,
           0
          ],
          [
           26.666666666666668,
           26.666666666666668
          ],
          [
           0,
           0
          ],
          [
           33.333333333333336,
           33.333333333333336
          ],
          [
           83.33333333333333,
           83.33333333333333
          ],
          [
           30,
           30
          ],
          [
           0,
           0
          ],
          [
           50,
           50
          ],
          [
           0,
           0
          ],
          [
           0,
           0
          ],
          [
           0,
           0
          ],
          [
           0,
           0
          ],
          [
           0,
           0
          ],
          [
           23.333333333333332,
           23.333333333333332
          ],
          [
           0,
           0
          ],
          [
           0,
           0
          ],
          [
           0,
           0
          ],
          [
           0,
           0
          ],
          [
           0,
           0
          ],
          [
           10,
           10
          ],
          [
           0,
           0
          ],
          [
           26.666666666666668,
           26.666666666666668
          ],
          [
           0,
           0
          ],
          [
           0,
           0
          ],
          [
           0,
           0
          ],
          [
           0,
           0
          ],
          [
           0,
           0
          ],
          [
           0,
           0
          ],
          [
           0,
           0
          ],
          [
           0,
           0
          ],
          [
           20,
           20
          ],
          [
           0,
           0
          ],
          [
           0,
           0
          ],
          [
           0,
           0
          ],
          [
           0,
           0
          ],
          [
           0,
           0
          ],
          [
           30,
           30
          ],
          [
           13.333333333333334,
           13.333333333333334
          ],
          [
           0,
           0
          ]
         ]
        },
        {
         "marker": {
          "color": "rgb(221, 204, 119)"
         },
         "name": "Minenfeld",
         "type": "bar",
         "x": [
          "Fflopse",
          "ReichesBrot",
          "Gobo9",
          "cediiiiii_10",
          "PedroZockt",
          "HerrDante",
          "Ex4cted",
          "_n3d",
          "JOW23",
          "Freeeedom",
          "yiiq",
          "lizsyy",
          "CML_Justin",
          "Umgfoin",
          "2wc",
          "DarkCobweb",
          "yzvm",
          "Ninivee",
          "camman18YT",
          "KakaMC",
          "Grapfen",
          "FrozenNoah",
          "ffawks",
          "Gerrygames",
          "toxicplace",
          "LeMetin_",
          "Sey__",
          "Pluto28",
          "MoZadaCraft",
          "miridis41",
          "2B9",
          "h4nnes",
          "Gummibearchen",
          "Sower_",
          "LeWi_100",
          "MaxMitMaulkorb",
          "Schmaarek",
          "unausgesprochen",
          "Davinci_Son",
          "Janne4k"
         ],
         "y": [
          [
           33.333333333333336,
           33.333333333333336
          ],
          [
           23.333333333333332,
           23.333333333333332
          ],
          [
           13.333333333333334,
           13.333333333333334
          ],
          [
           10,
           10
          ],
          [
           0,
           0
          ],
          [
           40,
           40
          ],
          [
           10,
           10
          ],
          [
           26.666666666666668,
           26.666666666666668
          ],
          [
           0,
           0
          ],
          [
           0,
           0
          ],
          [
           0,
           0
          ],
          [
           0,
           0
          ],
          [
           0,
           0
          ],
          [
           0,
           0
          ],
          [
           0,
           0
          ],
          [
           0,
           0
          ],
          [
           0,
           0
          ],
          [
           20,
           20
          ],
          [
           0,
           0
          ],
          [
           0,
           0
          ],
          [
           0,
           0
          ],
          [
           16.666666666666668,
           16.666666666666668
          ],
          [
           0,
           0
          ],
          [
           0,
           0
          ],
          [
           6.666666666666667,
           6.666666666666667
          ],
          [
           46.666666666666664,
           46.666666666666664
          ],
          [
           46.666666666666664,
           46.666666666666664
          ],
          [
           0,
           0
          ],
          [
           0,
           0
          ],
          [
           0,
           0
          ],
          [
           30,
           30
          ],
          [
           0,
           0
          ],
          [
           0,
           0
          ],
          [
           0,
           0
          ],
          [
           23.333333333333332,
           23.333333333333332
          ],
          [
           33.333333333333336,
           33.333333333333336
          ],
          [
           0,
           0
          ],
          [
           0,
           0
          ],
          [
           0,
           0
          ],
          [
           0,
           0
          ]
         ]
        },
        {
         "marker": {
          "color": "rgb(17, 119, 51)"
         },
         "name": "Minengefecht",
         "type": "bar",
         "x": [
          "Fflopse",
          "ReichesBrot",
          "Gobo9",
          "cediiiiii_10",
          "PedroZockt",
          "HerrDante",
          "Ex4cted",
          "_n3d",
          "JOW23",
          "Freeeedom",
          "yiiq",
          "lizsyy",
          "CML_Justin",
          "Umgfoin",
          "2wc",
          "DarkCobweb",
          "yzvm",
          "Ninivee",
          "camman18YT",
          "KakaMC",
          "Grapfen",
          "FrozenNoah",
          "ffawks",
          "Gerrygames",
          "toxicplace",
          "LeMetin_",
          "Sey__",
          "Pluto28",
          "MoZadaCraft",
          "miridis41",
          "2B9",
          "h4nnes",
          "Gummibearchen",
          "Sower_",
          "LeWi_100",
          "MaxMitMaulkorb",
          "Schmaarek",
          "unausgesprochen",
          "Davinci_Son",
          "Janne4k"
         ],
         "y": [
          [
           12.5,
           12.5
          ],
          [
           22.5,
           22.5
          ],
          [
           30,
           30
          ],
          [
           75,
           75
          ],
          [
           0,
           0
          ],
          [
           10,
           10
          ],
          [
           0,
           0
          ],
          [
           20,
           20
          ],
          [
           45,
           45
          ],
          [
           10,
           10
          ],
          [
           50,
           50
          ],
          [
           0,
           0
          ],
          [
           10,
           10
          ],
          [
           0,
           0
          ],
          [
           22.5,
           22.5
          ],
          [
           60,
           60
          ],
          [
           35,
           35
          ],
          [
           0,
           0
          ],
          [
           0,
           0
          ],
          [
           0,
           0
          ],
          [
           12.5,
           12.5
          ],
          [
           60,
           60
          ],
          [
           10,
           10
          ],
          [
           0,
           0
          ],
          [
           10,
           10
          ],
          [
           0,
           0
          ],
          [
           0,
           0
          ],
          [
           0,
           0
          ],
          [
           10,
           10
          ],
          [
           0,
           0
          ],
          [
           0,
           0
          ],
          [
           0,
           0
          ],
          [
           10,
           10
          ],
          [
           0,
           0
          ],
          [
           0,
           0
          ],
          [
           0,
           0
          ],
          [
           20,
           20
          ],
          [
           0,
           0
          ],
          [
           22.5,
           22.5
          ],
          [
           25,
           25
          ]
         ]
        },
        {
         "marker": {
          "color": "rgb(51, 34, 136)"
         },
         "name": "Mini Skywars",
         "type": "bar",
         "x": [
          "Fflopse",
          "ReichesBrot",
          "Gobo9",
          "cediiiiii_10",
          "PedroZockt",
          "HerrDante",
          "Ex4cted",
          "_n3d",
          "JOW23",
          "Freeeedom",
          "yiiq",
          "lizsyy",
          "CML_Justin",
          "Umgfoin",
          "2wc",
          "DarkCobweb",
          "yzvm",
          "Ninivee",
          "camman18YT",
          "KakaMC",
          "Grapfen",
          "FrozenNoah",
          "ffawks",
          "Gerrygames",
          "toxicplace",
          "LeMetin_",
          "Sey__",
          "Pluto28",
          "MoZadaCraft",
          "miridis41",
          "2B9",
          "h4nnes",
          "Gummibearchen",
          "Sower_",
          "LeWi_100",
          "MaxMitMaulkorb",
          "Schmaarek",
          "unausgesprochen",
          "Davinci_Son",
          "Janne4k"
         ],
         "y": [
          [
           24,
           24
          ],
          [
           20,
           20
          ],
          [
           76,
           76
          ],
          [
           48,
           48
          ],
          [
           26,
           26
          ],
          [
           0,
           0
          ],
          [
           12,
           12
          ],
          [
           20,
           20
          ],
          [
           20,
           20
          ],
          [
           22,
           22
          ],
          [
           10,
           10
          ],
          [
           0,
           0
          ],
          [
           18,
           18
          ],
          [
           18,
           18
          ],
          [
           34,
           34
          ],
          [
           32,
           32
          ],
          [
           0,
           0
          ],
          [
           8,
           8
          ],
          [
           8,
           8
          ],
          [
           20,
           20
          ],
          [
           28,
           28
          ],
          [
           20,
           20
          ],
          [
           0,
           0
          ],
          [
           0,
           0
          ],
          [
           0,
           0
          ],
          [
           0,
           0
          ],
          [
           0,
           0
          ],
          [
           0,
           0
          ],
          [
           0,
           0
          ],
          [
           0,
           0
          ],
          [
           0,
           0
          ],
          [
           0,
           0
          ],
          [
           10,
           10
          ],
          [
           0,
           0
          ],
          [
           0,
           0
          ],
          [
           0,
           0
          ],
          [
           8,
           8
          ],
          [
           16,
           16
          ],
          [
           0,
           0
          ],
          [
           0,
           0
          ]
         ]
        },
        {
         "marker": {
          "color": "rgb(170, 68, 153)"
         },
         "name": "Mini Survivalgames",
         "type": "bar",
         "x": [
          "Fflopse",
          "ReichesBrot",
          "Gobo9",
          "cediiiiii_10",
          "PedroZockt",
          "HerrDante",
          "Ex4cted",
          "_n3d",
          "JOW23",
          "Freeeedom",
          "yiiq",
          "lizsyy",
          "CML_Justin",
          "Umgfoin",
          "2wc",
          "DarkCobweb",
          "yzvm",
          "Ninivee",
          "camman18YT",
          "KakaMC",
          "Grapfen",
          "FrozenNoah",
          "ffawks",
          "Gerrygames",
          "toxicplace",
          "LeMetin_",
          "Sey__",
          "Pluto28",
          "MoZadaCraft",
          "miridis41",
          "2B9",
          "h4nnes",
          "Gummibearchen",
          "Sower_",
          "LeWi_100",
          "MaxMitMaulkorb",
          "Schmaarek",
          "unausgesprochen",
          "Davinci_Son",
          "Janne4k"
         ],
         "y": [
          [
           30,
           30
          ],
          [
           26.666666666666668,
           26.666666666666668
          ],
          [
           26.666666666666668,
           26.666666666666668
          ],
          [
           26.666666666666668,
           26.666666666666668
          ],
          [
           0,
           0
          ],
          [
           13.333333333333334,
           13.333333333333334
          ],
          [
           0,
           0
          ],
          [
           0,
           0
          ],
          [
           26.666666666666668,
           26.666666666666668
          ],
          [
           0,
           0
          ],
          [
           0,
           0
          ],
          [
           0,
           0
          ],
          [
           0,
           0
          ],
          [
           26.666666666666668,
           26.666666666666668
          ],
          [
           26.666666666666668,
           26.666666666666668
          ],
          [
           10,
           10
          ],
          [
           0,
           0
          ],
          [
           36.666666666666664,
           36.666666666666664
          ],
          [
           56.666666666666664,
           56.666666666666664
          ],
          [
           0,
           0
          ],
          [
           40,
           40
          ],
          [
           33.333333333333336,
           33.333333333333336
          ],
          [
           0,
           0
          ],
          [
           0,
           0
          ],
          [
           0,
           0
          ],
          [
           0,
           0
          ],
          [
           0,
           0
          ],
          [
           0,
           0
          ],
          [
           10,
           10
          ],
          [
           10,
           10
          ],
          [
           33.333333333333336,
           33.333333333333336
          ],
          [
           10,
           10
          ],
          [
           0,
           0
          ],
          [
           0,
           0
          ],
          [
           0,
           0
          ],
          [
           10,
           10
          ],
          [
           10,
           10
          ],
          [
           0,
           0
          ],
          [
           10,
           10
          ],
          [
           26.666666666666668,
           26.666666666666668
          ]
         ]
        },
        {
         "marker": {
          "color": "rgb(68, 170, 153)"
         },
         "name": "Paintball",
         "type": "bar",
         "x": [
          "Fflopse",
          "ReichesBrot",
          "Gobo9",
          "cediiiiii_10",
          "PedroZockt",
          "HerrDante",
          "Ex4cted",
          "_n3d",
          "JOW23",
          "Freeeedom",
          "yiiq",
          "lizsyy",
          "CML_Justin",
          "Umgfoin",
          "2wc",
          "DarkCobweb",
          "yzvm",
          "Ninivee",
          "camman18YT",
          "KakaMC",
          "Grapfen",
          "FrozenNoah",
          "ffawks",
          "Gerrygames",
          "toxicplace",
          "LeMetin_",
          "Sey__",
          "Pluto28",
          "MoZadaCraft",
          "miridis41",
          "2B9",
          "h4nnes",
          "Gummibearchen",
          "Sower_",
          "LeWi_100",
          "MaxMitMaulkorb",
          "Schmaarek",
          "unausgesprochen",
          "Davinci_Son",
          "Janne4k"
         ],
         "y": [
          [
           73.33333333333333,
           73.33333333333333
          ],
          [
           86.66666666666667,
           86.66666666666667
          ],
          [
           0,
           0
          ],
          [
           0,
           0
          ],
          [
           50,
           50
          ],
          [
           40,
           40
          ],
          [
           0,
           0
          ],
          [
           6.666666666666667,
           6.666666666666667
          ],
          [
           0,
           0
          ],
          [
           23.333333333333332,
           23.333333333333332
          ],
          [
           23.333333333333332,
           23.333333333333332
          ],
          [
           0,
           0
          ],
          [
           0,
           0
          ],
          [
           0,
           0
          ],
          [
           33.333333333333336,
           33.333333333333336
          ],
          [
           16.666666666666668,
           16.666666666666668
          ],
          [
           20,
           20
          ],
          [
           0,
           0
          ],
          [
           0,
           0
          ],
          [
           0,
           0
          ],
          [
           23.333333333333332,
           23.333333333333332
          ],
          [
           0,
           0
          ],
          [
           0,
           0
          ],
          [
           0,
           0
          ],
          [
           0,
           0
          ],
          [
           0,
           0
          ],
          [
           0,
           0
          ],
          [
           0,
           0
          ],
          [
           0,
           0
          ],
          [
           23.333333333333332,
           23.333333333333332
          ],
          [
           0,
           0
          ],
          [
           26.666666666666668,
           26.666666666666668
          ],
          [
           33.333333333333336,
           33.333333333333336
          ],
          [
           0,
           0
          ],
          [
           0,
           0
          ],
          [
           0,
           0
          ],
          [
           0,
           0
          ],
          [
           0,
           0
          ],
          [
           0,
           0
          ],
          [
           0,
           0
          ]
         ]
        },
        {
         "marker": {
          "color": "rgb(153, 153, 51)"
         },
         "name": "Pferderennen",
         "type": "bar",
         "x": [
          "Fflopse",
          "ReichesBrot",
          "Gobo9",
          "cediiiiii_10",
          "PedroZockt",
          "HerrDante",
          "Ex4cted",
          "_n3d",
          "JOW23",
          "Freeeedom",
          "yiiq",
          "lizsyy",
          "CML_Justin",
          "Umgfoin",
          "2wc",
          "DarkCobweb",
          "yzvm",
          "Ninivee",
          "camman18YT",
          "KakaMC",
          "Grapfen",
          "FrozenNoah",
          "ffawks",
          "Gerrygames",
          "toxicplace",
          "LeMetin_",
          "Sey__",
          "Pluto28",
          "MoZadaCraft",
          "miridis41",
          "2B9",
          "h4nnes",
          "Gummibearchen",
          "Sower_",
          "LeWi_100",
          "MaxMitMaulkorb",
          "Schmaarek",
          "unausgesprochen",
          "Davinci_Son",
          "Janne4k"
         ],
         "y": [
          [
           90,
           90
          ],
          [
           68.33333333333333,
           68.33333333333333
          ],
          [
           65,
           65
          ],
          [
           71.66666666666667,
           71.66666666666667
          ],
          [
           40,
           40
          ],
          [
           6.666666666666667,
           6.666666666666667
          ],
          [
           0,
           0
          ],
          [
           0,
           0
          ],
          [
           0,
           0
          ],
          [
           10,
           10
          ],
          [
           41.666666666666664,
           41.666666666666664
          ],
          [
           26.666666666666668,
           26.666666666666668
          ],
          [
           0,
           0
          ],
          [
           6.666666666666667,
           6.666666666666667
          ],
          [
           0,
           0
          ],
          [
           0,
           0
          ],
          [
           13.333333333333334,
           13.333333333333334
          ],
          [
           0,
           0
          ],
          [
           0,
           0
          ],
          [
           0,
           0
          ],
          [
           0,
           0
          ],
          [
           0,
           0
          ],
          [
           45,
           45
          ],
          [
           0,
           0
          ],
          [
           0,
           0
          ],
          [
           0,
           0
          ],
          [
           0,
           0
          ],
          [
           0,
           0
          ],
          [
           0,
           0
          ],
          [
           0,
           0
          ],
          [
           0,
           0
          ],
          [
           0,
           0
          ],
          [
           0,
           0
          ],
          [
           0,
           0
          ],
          [
           18.333333333333332,
           18.333333333333332
          ],
          [
           0,
           0
          ],
          [
           18.333333333333332,
           18.333333333333332
          ],
          [
           0,
           0
          ],
          [
           0,
           0
          ],
          [
           0,
           0
          ]
         ]
        },
        {
         "marker": {
          "color": "rgb(136, 34, 85)"
         },
         "name": "Replika",
         "type": "bar",
         "x": [
          "Fflopse",
          "ReichesBrot",
          "Gobo9",
          "cediiiiii_10",
          "PedroZockt",
          "HerrDante",
          "Ex4cted",
          "_n3d",
          "JOW23",
          "Freeeedom",
          "yiiq",
          "lizsyy",
          "CML_Justin",
          "Umgfoin",
          "2wc",
          "DarkCobweb",
          "yzvm",
          "Ninivee",
          "camman18YT",
          "KakaMC",
          "Grapfen",
          "FrozenNoah",
          "ffawks",
          "Gerrygames",
          "toxicplace",
          "LeMetin_",
          "Sey__",
          "Pluto28",
          "MoZadaCraft",
          "miridis41",
          "2B9",
          "h4nnes",
          "Gummibearchen",
          "Sower_",
          "LeWi_100",
          "MaxMitMaulkorb",
          "Schmaarek",
          "unausgesprochen",
          "Davinci_Son",
          "Janne4k"
         ],
         "y": [
          [
           54.1747572815534,
           54.1747572815534
          ],
          [
           13.106796116504855,
           13.106796116504855
          ],
          [
           90.87378640776699,
           90.87378640776699
          ],
          [
           49.90291262135922,
           49.90291262135922
          ],
          [
           55.43689320388349,
           55.43689320388349
          ],
          [
           7.864077669902913,
           7.864077669902913
          ],
          [
           41.650485436893206,
           41.650485436893206
          ],
          [
           5.922330097087379,
           5.922330097087379
          ],
          [
           2.5242718446601944,
           2.5242718446601944
          ],
          [
           3.9805825242718447,
           3.9805825242718447
          ],
          [
           27.475728155339805,
           27.475728155339805
          ],
          [
           16.699029126213592,
           16.699029126213592
          ],
          [
           4.174757281553398,
           4.174757281553398
          ],
          [
           0,
           0
          ],
          [
           2.4271844660194173,
           2.4271844660194173
          ],
          [
           1.6504854368932038,
           1.6504854368932038
          ],
          [
           0,
           0
          ],
          [
           0,
           0
          ],
          [
           4.854368932038835,
           4.854368932038835
          ],
          [
           30.87378640776699,
           30.87378640776699
          ],
          [
           1.0679611650485437,
           1.0679611650485437
          ],
          [
           0.7766990291262136,
           0.7766990291262136
          ],
          [
           11.16504854368932,
           11.16504854368932
          ],
          [
           11.16504854368932,
           11.16504854368932
          ],
          [
           0.1941747572815534,
           0.1941747572815534
          ],
          [
           0.1941747572815534,
           0.1941747572815534
          ],
          [
           0,
           0
          ],
          [
           2.233009708737864,
           2.233009708737864
          ],
          [
           0,
           0
          ],
          [
           0,
           0
          ],
          [
           0,
           0
          ],
          [
           0,
           0
          ],
          [
           1.6504854368932038,
           1.6504854368932038
          ],
          [
           0,
           0
          ],
          [
           0,
           0
          ],
          [
           0,
           0
          ],
          [
           0,
           0
          ],
          [
           0.1941747572815534,
           0.1941747572815534
          ],
          [
           0.2912621359223301,
           0.2912621359223301
          ],
          [
           0,
           0
          ]
         ]
        },
        {
         "marker": {
          "color": "rgb(102, 17, 0)"
         },
         "name": "Sammelwahn",
         "type": "bar",
         "x": [
          "Fflopse",
          "ReichesBrot",
          "Gobo9",
          "cediiiiii_10",
          "PedroZockt",
          "HerrDante",
          "Ex4cted",
          "_n3d",
          "JOW23",
          "Freeeedom",
          "yiiq",
          "lizsyy",
          "CML_Justin",
          "Umgfoin",
          "2wc",
          "DarkCobweb",
          "yzvm",
          "Ninivee",
          "camman18YT",
          "KakaMC",
          "Grapfen",
          "FrozenNoah",
          "ffawks",
          "Gerrygames",
          "toxicplace",
          "LeMetin_",
          "Sey__",
          "Pluto28",
          "MoZadaCraft",
          "miridis41",
          "2B9",
          "h4nnes",
          "Gummibearchen",
          "Sower_",
          "LeWi_100",
          "MaxMitMaulkorb",
          "Schmaarek",
          "unausgesprochen",
          "Davinci_Son",
          "Janne4k"
         ],
         "y": [
          [
           18.837209302325583,
           18.837209302325583
          ],
          [
           2.7906976744186047,
           2.7906976744186047
          ],
          [
           28.837209302325583,
           28.837209302325583
          ],
          [
           29.767441860465116,
           29.767441860465116
          ],
          [
           12.790697674418604,
           12.790697674418604
          ],
          [
           6.976744186046512,
           6.976744186046512
          ],
          [
           14.186046511627907,
           14.186046511627907
          ],
          [
           6.976744186046512,
           6.976744186046512
          ],
          [
           2.3255813953488373,
           2.3255813953488373
          ],
          [
           2.7906976744186047,
           2.7906976744186047
          ],
          [
           0,
           0
          ],
          [
           3.953488372093023,
           3.953488372093023
          ],
          [
           3.7209302325581395,
           3.7209302325581395
          ],
          [
           5.116279069767442,
           5.116279069767442
          ],
          [
           0,
           0
          ],
          [
           3.7209302325581395,
           3.7209302325581395
          ],
          [
           3.0232558139534884,
           3.0232558139534884
          ],
          [
           1.627906976744186,
           1.627906976744186
          ],
          [
           5.116279069767442,
           5.116279069767442
          ],
          [
           9.534883720930232,
           9.534883720930232
          ],
          [
           12.55813953488372,
           12.55813953488372
          ],
          [
           2.3255813953488373,
           2.3255813953488373
          ],
          [
           1.627906976744186,
           1.627906976744186
          ],
          [
           27.209302325581394,
           27.209302325581394
          ],
          [
           0,
           0
          ],
          [
           3.7209302325581395,
           3.7209302325581395
          ],
          [
           5.348837209302325,
           5.348837209302325
          ],
          [
           2.0930232558139537,
           2.0930232558139537
          ],
          [
           0,
           0
          ],
          [
           6.511627906976744,
           6.511627906976744
          ],
          [
           2.3255813953488373,
           2.3255813953488373
          ],
          [
           4.186046511627907,
           4.186046511627907
          ],
          [
           0,
           0
          ],
          [
           20.232558139534884,
           20.232558139534884
          ],
          [
           0,
           0
          ],
          [
           4.186046511627907,
           4.186046511627907
          ],
          [
           6.976744186046512,
           6.976744186046512
          ],
          [
           2.558139534883721,
           2.558139534883721
          ],
          [
           3.0232558139534884,
           3.0232558139534884
          ],
          [
           0,
           0
          ]
         ]
        },
        {
         "marker": {
          "color": "rgb(136, 136, 136)"
         },
         "name": "Schießstand",
         "type": "bar",
         "x": [
          "Fflopse",
          "ReichesBrot",
          "Gobo9",
          "cediiiiii_10",
          "PedroZockt",
          "HerrDante",
          "Ex4cted",
          "_n3d",
          "JOW23",
          "Freeeedom",
          "yiiq",
          "lizsyy",
          "CML_Justin",
          "Umgfoin",
          "2wc",
          "DarkCobweb",
          "yzvm",
          "Ninivee",
          "camman18YT",
          "KakaMC",
          "Grapfen",
          "FrozenNoah",
          "ffawks",
          "Gerrygames",
          "toxicplace",
          "LeMetin_",
          "Sey__",
          "Pluto28",
          "MoZadaCraft",
          "miridis41",
          "2B9",
          "h4nnes",
          "Gummibearchen",
          "Sower_",
          "LeWi_100",
          "MaxMitMaulkorb",
          "Schmaarek",
          "unausgesprochen",
          "Davinci_Son",
          "Janne4k"
         ],
         "y": [
          [
           96.66666666666667,
           96.66666666666667
          ],
          [
           10,
           10
          ],
          [
           50,
           50
          ],
          [
           40,
           40
          ],
          [
           0,
           0
          ],
          [
           66.66666666666667,
           66.66666666666667
          ],
          [
           90,
           90
          ],
          [
           26.666666666666668,
           26.666666666666668
          ],
          [
           10,
           10
          ],
          [
           0,
           0
          ],
          [
           0,
           0
          ],
          [
           33.333333333333336,
           33.333333333333336
          ],
          [
           0,
           0
          ],
          [
           0,
           0
          ],
          [
           0,
           0
          ],
          [
           0,
           0
          ],
          [
           0,
           0
          ],
          [
           0,
           0
          ],
          [
           0,
           0
          ],
          [
           0,
           0
          ],
          [
           0,
           0
          ],
          [
           0,
           0
          ],
          [
           33.333333333333336,
           33.333333333333336
          ],
          [
           0,
           0
          ],
          [
           0,
           0
          ],
          [
           0,
           0
          ],
          [
           0,
           0
          ],
          [
           0,
           0
          ],
          [
           0,
           0
          ],
          [
           0,
           0
          ],
          [
           0,
           0
          ],
          [
           6.666666666666667,
           6.666666666666667
          ],
          [
           0,
           0
          ],
          [
           0,
           0
          ],
          [
           0,
           0
          ],
          [
           0,
           0
          ],
          [
           0,
           0
          ],
          [
           26.666666666666668,
           26.666666666666668
          ],
          [
           30,
           30
          ],
          [
           0,
           0
          ]
         ]
        },
        {
         "marker": {
          "color": "rgb(136, 204, 238)"
         },
         "name": "Spleef",
         "type": "bar",
         "x": [
          "Fflopse",
          "ReichesBrot",
          "Gobo9",
          "cediiiiii_10",
          "PedroZockt",
          "HerrDante",
          "Ex4cted",
          "_n3d",
          "JOW23",
          "Freeeedom",
          "yiiq",
          "lizsyy",
          "CML_Justin",
          "Umgfoin",
          "2wc",
          "DarkCobweb",
          "yzvm",
          "Ninivee",
          "camman18YT",
          "KakaMC",
          "Grapfen",
          "FrozenNoah",
          "ffawks",
          "Gerrygames",
          "toxicplace",
          "LeMetin_",
          "Sey__",
          "Pluto28",
          "MoZadaCraft",
          "miridis41",
          "2B9",
          "h4nnes",
          "Gummibearchen",
          "Sower_",
          "LeWi_100",
          "MaxMitMaulkorb",
          "Schmaarek",
          "unausgesprochen",
          "Davinci_Son",
          "Janne4k"
         ],
         "y": [
          [
           50,
           50
          ],
          [
           75,
           75
          ],
          [
           50,
           50
          ],
          [
           70,
           70
          ],
          [
           50,
           50
          ],
          [
           20,
           20
          ],
          [
           20,
           20
          ],
          [
           40,
           40
          ],
          [
           40,
           40
          ],
          [
           0,
           0
          ],
          [
           20,
           20
          ],
          [
           30,
           30
          ],
          [
           30,
           30
          ],
          [
           65,
           65
          ],
          [
           0,
           0
          ],
          [
           20,
           20
          ],
          [
           0,
           0
          ],
          [
           0,
           0
          ],
          [
           0,
           0
          ],
          [
           0,
           0
          ],
          [
           20,
           20
          ],
          [
           0,
           0
          ],
          [
           0,
           0
          ],
          [
           0,
           0
          ],
          [
           0,
           0
          ],
          [
           0,
           0
          ],
          [
           0,
           0
          ],
          [
           0,
           0
          ],
          [
           90,
           90
          ],
          [
           0,
           0
          ],
          [
           0,
           0
          ],
          [
           0,
           0
          ],
          [
           0,
           0
          ],
          [
           0,
           0
          ],
          [
           0,
           0
          ],
          [
           20,
           20
          ],
          [
           0,
           0
          ],
          [
           0,
           0
          ],
          [
           30,
           30
          ],
          [
           0,
           0
          ]
         ]
        },
        {
         "marker": {
          "color": "rgb(204, 102, 119)"
         },
         "name": "Todeswürfel",
         "type": "bar",
         "x": [
          "Fflopse",
          "ReichesBrot",
          "Gobo9",
          "cediiiiii_10",
          "PedroZockt",
          "HerrDante",
          "Ex4cted",
          "_n3d",
          "JOW23",
          "Freeeedom",
          "yiiq",
          "lizsyy",
          "CML_Justin",
          "Umgfoin",
          "2wc",
          "DarkCobweb",
          "yzvm",
          "Ninivee",
          "camman18YT",
          "KakaMC",
          "Grapfen",
          "FrozenNoah",
          "ffawks",
          "Gerrygames",
          "toxicplace",
          "LeMetin_",
          "Sey__",
          "Pluto28",
          "MoZadaCraft",
          "miridis41",
          "2B9",
          "h4nnes",
          "Gummibearchen",
          "Sower_",
          "LeWi_100",
          "MaxMitMaulkorb",
          "Schmaarek",
          "unausgesprochen",
          "Davinci_Son",
          "Janne4k"
         ],
         "y": [
          [
           60,
           60
          ],
          [
           0,
           0
          ],
          [
           0,
           0
          ],
          [
           0,
           0
          ],
          [
           50,
           50
          ],
          [
           90,
           90
          ],
          [
           0,
           0
          ],
          [
           0,
           0
          ],
          [
           0,
           0
          ],
          [
           0,
           0
          ],
          [
           0,
           0
          ],
          [
           0,
           0
          ],
          [
           20,
           20
          ],
          [
           0,
           0
          ],
          [
           0,
           0
          ],
          [
           0,
           0
          ],
          [
           0,
           0
          ],
          [
           0,
           0
          ],
          [
           40,
           40
          ],
          [
           30,
           30
          ],
          [
           0,
           0
          ],
          [
           0,
           0
          ],
          [
           0,
           0
          ],
          [
           80,
           80
          ],
          [
           0,
           0
          ],
          [
           0,
           0
          ],
          [
           0,
           0
          ],
          [
           0,
           0
          ],
          [
           0,
           0
          ],
          [
           0,
           0
          ],
          [
           0,
           0
          ],
          [
           0,
           0
          ],
          [
           0,
           0
          ],
          [
           100,
           100
          ],
          [
           0,
           0
          ],
          [
           0,
           0
          ],
          [
           0,
           0
          ],
          [
           0,
           0
          ],
          [
           0,
           0
          ],
          [
           0,
           0
          ]
         ]
        },
        {
         "marker": {
          "color": "rgb(221, 204, 119)"
         },
         "name": "Waffenfolge",
         "type": "bar",
         "x": [
          "Fflopse",
          "ReichesBrot",
          "Gobo9",
          "cediiiiii_10",
          "PedroZockt",
          "HerrDante",
          "Ex4cted",
          "_n3d",
          "JOW23",
          "Freeeedom",
          "yiiq",
          "lizsyy",
          "CML_Justin",
          "Umgfoin",
          "2wc",
          "DarkCobweb",
          "yzvm",
          "Ninivee",
          "camman18YT",
          "KakaMC",
          "Grapfen",
          "FrozenNoah",
          "ffawks",
          "Gerrygames",
          "toxicplace",
          "LeMetin_",
          "Sey__",
          "Pluto28",
          "MoZadaCraft",
          "miridis41",
          "2B9",
          "h4nnes",
          "Gummibearchen",
          "Sower_",
          "LeWi_100",
          "MaxMitMaulkorb",
          "Schmaarek",
          "unausgesprochen",
          "Davinci_Son",
          "Janne4k"
         ],
         "y": [
          [
           30,
           30
          ],
          [
           50,
           50
          ],
          [
           0,
           0
          ],
          [
           70,
           70
          ],
          [
           60,
           60
          ],
          [
           0,
           0
          ],
          [
           0,
           0
          ],
          [
           0,
           0
          ],
          [
           100,
           100
          ],
          [
           0,
           0
          ],
          [
           0,
           0
          ],
          [
           0,
           0
          ],
          [
           0,
           0
          ],
          [
           0,
           0
          ],
          [
           0,
           0
          ],
          [
           0,
           0
          ],
          [
           90,
           90
          ],
          [
           0,
           0
          ],
          [
           0,
           0
          ],
          [
           0,
           0
          ],
          [
           40,
           40
          ],
          [
           0,
           0
          ],
          [
           0,
           0
          ],
          [
           0,
           0
          ],
          [
           0,
           0
          ],
          [
           0,
           0
          ],
          [
           0,
           0
          ],
          [
           80,
           80
          ],
          [
           0,
           0
          ],
          [
           0,
           0
          ],
          [
           0,
           0
          ],
          [
           0,
           0
          ],
          [
           0,
           0
          ],
          [
           0,
           0
          ],
          [
           0,
           0
          ],
          [
           0,
           0
          ],
          [
           0,
           0
          ],
          [
           0,
           0
          ],
          [
           0,
           0
          ],
          [
           0,
           0
          ]
         ]
        },
        {
         "marker": {
          "color": "rgb(17, 119, 51)"
         },
         "name": "Walls",
         "type": "bar",
         "x": [
          "Fflopse",
          "ReichesBrot",
          "Gobo9",
          "cediiiiii_10",
          "PedroZockt",
          "HerrDante",
          "Ex4cted",
          "_n3d",
          "JOW23",
          "Freeeedom",
          "yiiq",
          "lizsyy",
          "CML_Justin",
          "Umgfoin",
          "2wc",
          "DarkCobweb",
          "yzvm",
          "Ninivee",
          "camman18YT",
          "KakaMC",
          "Grapfen",
          "FrozenNoah",
          "ffawks",
          "Gerrygames",
          "toxicplace",
          "LeMetin_",
          "Sey__",
          "Pluto28",
          "MoZadaCraft",
          "miridis41",
          "2B9",
          "h4nnes",
          "Gummibearchen",
          "Sower_",
          "LeWi_100",
          "MaxMitMaulkorb",
          "Schmaarek",
          "unausgesprochen",
          "Davinci_Son",
          "Janne4k"
         ],
         "y": [
          [
           33.333333333333336,
           33.333333333333336
          ],
          [
           13.333333333333334,
           13.333333333333334
          ],
          [
           33.333333333333336,
           33.333333333333336
          ],
          [
           86.66666666666667,
           86.66666666666667
          ],
          [
           56.666666666666664,
           56.666666666666664
          ],
          [
           0,
           0
          ],
          [
           0,
           0
          ],
          [
           33.333333333333336,
           33.333333333333336
          ],
          [
           30,
           30
          ],
          [
           0,
           0
          ],
          [
           20,
           20
          ],
          [
           0,
           0
          ],
          [
           0,
           0
          ],
          [
           0,
           0
          ],
          [
           20,
           20
          ],
          [
           63.333333333333336,
           63.333333333333336
          ],
          [
           13.333333333333334,
           13.333333333333334
          ],
          [
           20,
           20
          ],
          [
           53.333333333333336,
           53.333333333333336
          ],
          [
           30,
           30
          ],
          [
           30,
           30
          ],
          [
           0,
           0
          ],
          [
           0,
           0
          ],
          [
           0,
           0
          ],
          [
           0,
           0
          ],
          [
           0,
           0
          ],
          [
           0,
           0
          ],
          [
           0,
           0
          ],
          [
           0,
           0
          ],
          [
           20,
           20
          ],
          [
           0,
           0
          ],
          [
           0,
           0
          ],
          [
           23.333333333333332,
           23.333333333333332
          ],
          [
           0,
           0
          ],
          [
           0,
           0
          ],
          [
           0,
           0
          ],
          [
           0,
           0
          ],
          [
           0,
           0
          ],
          [
           13.333333333333334,
           13.333333333333334
          ],
          [
           0,
           0
          ]
         ]
        },
        {
         "marker": {
          "color": "rgb(51, 34, 136)"
         },
         "name": "Wettrennen",
         "type": "bar",
         "x": [
          "Fflopse",
          "ReichesBrot",
          "Gobo9",
          "cediiiiii_10",
          "PedroZockt",
          "HerrDante",
          "Ex4cted",
          "_n3d",
          "JOW23",
          "Freeeedom",
          "yiiq",
          "lizsyy",
          "CML_Justin",
          "Umgfoin",
          "2wc",
          "DarkCobweb",
          "yzvm",
          "Ninivee",
          "camman18YT",
          "KakaMC",
          "Grapfen",
          "FrozenNoah",
          "ffawks",
          "Gerrygames",
          "toxicplace",
          "LeMetin_",
          "Sey__",
          "Pluto28",
          "MoZadaCraft",
          "miridis41",
          "2B9",
          "h4nnes",
          "Gummibearchen",
          "Sower_",
          "LeWi_100",
          "MaxMitMaulkorb",
          "Schmaarek",
          "unausgesprochen",
          "Davinci_Son",
          "Janne4k"
         ],
         "y": [
          [
           82,
           82
          ],
          [
           62,
           62
          ],
          [
           74,
           74
          ],
          [
           40,
           40
          ],
          [
           10,
           10
          ],
          [
           14,
           14
          ],
          [
           0,
           0
          ],
          [
           4,
           4
          ],
          [
           0,
           0
          ],
          [
           0,
           0
          ],
          [
           40,
           40
          ],
          [
           14,
           14
          ],
          [
           0,
           0
          ],
          [
           0,
           0
          ],
          [
           8,
           8
          ],
          [
           0,
           0
          ],
          [
           10,
           10
          ],
          [
           0,
           0
          ],
          [
           0,
           0
          ],
          [
           0,
           0
          ],
          [
           0,
           0
          ],
          [
           0,
           0
          ],
          [
           8,
           8
          ],
          [
           20,
           20
          ],
          [
           0,
           0
          ],
          [
           12,
           12
          ],
          [
           6,
           6
          ],
          [
           0,
           0
          ],
          [
           0,
           0
          ],
          [
           0,
           0
          ],
          [
           0,
           0
          ],
          [
           0,
           0
          ],
          [
           32,
           32
          ],
          [
           0,
           0
          ],
          [
           22,
           22
          ],
          [
           0,
           0
          ],
          [
           14,
           14
          ],
          [
           0,
           0
          ],
          [
           0,
           0
          ],
          [
           0,
           0
          ]
         ]
        }
       ],
       "layout": {
        "annotations": [
         {
          "font": {
           "size": 12
          },
          "showarrow": false,
          "text": "Max 100 points per minigame. Records #1 through #10 of games & maps in the active pool are considered (#1: 100, #2: 90, ..., #10: 10). If a minigame has multiple maps, the 100 points are distributed equally. fflopse.github.io/MCP-Records/data-analysis/global-ranking.ipynb",
          "x": 0.5,
          "xanchor": "center",
          "xref": "paper",
          "y": 1.1635,
          "yref": "paper"
         }
        ],
        "barmode": "stack",
        "legend": {
         "bgcolor": "rgba(255, 255, 255, 0)",
         "bordercolor": "rgba(0, 0, 0, 0)",
         "font": {
          "size": 12
         },
         "traceorder": "normal",
         "x": 1.05,
         "y": 0.5
        },
        "margin": {
         "r": 200
        },
        "template": {
         "data": {
          "bar": [
           {
            "error_x": {
             "color": "#2a3f5f"
            },
            "error_y": {
             "color": "#2a3f5f"
            },
            "marker": {
             "line": {
              "color": "#E5ECF6",
              "width": 0.5
             },
             "pattern": {
              "fillmode": "overlay",
              "size": 10,
              "solidity": 0.2
             }
            },
            "type": "bar"
           }
          ],
          "barpolar": [
           {
            "marker": {
             "line": {
              "color": "#E5ECF6",
              "width": 0.5
             },
             "pattern": {
              "fillmode": "overlay",
              "size": 10,
              "solidity": 0.2
             }
            },
            "type": "barpolar"
           }
          ],
          "carpet": [
           {
            "aaxis": {
             "endlinecolor": "#2a3f5f",
             "gridcolor": "white",
             "linecolor": "white",
             "minorgridcolor": "white",
             "startlinecolor": "#2a3f5f"
            },
            "baxis": {
             "endlinecolor": "#2a3f5f",
             "gridcolor": "white",
             "linecolor": "white",
             "minorgridcolor": "white",
             "startlinecolor": "#2a3f5f"
            },
            "type": "carpet"
           }
          ],
          "choropleth": [
           {
            "colorbar": {
             "outlinewidth": 0,
             "ticks": ""
            },
            "type": "choropleth"
           }
          ],
          "contour": [
           {
            "colorbar": {
             "outlinewidth": 0,
             "ticks": ""
            },
            "colorscale": [
             [
              0,
              "#0d0887"
             ],
             [
              0.1111111111111111,
              "#46039f"
             ],
             [
              0.2222222222222222,
              "#7201a8"
             ],
             [
              0.3333333333333333,
              "#9c179e"
             ],
             [
              0.4444444444444444,
              "#bd3786"
             ],
             [
              0.5555555555555556,
              "#d8576b"
             ],
             [
              0.6666666666666666,
              "#ed7953"
             ],
             [
              0.7777777777777778,
              "#fb9f3a"
             ],
             [
              0.8888888888888888,
              "#fdca26"
             ],
             [
              1,
              "#f0f921"
             ]
            ],
            "type": "contour"
           }
          ],
          "contourcarpet": [
           {
            "colorbar": {
             "outlinewidth": 0,
             "ticks": ""
            },
            "type": "contourcarpet"
           }
          ],
          "heatmap": [
           {
            "colorbar": {
             "outlinewidth": 0,
             "ticks": ""
            },
            "colorscale": [
             [
              0,
              "#0d0887"
             ],
             [
              0.1111111111111111,
              "#46039f"
             ],
             [
              0.2222222222222222,
              "#7201a8"
             ],
             [
              0.3333333333333333,
              "#9c179e"
             ],
             [
              0.4444444444444444,
              "#bd3786"
             ],
             [
              0.5555555555555556,
              "#d8576b"
             ],
             [
              0.6666666666666666,
              "#ed7953"
             ],
             [
              0.7777777777777778,
              "#fb9f3a"
             ],
             [
              0.8888888888888888,
              "#fdca26"
             ],
             [
              1,
              "#f0f921"
             ]
            ],
            "type": "heatmap"
           }
          ],
          "heatmapgl": [
           {
            "colorbar": {
             "outlinewidth": 0,
             "ticks": ""
            },
            "colorscale": [
             [
              0,
              "#0d0887"
             ],
             [
              0.1111111111111111,
              "#46039f"
             ],
             [
              0.2222222222222222,
              "#7201a8"
             ],
             [
              0.3333333333333333,
              "#9c179e"
             ],
             [
              0.4444444444444444,
              "#bd3786"
             ],
             [
              0.5555555555555556,
              "#d8576b"
             ],
             [
              0.6666666666666666,
              "#ed7953"
             ],
             [
              0.7777777777777778,
              "#fb9f3a"
             ],
             [
              0.8888888888888888,
              "#fdca26"
             ],
             [
              1,
              "#f0f921"
             ]
            ],
            "type": "heatmapgl"
           }
          ],
          "histogram": [
           {
            "marker": {
             "pattern": {
              "fillmode": "overlay",
              "size": 10,
              "solidity": 0.2
             }
            },
            "type": "histogram"
           }
          ],
          "histogram2d": [
           {
            "colorbar": {
             "outlinewidth": 0,
             "ticks": ""
            },
            "colorscale": [
             [
              0,
              "#0d0887"
             ],
             [
              0.1111111111111111,
              "#46039f"
             ],
             [
              0.2222222222222222,
              "#7201a8"
             ],
             [
              0.3333333333333333,
              "#9c179e"
             ],
             [
              0.4444444444444444,
              "#bd3786"
             ],
             [
              0.5555555555555556,
              "#d8576b"
             ],
             [
              0.6666666666666666,
              "#ed7953"
             ],
             [
              0.7777777777777778,
              "#fb9f3a"
             ],
             [
              0.8888888888888888,
              "#fdca26"
             ],
             [
              1,
              "#f0f921"
             ]
            ],
            "type": "histogram2d"
           }
          ],
          "histogram2dcontour": [
           {
            "colorbar": {
             "outlinewidth": 0,
             "ticks": ""
            },
            "colorscale": [
             [
              0,
              "#0d0887"
             ],
             [
              0.1111111111111111,
              "#46039f"
             ],
             [
              0.2222222222222222,
              "#7201a8"
             ],
             [
              0.3333333333333333,
              "#9c179e"
             ],
             [
              0.4444444444444444,
              "#bd3786"
             ],
             [
              0.5555555555555556,
              "#d8576b"
             ],
             [
              0.6666666666666666,
              "#ed7953"
             ],
             [
              0.7777777777777778,
              "#fb9f3a"
             ],
             [
              0.8888888888888888,
              "#fdca26"
             ],
             [
              1,
              "#f0f921"
             ]
            ],
            "type": "histogram2dcontour"
           }
          ],
          "mesh3d": [
           {
            "colorbar": {
             "outlinewidth": 0,
             "ticks": ""
            },
            "type": "mesh3d"
           }
          ],
          "parcoords": [
           {
            "line": {
             "colorbar": {
              "outlinewidth": 0,
              "ticks": ""
             }
            },
            "type": "parcoords"
           }
          ],
          "pie": [
           {
            "automargin": true,
            "type": "pie"
           }
          ],
          "scatter": [
           {
            "fillpattern": {
             "fillmode": "overlay",
             "size": 10,
             "solidity": 0.2
            },
            "type": "scatter"
           }
          ],
          "scatter3d": [
           {
            "line": {
             "colorbar": {
              "outlinewidth": 0,
              "ticks": ""
             }
            },
            "marker": {
             "colorbar": {
              "outlinewidth": 0,
              "ticks": ""
             }
            },
            "type": "scatter3d"
           }
          ],
          "scattercarpet": [
           {
            "marker": {
             "colorbar": {
              "outlinewidth": 0,
              "ticks": ""
             }
            },
            "type": "scattercarpet"
           }
          ],
          "scattergeo": [
           {
            "marker": {
             "colorbar": {
              "outlinewidth": 0,
              "ticks": ""
             }
            },
            "type": "scattergeo"
           }
          ],
          "scattergl": [
           {
            "marker": {
             "colorbar": {
              "outlinewidth": 0,
              "ticks": ""
             }
            },
            "type": "scattergl"
           }
          ],
          "scattermapbox": [
           {
            "marker": {
             "colorbar": {
              "outlinewidth": 0,
              "ticks": ""
             }
            },
            "type": "scattermapbox"
           }
          ],
          "scatterpolar": [
           {
            "marker": {
             "colorbar": {
              "outlinewidth": 0,
              "ticks": ""
             }
            },
            "type": "scatterpolar"
           }
          ],
          "scatterpolargl": [
           {
            "marker": {
             "colorbar": {
              "outlinewidth": 0,
              "ticks": ""
             }
            },
            "type": "scatterpolargl"
           }
          ],
          "scatterternary": [
           {
            "marker": {
             "colorbar": {
              "outlinewidth": 0,
              "ticks": ""
             }
            },
            "type": "scatterternary"
           }
          ],
          "surface": [
           {
            "colorbar": {
             "outlinewidth": 0,
             "ticks": ""
            },
            "colorscale": [
             [
              0,
              "#0d0887"
             ],
             [
              0.1111111111111111,
              "#46039f"
             ],
             [
              0.2222222222222222,
              "#7201a8"
             ],
             [
              0.3333333333333333,
              "#9c179e"
             ],
             [
              0.4444444444444444,
              "#bd3786"
             ],
             [
              0.5555555555555556,
              "#d8576b"
             ],
             [
              0.6666666666666666,
              "#ed7953"
             ],
             [
              0.7777777777777778,
              "#fb9f3a"
             ],
             [
              0.8888888888888888,
              "#fdca26"
             ],
             [
              1,
              "#f0f921"
             ]
            ],
            "type": "surface"
           }
          ],
          "table": [
           {
            "cells": {
             "fill": {
              "color": "#EBF0F8"
             },
             "line": {
              "color": "white"
             }
            },
            "header": {
             "fill": {
              "color": "#C8D4E3"
             },
             "line": {
              "color": "white"
             }
            },
            "type": "table"
           }
          ]
         },
         "layout": {
          "annotationdefaults": {
           "arrowcolor": "#2a3f5f",
           "arrowhead": 0,
           "arrowwidth": 1
          },
          "autotypenumbers": "strict",
          "coloraxis": {
           "colorbar": {
            "outlinewidth": 0,
            "ticks": ""
           }
          },
          "colorscale": {
           "diverging": [
            [
             0,
             "#8e0152"
            ],
            [
             0.1,
             "#c51b7d"
            ],
            [
             0.2,
             "#de77ae"
            ],
            [
             0.3,
             "#f1b6da"
            ],
            [
             0.4,
             "#fde0ef"
            ],
            [
             0.5,
             "#f7f7f7"
            ],
            [
             0.6,
             "#e6f5d0"
            ],
            [
             0.7,
             "#b8e186"
            ],
            [
             0.8,
             "#7fbc41"
            ],
            [
             0.9,
             "#4d9221"
            ],
            [
             1,
             "#276419"
            ]
           ],
           "sequential": [
            [
             0,
             "#0d0887"
            ],
            [
             0.1111111111111111,
             "#46039f"
            ],
            [
             0.2222222222222222,
             "#7201a8"
            ],
            [
             0.3333333333333333,
             "#9c179e"
            ],
            [
             0.4444444444444444,
             "#bd3786"
            ],
            [
             0.5555555555555556,
             "#d8576b"
            ],
            [
             0.6666666666666666,
             "#ed7953"
            ],
            [
             0.7777777777777778,
             "#fb9f3a"
            ],
            [
             0.8888888888888888,
             "#fdca26"
            ],
            [
             1,
             "#f0f921"
            ]
           ],
           "sequentialminus": [
            [
             0,
             "#0d0887"
            ],
            [
             0.1111111111111111,
             "#46039f"
            ],
            [
             0.2222222222222222,
             "#7201a8"
            ],
            [
             0.3333333333333333,
             "#9c179e"
            ],
            [
             0.4444444444444444,
             "#bd3786"
            ],
            [
             0.5555555555555556,
             "#d8576b"
            ],
            [
             0.6666666666666666,
             "#ed7953"
            ],
            [
             0.7777777777777778,
             "#fb9f3a"
            ],
            [
             0.8888888888888888,
             "#fdca26"
            ],
            [
             1,
             "#f0f921"
            ]
           ]
          },
          "colorway": [
           "#636efa",
           "#EF553B",
           "#00cc96",
           "#ab63fa",
           "#FFA15A",
           "#19d3f3",
           "#FF6692",
           "#B6E880",
           "#FF97FF",
           "#FECB52"
          ],
          "font": {
           "color": "#2a3f5f"
          },
          "geo": {
           "bgcolor": "white",
           "lakecolor": "white",
           "landcolor": "#E5ECF6",
           "showlakes": true,
           "showland": true,
           "subunitcolor": "white"
          },
          "hoverlabel": {
           "align": "left"
          },
          "hovermode": "closest",
          "mapbox": {
           "style": "light"
          },
          "paper_bgcolor": "white",
          "plot_bgcolor": "#E5ECF6",
          "polar": {
           "angularaxis": {
            "gridcolor": "white",
            "linecolor": "white",
            "ticks": ""
           },
           "bgcolor": "#E5ECF6",
           "radialaxis": {
            "gridcolor": "white",
            "linecolor": "white",
            "ticks": ""
           }
          },
          "scene": {
           "xaxis": {
            "backgroundcolor": "#E5ECF6",
            "gridcolor": "white",
            "gridwidth": 2,
            "linecolor": "white",
            "showbackground": true,
            "ticks": "",
            "zerolinecolor": "white"
           },
           "yaxis": {
            "backgroundcolor": "#E5ECF6",
            "gridcolor": "white",
            "gridwidth": 2,
            "linecolor": "white",
            "showbackground": true,
            "ticks": "",
            "zerolinecolor": "white"
           },
           "zaxis": {
            "backgroundcolor": "#E5ECF6",
            "gridcolor": "white",
            "gridwidth": 2,
            "linecolor": "white",
            "showbackground": true,
            "ticks": "",
            "zerolinecolor": "white"
           }
          },
          "shapedefaults": {
           "line": {
            "color": "#2a3f5f"
           }
          },
          "ternary": {
           "aaxis": {
            "gridcolor": "white",
            "linecolor": "white",
            "ticks": ""
           },
           "baxis": {
            "gridcolor": "white",
            "linecolor": "white",
            "ticks": ""
           },
           "bgcolor": "#E5ECF6",
           "caxis": {
            "gridcolor": "white",
            "linecolor": "white",
            "ticks": ""
           }
          },
          "title": {
           "x": 0.05
          },
          "xaxis": {
           "automargin": true,
           "gridcolor": "white",
           "linecolor": "white",
           "ticks": "",
           "title": {
            "standoff": 15
           },
           "zerolinecolor": "white",
           "zerolinewidth": 2
          },
          "yaxis": {
           "automargin": true,
           "gridcolor": "white",
           "linecolor": "white",
           "ticks": "",
           "title": {
            "standoff": 15
           },
           "zerolinecolor": "white",
           "zerolinewidth": 2
          }
         }
        },
        "title": {
         "text": "Extended Overall Record Comparison - Top 40 Players"
        },
        "xaxis": {
         "title": {
          "text": "Player"
         }
        },
        "yaxis": {
         "title": {
          "text": "Points"
         }
        }
       }
      }
     },
     "metadata": {},
     "output_type": "display_data"
    }
   ],
   "source": [
    "import plotly.graph_objects as go\n",
    "\n",
    "# Sum all columns to get the total score\n",
    "outDf['Total'] = outDf.sum(axis=1)\n",
    "\n",
    "# Sort by total score and fill N/A values with 0\n",
    "outDf = outDf.sort_values(by='Total', ascending=False).fillna(0)\n",
    "\n",
    "# Crop to top 10 players\n",
    "cropDf = outDf.head(40).copy()\n",
    "\n",
    "# Drop the 'Total' column for plotting\n",
    "cropDf = cropDf.drop(columns=['Total'])\n",
    "\n",
    "# Create a color palette\n",
    "color_palette = px.colors.qualitative.Safe\n",
    "\n",
    "# Create the stacked bar plot\n",
    "fig = go.Figure()\n",
    "\n",
    "for column in cropDf.columns.difference(['Player']):\n",
    "    fig.add_trace(go.Bar(\n",
    "        x=cropDf.index,\n",
    "        y=cropDf[column],\n",
    "        name=column,\n",
    "        marker_color=color_palette[len(fig.data) % len(color_palette)]\n",
    "    ))\n",
    "\n",
    "# Update layout\n",
    "fig.update_layout(\n",
    "    barmode='stack',\n",
    "    title='Extended Overall Record Comparison - Top 40 Players',\n",
    "    xaxis=dict(title='Player'),\n",
    "    yaxis=dict(title='Points'),\n",
    "    #height=800,\n",
    "    #width=1000,\n",
    "    legend=dict(\n",
    "        x=1.05,\n",
    "        y=0.5,\n",
    "        traceorder='normal',\n",
    "        font=dict(size=12),\n",
    "        bgcolor='rgba(255, 255, 255, 0)',\n",
    "        bordercolor='rgba(0, 0, 0, 0)'\n",
    "    ),\n",
    "    margin=dict(r=200),  # Adjust right margin to make room for the legend\n",
    "    annotations=[\n",
    "        dict(\n",
    "            x=0.5,\n",
    "            y=1.1635,\n",
    "            xref='paper',\n",
    "            yref='paper',\n",
    "            text='Max 100 points per minigame. Records #1 through #10 of games & maps in the active pool are considered (#1: 100, #2: 90, ..., #10: 10). If a minigame has multiple maps, the 100 points are distributed equally. fflopse.github.io/MCP-Records/data-analysis/global-ranking.ipynb',\n",
    "            showarrow=False,\n",
    "            font=dict(size=12),\n",
    "            xanchor='center'\n",
    "        )\n",
    "    ]\n",
    ")\n",
    "\n",
    "fig.show()\n",
    "\n",
    "# save the plot as an html file\n",
    "\n",
    "fig.write_html('out/ext_overall_record_comparison.html')"
   ]
  },
  {
   "cell_type": "code",
   "execution_count": 27,
   "metadata": {},
   "outputs": [
    {
     "data": {
      "application/vnd.plotly.v1+json": {
       "config": {
        "plotlyServerURL": "https://plot.ly"
       },
       "data": [
        {
         "marker": {
          "color": "rgb(136, 204, 238)"
         },
         "name": "Ampelrennen",
         "type": "bar",
         "x": [
          "Fflopse",
          "ReichesBrot",
          "Gobo9",
          "cediiiiii_10",
          "PedroZockt",
          "HerrDante",
          "Ex4cted",
          "_n3d",
          "JOW23",
          "Freeeedom",
          "yiiq",
          "lizsyy",
          "CML_Justin",
          "Umgfoin",
          "2wc",
          "DarkCobweb",
          "yzvm",
          "Ninivee",
          "camman18YT",
          "KakaMC",
          "Grapfen",
          "FrozenNoah",
          "ffawks",
          "Gerrygames",
          "toxicplace",
          "LeMetin_",
          "Sey__",
          "Pluto28",
          "MoZadaCraft",
          "miridis41",
          "2B9",
          "h4nnes",
          "Gummibearchen",
          "Sower_",
          "LeWi_100",
          "MaxMitMaulkorb",
          "Schmaarek",
          "unausgesprochen",
          "Davinci_Son",
          "Janne4k",
          "Lubottus",
          "MindsetKito",
          "TheFabo",
          "zBro",
          "Krusti",
          "lolisamasan",
          "La_meleagro",
          "Mincheeen",
          "ByNetherdude",
          "GermanPie",
          "Allooy",
          "byTobi",
          "GeneralEnte06",
          "DieserBear",
          "deadfiight",
          "xX_Dima_ggg_Xx6",
          "M0osebumps",
          "Feinberg",
          "HeIsJustAPoorBoy",
          "NotLennart",
          "YBCM",
          "Teesily",
          "Bikoop",
          "Lennart0911",
          "frutigall",
          "Shiewk",
          "Ungluecklicher",
          "Wienerisch",
          "xBaumeisterin",
          "Squashgitter333",
          "Ritokii",
          "Keenaai",
          "Kyuudo",
          "Verwunschene",
          "Morittz",
          "chrisihalt",
          "Gryzes",
          "EinfachEazy",
          "LordAlexos",
          "LucaaOn",
          "Luxemburq",
          "Falke23_5",
          "Gfrasti",
          "Dokkkkko",
          "IchHolzDichWeg",
          "Lingex",
          "GrafikKatze",
          "Simlll",
          "shellny",
          "bawskey",
          "GamemasterNiki",
          "TheBreadHD",
          "DerBaumIstDerWeg",
          "DrSpeed06",
          "Jan2220",
          "Wissender",
          "Mvsk_",
          "Oronor",
          "juvona",
          "MrNulfred"
         ],
         "y": [
          [
           45,
           45
          ],
          [
           0,
           0
          ],
          [
           50,
           50
          ],
          [
           15,
           15
          ],
          [
           70,
           70
          ],
          [
           25,
           25
          ],
          [
           45,
           45
          ],
          [
           20,
           20
          ],
          [
           0,
           0
          ],
          [
           0,
           0
          ],
          [
           0,
           0
          ],
          [
           10,
           10
          ],
          [
           0,
           0
          ],
          [
           50,
           50
          ],
          [
           0,
           0
          ],
          [
           0,
           0
          ],
          [
           0,
           0
          ],
          [
           0,
           0
          ],
          [
           0,
           0
          ],
          [
           0,
           0
          ],
          [
           0,
           0
          ],
          [
           0,
           0
          ],
          [
           0,
           0
          ],
          [
           0,
           0
          ],
          [
           0,
           0
          ],
          [
           15,
           15
          ],
          [
           40,
           40
          ],
          [
           0,
           0
          ],
          [
           0,
           0
          ],
          [
           20,
           20
          ],
          [
           0,
           0
          ],
          [
           0,
           0
          ],
          [
           0,
           0
          ],
          [
           0,
           0
          ],
          [
           0,
           0
          ],
          [
           0,
           0
          ],
          [
           0,
           0
          ],
          [
           30,
           30
          ],
          [
           0,
           0
          ],
          [
           0,
           0
          ],
          [
           0,
           0
          ],
          [
           0,
           0
          ],
          [
           0,
           0
          ],
          [
           0,
           0
          ],
          [
           0,
           0
          ],
          [
           0,
           0
          ],
          [
           0,
           0
          ],
          [
           0,
           0
          ],
          [
           0,
           0
          ],
          [
           25,
           25
          ],
          [
           0,
           0
          ],
          [
           0,
           0
          ],
          [
           0,
           0
          ],
          [
           0,
           0
          ],
          [
           0,
           0
          ],
          [
           0,
           0
          ],
          [
           0,
           0
          ],
          [
           0,
           0
          ],
          [
           0,
           0
          ],
          [
           0,
           0
          ],
          [
           0,
           0
          ],
          [
           0,
           0
          ],
          [
           0,
           0
          ],
          [
           0,
           0
          ],
          [
           0,
           0
          ],
          [
           0,
           0
          ],
          [
           0,
           0
          ],
          [
           0,
           0
          ],
          [
           0,
           0
          ],
          [
           0,
           0
          ],
          [
           35,
           35
          ],
          [
           0,
           0
          ],
          [
           0,
           0
          ],
          [
           0,
           0
          ],
          [
           0,
           0
          ],
          [
           0,
           0
          ],
          [
           0,
           0
          ],
          [
           0,
           0
          ],
          [
           35,
           35
          ],
          [
           0,
           0
          ],
          [
           0,
           0
          ],
          [
           0,
           0
          ],
          [
           0,
           0
          ],
          [
           0,
           0
          ],
          [
           0,
           0
          ],
          [
           0,
           0
          ],
          [
           0,
           0
          ],
          [
           0,
           0
          ],
          [
           0,
           0
          ],
          [
           0,
           0
          ],
          [
           0,
           0
          ],
          [
           0,
           0
          ],
          [
           0,
           0
          ],
          [
           0,
           0
          ],
          [
           0,
           0
          ],
          [
           0,
           0
          ],
          [
           0,
           0
          ],
          [
           0,
           0
          ],
          [
           0,
           0
          ],
          [
           0,
           0
          ]
         ]
        },
        {
         "marker": {
          "color": "rgb(204, 102, 119)"
         },
         "name": "Blockhüpfer",
         "type": "bar",
         "x": [
          "Fflopse",
          "ReichesBrot",
          "Gobo9",
          "cediiiiii_10",
          "PedroZockt",
          "HerrDante",
          "Ex4cted",
          "_n3d",
          "JOW23",
          "Freeeedom",
          "yiiq",
          "lizsyy",
          "CML_Justin",
          "Umgfoin",
          "2wc",
          "DarkCobweb",
          "yzvm",
          "Ninivee",
          "camman18YT",
          "KakaMC",
          "Grapfen",
          "FrozenNoah",
          "ffawks",
          "Gerrygames",
          "toxicplace",
          "LeMetin_",
          "Sey__",
          "Pluto28",
          "MoZadaCraft",
          "miridis41",
          "2B9",
          "h4nnes",
          "Gummibearchen",
          "Sower_",
          "LeWi_100",
          "MaxMitMaulkorb",
          "Schmaarek",
          "unausgesprochen",
          "Davinci_Son",
          "Janne4k",
          "Lubottus",
          "MindsetKito",
          "TheFabo",
          "zBro",
          "Krusti",
          "lolisamasan",
          "La_meleagro",
          "Mincheeen",
          "ByNetherdude",
          "GermanPie",
          "Allooy",
          "byTobi",
          "GeneralEnte06",
          "DieserBear",
          "deadfiight",
          "xX_Dima_ggg_Xx6",
          "M0osebumps",
          "Feinberg",
          "HeIsJustAPoorBoy",
          "NotLennart",
          "YBCM",
          "Teesily",
          "Bikoop",
          "Lennart0911",
          "frutigall",
          "Shiewk",
          "Ungluecklicher",
          "Wienerisch",
          "xBaumeisterin",
          "Squashgitter333",
          "Ritokii",
          "Keenaai",
          "Kyuudo",
          "Verwunschene",
          "Morittz",
          "chrisihalt",
          "Gryzes",
          "EinfachEazy",
          "LordAlexos",
          "LucaaOn",
          "Luxemburq",
          "Falke23_5",
          "Gfrasti",
          "Dokkkkko",
          "IchHolzDichWeg",
          "Lingex",
          "GrafikKatze",
          "Simlll",
          "shellny",
          "bawskey",
          "GamemasterNiki",
          "TheBreadHD",
          "DerBaumIstDerWeg",
          "DrSpeed06",
          "Jan2220",
          "Wissender",
          "Mvsk_",
          "Oronor",
          "juvona",
          "MrNulfred"
         ],
         "y": [
          [
           90,
           90
          ],
          [
           100,
           100
          ],
          [
           50,
           50
          ],
          [
           0,
           0
          ],
          [
           0,
           0
          ],
          [
           0,
           0
          ],
          [
           80,
           80
          ],
          [
           0,
           0
          ],
          [
           0,
           0
          ],
          [
           0,
           0
          ],
          [
           0,
           0
          ],
          [
           30,
           30
          ],
          [
           70,
           70
          ],
          [
           0,
           0
          ],
          [
           0,
           0
          ],
          [
           0,
           0
          ],
          [
           0,
           0
          ],
          [
           0,
           0
          ],
          [
           0,
           0
          ],
          [
           0,
           0
          ],
          [
           0,
           0
          ],
          [
           0,
           0
          ],
          [
           0,
           0
          ],
          [
           0,
           0
          ],
          [
           0,
           0
          ],
          [
           60,
           60
          ],
          [
           0,
           0
          ],
          [
           0,
           0
          ],
          [
           40,
           40
          ],
          [
           0,
           0
          ],
          [
           0,
           0
          ],
          [
           20,
           20
          ],
          [
           0,
           0
          ],
          [
           0,
           0
          ],
          [
           0,
           0
          ],
          [
           0,
           0
          ],
          [
           0,
           0
          ],
          [
           0,
           0
          ],
          [
           0,
           0
          ],
          [
           0,
           0
          ],
          [
           0,
           0
          ],
          [
           0,
           0
          ],
          [
           0,
           0
          ],
          [
           0,
           0
          ],
          [
           0,
           0
          ],
          [
           0,
           0
          ],
          [
           0,
           0
          ],
          [
           0,
           0
          ],
          [
           0,
           0
          ],
          [
           0,
           0
          ],
          [
           0,
           0
          ],
          [
           0,
           0
          ],
          [
           0,
           0
          ],
          [
           0,
           0
          ],
          [
           0,
           0
          ],
          [
           0,
           0
          ],
          [
           0,
           0
          ],
          [
           0,
           0
          ],
          [
           0,
           0
          ],
          [
           0,
           0
          ],
          [
           0,
           0
          ],
          [
           0,
           0
          ],
          [
           0,
           0
          ],
          [
           0,
           0
          ],
          [
           0,
           0
          ],
          [
           0,
           0
          ],
          [
           0,
           0
          ],
          [
           0,
           0
          ],
          [
           0,
           0
          ],
          [
           0,
           0
          ],
          [
           0,
           0
          ],
          [
           0,
           0
          ],
          [
           0,
           0
          ],
          [
           0,
           0
          ],
          [
           0,
           0
          ],
          [
           0,
           0
          ],
          [
           0,
           0
          ],
          [
           0,
           0
          ],
          [
           0,
           0
          ],
          [
           0,
           0
          ],
          [
           0,
           0
          ],
          [
           0,
           0
          ],
          [
           0,
           0
          ],
          [
           0,
           0
          ],
          [
           0,
           0
          ],
          [
           0,
           0
          ],
          [
           0,
           0
          ],
          [
           0,
           0
          ],
          [
           0,
           0
          ],
          [
           0,
           0
          ],
          [
           0,
           0
          ],
          [
           0,
           0
          ],
          [
           0,
           0
          ],
          [
           0,
           0
          ],
          [
           0,
           0
          ],
          [
           0,
           0
          ],
          [
           0,
           0
          ],
          [
           0,
           0
          ],
          [
           0,
           0
          ],
          [
           0,
           0
          ]
         ]
        },
        {
         "marker": {
          "color": "rgb(221, 204, 119)"
         },
         "name": "Buntes Chaos",
         "type": "bar",
         "x": [
          "Fflopse",
          "ReichesBrot",
          "Gobo9",
          "cediiiiii_10",
          "PedroZockt",
          "HerrDante",
          "Ex4cted",
          "_n3d",
          "JOW23",
          "Freeeedom",
          "yiiq",
          "lizsyy",
          "CML_Justin",
          "Umgfoin",
          "2wc",
          "DarkCobweb",
          "yzvm",
          "Ninivee",
          "camman18YT",
          "KakaMC",
          "Grapfen",
          "FrozenNoah",
          "ffawks",
          "Gerrygames",
          "toxicplace",
          "LeMetin_",
          "Sey__",
          "Pluto28",
          "MoZadaCraft",
          "miridis41",
          "2B9",
          "h4nnes",
          "Gummibearchen",
          "Sower_",
          "LeWi_100",
          "MaxMitMaulkorb",
          "Schmaarek",
          "unausgesprochen",
          "Davinci_Son",
          "Janne4k",
          "Lubottus",
          "MindsetKito",
          "TheFabo",
          "zBro",
          "Krusti",
          "lolisamasan",
          "La_meleagro",
          "Mincheeen",
          "ByNetherdude",
          "GermanPie",
          "Allooy",
          "byTobi",
          "GeneralEnte06",
          "DieserBear",
          "deadfiight",
          "xX_Dima_ggg_Xx6",
          "M0osebumps",
          "Feinberg",
          "HeIsJustAPoorBoy",
          "NotLennart",
          "YBCM",
          "Teesily",
          "Bikoop",
          "Lennart0911",
          "frutigall",
          "Shiewk",
          "Ungluecklicher",
          "Wienerisch",
          "xBaumeisterin",
          "Squashgitter333",
          "Ritokii",
          "Keenaai",
          "Kyuudo",
          "Verwunschene",
          "Morittz",
          "chrisihalt",
          "Gryzes",
          "EinfachEazy",
          "LordAlexos",
          "LucaaOn",
          "Luxemburq",
          "Falke23_5",
          "Gfrasti",
          "Dokkkkko",
          "IchHolzDichWeg",
          "Lingex",
          "GrafikKatze",
          "Simlll",
          "shellny",
          "bawskey",
          "GamemasterNiki",
          "TheBreadHD",
          "DerBaumIstDerWeg",
          "DrSpeed06",
          "Jan2220",
          "Wissender",
          "Mvsk_",
          "Oronor",
          "juvona",
          "MrNulfred"
         ],
         "y": [
          [
           100,
           100
          ],
          [
           100,
           100
          ],
          [
           50,
           50
          ],
          [
           50,
           50
          ],
          [
           100,
           100
          ],
          [
           50,
           50
          ],
          [
           50,
           50
          ],
          [
           100,
           100
          ],
          [
           0,
           0
          ],
          [
           50,
           50
          ],
          [
           0,
           0
          ],
          [
           100,
           100
          ],
          [
           50,
           50
          ],
          [
           100,
           100
          ],
          [
           0,
           0
          ],
          [
           0,
           0
          ],
          [
           0,
           0
          ],
          [
           100,
           100
          ],
          [
           0,
           0
          ],
          [
           100,
           100
          ],
          [
           0,
           0
          ],
          [
           0,
           0
          ],
          [
           0,
           0
          ],
          [
           0,
           0
          ],
          [
           0,
           0
          ],
          [
           0,
           0
          ],
          [
           0,
           0
          ],
          [
           0,
           0
          ],
          [
           0,
           0
          ],
          [
           0,
           0
          ],
          [
           0,
           0
          ],
          [
           0,
           0
          ],
          [
           0,
           0
          ],
          [
           0,
           0
          ],
          [
           0,
           0
          ],
          [
           50,
           50
          ],
          [
           50,
           50
          ],
          [
           0,
           0
          ],
          [
           0,
           0
          ],
          [
           0,
           0
          ],
          [
           50,
           50
          ],
          [
           0,
           0
          ],
          [
           0,
           0
          ],
          [
           0,
           0
          ],
          [
           0,
           0
          ],
          [
           0,
           0
          ],
          [
           0,
           0
          ],
          [
           50,
           50
          ],
          [
           0,
           0
          ],
          [
           50,
           50
          ],
          [
           50,
           50
          ],
          [
           0,
           0
          ],
          [
           50,
           50
          ],
          [
           0,
           0
          ],
          [
           0,
           0
          ],
          [
           0,
           0
          ],
          [
           0,
           0
          ],
          [
           50,
           50
          ],
          [
           0,
           0
          ],
          [
           0,
           0
          ],
          [
           50,
           50
          ],
          [
           50,
           50
          ],
          [
           0,
           0
          ],
          [
           0,
           0
          ],
          [
           0,
           0
          ],
          [
           50,
           50
          ],
          [
           0,
           0
          ],
          [
           0,
           0
          ],
          [
           50,
           50
          ],
          [
           0,
           0
          ],
          [
           0,
           0
          ],
          [
           0,
           0
          ],
          [
           0,
           0
          ],
          [
           50,
           50
          ],
          [
           0,
           0
          ],
          [
           0,
           0
          ],
          [
           0,
           0
          ],
          [
           0,
           0
          ],
          [
           0,
           0
          ],
          [
           0,
           0
          ],
          [
           0,
           0
          ],
          [
           0,
           0
          ],
          [
           0,
           0
          ],
          [
           0,
           0
          ],
          [
           0,
           0
          ],
          [
           0,
           0
          ],
          [
           0,
           0
          ],
          [
           0,
           0
          ],
          [
           0,
           0
          ],
          [
           0,
           0
          ],
          [
           0,
           0
          ],
          [
           0,
           0
          ],
          [
           0,
           0
          ],
          [
           0,
           0
          ],
          [
           0,
           0
          ],
          [
           0,
           0
          ],
          [
           0,
           0
          ],
          [
           0,
           0
          ],
          [
           0,
           0
          ],
          [
           0,
           0
          ]
         ]
        },
        {
         "marker": {
          "color": "rgb(17, 119, 51)"
         },
         "name": "Drachenflucht",
         "type": "bar",
         "x": [
          "Fflopse",
          "ReichesBrot",
          "Gobo9",
          "cediiiiii_10",
          "PedroZockt",
          "HerrDante",
          "Ex4cted",
          "_n3d",
          "JOW23",
          "Freeeedom",
          "yiiq",
          "lizsyy",
          "CML_Justin",
          "Umgfoin",
          "2wc",
          "DarkCobweb",
          "yzvm",
          "Ninivee",
          "camman18YT",
          "KakaMC",
          "Grapfen",
          "FrozenNoah",
          "ffawks",
          "Gerrygames",
          "toxicplace",
          "LeMetin_",
          "Sey__",
          "Pluto28",
          "MoZadaCraft",
          "miridis41",
          "2B9",
          "h4nnes",
          "Gummibearchen",
          "Sower_",
          "LeWi_100",
          "MaxMitMaulkorb",
          "Schmaarek",
          "unausgesprochen",
          "Davinci_Son",
          "Janne4k",
          "Lubottus",
          "MindsetKito",
          "TheFabo",
          "zBro",
          "Krusti",
          "lolisamasan",
          "La_meleagro",
          "Mincheeen",
          "ByNetherdude",
          "GermanPie",
          "Allooy",
          "byTobi",
          "GeneralEnte06",
          "DieserBear",
          "deadfiight",
          "xX_Dima_ggg_Xx6",
          "M0osebumps",
          "Feinberg",
          "HeIsJustAPoorBoy",
          "NotLennart",
          "YBCM",
          "Teesily",
          "Bikoop",
          "Lennart0911",
          "frutigall",
          "Shiewk",
          "Ungluecklicher",
          "Wienerisch",
          "xBaumeisterin",
          "Squashgitter333",
          "Ritokii",
          "Keenaai",
          "Kyuudo",
          "Verwunschene",
          "Morittz",
          "chrisihalt",
          "Gryzes",
          "EinfachEazy",
          "LordAlexos",
          "LucaaOn",
          "Luxemburq",
          "Falke23_5",
          "Gfrasti",
          "Dokkkkko",
          "IchHolzDichWeg",
          "Lingex",
          "GrafikKatze",
          "Simlll",
          "shellny",
          "bawskey",
          "GamemasterNiki",
          "TheBreadHD",
          "DerBaumIstDerWeg",
          "DrSpeed06",
          "Jan2220",
          "Wissender",
          "Mvsk_",
          "Oronor",
          "juvona",
          "MrNulfred"
         ],
         "y": [
          [
           0,
           0
          ],
          [
           0,
           0
          ],
          [
           0,
           0
          ],
          [
           0,
           0
          ],
          [
           33.333333333333336,
           33.333333333333336
          ],
          [
           0,
           0
          ],
          [
           0,
           0
          ],
          [
           0,
           0
          ],
          [
           0,
           0
          ],
          [
           0,
           0
          ],
          [
           0,
           0
          ],
          [
           33.333333333333336,
           33.333333333333336
          ],
          [
           0,
           0
          ],
          [
           0,
           0
          ],
          [
           0,
           0
          ],
          [
           0,
           0
          ],
          [
           0,
           0
          ],
          [
           0,
           0
          ],
          [
           0,
           0
          ],
          [
           0,
           0
          ],
          [
           0,
           0
          ],
          [
           0,
           0
          ],
          [
           0,
           0
          ],
          [
           0,
           0
          ],
          [
           0,
           0
          ],
          [
           0,
           0
          ],
          [
           0,
           0
          ],
          [
           0,
           0
          ],
          [
           0,
           0
          ],
          [
           0,
           0
          ],
          [
           0,
           0
          ],
          [
           0,
           0
          ],
          [
           30,
           30
          ],
          [
           0,
           0
          ],
          [
           0,
           0
          ],
          [
           0,
           0
          ],
          [
           0,
           0
          ],
          [
           0,
           0
          ],
          [
           0,
           0
          ],
          [
           0,
           0
          ],
          [
           0,
           0
          ],
          [
           0,
           0
          ],
          [
           0,
           0
          ],
          [
           0,
           0
          ],
          [
           0,
           0
          ],
          [
           0,
           0
          ],
          [
           0,
           0
          ],
          [
           40,
           40
          ],
          [
           6.666666666666667,
           6.666666666666667
          ],
          [
           0,
           0
          ],
          [
           0,
           0
          ],
          [
           20,
           20
          ],
          [
           0,
           0
          ],
          [
           0,
           0
          ],
          [
           60,
           60
          ],
          [
           0,
           0
          ],
          [
           0,
           0
          ],
          [
           0,
           0
          ],
          [
           0,
           0
          ],
          [
           0,
           0
          ],
          [
           0,
           0
          ],
          [
           13.333333333333334,
           13.333333333333334
          ],
          [
           0,
           0
          ],
          [
           0,
           0
          ],
          [
           0,
           0
          ],
          [
           0,
           0
          ],
          [
           0,
           0
          ],
          [
           0,
           0
          ],
          [
           0,
           0
          ],
          [
           0,
           0
          ],
          [
           0,
           0
          ],
          [
           60,
           60
          ],
          [
           0,
           0
          ],
          [
           0,
           0
          ],
          [
           0,
           0
          ],
          [
           0,
           0
          ],
          [
           0,
           0
          ],
          [
           50,
           50
          ],
          [
           0,
           0
          ],
          [
           0,
           0
          ],
          [
           0,
           0
          ],
          [
           0,
           0
          ],
          [
           0,
           0
          ],
          [
           0,
           0
          ],
          [
           0,
           0
          ],
          [
           0,
           0
          ],
          [
           0,
           0
          ],
          [
           0,
           0
          ],
          [
           36.666666666666664,
           36.666666666666664
          ],
          [
           0,
           0
          ],
          [
           0,
           0
          ],
          [
           0,
           0
          ],
          [
           0,
           0
          ],
          [
           0,
           0
          ],
          [
           0,
           0
          ],
          [
           0,
           0
          ],
          [
           13.333333333333334,
           13.333333333333334
          ],
          [
           0,
           0
          ],
          [
           23.333333333333332,
           23.333333333333332
          ],
          [
           10,
           10
          ]
         ]
        },
        {
         "marker": {
          "color": "rgb(51, 34, 136)"
         },
         "name": "Duelle",
         "type": "bar",
         "x": [
          "Fflopse",
          "ReichesBrot",
          "Gobo9",
          "cediiiiii_10",
          "PedroZockt",
          "HerrDante",
          "Ex4cted",
          "_n3d",
          "JOW23",
          "Freeeedom",
          "yiiq",
          "lizsyy",
          "CML_Justin",
          "Umgfoin",
          "2wc",
          "DarkCobweb",
          "yzvm",
          "Ninivee",
          "camman18YT",
          "KakaMC",
          "Grapfen",
          "FrozenNoah",
          "ffawks",
          "Gerrygames",
          "toxicplace",
          "LeMetin_",
          "Sey__",
          "Pluto28",
          "MoZadaCraft",
          "miridis41",
          "2B9",
          "h4nnes",
          "Gummibearchen",
          "Sower_",
          "LeWi_100",
          "MaxMitMaulkorb",
          "Schmaarek",
          "unausgesprochen",
          "Davinci_Son",
          "Janne4k",
          "Lubottus",
          "MindsetKito",
          "TheFabo",
          "zBro",
          "Krusti",
          "lolisamasan",
          "La_meleagro",
          "Mincheeen",
          "ByNetherdude",
          "GermanPie",
          "Allooy",
          "byTobi",
          "GeneralEnte06",
          "DieserBear",
          "deadfiight",
          "xX_Dima_ggg_Xx6",
          "M0osebumps",
          "Feinberg",
          "HeIsJustAPoorBoy",
          "NotLennart",
          "YBCM",
          "Teesily",
          "Bikoop",
          "Lennart0911",
          "frutigall",
          "Shiewk",
          "Ungluecklicher",
          "Wienerisch",
          "xBaumeisterin",
          "Squashgitter333",
          "Ritokii",
          "Keenaai",
          "Kyuudo",
          "Verwunschene",
          "Morittz",
          "chrisihalt",
          "Gryzes",
          "EinfachEazy",
          "LordAlexos",
          "LucaaOn",
          "Luxemburq",
          "Falke23_5",
          "Gfrasti",
          "Dokkkkko",
          "IchHolzDichWeg",
          "Lingex",
          "GrafikKatze",
          "Simlll",
          "shellny",
          "bawskey",
          "GamemasterNiki",
          "TheBreadHD",
          "DerBaumIstDerWeg",
          "DrSpeed06",
          "Jan2220",
          "Wissender",
          "Mvsk_",
          "Oronor",
          "juvona",
          "MrNulfred"
         ],
         "y": [
          [
           0,
           0
          ],
          [
           0,
           0
          ],
          [
           0,
           0
          ],
          [
           60,
           60
          ],
          [
           0,
           0
          ],
          [
           0,
           0
          ],
          [
           0,
           0
          ],
          [
           0,
           0
          ],
          [
           0,
           0
          ],
          [
           0,
           0
          ],
          [
           0,
           0
          ],
          [
           0,
           0
          ],
          [
           0,
           0
          ],
          [
           0,
           0
          ],
          [
           60,
           60
          ],
          [
           60,
           60
          ],
          [
           60,
           60
          ],
          [
           0,
           0
          ],
          [
           0,
           0
          ],
          [
           0,
           0
          ],
          [
           0,
           0
          ],
          [
           0,
           0
          ],
          [
           0,
           0
          ],
          [
           0,
           0
          ],
          [
           100,
           100
          ],
          [
           0,
           0
          ],
          [
           0,
           0
          ],
          [
           0,
           0
          ],
          [
           0,
           0
          ],
          [
           70,
           70
          ],
          [
           80,
           80
          ],
          [
           0,
           0
          ],
          [
           0,
           0
          ],
          [
           0,
           0
          ],
          [
           0,
           0
          ],
          [
           0,
           0
          ],
          [
           0,
           0
          ],
          [
           0,
           0
          ],
          [
           0,
           0
          ],
          [
           0,
           0
          ],
          [
           0,
           0
          ],
          [
           0,
           0
          ],
          [
           0,
           0
          ],
          [
           0,
           0
          ],
          [
           0,
           0
          ],
          [
           0,
           0
          ],
          [
           100,
           100
          ],
          [
           0,
           0
          ],
          [
           0,
           0
          ],
          [
           0,
           0
          ],
          [
           0,
           0
          ],
          [
           0,
           0
          ],
          [
           0,
           0
          ],
          [
           0,
           0
          ],
          [
           0,
           0
          ],
          [
           0,
           0
          ],
          [
           0,
           0
          ],
          [
           0,
           0
          ],
          [
           0,
           0
          ],
          [
           0,
           0
          ],
          [
           0,
           0
          ],
          [
           0,
           0
          ],
          [
           0,
           0
          ],
          [
           0,
           0
          ],
          [
           0,
           0
          ],
          [
           0,
           0
          ],
          [
           0,
           0
          ],
          [
           0,
           0
          ],
          [
           0,
           0
          ],
          [
           0,
           0
          ],
          [
           0,
           0
          ],
          [
           0,
           0
          ],
          [
           0,
           0
          ],
          [
           0,
           0
          ],
          [
           0,
           0
          ],
          [
           0,
           0
          ],
          [
           0,
           0
          ],
          [
           0,
           0
          ],
          [
           0,
           0
          ],
          [
           0,
           0
          ],
          [
           0,
           0
          ],
          [
           0,
           0
          ],
          [
           0,
           0
          ],
          [
           0,
           0
          ],
          [
           0,
           0
          ],
          [
           0,
           0
          ],
          [
           0,
           0
          ],
          [
           0,
           0
          ],
          [
           0,
           0
          ],
          [
           0,
           0
          ],
          [
           0,
           0
          ],
          [
           0,
           0
          ],
          [
           0,
           0
          ],
          [
           0,
           0
          ],
          [
           0,
           0
          ],
          [
           0,
           0
          ],
          [
           0,
           0
          ],
          [
           0,
           0
          ],
          [
           0,
           0
          ],
          [
           0,
           0
          ]
         ]
        },
        {
         "marker": {
          "color": "rgb(170, 68, 153)"
         },
         "name": "Einer im Köcher",
         "type": "bar",
         "x": [
          "Fflopse",
          "ReichesBrot",
          "Gobo9",
          "cediiiiii_10",
          "PedroZockt",
          "HerrDante",
          "Ex4cted",
          "_n3d",
          "JOW23",
          "Freeeedom",
          "yiiq",
          "lizsyy",
          "CML_Justin",
          "Umgfoin",
          "2wc",
          "DarkCobweb",
          "yzvm",
          "Ninivee",
          "camman18YT",
          "KakaMC",
          "Grapfen",
          "FrozenNoah",
          "ffawks",
          "Gerrygames",
          "toxicplace",
          "LeMetin_",
          "Sey__",
          "Pluto28",
          "MoZadaCraft",
          "miridis41",
          "2B9",
          "h4nnes",
          "Gummibearchen",
          "Sower_",
          "LeWi_100",
          "MaxMitMaulkorb",
          "Schmaarek",
          "unausgesprochen",
          "Davinci_Son",
          "Janne4k",
          "Lubottus",
          "MindsetKito",
          "TheFabo",
          "zBro",
          "Krusti",
          "lolisamasan",
          "La_meleagro",
          "Mincheeen",
          "ByNetherdude",
          "GermanPie",
          "Allooy",
          "byTobi",
          "GeneralEnte06",
          "DieserBear",
          "deadfiight",
          "xX_Dima_ggg_Xx6",
          "M0osebumps",
          "Feinberg",
          "HeIsJustAPoorBoy",
          "NotLennart",
          "YBCM",
          "Teesily",
          "Bikoop",
          "Lennart0911",
          "frutigall",
          "Shiewk",
          "Ungluecklicher",
          "Wienerisch",
          "xBaumeisterin",
          "Squashgitter333",
          "Ritokii",
          "Keenaai",
          "Kyuudo",
          "Verwunschene",
          "Morittz",
          "chrisihalt",
          "Gryzes",
          "EinfachEazy",
          "LordAlexos",
          "LucaaOn",
          "Luxemburq",
          "Falke23_5",
          "Gfrasti",
          "Dokkkkko",
          "IchHolzDichWeg",
          "Lingex",
          "GrafikKatze",
          "Simlll",
          "shellny",
          "bawskey",
          "GamemasterNiki",
          "TheBreadHD",
          "DerBaumIstDerWeg",
          "DrSpeed06",
          "Jan2220",
          "Wissender",
          "Mvsk_",
          "Oronor",
          "juvona",
          "MrNulfred"
         ],
         "y": [
          [
           83.33333333333333,
           83.33333333333333
          ],
          [
           13.333333333333334,
           13.333333333333334
          ],
          [
           20,
           20
          ],
          [
           36.666666666666664,
           36.666666666666664
          ],
          [
           0,
           0
          ],
          [
           83.33333333333333,
           83.33333333333333
          ],
          [
           0,
           0
          ],
          [
           10,
           10
          ],
          [
           13.333333333333334,
           13.333333333333334
          ],
          [
           33.333333333333336,
           33.333333333333336
          ],
          [
           0,
           0
          ],
          [
           0,
           0
          ],
          [
           0,
           0
          ],
          [
           0,
           0
          ],
          [
           0,
           0
          ],
          [
           0,
           0
          ],
          [
           0,
           0
          ],
          [
           0,
           0
          ],
          [
           0,
           0
          ],
          [
           0,
           0
          ],
          [
           0,
           0
          ],
          [
           73.33333333333333,
           73.33333333333333
          ],
          [
           0,
           0
          ],
          [
           0,
           0
          ],
          [
           0,
           0
          ],
          [
           0,
           0
          ],
          [
           0,
           0
          ],
          [
           0,
           0
          ],
          [
           0,
           0
          ],
          [
           0,
           0
          ],
          [
           0,
           0
          ],
          [
           53.333333333333336,
           53.333333333333336
          ],
          [
           0,
           0
          ],
          [
           0,
           0
          ],
          [
           0,
           0
          ],
          [
           0,
           0
          ],
          [
           0,
           0
          ],
          [
           0,
           0
          ],
          [
           0,
           0
          ],
          [
           0,
           0
          ],
          [
           0,
           0
          ],
          [
           30,
           30
          ],
          [
           10,
           10
          ],
          [
           6.666666666666667,
           6.666666666666667
          ],
          [
           0,
           0
          ],
          [
           6.666666666666667,
           6.666666666666667
          ],
          [
           0,
           0
          ],
          [
           0,
           0
          ],
          [
           0,
           0
          ],
          [
           0,
           0
          ],
          [
           20,
           20
          ],
          [
           33.333333333333336,
           33.333333333333336
          ],
          [
           0,
           0
          ],
          [
           23.333333333333332,
           23.333333333333332
          ],
          [
           0,
           0
          ],
          [
           0,
           0
          ],
          [
           23.333333333333332,
           23.333333333333332
          ],
          [
           0,
           0
          ],
          [
           0,
           0
          ],
          [
           0,
           0
          ],
          [
           0,
           0
          ],
          [
           0,
           0
          ],
          [
           23.333333333333332,
           23.333333333333332
          ],
          [
           0,
           0
          ],
          [
           0,
           0
          ],
          [
           0,
           0
          ],
          [
           0,
           0
          ],
          [
           0,
           0
          ],
          [
           0,
           0
          ],
          [
           0,
           0
          ],
          [
           0,
           0
          ],
          [
           0,
           0
          ],
          [
           0,
           0
          ],
          [
           0,
           0
          ],
          [
           0,
           0
          ],
          [
           0,
           0
          ],
          [
           0,
           0
          ],
          [
           0,
           0
          ],
          [
           13.333333333333334,
           13.333333333333334
          ],
          [
           0,
           0
          ],
          [
           0,
           0
          ],
          [
           0,
           0
          ],
          [
           0,
           0
          ],
          [
           0,
           0
          ],
          [
           0,
           0
          ],
          [
           0,
           0
          ],
          [
           0,
           0
          ],
          [
           0,
           0
          ],
          [
           0,
           0
          ],
          [
           0,
           0
          ],
          [
           13.333333333333334,
           13.333333333333334
          ],
          [
           0,
           0
          ],
          [
           13.333333333333334,
           13.333333333333334
          ],
          [
           0,
           0
          ],
          [
           0,
           0
          ],
          [
           0,
           0
          ],
          [
           0,
           0
          ],
          [
           0,
           0
          ],
          [
           0,
           0
          ],
          [
           0,
           0
          ]
         ]
        },
        {
         "marker": {
          "color": "rgb(68, 170, 153)"
         },
         "name": "Elytrarennen",
         "type": "bar",
         "x": [
          "Fflopse",
          "ReichesBrot",
          "Gobo9",
          "cediiiiii_10",
          "PedroZockt",
          "HerrDante",
          "Ex4cted",
          "_n3d",
          "JOW23",
          "Freeeedom",
          "yiiq",
          "lizsyy",
          "CML_Justin",
          "Umgfoin",
          "2wc",
          "DarkCobweb",
          "yzvm",
          "Ninivee",
          "camman18YT",
          "KakaMC",
          "Grapfen",
          "FrozenNoah",
          "ffawks",
          "Gerrygames",
          "toxicplace",
          "LeMetin_",
          "Sey__",
          "Pluto28",
          "MoZadaCraft",
          "miridis41",
          "2B9",
          "h4nnes",
          "Gummibearchen",
          "Sower_",
          "LeWi_100",
          "MaxMitMaulkorb",
          "Schmaarek",
          "unausgesprochen",
          "Davinci_Son",
          "Janne4k",
          "Lubottus",
          "MindsetKito",
          "TheFabo",
          "zBro",
          "Krusti",
          "lolisamasan",
          "La_meleagro",
          "Mincheeen",
          "ByNetherdude",
          "GermanPie",
          "Allooy",
          "byTobi",
          "GeneralEnte06",
          "DieserBear",
          "deadfiight",
          "xX_Dima_ggg_Xx6",
          "M0osebumps",
          "Feinberg",
          "HeIsJustAPoorBoy",
          "NotLennart",
          "YBCM",
          "Teesily",
          "Bikoop",
          "Lennart0911",
          "frutigall",
          "Shiewk",
          "Ungluecklicher",
          "Wienerisch",
          "xBaumeisterin",
          "Squashgitter333",
          "Ritokii",
          "Keenaai",
          "Kyuudo",
          "Verwunschene",
          "Morittz",
          "chrisihalt",
          "Gryzes",
          "EinfachEazy",
          "LordAlexos",
          "LucaaOn",
          "Luxemburq",
          "Falke23_5",
          "Gfrasti",
          "Dokkkkko",
          "IchHolzDichWeg",
          "Lingex",
          "GrafikKatze",
          "Simlll",
          "shellny",
          "bawskey",
          "GamemasterNiki",
          "TheBreadHD",
          "DerBaumIstDerWeg",
          "DrSpeed06",
          "Jan2220",
          "Wissender",
          "Mvsk_",
          "Oronor",
          "juvona",
          "MrNulfred"
         ],
         "y": [
          [
           83.33333333333333,
           83.33333333333333
          ],
          [
           100,
           100
          ],
          [
           46.666666666666664,
           46.666666666666664
          ],
          [
           0,
           0
          ],
          [
           0,
           0
          ],
          [
           0,
           0
          ],
          [
           0,
           0
          ],
          [
           56.666666666666664,
           56.666666666666664
          ],
          [
           0,
           0
          ],
          [
           80,
           80
          ],
          [
           0,
           0
          ],
          [
           0,
           0
          ],
          [
           40,
           40
          ],
          [
           13.333333333333334,
           13.333333333333334
          ],
          [
           0,
           0
          ],
          [
           0,
           0
          ],
          [
           0,
           0
          ],
          [
           0,
           0
          ],
          [
           0,
           0
          ],
          [
           0,
           0
          ],
          [
           0,
           0
          ],
          [
           0,
           0
          ],
          [
           26.666666666666668,
           26.666666666666668
          ],
          [
           0,
           0
          ],
          [
           0,
           0
          ],
          [
           0,
           0
          ],
          [
           6.666666666666667,
           6.666666666666667
          ],
          [
           0,
           0
          ],
          [
           0,
           0
          ],
          [
           0,
           0
          ],
          [
           0,
           0
          ],
          [
           0,
           0
          ],
          [
           0,
           0
          ],
          [
           0,
           0
          ],
          [
           0,
           0
          ],
          [
           0,
           0
          ],
          [
           0,
           0
          ],
          [
           0,
           0
          ],
          [
           0,
           0
          ],
          [
           20,
           20
          ],
          [
           0,
           0
          ],
          [
           0,
           0
          ],
          [
           0,
           0
          ],
          [
           0,
           0
          ],
          [
           0,
           0
          ],
          [
           0,
           0
          ],
          [
           0,
           0
          ],
          [
           0,
           0
          ],
          [
           0,
           0
          ],
          [
           0,
           0
          ],
          [
           16.666666666666668,
           16.666666666666668
          ],
          [
           0,
           0
          ],
          [
           0,
           0
          ],
          [
           0,
           0
          ],
          [
           0,
           0
          ],
          [
           0,
           0
          ],
          [
           0,
           0
          ],
          [
           0,
           0
          ],
          [
           0,
           0
          ],
          [
           0,
           0
          ],
          [
           0,
           0
          ],
          [
           0,
           0
          ],
          [
           0,
           0
          ],
          [
           0,
           0
          ],
          [
           0,
           0
          ],
          [
           0,
           0
          ],
          [
           0,
           0
          ],
          [
           0,
           0
          ],
          [
           0,
           0
          ],
          [
           0,
           0
          ],
          [
           0,
           0
          ],
          [
           0,
           0
          ],
          [
           0,
           0
          ],
          [
           0,
           0
          ],
          [
           0,
           0
          ],
          [
           16.666666666666668,
           16.666666666666668
          ],
          [
           0,
           0
          ],
          [
           0,
           0
          ],
          [
           0,
           0
          ],
          [
           0,
           0
          ],
          [
           0,
           0
          ],
          [
           0,
           0
          ],
          [
           16.666666666666668,
           16.666666666666668
          ],
          [
           0,
           0
          ],
          [
           0,
           0
          ],
          [
           0,
           0
          ],
          [
           0,
           0
          ],
          [
           0,
           0
          ],
          [
           0,
           0
          ],
          [
           0,
           0
          ],
          [
           0,
           0
          ],
          [
           0,
           0
          ],
          [
           0,
           0
          ],
          [
           0,
           0
          ],
          [
           0,
           0
          ],
          [
           0,
           0
          ],
          [
           0,
           0
          ],
          [
           0,
           0
          ],
          [
           0,
           0
          ],
          [
           0,
           0
          ]
         ]
        },
        {
         "marker": {
          "color": "rgb(153, 153, 51)"
         },
         "name": "Freier Fall",
         "type": "bar",
         "x": [
          "Fflopse",
          "ReichesBrot",
          "Gobo9",
          "cediiiiii_10",
          "PedroZockt",
          "HerrDante",
          "Ex4cted",
          "_n3d",
          "JOW23",
          "Freeeedom",
          "yiiq",
          "lizsyy",
          "CML_Justin",
          "Umgfoin",
          "2wc",
          "DarkCobweb",
          "yzvm",
          "Ninivee",
          "camman18YT",
          "KakaMC",
          "Grapfen",
          "FrozenNoah",
          "ffawks",
          "Gerrygames",
          "toxicplace",
          "LeMetin_",
          "Sey__",
          "Pluto28",
          "MoZadaCraft",
          "miridis41",
          "2B9",
          "h4nnes",
          "Gummibearchen",
          "Sower_",
          "LeWi_100",
          "MaxMitMaulkorb",
          "Schmaarek",
          "unausgesprochen",
          "Davinci_Son",
          "Janne4k",
          "Lubottus",
          "MindsetKito",
          "TheFabo",
          "zBro",
          "Krusti",
          "lolisamasan",
          "La_meleagro",
          "Mincheeen",
          "ByNetherdude",
          "GermanPie",
          "Allooy",
          "byTobi",
          "GeneralEnte06",
          "DieserBear",
          "deadfiight",
          "xX_Dima_ggg_Xx6",
          "M0osebumps",
          "Feinberg",
          "HeIsJustAPoorBoy",
          "NotLennart",
          "YBCM",
          "Teesily",
          "Bikoop",
          "Lennart0911",
          "frutigall",
          "Shiewk",
          "Ungluecklicher",
          "Wienerisch",
          "xBaumeisterin",
          "Squashgitter333",
          "Ritokii",
          "Keenaai",
          "Kyuudo",
          "Verwunschene",
          "Morittz",
          "chrisihalt",
          "Gryzes",
          "EinfachEazy",
          "LordAlexos",
          "LucaaOn",
          "Luxemburq",
          "Falke23_5",
          "Gfrasti",
          "Dokkkkko",
          "IchHolzDichWeg",
          "Lingex",
          "GrafikKatze",
          "Simlll",
          "shellny",
          "bawskey",
          "GamemasterNiki",
          "TheBreadHD",
          "DerBaumIstDerWeg",
          "DrSpeed06",
          "Jan2220",
          "Wissender",
          "Mvsk_",
          "Oronor",
          "juvona",
          "MrNulfred"
         ],
         "y": [
          [
           47.5,
           47.5
          ],
          [
           35,
           35
          ],
          [
           50,
           50
          ],
          [
           50,
           50
          ],
          [
           25,
           25
          ],
          [
           62.5,
           62.5
          ],
          [
           12.5,
           12.5
          ],
          [
           7.5,
           7.5
          ],
          [
           0,
           0
          ],
          [
           12.5,
           12.5
          ],
          [
           0,
           0
          ],
          [
           0,
           0
          ],
          [
           5,
           5
          ],
          [
           0,
           0
          ],
          [
           40,
           40
          ],
          [
           0,
           0
          ],
          [
           0,
           0
          ],
          [
           0,
           0
          ],
          [
           0,
           0
          ],
          [
           0,
           0
          ],
          [
           0,
           0
          ],
          [
           0,
           0
          ],
          [
           0,
           0
          ],
          [
           25,
           25
          ],
          [
           0,
           0
          ],
          [
           17.5,
           17.5
          ],
          [
           10,
           10
          ],
          [
           0,
           0
          ],
          [
           0,
           0
          ],
          [
           0,
           0
          ],
          [
           0,
           0
          ],
          [
           0,
           0
          ],
          [
           0,
           0
          ],
          [
           20,
           20
          ],
          [
           0,
           0
          ],
          [
           12.5,
           12.5
          ],
          [
           0,
           0
          ],
          [
           17.5,
           17.5
          ],
          [
           0,
           0
          ],
          [
           10,
           10
          ],
          [
           0,
           0
          ],
          [
           0,
           0
          ],
          [
           17.5,
           17.5
          ],
          [
           7.5,
           7.5
          ],
          [
           0,
           0
          ],
          [
           0,
           0
          ],
          [
           0,
           0
          ],
          [
           0,
           0
          ],
          [
           0,
           0
          ],
          [
           0,
           0
          ],
          [
           0,
           0
          ],
          [
           0,
           0
          ],
          [
           0,
           0
          ],
          [
           5,
           5
          ],
          [
           0,
           0
          ],
          [
           0,
           0
          ],
          [
           0,
           0
          ],
          [
           0,
           0
          ],
          [
           0,
           0
          ],
          [
           0,
           0
          ],
          [
           0,
           0
          ],
          [
           0,
           0
          ],
          [
           0,
           0
          ],
          [
           0,
           0
          ],
          [
           0,
           0
          ],
          [
           0,
           0
          ],
          [
           0,
           0
          ],
          [
           0,
           0
          ],
          [
           0,
           0
          ],
          [
           35,
           35
          ],
          [
           10,
           10
          ],
          [
           0,
           0
          ],
          [
           0,
           0
          ],
          [
           0,
           0
          ],
          [
           0,
           0
          ],
          [
           0,
           0
          ],
          [
           0,
           0
          ],
          [
           0,
           0
          ],
          [
           0,
           0
          ],
          [
           0,
           0
          ],
          [
           0,
           0
          ],
          [
           5,
           5
          ],
          [
           0,
           0
          ],
          [
           0,
           0
          ],
          [
           0,
           0
          ],
          [
           0,
           0
          ],
          [
           0,
           0
          ],
          [
           0,
           0
          ],
          [
           0,
           0
          ],
          [
           0,
           0
          ],
          [
           0,
           0
          ],
          [
           0,
           0
          ],
          [
           0,
           0
          ],
          [
           0,
           0
          ],
          [
           0,
           0
          ],
          [
           0,
           0
          ],
          [
           0,
           0
          ],
          [
           0,
           0
          ],
          [
           0,
           0
          ],
          [
           0,
           0
          ]
         ]
        },
        {
         "marker": {
          "color": "rgb(136, 34, 85)"
         },
         "name": "Frostiger Pfad",
         "type": "bar",
         "x": [
          "Fflopse",
          "ReichesBrot",
          "Gobo9",
          "cediiiiii_10",
          "PedroZockt",
          "HerrDante",
          "Ex4cted",
          "_n3d",
          "JOW23",
          "Freeeedom",
          "yiiq",
          "lizsyy",
          "CML_Justin",
          "Umgfoin",
          "2wc",
          "DarkCobweb",
          "yzvm",
          "Ninivee",
          "camman18YT",
          "KakaMC",
          "Grapfen",
          "FrozenNoah",
          "ffawks",
          "Gerrygames",
          "toxicplace",
          "LeMetin_",
          "Sey__",
          "Pluto28",
          "MoZadaCraft",
          "miridis41",
          "2B9",
          "h4nnes",
          "Gummibearchen",
          "Sower_",
          "LeWi_100",
          "MaxMitMaulkorb",
          "Schmaarek",
          "unausgesprochen",
          "Davinci_Son",
          "Janne4k",
          "Lubottus",
          "MindsetKito",
          "TheFabo",
          "zBro",
          "Krusti",
          "lolisamasan",
          "La_meleagro",
          "Mincheeen",
          "ByNetherdude",
          "GermanPie",
          "Allooy",
          "byTobi",
          "GeneralEnte06",
          "DieserBear",
          "deadfiight",
          "xX_Dima_ggg_Xx6",
          "M0osebumps",
          "Feinberg",
          "HeIsJustAPoorBoy",
          "NotLennart",
          "YBCM",
          "Teesily",
          "Bikoop",
          "Lennart0911",
          "frutigall",
          "Shiewk",
          "Ungluecklicher",
          "Wienerisch",
          "xBaumeisterin",
          "Squashgitter333",
          "Ritokii",
          "Keenaai",
          "Kyuudo",
          "Verwunschene",
          "Morittz",
          "chrisihalt",
          "Gryzes",
          "EinfachEazy",
          "LordAlexos",
          "LucaaOn",
          "Luxemburq",
          "Falke23_5",
          "Gfrasti",
          "Dokkkkko",
          "IchHolzDichWeg",
          "Lingex",
          "GrafikKatze",
          "Simlll",
          "shellny",
          "bawskey",
          "GamemasterNiki",
          "TheBreadHD",
          "DerBaumIstDerWeg",
          "DrSpeed06",
          "Jan2220",
          "Wissender",
          "Mvsk_",
          "Oronor",
          "juvona",
          "MrNulfred"
         ],
         "y": [
          [
           0,
           0
          ],
          [
           90,
           90
          ],
          [
           100,
           100
          ],
          [
           0,
           0
          ],
          [
           0,
           0
          ],
          [
           0,
           0
          ],
          [
           0,
           0
          ],
          [
           20,
           20
          ],
          [
           0,
           0
          ],
          [
           80,
           80
          ],
          [
           0,
           0
          ],
          [
           0,
           0
          ],
          [
           0,
           0
          ],
          [
           0,
           0
          ],
          [
           0,
           0
          ],
          [
           0,
           0
          ],
          [
           0,
           0
          ],
          [
           60,
           60
          ],
          [
           0,
           0
          ],
          [
           0,
           0
          ],
          [
           0,
           0
          ],
          [
           0,
           0
          ],
          [
           0,
           0
          ],
          [
           0,
           0
          ],
          [
           0,
           0
          ],
          [
           0,
           0
          ],
          [
           0,
           0
          ],
          [
           70,
           70
          ],
          [
           0,
           0
          ],
          [
           0,
           0
          ],
          [
           0,
           0
          ],
          [
           0,
           0
          ],
          [
           0,
           0
          ],
          [
           0,
           0
          ],
          [
           0,
           0
          ],
          [
           0,
           0
          ],
          [
           0,
           0
          ],
          [
           0,
           0
          ],
          [
           0,
           0
          ],
          [
           40,
           40
          ],
          [
           0,
           0
          ],
          [
           0,
           0
          ],
          [
           0,
           0
          ],
          [
           0,
           0
          ],
          [
           0,
           0
          ],
          [
           0,
           0
          ],
          [
           0,
           0
          ],
          [
           0,
           0
          ],
          [
           0,
           0
          ],
          [
           0,
           0
          ],
          [
           0,
           0
          ],
          [
           0,
           0
          ],
          [
           0,
           0
          ],
          [
           0,
           0
          ],
          [
           0,
           0
          ],
          [
           0,
           0
          ],
          [
           0,
           0
          ],
          [
           0,
           0
          ],
          [
           0,
           0
          ],
          [
           0,
           0
          ],
          [
           0,
           0
          ],
          [
           0,
           0
          ],
          [
           0,
           0
          ],
          [
           0,
           0
          ],
          [
           0,
           0
          ],
          [
           0,
           0
          ],
          [
           0,
           0
          ],
          [
           50,
           50
          ],
          [
           0,
           0
          ],
          [
           0,
           0
          ],
          [
           0,
           0
          ],
          [
           0,
           0
          ],
          [
           0,
           0
          ],
          [
           0,
           0
          ],
          [
           0,
           0
          ],
          [
           0,
           0
          ],
          [
           0,
           0
          ],
          [
           0,
           0
          ],
          [
           0,
           0
          ],
          [
           0,
           0
          ],
          [
           0,
           0
          ],
          [
           0,
           0
          ],
          [
           0,
           0
          ],
          [
           0,
           0
          ],
          [
           0,
           0
          ],
          [
           0,
           0
          ],
          [
           0,
           0
          ],
          [
           0,
           0
          ],
          [
           0,
           0
          ],
          [
           0,
           0
          ],
          [
           0,
           0
          ],
          [
           0,
           0
          ],
          [
           0,
           0
          ],
          [
           30,
           30
          ],
          [
           0,
           0
          ],
          [
           0,
           0
          ],
          [
           0,
           0
          ],
          [
           0,
           0
          ],
          [
           0,
           0
          ],
          [
           0,
           0
          ]
         ]
        },
        {
         "marker": {
          "color": "rgb(102, 17, 0)"
         },
         "name": "Hoch hinaus",
         "type": "bar",
         "x": [
          "Fflopse",
          "ReichesBrot",
          "Gobo9",
          "cediiiiii_10",
          "PedroZockt",
          "HerrDante",
          "Ex4cted",
          "_n3d",
          "JOW23",
          "Freeeedom",
          "yiiq",
          "lizsyy",
          "CML_Justin",
          "Umgfoin",
          "2wc",
          "DarkCobweb",
          "yzvm",
          "Ninivee",
          "camman18YT",
          "KakaMC",
          "Grapfen",
          "FrozenNoah",
          "ffawks",
          "Gerrygames",
          "toxicplace",
          "LeMetin_",
          "Sey__",
          "Pluto28",
          "MoZadaCraft",
          "miridis41",
          "2B9",
          "h4nnes",
          "Gummibearchen",
          "Sower_",
          "LeWi_100",
          "MaxMitMaulkorb",
          "Schmaarek",
          "unausgesprochen",
          "Davinci_Son",
          "Janne4k",
          "Lubottus",
          "MindsetKito",
          "TheFabo",
          "zBro",
          "Krusti",
          "lolisamasan",
          "La_meleagro",
          "Mincheeen",
          "ByNetherdude",
          "GermanPie",
          "Allooy",
          "byTobi",
          "GeneralEnte06",
          "DieserBear",
          "deadfiight",
          "xX_Dima_ggg_Xx6",
          "M0osebumps",
          "Feinberg",
          "HeIsJustAPoorBoy",
          "NotLennart",
          "YBCM",
          "Teesily",
          "Bikoop",
          "Lennart0911",
          "frutigall",
          "Shiewk",
          "Ungluecklicher",
          "Wienerisch",
          "xBaumeisterin",
          "Squashgitter333",
          "Ritokii",
          "Keenaai",
          "Kyuudo",
          "Verwunschene",
          "Morittz",
          "chrisihalt",
          "Gryzes",
          "EinfachEazy",
          "LordAlexos",
          "LucaaOn",
          "Luxemburq",
          "Falke23_5",
          "Gfrasti",
          "Dokkkkko",
          "IchHolzDichWeg",
          "Lingex",
          "GrafikKatze",
          "Simlll",
          "shellny",
          "bawskey",
          "GamemasterNiki",
          "TheBreadHD",
          "DerBaumIstDerWeg",
          "DrSpeed06",
          "Jan2220",
          "Wissender",
          "Mvsk_",
          "Oronor",
          "juvona",
          "MrNulfred"
         ],
         "y": [
          [
           80,
           80
          ],
          [
           60,
           60
          ],
          [
           70,
           70
          ],
          [
           0,
           0
          ],
          [
           90,
           90
          ],
          [
           0,
           0
          ],
          [
           20,
           20
          ],
          [
           0,
           0
          ],
          [
           50,
           50
          ],
          [
           0,
           0
          ],
          [
           0,
           0
          ],
          [
           0,
           0
          ],
          [
           40,
           40
          ],
          [
           0,
           0
          ],
          [
           0,
           0
          ],
          [
           0,
           0
          ],
          [
           0,
           0
          ],
          [
           0,
           0
          ],
          [
           0,
           0
          ],
          [
           0,
           0
          ],
          [
           0,
           0
          ],
          [
           0,
           0
          ],
          [
           0,
           0
          ],
          [
           0,
           0
          ],
          [
           0,
           0
          ],
          [
           0,
           0
          ],
          [
           0,
           0
          ],
          [
           0,
           0
          ],
          [
           0,
           0
          ],
          [
           0,
           0
          ],
          [
           0,
           0
          ],
          [
           0,
           0
          ],
          [
           0,
           0
          ],
          [
           0,
           0
          ],
          [
           0,
           0
          ],
          [
           0,
           0
          ],
          [
           0,
           0
          ],
          [
           0,
           0
          ],
          [
           0,
           0
          ],
          [
           0,
           0
          ],
          [
           0,
           0
          ],
          [
           0,
           0
          ],
          [
           0,
           0
          ],
          [
           0,
           0
          ],
          [
           0,
           0
          ],
          [
           0,
           0
          ],
          [
           0,
           0
          ],
          [
           0,
           0
          ],
          [
           100,
           100
          ],
          [
           0,
           0
          ],
          [
           0,
           0
          ],
          [
           0,
           0
          ],
          [
           0,
           0
          ],
          [
           0,
           0
          ],
          [
           0,
           0
          ],
          [
           0,
           0
          ],
          [
           0,
           0
          ],
          [
           0,
           0
          ],
          [
           0,
           0
          ],
          [
           0,
           0
          ],
          [
           0,
           0
          ],
          [
           0,
           0
          ],
          [
           0,
           0
          ],
          [
           30,
           30
          ],
          [
           0,
           0
          ],
          [
           0,
           0
          ],
          [
           0,
           0
          ],
          [
           0,
           0
          ],
          [
           0,
           0
          ],
          [
           0,
           0
          ],
          [
           0,
           0
          ],
          [
           0,
           0
          ],
          [
           0,
           0
          ],
          [
           0,
           0
          ],
          [
           0,
           0
          ],
          [
           0,
           0
          ],
          [
           0,
           0
          ],
          [
           0,
           0
          ],
          [
           0,
           0
          ],
          [
           0,
           0
          ],
          [
           0,
           0
          ],
          [
           0,
           0
          ],
          [
           0,
           0
          ],
          [
           0,
           0
          ],
          [
           0,
           0
          ],
          [
           0,
           0
          ],
          [
           0,
           0
          ],
          [
           0,
           0
          ],
          [
           0,
           0
          ],
          [
           0,
           0
          ],
          [
           0,
           0
          ],
          [
           0,
           0
          ],
          [
           0,
           0
          ],
          [
           0,
           0
          ],
          [
           0,
           0
          ],
          [
           0,
           0
          ],
          [
           0,
           0
          ],
          [
           0,
           0
          ],
          [
           0,
           0
          ],
          [
           0,
           0
          ]
         ]
        },
        {
         "marker": {
          "color": "rgb(136, 136, 136)"
         },
         "name": "Jump and Run",
         "type": "bar",
         "x": [
          "Fflopse",
          "ReichesBrot",
          "Gobo9",
          "cediiiiii_10",
          "PedroZockt",
          "HerrDante",
          "Ex4cted",
          "_n3d",
          "JOW23",
          "Freeeedom",
          "yiiq",
          "lizsyy",
          "CML_Justin",
          "Umgfoin",
          "2wc",
          "DarkCobweb",
          "yzvm",
          "Ninivee",
          "camman18YT",
          "KakaMC",
          "Grapfen",
          "FrozenNoah",
          "ffawks",
          "Gerrygames",
          "toxicplace",
          "LeMetin_",
          "Sey__",
          "Pluto28",
          "MoZadaCraft",
          "miridis41",
          "2B9",
          "h4nnes",
          "Gummibearchen",
          "Sower_",
          "LeWi_100",
          "MaxMitMaulkorb",
          "Schmaarek",
          "unausgesprochen",
          "Davinci_Son",
          "Janne4k",
          "Lubottus",
          "MindsetKito",
          "TheFabo",
          "zBro",
          "Krusti",
          "lolisamasan",
          "La_meleagro",
          "Mincheeen",
          "ByNetherdude",
          "GermanPie",
          "Allooy",
          "byTobi",
          "GeneralEnte06",
          "DieserBear",
          "deadfiight",
          "xX_Dima_ggg_Xx6",
          "M0osebumps",
          "Feinberg",
          "HeIsJustAPoorBoy",
          "NotLennart",
          "YBCM",
          "Teesily",
          "Bikoop",
          "Lennart0911",
          "frutigall",
          "Shiewk",
          "Ungluecklicher",
          "Wienerisch",
          "xBaumeisterin",
          "Squashgitter333",
          "Ritokii",
          "Keenaai",
          "Kyuudo",
          "Verwunschene",
          "Morittz",
          "chrisihalt",
          "Gryzes",
          "EinfachEazy",
          "LordAlexos",
          "LucaaOn",
          "Luxemburq",
          "Falke23_5",
          "Gfrasti",
          "Dokkkkko",
          "IchHolzDichWeg",
          "Lingex",
          "GrafikKatze",
          "Simlll",
          "shellny",
          "bawskey",
          "GamemasterNiki",
          "TheBreadHD",
          "DerBaumIstDerWeg",
          "DrSpeed06",
          "Jan2220",
          "Wissender",
          "Mvsk_",
          "Oronor",
          "juvona",
          "MrNulfred"
         ],
         "y": [
          [
           53.333333333333336,
           53.333333333333336
          ],
          [
           93.33333333333333,
           93.33333333333333
          ],
          [
           93.33333333333333,
           93.33333333333333
          ],
          [
           20,
           20
          ],
          [
           33.333333333333336,
           33.333333333333336
          ],
          [
           23.333333333333332,
           23.333333333333332
          ],
          [
           0,
           0
          ],
          [
           0,
           0
          ],
          [
           0,
           0
          ],
          [
           0,
           0
          ],
          [
           0,
           0
          ],
          [
           13.333333333333334,
           13.333333333333334
          ],
          [
           0,
           0
          ],
          [
           0,
           0
          ],
          [
           13.333333333333334,
           13.333333333333334
          ],
          [
           0,
           0
          ],
          [
           0,
           0
          ],
          [
           0,
           0
          ],
          [
           33.333333333333336,
           33.333333333333336
          ],
          [
           10,
           10
          ],
          [
           0,
           0
          ],
          [
           0,
           0
          ],
          [
           0,
           0
          ],
          [
           0,
           0
          ],
          [
           40,
           40
          ],
          [
           0,
           0
          ],
          [
           40,
           40
          ],
          [
           0,
           0
          ],
          [
           0,
           0
          ],
          [
           0,
           0
          ],
          [
           0,
           0
          ],
          [
           0,
           0
          ],
          [
           0,
           0
          ],
          [
           0,
           0
          ],
          [
           40,
           40
          ],
          [
           0,
           0
          ],
          [
           0,
           0
          ],
          [
           0,
           0
          ],
          [
           0,
           0
          ],
          [
           0,
           0
          ],
          [
           0,
           0
          ],
          [
           0,
           0
          ],
          [
           0,
           0
          ],
          [
           0,
           0
          ],
          [
           0,
           0
          ],
          [
           0,
           0
          ],
          [
           0,
           0
          ],
          [
           0,
           0
          ],
          [
           0,
           0
          ],
          [
           0,
           0
          ],
          [
           0,
           0
          ],
          [
           0,
           0
          ],
          [
           0,
           0
          ],
          [
           0,
           0
          ],
          [
           0,
           0
          ],
          [
           0,
           0
          ],
          [
           0,
           0
          ],
          [
           0,
           0
          ],
          [
           0,
           0
          ],
          [
           0,
           0
          ],
          [
           0,
           0
          ],
          [
           0,
           0
          ],
          [
           0,
           0
          ],
          [
           0,
           0
          ],
          [
           0,
           0
          ],
          [
           0,
           0
          ],
          [
           0,
           0
          ],
          [
           0,
           0
          ],
          [
           0,
           0
          ],
          [
           0,
           0
          ],
          [
           0,
           0
          ],
          [
           0,
           0
          ],
          [
           0,
           0
          ],
          [
           0,
           0
          ],
          [
           0,
           0
          ],
          [
           0,
           0
          ],
          [
           0,
           0
          ],
          [
           0,
           0
          ],
          [
           0,
           0
          ],
          [
           0,
           0
          ],
          [
           0,
           0
          ],
          [
           0,
           0
          ],
          [
           0,
           0
          ],
          [
           0,
           0
          ],
          [
           0,
           0
          ],
          [
           0,
           0
          ],
          [
           10,
           10
          ],
          [
           0,
           0
          ],
          [
           0,
           0
          ],
          [
           0,
           0
          ],
          [
           0,
           0
          ],
          [
           0,
           0
          ],
          [
           16.666666666666668,
           16.666666666666668
          ],
          [
           0,
           0
          ],
          [
           0,
           0
          ],
          [
           0,
           0
          ],
          [
           0,
           0
          ],
          [
           0,
           0
          ],
          [
           0,
           0
          ],
          [
           0,
           0
          ]
         ]
        },
        {
         "marker": {
          "color": "rgb(136, 204, 238)"
         },
         "name": "Kletter-König",
         "type": "bar",
         "x": [
          "Fflopse",
          "ReichesBrot",
          "Gobo9",
          "cediiiiii_10",
          "PedroZockt",
          "HerrDante",
          "Ex4cted",
          "_n3d",
          "JOW23",
          "Freeeedom",
          "yiiq",
          "lizsyy",
          "CML_Justin",
          "Umgfoin",
          "2wc",
          "DarkCobweb",
          "yzvm",
          "Ninivee",
          "camman18YT",
          "KakaMC",
          "Grapfen",
          "FrozenNoah",
          "ffawks",
          "Gerrygames",
          "toxicplace",
          "LeMetin_",
          "Sey__",
          "Pluto28",
          "MoZadaCraft",
          "miridis41",
          "2B9",
          "h4nnes",
          "Gummibearchen",
          "Sower_",
          "LeWi_100",
          "MaxMitMaulkorb",
          "Schmaarek",
          "unausgesprochen",
          "Davinci_Son",
          "Janne4k",
          "Lubottus",
          "MindsetKito",
          "TheFabo",
          "zBro",
          "Krusti",
          "lolisamasan",
          "La_meleagro",
          "Mincheeen",
          "ByNetherdude",
          "GermanPie",
          "Allooy",
          "byTobi",
          "GeneralEnte06",
          "DieserBear",
          "deadfiight",
          "xX_Dima_ggg_Xx6",
          "M0osebumps",
          "Feinberg",
          "HeIsJustAPoorBoy",
          "NotLennart",
          "YBCM",
          "Teesily",
          "Bikoop",
          "Lennart0911",
          "frutigall",
          "Shiewk",
          "Ungluecklicher",
          "Wienerisch",
          "xBaumeisterin",
          "Squashgitter333",
          "Ritokii",
          "Keenaai",
          "Kyuudo",
          "Verwunschene",
          "Morittz",
          "chrisihalt",
          "Gryzes",
          "EinfachEazy",
          "LordAlexos",
          "LucaaOn",
          "Luxemburq",
          "Falke23_5",
          "Gfrasti",
          "Dokkkkko",
          "IchHolzDichWeg",
          "Lingex",
          "GrafikKatze",
          "Simlll",
          "shellny",
          "bawskey",
          "GamemasterNiki",
          "TheBreadHD",
          "DerBaumIstDerWeg",
          "DrSpeed06",
          "Jan2220",
          "Wissender",
          "Mvsk_",
          "Oronor",
          "juvona",
          "MrNulfred"
         ],
         "y": [
          [
           85,
           85
          ],
          [
           100,
           100
          ],
          [
           30,
           30
          ],
          [
           0,
           0
          ],
          [
           10,
           10
          ],
          [
           20,
           20
          ],
          [
           0,
           0
          ],
          [
           0,
           0
          ],
          [
           0,
           0
          ],
          [
           0,
           0
          ],
          [
           80,
           80
          ],
          [
           0,
           0
          ],
          [
           0,
           0
          ],
          [
           0,
           0
          ],
          [
           0,
           0
          ],
          [
           0,
           0
          ],
          [
           20,
           20
          ],
          [
           0,
           0
          ],
          [
           40,
           40
          ],
          [
           0,
           0
          ],
          [
           0,
           0
          ],
          [
           0,
           0
          ],
          [
           15,
           15
          ],
          [
           0,
           0
          ],
          [
           0,
           0
          ],
          [
           0,
           0
          ],
          [
           0,
           0
          ],
          [
           0,
           0
          ],
          [
           0,
           0
          ],
          [
           0,
           0
          ],
          [
           0,
           0
          ],
          [
           0,
           0
          ],
          [
           0,
           0
          ],
          [
           0,
           0
          ],
          [
           35,
           35
          ],
          [
           0,
           0
          ],
          [
           0,
           0
          ],
          [
           0,
           0
          ],
          [
           0,
           0
          ],
          [
           0,
           0
          ],
          [
           40,
           40
          ],
          [
           0,
           0
          ],
          [
           0,
           0
          ],
          [
           0,
           0
          ],
          [
           0,
           0
          ],
          [
           0,
           0
          ],
          [
           0,
           0
          ],
          [
           0,
           0
          ],
          [
           0,
           0
          ],
          [
           0,
           0
          ],
          [
           0,
           0
          ],
          [
           0,
           0
          ],
          [
           0,
           0
          ],
          [
           0,
           0
          ],
          [
           0,
           0
          ],
          [
           40,
           40
          ],
          [
           0,
           0
          ],
          [
           25,
           25
          ],
          [
           0,
           0
          ],
          [
           0,
           0
          ],
          [
           0,
           0
          ],
          [
           0,
           0
          ],
          [
           0,
           0
          ],
          [
           0,
           0
          ],
          [
           0,
           0
          ],
          [
           0,
           0
          ],
          [
           0,
           0
          ],
          [
           0,
           0
          ],
          [
           0,
           0
          ],
          [
           0,
           0
          ],
          [
           0,
           0
          ],
          [
           0,
           0
          ],
          [
           0,
           0
          ],
          [
           0,
           0
          ],
          [
           0,
           0
          ],
          [
           0,
           0
          ],
          [
           0,
           0
          ],
          [
           0,
           0
          ],
          [
           0,
           0
          ],
          [
           0,
           0
          ],
          [
           0,
           0
          ],
          [
           0,
           0
          ],
          [
           0,
           0
          ],
          [
           0,
           0
          ],
          [
           0,
           0
          ],
          [
           0,
           0
          ],
          [
           0,
           0
          ],
          [
           0,
           0
          ],
          [
           0,
           0
          ],
          [
           0,
           0
          ],
          [
           0,
           0
          ],
          [
           0,
           0
          ],
          [
           0,
           0
          ],
          [
           0,
           0
          ],
          [
           0,
           0
          ],
          [
           0,
           0
          ],
          [
           0,
           0
          ],
          [
           0,
           0
          ],
          [
           0,
           0
          ],
          [
           0,
           0
          ]
         ]
        },
        {
         "marker": {
          "color": "rgb(204, 102, 119)"
         },
         "name": "Lasertag",
         "type": "bar",
         "x": [
          "Fflopse",
          "ReichesBrot",
          "Gobo9",
          "cediiiiii_10",
          "PedroZockt",
          "HerrDante",
          "Ex4cted",
          "_n3d",
          "JOW23",
          "Freeeedom",
          "yiiq",
          "lizsyy",
          "CML_Justin",
          "Umgfoin",
          "2wc",
          "DarkCobweb",
          "yzvm",
          "Ninivee",
          "camman18YT",
          "KakaMC",
          "Grapfen",
          "FrozenNoah",
          "ffawks",
          "Gerrygames",
          "toxicplace",
          "LeMetin_",
          "Sey__",
          "Pluto28",
          "MoZadaCraft",
          "miridis41",
          "2B9",
          "h4nnes",
          "Gummibearchen",
          "Sower_",
          "LeWi_100",
          "MaxMitMaulkorb",
          "Schmaarek",
          "unausgesprochen",
          "Davinci_Son",
          "Janne4k",
          "Lubottus",
          "MindsetKito",
          "TheFabo",
          "zBro",
          "Krusti",
          "lolisamasan",
          "La_meleagro",
          "Mincheeen",
          "ByNetherdude",
          "GermanPie",
          "Allooy",
          "byTobi",
          "GeneralEnte06",
          "DieserBear",
          "deadfiight",
          "xX_Dima_ggg_Xx6",
          "M0osebumps",
          "Feinberg",
          "HeIsJustAPoorBoy",
          "NotLennart",
          "YBCM",
          "Teesily",
          "Bikoop",
          "Lennart0911",
          "frutigall",
          "Shiewk",
          "Ungluecklicher",
          "Wienerisch",
          "xBaumeisterin",
          "Squashgitter333",
          "Ritokii",
          "Keenaai",
          "Kyuudo",
          "Verwunschene",
          "Morittz",
          "chrisihalt",
          "Gryzes",
          "EinfachEazy",
          "LordAlexos",
          "LucaaOn",
          "Luxemburq",
          "Falke23_5",
          "Gfrasti",
          "Dokkkkko",
          "IchHolzDichWeg",
          "Lingex",
          "GrafikKatze",
          "Simlll",
          "shellny",
          "bawskey",
          "GamemasterNiki",
          "TheBreadHD",
          "DerBaumIstDerWeg",
          "DrSpeed06",
          "Jan2220",
          "Wissender",
          "Mvsk_",
          "Oronor",
          "juvona",
          "MrNulfred"
         ],
         "y": [
          [
           83.33333333333333,
           83.33333333333333
          ],
          [
           0,
           0
          ],
          [
           26.666666666666668,
           26.666666666666668
          ],
          [
           0,
           0
          ],
          [
           33.333333333333336,
           33.333333333333336
          ],
          [
           83.33333333333333,
           83.33333333333333
          ],
          [
           30,
           30
          ],
          [
           0,
           0
          ],
          [
           50,
           50
          ],
          [
           0,
           0
          ],
          [
           0,
           0
          ],
          [
           0,
           0
          ],
          [
           0,
           0
          ],
          [
           0,
           0
          ],
          [
           23.333333333333332,
           23.333333333333332
          ],
          [
           0,
           0
          ],
          [
           0,
           0
          ],
          [
           0,
           0
          ],
          [
           0,
           0
          ],
          [
           0,
           0
          ],
          [
           10,
           10
          ],
          [
           0,
           0
          ],
          [
           26.666666666666668,
           26.666666666666668
          ],
          [
           0,
           0
          ],
          [
           0,
           0
          ],
          [
           0,
           0
          ],
          [
           0,
           0
          ],
          [
           0,
           0
          ],
          [
           0,
           0
          ],
          [
           0,
           0
          ],
          [
           0,
           0
          ],
          [
           20,
           20
          ],
          [
           0,
           0
          ],
          [
           0,
           0
          ],
          [
           0,
           0
          ],
          [
           0,
           0
          ],
          [
           0,
           0
          ],
          [
           30,
           30
          ],
          [
           13.333333333333334,
           13.333333333333334
          ],
          [
           0,
           0
          ],
          [
           0,
           0
          ],
          [
           33.333333333333336,
           33.333333333333336
          ],
          [
           46.666666666666664,
           46.666666666666664
          ],
          [
           10,
           10
          ],
          [
           0,
           0
          ],
          [
           20,
           20
          ],
          [
           0,
           0
          ],
          [
           0,
           0
          ],
          [
           0,
           0
          ],
          [
           0,
           0
          ],
          [
           0,
           0
          ],
          [
           0,
           0
          ],
          [
           0,
           0
          ],
          [
           0,
           0
          ],
          [
           0,
           0
          ],
          [
           0,
           0
          ],
          [
           0,
           0
          ],
          [
           0,
           0
          ],
          [
           0,
           0
          ],
          [
           0,
           0
          ],
          [
           6.666666666666667,
           6.666666666666667
          ],
          [
           0,
           0
          ],
          [
           0,
           0
          ],
          [
           0,
           0
          ],
          [
           10,
           10
          ],
          [
           0,
           0
          ],
          [
           0,
           0
          ],
          [
           0,
           0
          ],
          [
           0,
           0
          ],
          [
           0,
           0
          ],
          [
           0,
           0
          ],
          [
           0,
           0
          ],
          [
           0,
           0
          ],
          [
           0,
           0
          ],
          [
           0,
           0
          ],
          [
           0,
           0
          ],
          [
           13.333333333333334,
           13.333333333333334
          ],
          [
           0,
           0
          ],
          [
           0,
           0
          ],
          [
           0,
           0
          ],
          [
           0,
           0
          ],
          [
           0,
           0
          ],
          [
           0,
           0
          ],
          [
           0,
           0
          ],
          [
           0,
           0
          ],
          [
           0,
           0
          ],
          [
           0,
           0
          ],
          [
           0,
           0
          ],
          [
           0,
           0
          ],
          [
           6.666666666666667,
           6.666666666666667
          ],
          [
           0,
           0
          ],
          [
           0,
           0
          ],
          [
           0,
           0
          ],
          [
           0,
           0
          ],
          [
           0,
           0
          ],
          [
           0,
           0
          ],
          [
           0,
           0
          ],
          [
           0,
           0
          ],
          [
           0,
           0
          ],
          [
           0,
           0
          ]
         ]
        },
        {
         "marker": {
          "color": "rgb(221, 204, 119)"
         },
         "name": "Minenfeld",
         "type": "bar",
         "x": [
          "Fflopse",
          "ReichesBrot",
          "Gobo9",
          "cediiiiii_10",
          "PedroZockt",
          "HerrDante",
          "Ex4cted",
          "_n3d",
          "JOW23",
          "Freeeedom",
          "yiiq",
          "lizsyy",
          "CML_Justin",
          "Umgfoin",
          "2wc",
          "DarkCobweb",
          "yzvm",
          "Ninivee",
          "camman18YT",
          "KakaMC",
          "Grapfen",
          "FrozenNoah",
          "ffawks",
          "Gerrygames",
          "toxicplace",
          "LeMetin_",
          "Sey__",
          "Pluto28",
          "MoZadaCraft",
          "miridis41",
          "2B9",
          "h4nnes",
          "Gummibearchen",
          "Sower_",
          "LeWi_100",
          "MaxMitMaulkorb",
          "Schmaarek",
          "unausgesprochen",
          "Davinci_Son",
          "Janne4k",
          "Lubottus",
          "MindsetKito",
          "TheFabo",
          "zBro",
          "Krusti",
          "lolisamasan",
          "La_meleagro",
          "Mincheeen",
          "ByNetherdude",
          "GermanPie",
          "Allooy",
          "byTobi",
          "GeneralEnte06",
          "DieserBear",
          "deadfiight",
          "xX_Dima_ggg_Xx6",
          "M0osebumps",
          "Feinberg",
          "HeIsJustAPoorBoy",
          "NotLennart",
          "YBCM",
          "Teesily",
          "Bikoop",
          "Lennart0911",
          "frutigall",
          "Shiewk",
          "Ungluecklicher",
          "Wienerisch",
          "xBaumeisterin",
          "Squashgitter333",
          "Ritokii",
          "Keenaai",
          "Kyuudo",
          "Verwunschene",
          "Morittz",
          "chrisihalt",
          "Gryzes",
          "EinfachEazy",
          "LordAlexos",
          "LucaaOn",
          "Luxemburq",
          "Falke23_5",
          "Gfrasti",
          "Dokkkkko",
          "IchHolzDichWeg",
          "Lingex",
          "GrafikKatze",
          "Simlll",
          "shellny",
          "bawskey",
          "GamemasterNiki",
          "TheBreadHD",
          "DerBaumIstDerWeg",
          "DrSpeed06",
          "Jan2220",
          "Wissender",
          "Mvsk_",
          "Oronor",
          "juvona",
          "MrNulfred"
         ],
         "y": [
          [
           33.333333333333336,
           33.333333333333336
          ],
          [
           23.333333333333332,
           23.333333333333332
          ],
          [
           13.333333333333334,
           13.333333333333334
          ],
          [
           10,
           10
          ],
          [
           0,
           0
          ],
          [
           40,
           40
          ],
          [
           10,
           10
          ],
          [
           26.666666666666668,
           26.666666666666668
          ],
          [
           0,
           0
          ],
          [
           0,
           0
          ],
          [
           0,
           0
          ],
          [
           0,
           0
          ],
          [
           0,
           0
          ],
          [
           0,
           0
          ],
          [
           0,
           0
          ],
          [
           0,
           0
          ],
          [
           0,
           0
          ],
          [
           20,
           20
          ],
          [
           0,
           0
          ],
          [
           0,
           0
          ],
          [
           0,
           0
          ],
          [
           16.666666666666668,
           16.666666666666668
          ],
          [
           0,
           0
          ],
          [
           0,
           0
          ],
          [
           6.666666666666667,
           6.666666666666667
          ],
          [
           46.666666666666664,
           46.666666666666664
          ],
          [
           46.666666666666664,
           46.666666666666664
          ],
          [
           0,
           0
          ],
          [
           0,
           0
          ],
          [
           0,
           0
          ],
          [
           30,
           30
          ],
          [
           0,
           0
          ],
          [
           0,
           0
          ],
          [
           0,
           0
          ],
          [
           23.333333333333332,
           23.333333333333332
          ],
          [
           33.333333333333336,
           33.333333333333336
          ],
          [
           0,
           0
          ],
          [
           0,
           0
          ],
          [
           0,
           0
          ],
          [
           0,
           0
          ],
          [
           0,
           0
          ],
          [
           0,
           0
          ],
          [
           0,
           0
          ],
          [
           56.666666666666664,
           56.666666666666664
          ],
          [
           13.333333333333334,
           13.333333333333334
          ],
          [
           0,
           0
          ],
          [
           0,
           0
          ],
          [
           0,
           0
          ],
          [
           0,
           0
          ],
          [
           0,
           0
          ],
          [
           0,
           0
          ],
          [
           0,
           0
          ],
          [
           0,
           0
          ],
          [
           0,
           0
          ],
          [
           10,
           10
          ],
          [
           0,
           0
          ],
          [
           0,
           0
          ],
          [
           0,
           0
          ],
          [
           0,
           0
          ],
          [
           0,
           0
          ],
          [
           0,
           0
          ],
          [
           0,
           0
          ],
          [
           0,
           0
          ],
          [
           0,
           0
          ],
          [
           6.666666666666667,
           6.666666666666667
          ],
          [
           0,
           0
          ],
          [
           0,
           0
          ],
          [
           0,
           0
          ],
          [
           0,
           0
          ],
          [
           0,
           0
          ],
          [
           0,
           0
          ],
          [
           0,
           0
          ],
          [
           0,
           0
          ],
          [
           0,
           0
          ],
          [
           0,
           0
          ],
          [
           33.333333333333336,
           33.333333333333336
          ],
          [
           0,
           0
          ],
          [
           0,
           0
          ],
          [
           0,
           0
          ],
          [
           0,
           0
          ],
          [
           0,
           0
          ],
          [
           0,
           0
          ],
          [
           0,
           0
          ],
          [
           0,
           0
          ],
          [
           0,
           0
          ],
          [
           0,
           0
          ],
          [
           0,
           0
          ],
          [
           0,
           0
          ],
          [
           0,
           0
          ],
          [
           0,
           0
          ],
          [
           0,
           0
          ],
          [
           0,
           0
          ],
          [
           0,
           0
          ],
          [
           0,
           0
          ],
          [
           0,
           0
          ],
          [
           0,
           0
          ],
          [
           0,
           0
          ],
          [
           20,
           20
          ],
          [
           0,
           0
          ],
          [
           0,
           0
          ]
         ]
        },
        {
         "marker": {
          "color": "rgb(17, 119, 51)"
         },
         "name": "Minengefecht",
         "type": "bar",
         "x": [
          "Fflopse",
          "ReichesBrot",
          "Gobo9",
          "cediiiiii_10",
          "PedroZockt",
          "HerrDante",
          "Ex4cted",
          "_n3d",
          "JOW23",
          "Freeeedom",
          "yiiq",
          "lizsyy",
          "CML_Justin",
          "Umgfoin",
          "2wc",
          "DarkCobweb",
          "yzvm",
          "Ninivee",
          "camman18YT",
          "KakaMC",
          "Grapfen",
          "FrozenNoah",
          "ffawks",
          "Gerrygames",
          "toxicplace",
          "LeMetin_",
          "Sey__",
          "Pluto28",
          "MoZadaCraft",
          "miridis41",
          "2B9",
          "h4nnes",
          "Gummibearchen",
          "Sower_",
          "LeWi_100",
          "MaxMitMaulkorb",
          "Schmaarek",
          "unausgesprochen",
          "Davinci_Son",
          "Janne4k",
          "Lubottus",
          "MindsetKito",
          "TheFabo",
          "zBro",
          "Krusti",
          "lolisamasan",
          "La_meleagro",
          "Mincheeen",
          "ByNetherdude",
          "GermanPie",
          "Allooy",
          "byTobi",
          "GeneralEnte06",
          "DieserBear",
          "deadfiight",
          "xX_Dima_ggg_Xx6",
          "M0osebumps",
          "Feinberg",
          "HeIsJustAPoorBoy",
          "NotLennart",
          "YBCM",
          "Teesily",
          "Bikoop",
          "Lennart0911",
          "frutigall",
          "Shiewk",
          "Ungluecklicher",
          "Wienerisch",
          "xBaumeisterin",
          "Squashgitter333",
          "Ritokii",
          "Keenaai",
          "Kyuudo",
          "Verwunschene",
          "Morittz",
          "chrisihalt",
          "Gryzes",
          "EinfachEazy",
          "LordAlexos",
          "LucaaOn",
          "Luxemburq",
          "Falke23_5",
          "Gfrasti",
          "Dokkkkko",
          "IchHolzDichWeg",
          "Lingex",
          "GrafikKatze",
          "Simlll",
          "shellny",
          "bawskey",
          "GamemasterNiki",
          "TheBreadHD",
          "DerBaumIstDerWeg",
          "DrSpeed06",
          "Jan2220",
          "Wissender",
          "Mvsk_",
          "Oronor",
          "juvona",
          "MrNulfred"
         ],
         "y": [
          [
           12.5,
           12.5
          ],
          [
           22.5,
           22.5
          ],
          [
           30,
           30
          ],
          [
           75,
           75
          ],
          [
           0,
           0
          ],
          [
           10,
           10
          ],
          [
           0,
           0
          ],
          [
           20,
           20
          ],
          [
           45,
           45
          ],
          [
           10,
           10
          ],
          [
           50,
           50
          ],
          [
           0,
           0
          ],
          [
           10,
           10
          ],
          [
           0,
           0
          ],
          [
           22.5,
           22.5
          ],
          [
           60,
           60
          ],
          [
           35,
           35
          ],
          [
           0,
           0
          ],
          [
           0,
           0
          ],
          [
           0,
           0
          ],
          [
           12.5,
           12.5
          ],
          [
           60,
           60
          ],
          [
           10,
           10
          ],
          [
           0,
           0
          ],
          [
           10,
           10
          ],
          [
           0,
           0
          ],
          [
           0,
           0
          ],
          [
           0,
           0
          ],
          [
           10,
           10
          ],
          [
           0,
           0
          ],
          [
           0,
           0
          ],
          [
           0,
           0
          ],
          [
           10,
           10
          ],
          [
           0,
           0
          ],
          [
           0,
           0
          ],
          [
           0,
           0
          ],
          [
           20,
           20
          ],
          [
           0,
           0
          ],
          [
           22.5,
           22.5
          ],
          [
           25,
           25
          ],
          [
           0,
           0
          ],
          [
           0,
           0
          ],
          [
           0,
           0
          ],
          [
           0,
           0
          ],
          [
           0,
           0
          ],
          [
           0,
           0
          ],
          [
           0,
           0
          ],
          [
           0,
           0
          ],
          [
           0,
           0
          ],
          [
           10,
           10
          ],
          [
           0,
           0
          ],
          [
           0,
           0
          ],
          [
           10,
           10
          ],
          [
           0,
           0
          ],
          [
           0,
           0
          ],
          [
           10,
           10
          ],
          [
           0,
           0
          ],
          [
           0,
           0
          ],
          [
           0,
           0
          ],
          [
           32.5,
           32.5
          ],
          [
           0,
           0
          ],
          [
           0,
           0
          ],
          [
           0,
           0
          ],
          [
           0,
           0
          ],
          [
           0,
           0
          ],
          [
           0,
           0
          ],
          [
           0,
           0
          ],
          [
           0,
           0
          ],
          [
           0,
           0
          ],
          [
           0,
           0
          ],
          [
           0,
           0
          ],
          [
           0,
           0
          ],
          [
           25,
           25
          ],
          [
           0,
           0
          ],
          [
           10,
           10
          ],
          [
           0,
           0
          ],
          [
           0,
           0
          ],
          [
           0,
           0
          ],
          [
           0,
           0
          ],
          [
           0,
           0
          ],
          [
           0,
           0
          ],
          [
           0,
           0
          ],
          [
           0,
           0
          ],
          [
           0,
           0
          ],
          [
           0,
           0
          ],
          [
           0,
           0
          ],
          [
           0,
           0
          ],
          [
           10,
           10
          ],
          [
           0,
           0
          ],
          [
           0,
           0
          ],
          [
           0,
           0
          ],
          [
           0,
           0
          ],
          [
           0,
           0
          ],
          [
           0,
           0
          ],
          [
           0,
           0
          ],
          [
           0,
           0
          ],
          [
           0,
           0
          ],
          [
           0,
           0
          ],
          [
           0,
           0
          ],
          [
           0,
           0
          ]
         ]
        },
        {
         "marker": {
          "color": "rgb(51, 34, 136)"
         },
         "name": "Mini Skywars",
         "type": "bar",
         "x": [
          "Fflopse",
          "ReichesBrot",
          "Gobo9",
          "cediiiiii_10",
          "PedroZockt",
          "HerrDante",
          "Ex4cted",
          "_n3d",
          "JOW23",
          "Freeeedom",
          "yiiq",
          "lizsyy",
          "CML_Justin",
          "Umgfoin",
          "2wc",
          "DarkCobweb",
          "yzvm",
          "Ninivee",
          "camman18YT",
          "KakaMC",
          "Grapfen",
          "FrozenNoah",
          "ffawks",
          "Gerrygames",
          "toxicplace",
          "LeMetin_",
          "Sey__",
          "Pluto28",
          "MoZadaCraft",
          "miridis41",
          "2B9",
          "h4nnes",
          "Gummibearchen",
          "Sower_",
          "LeWi_100",
          "MaxMitMaulkorb",
          "Schmaarek",
          "unausgesprochen",
          "Davinci_Son",
          "Janne4k",
          "Lubottus",
          "MindsetKito",
          "TheFabo",
          "zBro",
          "Krusti",
          "lolisamasan",
          "La_meleagro",
          "Mincheeen",
          "ByNetherdude",
          "GermanPie",
          "Allooy",
          "byTobi",
          "GeneralEnte06",
          "DieserBear",
          "deadfiight",
          "xX_Dima_ggg_Xx6",
          "M0osebumps",
          "Feinberg",
          "HeIsJustAPoorBoy",
          "NotLennart",
          "YBCM",
          "Teesily",
          "Bikoop",
          "Lennart0911",
          "frutigall",
          "Shiewk",
          "Ungluecklicher",
          "Wienerisch",
          "xBaumeisterin",
          "Squashgitter333",
          "Ritokii",
          "Keenaai",
          "Kyuudo",
          "Verwunschene",
          "Morittz",
          "chrisihalt",
          "Gryzes",
          "EinfachEazy",
          "LordAlexos",
          "LucaaOn",
          "Luxemburq",
          "Falke23_5",
          "Gfrasti",
          "Dokkkkko",
          "IchHolzDichWeg",
          "Lingex",
          "GrafikKatze",
          "Simlll",
          "shellny",
          "bawskey",
          "GamemasterNiki",
          "TheBreadHD",
          "DerBaumIstDerWeg",
          "DrSpeed06",
          "Jan2220",
          "Wissender",
          "Mvsk_",
          "Oronor",
          "juvona",
          "MrNulfred"
         ],
         "y": [
          [
           24,
           24
          ],
          [
           20,
           20
          ],
          [
           76,
           76
          ],
          [
           48,
           48
          ],
          [
           26,
           26
          ],
          [
           0,
           0
          ],
          [
           12,
           12
          ],
          [
           20,
           20
          ],
          [
           20,
           20
          ],
          [
           22,
           22
          ],
          [
           10,
           10
          ],
          [
           0,
           0
          ],
          [
           18,
           18
          ],
          [
           18,
           18
          ],
          [
           34,
           34
          ],
          [
           32,
           32
          ],
          [
           0,
           0
          ],
          [
           8,
           8
          ],
          [
           8,
           8
          ],
          [
           20,
           20
          ],
          [
           28,
           28
          ],
          [
           20,
           20
          ],
          [
           0,
           0
          ],
          [
           0,
           0
          ],
          [
           0,
           0
          ],
          [
           0,
           0
          ],
          [
           0,
           0
          ],
          [
           0,
           0
          ],
          [
           0,
           0
          ],
          [
           0,
           0
          ],
          [
           0,
           0
          ],
          [
           0,
           0
          ],
          [
           10,
           10
          ],
          [
           0,
           0
          ],
          [
           0,
           0
          ],
          [
           0,
           0
          ],
          [
           8,
           8
          ],
          [
           16,
           16
          ],
          [
           0,
           0
          ],
          [
           0,
           0
          ],
          [
           0,
           0
          ],
          [
           40,
           40
          ],
          [
           0,
           0
          ],
          [
           0,
           0
          ],
          [
           22,
           22
          ],
          [
           8,
           8
          ],
          [
           0,
           0
          ],
          [
           0,
           0
          ],
          [
           0,
           0
          ],
          [
           0,
           0
          ],
          [
           0,
           0
          ],
          [
           20,
           20
          ],
          [
           0,
           0
          ],
          [
           0,
           0
          ],
          [
           0,
           0
          ],
          [
           8,
           8
          ],
          [
           20,
           20
          ],
          [
           0,
           0
          ],
          [
           32,
           32
          ],
          [
           14,
           14
          ],
          [
           20,
           20
          ],
          [
           0,
           0
          ],
          [
           14,
           14
          ],
          [
           0,
           0
          ],
          [
           0,
           0
          ],
          [
           0,
           0
          ],
          [
           32,
           32
          ],
          [
           12,
           12
          ],
          [
           0,
           0
          ],
          [
           0,
           0
          ],
          [
           10,
           10
          ],
          [
           0,
           0
          ],
          [
           10,
           10
          ],
          [
           0,
           0
          ],
          [
           24,
           24
          ],
          [
           0,
           0
          ],
          [
           20,
           20
          ],
          [
           0,
           0
          ],
          [
           0,
           0
          ],
          [
           28,
           28
          ],
          [
           0,
           0
          ],
          [
           0,
           0
          ],
          [
           8,
           8
          ],
          [
           0,
           0
          ],
          [
           0,
           0
          ],
          [
           0,
           0
          ],
          [
           0,
           0
          ],
          [
           0,
           0
          ],
          [
           0,
           0
          ],
          [
           0,
           0
          ],
          [
           8,
           8
          ],
          [
           0,
           0
          ],
          [
           0,
           0
          ],
          [
           0,
           0
          ],
          [
           8,
           8
          ],
          [
           0,
           0
          ],
          [
           0,
           0
          ],
          [
           0,
           0
          ],
          [
           0,
           0
          ],
          [
           14,
           14
          ]
         ]
        },
        {
         "marker": {
          "color": "rgb(170, 68, 153)"
         },
         "name": "Mini Survivalgames",
         "type": "bar",
         "x": [
          "Fflopse",
          "ReichesBrot",
          "Gobo9",
          "cediiiiii_10",
          "PedroZockt",
          "HerrDante",
          "Ex4cted",
          "_n3d",
          "JOW23",
          "Freeeedom",
          "yiiq",
          "lizsyy",
          "CML_Justin",
          "Umgfoin",
          "2wc",
          "DarkCobweb",
          "yzvm",
          "Ninivee",
          "camman18YT",
          "KakaMC",
          "Grapfen",
          "FrozenNoah",
          "ffawks",
          "Gerrygames",
          "toxicplace",
          "LeMetin_",
          "Sey__",
          "Pluto28",
          "MoZadaCraft",
          "miridis41",
          "2B9",
          "h4nnes",
          "Gummibearchen",
          "Sower_",
          "LeWi_100",
          "MaxMitMaulkorb",
          "Schmaarek",
          "unausgesprochen",
          "Davinci_Son",
          "Janne4k",
          "Lubottus",
          "MindsetKito",
          "TheFabo",
          "zBro",
          "Krusti",
          "lolisamasan",
          "La_meleagro",
          "Mincheeen",
          "ByNetherdude",
          "GermanPie",
          "Allooy",
          "byTobi",
          "GeneralEnte06",
          "DieserBear",
          "deadfiight",
          "xX_Dima_ggg_Xx6",
          "M0osebumps",
          "Feinberg",
          "HeIsJustAPoorBoy",
          "NotLennart",
          "YBCM",
          "Teesily",
          "Bikoop",
          "Lennart0911",
          "frutigall",
          "Shiewk",
          "Ungluecklicher",
          "Wienerisch",
          "xBaumeisterin",
          "Squashgitter333",
          "Ritokii",
          "Keenaai",
          "Kyuudo",
          "Verwunschene",
          "Morittz",
          "chrisihalt",
          "Gryzes",
          "EinfachEazy",
          "LordAlexos",
          "LucaaOn",
          "Luxemburq",
          "Falke23_5",
          "Gfrasti",
          "Dokkkkko",
          "IchHolzDichWeg",
          "Lingex",
          "GrafikKatze",
          "Simlll",
          "shellny",
          "bawskey",
          "GamemasterNiki",
          "TheBreadHD",
          "DerBaumIstDerWeg",
          "DrSpeed06",
          "Jan2220",
          "Wissender",
          "Mvsk_",
          "Oronor",
          "juvona",
          "MrNulfred"
         ],
         "y": [
          [
           30,
           30
          ],
          [
           26.666666666666668,
           26.666666666666668
          ],
          [
           26.666666666666668,
           26.666666666666668
          ],
          [
           26.666666666666668,
           26.666666666666668
          ],
          [
           0,
           0
          ],
          [
           13.333333333333334,
           13.333333333333334
          ],
          [
           0,
           0
          ],
          [
           0,
           0
          ],
          [
           26.666666666666668,
           26.666666666666668
          ],
          [
           0,
           0
          ],
          [
           0,
           0
          ],
          [
           0,
           0
          ],
          [
           0,
           0
          ],
          [
           26.666666666666668,
           26.666666666666668
          ],
          [
           26.666666666666668,
           26.666666666666668
          ],
          [
           10,
           10
          ],
          [
           0,
           0
          ],
          [
           36.666666666666664,
           36.666666666666664
          ],
          [
           56.666666666666664,
           56.666666666666664
          ],
          [
           0,
           0
          ],
          [
           40,
           40
          ],
          [
           33.333333333333336,
           33.333333333333336
          ],
          [
           0,
           0
          ],
          [
           0,
           0
          ],
          [
           0,
           0
          ],
          [
           0,
           0
          ],
          [
           0,
           0
          ],
          [
           0,
           0
          ],
          [
           10,
           10
          ],
          [
           10,
           10
          ],
          [
           33.333333333333336,
           33.333333333333336
          ],
          [
           10,
           10
          ],
          [
           0,
           0
          ],
          [
           0,
           0
          ],
          [
           0,
           0
          ],
          [
           10,
           10
          ],
          [
           10,
           10
          ],
          [
           0,
           0
          ],
          [
           10,
           10
          ],
          [
           26.666666666666668,
           26.666666666666668
          ],
          [
           0,
           0
          ],
          [
           13.333333333333334,
           13.333333333333334
          ],
          [
           0,
           0
          ],
          [
           0,
           0
          ],
          [
           10,
           10
          ],
          [
           0,
           0
          ],
          [
           0,
           0
          ],
          [
           0,
           0
          ],
          [
           0,
           0
          ],
          [
           0,
           0
          ],
          [
           13.333333333333334,
           13.333333333333334
          ],
          [
           10,
           10
          ],
          [
           0,
           0
          ],
          [
           0,
           0
          ],
          [
           0,
           0
          ],
          [
           0,
           0
          ],
          [
           0,
           0
          ],
          [
           0,
           0
          ],
          [
           0,
           0
          ],
          [
           0,
           0
          ],
          [
           0,
           0
          ],
          [
           0,
           0
          ],
          [
           0,
           0
          ],
          [
           10,
           10
          ],
          [
           0,
           0
          ],
          [
           0,
           0
          ],
          [
           33.333333333333336,
           33.333333333333336
          ],
          [
           0,
           0
          ],
          [
           0,
           0
          ],
          [
           0,
           0
          ],
          [
           0,
           0
          ],
          [
           0,
           0
          ],
          [
           10,
           10
          ],
          [
           0,
           0
          ],
          [
           10,
           10
          ],
          [
           0,
           0
          ],
          [
           0,
           0
          ],
          [
           0,
           0
          ],
          [
           0,
           0
          ],
          [
           0,
           0
          ],
          [
           0,
           0
          ],
          [
           36.666666666666664,
           36.666666666666664
          ],
          [
           13.333333333333334,
           13.333333333333334
          ],
          [
           0,
           0
          ],
          [
           26.666666666666668,
           26.666666666666668
          ],
          [
           40,
           40
          ],
          [
           26.666666666666668,
           26.666666666666668
          ],
          [
           0,
           0
          ],
          [
           0,
           0
          ],
          [
           0,
           0
          ],
          [
           0,
           0
          ],
          [
           33.333333333333336,
           33.333333333333336
          ],
          [
           0,
           0
          ],
          [
           0,
           0
          ],
          [
           0,
           0
          ],
          [
           0,
           0
          ],
          [
           13.333333333333334,
           13.333333333333334
          ],
          [
           0,
           0
          ],
          [
           0,
           0
          ],
          [
           0,
           0
          ]
         ]
        },
        {
         "marker": {
          "color": "rgb(68, 170, 153)"
         },
         "name": "Paintball",
         "type": "bar",
         "x": [
          "Fflopse",
          "ReichesBrot",
          "Gobo9",
          "cediiiiii_10",
          "PedroZockt",
          "HerrDante",
          "Ex4cted",
          "_n3d",
          "JOW23",
          "Freeeedom",
          "yiiq",
          "lizsyy",
          "CML_Justin",
          "Umgfoin",
          "2wc",
          "DarkCobweb",
          "yzvm",
          "Ninivee",
          "camman18YT",
          "KakaMC",
          "Grapfen",
          "FrozenNoah",
          "ffawks",
          "Gerrygames",
          "toxicplace",
          "LeMetin_",
          "Sey__",
          "Pluto28",
          "MoZadaCraft",
          "miridis41",
          "2B9",
          "h4nnes",
          "Gummibearchen",
          "Sower_",
          "LeWi_100",
          "MaxMitMaulkorb",
          "Schmaarek",
          "unausgesprochen",
          "Davinci_Son",
          "Janne4k",
          "Lubottus",
          "MindsetKito",
          "TheFabo",
          "zBro",
          "Krusti",
          "lolisamasan",
          "La_meleagro",
          "Mincheeen",
          "ByNetherdude",
          "GermanPie",
          "Allooy",
          "byTobi",
          "GeneralEnte06",
          "DieserBear",
          "deadfiight",
          "xX_Dima_ggg_Xx6",
          "M0osebumps",
          "Feinberg",
          "HeIsJustAPoorBoy",
          "NotLennart",
          "YBCM",
          "Teesily",
          "Bikoop",
          "Lennart0911",
          "frutigall",
          "Shiewk",
          "Ungluecklicher",
          "Wienerisch",
          "xBaumeisterin",
          "Squashgitter333",
          "Ritokii",
          "Keenaai",
          "Kyuudo",
          "Verwunschene",
          "Morittz",
          "chrisihalt",
          "Gryzes",
          "EinfachEazy",
          "LordAlexos",
          "LucaaOn",
          "Luxemburq",
          "Falke23_5",
          "Gfrasti",
          "Dokkkkko",
          "IchHolzDichWeg",
          "Lingex",
          "GrafikKatze",
          "Simlll",
          "shellny",
          "bawskey",
          "GamemasterNiki",
          "TheBreadHD",
          "DerBaumIstDerWeg",
          "DrSpeed06",
          "Jan2220",
          "Wissender",
          "Mvsk_",
          "Oronor",
          "juvona",
          "MrNulfred"
         ],
         "y": [
          [
           73.33333333333333,
           73.33333333333333
          ],
          [
           86.66666666666667,
           86.66666666666667
          ],
          [
           0,
           0
          ],
          [
           0,
           0
          ],
          [
           50,
           50
          ],
          [
           40,
           40
          ],
          [
           0,
           0
          ],
          [
           6.666666666666667,
           6.666666666666667
          ],
          [
           0,
           0
          ],
          [
           23.333333333333332,
           23.333333333333332
          ],
          [
           23.333333333333332,
           23.333333333333332
          ],
          [
           0,
           0
          ],
          [
           0,
           0
          ],
          [
           0,
           0
          ],
          [
           33.333333333333336,
           33.333333333333336
          ],
          [
           16.666666666666668,
           16.666666666666668
          ],
          [
           20,
           20
          ],
          [
           0,
           0
          ],
          [
           0,
           0
          ],
          [
           0,
           0
          ],
          [
           23.333333333333332,
           23.333333333333332
          ],
          [
           0,
           0
          ],
          [
           0,
           0
          ],
          [
           0,
           0
          ],
          [
           0,
           0
          ],
          [
           0,
           0
          ],
          [
           0,
           0
          ],
          [
           0,
           0
          ],
          [
           0,
           0
          ],
          [
           23.333333333333332,
           23.333333333333332
          ],
          [
           0,
           0
          ],
          [
           26.666666666666668,
           26.666666666666668
          ],
          [
           33.333333333333336,
           33.333333333333336
          ],
          [
           0,
           0
          ],
          [
           0,
           0
          ],
          [
           0,
           0
          ],
          [
           0,
           0
          ],
          [
           0,
           0
          ],
          [
           0,
           0
          ],
          [
           0,
           0
          ],
          [
           0,
           0
          ],
          [
           0,
           0
          ],
          [
           0,
           0
          ],
          [
           0,
           0
          ],
          [
           20,
           20
          ],
          [
           6.666666666666667,
           6.666666666666667
          ],
          [
           0,
           0
          ],
          [
           0,
           0
          ],
          [
           0,
           0
          ],
          [
           0,
           0
          ],
          [
           0,
           0
          ],
          [
           0,
           0
          ],
          [
           0,
           0
          ],
          [
           0,
           0
          ],
          [
           0,
           0
          ],
          [
           0,
           0
          ],
          [
           0,
           0
          ],
          [
           0,
           0
          ],
          [
           0,
           0
          ],
          [
           0,
           0
          ],
          [
           0,
           0
          ],
          [
           0,
           0
          ],
          [
           13.333333333333334,
           13.333333333333334
          ],
          [
           30,
           30
          ],
          [
           0,
           0
          ],
          [
           16.666666666666668,
           16.666666666666668
          ],
          [
           0,
           0
          ],
          [
           0,
           0
          ],
          [
           0,
           0
          ],
          [
           6.666666666666667,
           6.666666666666667
          ],
          [
           0,
           0
          ],
          [
           0,
           0
          ],
          [
           0,
           0
          ],
          [
           0,
           0
          ],
          [
           0,
           0
          ],
          [
           0,
           0
          ],
          [
           16.666666666666668,
           16.666666666666668
          ],
          [
           0,
           0
          ],
          [
           0,
           0
          ],
          [
           0,
           0
          ],
          [
           0,
           0
          ],
          [
           0,
           0
          ],
          [
           0,
           0
          ],
          [
           16.666666666666668,
           16.666666666666668
          ],
          [
           0,
           0
          ],
          [
           0,
           0
          ],
          [
           0,
           0
          ],
          [
           0,
           0
          ],
          [
           0,
           0
          ],
          [
           16.666666666666668,
           16.666666666666668
          ],
          [
           0,
           0
          ],
          [
           0,
           0
          ],
          [
           0,
           0
          ],
          [
           0,
           0
          ],
          [
           0,
           0
          ],
          [
           0,
           0
          ],
          [
           0,
           0
          ],
          [
           6.666666666666667,
           6.666666666666667
          ],
          [
           0,
           0
          ],
          [
           0,
           0
          ]
         ]
        },
        {
         "marker": {
          "color": "rgb(153, 153, 51)"
         },
         "name": "Pferderennen",
         "type": "bar",
         "x": [
          "Fflopse",
          "ReichesBrot",
          "Gobo9",
          "cediiiiii_10",
          "PedroZockt",
          "HerrDante",
          "Ex4cted",
          "_n3d",
          "JOW23",
          "Freeeedom",
          "yiiq",
          "lizsyy",
          "CML_Justin",
          "Umgfoin",
          "2wc",
          "DarkCobweb",
          "yzvm",
          "Ninivee",
          "camman18YT",
          "KakaMC",
          "Grapfen",
          "FrozenNoah",
          "ffawks",
          "Gerrygames",
          "toxicplace",
          "LeMetin_",
          "Sey__",
          "Pluto28",
          "MoZadaCraft",
          "miridis41",
          "2B9",
          "h4nnes",
          "Gummibearchen",
          "Sower_",
          "LeWi_100",
          "MaxMitMaulkorb",
          "Schmaarek",
          "unausgesprochen",
          "Davinci_Son",
          "Janne4k",
          "Lubottus",
          "MindsetKito",
          "TheFabo",
          "zBro",
          "Krusti",
          "lolisamasan",
          "La_meleagro",
          "Mincheeen",
          "ByNetherdude",
          "GermanPie",
          "Allooy",
          "byTobi",
          "GeneralEnte06",
          "DieserBear",
          "deadfiight",
          "xX_Dima_ggg_Xx6",
          "M0osebumps",
          "Feinberg",
          "HeIsJustAPoorBoy",
          "NotLennart",
          "YBCM",
          "Teesily",
          "Bikoop",
          "Lennart0911",
          "frutigall",
          "Shiewk",
          "Ungluecklicher",
          "Wienerisch",
          "xBaumeisterin",
          "Squashgitter333",
          "Ritokii",
          "Keenaai",
          "Kyuudo",
          "Verwunschene",
          "Morittz",
          "chrisihalt",
          "Gryzes",
          "EinfachEazy",
          "LordAlexos",
          "LucaaOn",
          "Luxemburq",
          "Falke23_5",
          "Gfrasti",
          "Dokkkkko",
          "IchHolzDichWeg",
          "Lingex",
          "GrafikKatze",
          "Simlll",
          "shellny",
          "bawskey",
          "GamemasterNiki",
          "TheBreadHD",
          "DerBaumIstDerWeg",
          "DrSpeed06",
          "Jan2220",
          "Wissender",
          "Mvsk_",
          "Oronor",
          "juvona",
          "MrNulfred"
         ],
         "y": [
          [
           90,
           90
          ],
          [
           68.33333333333333,
           68.33333333333333
          ],
          [
           65,
           65
          ],
          [
           71.66666666666667,
           71.66666666666667
          ],
          [
           40,
           40
          ],
          [
           6.666666666666667,
           6.666666666666667
          ],
          [
           0,
           0
          ],
          [
           0,
           0
          ],
          [
           0,
           0
          ],
          [
           10,
           10
          ],
          [
           41.666666666666664,
           41.666666666666664
          ],
          [
           26.666666666666668,
           26.666666666666668
          ],
          [
           0,
           0
          ],
          [
           6.666666666666667,
           6.666666666666667
          ],
          [
           0,
           0
          ],
          [
           0,
           0
          ],
          [
           13.333333333333334,
           13.333333333333334
          ],
          [
           0,
           0
          ],
          [
           0,
           0
          ],
          [
           0,
           0
          ],
          [
           0,
           0
          ],
          [
           0,
           0
          ],
          [
           45,
           45
          ],
          [
           0,
           0
          ],
          [
           0,
           0
          ],
          [
           0,
           0
          ],
          [
           0,
           0
          ],
          [
           0,
           0
          ],
          [
           0,
           0
          ],
          [
           0,
           0
          ],
          [
           0,
           0
          ],
          [
           0,
           0
          ],
          [
           0,
           0
          ],
          [
           0,
           0
          ],
          [
           18.333333333333332,
           18.333333333333332
          ],
          [
           0,
           0
          ],
          [
           18.333333333333332,
           18.333333333333332
          ],
          [
           0,
           0
          ],
          [
           0,
           0
          ],
          [
           0,
           0
          ],
          [
           0,
           0
          ],
          [
           0,
           0
          ],
          [
           0,
           0
          ],
          [
           0,
           0
          ],
          [
           0,
           0
          ],
          [
           0,
           0
          ],
          [
           0,
           0
          ],
          [
           0,
           0
          ],
          [
           0,
           0
          ],
          [
           0,
           0
          ],
          [
           0,
           0
          ],
          [
           0,
           0
          ],
          [
           16.666666666666668,
           16.666666666666668
          ],
          [
           0,
           0
          ],
          [
           0,
           0
          ],
          [
           0,
           0
          ],
          [
           0,
           0
          ],
          [
           0,
           0
          ],
          [
           0,
           0
          ],
          [
           0,
           0
          ],
          [
           0,
           0
          ],
          [
           0,
           0
          ],
          [
           0,
           0
          ],
          [
           0,
           0
          ],
          [
           0,
           0
          ],
          [
           0,
           0
          ],
          [
           0,
           0
          ],
          [
           0,
           0
          ],
          [
           0,
           0
          ],
          [
           0,
           0
          ],
          [
           0,
           0
          ],
          [
           0,
           0
          ],
          [
           0,
           0
          ],
          [
           0,
           0
          ],
          [
           0,
           0
          ],
          [
           0,
           0
          ],
          [
           0,
           0
          ],
          [
           0,
           0
          ],
          [
           0,
           0
          ],
          [
           0,
           0
          ],
          [
           0,
           0
          ],
          [
           0,
           0
          ],
          [
           0,
           0
          ],
          [
           0,
           0
          ],
          [
           0,
           0
          ],
          [
           0,
           0
          ],
          [
           0,
           0
          ],
          [
           0,
           0
          ],
          [
           0,
           0
          ],
          [
           0,
           0
          ],
          [
           0,
           0
          ],
          [
           0,
           0
          ],
          [
           0,
           0
          ],
          [
           0,
           0
          ],
          [
           0,
           0
          ],
          [
           0,
           0
          ],
          [
           0,
           0
          ],
          [
           0,
           0
          ],
          [
           0,
           0
          ],
          [
           0,
           0
          ]
         ]
        },
        {
         "marker": {
          "color": "rgb(136, 34, 85)"
         },
         "name": "Replika",
         "type": "bar",
         "x": [
          "Fflopse",
          "ReichesBrot",
          "Gobo9",
          "cediiiiii_10",
          "PedroZockt",
          "HerrDante",
          "Ex4cted",
          "_n3d",
          "JOW23",
          "Freeeedom",
          "yiiq",
          "lizsyy",
          "CML_Justin",
          "Umgfoin",
          "2wc",
          "DarkCobweb",
          "yzvm",
          "Ninivee",
          "camman18YT",
          "KakaMC",
          "Grapfen",
          "FrozenNoah",
          "ffawks",
          "Gerrygames",
          "toxicplace",
          "LeMetin_",
          "Sey__",
          "Pluto28",
          "MoZadaCraft",
          "miridis41",
          "2B9",
          "h4nnes",
          "Gummibearchen",
          "Sower_",
          "LeWi_100",
          "MaxMitMaulkorb",
          "Schmaarek",
          "unausgesprochen",
          "Davinci_Son",
          "Janne4k",
          "Lubottus",
          "MindsetKito",
          "TheFabo",
          "zBro",
          "Krusti",
          "lolisamasan",
          "La_meleagro",
          "Mincheeen",
          "ByNetherdude",
          "GermanPie",
          "Allooy",
          "byTobi",
          "GeneralEnte06",
          "DieserBear",
          "deadfiight",
          "xX_Dima_ggg_Xx6",
          "M0osebumps",
          "Feinberg",
          "HeIsJustAPoorBoy",
          "NotLennart",
          "YBCM",
          "Teesily",
          "Bikoop",
          "Lennart0911",
          "frutigall",
          "Shiewk",
          "Ungluecklicher",
          "Wienerisch",
          "xBaumeisterin",
          "Squashgitter333",
          "Ritokii",
          "Keenaai",
          "Kyuudo",
          "Verwunschene",
          "Morittz",
          "chrisihalt",
          "Gryzes",
          "EinfachEazy",
          "LordAlexos",
          "LucaaOn",
          "Luxemburq",
          "Falke23_5",
          "Gfrasti",
          "Dokkkkko",
          "IchHolzDichWeg",
          "Lingex",
          "GrafikKatze",
          "Simlll",
          "shellny",
          "bawskey",
          "GamemasterNiki",
          "TheBreadHD",
          "DerBaumIstDerWeg",
          "DrSpeed06",
          "Jan2220",
          "Wissender",
          "Mvsk_",
          "Oronor",
          "juvona",
          "MrNulfred"
         ],
         "y": [
          [
           54.1747572815534,
           54.1747572815534
          ],
          [
           13.106796116504855,
           13.106796116504855
          ],
          [
           90.87378640776699,
           90.87378640776699
          ],
          [
           49.90291262135922,
           49.90291262135922
          ],
          [
           55.43689320388349,
           55.43689320388349
          ],
          [
           7.864077669902913,
           7.864077669902913
          ],
          [
           41.650485436893206,
           41.650485436893206
          ],
          [
           5.922330097087379,
           5.922330097087379
          ],
          [
           2.5242718446601944,
           2.5242718446601944
          ],
          [
           3.9805825242718447,
           3.9805825242718447
          ],
          [
           27.475728155339805,
           27.475728155339805
          ],
          [
           16.699029126213592,
           16.699029126213592
          ],
          [
           4.174757281553398,
           4.174757281553398
          ],
          [
           0,
           0
          ],
          [
           2.4271844660194173,
           2.4271844660194173
          ],
          [
           1.6504854368932038,
           1.6504854368932038
          ],
          [
           0,
           0
          ],
          [
           0,
           0
          ],
          [
           4.854368932038835,
           4.854368932038835
          ],
          [
           30.87378640776699,
           30.87378640776699
          ],
          [
           1.0679611650485437,
           1.0679611650485437
          ],
          [
           0.7766990291262136,
           0.7766990291262136
          ],
          [
           11.16504854368932,
           11.16504854368932
          ],
          [
           11.16504854368932,
           11.16504854368932
          ],
          [
           0.1941747572815534,
           0.1941747572815534
          ],
          [
           0.1941747572815534,
           0.1941747572815534
          ],
          [
           0,
           0
          ],
          [
           2.233009708737864,
           2.233009708737864
          ],
          [
           0,
           0
          ],
          [
           0,
           0
          ],
          [
           0,
           0
          ],
          [
           0,
           0
          ],
          [
           1.6504854368932038,
           1.6504854368932038
          ],
          [
           0,
           0
          ],
          [
           0,
           0
          ],
          [
           0,
           0
          ],
          [
           0,
           0
          ],
          [
           0.1941747572815534,
           0.1941747572815534
          ],
          [
           0.2912621359223301,
           0.2912621359223301
          ],
          [
           0,
           0
          ],
          [
           3.0097087378640777,
           3.0097087378640777
          ],
          [
           0,
           0
          ],
          [
           10.29126213592233,
           10.29126213592233
          ],
          [
           0.1941747572815534,
           0.1941747572815534
          ],
          [
           0,
           0
          ],
          [
           0,
           0
          ],
          [
           0.7766990291262136,
           0.7766990291262136
          ],
          [
           3.9805825242718447,
           3.9805825242718447
          ],
          [
           0,
           0
          ],
          [
           0,
           0
          ],
          [
           0.1941747572815534,
           0.1941747572815534
          ],
          [
           0,
           0
          ],
          [
           0.3883495145631068,
           0.3883495145631068
          ],
          [
           6.213592233009709,
           6.213592233009709
          ],
          [
           3.883495145631068,
           3.883495145631068
          ],
          [
           0,
           0
          ],
          [
           5.631067961165049,
           5.631067961165049
          ],
          [
           4.368932038834951,
           4.368932038834951
          ],
          [
           0,
           0
          ],
          [
           0.5825242718446602,
           0.5825242718446602
          ],
          [
           0,
           0
          ],
          [
           0.6796116504854369,
           0.6796116504854369
          ],
          [
           0.5825242718446602,
           0.5825242718446602
          ],
          [
           0,
           0
          ],
          [
           0,
           0
          ],
          [
           0.1941747572815534,
           0.1941747572815534
          ],
          [
           0,
           0
          ],
          [
           0,
           0
          ],
          [
           0,
           0
          ],
          [
           0,
           0
          ],
          [
           6.601941747572815,
           6.601941747572815
          ],
          [
           0,
           0
          ],
          [
           0,
           0
          ],
          [
           1.8446601941747574,
           1.8446601941747574
          ],
          [
           0,
           0
          ],
          [
           0,
           0
          ],
          [
           0,
           0
          ],
          [
           0.2912621359223301,
           0.2912621359223301
          ],
          [
           0,
           0
          ],
          [
           0,
           0
          ],
          [
           0,
           0
          ],
          [
           0,
           0
          ],
          [
           0.6796116504854369,
           0.6796116504854369
          ],
          [
           0,
           0
          ],
          [
           0.2912621359223301,
           0.2912621359223301
          ],
          [
           0,
           0
          ],
          [
           3.0097087378640777,
           3.0097087378640777
          ],
          [
           0,
           0
          ],
          [
           0,
           0
          ],
          [
           0,
           0
          ],
          [
           15.242718446601941,
           15.242718446601941
          ],
          [
           0,
           0
          ],
          [
           0,
           0
          ],
          [
           0,
           0
          ],
          [
           0,
           0
          ],
          [
           0,
           0
          ],
          [
           0.4854368932038835,
           0.4854368932038835
          ],
          [
           0.1941747572815534,
           0.1941747572815534
          ],
          [
           0,
           0
          ],
          [
           0,
           0
          ]
         ]
        },
        {
         "marker": {
          "color": "rgb(102, 17, 0)"
         },
         "name": "Sammelwahn",
         "type": "bar",
         "x": [
          "Fflopse",
          "ReichesBrot",
          "Gobo9",
          "cediiiiii_10",
          "PedroZockt",
          "HerrDante",
          "Ex4cted",
          "_n3d",
          "JOW23",
          "Freeeedom",
          "yiiq",
          "lizsyy",
          "CML_Justin",
          "Umgfoin",
          "2wc",
          "DarkCobweb",
          "yzvm",
          "Ninivee",
          "camman18YT",
          "KakaMC",
          "Grapfen",
          "FrozenNoah",
          "ffawks",
          "Gerrygames",
          "toxicplace",
          "LeMetin_",
          "Sey__",
          "Pluto28",
          "MoZadaCraft",
          "miridis41",
          "2B9",
          "h4nnes",
          "Gummibearchen",
          "Sower_",
          "LeWi_100",
          "MaxMitMaulkorb",
          "Schmaarek",
          "unausgesprochen",
          "Davinci_Son",
          "Janne4k",
          "Lubottus",
          "MindsetKito",
          "TheFabo",
          "zBro",
          "Krusti",
          "lolisamasan",
          "La_meleagro",
          "Mincheeen",
          "ByNetherdude",
          "GermanPie",
          "Allooy",
          "byTobi",
          "GeneralEnte06",
          "DieserBear",
          "deadfiight",
          "xX_Dima_ggg_Xx6",
          "M0osebumps",
          "Feinberg",
          "HeIsJustAPoorBoy",
          "NotLennart",
          "YBCM",
          "Teesily",
          "Bikoop",
          "Lennart0911",
          "frutigall",
          "Shiewk",
          "Ungluecklicher",
          "Wienerisch",
          "xBaumeisterin",
          "Squashgitter333",
          "Ritokii",
          "Keenaai",
          "Kyuudo",
          "Verwunschene",
          "Morittz",
          "chrisihalt",
          "Gryzes",
          "EinfachEazy",
          "LordAlexos",
          "LucaaOn",
          "Luxemburq",
          "Falke23_5",
          "Gfrasti",
          "Dokkkkko",
          "IchHolzDichWeg",
          "Lingex",
          "GrafikKatze",
          "Simlll",
          "shellny",
          "bawskey",
          "GamemasterNiki",
          "TheBreadHD",
          "DerBaumIstDerWeg",
          "DrSpeed06",
          "Jan2220",
          "Wissender",
          "Mvsk_",
          "Oronor",
          "juvona",
          "MrNulfred"
         ],
         "y": [
          [
           18.837209302325583,
           18.837209302325583
          ],
          [
           2.7906976744186047,
           2.7906976744186047
          ],
          [
           28.837209302325583,
           28.837209302325583
          ],
          [
           29.767441860465116,
           29.767441860465116
          ],
          [
           12.790697674418604,
           12.790697674418604
          ],
          [
           6.976744186046512,
           6.976744186046512
          ],
          [
           14.186046511627907,
           14.186046511627907
          ],
          [
           6.976744186046512,
           6.976744186046512
          ],
          [
           2.3255813953488373,
           2.3255813953488373
          ],
          [
           2.7906976744186047,
           2.7906976744186047
          ],
          [
           0,
           0
          ],
          [
           3.953488372093023,
           3.953488372093023
          ],
          [
           3.7209302325581395,
           3.7209302325581395
          ],
          [
           5.116279069767442,
           5.116279069767442
          ],
          [
           0,
           0
          ],
          [
           3.7209302325581395,
           3.7209302325581395
          ],
          [
           3.0232558139534884,
           3.0232558139534884
          ],
          [
           1.627906976744186,
           1.627906976744186
          ],
          [
           5.116279069767442,
           5.116279069767442
          ],
          [
           9.534883720930232,
           9.534883720930232
          ],
          [
           12.55813953488372,
           12.55813953488372
          ],
          [
           2.3255813953488373,
           2.3255813953488373
          ],
          [
           1.627906976744186,
           1.627906976744186
          ],
          [
           27.209302325581394,
           27.209302325581394
          ],
          [
           0,
           0
          ],
          [
           3.7209302325581395,
           3.7209302325581395
          ],
          [
           5.348837209302325,
           5.348837209302325
          ],
          [
           2.0930232558139537,
           2.0930232558139537
          ],
          [
           0,
           0
          ],
          [
           6.511627906976744,
           6.511627906976744
          ],
          [
           2.3255813953488373,
           2.3255813953488373
          ],
          [
           4.186046511627907,
           4.186046511627907
          ],
          [
           0,
           0
          ],
          [
           20.232558139534884,
           20.232558139534884
          ],
          [
           0,
           0
          ],
          [
           4.186046511627907,
           4.186046511627907
          ],
          [
           6.976744186046512,
           6.976744186046512
          ],
          [
           2.558139534883721,
           2.558139534883721
          ],
          [
           3.0232558139534884,
           3.0232558139534884
          ],
          [
           0,
           0
          ],
          [
           8.372093023255815,
           8.372093023255815
          ],
          [
           2.0930232558139537,
           2.0930232558139537
          ],
          [
           13.720930232558139,
           13.720930232558139
          ],
          [
           3.0232558139534884,
           3.0232558139534884
          ],
          [
           3.0232558139534884,
           3.0232558139534884
          ],
          [
           0.6976744186046512,
           0.6976744186046512
          ],
          [
           10,
           10
          ],
          [
           3.488372093023256,
           3.488372093023256
          ],
          [
           0,
           0
          ],
          [
           1.1627906976744187,
           1.1627906976744187
          ],
          [
           1.1627906976744187,
           1.1627906976744187
          ],
          [
           1.1627906976744187,
           1.1627906976744187
          ],
          [
           7.906976744186046,
           7.906976744186046
          ],
          [
           17.674418604651162,
           17.674418604651162
          ],
          [
           0,
           0
          ],
          [
           3.953488372093023,
           3.953488372093023
          ],
          [
           2.558139534883721,
           2.558139534883721
          ],
          [
           3.0232558139534884,
           3.0232558139534884
          ],
          [
           0,
           0
          ],
          [
           0.46511627906976744,
           0.46511627906976744
          ],
          [
           3.488372093023256,
           3.488372093023256
          ],
          [
           9.30232558139535,
           9.30232558139535
          ],
          [
           0,
           0
          ],
          [
           0.6976744186046512,
           0.6976744186046512
          ],
          [
           0.46511627906976744,
           0.46511627906976744
          ],
          [
           0,
           0
          ],
          [
           0,
           0
          ],
          [
           3.0232558139534884,
           3.0232558139534884
          ],
          [
           2.558139534883721,
           2.558139534883721
          ],
          [
           0,
           0
          ],
          [
           0,
           0
          ],
          [
           0,
           0
          ],
          [
           2.7906976744186047,
           2.7906976744186047
          ],
          [
           6.046511627906977,
           6.046511627906977
          ],
          [
           0,
           0
          ],
          [
           5.116279069767442,
           5.116279069767442
          ],
          [
           2.0930232558139537,
           2.0930232558139537
          ],
          [
           0,
           0
          ],
          [
           0,
           0
          ],
          [
           0,
           0
          ],
          [
           0,
           0
          ],
          [
           2.3255813953488373,
           2.3255813953488373
          ],
          [
           2.7906976744186047,
           2.7906976744186047
          ],
          [
           4.186046511627907,
           4.186046511627907
          ],
          [
           0,
           0
          ],
          [
           0,
           0
          ],
          [
           0,
           0
          ],
          [
           2.0930232558139537,
           2.0930232558139537
          ],
          [
           1.627906976744186,
           1.627906976744186
          ],
          [
           0,
           0
          ],
          [
           0,
           0
          ],
          [
           0,
           0
          ],
          [
           1.1627906976744187,
           1.1627906976744187
          ],
          [
           0.6976744186046512,
           0.6976744186046512
          ],
          [
           2.0930232558139537,
           2.0930232558139537
          ],
          [
           0,
           0
          ],
          [
           0,
           0
          ],
          [
           0,
           0
          ],
          [
           1.8604651162790697,
           1.8604651162790697
          ],
          [
           0,
           0
          ]
         ]
        },
        {
         "marker": {
          "color": "rgb(136, 136, 136)"
         },
         "name": "Schießstand",
         "type": "bar",
         "x": [
          "Fflopse",
          "ReichesBrot",
          "Gobo9",
          "cediiiiii_10",
          "PedroZockt",
          "HerrDante",
          "Ex4cted",
          "_n3d",
          "JOW23",
          "Freeeedom",
          "yiiq",
          "lizsyy",
          "CML_Justin",
          "Umgfoin",
          "2wc",
          "DarkCobweb",
          "yzvm",
          "Ninivee",
          "camman18YT",
          "KakaMC",
          "Grapfen",
          "FrozenNoah",
          "ffawks",
          "Gerrygames",
          "toxicplace",
          "LeMetin_",
          "Sey__",
          "Pluto28",
          "MoZadaCraft",
          "miridis41",
          "2B9",
          "h4nnes",
          "Gummibearchen",
          "Sower_",
          "LeWi_100",
          "MaxMitMaulkorb",
          "Schmaarek",
          "unausgesprochen",
          "Davinci_Son",
          "Janne4k",
          "Lubottus",
          "MindsetKito",
          "TheFabo",
          "zBro",
          "Krusti",
          "lolisamasan",
          "La_meleagro",
          "Mincheeen",
          "ByNetherdude",
          "GermanPie",
          "Allooy",
          "byTobi",
          "GeneralEnte06",
          "DieserBear",
          "deadfiight",
          "xX_Dima_ggg_Xx6",
          "M0osebumps",
          "Feinberg",
          "HeIsJustAPoorBoy",
          "NotLennart",
          "YBCM",
          "Teesily",
          "Bikoop",
          "Lennart0911",
          "frutigall",
          "Shiewk",
          "Ungluecklicher",
          "Wienerisch",
          "xBaumeisterin",
          "Squashgitter333",
          "Ritokii",
          "Keenaai",
          "Kyuudo",
          "Verwunschene",
          "Morittz",
          "chrisihalt",
          "Gryzes",
          "EinfachEazy",
          "LordAlexos",
          "LucaaOn",
          "Luxemburq",
          "Falke23_5",
          "Gfrasti",
          "Dokkkkko",
          "IchHolzDichWeg",
          "Lingex",
          "GrafikKatze",
          "Simlll",
          "shellny",
          "bawskey",
          "GamemasterNiki",
          "TheBreadHD",
          "DerBaumIstDerWeg",
          "DrSpeed06",
          "Jan2220",
          "Wissender",
          "Mvsk_",
          "Oronor",
          "juvona",
          "MrNulfred"
         ],
         "y": [
          [
           96.66666666666667,
           96.66666666666667
          ],
          [
           10,
           10
          ],
          [
           50,
           50
          ],
          [
           40,
           40
          ],
          [
           0,
           0
          ],
          [
           66.66666666666667,
           66.66666666666667
          ],
          [
           90,
           90
          ],
          [
           26.666666666666668,
           26.666666666666668
          ],
          [
           10,
           10
          ],
          [
           0,
           0
          ],
          [
           0,
           0
          ],
          [
           33.333333333333336,
           33.333333333333336
          ],
          [
           0,
           0
          ],
          [
           0,
           0
          ],
          [
           0,
           0
          ],
          [
           0,
           0
          ],
          [
           0,
           0
          ],
          [
           0,
           0
          ],
          [
           0,
           0
          ],
          [
           0,
           0
          ],
          [
           0,
           0
          ],
          [
           0,
           0
          ],
          [
           33.333333333333336,
           33.333333333333336
          ],
          [
           0,
           0
          ],
          [
           0,
           0
          ],
          [
           0,
           0
          ],
          [
           0,
           0
          ],
          [
           0,
           0
          ],
          [
           0,
           0
          ],
          [
           0,
           0
          ],
          [
           0,
           0
          ],
          [
           6.666666666666667,
           6.666666666666667
          ],
          [
           0,
           0
          ],
          [
           0,
           0
          ],
          [
           0,
           0
          ],
          [
           0,
           0
          ],
          [
           0,
           0
          ],
          [
           26.666666666666668,
           26.666666666666668
          ],
          [
           30,
           30
          ],
          [
           0,
           0
          ],
          [
           0,
           0
          ],
          [
           0,
           0
          ],
          [
           0,
           0
          ],
          [
           0,
           0
          ],
          [
           0,
           0
          ],
          [
           0,
           0
          ],
          [
           0,
           0
          ],
          [
           0,
           0
          ],
          [
           0,
           0
          ],
          [
           0,
           0
          ],
          [
           0,
           0
          ],
          [
           0,
           0
          ],
          [
           0,
           0
          ],
          [
           23.333333333333332,
           23.333333333333332
          ],
          [
           0,
           0
          ],
          [
           0,
           0
          ],
          [
           0,
           0
          ],
          [
           0,
           0
          ],
          [
           0,
           0
          ],
          [
           0,
           0
          ],
          [
           0,
           0
          ],
          [
           0,
           0
          ],
          [
           0,
           0
          ],
          [
           0,
           0
          ],
          [
           0,
           0
          ],
          [
           0,
           0
          ],
          [
           0,
           0
          ],
          [
           0,
           0
          ],
          [
           0,
           0
          ],
          [
           0,
           0
          ],
          [
           0,
           0
          ],
          [
           0,
           0
          ],
          [
           0,
           0
          ],
          [
           0,
           0
          ],
          [
           0,
           0
          ],
          [
           0,
           0
          ],
          [
           0,
           0
          ],
          [
           0,
           0
          ],
          [
           0,
           0
          ],
          [
           0,
           0
          ],
          [
           0,
           0
          ],
          [
           0,
           0
          ],
          [
           0,
           0
          ],
          [
           0,
           0
          ],
          [
           0,
           0
          ],
          [
           0,
           0
          ],
          [
           0,
           0
          ],
          [
           0,
           0
          ],
          [
           0,
           0
          ],
          [
           0,
           0
          ],
          [
           0,
           0
          ],
          [
           0,
           0
          ],
          [
           0,
           0
          ],
          [
           0,
           0
          ],
          [
           0,
           0
          ],
          [
           0,
           0
          ],
          [
           0,
           0
          ],
          [
           0,
           0
          ],
          [
           0,
           0
          ],
          [
           0,
           0
          ]
         ]
        },
        {
         "marker": {
          "color": "rgb(136, 204, 238)"
         },
         "name": "Spleef",
         "type": "bar",
         "x": [
          "Fflopse",
          "ReichesBrot",
          "Gobo9",
          "cediiiiii_10",
          "PedroZockt",
          "HerrDante",
          "Ex4cted",
          "_n3d",
          "JOW23",
          "Freeeedom",
          "yiiq",
          "lizsyy",
          "CML_Justin",
          "Umgfoin",
          "2wc",
          "DarkCobweb",
          "yzvm",
          "Ninivee",
          "camman18YT",
          "KakaMC",
          "Grapfen",
          "FrozenNoah",
          "ffawks",
          "Gerrygames",
          "toxicplace",
          "LeMetin_",
          "Sey__",
          "Pluto28",
          "MoZadaCraft",
          "miridis41",
          "2B9",
          "h4nnes",
          "Gummibearchen",
          "Sower_",
          "LeWi_100",
          "MaxMitMaulkorb",
          "Schmaarek",
          "unausgesprochen",
          "Davinci_Son",
          "Janne4k",
          "Lubottus",
          "MindsetKito",
          "TheFabo",
          "zBro",
          "Krusti",
          "lolisamasan",
          "La_meleagro",
          "Mincheeen",
          "ByNetherdude",
          "GermanPie",
          "Allooy",
          "byTobi",
          "GeneralEnte06",
          "DieserBear",
          "deadfiight",
          "xX_Dima_ggg_Xx6",
          "M0osebumps",
          "Feinberg",
          "HeIsJustAPoorBoy",
          "NotLennart",
          "YBCM",
          "Teesily",
          "Bikoop",
          "Lennart0911",
          "frutigall",
          "Shiewk",
          "Ungluecklicher",
          "Wienerisch",
          "xBaumeisterin",
          "Squashgitter333",
          "Ritokii",
          "Keenaai",
          "Kyuudo",
          "Verwunschene",
          "Morittz",
          "chrisihalt",
          "Gryzes",
          "EinfachEazy",
          "LordAlexos",
          "LucaaOn",
          "Luxemburq",
          "Falke23_5",
          "Gfrasti",
          "Dokkkkko",
          "IchHolzDichWeg",
          "Lingex",
          "GrafikKatze",
          "Simlll",
          "shellny",
          "bawskey",
          "GamemasterNiki",
          "TheBreadHD",
          "DerBaumIstDerWeg",
          "DrSpeed06",
          "Jan2220",
          "Wissender",
          "Mvsk_",
          "Oronor",
          "juvona",
          "MrNulfred"
         ],
         "y": [
          [
           50,
           50
          ],
          [
           75,
           75
          ],
          [
           50,
           50
          ],
          [
           70,
           70
          ],
          [
           50,
           50
          ],
          [
           20,
           20
          ],
          [
           20,
           20
          ],
          [
           40,
           40
          ],
          [
           40,
           40
          ],
          [
           0,
           0
          ],
          [
           20,
           20
          ],
          [
           30,
           30
          ],
          [
           30,
           30
          ],
          [
           65,
           65
          ],
          [
           0,
           0
          ],
          [
           20,
           20
          ],
          [
           0,
           0
          ],
          [
           0,
           0
          ],
          [
           0,
           0
          ],
          [
           0,
           0
          ],
          [
           20,
           20
          ],
          [
           0,
           0
          ],
          [
           0,
           0
          ],
          [
           0,
           0
          ],
          [
           0,
           0
          ],
          [
           0,
           0
          ],
          [
           0,
           0
          ],
          [
           0,
           0
          ],
          [
           90,
           90
          ],
          [
           0,
           0
          ],
          [
           0,
           0
          ],
          [
           0,
           0
          ],
          [
           0,
           0
          ],
          [
           0,
           0
          ],
          [
           0,
           0
          ],
          [
           20,
           20
          ],
          [
           0,
           0
          ],
          [
           0,
           0
          ],
          [
           30,
           30
          ],
          [
           0,
           0
          ],
          [
           20,
           20
          ],
          [
           0,
           0
          ],
          [
           0,
           0
          ],
          [
           0,
           0
          ],
          [
           45,
           45
          ],
          [
           0,
           0
          ],
          [
           0,
           0
          ],
          [
           0,
           0
          ],
          [
           0,
           0
          ],
          [
           20,
           20
          ],
          [
           0,
           0
          ],
          [
           0,
           0
          ],
          [
           0,
           0
          ],
          [
           20,
           20
          ],
          [
           20,
           20
          ],
          [
           30,
           30
          ],
          [
           20,
           20
          ],
          [
           0,
           0
          ],
          [
           30,
           30
          ],
          [
           20,
           20
          ],
          [
           0,
           0
          ],
          [
           0,
           0
          ],
          [
           20,
           20
          ],
          [
           0,
           0
          ],
          [
           50,
           50
          ],
          [
           0,
           0
          ],
          [
           0,
           0
          ],
          [
           0,
           0
          ],
          [
           0,
           0
          ],
          [
           20,
           20
          ],
          [
           0,
           0
          ],
          [
           0,
           0
          ],
          [
           0,
           0
          ],
          [
           0,
           0
          ],
          [
           0,
           0
          ],
          [
           0,
           0
          ],
          [
           0,
           0
          ],
          [
           0,
           0
          ],
          [
           0,
           0
          ],
          [
           20,
           20
          ],
          [
           45,
           45
          ],
          [
           0,
           0
          ],
          [
           0,
           0
          ],
          [
           0,
           0
          ],
          [
           0,
           0
          ],
          [
           0,
           0
          ],
          [
           0,
           0
          ],
          [
           0,
           0
          ],
          [
           0,
           0
          ],
          [
           0,
           0
          ],
          [
           0,
           0
          ],
          [
           0,
           0
          ],
          [
           0,
           0
          ],
          [
           0,
           0
          ],
          [
           20,
           20
          ],
          [
           30,
           30
          ],
          [
           0,
           0
          ],
          [
           0,
           0
          ],
          [
           0,
           0
          ],
          [
           0,
           0
          ]
         ]
        },
        {
         "marker": {
          "color": "rgb(204, 102, 119)"
         },
         "name": "Todeswürfel",
         "type": "bar",
         "x": [
          "Fflopse",
          "ReichesBrot",
          "Gobo9",
          "cediiiiii_10",
          "PedroZockt",
          "HerrDante",
          "Ex4cted",
          "_n3d",
          "JOW23",
          "Freeeedom",
          "yiiq",
          "lizsyy",
          "CML_Justin",
          "Umgfoin",
          "2wc",
          "DarkCobweb",
          "yzvm",
          "Ninivee",
          "camman18YT",
          "KakaMC",
          "Grapfen",
          "FrozenNoah",
          "ffawks",
          "Gerrygames",
          "toxicplace",
          "LeMetin_",
          "Sey__",
          "Pluto28",
          "MoZadaCraft",
          "miridis41",
          "2B9",
          "h4nnes",
          "Gummibearchen",
          "Sower_",
          "LeWi_100",
          "MaxMitMaulkorb",
          "Schmaarek",
          "unausgesprochen",
          "Davinci_Son",
          "Janne4k",
          "Lubottus",
          "MindsetKito",
          "TheFabo",
          "zBro",
          "Krusti",
          "lolisamasan",
          "La_meleagro",
          "Mincheeen",
          "ByNetherdude",
          "GermanPie",
          "Allooy",
          "byTobi",
          "GeneralEnte06",
          "DieserBear",
          "deadfiight",
          "xX_Dima_ggg_Xx6",
          "M0osebumps",
          "Feinberg",
          "HeIsJustAPoorBoy",
          "NotLennart",
          "YBCM",
          "Teesily",
          "Bikoop",
          "Lennart0911",
          "frutigall",
          "Shiewk",
          "Ungluecklicher",
          "Wienerisch",
          "xBaumeisterin",
          "Squashgitter333",
          "Ritokii",
          "Keenaai",
          "Kyuudo",
          "Verwunschene",
          "Morittz",
          "chrisihalt",
          "Gryzes",
          "EinfachEazy",
          "LordAlexos",
          "LucaaOn",
          "Luxemburq",
          "Falke23_5",
          "Gfrasti",
          "Dokkkkko",
          "IchHolzDichWeg",
          "Lingex",
          "GrafikKatze",
          "Simlll",
          "shellny",
          "bawskey",
          "GamemasterNiki",
          "TheBreadHD",
          "DerBaumIstDerWeg",
          "DrSpeed06",
          "Jan2220",
          "Wissender",
          "Mvsk_",
          "Oronor",
          "juvona",
          "MrNulfred"
         ],
         "y": [
          [
           60,
           60
          ],
          [
           0,
           0
          ],
          [
           0,
           0
          ],
          [
           0,
           0
          ],
          [
           50,
           50
          ],
          [
           90,
           90
          ],
          [
           0,
           0
          ],
          [
           0,
           0
          ],
          [
           0,
           0
          ],
          [
           0,
           0
          ],
          [
           0,
           0
          ],
          [
           0,
           0
          ],
          [
           20,
           20
          ],
          [
           0,
           0
          ],
          [
           0,
           0
          ],
          [
           0,
           0
          ],
          [
           0,
           0
          ],
          [
           0,
           0
          ],
          [
           40,
           40
          ],
          [
           30,
           30
          ],
          [
           0,
           0
          ],
          [
           0,
           0
          ],
          [
           0,
           0
          ],
          [
           80,
           80
          ],
          [
           0,
           0
          ],
          [
           0,
           0
          ],
          [
           0,
           0
          ],
          [
           0,
           0
          ],
          [
           0,
           0
          ],
          [
           0,
           0
          ],
          [
           0,
           0
          ],
          [
           0,
           0
          ],
          [
           0,
           0
          ],
          [
           100,
           100
          ],
          [
           0,
           0
          ],
          [
           0,
           0
          ],
          [
           0,
           0
          ],
          [
           0,
           0
          ],
          [
           0,
           0
          ],
          [
           0,
           0
          ],
          [
           0,
           0
          ],
          [
           0,
           0
          ],
          [
           0,
           0
          ],
          [
           0,
           0
          ],
          [
           0,
           0
          ],
          [
           70,
           70
          ],
          [
           0,
           0
          ],
          [
           0,
           0
          ],
          [
           0,
           0
          ],
          [
           0,
           0
          ],
          [
           0,
           0
          ],
          [
           0,
           0
          ],
          [
           0,
           0
          ],
          [
           0,
           0
          ],
          [
           0,
           0
          ],
          [
           0,
           0
          ],
          [
           0,
           0
          ],
          [
           0,
           0
          ],
          [
           0,
           0
          ],
          [
           0,
           0
          ],
          [
           0,
           0
          ],
          [
           0,
           0
          ],
          [
           0,
           0
          ],
          [
           0,
           0
          ],
          [
           0,
           0
          ],
          [
           0,
           0
          ],
          [
           0,
           0
          ],
          [
           0,
           0
          ],
          [
           0,
           0
          ],
          [
           0,
           0
          ],
          [
           0,
           0
          ],
          [
           0,
           0
          ],
          [
           0,
           0
          ],
          [
           0,
           0
          ],
          [
           0,
           0
          ],
          [
           0,
           0
          ],
          [
           0,
           0
          ],
          [
           0,
           0
          ],
          [
           0,
           0
          ],
          [
           0,
           0
          ],
          [
           0,
           0
          ],
          [
           0,
           0
          ],
          [
           0,
           0
          ],
          [
           0,
           0
          ],
          [
           0,
           0
          ],
          [
           0,
           0
          ],
          [
           0,
           0
          ],
          [
           0,
           0
          ],
          [
           0,
           0
          ],
          [
           0,
           0
          ],
          [
           0,
           0
          ],
          [
           0,
           0
          ],
          [
           0,
           0
          ],
          [
           0,
           0
          ],
          [
           0,
           0
          ],
          [
           0,
           0
          ],
          [
           0,
           0
          ],
          [
           0,
           0
          ],
          [
           0,
           0
          ],
          [
           0,
           0
          ]
         ]
        },
        {
         "marker": {
          "color": "rgb(221, 204, 119)"
         },
         "name": "Waffenfolge",
         "type": "bar",
         "x": [
          "Fflopse",
          "ReichesBrot",
          "Gobo9",
          "cediiiiii_10",
          "PedroZockt",
          "HerrDante",
          "Ex4cted",
          "_n3d",
          "JOW23",
          "Freeeedom",
          "yiiq",
          "lizsyy",
          "CML_Justin",
          "Umgfoin",
          "2wc",
          "DarkCobweb",
          "yzvm",
          "Ninivee",
          "camman18YT",
          "KakaMC",
          "Grapfen",
          "FrozenNoah",
          "ffawks",
          "Gerrygames",
          "toxicplace",
          "LeMetin_",
          "Sey__",
          "Pluto28",
          "MoZadaCraft",
          "miridis41",
          "2B9",
          "h4nnes",
          "Gummibearchen",
          "Sower_",
          "LeWi_100",
          "MaxMitMaulkorb",
          "Schmaarek",
          "unausgesprochen",
          "Davinci_Son",
          "Janne4k",
          "Lubottus",
          "MindsetKito",
          "TheFabo",
          "zBro",
          "Krusti",
          "lolisamasan",
          "La_meleagro",
          "Mincheeen",
          "ByNetherdude",
          "GermanPie",
          "Allooy",
          "byTobi",
          "GeneralEnte06",
          "DieserBear",
          "deadfiight",
          "xX_Dima_ggg_Xx6",
          "M0osebumps",
          "Feinberg",
          "HeIsJustAPoorBoy",
          "NotLennart",
          "YBCM",
          "Teesily",
          "Bikoop",
          "Lennart0911",
          "frutigall",
          "Shiewk",
          "Ungluecklicher",
          "Wienerisch",
          "xBaumeisterin",
          "Squashgitter333",
          "Ritokii",
          "Keenaai",
          "Kyuudo",
          "Verwunschene",
          "Morittz",
          "chrisihalt",
          "Gryzes",
          "EinfachEazy",
          "LordAlexos",
          "LucaaOn",
          "Luxemburq",
          "Falke23_5",
          "Gfrasti",
          "Dokkkkko",
          "IchHolzDichWeg",
          "Lingex",
          "GrafikKatze",
          "Simlll",
          "shellny",
          "bawskey",
          "GamemasterNiki",
          "TheBreadHD",
          "DerBaumIstDerWeg",
          "DrSpeed06",
          "Jan2220",
          "Wissender",
          "Mvsk_",
          "Oronor",
          "juvona",
          "MrNulfred"
         ],
         "y": [
          [
           30,
           30
          ],
          [
           50,
           50
          ],
          [
           0,
           0
          ],
          [
           70,
           70
          ],
          [
           60,
           60
          ],
          [
           0,
           0
          ],
          [
           0,
           0
          ],
          [
           0,
           0
          ],
          [
           100,
           100
          ],
          [
           0,
           0
          ],
          [
           0,
           0
          ],
          [
           0,
           0
          ],
          [
           0,
           0
          ],
          [
           0,
           0
          ],
          [
           0,
           0
          ],
          [
           0,
           0
          ],
          [
           90,
           90
          ],
          [
           0,
           0
          ],
          [
           0,
           0
          ],
          [
           0,
           0
          ],
          [
           40,
           40
          ],
          [
           0,
           0
          ],
          [
           0,
           0
          ],
          [
           0,
           0
          ],
          [
           0,
           0
          ],
          [
           0,
           0
          ],
          [
           0,
           0
          ],
          [
           80,
           80
          ],
          [
           0,
           0
          ],
          [
           0,
           0
          ],
          [
           0,
           0
          ],
          [
           0,
           0
          ],
          [
           0,
           0
          ],
          [
           0,
           0
          ],
          [
           0,
           0
          ],
          [
           0,
           0
          ],
          [
           0,
           0
          ],
          [
           0,
           0
          ],
          [
           0,
           0
          ],
          [
           0,
           0
          ],
          [
           0,
           0
          ],
          [
           0,
           0
          ],
          [
           20,
           20
          ],
          [
           0,
           0
          ],
          [
           0,
           0
          ],
          [
           0,
           0
          ],
          [
           0,
           0
          ],
          [
           0,
           0
          ],
          [
           0,
           0
          ],
          [
           0,
           0
          ],
          [
           0,
           0
          ],
          [
           0,
           0
          ],
          [
           0,
           0
          ],
          [
           0,
           0
          ],
          [
           0,
           0
          ],
          [
           0,
           0
          ],
          [
           0,
           0
          ],
          [
           0,
           0
          ],
          [
           0,
           0
          ],
          [
           0,
           0
          ],
          [
           0,
           0
          ],
          [
           0,
           0
          ],
          [
           0,
           0
          ],
          [
           0,
           0
          ],
          [
           0,
           0
          ],
          [
           0,
           0
          ],
          [
           0,
           0
          ],
          [
           0,
           0
          ],
          [
           0,
           0
          ],
          [
           0,
           0
          ],
          [
           0,
           0
          ],
          [
           0,
           0
          ],
          [
           0,
           0
          ],
          [
           0,
           0
          ],
          [
           0,
           0
          ],
          [
           0,
           0
          ],
          [
           0,
           0
          ],
          [
           0,
           0
          ],
          [
           0,
           0
          ],
          [
           0,
           0
          ],
          [
           0,
           0
          ],
          [
           0,
           0
          ],
          [
           0,
           0
          ],
          [
           0,
           0
          ],
          [
           0,
           0
          ],
          [
           0,
           0
          ],
          [
           0,
           0
          ],
          [
           0,
           0
          ],
          [
           0,
           0
          ],
          [
           0,
           0
          ],
          [
           0,
           0
          ],
          [
           0,
           0
          ],
          [
           0,
           0
          ],
          [
           0,
           0
          ],
          [
           0,
           0
          ],
          [
           0,
           0
          ],
          [
           0,
           0
          ],
          [
           0,
           0
          ],
          [
           0,
           0
          ],
          [
           0,
           0
          ]
         ]
        },
        {
         "marker": {
          "color": "rgb(17, 119, 51)"
         },
         "name": "Walls",
         "type": "bar",
         "x": [
          "Fflopse",
          "ReichesBrot",
          "Gobo9",
          "cediiiiii_10",
          "PedroZockt",
          "HerrDante",
          "Ex4cted",
          "_n3d",
          "JOW23",
          "Freeeedom",
          "yiiq",
          "lizsyy",
          "CML_Justin",
          "Umgfoin",
          "2wc",
          "DarkCobweb",
          "yzvm",
          "Ninivee",
          "camman18YT",
          "KakaMC",
          "Grapfen",
          "FrozenNoah",
          "ffawks",
          "Gerrygames",
          "toxicplace",
          "LeMetin_",
          "Sey__",
          "Pluto28",
          "MoZadaCraft",
          "miridis41",
          "2B9",
          "h4nnes",
          "Gummibearchen",
          "Sower_",
          "LeWi_100",
          "MaxMitMaulkorb",
          "Schmaarek",
          "unausgesprochen",
          "Davinci_Son",
          "Janne4k",
          "Lubottus",
          "MindsetKito",
          "TheFabo",
          "zBro",
          "Krusti",
          "lolisamasan",
          "La_meleagro",
          "Mincheeen",
          "ByNetherdude",
          "GermanPie",
          "Allooy",
          "byTobi",
          "GeneralEnte06",
          "DieserBear",
          "deadfiight",
          "xX_Dima_ggg_Xx6",
          "M0osebumps",
          "Feinberg",
          "HeIsJustAPoorBoy",
          "NotLennart",
          "YBCM",
          "Teesily",
          "Bikoop",
          "Lennart0911",
          "frutigall",
          "Shiewk",
          "Ungluecklicher",
          "Wienerisch",
          "xBaumeisterin",
          "Squashgitter333",
          "Ritokii",
          "Keenaai",
          "Kyuudo",
          "Verwunschene",
          "Morittz",
          "chrisihalt",
          "Gryzes",
          "EinfachEazy",
          "LordAlexos",
          "LucaaOn",
          "Luxemburq",
          "Falke23_5",
          "Gfrasti",
          "Dokkkkko",
          "IchHolzDichWeg",
          "Lingex",
          "GrafikKatze",
          "Simlll",
          "shellny",
          "bawskey",
          "GamemasterNiki",
          "TheBreadHD",
          "DerBaumIstDerWeg",
          "DrSpeed06",
          "Jan2220",
          "Wissender",
          "Mvsk_",
          "Oronor",
          "juvona",
          "MrNulfred"
         ],
         "y": [
          [
           33.333333333333336,
           33.333333333333336
          ],
          [
           13.333333333333334,
           13.333333333333334
          ],
          [
           33.333333333333336,
           33.333333333333336
          ],
          [
           86.66666666666667,
           86.66666666666667
          ],
          [
           56.666666666666664,
           56.666666666666664
          ],
          [
           0,
           0
          ],
          [
           0,
           0
          ],
          [
           33.333333333333336,
           33.333333333333336
          ],
          [
           30,
           30
          ],
          [
           0,
           0
          ],
          [
           20,
           20
          ],
          [
           0,
           0
          ],
          [
           0,
           0
          ],
          [
           0,
           0
          ],
          [
           20,
           20
          ],
          [
           63.333333333333336,
           63.333333333333336
          ],
          [
           13.333333333333334,
           13.333333333333334
          ],
          [
           20,
           20
          ],
          [
           53.333333333333336,
           53.333333333333336
          ],
          [
           30,
           30
          ],
          [
           30,
           30
          ],
          [
           0,
           0
          ],
          [
           0,
           0
          ],
          [
           0,
           0
          ],
          [
           0,
           0
          ],
          [
           0,
           0
          ],
          [
           0,
           0
          ],
          [
           0,
           0
          ],
          [
           0,
           0
          ],
          [
           20,
           20
          ],
          [
           0,
           0
          ],
          [
           0,
           0
          ],
          [
           23.333333333333332,
           23.333333333333332
          ],
          [
           0,
           0
          ],
          [
           0,
           0
          ],
          [
           0,
           0
          ],
          [
           0,
           0
          ],
          [
           0,
           0
          ],
          [
           13.333333333333334,
           13.333333333333334
          ],
          [
           0,
           0
          ],
          [
           0,
           0
          ],
          [
           0,
           0
          ],
          [
           0,
           0
          ],
          [
           33.333333333333336,
           33.333333333333336
          ],
          [
           0,
           0
          ],
          [
           0,
           0
          ],
          [
           0,
           0
          ],
          [
           0,
           0
          ],
          [
           0,
           0
          ],
          [
           0,
           0
          ],
          [
           0,
           0
          ],
          [
           13.333333333333334,
           13.333333333333334
          ],
          [
           0,
           0
          ],
          [
           0,
           0
          ],
          [
           0,
           0
          ],
          [
           0,
           0
          ],
          [
           0,
           0
          ],
          [
           0,
           0
          ],
          [
           20,
           20
          ],
          [
           13.333333333333334,
           13.333333333333334
          ],
          [
           0,
           0
          ],
          [
           0,
           0
          ],
          [
           0,
           0
          ],
          [
           0,
           0
          ],
          [
           0,
           0
          ],
          [
           0,
           0
          ],
          [
           0,
           0
          ],
          [
           0,
           0
          ],
          [
           0,
           0
          ],
          [
           0,
           0
          ],
          [
           0,
           0
          ],
          [
           0,
           0
          ],
          [
           0,
           0
          ],
          [
           0,
           0
          ],
          [
           13.333333333333334,
           13.333333333333334
          ],
          [
           0,
           0
          ],
          [
           0,
           0
          ],
          [
           0,
           0
          ],
          [
           0,
           0
          ],
          [
           0,
           0
          ],
          [
           0,
           0
          ],
          [
           0,
           0
          ],
          [
           0,
           0
          ],
          [
           20,
           20
          ],
          [
           13.333333333333334,
           13.333333333333334
          ],
          [
           0,
           0
          ],
          [
           0,
           0
          ],
          [
           26.666666666666668,
           26.666666666666668
          ],
          [
           0,
           0
          ],
          [
           13.333333333333334,
           13.333333333333334
          ],
          [
           0,
           0
          ],
          [
           0,
           0
          ],
          [
           0,
           0
          ],
          [
           0,
           0
          ],
          [
           0,
           0
          ],
          [
           0,
           0
          ],
          [
           0,
           0
          ],
          [
           0,
           0
          ],
          [
           0,
           0
          ],
          [
           0,
           0
          ]
         ]
        },
        {
         "marker": {
          "color": "rgb(51, 34, 136)"
         },
         "name": "Wettrennen",
         "type": "bar",
         "x": [
          "Fflopse",
          "ReichesBrot",
          "Gobo9",
          "cediiiiii_10",
          "PedroZockt",
          "HerrDante",
          "Ex4cted",
          "_n3d",
          "JOW23",
          "Freeeedom",
          "yiiq",
          "lizsyy",
          "CML_Justin",
          "Umgfoin",
          "2wc",
          "DarkCobweb",
          "yzvm",
          "Ninivee",
          "camman18YT",
          "KakaMC",
          "Grapfen",
          "FrozenNoah",
          "ffawks",
          "Gerrygames",
          "toxicplace",
          "LeMetin_",
          "Sey__",
          "Pluto28",
          "MoZadaCraft",
          "miridis41",
          "2B9",
          "h4nnes",
          "Gummibearchen",
          "Sower_",
          "LeWi_100",
          "MaxMitMaulkorb",
          "Schmaarek",
          "unausgesprochen",
          "Davinci_Son",
          "Janne4k",
          "Lubottus",
          "MindsetKito",
          "TheFabo",
          "zBro",
          "Krusti",
          "lolisamasan",
          "La_meleagro",
          "Mincheeen",
          "ByNetherdude",
          "GermanPie",
          "Allooy",
          "byTobi",
          "GeneralEnte06",
          "DieserBear",
          "deadfiight",
          "xX_Dima_ggg_Xx6",
          "M0osebumps",
          "Feinberg",
          "HeIsJustAPoorBoy",
          "NotLennart",
          "YBCM",
          "Teesily",
          "Bikoop",
          "Lennart0911",
          "frutigall",
          "Shiewk",
          "Ungluecklicher",
          "Wienerisch",
          "xBaumeisterin",
          "Squashgitter333",
          "Ritokii",
          "Keenaai",
          "Kyuudo",
          "Verwunschene",
          "Morittz",
          "chrisihalt",
          "Gryzes",
          "EinfachEazy",
          "LordAlexos",
          "LucaaOn",
          "Luxemburq",
          "Falke23_5",
          "Gfrasti",
          "Dokkkkko",
          "IchHolzDichWeg",
          "Lingex",
          "GrafikKatze",
          "Simlll",
          "shellny",
          "bawskey",
          "GamemasterNiki",
          "TheBreadHD",
          "DerBaumIstDerWeg",
          "DrSpeed06",
          "Jan2220",
          "Wissender",
          "Mvsk_",
          "Oronor",
          "juvona",
          "MrNulfred"
         ],
         "y": [
          [
           82,
           82
          ],
          [
           62,
           62
          ],
          [
           74,
           74
          ],
          [
           40,
           40
          ],
          [
           10,
           10
          ],
          [
           14,
           14
          ],
          [
           0,
           0
          ],
          [
           4,
           4
          ],
          [
           0,
           0
          ],
          [
           0,
           0
          ],
          [
           40,
           40
          ],
          [
           14,
           14
          ],
          [
           0,
           0
          ],
          [
           0,
           0
          ],
          [
           8,
           8
          ],
          [
           0,
           0
          ],
          [
           10,
           10
          ],
          [
           0,
           0
          ],
          [
           0,
           0
          ],
          [
           0,
           0
          ],
          [
           0,
           0
          ],
          [
           0,
           0
          ],
          [
           8,
           8
          ],
          [
           20,
           20
          ],
          [
           0,
           0
          ],
          [
           12,
           12
          ],
          [
           6,
           6
          ],
          [
           0,
           0
          ],
          [
           0,
           0
          ],
          [
           0,
           0
          ],
          [
           0,
           0
          ],
          [
           0,
           0
          ],
          [
           32,
           32
          ],
          [
           0,
           0
          ],
          [
           22,
           22
          ],
          [
           0,
           0
          ],
          [
           14,
           14
          ],
          [
           0,
           0
          ],
          [
           0,
           0
          ],
          [
           0,
           0
          ],
          [
           0,
           0
          ],
          [
           0,
           0
          ],
          [
           0,
           0
          ],
          [
           0,
           0
          ],
          [
           0,
           0
          ],
          [
           0,
           0
          ],
          [
           0,
           0
          ],
          [
           10,
           10
          ],
          [
           0,
           0
          ],
          [
           0,
           0
          ],
          [
           0,
           0
          ],
          [
           0,
           0
          ],
          [
           12,
           12
          ],
          [
           0,
           0
          ],
          [
           0,
           0
          ],
          [
           0,
           0
          ],
          [
           16,
           16
          ],
          [
           0,
           0
          ],
          [
           0,
           0
          ],
          [
           0,
           0
          ],
          [
           0,
           0
          ],
          [
           0,
           0
          ],
          [
           0,
           0
          ],
          [
           0,
           0
          ],
          [
           0,
           0
          ],
          [
           0,
           0
          ],
          [
           0,
           0
          ],
          [
           0,
           0
          ],
          [
           12,
           12
          ],
          [
           0,
           0
          ],
          [
           0,
           0
          ],
          [
           0,
           0
          ],
          [
           12,
           12
          ],
          [
           0,
           0
          ],
          [
           0,
           0
          ],
          [
           0,
           0
          ],
          [
           0,
           0
          ],
          [
           0,
           0
          ],
          [
           0,
           0
          ],
          [
           0,
           0
          ],
          [
           0,
           0
          ],
          [
           0,
           0
          ],
          [
           0,
           0
          ],
          [
           0,
           0
          ],
          [
           0,
           0
          ],
          [
           0,
           0
          ],
          [
           0,
           0
          ],
          [
           0,
           0
          ],
          [
           0,
           0
          ],
          [
           0,
           0
          ],
          [
           0,
           0
          ],
          [
           0,
           0
          ],
          [
           0,
           0
          ],
          [
           0,
           0
          ],
          [
           0,
           0
          ],
          [
           0,
           0
          ],
          [
           0,
           0
          ],
          [
           0,
           0
          ],
          [
           0,
           0
          ],
          [
           0,
           0
          ]
         ]
        }
       ],
       "layout": {
        "annotations": [
         {
          "font": {
           "size": 12
          },
          "showarrow": false,
          "text": "Max 100 points per minigame. Records #1 through #10 of games & maps in the active pool are considered (#1: 100, #2: 90, ..., #10: 10). If a minigame has multiple maps, the 100 points are distributed equally. fflopse.github.io/MCP-Records/data-analysis/global-ranking.ipynb",
          "x": 0.5,
          "xanchor": "center",
          "xref": "paper",
          "y": 1.1635,
          "yref": "paper"
         }
        ],
        "barmode": "stack",
        "legend": {
         "bgcolor": "rgba(255, 255, 255, 0)",
         "bordercolor": "rgba(0, 0, 0, 0)",
         "font": {
          "size": 12
         },
         "traceorder": "normal",
         "x": 1.05,
         "y": 0.5
        },
        "margin": {
         "r": 200
        },
        "template": {
         "data": {
          "bar": [
           {
            "error_x": {
             "color": "#2a3f5f"
            },
            "error_y": {
             "color": "#2a3f5f"
            },
            "marker": {
             "line": {
              "color": "#E5ECF6",
              "width": 0.5
             },
             "pattern": {
              "fillmode": "overlay",
              "size": 10,
              "solidity": 0.2
             }
            },
            "type": "bar"
           }
          ],
          "barpolar": [
           {
            "marker": {
             "line": {
              "color": "#E5ECF6",
              "width": 0.5
             },
             "pattern": {
              "fillmode": "overlay",
              "size": 10,
              "solidity": 0.2
             }
            },
            "type": "barpolar"
           }
          ],
          "carpet": [
           {
            "aaxis": {
             "endlinecolor": "#2a3f5f",
             "gridcolor": "white",
             "linecolor": "white",
             "minorgridcolor": "white",
             "startlinecolor": "#2a3f5f"
            },
            "baxis": {
             "endlinecolor": "#2a3f5f",
             "gridcolor": "white",
             "linecolor": "white",
             "minorgridcolor": "white",
             "startlinecolor": "#2a3f5f"
            },
            "type": "carpet"
           }
          ],
          "choropleth": [
           {
            "colorbar": {
             "outlinewidth": 0,
             "ticks": ""
            },
            "type": "choropleth"
           }
          ],
          "contour": [
           {
            "colorbar": {
             "outlinewidth": 0,
             "ticks": ""
            },
            "colorscale": [
             [
              0,
              "#0d0887"
             ],
             [
              0.1111111111111111,
              "#46039f"
             ],
             [
              0.2222222222222222,
              "#7201a8"
             ],
             [
              0.3333333333333333,
              "#9c179e"
             ],
             [
              0.4444444444444444,
              "#bd3786"
             ],
             [
              0.5555555555555556,
              "#d8576b"
             ],
             [
              0.6666666666666666,
              "#ed7953"
             ],
             [
              0.7777777777777778,
              "#fb9f3a"
             ],
             [
              0.8888888888888888,
              "#fdca26"
             ],
             [
              1,
              "#f0f921"
             ]
            ],
            "type": "contour"
           }
          ],
          "contourcarpet": [
           {
            "colorbar": {
             "outlinewidth": 0,
             "ticks": ""
            },
            "type": "contourcarpet"
           }
          ],
          "heatmap": [
           {
            "colorbar": {
             "outlinewidth": 0,
             "ticks": ""
            },
            "colorscale": [
             [
              0,
              "#0d0887"
             ],
             [
              0.1111111111111111,
              "#46039f"
             ],
             [
              0.2222222222222222,
              "#7201a8"
             ],
             [
              0.3333333333333333,
              "#9c179e"
             ],
             [
              0.4444444444444444,
              "#bd3786"
             ],
             [
              0.5555555555555556,
              "#d8576b"
             ],
             [
              0.6666666666666666,
              "#ed7953"
             ],
             [
              0.7777777777777778,
              "#fb9f3a"
             ],
             [
              0.8888888888888888,
              "#fdca26"
             ],
             [
              1,
              "#f0f921"
             ]
            ],
            "type": "heatmap"
           }
          ],
          "heatmapgl": [
           {
            "colorbar": {
             "outlinewidth": 0,
             "ticks": ""
            },
            "colorscale": [
             [
              0,
              "#0d0887"
             ],
             [
              0.1111111111111111,
              "#46039f"
             ],
             [
              0.2222222222222222,
              "#7201a8"
             ],
             [
              0.3333333333333333,
              "#9c179e"
             ],
             [
              0.4444444444444444,
              "#bd3786"
             ],
             [
              0.5555555555555556,
              "#d8576b"
             ],
             [
              0.6666666666666666,
              "#ed7953"
             ],
             [
              0.7777777777777778,
              "#fb9f3a"
             ],
             [
              0.8888888888888888,
              "#fdca26"
             ],
             [
              1,
              "#f0f921"
             ]
            ],
            "type": "heatmapgl"
           }
          ],
          "histogram": [
           {
            "marker": {
             "pattern": {
              "fillmode": "overlay",
              "size": 10,
              "solidity": 0.2
             }
            },
            "type": "histogram"
           }
          ],
          "histogram2d": [
           {
            "colorbar": {
             "outlinewidth": 0,
             "ticks": ""
            },
            "colorscale": [
             [
              0,
              "#0d0887"
             ],
             [
              0.1111111111111111,
              "#46039f"
             ],
             [
              0.2222222222222222,
              "#7201a8"
             ],
             [
              0.3333333333333333,
              "#9c179e"
             ],
             [
              0.4444444444444444,
              "#bd3786"
             ],
             [
              0.5555555555555556,
              "#d8576b"
             ],
             [
              0.6666666666666666,
              "#ed7953"
             ],
             [
              0.7777777777777778,
              "#fb9f3a"
             ],
             [
              0.8888888888888888,
              "#fdca26"
             ],
             [
              1,
              "#f0f921"
             ]
            ],
            "type": "histogram2d"
           }
          ],
          "histogram2dcontour": [
           {
            "colorbar": {
             "outlinewidth": 0,
             "ticks": ""
            },
            "colorscale": [
             [
              0,
              "#0d0887"
             ],
             [
              0.1111111111111111,
              "#46039f"
             ],
             [
              0.2222222222222222,
              "#7201a8"
             ],
             [
              0.3333333333333333,
              "#9c179e"
             ],
             [
              0.4444444444444444,
              "#bd3786"
             ],
             [
              0.5555555555555556,
              "#d8576b"
             ],
             [
              0.6666666666666666,
              "#ed7953"
             ],
             [
              0.7777777777777778,
              "#fb9f3a"
             ],
             [
              0.8888888888888888,
              "#fdca26"
             ],
             [
              1,
              "#f0f921"
             ]
            ],
            "type": "histogram2dcontour"
           }
          ],
          "mesh3d": [
           {
            "colorbar": {
             "outlinewidth": 0,
             "ticks": ""
            },
            "type": "mesh3d"
           }
          ],
          "parcoords": [
           {
            "line": {
             "colorbar": {
              "outlinewidth": 0,
              "ticks": ""
             }
            },
            "type": "parcoords"
           }
          ],
          "pie": [
           {
            "automargin": true,
            "type": "pie"
           }
          ],
          "scatter": [
           {
            "fillpattern": {
             "fillmode": "overlay",
             "size": 10,
             "solidity": 0.2
            },
            "type": "scatter"
           }
          ],
          "scatter3d": [
           {
            "line": {
             "colorbar": {
              "outlinewidth": 0,
              "ticks": ""
             }
            },
            "marker": {
             "colorbar": {
              "outlinewidth": 0,
              "ticks": ""
             }
            },
            "type": "scatter3d"
           }
          ],
          "scattercarpet": [
           {
            "marker": {
             "colorbar": {
              "outlinewidth": 0,
              "ticks": ""
             }
            },
            "type": "scattercarpet"
           }
          ],
          "scattergeo": [
           {
            "marker": {
             "colorbar": {
              "outlinewidth": 0,
              "ticks": ""
             }
            },
            "type": "scattergeo"
           }
          ],
          "scattergl": [
           {
            "marker": {
             "colorbar": {
              "outlinewidth": 0,
              "ticks": ""
             }
            },
            "type": "scattergl"
           }
          ],
          "scattermapbox": [
           {
            "marker": {
             "colorbar": {
              "outlinewidth": 0,
              "ticks": ""
             }
            },
            "type": "scattermapbox"
           }
          ],
          "scatterpolar": [
           {
            "marker": {
             "colorbar": {
              "outlinewidth": 0,
              "ticks": ""
             }
            },
            "type": "scatterpolar"
           }
          ],
          "scatterpolargl": [
           {
            "marker": {
             "colorbar": {
              "outlinewidth": 0,
              "ticks": ""
             }
            },
            "type": "scatterpolargl"
           }
          ],
          "scatterternary": [
           {
            "marker": {
             "colorbar": {
              "outlinewidth": 0,
              "ticks": ""
             }
            },
            "type": "scatterternary"
           }
          ],
          "surface": [
           {
            "colorbar": {
             "outlinewidth": 0,
             "ticks": ""
            },
            "colorscale": [
             [
              0,
              "#0d0887"
             ],
             [
              0.1111111111111111,
              "#46039f"
             ],
             [
              0.2222222222222222,
              "#7201a8"
             ],
             [
              0.3333333333333333,
              "#9c179e"
             ],
             [
              0.4444444444444444,
              "#bd3786"
             ],
             [
              0.5555555555555556,
              "#d8576b"
             ],
             [
              0.6666666666666666,
              "#ed7953"
             ],
             [
              0.7777777777777778,
              "#fb9f3a"
             ],
             [
              0.8888888888888888,
              "#fdca26"
             ],
             [
              1,
              "#f0f921"
             ]
            ],
            "type": "surface"
           }
          ],
          "table": [
           {
            "cells": {
             "fill": {
              "color": "#EBF0F8"
             },
             "line": {
              "color": "white"
             }
            },
            "header": {
             "fill": {
              "color": "#C8D4E3"
             },
             "line": {
              "color": "white"
             }
            },
            "type": "table"
           }
          ]
         },
         "layout": {
          "annotationdefaults": {
           "arrowcolor": "#2a3f5f",
           "arrowhead": 0,
           "arrowwidth": 1
          },
          "autotypenumbers": "strict",
          "coloraxis": {
           "colorbar": {
            "outlinewidth": 0,
            "ticks": ""
           }
          },
          "colorscale": {
           "diverging": [
            [
             0,
             "#8e0152"
            ],
            [
             0.1,
             "#c51b7d"
            ],
            [
             0.2,
             "#de77ae"
            ],
            [
             0.3,
             "#f1b6da"
            ],
            [
             0.4,
             "#fde0ef"
            ],
            [
             0.5,
             "#f7f7f7"
            ],
            [
             0.6,
             "#e6f5d0"
            ],
            [
             0.7,
             "#b8e186"
            ],
            [
             0.8,
             "#7fbc41"
            ],
            [
             0.9,
             "#4d9221"
            ],
            [
             1,
             "#276419"
            ]
           ],
           "sequential": [
            [
             0,
             "#0d0887"
            ],
            [
             0.1111111111111111,
             "#46039f"
            ],
            [
             0.2222222222222222,
             "#7201a8"
            ],
            [
             0.3333333333333333,
             "#9c179e"
            ],
            [
             0.4444444444444444,
             "#bd3786"
            ],
            [
             0.5555555555555556,
             "#d8576b"
            ],
            [
             0.6666666666666666,
             "#ed7953"
            ],
            [
             0.7777777777777778,
             "#fb9f3a"
            ],
            [
             0.8888888888888888,
             "#fdca26"
            ],
            [
             1,
             "#f0f921"
            ]
           ],
           "sequentialminus": [
            [
             0,
             "#0d0887"
            ],
            [
             0.1111111111111111,
             "#46039f"
            ],
            [
             0.2222222222222222,
             "#7201a8"
            ],
            [
             0.3333333333333333,
             "#9c179e"
            ],
            [
             0.4444444444444444,
             "#bd3786"
            ],
            [
             0.5555555555555556,
             "#d8576b"
            ],
            [
             0.6666666666666666,
             "#ed7953"
            ],
            [
             0.7777777777777778,
             "#fb9f3a"
            ],
            [
             0.8888888888888888,
             "#fdca26"
            ],
            [
             1,
             "#f0f921"
            ]
           ]
          },
          "colorway": [
           "#636efa",
           "#EF553B",
           "#00cc96",
           "#ab63fa",
           "#FFA15A",
           "#19d3f3",
           "#FF6692",
           "#B6E880",
           "#FF97FF",
           "#FECB52"
          ],
          "font": {
           "color": "#2a3f5f"
          },
          "geo": {
           "bgcolor": "white",
           "lakecolor": "white",
           "landcolor": "#E5ECF6",
           "showlakes": true,
           "showland": true,
           "subunitcolor": "white"
          },
          "hoverlabel": {
           "align": "left"
          },
          "hovermode": "closest",
          "mapbox": {
           "style": "light"
          },
          "paper_bgcolor": "white",
          "plot_bgcolor": "#E5ECF6",
          "polar": {
           "angularaxis": {
            "gridcolor": "white",
            "linecolor": "white",
            "ticks": ""
           },
           "bgcolor": "#E5ECF6",
           "radialaxis": {
            "gridcolor": "white",
            "linecolor": "white",
            "ticks": ""
           }
          },
          "scene": {
           "xaxis": {
            "backgroundcolor": "#E5ECF6",
            "gridcolor": "white",
            "gridwidth": 2,
            "linecolor": "white",
            "showbackground": true,
            "ticks": "",
            "zerolinecolor": "white"
           },
           "yaxis": {
            "backgroundcolor": "#E5ECF6",
            "gridcolor": "white",
            "gridwidth": 2,
            "linecolor": "white",
            "showbackground": true,
            "ticks": "",
            "zerolinecolor": "white"
           },
           "zaxis": {
            "backgroundcolor": "#E5ECF6",
            "gridcolor": "white",
            "gridwidth": 2,
            "linecolor": "white",
            "showbackground": true,
            "ticks": "",
            "zerolinecolor": "white"
           }
          },
          "shapedefaults": {
           "line": {
            "color": "#2a3f5f"
           }
          },
          "ternary": {
           "aaxis": {
            "gridcolor": "white",
            "linecolor": "white",
            "ticks": ""
           },
           "baxis": {
            "gridcolor": "white",
            "linecolor": "white",
            "ticks": ""
           },
           "bgcolor": "#E5ECF6",
           "caxis": {
            "gridcolor": "white",
            "linecolor": "white",
            "ticks": ""
           }
          },
          "title": {
           "x": 0.05
          },
          "xaxis": {
           "automargin": true,
           "gridcolor": "white",
           "linecolor": "white",
           "ticks": "",
           "title": {
            "standoff": 15
           },
           "zerolinecolor": "white",
           "zerolinewidth": 2
          },
          "yaxis": {
           "automargin": true,
           "gridcolor": "white",
           "linecolor": "white",
           "ticks": "",
           "title": {
            "standoff": 15
           },
           "zerolinecolor": "white",
           "zerolinewidth": 2
          }
         }
        },
        "title": {
         "text": "Extended Overall Record Comparison - Top 100 Players"
        },
        "xaxis": {
         "title": {
          "text": "Player"
         }
        },
        "yaxis": {
         "title": {
          "text": "Points"
         }
        }
       }
      }
     },
     "metadata": {},
     "output_type": "display_data"
    }
   ],
   "source": [
    "import plotly.graph_objects as go\n",
    "\n",
    "# Sum all columns to get the total score\n",
    "outDf['Total'] = outDf.sum(axis=1)\n",
    "\n",
    "# Sort by total score and fill N/A values with 0\n",
    "outDf = outDf.sort_values(by='Total', ascending=False).fillna(0)\n",
    "\n",
    "# Crop to top 10 players\n",
    "cropDf = outDf.head(100).copy()\n",
    "\n",
    "# Drop the 'Total' column for plotting\n",
    "cropDf = cropDf.drop(columns=['Total'])\n",
    "\n",
    "# Create a color palette\n",
    "color_palette = px.colors.qualitative.Safe\n",
    "\n",
    "# Create the stacked bar plot\n",
    "fig = go.Figure()\n",
    "\n",
    "for column in cropDf.columns.difference(['Player']):\n",
    "    fig.add_trace(go.Bar(\n",
    "        x=cropDf.index,\n",
    "        y=cropDf[column],\n",
    "        name=column,\n",
    "        marker_color=color_palette[len(fig.data) % len(color_palette)]\n",
    "    ))\n",
    "\n",
    "# Update layout\n",
    "fig.update_layout(\n",
    "    barmode='stack',\n",
    "    title='Extended Overall Record Comparison - Top 100 Players',\n",
    "    xaxis=dict(title='Player'),\n",
    "    yaxis=dict(title='Points'),\n",
    "    #height=800,\n",
    "    #width=1000,\n",
    "    legend=dict(\n",
    "        x=1.05,\n",
    "        y=0.5,\n",
    "        traceorder='normal',\n",
    "        font=dict(size=12),\n",
    "        bgcolor='rgba(255, 255, 255, 0)',\n",
    "        bordercolor='rgba(0, 0, 0, 0)'\n",
    "    ),\n",
    "    margin=dict(r=200),  # Adjust right margin to make room for the legend\n",
    "    annotations=[\n",
    "        dict(\n",
    "            x=0.5,\n",
    "            y=1.1635,\n",
    "            xref='paper',\n",
    "            yref='paper',\n",
    "            text='Max 100 points per minigame. Records #1 through #10 of games & maps in the active pool are considered (#1: 100, #2: 90, ..., #10: 10). If a minigame has multiple maps, the 100 points are distributed equally. fflopse.github.io/MCP-Records/data-analysis/global-ranking.ipynb',\n",
    "            showarrow=False,\n",
    "            font=dict(size=12),\n",
    "            xanchor='center'\n",
    "        )\n",
    "    ]\n",
    ")\n",
    "\n",
    "fig.show()\n",
    "\n",
    "# save the plot as an html file\n",
    "\n",
    "fig.write_html('out/full_overall_record_comparison.html')"
   ]
  },
  {
   "cell_type": "code",
   "execution_count": 28,
   "metadata": {},
   "outputs": [],
   "source": [
    "outDf['Total'].to_clipboard()"
   ]
  },
  {
   "cell_type": "code",
   "execution_count": null,
   "metadata": {},
   "outputs": [],
   "source": []
  }
 ],
 "metadata": {
  "kernelspec": {
   "display_name": "base",
   "language": "python",
   "name": "python3"
  },
  "language_info": {
   "codemirror_mode": {
    "name": "ipython",
    "version": 3
   },
   "file_extension": ".py",
   "mimetype": "text/x-python",
   "name": "python",
   "nbconvert_exporter": "python",
   "pygments_lexer": "ipython3",
   "version": "3.11.7"
  }
 },
 "nbformat": 4,
 "nbformat_minor": 2
}
