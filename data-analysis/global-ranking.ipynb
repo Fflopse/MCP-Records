{
 "cells": [
  {
   "cell_type": "code",
   "execution_count": 200,
   "metadata": {},
   "outputs": [],
   "source": [
    "import pandas as pd\n",
    "import numpy as np\n",
    "from collections import defaultdict\n",
    "\n",
    "def merge_duplicate_columns(df):\n",
    "    \"\"\"\n",
    "    Merges columns that are duplicates following the pattern:\n",
    "    - Base column (e.g., \"Oasis\")\n",
    "    - Kill variant (e.g., \"Kill Oasis\") \n",
    "    - Kills variant (e.g., \"Kills Oasis\")\n",
    "    \n",
    "    Priority: Base > Kills > Kill (first non-null value wins)\n",
    "    \"\"\"\n",
    "    df = df.copy()\n",
    "    column_groups = defaultdict(list)\n",
    "    \n",
    "    for col in df.columns:\n",
    "        if col.startswith(\"Kill \"):\n",
    "            base_name = col[5:]\n",
    "            column_groups[base_name].append((\"kill\", col))\n",
    "        elif col.startswith(\"Kills \"):\n",
    "            base_name = col[6:]\n",
    "            column_groups[base_name].append((\"kills\", col))\n",
    "        else:\n",
    "            column_groups[col].append((\"base\", col))\n",
    "    \n",
    "    columns_to_drop = []\n",
    "    \n",
    "    for base_name, variants in column_groups.items():\n",
    "        if len(variants) > 1:\n",
    "            base_col = None\n",
    "            kills_col = None\n",
    "            kill_col = None\n",
    "            \n",
    "            for variant_type, col_name in variants:\n",
    "                if variant_type == \"base\":\n",
    "                    base_col = col_name\n",
    "                elif variant_type == \"kills\":\n",
    "                    kills_col = col_name\n",
    "                elif variant_type == \"kill\":\n",
    "                    kill_col = col_name\n",
    "            \n",
    "            target_col = base_col or kills_col or kill_col\n",
    "            \n",
    "            for variant_type, col_name in variants:\n",
    "                if col_name != target_col:\n",
    "                    df[col_name] = df[col_name].replace(0, np.nan)\n",
    "            \n",
    "            if base_col and base_col != target_col:\n",
    "                df[base_col] = df[base_col].replace(0, np.nan)\n",
    "            \n",
    "            merge_order = []\n",
    "            if base_col: merge_order.append(base_col)\n",
    "            if kills_col: merge_order.append(kills_col)  \n",
    "            if kill_col: merge_order.append(kill_col)\n",
    "            \n",
    "            if len(merge_order) > 1:\n",
    "                for i in range(1, len(merge_order)):\n",
    "                    df[merge_order[0]] = df[merge_order[0]].fillna(df[merge_order[i]])\n",
    "                    columns_to_drop.append(merge_order[i])\n",
    "    \n",
    "    df.drop(columns=columns_to_drop, inplace=True, errors='ignore')\n",
    "    return df"
   ]
  },
  {
   "cell_type": "code",
   "execution_count": 201,
   "metadata": {},
   "outputs": [
    {
     "data": {
      "text/plain": [
       "'\\n    Each Minigame may yield a total of 100 points per player. \\n    Records #1 through #10 are considered \\n\\n    If a minigame has multiple maps, the 100 points are distributed equally. For Sammelwahn and Replika, the sum over all records is considered solely. \\n\\n    E.g. Frozen Path (1 Map Minigame)\\n    #1 player: 100 points\\n    #2 player: 90 points\\n    #3 player: 80 points\\n    ...\\n    #10 player: 10 points\\n\\n    E.g. Schießstand (3 Map Minigame)\\n    Map 1: \\n    #1 player: 100/3 (33.333) points\\n    #2 player: 90/3 (30) points\\n    ...\\n    Map 2:\\n    #1 player: 100/3 (33.333) points\\n    #2 player: 90/3 (30) points\\n    ...\\n    Map 3:\\n    #1 player: 100/3 (33.333) points\\n    #2 player: 90/3 (30) points\\n    ...\\n\\n    E.g. Speed Race (5 Map Minigame)\\n    Map 1:\\n    #1 player: 100/5 (20) points\\n    #2 player: 90/5 (18) points\\n    ...\\n    Map 2:\\n    #1 player: 100/5 (20) points\\n    #2 player: 90/5 (18) points\\n    ...\\n\\n    Thus, a player holding #1 records in a minigame will always be assigned 100 points. \\n'"
      ]
     },
     "execution_count": 201,
     "metadata": {},
     "output_type": "execute_result"
    }
   ],
   "source": [
    "# figuring out the best player over all minigames \n",
    "\n",
    "'''\n",
    "    Each Minigame may yield a total of 100 points per player. \n",
    "    Records #1 through #10 are considered \n",
    "\n",
    "    If a minigame has multiple maps, the 100 points are distributed equally. For Sammelwahn and Replika, the sum over all records is considered solely. \n",
    "\n",
    "    E.g. Frozen Path (1 Map Minigame)\n",
    "    #1 player: 100 points\n",
    "    #2 player: 90 points\n",
    "    #3 player: 80 points\n",
    "    ...\n",
    "    #10 player: 10 points\n",
    "\n",
    "    E.g. Schießstand (3 Map Minigame)\n",
    "    Map 1: \n",
    "    #1 player: 100/3 (33.333) points\n",
    "    #2 player: 90/3 (30) points\n",
    "    ...\n",
    "    Map 2:\n",
    "    #1 player: 100/3 (33.333) points\n",
    "    #2 player: 90/3 (30) points\n",
    "    ...\n",
    "    Map 3:\n",
    "    #1 player: 100/3 (33.333) points\n",
    "    #2 player: 90/3 (30) points\n",
    "    ...\n",
    "\n",
    "    E.g. Speed Race (5 Map Minigame)\n",
    "    Map 1:\n",
    "    #1 player: 100/5 (20) points\n",
    "    #2 player: 90/5 (18) points\n",
    "    ...\n",
    "    Map 2:\n",
    "    #1 player: 100/5 (20) points\n",
    "    #2 player: 90/5 (18) points\n",
    "    ...\n",
    "\n",
    "    Thus, a player holding #1 records in a minigame will always be assigned 100 points. \n",
    "'''"
   ]
  },
  {
   "cell_type": "code",
   "execution_count": 202,
   "metadata": {},
   "outputs": [],
   "source": [
    "def remove_duplicate_columns(df):\n",
    "    \"\"\"\n",
    "    Removes duplicate columns from DataFrame.\n",
    "    Keeps the first occurrence of each duplicate column.\n",
    "    \"\"\"\n",
    "    df = df.loc[:, ~df.columns.duplicated()]\n",
    "    return df"
   ]
  },
  {
   "cell_type": "code",
   "execution_count": 203,
   "metadata": {},
   "outputs": [],
   "source": [
    "import os\n",
    "import re \n",
    "import pandas as pd\n",
    "import seaborn as sns \n",
    "import numpy as np \n",
    "\n",
    "pointMiniGames = \"Sammelwahn, Schießstand, Mauerfall, Survivalgames, Skywars, Lasertag, Minengefecht, Einer im Köcher, Paintball, Spleef, Buntes Chaos, Reihenfolge, Duelle, Turmroulette\" \n",
    "timeMiniGames = \"Wettrennen, Parkour, Pferderennen, Drachenflucht, Replika, Blockhüpfer, Todeswürfel, Freier Fall, Elytrarennen, Waffenfolge, Minenfeld, Kletterkönig, Ampelrennen, Hoch hinaus, Frostiger Pfad, Runterpurzeln, Blockhüpfer\"\n",
    "\n",
    "def getPlayerPaths():\n",
    "    file_list = os.listdir('in-new')\n",
    "    print(file_list)\n",
    "    return file_list\n",
    "\n",
    "def read_file(file):\n",
    "    try:\n",
    "        with open('in-new/' + file, 'r', encoding='utf-8') as f:\n",
    "            data = f.read()\n",
    "    except UnicodeDecodeError:\n",
    "        # print(f'Error: {file} contains invalid characters for UTF-8. Trying with latin-1.')\n",
    "        try:\n",
    "            with open('in-new/' + file, 'r', encoding='latin-1') as f:\n",
    "                data = f.read()\n",
    "        except Exception as e:\n",
    "            print(f'Error: Could not read {file} with latin-1 encoding. {e}')\n",
    "            return None\n",
    "    except FileNotFoundError:\n",
    "        print(f'Error: {file} not found.')\n",
    "        return None\n",
    "    except Exception as e:\n",
    "        print(f'Error: An unexpected error occurred while reading {file}. {e}')\n",
    "        return None\n",
    "\n",
    "    if \"TooltipEvent\" not in data:\n",
    "        print(f'Error: {file} does not contain any TooltipEvent data')\n",
    "        return None\n",
    "    else:\n",
    "        data = data.replace('TooltipEvent, ', '')\n",
    "    \n",
    "    return data\n",
    "\n",
    "\n",
    "def getRecordData(playerPath, minigame):\n",
    "    # if read_file(playerPath) is None: return None\n",
    "\n",
    "    try: \n",
    "        data = read_file(playerPath).split('\\n')\n",
    "        for line in data: \n",
    "            if minigame in line: \n",
    "                minigameData = line\n",
    "                minigameData = minigameData.replace(minigame, '').strip()\n",
    "                return minigameData  # return the data instead of printing it\n",
    "    except: return None\n",
    "\n",
    "\n",
    "def create_dataframe(input_string, minigame):\n",
    "\n",
    "    # Define regular expression pattern to match map names and times\n",
    "    pattern = r'(\\w+\\s?\\w+)\\s*:\\s*(?:(\\d+)\\s*min\\s*)?(?:(\\d+)\\s*s\\s*)?(\\d+)\\s*ms'\n",
    "\n",
    "    # Find all matches in the input string\n",
    "    try: matches = re.findall(pattern, input_string)\n",
    "    except: matches = None\n",
    "\n",
    "    # Initialize data dictionary to store map names and times\n",
    "    data = {}\n",
    "\n",
    "    # Iterate over matches and populate data dictionary\n",
    "    if matches: \n",
    "        for match in matches:\n",
    "            map_name = match[0]\n",
    "            minutes = int(match[1] or 0)\n",
    "            seconds = int(match[2] or 0) + int(match[3]) / 1000\n",
    "            time_seconds = minutes * 60 + seconds\n",
    "            data[map_name] = time_seconds\n",
    "    else: return pd.DataFrame()\n",
    "\n",
    "    # Create DataFrame from data dictionary\n",
    "    df = pd.DataFrame(data, index=[0])\n",
    "\n",
    "\n",
    "    return df\n",
    "\n",
    "def createPointDataframe(input_string, minigame):\n",
    "    # Define regular expression pattern to match map names and times\n",
    "    pattern = r'(\\w+\\s?\\w+)\\s*:\\s*(\\d+)'\n",
    "\n",
    "    # Find all matches in the input string\n",
    "    matches = re.findall(pattern, input_string)\n",
    "\n",
    "    # Initialize data dictionary to store map names and times\n",
    "    data = {}\n",
    "\n",
    "    # Iterate over matches and populate data dictionary\n",
    "    for match in matches:\n",
    "        map_name = match[0]\n",
    "        time_value = int(match[1])\n",
    "        data[map_name] = time_value\n",
    "\n",
    "    # Create DataFrame from data dictionary\n",
    "    df = pd.DataFrame(data, index=[0])\n",
    "    return df.fillna(0)\n",
    "\n",
    "def getRecordsDataframe(minigame='Wettrennen', save=False, log=False, html=False, rank=True):\n",
    "\n",
    "    paths = getPlayerPaths()\n",
    "\n",
    "    outDf = pd.DataFrame()\n",
    "\n",
    "    if log:\n",
    "        print(f'processing {minigame}...')\n",
    "\n",
    "    if minigame in pointMiniGames: \n",
    "        pass\n",
    "    elif minigame in timeMiniGames:\n",
    "        pass\n",
    "    else: \n",
    "        ValueError('Not a valid minigame name')\n",
    "\n",
    "    for i in paths:\n",
    "        if minigame in timeMiniGames:\n",
    "            df = create_dataframe(getRecordData(playerPath=i, minigame=minigame), minigame)\n",
    "\n",
    "        if minigame in pointMiniGames:\n",
    "            try: \n",
    "                df = createPointDataframe(getRecordData(playerPath=i, minigame=minigame), minigame)\n",
    "                df.fillna(0, inplace=True)\n",
    "            except: \n",
    "                continue\n",
    "\n",
    "        if df is not None:  \n",
    "            df.index = [i.replace('.txt', '')]\n",
    "            outDf = pd.concat([outDf, df])\n",
    "\n",
    "    outPath = 'out/' + minigame + '.json'\n",
    "\n",
    "    '''\n",
    "        Minigame Specific changes to the df\n",
    "    '''\n",
    "\n",
    "    if (\"Replika\" in minigame): \n",
    "\n",
    "        replikaDf = outDf \n",
    "\n",
    "        # fillNa columns without \"ms\" with values from \"ms\", e.g. ms Arrow -> Arrow, then drop \"ms\" columns\n",
    "\n",
    "        try:\n",
    "            replikaDf[\"Arrow\"] = replikaDf[\"Arrow\"].fillna(replikaDf[\"ms Arrow\"])\n",
    "            replikaDf[\"Cow\"] = replikaDf[\"Cow\"].fillna(replikaDf[\"ms Cow\"])\n",
    "            replikaDf[\"Deadpool\"] = replikaDf[\"Deadpool\"].fillna(replikaDf[\"ms Deadpool\"])\n",
    "            replikaDf[\"Doge\"] = replikaDf[\"Doge\"].fillna(replikaDf[\"ms Doge\"])\n",
    "            replikaDf[\"Sonic\"] = replikaDf[\"Sonic\"].fillna(replikaDf[\"ms Sonic\"])\n",
    "\n",
    "            replikaDf.drop(columns=[\"ms Arrow\", \"ms Cow\", \"ms Deadpool\", \"ms Doge\", \"ms Sonic\"], inplace=True)\n",
    "        except: print(\"Warning, >ms< columns not found in ReplikaDf\")\n",
    "\n",
    "        replikaDf.fillna(25, inplace=True) # assigning a value to a never-played-before pattern, 17 perturbs worse player order and alt account stats lol, 27 is probably too much, difficult to choose an appropriate value here\n",
    "        row_sums = replikaDf.sum(axis=1)\n",
    "        \n",
    "        # Append the sum as a new column\n",
    "        replikaDf['Sum'] = row_sums\n",
    "\n",
    "        # Re-indexing\n",
    "        replikaDf = replikaDf.reindex(sorted(replikaDf.columns), axis=1)\n",
    "    \n",
    "        # Move 'Sum' column to the first position\n",
    "        cols = replikaDf.columns.tolist()\n",
    "        cols = ['Sum'] + [col for col in cols if col != 'Sum']\n",
    "        replikaDf = replikaDf[cols]\n",
    "\n",
    "        # replace 25 values again with None\n",
    "        replikaDf = replikaDf.replace(25, np.nan)\n",
    "\n",
    "        # replikaDf = replikaDf.reindex(sorted(replikaDf.columns), axis=1)\n",
    "\n",
    "\n",
    "        # Removing player data with too many NaNs (players that haven't played most of the patterns)\n",
    "        # replikaDf = replikaDf.drop(columns=[\"Ritokii\", \"Feinberg\", \"Sebi1801\"])\n",
    "\n",
    "        outDf = replikaDf\n",
    "\n",
    "    if (\"Sammelwahn\" in minigame):\n",
    "\n",
    "            row_sums = outDf.sum(axis=1)\n",
    "\n",
    "            # Append the sum as a new column\n",
    "            outDf['Sum'] = row_sums\n",
    "\n",
    "            # Re-indexing\n",
    "            outDf = outDf.reindex(sorted(outDf.columns), axis=1)\n",
    "\n",
    "            # Move 'Sum' column to the first position\n",
    "            cols = outDf.columns.tolist()\n",
    "            cols = ['Sum'] + [col.lstrip() for col in cols if col != 'Sum']\n",
    "            outDf = outDf[cols]\n",
    "\n",
    "            # remove \"Punkte\" from all columns\n",
    "            outDf.columns = outDf.columns.str.replace('Punkte', '')\n",
    "\n",
    "    if (\"Lasertag\" in minigame):\n",
    "        outDf = merge_duplicate_columns(outDf)\n",
    "\n",
    "    if (\"Einer im Köcher\" in minigame):\n",
    "        outDf = merge_duplicate_columns(outDf)\n",
    "        \n",
    "    if (\"Paintball\" in minigame):\n",
    "        outDf = merge_duplicate_columns(outDf)\n",
    "\n",
    "    if (\"Skywars\" in minigame):\n",
    "        outDf = merge_duplicate_columns(outDf)\n",
    "\n",
    "    if (\"Survivalgames\" in minigame and True):\n",
    "        outDf = merge_duplicate_columns(outDf)\n",
    "\n",
    "    if (\"Minengefecht\" in minigame):\n",
    "        outDf = merge_duplicate_columns(outDf)\n",
    "\n",
    "    if (\"Mauerfall\" in minigame):\n",
    "        outDf = merge_duplicate_columns(outDf)\n",
    "\n",
    "    if (\"Schie\" in minigame):\n",
    "        outDf[\"Punkte City\"] = outDf[\"Punkte City\"].replace(0, np.nan)\n",
    "        outDf[\"City\"] = outDf[\"City\"].replace(0, np.nan)\n",
    "\n",
    "        outDf[\"temp1\"] = outDf[\"City\"].fillna(outDf[\"Punkte City\"])\n",
    "        try: outDf.drop(columns=[\"City\", \"Punkte City\"], inplace=True)\n",
    "        except: pass\n",
    "\n",
    "        outDf[\"City\"] = outDf[\"temp1\"]\n",
    "\n",
    "        outDf[\"Punkte Jungle\"] = outDf[\"Punkte Jungle\"].replace(0, np.nan)\n",
    "\n",
    "        outDf[\"temp1\"] = outDf[\"Punkte Jungle\"]\n",
    "        try: outDf.drop(columns=[\"Punkte Jungle\"], inplace=True)\n",
    "        except: pass\n",
    "\n",
    "        outDf[\"Jungle\"] = outDf[\"temp1\"]\n",
    "\n",
    "        outDf.drop(columns=[\"temp1\"], inplace=True)\n",
    "        \n",
    "    if (\"Frostiger\" in minigame): \n",
    "        # remove values bigger than 100 with nan\n",
    "        outDf = outDf.where(outDf < 100, np.nan)\n",
    "\n",
    "    if (\"Duel\" in minigame): \n",
    "        outDf = outDf.where(outDf > 10, 0.0)\n",
    "\n",
    "    if (\"Einer im Köcher\" in minigame):\n",
    "\n",
    "        try:\n",
    "            outDf[\"Tötung Asia\"] = outDf[\"Tötung Asia\"].replace(0, np.nan)\n",
    "            outDf[\"Asia\"] = outDf[\"Asia\"].replace(0, np.nan)\n",
    "\n",
    "            outDf[\"temp1\"] = outDf[\"Asia\"].fillna(outDf[\"Tötung Asia\"])\n",
    "            outDf.drop(columns=[\"Asia\", \"Tötung Asia\"], inplace=True)\n",
    "            \n",
    "            outDf[\"Asia\"] = outDf[\"temp1\"]\n",
    "\n",
    "            outDf.drop(columns=[\"temp1\"], inplace=True)\n",
    "        except: pass\n",
    "\n",
    "    if (\"Buntes\" in minigame):\n",
    "        outDf = outDf.fillna(0)\n",
    "        \n",
    "        outDf['temp1'] = outDf[\"Runden Cyberpunk\"].fillna(outDf[\"Cyberpunk\"])\n",
    "        outDf.drop(columns=[\"Runden Cyberpunk\", \"Cyberpunk\"], inplace=True)\n",
    "\n",
    "        outDf['Cyberpunk'] = outDf['temp1']\n",
    "\n",
    "        outDf.drop(columns=[\"temp1\"], inplace=True)\n",
    "\n",
    "    if (\"Pferd\" in minigame):\n",
    "        outDf[\"s Arena\"] = outDf[\"s Arena\"].replace(0, np.nan)\n",
    "        outDf[\"Wario's Arena\"] = outDf[\"s Arena\"]\n",
    "\n",
    "        outDf.drop(columns=[\"s Arena\"], inplace=True)\n",
    "\n",
    "\n",
    "    # Sorting columns alphabetically for any outDf except if minigame == \"Replika\" (sum column)\n",
    "    \n",
    "    if (\"Replika\" not in minigame):\n",
    "        if (\"Sammelwahn\" not in minigame):\n",
    "            outDf = outDf.reindex(sorted(outDf.columns), axis=1)\n",
    "\n",
    "\n",
    "\n",
    "\n",
    "    '''\n",
    "        debugging options\n",
    "    '''\n",
    "        \n",
    "    if save: \n",
    "        if \"Replika\" in minigame: \n",
    "            json_df = outDf.iloc[:, 1:]\n",
    "            json_df.T.to_json(outPath)\n",
    "        \n",
    "        else: outDf.T.to_json(outPath) \n",
    "\n",
    "    if log: \n",
    "        print(f'{minigame} processed')\n",
    "    \n",
    "    if rank: \n",
    "        if minigame in pointMiniGames: \n",
    "            outDf = outDf.rank(ascending=False, method='min', axis=0)\n",
    "        if minigame in timeMiniGames:\n",
    "            if \"Drache\" in minigame: \n",
    "                outDf = outDf.rank(ascending=False, method='min', axis=0)\n",
    "            else:\n",
    "                outDf = outDf.rank(ascending=True, method='min', axis=0)\n",
    "\n",
    "    if html == False: \n",
    "        return outDf"
   ]
  },
  {
   "cell_type": "code",
   "execution_count": 204,
   "metadata": {},
   "outputs": [
    {
     "name": "stdout",
     "output_type": "stream",
     "text": [
      "['__egE.txt', 'Tammywood.txt', 'BunnyKiko.txt', 'SpeckyCut.txt', 'Hyxeed.txt', 'demiu.txt', 'SpinCrafter.txt', 'NanamiElvi.txt', '_n3d.txt', 'Sebi1801.txt', 'JayMinInSane.txt', 'Persidieus.txt', 'N3XV.txt', 'Wissender.txt', 'Gryzes.txt', 'jimmi4Life.txt', 'Gobo9.txt', 'Anni808.txt', 'LeWi_100.txt', '_Waldi_.txt', 'Grapfen.txt', 'PixlNight.txt', 'dossantosaveiro_.txt', 'agowskyy.txt', 'TheBreadHD.txt', 'Axollotel.txt', 'T_Niko_T.txt', 'Vanillinchen.txt', 'Odlaa.txt', 'D4rkCookie.txt', 'yzvm.txt', 'Tim_Voltia.txt', 'xBaumeisterin.txt', 'Ungluecklicher.txt', 'Lutorix.txt', 'Ninivee.txt', 'ArthurAlchemist.txt', 'redbrll.txt', 'Gfrasti.txt', 'Muniix.txt', 'Tomiokey.txt', 'Carl1_1.txt', 'DerAutist.txt', 'PolizeiDreamy.txt', 'xX_Dima_ggg_Xx6.txt', 'Falke23_5.txt', 'TheFabo.txt', 'DieserBear.txt', 'Picutar.txt', '2B9.txt', 'Schmaarek.txt', 'musi1999.txt', 'PumiTheCat.txt', 'HerrDante.txt', 'KakaMC.txt', 'StaudammAusHolz.txt', 'Lelouch610.txt', 'Kyuudo.txt', 'twitchparaskiill.txt', 'G0at3D.txt', 'SecretAgent_K.txt', 'KMaxN.txt', 'Sey__.txt', 'ForceFox.txt', 'toxicplace.txt', 'Gestimus.txt', 'yachayubin.txt', 'Wolkenfarmer.txt', 'y9nic.txt', 'KINT0.txt', 'zBro.txt', 'qriezmannsOpa.txt', 'Harold_Sensemann.txt', 'Pedrozockt.txt', 'MrNulfred.txt', 'Cytoox.txt', 'IchHolzDichWeg.txt', 'GingerTeddy.txt', 'Kopfradio.txt', 'loukrativ.txt', 'M0osebumps.txt', 'SmartyxD.txt', 'Kokochampo.txt', 'JennieKim.txt', 'Umgfoin.txt', 'ffawks.txt', 'byTobi.txt', 'Shiewk.txt', 'La_meleagro.txt', 'Squashgitter333.txt', 'Luxemburq.txt', 'DarkCobweb.txt', 'Sackkerl.txt', 'Sthyq.txt', 'Acidey.txt', 'Laaaachs.txt', 'HerosHD.txt', 'Lennart0911.txt', 'Gerrygames.txt', 'BusinessBent.txt', 'Simlll.txt', 'YBCM.txt', 'Txlentierter.txt', 'Dat_Klan.txt', 'Luis_XYZ.txt', 'NiklasMoWo.txt', 'MaxMitMaulkorb.txt', 'Oronor.txt', 'GamemasterNiki.txt', 'LordAlexos.txt', 'Pluto28.txt', 'GrafikKatze.txt', '_Einfallslos_.txt', 'cediiiiii_10.txt', 'Dokkkkko.txt', 'deadfiight.txt', 'Kanickelul.txt', 'crocodile1870.txt', 'Sower_.txt', 'Steavn.txt', 'EinfachEazy.txt', 'yiiq.txt', 'NotLennart.txt', 'Snitcherella.txt', 'Keenaai.txt', 'xd_Maiky.txt', 'ReichesBrot.txt', 'lolisamasan.txt', 'Raefinzs.txt', 'JOW24.txt', 'ByNetherdude.txt', 'ZweitesIch.txt', 'frutigall.txt', 'LilFueller.txt', 'xiooh.txt', 'rotmann2.txt', 'FlyingKyubi.txt', 'Joy_8oy.txt', 'BauHD.txt', 'CML_Justin.txt', 'MoZadaTV.txt', 'BastiGHG.txt', 'Gummibearchen.txt', 'Lord_Weibull.txt', 'VendasTM.txt', 'Stockinqs.txt', 'GlowyDusk.txt', 'Scuprum.txt', 'h4nnes.txt', 'cheesecake2901.txt', 'DrSpeed06.txt', 'Krusti.txt', 'marbrueck.txt', 'Vacted.txt', 'Janne4k.txt', 'Bartschii.txt', 'Mansuni.txt', 'SB387.txt', 'medisant.txt', 'Phoenix3000.txt', 'JOW23.txt', 'Ritokii.txt', 'Juti0n.txt', 'lvlaurin.txt', 'Bikoop.txt', 'FrozenNoah.txt', 'GeneralEnte06.txt', 'Dubbly.txt', 'revolverz.txt', 'Highsay.txt', 'ScreamingBlatz.txt', 'RyanxCole.txt', 'shellny.txt', 'TheKillerisback.txt', 'M0orey_0.txt', 'Mincheeen.txt', '2wc.txt', 'Feinberg.txt', 'Navex.txt', 'NewNormal0947.txt', 'Teesily.txt', 'SiLoHB.txt', 'Morittz.txt', 'cxl1lo.txt', 'LeMetin_.txt', 'unausgesprochen.txt', 'Freeeedom.txt', 'miridis41.txt', 'Joe3346.txt', 'Lingex.txt', 'xX_Masha_ggg_Xx9.txt', 'Julius16.txt', 'lizsyy.txt', 'camman18YT.txt', 'Jan2220.txt', 'Falke_01.txt', 'DaVinci_Son.txt', 'SatzdesPytag0ras.txt', 'Flitzi_Dino.txt', 'Wienerisch.txt', 'Seemops_8.txt', 'GermanPie.txt', 'chrisihalt.txt', 'FluffyDragon2007.txt', 'LucaaOn.txt', 'Allooy.txt', 'Chander24.txt', 'Fflopse.txt', 'bikop.txt', 'vKito.txt', 'bawskey.txt', 'RasenLP.txt', 'WirdNichtGeladen.txt', 'WuschigesEtwas.txt', 'OutcroYoutube.txt', 'HeIsJustAPoorBoy.txt', 'FlyingAutismus.txt', 'destr0yed_.txt', 'Ex4cted.txt', 'Mvsk_.txt', 'MaxOnTheRoad.txt', 'swiffle.txt', 'juvona.txt', 'Lubottus.txt', 'Nervigerr.txt', 'lolisamakun.txt', 'Martomias.txt', '20LeRe10.txt']\n",
      "processing Schießstand...\n",
      "Error: Tammywood.txt does not contain any TooltipEvent data\n",
      "Error: demiu.txt does not contain any TooltipEvent data\n",
      "Error: JayMinInSane.txt does not contain any TooltipEvent data\n",
      "Error: KINT0.txt does not contain any TooltipEvent data\n",
      "Error: SmartyxD.txt does not contain any TooltipEvent data\n",
      "Error: Sower_.txt does not contain any TooltipEvent data\n",
      "Error: Lord_Weibull.txt does not contain any TooltipEvent data\n",
      "Error: Scuprum.txt does not contain any TooltipEvent data\n",
      "Error: Dubbly.txt does not contain any TooltipEvent data\n",
      "Error: bikop.txt does not contain any TooltipEvent data\n",
      "Error: destr0yed_.txt does not contain any TooltipEvent data\n",
      "Schießstand processed\n"
     ]
    },
    {
     "data": {
      "text/plain": [
       "City               2.0\n",
       "Farm               3.0\n",
       "Jungle             4.0\n",
       "Punkte Chambers    NaN\n",
       "Name: Fflopse, dtype: float64"
      ]
     },
     "execution_count": 204,
     "metadata": {},
     "output_type": "execute_result"
    }
   ],
   "source": [
    "df = getRecordsDataframe(minigame='Schießstand', save=False, log=True, html=False, rank=True)\n",
    "\n",
    "df.loc['Fflopse']\n",
    "\n",
    "# df.columns"
   ]
  },
  {
   "cell_type": "code",
   "execution_count": 205,
   "metadata": {},
   "outputs": [],
   "source": [
    "def getBestPlayer(minigame='Wettrennen'):\n",
    "    df = getRecordsDataframe(minigame=minigame, save=False, log=True, html=False, rank=True)\n",
    "\n",
    "    num_cols = len(df.columns) \n",
    "\n",
    "    '''\n",
    "    Each Minigame may yield a total of 100 points per player. \n",
    "    Records #1 through #10 are considered \n",
    "\n",
    "    If a minigame has multiple maps, the 100 points are distributed equally. For Sammelwahn and Replika, the sum over all records is considered solely. \n",
    "\n",
    "    E.g. Frozen Path (1 Map Minigame)\n",
    "    #1 player: 100 points\n",
    "    #2 player: 90 points\n",
    "    #3 player: 80 points\n",
    "    ...\n",
    "    #10 player: 10 points\n",
    "\n",
    "    E.g. Schießstand (3 Map Minigame)\n",
    "    Map 1: \n",
    "    #1 player: 100/3 (33.333) points\n",
    "    #2 player: 90/3 (30) points\n",
    "    ...\n",
    "    Map 2:\n",
    "    #1 player: 100/3 (33.333) points\n",
    "    #2 player: 90/3 (30) points\n",
    "    ...\n",
    "    Map 3:\n",
    "    #1 player: 100/3 (33.333) points\n",
    "    #2 player: 90/3 (30) points\n",
    "    ...\n",
    "\n",
    "    E.g. Speed Race (5 Map Minigame)\n",
    "    Map 1:\n",
    "    #1 player: 100/5 (20) points\n",
    "    #2 player: 90/5 (18) points\n",
    "    ...\n",
    "    Map 2:\n",
    "    #1 player: 100/5 (20) points\n",
    "    #2 player: 90/5 (18) points\n",
    "    ...\n",
    "\n",
    "    Thus, a player holding #1 records in a minigame will always be assigned 100 points. \n",
    "    '''\n",
    "\n",
    "    # fill values > 10.0 with 0\n",
    "    df = df.where(df < 10.0, 0)\n",
    "\n",
    "    # replace the rank values in the dataframe with the apprpriate score values\n",
    "\n",
    "    if minigame in pointMiniGames:\n",
    "        df = df.replace({1.0: 100, 2.0: 90, 3.0: 80, 4.0: 70, 5.0: 60, 6.0: 50, 7.0: 40, 8.0: 30, 9.0: 20, 10.0: 10})\n",
    "    if minigame in timeMiniGames:\n",
    "        df = df.replace({1.0: 100, 2.0: 90, 3.0: 80, 4.0: 70, 5.0: 60, 6.0: 50, 7.0: 40, 8.0: 30, 9.0: 20, 10.0: 10})\n",
    "\n",
    "    # sum the scores for each player\n",
    "    df['PointSum'] = df.sum(axis=1) / num_cols\n",
    "\n",
    "    # sort the dataframe by the PointSum column\n",
    "    df = df.sort_values(by='PointSum', ascending=False)\n",
    "\n",
    "    # for Sammelwahn and Replika, simply get the points from the sum column\n",
    "    if minigame in \"Sammelwahn Replika\":\n",
    "        df['Pointsum'] = df['Sum']\n",
    "\n",
    "    return df\n",
    "    "
   ]
  },
  {
   "cell_type": "code",
   "execution_count": 206,
   "metadata": {},
   "outputs": [],
   "source": [
    "# getBestPlayer(minigame='Wettrennen')"
   ]
  },
  {
   "cell_type": "code",
   "execution_count": 207,
   "metadata": {},
   "outputs": [
    {
     "name": "stdout",
     "output_type": "stream",
     "text": [
      "['__egE.txt', 'Tammywood.txt', 'BunnyKiko.txt', 'SpeckyCut.txt', 'Hyxeed.txt', 'demiu.txt', 'SpinCrafter.txt', 'NanamiElvi.txt', '_n3d.txt', 'Sebi1801.txt', 'JayMinInSane.txt', 'Persidieus.txt', 'N3XV.txt', 'Wissender.txt', 'Gryzes.txt', 'jimmi4Life.txt', 'Gobo9.txt', 'Anni808.txt', 'LeWi_100.txt', '_Waldi_.txt', 'Grapfen.txt', 'PixlNight.txt', 'dossantosaveiro_.txt', 'agowskyy.txt', 'TheBreadHD.txt', 'Axollotel.txt', 'T_Niko_T.txt', 'Vanillinchen.txt', 'Odlaa.txt', 'D4rkCookie.txt', 'yzvm.txt', 'Tim_Voltia.txt', 'xBaumeisterin.txt', 'Ungluecklicher.txt', 'Lutorix.txt', 'Ninivee.txt', 'ArthurAlchemist.txt', 'redbrll.txt', 'Gfrasti.txt', 'Muniix.txt', 'Tomiokey.txt', 'Carl1_1.txt', 'DerAutist.txt', 'PolizeiDreamy.txt', 'xX_Dima_ggg_Xx6.txt', 'Falke23_5.txt', 'TheFabo.txt', 'DieserBear.txt', 'Picutar.txt', '2B9.txt', 'Schmaarek.txt', 'musi1999.txt', 'PumiTheCat.txt', 'HerrDante.txt', 'KakaMC.txt', 'StaudammAusHolz.txt', 'Lelouch610.txt', 'Kyuudo.txt', 'twitchparaskiill.txt', 'G0at3D.txt', 'SecretAgent_K.txt', 'KMaxN.txt', 'Sey__.txt', 'ForceFox.txt', 'toxicplace.txt', 'Gestimus.txt', 'yachayubin.txt', 'Wolkenfarmer.txt', 'y9nic.txt', 'KINT0.txt', 'zBro.txt', 'qriezmannsOpa.txt', 'Harold_Sensemann.txt', 'Pedrozockt.txt', 'MrNulfred.txt', 'Cytoox.txt', 'IchHolzDichWeg.txt', 'GingerTeddy.txt', 'Kopfradio.txt', 'loukrativ.txt', 'M0osebumps.txt', 'SmartyxD.txt', 'Kokochampo.txt', 'JennieKim.txt', 'Umgfoin.txt', 'ffawks.txt', 'byTobi.txt', 'Shiewk.txt', 'La_meleagro.txt', 'Squashgitter333.txt', 'Luxemburq.txt', 'DarkCobweb.txt', 'Sackkerl.txt', 'Sthyq.txt', 'Acidey.txt', 'Laaaachs.txt', 'HerosHD.txt', 'Lennart0911.txt', 'Gerrygames.txt', 'BusinessBent.txt', 'Simlll.txt', 'YBCM.txt', 'Txlentierter.txt', 'Dat_Klan.txt', 'Luis_XYZ.txt', 'NiklasMoWo.txt', 'MaxMitMaulkorb.txt', 'Oronor.txt', 'GamemasterNiki.txt', 'LordAlexos.txt', 'Pluto28.txt', 'GrafikKatze.txt', '_Einfallslos_.txt', 'cediiiiii_10.txt', 'Dokkkkko.txt', 'deadfiight.txt', 'Kanickelul.txt', 'crocodile1870.txt', 'Sower_.txt', 'Steavn.txt', 'EinfachEazy.txt', 'yiiq.txt', 'NotLennart.txt', 'Snitcherella.txt', 'Keenaai.txt', 'xd_Maiky.txt', 'ReichesBrot.txt', 'lolisamasan.txt', 'Raefinzs.txt', 'JOW24.txt', 'ByNetherdude.txt', 'ZweitesIch.txt', 'frutigall.txt', 'LilFueller.txt', 'xiooh.txt', 'rotmann2.txt', 'FlyingKyubi.txt', 'Joy_8oy.txt', 'BauHD.txt', 'CML_Justin.txt', 'MoZadaTV.txt', 'BastiGHG.txt', 'Gummibearchen.txt', 'Lord_Weibull.txt', 'VendasTM.txt', 'Stockinqs.txt', 'GlowyDusk.txt', 'Scuprum.txt', 'h4nnes.txt', 'cheesecake2901.txt', 'DrSpeed06.txt', 'Krusti.txt', 'marbrueck.txt', 'Vacted.txt', 'Janne4k.txt', 'Bartschii.txt', 'Mansuni.txt', 'SB387.txt', 'medisant.txt', 'Phoenix3000.txt', 'JOW23.txt', 'Ritokii.txt', 'Juti0n.txt', 'lvlaurin.txt', 'Bikoop.txt', 'FrozenNoah.txt', 'GeneralEnte06.txt', 'Dubbly.txt', 'revolverz.txt', 'Highsay.txt', 'ScreamingBlatz.txt', 'RyanxCole.txt', 'shellny.txt', 'TheKillerisback.txt', 'M0orey_0.txt', 'Mincheeen.txt', '2wc.txt', 'Feinberg.txt', 'Navex.txt', 'NewNormal0947.txt', 'Teesily.txt', 'SiLoHB.txt', 'Morittz.txt', 'cxl1lo.txt', 'LeMetin_.txt', 'unausgesprochen.txt', 'Freeeedom.txt', 'miridis41.txt', 'Joe3346.txt', 'Lingex.txt', 'xX_Masha_ggg_Xx9.txt', 'Julius16.txt', 'lizsyy.txt', 'camman18YT.txt', 'Jan2220.txt', 'Falke_01.txt', 'DaVinci_Son.txt', 'SatzdesPytag0ras.txt', 'Flitzi_Dino.txt', 'Wienerisch.txt', 'Seemops_8.txt', 'GermanPie.txt', 'chrisihalt.txt', 'FluffyDragon2007.txt', 'LucaaOn.txt', 'Allooy.txt', 'Chander24.txt', 'Fflopse.txt', 'bikop.txt', 'vKito.txt', 'bawskey.txt', 'RasenLP.txt', 'WirdNichtGeladen.txt', 'WuschigesEtwas.txt', 'OutcroYoutube.txt', 'HeIsJustAPoorBoy.txt', 'FlyingAutismus.txt', 'destr0yed_.txt', 'Ex4cted.txt', 'Mvsk_.txt', 'MaxOnTheRoad.txt', 'swiffle.txt', 'juvona.txt', 'Lubottus.txt', 'Nervigerr.txt', 'lolisamakun.txt', 'Martomias.txt', '20LeRe10.txt']\n",
      "processing Sammelwahn...\n",
      "Error: Tammywood.txt does not contain any TooltipEvent data\n",
      "Error: demiu.txt does not contain any TooltipEvent data\n",
      "Error: JayMinInSane.txt does not contain any TooltipEvent data\n",
      "Error: KINT0.txt does not contain any TooltipEvent data\n",
      "Error: SmartyxD.txt does not contain any TooltipEvent data\n",
      "Error: Sower_.txt does not contain any TooltipEvent data\n",
      "Error: Lord_Weibull.txt does not contain any TooltipEvent data\n",
      "Error: Scuprum.txt does not contain any TooltipEvent data\n",
      "Error: Dubbly.txt does not contain any TooltipEvent data\n",
      "Error: bikop.txt does not contain any TooltipEvent data\n",
      "Error: destr0yed_.txt does not contain any TooltipEvent data\n",
      "Sammelwahn processed\n",
      "['__egE.txt', 'Tammywood.txt', 'BunnyKiko.txt', 'SpeckyCut.txt', 'Hyxeed.txt', 'demiu.txt', 'SpinCrafter.txt', 'NanamiElvi.txt', '_n3d.txt', 'Sebi1801.txt', 'JayMinInSane.txt', 'Persidieus.txt', 'N3XV.txt', 'Wissender.txt', 'Gryzes.txt', 'jimmi4Life.txt', 'Gobo9.txt', 'Anni808.txt', 'LeWi_100.txt', '_Waldi_.txt', 'Grapfen.txt', 'PixlNight.txt', 'dossantosaveiro_.txt', 'agowskyy.txt', 'TheBreadHD.txt', 'Axollotel.txt', 'T_Niko_T.txt', 'Vanillinchen.txt', 'Odlaa.txt', 'D4rkCookie.txt', 'yzvm.txt', 'Tim_Voltia.txt', 'xBaumeisterin.txt', 'Ungluecklicher.txt', 'Lutorix.txt', 'Ninivee.txt', 'ArthurAlchemist.txt', 'redbrll.txt', 'Gfrasti.txt', 'Muniix.txt', 'Tomiokey.txt', 'Carl1_1.txt', 'DerAutist.txt', 'PolizeiDreamy.txt', 'xX_Dima_ggg_Xx6.txt', 'Falke23_5.txt', 'TheFabo.txt', 'DieserBear.txt', 'Picutar.txt', '2B9.txt', 'Schmaarek.txt', 'musi1999.txt', 'PumiTheCat.txt', 'HerrDante.txt', 'KakaMC.txt', 'StaudammAusHolz.txt', 'Lelouch610.txt', 'Kyuudo.txt', 'twitchparaskiill.txt', 'G0at3D.txt', 'SecretAgent_K.txt', 'KMaxN.txt', 'Sey__.txt', 'ForceFox.txt', 'toxicplace.txt', 'Gestimus.txt', 'yachayubin.txt', 'Wolkenfarmer.txt', 'y9nic.txt', 'KINT0.txt', 'zBro.txt', 'qriezmannsOpa.txt', 'Harold_Sensemann.txt', 'Pedrozockt.txt', 'MrNulfred.txt', 'Cytoox.txt', 'IchHolzDichWeg.txt', 'GingerTeddy.txt', 'Kopfradio.txt', 'loukrativ.txt', 'M0osebumps.txt', 'SmartyxD.txt', 'Kokochampo.txt', 'JennieKim.txt', 'Umgfoin.txt', 'ffawks.txt', 'byTobi.txt', 'Shiewk.txt', 'La_meleagro.txt', 'Squashgitter333.txt', 'Luxemburq.txt', 'DarkCobweb.txt', 'Sackkerl.txt', 'Sthyq.txt', 'Acidey.txt', 'Laaaachs.txt', 'HerosHD.txt', 'Lennart0911.txt', 'Gerrygames.txt', 'BusinessBent.txt', 'Simlll.txt', 'YBCM.txt', 'Txlentierter.txt', 'Dat_Klan.txt', 'Luis_XYZ.txt', 'NiklasMoWo.txt', 'MaxMitMaulkorb.txt', 'Oronor.txt', 'GamemasterNiki.txt', 'LordAlexos.txt', 'Pluto28.txt', 'GrafikKatze.txt', '_Einfallslos_.txt', 'cediiiiii_10.txt', 'Dokkkkko.txt', 'deadfiight.txt', 'Kanickelul.txt', 'crocodile1870.txt', 'Sower_.txt', 'Steavn.txt', 'EinfachEazy.txt', 'yiiq.txt', 'NotLennart.txt', 'Snitcherella.txt', 'Keenaai.txt', 'xd_Maiky.txt', 'ReichesBrot.txt', 'lolisamasan.txt', 'Raefinzs.txt', 'JOW24.txt', 'ByNetherdude.txt', 'ZweitesIch.txt', 'frutigall.txt', 'LilFueller.txt', 'xiooh.txt', 'rotmann2.txt', 'FlyingKyubi.txt', 'Joy_8oy.txt', 'BauHD.txt', 'CML_Justin.txt', 'MoZadaTV.txt', 'BastiGHG.txt', 'Gummibearchen.txt', 'Lord_Weibull.txt', 'VendasTM.txt', 'Stockinqs.txt', 'GlowyDusk.txt', 'Scuprum.txt', 'h4nnes.txt', 'cheesecake2901.txt', 'DrSpeed06.txt', 'Krusti.txt', 'marbrueck.txt', 'Vacted.txt', 'Janne4k.txt', 'Bartschii.txt', 'Mansuni.txt', 'SB387.txt', 'medisant.txt', 'Phoenix3000.txt', 'JOW23.txt', 'Ritokii.txt', 'Juti0n.txt', 'lvlaurin.txt', 'Bikoop.txt', 'FrozenNoah.txt', 'GeneralEnte06.txt', 'Dubbly.txt', 'revolverz.txt', 'Highsay.txt', 'ScreamingBlatz.txt', 'RyanxCole.txt', 'shellny.txt', 'TheKillerisback.txt', 'M0orey_0.txt', 'Mincheeen.txt', '2wc.txt', 'Feinberg.txt', 'Navex.txt', 'NewNormal0947.txt', 'Teesily.txt', 'SiLoHB.txt', 'Morittz.txt', 'cxl1lo.txt', 'LeMetin_.txt', 'unausgesprochen.txt', 'Freeeedom.txt', 'miridis41.txt', 'Joe3346.txt', 'Lingex.txt', 'xX_Masha_ggg_Xx9.txt', 'Julius16.txt', 'lizsyy.txt', 'camman18YT.txt', 'Jan2220.txt', 'Falke_01.txt', 'DaVinci_Son.txt', 'SatzdesPytag0ras.txt', 'Flitzi_Dino.txt', 'Wienerisch.txt', 'Seemops_8.txt', 'GermanPie.txt', 'chrisihalt.txt', 'FluffyDragon2007.txt', 'LucaaOn.txt', 'Allooy.txt', 'Chander24.txt', 'Fflopse.txt', 'bikop.txt', 'vKito.txt', 'bawskey.txt', 'RasenLP.txt', 'WirdNichtGeladen.txt', 'WuschigesEtwas.txt', 'OutcroYoutube.txt', 'HeIsJustAPoorBoy.txt', 'FlyingAutismus.txt', 'destr0yed_.txt', 'Ex4cted.txt', 'Mvsk_.txt', 'MaxOnTheRoad.txt', 'swiffle.txt', 'juvona.txt', 'Lubottus.txt', 'Nervigerr.txt', 'lolisamakun.txt', 'Martomias.txt', '20LeRe10.txt']\n",
      "processing Schießstand...\n",
      "Error: Tammywood.txt does not contain any TooltipEvent data\n",
      "Error: demiu.txt does not contain any TooltipEvent data\n",
      "Error: JayMinInSane.txt does not contain any TooltipEvent data\n",
      "Error: KINT0.txt does not contain any TooltipEvent data\n",
      "Error: SmartyxD.txt does not contain any TooltipEvent data\n",
      "Error: Sower_.txt does not contain any TooltipEvent data\n",
      "Error: Lord_Weibull.txt does not contain any TooltipEvent data\n",
      "Error: Scuprum.txt does not contain any TooltipEvent data\n",
      "Error: Dubbly.txt does not contain any TooltipEvent data\n",
      "Error: bikop.txt does not contain any TooltipEvent data\n",
      "Error: destr0yed_.txt does not contain any TooltipEvent data\n",
      "Schießstand processed\n",
      "['__egE.txt', 'Tammywood.txt', 'BunnyKiko.txt', 'SpeckyCut.txt', 'Hyxeed.txt', 'demiu.txt', 'SpinCrafter.txt', 'NanamiElvi.txt', '_n3d.txt', 'Sebi1801.txt', 'JayMinInSane.txt', 'Persidieus.txt', 'N3XV.txt', 'Wissender.txt', 'Gryzes.txt', 'jimmi4Life.txt', 'Gobo9.txt', 'Anni808.txt', 'LeWi_100.txt', '_Waldi_.txt', 'Grapfen.txt', 'PixlNight.txt', 'dossantosaveiro_.txt', 'agowskyy.txt', 'TheBreadHD.txt', 'Axollotel.txt', 'T_Niko_T.txt', 'Vanillinchen.txt', 'Odlaa.txt', 'D4rkCookie.txt', 'yzvm.txt', 'Tim_Voltia.txt', 'xBaumeisterin.txt', 'Ungluecklicher.txt', 'Lutorix.txt', 'Ninivee.txt', 'ArthurAlchemist.txt', 'redbrll.txt', 'Gfrasti.txt', 'Muniix.txt', 'Tomiokey.txt', 'Carl1_1.txt', 'DerAutist.txt', 'PolizeiDreamy.txt', 'xX_Dima_ggg_Xx6.txt', 'Falke23_5.txt', 'TheFabo.txt', 'DieserBear.txt', 'Picutar.txt', '2B9.txt', 'Schmaarek.txt', 'musi1999.txt', 'PumiTheCat.txt', 'HerrDante.txt', 'KakaMC.txt', 'StaudammAusHolz.txt', 'Lelouch610.txt', 'Kyuudo.txt', 'twitchparaskiill.txt', 'G0at3D.txt', 'SecretAgent_K.txt', 'KMaxN.txt', 'Sey__.txt', 'ForceFox.txt', 'toxicplace.txt', 'Gestimus.txt', 'yachayubin.txt', 'Wolkenfarmer.txt', 'y9nic.txt', 'KINT0.txt', 'zBro.txt', 'qriezmannsOpa.txt', 'Harold_Sensemann.txt', 'Pedrozockt.txt', 'MrNulfred.txt', 'Cytoox.txt', 'IchHolzDichWeg.txt', 'GingerTeddy.txt', 'Kopfradio.txt', 'loukrativ.txt', 'M0osebumps.txt', 'SmartyxD.txt', 'Kokochampo.txt', 'JennieKim.txt', 'Umgfoin.txt', 'ffawks.txt', 'byTobi.txt', 'Shiewk.txt', 'La_meleagro.txt', 'Squashgitter333.txt', 'Luxemburq.txt', 'DarkCobweb.txt', 'Sackkerl.txt', 'Sthyq.txt', 'Acidey.txt', 'Laaaachs.txt', 'HerosHD.txt', 'Lennart0911.txt', 'Gerrygames.txt', 'BusinessBent.txt', 'Simlll.txt', 'YBCM.txt', 'Txlentierter.txt', 'Dat_Klan.txt', 'Luis_XYZ.txt', 'NiklasMoWo.txt', 'MaxMitMaulkorb.txt', 'Oronor.txt', 'GamemasterNiki.txt', 'LordAlexos.txt', 'Pluto28.txt', 'GrafikKatze.txt', '_Einfallslos_.txt', 'cediiiiii_10.txt', 'Dokkkkko.txt', 'deadfiight.txt', 'Kanickelul.txt', 'crocodile1870.txt', 'Sower_.txt', 'Steavn.txt', 'EinfachEazy.txt', 'yiiq.txt', 'NotLennart.txt', 'Snitcherella.txt', 'Keenaai.txt', 'xd_Maiky.txt', 'ReichesBrot.txt', 'lolisamasan.txt', 'Raefinzs.txt', 'JOW24.txt', 'ByNetherdude.txt', 'ZweitesIch.txt', 'frutigall.txt', 'LilFueller.txt', 'xiooh.txt', 'rotmann2.txt', 'FlyingKyubi.txt', 'Joy_8oy.txt', 'BauHD.txt', 'CML_Justin.txt', 'MoZadaTV.txt', 'BastiGHG.txt', 'Gummibearchen.txt', 'Lord_Weibull.txt', 'VendasTM.txt', 'Stockinqs.txt', 'GlowyDusk.txt', 'Scuprum.txt', 'h4nnes.txt', 'cheesecake2901.txt', 'DrSpeed06.txt', 'Krusti.txt', 'marbrueck.txt', 'Vacted.txt', 'Janne4k.txt', 'Bartschii.txt', 'Mansuni.txt', 'SB387.txt', 'medisant.txt', 'Phoenix3000.txt', 'JOW23.txt', 'Ritokii.txt', 'Juti0n.txt', 'lvlaurin.txt', 'Bikoop.txt', 'FrozenNoah.txt', 'GeneralEnte06.txt', 'Dubbly.txt', 'revolverz.txt', 'Highsay.txt', 'ScreamingBlatz.txt', 'RyanxCole.txt', 'shellny.txt', 'TheKillerisback.txt', 'M0orey_0.txt', 'Mincheeen.txt', '2wc.txt', 'Feinberg.txt', 'Navex.txt', 'NewNormal0947.txt', 'Teesily.txt', 'SiLoHB.txt', 'Morittz.txt', 'cxl1lo.txt', 'LeMetin_.txt', 'unausgesprochen.txt', 'Freeeedom.txt', 'miridis41.txt', 'Joe3346.txt', 'Lingex.txt', 'xX_Masha_ggg_Xx9.txt', 'Julius16.txt', 'lizsyy.txt', 'camman18YT.txt', 'Jan2220.txt', 'Falke_01.txt', 'DaVinci_Son.txt', 'SatzdesPytag0ras.txt', 'Flitzi_Dino.txt', 'Wienerisch.txt', 'Seemops_8.txt', 'GermanPie.txt', 'chrisihalt.txt', 'FluffyDragon2007.txt', 'LucaaOn.txt', 'Allooy.txt', 'Chander24.txt', 'Fflopse.txt', 'bikop.txt', 'vKito.txt', 'bawskey.txt', 'RasenLP.txt', 'WirdNichtGeladen.txt', 'WuschigesEtwas.txt', 'OutcroYoutube.txt', 'HeIsJustAPoorBoy.txt', 'FlyingAutismus.txt', 'destr0yed_.txt', 'Ex4cted.txt', 'Mvsk_.txt', 'MaxOnTheRoad.txt', 'swiffle.txt', 'juvona.txt', 'Lubottus.txt', 'Nervigerr.txt', 'lolisamakun.txt', 'Martomias.txt', '20LeRe10.txt']\n",
      "processing Mauerfall...\n",
      "Error: Tammywood.txt does not contain any TooltipEvent data\n",
      "Error: demiu.txt does not contain any TooltipEvent data\n",
      "Error: JayMinInSane.txt does not contain any TooltipEvent data\n",
      "Error: KINT0.txt does not contain any TooltipEvent data\n",
      "Error: SmartyxD.txt does not contain any TooltipEvent data\n",
      "Error: Sower_.txt does not contain any TooltipEvent data\n",
      "Error: Lord_Weibull.txt does not contain any TooltipEvent data\n",
      "Error: Scuprum.txt does not contain any TooltipEvent data\n",
      "Error: Dubbly.txt does not contain any TooltipEvent data\n",
      "Error: bikop.txt does not contain any TooltipEvent data\n",
      "Error: destr0yed_.txt does not contain any TooltipEvent data\n",
      "Mauerfall processed\n",
      "['__egE.txt', 'Tammywood.txt', 'BunnyKiko.txt', 'SpeckyCut.txt', 'Hyxeed.txt', 'demiu.txt', 'SpinCrafter.txt', 'NanamiElvi.txt', '_n3d.txt', 'Sebi1801.txt', 'JayMinInSane.txt', 'Persidieus.txt', 'N3XV.txt', 'Wissender.txt', 'Gryzes.txt', 'jimmi4Life.txt', 'Gobo9.txt', 'Anni808.txt', 'LeWi_100.txt', '_Waldi_.txt', 'Grapfen.txt', 'PixlNight.txt', 'dossantosaveiro_.txt', 'agowskyy.txt', 'TheBreadHD.txt', 'Axollotel.txt', 'T_Niko_T.txt', 'Vanillinchen.txt', 'Odlaa.txt', 'D4rkCookie.txt', 'yzvm.txt', 'Tim_Voltia.txt', 'xBaumeisterin.txt', 'Ungluecklicher.txt', 'Lutorix.txt', 'Ninivee.txt', 'ArthurAlchemist.txt', 'redbrll.txt', 'Gfrasti.txt', 'Muniix.txt', 'Tomiokey.txt', 'Carl1_1.txt', 'DerAutist.txt', 'PolizeiDreamy.txt', 'xX_Dima_ggg_Xx6.txt', 'Falke23_5.txt', 'TheFabo.txt', 'DieserBear.txt', 'Picutar.txt', '2B9.txt', 'Schmaarek.txt', 'musi1999.txt', 'PumiTheCat.txt', 'HerrDante.txt', 'KakaMC.txt', 'StaudammAusHolz.txt', 'Lelouch610.txt', 'Kyuudo.txt', 'twitchparaskiill.txt', 'G0at3D.txt', 'SecretAgent_K.txt', 'KMaxN.txt', 'Sey__.txt', 'ForceFox.txt', 'toxicplace.txt', 'Gestimus.txt', 'yachayubin.txt', 'Wolkenfarmer.txt', 'y9nic.txt', 'KINT0.txt', 'zBro.txt', 'qriezmannsOpa.txt', 'Harold_Sensemann.txt', 'Pedrozockt.txt', 'MrNulfred.txt', 'Cytoox.txt', 'IchHolzDichWeg.txt', 'GingerTeddy.txt', 'Kopfradio.txt', 'loukrativ.txt', 'M0osebumps.txt', 'SmartyxD.txt', 'Kokochampo.txt', 'JennieKim.txt', 'Umgfoin.txt', 'ffawks.txt', 'byTobi.txt', 'Shiewk.txt', 'La_meleagro.txt', 'Squashgitter333.txt', 'Luxemburq.txt', 'DarkCobweb.txt', 'Sackkerl.txt', 'Sthyq.txt', 'Acidey.txt', 'Laaaachs.txt', 'HerosHD.txt', 'Lennart0911.txt', 'Gerrygames.txt', 'BusinessBent.txt', 'Simlll.txt', 'YBCM.txt', 'Txlentierter.txt', 'Dat_Klan.txt', 'Luis_XYZ.txt', 'NiklasMoWo.txt', 'MaxMitMaulkorb.txt', 'Oronor.txt', 'GamemasterNiki.txt', 'LordAlexos.txt', 'Pluto28.txt', 'GrafikKatze.txt', '_Einfallslos_.txt', 'cediiiiii_10.txt', 'Dokkkkko.txt', 'deadfiight.txt', 'Kanickelul.txt', 'crocodile1870.txt', 'Sower_.txt', 'Steavn.txt', 'EinfachEazy.txt', 'yiiq.txt', 'NotLennart.txt', 'Snitcherella.txt', 'Keenaai.txt', 'xd_Maiky.txt', 'ReichesBrot.txt', 'lolisamasan.txt', 'Raefinzs.txt', 'JOW24.txt', 'ByNetherdude.txt', 'ZweitesIch.txt', 'frutigall.txt', 'LilFueller.txt', 'xiooh.txt', 'rotmann2.txt', 'FlyingKyubi.txt', 'Joy_8oy.txt', 'BauHD.txt', 'CML_Justin.txt', 'MoZadaTV.txt', 'BastiGHG.txt', 'Gummibearchen.txt', 'Lord_Weibull.txt', 'VendasTM.txt', 'Stockinqs.txt', 'GlowyDusk.txt', 'Scuprum.txt', 'h4nnes.txt', 'cheesecake2901.txt', 'DrSpeed06.txt', 'Krusti.txt', 'marbrueck.txt', 'Vacted.txt', 'Janne4k.txt', 'Bartschii.txt', 'Mansuni.txt', 'SB387.txt', 'medisant.txt', 'Phoenix3000.txt', 'JOW23.txt', 'Ritokii.txt', 'Juti0n.txt', 'lvlaurin.txt', 'Bikoop.txt', 'FrozenNoah.txt', 'GeneralEnte06.txt', 'Dubbly.txt', 'revolverz.txt', 'Highsay.txt', 'ScreamingBlatz.txt', 'RyanxCole.txt', 'shellny.txt', 'TheKillerisback.txt', 'M0orey_0.txt', 'Mincheeen.txt', '2wc.txt', 'Feinberg.txt', 'Navex.txt', 'NewNormal0947.txt', 'Teesily.txt', 'SiLoHB.txt', 'Morittz.txt', 'cxl1lo.txt', 'LeMetin_.txt', 'unausgesprochen.txt', 'Freeeedom.txt', 'miridis41.txt', 'Joe3346.txt', 'Lingex.txt', 'xX_Masha_ggg_Xx9.txt', 'Julius16.txt', 'lizsyy.txt', 'camman18YT.txt', 'Jan2220.txt', 'Falke_01.txt', 'DaVinci_Son.txt', 'SatzdesPytag0ras.txt', 'Flitzi_Dino.txt', 'Wienerisch.txt', 'Seemops_8.txt', 'GermanPie.txt', 'chrisihalt.txt', 'FluffyDragon2007.txt', 'LucaaOn.txt', 'Allooy.txt', 'Chander24.txt', 'Fflopse.txt', 'bikop.txt', 'vKito.txt', 'bawskey.txt', 'RasenLP.txt', 'WirdNichtGeladen.txt', 'WuschigesEtwas.txt', 'OutcroYoutube.txt', 'HeIsJustAPoorBoy.txt', 'FlyingAutismus.txt', 'destr0yed_.txt', 'Ex4cted.txt', 'Mvsk_.txt', 'MaxOnTheRoad.txt', 'swiffle.txt', 'juvona.txt', 'Lubottus.txt', 'Nervigerr.txt', 'lolisamakun.txt', 'Martomias.txt', '20LeRe10.txt']\n",
      "processing Survivalgames...\n",
      "Error: Tammywood.txt does not contain any TooltipEvent data\n",
      "Error: demiu.txt does not contain any TooltipEvent data\n",
      "Error: JayMinInSane.txt does not contain any TooltipEvent data\n",
      "Error: KINT0.txt does not contain any TooltipEvent data\n",
      "Error: SmartyxD.txt does not contain any TooltipEvent data\n",
      "Error: Sower_.txt does not contain any TooltipEvent data\n",
      "Error: Lord_Weibull.txt does not contain any TooltipEvent data\n",
      "Error: Scuprum.txt does not contain any TooltipEvent data\n",
      "Error: Dubbly.txt does not contain any TooltipEvent data\n",
      "Error: bikop.txt does not contain any TooltipEvent data\n",
      "Error: destr0yed_.txt does not contain any TooltipEvent data\n",
      "Survivalgames processed\n",
      "['__egE.txt', 'Tammywood.txt', 'BunnyKiko.txt', 'SpeckyCut.txt', 'Hyxeed.txt', 'demiu.txt', 'SpinCrafter.txt', 'NanamiElvi.txt', '_n3d.txt', 'Sebi1801.txt', 'JayMinInSane.txt', 'Persidieus.txt', 'N3XV.txt', 'Wissender.txt', 'Gryzes.txt', 'jimmi4Life.txt', 'Gobo9.txt', 'Anni808.txt', 'LeWi_100.txt', '_Waldi_.txt', 'Grapfen.txt', 'PixlNight.txt', 'dossantosaveiro_.txt', 'agowskyy.txt', 'TheBreadHD.txt', 'Axollotel.txt', 'T_Niko_T.txt', 'Vanillinchen.txt', 'Odlaa.txt', 'D4rkCookie.txt', 'yzvm.txt', 'Tim_Voltia.txt', 'xBaumeisterin.txt', 'Ungluecklicher.txt', 'Lutorix.txt', 'Ninivee.txt', 'ArthurAlchemist.txt', 'redbrll.txt', 'Gfrasti.txt', 'Muniix.txt', 'Tomiokey.txt', 'Carl1_1.txt', 'DerAutist.txt', 'PolizeiDreamy.txt', 'xX_Dima_ggg_Xx6.txt', 'Falke23_5.txt', 'TheFabo.txt', 'DieserBear.txt', 'Picutar.txt', '2B9.txt', 'Schmaarek.txt', 'musi1999.txt', 'PumiTheCat.txt', 'HerrDante.txt', 'KakaMC.txt', 'StaudammAusHolz.txt', 'Lelouch610.txt', 'Kyuudo.txt', 'twitchparaskiill.txt', 'G0at3D.txt', 'SecretAgent_K.txt', 'KMaxN.txt', 'Sey__.txt', 'ForceFox.txt', 'toxicplace.txt', 'Gestimus.txt', 'yachayubin.txt', 'Wolkenfarmer.txt', 'y9nic.txt', 'KINT0.txt', 'zBro.txt', 'qriezmannsOpa.txt', 'Harold_Sensemann.txt', 'Pedrozockt.txt', 'MrNulfred.txt', 'Cytoox.txt', 'IchHolzDichWeg.txt', 'GingerTeddy.txt', 'Kopfradio.txt', 'loukrativ.txt', 'M0osebumps.txt', 'SmartyxD.txt', 'Kokochampo.txt', 'JennieKim.txt', 'Umgfoin.txt', 'ffawks.txt', 'byTobi.txt', 'Shiewk.txt', 'La_meleagro.txt', 'Squashgitter333.txt', 'Luxemburq.txt', 'DarkCobweb.txt', 'Sackkerl.txt', 'Sthyq.txt', 'Acidey.txt', 'Laaaachs.txt', 'HerosHD.txt', 'Lennart0911.txt', 'Gerrygames.txt', 'BusinessBent.txt', 'Simlll.txt', 'YBCM.txt', 'Txlentierter.txt', 'Dat_Klan.txt', 'Luis_XYZ.txt', 'NiklasMoWo.txt', 'MaxMitMaulkorb.txt', 'Oronor.txt', 'GamemasterNiki.txt', 'LordAlexos.txt', 'Pluto28.txt', 'GrafikKatze.txt', '_Einfallslos_.txt', 'cediiiiii_10.txt', 'Dokkkkko.txt', 'deadfiight.txt', 'Kanickelul.txt', 'crocodile1870.txt', 'Sower_.txt', 'Steavn.txt', 'EinfachEazy.txt', 'yiiq.txt', 'NotLennart.txt', 'Snitcherella.txt', 'Keenaai.txt', 'xd_Maiky.txt', 'ReichesBrot.txt', 'lolisamasan.txt', 'Raefinzs.txt', 'JOW24.txt', 'ByNetherdude.txt', 'ZweitesIch.txt', 'frutigall.txt', 'LilFueller.txt', 'xiooh.txt', 'rotmann2.txt', 'FlyingKyubi.txt', 'Joy_8oy.txt', 'BauHD.txt', 'CML_Justin.txt', 'MoZadaTV.txt', 'BastiGHG.txt', 'Gummibearchen.txt', 'Lord_Weibull.txt', 'VendasTM.txt', 'Stockinqs.txt', 'GlowyDusk.txt', 'Scuprum.txt', 'h4nnes.txt', 'cheesecake2901.txt', 'DrSpeed06.txt', 'Krusti.txt', 'marbrueck.txt', 'Vacted.txt', 'Janne4k.txt', 'Bartschii.txt', 'Mansuni.txt', 'SB387.txt', 'medisant.txt', 'Phoenix3000.txt', 'JOW23.txt', 'Ritokii.txt', 'Juti0n.txt', 'lvlaurin.txt', 'Bikoop.txt', 'FrozenNoah.txt', 'GeneralEnte06.txt', 'Dubbly.txt', 'revolverz.txt', 'Highsay.txt', 'ScreamingBlatz.txt', 'RyanxCole.txt', 'shellny.txt', 'TheKillerisback.txt', 'M0orey_0.txt', 'Mincheeen.txt', '2wc.txt', 'Feinberg.txt', 'Navex.txt', 'NewNormal0947.txt', 'Teesily.txt', 'SiLoHB.txt', 'Morittz.txt', 'cxl1lo.txt', 'LeMetin_.txt', 'unausgesprochen.txt', 'Freeeedom.txt', 'miridis41.txt', 'Joe3346.txt', 'Lingex.txt', 'xX_Masha_ggg_Xx9.txt', 'Julius16.txt', 'lizsyy.txt', 'camman18YT.txt', 'Jan2220.txt', 'Falke_01.txt', 'DaVinci_Son.txt', 'SatzdesPytag0ras.txt', 'Flitzi_Dino.txt', 'Wienerisch.txt', 'Seemops_8.txt', 'GermanPie.txt', 'chrisihalt.txt', 'FluffyDragon2007.txt', 'LucaaOn.txt', 'Allooy.txt', 'Chander24.txt', 'Fflopse.txt', 'bikop.txt', 'vKito.txt', 'bawskey.txt', 'RasenLP.txt', 'WirdNichtGeladen.txt', 'WuschigesEtwas.txt', 'OutcroYoutube.txt', 'HeIsJustAPoorBoy.txt', 'FlyingAutismus.txt', 'destr0yed_.txt', 'Ex4cted.txt', 'Mvsk_.txt', 'MaxOnTheRoad.txt', 'swiffle.txt', 'juvona.txt', 'Lubottus.txt', 'Nervigerr.txt', 'lolisamakun.txt', 'Martomias.txt', '20LeRe10.txt']\n",
      "processing Skywars...\n",
      "Error: Tammywood.txt does not contain any TooltipEvent data\n",
      "Error: demiu.txt does not contain any TooltipEvent data\n",
      "Error: JayMinInSane.txt does not contain any TooltipEvent data\n",
      "Error: KINT0.txt does not contain any TooltipEvent data\n",
      "Error: SmartyxD.txt does not contain any TooltipEvent data\n",
      "Error: Sower_.txt does not contain any TooltipEvent data\n",
      "Error: Lord_Weibull.txt does not contain any TooltipEvent data\n",
      "Error: Scuprum.txt does not contain any TooltipEvent data\n",
      "Error: Dubbly.txt does not contain any TooltipEvent data\n",
      "Error: bikop.txt does not contain any TooltipEvent data\n",
      "Error: destr0yed_.txt does not contain any TooltipEvent data\n",
      "Skywars processed\n",
      "['__egE.txt', 'Tammywood.txt', 'BunnyKiko.txt', 'SpeckyCut.txt', 'Hyxeed.txt', 'demiu.txt', 'SpinCrafter.txt', 'NanamiElvi.txt', '_n3d.txt', 'Sebi1801.txt', 'JayMinInSane.txt', 'Persidieus.txt', 'N3XV.txt', 'Wissender.txt', 'Gryzes.txt', 'jimmi4Life.txt', 'Gobo9.txt', 'Anni808.txt', 'LeWi_100.txt', '_Waldi_.txt', 'Grapfen.txt', 'PixlNight.txt', 'dossantosaveiro_.txt', 'agowskyy.txt', 'TheBreadHD.txt', 'Axollotel.txt', 'T_Niko_T.txt', 'Vanillinchen.txt', 'Odlaa.txt', 'D4rkCookie.txt', 'yzvm.txt', 'Tim_Voltia.txt', 'xBaumeisterin.txt', 'Ungluecklicher.txt', 'Lutorix.txt', 'Ninivee.txt', 'ArthurAlchemist.txt', 'redbrll.txt', 'Gfrasti.txt', 'Muniix.txt', 'Tomiokey.txt', 'Carl1_1.txt', 'DerAutist.txt', 'PolizeiDreamy.txt', 'xX_Dima_ggg_Xx6.txt', 'Falke23_5.txt', 'TheFabo.txt', 'DieserBear.txt', 'Picutar.txt', '2B9.txt', 'Schmaarek.txt', 'musi1999.txt', 'PumiTheCat.txt', 'HerrDante.txt', 'KakaMC.txt', 'StaudammAusHolz.txt', 'Lelouch610.txt', 'Kyuudo.txt', 'twitchparaskiill.txt', 'G0at3D.txt', 'SecretAgent_K.txt', 'KMaxN.txt', 'Sey__.txt', 'ForceFox.txt', 'toxicplace.txt', 'Gestimus.txt', 'yachayubin.txt', 'Wolkenfarmer.txt', 'y9nic.txt', 'KINT0.txt', 'zBro.txt', 'qriezmannsOpa.txt', 'Harold_Sensemann.txt', 'Pedrozockt.txt', 'MrNulfred.txt', 'Cytoox.txt', 'IchHolzDichWeg.txt', 'GingerTeddy.txt', 'Kopfradio.txt', 'loukrativ.txt', 'M0osebumps.txt', 'SmartyxD.txt', 'Kokochampo.txt', 'JennieKim.txt', 'Umgfoin.txt', 'ffawks.txt', 'byTobi.txt', 'Shiewk.txt', 'La_meleagro.txt', 'Squashgitter333.txt', 'Luxemburq.txt', 'DarkCobweb.txt', 'Sackkerl.txt', 'Sthyq.txt', 'Acidey.txt', 'Laaaachs.txt', 'HerosHD.txt', 'Lennart0911.txt', 'Gerrygames.txt', 'BusinessBent.txt', 'Simlll.txt', 'YBCM.txt', 'Txlentierter.txt', 'Dat_Klan.txt', 'Luis_XYZ.txt', 'NiklasMoWo.txt', 'MaxMitMaulkorb.txt', 'Oronor.txt', 'GamemasterNiki.txt', 'LordAlexos.txt', 'Pluto28.txt', 'GrafikKatze.txt', '_Einfallslos_.txt', 'cediiiiii_10.txt', 'Dokkkkko.txt', 'deadfiight.txt', 'Kanickelul.txt', 'crocodile1870.txt', 'Sower_.txt', 'Steavn.txt', 'EinfachEazy.txt', 'yiiq.txt', 'NotLennart.txt', 'Snitcherella.txt', 'Keenaai.txt', 'xd_Maiky.txt', 'ReichesBrot.txt', 'lolisamasan.txt', 'Raefinzs.txt', 'JOW24.txt', 'ByNetherdude.txt', 'ZweitesIch.txt', 'frutigall.txt', 'LilFueller.txt', 'xiooh.txt', 'rotmann2.txt', 'FlyingKyubi.txt', 'Joy_8oy.txt', 'BauHD.txt', 'CML_Justin.txt', 'MoZadaTV.txt', 'BastiGHG.txt', 'Gummibearchen.txt', 'Lord_Weibull.txt', 'VendasTM.txt', 'Stockinqs.txt', 'GlowyDusk.txt', 'Scuprum.txt', 'h4nnes.txt', 'cheesecake2901.txt', 'DrSpeed06.txt', 'Krusti.txt', 'marbrueck.txt', 'Vacted.txt', 'Janne4k.txt', 'Bartschii.txt', 'Mansuni.txt', 'SB387.txt', 'medisant.txt', 'Phoenix3000.txt', 'JOW23.txt', 'Ritokii.txt', 'Juti0n.txt', 'lvlaurin.txt', 'Bikoop.txt', 'FrozenNoah.txt', 'GeneralEnte06.txt', 'Dubbly.txt', 'revolverz.txt', 'Highsay.txt', 'ScreamingBlatz.txt', 'RyanxCole.txt', 'shellny.txt', 'TheKillerisback.txt', 'M0orey_0.txt', 'Mincheeen.txt', '2wc.txt', 'Feinberg.txt', 'Navex.txt', 'NewNormal0947.txt', 'Teesily.txt', 'SiLoHB.txt', 'Morittz.txt', 'cxl1lo.txt', 'LeMetin_.txt', 'unausgesprochen.txt', 'Freeeedom.txt', 'miridis41.txt', 'Joe3346.txt', 'Lingex.txt', 'xX_Masha_ggg_Xx9.txt', 'Julius16.txt', 'lizsyy.txt', 'camman18YT.txt', 'Jan2220.txt', 'Falke_01.txt', 'DaVinci_Son.txt', 'SatzdesPytag0ras.txt', 'Flitzi_Dino.txt', 'Wienerisch.txt', 'Seemops_8.txt', 'GermanPie.txt', 'chrisihalt.txt', 'FluffyDragon2007.txt', 'LucaaOn.txt', 'Allooy.txt', 'Chander24.txt', 'Fflopse.txt', 'bikop.txt', 'vKito.txt', 'bawskey.txt', 'RasenLP.txt', 'WirdNichtGeladen.txt', 'WuschigesEtwas.txt', 'OutcroYoutube.txt', 'HeIsJustAPoorBoy.txt', 'FlyingAutismus.txt', 'destr0yed_.txt', 'Ex4cted.txt', 'Mvsk_.txt', 'MaxOnTheRoad.txt', 'swiffle.txt', 'juvona.txt', 'Lubottus.txt', 'Nervigerr.txt', 'lolisamakun.txt', 'Martomias.txt', '20LeRe10.txt']\n",
      "processing Lasertag...\n",
      "Error: Tammywood.txt does not contain any TooltipEvent data\n",
      "Error: demiu.txt does not contain any TooltipEvent data\n",
      "Error: JayMinInSane.txt does not contain any TooltipEvent data\n",
      "Error: KINT0.txt does not contain any TooltipEvent data\n",
      "Error: SmartyxD.txt does not contain any TooltipEvent data\n",
      "Error: Sower_.txt does not contain any TooltipEvent data\n",
      "Error: Lord_Weibull.txt does not contain any TooltipEvent data\n",
      "Error: Scuprum.txt does not contain any TooltipEvent data\n",
      "Error: Dubbly.txt does not contain any TooltipEvent data\n",
      "Error: bikop.txt does not contain any TooltipEvent data\n",
      "Error: destr0yed_.txt does not contain any TooltipEvent data\n",
      "Lasertag processed\n",
      "['__egE.txt', 'Tammywood.txt', 'BunnyKiko.txt', 'SpeckyCut.txt', 'Hyxeed.txt', 'demiu.txt', 'SpinCrafter.txt', 'NanamiElvi.txt', '_n3d.txt', 'Sebi1801.txt', 'JayMinInSane.txt', 'Persidieus.txt', 'N3XV.txt', 'Wissender.txt', 'Gryzes.txt', 'jimmi4Life.txt', 'Gobo9.txt', 'Anni808.txt', 'LeWi_100.txt', '_Waldi_.txt', 'Grapfen.txt', 'PixlNight.txt', 'dossantosaveiro_.txt', 'agowskyy.txt', 'TheBreadHD.txt', 'Axollotel.txt', 'T_Niko_T.txt', 'Vanillinchen.txt', 'Odlaa.txt', 'D4rkCookie.txt', 'yzvm.txt', 'Tim_Voltia.txt', 'xBaumeisterin.txt', 'Ungluecklicher.txt', 'Lutorix.txt', 'Ninivee.txt', 'ArthurAlchemist.txt', 'redbrll.txt', 'Gfrasti.txt', 'Muniix.txt', 'Tomiokey.txt', 'Carl1_1.txt', 'DerAutist.txt', 'PolizeiDreamy.txt', 'xX_Dima_ggg_Xx6.txt', 'Falke23_5.txt', 'TheFabo.txt', 'DieserBear.txt', 'Picutar.txt', '2B9.txt', 'Schmaarek.txt', 'musi1999.txt', 'PumiTheCat.txt', 'HerrDante.txt', 'KakaMC.txt', 'StaudammAusHolz.txt', 'Lelouch610.txt', 'Kyuudo.txt', 'twitchparaskiill.txt', 'G0at3D.txt', 'SecretAgent_K.txt', 'KMaxN.txt', 'Sey__.txt', 'ForceFox.txt', 'toxicplace.txt', 'Gestimus.txt', 'yachayubin.txt', 'Wolkenfarmer.txt', 'y9nic.txt', 'KINT0.txt', 'zBro.txt', 'qriezmannsOpa.txt', 'Harold_Sensemann.txt', 'Pedrozockt.txt', 'MrNulfred.txt', 'Cytoox.txt', 'IchHolzDichWeg.txt', 'GingerTeddy.txt', 'Kopfradio.txt', 'loukrativ.txt', 'M0osebumps.txt', 'SmartyxD.txt', 'Kokochampo.txt', 'JennieKim.txt', 'Umgfoin.txt', 'ffawks.txt', 'byTobi.txt', 'Shiewk.txt', 'La_meleagro.txt', 'Squashgitter333.txt', 'Luxemburq.txt', 'DarkCobweb.txt', 'Sackkerl.txt', 'Sthyq.txt', 'Acidey.txt', 'Laaaachs.txt', 'HerosHD.txt', 'Lennart0911.txt', 'Gerrygames.txt', 'BusinessBent.txt', 'Simlll.txt', 'YBCM.txt', 'Txlentierter.txt', 'Dat_Klan.txt', 'Luis_XYZ.txt', 'NiklasMoWo.txt', 'MaxMitMaulkorb.txt', 'Oronor.txt', 'GamemasterNiki.txt', 'LordAlexos.txt', 'Pluto28.txt', 'GrafikKatze.txt', '_Einfallslos_.txt', 'cediiiiii_10.txt', 'Dokkkkko.txt', 'deadfiight.txt', 'Kanickelul.txt', 'crocodile1870.txt', 'Sower_.txt', 'Steavn.txt', 'EinfachEazy.txt', 'yiiq.txt', 'NotLennart.txt', 'Snitcherella.txt', 'Keenaai.txt', 'xd_Maiky.txt', 'ReichesBrot.txt', 'lolisamasan.txt', 'Raefinzs.txt', 'JOW24.txt', 'ByNetherdude.txt', 'ZweitesIch.txt', 'frutigall.txt', 'LilFueller.txt', 'xiooh.txt', 'rotmann2.txt', 'FlyingKyubi.txt', 'Joy_8oy.txt', 'BauHD.txt', 'CML_Justin.txt', 'MoZadaTV.txt', 'BastiGHG.txt', 'Gummibearchen.txt', 'Lord_Weibull.txt', 'VendasTM.txt', 'Stockinqs.txt', 'GlowyDusk.txt', 'Scuprum.txt', 'h4nnes.txt', 'cheesecake2901.txt', 'DrSpeed06.txt', 'Krusti.txt', 'marbrueck.txt', 'Vacted.txt', 'Janne4k.txt', 'Bartschii.txt', 'Mansuni.txt', 'SB387.txt', 'medisant.txt', 'Phoenix3000.txt', 'JOW23.txt', 'Ritokii.txt', 'Juti0n.txt', 'lvlaurin.txt', 'Bikoop.txt', 'FrozenNoah.txt', 'GeneralEnte06.txt', 'Dubbly.txt', 'revolverz.txt', 'Highsay.txt', 'ScreamingBlatz.txt', 'RyanxCole.txt', 'shellny.txt', 'TheKillerisback.txt', 'M0orey_0.txt', 'Mincheeen.txt', '2wc.txt', 'Feinberg.txt', 'Navex.txt', 'NewNormal0947.txt', 'Teesily.txt', 'SiLoHB.txt', 'Morittz.txt', 'cxl1lo.txt', 'LeMetin_.txt', 'unausgesprochen.txt', 'Freeeedom.txt', 'miridis41.txt', 'Joe3346.txt', 'Lingex.txt', 'xX_Masha_ggg_Xx9.txt', 'Julius16.txt', 'lizsyy.txt', 'camman18YT.txt', 'Jan2220.txt', 'Falke_01.txt', 'DaVinci_Son.txt', 'SatzdesPytag0ras.txt', 'Flitzi_Dino.txt', 'Wienerisch.txt', 'Seemops_8.txt', 'GermanPie.txt', 'chrisihalt.txt', 'FluffyDragon2007.txt', 'LucaaOn.txt', 'Allooy.txt', 'Chander24.txt', 'Fflopse.txt', 'bikop.txt', 'vKito.txt', 'bawskey.txt', 'RasenLP.txt', 'WirdNichtGeladen.txt', 'WuschigesEtwas.txt', 'OutcroYoutube.txt', 'HeIsJustAPoorBoy.txt', 'FlyingAutismus.txt', 'destr0yed_.txt', 'Ex4cted.txt', 'Mvsk_.txt', 'MaxOnTheRoad.txt', 'swiffle.txt', 'juvona.txt', 'Lubottus.txt', 'Nervigerr.txt', 'lolisamakun.txt', 'Martomias.txt', '20LeRe10.txt']\n",
      "processing Minengefecht...\n",
      "Error: Tammywood.txt does not contain any TooltipEvent data\n",
      "Error: demiu.txt does not contain any TooltipEvent data\n",
      "Error: JayMinInSane.txt does not contain any TooltipEvent data\n",
      "Error: KINT0.txt does not contain any TooltipEvent data\n",
      "Error: SmartyxD.txt does not contain any TooltipEvent data\n",
      "Error: Sower_.txt does not contain any TooltipEvent data\n",
      "Error: Lord_Weibull.txt does not contain any TooltipEvent data\n",
      "Error: Scuprum.txt does not contain any TooltipEvent data\n",
      "Error: Dubbly.txt does not contain any TooltipEvent data\n",
      "Error: bikop.txt does not contain any TooltipEvent data\n",
      "Error: destr0yed_.txt does not contain any TooltipEvent data\n",
      "Minengefecht processed\n",
      "['__egE.txt', 'Tammywood.txt', 'BunnyKiko.txt', 'SpeckyCut.txt', 'Hyxeed.txt', 'demiu.txt', 'SpinCrafter.txt', 'NanamiElvi.txt', '_n3d.txt', 'Sebi1801.txt', 'JayMinInSane.txt', 'Persidieus.txt', 'N3XV.txt', 'Wissender.txt', 'Gryzes.txt', 'jimmi4Life.txt', 'Gobo9.txt', 'Anni808.txt', 'LeWi_100.txt', '_Waldi_.txt', 'Grapfen.txt', 'PixlNight.txt', 'dossantosaveiro_.txt', 'agowskyy.txt', 'TheBreadHD.txt', 'Axollotel.txt', 'T_Niko_T.txt', 'Vanillinchen.txt', 'Odlaa.txt', 'D4rkCookie.txt', 'yzvm.txt', 'Tim_Voltia.txt', 'xBaumeisterin.txt', 'Ungluecklicher.txt', 'Lutorix.txt', 'Ninivee.txt', 'ArthurAlchemist.txt', 'redbrll.txt', 'Gfrasti.txt', 'Muniix.txt', 'Tomiokey.txt', 'Carl1_1.txt', 'DerAutist.txt', 'PolizeiDreamy.txt', 'xX_Dima_ggg_Xx6.txt', 'Falke23_5.txt', 'TheFabo.txt', 'DieserBear.txt', 'Picutar.txt', '2B9.txt', 'Schmaarek.txt', 'musi1999.txt', 'PumiTheCat.txt', 'HerrDante.txt', 'KakaMC.txt', 'StaudammAusHolz.txt', 'Lelouch610.txt', 'Kyuudo.txt', 'twitchparaskiill.txt', 'G0at3D.txt', 'SecretAgent_K.txt', 'KMaxN.txt', 'Sey__.txt', 'ForceFox.txt', 'toxicplace.txt', 'Gestimus.txt', 'yachayubin.txt', 'Wolkenfarmer.txt', 'y9nic.txt', 'KINT0.txt', 'zBro.txt', 'qriezmannsOpa.txt', 'Harold_Sensemann.txt', 'Pedrozockt.txt', 'MrNulfred.txt', 'Cytoox.txt', 'IchHolzDichWeg.txt', 'GingerTeddy.txt', 'Kopfradio.txt', 'loukrativ.txt', 'M0osebumps.txt', 'SmartyxD.txt', 'Kokochampo.txt', 'JennieKim.txt', 'Umgfoin.txt', 'ffawks.txt', 'byTobi.txt', 'Shiewk.txt', 'La_meleagro.txt', 'Squashgitter333.txt', 'Luxemburq.txt', 'DarkCobweb.txt', 'Sackkerl.txt', 'Sthyq.txt', 'Acidey.txt', 'Laaaachs.txt', 'HerosHD.txt', 'Lennart0911.txt', 'Gerrygames.txt', 'BusinessBent.txt', 'Simlll.txt', 'YBCM.txt', 'Txlentierter.txt', 'Dat_Klan.txt', 'Luis_XYZ.txt', 'NiklasMoWo.txt', 'MaxMitMaulkorb.txt', 'Oronor.txt', 'GamemasterNiki.txt', 'LordAlexos.txt', 'Pluto28.txt', 'GrafikKatze.txt', '_Einfallslos_.txt', 'cediiiiii_10.txt', 'Dokkkkko.txt', 'deadfiight.txt', 'Kanickelul.txt', 'crocodile1870.txt', 'Sower_.txt', 'Steavn.txt', 'EinfachEazy.txt', 'yiiq.txt', 'NotLennart.txt', 'Snitcherella.txt', 'Keenaai.txt', 'xd_Maiky.txt', 'ReichesBrot.txt', 'lolisamasan.txt', 'Raefinzs.txt', 'JOW24.txt', 'ByNetherdude.txt', 'ZweitesIch.txt', 'frutigall.txt', 'LilFueller.txt', 'xiooh.txt', 'rotmann2.txt', 'FlyingKyubi.txt', 'Joy_8oy.txt', 'BauHD.txt', 'CML_Justin.txt', 'MoZadaTV.txt', 'BastiGHG.txt', 'Gummibearchen.txt', 'Lord_Weibull.txt', 'VendasTM.txt', 'Stockinqs.txt', 'GlowyDusk.txt', 'Scuprum.txt', 'h4nnes.txt', 'cheesecake2901.txt', 'DrSpeed06.txt', 'Krusti.txt', 'marbrueck.txt', 'Vacted.txt', 'Janne4k.txt', 'Bartschii.txt', 'Mansuni.txt', 'SB387.txt', 'medisant.txt', 'Phoenix3000.txt', 'JOW23.txt', 'Ritokii.txt', 'Juti0n.txt', 'lvlaurin.txt', 'Bikoop.txt', 'FrozenNoah.txt', 'GeneralEnte06.txt', 'Dubbly.txt', 'revolverz.txt', 'Highsay.txt', 'ScreamingBlatz.txt', 'RyanxCole.txt', 'shellny.txt', 'TheKillerisback.txt', 'M0orey_0.txt', 'Mincheeen.txt', '2wc.txt', 'Feinberg.txt', 'Navex.txt', 'NewNormal0947.txt', 'Teesily.txt', 'SiLoHB.txt', 'Morittz.txt', 'cxl1lo.txt', 'LeMetin_.txt', 'unausgesprochen.txt', 'Freeeedom.txt', 'miridis41.txt', 'Joe3346.txt', 'Lingex.txt', 'xX_Masha_ggg_Xx9.txt', 'Julius16.txt', 'lizsyy.txt', 'camman18YT.txt', 'Jan2220.txt', 'Falke_01.txt', 'DaVinci_Son.txt', 'SatzdesPytag0ras.txt', 'Flitzi_Dino.txt', 'Wienerisch.txt', 'Seemops_8.txt', 'GermanPie.txt', 'chrisihalt.txt', 'FluffyDragon2007.txt', 'LucaaOn.txt', 'Allooy.txt', 'Chander24.txt', 'Fflopse.txt', 'bikop.txt', 'vKito.txt', 'bawskey.txt', 'RasenLP.txt', 'WirdNichtGeladen.txt', 'WuschigesEtwas.txt', 'OutcroYoutube.txt', 'HeIsJustAPoorBoy.txt', 'FlyingAutismus.txt', 'destr0yed_.txt', 'Ex4cted.txt', 'Mvsk_.txt', 'MaxOnTheRoad.txt', 'swiffle.txt', 'juvona.txt', 'Lubottus.txt', 'Nervigerr.txt', 'lolisamakun.txt', 'Martomias.txt', '20LeRe10.txt']\n",
      "processing Einer im Köcher...\n",
      "Error: Tammywood.txt does not contain any TooltipEvent data\n",
      "Error: demiu.txt does not contain any TooltipEvent data\n",
      "Error: JayMinInSane.txt does not contain any TooltipEvent data\n",
      "Error: KINT0.txt does not contain any TooltipEvent data\n",
      "Error: SmartyxD.txt does not contain any TooltipEvent data\n",
      "Error: Sower_.txt does not contain any TooltipEvent data\n",
      "Error: Lord_Weibull.txt does not contain any TooltipEvent data\n",
      "Error: Scuprum.txt does not contain any TooltipEvent data\n",
      "Error: Dubbly.txt does not contain any TooltipEvent data\n",
      "Error: bikop.txt does not contain any TooltipEvent data\n",
      "Error: destr0yed_.txt does not contain any TooltipEvent data\n",
      "Einer im Köcher processed\n",
      "['__egE.txt', 'Tammywood.txt', 'BunnyKiko.txt', 'SpeckyCut.txt', 'Hyxeed.txt', 'demiu.txt', 'SpinCrafter.txt', 'NanamiElvi.txt', '_n3d.txt', 'Sebi1801.txt', 'JayMinInSane.txt', 'Persidieus.txt', 'N3XV.txt', 'Wissender.txt', 'Gryzes.txt', 'jimmi4Life.txt', 'Gobo9.txt', 'Anni808.txt', 'LeWi_100.txt', '_Waldi_.txt', 'Grapfen.txt', 'PixlNight.txt', 'dossantosaveiro_.txt', 'agowskyy.txt', 'TheBreadHD.txt', 'Axollotel.txt', 'T_Niko_T.txt', 'Vanillinchen.txt', 'Odlaa.txt', 'D4rkCookie.txt', 'yzvm.txt', 'Tim_Voltia.txt', 'xBaumeisterin.txt', 'Ungluecklicher.txt', 'Lutorix.txt', 'Ninivee.txt', 'ArthurAlchemist.txt', 'redbrll.txt', 'Gfrasti.txt', 'Muniix.txt', 'Tomiokey.txt', 'Carl1_1.txt', 'DerAutist.txt', 'PolizeiDreamy.txt', 'xX_Dima_ggg_Xx6.txt', 'Falke23_5.txt', 'TheFabo.txt', 'DieserBear.txt', 'Picutar.txt', '2B9.txt', 'Schmaarek.txt', 'musi1999.txt', 'PumiTheCat.txt', 'HerrDante.txt', 'KakaMC.txt', 'StaudammAusHolz.txt', 'Lelouch610.txt', 'Kyuudo.txt', 'twitchparaskiill.txt', 'G0at3D.txt', 'SecretAgent_K.txt', 'KMaxN.txt', 'Sey__.txt', 'ForceFox.txt', 'toxicplace.txt', 'Gestimus.txt', 'yachayubin.txt', 'Wolkenfarmer.txt', 'y9nic.txt', 'KINT0.txt', 'zBro.txt', 'qriezmannsOpa.txt', 'Harold_Sensemann.txt', 'Pedrozockt.txt', 'MrNulfred.txt', 'Cytoox.txt', 'IchHolzDichWeg.txt', 'GingerTeddy.txt', 'Kopfradio.txt', 'loukrativ.txt', 'M0osebumps.txt', 'SmartyxD.txt', 'Kokochampo.txt', 'JennieKim.txt', 'Umgfoin.txt', 'ffawks.txt', 'byTobi.txt', 'Shiewk.txt', 'La_meleagro.txt', 'Squashgitter333.txt', 'Luxemburq.txt', 'DarkCobweb.txt', 'Sackkerl.txt', 'Sthyq.txt', 'Acidey.txt', 'Laaaachs.txt', 'HerosHD.txt', 'Lennart0911.txt', 'Gerrygames.txt', 'BusinessBent.txt', 'Simlll.txt', 'YBCM.txt', 'Txlentierter.txt', 'Dat_Klan.txt', 'Luis_XYZ.txt', 'NiklasMoWo.txt', 'MaxMitMaulkorb.txt', 'Oronor.txt', 'GamemasterNiki.txt', 'LordAlexos.txt', 'Pluto28.txt', 'GrafikKatze.txt', '_Einfallslos_.txt', 'cediiiiii_10.txt', 'Dokkkkko.txt', 'deadfiight.txt', 'Kanickelul.txt', 'crocodile1870.txt', 'Sower_.txt', 'Steavn.txt', 'EinfachEazy.txt', 'yiiq.txt', 'NotLennart.txt', 'Snitcherella.txt', 'Keenaai.txt', 'xd_Maiky.txt', 'ReichesBrot.txt', 'lolisamasan.txt', 'Raefinzs.txt', 'JOW24.txt', 'ByNetherdude.txt', 'ZweitesIch.txt', 'frutigall.txt', 'LilFueller.txt', 'xiooh.txt', 'rotmann2.txt', 'FlyingKyubi.txt', 'Joy_8oy.txt', 'BauHD.txt', 'CML_Justin.txt', 'MoZadaTV.txt', 'BastiGHG.txt', 'Gummibearchen.txt', 'Lord_Weibull.txt', 'VendasTM.txt', 'Stockinqs.txt', 'GlowyDusk.txt', 'Scuprum.txt', 'h4nnes.txt', 'cheesecake2901.txt', 'DrSpeed06.txt', 'Krusti.txt', 'marbrueck.txt', 'Vacted.txt', 'Janne4k.txt', 'Bartschii.txt', 'Mansuni.txt', 'SB387.txt', 'medisant.txt', 'Phoenix3000.txt', 'JOW23.txt', 'Ritokii.txt', 'Juti0n.txt', 'lvlaurin.txt', 'Bikoop.txt', 'FrozenNoah.txt', 'GeneralEnte06.txt', 'Dubbly.txt', 'revolverz.txt', 'Highsay.txt', 'ScreamingBlatz.txt', 'RyanxCole.txt', 'shellny.txt', 'TheKillerisback.txt', 'M0orey_0.txt', 'Mincheeen.txt', '2wc.txt', 'Feinberg.txt', 'Navex.txt', 'NewNormal0947.txt', 'Teesily.txt', 'SiLoHB.txt', 'Morittz.txt', 'cxl1lo.txt', 'LeMetin_.txt', 'unausgesprochen.txt', 'Freeeedom.txt', 'miridis41.txt', 'Joe3346.txt', 'Lingex.txt', 'xX_Masha_ggg_Xx9.txt', 'Julius16.txt', 'lizsyy.txt', 'camman18YT.txt', 'Jan2220.txt', 'Falke_01.txt', 'DaVinci_Son.txt', 'SatzdesPytag0ras.txt', 'Flitzi_Dino.txt', 'Wienerisch.txt', 'Seemops_8.txt', 'GermanPie.txt', 'chrisihalt.txt', 'FluffyDragon2007.txt', 'LucaaOn.txt', 'Allooy.txt', 'Chander24.txt', 'Fflopse.txt', 'bikop.txt', 'vKito.txt', 'bawskey.txt', 'RasenLP.txt', 'WirdNichtGeladen.txt', 'WuschigesEtwas.txt', 'OutcroYoutube.txt', 'HeIsJustAPoorBoy.txt', 'FlyingAutismus.txt', 'destr0yed_.txt', 'Ex4cted.txt', 'Mvsk_.txt', 'MaxOnTheRoad.txt', 'swiffle.txt', 'juvona.txt', 'Lubottus.txt', 'Nervigerr.txt', 'lolisamakun.txt', 'Martomias.txt', '20LeRe10.txt']\n",
      "processing Paintball...\n",
      "Error: Tammywood.txt does not contain any TooltipEvent data\n",
      "Error: demiu.txt does not contain any TooltipEvent data\n",
      "Error: JayMinInSane.txt does not contain any TooltipEvent data\n",
      "Error: KINT0.txt does not contain any TooltipEvent data\n",
      "Error: SmartyxD.txt does not contain any TooltipEvent data\n",
      "Error: Sower_.txt does not contain any TooltipEvent data\n",
      "Error: Lord_Weibull.txt does not contain any TooltipEvent data\n",
      "Error: Scuprum.txt does not contain any TooltipEvent data\n",
      "Error: Dubbly.txt does not contain any TooltipEvent data\n",
      "Error: bikop.txt does not contain any TooltipEvent data\n",
      "Error: destr0yed_.txt does not contain any TooltipEvent data\n",
      "Paintball processed\n",
      "['__egE.txt', 'Tammywood.txt', 'BunnyKiko.txt', 'SpeckyCut.txt', 'Hyxeed.txt', 'demiu.txt', 'SpinCrafter.txt', 'NanamiElvi.txt', '_n3d.txt', 'Sebi1801.txt', 'JayMinInSane.txt', 'Persidieus.txt', 'N3XV.txt', 'Wissender.txt', 'Gryzes.txt', 'jimmi4Life.txt', 'Gobo9.txt', 'Anni808.txt', 'LeWi_100.txt', '_Waldi_.txt', 'Grapfen.txt', 'PixlNight.txt', 'dossantosaveiro_.txt', 'agowskyy.txt', 'TheBreadHD.txt', 'Axollotel.txt', 'T_Niko_T.txt', 'Vanillinchen.txt', 'Odlaa.txt', 'D4rkCookie.txt', 'yzvm.txt', 'Tim_Voltia.txt', 'xBaumeisterin.txt', 'Ungluecklicher.txt', 'Lutorix.txt', 'Ninivee.txt', 'ArthurAlchemist.txt', 'redbrll.txt', 'Gfrasti.txt', 'Muniix.txt', 'Tomiokey.txt', 'Carl1_1.txt', 'DerAutist.txt', 'PolizeiDreamy.txt', 'xX_Dima_ggg_Xx6.txt', 'Falke23_5.txt', 'TheFabo.txt', 'DieserBear.txt', 'Picutar.txt', '2B9.txt', 'Schmaarek.txt', 'musi1999.txt', 'PumiTheCat.txt', 'HerrDante.txt', 'KakaMC.txt', 'StaudammAusHolz.txt', 'Lelouch610.txt', 'Kyuudo.txt', 'twitchparaskiill.txt', 'G0at3D.txt', 'SecretAgent_K.txt', 'KMaxN.txt', 'Sey__.txt', 'ForceFox.txt', 'toxicplace.txt', 'Gestimus.txt', 'yachayubin.txt', 'Wolkenfarmer.txt', 'y9nic.txt', 'KINT0.txt', 'zBro.txt', 'qriezmannsOpa.txt', 'Harold_Sensemann.txt', 'Pedrozockt.txt', 'MrNulfred.txt', 'Cytoox.txt', 'IchHolzDichWeg.txt', 'GingerTeddy.txt', 'Kopfradio.txt', 'loukrativ.txt', 'M0osebumps.txt', 'SmartyxD.txt', 'Kokochampo.txt', 'JennieKim.txt', 'Umgfoin.txt', 'ffawks.txt', 'byTobi.txt', 'Shiewk.txt', 'La_meleagro.txt', 'Squashgitter333.txt', 'Luxemburq.txt', 'DarkCobweb.txt', 'Sackkerl.txt', 'Sthyq.txt', 'Acidey.txt', 'Laaaachs.txt', 'HerosHD.txt', 'Lennart0911.txt', 'Gerrygames.txt', 'BusinessBent.txt', 'Simlll.txt', 'YBCM.txt', 'Txlentierter.txt', 'Dat_Klan.txt', 'Luis_XYZ.txt', 'NiklasMoWo.txt', 'MaxMitMaulkorb.txt', 'Oronor.txt', 'GamemasterNiki.txt', 'LordAlexos.txt', 'Pluto28.txt', 'GrafikKatze.txt', '_Einfallslos_.txt', 'cediiiiii_10.txt', 'Dokkkkko.txt', 'deadfiight.txt', 'Kanickelul.txt', 'crocodile1870.txt', 'Sower_.txt', 'Steavn.txt', 'EinfachEazy.txt', 'yiiq.txt', 'NotLennart.txt', 'Snitcherella.txt', 'Keenaai.txt', 'xd_Maiky.txt', 'ReichesBrot.txt', 'lolisamasan.txt', 'Raefinzs.txt', 'JOW24.txt', 'ByNetherdude.txt', 'ZweitesIch.txt', 'frutigall.txt', 'LilFueller.txt', 'xiooh.txt', 'rotmann2.txt', 'FlyingKyubi.txt', 'Joy_8oy.txt', 'BauHD.txt', 'CML_Justin.txt', 'MoZadaTV.txt', 'BastiGHG.txt', 'Gummibearchen.txt', 'Lord_Weibull.txt', 'VendasTM.txt', 'Stockinqs.txt', 'GlowyDusk.txt', 'Scuprum.txt', 'h4nnes.txt', 'cheesecake2901.txt', 'DrSpeed06.txt', 'Krusti.txt', 'marbrueck.txt', 'Vacted.txt', 'Janne4k.txt', 'Bartschii.txt', 'Mansuni.txt', 'SB387.txt', 'medisant.txt', 'Phoenix3000.txt', 'JOW23.txt', 'Ritokii.txt', 'Juti0n.txt', 'lvlaurin.txt', 'Bikoop.txt', 'FrozenNoah.txt', 'GeneralEnte06.txt', 'Dubbly.txt', 'revolverz.txt', 'Highsay.txt', 'ScreamingBlatz.txt', 'RyanxCole.txt', 'shellny.txt', 'TheKillerisback.txt', 'M0orey_0.txt', 'Mincheeen.txt', '2wc.txt', 'Feinberg.txt', 'Navex.txt', 'NewNormal0947.txt', 'Teesily.txt', 'SiLoHB.txt', 'Morittz.txt', 'cxl1lo.txt', 'LeMetin_.txt', 'unausgesprochen.txt', 'Freeeedom.txt', 'miridis41.txt', 'Joe3346.txt', 'Lingex.txt', 'xX_Masha_ggg_Xx9.txt', 'Julius16.txt', 'lizsyy.txt', 'camman18YT.txt', 'Jan2220.txt', 'Falke_01.txt', 'DaVinci_Son.txt', 'SatzdesPytag0ras.txt', 'Flitzi_Dino.txt', 'Wienerisch.txt', 'Seemops_8.txt', 'GermanPie.txt', 'chrisihalt.txt', 'FluffyDragon2007.txt', 'LucaaOn.txt', 'Allooy.txt', 'Chander24.txt', 'Fflopse.txt', 'bikop.txt', 'vKito.txt', 'bawskey.txt', 'RasenLP.txt', 'WirdNichtGeladen.txt', 'WuschigesEtwas.txt', 'OutcroYoutube.txt', 'HeIsJustAPoorBoy.txt', 'FlyingAutismus.txt', 'destr0yed_.txt', 'Ex4cted.txt', 'Mvsk_.txt', 'MaxOnTheRoad.txt', 'swiffle.txt', 'juvona.txt', 'Lubottus.txt', 'Nervigerr.txt', 'lolisamakun.txt', 'Martomias.txt', '20LeRe10.txt']\n",
      "processing Spleef...\n",
      "Error: Tammywood.txt does not contain any TooltipEvent data\n",
      "Error: demiu.txt does not contain any TooltipEvent data\n",
      "Error: JayMinInSane.txt does not contain any TooltipEvent data\n",
      "Error: KINT0.txt does not contain any TooltipEvent data\n",
      "Error: SmartyxD.txt does not contain any TooltipEvent data\n",
      "Error: Sower_.txt does not contain any TooltipEvent data\n",
      "Error: Lord_Weibull.txt does not contain any TooltipEvent data\n",
      "Error: Scuprum.txt does not contain any TooltipEvent data\n",
      "Error: Dubbly.txt does not contain any TooltipEvent data\n",
      "Error: bikop.txt does not contain any TooltipEvent data\n",
      "Error: destr0yed_.txt does not contain any TooltipEvent data\n",
      "Spleef processed\n",
      "['__egE.txt', 'Tammywood.txt', 'BunnyKiko.txt', 'SpeckyCut.txt', 'Hyxeed.txt', 'demiu.txt', 'SpinCrafter.txt', 'NanamiElvi.txt', '_n3d.txt', 'Sebi1801.txt', 'JayMinInSane.txt', 'Persidieus.txt', 'N3XV.txt', 'Wissender.txt', 'Gryzes.txt', 'jimmi4Life.txt', 'Gobo9.txt', 'Anni808.txt', 'LeWi_100.txt', '_Waldi_.txt', 'Grapfen.txt', 'PixlNight.txt', 'dossantosaveiro_.txt', 'agowskyy.txt', 'TheBreadHD.txt', 'Axollotel.txt', 'T_Niko_T.txt', 'Vanillinchen.txt', 'Odlaa.txt', 'D4rkCookie.txt', 'yzvm.txt', 'Tim_Voltia.txt', 'xBaumeisterin.txt', 'Ungluecklicher.txt', 'Lutorix.txt', 'Ninivee.txt', 'ArthurAlchemist.txt', 'redbrll.txt', 'Gfrasti.txt', 'Muniix.txt', 'Tomiokey.txt', 'Carl1_1.txt', 'DerAutist.txt', 'PolizeiDreamy.txt', 'xX_Dima_ggg_Xx6.txt', 'Falke23_5.txt', 'TheFabo.txt', 'DieserBear.txt', 'Picutar.txt', '2B9.txt', 'Schmaarek.txt', 'musi1999.txt', 'PumiTheCat.txt', 'HerrDante.txt', 'KakaMC.txt', 'StaudammAusHolz.txt', 'Lelouch610.txt', 'Kyuudo.txt', 'twitchparaskiill.txt', 'G0at3D.txt', 'SecretAgent_K.txt', 'KMaxN.txt', 'Sey__.txt', 'ForceFox.txt', 'toxicplace.txt', 'Gestimus.txt', 'yachayubin.txt', 'Wolkenfarmer.txt', 'y9nic.txt', 'KINT0.txt', 'zBro.txt', 'qriezmannsOpa.txt', 'Harold_Sensemann.txt', 'Pedrozockt.txt', 'MrNulfred.txt', 'Cytoox.txt', 'IchHolzDichWeg.txt', 'GingerTeddy.txt', 'Kopfradio.txt', 'loukrativ.txt', 'M0osebumps.txt', 'SmartyxD.txt', 'Kokochampo.txt', 'JennieKim.txt', 'Umgfoin.txt', 'ffawks.txt', 'byTobi.txt', 'Shiewk.txt', 'La_meleagro.txt', 'Squashgitter333.txt', 'Luxemburq.txt', 'DarkCobweb.txt', 'Sackkerl.txt', 'Sthyq.txt', 'Acidey.txt', 'Laaaachs.txt', 'HerosHD.txt', 'Lennart0911.txt', 'Gerrygames.txt', 'BusinessBent.txt', 'Simlll.txt', 'YBCM.txt', 'Txlentierter.txt', 'Dat_Klan.txt', 'Luis_XYZ.txt', 'NiklasMoWo.txt', 'MaxMitMaulkorb.txt', 'Oronor.txt', 'GamemasterNiki.txt', 'LordAlexos.txt', 'Pluto28.txt', 'GrafikKatze.txt', '_Einfallslos_.txt', 'cediiiiii_10.txt', 'Dokkkkko.txt', 'deadfiight.txt', 'Kanickelul.txt', 'crocodile1870.txt', 'Sower_.txt', 'Steavn.txt', 'EinfachEazy.txt', 'yiiq.txt', 'NotLennart.txt', 'Snitcherella.txt', 'Keenaai.txt', 'xd_Maiky.txt', 'ReichesBrot.txt', 'lolisamasan.txt', 'Raefinzs.txt', 'JOW24.txt', 'ByNetherdude.txt', 'ZweitesIch.txt', 'frutigall.txt', 'LilFueller.txt', 'xiooh.txt', 'rotmann2.txt', 'FlyingKyubi.txt', 'Joy_8oy.txt', 'BauHD.txt', 'CML_Justin.txt', 'MoZadaTV.txt', 'BastiGHG.txt', 'Gummibearchen.txt', 'Lord_Weibull.txt', 'VendasTM.txt', 'Stockinqs.txt', 'GlowyDusk.txt', 'Scuprum.txt', 'h4nnes.txt', 'cheesecake2901.txt', 'DrSpeed06.txt', 'Krusti.txt', 'marbrueck.txt', 'Vacted.txt', 'Janne4k.txt', 'Bartschii.txt', 'Mansuni.txt', 'SB387.txt', 'medisant.txt', 'Phoenix3000.txt', 'JOW23.txt', 'Ritokii.txt', 'Juti0n.txt', 'lvlaurin.txt', 'Bikoop.txt', 'FrozenNoah.txt', 'GeneralEnte06.txt', 'Dubbly.txt', 'revolverz.txt', 'Highsay.txt', 'ScreamingBlatz.txt', 'RyanxCole.txt', 'shellny.txt', 'TheKillerisback.txt', 'M0orey_0.txt', 'Mincheeen.txt', '2wc.txt', 'Feinberg.txt', 'Navex.txt', 'NewNormal0947.txt', 'Teesily.txt', 'SiLoHB.txt', 'Morittz.txt', 'cxl1lo.txt', 'LeMetin_.txt', 'unausgesprochen.txt', 'Freeeedom.txt', 'miridis41.txt', 'Joe3346.txt', 'Lingex.txt', 'xX_Masha_ggg_Xx9.txt', 'Julius16.txt', 'lizsyy.txt', 'camman18YT.txt', 'Jan2220.txt', 'Falke_01.txt', 'DaVinci_Son.txt', 'SatzdesPytag0ras.txt', 'Flitzi_Dino.txt', 'Wienerisch.txt', 'Seemops_8.txt', 'GermanPie.txt', 'chrisihalt.txt', 'FluffyDragon2007.txt', 'LucaaOn.txt', 'Allooy.txt', 'Chander24.txt', 'Fflopse.txt', 'bikop.txt', 'vKito.txt', 'bawskey.txt', 'RasenLP.txt', 'WirdNichtGeladen.txt', 'WuschigesEtwas.txt', 'OutcroYoutube.txt', 'HeIsJustAPoorBoy.txt', 'FlyingAutismus.txt', 'destr0yed_.txt', 'Ex4cted.txt', 'Mvsk_.txt', 'MaxOnTheRoad.txt', 'swiffle.txt', 'juvona.txt', 'Lubottus.txt', 'Nervigerr.txt', 'lolisamakun.txt', 'Martomias.txt', '20LeRe10.txt']\n",
      "processing Buntes Chaos...\n",
      "Error: Tammywood.txt does not contain any TooltipEvent data\n",
      "Error: demiu.txt does not contain any TooltipEvent data\n",
      "Error: JayMinInSane.txt does not contain any TooltipEvent data\n",
      "Error: KINT0.txt does not contain any TooltipEvent data\n",
      "Error: SmartyxD.txt does not contain any TooltipEvent data\n",
      "Error: Sower_.txt does not contain any TooltipEvent data\n",
      "Error: Lord_Weibull.txt does not contain any TooltipEvent data\n",
      "Error: Scuprum.txt does not contain any TooltipEvent data\n",
      "Error: Dubbly.txt does not contain any TooltipEvent data\n",
      "Error: bikop.txt does not contain any TooltipEvent data\n",
      "Error: destr0yed_.txt does not contain any TooltipEvent data\n",
      "Buntes Chaos processed\n",
      "['__egE.txt', 'Tammywood.txt', 'BunnyKiko.txt', 'SpeckyCut.txt', 'Hyxeed.txt', 'demiu.txt', 'SpinCrafter.txt', 'NanamiElvi.txt', '_n3d.txt', 'Sebi1801.txt', 'JayMinInSane.txt', 'Persidieus.txt', 'N3XV.txt', 'Wissender.txt', 'Gryzes.txt', 'jimmi4Life.txt', 'Gobo9.txt', 'Anni808.txt', 'LeWi_100.txt', '_Waldi_.txt', 'Grapfen.txt', 'PixlNight.txt', 'dossantosaveiro_.txt', 'agowskyy.txt', 'TheBreadHD.txt', 'Axollotel.txt', 'T_Niko_T.txt', 'Vanillinchen.txt', 'Odlaa.txt', 'D4rkCookie.txt', 'yzvm.txt', 'Tim_Voltia.txt', 'xBaumeisterin.txt', 'Ungluecklicher.txt', 'Lutorix.txt', 'Ninivee.txt', 'ArthurAlchemist.txt', 'redbrll.txt', 'Gfrasti.txt', 'Muniix.txt', 'Tomiokey.txt', 'Carl1_1.txt', 'DerAutist.txt', 'PolizeiDreamy.txt', 'xX_Dima_ggg_Xx6.txt', 'Falke23_5.txt', 'TheFabo.txt', 'DieserBear.txt', 'Picutar.txt', '2B9.txt', 'Schmaarek.txt', 'musi1999.txt', 'PumiTheCat.txt', 'HerrDante.txt', 'KakaMC.txt', 'StaudammAusHolz.txt', 'Lelouch610.txt', 'Kyuudo.txt', 'twitchparaskiill.txt', 'G0at3D.txt', 'SecretAgent_K.txt', 'KMaxN.txt', 'Sey__.txt', 'ForceFox.txt', 'toxicplace.txt', 'Gestimus.txt', 'yachayubin.txt', 'Wolkenfarmer.txt', 'y9nic.txt', 'KINT0.txt', 'zBro.txt', 'qriezmannsOpa.txt', 'Harold_Sensemann.txt', 'Pedrozockt.txt', 'MrNulfred.txt', 'Cytoox.txt', 'IchHolzDichWeg.txt', 'GingerTeddy.txt', 'Kopfradio.txt', 'loukrativ.txt', 'M0osebumps.txt', 'SmartyxD.txt', 'Kokochampo.txt', 'JennieKim.txt', 'Umgfoin.txt', 'ffawks.txt', 'byTobi.txt', 'Shiewk.txt', 'La_meleagro.txt', 'Squashgitter333.txt', 'Luxemburq.txt', 'DarkCobweb.txt', 'Sackkerl.txt', 'Sthyq.txt', 'Acidey.txt', 'Laaaachs.txt', 'HerosHD.txt', 'Lennart0911.txt', 'Gerrygames.txt', 'BusinessBent.txt', 'Simlll.txt', 'YBCM.txt', 'Txlentierter.txt', 'Dat_Klan.txt', 'Luis_XYZ.txt', 'NiklasMoWo.txt', 'MaxMitMaulkorb.txt', 'Oronor.txt', 'GamemasterNiki.txt', 'LordAlexos.txt', 'Pluto28.txt', 'GrafikKatze.txt', '_Einfallslos_.txt', 'cediiiiii_10.txt', 'Dokkkkko.txt', 'deadfiight.txt', 'Kanickelul.txt', 'crocodile1870.txt', 'Sower_.txt', 'Steavn.txt', 'EinfachEazy.txt', 'yiiq.txt', 'NotLennart.txt', 'Snitcherella.txt', 'Keenaai.txt', 'xd_Maiky.txt', 'ReichesBrot.txt', 'lolisamasan.txt', 'Raefinzs.txt', 'JOW24.txt', 'ByNetherdude.txt', 'ZweitesIch.txt', 'frutigall.txt', 'LilFueller.txt', 'xiooh.txt', 'rotmann2.txt', 'FlyingKyubi.txt', 'Joy_8oy.txt', 'BauHD.txt', 'CML_Justin.txt', 'MoZadaTV.txt', 'BastiGHG.txt', 'Gummibearchen.txt', 'Lord_Weibull.txt', 'VendasTM.txt', 'Stockinqs.txt', 'GlowyDusk.txt', 'Scuprum.txt', 'h4nnes.txt', 'cheesecake2901.txt', 'DrSpeed06.txt', 'Krusti.txt', 'marbrueck.txt', 'Vacted.txt', 'Janne4k.txt', 'Bartschii.txt', 'Mansuni.txt', 'SB387.txt', 'medisant.txt', 'Phoenix3000.txt', 'JOW23.txt', 'Ritokii.txt', 'Juti0n.txt', 'lvlaurin.txt', 'Bikoop.txt', 'FrozenNoah.txt', 'GeneralEnte06.txt', 'Dubbly.txt', 'revolverz.txt', 'Highsay.txt', 'ScreamingBlatz.txt', 'RyanxCole.txt', 'shellny.txt', 'TheKillerisback.txt', 'M0orey_0.txt', 'Mincheeen.txt', '2wc.txt', 'Feinberg.txt', 'Navex.txt', 'NewNormal0947.txt', 'Teesily.txt', 'SiLoHB.txt', 'Morittz.txt', 'cxl1lo.txt', 'LeMetin_.txt', 'unausgesprochen.txt', 'Freeeedom.txt', 'miridis41.txt', 'Joe3346.txt', 'Lingex.txt', 'xX_Masha_ggg_Xx9.txt', 'Julius16.txt', 'lizsyy.txt', 'camman18YT.txt', 'Jan2220.txt', 'Falke_01.txt', 'DaVinci_Son.txt', 'SatzdesPytag0ras.txt', 'Flitzi_Dino.txt', 'Wienerisch.txt', 'Seemops_8.txt', 'GermanPie.txt', 'chrisihalt.txt', 'FluffyDragon2007.txt', 'LucaaOn.txt', 'Allooy.txt', 'Chander24.txt', 'Fflopse.txt', 'bikop.txt', 'vKito.txt', 'bawskey.txt', 'RasenLP.txt', 'WirdNichtGeladen.txt', 'WuschigesEtwas.txt', 'OutcroYoutube.txt', 'HeIsJustAPoorBoy.txt', 'FlyingAutismus.txt', 'destr0yed_.txt', 'Ex4cted.txt', 'Mvsk_.txt', 'MaxOnTheRoad.txt', 'swiffle.txt', 'juvona.txt', 'Lubottus.txt', 'Nervigerr.txt', 'lolisamakun.txt', 'Martomias.txt', '20LeRe10.txt']\n",
      "processing Reihenfolge...\n",
      "Error: Tammywood.txt does not contain any TooltipEvent data\n",
      "Error: demiu.txt does not contain any TooltipEvent data\n",
      "Error: JayMinInSane.txt does not contain any TooltipEvent data\n",
      "Error: KINT0.txt does not contain any TooltipEvent data\n",
      "Error: SmartyxD.txt does not contain any TooltipEvent data\n",
      "Error: Sower_.txt does not contain any TooltipEvent data\n",
      "Error: Lord_Weibull.txt does not contain any TooltipEvent data\n",
      "Error: Scuprum.txt does not contain any TooltipEvent data\n",
      "Error: Dubbly.txt does not contain any TooltipEvent data\n",
      "Error: bikop.txt does not contain any TooltipEvent data\n",
      "Error: destr0yed_.txt does not contain any TooltipEvent data\n",
      "Reihenfolge processed\n",
      "['__egE.txt', 'Tammywood.txt', 'BunnyKiko.txt', 'SpeckyCut.txt', 'Hyxeed.txt', 'demiu.txt', 'SpinCrafter.txt', 'NanamiElvi.txt', '_n3d.txt', 'Sebi1801.txt', 'JayMinInSane.txt', 'Persidieus.txt', 'N3XV.txt', 'Wissender.txt', 'Gryzes.txt', 'jimmi4Life.txt', 'Gobo9.txt', 'Anni808.txt', 'LeWi_100.txt', '_Waldi_.txt', 'Grapfen.txt', 'PixlNight.txt', 'dossantosaveiro_.txt', 'agowskyy.txt', 'TheBreadHD.txt', 'Axollotel.txt', 'T_Niko_T.txt', 'Vanillinchen.txt', 'Odlaa.txt', 'D4rkCookie.txt', 'yzvm.txt', 'Tim_Voltia.txt', 'xBaumeisterin.txt', 'Ungluecklicher.txt', 'Lutorix.txt', 'Ninivee.txt', 'ArthurAlchemist.txt', 'redbrll.txt', 'Gfrasti.txt', 'Muniix.txt', 'Tomiokey.txt', 'Carl1_1.txt', 'DerAutist.txt', 'PolizeiDreamy.txt', 'xX_Dima_ggg_Xx6.txt', 'Falke23_5.txt', 'TheFabo.txt', 'DieserBear.txt', 'Picutar.txt', '2B9.txt', 'Schmaarek.txt', 'musi1999.txt', 'PumiTheCat.txt', 'HerrDante.txt', 'KakaMC.txt', 'StaudammAusHolz.txt', 'Lelouch610.txt', 'Kyuudo.txt', 'twitchparaskiill.txt', 'G0at3D.txt', 'SecretAgent_K.txt', 'KMaxN.txt', 'Sey__.txt', 'ForceFox.txt', 'toxicplace.txt', 'Gestimus.txt', 'yachayubin.txt', 'Wolkenfarmer.txt', 'y9nic.txt', 'KINT0.txt', 'zBro.txt', 'qriezmannsOpa.txt', 'Harold_Sensemann.txt', 'Pedrozockt.txt', 'MrNulfred.txt', 'Cytoox.txt', 'IchHolzDichWeg.txt', 'GingerTeddy.txt', 'Kopfradio.txt', 'loukrativ.txt', 'M0osebumps.txt', 'SmartyxD.txt', 'Kokochampo.txt', 'JennieKim.txt', 'Umgfoin.txt', 'ffawks.txt', 'byTobi.txt', 'Shiewk.txt', 'La_meleagro.txt', 'Squashgitter333.txt', 'Luxemburq.txt', 'DarkCobweb.txt', 'Sackkerl.txt', 'Sthyq.txt', 'Acidey.txt', 'Laaaachs.txt', 'HerosHD.txt', 'Lennart0911.txt', 'Gerrygames.txt', 'BusinessBent.txt', 'Simlll.txt', 'YBCM.txt', 'Txlentierter.txt', 'Dat_Klan.txt', 'Luis_XYZ.txt', 'NiklasMoWo.txt', 'MaxMitMaulkorb.txt', 'Oronor.txt', 'GamemasterNiki.txt', 'LordAlexos.txt', 'Pluto28.txt', 'GrafikKatze.txt', '_Einfallslos_.txt', 'cediiiiii_10.txt', 'Dokkkkko.txt', 'deadfiight.txt', 'Kanickelul.txt', 'crocodile1870.txt', 'Sower_.txt', 'Steavn.txt', 'EinfachEazy.txt', 'yiiq.txt', 'NotLennart.txt', 'Snitcherella.txt', 'Keenaai.txt', 'xd_Maiky.txt', 'ReichesBrot.txt', 'lolisamasan.txt', 'Raefinzs.txt', 'JOW24.txt', 'ByNetherdude.txt', 'ZweitesIch.txt', 'frutigall.txt', 'LilFueller.txt', 'xiooh.txt', 'rotmann2.txt', 'FlyingKyubi.txt', 'Joy_8oy.txt', 'BauHD.txt', 'CML_Justin.txt', 'MoZadaTV.txt', 'BastiGHG.txt', 'Gummibearchen.txt', 'Lord_Weibull.txt', 'VendasTM.txt', 'Stockinqs.txt', 'GlowyDusk.txt', 'Scuprum.txt', 'h4nnes.txt', 'cheesecake2901.txt', 'DrSpeed06.txt', 'Krusti.txt', 'marbrueck.txt', 'Vacted.txt', 'Janne4k.txt', 'Bartschii.txt', 'Mansuni.txt', 'SB387.txt', 'medisant.txt', 'Phoenix3000.txt', 'JOW23.txt', 'Ritokii.txt', 'Juti0n.txt', 'lvlaurin.txt', 'Bikoop.txt', 'FrozenNoah.txt', 'GeneralEnte06.txt', 'Dubbly.txt', 'revolverz.txt', 'Highsay.txt', 'ScreamingBlatz.txt', 'RyanxCole.txt', 'shellny.txt', 'TheKillerisback.txt', 'M0orey_0.txt', 'Mincheeen.txt', '2wc.txt', 'Feinberg.txt', 'Navex.txt', 'NewNormal0947.txt', 'Teesily.txt', 'SiLoHB.txt', 'Morittz.txt', 'cxl1lo.txt', 'LeMetin_.txt', 'unausgesprochen.txt', 'Freeeedom.txt', 'miridis41.txt', 'Joe3346.txt', 'Lingex.txt', 'xX_Masha_ggg_Xx9.txt', 'Julius16.txt', 'lizsyy.txt', 'camman18YT.txt', 'Jan2220.txt', 'Falke_01.txt', 'DaVinci_Son.txt', 'SatzdesPytag0ras.txt', 'Flitzi_Dino.txt', 'Wienerisch.txt', 'Seemops_8.txt', 'GermanPie.txt', 'chrisihalt.txt', 'FluffyDragon2007.txt', 'LucaaOn.txt', 'Allooy.txt', 'Chander24.txt', 'Fflopse.txt', 'bikop.txt', 'vKito.txt', 'bawskey.txt', 'RasenLP.txt', 'WirdNichtGeladen.txt', 'WuschigesEtwas.txt', 'OutcroYoutube.txt', 'HeIsJustAPoorBoy.txt', 'FlyingAutismus.txt', 'destr0yed_.txt', 'Ex4cted.txt', 'Mvsk_.txt', 'MaxOnTheRoad.txt', 'swiffle.txt', 'juvona.txt', 'Lubottus.txt', 'Nervigerr.txt', 'lolisamakun.txt', 'Martomias.txt', '20LeRe10.txt']\n",
      "processing Duelle...\n",
      "Error: Tammywood.txt does not contain any TooltipEvent data\n",
      "Error: demiu.txt does not contain any TooltipEvent data\n",
      "Error: JayMinInSane.txt does not contain any TooltipEvent data\n",
      "Error: KINT0.txt does not contain any TooltipEvent data\n",
      "Error: SmartyxD.txt does not contain any TooltipEvent data\n",
      "Error: Sower_.txt does not contain any TooltipEvent data\n",
      "Error: Lord_Weibull.txt does not contain any TooltipEvent data\n",
      "Error: Scuprum.txt does not contain any TooltipEvent data\n",
      "Error: Dubbly.txt does not contain any TooltipEvent data\n",
      "Error: bikop.txt does not contain any TooltipEvent data\n",
      "Error: destr0yed_.txt does not contain any TooltipEvent data\n",
      "Duelle processed\n",
      "['__egE.txt', 'Tammywood.txt', 'BunnyKiko.txt', 'SpeckyCut.txt', 'Hyxeed.txt', 'demiu.txt', 'SpinCrafter.txt', 'NanamiElvi.txt', '_n3d.txt', 'Sebi1801.txt', 'JayMinInSane.txt', 'Persidieus.txt', 'N3XV.txt', 'Wissender.txt', 'Gryzes.txt', 'jimmi4Life.txt', 'Gobo9.txt', 'Anni808.txt', 'LeWi_100.txt', '_Waldi_.txt', 'Grapfen.txt', 'PixlNight.txt', 'dossantosaveiro_.txt', 'agowskyy.txt', 'TheBreadHD.txt', 'Axollotel.txt', 'T_Niko_T.txt', 'Vanillinchen.txt', 'Odlaa.txt', 'D4rkCookie.txt', 'yzvm.txt', 'Tim_Voltia.txt', 'xBaumeisterin.txt', 'Ungluecklicher.txt', 'Lutorix.txt', 'Ninivee.txt', 'ArthurAlchemist.txt', 'redbrll.txt', 'Gfrasti.txt', 'Muniix.txt', 'Tomiokey.txt', 'Carl1_1.txt', 'DerAutist.txt', 'PolizeiDreamy.txt', 'xX_Dima_ggg_Xx6.txt', 'Falke23_5.txt', 'TheFabo.txt', 'DieserBear.txt', 'Picutar.txt', '2B9.txt', 'Schmaarek.txt', 'musi1999.txt', 'PumiTheCat.txt', 'HerrDante.txt', 'KakaMC.txt', 'StaudammAusHolz.txt', 'Lelouch610.txt', 'Kyuudo.txt', 'twitchparaskiill.txt', 'G0at3D.txt', 'SecretAgent_K.txt', 'KMaxN.txt', 'Sey__.txt', 'ForceFox.txt', 'toxicplace.txt', 'Gestimus.txt', 'yachayubin.txt', 'Wolkenfarmer.txt', 'y9nic.txt', 'KINT0.txt', 'zBro.txt', 'qriezmannsOpa.txt', 'Harold_Sensemann.txt', 'Pedrozockt.txt', 'MrNulfred.txt', 'Cytoox.txt', 'IchHolzDichWeg.txt', 'GingerTeddy.txt', 'Kopfradio.txt', 'loukrativ.txt', 'M0osebumps.txt', 'SmartyxD.txt', 'Kokochampo.txt', 'JennieKim.txt', 'Umgfoin.txt', 'ffawks.txt', 'byTobi.txt', 'Shiewk.txt', 'La_meleagro.txt', 'Squashgitter333.txt', 'Luxemburq.txt', 'DarkCobweb.txt', 'Sackkerl.txt', 'Sthyq.txt', 'Acidey.txt', 'Laaaachs.txt', 'HerosHD.txt', 'Lennart0911.txt', 'Gerrygames.txt', 'BusinessBent.txt', 'Simlll.txt', 'YBCM.txt', 'Txlentierter.txt', 'Dat_Klan.txt', 'Luis_XYZ.txt', 'NiklasMoWo.txt', 'MaxMitMaulkorb.txt', 'Oronor.txt', 'GamemasterNiki.txt', 'LordAlexos.txt', 'Pluto28.txt', 'GrafikKatze.txt', '_Einfallslos_.txt', 'cediiiiii_10.txt', 'Dokkkkko.txt', 'deadfiight.txt', 'Kanickelul.txt', 'crocodile1870.txt', 'Sower_.txt', 'Steavn.txt', 'EinfachEazy.txt', 'yiiq.txt', 'NotLennart.txt', 'Snitcherella.txt', 'Keenaai.txt', 'xd_Maiky.txt', 'ReichesBrot.txt', 'lolisamasan.txt', 'Raefinzs.txt', 'JOW24.txt', 'ByNetherdude.txt', 'ZweitesIch.txt', 'frutigall.txt', 'LilFueller.txt', 'xiooh.txt', 'rotmann2.txt', 'FlyingKyubi.txt', 'Joy_8oy.txt', 'BauHD.txt', 'CML_Justin.txt', 'MoZadaTV.txt', 'BastiGHG.txt', 'Gummibearchen.txt', 'Lord_Weibull.txt', 'VendasTM.txt', 'Stockinqs.txt', 'GlowyDusk.txt', 'Scuprum.txt', 'h4nnes.txt', 'cheesecake2901.txt', 'DrSpeed06.txt', 'Krusti.txt', 'marbrueck.txt', 'Vacted.txt', 'Janne4k.txt', 'Bartschii.txt', 'Mansuni.txt', 'SB387.txt', 'medisant.txt', 'Phoenix3000.txt', 'JOW23.txt', 'Ritokii.txt', 'Juti0n.txt', 'lvlaurin.txt', 'Bikoop.txt', 'FrozenNoah.txt', 'GeneralEnte06.txt', 'Dubbly.txt', 'revolverz.txt', 'Highsay.txt', 'ScreamingBlatz.txt', 'RyanxCole.txt', 'shellny.txt', 'TheKillerisback.txt', 'M0orey_0.txt', 'Mincheeen.txt', '2wc.txt', 'Feinberg.txt', 'Navex.txt', 'NewNormal0947.txt', 'Teesily.txt', 'SiLoHB.txt', 'Morittz.txt', 'cxl1lo.txt', 'LeMetin_.txt', 'unausgesprochen.txt', 'Freeeedom.txt', 'miridis41.txt', 'Joe3346.txt', 'Lingex.txt', 'xX_Masha_ggg_Xx9.txt', 'Julius16.txt', 'lizsyy.txt', 'camman18YT.txt', 'Jan2220.txt', 'Falke_01.txt', 'DaVinci_Son.txt', 'SatzdesPytag0ras.txt', 'Flitzi_Dino.txt', 'Wienerisch.txt', 'Seemops_8.txt', 'GermanPie.txt', 'chrisihalt.txt', 'FluffyDragon2007.txt', 'LucaaOn.txt', 'Allooy.txt', 'Chander24.txt', 'Fflopse.txt', 'bikop.txt', 'vKito.txt', 'bawskey.txt', 'RasenLP.txt', 'WirdNichtGeladen.txt', 'WuschigesEtwas.txt', 'OutcroYoutube.txt', 'HeIsJustAPoorBoy.txt', 'FlyingAutismus.txt', 'destr0yed_.txt', 'Ex4cted.txt', 'Mvsk_.txt', 'MaxOnTheRoad.txt', 'swiffle.txt', 'juvona.txt', 'Lubottus.txt', 'Nervigerr.txt', 'lolisamakun.txt', 'Martomias.txt', '20LeRe10.txt']\n",
      "processing Turmroulette...\n",
      "Error: Tammywood.txt does not contain any TooltipEvent data\n",
      "Error: demiu.txt does not contain any TooltipEvent data\n",
      "Error: JayMinInSane.txt does not contain any TooltipEvent data\n",
      "Error: KINT0.txt does not contain any TooltipEvent data\n",
      "Error: SmartyxD.txt does not contain any TooltipEvent data\n",
      "Error: Sower_.txt does not contain any TooltipEvent data\n",
      "Error: Lord_Weibull.txt does not contain any TooltipEvent data\n",
      "Error: Scuprum.txt does not contain any TooltipEvent data\n",
      "Error: Dubbly.txt does not contain any TooltipEvent data\n",
      "Error: bikop.txt does not contain any TooltipEvent data\n",
      "Error: destr0yed_.txt does not contain any TooltipEvent data\n",
      "Turmroulette processed\n",
      "['__egE.txt', 'Tammywood.txt', 'BunnyKiko.txt', 'SpeckyCut.txt', 'Hyxeed.txt', 'demiu.txt', 'SpinCrafter.txt', 'NanamiElvi.txt', '_n3d.txt', 'Sebi1801.txt', 'JayMinInSane.txt', 'Persidieus.txt', 'N3XV.txt', 'Wissender.txt', 'Gryzes.txt', 'jimmi4Life.txt', 'Gobo9.txt', 'Anni808.txt', 'LeWi_100.txt', '_Waldi_.txt', 'Grapfen.txt', 'PixlNight.txt', 'dossantosaveiro_.txt', 'agowskyy.txt', 'TheBreadHD.txt', 'Axollotel.txt', 'T_Niko_T.txt', 'Vanillinchen.txt', 'Odlaa.txt', 'D4rkCookie.txt', 'yzvm.txt', 'Tim_Voltia.txt', 'xBaumeisterin.txt', 'Ungluecklicher.txt', 'Lutorix.txt', 'Ninivee.txt', 'ArthurAlchemist.txt', 'redbrll.txt', 'Gfrasti.txt', 'Muniix.txt', 'Tomiokey.txt', 'Carl1_1.txt', 'DerAutist.txt', 'PolizeiDreamy.txt', 'xX_Dima_ggg_Xx6.txt', 'Falke23_5.txt', 'TheFabo.txt', 'DieserBear.txt', 'Picutar.txt', '2B9.txt', 'Schmaarek.txt', 'musi1999.txt', 'PumiTheCat.txt', 'HerrDante.txt', 'KakaMC.txt', 'StaudammAusHolz.txt', 'Lelouch610.txt', 'Kyuudo.txt', 'twitchparaskiill.txt', 'G0at3D.txt', 'SecretAgent_K.txt', 'KMaxN.txt', 'Sey__.txt', 'ForceFox.txt', 'toxicplace.txt', 'Gestimus.txt', 'yachayubin.txt', 'Wolkenfarmer.txt', 'y9nic.txt', 'KINT0.txt', 'zBro.txt', 'qriezmannsOpa.txt', 'Harold_Sensemann.txt', 'Pedrozockt.txt', 'MrNulfred.txt', 'Cytoox.txt', 'IchHolzDichWeg.txt', 'GingerTeddy.txt', 'Kopfradio.txt', 'loukrativ.txt', 'M0osebumps.txt', 'SmartyxD.txt', 'Kokochampo.txt', 'JennieKim.txt', 'Umgfoin.txt', 'ffawks.txt', 'byTobi.txt', 'Shiewk.txt', 'La_meleagro.txt', 'Squashgitter333.txt', 'Luxemburq.txt', 'DarkCobweb.txt', 'Sackkerl.txt', 'Sthyq.txt', 'Acidey.txt', 'Laaaachs.txt', 'HerosHD.txt', 'Lennart0911.txt', 'Gerrygames.txt', 'BusinessBent.txt', 'Simlll.txt', 'YBCM.txt', 'Txlentierter.txt', 'Dat_Klan.txt', 'Luis_XYZ.txt', 'NiklasMoWo.txt', 'MaxMitMaulkorb.txt', 'Oronor.txt', 'GamemasterNiki.txt', 'LordAlexos.txt', 'Pluto28.txt', 'GrafikKatze.txt', '_Einfallslos_.txt', 'cediiiiii_10.txt', 'Dokkkkko.txt', 'deadfiight.txt', 'Kanickelul.txt', 'crocodile1870.txt', 'Sower_.txt', 'Steavn.txt', 'EinfachEazy.txt', 'yiiq.txt', 'NotLennart.txt', 'Snitcherella.txt', 'Keenaai.txt', 'xd_Maiky.txt', 'ReichesBrot.txt', 'lolisamasan.txt', 'Raefinzs.txt', 'JOW24.txt', 'ByNetherdude.txt', 'ZweitesIch.txt', 'frutigall.txt', 'LilFueller.txt', 'xiooh.txt', 'rotmann2.txt', 'FlyingKyubi.txt', 'Joy_8oy.txt', 'BauHD.txt', 'CML_Justin.txt', 'MoZadaTV.txt', 'BastiGHG.txt', 'Gummibearchen.txt', 'Lord_Weibull.txt', 'VendasTM.txt', 'Stockinqs.txt', 'GlowyDusk.txt', 'Scuprum.txt', 'h4nnes.txt', 'cheesecake2901.txt', 'DrSpeed06.txt', 'Krusti.txt', 'marbrueck.txt', 'Vacted.txt', 'Janne4k.txt', 'Bartschii.txt', 'Mansuni.txt', 'SB387.txt', 'medisant.txt', 'Phoenix3000.txt', 'JOW23.txt', 'Ritokii.txt', 'Juti0n.txt', 'lvlaurin.txt', 'Bikoop.txt', 'FrozenNoah.txt', 'GeneralEnte06.txt', 'Dubbly.txt', 'revolverz.txt', 'Highsay.txt', 'ScreamingBlatz.txt', 'RyanxCole.txt', 'shellny.txt', 'TheKillerisback.txt', 'M0orey_0.txt', 'Mincheeen.txt', '2wc.txt', 'Feinberg.txt', 'Navex.txt', 'NewNormal0947.txt', 'Teesily.txt', 'SiLoHB.txt', 'Morittz.txt', 'cxl1lo.txt', 'LeMetin_.txt', 'unausgesprochen.txt', 'Freeeedom.txt', 'miridis41.txt', 'Joe3346.txt', 'Lingex.txt', 'xX_Masha_ggg_Xx9.txt', 'Julius16.txt', 'lizsyy.txt', 'camman18YT.txt', 'Jan2220.txt', 'Falke_01.txt', 'DaVinci_Son.txt', 'SatzdesPytag0ras.txt', 'Flitzi_Dino.txt', 'Wienerisch.txt', 'Seemops_8.txt', 'GermanPie.txt', 'chrisihalt.txt', 'FluffyDragon2007.txt', 'LucaaOn.txt', 'Allooy.txt', 'Chander24.txt', 'Fflopse.txt', 'bikop.txt', 'vKito.txt', 'bawskey.txt', 'RasenLP.txt', 'WirdNichtGeladen.txt', 'WuschigesEtwas.txt', 'OutcroYoutube.txt', 'HeIsJustAPoorBoy.txt', 'FlyingAutismus.txt', 'destr0yed_.txt', 'Ex4cted.txt', 'Mvsk_.txt', 'MaxOnTheRoad.txt', 'swiffle.txt', 'juvona.txt', 'Lubottus.txt', 'Nervigerr.txt', 'lolisamakun.txt', 'Martomias.txt', '20LeRe10.txt']\n",
      "processing Wettrennen...\n",
      "Error: Tammywood.txt does not contain any TooltipEvent data\n",
      "Error: demiu.txt does not contain any TooltipEvent data\n",
      "Error: JayMinInSane.txt does not contain any TooltipEvent data\n",
      "Error: KINT0.txt does not contain any TooltipEvent data\n",
      "Error: SmartyxD.txt does not contain any TooltipEvent data\n",
      "Error: Sower_.txt does not contain any TooltipEvent data\n",
      "Error: Lord_Weibull.txt does not contain any TooltipEvent data\n",
      "Error: Scuprum.txt does not contain any TooltipEvent data\n",
      "Error: Dubbly.txt does not contain any TooltipEvent data\n",
      "Error: bikop.txt does not contain any TooltipEvent data\n",
      "Error: destr0yed_.txt does not contain any TooltipEvent data\n",
      "Wettrennen processed\n",
      "['__egE.txt', 'Tammywood.txt', 'BunnyKiko.txt', 'SpeckyCut.txt', 'Hyxeed.txt', 'demiu.txt', 'SpinCrafter.txt', 'NanamiElvi.txt', '_n3d.txt', 'Sebi1801.txt', 'JayMinInSane.txt', 'Persidieus.txt', 'N3XV.txt', 'Wissender.txt', 'Gryzes.txt', 'jimmi4Life.txt', 'Gobo9.txt', 'Anni808.txt', 'LeWi_100.txt', '_Waldi_.txt', 'Grapfen.txt', 'PixlNight.txt', 'dossantosaveiro_.txt', 'agowskyy.txt', 'TheBreadHD.txt', 'Axollotel.txt', 'T_Niko_T.txt', 'Vanillinchen.txt', 'Odlaa.txt', 'D4rkCookie.txt', 'yzvm.txt', 'Tim_Voltia.txt', 'xBaumeisterin.txt', 'Ungluecklicher.txt', 'Lutorix.txt', 'Ninivee.txt', 'ArthurAlchemist.txt', 'redbrll.txt', 'Gfrasti.txt', 'Muniix.txt', 'Tomiokey.txt', 'Carl1_1.txt', 'DerAutist.txt', 'PolizeiDreamy.txt', 'xX_Dima_ggg_Xx6.txt', 'Falke23_5.txt', 'TheFabo.txt', 'DieserBear.txt', 'Picutar.txt', '2B9.txt', 'Schmaarek.txt', 'musi1999.txt', 'PumiTheCat.txt', 'HerrDante.txt', 'KakaMC.txt', 'StaudammAusHolz.txt', 'Lelouch610.txt', 'Kyuudo.txt', 'twitchparaskiill.txt', 'G0at3D.txt', 'SecretAgent_K.txt', 'KMaxN.txt', 'Sey__.txt', 'ForceFox.txt', 'toxicplace.txt', 'Gestimus.txt', 'yachayubin.txt', 'Wolkenfarmer.txt', 'y9nic.txt', 'KINT0.txt', 'zBro.txt', 'qriezmannsOpa.txt', 'Harold_Sensemann.txt', 'Pedrozockt.txt', 'MrNulfred.txt', 'Cytoox.txt', 'IchHolzDichWeg.txt', 'GingerTeddy.txt', 'Kopfradio.txt', 'loukrativ.txt', 'M0osebumps.txt', 'SmartyxD.txt', 'Kokochampo.txt', 'JennieKim.txt', 'Umgfoin.txt', 'ffawks.txt', 'byTobi.txt', 'Shiewk.txt', 'La_meleagro.txt', 'Squashgitter333.txt', 'Luxemburq.txt', 'DarkCobweb.txt', 'Sackkerl.txt', 'Sthyq.txt', 'Acidey.txt', 'Laaaachs.txt', 'HerosHD.txt', 'Lennart0911.txt', 'Gerrygames.txt', 'BusinessBent.txt', 'Simlll.txt', 'YBCM.txt', 'Txlentierter.txt', 'Dat_Klan.txt', 'Luis_XYZ.txt', 'NiklasMoWo.txt', 'MaxMitMaulkorb.txt', 'Oronor.txt', 'GamemasterNiki.txt', 'LordAlexos.txt', 'Pluto28.txt', 'GrafikKatze.txt', '_Einfallslos_.txt', 'cediiiiii_10.txt', 'Dokkkkko.txt', 'deadfiight.txt', 'Kanickelul.txt', 'crocodile1870.txt', 'Sower_.txt', 'Steavn.txt', 'EinfachEazy.txt', 'yiiq.txt', 'NotLennart.txt', 'Snitcherella.txt', 'Keenaai.txt', 'xd_Maiky.txt', 'ReichesBrot.txt', 'lolisamasan.txt', 'Raefinzs.txt', 'JOW24.txt', 'ByNetherdude.txt', 'ZweitesIch.txt', 'frutigall.txt', 'LilFueller.txt', 'xiooh.txt', 'rotmann2.txt', 'FlyingKyubi.txt', 'Joy_8oy.txt', 'BauHD.txt', 'CML_Justin.txt', 'MoZadaTV.txt', 'BastiGHG.txt', 'Gummibearchen.txt', 'Lord_Weibull.txt', 'VendasTM.txt', 'Stockinqs.txt', 'GlowyDusk.txt', 'Scuprum.txt', 'h4nnes.txt', 'cheesecake2901.txt', 'DrSpeed06.txt', 'Krusti.txt', 'marbrueck.txt', 'Vacted.txt', 'Janne4k.txt', 'Bartschii.txt', 'Mansuni.txt', 'SB387.txt', 'medisant.txt', 'Phoenix3000.txt', 'JOW23.txt', 'Ritokii.txt', 'Juti0n.txt', 'lvlaurin.txt', 'Bikoop.txt', 'FrozenNoah.txt', 'GeneralEnte06.txt', 'Dubbly.txt', 'revolverz.txt', 'Highsay.txt', 'ScreamingBlatz.txt', 'RyanxCole.txt', 'shellny.txt', 'TheKillerisback.txt', 'M0orey_0.txt', 'Mincheeen.txt', '2wc.txt', 'Feinberg.txt', 'Navex.txt', 'NewNormal0947.txt', 'Teesily.txt', 'SiLoHB.txt', 'Morittz.txt', 'cxl1lo.txt', 'LeMetin_.txt', 'unausgesprochen.txt', 'Freeeedom.txt', 'miridis41.txt', 'Joe3346.txt', 'Lingex.txt', 'xX_Masha_ggg_Xx9.txt', 'Julius16.txt', 'lizsyy.txt', 'camman18YT.txt', 'Jan2220.txt', 'Falke_01.txt', 'DaVinci_Son.txt', 'SatzdesPytag0ras.txt', 'Flitzi_Dino.txt', 'Wienerisch.txt', 'Seemops_8.txt', 'GermanPie.txt', 'chrisihalt.txt', 'FluffyDragon2007.txt', 'LucaaOn.txt', 'Allooy.txt', 'Chander24.txt', 'Fflopse.txt', 'bikop.txt', 'vKito.txt', 'bawskey.txt', 'RasenLP.txt', 'WirdNichtGeladen.txt', 'WuschigesEtwas.txt', 'OutcroYoutube.txt', 'HeIsJustAPoorBoy.txt', 'FlyingAutismus.txt', 'destr0yed_.txt', 'Ex4cted.txt', 'Mvsk_.txt', 'MaxOnTheRoad.txt', 'swiffle.txt', 'juvona.txt', 'Lubottus.txt', 'Nervigerr.txt', 'lolisamakun.txt', 'Martomias.txt', '20LeRe10.txt']\n",
      "processing Parkour...\n",
      "Error: Tammywood.txt does not contain any TooltipEvent data\n",
      "Error: demiu.txt does not contain any TooltipEvent data\n",
      "Error: JayMinInSane.txt does not contain any TooltipEvent data\n",
      "Error: KINT0.txt does not contain any TooltipEvent data\n",
      "Error: SmartyxD.txt does not contain any TooltipEvent data\n",
      "Error: Sower_.txt does not contain any TooltipEvent data\n",
      "Error: Lord_Weibull.txt does not contain any TooltipEvent data\n",
      "Error: Scuprum.txt does not contain any TooltipEvent data\n",
      "Error: Dubbly.txt does not contain any TooltipEvent data\n",
      "Error: bikop.txt does not contain any TooltipEvent data\n",
      "Error: destr0yed_.txt does not contain any TooltipEvent data\n",
      "Parkour processed\n",
      "['__egE.txt', 'Tammywood.txt', 'BunnyKiko.txt', 'SpeckyCut.txt', 'Hyxeed.txt', 'demiu.txt', 'SpinCrafter.txt', 'NanamiElvi.txt', '_n3d.txt', 'Sebi1801.txt', 'JayMinInSane.txt', 'Persidieus.txt', 'N3XV.txt', 'Wissender.txt', 'Gryzes.txt', 'jimmi4Life.txt', 'Gobo9.txt', 'Anni808.txt', 'LeWi_100.txt', '_Waldi_.txt', 'Grapfen.txt', 'PixlNight.txt', 'dossantosaveiro_.txt', 'agowskyy.txt', 'TheBreadHD.txt', 'Axollotel.txt', 'T_Niko_T.txt', 'Vanillinchen.txt', 'Odlaa.txt', 'D4rkCookie.txt', 'yzvm.txt', 'Tim_Voltia.txt', 'xBaumeisterin.txt', 'Ungluecklicher.txt', 'Lutorix.txt', 'Ninivee.txt', 'ArthurAlchemist.txt', 'redbrll.txt', 'Gfrasti.txt', 'Muniix.txt', 'Tomiokey.txt', 'Carl1_1.txt', 'DerAutist.txt', 'PolizeiDreamy.txt', 'xX_Dima_ggg_Xx6.txt', 'Falke23_5.txt', 'TheFabo.txt', 'DieserBear.txt', 'Picutar.txt', '2B9.txt', 'Schmaarek.txt', 'musi1999.txt', 'PumiTheCat.txt', 'HerrDante.txt', 'KakaMC.txt', 'StaudammAusHolz.txt', 'Lelouch610.txt', 'Kyuudo.txt', 'twitchparaskiill.txt', 'G0at3D.txt', 'SecretAgent_K.txt', 'KMaxN.txt', 'Sey__.txt', 'ForceFox.txt', 'toxicplace.txt', 'Gestimus.txt', 'yachayubin.txt', 'Wolkenfarmer.txt', 'y9nic.txt', 'KINT0.txt', 'zBro.txt', 'qriezmannsOpa.txt', 'Harold_Sensemann.txt', 'Pedrozockt.txt', 'MrNulfred.txt', 'Cytoox.txt', 'IchHolzDichWeg.txt', 'GingerTeddy.txt', 'Kopfradio.txt', 'loukrativ.txt', 'M0osebumps.txt', 'SmartyxD.txt', 'Kokochampo.txt', 'JennieKim.txt', 'Umgfoin.txt', 'ffawks.txt', 'byTobi.txt', 'Shiewk.txt', 'La_meleagro.txt', 'Squashgitter333.txt', 'Luxemburq.txt', 'DarkCobweb.txt', 'Sackkerl.txt', 'Sthyq.txt', 'Acidey.txt', 'Laaaachs.txt', 'HerosHD.txt', 'Lennart0911.txt', 'Gerrygames.txt', 'BusinessBent.txt', 'Simlll.txt', 'YBCM.txt', 'Txlentierter.txt', 'Dat_Klan.txt', 'Luis_XYZ.txt', 'NiklasMoWo.txt', 'MaxMitMaulkorb.txt', 'Oronor.txt', 'GamemasterNiki.txt', 'LordAlexos.txt', 'Pluto28.txt', 'GrafikKatze.txt', '_Einfallslos_.txt', 'cediiiiii_10.txt', 'Dokkkkko.txt', 'deadfiight.txt', 'Kanickelul.txt', 'crocodile1870.txt', 'Sower_.txt', 'Steavn.txt', 'EinfachEazy.txt', 'yiiq.txt', 'NotLennart.txt', 'Snitcherella.txt', 'Keenaai.txt', 'xd_Maiky.txt', 'ReichesBrot.txt', 'lolisamasan.txt', 'Raefinzs.txt', 'JOW24.txt', 'ByNetherdude.txt', 'ZweitesIch.txt', 'frutigall.txt', 'LilFueller.txt', 'xiooh.txt', 'rotmann2.txt', 'FlyingKyubi.txt', 'Joy_8oy.txt', 'BauHD.txt', 'CML_Justin.txt', 'MoZadaTV.txt', 'BastiGHG.txt', 'Gummibearchen.txt', 'Lord_Weibull.txt', 'VendasTM.txt', 'Stockinqs.txt', 'GlowyDusk.txt', 'Scuprum.txt', 'h4nnes.txt', 'cheesecake2901.txt', 'DrSpeed06.txt', 'Krusti.txt', 'marbrueck.txt', 'Vacted.txt', 'Janne4k.txt', 'Bartschii.txt', 'Mansuni.txt', 'SB387.txt', 'medisant.txt', 'Phoenix3000.txt', 'JOW23.txt', 'Ritokii.txt', 'Juti0n.txt', 'lvlaurin.txt', 'Bikoop.txt', 'FrozenNoah.txt', 'GeneralEnte06.txt', 'Dubbly.txt', 'revolverz.txt', 'Highsay.txt', 'ScreamingBlatz.txt', 'RyanxCole.txt', 'shellny.txt', 'TheKillerisback.txt', 'M0orey_0.txt', 'Mincheeen.txt', '2wc.txt', 'Feinberg.txt', 'Navex.txt', 'NewNormal0947.txt', 'Teesily.txt', 'SiLoHB.txt', 'Morittz.txt', 'cxl1lo.txt', 'LeMetin_.txt', 'unausgesprochen.txt', 'Freeeedom.txt', 'miridis41.txt', 'Joe3346.txt', 'Lingex.txt', 'xX_Masha_ggg_Xx9.txt', 'Julius16.txt', 'lizsyy.txt', 'camman18YT.txt', 'Jan2220.txt', 'Falke_01.txt', 'DaVinci_Son.txt', 'SatzdesPytag0ras.txt', 'Flitzi_Dino.txt', 'Wienerisch.txt', 'Seemops_8.txt', 'GermanPie.txt', 'chrisihalt.txt', 'FluffyDragon2007.txt', 'LucaaOn.txt', 'Allooy.txt', 'Chander24.txt', 'Fflopse.txt', 'bikop.txt', 'vKito.txt', 'bawskey.txt', 'RasenLP.txt', 'WirdNichtGeladen.txt', 'WuschigesEtwas.txt', 'OutcroYoutube.txt', 'HeIsJustAPoorBoy.txt', 'FlyingAutismus.txt', 'destr0yed_.txt', 'Ex4cted.txt', 'Mvsk_.txt', 'MaxOnTheRoad.txt', 'swiffle.txt', 'juvona.txt', 'Lubottus.txt', 'Nervigerr.txt', 'lolisamakun.txt', 'Martomias.txt', '20LeRe10.txt']\n",
      "processing Pferderennen...\n",
      "Error: Tammywood.txt does not contain any TooltipEvent data\n",
      "Error: demiu.txt does not contain any TooltipEvent data\n",
      "Error: JayMinInSane.txt does not contain any TooltipEvent data\n",
      "Error: KINT0.txt does not contain any TooltipEvent data\n",
      "Error: SmartyxD.txt does not contain any TooltipEvent data\n",
      "Error: Sower_.txt does not contain any TooltipEvent data\n",
      "Error: Lord_Weibull.txt does not contain any TooltipEvent data\n",
      "Error: Scuprum.txt does not contain any TooltipEvent data\n",
      "Error: Dubbly.txt does not contain any TooltipEvent data\n",
      "Error: bikop.txt does not contain any TooltipEvent data\n",
      "Error: destr0yed_.txt does not contain any TooltipEvent data\n",
      "Pferderennen processed\n",
      "['__egE.txt', 'Tammywood.txt', 'BunnyKiko.txt', 'SpeckyCut.txt', 'Hyxeed.txt', 'demiu.txt', 'SpinCrafter.txt', 'NanamiElvi.txt', '_n3d.txt', 'Sebi1801.txt', 'JayMinInSane.txt', 'Persidieus.txt', 'N3XV.txt', 'Wissender.txt', 'Gryzes.txt', 'jimmi4Life.txt', 'Gobo9.txt', 'Anni808.txt', 'LeWi_100.txt', '_Waldi_.txt', 'Grapfen.txt', 'PixlNight.txt', 'dossantosaveiro_.txt', 'agowskyy.txt', 'TheBreadHD.txt', 'Axollotel.txt', 'T_Niko_T.txt', 'Vanillinchen.txt', 'Odlaa.txt', 'D4rkCookie.txt', 'yzvm.txt', 'Tim_Voltia.txt', 'xBaumeisterin.txt', 'Ungluecklicher.txt', 'Lutorix.txt', 'Ninivee.txt', 'ArthurAlchemist.txt', 'redbrll.txt', 'Gfrasti.txt', 'Muniix.txt', 'Tomiokey.txt', 'Carl1_1.txt', 'DerAutist.txt', 'PolizeiDreamy.txt', 'xX_Dima_ggg_Xx6.txt', 'Falke23_5.txt', 'TheFabo.txt', 'DieserBear.txt', 'Picutar.txt', '2B9.txt', 'Schmaarek.txt', 'musi1999.txt', 'PumiTheCat.txt', 'HerrDante.txt', 'KakaMC.txt', 'StaudammAusHolz.txt', 'Lelouch610.txt', 'Kyuudo.txt', 'twitchparaskiill.txt', 'G0at3D.txt', 'SecretAgent_K.txt', 'KMaxN.txt', 'Sey__.txt', 'ForceFox.txt', 'toxicplace.txt', 'Gestimus.txt', 'yachayubin.txt', 'Wolkenfarmer.txt', 'y9nic.txt', 'KINT0.txt', 'zBro.txt', 'qriezmannsOpa.txt', 'Harold_Sensemann.txt', 'Pedrozockt.txt', 'MrNulfred.txt', 'Cytoox.txt', 'IchHolzDichWeg.txt', 'GingerTeddy.txt', 'Kopfradio.txt', 'loukrativ.txt', 'M0osebumps.txt', 'SmartyxD.txt', 'Kokochampo.txt', 'JennieKim.txt', 'Umgfoin.txt', 'ffawks.txt', 'byTobi.txt', 'Shiewk.txt', 'La_meleagro.txt', 'Squashgitter333.txt', 'Luxemburq.txt', 'DarkCobweb.txt', 'Sackkerl.txt', 'Sthyq.txt', 'Acidey.txt', 'Laaaachs.txt', 'HerosHD.txt', 'Lennart0911.txt', 'Gerrygames.txt', 'BusinessBent.txt', 'Simlll.txt', 'YBCM.txt', 'Txlentierter.txt', 'Dat_Klan.txt', 'Luis_XYZ.txt', 'NiklasMoWo.txt', 'MaxMitMaulkorb.txt', 'Oronor.txt', 'GamemasterNiki.txt', 'LordAlexos.txt', 'Pluto28.txt', 'GrafikKatze.txt', '_Einfallslos_.txt', 'cediiiiii_10.txt', 'Dokkkkko.txt', 'deadfiight.txt', 'Kanickelul.txt', 'crocodile1870.txt', 'Sower_.txt', 'Steavn.txt', 'EinfachEazy.txt', 'yiiq.txt', 'NotLennart.txt', 'Snitcherella.txt', 'Keenaai.txt', 'xd_Maiky.txt', 'ReichesBrot.txt', 'lolisamasan.txt', 'Raefinzs.txt', 'JOW24.txt', 'ByNetherdude.txt', 'ZweitesIch.txt', 'frutigall.txt', 'LilFueller.txt', 'xiooh.txt', 'rotmann2.txt', 'FlyingKyubi.txt', 'Joy_8oy.txt', 'BauHD.txt', 'CML_Justin.txt', 'MoZadaTV.txt', 'BastiGHG.txt', 'Gummibearchen.txt', 'Lord_Weibull.txt', 'VendasTM.txt', 'Stockinqs.txt', 'GlowyDusk.txt', 'Scuprum.txt', 'h4nnes.txt', 'cheesecake2901.txt', 'DrSpeed06.txt', 'Krusti.txt', 'marbrueck.txt', 'Vacted.txt', 'Janne4k.txt', 'Bartschii.txt', 'Mansuni.txt', 'SB387.txt', 'medisant.txt', 'Phoenix3000.txt', 'JOW23.txt', 'Ritokii.txt', 'Juti0n.txt', 'lvlaurin.txt', 'Bikoop.txt', 'FrozenNoah.txt', 'GeneralEnte06.txt', 'Dubbly.txt', 'revolverz.txt', 'Highsay.txt', 'ScreamingBlatz.txt', 'RyanxCole.txt', 'shellny.txt', 'TheKillerisback.txt', 'M0orey_0.txt', 'Mincheeen.txt', '2wc.txt', 'Feinberg.txt', 'Navex.txt', 'NewNormal0947.txt', 'Teesily.txt', 'SiLoHB.txt', 'Morittz.txt', 'cxl1lo.txt', 'LeMetin_.txt', 'unausgesprochen.txt', 'Freeeedom.txt', 'miridis41.txt', 'Joe3346.txt', 'Lingex.txt', 'xX_Masha_ggg_Xx9.txt', 'Julius16.txt', 'lizsyy.txt', 'camman18YT.txt', 'Jan2220.txt', 'Falke_01.txt', 'DaVinci_Son.txt', 'SatzdesPytag0ras.txt', 'Flitzi_Dino.txt', 'Wienerisch.txt', 'Seemops_8.txt', 'GermanPie.txt', 'chrisihalt.txt', 'FluffyDragon2007.txt', 'LucaaOn.txt', 'Allooy.txt', 'Chander24.txt', 'Fflopse.txt', 'bikop.txt', 'vKito.txt', 'bawskey.txt', 'RasenLP.txt', 'WirdNichtGeladen.txt', 'WuschigesEtwas.txt', 'OutcroYoutube.txt', 'HeIsJustAPoorBoy.txt', 'FlyingAutismus.txt', 'destr0yed_.txt', 'Ex4cted.txt', 'Mvsk_.txt', 'MaxOnTheRoad.txt', 'swiffle.txt', 'juvona.txt', 'Lubottus.txt', 'Nervigerr.txt', 'lolisamakun.txt', 'Martomias.txt', '20LeRe10.txt']\n",
      "processing Drachenflucht...\n",
      "Error: Tammywood.txt does not contain any TooltipEvent data\n",
      "Error: demiu.txt does not contain any TooltipEvent data\n",
      "Error: JayMinInSane.txt does not contain any TooltipEvent data\n",
      "Error: KINT0.txt does not contain any TooltipEvent data\n",
      "Error: SmartyxD.txt does not contain any TooltipEvent data\n",
      "Error: Sower_.txt does not contain any TooltipEvent data\n",
      "Error: Lord_Weibull.txt does not contain any TooltipEvent data\n",
      "Error: Scuprum.txt does not contain any TooltipEvent data\n",
      "Error: Dubbly.txt does not contain any TooltipEvent data\n",
      "Error: bikop.txt does not contain any TooltipEvent data\n",
      "Error: destr0yed_.txt does not contain any TooltipEvent data\n",
      "Drachenflucht processed\n",
      "['__egE.txt', 'Tammywood.txt', 'BunnyKiko.txt', 'SpeckyCut.txt', 'Hyxeed.txt', 'demiu.txt', 'SpinCrafter.txt', 'NanamiElvi.txt', '_n3d.txt', 'Sebi1801.txt', 'JayMinInSane.txt', 'Persidieus.txt', 'N3XV.txt', 'Wissender.txt', 'Gryzes.txt', 'jimmi4Life.txt', 'Gobo9.txt', 'Anni808.txt', 'LeWi_100.txt', '_Waldi_.txt', 'Grapfen.txt', 'PixlNight.txt', 'dossantosaveiro_.txt', 'agowskyy.txt', 'TheBreadHD.txt', 'Axollotel.txt', 'T_Niko_T.txt', 'Vanillinchen.txt', 'Odlaa.txt', 'D4rkCookie.txt', 'yzvm.txt', 'Tim_Voltia.txt', 'xBaumeisterin.txt', 'Ungluecklicher.txt', 'Lutorix.txt', 'Ninivee.txt', 'ArthurAlchemist.txt', 'redbrll.txt', 'Gfrasti.txt', 'Muniix.txt', 'Tomiokey.txt', 'Carl1_1.txt', 'DerAutist.txt', 'PolizeiDreamy.txt', 'xX_Dima_ggg_Xx6.txt', 'Falke23_5.txt', 'TheFabo.txt', 'DieserBear.txt', 'Picutar.txt', '2B9.txt', 'Schmaarek.txt', 'musi1999.txt', 'PumiTheCat.txt', 'HerrDante.txt', 'KakaMC.txt', 'StaudammAusHolz.txt', 'Lelouch610.txt', 'Kyuudo.txt', 'twitchparaskiill.txt', 'G0at3D.txt', 'SecretAgent_K.txt', 'KMaxN.txt', 'Sey__.txt', 'ForceFox.txt', 'toxicplace.txt', 'Gestimus.txt', 'yachayubin.txt', 'Wolkenfarmer.txt', 'y9nic.txt', 'KINT0.txt', 'zBro.txt', 'qriezmannsOpa.txt', 'Harold_Sensemann.txt', 'Pedrozockt.txt', 'MrNulfred.txt', 'Cytoox.txt', 'IchHolzDichWeg.txt', 'GingerTeddy.txt', 'Kopfradio.txt', 'loukrativ.txt', 'M0osebumps.txt', 'SmartyxD.txt', 'Kokochampo.txt', 'JennieKim.txt', 'Umgfoin.txt', 'ffawks.txt', 'byTobi.txt', 'Shiewk.txt', 'La_meleagro.txt', 'Squashgitter333.txt', 'Luxemburq.txt', 'DarkCobweb.txt', 'Sackkerl.txt', 'Sthyq.txt', 'Acidey.txt', 'Laaaachs.txt', 'HerosHD.txt', 'Lennart0911.txt', 'Gerrygames.txt', 'BusinessBent.txt', 'Simlll.txt', 'YBCM.txt', 'Txlentierter.txt', 'Dat_Klan.txt', 'Luis_XYZ.txt', 'NiklasMoWo.txt', 'MaxMitMaulkorb.txt', 'Oronor.txt', 'GamemasterNiki.txt', 'LordAlexos.txt', 'Pluto28.txt', 'GrafikKatze.txt', '_Einfallslos_.txt', 'cediiiiii_10.txt', 'Dokkkkko.txt', 'deadfiight.txt', 'Kanickelul.txt', 'crocodile1870.txt', 'Sower_.txt', 'Steavn.txt', 'EinfachEazy.txt', 'yiiq.txt', 'NotLennart.txt', 'Snitcherella.txt', 'Keenaai.txt', 'xd_Maiky.txt', 'ReichesBrot.txt', 'lolisamasan.txt', 'Raefinzs.txt', 'JOW24.txt', 'ByNetherdude.txt', 'ZweitesIch.txt', 'frutigall.txt', 'LilFueller.txt', 'xiooh.txt', 'rotmann2.txt', 'FlyingKyubi.txt', 'Joy_8oy.txt', 'BauHD.txt', 'CML_Justin.txt', 'MoZadaTV.txt', 'BastiGHG.txt', 'Gummibearchen.txt', 'Lord_Weibull.txt', 'VendasTM.txt', 'Stockinqs.txt', 'GlowyDusk.txt', 'Scuprum.txt', 'h4nnes.txt', 'cheesecake2901.txt', 'DrSpeed06.txt', 'Krusti.txt', 'marbrueck.txt', 'Vacted.txt', 'Janne4k.txt', 'Bartschii.txt', 'Mansuni.txt', 'SB387.txt', 'medisant.txt', 'Phoenix3000.txt', 'JOW23.txt', 'Ritokii.txt', 'Juti0n.txt', 'lvlaurin.txt', 'Bikoop.txt', 'FrozenNoah.txt', 'GeneralEnte06.txt', 'Dubbly.txt', 'revolverz.txt', 'Highsay.txt', 'ScreamingBlatz.txt', 'RyanxCole.txt', 'shellny.txt', 'TheKillerisback.txt', 'M0orey_0.txt', 'Mincheeen.txt', '2wc.txt', 'Feinberg.txt', 'Navex.txt', 'NewNormal0947.txt', 'Teesily.txt', 'SiLoHB.txt', 'Morittz.txt', 'cxl1lo.txt', 'LeMetin_.txt', 'unausgesprochen.txt', 'Freeeedom.txt', 'miridis41.txt', 'Joe3346.txt', 'Lingex.txt', 'xX_Masha_ggg_Xx9.txt', 'Julius16.txt', 'lizsyy.txt', 'camman18YT.txt', 'Jan2220.txt', 'Falke_01.txt', 'DaVinci_Son.txt', 'SatzdesPytag0ras.txt', 'Flitzi_Dino.txt', 'Wienerisch.txt', 'Seemops_8.txt', 'GermanPie.txt', 'chrisihalt.txt', 'FluffyDragon2007.txt', 'LucaaOn.txt', 'Allooy.txt', 'Chander24.txt', 'Fflopse.txt', 'bikop.txt', 'vKito.txt', 'bawskey.txt', 'RasenLP.txt', 'WirdNichtGeladen.txt', 'WuschigesEtwas.txt', 'OutcroYoutube.txt', 'HeIsJustAPoorBoy.txt', 'FlyingAutismus.txt', 'destr0yed_.txt', 'Ex4cted.txt', 'Mvsk_.txt', 'MaxOnTheRoad.txt', 'swiffle.txt', 'juvona.txt', 'Lubottus.txt', 'Nervigerr.txt', 'lolisamakun.txt', 'Martomias.txt', '20LeRe10.txt']\n",
      "processing Replika...\n",
      "Error: Tammywood.txt does not contain any TooltipEvent data\n",
      "Error: demiu.txt does not contain any TooltipEvent data\n",
      "Error: JayMinInSane.txt does not contain any TooltipEvent data\n",
      "Error: KINT0.txt does not contain any TooltipEvent data\n",
      "Error: SmartyxD.txt does not contain any TooltipEvent data\n",
      "Error: Sower_.txt does not contain any TooltipEvent data\n",
      "Error: Lord_Weibull.txt does not contain any TooltipEvent data\n",
      "Error: Scuprum.txt does not contain any TooltipEvent data\n",
      "Error: Dubbly.txt does not contain any TooltipEvent data\n",
      "Error: bikop.txt does not contain any TooltipEvent data\n",
      "Error: destr0yed_.txt does not contain any TooltipEvent data\n",
      "Replika processed\n",
      "['__egE.txt', 'Tammywood.txt', 'BunnyKiko.txt', 'SpeckyCut.txt', 'Hyxeed.txt', 'demiu.txt', 'SpinCrafter.txt', 'NanamiElvi.txt', '_n3d.txt', 'Sebi1801.txt', 'JayMinInSane.txt', 'Persidieus.txt', 'N3XV.txt', 'Wissender.txt', 'Gryzes.txt', 'jimmi4Life.txt', 'Gobo9.txt', 'Anni808.txt', 'LeWi_100.txt', '_Waldi_.txt', 'Grapfen.txt', 'PixlNight.txt', 'dossantosaveiro_.txt', 'agowskyy.txt', 'TheBreadHD.txt', 'Axollotel.txt', 'T_Niko_T.txt', 'Vanillinchen.txt', 'Odlaa.txt', 'D4rkCookie.txt', 'yzvm.txt', 'Tim_Voltia.txt', 'xBaumeisterin.txt', 'Ungluecklicher.txt', 'Lutorix.txt', 'Ninivee.txt', 'ArthurAlchemist.txt', 'redbrll.txt', 'Gfrasti.txt', 'Muniix.txt', 'Tomiokey.txt', 'Carl1_1.txt', 'DerAutist.txt', 'PolizeiDreamy.txt', 'xX_Dima_ggg_Xx6.txt', 'Falke23_5.txt', 'TheFabo.txt', 'DieserBear.txt', 'Picutar.txt', '2B9.txt', 'Schmaarek.txt', 'musi1999.txt', 'PumiTheCat.txt', 'HerrDante.txt', 'KakaMC.txt', 'StaudammAusHolz.txt', 'Lelouch610.txt', 'Kyuudo.txt', 'twitchparaskiill.txt', 'G0at3D.txt', 'SecretAgent_K.txt', 'KMaxN.txt', 'Sey__.txt', 'ForceFox.txt', 'toxicplace.txt', 'Gestimus.txt', 'yachayubin.txt', 'Wolkenfarmer.txt', 'y9nic.txt', 'KINT0.txt', 'zBro.txt', 'qriezmannsOpa.txt', 'Harold_Sensemann.txt', 'Pedrozockt.txt', 'MrNulfred.txt', 'Cytoox.txt', 'IchHolzDichWeg.txt', 'GingerTeddy.txt', 'Kopfradio.txt', 'loukrativ.txt', 'M0osebumps.txt', 'SmartyxD.txt', 'Kokochampo.txt', 'JennieKim.txt', 'Umgfoin.txt', 'ffawks.txt', 'byTobi.txt', 'Shiewk.txt', 'La_meleagro.txt', 'Squashgitter333.txt', 'Luxemburq.txt', 'DarkCobweb.txt', 'Sackkerl.txt', 'Sthyq.txt', 'Acidey.txt', 'Laaaachs.txt', 'HerosHD.txt', 'Lennart0911.txt', 'Gerrygames.txt', 'BusinessBent.txt', 'Simlll.txt', 'YBCM.txt', 'Txlentierter.txt', 'Dat_Klan.txt', 'Luis_XYZ.txt', 'NiklasMoWo.txt', 'MaxMitMaulkorb.txt', 'Oronor.txt', 'GamemasterNiki.txt', 'LordAlexos.txt', 'Pluto28.txt', 'GrafikKatze.txt', '_Einfallslos_.txt', 'cediiiiii_10.txt', 'Dokkkkko.txt', 'deadfiight.txt', 'Kanickelul.txt', 'crocodile1870.txt', 'Sower_.txt', 'Steavn.txt', 'EinfachEazy.txt', 'yiiq.txt', 'NotLennart.txt', 'Snitcherella.txt', 'Keenaai.txt', 'xd_Maiky.txt', 'ReichesBrot.txt', 'lolisamasan.txt', 'Raefinzs.txt', 'JOW24.txt', 'ByNetherdude.txt', 'ZweitesIch.txt', 'frutigall.txt', 'LilFueller.txt', 'xiooh.txt', 'rotmann2.txt', 'FlyingKyubi.txt', 'Joy_8oy.txt', 'BauHD.txt', 'CML_Justin.txt', 'MoZadaTV.txt', 'BastiGHG.txt', 'Gummibearchen.txt', 'Lord_Weibull.txt', 'VendasTM.txt', 'Stockinqs.txt', 'GlowyDusk.txt', 'Scuprum.txt', 'h4nnes.txt', 'cheesecake2901.txt', 'DrSpeed06.txt', 'Krusti.txt', 'marbrueck.txt', 'Vacted.txt', 'Janne4k.txt', 'Bartschii.txt', 'Mansuni.txt', 'SB387.txt', 'medisant.txt', 'Phoenix3000.txt', 'JOW23.txt', 'Ritokii.txt', 'Juti0n.txt', 'lvlaurin.txt', 'Bikoop.txt', 'FrozenNoah.txt', 'GeneralEnte06.txt', 'Dubbly.txt', 'revolverz.txt', 'Highsay.txt', 'ScreamingBlatz.txt', 'RyanxCole.txt', 'shellny.txt', 'TheKillerisback.txt', 'M0orey_0.txt', 'Mincheeen.txt', '2wc.txt', 'Feinberg.txt', 'Navex.txt', 'NewNormal0947.txt', 'Teesily.txt', 'SiLoHB.txt', 'Morittz.txt', 'cxl1lo.txt', 'LeMetin_.txt', 'unausgesprochen.txt', 'Freeeedom.txt', 'miridis41.txt', 'Joe3346.txt', 'Lingex.txt', 'xX_Masha_ggg_Xx9.txt', 'Julius16.txt', 'lizsyy.txt', 'camman18YT.txt', 'Jan2220.txt', 'Falke_01.txt', 'DaVinci_Son.txt', 'SatzdesPytag0ras.txt', 'Flitzi_Dino.txt', 'Wienerisch.txt', 'Seemops_8.txt', 'GermanPie.txt', 'chrisihalt.txt', 'FluffyDragon2007.txt', 'LucaaOn.txt', 'Allooy.txt', 'Chander24.txt', 'Fflopse.txt', 'bikop.txt', 'vKito.txt', 'bawskey.txt', 'RasenLP.txt', 'WirdNichtGeladen.txt', 'WuschigesEtwas.txt', 'OutcroYoutube.txt', 'HeIsJustAPoorBoy.txt', 'FlyingAutismus.txt', 'destr0yed_.txt', 'Ex4cted.txt', 'Mvsk_.txt', 'MaxOnTheRoad.txt', 'swiffle.txt', 'juvona.txt', 'Lubottus.txt', 'Nervigerr.txt', 'lolisamakun.txt', 'Martomias.txt', '20LeRe10.txt']\n",
      "processing Blockhüpfer...\n",
      "Error: Tammywood.txt does not contain any TooltipEvent data\n",
      "Error: demiu.txt does not contain any TooltipEvent data\n",
      "Error: JayMinInSane.txt does not contain any TooltipEvent data\n",
      "Error: KINT0.txt does not contain any TooltipEvent data\n",
      "Error: SmartyxD.txt does not contain any TooltipEvent data\n",
      "Error: Sower_.txt does not contain any TooltipEvent data\n",
      "Error: Lord_Weibull.txt does not contain any TooltipEvent data\n",
      "Error: Scuprum.txt does not contain any TooltipEvent data\n",
      "Error: Dubbly.txt does not contain any TooltipEvent data\n",
      "Error: bikop.txt does not contain any TooltipEvent data\n",
      "Error: destr0yed_.txt does not contain any TooltipEvent data\n",
      "Blockhüpfer processed\n",
      "['__egE.txt', 'Tammywood.txt', 'BunnyKiko.txt', 'SpeckyCut.txt', 'Hyxeed.txt', 'demiu.txt', 'SpinCrafter.txt', 'NanamiElvi.txt', '_n3d.txt', 'Sebi1801.txt', 'JayMinInSane.txt', 'Persidieus.txt', 'N3XV.txt', 'Wissender.txt', 'Gryzes.txt', 'jimmi4Life.txt', 'Gobo9.txt', 'Anni808.txt', 'LeWi_100.txt', '_Waldi_.txt', 'Grapfen.txt', 'PixlNight.txt', 'dossantosaveiro_.txt', 'agowskyy.txt', 'TheBreadHD.txt', 'Axollotel.txt', 'T_Niko_T.txt', 'Vanillinchen.txt', 'Odlaa.txt', 'D4rkCookie.txt', 'yzvm.txt', 'Tim_Voltia.txt', 'xBaumeisterin.txt', 'Ungluecklicher.txt', 'Lutorix.txt', 'Ninivee.txt', 'ArthurAlchemist.txt', 'redbrll.txt', 'Gfrasti.txt', 'Muniix.txt', 'Tomiokey.txt', 'Carl1_1.txt', 'DerAutist.txt', 'PolizeiDreamy.txt', 'xX_Dima_ggg_Xx6.txt', 'Falke23_5.txt', 'TheFabo.txt', 'DieserBear.txt', 'Picutar.txt', '2B9.txt', 'Schmaarek.txt', 'musi1999.txt', 'PumiTheCat.txt', 'HerrDante.txt', 'KakaMC.txt', 'StaudammAusHolz.txt', 'Lelouch610.txt', 'Kyuudo.txt', 'twitchparaskiill.txt', 'G0at3D.txt', 'SecretAgent_K.txt', 'KMaxN.txt', 'Sey__.txt', 'ForceFox.txt', 'toxicplace.txt', 'Gestimus.txt', 'yachayubin.txt', 'Wolkenfarmer.txt', 'y9nic.txt', 'KINT0.txt', 'zBro.txt', 'qriezmannsOpa.txt', 'Harold_Sensemann.txt', 'Pedrozockt.txt', 'MrNulfred.txt', 'Cytoox.txt', 'IchHolzDichWeg.txt', 'GingerTeddy.txt', 'Kopfradio.txt', 'loukrativ.txt', 'M0osebumps.txt', 'SmartyxD.txt', 'Kokochampo.txt', 'JennieKim.txt', 'Umgfoin.txt', 'ffawks.txt', 'byTobi.txt', 'Shiewk.txt', 'La_meleagro.txt', 'Squashgitter333.txt', 'Luxemburq.txt', 'DarkCobweb.txt', 'Sackkerl.txt', 'Sthyq.txt', 'Acidey.txt', 'Laaaachs.txt', 'HerosHD.txt', 'Lennart0911.txt', 'Gerrygames.txt', 'BusinessBent.txt', 'Simlll.txt', 'YBCM.txt', 'Txlentierter.txt', 'Dat_Klan.txt', 'Luis_XYZ.txt', 'NiklasMoWo.txt', 'MaxMitMaulkorb.txt', 'Oronor.txt', 'GamemasterNiki.txt', 'LordAlexos.txt', 'Pluto28.txt', 'GrafikKatze.txt', '_Einfallslos_.txt', 'cediiiiii_10.txt', 'Dokkkkko.txt', 'deadfiight.txt', 'Kanickelul.txt', 'crocodile1870.txt', 'Sower_.txt', 'Steavn.txt', 'EinfachEazy.txt', 'yiiq.txt', 'NotLennart.txt', 'Snitcherella.txt', 'Keenaai.txt', 'xd_Maiky.txt', 'ReichesBrot.txt', 'lolisamasan.txt', 'Raefinzs.txt', 'JOW24.txt', 'ByNetherdude.txt', 'ZweitesIch.txt', 'frutigall.txt', 'LilFueller.txt', 'xiooh.txt', 'rotmann2.txt', 'FlyingKyubi.txt', 'Joy_8oy.txt', 'BauHD.txt', 'CML_Justin.txt', 'MoZadaTV.txt', 'BastiGHG.txt', 'Gummibearchen.txt', 'Lord_Weibull.txt', 'VendasTM.txt', 'Stockinqs.txt', 'GlowyDusk.txt', 'Scuprum.txt', 'h4nnes.txt', 'cheesecake2901.txt', 'DrSpeed06.txt', 'Krusti.txt', 'marbrueck.txt', 'Vacted.txt', 'Janne4k.txt', 'Bartschii.txt', 'Mansuni.txt', 'SB387.txt', 'medisant.txt', 'Phoenix3000.txt', 'JOW23.txt', 'Ritokii.txt', 'Juti0n.txt', 'lvlaurin.txt', 'Bikoop.txt', 'FrozenNoah.txt', 'GeneralEnte06.txt', 'Dubbly.txt', 'revolverz.txt', 'Highsay.txt', 'ScreamingBlatz.txt', 'RyanxCole.txt', 'shellny.txt', 'TheKillerisback.txt', 'M0orey_0.txt', 'Mincheeen.txt', '2wc.txt', 'Feinberg.txt', 'Navex.txt', 'NewNormal0947.txt', 'Teesily.txt', 'SiLoHB.txt', 'Morittz.txt', 'cxl1lo.txt', 'LeMetin_.txt', 'unausgesprochen.txt', 'Freeeedom.txt', 'miridis41.txt', 'Joe3346.txt', 'Lingex.txt', 'xX_Masha_ggg_Xx9.txt', 'Julius16.txt', 'lizsyy.txt', 'camman18YT.txt', 'Jan2220.txt', 'Falke_01.txt', 'DaVinci_Son.txt', 'SatzdesPytag0ras.txt', 'Flitzi_Dino.txt', 'Wienerisch.txt', 'Seemops_8.txt', 'GermanPie.txt', 'chrisihalt.txt', 'FluffyDragon2007.txt', 'LucaaOn.txt', 'Allooy.txt', 'Chander24.txt', 'Fflopse.txt', 'bikop.txt', 'vKito.txt', 'bawskey.txt', 'RasenLP.txt', 'WirdNichtGeladen.txt', 'WuschigesEtwas.txt', 'OutcroYoutube.txt', 'HeIsJustAPoorBoy.txt', 'FlyingAutismus.txt', 'destr0yed_.txt', 'Ex4cted.txt', 'Mvsk_.txt', 'MaxOnTheRoad.txt', 'swiffle.txt', 'juvona.txt', 'Lubottus.txt', 'Nervigerr.txt', 'lolisamakun.txt', 'Martomias.txt', '20LeRe10.txt']\n",
      "processing Todeswürfel...\n",
      "Error: Tammywood.txt does not contain any TooltipEvent data\n",
      "Error: demiu.txt does not contain any TooltipEvent data\n",
      "Error: JayMinInSane.txt does not contain any TooltipEvent data\n",
      "Error: KINT0.txt does not contain any TooltipEvent data\n",
      "Error: SmartyxD.txt does not contain any TooltipEvent data\n",
      "Error: Sower_.txt does not contain any TooltipEvent data\n",
      "Error: Lord_Weibull.txt does not contain any TooltipEvent data\n",
      "Error: Scuprum.txt does not contain any TooltipEvent data\n",
      "Error: Dubbly.txt does not contain any TooltipEvent data\n",
      "Error: bikop.txt does not contain any TooltipEvent data\n",
      "Error: destr0yed_.txt does not contain any TooltipEvent data\n",
      "Todeswürfel processed\n",
      "['__egE.txt', 'Tammywood.txt', 'BunnyKiko.txt', 'SpeckyCut.txt', 'Hyxeed.txt', 'demiu.txt', 'SpinCrafter.txt', 'NanamiElvi.txt', '_n3d.txt', 'Sebi1801.txt', 'JayMinInSane.txt', 'Persidieus.txt', 'N3XV.txt', 'Wissender.txt', 'Gryzes.txt', 'jimmi4Life.txt', 'Gobo9.txt', 'Anni808.txt', 'LeWi_100.txt', '_Waldi_.txt', 'Grapfen.txt', 'PixlNight.txt', 'dossantosaveiro_.txt', 'agowskyy.txt', 'TheBreadHD.txt', 'Axollotel.txt', 'T_Niko_T.txt', 'Vanillinchen.txt', 'Odlaa.txt', 'D4rkCookie.txt', 'yzvm.txt', 'Tim_Voltia.txt', 'xBaumeisterin.txt', 'Ungluecklicher.txt', 'Lutorix.txt', 'Ninivee.txt', 'ArthurAlchemist.txt', 'redbrll.txt', 'Gfrasti.txt', 'Muniix.txt', 'Tomiokey.txt', 'Carl1_1.txt', 'DerAutist.txt', 'PolizeiDreamy.txt', 'xX_Dima_ggg_Xx6.txt', 'Falke23_5.txt', 'TheFabo.txt', 'DieserBear.txt', 'Picutar.txt', '2B9.txt', 'Schmaarek.txt', 'musi1999.txt', 'PumiTheCat.txt', 'HerrDante.txt', 'KakaMC.txt', 'StaudammAusHolz.txt', 'Lelouch610.txt', 'Kyuudo.txt', 'twitchparaskiill.txt', 'G0at3D.txt', 'SecretAgent_K.txt', 'KMaxN.txt', 'Sey__.txt', 'ForceFox.txt', 'toxicplace.txt', 'Gestimus.txt', 'yachayubin.txt', 'Wolkenfarmer.txt', 'y9nic.txt', 'KINT0.txt', 'zBro.txt', 'qriezmannsOpa.txt', 'Harold_Sensemann.txt', 'Pedrozockt.txt', 'MrNulfred.txt', 'Cytoox.txt', 'IchHolzDichWeg.txt', 'GingerTeddy.txt', 'Kopfradio.txt', 'loukrativ.txt', 'M0osebumps.txt', 'SmartyxD.txt', 'Kokochampo.txt', 'JennieKim.txt', 'Umgfoin.txt', 'ffawks.txt', 'byTobi.txt', 'Shiewk.txt', 'La_meleagro.txt', 'Squashgitter333.txt', 'Luxemburq.txt', 'DarkCobweb.txt', 'Sackkerl.txt', 'Sthyq.txt', 'Acidey.txt', 'Laaaachs.txt', 'HerosHD.txt', 'Lennart0911.txt', 'Gerrygames.txt', 'BusinessBent.txt', 'Simlll.txt', 'YBCM.txt', 'Txlentierter.txt', 'Dat_Klan.txt', 'Luis_XYZ.txt', 'NiklasMoWo.txt', 'MaxMitMaulkorb.txt', 'Oronor.txt', 'GamemasterNiki.txt', 'LordAlexos.txt', 'Pluto28.txt', 'GrafikKatze.txt', '_Einfallslos_.txt', 'cediiiiii_10.txt', 'Dokkkkko.txt', 'deadfiight.txt', 'Kanickelul.txt', 'crocodile1870.txt', 'Sower_.txt', 'Steavn.txt', 'EinfachEazy.txt', 'yiiq.txt', 'NotLennart.txt', 'Snitcherella.txt', 'Keenaai.txt', 'xd_Maiky.txt', 'ReichesBrot.txt', 'lolisamasan.txt', 'Raefinzs.txt', 'JOW24.txt', 'ByNetherdude.txt', 'ZweitesIch.txt', 'frutigall.txt', 'LilFueller.txt', 'xiooh.txt', 'rotmann2.txt', 'FlyingKyubi.txt', 'Joy_8oy.txt', 'BauHD.txt', 'CML_Justin.txt', 'MoZadaTV.txt', 'BastiGHG.txt', 'Gummibearchen.txt', 'Lord_Weibull.txt', 'VendasTM.txt', 'Stockinqs.txt', 'GlowyDusk.txt', 'Scuprum.txt', 'h4nnes.txt', 'cheesecake2901.txt', 'DrSpeed06.txt', 'Krusti.txt', 'marbrueck.txt', 'Vacted.txt', 'Janne4k.txt', 'Bartschii.txt', 'Mansuni.txt', 'SB387.txt', 'medisant.txt', 'Phoenix3000.txt', 'JOW23.txt', 'Ritokii.txt', 'Juti0n.txt', 'lvlaurin.txt', 'Bikoop.txt', 'FrozenNoah.txt', 'GeneralEnte06.txt', 'Dubbly.txt', 'revolverz.txt', 'Highsay.txt', 'ScreamingBlatz.txt', 'RyanxCole.txt', 'shellny.txt', 'TheKillerisback.txt', 'M0orey_0.txt', 'Mincheeen.txt', '2wc.txt', 'Feinberg.txt', 'Navex.txt', 'NewNormal0947.txt', 'Teesily.txt', 'SiLoHB.txt', 'Morittz.txt', 'cxl1lo.txt', 'LeMetin_.txt', 'unausgesprochen.txt', 'Freeeedom.txt', 'miridis41.txt', 'Joe3346.txt', 'Lingex.txt', 'xX_Masha_ggg_Xx9.txt', 'Julius16.txt', 'lizsyy.txt', 'camman18YT.txt', 'Jan2220.txt', 'Falke_01.txt', 'DaVinci_Son.txt', 'SatzdesPytag0ras.txt', 'Flitzi_Dino.txt', 'Wienerisch.txt', 'Seemops_8.txt', 'GermanPie.txt', 'chrisihalt.txt', 'FluffyDragon2007.txt', 'LucaaOn.txt', 'Allooy.txt', 'Chander24.txt', 'Fflopse.txt', 'bikop.txt', 'vKito.txt', 'bawskey.txt', 'RasenLP.txt', 'WirdNichtGeladen.txt', 'WuschigesEtwas.txt', 'OutcroYoutube.txt', 'HeIsJustAPoorBoy.txt', 'FlyingAutismus.txt', 'destr0yed_.txt', 'Ex4cted.txt', 'Mvsk_.txt', 'MaxOnTheRoad.txt', 'swiffle.txt', 'juvona.txt', 'Lubottus.txt', 'Nervigerr.txt', 'lolisamakun.txt', 'Martomias.txt', '20LeRe10.txt']\n",
      "processing Freier Fall...\n",
      "Error: Tammywood.txt does not contain any TooltipEvent data\n",
      "Error: demiu.txt does not contain any TooltipEvent data\n",
      "Error: JayMinInSane.txt does not contain any TooltipEvent data\n",
      "Error: KINT0.txt does not contain any TooltipEvent data\n",
      "Error: SmartyxD.txt does not contain any TooltipEvent data\n",
      "Error: Sower_.txt does not contain any TooltipEvent data\n",
      "Error: Lord_Weibull.txt does not contain any TooltipEvent data\n",
      "Error: Scuprum.txt does not contain any TooltipEvent data\n",
      "Error: Dubbly.txt does not contain any TooltipEvent data\n",
      "Error: bikop.txt does not contain any TooltipEvent data\n",
      "Error: destr0yed_.txt does not contain any TooltipEvent data\n",
      "Freier Fall processed\n",
      "['__egE.txt', 'Tammywood.txt', 'BunnyKiko.txt', 'SpeckyCut.txt', 'Hyxeed.txt', 'demiu.txt', 'SpinCrafter.txt', 'NanamiElvi.txt', '_n3d.txt', 'Sebi1801.txt', 'JayMinInSane.txt', 'Persidieus.txt', 'N3XV.txt', 'Wissender.txt', 'Gryzes.txt', 'jimmi4Life.txt', 'Gobo9.txt', 'Anni808.txt', 'LeWi_100.txt', '_Waldi_.txt', 'Grapfen.txt', 'PixlNight.txt', 'dossantosaveiro_.txt', 'agowskyy.txt', 'TheBreadHD.txt', 'Axollotel.txt', 'T_Niko_T.txt', 'Vanillinchen.txt', 'Odlaa.txt', 'D4rkCookie.txt', 'yzvm.txt', 'Tim_Voltia.txt', 'xBaumeisterin.txt', 'Ungluecklicher.txt', 'Lutorix.txt', 'Ninivee.txt', 'ArthurAlchemist.txt', 'redbrll.txt', 'Gfrasti.txt', 'Muniix.txt', 'Tomiokey.txt', 'Carl1_1.txt', 'DerAutist.txt', 'PolizeiDreamy.txt', 'xX_Dima_ggg_Xx6.txt', 'Falke23_5.txt', 'TheFabo.txt', 'DieserBear.txt', 'Picutar.txt', '2B9.txt', 'Schmaarek.txt', 'musi1999.txt', 'PumiTheCat.txt', 'HerrDante.txt', 'KakaMC.txt', 'StaudammAusHolz.txt', 'Lelouch610.txt', 'Kyuudo.txt', 'twitchparaskiill.txt', 'G0at3D.txt', 'SecretAgent_K.txt', 'KMaxN.txt', 'Sey__.txt', 'ForceFox.txt', 'toxicplace.txt', 'Gestimus.txt', 'yachayubin.txt', 'Wolkenfarmer.txt', 'y9nic.txt', 'KINT0.txt', 'zBro.txt', 'qriezmannsOpa.txt', 'Harold_Sensemann.txt', 'Pedrozockt.txt', 'MrNulfred.txt', 'Cytoox.txt', 'IchHolzDichWeg.txt', 'GingerTeddy.txt', 'Kopfradio.txt', 'loukrativ.txt', 'M0osebumps.txt', 'SmartyxD.txt', 'Kokochampo.txt', 'JennieKim.txt', 'Umgfoin.txt', 'ffawks.txt', 'byTobi.txt', 'Shiewk.txt', 'La_meleagro.txt', 'Squashgitter333.txt', 'Luxemburq.txt', 'DarkCobweb.txt', 'Sackkerl.txt', 'Sthyq.txt', 'Acidey.txt', 'Laaaachs.txt', 'HerosHD.txt', 'Lennart0911.txt', 'Gerrygames.txt', 'BusinessBent.txt', 'Simlll.txt', 'YBCM.txt', 'Txlentierter.txt', 'Dat_Klan.txt', 'Luis_XYZ.txt', 'NiklasMoWo.txt', 'MaxMitMaulkorb.txt', 'Oronor.txt', 'GamemasterNiki.txt', 'LordAlexos.txt', 'Pluto28.txt', 'GrafikKatze.txt', '_Einfallslos_.txt', 'cediiiiii_10.txt', 'Dokkkkko.txt', 'deadfiight.txt', 'Kanickelul.txt', 'crocodile1870.txt', 'Sower_.txt', 'Steavn.txt', 'EinfachEazy.txt', 'yiiq.txt', 'NotLennart.txt', 'Snitcherella.txt', 'Keenaai.txt', 'xd_Maiky.txt', 'ReichesBrot.txt', 'lolisamasan.txt', 'Raefinzs.txt', 'JOW24.txt', 'ByNetherdude.txt', 'ZweitesIch.txt', 'frutigall.txt', 'LilFueller.txt', 'xiooh.txt', 'rotmann2.txt', 'FlyingKyubi.txt', 'Joy_8oy.txt', 'BauHD.txt', 'CML_Justin.txt', 'MoZadaTV.txt', 'BastiGHG.txt', 'Gummibearchen.txt', 'Lord_Weibull.txt', 'VendasTM.txt', 'Stockinqs.txt', 'GlowyDusk.txt', 'Scuprum.txt', 'h4nnes.txt', 'cheesecake2901.txt', 'DrSpeed06.txt', 'Krusti.txt', 'marbrueck.txt', 'Vacted.txt', 'Janne4k.txt', 'Bartschii.txt', 'Mansuni.txt', 'SB387.txt', 'medisant.txt', 'Phoenix3000.txt', 'JOW23.txt', 'Ritokii.txt', 'Juti0n.txt', 'lvlaurin.txt', 'Bikoop.txt', 'FrozenNoah.txt', 'GeneralEnte06.txt', 'Dubbly.txt', 'revolverz.txt', 'Highsay.txt', 'ScreamingBlatz.txt', 'RyanxCole.txt', 'shellny.txt', 'TheKillerisback.txt', 'M0orey_0.txt', 'Mincheeen.txt', '2wc.txt', 'Feinberg.txt', 'Navex.txt', 'NewNormal0947.txt', 'Teesily.txt', 'SiLoHB.txt', 'Morittz.txt', 'cxl1lo.txt', 'LeMetin_.txt', 'unausgesprochen.txt', 'Freeeedom.txt', 'miridis41.txt', 'Joe3346.txt', 'Lingex.txt', 'xX_Masha_ggg_Xx9.txt', 'Julius16.txt', 'lizsyy.txt', 'camman18YT.txt', 'Jan2220.txt', 'Falke_01.txt', 'DaVinci_Son.txt', 'SatzdesPytag0ras.txt', 'Flitzi_Dino.txt', 'Wienerisch.txt', 'Seemops_8.txt', 'GermanPie.txt', 'chrisihalt.txt', 'FluffyDragon2007.txt', 'LucaaOn.txt', 'Allooy.txt', 'Chander24.txt', 'Fflopse.txt', 'bikop.txt', 'vKito.txt', 'bawskey.txt', 'RasenLP.txt', 'WirdNichtGeladen.txt', 'WuschigesEtwas.txt', 'OutcroYoutube.txt', 'HeIsJustAPoorBoy.txt', 'FlyingAutismus.txt', 'destr0yed_.txt', 'Ex4cted.txt', 'Mvsk_.txt', 'MaxOnTheRoad.txt', 'swiffle.txt', 'juvona.txt', 'Lubottus.txt', 'Nervigerr.txt', 'lolisamakun.txt', 'Martomias.txt', '20LeRe10.txt']\n",
      "processing Elytrarennen...\n",
      "Error: Tammywood.txt does not contain any TooltipEvent data\n",
      "Error: demiu.txt does not contain any TooltipEvent data\n",
      "Error: JayMinInSane.txt does not contain any TooltipEvent data\n",
      "Error: KINT0.txt does not contain any TooltipEvent data\n",
      "Error: SmartyxD.txt does not contain any TooltipEvent data\n",
      "Error: Sower_.txt does not contain any TooltipEvent data\n",
      "Error: Lord_Weibull.txt does not contain any TooltipEvent data\n",
      "Error: Scuprum.txt does not contain any TooltipEvent data\n",
      "Error: Dubbly.txt does not contain any TooltipEvent data\n",
      "Error: bikop.txt does not contain any TooltipEvent data\n",
      "Error: destr0yed_.txt does not contain any TooltipEvent data\n",
      "Elytrarennen processed\n",
      "['__egE.txt', 'Tammywood.txt', 'BunnyKiko.txt', 'SpeckyCut.txt', 'Hyxeed.txt', 'demiu.txt', 'SpinCrafter.txt', 'NanamiElvi.txt', '_n3d.txt', 'Sebi1801.txt', 'JayMinInSane.txt', 'Persidieus.txt', 'N3XV.txt', 'Wissender.txt', 'Gryzes.txt', 'jimmi4Life.txt', 'Gobo9.txt', 'Anni808.txt', 'LeWi_100.txt', '_Waldi_.txt', 'Grapfen.txt', 'PixlNight.txt', 'dossantosaveiro_.txt', 'agowskyy.txt', 'TheBreadHD.txt', 'Axollotel.txt', 'T_Niko_T.txt', 'Vanillinchen.txt', 'Odlaa.txt', 'D4rkCookie.txt', 'yzvm.txt', 'Tim_Voltia.txt', 'xBaumeisterin.txt', 'Ungluecklicher.txt', 'Lutorix.txt', 'Ninivee.txt', 'ArthurAlchemist.txt', 'redbrll.txt', 'Gfrasti.txt', 'Muniix.txt', 'Tomiokey.txt', 'Carl1_1.txt', 'DerAutist.txt', 'PolizeiDreamy.txt', 'xX_Dima_ggg_Xx6.txt', 'Falke23_5.txt', 'TheFabo.txt', 'DieserBear.txt', 'Picutar.txt', '2B9.txt', 'Schmaarek.txt', 'musi1999.txt', 'PumiTheCat.txt', 'HerrDante.txt', 'KakaMC.txt', 'StaudammAusHolz.txt', 'Lelouch610.txt', 'Kyuudo.txt', 'twitchparaskiill.txt', 'G0at3D.txt', 'SecretAgent_K.txt', 'KMaxN.txt', 'Sey__.txt', 'ForceFox.txt', 'toxicplace.txt', 'Gestimus.txt', 'yachayubin.txt', 'Wolkenfarmer.txt', 'y9nic.txt', 'KINT0.txt', 'zBro.txt', 'qriezmannsOpa.txt', 'Harold_Sensemann.txt', 'Pedrozockt.txt', 'MrNulfred.txt', 'Cytoox.txt', 'IchHolzDichWeg.txt', 'GingerTeddy.txt', 'Kopfradio.txt', 'loukrativ.txt', 'M0osebumps.txt', 'SmartyxD.txt', 'Kokochampo.txt', 'JennieKim.txt', 'Umgfoin.txt', 'ffawks.txt', 'byTobi.txt', 'Shiewk.txt', 'La_meleagro.txt', 'Squashgitter333.txt', 'Luxemburq.txt', 'DarkCobweb.txt', 'Sackkerl.txt', 'Sthyq.txt', 'Acidey.txt', 'Laaaachs.txt', 'HerosHD.txt', 'Lennart0911.txt', 'Gerrygames.txt', 'BusinessBent.txt', 'Simlll.txt', 'YBCM.txt', 'Txlentierter.txt', 'Dat_Klan.txt', 'Luis_XYZ.txt', 'NiklasMoWo.txt', 'MaxMitMaulkorb.txt', 'Oronor.txt', 'GamemasterNiki.txt', 'LordAlexos.txt', 'Pluto28.txt', 'GrafikKatze.txt', '_Einfallslos_.txt', 'cediiiiii_10.txt', 'Dokkkkko.txt', 'deadfiight.txt', 'Kanickelul.txt', 'crocodile1870.txt', 'Sower_.txt', 'Steavn.txt', 'EinfachEazy.txt', 'yiiq.txt', 'NotLennart.txt', 'Snitcherella.txt', 'Keenaai.txt', 'xd_Maiky.txt', 'ReichesBrot.txt', 'lolisamasan.txt', 'Raefinzs.txt', 'JOW24.txt', 'ByNetherdude.txt', 'ZweitesIch.txt', 'frutigall.txt', 'LilFueller.txt', 'xiooh.txt', 'rotmann2.txt', 'FlyingKyubi.txt', 'Joy_8oy.txt', 'BauHD.txt', 'CML_Justin.txt', 'MoZadaTV.txt', 'BastiGHG.txt', 'Gummibearchen.txt', 'Lord_Weibull.txt', 'VendasTM.txt', 'Stockinqs.txt', 'GlowyDusk.txt', 'Scuprum.txt', 'h4nnes.txt', 'cheesecake2901.txt', 'DrSpeed06.txt', 'Krusti.txt', 'marbrueck.txt', 'Vacted.txt', 'Janne4k.txt', 'Bartschii.txt', 'Mansuni.txt', 'SB387.txt', 'medisant.txt', 'Phoenix3000.txt', 'JOW23.txt', 'Ritokii.txt', 'Juti0n.txt', 'lvlaurin.txt', 'Bikoop.txt', 'FrozenNoah.txt', 'GeneralEnte06.txt', 'Dubbly.txt', 'revolverz.txt', 'Highsay.txt', 'ScreamingBlatz.txt', 'RyanxCole.txt', 'shellny.txt', 'TheKillerisback.txt', 'M0orey_0.txt', 'Mincheeen.txt', '2wc.txt', 'Feinberg.txt', 'Navex.txt', 'NewNormal0947.txt', 'Teesily.txt', 'SiLoHB.txt', 'Morittz.txt', 'cxl1lo.txt', 'LeMetin_.txt', 'unausgesprochen.txt', 'Freeeedom.txt', 'miridis41.txt', 'Joe3346.txt', 'Lingex.txt', 'xX_Masha_ggg_Xx9.txt', 'Julius16.txt', 'lizsyy.txt', 'camman18YT.txt', 'Jan2220.txt', 'Falke_01.txt', 'DaVinci_Son.txt', 'SatzdesPytag0ras.txt', 'Flitzi_Dino.txt', 'Wienerisch.txt', 'Seemops_8.txt', 'GermanPie.txt', 'chrisihalt.txt', 'FluffyDragon2007.txt', 'LucaaOn.txt', 'Allooy.txt', 'Chander24.txt', 'Fflopse.txt', 'bikop.txt', 'vKito.txt', 'bawskey.txt', 'RasenLP.txt', 'WirdNichtGeladen.txt', 'WuschigesEtwas.txt', 'OutcroYoutube.txt', 'HeIsJustAPoorBoy.txt', 'FlyingAutismus.txt', 'destr0yed_.txt', 'Ex4cted.txt', 'Mvsk_.txt', 'MaxOnTheRoad.txt', 'swiffle.txt', 'juvona.txt', 'Lubottus.txt', 'Nervigerr.txt', 'lolisamakun.txt', 'Martomias.txt', '20LeRe10.txt']\n",
      "processing Waffenfolge...\n",
      "Error: Tammywood.txt does not contain any TooltipEvent data\n",
      "Error: demiu.txt does not contain any TooltipEvent data\n",
      "Error: JayMinInSane.txt does not contain any TooltipEvent data\n",
      "Error: KINT0.txt does not contain any TooltipEvent data\n",
      "Error: SmartyxD.txt does not contain any TooltipEvent data\n",
      "Error: Sower_.txt does not contain any TooltipEvent data\n",
      "Error: Lord_Weibull.txt does not contain any TooltipEvent data\n",
      "Error: Scuprum.txt does not contain any TooltipEvent data\n",
      "Error: Dubbly.txt does not contain any TooltipEvent data\n",
      "Error: bikop.txt does not contain any TooltipEvent data\n",
      "Error: destr0yed_.txt does not contain any TooltipEvent data\n",
      "Waffenfolge processed\n",
      "['__egE.txt', 'Tammywood.txt', 'BunnyKiko.txt', 'SpeckyCut.txt', 'Hyxeed.txt', 'demiu.txt', 'SpinCrafter.txt', 'NanamiElvi.txt', '_n3d.txt', 'Sebi1801.txt', 'JayMinInSane.txt', 'Persidieus.txt', 'N3XV.txt', 'Wissender.txt', 'Gryzes.txt', 'jimmi4Life.txt', 'Gobo9.txt', 'Anni808.txt', 'LeWi_100.txt', '_Waldi_.txt', 'Grapfen.txt', 'PixlNight.txt', 'dossantosaveiro_.txt', 'agowskyy.txt', 'TheBreadHD.txt', 'Axollotel.txt', 'T_Niko_T.txt', 'Vanillinchen.txt', 'Odlaa.txt', 'D4rkCookie.txt', 'yzvm.txt', 'Tim_Voltia.txt', 'xBaumeisterin.txt', 'Ungluecklicher.txt', 'Lutorix.txt', 'Ninivee.txt', 'ArthurAlchemist.txt', 'redbrll.txt', 'Gfrasti.txt', 'Muniix.txt', 'Tomiokey.txt', 'Carl1_1.txt', 'DerAutist.txt', 'PolizeiDreamy.txt', 'xX_Dima_ggg_Xx6.txt', 'Falke23_5.txt', 'TheFabo.txt', 'DieserBear.txt', 'Picutar.txt', '2B9.txt', 'Schmaarek.txt', 'musi1999.txt', 'PumiTheCat.txt', 'HerrDante.txt', 'KakaMC.txt', 'StaudammAusHolz.txt', 'Lelouch610.txt', 'Kyuudo.txt', 'twitchparaskiill.txt', 'G0at3D.txt', 'SecretAgent_K.txt', 'KMaxN.txt', 'Sey__.txt', 'ForceFox.txt', 'toxicplace.txt', 'Gestimus.txt', 'yachayubin.txt', 'Wolkenfarmer.txt', 'y9nic.txt', 'KINT0.txt', 'zBro.txt', 'qriezmannsOpa.txt', 'Harold_Sensemann.txt', 'Pedrozockt.txt', 'MrNulfred.txt', 'Cytoox.txt', 'IchHolzDichWeg.txt', 'GingerTeddy.txt', 'Kopfradio.txt', 'loukrativ.txt', 'M0osebumps.txt', 'SmartyxD.txt', 'Kokochampo.txt', 'JennieKim.txt', 'Umgfoin.txt', 'ffawks.txt', 'byTobi.txt', 'Shiewk.txt', 'La_meleagro.txt', 'Squashgitter333.txt', 'Luxemburq.txt', 'DarkCobweb.txt', 'Sackkerl.txt', 'Sthyq.txt', 'Acidey.txt', 'Laaaachs.txt', 'HerosHD.txt', 'Lennart0911.txt', 'Gerrygames.txt', 'BusinessBent.txt', 'Simlll.txt', 'YBCM.txt', 'Txlentierter.txt', 'Dat_Klan.txt', 'Luis_XYZ.txt', 'NiklasMoWo.txt', 'MaxMitMaulkorb.txt', 'Oronor.txt', 'GamemasterNiki.txt', 'LordAlexos.txt', 'Pluto28.txt', 'GrafikKatze.txt', '_Einfallslos_.txt', 'cediiiiii_10.txt', 'Dokkkkko.txt', 'deadfiight.txt', 'Kanickelul.txt', 'crocodile1870.txt', 'Sower_.txt', 'Steavn.txt', 'EinfachEazy.txt', 'yiiq.txt', 'NotLennart.txt', 'Snitcherella.txt', 'Keenaai.txt', 'xd_Maiky.txt', 'ReichesBrot.txt', 'lolisamasan.txt', 'Raefinzs.txt', 'JOW24.txt', 'ByNetherdude.txt', 'ZweitesIch.txt', 'frutigall.txt', 'LilFueller.txt', 'xiooh.txt', 'rotmann2.txt', 'FlyingKyubi.txt', 'Joy_8oy.txt', 'BauHD.txt', 'CML_Justin.txt', 'MoZadaTV.txt', 'BastiGHG.txt', 'Gummibearchen.txt', 'Lord_Weibull.txt', 'VendasTM.txt', 'Stockinqs.txt', 'GlowyDusk.txt', 'Scuprum.txt', 'h4nnes.txt', 'cheesecake2901.txt', 'DrSpeed06.txt', 'Krusti.txt', 'marbrueck.txt', 'Vacted.txt', 'Janne4k.txt', 'Bartschii.txt', 'Mansuni.txt', 'SB387.txt', 'medisant.txt', 'Phoenix3000.txt', 'JOW23.txt', 'Ritokii.txt', 'Juti0n.txt', 'lvlaurin.txt', 'Bikoop.txt', 'FrozenNoah.txt', 'GeneralEnte06.txt', 'Dubbly.txt', 'revolverz.txt', 'Highsay.txt', 'ScreamingBlatz.txt', 'RyanxCole.txt', 'shellny.txt', 'TheKillerisback.txt', 'M0orey_0.txt', 'Mincheeen.txt', '2wc.txt', 'Feinberg.txt', 'Navex.txt', 'NewNormal0947.txt', 'Teesily.txt', 'SiLoHB.txt', 'Morittz.txt', 'cxl1lo.txt', 'LeMetin_.txt', 'unausgesprochen.txt', 'Freeeedom.txt', 'miridis41.txt', 'Joe3346.txt', 'Lingex.txt', 'xX_Masha_ggg_Xx9.txt', 'Julius16.txt', 'lizsyy.txt', 'camman18YT.txt', 'Jan2220.txt', 'Falke_01.txt', 'DaVinci_Son.txt', 'SatzdesPytag0ras.txt', 'Flitzi_Dino.txt', 'Wienerisch.txt', 'Seemops_8.txt', 'GermanPie.txt', 'chrisihalt.txt', 'FluffyDragon2007.txt', 'LucaaOn.txt', 'Allooy.txt', 'Chander24.txt', 'Fflopse.txt', 'bikop.txt', 'vKito.txt', 'bawskey.txt', 'RasenLP.txt', 'WirdNichtGeladen.txt', 'WuschigesEtwas.txt', 'OutcroYoutube.txt', 'HeIsJustAPoorBoy.txt', 'FlyingAutismus.txt', 'destr0yed_.txt', 'Ex4cted.txt', 'Mvsk_.txt', 'MaxOnTheRoad.txt', 'swiffle.txt', 'juvona.txt', 'Lubottus.txt', 'Nervigerr.txt', 'lolisamakun.txt', 'Martomias.txt', '20LeRe10.txt']\n",
      "processing Minenfeld...\n",
      "Error: Tammywood.txt does not contain any TooltipEvent data\n",
      "Error: demiu.txt does not contain any TooltipEvent data\n",
      "Error: JayMinInSane.txt does not contain any TooltipEvent data\n",
      "Error: KINT0.txt does not contain any TooltipEvent data\n",
      "Error: SmartyxD.txt does not contain any TooltipEvent data\n",
      "Error: Sower_.txt does not contain any TooltipEvent data\n",
      "Error: Lord_Weibull.txt does not contain any TooltipEvent data\n",
      "Error: Scuprum.txt does not contain any TooltipEvent data\n",
      "Error: Dubbly.txt does not contain any TooltipEvent data\n",
      "Error: bikop.txt does not contain any TooltipEvent data\n",
      "Error: destr0yed_.txt does not contain any TooltipEvent data\n",
      "Minenfeld processed\n",
      "['__egE.txt', 'Tammywood.txt', 'BunnyKiko.txt', 'SpeckyCut.txt', 'Hyxeed.txt', 'demiu.txt', 'SpinCrafter.txt', 'NanamiElvi.txt', '_n3d.txt', 'Sebi1801.txt', 'JayMinInSane.txt', 'Persidieus.txt', 'N3XV.txt', 'Wissender.txt', 'Gryzes.txt', 'jimmi4Life.txt', 'Gobo9.txt', 'Anni808.txt', 'LeWi_100.txt', '_Waldi_.txt', 'Grapfen.txt', 'PixlNight.txt', 'dossantosaveiro_.txt', 'agowskyy.txt', 'TheBreadHD.txt', 'Axollotel.txt', 'T_Niko_T.txt', 'Vanillinchen.txt', 'Odlaa.txt', 'D4rkCookie.txt', 'yzvm.txt', 'Tim_Voltia.txt', 'xBaumeisterin.txt', 'Ungluecklicher.txt', 'Lutorix.txt', 'Ninivee.txt', 'ArthurAlchemist.txt', 'redbrll.txt', 'Gfrasti.txt', 'Muniix.txt', 'Tomiokey.txt', 'Carl1_1.txt', 'DerAutist.txt', 'PolizeiDreamy.txt', 'xX_Dima_ggg_Xx6.txt', 'Falke23_5.txt', 'TheFabo.txt', 'DieserBear.txt', 'Picutar.txt', '2B9.txt', 'Schmaarek.txt', 'musi1999.txt', 'PumiTheCat.txt', 'HerrDante.txt', 'KakaMC.txt', 'StaudammAusHolz.txt', 'Lelouch610.txt', 'Kyuudo.txt', 'twitchparaskiill.txt', 'G0at3D.txt', 'SecretAgent_K.txt', 'KMaxN.txt', 'Sey__.txt', 'ForceFox.txt', 'toxicplace.txt', 'Gestimus.txt', 'yachayubin.txt', 'Wolkenfarmer.txt', 'y9nic.txt', 'KINT0.txt', 'zBro.txt', 'qriezmannsOpa.txt', 'Harold_Sensemann.txt', 'Pedrozockt.txt', 'MrNulfred.txt', 'Cytoox.txt', 'IchHolzDichWeg.txt', 'GingerTeddy.txt', 'Kopfradio.txt', 'loukrativ.txt', 'M0osebumps.txt', 'SmartyxD.txt', 'Kokochampo.txt', 'JennieKim.txt', 'Umgfoin.txt', 'ffawks.txt', 'byTobi.txt', 'Shiewk.txt', 'La_meleagro.txt', 'Squashgitter333.txt', 'Luxemburq.txt', 'DarkCobweb.txt', 'Sackkerl.txt', 'Sthyq.txt', 'Acidey.txt', 'Laaaachs.txt', 'HerosHD.txt', 'Lennart0911.txt', 'Gerrygames.txt', 'BusinessBent.txt', 'Simlll.txt', 'YBCM.txt', 'Txlentierter.txt', 'Dat_Klan.txt', 'Luis_XYZ.txt', 'NiklasMoWo.txt', 'MaxMitMaulkorb.txt', 'Oronor.txt', 'GamemasterNiki.txt', 'LordAlexos.txt', 'Pluto28.txt', 'GrafikKatze.txt', '_Einfallslos_.txt', 'cediiiiii_10.txt', 'Dokkkkko.txt', 'deadfiight.txt', 'Kanickelul.txt', 'crocodile1870.txt', 'Sower_.txt', 'Steavn.txt', 'EinfachEazy.txt', 'yiiq.txt', 'NotLennart.txt', 'Snitcherella.txt', 'Keenaai.txt', 'xd_Maiky.txt', 'ReichesBrot.txt', 'lolisamasan.txt', 'Raefinzs.txt', 'JOW24.txt', 'ByNetherdude.txt', 'ZweitesIch.txt', 'frutigall.txt', 'LilFueller.txt', 'xiooh.txt', 'rotmann2.txt', 'FlyingKyubi.txt', 'Joy_8oy.txt', 'BauHD.txt', 'CML_Justin.txt', 'MoZadaTV.txt', 'BastiGHG.txt', 'Gummibearchen.txt', 'Lord_Weibull.txt', 'VendasTM.txt', 'Stockinqs.txt', 'GlowyDusk.txt', 'Scuprum.txt', 'h4nnes.txt', 'cheesecake2901.txt', 'DrSpeed06.txt', 'Krusti.txt', 'marbrueck.txt', 'Vacted.txt', 'Janne4k.txt', 'Bartschii.txt', 'Mansuni.txt', 'SB387.txt', 'medisant.txt', 'Phoenix3000.txt', 'JOW23.txt', 'Ritokii.txt', 'Juti0n.txt', 'lvlaurin.txt', 'Bikoop.txt', 'FrozenNoah.txt', 'GeneralEnte06.txt', 'Dubbly.txt', 'revolverz.txt', 'Highsay.txt', 'ScreamingBlatz.txt', 'RyanxCole.txt', 'shellny.txt', 'TheKillerisback.txt', 'M0orey_0.txt', 'Mincheeen.txt', '2wc.txt', 'Feinberg.txt', 'Navex.txt', 'NewNormal0947.txt', 'Teesily.txt', 'SiLoHB.txt', 'Morittz.txt', 'cxl1lo.txt', 'LeMetin_.txt', 'unausgesprochen.txt', 'Freeeedom.txt', 'miridis41.txt', 'Joe3346.txt', 'Lingex.txt', 'xX_Masha_ggg_Xx9.txt', 'Julius16.txt', 'lizsyy.txt', 'camman18YT.txt', 'Jan2220.txt', 'Falke_01.txt', 'DaVinci_Son.txt', 'SatzdesPytag0ras.txt', 'Flitzi_Dino.txt', 'Wienerisch.txt', 'Seemops_8.txt', 'GermanPie.txt', 'chrisihalt.txt', 'FluffyDragon2007.txt', 'LucaaOn.txt', 'Allooy.txt', 'Chander24.txt', 'Fflopse.txt', 'bikop.txt', 'vKito.txt', 'bawskey.txt', 'RasenLP.txt', 'WirdNichtGeladen.txt', 'WuschigesEtwas.txt', 'OutcroYoutube.txt', 'HeIsJustAPoorBoy.txt', 'FlyingAutismus.txt', 'destr0yed_.txt', 'Ex4cted.txt', 'Mvsk_.txt', 'MaxOnTheRoad.txt', 'swiffle.txt', 'juvona.txt', 'Lubottus.txt', 'Nervigerr.txt', 'lolisamakun.txt', 'Martomias.txt', '20LeRe10.txt']\n",
      "processing Kletterkönig...\n",
      "Error: Tammywood.txt does not contain any TooltipEvent data\n",
      "Error: demiu.txt does not contain any TooltipEvent data\n",
      "Error: JayMinInSane.txt does not contain any TooltipEvent data\n",
      "Error: KINT0.txt does not contain any TooltipEvent data\n",
      "Error: SmartyxD.txt does not contain any TooltipEvent data\n",
      "Error: Sower_.txt does not contain any TooltipEvent data\n",
      "Error: Lord_Weibull.txt does not contain any TooltipEvent data\n",
      "Error: Scuprum.txt does not contain any TooltipEvent data\n",
      "Error: Dubbly.txt does not contain any TooltipEvent data\n",
      "Error: bikop.txt does not contain any TooltipEvent data\n",
      "Error: destr0yed_.txt does not contain any TooltipEvent data\n",
      "Kletterkönig processed\n",
      "['__egE.txt', 'Tammywood.txt', 'BunnyKiko.txt', 'SpeckyCut.txt', 'Hyxeed.txt', 'demiu.txt', 'SpinCrafter.txt', 'NanamiElvi.txt', '_n3d.txt', 'Sebi1801.txt', 'JayMinInSane.txt', 'Persidieus.txt', 'N3XV.txt', 'Wissender.txt', 'Gryzes.txt', 'jimmi4Life.txt', 'Gobo9.txt', 'Anni808.txt', 'LeWi_100.txt', '_Waldi_.txt', 'Grapfen.txt', 'PixlNight.txt', 'dossantosaveiro_.txt', 'agowskyy.txt', 'TheBreadHD.txt', 'Axollotel.txt', 'T_Niko_T.txt', 'Vanillinchen.txt', 'Odlaa.txt', 'D4rkCookie.txt', 'yzvm.txt', 'Tim_Voltia.txt', 'xBaumeisterin.txt', 'Ungluecklicher.txt', 'Lutorix.txt', 'Ninivee.txt', 'ArthurAlchemist.txt', 'redbrll.txt', 'Gfrasti.txt', 'Muniix.txt', 'Tomiokey.txt', 'Carl1_1.txt', 'DerAutist.txt', 'PolizeiDreamy.txt', 'xX_Dima_ggg_Xx6.txt', 'Falke23_5.txt', 'TheFabo.txt', 'DieserBear.txt', 'Picutar.txt', '2B9.txt', 'Schmaarek.txt', 'musi1999.txt', 'PumiTheCat.txt', 'HerrDante.txt', 'KakaMC.txt', 'StaudammAusHolz.txt', 'Lelouch610.txt', 'Kyuudo.txt', 'twitchparaskiill.txt', 'G0at3D.txt', 'SecretAgent_K.txt', 'KMaxN.txt', 'Sey__.txt', 'ForceFox.txt', 'toxicplace.txt', 'Gestimus.txt', 'yachayubin.txt', 'Wolkenfarmer.txt', 'y9nic.txt', 'KINT0.txt', 'zBro.txt', 'qriezmannsOpa.txt', 'Harold_Sensemann.txt', 'Pedrozockt.txt', 'MrNulfred.txt', 'Cytoox.txt', 'IchHolzDichWeg.txt', 'GingerTeddy.txt', 'Kopfradio.txt', 'loukrativ.txt', 'M0osebumps.txt', 'SmartyxD.txt', 'Kokochampo.txt', 'JennieKim.txt', 'Umgfoin.txt', 'ffawks.txt', 'byTobi.txt', 'Shiewk.txt', 'La_meleagro.txt', 'Squashgitter333.txt', 'Luxemburq.txt', 'DarkCobweb.txt', 'Sackkerl.txt', 'Sthyq.txt', 'Acidey.txt', 'Laaaachs.txt', 'HerosHD.txt', 'Lennart0911.txt', 'Gerrygames.txt', 'BusinessBent.txt', 'Simlll.txt', 'YBCM.txt', 'Txlentierter.txt', 'Dat_Klan.txt', 'Luis_XYZ.txt', 'NiklasMoWo.txt', 'MaxMitMaulkorb.txt', 'Oronor.txt', 'GamemasterNiki.txt', 'LordAlexos.txt', 'Pluto28.txt', 'GrafikKatze.txt', '_Einfallslos_.txt', 'cediiiiii_10.txt', 'Dokkkkko.txt', 'deadfiight.txt', 'Kanickelul.txt', 'crocodile1870.txt', 'Sower_.txt', 'Steavn.txt', 'EinfachEazy.txt', 'yiiq.txt', 'NotLennart.txt', 'Snitcherella.txt', 'Keenaai.txt', 'xd_Maiky.txt', 'ReichesBrot.txt', 'lolisamasan.txt', 'Raefinzs.txt', 'JOW24.txt', 'ByNetherdude.txt', 'ZweitesIch.txt', 'frutigall.txt', 'LilFueller.txt', 'xiooh.txt', 'rotmann2.txt', 'FlyingKyubi.txt', 'Joy_8oy.txt', 'BauHD.txt', 'CML_Justin.txt', 'MoZadaTV.txt', 'BastiGHG.txt', 'Gummibearchen.txt', 'Lord_Weibull.txt', 'VendasTM.txt', 'Stockinqs.txt', 'GlowyDusk.txt', 'Scuprum.txt', 'h4nnes.txt', 'cheesecake2901.txt', 'DrSpeed06.txt', 'Krusti.txt', 'marbrueck.txt', 'Vacted.txt', 'Janne4k.txt', 'Bartschii.txt', 'Mansuni.txt', 'SB387.txt', 'medisant.txt', 'Phoenix3000.txt', 'JOW23.txt', 'Ritokii.txt', 'Juti0n.txt', 'lvlaurin.txt', 'Bikoop.txt', 'FrozenNoah.txt', 'GeneralEnte06.txt', 'Dubbly.txt', 'revolverz.txt', 'Highsay.txt', 'ScreamingBlatz.txt', 'RyanxCole.txt', 'shellny.txt', 'TheKillerisback.txt', 'M0orey_0.txt', 'Mincheeen.txt', '2wc.txt', 'Feinberg.txt', 'Navex.txt', 'NewNormal0947.txt', 'Teesily.txt', 'SiLoHB.txt', 'Morittz.txt', 'cxl1lo.txt', 'LeMetin_.txt', 'unausgesprochen.txt', 'Freeeedom.txt', 'miridis41.txt', 'Joe3346.txt', 'Lingex.txt', 'xX_Masha_ggg_Xx9.txt', 'Julius16.txt', 'lizsyy.txt', 'camman18YT.txt', 'Jan2220.txt', 'Falke_01.txt', 'DaVinci_Son.txt', 'SatzdesPytag0ras.txt', 'Flitzi_Dino.txt', 'Wienerisch.txt', 'Seemops_8.txt', 'GermanPie.txt', 'chrisihalt.txt', 'FluffyDragon2007.txt', 'LucaaOn.txt', 'Allooy.txt', 'Chander24.txt', 'Fflopse.txt', 'bikop.txt', 'vKito.txt', 'bawskey.txt', 'RasenLP.txt', 'WirdNichtGeladen.txt', 'WuschigesEtwas.txt', 'OutcroYoutube.txt', 'HeIsJustAPoorBoy.txt', 'FlyingAutismus.txt', 'destr0yed_.txt', 'Ex4cted.txt', 'Mvsk_.txt', 'MaxOnTheRoad.txt', 'swiffle.txt', 'juvona.txt', 'Lubottus.txt', 'Nervigerr.txt', 'lolisamakun.txt', 'Martomias.txt', '20LeRe10.txt']\n",
      "processing Ampelrennen...\n",
      "Error: Tammywood.txt does not contain any TooltipEvent data\n",
      "Error: demiu.txt does not contain any TooltipEvent data\n",
      "Error: JayMinInSane.txt does not contain any TooltipEvent data\n",
      "Error: KINT0.txt does not contain any TooltipEvent data\n",
      "Error: SmartyxD.txt does not contain any TooltipEvent data\n",
      "Error: Sower_.txt does not contain any TooltipEvent data\n",
      "Error: Lord_Weibull.txt does not contain any TooltipEvent data\n",
      "Error: Scuprum.txt does not contain any TooltipEvent data\n",
      "Error: Dubbly.txt does not contain any TooltipEvent data\n",
      "Error: bikop.txt does not contain any TooltipEvent data\n",
      "Error: destr0yed_.txt does not contain any TooltipEvent data\n",
      "Ampelrennen processed\n",
      "['__egE.txt', 'Tammywood.txt', 'BunnyKiko.txt', 'SpeckyCut.txt', 'Hyxeed.txt', 'demiu.txt', 'SpinCrafter.txt', 'NanamiElvi.txt', '_n3d.txt', 'Sebi1801.txt', 'JayMinInSane.txt', 'Persidieus.txt', 'N3XV.txt', 'Wissender.txt', 'Gryzes.txt', 'jimmi4Life.txt', 'Gobo9.txt', 'Anni808.txt', 'LeWi_100.txt', '_Waldi_.txt', 'Grapfen.txt', 'PixlNight.txt', 'dossantosaveiro_.txt', 'agowskyy.txt', 'TheBreadHD.txt', 'Axollotel.txt', 'T_Niko_T.txt', 'Vanillinchen.txt', 'Odlaa.txt', 'D4rkCookie.txt', 'yzvm.txt', 'Tim_Voltia.txt', 'xBaumeisterin.txt', 'Ungluecklicher.txt', 'Lutorix.txt', 'Ninivee.txt', 'ArthurAlchemist.txt', 'redbrll.txt', 'Gfrasti.txt', 'Muniix.txt', 'Tomiokey.txt', 'Carl1_1.txt', 'DerAutist.txt', 'PolizeiDreamy.txt', 'xX_Dima_ggg_Xx6.txt', 'Falke23_5.txt', 'TheFabo.txt', 'DieserBear.txt', 'Picutar.txt', '2B9.txt', 'Schmaarek.txt', 'musi1999.txt', 'PumiTheCat.txt', 'HerrDante.txt', 'KakaMC.txt', 'StaudammAusHolz.txt', 'Lelouch610.txt', 'Kyuudo.txt', 'twitchparaskiill.txt', 'G0at3D.txt', 'SecretAgent_K.txt', 'KMaxN.txt', 'Sey__.txt', 'ForceFox.txt', 'toxicplace.txt', 'Gestimus.txt', 'yachayubin.txt', 'Wolkenfarmer.txt', 'y9nic.txt', 'KINT0.txt', 'zBro.txt', 'qriezmannsOpa.txt', 'Harold_Sensemann.txt', 'Pedrozockt.txt', 'MrNulfred.txt', 'Cytoox.txt', 'IchHolzDichWeg.txt', 'GingerTeddy.txt', 'Kopfradio.txt', 'loukrativ.txt', 'M0osebumps.txt', 'SmartyxD.txt', 'Kokochampo.txt', 'JennieKim.txt', 'Umgfoin.txt', 'ffawks.txt', 'byTobi.txt', 'Shiewk.txt', 'La_meleagro.txt', 'Squashgitter333.txt', 'Luxemburq.txt', 'DarkCobweb.txt', 'Sackkerl.txt', 'Sthyq.txt', 'Acidey.txt', 'Laaaachs.txt', 'HerosHD.txt', 'Lennart0911.txt', 'Gerrygames.txt', 'BusinessBent.txt', 'Simlll.txt', 'YBCM.txt', 'Txlentierter.txt', 'Dat_Klan.txt', 'Luis_XYZ.txt', 'NiklasMoWo.txt', 'MaxMitMaulkorb.txt', 'Oronor.txt', 'GamemasterNiki.txt', 'LordAlexos.txt', 'Pluto28.txt', 'GrafikKatze.txt', '_Einfallslos_.txt', 'cediiiiii_10.txt', 'Dokkkkko.txt', 'deadfiight.txt', 'Kanickelul.txt', 'crocodile1870.txt', 'Sower_.txt', 'Steavn.txt', 'EinfachEazy.txt', 'yiiq.txt', 'NotLennart.txt', 'Snitcherella.txt', 'Keenaai.txt', 'xd_Maiky.txt', 'ReichesBrot.txt', 'lolisamasan.txt', 'Raefinzs.txt', 'JOW24.txt', 'ByNetherdude.txt', 'ZweitesIch.txt', 'frutigall.txt', 'LilFueller.txt', 'xiooh.txt', 'rotmann2.txt', 'FlyingKyubi.txt', 'Joy_8oy.txt', 'BauHD.txt', 'CML_Justin.txt', 'MoZadaTV.txt', 'BastiGHG.txt', 'Gummibearchen.txt', 'Lord_Weibull.txt', 'VendasTM.txt', 'Stockinqs.txt', 'GlowyDusk.txt', 'Scuprum.txt', 'h4nnes.txt', 'cheesecake2901.txt', 'DrSpeed06.txt', 'Krusti.txt', 'marbrueck.txt', 'Vacted.txt', 'Janne4k.txt', 'Bartschii.txt', 'Mansuni.txt', 'SB387.txt', 'medisant.txt', 'Phoenix3000.txt', 'JOW23.txt', 'Ritokii.txt', 'Juti0n.txt', 'lvlaurin.txt', 'Bikoop.txt', 'FrozenNoah.txt', 'GeneralEnte06.txt', 'Dubbly.txt', 'revolverz.txt', 'Highsay.txt', 'ScreamingBlatz.txt', 'RyanxCole.txt', 'shellny.txt', 'TheKillerisback.txt', 'M0orey_0.txt', 'Mincheeen.txt', '2wc.txt', 'Feinberg.txt', 'Navex.txt', 'NewNormal0947.txt', 'Teesily.txt', 'SiLoHB.txt', 'Morittz.txt', 'cxl1lo.txt', 'LeMetin_.txt', 'unausgesprochen.txt', 'Freeeedom.txt', 'miridis41.txt', 'Joe3346.txt', 'Lingex.txt', 'xX_Masha_ggg_Xx9.txt', 'Julius16.txt', 'lizsyy.txt', 'camman18YT.txt', 'Jan2220.txt', 'Falke_01.txt', 'DaVinci_Son.txt', 'SatzdesPytag0ras.txt', 'Flitzi_Dino.txt', 'Wienerisch.txt', 'Seemops_8.txt', 'GermanPie.txt', 'chrisihalt.txt', 'FluffyDragon2007.txt', 'LucaaOn.txt', 'Allooy.txt', 'Chander24.txt', 'Fflopse.txt', 'bikop.txt', 'vKito.txt', 'bawskey.txt', 'RasenLP.txt', 'WirdNichtGeladen.txt', 'WuschigesEtwas.txt', 'OutcroYoutube.txt', 'HeIsJustAPoorBoy.txt', 'FlyingAutismus.txt', 'destr0yed_.txt', 'Ex4cted.txt', 'Mvsk_.txt', 'MaxOnTheRoad.txt', 'swiffle.txt', 'juvona.txt', 'Lubottus.txt', 'Nervigerr.txt', 'lolisamakun.txt', 'Martomias.txt', '20LeRe10.txt']\n",
      "processing Hoch hinaus...\n",
      "Error: Tammywood.txt does not contain any TooltipEvent data\n",
      "Error: demiu.txt does not contain any TooltipEvent data\n",
      "Error: JayMinInSane.txt does not contain any TooltipEvent data\n",
      "Error: KINT0.txt does not contain any TooltipEvent data\n",
      "Error: SmartyxD.txt does not contain any TooltipEvent data\n",
      "Error: Sower_.txt does not contain any TooltipEvent data\n",
      "Error: Lord_Weibull.txt does not contain any TooltipEvent data\n",
      "Error: Scuprum.txt does not contain any TooltipEvent data\n",
      "Error: Dubbly.txt does not contain any TooltipEvent data\n",
      "Error: bikop.txt does not contain any TooltipEvent data\n",
      "Error: destr0yed_.txt does not contain any TooltipEvent data\n",
      "Hoch hinaus processed\n",
      "['__egE.txt', 'Tammywood.txt', 'BunnyKiko.txt', 'SpeckyCut.txt', 'Hyxeed.txt', 'demiu.txt', 'SpinCrafter.txt', 'NanamiElvi.txt', '_n3d.txt', 'Sebi1801.txt', 'JayMinInSane.txt', 'Persidieus.txt', 'N3XV.txt', 'Wissender.txt', 'Gryzes.txt', 'jimmi4Life.txt', 'Gobo9.txt', 'Anni808.txt', 'LeWi_100.txt', '_Waldi_.txt', 'Grapfen.txt', 'PixlNight.txt', 'dossantosaveiro_.txt', 'agowskyy.txt', 'TheBreadHD.txt', 'Axollotel.txt', 'T_Niko_T.txt', 'Vanillinchen.txt', 'Odlaa.txt', 'D4rkCookie.txt', 'yzvm.txt', 'Tim_Voltia.txt', 'xBaumeisterin.txt', 'Ungluecklicher.txt', 'Lutorix.txt', 'Ninivee.txt', 'ArthurAlchemist.txt', 'redbrll.txt', 'Gfrasti.txt', 'Muniix.txt', 'Tomiokey.txt', 'Carl1_1.txt', 'DerAutist.txt', 'PolizeiDreamy.txt', 'xX_Dima_ggg_Xx6.txt', 'Falke23_5.txt', 'TheFabo.txt', 'DieserBear.txt', 'Picutar.txt', '2B9.txt', 'Schmaarek.txt', 'musi1999.txt', 'PumiTheCat.txt', 'HerrDante.txt', 'KakaMC.txt', 'StaudammAusHolz.txt', 'Lelouch610.txt', 'Kyuudo.txt', 'twitchparaskiill.txt', 'G0at3D.txt', 'SecretAgent_K.txt', 'KMaxN.txt', 'Sey__.txt', 'ForceFox.txt', 'toxicplace.txt', 'Gestimus.txt', 'yachayubin.txt', 'Wolkenfarmer.txt', 'y9nic.txt', 'KINT0.txt', 'zBro.txt', 'qriezmannsOpa.txt', 'Harold_Sensemann.txt', 'Pedrozockt.txt', 'MrNulfred.txt', 'Cytoox.txt', 'IchHolzDichWeg.txt', 'GingerTeddy.txt', 'Kopfradio.txt', 'loukrativ.txt', 'M0osebumps.txt', 'SmartyxD.txt', 'Kokochampo.txt', 'JennieKim.txt', 'Umgfoin.txt', 'ffawks.txt', 'byTobi.txt', 'Shiewk.txt', 'La_meleagro.txt', 'Squashgitter333.txt', 'Luxemburq.txt', 'DarkCobweb.txt', 'Sackkerl.txt', 'Sthyq.txt', 'Acidey.txt', 'Laaaachs.txt', 'HerosHD.txt', 'Lennart0911.txt', 'Gerrygames.txt', 'BusinessBent.txt', 'Simlll.txt', 'YBCM.txt', 'Txlentierter.txt', 'Dat_Klan.txt', 'Luis_XYZ.txt', 'NiklasMoWo.txt', 'MaxMitMaulkorb.txt', 'Oronor.txt', 'GamemasterNiki.txt', 'LordAlexos.txt', 'Pluto28.txt', 'GrafikKatze.txt', '_Einfallslos_.txt', 'cediiiiii_10.txt', 'Dokkkkko.txt', 'deadfiight.txt', 'Kanickelul.txt', 'crocodile1870.txt', 'Sower_.txt', 'Steavn.txt', 'EinfachEazy.txt', 'yiiq.txt', 'NotLennart.txt', 'Snitcherella.txt', 'Keenaai.txt', 'xd_Maiky.txt', 'ReichesBrot.txt', 'lolisamasan.txt', 'Raefinzs.txt', 'JOW24.txt', 'ByNetherdude.txt', 'ZweitesIch.txt', 'frutigall.txt', 'LilFueller.txt', 'xiooh.txt', 'rotmann2.txt', 'FlyingKyubi.txt', 'Joy_8oy.txt', 'BauHD.txt', 'CML_Justin.txt', 'MoZadaTV.txt', 'BastiGHG.txt', 'Gummibearchen.txt', 'Lord_Weibull.txt', 'VendasTM.txt', 'Stockinqs.txt', 'GlowyDusk.txt', 'Scuprum.txt', 'h4nnes.txt', 'cheesecake2901.txt', 'DrSpeed06.txt', 'Krusti.txt', 'marbrueck.txt', 'Vacted.txt', 'Janne4k.txt', 'Bartschii.txt', 'Mansuni.txt', 'SB387.txt', 'medisant.txt', 'Phoenix3000.txt', 'JOW23.txt', 'Ritokii.txt', 'Juti0n.txt', 'lvlaurin.txt', 'Bikoop.txt', 'FrozenNoah.txt', 'GeneralEnte06.txt', 'Dubbly.txt', 'revolverz.txt', 'Highsay.txt', 'ScreamingBlatz.txt', 'RyanxCole.txt', 'shellny.txt', 'TheKillerisback.txt', 'M0orey_0.txt', 'Mincheeen.txt', '2wc.txt', 'Feinberg.txt', 'Navex.txt', 'NewNormal0947.txt', 'Teesily.txt', 'SiLoHB.txt', 'Morittz.txt', 'cxl1lo.txt', 'LeMetin_.txt', 'unausgesprochen.txt', 'Freeeedom.txt', 'miridis41.txt', 'Joe3346.txt', 'Lingex.txt', 'xX_Masha_ggg_Xx9.txt', 'Julius16.txt', 'lizsyy.txt', 'camman18YT.txt', 'Jan2220.txt', 'Falke_01.txt', 'DaVinci_Son.txt', 'SatzdesPytag0ras.txt', 'Flitzi_Dino.txt', 'Wienerisch.txt', 'Seemops_8.txt', 'GermanPie.txt', 'chrisihalt.txt', 'FluffyDragon2007.txt', 'LucaaOn.txt', 'Allooy.txt', 'Chander24.txt', 'Fflopse.txt', 'bikop.txt', 'vKito.txt', 'bawskey.txt', 'RasenLP.txt', 'WirdNichtGeladen.txt', 'WuschigesEtwas.txt', 'OutcroYoutube.txt', 'HeIsJustAPoorBoy.txt', 'FlyingAutismus.txt', 'destr0yed_.txt', 'Ex4cted.txt', 'Mvsk_.txt', 'MaxOnTheRoad.txt', 'swiffle.txt', 'juvona.txt', 'Lubottus.txt', 'Nervigerr.txt', 'lolisamakun.txt', 'Martomias.txt', '20LeRe10.txt']\n",
      "processing Frostiger Pfad...\n",
      "Error: Tammywood.txt does not contain any TooltipEvent data\n",
      "Error: demiu.txt does not contain any TooltipEvent data\n",
      "Error: JayMinInSane.txt does not contain any TooltipEvent data\n",
      "Error: KINT0.txt does not contain any TooltipEvent data\n",
      "Error: SmartyxD.txt does not contain any TooltipEvent data\n",
      "Error: Sower_.txt does not contain any TooltipEvent data\n",
      "Error: Lord_Weibull.txt does not contain any TooltipEvent data\n",
      "Error: Scuprum.txt does not contain any TooltipEvent data\n",
      "Error: Dubbly.txt does not contain any TooltipEvent data\n",
      "Error: bikop.txt does not contain any TooltipEvent data\n",
      "Error: destr0yed_.txt does not contain any TooltipEvent data\n",
      "Frostiger Pfad processed\n",
      "['__egE.txt', 'Tammywood.txt', 'BunnyKiko.txt', 'SpeckyCut.txt', 'Hyxeed.txt', 'demiu.txt', 'SpinCrafter.txt', 'NanamiElvi.txt', '_n3d.txt', 'Sebi1801.txt', 'JayMinInSane.txt', 'Persidieus.txt', 'N3XV.txt', 'Wissender.txt', 'Gryzes.txt', 'jimmi4Life.txt', 'Gobo9.txt', 'Anni808.txt', 'LeWi_100.txt', '_Waldi_.txt', 'Grapfen.txt', 'PixlNight.txt', 'dossantosaveiro_.txt', 'agowskyy.txt', 'TheBreadHD.txt', 'Axollotel.txt', 'T_Niko_T.txt', 'Vanillinchen.txt', 'Odlaa.txt', 'D4rkCookie.txt', 'yzvm.txt', 'Tim_Voltia.txt', 'xBaumeisterin.txt', 'Ungluecklicher.txt', 'Lutorix.txt', 'Ninivee.txt', 'ArthurAlchemist.txt', 'redbrll.txt', 'Gfrasti.txt', 'Muniix.txt', 'Tomiokey.txt', 'Carl1_1.txt', 'DerAutist.txt', 'PolizeiDreamy.txt', 'xX_Dima_ggg_Xx6.txt', 'Falke23_5.txt', 'TheFabo.txt', 'DieserBear.txt', 'Picutar.txt', '2B9.txt', 'Schmaarek.txt', 'musi1999.txt', 'PumiTheCat.txt', 'HerrDante.txt', 'KakaMC.txt', 'StaudammAusHolz.txt', 'Lelouch610.txt', 'Kyuudo.txt', 'twitchparaskiill.txt', 'G0at3D.txt', 'SecretAgent_K.txt', 'KMaxN.txt', 'Sey__.txt', 'ForceFox.txt', 'toxicplace.txt', 'Gestimus.txt', 'yachayubin.txt', 'Wolkenfarmer.txt', 'y9nic.txt', 'KINT0.txt', 'zBro.txt', 'qriezmannsOpa.txt', 'Harold_Sensemann.txt', 'Pedrozockt.txt', 'MrNulfred.txt', 'Cytoox.txt', 'IchHolzDichWeg.txt', 'GingerTeddy.txt', 'Kopfradio.txt', 'loukrativ.txt', 'M0osebumps.txt', 'SmartyxD.txt', 'Kokochampo.txt', 'JennieKim.txt', 'Umgfoin.txt', 'ffawks.txt', 'byTobi.txt', 'Shiewk.txt', 'La_meleagro.txt', 'Squashgitter333.txt', 'Luxemburq.txt', 'DarkCobweb.txt', 'Sackkerl.txt', 'Sthyq.txt', 'Acidey.txt', 'Laaaachs.txt', 'HerosHD.txt', 'Lennart0911.txt', 'Gerrygames.txt', 'BusinessBent.txt', 'Simlll.txt', 'YBCM.txt', 'Txlentierter.txt', 'Dat_Klan.txt', 'Luis_XYZ.txt', 'NiklasMoWo.txt', 'MaxMitMaulkorb.txt', 'Oronor.txt', 'GamemasterNiki.txt', 'LordAlexos.txt', 'Pluto28.txt', 'GrafikKatze.txt', '_Einfallslos_.txt', 'cediiiiii_10.txt', 'Dokkkkko.txt', 'deadfiight.txt', 'Kanickelul.txt', 'crocodile1870.txt', 'Sower_.txt', 'Steavn.txt', 'EinfachEazy.txt', 'yiiq.txt', 'NotLennart.txt', 'Snitcherella.txt', 'Keenaai.txt', 'xd_Maiky.txt', 'ReichesBrot.txt', 'lolisamasan.txt', 'Raefinzs.txt', 'JOW24.txt', 'ByNetherdude.txt', 'ZweitesIch.txt', 'frutigall.txt', 'LilFueller.txt', 'xiooh.txt', 'rotmann2.txt', 'FlyingKyubi.txt', 'Joy_8oy.txt', 'BauHD.txt', 'CML_Justin.txt', 'MoZadaTV.txt', 'BastiGHG.txt', 'Gummibearchen.txt', 'Lord_Weibull.txt', 'VendasTM.txt', 'Stockinqs.txt', 'GlowyDusk.txt', 'Scuprum.txt', 'h4nnes.txt', 'cheesecake2901.txt', 'DrSpeed06.txt', 'Krusti.txt', 'marbrueck.txt', 'Vacted.txt', 'Janne4k.txt', 'Bartschii.txt', 'Mansuni.txt', 'SB387.txt', 'medisant.txt', 'Phoenix3000.txt', 'JOW23.txt', 'Ritokii.txt', 'Juti0n.txt', 'lvlaurin.txt', 'Bikoop.txt', 'FrozenNoah.txt', 'GeneralEnte06.txt', 'Dubbly.txt', 'revolverz.txt', 'Highsay.txt', 'ScreamingBlatz.txt', 'RyanxCole.txt', 'shellny.txt', 'TheKillerisback.txt', 'M0orey_0.txt', 'Mincheeen.txt', '2wc.txt', 'Feinberg.txt', 'Navex.txt', 'NewNormal0947.txt', 'Teesily.txt', 'SiLoHB.txt', 'Morittz.txt', 'cxl1lo.txt', 'LeMetin_.txt', 'unausgesprochen.txt', 'Freeeedom.txt', 'miridis41.txt', 'Joe3346.txt', 'Lingex.txt', 'xX_Masha_ggg_Xx9.txt', 'Julius16.txt', 'lizsyy.txt', 'camman18YT.txt', 'Jan2220.txt', 'Falke_01.txt', 'DaVinci_Son.txt', 'SatzdesPytag0ras.txt', 'Flitzi_Dino.txt', 'Wienerisch.txt', 'Seemops_8.txt', 'GermanPie.txt', 'chrisihalt.txt', 'FluffyDragon2007.txt', 'LucaaOn.txt', 'Allooy.txt', 'Chander24.txt', 'Fflopse.txt', 'bikop.txt', 'vKito.txt', 'bawskey.txt', 'RasenLP.txt', 'WirdNichtGeladen.txt', 'WuschigesEtwas.txt', 'OutcroYoutube.txt', 'HeIsJustAPoorBoy.txt', 'FlyingAutismus.txt', 'destr0yed_.txt', 'Ex4cted.txt', 'Mvsk_.txt', 'MaxOnTheRoad.txt', 'swiffle.txt', 'juvona.txt', 'Lubottus.txt', 'Nervigerr.txt', 'lolisamakun.txt', 'Martomias.txt', '20LeRe10.txt']\n",
      "processing Runterpurzeln...\n",
      "Error: Tammywood.txt does not contain any TooltipEvent data\n",
      "Error: demiu.txt does not contain any TooltipEvent data\n",
      "Error: JayMinInSane.txt does not contain any TooltipEvent data\n",
      "Error: KINT0.txt does not contain any TooltipEvent data\n",
      "Error: SmartyxD.txt does not contain any TooltipEvent data\n",
      "Error: Sower_.txt does not contain any TooltipEvent data\n",
      "Error: Lord_Weibull.txt does not contain any TooltipEvent data\n",
      "Error: Scuprum.txt does not contain any TooltipEvent data\n",
      "Error: Dubbly.txt does not contain any TooltipEvent data\n",
      "Error: bikop.txt does not contain any TooltipEvent data\n",
      "Error: destr0yed_.txt does not contain any TooltipEvent data\n",
      "Runterpurzeln processed\n",
      "['__egE.txt', 'Tammywood.txt', 'BunnyKiko.txt', 'SpeckyCut.txt', 'Hyxeed.txt', 'demiu.txt', 'SpinCrafter.txt', 'NanamiElvi.txt', '_n3d.txt', 'Sebi1801.txt', 'JayMinInSane.txt', 'Persidieus.txt', 'N3XV.txt', 'Wissender.txt', 'Gryzes.txt', 'jimmi4Life.txt', 'Gobo9.txt', 'Anni808.txt', 'LeWi_100.txt', '_Waldi_.txt', 'Grapfen.txt', 'PixlNight.txt', 'dossantosaveiro_.txt', 'agowskyy.txt', 'TheBreadHD.txt', 'Axollotel.txt', 'T_Niko_T.txt', 'Vanillinchen.txt', 'Odlaa.txt', 'D4rkCookie.txt', 'yzvm.txt', 'Tim_Voltia.txt', 'xBaumeisterin.txt', 'Ungluecklicher.txt', 'Lutorix.txt', 'Ninivee.txt', 'ArthurAlchemist.txt', 'redbrll.txt', 'Gfrasti.txt', 'Muniix.txt', 'Tomiokey.txt', 'Carl1_1.txt', 'DerAutist.txt', 'PolizeiDreamy.txt', 'xX_Dima_ggg_Xx6.txt', 'Falke23_5.txt', 'TheFabo.txt', 'DieserBear.txt', 'Picutar.txt', '2B9.txt', 'Schmaarek.txt', 'musi1999.txt', 'PumiTheCat.txt', 'HerrDante.txt', 'KakaMC.txt', 'StaudammAusHolz.txt', 'Lelouch610.txt', 'Kyuudo.txt', 'twitchparaskiill.txt', 'G0at3D.txt', 'SecretAgent_K.txt', 'KMaxN.txt', 'Sey__.txt', 'ForceFox.txt', 'toxicplace.txt', 'Gestimus.txt', 'yachayubin.txt', 'Wolkenfarmer.txt', 'y9nic.txt', 'KINT0.txt', 'zBro.txt', 'qriezmannsOpa.txt', 'Harold_Sensemann.txt', 'Pedrozockt.txt', 'MrNulfred.txt', 'Cytoox.txt', 'IchHolzDichWeg.txt', 'GingerTeddy.txt', 'Kopfradio.txt', 'loukrativ.txt', 'M0osebumps.txt', 'SmartyxD.txt', 'Kokochampo.txt', 'JennieKim.txt', 'Umgfoin.txt', 'ffawks.txt', 'byTobi.txt', 'Shiewk.txt', 'La_meleagro.txt', 'Squashgitter333.txt', 'Luxemburq.txt', 'DarkCobweb.txt', 'Sackkerl.txt', 'Sthyq.txt', 'Acidey.txt', 'Laaaachs.txt', 'HerosHD.txt', 'Lennart0911.txt', 'Gerrygames.txt', 'BusinessBent.txt', 'Simlll.txt', 'YBCM.txt', 'Txlentierter.txt', 'Dat_Klan.txt', 'Luis_XYZ.txt', 'NiklasMoWo.txt', 'MaxMitMaulkorb.txt', 'Oronor.txt', 'GamemasterNiki.txt', 'LordAlexos.txt', 'Pluto28.txt', 'GrafikKatze.txt', '_Einfallslos_.txt', 'cediiiiii_10.txt', 'Dokkkkko.txt', 'deadfiight.txt', 'Kanickelul.txt', 'crocodile1870.txt', 'Sower_.txt', 'Steavn.txt', 'EinfachEazy.txt', 'yiiq.txt', 'NotLennart.txt', 'Snitcherella.txt', 'Keenaai.txt', 'xd_Maiky.txt', 'ReichesBrot.txt', 'lolisamasan.txt', 'Raefinzs.txt', 'JOW24.txt', 'ByNetherdude.txt', 'ZweitesIch.txt', 'frutigall.txt', 'LilFueller.txt', 'xiooh.txt', 'rotmann2.txt', 'FlyingKyubi.txt', 'Joy_8oy.txt', 'BauHD.txt', 'CML_Justin.txt', 'MoZadaTV.txt', 'BastiGHG.txt', 'Gummibearchen.txt', 'Lord_Weibull.txt', 'VendasTM.txt', 'Stockinqs.txt', 'GlowyDusk.txt', 'Scuprum.txt', 'h4nnes.txt', 'cheesecake2901.txt', 'DrSpeed06.txt', 'Krusti.txt', 'marbrueck.txt', 'Vacted.txt', 'Janne4k.txt', 'Bartschii.txt', 'Mansuni.txt', 'SB387.txt', 'medisant.txt', 'Phoenix3000.txt', 'JOW23.txt', 'Ritokii.txt', 'Juti0n.txt', 'lvlaurin.txt', 'Bikoop.txt', 'FrozenNoah.txt', 'GeneralEnte06.txt', 'Dubbly.txt', 'revolverz.txt', 'Highsay.txt', 'ScreamingBlatz.txt', 'RyanxCole.txt', 'shellny.txt', 'TheKillerisback.txt', 'M0orey_0.txt', 'Mincheeen.txt', '2wc.txt', 'Feinberg.txt', 'Navex.txt', 'NewNormal0947.txt', 'Teesily.txt', 'SiLoHB.txt', 'Morittz.txt', 'cxl1lo.txt', 'LeMetin_.txt', 'unausgesprochen.txt', 'Freeeedom.txt', 'miridis41.txt', 'Joe3346.txt', 'Lingex.txt', 'xX_Masha_ggg_Xx9.txt', 'Julius16.txt', 'lizsyy.txt', 'camman18YT.txt', 'Jan2220.txt', 'Falke_01.txt', 'DaVinci_Son.txt', 'SatzdesPytag0ras.txt', 'Flitzi_Dino.txt', 'Wienerisch.txt', 'Seemops_8.txt', 'GermanPie.txt', 'chrisihalt.txt', 'FluffyDragon2007.txt', 'LucaaOn.txt', 'Allooy.txt', 'Chander24.txt', 'Fflopse.txt', 'bikop.txt', 'vKito.txt', 'bawskey.txt', 'RasenLP.txt', 'WirdNichtGeladen.txt', 'WuschigesEtwas.txt', 'OutcroYoutube.txt', 'HeIsJustAPoorBoy.txt', 'FlyingAutismus.txt', 'destr0yed_.txt', 'Ex4cted.txt', 'Mvsk_.txt', 'MaxOnTheRoad.txt', 'swiffle.txt', 'juvona.txt', 'Lubottus.txt', 'Nervigerr.txt', 'lolisamakun.txt', 'Martomias.txt', '20LeRe10.txt']\n",
      "processing Blockhüpfer...\n",
      "Error: Tammywood.txt does not contain any TooltipEvent data\n",
      "Error: demiu.txt does not contain any TooltipEvent data\n",
      "Error: JayMinInSane.txt does not contain any TooltipEvent data\n",
      "Error: KINT0.txt does not contain any TooltipEvent data\n",
      "Error: SmartyxD.txt does not contain any TooltipEvent data\n",
      "Error: Sower_.txt does not contain any TooltipEvent data\n",
      "Error: Lord_Weibull.txt does not contain any TooltipEvent data\n",
      "Error: Scuprum.txt does not contain any TooltipEvent data\n",
      "Error: Dubbly.txt does not contain any TooltipEvent data\n",
      "Error: bikop.txt does not contain any TooltipEvent data\n",
      "Error: destr0yed_.txt does not contain any TooltipEvent data\n",
      "Blockhüpfer processed\n"
     ]
    }
   ],
   "source": [
    "for minigame in (pointMiniGames + \", \" + timeMiniGames).split(', '): \n",
    "    temp = getBestPlayer(minigame=minigame)\n",
    "\n",
    "    # rename PointSum to minigame name\n",
    "    temp.rename(columns={'PointSum': minigame}, inplace=True)\n",
    "\n",
    "    # drop all columns but the pointDf column\n",
    "    temp = temp[[minigame]]\n",
    "\n",
    "    # concat all minigame dataframes\n",
    "    try: \n",
    "        outDf = pd.concat([outDf, temp], axis=1)\n",
    "    except: \n",
    "        outDf = temp\n"
   ]
  },
  {
   "cell_type": "code",
   "execution_count": 208,
   "metadata": {},
   "outputs": [
    {
     "data": {
      "text/html": [
       "<div>\n",
       "<style scoped>\n",
       "    .dataframe tbody tr th:only-of-type {\n",
       "        vertical-align: middle;\n",
       "    }\n",
       "\n",
       "    .dataframe tbody tr th {\n",
       "        vertical-align: top;\n",
       "    }\n",
       "\n",
       "    .dataframe thead th {\n",
       "        text-align: right;\n",
       "    }\n",
       "</style>\n",
       "<table border=\"1\" class=\"dataframe\">\n",
       "  <thead>\n",
       "    <tr style=\"text-align: right;\">\n",
       "      <th></th>\n",
       "      <th>Schießstand</th>\n",
       "      <th>Schießstand</th>\n",
       "      <th>Schießstand</th>\n",
       "    </tr>\n",
       "  </thead>\n",
       "  <tbody>\n",
       "    <tr>\n",
       "      <th>Allooy</th>\n",
       "      <td>10.0</td>\n",
       "      <td>10.0</td>\n",
       "      <td>10.0</td>\n",
       "    </tr>\n",
       "    <tr>\n",
       "      <th>cediiiiii_10</th>\n",
       "      <td>47.5</td>\n",
       "      <td>47.5</td>\n",
       "      <td>47.5</td>\n",
       "    </tr>\n",
       "    <tr>\n",
       "      <th>_n3d</th>\n",
       "      <td>10.0</td>\n",
       "      <td>10.0</td>\n",
       "      <td>10.0</td>\n",
       "    </tr>\n",
       "    <tr>\n",
       "      <th>qriezmannsOpa</th>\n",
       "      <td>42.5</td>\n",
       "      <td>42.5</td>\n",
       "      <td>42.5</td>\n",
       "    </tr>\n",
       "    <tr>\n",
       "      <th>Muniix</th>\n",
       "      <td>25.0</td>\n",
       "      <td>25.0</td>\n",
       "      <td>25.0</td>\n",
       "    </tr>\n",
       "    <tr>\n",
       "      <th>...</th>\n",
       "      <td>...</td>\n",
       "      <td>...</td>\n",
       "      <td>...</td>\n",
       "    </tr>\n",
       "    <tr>\n",
       "      <th>StaudammAusHolz</th>\n",
       "      <td>0.0</td>\n",
       "      <td>0.0</td>\n",
       "      <td>0.0</td>\n",
       "    </tr>\n",
       "    <tr>\n",
       "      <th>dossantosaveiro_</th>\n",
       "      <td>0.0</td>\n",
       "      <td>0.0</td>\n",
       "      <td>0.0</td>\n",
       "    </tr>\n",
       "    <tr>\n",
       "      <th>FluffyDragon2007</th>\n",
       "      <td>0.0</td>\n",
       "      <td>0.0</td>\n",
       "      <td>0.0</td>\n",
       "    </tr>\n",
       "    <tr>\n",
       "      <th>PolizeiDreamy</th>\n",
       "      <td>0.0</td>\n",
       "      <td>0.0</td>\n",
       "      <td>0.0</td>\n",
       "    </tr>\n",
       "    <tr>\n",
       "      <th>SmartyxD</th>\n",
       "      <td>0.0</td>\n",
       "      <td>NaN</td>\n",
       "      <td>NaN</td>\n",
       "    </tr>\n",
       "  </tbody>\n",
       "</table>\n",
       "<p>228 rows × 3 columns</p>\n",
       "</div>"
      ],
      "text/plain": [
       "                  Schießstand  Schießstand  Schießstand\n",
       "Allooy                   10.0         10.0         10.0\n",
       "cediiiiii_10             47.5         47.5         47.5\n",
       "_n3d                     10.0         10.0         10.0\n",
       "qriezmannsOpa            42.5         42.5         42.5\n",
       "Muniix                   25.0         25.0         25.0\n",
       "...                       ...          ...          ...\n",
       "StaudammAusHolz           0.0          0.0          0.0\n",
       "dossantosaveiro_          0.0          0.0          0.0\n",
       "FluffyDragon2007          0.0          0.0          0.0\n",
       "PolizeiDreamy             0.0          0.0          0.0\n",
       "SmartyxD                  0.0          NaN          NaN\n",
       "\n",
       "[228 rows x 3 columns]"
      ]
     },
     "execution_count": 208,
     "metadata": {},
     "output_type": "execute_result"
    }
   ],
   "source": [
    "outDf['Schießstand']"
   ]
  },
  {
   "cell_type": "code",
   "execution_count": 209,
   "metadata": {},
   "outputs": [
    {
     "name": "stdout",
     "output_type": "stream",
     "text": [
      "['__egE.txt', 'Tammywood.txt', 'BunnyKiko.txt', 'SpeckyCut.txt', 'Hyxeed.txt', 'demiu.txt', 'SpinCrafter.txt', 'NanamiElvi.txt', '_n3d.txt', 'Sebi1801.txt', 'JayMinInSane.txt', 'Persidieus.txt', 'N3XV.txt', 'Wissender.txt', 'Gryzes.txt', 'jimmi4Life.txt', 'Gobo9.txt', 'Anni808.txt', 'LeWi_100.txt', '_Waldi_.txt', 'Grapfen.txt', 'PixlNight.txt', 'dossantosaveiro_.txt', 'agowskyy.txt', 'TheBreadHD.txt', 'Axollotel.txt', 'T_Niko_T.txt', 'Vanillinchen.txt', 'Odlaa.txt', 'D4rkCookie.txt', 'yzvm.txt', 'Tim_Voltia.txt', 'xBaumeisterin.txt', 'Ungluecklicher.txt', 'Lutorix.txt', 'Ninivee.txt', 'ArthurAlchemist.txt', 'redbrll.txt', 'Gfrasti.txt', 'Muniix.txt', 'Tomiokey.txt', 'Carl1_1.txt', 'DerAutist.txt', 'PolizeiDreamy.txt', 'xX_Dima_ggg_Xx6.txt', 'Falke23_5.txt', 'TheFabo.txt', 'DieserBear.txt', 'Picutar.txt', '2B9.txt', 'Schmaarek.txt', 'musi1999.txt', 'PumiTheCat.txt', 'HerrDante.txt', 'KakaMC.txt', 'StaudammAusHolz.txt', 'Lelouch610.txt', 'Kyuudo.txt', 'twitchparaskiill.txt', 'G0at3D.txt', 'SecretAgent_K.txt', 'KMaxN.txt', 'Sey__.txt', 'ForceFox.txt', 'toxicplace.txt', 'Gestimus.txt', 'yachayubin.txt', 'Wolkenfarmer.txt', 'y9nic.txt', 'KINT0.txt', 'zBro.txt', 'qriezmannsOpa.txt', 'Harold_Sensemann.txt', 'Pedrozockt.txt', 'MrNulfred.txt', 'Cytoox.txt', 'IchHolzDichWeg.txt', 'GingerTeddy.txt', 'Kopfradio.txt', 'loukrativ.txt', 'M0osebumps.txt', 'SmartyxD.txt', 'Kokochampo.txt', 'JennieKim.txt', 'Umgfoin.txt', 'ffawks.txt', 'byTobi.txt', 'Shiewk.txt', 'La_meleagro.txt', 'Squashgitter333.txt', 'Luxemburq.txt', 'DarkCobweb.txt', 'Sackkerl.txt', 'Sthyq.txt', 'Acidey.txt', 'Laaaachs.txt', 'HerosHD.txt', 'Lennart0911.txt', 'Gerrygames.txt', 'BusinessBent.txt', 'Simlll.txt', 'YBCM.txt', 'Txlentierter.txt', 'Dat_Klan.txt', 'Luis_XYZ.txt', 'NiklasMoWo.txt', 'MaxMitMaulkorb.txt', 'Oronor.txt', 'GamemasterNiki.txt', 'LordAlexos.txt', 'Pluto28.txt', 'GrafikKatze.txt', '_Einfallslos_.txt', 'cediiiiii_10.txt', 'Dokkkkko.txt', 'deadfiight.txt', 'Kanickelul.txt', 'crocodile1870.txt', 'Sower_.txt', 'Steavn.txt', 'EinfachEazy.txt', 'yiiq.txt', 'NotLennart.txt', 'Snitcherella.txt', 'Keenaai.txt', 'xd_Maiky.txt', 'ReichesBrot.txt', 'lolisamasan.txt', 'Raefinzs.txt', 'JOW24.txt', 'ByNetherdude.txt', 'ZweitesIch.txt', 'frutigall.txt', 'LilFueller.txt', 'xiooh.txt', 'rotmann2.txt', 'FlyingKyubi.txt', 'Joy_8oy.txt', 'BauHD.txt', 'CML_Justin.txt', 'MoZadaTV.txt', 'BastiGHG.txt', 'Gummibearchen.txt', 'Lord_Weibull.txt', 'VendasTM.txt', 'Stockinqs.txt', 'GlowyDusk.txt', 'Scuprum.txt', 'h4nnes.txt', 'cheesecake2901.txt', 'DrSpeed06.txt', 'Krusti.txt', 'marbrueck.txt', 'Vacted.txt', 'Janne4k.txt', 'Bartschii.txt', 'Mansuni.txt', 'SB387.txt', 'medisant.txt', 'Phoenix3000.txt', 'JOW23.txt', 'Ritokii.txt', 'Juti0n.txt', 'lvlaurin.txt', 'Bikoop.txt', 'FrozenNoah.txt', 'GeneralEnte06.txt', 'Dubbly.txt', 'revolverz.txt', 'Highsay.txt', 'ScreamingBlatz.txt', 'RyanxCole.txt', 'shellny.txt', 'TheKillerisback.txt', 'M0orey_0.txt', 'Mincheeen.txt', '2wc.txt', 'Feinberg.txt', 'Navex.txt', 'NewNormal0947.txt', 'Teesily.txt', 'SiLoHB.txt', 'Morittz.txt', 'cxl1lo.txt', 'LeMetin_.txt', 'unausgesprochen.txt', 'Freeeedom.txt', 'miridis41.txt', 'Joe3346.txt', 'Lingex.txt', 'xX_Masha_ggg_Xx9.txt', 'Julius16.txt', 'lizsyy.txt', 'camman18YT.txt', 'Jan2220.txt', 'Falke_01.txt', 'DaVinci_Son.txt', 'SatzdesPytag0ras.txt', 'Flitzi_Dino.txt', 'Wienerisch.txt', 'Seemops_8.txt', 'GermanPie.txt', 'chrisihalt.txt', 'FluffyDragon2007.txt', 'LucaaOn.txt', 'Allooy.txt', 'Chander24.txt', 'Fflopse.txt', 'bikop.txt', 'vKito.txt', 'bawskey.txt', 'RasenLP.txt', 'WirdNichtGeladen.txt', 'WuschigesEtwas.txt', 'OutcroYoutube.txt', 'HeIsJustAPoorBoy.txt', 'FlyingAutismus.txt', 'destr0yed_.txt', 'Ex4cted.txt', 'Mvsk_.txt', 'MaxOnTheRoad.txt', 'swiffle.txt', 'juvona.txt', 'Lubottus.txt', 'Nervigerr.txt', 'lolisamakun.txt', 'Martomias.txt', '20LeRe10.txt']\n",
      "processing Schießstand...\n",
      "Error: Tammywood.txt does not contain any TooltipEvent data\n",
      "Error: demiu.txt does not contain any TooltipEvent data\n",
      "Error: JayMinInSane.txt does not contain any TooltipEvent data\n",
      "Error: KINT0.txt does not contain any TooltipEvent data\n",
      "Error: SmartyxD.txt does not contain any TooltipEvent data\n",
      "Error: Sower_.txt does not contain any TooltipEvent data\n",
      "Error: Lord_Weibull.txt does not contain any TooltipEvent data\n",
      "Error: Scuprum.txt does not contain any TooltipEvent data\n",
      "Error: Dubbly.txt does not contain any TooltipEvent data\n",
      "Error: bikop.txt does not contain any TooltipEvent data\n",
      "Error: destr0yed_.txt does not contain any TooltipEvent data\n",
      "Schießstand processed\n"
     ]
    },
    {
     "data": {
      "text/html": [
       "<div>\n",
       "<style scoped>\n",
       "    .dataframe tbody tr th:only-of-type {\n",
       "        vertical-align: middle;\n",
       "    }\n",
       "\n",
       "    .dataframe tbody tr th {\n",
       "        vertical-align: top;\n",
       "    }\n",
       "\n",
       "    .dataframe thead th {\n",
       "        text-align: right;\n",
       "    }\n",
       "</style>\n",
       "<table border=\"1\" class=\"dataframe\">\n",
       "  <thead>\n",
       "    <tr style=\"text-align: right;\">\n",
       "      <th></th>\n",
       "      <th>City</th>\n",
       "      <th>Farm</th>\n",
       "      <th>Jungle</th>\n",
       "      <th>Punkte Chambers</th>\n",
       "      <th>PointSum</th>\n",
       "    </tr>\n",
       "  </thead>\n",
       "  <tbody>\n",
       "    <tr>\n",
       "      <th>Ex4cted</th>\n",
       "      <td>100.0</td>\n",
       "      <td>60.0</td>\n",
       "      <td>30.0</td>\n",
       "      <td>80.0</td>\n",
       "      <td>67.5</td>\n",
       "    </tr>\n",
       "    <tr>\n",
       "      <th>Fflopse</th>\n",
       "      <td>90.0</td>\n",
       "      <td>80.0</td>\n",
       "      <td>70.0</td>\n",
       "      <td>0.0</td>\n",
       "      <td>60.0</td>\n",
       "    </tr>\n",
       "    <tr>\n",
       "      <th>cediiiiii_10</th>\n",
       "      <td>20.0</td>\n",
       "      <td>30.0</td>\n",
       "      <td>90.0</td>\n",
       "      <td>50.0</td>\n",
       "      <td>47.5</td>\n",
       "    </tr>\n",
       "    <tr>\n",
       "      <th>JOW23</th>\n",
       "      <td>30.0</td>\n",
       "      <td>80.0</td>\n",
       "      <td>80.0</td>\n",
       "      <td>0.0</td>\n",
       "      <td>47.5</td>\n",
       "    </tr>\n",
       "    <tr>\n",
       "      <th>rotmann2</th>\n",
       "      <td>0.0</td>\n",
       "      <td>90.0</td>\n",
       "      <td>0.0</td>\n",
       "      <td>90.0</td>\n",
       "      <td>45.0</td>\n",
       "    </tr>\n",
       "    <tr>\n",
       "      <th>...</th>\n",
       "      <td>...</td>\n",
       "      <td>...</td>\n",
       "      <td>...</td>\n",
       "      <td>...</td>\n",
       "      <td>...</td>\n",
       "    </tr>\n",
       "    <tr>\n",
       "      <th>ffawks</th>\n",
       "      <td>0.0</td>\n",
       "      <td>0.0</td>\n",
       "      <td>0.0</td>\n",
       "      <td>0.0</td>\n",
       "      <td>0.0</td>\n",
       "    </tr>\n",
       "    <tr>\n",
       "      <th>byTobi</th>\n",
       "      <td>0.0</td>\n",
       "      <td>0.0</td>\n",
       "      <td>0.0</td>\n",
       "      <td>0.0</td>\n",
       "      <td>0.0</td>\n",
       "    </tr>\n",
       "    <tr>\n",
       "      <th>Shiewk</th>\n",
       "      <td>0.0</td>\n",
       "      <td>0.0</td>\n",
       "      <td>0.0</td>\n",
       "      <td>0.0</td>\n",
       "      <td>0.0</td>\n",
       "    </tr>\n",
       "    <tr>\n",
       "      <th>La_meleagro</th>\n",
       "      <td>0.0</td>\n",
       "      <td>0.0</td>\n",
       "      <td>0.0</td>\n",
       "      <td>0.0</td>\n",
       "      <td>0.0</td>\n",
       "    </tr>\n",
       "    <tr>\n",
       "      <th>20LeRe10</th>\n",
       "      <td>0.0</td>\n",
       "      <td>0.0</td>\n",
       "      <td>0.0</td>\n",
       "      <td>0.0</td>\n",
       "      <td>0.0</td>\n",
       "    </tr>\n",
       "  </tbody>\n",
       "</table>\n",
       "<p>214 rows × 5 columns</p>\n",
       "</div>"
      ],
      "text/plain": [
       "               City  Farm  Jungle  Punkte Chambers  PointSum\n",
       "Ex4cted       100.0  60.0    30.0             80.0      67.5\n",
       "Fflopse        90.0  80.0    70.0              0.0      60.0\n",
       "cediiiiii_10   20.0  30.0    90.0             50.0      47.5\n",
       "JOW23          30.0  80.0    80.0              0.0      47.5\n",
       "rotmann2        0.0  90.0     0.0             90.0      45.0\n",
       "...             ...   ...     ...              ...       ...\n",
       "ffawks          0.0   0.0     0.0              0.0       0.0\n",
       "byTobi          0.0   0.0     0.0              0.0       0.0\n",
       "Shiewk          0.0   0.0     0.0              0.0       0.0\n",
       "La_meleagro     0.0   0.0     0.0              0.0       0.0\n",
       "20LeRe10        0.0   0.0     0.0              0.0       0.0\n",
       "\n",
       "[214 rows x 5 columns]"
      ]
     },
     "execution_count": 209,
     "metadata": {},
     "output_type": "execute_result"
    }
   ],
   "source": [
    "getBestPlayer(minigame='Schießstand')"
   ]
  },
  {
   "cell_type": "code",
   "execution_count": 210,
   "metadata": {},
   "outputs": [
    {
     "data": {
      "text/plain": [
       "Index(['Sammelwahn', 'Schießstand', 'Mauerfall', 'Mini Survivalgames',\n",
       "       'Lasertag', 'Minengefecht', 'Einer im Köcher', 'Spleef', 'Buntes Chaos',\n",
       "       'Reihenfolge', 'Duelle', 'Turmroulette', 'Wettrennen', 'Jump and Run',\n",
       "       'Pferderennen', 'Drachenflucht', 'Replika', 'Todeswürfel',\n",
       "       'Freier Fall', 'Elytrarennen', 'Waffenfolge', 'Minenfeld',\n",
       "       'Kletterkönig', 'Ampelrennen', 'Hoch hinaus', 'Frostiger Pfad',\n",
       "       'Runterpurzeln', 'Total', 'Parkour', 'Survivalgames', 'Skywars',\n",
       "       'Paintball', 'Blockhüpfer'],\n",
       "      dtype='object')"
      ]
     },
     "execution_count": 210,
     "metadata": {},
     "output_type": "execute_result"
    }
   ],
   "source": [
    "remove_duplicate_columns(outDf).columns"
   ]
  },
  {
   "cell_type": "code",
   "execution_count": 211,
   "metadata": {},
   "outputs": [
    {
     "data": {
      "image/png": "[encoded data removed]",
      "text/plain": [
       "<Figure size 2000x1400 with 1 Axes>"
      ]
     },
     "metadata": {},
     "output_type": "display_data"
    }
   ],
   "source": [
    "import matplotlib.pyplot as plt\n",
    "import plotly.express as px\n",
    "\n",
    "# print(outDf)\n",
    "\n",
    "# sum all lines to get the total score\n",
    "\n",
    "outDf['Total'] = outDf.sum(axis=1)\n",
    "\n",
    "outDf = outDf.sort_values(by='Total', ascending=False).fillna(0)\n",
    "\n",
    "# crop df to the top 10 players and plot the data, as a stacked barplot, place legend outside\n",
    "\n",
    "cropDf = outDf.head(10)\n",
    "\n",
    "cropDf = cropDf.drop(columns=['Total'])\n",
    "\n",
    "cropDf.plot(kind='bar', stacked=True, figsize=(20, 14))\n",
    "\n",
    "plt.legend(loc='center left', bbox_to_anchor=(1.0, 0.5))\n",
    "\n",
    "plt.show()"
   ]
  },
  {
   "cell_type": "code",
   "execution_count": 212,
   "metadata": {},
   "outputs": [
    {
     "data": {
      "text/html": [
       "<div>\n",
       "<style scoped>\n",
       "    .dataframe tbody tr th:only-of-type {\n",
       "        vertical-align: middle;\n",
       "    }\n",
       "\n",
       "    .dataframe tbody tr th {\n",
       "        vertical-align: top;\n",
       "    }\n",
       "\n",
       "    .dataframe thead th {\n",
       "        text-align: right;\n",
       "    }\n",
       "</style>\n",
       "<table border=\"1\" class=\"dataframe\">\n",
       "  <thead>\n",
       "    <tr style=\"text-align: right;\">\n",
       "      <th></th>\n",
       "      <th>Sammelwahn</th>\n",
       "      <th>Schießstand</th>\n",
       "      <th>Mauerfall</th>\n",
       "      <th>Mini Survivalgames</th>\n",
       "      <th>Lasertag</th>\n",
       "      <th>Minengefecht</th>\n",
       "      <th>Einer im Köcher</th>\n",
       "      <th>Spleef</th>\n",
       "      <th>Buntes Chaos</th>\n",
       "      <th>Reihenfolge</th>\n",
       "      <th>...</th>\n",
       "      <th>Freier Fall</th>\n",
       "      <th>Elytrarennen</th>\n",
       "      <th>Waffenfolge</th>\n",
       "      <th>Minenfeld</th>\n",
       "      <th>Kletterkönig</th>\n",
       "      <th>Ampelrennen</th>\n",
       "      <th>Hoch hinaus</th>\n",
       "      <th>Frostiger Pfad</th>\n",
       "      <th>Runterpurzeln</th>\n",
       "      <th>Blockhüpfer</th>\n",
       "    </tr>\n",
       "  </thead>\n",
       "  <tbody>\n",
       "    <tr>\n",
       "      <th>Allooy</th>\n",
       "      <td>21.025641</td>\n",
       "      <td>10.0</td>\n",
       "      <td>12.857143</td>\n",
       "      <td>0.0</td>\n",
       "      <td>0.000000</td>\n",
       "      <td>22.50</td>\n",
       "      <td>50.0</td>\n",
       "      <td>100.0</td>\n",
       "      <td>100.0</td>\n",
       "      <td>0.0</td>\n",
       "      <td>...</td>\n",
       "      <td>0.0</td>\n",
       "      <td>90.0</td>\n",
       "      <td>0.0</td>\n",
       "      <td>10.000000</td>\n",
       "      <td>23.333333</td>\n",
       "      <td>0.0</td>\n",
       "      <td>80.0</td>\n",
       "      <td>0.0</td>\n",
       "      <td>60.0</td>\n",
       "      <td>80.0</td>\n",
       "    </tr>\n",
       "    <tr>\n",
       "      <th>cediiiiii_10</th>\n",
       "      <td>41.538462</td>\n",
       "      <td>47.5</td>\n",
       "      <td>37.142857</td>\n",
       "      <td>0.0</td>\n",
       "      <td>10.000000</td>\n",
       "      <td>35.00</td>\n",
       "      <td>10.0</td>\n",
       "      <td>70.0</td>\n",
       "      <td>100.0</td>\n",
       "      <td>0.0</td>\n",
       "      <td>...</td>\n",
       "      <td>0.0</td>\n",
       "      <td>42.5</td>\n",
       "      <td>0.0</td>\n",
       "      <td>10.000000</td>\n",
       "      <td>23.333333</td>\n",
       "      <td>10.0</td>\n",
       "      <td>20.0</td>\n",
       "      <td>0.0</td>\n",
       "      <td>80.0</td>\n",
       "      <td>0.0</td>\n",
       "    </tr>\n",
       "    <tr>\n",
       "      <th>_n3d</th>\n",
       "      <td>17.692308</td>\n",
       "      <td>10.0</td>\n",
       "      <td>14.285714</td>\n",
       "      <td>0.0</td>\n",
       "      <td>30.000000</td>\n",
       "      <td>13.75</td>\n",
       "      <td>4.0</td>\n",
       "      <td>90.0</td>\n",
       "      <td>100.0</td>\n",
       "      <td>0.0</td>\n",
       "      <td>...</td>\n",
       "      <td>0.0</td>\n",
       "      <td>45.0</td>\n",
       "      <td>0.0</td>\n",
       "      <td>50.000000</td>\n",
       "      <td>20.000000</td>\n",
       "      <td>15.0</td>\n",
       "      <td>0.0</td>\n",
       "      <td>0.0</td>\n",
       "      <td>30.0</td>\n",
       "      <td>40.0</td>\n",
       "    </tr>\n",
       "    <tr>\n",
       "      <th>qriezmannsOpa</th>\n",
       "      <td>7.179487</td>\n",
       "      <td>42.5</td>\n",
       "      <td>0.000000</td>\n",
       "      <td>0.0</td>\n",
       "      <td>35.000000</td>\n",
       "      <td>10.00</td>\n",
       "      <td>0.0</td>\n",
       "      <td>90.0</td>\n",
       "      <td>50.0</td>\n",
       "      <td>0.0</td>\n",
       "      <td>...</td>\n",
       "      <td>0.0</td>\n",
       "      <td>42.5</td>\n",
       "      <td>0.0</td>\n",
       "      <td>46.666667</td>\n",
       "      <td>56.666667</td>\n",
       "      <td>0.0</td>\n",
       "      <td>0.0</td>\n",
       "      <td>0.0</td>\n",
       "      <td>70.0</td>\n",
       "      <td>0.0</td>\n",
       "    </tr>\n",
       "    <tr>\n",
       "      <th>Muniix</th>\n",
       "      <td>11.025641</td>\n",
       "      <td>25.0</td>\n",
       "      <td>24.285714</td>\n",
       "      <td>0.0</td>\n",
       "      <td>16.666667</td>\n",
       "      <td>10.00</td>\n",
       "      <td>4.0</td>\n",
       "      <td>70.0</td>\n",
       "      <td>100.0</td>\n",
       "      <td>0.0</td>\n",
       "      <td>...</td>\n",
       "      <td>0.0</td>\n",
       "      <td>12.5</td>\n",
       "      <td>0.0</td>\n",
       "      <td>0.000000</td>\n",
       "      <td>46.666667</td>\n",
       "      <td>0.0</td>\n",
       "      <td>0.0</td>\n",
       "      <td>0.0</td>\n",
       "      <td>100.0</td>\n",
       "      <td>0.0</td>\n",
       "    </tr>\n",
       "    <tr>\n",
       "      <th>...</th>\n",
       "      <td>...</td>\n",
       "      <td>...</td>\n",
       "      <td>...</td>\n",
       "      <td>...</td>\n",
       "      <td>...</td>\n",
       "      <td>...</td>\n",
       "      <td>...</td>\n",
       "      <td>...</td>\n",
       "      <td>...</td>\n",
       "      <td>...</td>\n",
       "      <td>...</td>\n",
       "      <td>...</td>\n",
       "      <td>...</td>\n",
       "      <td>...</td>\n",
       "      <td>...</td>\n",
       "      <td>...</td>\n",
       "      <td>...</td>\n",
       "      <td>...</td>\n",
       "      <td>...</td>\n",
       "      <td>...</td>\n",
       "      <td>...</td>\n",
       "    </tr>\n",
       "    <tr>\n",
       "      <th>WuschigesEtwas</th>\n",
       "      <td>0.000000</td>\n",
       "      <td>0.0</td>\n",
       "      <td>0.000000</td>\n",
       "      <td>0.0</td>\n",
       "      <td>0.000000</td>\n",
       "      <td>0.00</td>\n",
       "      <td>0.0</td>\n",
       "      <td>0.0</td>\n",
       "      <td>0.0</td>\n",
       "      <td>0.0</td>\n",
       "      <td>...</td>\n",
       "      <td>0.0</td>\n",
       "      <td>0.0</td>\n",
       "      <td>0.0</td>\n",
       "      <td>0.000000</td>\n",
       "      <td>0.000000</td>\n",
       "      <td>0.0</td>\n",
       "      <td>0.0</td>\n",
       "      <td>0.0</td>\n",
       "      <td>0.0</td>\n",
       "      <td>0.0</td>\n",
       "    </tr>\n",
       "    <tr>\n",
       "      <th>Dubbly</th>\n",
       "      <td>0.000000</td>\n",
       "      <td>0.0</td>\n",
       "      <td>0.000000</td>\n",
       "      <td>0.0</td>\n",
       "      <td>0.000000</td>\n",
       "      <td>0.00</td>\n",
       "      <td>0.0</td>\n",
       "      <td>0.0</td>\n",
       "      <td>0.0</td>\n",
       "      <td>0.0</td>\n",
       "      <td>...</td>\n",
       "      <td>0.0</td>\n",
       "      <td>0.0</td>\n",
       "      <td>0.0</td>\n",
       "      <td>0.000000</td>\n",
       "      <td>0.000000</td>\n",
       "      <td>0.0</td>\n",
       "      <td>0.0</td>\n",
       "      <td>0.0</td>\n",
       "      <td>0.0</td>\n",
       "      <td>0.0</td>\n",
       "    </tr>\n",
       "    <tr>\n",
       "      <th>Mvsk_</th>\n",
       "      <td>0.000000</td>\n",
       "      <td>0.0</td>\n",
       "      <td>0.000000</td>\n",
       "      <td>0.0</td>\n",
       "      <td>0.000000</td>\n",
       "      <td>0.00</td>\n",
       "      <td>0.0</td>\n",
       "      <td>0.0</td>\n",
       "      <td>0.0</td>\n",
       "      <td>0.0</td>\n",
       "      <td>...</td>\n",
       "      <td>0.0</td>\n",
       "      <td>0.0</td>\n",
       "      <td>0.0</td>\n",
       "      <td>0.000000</td>\n",
       "      <td>0.000000</td>\n",
       "      <td>0.0</td>\n",
       "      <td>0.0</td>\n",
       "      <td>0.0</td>\n",
       "      <td>0.0</td>\n",
       "      <td>0.0</td>\n",
       "    </tr>\n",
       "    <tr>\n",
       "      <th>Highsay</th>\n",
       "      <td>0.000000</td>\n",
       "      <td>0.0</td>\n",
       "      <td>0.000000</td>\n",
       "      <td>0.0</td>\n",
       "      <td>0.000000</td>\n",
       "      <td>0.00</td>\n",
       "      <td>0.0</td>\n",
       "      <td>0.0</td>\n",
       "      <td>0.0</td>\n",
       "      <td>0.0</td>\n",
       "      <td>...</td>\n",
       "      <td>0.0</td>\n",
       "      <td>0.0</td>\n",
       "      <td>0.0</td>\n",
       "      <td>0.000000</td>\n",
       "      <td>0.000000</td>\n",
       "      <td>0.0</td>\n",
       "      <td>0.0</td>\n",
       "      <td>0.0</td>\n",
       "      <td>0.0</td>\n",
       "      <td>0.0</td>\n",
       "    </tr>\n",
       "    <tr>\n",
       "      <th>SmartyxD</th>\n",
       "      <td>0.000000</td>\n",
       "      <td>0.0</td>\n",
       "      <td>0.000000</td>\n",
       "      <td>0.0</td>\n",
       "      <td>0.000000</td>\n",
       "      <td>0.00</td>\n",
       "      <td>0.0</td>\n",
       "      <td>0.0</td>\n",
       "      <td>0.0</td>\n",
       "      <td>0.0</td>\n",
       "      <td>...</td>\n",
       "      <td>0.0</td>\n",
       "      <td>0.0</td>\n",
       "      <td>0.0</td>\n",
       "      <td>0.000000</td>\n",
       "      <td>0.000000</td>\n",
       "      <td>0.0</td>\n",
       "      <td>0.0</td>\n",
       "      <td>0.0</td>\n",
       "      <td>0.0</td>\n",
       "      <td>0.0</td>\n",
       "    </tr>\n",
       "  </tbody>\n",
       "</table>\n",
       "<p>228 rows × 93 columns</p>\n",
       "</div>"
      ],
      "text/plain": [
       "                Sammelwahn  Schießstand  Mauerfall  Mini Survivalgames  \\\n",
       "Allooy           21.025641         10.0  12.857143                 0.0   \n",
       "cediiiiii_10     41.538462         47.5  37.142857                 0.0   \n",
       "_n3d             17.692308         10.0  14.285714                 0.0   \n",
       "qriezmannsOpa     7.179487         42.5   0.000000                 0.0   \n",
       "Muniix           11.025641         25.0  24.285714                 0.0   \n",
       "...                    ...          ...        ...                 ...   \n",
       "WuschigesEtwas    0.000000          0.0   0.000000                 0.0   \n",
       "Dubbly            0.000000          0.0   0.000000                 0.0   \n",
       "Mvsk_             0.000000          0.0   0.000000                 0.0   \n",
       "Highsay           0.000000          0.0   0.000000                 0.0   \n",
       "SmartyxD          0.000000          0.0   0.000000                 0.0   \n",
       "\n",
       "                 Lasertag  Minengefecht  Einer im Köcher  Spleef  \\\n",
       "Allooy           0.000000         22.50             50.0   100.0   \n",
       "cediiiiii_10    10.000000         35.00             10.0    70.0   \n",
       "_n3d            30.000000         13.75              4.0    90.0   \n",
       "qriezmannsOpa   35.000000         10.00              0.0    90.0   \n",
       "Muniix          16.666667         10.00              4.0    70.0   \n",
       "...                   ...           ...              ...     ...   \n",
       "WuschigesEtwas   0.000000          0.00              0.0     0.0   \n",
       "Dubbly           0.000000          0.00              0.0     0.0   \n",
       "Mvsk_            0.000000          0.00              0.0     0.0   \n",
       "Highsay          0.000000          0.00              0.0     0.0   \n",
       "SmartyxD         0.000000          0.00              0.0     0.0   \n",
       "\n",
       "                Buntes Chaos  Reihenfolge  ...  Freier Fall  Elytrarennen  \\\n",
       "Allooy                 100.0          0.0  ...          0.0          90.0   \n",
       "cediiiiii_10           100.0          0.0  ...          0.0          42.5   \n",
       "_n3d                   100.0          0.0  ...          0.0          45.0   \n",
       "qriezmannsOpa           50.0          0.0  ...          0.0          42.5   \n",
       "Muniix                 100.0          0.0  ...          0.0          12.5   \n",
       "...                      ...          ...  ...          ...           ...   \n",
       "WuschigesEtwas           0.0          0.0  ...          0.0           0.0   \n",
       "Dubbly                   0.0          0.0  ...          0.0           0.0   \n",
       "Mvsk_                    0.0          0.0  ...          0.0           0.0   \n",
       "Highsay                  0.0          0.0  ...          0.0           0.0   \n",
       "SmartyxD                 0.0          0.0  ...          0.0           0.0   \n",
       "\n",
       "                Waffenfolge  Minenfeld  Kletterkönig  Ampelrennen  \\\n",
       "Allooy                  0.0  10.000000     23.333333          0.0   \n",
       "cediiiiii_10            0.0  10.000000     23.333333         10.0   \n",
       "_n3d                    0.0  50.000000     20.000000         15.0   \n",
       "qriezmannsOpa           0.0  46.666667     56.666667          0.0   \n",
       "Muniix                  0.0   0.000000     46.666667          0.0   \n",
       "...                     ...        ...           ...          ...   \n",
       "WuschigesEtwas          0.0   0.000000      0.000000          0.0   \n",
       "Dubbly                  0.0   0.000000      0.000000          0.0   \n",
       "Mvsk_                   0.0   0.000000      0.000000          0.0   \n",
       "Highsay                 0.0   0.000000      0.000000          0.0   \n",
       "SmartyxD                0.0   0.000000      0.000000          0.0   \n",
       "\n",
       "                Hoch hinaus  Frostiger Pfad  Runterpurzeln  Blockhüpfer  \n",
       "Allooy                 80.0             0.0           60.0         80.0  \n",
       "cediiiiii_10           20.0             0.0           80.0          0.0  \n",
       "_n3d                    0.0             0.0           30.0         40.0  \n",
       "qriezmannsOpa           0.0             0.0           70.0          0.0  \n",
       "Muniix                  0.0             0.0          100.0          0.0  \n",
       "...                     ...             ...            ...          ...  \n",
       "WuschigesEtwas          0.0             0.0            0.0          0.0  \n",
       "Dubbly                  0.0             0.0            0.0          0.0  \n",
       "Mvsk_                   0.0             0.0            0.0          0.0  \n",
       "Highsay                 0.0             0.0            0.0          0.0  \n",
       "SmartyxD                0.0             0.0            0.0          0.0  \n",
       "\n",
       "[228 rows x 93 columns]"
      ]
     },
     "execution_count": 212,
     "metadata": {},
     "output_type": "execute_result"
    }
   ],
   "source": [
    "outDf"
   ]
  },
  {
   "cell_type": "code",
   "execution_count": 213,
   "metadata": {},
   "outputs": [
    {
     "data": {
      "application/vnd.plotly.v1+json": {
       "config": {
        "plotlyServerURL": "https://plot.ly"
       },
       "data": [
        {
         "marker": {
          "color": "rgb(136, 204, 238)"
         },
         "name": "Ampelrennen",
         "type": "bar",
         "x": [
          "Allooy",
          "cediiiiii_10",
          "_n3d",
          "qriezmannsOpa",
          "Muniix",
          "chrisihalt",
          "Fflopse",
          "Ex4cted",
          "Gobo9",
          "NewNormal0947",
          "HerrDante",
          "Umgfoin",
          "Pedrozockt",
          "rotmann2",
          "ReichesBrot",
          "Lelouch610",
          "JennieKim",
          "Joe3346",
          "Ninivee",
          "FrozenNoah"
         ],
         "y": {
          "bdata": "AAAAAAAAAAAAAAAAAAAkQAAAAAAAAC5AAAAAAAAAAAAAAAAAAAAAAAAAAAAAAFRAAAAAAACAQUAAAAAAAIBRQAAAAAAAAElAAAAAAAAAAAAAAAAAAAAAAAAAAAAAAElAAAAAAACAS0AAAAAAAAAAAAAAAAAAAAAAAAAAAAAAAAAAAAAAAAAAAAAAAAAAAAAAAAAAAAAAAAAAAAAAAAAAAA==",
          "dtype": "f8"
         }
        },
        {
         "marker": {
          "color": "rgb(204, 102, 119)"
         },
         "name": "Blockhüpfer",
         "type": "bar",
         "x": [
          "Allooy",
          "cediiiiii_10",
          "_n3d",
          "qriezmannsOpa",
          "Muniix",
          "chrisihalt",
          "Fflopse",
          "Ex4cted",
          "Gobo9",
          "NewNormal0947",
          "HerrDante",
          "Umgfoin",
          "Pedrozockt",
          "rotmann2",
          "ReichesBrot",
          "Lelouch610",
          "JennieKim",
          "Joe3346",
          "Ninivee",
          "FrozenNoah"
         ],
         "y": {
          "bdata": "AAAAAAAAVEAAAAAAAAAAAAAAAAAAAERAAAAAAAAAAAAAAAAAAAAAAAAAAAAAgFZAAAAAAACAUUAAAAAAAABOQAAAAAAAAAAAAAAAAAAASUAAAAAAAAAAAAAAAAAAAAAAAAAAAAAAAAAAAAAAAAAAAAAAAAAAAFlAAAAAAAAAAAAAAAAAAAAAAAAAAAAAAAAAAAAAAAAAAAAAAAAAAAAAAA==",
          "dtype": "f8"
         }
        },
        {
         "marker": {
          "color": "rgb(221, 204, 119)"
         },
         "name": "Buntes Chaos",
         "type": "bar",
         "x": [
          "Allooy",
          "cediiiiii_10",
          "_n3d",
          "qriezmannsOpa",
          "Muniix",
          "chrisihalt",
          "Fflopse",
          "Ex4cted",
          "Gobo9",
          "NewNormal0947",
          "HerrDante",
          "Umgfoin",
          "Pedrozockt",
          "rotmann2",
          "ReichesBrot",
          "Lelouch610",
          "JennieKim",
          "Joe3346",
          "Ninivee",
          "FrozenNoah"
         ],
         "y": {
          "bdata": "AAAAAAAAWUAAAAAAAABZQAAAAAAAAFlAAAAAAAAASUAAAAAAAABZQAAAAAAAAElAAAAAAAAAWUAAAAAAAABZQAAAAAAAAElAAAAAAAAASUAAAAAAAABZQAAAAAAAAFlAAAAAAAAAWUAAAAAAAABJQAAAAAAAAFlAAAAAAAAASUAAAAAAAABJQAAAAAAAAAAAAAAAAAAAWUAAAAAAAAAAAA==",
          "dtype": "f8"
         }
        },
        {
         "marker": {
          "color": "rgb(17, 119, 51)"
         },
         "name": "Drachenflucht",
         "type": "bar",
         "x": [
          "Allooy",
          "cediiiiii_10",
          "_n3d",
          "qriezmannsOpa",
          "Muniix",
          "chrisihalt",
          "Fflopse",
          "Ex4cted",
          "Gobo9",
          "NewNormal0947",
          "HerrDante",
          "Umgfoin",
          "Pedrozockt",
          "rotmann2",
          "ReichesBrot",
          "Lelouch610",
          "JennieKim",
          "Joe3346",
          "Ninivee",
          "FrozenNoah"
         ],
         "y": {
          "bdata": "AAAAAACARkAAAAAAAABOQAAAAAAAAD5AAAAAAACAMUAAAAAAAAApQAAAAAAAAAAAAAAAAAAAAAAAAAAAAAAUQAAAAAAAAAAAAAAAAABASkAAAAAAAAAAAAAAAAAAADlAAAAAAAAAAAAAAAAAAAAeQAAAAAAAAAAAAAAAAAAAAAAAAAAAAAAAAAAAAAAAgDFAAAAAAAAAHkAAAAAAAAAAAA==",
          "dtype": "f8"
         }
        },
        {
         "marker": {
          "color": "rgb(51, 34, 136)"
         },
         "name": "Duelle",
         "type": "bar",
         "x": [
          "Allooy",
          "cediiiiii_10",
          "_n3d",
          "qriezmannsOpa",
          "Muniix",
          "chrisihalt",
          "Fflopse",
          "Ex4cted",
          "Gobo9",
          "NewNormal0947",
          "HerrDante",
          "Umgfoin",
          "Pedrozockt",
          "rotmann2",
          "ReichesBrot",
          "Lelouch610",
          "JennieKim",
          "Joe3346",
          "Ninivee",
          "FrozenNoah"
         ],
         "y": {
          "bdata": "AAAAAAAAAAAAAAAAAABOQAAAAAAAAAAAAAAAAAAAAAAAAAAAAAAAAAAAAAAAAE5AAAAAAAAAAAAAAAAAAAAAAAAAAAAAAAAAAAAAAAAAAAAAAAAAAAAAAAAAAAAAAAAAAAAAAAAAAAAAAAAAAAAAAAAAAAAAAAAAAAAAAAAAAAAAAAAAAAAAAAAAAAAAAAAAAAAAAAAAAAAAAAAAAAAAAA==",
          "dtype": "f8"
         }
        },
        {
         "marker": {
          "color": "rgb(170, 68, 153)"
         },
         "name": "Einer im Köcher",
         "type": "bar",
         "x": [
          "Allooy",
          "cediiiiii_10",
          "_n3d",
          "qriezmannsOpa",
          "Muniix",
          "chrisihalt",
          "Fflopse",
          "Ex4cted",
          "Gobo9",
          "NewNormal0947",
          "HerrDante",
          "Umgfoin",
          "Pedrozockt",
          "rotmann2",
          "ReichesBrot",
          "Lelouch610",
          "JennieKim",
          "Joe3346",
          "Ninivee",
          "FrozenNoah"
         ],
         "y": {
          "bdata": "AAAAAAAASUAAAAAAAAAkQAAAAAAAABBAAAAAAAAAAAAAAAAAAAAQQAAAAAAAAAAAAAAAAAAASEAAAAAAAAAwQAAAAAAAAAAAAAAAAAAAJEAAAAAAAABEQAAAAAAAAAAAAAAAAAAAAAAAAAAAAAAAAAAAAAAAAAAAAAAAAAAAEEAAAAAAAAAAAAAAAAAAAAAAAAAAAAAAAAAAAAAAAABGQA==",
          "dtype": "f8"
         }
        },
        {
         "marker": {
          "color": "rgb(68, 170, 153)"
         },
         "name": "Elytrarennen",
         "type": "bar",
         "x": [
          "Allooy",
          "cediiiiii_10",
          "_n3d",
          "qriezmannsOpa",
          "Muniix",
          "chrisihalt",
          "Fflopse",
          "Ex4cted",
          "Gobo9",
          "NewNormal0947",
          "HerrDante",
          "Umgfoin",
          "Pedrozockt",
          "rotmann2",
          "ReichesBrot",
          "Lelouch610",
          "JennieKim",
          "Joe3346",
          "Ninivee",
          "FrozenNoah"
         ],
         "y": {
          "bdata": "AAAAAACAVkAAAAAAAEBFQAAAAAAAgEZAAAAAAABARUAAAAAAAAApQAAAAAAAQE9AAAAAAAAALkAAAAAAAAAAAAAAAAAAAAAAAAAAAAAAHkAAAAAAAAAAAAAAAAAAAAAAAAAAAAAAAAAAAAAAAAApQAAAAAAAADRAAAAAAAAAAAAAAAAAAAAAAAAAAAAAgFFAAAAAAAAAAAAAAAAAAAAAAA==",
          "dtype": "f8"
         }
        },
        {
         "marker": {
          "color": "rgb(153, 153, 51)"
         },
         "name": "Freier Fall",
         "type": "bar",
         "x": [
          "Allooy",
          "cediiiiii_10",
          "_n3d",
          "qriezmannsOpa",
          "Muniix",
          "chrisihalt",
          "Fflopse",
          "Ex4cted",
          "Gobo9",
          "NewNormal0947",
          "HerrDante",
          "Umgfoin",
          "Pedrozockt",
          "rotmann2",
          "ReichesBrot",
          "Lelouch610",
          "JennieKim",
          "Joe3346",
          "Ninivee",
          "FrozenNoah"
         ],
         "y": {
          "bdata": "AAAAAAAAAAAAAAAAAAAAAAAAAAAAAAAAAAAAAAAAAAAAAAAAAAAAAAAAAAAAAAAAAAAAAAAAAAAAAAAAAAAAAAAAAAAAAAAAAAAAAAAAAAAAAAAAAAAAAAAAAAAAAAAAAAAAAAAAAAAAAAAAAAAAAAAAAAAAAAAAAAAAAAAAAAAAAAAAAAAAAAAAAAAAAAAAAAAAAAAAAAAAAAAAAAAAAA==",
          "dtype": "f8"
         }
        },
        {
         "marker": {
          "color": "rgb(136, 34, 85)"
         },
         "name": "Frostiger Pfad",
         "type": "bar",
         "x": [
          "Allooy",
          "cediiiiii_10",
          "_n3d",
          "qriezmannsOpa",
          "Muniix",
          "chrisihalt",
          "Fflopse",
          "Ex4cted",
          "Gobo9",
          "NewNormal0947",
          "HerrDante",
          "Umgfoin",
          "Pedrozockt",
          "rotmann2",
          "ReichesBrot",
          "Lelouch610",
          "JennieKim",
          "Joe3346",
          "Ninivee",
          "FrozenNoah"
         ],
         "y": {
          "bdata": "AAAAAAAAAAAAAAAAAAAAAAAAAAAAAAAAAAAAAAAAAAAAAAAAAAAAAAAAAAAAAAAAAAAAAAAAAAAAAAAAAAAAAAAAAAAAAAAAAAAAAAAAAAAAAAAAAAAAAAAAAAAAAAAAAAAAAAAAAAAAAAAAAAAAAAAAAAAAAAAAAAAAAAAAAAAAAAAAAAAAAAAAAAAAAAAAAAAAAAAAAAAAAAAAAAAAAA==",
          "dtype": "f8"
         }
        },
        {
         "marker": {
          "color": "rgb(102, 17, 0)"
         },
         "name": "Hoch hinaus",
         "type": "bar",
         "x": [
          "Allooy",
          "cediiiiii_10",
          "_n3d",
          "qriezmannsOpa",
          "Muniix",
          "chrisihalt",
          "Fflopse",
          "Ex4cted",
          "Gobo9",
          "NewNormal0947",
          "HerrDante",
          "Umgfoin",
          "Pedrozockt",
          "rotmann2",
          "ReichesBrot",
          "Lelouch610",
          "JennieKim",
          "Joe3346",
          "Ninivee",
          "FrozenNoah"
         ],
         "y": {
          "bdata": "AAAAAAAAVEAAAAAAAAA0QAAAAAAAAAAAAAAAAAAAAAAAAAAAAAAAAAAAAAAAAERAAAAAAAAASUAAAAAAAIBWQAAAAAAAAAAAAAAAAAAAAAAAAAAAAAAAAAAAAAAAAAAAAAAAAAAATkAAAAAAAAAAAAAAAAAAAAAAAAAAAAAAAAAAAAAAAAAAAAAAAAAAAAAAAAAAAACAUUAAAAAAAAAAAA==",
          "dtype": "f8"
         }
        },
        {
         "marker": {
          "color": "rgb(136, 136, 136)"
         },
         "name": "Jump and Run",
         "type": "bar",
         "x": [
          "Allooy",
          "cediiiiii_10",
          "_n3d",
          "qriezmannsOpa",
          "Muniix",
          "chrisihalt",
          "Fflopse",
          "Ex4cted",
          "Gobo9",
          "NewNormal0947",
          "HerrDante",
          "Umgfoin",
          "Pedrozockt",
          "rotmann2",
          "ReichesBrot",
          "Lelouch610",
          "JennieKim",
          "Joe3346",
          "Ninivee",
          "FrozenNoah"
         ],
         "y": {
          "bdata": "AAAAAAAAAAAAAAAAAAAAAAAAAAAAAAAAAAAAAAAAAAAAAAAAAAAAAAAAAAAAAAAAAAAAAAAAAAAAAAAAAAAAAAAAAAAAAAAAAAAAAAAAAAAAAAAAAAAAAAAAAAAAAAAAAAAAAAAAAAAAAAAAAAAAAAAAAAAAAAAAAAAAAAAAAAAAAAAAAAAAAAAAAAAAAAAAAAAAAAAAAAAAAAAAAAAAAA==",
          "dtype": "f8"
         }
        },
        {
         "marker": {
          "color": "rgb(136, 204, 238)"
         },
         "name": "Kletterkönig",
         "type": "bar",
         "x": [
          "Allooy",
          "cediiiiii_10",
          "_n3d",
          "qriezmannsOpa",
          "Muniix",
          "chrisihalt",
          "Fflopse",
          "Ex4cted",
          "Gobo9",
          "NewNormal0947",
          "HerrDante",
          "Umgfoin",
          "Pedrozockt",
          "rotmann2",
          "ReichesBrot",
          "Lelouch610",
          "JennieKim",
          "Joe3346",
          "Ninivee",
          "FrozenNoah"
         ],
         "y": {
          "bdata": "VVVVVVVVN0BVVVVVVVU3QAAAAAAAADRAVVVVVVVVTEBVVVVVVVVHQAAAAAAAACRAVVVVVVVVR0AAAAAAAAAAAKuqqqqqqhpAq6qqqqqqKkAAAAAAAAAkQAAAAAAAAAAAAAAAAAAAAAAAAAAAAAA0QKuqqqqqqlBAAAAAAAAAAAAAAAAAAAAAAAAAAAAAAD5AAAAAAAAAAAAAAAAAAAAAAA==",
          "dtype": "f8"
         }
        },
        {
         "marker": {
          "color": "rgb(204, 102, 119)"
         },
         "name": "Lasertag",
         "type": "bar",
         "x": [
          "Allooy",
          "cediiiiii_10",
          "_n3d",
          "qriezmannsOpa",
          "Muniix",
          "chrisihalt",
          "Fflopse",
          "Ex4cted",
          "Gobo9",
          "NewNormal0947",
          "HerrDante",
          "Umgfoin",
          "Pedrozockt",
          "rotmann2",
          "ReichesBrot",
          "Lelouch610",
          "JennieKim",
          "Joe3346",
          "Ninivee",
          "FrozenNoah"
         ],
         "y": {
          "bdata": "AAAAAAAAAAAAAAAAAAAkQAAAAAAAAD5AAAAAAACAQUCrqqqqqqowQAAAAAAAAAAAAAAAAAAAREAAAAAAAAAuQAAAAAAAAAAAAAAAAAAAAAAAAAAAAABEQFVVVVVVVTxAVVVVVVVVJ0AAAAAAAAAAAAAAAAAAABRAq6qqqqqqOkBVVVVVVVU3QAAAAAAAAAAAAAAAAAAAAAAAAAAAAAAAAA==",
          "dtype": "f8"
         }
        },
        {
         "marker": {
          "color": "rgb(221, 204, 119)"
         },
         "name": "Mauerfall",
         "type": "bar",
         "x": [
          "Allooy",
          "cediiiiii_10",
          "_n3d",
          "qriezmannsOpa",
          "Muniix",
          "chrisihalt",
          "Fflopse",
          "Ex4cted",
          "Gobo9",
          "NewNormal0947",
          "HerrDante",
          "Umgfoin",
          "Pedrozockt",
          "rotmann2",
          "ReichesBrot",
          "Lelouch610",
          "JennieKim",
          "Joe3346",
          "Ninivee",
          "FrozenNoah"
         ],
         "y": {
          "bdata": "btu2bdu2KUAlSZIkSZJCQCVJkiRJkixAAAAAAAAAAACSJEmSJEk4QAAAAAAAAAAAJUmSJEmSPEAAAAAAAAAAAG7btm3btilASZIkSZIkMUAlSZIkSZIsQLdt27Zt2xZAAAAAAAAANEAAAAAAAAAAAAAAAAAAAAAAAAAAAAAAAAAAAAAAAAAAALdt27Zt2xZAt23btm3bFkAAAAAAAAAAAA==",
          "dtype": "f8"
         }
        },
        {
         "marker": {
          "color": "rgb(17, 119, 51)"
         },
         "name": "Minenfeld",
         "type": "bar",
         "x": [
          "Allooy",
          "cediiiiii_10",
          "_n3d",
          "qriezmannsOpa",
          "Muniix",
          "chrisihalt",
          "Fflopse",
          "Ex4cted",
          "Gobo9",
          "NewNormal0947",
          "HerrDante",
          "Umgfoin",
          "Pedrozockt",
          "rotmann2",
          "ReichesBrot",
          "Lelouch610",
          "JennieKim",
          "Joe3346",
          "Ninivee",
          "FrozenNoah"
         ],
         "y": {
          "bdata": "AAAAAAAAJEAAAAAAAAAkQAAAAAAAAElAVVVVVVVVR0AAAAAAAAAAAKuqqqqqqkBAq6qqqqqqOkAAAAAAAAAAAAAAAAAAAAAAAAAAAAAAAAAAAAAAAAA+QAAAAAAAAAAAAAAAAAAAAAAAAAAAAAAAAKuqqqqqqjBAAAAAAAAAAAAAAAAAAAAAAFVVVVVVVTdAq6qqqqqqGkCrqqqqqqowQA==",
          "dtype": "f8"
         }
        },
        {
         "marker": {
          "color": "rgb(51, 34, 136)"
         },
         "name": "Minengefecht",
         "type": "bar",
         "x": [
          "Allooy",
          "cediiiiii_10",
          "_n3d",
          "qriezmannsOpa",
          "Muniix",
          "chrisihalt",
          "Fflopse",
          "Ex4cted",
          "Gobo9",
          "NewNormal0947",
          "HerrDante",
          "Umgfoin",
          "Pedrozockt",
          "rotmann2",
          "ReichesBrot",
          "Lelouch610",
          "JennieKim",
          "Joe3346",
          "Ninivee",
          "FrozenNoah"
         ],
         "y": {
          "bdata": "AAAAAACANkAAAAAAAIBBQAAAAAAAgCtAAAAAAAAAJEAAAAAAAAAkQAAAAAAAgDZAAAAAAAAADkAAAAAAAAAAAAAAAAAAADRAAAAAAAAADkAAAAAAAIAhQAAAAAAAAAAAAAAAAAAAAAAAAAAAAAAkQAAAAAAAAA5AAAAAAAAAKUAAAAAAAAAAAAAAAAAAAAAAAAAAAAAAAAAAAAAAAAA5QA==",
          "dtype": "f8"
         }
        },
        {
         "marker": {
          "color": "rgb(170, 68, 153)"
         },
         "name": "Mini Survivalgames",
         "type": "bar",
         "x": [
          "Allooy",
          "cediiiiii_10",
          "_n3d",
          "qriezmannsOpa",
          "Muniix",
          "chrisihalt",
          "Fflopse",
          "Ex4cted",
          "Gobo9",
          "NewNormal0947",
          "HerrDante",
          "Umgfoin",
          "Pedrozockt",
          "rotmann2",
          "ReichesBrot",
          "Lelouch610",
          "JennieKim",
          "Joe3346",
          "Ninivee",
          "FrozenNoah"
         ],
         "y": {
          "bdata": "AAAAAAAAAAAAAAAAAAAAAAAAAAAAAAAAAAAAAAAAAAAAAAAAAAAAAAAAAAAAAAAAAAAAAAAAAAAAAAAAAAAAAAAAAAAAAAAAAAAAAAAAAAAAAAAAAAAAAAAAAAAAAAAAAAAAAAAAAAAAAAAAAAAAAAAAAAAAAAAAAAAAAAAAAAAAAAAAAAAAAAAAAAAAAAAAAAAAAAAAAAAAAAAAAAAAAA==",
          "dtype": "f8"
         }
        },
        {
         "marker": {
          "color": "rgb(68, 170, 153)"
         },
         "name": "Paintball",
         "type": "bar",
         "x": [
          "Allooy",
          "cediiiiii_10",
          "_n3d",
          "qriezmannsOpa",
          "Muniix",
          "chrisihalt",
          "Fflopse",
          "Ex4cted",
          "Gobo9",
          "NewNormal0947",
          "HerrDante",
          "Umgfoin",
          "Pedrozockt",
          "rotmann2",
          "ReichesBrot",
          "Lelouch610",
          "JennieKim",
          "Joe3346",
          "Ninivee",
          "FrozenNoah"
         ],
         "y": {
          "bdata": "AAAAAAAAAAAAAAAAAAAAAAAAAAAAAAAAAAAAAAAAAAAAAAAAAAAAAAAAAAAAAAAAAAAAAAAAAAAAAAAAAAAAAAAAAAAAAAAAAAAAAAAAAAAAAAAAAAAAAAAAAAAAAAAAAAAAAAAAAAAAAAAAAAAAAAAAAAAAAAAAAAAAAAAAAAAAAAAAAAAAAAAAAAAAAAAAAAAAAAAAAAAAAAAAAAAAAA==",
          "dtype": "f8"
         }
        },
        {
         "marker": {
          "color": "rgb(153, 153, 51)"
         },
         "name": "Parkour",
         "type": "bar",
         "x": [
          "Allooy",
          "cediiiiii_10",
          "_n3d",
          "qriezmannsOpa",
          "Muniix",
          "chrisihalt",
          "Fflopse",
          "Ex4cted",
          "Gobo9",
          "NewNormal0947",
          "HerrDante",
          "Umgfoin",
          "Pedrozockt",
          "rotmann2",
          "ReichesBrot",
          "Lelouch610",
          "JennieKim",
          "Joe3346",
          "Ninivee",
          "FrozenNoah"
         ],
         "y": {
          "bdata": "AAAAAACgVEAAAAAAAIA7QAAAAAAAAC5AAAAAAABARUAAAAAAAEBAQAAAAAAAAD5AAAAAAACANkAAAAAAAAAAAAAAAAAAQE9AAAAAAAAAHkAAAAAAAAAAAAAAAAAAAAAAAAAAAAAAKUAAAAAAAAAAAAAAAAAAQFBAAAAAAAAAAAAAAAAAAAAAAAAAAAAAADRAAAAAAAAAAAAAAAAAAAAAAA==",
          "dtype": "f8"
         }
        },
        {
         "marker": {
          "color": "rgb(136, 34, 85)"
         },
         "name": "Pferderennen",
         "type": "bar",
         "x": [
          "Allooy",
          "cediiiiii_10",
          "_n3d",
          "qriezmannsOpa",
          "Muniix",
          "chrisihalt",
          "Fflopse",
          "Ex4cted",
          "Gobo9",
          "NewNormal0947",
          "HerrDante",
          "Umgfoin",
          "Pedrozockt",
          "rotmann2",
          "ReichesBrot",
          "Lelouch610",
          "JennieKim",
          "Joe3346",
          "Ninivee",
          "FrozenNoah"
         ],
         "y": {
          "bdata": "q6qqqqqqNUBVVVVVVdVJQAAAAAAAgEFAq6qqqqoqSEAAAAAAAAAUQKuqqqqqqkVAq6qqqqqqQEAAAAAAAAAAAAAAAAAAADlAq6qqqqqqKkCrqqqqqqoKQKuqqqqqqgpAVVVVVVVVJ0BVVVVVVVVHQKuqqqqqqjVAAAAAAAAAFECrqqqqqqpFQKuqqqqqqipAAAAAAAAAAAAAAAAAAAAAAA==",
          "dtype": "f8"
         }
        },
        {
         "marker": {
          "color": "rgb(102, 17, 0)"
         },
         "name": "Reihenfolge",
         "type": "bar",
         "x": [
          "Allooy",
          "cediiiiii_10",
          "_n3d",
          "qriezmannsOpa",
          "Muniix",
          "chrisihalt",
          "Fflopse",
          "Ex4cted",
          "Gobo9",
          "NewNormal0947",
          "HerrDante",
          "Umgfoin",
          "Pedrozockt",
          "rotmann2",
          "ReichesBrot",
          "Lelouch610",
          "JennieKim",
          "Joe3346",
          "Ninivee",
          "FrozenNoah"
         ],
         "y": {
          "bdata": "AAAAAAAAAAAAAAAAAAAAAAAAAAAAAAAAAAAAAAAAAAAAAAAAAAAAAAAAAAAAAAAAAAAAAAAAAAAAAAAAAAAAAAAAAAAAAAAAAAAAAAAAAAAAAAAAAAAAAAAAAAAAAAAAAAAAAAAAAAAAAAAAAAAAAAAAAAAAAAAAAAAAAAAAAAAAAAAAAAAAAAAAAAAAAAAAAAAAAAAAAAAAAAAAAAAAAA==",
          "dtype": "f8"
         }
        },
        {
         "marker": {
          "color": "rgb(136, 136, 136)"
         },
         "name": "Replika",
         "type": "bar",
         "x": [
          "Allooy",
          "cediiiiii_10",
          "_n3d",
          "qriezmannsOpa",
          "Muniix",
          "chrisihalt",
          "Fflopse",
          "Ex4cted",
          "Gobo9",
          "NewNormal0947",
          "HerrDante",
          "Umgfoin",
          "Pedrozockt",
          "rotmann2",
          "ReichesBrot",
          "Lelouch610",
          "JennieKim",
          "Joe3346",
          "Ninivee",
          "FrozenNoah"
         ],
         "y": {
          "bdata": "NUiDNEgDV0AndmIndmJOQOqhHuqhHlJABEZgBEZgHEAjMAIjMAI7QI7jOI7jOCZACYzACIzAMEC6n/u5n/tEQBQ7sRM7sUtAq6qqqqqqGkBt1mZt1mYNQJAGaZAGaeA/dmIndmInKkCQBmmQBmngP33Lt3zLtwxAXuEVXuEV7j+btVmbtVnbP5AGaZAGaeA/Fl7hFV7hxT8AAAAAAAAAAA==",
          "dtype": "f8"
         }
        },
        {
         "marker": {
          "color": "rgb(136, 204, 238)"
         },
         "name": "Runterpurzeln",
         "type": "bar",
         "x": [
          "Allooy",
          "cediiiiii_10",
          "_n3d",
          "qriezmannsOpa",
          "Muniix",
          "chrisihalt",
          "Fflopse",
          "Ex4cted",
          "Gobo9",
          "NewNormal0947",
          "HerrDante",
          "Umgfoin",
          "Pedrozockt",
          "rotmann2",
          "ReichesBrot",
          "Lelouch610",
          "JennieKim",
          "Joe3346",
          "Ninivee",
          "FrozenNoah"
         ],
         "y": {
          "bdata": "AAAAAAAATkAAAAAAAABUQAAAAAAAAD5AAAAAAACAUUAAAAAAAABZQAAAAAAAAAAAAAAAAAAAAAAAAAAAAABEQAAAAAAAAAAAAAAAAAAASUAAAAAAAAAAAAAAAAAAAAAAAAAAAAAAAAAAAAAAAAAAAAAAAAAAAAAAAAAAAAAAAAAAAAAAAAA0QAAAAAAAAAAAAAAAAAAAAAAAAAAAAAAAAA==",
          "dtype": "f8"
         }
        },
        {
         "marker": {
          "color": "rgb(204, 102, 119)"
         },
         "name": "Sammelwahn",
         "type": "bar",
         "x": [
          "Allooy",
          "cediiiiii_10",
          "_n3d",
          "qriezmannsOpa",
          "Muniix",
          "chrisihalt",
          "Fflopse",
          "Ex4cted",
          "Gobo9",
          "NewNormal0947",
          "HerrDante",
          "Umgfoin",
          "Pedrozockt",
          "rotmann2",
          "ReichesBrot",
          "Lelouch610",
          "JennieKim",
          "Joe3346",
          "Ninivee",
          "FrozenNoah"
         ],
         "y": {
          "bdata": "aZAGaZAGNUBP7MRO7MREQBQ7sRM7sTFAfcu3fMu3HEDSIA3SIA0mQAdpkAZpkBZASIM0SIM0LEAAAAAAAAA0QMu3fMu3fDNAsRM7sRM7M0DLt3zLt3wjQAAAAAAAACRANUiDNEiDFECe2Imd2IkVQGIndmIndgJA2Ymd2Imd6D/Lt3zLt3wTQGIndmIndhJA2Ymd2Imd+D81SIM0SIMEQA==",
          "dtype": "f8"
         }
        },
        {
         "marker": {
          "color": "rgb(221, 204, 119)"
         },
         "name": "Schießstand",
         "type": "bar",
         "x": [
          "Allooy",
          "cediiiiii_10",
          "_n3d",
          "qriezmannsOpa",
          "Muniix",
          "chrisihalt",
          "Fflopse",
          "Ex4cted",
          "Gobo9",
          "NewNormal0947",
          "HerrDante",
          "Umgfoin",
          "Pedrozockt",
          "rotmann2",
          "ReichesBrot",
          "Lelouch610",
          "JennieKim",
          "Joe3346",
          "Ninivee",
          "FrozenNoah"
         ],
         "y": {
          "bdata": "AAAAAAAAJEAAAAAAAMBHQAAAAAAAACRAAAAAAABARUAAAAAAAAA5QAAAAAAAAC5AAAAAAAAATkAAAAAAAOBQQAAAAAAAgDFAAAAAAAAAHkAAAAAAAIBBQAAAAAAAAAAAAAAAAAAAAAAAAAAAAIBGQAAAAAAAAAAAAAAAAAAAAAAAAAAAAAAAAAAAAAAAAAAAAAAAAAAAAAAAAAAAAAAAAA==",
          "dtype": "f8"
         }
        },
        {
         "marker": {
          "color": "rgb(17, 119, 51)"
         },
         "name": "Skywars",
         "type": "bar",
         "x": [
          "Allooy",
          "cediiiiii_10",
          "_n3d",
          "qriezmannsOpa",
          "Muniix",
          "chrisihalt",
          "Fflopse",
          "Ex4cted",
          "Gobo9",
          "NewNormal0947",
          "HerrDante",
          "Umgfoin",
          "Pedrozockt",
          "rotmann2",
          "ReichesBrot",
          "Lelouch610",
          "JennieKim",
          "Joe3346",
          "Ninivee",
          "FrozenNoah"
         ],
         "y": {
          "bdata": "AAAAAAAANEBVVVVVVVVMQKuqqqqqqjpAAAAAAAAAPkCrqqqqqqpAQAAAAAAAAC5Aq6qqqqqqKkCrqqqqqqoKQKuqqqqqKk1Aq6qqqqqqNUAAAAAAAAAAAKuqqqqqqjpAq6qqqqqqKkAAAAAAAAAAAKuqqqqqqjBAAAAAAAAAAAAAAAAAAAAAAFVVVVVVVSdAAAAAAAAAAAAAAAAAAAAkQA==",
          "dtype": "f8"
         }
        },
        {
         "marker": {
          "color": "rgb(51, 34, 136)"
         },
         "name": "Spleef",
         "type": "bar",
         "x": [
          "Allooy",
          "cediiiiii_10",
          "_n3d",
          "qriezmannsOpa",
          "Muniix",
          "chrisihalt",
          "Fflopse",
          "Ex4cted",
          "Gobo9",
          "NewNormal0947",
          "HerrDante",
          "Umgfoin",
          "Pedrozockt",
          "rotmann2",
          "ReichesBrot",
          "Lelouch610",
          "JennieKim",
          "Joe3346",
          "Ninivee",
          "FrozenNoah"
         ],
         "y": {
          "bdata": "AAAAAAAAWUAAAAAAAIBRQAAAAAAAgFZAAAAAAACAVkAAAAAAAIBRQAAAAAAAAAAAAAAAAAAAAAAAAAAAAAAAAAAAAAAAAAAAAAAAAACAUUAAAAAAAAAAAAAAAAAAADRAAAAAAAAAAAAAAAAAAIBRQAAAAAAAAAAAAAAAAACAUUAAAAAAAAA0QAAAAAAAAAAAAAAAAAAAAAAAAAAAAAAAAA==",
          "dtype": "f8"
         }
        },
        {
         "marker": {
          "color": "rgb(170, 68, 153)"
         },
         "name": "Survivalgames",
         "type": "bar",
         "x": [
          "Allooy",
          "cediiiiii_10",
          "_n3d",
          "qriezmannsOpa",
          "Muniix",
          "chrisihalt",
          "Fflopse",
          "Ex4cted",
          "Gobo9",
          "NewNormal0947",
          "HerrDante",
          "Umgfoin",
          "Pedrozockt",
          "rotmann2",
          "ReichesBrot",
          "Lelouch610",
          "JennieKim",
          "Joe3346",
          "Ninivee",
          "FrozenNoah"
         ],
         "y": {
          "bdata": "AAAAAABASkAAAAAAAIBGQAAAAAAAAB5AAAAAAACANkAAAAAAACBSQAAAAAAAgEZAAAAAAAAAAAAAAAAAAAAAAAAAAAAAACRAAAAAAAAASUAAAAAAAAAeQAAAAAAAQEBAAAAAAAAAAAAAAAAAAMBCQAAAAAAAgDZAAAAAAAAAAAAAAAAAAEBAQAAAAAAAAAAAAAAAAAAAFEAAAAAAAAA+QA==",
          "dtype": "f8"
         }
        },
        {
         "marker": {
          "color": "rgb(68, 170, 153)"
         },
         "name": "Todeswürfel",
         "type": "bar",
         "x": [
          "Allooy",
          "cediiiiii_10",
          "_n3d",
          "qriezmannsOpa",
          "Muniix",
          "chrisihalt",
          "Fflopse",
          "Ex4cted",
          "Gobo9",
          "NewNormal0947",
          "HerrDante",
          "Umgfoin",
          "Pedrozockt",
          "rotmann2",
          "ReichesBrot",
          "Lelouch610",
          "JennieKim",
          "Joe3346",
          "Ninivee",
          "FrozenNoah"
         ],
         "y": {
          "bdata": "AAAAAAAAAAAAAAAAAAAAAAAAAAAAAAAAAAAAAAAAAAAAAAAAAAAAAAAAAAAAAAAAAAAAAAAAAAAAAAAAAAAAAAAAAAAAAAAAAAAAAAAAAAAAAAAAAAAAAAAAAAAAAAAAAAAAAAAAAAAAAAAAAAAAAAAAAAAAAAAAAAAAAAAAAAAAAAAAAAAAAAAAAAAAAAAAAAAAAAAAAAAAAAAAAAAAAA==",
          "dtype": "f8"
         }
        },
        {
         "marker": {
          "color": "rgb(153, 153, 51)"
         },
         "name": "Turmroulette",
         "type": "bar",
         "x": [
          "Allooy",
          "cediiiiii_10",
          "_n3d",
          "qriezmannsOpa",
          "Muniix",
          "chrisihalt",
          "Fflopse",
          "Ex4cted",
          "Gobo9",
          "NewNormal0947",
          "HerrDante",
          "Umgfoin",
          "Pedrozockt",
          "rotmann2",
          "ReichesBrot",
          "Lelouch610",
          "JennieKim",
          "Joe3346",
          "Ninivee",
          "FrozenNoah"
         ],
         "y": {
          "bdata": "AAAAAACAUUAAAAAAAAAAAAAAAAAAADRAAAAAAACAUUAAAAAAAIBWQAAAAAAAgFZAAAAAAAAAAAAAAAAAAAAAAAAAAAAAAFlAAAAAAAAANEAAAAAAAAAAAAAAAAAAgFFAAAAAAAAAAAAAAAAAAAAAAAAAAAAAAAAAAAAAAAAANEAAAAAAAAAAAAAAAAAAADRAAAAAAAAAAAAAAAAAAIBRQA==",
          "dtype": "f8"
         }
        },
        {
         "marker": {
          "color": "rgb(136, 34, 85)"
         },
         "name": "Waffenfolge",
         "type": "bar",
         "x": [
          "Allooy",
          "cediiiiii_10",
          "_n3d",
          "qriezmannsOpa",
          "Muniix",
          "chrisihalt",
          "Fflopse",
          "Ex4cted",
          "Gobo9",
          "NewNormal0947",
          "HerrDante",
          "Umgfoin",
          "Pedrozockt",
          "rotmann2",
          "ReichesBrot",
          "Lelouch610",
          "JennieKim",
          "Joe3346",
          "Ninivee",
          "FrozenNoah"
         ],
         "y": {
          "bdata": "AAAAAAAAAAAAAAAAAAAAAAAAAAAAAAAAAAAAAAAAAAAAAAAAAAAAAAAAAAAAAAAAAAAAAAAAAAAAAAAAAAAAAAAAAAAAAAAAAAAAAAAAAAAAAAAAAAAAAAAAAAAAAAAAAAAAAAAAAAAAAAAAAAAAAAAAAAAAAAAAAAAAAAAAAAAAAAAAAAAAAAAAAAAAAAAAAAAAAAAAAAAAAAAAAAAAAA==",
          "dtype": "f8"
         }
        },
        {
         "marker": {
          "color": "rgb(102, 17, 0)"
         },
         "name": "Wettrennen",
         "type": "bar",
         "x": [
          "Allooy",
          "cediiiiii_10",
          "_n3d",
          "qriezmannsOpa",
          "Muniix",
          "chrisihalt",
          "Fflopse",
          "Ex4cted",
          "Gobo9",
          "NewNormal0947",
          "HerrDante",
          "Umgfoin",
          "Pedrozockt",
          "rotmann2",
          "ReichesBrot",
          "Lelouch610",
          "JennieKim",
          "Joe3346",
          "Ninivee",
          "FrozenNoah"
         ],
         "y": {
          "bdata": "AAAAAAAATUAAAAAAAABCQAAAAAAAAEtAAAAAAAAAQEAAAAAAAABBQAAAAAAAgFNAAAAAAAAANEAAAAAAAAAkQAAAAAAAACxAAAAAAAAAIEAAAAAAAAAQQAAAAAAAAAAAAAAAAAAAAAAAAAAAAAAAAAAAAAAAACxAAAAAAAAAAAAAAAAAAABDQAAAAAAAADxAAAAAAAAAAAAAAAAAAAAAAA==",
          "dtype": "f8"
         }
        }
       ],
       "layout": {
        "annotations": [
         {
          "font": {
           "size": 12
          },
          "showarrow": false,
          "text": "Max 100 points per minigame. Records #1 through #10 are considered (#1: 100, #2: 90, ..., #10: 10). If a minigame has multiple maps, the 100 points are distributed equally. fflopse.github.io/MCP-Records/data-analysis/global-ranking.ipynb",
          "x": 0.5,
          "xanchor": "center",
          "xref": "paper",
          "y": -0.235,
          "yref": "paper"
         }
        ],
        "barmode": "stack",
        "legend": {
         "bgcolor": "rgba(255, 255, 255, 0)",
         "bordercolor": "rgba(0, 0, 0, 0)",
         "font": {
          "size": 12
         },
         "traceorder": "normal",
         "x": 1.05,
         "y": 0.5
        },
        "margin": {
         "r": 200
        },
        "template": {
         "data": {
          "bar": [
           {
            "error_x": {
             "color": "#2a3f5f"
            },
            "error_y": {
             "color": "#2a3f5f"
            },
            "marker": {
             "line": {
              "color": "#E5ECF6",
              "width": 0.5
             },
             "pattern": {
              "fillmode": "overlay",
              "size": 10,
              "solidity": 0.2
             }
            },
            "type": "bar"
           }
          ],
          "barpolar": [
           {
            "marker": {
             "line": {
              "color": "#E5ECF6",
              "width": 0.5
             },
             "pattern": {
              "fillmode": "overlay",
              "size": 10,
              "solidity": 0.2
             }
            },
            "type": "barpolar"
           }
          ],
          "carpet": [
           {
            "aaxis": {
             "endlinecolor": "#2a3f5f",
             "gridcolor": "white",
             "linecolor": "white",
             "minorgridcolor": "white",
             "startlinecolor": "#2a3f5f"
            },
            "baxis": {
             "endlinecolor": "#2a3f5f",
             "gridcolor": "white",
             "linecolor": "white",
             "minorgridcolor": "white",
             "startlinecolor": "#2a3f5f"
            },
            "type": "carpet"
           }
          ],
          "choropleth": [
           {
            "colorbar": {
             "outlinewidth": 0,
             "ticks": ""
            },
            "type": "choropleth"
           }
          ],
          "contour": [
           {
            "colorbar": {
             "outlinewidth": 0,
             "ticks": ""
            },
            "colorscale": [
             [
              0,
              "#0d0887"
             ],
             [
              0.1111111111111111,
              "#46039f"
             ],
             [
              0.2222222222222222,
              "#7201a8"
             ],
             [
              0.3333333333333333,
              "#9c179e"
             ],
             [
              0.4444444444444444,
              "#bd3786"
             ],
             [
              0.5555555555555556,
              "#d8576b"
             ],
             [
              0.6666666666666666,
              "#ed7953"
             ],
             [
              0.7777777777777778,
              "#fb9f3a"
             ],
             [
              0.8888888888888888,
              "#fdca26"
             ],
             [
              1,
              "#f0f921"
             ]
            ],
            "type": "contour"
           }
          ],
          "contourcarpet": [
           {
            "colorbar": {
             "outlinewidth": 0,
             "ticks": ""
            },
            "type": "contourcarpet"
           }
          ],
          "heatmap": [
           {
            "colorbar": {
             "outlinewidth": 0,
             "ticks": ""
            },
            "colorscale": [
             [
              0,
              "#0d0887"
             ],
             [
              0.1111111111111111,
              "#46039f"
             ],
             [
              0.2222222222222222,
              "#7201a8"
             ],
             [
              0.3333333333333333,
              "#9c179e"
             ],
             [
              0.4444444444444444,
              "#bd3786"
             ],
             [
              0.5555555555555556,
              "#d8576b"
             ],
             [
              0.6666666666666666,
              "#ed7953"
             ],
             [
              0.7777777777777778,
              "#fb9f3a"
             ],
             [
              0.8888888888888888,
              "#fdca26"
             ],
             [
              1,
              "#f0f921"
             ]
            ],
            "type": "heatmap"
           }
          ],
          "histogram": [
           {
            "marker": {
             "pattern": {
              "fillmode": "overlay",
              "size": 10,
              "solidity": 0.2
             }
            },
            "type": "histogram"
           }
          ],
          "histogram2d": [
           {
            "colorbar": {
             "outlinewidth": 0,
             "ticks": ""
            },
            "colorscale": [
             [
              0,
              "#0d0887"
             ],
             [
              0.1111111111111111,
              "#46039f"
             ],
             [
              0.2222222222222222,
              "#7201a8"
             ],
             [
              0.3333333333333333,
              "#9c179e"
             ],
             [
              0.4444444444444444,
              "#bd3786"
             ],
             [
              0.5555555555555556,
              "#d8576b"
             ],
             [
              0.6666666666666666,
              "#ed7953"
             ],
             [
              0.7777777777777778,
              "#fb9f3a"
             ],
             [
              0.8888888888888888,
              "#fdca26"
             ],
             [
              1,
              "#f0f921"
             ]
            ],
            "type": "histogram2d"
           }
          ],
          "histogram2dcontour": [
           {
            "colorbar": {
             "outlinewidth": 0,
             "ticks": ""
            },
            "colorscale": [
             [
              0,
              "#0d0887"
             ],
             [
              0.1111111111111111,
              "#46039f"
             ],
             [
              0.2222222222222222,
              "#7201a8"
             ],
             [
              0.3333333333333333,
              "#9c179e"
             ],
             [
              0.4444444444444444,
              "#bd3786"
             ],
             [
              0.5555555555555556,
              "#d8576b"
             ],
             [
              0.6666666666666666,
              "#ed7953"
             ],
             [
              0.7777777777777778,
              "#fb9f3a"
             ],
             [
              0.8888888888888888,
              "#fdca26"
             ],
             [
              1,
              "#f0f921"
             ]
            ],
            "type": "histogram2dcontour"
           }
          ],
          "mesh3d": [
           {
            "colorbar": {
             "outlinewidth": 0,
             "ticks": ""
            },
            "type": "mesh3d"
           }
          ],
          "parcoords": [
           {
            "line": {
             "colorbar": {
              "outlinewidth": 0,
              "ticks": ""
             }
            },
            "type": "parcoords"
           }
          ],
          "pie": [
           {
            "automargin": true,
            "type": "pie"
           }
          ],
          "scatter": [
           {
            "fillpattern": {
             "fillmode": "overlay",
             "size": 10,
             "solidity": 0.2
            },
            "type": "scatter"
           }
          ],
          "scatter3d": [
           {
            "line": {
             "colorbar": {
              "outlinewidth": 0,
              "ticks": ""
             }
            },
            "marker": {
             "colorbar": {
              "outlinewidth": 0,
              "ticks": ""
             }
            },
            "type": "scatter3d"
           }
          ],
          "scattercarpet": [
           {
            "marker": {
             "colorbar": {
              "outlinewidth": 0,
              "ticks": ""
             }
            },
            "type": "scattercarpet"
           }
          ],
          "scattergeo": [
           {
            "marker": {
             "colorbar": {
              "outlinewidth": 0,
              "ticks": ""
             }
            },
            "type": "scattergeo"
           }
          ],
          "scattergl": [
           {
            "marker": {
             "colorbar": {
              "outlinewidth": 0,
              "ticks": ""
             }
            },
            "type": "scattergl"
           }
          ],
          "scattermap": [
           {
            "marker": {
             "colorbar": {
              "outlinewidth": 0,
              "ticks": ""
             }
            },
            "type": "scattermap"
           }
          ],
          "scattermapbox": [
           {
            "marker": {
             "colorbar": {
              "outlinewidth": 0,
              "ticks": ""
             }
            },
            "type": "scattermapbox"
           }
          ],
          "scatterpolar": [
           {
            "marker": {
             "colorbar": {
              "outlinewidth": 0,
              "ticks": ""
             }
            },
            "type": "scatterpolar"
           }
          ],
          "scatterpolargl": [
           {
            "marker": {
             "colorbar": {
              "outlinewidth": 0,
              "ticks": ""
             }
            },
            "type": "scatterpolargl"
           }
          ],
          "scatterternary": [
           {
            "marker": {
             "colorbar": {
              "outlinewidth": 0,
              "ticks": ""
             }
            },
            "type": "scatterternary"
           }
          ],
          "surface": [
           {
            "colorbar": {
             "outlinewidth": 0,
             "ticks": ""
            },
            "colorscale": [
             [
              0,
              "#0d0887"
             ],
             [
              0.1111111111111111,
              "#46039f"
             ],
             [
              0.2222222222222222,
              "#7201a8"
             ],
             [
              0.3333333333333333,
              "#9c179e"
             ],
             [
              0.4444444444444444,
              "#bd3786"
             ],
             [
              0.5555555555555556,
              "#d8576b"
             ],
             [
              0.6666666666666666,
              "#ed7953"
             ],
             [
              0.7777777777777778,
              "#fb9f3a"
             ],
             [
              0.8888888888888888,
              "#fdca26"
             ],
             [
              1,
              "#f0f921"
             ]
            ],
            "type": "surface"
           }
          ],
          "table": [
           {
            "cells": {
             "fill": {
              "color": "#EBF0F8"
             },
             "line": {
              "color": "white"
             }
            },
            "header": {
             "fill": {
              "color": "#C8D4E3"
             },
             "line": {
              "color": "white"
             }
            },
            "type": "table"
           }
          ]
         },
         "layout": {
          "annotationdefaults": {
           "arrowcolor": "#2a3f5f",
           "arrowhead": 0,
           "arrowwidth": 1
          },
          "autotypenumbers": "strict",
          "coloraxis": {
           "colorbar": {
            "outlinewidth": 0,
            "ticks": ""
           }
          },
          "colorscale": {
           "diverging": [
            [
             0,
             "#8e0152"
            ],
            [
             0.1,
             "#c51b7d"
            ],
            [
             0.2,
             "#de77ae"
            ],
            [
             0.3,
             "#f1b6da"
            ],
            [
             0.4,
             "#fde0ef"
            ],
            [
             0.5,
             "#f7f7f7"
            ],
            [
             0.6,
             "#e6f5d0"
            ],
            [
             0.7,
             "#b8e186"
            ],
            [
             0.8,
             "#7fbc41"
            ],
            [
             0.9,
             "#4d9221"
            ],
            [
             1,
             "#276419"
            ]
           ],
           "sequential": [
            [
             0,
             "#0d0887"
            ],
            [
             0.1111111111111111,
             "#46039f"
            ],
            [
             0.2222222222222222,
             "#7201a8"
            ],
            [
             0.3333333333333333,
             "#9c179e"
            ],
            [
             0.4444444444444444,
             "#bd3786"
            ],
            [
             0.5555555555555556,
             "#d8576b"
            ],
            [
             0.6666666666666666,
             "#ed7953"
            ],
            [
             0.7777777777777778,
             "#fb9f3a"
            ],
            [
             0.8888888888888888,
             "#fdca26"
            ],
            [
             1,
             "#f0f921"
            ]
           ],
           "sequentialminus": [
            [
             0,
             "#0d0887"
            ],
            [
             0.1111111111111111,
             "#46039f"
            ],
            [
             0.2222222222222222,
             "#7201a8"
            ],
            [
             0.3333333333333333,
             "#9c179e"
            ],
            [
             0.4444444444444444,
             "#bd3786"
            ],
            [
             0.5555555555555556,
             "#d8576b"
            ],
            [
             0.6666666666666666,
             "#ed7953"
            ],
            [
             0.7777777777777778,
             "#fb9f3a"
            ],
            [
             0.8888888888888888,
             "#fdca26"
            ],
            [
             1,
             "#f0f921"
            ]
           ]
          },
          "colorway": [
           "#636efa",
           "#EF553B",
           "#00cc96",
           "#ab63fa",
           "#FFA15A",
           "#19d3f3",
           "#FF6692",
           "#B6E880",
           "#FF97FF",
           "#FECB52"
          ],
          "font": {
           "color": "#2a3f5f"
          },
          "geo": {
           "bgcolor": "white",
           "lakecolor": "white",
           "landcolor": "#E5ECF6",
           "showlakes": true,
           "showland": true,
           "subunitcolor": "white"
          },
          "hoverlabel": {
           "align": "left"
          },
          "hovermode": "closest",
          "mapbox": {
           "style": "light"
          },
          "paper_bgcolor": "white",
          "plot_bgcolor": "#E5ECF6",
          "polar": {
           "angularaxis": {
            "gridcolor": "white",
            "linecolor": "white",
            "ticks": ""
           },
           "bgcolor": "#E5ECF6",
           "radialaxis": {
            "gridcolor": "white",
            "linecolor": "white",
            "ticks": ""
           }
          },
          "scene": {
           "xaxis": {
            "backgroundcolor": "#E5ECF6",
            "gridcolor": "white",
            "gridwidth": 2,
            "linecolor": "white",
            "showbackground": true,
            "ticks": "",
            "zerolinecolor": "white"
           },
           "yaxis": {
            "backgroundcolor": "#E5ECF6",
            "gridcolor": "white",
            "gridwidth": 2,
            "linecolor": "white",
            "showbackground": true,
            "ticks": "",
            "zerolinecolor": "white"
           },
           "zaxis": {
            "backgroundcolor": "#E5ECF6",
            "gridcolor": "white",
            "gridwidth": 2,
            "linecolor": "white",
            "showbackground": true,
            "ticks": "",
            "zerolinecolor": "white"
           }
          },
          "shapedefaults": {
           "line": {
            "color": "#2a3f5f"
           }
          },
          "ternary": {
           "aaxis": {
            "gridcolor": "white",
            "linecolor": "white",
            "ticks": ""
           },
           "baxis": {
            "gridcolor": "white",
            "linecolor": "white",
            "ticks": ""
           },
           "bgcolor": "#E5ECF6",
           "caxis": {
            "gridcolor": "white",
            "linecolor": "white",
            "ticks": ""
           }
          },
          "title": {
           "x": 0.05
          },
          "xaxis": {
           "automargin": true,
           "gridcolor": "white",
           "linecolor": "white",
           "ticks": "",
           "title": {
            "standoff": 15
           },
           "zerolinecolor": "white",
           "zerolinewidth": 2
          },
          "yaxis": {
           "automargin": true,
           "gridcolor": "white",
           "linecolor": "white",
           "ticks": "",
           "title": {
            "standoff": 15
           },
           "zerolinecolor": "white",
           "zerolinewidth": 2
          }
         }
        },
        "title": {
         "text": "Overall Record Comparison - Top 20 Players"
        },
        "xaxis": {
         "title": {
          "text": "Player"
         }
        },
        "yaxis": {
         "title": {
          "text": "Points"
         }
        }
       }
      }
     },
     "metadata": {},
     "output_type": "display_data"
    }
   ],
   "source": [
    "import plotly.graph_objects as go\n",
    "\n",
    "# Sum all columns to get the total score\n",
    "outDf['Total'] = outDf.sum(axis=1)\n",
    "\n",
    "# Sort by total score and fill N/A values with 0\n",
    "outDf = outDf.sort_values(by='Total', ascending=False).fillna(0)\n",
    "\n",
    "# Crop to top 10 players\n",
    "cropDf = outDf.head(20).copy()\n",
    "\n",
    "# Drop the 'Total' column for plotting\n",
    "cropDf = cropDf.drop(columns=['Total'])\n",
    "\n",
    "# Create a color palette\n",
    "color_palette = px.colors.qualitative.Safe\n",
    "\n",
    "# Create the stacked bar plot\n",
    "fig = go.Figure()\n",
    "\n",
    "cropDf = remove_duplicate_columns(cropDf)\n",
    "\n",
    "for column in cropDf.columns.difference(['Player']):\n",
    "    fig.add_trace(go.Bar(\n",
    "        x=cropDf.index,\n",
    "        y=cropDf[column],\n",
    "        name=column,\n",
    "        marker_color=color_palette[len(fig.data) % len(color_palette)]\n",
    "    ))\n",
    "\n",
    "# Update layout\n",
    "fig.update_layout(\n",
    "    barmode='stack',\n",
    "    title='Overall Record Comparison - Top 20 Players',\n",
    "    xaxis=dict(title='Player'),\n",
    "    yaxis=dict(title='Points'),\n",
    "    #height=800,\n",
    "    #width=1000,\n",
    "    legend=dict(\n",
    "        x=1.05,\n",
    "        y=0.5,\n",
    "        traceorder='normal',\n",
    "        font=dict(size=12),\n",
    "        bgcolor='rgba(255, 255, 255, 0)',\n",
    "        bordercolor='rgba(0, 0, 0, 0)'\n",
    "    ),\n",
    "    margin=dict(r=200),  # Adjust right margin to make room for the legend\n",
    "    annotations=[\n",
    "        dict(\n",
    "            x=0.5,\n",
    "            y=-0.235,\n",
    "            xref='paper',\n",
    "            yref='paper',\n",
    "            text='Max 100 points per minigame. Records #1 through #10 are considered (#1: 100, #2: 90, ..., #10: 10). If a minigame has multiple maps, the 100 points are distributed equally. fflopse.github.io/MCP-Records/data-analysis/global-ranking.ipynb',\n",
    "            showarrow=False,\n",
    "            font=dict(size=12),\n",
    "            xanchor='center'\n",
    "        )\n",
    "    ]\n",
    ")\n",
    "\n",
    "fig.show()\n",
    "\n",
    "# save the plot as an html file\n",
    "\n",
    "fig.write_html('out/overall_record_comparison.html')"
   ]
  },
  {
   "cell_type": "code",
   "execution_count": 214,
   "metadata": {},
   "outputs": [
    {
     "data": {
      "application/vnd.plotly.v1+json": {
       "config": {
        "plotlyServerURL": "https://plot.ly"
       },
       "data": [
        {
         "marker": {
          "color": "rgb(136, 204, 238)"
         },
         "name": "Ampelrennen",
         "type": "bar",
         "x": [
          "Allooy",
          "cediiiiii_10",
          "_n3d",
          "qriezmannsOpa",
          "Muniix",
          "chrisihalt",
          "Fflopse",
          "Ex4cted",
          "Gobo9",
          "NewNormal0947",
          "Umgfoin",
          "HerrDante",
          "Pedrozockt",
          "rotmann2",
          "ReichesBrot",
          "Lelouch610",
          "JennieKim",
          "Joe3346",
          "Ninivee",
          "FrozenNoah",
          "Teesily",
          "Luxemburq",
          "CML_Justin",
          "JOW23",
          "DarkCobweb",
          "VendasTM",
          "Freeeedom",
          "GingerTeddy",
          "Squashgitter333",
          "KakaMC",
          "lizsyy",
          "2B9",
          "La_meleagro",
          "toxicplace",
          "yzvm",
          "Shiewk",
          "2wc",
          "Grapfen",
          "agowskyy",
          "miridis41"
         ],
         "y": {
          "bdata": "AAAAAAAAAAAAAAAAAAAkQAAAAAAAAC5AAAAAAAAAAAAAAAAAAAAAAAAAAAAAAFRAAAAAAACAQUAAAAAAAIBRQAAAAAAAAElAAAAAAAAAAAAAAAAAAABJQAAAAAAAAAAAAAAAAACAS0AAAAAAAAAAAAAAAAAAAAAAAAAAAAAAAAAAAAAAAAAAAAAAAAAAAAAAAAAAAAAAAAAAAAAAAAAAAAAAAAAAAAAAAAAAAAAAAAAAAAAAAAAAAAAAAAAAgEZAAAAAAAAAAAAAAAAAAAAAAAAAAAAAAAAAAAAAAAAAAAAAAAAAAAAAAAAAAAAAAAAAAAAAAAAAAAAAAAAAAAAAAAAAAAAAAAAAAAAAAAAAAAAAAAAAAAAAAAAAAAAAAAAAAAAAAAAAAAAAAAAAAAAAAAAAAAAAAAAAAAAAAAAALkA=",
          "dtype": "f8"
         }
        },
        {
         "marker": {
          "color": "rgb(204, 102, 119)"
         },
         "name": "Blockhüpfer",
         "type": "bar",
         "x": [
          "Allooy",
          "cediiiiii_10",
          "_n3d",
          "qriezmannsOpa",
          "Muniix",
          "chrisihalt",
          "Fflopse",
          "Ex4cted",
          "Gobo9",
          "NewNormal0947",
          "Umgfoin",
          "HerrDante",
          "Pedrozockt",
          "rotmann2",
          "ReichesBrot",
          "Lelouch610",
          "JennieKim",
          "Joe3346",
          "Ninivee",
          "FrozenNoah",
          "Teesily",
          "Luxemburq",
          "CML_Justin",
          "JOW23",
          "DarkCobweb",
          "VendasTM",
          "Freeeedom",
          "GingerTeddy",
          "Squashgitter333",
          "KakaMC",
          "lizsyy",
          "2B9",
          "La_meleagro",
          "toxicplace",
          "yzvm",
          "Shiewk",
          "2wc",
          "Grapfen",
          "agowskyy",
          "miridis41"
         ],
         "y": {
          "bdata": "AAAAAAAAVEAAAAAAAAAAAAAAAAAAAERAAAAAAAAAAAAAAAAAAAAAAAAAAAAAgFZAAAAAAACAUUAAAAAAAABOQAAAAAAAAAAAAAAAAAAASUAAAAAAAAAAAAAAAAAAAAAAAAAAAAAAAAAAAAAAAAAAAAAAAAAAAFlAAAAAAAAAAAAAAAAAAAAAAAAAAAAAAAAAAAAAAAAAAAAAAAAAAAAAAAAAAAAAAAAAAAAAAAAAAAAAAAAAAAA+QAAAAAAAAAAAAAAAAAAAAAAAAAAAAAAAAAAAAAAAAAAAAAAAAAAAAAAAAAAAAAAAAAAAAAAAAAAAAAAAAAAAAAAAAAAAAAAAAAAAAAAAAAAAAAAAAAAAAAAAAAAAAAAAAAAAAAAAAAAAAAAAAAAAAAAAAAAAAAAAAAAAAAAAAAAAAAAAAAAAAAA=",
          "dtype": "f8"
         }
        },
        {
         "marker": {
          "color": "rgb(221, 204, 119)"
         },
         "name": "Buntes Chaos",
         "type": "bar",
         "x": [
          "Allooy",
          "cediiiiii_10",
          "_n3d",
          "qriezmannsOpa",
          "Muniix",
          "chrisihalt",
          "Fflopse",
          "Ex4cted",
          "Gobo9",
          "NewNormal0947",
          "Umgfoin",
          "HerrDante",
          "Pedrozockt",
          "rotmann2",
          "ReichesBrot",
          "Lelouch610",
          "JennieKim",
          "Joe3346",
          "Ninivee",
          "FrozenNoah",
          "Teesily",
          "Luxemburq",
          "CML_Justin",
          "JOW23",
          "DarkCobweb",
          "VendasTM",
          "Freeeedom",
          "GingerTeddy",
          "Squashgitter333",
          "KakaMC",
          "lizsyy",
          "2B9",
          "La_meleagro",
          "toxicplace",
          "yzvm",
          "Shiewk",
          "2wc",
          "Grapfen",
          "agowskyy",
          "miridis41"
         ],
         "y": {
          "bdata": "AAAAAAAAWUAAAAAAAABZQAAAAAAAAFlAAAAAAAAASUAAAAAAAABZQAAAAAAAAElAAAAAAAAAWUAAAAAAAABZQAAAAAAAAElAAAAAAAAASUAAAAAAAABZQAAAAAAAAFlAAAAAAAAAWUAAAAAAAABJQAAAAAAAAFlAAAAAAAAASUAAAAAAAABJQAAAAAAAAAAAAAAAAAAAWUAAAAAAAAAAAAAAAAAAAFlAAAAAAAAASUAAAAAAAABJQAAAAAAAAAAAAAAAAAAAAAAAAAAAAAAAAAAAAAAAAElAAAAAAAAAAAAAAAAAAABJQAAAAAAAAFlAAAAAAAAAWUAAAAAAAAAAAAAAAAAAAAAAAAAAAAAAAAAAAAAAAAAAAAAAAAAAAFlAAAAAAAAAAAAAAAAAAABJQAAAAAAAAAAAAAAAAAAAAAA=",
          "dtype": "f8"
         }
        },
        {
         "marker": {
          "color": "rgb(17, 119, 51)"
         },
         "name": "Drachenflucht",
         "type": "bar",
         "x": [
          "Allooy",
          "cediiiiii_10",
          "_n3d",
          "qriezmannsOpa",
          "Muniix",
          "chrisihalt",
          "Fflopse",
          "Ex4cted",
          "Gobo9",
          "NewNormal0947",
          "Umgfoin",
          "HerrDante",
          "Pedrozockt",
          "rotmann2",
          "ReichesBrot",
          "Lelouch610",
          "JennieKim",
          "Joe3346",
          "Ninivee",
          "FrozenNoah",
          "Teesily",
          "Luxemburq",
          "CML_Justin",
          "JOW23",
          "DarkCobweb",
          "VendasTM",
          "Freeeedom",
          "GingerTeddy",
          "Squashgitter333",
          "KakaMC",
          "lizsyy",
          "2B9",
          "La_meleagro",
          "toxicplace",
          "yzvm",
          "Shiewk",
          "2wc",
          "Grapfen",
          "agowskyy",
          "miridis41"
         ],
         "y": {
          "bdata": "AAAAAACARkAAAAAAAABOQAAAAAAAAD5AAAAAAACAMUAAAAAAAAApQAAAAAAAAAAAAAAAAAAAAAAAAAAAAAAUQAAAAAAAAAAAAAAAAABASkAAAAAAAAA5QAAAAAAAAAAAAAAAAAAAAAAAAAAAAAAeQAAAAAAAAAAAAAAAAAAAAAAAAAAAAAAAAAAAAAAAgDFAAAAAAAAAHkAAAAAAAAAAAAAAAAAAwEJAAAAAAACAMUAAAAAAAABJQAAAAAAAAAAAAAAAAAAAAAAAAAAAAAAAAAAAAAAAAC5AAAAAAAAAAAAAAAAAAAAUQAAAAAAAAAAAAAAAAAAAAAAAAAAAAAAAAAAAAAAAAAAAAAAAAAAAAAAAAAAAAAAAAAAAAAAAAAAAAAAAAAAAAAAAAAAAAAAUQAAAAAAAAAAAAAAAAAAAAAA=",
          "dtype": "f8"
         }
        },
        {
         "marker": {
          "color": "rgb(51, 34, 136)"
         },
         "name": "Duelle",
         "type": "bar",
         "x": [
          "Allooy",
          "cediiiiii_10",
          "_n3d",
          "qriezmannsOpa",
          "Muniix",
          "chrisihalt",
          "Fflopse",
          "Ex4cted",
          "Gobo9",
          "NewNormal0947",
          "Umgfoin",
          "HerrDante",
          "Pedrozockt",
          "rotmann2",
          "ReichesBrot",
          "Lelouch610",
          "JennieKim",
          "Joe3346",
          "Ninivee",
          "FrozenNoah",
          "Teesily",
          "Luxemburq",
          "CML_Justin",
          "JOW23",
          "DarkCobweb",
          "VendasTM",
          "Freeeedom",
          "GingerTeddy",
          "Squashgitter333",
          "KakaMC",
          "lizsyy",
          "2B9",
          "La_meleagro",
          "toxicplace",
          "yzvm",
          "Shiewk",
          "2wc",
          "Grapfen",
          "agowskyy",
          "miridis41"
         ],
         "y": {
          "bdata": "AAAAAAAAAAAAAAAAAABOQAAAAAAAAAAAAAAAAAAAAAAAAAAAAAAAAAAAAAAAAE5AAAAAAAAAAAAAAAAAAAAAAAAAAAAAAAAAAAAAAAAAAAAAAAAAAAAAAAAAAAAAAAAAAAAAAAAAAAAAAAAAAAAAAAAAAAAAAAAAAAAAAAAAAAAAAAAAAAAAAAAAAAAAAAAAAAAAAAAAAAAAAAAAAAAAAAAAAAAAAAAAAAAAAAAAAAAAAAAAAAAAAAAAAAAAAAAAAAAAAAAATkAAAAAAAAAAAAAAAAAAAAAAAAAAAAAAAAAAAAAAAAAAAAAAAAAAAAAAAAAAAAAAAAAAAAAAAABUQAAAAAAAAFlAAAAAAAAAWUAAAAAAAABOQAAAAAAAAAAAAAAAAAAATkAAAAAAAAAAAAAAAAAAAAAAAAAAAACAUUA=",
          "dtype": "f8"
         }
        },
        {
         "marker": {
          "color": "rgb(170, 68, 153)"
         },
         "name": "Einer im Köcher",
         "type": "bar",
         "x": [
          "Allooy",
          "cediiiiii_10",
          "_n3d",
          "qriezmannsOpa",
          "Muniix",
          "chrisihalt",
          "Fflopse",
          "Ex4cted",
          "Gobo9",
          "NewNormal0947",
          "Umgfoin",
          "HerrDante",
          "Pedrozockt",
          "rotmann2",
          "ReichesBrot",
          "Lelouch610",
          "JennieKim",
          "Joe3346",
          "Ninivee",
          "FrozenNoah",
          "Teesily",
          "Luxemburq",
          "CML_Justin",
          "JOW23",
          "DarkCobweb",
          "VendasTM",
          "Freeeedom",
          "GingerTeddy",
          "Squashgitter333",
          "KakaMC",
          "lizsyy",
          "2B9",
          "La_meleagro",
          "toxicplace",
          "yzvm",
          "Shiewk",
          "2wc",
          "Grapfen",
          "agowskyy",
          "miridis41"
         ],
         "y": {
          "bdata": "AAAAAAAASUAAAAAAAAAkQAAAAAAAABBAAAAAAAAAAAAAAAAAAAAQQAAAAAAAAAAAAAAAAAAASEAAAAAAAAAwQAAAAAAAAAAAAAAAAAAAJEAAAAAAAAAAAAAAAAAAAERAAAAAAAAAAAAAAAAAAAAAAAAAAAAAAAAAAAAAAAAAEEAAAAAAAAAAAAAAAAAAAAAAAAAAAAAAAAAAAAAAAABGQAAAAAAAAChAAAAAAAAAAAAAAAAAAAAAAAAAAAAAABBAAAAAAAAAAAAAAAAAAAAAAAAAAAAAAD5AAAAAAAAAAAAAAAAAAAAAAAAAAAAAAAAAAAAAAAAAAAAAAAAAAAAyQAAAAAAAAAAAAAAAAAAAAAAAAAAAAAAAAAAAAAAAAAAAAAAAAAAAAAAAAAAAAAAAAAAAAAAAAAAAAAAAAAAAAAA=",
          "dtype": "f8"
         }
        },
        {
         "marker": {
          "color": "rgb(68, 170, 153)"
         },
         "name": "Elytrarennen",
         "type": "bar",
         "x": [
          "Allooy",
          "cediiiiii_10",
          "_n3d",
          "qriezmannsOpa",
          "Muniix",
          "chrisihalt",
          "Fflopse",
          "Ex4cted",
          "Gobo9",
          "NewNormal0947",
          "Umgfoin",
          "HerrDante",
          "Pedrozockt",
          "rotmann2",
          "ReichesBrot",
          "Lelouch610",
          "JennieKim",
          "Joe3346",
          "Ninivee",
          "FrozenNoah",
          "Teesily",
          "Luxemburq",
          "CML_Justin",
          "JOW23",
          "DarkCobweb",
          "VendasTM",
          "Freeeedom",
          "GingerTeddy",
          "Squashgitter333",
          "KakaMC",
          "lizsyy",
          "2B9",
          "La_meleagro",
          "toxicplace",
          "yzvm",
          "Shiewk",
          "2wc",
          "Grapfen",
          "agowskyy",
          "miridis41"
         ],
         "y": {
          "bdata": "AAAAAACAVkAAAAAAAEBFQAAAAAAAgEZAAAAAAABARUAAAAAAAAApQAAAAAAAQE9AAAAAAAAALkAAAAAAAAAAAAAAAAAAAAAAAAAAAAAAHkAAAAAAAAAAAAAAAAAAAAAAAAAAAAAAAAAAAAAAAAApQAAAAAAAADRAAAAAAAAAAAAAAAAAAAAAAAAAAAAAgFFAAAAAAAAAAAAAAAAAAAAAAAAAAAAAAAAAAAAAAAAAAAAAAAAAAAAuQAAAAAAAAAAAAAAAAAAAAAAAAAAAAAAUQAAAAAAAACRAAAAAAACAS0AAAAAAAAA+QAAAAAAAAAAAAAAAAAAAAAAAAAAAAAAAAAAAAAAAAAAAAAAAAAAAAAAAAAAAAAAAAAAAAAAAAAAAAAAAAAAAAAAAAAAAAAAAAAAAAAAAAAAAAAAAAAAAAAA=",
          "dtype": "f8"
         }
        },
        {
         "marker": {
          "color": "rgb(153, 153, 51)"
         },
         "name": "Freier Fall",
         "type": "bar",
         "x": [
          "Allooy",
          "cediiiiii_10",
          "_n3d",
          "qriezmannsOpa",
          "Muniix",
          "chrisihalt",
          "Fflopse",
          "Ex4cted",
          "Gobo9",
          "NewNormal0947",
          "Umgfoin",
          "HerrDante",
          "Pedrozockt",
          "rotmann2",
          "ReichesBrot",
          "Lelouch610",
          "JennieKim",
          "Joe3346",
          "Ninivee",
          "FrozenNoah",
          "Teesily",
          "Luxemburq",
          "CML_Justin",
          "JOW23",
          "DarkCobweb",
          "VendasTM",
          "Freeeedom",
          "GingerTeddy",
          "Squashgitter333",
          "KakaMC",
          "lizsyy",
          "2B9",
          "La_meleagro",
          "toxicplace",
          "yzvm",
          "Shiewk",
          "2wc",
          "Grapfen",
          "agowskyy",
          "miridis41"
         ],
         "y": {
          "bdata": "AAAAAAAAAAAAAAAAAAAAAAAAAAAAAAAAAAAAAAAAAAAAAAAAAAAAAAAAAAAAAAAAAAAAAAAAAAAAAAAAAAAAAAAAAAAAAAAAAAAAAAAAAAAAAAAAAAAAAAAAAAAAAAAAAAAAAAAAAAAAAAAAAAAAAAAAAAAAAAAAAAAAAAAAAAAAAAAAAAAAAAAAAAAAAAAAAAAAAAAAAAAAAAAAAAAAAAAAAAAAAAAAAAAAAAAAAAAAAAAAAAAAAAAAAAAAAAAAAAAAAAAAAAAAAAAAAAAAAAAAAAAAAAAAAAAAAAAAAAAAAAAAAAAAAAAAAAAAAAAAAAAAAAAAAAAAAAAAAAAAAAAAAAAAAAAAAAAAAAAAAAAAAAAAAAAAAAAAAAAAAAAAAAAAAAAAAAAAAAAAAAAAAAAAAAAAAAAAAAAAAAAAAAA=",
          "dtype": "f8"
         }
        },
        {
         "marker": {
          "color": "rgb(136, 34, 85)"
         },
         "name": "Frostiger Pfad",
         "type": "bar",
         "x": [
          "Allooy",
          "cediiiiii_10",
          "_n3d",
          "qriezmannsOpa",
          "Muniix",
          "chrisihalt",
          "Fflopse",
          "Ex4cted",
          "Gobo9",
          "NewNormal0947",
          "Umgfoin",
          "HerrDante",
          "Pedrozockt",
          "rotmann2",
          "ReichesBrot",
          "Lelouch610",
          "JennieKim",
          "Joe3346",
          "Ninivee",
          "FrozenNoah",
          "Teesily",
          "Luxemburq",
          "CML_Justin",
          "JOW23",
          "DarkCobweb",
          "VendasTM",
          "Freeeedom",
          "GingerTeddy",
          "Squashgitter333",
          "KakaMC",
          "lizsyy",
          "2B9",
          "La_meleagro",
          "toxicplace",
          "yzvm",
          "Shiewk",
          "2wc",
          "Grapfen",
          "agowskyy",
          "miridis41"
         ],
         "y": {
          "bdata": "AAAAAAAAAAAAAAAAAAAAAAAAAAAAAAAAAAAAAAAAAAAAAAAAAAAAAAAAAAAAAAAAAAAAAAAAAAAAAAAAAAAAAAAAAAAAAAAAAAAAAAAAAAAAAAAAAAAAAAAAAAAAAAAAAAAAAAAAAAAAAAAAAAAAAAAAAAAAAAAAAAAAAAAAAAAAAAAAAAAAAAAAAAAAAAAAAAAAAAAAAAAAAAAAAAAAAAAAAAAAAAAAAAAAAAAAAAAAAAAAAAAAAAAAAAAAAAAAAAAAAAAAAAAAAAAAAAAAAAAAAAAAAAAAAAAAAAAAAAAAAAAAAAAAAAAAAAAAAAAAAAAAAAAAAAAAAAAAAAAAAAAAAAAAAAAAAAAAAAAAAAAAAAAAAAAAAAAAAAAAAAAAAAAAAAAAAAAAAAAAAAAAAAAAAAAAAAAAAAAAAAAAAAA=",
          "dtype": "f8"
         }
        },
        {
         "marker": {
          "color": "rgb(102, 17, 0)"
         },
         "name": "Hoch hinaus",
         "type": "bar",
         "x": [
          "Allooy",
          "cediiiiii_10",
          "_n3d",
          "qriezmannsOpa",
          "Muniix",
          "chrisihalt",
          "Fflopse",
          "Ex4cted",
          "Gobo9",
          "NewNormal0947",
          "Umgfoin",
          "HerrDante",
          "Pedrozockt",
          "rotmann2",
          "ReichesBrot",
          "Lelouch610",
          "JennieKim",
          "Joe3346",
          "Ninivee",
          "FrozenNoah",
          "Teesily",
          "Luxemburq",
          "CML_Justin",
          "JOW23",
          "DarkCobweb",
          "VendasTM",
          "Freeeedom",
          "GingerTeddy",
          "Squashgitter333",
          "KakaMC",
          "lizsyy",
          "2B9",
          "La_meleagro",
          "toxicplace",
          "yzvm",
          "Shiewk",
          "2wc",
          "Grapfen",
          "agowskyy",
          "miridis41"
         ],
         "y": {
          "bdata": "AAAAAAAAVEAAAAAAAAA0QAAAAAAAAAAAAAAAAAAAAAAAAAAAAAAAAAAAAAAAAERAAAAAAAAASUAAAAAAAIBWQAAAAAAAAAAAAAAAAAAAAAAAAAAAAAAAAAAAAAAAAAAAAAAAAAAATkAAAAAAAAAAAAAAAAAAAAAAAAAAAAAAAAAAAAAAAAAAAAAAAAAAAAAAAAAAAACAUUAAAAAAAAAAAAAAAAAAAAAAAAAAAAAAAAAAAAAAAAA+QAAAAAAAAAAAAAAAAAAAAAAAAAAAAAAAAAAAAAAAAAAAAAAAAAAAAAAAAAAAAAAAAAAAAAAAAAAAAAAAAAAAAAAAAAAAAAAAAAAAAAAAAAAAAAAAAAAAAAAAAAAAAAAAAAAAAAAAAAAAAAAAAAAAAAAAAAAAAAAAAAAAAAAAAAAAAAAAAAAAAAA=",
          "dtype": "f8"
         }
        },
        {
         "marker": {
          "color": "rgb(136, 136, 136)"
         },
         "name": "Jump and Run",
         "type": "bar",
         "x": [
          "Allooy",
          "cediiiiii_10",
          "_n3d",
          "qriezmannsOpa",
          "Muniix",
          "chrisihalt",
          "Fflopse",
          "Ex4cted",
          "Gobo9",
          "NewNormal0947",
          "Umgfoin",
          "HerrDante",
          "Pedrozockt",
          "rotmann2",
          "ReichesBrot",
          "Lelouch610",
          "JennieKim",
          "Joe3346",
          "Ninivee",
          "FrozenNoah",
          "Teesily",
          "Luxemburq",
          "CML_Justin",
          "JOW23",
          "DarkCobweb",
          "VendasTM",
          "Freeeedom",
          "GingerTeddy",
          "Squashgitter333",
          "KakaMC",
          "lizsyy",
          "2B9",
          "La_meleagro",
          "toxicplace",
          "yzvm",
          "Shiewk",
          "2wc",
          "Grapfen",
          "agowskyy",
          "miridis41"
         ],
         "y": {
          "bdata": "AAAAAAAAAAAAAAAAAAAAAAAAAAAAAAAAAAAAAAAAAAAAAAAAAAAAAAAAAAAAAAAAAAAAAAAAAAAAAAAAAAAAAAAAAAAAAAAAAAAAAAAAAAAAAAAAAAAAAAAAAAAAAAAAAAAAAAAAAAAAAAAAAAAAAAAAAAAAAAAAAAAAAAAAAAAAAAAAAAAAAAAAAAAAAAAAAAAAAAAAAAAAAAAAAAAAAAAAAAAAAAAAAAAAAAAAAAAAAAAAAAAAAAAAAAAAAAAAAAAAAAAAAAAAAAAAAAAAAAAAAAAAAAAAAAAAAAAAAAAAAAAAAAAAAAAAAAAAAAAAAAAAAAAAAAAAAAAAAAAAAAAAAAAAAAAAAAAAAAAAAAAAAAAAAAAAAAAAAAAAAAAAAAAAAAAAAAAAAAAAAAAAAAAAAAAAAAAAAAAAAAAAAAA=",
          "dtype": "f8"
         }
        },
        {
         "marker": {
          "color": "rgb(136, 204, 238)"
         },
         "name": "Kletterkönig",
         "type": "bar",
         "x": [
          "Allooy",
          "cediiiiii_10",
          "_n3d",
          "qriezmannsOpa",
          "Muniix",
          "chrisihalt",
          "Fflopse",
          "Ex4cted",
          "Gobo9",
          "NewNormal0947",
          "Umgfoin",
          "HerrDante",
          "Pedrozockt",
          "rotmann2",
          "ReichesBrot",
          "Lelouch610",
          "JennieKim",
          "Joe3346",
          "Ninivee",
          "FrozenNoah",
          "Teesily",
          "Luxemburq",
          "CML_Justin",
          "JOW23",
          "DarkCobweb",
          "VendasTM",
          "Freeeedom",
          "GingerTeddy",
          "Squashgitter333",
          "KakaMC",
          "lizsyy",
          "2B9",
          "La_meleagro",
          "toxicplace",
          "yzvm",
          "Shiewk",
          "2wc",
          "Grapfen",
          "agowskyy",
          "miridis41"
         ],
         "y": {
          "bdata": "VVVVVVVVN0BVVVVVVVU3QAAAAAAAADRAVVVVVVVVTEBVVVVVVVVHQAAAAAAAACRAVVVVVVVVR0AAAAAAAAAAAKuqqqqqqhpAq6qqqqqqKkAAAAAAAAAAAAAAAAAAACRAAAAAAAAAAAAAAAAAAAA0QKuqqqqqqlBAAAAAAAAAAAAAAAAAAAAAAAAAAAAAAD5AAAAAAAAAAAAAAAAAAAAAAAAAAAAAAAAAAAAAAAAAAAAAAAAAAAAAAAAAAAAAAAAAAAAAAAAAAAAAAAAAAAAAAAAAAAAAAAAAq6qqqqqqOkAAAAAAAAAAAAAAAAAAAAAAAAAAAAAAAAAAAAAAAAAAAAAAAAAAAAAAAAAAAAAAAAAAAAAAAAAAAAAAAAAAAAAAAAAAAAAAAAAAAAAAAAAAAAAAAAAAAAAAAAAAAAAAAAA=",
          "dtype": "f8"
         }
        },
        {
         "marker": {
          "color": "rgb(204, 102, 119)"
         },
         "name": "Lasertag",
         "type": "bar",
         "x": [
          "Allooy",
          "cediiiiii_10",
          "_n3d",
          "qriezmannsOpa",
          "Muniix",
          "chrisihalt",
          "Fflopse",
          "Ex4cted",
          "Gobo9",
          "NewNormal0947",
          "Umgfoin",
          "HerrDante",
          "Pedrozockt",
          "rotmann2",
          "ReichesBrot",
          "Lelouch610",
          "JennieKim",
          "Joe3346",
          "Ninivee",
          "FrozenNoah",
          "Teesily",
          "Luxemburq",
          "CML_Justin",
          "JOW23",
          "DarkCobweb",
          "VendasTM",
          "Freeeedom",
          "GingerTeddy",
          "Squashgitter333",
          "KakaMC",
          "lizsyy",
          "2B9",
          "La_meleagro",
          "toxicplace",
          "yzvm",
          "Shiewk",
          "2wc",
          "Grapfen",
          "agowskyy",
          "miridis41"
         ],
         "y": {
          "bdata": "AAAAAAAAAAAAAAAAAAAkQAAAAAAAAD5AAAAAAACAQUCrqqqqqqowQAAAAAAAAAAAAAAAAAAAREAAAAAAAAAuQAAAAAAAAAAAAAAAAAAAAABVVVVVVVU8QAAAAAAAAERAVVVVVVVVJ0AAAAAAAAAAAAAAAAAAABRAq6qqqqqqOkBVVVVVVVU3QAAAAAAAAAAAAAAAAAAAAAAAAAAAAAAAAAAAAAAAAAAAAAAAAAAANEAAAAAAAAAAAFVVVVVVVTJAAAAAAAAAAAAAAAAAAAAAAAAAAAAAAAAAAAAAAAAAAAAAAAAAAAAAAAAAAAAAAAAAAAAAAAAAAAAAAAAAAAAAAAAAAAAAAAAAAAAAAAAAAAAAAAAAAAAAAAAAAAAAAAAAVVVVVVVVJ0CrqqqqqqoKQAAAAAAAAAAAAAAAAAAAAAA=",
          "dtype": "f8"
         }
        },
        {
         "marker": {
          "color": "rgb(221, 204, 119)"
         },
         "name": "Mauerfall",
         "type": "bar",
         "x": [
          "Allooy",
          "cediiiiii_10",
          "_n3d",
          "qriezmannsOpa",
          "Muniix",
          "chrisihalt",
          "Fflopse",
          "Ex4cted",
          "Gobo9",
          "NewNormal0947",
          "Umgfoin",
          "HerrDante",
          "Pedrozockt",
          "rotmann2",
          "ReichesBrot",
          "Lelouch610",
          "JennieKim",
          "Joe3346",
          "Ninivee",
          "FrozenNoah",
          "Teesily",
          "Luxemburq",
          "CML_Justin",
          "JOW23",
          "DarkCobweb",
          "VendasTM",
          "Freeeedom",
          "GingerTeddy",
          "Squashgitter333",
          "KakaMC",
          "lizsyy",
          "2B9",
          "La_meleagro",
          "toxicplace",
          "yzvm",
          "Shiewk",
          "2wc",
          "Grapfen",
          "agowskyy",
          "miridis41"
         ],
         "y": {
          "bdata": "btu2bdu2KUAlSZIkSZJCQCVJkiRJkixAAAAAAAAAAACSJEmSJEk4QAAAAAAAAAAAJUmSJEmSPEAAAAAAAAAAAG7btm3btilASZIkSZIkMUC3bdu2bdsWQCVJkiRJkixAAAAAAAAANEAAAAAAAAAAAAAAAAAAAAAAAAAAAAAAAAAAAAAAAAAAALdt27Zt2xZAt23btm3bFkAAAAAAAAAAAAAAAAAAAAAAJUmSJEmSLEAAAAAAAAAAAG7btm3btilASZIkSZIkO0AAAAAAAAAAAAAAAAAAAAAAAAAAAAAAAAAAAAAAAAAAAG7btm3btilAAAAAAAAAAAAAAAAAAAAAALdt27Zt2yZAAAAAAAAAAAAlSZIkSZIsQAAAAAAAAAAAAAAAAAAAAABu27Zt27YpQLdt27Zt2wZAAAAAAAAAAAA=",
          "dtype": "f8"
         }
        },
        {
         "marker": {
          "color": "rgb(17, 119, 51)"
         },
         "name": "Minenfeld",
         "type": "bar",
         "x": [
          "Allooy",
          "cediiiiii_10",
          "_n3d",
          "qriezmannsOpa",
          "Muniix",
          "chrisihalt",
          "Fflopse",
          "Ex4cted",
          "Gobo9",
          "NewNormal0947",
          "Umgfoin",
          "HerrDante",
          "Pedrozockt",
          "rotmann2",
          "ReichesBrot",
          "Lelouch610",
          "JennieKim",
          "Joe3346",
          "Ninivee",
          "FrozenNoah",
          "Teesily",
          "Luxemburq",
          "CML_Justin",
          "JOW23",
          "DarkCobweb",
          "VendasTM",
          "Freeeedom",
          "GingerTeddy",
          "Squashgitter333",
          "KakaMC",
          "lizsyy",
          "2B9",
          "La_meleagro",
          "toxicplace",
          "yzvm",
          "Shiewk",
          "2wc",
          "Grapfen",
          "agowskyy",
          "miridis41"
         ],
         "y": {
          "bdata": "AAAAAAAAJEAAAAAAAAAkQAAAAAAAAElAVVVVVVVVR0AAAAAAAAAAAKuqqqqqqkBAq6qqqqqqOkAAAAAAAAAAAAAAAAAAAAAAAAAAAAAAAAAAAAAAAAAAAAAAAAAAAD5AAAAAAAAAAAAAAAAAAAAAAKuqqqqqqjBAAAAAAAAAAAAAAAAAAAAAAFVVVVVVVTdAq6qqqqqqGkCrqqqqqqowQAAAAAAAAAAAAAAAAAAAAAAAAAAAAAAAAAAAAAAAAAAAAAAAAAAAAAAAAAAAAAAAAFVVVVVVVTdAAAAAAAAAAAAAAAAAAAAAAAAAAAAAAAAAAAAAAAAAAACrqqqqqqoqQAAAAAAAAAAAq6qqqqqqGkAAAAAAAAAAAAAAAAAAAAAAAAAAAAAAAAAAAAAAAAAAAAAAAAAAAAAAAAAAAAAAAAA=",
          "dtype": "f8"
         }
        },
        {
         "marker": {
          "color": "rgb(51, 34, 136)"
         },
         "name": "Minengefecht",
         "type": "bar",
         "x": [
          "Allooy",
          "cediiiiii_10",
          "_n3d",
          "qriezmannsOpa",
          "Muniix",
          "chrisihalt",
          "Fflopse",
          "Ex4cted",
          "Gobo9",
          "NewNormal0947",
          "Umgfoin",
          "HerrDante",
          "Pedrozockt",
          "rotmann2",
          "ReichesBrot",
          "Lelouch610",
          "JennieKim",
          "Joe3346",
          "Ninivee",
          "FrozenNoah",
          "Teesily",
          "Luxemburq",
          "CML_Justin",
          "JOW23",
          "DarkCobweb",
          "VendasTM",
          "Freeeedom",
          "GingerTeddy",
          "Squashgitter333",
          "KakaMC",
          "lizsyy",
          "2B9",
          "La_meleagro",
          "toxicplace",
          "yzvm",
          "Shiewk",
          "2wc",
          "Grapfen",
          "agowskyy",
          "miridis41"
         ],
         "y": {
          "bdata": "AAAAAACANkAAAAAAAIBBQAAAAAAAgCtAAAAAAAAAJEAAAAAAAAAkQAAAAAAAgDZAAAAAAAAADkAAAAAAAAAAAAAAAAAAADRAAAAAAAAADkAAAAAAAAAAAAAAAAAAgCFAAAAAAAAAAAAAAAAAAAAkQAAAAAAAAA5AAAAAAAAAKUAAAAAAAAAAAAAAAAAAAAAAAAAAAAAAAAAAAAAAAAA5QAAAAAAAAAAAAAAAAAAAAAAAAAAAAAAAAAAAAAAAgDZAAAAAAACANkAAAAAAAAAAAAAAAAAAAAAAAAAAAAAAAAAAAAAAAAAAAAAAAAAAAAAAAAAAAAAAAAAAAAAAAIAmQAAAAAAAAAAAAAAAAAAAAAAAAAAAAAApQAAAAAAAAAAAAAAAAACAIUAAAAAAAAAOQAAAAAAAAAAAAAAAAAAAAAA=",
          "dtype": "f8"
         }
        },
        {
         "marker": {
          "color": "rgb(170, 68, 153)"
         },
         "name": "Mini Survivalgames",
         "type": "bar",
         "x": [
          "Allooy",
          "cediiiiii_10",
          "_n3d",
          "qriezmannsOpa",
          "Muniix",
          "chrisihalt",
          "Fflopse",
          "Ex4cted",
          "Gobo9",
          "NewNormal0947",
          "Umgfoin",
          "HerrDante",
          "Pedrozockt",
          "rotmann2",
          "ReichesBrot",
          "Lelouch610",
          "JennieKim",
          "Joe3346",
          "Ninivee",
          "FrozenNoah",
          "Teesily",
          "Luxemburq",
          "CML_Justin",
          "JOW23",
          "DarkCobweb",
          "VendasTM",
          "Freeeedom",
          "GingerTeddy",
          "Squashgitter333",
          "KakaMC",
          "lizsyy",
          "2B9",
          "La_meleagro",
          "toxicplace",
          "yzvm",
          "Shiewk",
          "2wc",
          "Grapfen",
          "agowskyy",
          "miridis41"
         ],
         "y": {
          "bdata": "AAAAAAAAAAAAAAAAAAAAAAAAAAAAAAAAAAAAAAAAAAAAAAAAAAAAAAAAAAAAAAAAAAAAAAAAAAAAAAAAAAAAAAAAAAAAAAAAAAAAAAAAAAAAAAAAAAAAAAAAAAAAAAAAAAAAAAAAAAAAAAAAAAAAAAAAAAAAAAAAAAAAAAAAAAAAAAAAAAAAAAAAAAAAAAAAAAAAAAAAAAAAAAAAAAAAAAAAAAAAAAAAAAAAAAAAAAAAAAAAAAAAAAAAAAAAAAAAAAAAAAAAAAAAAAAAAAAAAAAAAAAAAAAAAAAAAAAAAAAAAAAAAAAAAAAAAAAAAAAAAAAAAAAAAAAAAAAAAAAAAAAAAAAAAAAAAAAAAAAAAAAAAAAAAAAAAAAAAAAAAAAAAAAAAAAAAAAAAAAAAAAAAAAAAAAAAAAAAAAAAAAAAAA=",
          "dtype": "f8"
         }
        },
        {
         "marker": {
          "color": "rgb(68, 170, 153)"
         },
         "name": "Paintball",
         "type": "bar",
         "x": [
          "Allooy",
          "cediiiiii_10",
          "_n3d",
          "qriezmannsOpa",
          "Muniix",
          "chrisihalt",
          "Fflopse",
          "Ex4cted",
          "Gobo9",
          "NewNormal0947",
          "Umgfoin",
          "HerrDante",
          "Pedrozockt",
          "rotmann2",
          "ReichesBrot",
          "Lelouch610",
          "JennieKim",
          "Joe3346",
          "Ninivee",
          "FrozenNoah",
          "Teesily",
          "Luxemburq",
          "CML_Justin",
          "JOW23",
          "DarkCobweb",
          "VendasTM",
          "Freeeedom",
          "GingerTeddy",
          "Squashgitter333",
          "KakaMC",
          "lizsyy",
          "2B9",
          "La_meleagro",
          "toxicplace",
          "yzvm",
          "Shiewk",
          "2wc",
          "Grapfen",
          "agowskyy",
          "miridis41"
         ],
         "y": {
          "bdata": "AAAAAAAAAAAAAAAAAAAAAAAAAAAAAAAAAAAAAAAAAAAAAAAAAAAAAAAAAAAAAAAAAAAAAAAAAAAAAAAAAAAAAAAAAAAAAAAAAAAAAAAAAAAAAAAAAAAAAAAAAAAAAAAAAAAAAAAAAAAAAAAAAAAAAAAAAAAAAAAAAAAAAAAAAAAAAAAAAAAAAAAAAAAAAAAAAAAAAAAAAAAAAAAAAAAAAAAAAAAAAAAAAAAAAAAAAAAAAAAAAAAAAAAAAAAAAAAAAAAAAAAAAAAAAAAAAAAAAAAAAAAAAAAAAAAAAAAAAAAAAAAAAAAAAAAAAAAAAAAAAAAAAAAAAAAAAAAAAAAAAAAAAAAAAAAAAAAAAAAAAAAAAAAAAAAAAAAAAAAAAAAAAAAAAAAAAAAAAAAAAAAAAAAAAAAAAAAAAAAAAAAAAAA=",
          "dtype": "f8"
         }
        },
        {
         "marker": {
          "color": "rgb(153, 153, 51)"
         },
         "name": "Parkour",
         "type": "bar",
         "x": [
          "Allooy",
          "cediiiiii_10",
          "_n3d",
          "qriezmannsOpa",
          "Muniix",
          "chrisihalt",
          "Fflopse",
          "Ex4cted",
          "Gobo9",
          "NewNormal0947",
          "Umgfoin",
          "HerrDante",
          "Pedrozockt",
          "rotmann2",
          "ReichesBrot",
          "Lelouch610",
          "JennieKim",
          "Joe3346",
          "Ninivee",
          "FrozenNoah",
          "Teesily",
          "Luxemburq",
          "CML_Justin",
          "JOW23",
          "DarkCobweb",
          "VendasTM",
          "Freeeedom",
          "GingerTeddy",
          "Squashgitter333",
          "KakaMC",
          "lizsyy",
          "2B9",
          "La_meleagro",
          "toxicplace",
          "yzvm",
          "Shiewk",
          "2wc",
          "Grapfen",
          "agowskyy",
          "miridis41"
         ],
         "y": {
          "bdata": "AAAAAACgVEAAAAAAAIA7QAAAAAAAAC5AAAAAAABARUAAAAAAAEBAQAAAAAAAAD5AAAAAAACANkAAAAAAAAAAAAAAAAAAQE9AAAAAAAAAHkAAAAAAAAAAAAAAAAAAAAAAAAAAAAAAKUAAAAAAAAAAAAAAAAAAQFBAAAAAAAAAAAAAAAAAAAAAAAAAAAAAADRAAAAAAAAAAAAAAAAAAAAAAAAAAAAAAClAAAAAAAAAAAAAAAAAAAAAAAAAAAAAAAAAAAAAAAAAAAAAAAAAAAA0QAAAAAAAAAAAAAAAAAAANEAAAAAAAAAAAAAAAAAAAAAAAAAAAAAAAAAAAAAAAAAAAAAAAAAAAAAAAAAAAAAAJEAAAAAAAAAAAAAAAAAAAAAAAAAAAAAAKUAAAAAAAAAAAAAAAAAAAAAAAAAAAAAAAAA=",
          "dtype": "f8"
         }
        },
        {
         "marker": {
          "color": "rgb(136, 34, 85)"
         },
         "name": "Pferderennen",
         "type": "bar",
         "x": [
          "Allooy",
          "cediiiiii_10",
          "_n3d",
          "qriezmannsOpa",
          "Muniix",
          "chrisihalt",
          "Fflopse",
          "Ex4cted",
          "Gobo9",
          "NewNormal0947",
          "Umgfoin",
          "HerrDante",
          "Pedrozockt",
          "rotmann2",
          "ReichesBrot",
          "Lelouch610",
          "JennieKim",
          "Joe3346",
          "Ninivee",
          "FrozenNoah",
          "Teesily",
          "Luxemburq",
          "CML_Justin",
          "JOW23",
          "DarkCobweb",
          "VendasTM",
          "Freeeedom",
          "GingerTeddy",
          "Squashgitter333",
          "KakaMC",
          "lizsyy",
          "2B9",
          "La_meleagro",
          "toxicplace",
          "yzvm",
          "Shiewk",
          "2wc",
          "Grapfen",
          "agowskyy",
          "miridis41"
         ],
         "y": {
          "bdata": "q6qqqqqqNUBVVVVVVdVJQAAAAAAAgEFAq6qqqqoqSEAAAAAAAAAUQKuqqqqqqkVAq6qqqqqqQEAAAAAAAAAAAAAAAAAAADlAq6qqqqqqKkCrqqqqqqoKQKuqqqqqqgpAVVVVVVVVJ0BVVVVVVVVHQKuqqqqqqjVAAAAAAAAAFECrqqqqqqpFQKuqqqqqqipAAAAAAAAAAAAAAAAAAAAAAAAAAAAAAAAAAAAAAAAAAAAAAAAAAAAAAAAAAAAAAAAAAAAAAAAAAAAAAAAAAAAkQAAAAAAAAAAAAAAAAAAALkAAAAAAAAA5QAAAAAAAAAAAq6qqqqqqCkAAAAAAAAAAAAAAAAAAAAAAAAAAAAAAAACrqqqqqqoqQAAAAAAAAAAAAAAAAAAAAAAAAAAAAAAAAAAAAAAAAAAAAAAAAAAAAAA=",
          "dtype": "f8"
         }
        },
        {
         "marker": {
          "color": "rgb(102, 17, 0)"
         },
         "name": "Reihenfolge",
         "type": "bar",
         "x": [
          "Allooy",
          "cediiiiii_10",
          "_n3d",
          "qriezmannsOpa",
          "Muniix",
          "chrisihalt",
          "Fflopse",
          "Ex4cted",
          "Gobo9",
          "NewNormal0947",
          "Umgfoin",
          "HerrDante",
          "Pedrozockt",
          "rotmann2",
          "ReichesBrot",
          "Lelouch610",
          "JennieKim",
          "Joe3346",
          "Ninivee",
          "FrozenNoah",
          "Teesily",
          "Luxemburq",
          "CML_Justin",
          "JOW23",
          "DarkCobweb",
          "VendasTM",
          "Freeeedom",
          "GingerTeddy",
          "Squashgitter333",
          "KakaMC",
          "lizsyy",
          "2B9",
          "La_meleagro",
          "toxicplace",
          "yzvm",
          "Shiewk",
          "2wc",
          "Grapfen",
          "agowskyy",
          "miridis41"
         ],
         "y": {
          "bdata": "AAAAAAAAAAAAAAAAAAAAAAAAAAAAAAAAAAAAAAAAAAAAAAAAAAAAAAAAAAAAAAAAAAAAAAAAAAAAAAAAAAAAAAAAAAAAAAAAAAAAAAAAAAAAAAAAAAAAAAAAAAAAAAAAAAAAAAAAAAAAAAAAAAAAAAAAAAAAAAAAAAAAAAAAAAAAAAAAAAAAAAAAAAAAAAAAAAAAAAAAAAAAAAAAAAAAAAAAAAAAAAAAAAAAAAAAAAAAAAAAAAAAAAAAAAAAAAAAAAAAAAAAAAAAAAAAAAAAAAAAAAAAAAAAAAAAAAAAAAAAAAAAAAAAAAAAAAAAAAAAAAAAAAAAAAAAAAAAAAAAAAAAAAAAAAAAAAAAAAAAAAAAAAAAAAAAAAAAAAAAAAAAAAAAAAAAAAAAAAAAAAAAAAAAAAAAAAAAAAAAAAAAAAA=",
          "dtype": "f8"
         }
        },
        {
         "marker": {
          "color": "rgb(136, 136, 136)"
         },
         "name": "Replika",
         "type": "bar",
         "x": [
          "Allooy",
          "cediiiiii_10",
          "_n3d",
          "qriezmannsOpa",
          "Muniix",
          "chrisihalt",
          "Fflopse",
          "Ex4cted",
          "Gobo9",
          "NewNormal0947",
          "Umgfoin",
          "HerrDante",
          "Pedrozockt",
          "rotmann2",
          "ReichesBrot",
          "Lelouch610",
          "JennieKim",
          "Joe3346",
          "Ninivee",
          "FrozenNoah",
          "Teesily",
          "Luxemburq",
          "CML_Justin",
          "JOW23",
          "DarkCobweb",
          "VendasTM",
          "Freeeedom",
          "GingerTeddy",
          "Squashgitter333",
          "KakaMC",
          "lizsyy",
          "2B9",
          "La_meleagro",
          "toxicplace",
          "yzvm",
          "Shiewk",
          "2wc",
          "Grapfen",
          "agowskyy",
          "miridis41"
         ],
         "y": {
          "bdata": "NUiDNEgDV0AndmIndmJOQOqhHuqhHlJABEZgBEZgHEAjMAIjMAI7QI7jOI7jOCZACYzACIzAMEC6n/u5n/tEQBQ7sRM7sUtAq6qqqqqqGkCQBmmQBmngP23WZm3WZg1AdmIndmInKkCQBmmQBmngP33Lt3zLtwxAXuEVXuEV7j+btVmbtVnbP5AGaZAGaeA/Fl7hFV7hxT8AAAAAAAAAAHiFV3iFVzRARmAERmAEQ0ByHMdxHMcRQBZe4RVe4eU/m7VZm7VZ2z9iJ3ZiJ3YCQHIcx3Ecx/E/m7VZm7VZ2z9TMiVTMiUjQLzCK7zCKxRANUiDNEiD9D8AAAAAAAAAAAAAAAAAAAAAAAAAAAAAAAAAAAAAAAAAABZe4RVe4dU/AAAAAAAAAAAAAAAAAAAAAAAAAAAAAAAAAAAAAAAAAAA=",
          "dtype": "f8"
         }
        },
        {
         "marker": {
          "color": "rgb(136, 204, 238)"
         },
         "name": "Runterpurzeln",
         "type": "bar",
         "x": [
          "Allooy",
          "cediiiiii_10",
          "_n3d",
          "qriezmannsOpa",
          "Muniix",
          "chrisihalt",
          "Fflopse",
          "Ex4cted",
          "Gobo9",
          "NewNormal0947",
          "Umgfoin",
          "HerrDante",
          "Pedrozockt",
          "rotmann2",
          "ReichesBrot",
          "Lelouch610",
          "JennieKim",
          "Joe3346",
          "Ninivee",
          "FrozenNoah",
          "Teesily",
          "Luxemburq",
          "CML_Justin",
          "JOW23",
          "DarkCobweb",
          "VendasTM",
          "Freeeedom",
          "GingerTeddy",
          "Squashgitter333",
          "KakaMC",
          "lizsyy",
          "2B9",
          "La_meleagro",
          "toxicplace",
          "yzvm",
          "Shiewk",
          "2wc",
          "Grapfen",
          "agowskyy",
          "miridis41"
         ],
         "y": {
          "bdata": "AAAAAAAATkAAAAAAAABUQAAAAAAAAD5AAAAAAACAUUAAAAAAAABZQAAAAAAAAAAAAAAAAAAAAAAAAAAAAABEQAAAAAAAAAAAAAAAAAAASUAAAAAAAAAAAAAAAAAAAAAAAAAAAAAAAAAAAAAAAAAAAAAAAAAAAAAAAAAAAAAAAAAAAAAAAAA0QAAAAAAAAAAAAAAAAAAAAAAAAAAAAAAAAAAAAAAAAAAAAAAAAAAAAAAAAAAAAAAAAAAAAAAAAAAAAAAAAAAAAAAAAAAAAAAAAAAAAAAAAAAAAAAAAAAAAAAAAAAAAAAAAAAAAAAAAAAAAAAAAAAAAAAAAAAAAAAAAAAAAAAAAAAAAAAAAAAAAAAAAAAAAAAAAAAAAAAAAAAAAAAAAAAAAAAAAAAAAAAAAAAAAAAAgFZAAAAAAAAAAAA=",
          "dtype": "f8"
         }
        },
        {
         "marker": {
          "color": "rgb(204, 102, 119)"
         },
         "name": "Sammelwahn",
         "type": "bar",
         "x": [
          "Allooy",
          "cediiiiii_10",
          "_n3d",
          "qriezmannsOpa",
          "Muniix",
          "chrisihalt",
          "Fflopse",
          "Ex4cted",
          "Gobo9",
          "NewNormal0947",
          "Umgfoin",
          "HerrDante",
          "Pedrozockt",
          "rotmann2",
          "ReichesBrot",
          "Lelouch610",
          "JennieKim",
          "Joe3346",
          "Ninivee",
          "FrozenNoah",
          "Teesily",
          "Luxemburq",
          "CML_Justin",
          "JOW23",
          "DarkCobweb",
          "VendasTM",
          "Freeeedom",
          "GingerTeddy",
          "Squashgitter333",
          "KakaMC",
          "lizsyy",
          "2B9",
          "La_meleagro",
          "toxicplace",
          "yzvm",
          "Shiewk",
          "2wc",
          "Grapfen",
          "agowskyy",
          "miridis41"
         ],
         "y": {
          "bdata": "aZAGaZAGNUBP7MRO7MREQBQ7sRM7sTFAfcu3fMu3HEDSIA3SIA0mQAdpkAZpkBZASIM0SIM0LEAAAAAAAAA0QMu3fMu3fDNAsRM7sRM7M0AAAAAAAAAkQMu3fMu3fCNANUiDNEiDFECe2Imd2IkVQGIndmIndgJA2Ymd2Imd6D/Lt3zLt3wTQGIndmIndhJA2Ymd2Imd+D81SIM0SIMEQH3Lt3zLtwxA0iAN0iANJkDLt3zLt3wjQJAGaZAGaeA/Yid2Yid2AkA1SIM0SIMEQJAGaZAGaSBAfcu3fMu3/D/ZiZ3YiZ34P33Lt3zLtwxA2Ymd2ImdCEA1SIM0SIMEQGmQBmmQBiVAAAAAAAAAAAAAAAAAAAAAAAAAAAAAAAAAAAAAAAAAAACe2Imd2IkVQJAGaZAGaQBAQhqkQRqkGUA=",
          "dtype": "f8"
         }
        },
        {
         "marker": {
          "color": "rgb(221, 204, 119)"
         },
         "name": "Schießstand",
         "type": "bar",
         "x": [
          "Allooy",
          "cediiiiii_10",
          "_n3d",
          "qriezmannsOpa",
          "Muniix",
          "chrisihalt",
          "Fflopse",
          "Ex4cted",
          "Gobo9",
          "NewNormal0947",
          "Umgfoin",
          "HerrDante",
          "Pedrozockt",
          "rotmann2",
          "ReichesBrot",
          "Lelouch610",
          "JennieKim",
          "Joe3346",
          "Ninivee",
          "FrozenNoah",
          "Teesily",
          "Luxemburq",
          "CML_Justin",
          "JOW23",
          "DarkCobweb",
          "VendasTM",
          "Freeeedom",
          "GingerTeddy",
          "Squashgitter333",
          "KakaMC",
          "lizsyy",
          "2B9",
          "La_meleagro",
          "toxicplace",
          "yzvm",
          "Shiewk",
          "2wc",
          "Grapfen",
          "agowskyy",
          "miridis41"
         ],
         "y": {
          "bdata": "AAAAAAAAJEAAAAAAAMBHQAAAAAAAACRAAAAAAABARUAAAAAAAAA5QAAAAAAAAC5AAAAAAAAATkAAAAAAAOBQQAAAAAAAgDFAAAAAAAAAHkAAAAAAAAAAAAAAAAAAgEFAAAAAAAAAAAAAAAAAAIBGQAAAAAAAAAAAAAAAAAAAAAAAAAAAAAAAAAAAAAAAAAAAAAAAAAAAAAAAAAAAAAAAAAAAAAAAAAAAAAAAAAAAAAAAAAAAAAAuQAAAAAAAwEdAAAAAAAAAAAAAAAAAAAAAAAAAAAAAAAAAAAAAAAAAKUAAAAAAAAA5QAAAAAAAAAAAAAAAAAAALkAAAAAAAAAAAAAAAAAAAAAAAAAAAAAAAAAAAAAAAAAAAAAAAAAAAAAAAAAAAAAAAAAAAAAAAAAAAAAAAAAAAC5AAAAAAAAAAAA=",
          "dtype": "f8"
         }
        },
        {
         "marker": {
          "color": "rgb(17, 119, 51)"
         },
         "name": "Skywars",
         "type": "bar",
         "x": [
          "Allooy",
          "cediiiiii_10",
          "_n3d",
          "qriezmannsOpa",
          "Muniix",
          "chrisihalt",
          "Fflopse",
          "Ex4cted",
          "Gobo9",
          "NewNormal0947",
          "Umgfoin",
          "HerrDante",
          "Pedrozockt",
          "rotmann2",
          "ReichesBrot",
          "Lelouch610",
          "JennieKim",
          "Joe3346",
          "Ninivee",
          "FrozenNoah",
          "Teesily",
          "Luxemburq",
          "CML_Justin",
          "JOW23",
          "DarkCobweb",
          "VendasTM",
          "Freeeedom",
          "GingerTeddy",
          "Squashgitter333",
          "KakaMC",
          "lizsyy",
          "2B9",
          "La_meleagro",
          "toxicplace",
          "yzvm",
          "Shiewk",
          "2wc",
          "Grapfen",
          "agowskyy",
          "miridis41"
         ],
         "y": {
          "bdata": "AAAAAAAANEBVVVVVVVVMQKuqqqqqqjpAAAAAAAAAPkCrqqqqqqpAQAAAAAAAAC5Aq6qqqqqqKkCrqqqqqqoKQKuqqqqqKk1Aq6qqqqqqNUCrqqqqqqo6QAAAAAAAAAAAq6qqqqqqKkAAAAAAAAAAAKuqqqqqqjBAAAAAAAAAAAAAAAAAAAAAAFVVVVVVVSdAAAAAAAAAAAAAAAAAAAAkQAAAAAAAAAAAAAAAAAAAAACrqqqqqqoaQKuqqqqqqkBAq6qqqqqqOkAAAAAAAAA0QFVVVVVVVTxAAAAAAAAAAACrqqqqqqoKQKuqqqqqqjBAAAAAAAAAAAAAAAAAAAAAAAAAAAAAAAAAAAAAAAAAAAAAAAAAAAAAAAAAAAAAAAAAVVVVVVVVPEBVVVVVVVU3QAAAAAAAAAAAAAAAAAAAAAA=",
          "dtype": "f8"
         }
        },
        {
         "marker": {
          "color": "rgb(51, 34, 136)"
         },
         "name": "Spleef",
         "type": "bar",
         "x": [
          "Allooy",
          "cediiiiii_10",
          "_n3d",
          "qriezmannsOpa",
          "Muniix",
          "chrisihalt",
          "Fflopse",
          "Ex4cted",
          "Gobo9",
          "NewNormal0947",
          "Umgfoin",
          "HerrDante",
          "Pedrozockt",
          "rotmann2",
          "ReichesBrot",
          "Lelouch610",
          "JennieKim",
          "Joe3346",
          "Ninivee",
          "FrozenNoah",
          "Teesily",
          "Luxemburq",
          "CML_Justin",
          "JOW23",
          "DarkCobweb",
          "VendasTM",
          "Freeeedom",
          "GingerTeddy",
          "Squashgitter333",
          "KakaMC",
          "lizsyy",
          "2B9",
          "La_meleagro",
          "toxicplace",
          "yzvm",
          "Shiewk",
          "2wc",
          "Grapfen",
          "agowskyy",
          "miridis41"
         ],
         "y": {
          "bdata": "AAAAAAAAWUAAAAAAAIBRQAAAAAAAgFZAAAAAAACAVkAAAAAAAIBRQAAAAAAAAAAAAAAAAAAAAAAAAAAAAAAAAAAAAAAAAAAAAAAAAACAUUAAAAAAAAA0QAAAAAAAAAAAAAAAAAAAAAAAAAAAAIBRQAAAAAAAAAAAAAAAAACAUUAAAAAAAAA0QAAAAAAAAAAAAAAAAAAAAAAAAAAAAAAAAAAAAAAAAAAAAAAAAAAAAAAAAAAAAAAAAAAAAAAAAAAAAAAAAAAAAAAAAAAAAAA0QAAAAAAAAAAAAAAAAAAAAAAAAAAAAAAAAAAAAAAAAAAAAAAAAAAAAAAAAAAAAAAAAAAAAAAAAAAAAAAAAAAAAAAAAAAAAAAAAAAAAAAAAAAAAAAAAAAAAAAAAAAAAAAAAAAAAAAAAAAAAAAAAAAAAAA=",
          "dtype": "f8"
         }
        },
        {
         "marker": {
          "color": "rgb(170, 68, 153)"
         },
         "name": "Survivalgames",
         "type": "bar",
         "x": [
          "Allooy",
          "cediiiiii_10",
          "_n3d",
          "qriezmannsOpa",
          "Muniix",
          "chrisihalt",
          "Fflopse",
          "Ex4cted",
          "Gobo9",
          "NewNormal0947",
          "Umgfoin",
          "HerrDante",
          "Pedrozockt",
          "rotmann2",
          "ReichesBrot",
          "Lelouch610",
          "JennieKim",
          "Joe3346",
          "Ninivee",
          "FrozenNoah",
          "Teesily",
          "Luxemburq",
          "CML_Justin",
          "JOW23",
          "DarkCobweb",
          "VendasTM",
          "Freeeedom",
          "GingerTeddy",
          "Squashgitter333",
          "KakaMC",
          "lizsyy",
          "2B9",
          "La_meleagro",
          "toxicplace",
          "yzvm",
          "Shiewk",
          "2wc",
          "Grapfen",
          "agowskyy",
          "miridis41"
         ],
         "y": {
          "bdata": "AAAAAABASkAAAAAAAIBGQAAAAAAAAB5AAAAAAACANkAAAAAAACBSQAAAAAAAgEZAAAAAAAAAAAAAAAAAAAAAAAAAAAAAACRAAAAAAAAASUAAAAAAAEBAQAAAAAAAAB5AAAAAAAAAAAAAAAAAAMBCQAAAAAAAgDZAAAAAAAAAAAAAAAAAAEBAQAAAAAAAAAAAAAAAAAAAFEAAAAAAAAA+QAAAAAAAAAAAAAAAAAAAAAAAAAAAAAAAAAAAAAAAABRAAAAAAAAAFEAAAAAAAAAeQAAAAAAAgDFAAAAAAAAAAAAAAAAAAAAeQAAAAAAAAAAAAAAAAAAAAAAAAAAAAAA5QAAAAAAAAAAAAAAAAAAAAAAAAAAAAAAAAAAAAAAAAAAAAAAAAAAANEAAAAAAAAA0QAAAAAAAAB5AAAAAAAAAFEA=",
          "dtype": "f8"
         }
        },
        {
         "marker": {
          "color": "rgb(68, 170, 153)"
         },
         "name": "Todeswürfel",
         "type": "bar",
         "x": [
          "Allooy",
          "cediiiiii_10",
          "_n3d",
          "qriezmannsOpa",
          "Muniix",
          "chrisihalt",
          "Fflopse",
          "Ex4cted",
          "Gobo9",
          "NewNormal0947",
          "Umgfoin",
          "HerrDante",
          "Pedrozockt",
          "rotmann2",
          "ReichesBrot",
          "Lelouch610",
          "JennieKim",
          "Joe3346",
          "Ninivee",
          "FrozenNoah",
          "Teesily",
          "Luxemburq",
          "CML_Justin",
          "JOW23",
          "DarkCobweb",
          "VendasTM",
          "Freeeedom",
          "GingerTeddy",
          "Squashgitter333",
          "KakaMC",
          "lizsyy",
          "2B9",
          "La_meleagro",
          "toxicplace",
          "yzvm",
          "Shiewk",
          "2wc",
          "Grapfen",
          "agowskyy",
          "miridis41"
         ],
         "y": {
          "bdata": "AAAAAAAAAAAAAAAAAAAAAAAAAAAAAAAAAAAAAAAAAAAAAAAAAAAAAAAAAAAAAAAAAAAAAAAAAAAAAAAAAAAAAAAAAAAAAAAAAAAAAAAAAAAAAAAAAAAAAAAAAAAAAAAAAAAAAAAAAAAAAAAAAAAAAAAAAAAAAAAAAAAAAAAAAAAAAAAAAAAAAAAAAAAAAAAAAAAAAAAAAAAAAAAAAAAAAAAAAAAAAAAAAAAAAAAAAAAAAAAAAAAAAAAAAAAAAAAAAAAAAAAAAAAAAAAAAAAAAAAAAAAAAAAAAAAAAAAAAAAAAAAAAAAAAAAAAAAAAAAAAAAAAAAAAAAAAAAAAAAAAAAAAAAAAAAAAAAAAAAAAAAAAAAAAAAAAAAAAAAAAAAAAAAAAAAAAAAAAAAAAAAAAAAAAAAAAAAAAAAAAAAAAAA=",
          "dtype": "f8"
         }
        },
        {
         "marker": {
          "color": "rgb(153, 153, 51)"
         },
         "name": "Turmroulette",
         "type": "bar",
         "x": [
          "Allooy",
          "cediiiiii_10",
          "_n3d",
          "qriezmannsOpa",
          "Muniix",
          "chrisihalt",
          "Fflopse",
          "Ex4cted",
          "Gobo9",
          "NewNormal0947",
          "Umgfoin",
          "HerrDante",
          "Pedrozockt",
          "rotmann2",
          "ReichesBrot",
          "Lelouch610",
          "JennieKim",
          "Joe3346",
          "Ninivee",
          "FrozenNoah",
          "Teesily",
          "Luxemburq",
          "CML_Justin",
          "JOW23",
          "DarkCobweb",
          "VendasTM",
          "Freeeedom",
          "GingerTeddy",
          "Squashgitter333",
          "KakaMC",
          "lizsyy",
          "2B9",
          "La_meleagro",
          "toxicplace",
          "yzvm",
          "Shiewk",
          "2wc",
          "Grapfen",
          "agowskyy",
          "miridis41"
         ],
         "y": {
          "bdata": "AAAAAACAUUAAAAAAAAAAAAAAAAAAADRAAAAAAACAUUAAAAAAAIBWQAAAAAAAgFZAAAAAAAAAAAAAAAAAAAAAAAAAAAAAAFlAAAAAAAAANEAAAAAAAIBRQAAAAAAAAAAAAAAAAAAAAAAAAAAAAAAAAAAAAAAAAAAAAAAAAAAANEAAAAAAAAAAAAAAAAAAADRAAAAAAAAAAAAAAAAAAIBRQAAAAAAAAAAAAAAAAAAANEAAAAAAAAAAAAAAAAAAAAAAAAAAAAAANEAAAAAAAIBRQAAAAAAAAAAAAAAAAAAANEAAAAAAAAAAAAAAAAAAAAAAAAAAAAAAAAAAAAAAAAAAAAAAAAAAAAAAAAAAAAAAAAAAAAAAAAAAAAAAAAAAAAAAAAAAAAAAAAAAAAAAAAAAAAAAAAAAAAAAAAAAAAAAAAA=",
          "dtype": "f8"
         }
        },
        {
         "marker": {
          "color": "rgb(136, 34, 85)"
         },
         "name": "Waffenfolge",
         "type": "bar",
         "x": [
          "Allooy",
          "cediiiiii_10",
          "_n3d",
          "qriezmannsOpa",
          "Muniix",
          "chrisihalt",
          "Fflopse",
          "Ex4cted",
          "Gobo9",
          "NewNormal0947",
          "Umgfoin",
          "HerrDante",
          "Pedrozockt",
          "rotmann2",
          "ReichesBrot",
          "Lelouch610",
          "JennieKim",
          "Joe3346",
          "Ninivee",
          "FrozenNoah",
          "Teesily",
          "Luxemburq",
          "CML_Justin",
          "JOW23",
          "DarkCobweb",
          "VendasTM",
          "Freeeedom",
          "GingerTeddy",
          "Squashgitter333",
          "KakaMC",
          "lizsyy",
          "2B9",
          "La_meleagro",
          "toxicplace",
          "yzvm",
          "Shiewk",
          "2wc",
          "Grapfen",
          "agowskyy",
          "miridis41"
         ],
         "y": {
          "bdata": "AAAAAAAAAAAAAAAAAAAAAAAAAAAAAAAAAAAAAAAAAAAAAAAAAAAAAAAAAAAAAAAAAAAAAAAAAAAAAAAAAAAAAAAAAAAAAAAAAAAAAAAAAAAAAAAAAAAAAAAAAAAAAAAAAAAAAAAAAAAAAAAAAAAAAAAAAAAAAAAAAAAAAAAAAAAAAAAAAAAAAAAAAAAAAAAAAAAAAAAAAAAAAAAAAAAAAAAAAAAAAAAAAAAAAAAAAAAAAAAAAAAAAAAAAAAAAAAAAAAAAAAAAAAAAAAAAAAAAAAAAAAAAAAAAAAAAAAAAAAAAAAAAAAAAAAAAAAAAAAAAAAAAAAAAAAAAAAAAAAAAAAAAAAAAAAAAAAAAAAAAAAAAAAAAAAAAAAAAAAAAAAAAAAAAAAAAAAAAAAAAAAAAAAAAAAAAAAAAAAAAAAAAAA=",
          "dtype": "f8"
         }
        },
        {
         "marker": {
          "color": "rgb(102, 17, 0)"
         },
         "name": "Wettrennen",
         "type": "bar",
         "x": [
          "Allooy",
          "cediiiiii_10",
          "_n3d",
          "qriezmannsOpa",
          "Muniix",
          "chrisihalt",
          "Fflopse",
          "Ex4cted",
          "Gobo9",
          "NewNormal0947",
          "Umgfoin",
          "HerrDante",
          "Pedrozockt",
          "rotmann2",
          "ReichesBrot",
          "Lelouch610",
          "JennieKim",
          "Joe3346",
          "Ninivee",
          "FrozenNoah",
          "Teesily",
          "Luxemburq",
          "CML_Justin",
          "JOW23",
          "DarkCobweb",
          "VendasTM",
          "Freeeedom",
          "GingerTeddy",
          "Squashgitter333",
          "KakaMC",
          "lizsyy",
          "2B9",
          "La_meleagro",
          "toxicplace",
          "yzvm",
          "Shiewk",
          "2wc",
          "Grapfen",
          "agowskyy",
          "miridis41"
         ],
         "y": {
          "bdata": "AAAAAAAATUAAAAAAAABCQAAAAAAAAEtAAAAAAAAAQEAAAAAAAABBQAAAAAAAgFNAAAAAAAAANEAAAAAAAAAkQAAAAAAAACxAAAAAAAAAIEAAAAAAAAAAAAAAAAAAABBAAAAAAAAAAAAAAAAAAAAAAAAAAAAAACxAAAAAAAAAAAAAAAAAAABDQAAAAAAAADxAAAAAAAAAAAAAAAAAAAAAAAAAAAAAAAAAAAAAAAAAAAAAAAAAAAAgQAAAAAAAAAAAAAAAAAAAAAAAAAAAAAA+QAAAAAAAAAAAAAAAAAAAOEAAAAAAAAAAAAAAAAAAAAAAAAAAAAAAAAAAAAAAAAAAAAAAAAAAAAAAAAAAAAAAAAAAAAAAAAAAAAAAAAAAAAAAAAAAAAAAAAAAAAAAAAAAAAAAAAAAAAAAAAAAAAAAAAA=",
          "dtype": "f8"
         }
        }
       ],
       "layout": {
        "annotations": [
         {
          "font": {
           "size": 12
          },
          "showarrow": false,
          "text": "Max 100 points per minigame. Records #1 through #10 of games & maps in the active pool are considered (#1: 100, #2: 90, ..., #10: 10). If a minigame has multiple maps, the 100 points are distributed equally. fflopse.github.io/MCP-Records/data-analysis/global-ranking.ipynb",
          "x": 0.5,
          "xanchor": "center",
          "xref": "paper",
          "y": 1.1635,
          "yref": "paper"
         }
        ],
        "barmode": "stack",
        "legend": {
         "bgcolor": "rgba(255, 255, 255, 0)",
         "bordercolor": "rgba(0, 0, 0, 0)",
         "font": {
          "size": 12
         },
         "traceorder": "normal",
         "x": 1.05,
         "y": 0.5
        },
        "margin": {
         "r": 200
        },
        "template": {
         "data": {
          "bar": [
           {
            "error_x": {
             "color": "#2a3f5f"
            },
            "error_y": {
             "color": "#2a3f5f"
            },
            "marker": {
             "line": {
              "color": "#E5ECF6",
              "width": 0.5
             },
             "pattern": {
              "fillmode": "overlay",
              "size": 10,
              "solidity": 0.2
             }
            },
            "type": "bar"
           }
          ],
          "barpolar": [
           {
            "marker": {
             "line": {
              "color": "#E5ECF6",
              "width": 0.5
             },
             "pattern": {
              "fillmode": "overlay",
              "size": 10,
              "solidity": 0.2
             }
            },
            "type": "barpolar"
           }
          ],
          "carpet": [
           {
            "aaxis": {
             "endlinecolor": "#2a3f5f",
             "gridcolor": "white",
             "linecolor": "white",
             "minorgridcolor": "white",
             "startlinecolor": "#2a3f5f"
            },
            "baxis": {
             "endlinecolor": "#2a3f5f",
             "gridcolor": "white",
             "linecolor": "white",
             "minorgridcolor": "white",
             "startlinecolor": "#2a3f5f"
            },
            "type": "carpet"
           }
          ],
          "choropleth": [
           {
            "colorbar": {
             "outlinewidth": 0,
             "ticks": ""
            },
            "type": "choropleth"
           }
          ],
          "contour": [
           {
            "colorbar": {
             "outlinewidth": 0,
             "ticks": ""
            },
            "colorscale": [
             [
              0,
              "#0d0887"
             ],
             [
              0.1111111111111111,
              "#46039f"
             ],
             [
              0.2222222222222222,
              "#7201a8"
             ],
             [
              0.3333333333333333,
              "#9c179e"
             ],
             [
              0.4444444444444444,
              "#bd3786"
             ],
             [
              0.5555555555555556,
              "#d8576b"
             ],
             [
              0.6666666666666666,
              "#ed7953"
             ],
             [
              0.7777777777777778,
              "#fb9f3a"
             ],
             [
              0.8888888888888888,
              "#fdca26"
             ],
             [
              1,
              "#f0f921"
             ]
            ],
            "type": "contour"
           }
          ],
          "contourcarpet": [
           {
            "colorbar": {
             "outlinewidth": 0,
             "ticks": ""
            },
            "type": "contourcarpet"
           }
          ],
          "heatmap": [
           {
            "colorbar": {
             "outlinewidth": 0,
             "ticks": ""
            },
            "colorscale": [
             [
              0,
              "#0d0887"
             ],
             [
              0.1111111111111111,
              "#46039f"
             ],
             [
              0.2222222222222222,
              "#7201a8"
             ],
             [
              0.3333333333333333,
              "#9c179e"
             ],
             [
              0.4444444444444444,
              "#bd3786"
             ],
             [
              0.5555555555555556,
              "#d8576b"
             ],
             [
              0.6666666666666666,
              "#ed7953"
             ],
             [
              0.7777777777777778,
              "#fb9f3a"
             ],
             [
              0.8888888888888888,
              "#fdca26"
             ],
             [
              1,
              "#f0f921"
             ]
            ],
            "type": "heatmap"
           }
          ],
          "histogram": [
           {
            "marker": {
             "pattern": {
              "fillmode": "overlay",
              "size": 10,
              "solidity": 0.2
             }
            },
            "type": "histogram"
           }
          ],
          "histogram2d": [
           {
            "colorbar": {
             "outlinewidth": 0,
             "ticks": ""
            },
            "colorscale": [
             [
              0,
              "#0d0887"
             ],
             [
              0.1111111111111111,
              "#46039f"
             ],
             [
              0.2222222222222222,
              "#7201a8"
             ],
             [
              0.3333333333333333,
              "#9c179e"
             ],
             [
              0.4444444444444444,
              "#bd3786"
             ],
             [
              0.5555555555555556,
              "#d8576b"
             ],
             [
              0.6666666666666666,
              "#ed7953"
             ],
             [
              0.7777777777777778,
              "#fb9f3a"
             ],
             [
              0.8888888888888888,
              "#fdca26"
             ],
             [
              1,
              "#f0f921"
             ]
            ],
            "type": "histogram2d"
           }
          ],
          "histogram2dcontour": [
           {
            "colorbar": {
             "outlinewidth": 0,
             "ticks": ""
            },
            "colorscale": [
             [
              0,
              "#0d0887"
             ],
             [
              0.1111111111111111,
              "#46039f"
             ],
             [
              0.2222222222222222,
              "#7201a8"
             ],
             [
              0.3333333333333333,
              "#9c179e"
             ],
             [
              0.4444444444444444,
              "#bd3786"
             ],
             [
              0.5555555555555556,
              "#d8576b"
             ],
             [
              0.6666666666666666,
              "#ed7953"
             ],
             [
              0.7777777777777778,
              "#fb9f3a"
             ],
             [
              0.8888888888888888,
              "#fdca26"
             ],
             [
              1,
              "#f0f921"
             ]
            ],
            "type": "histogram2dcontour"
           }
          ],
          "mesh3d": [
           {
            "colorbar": {
             "outlinewidth": 0,
             "ticks": ""
            },
            "type": "mesh3d"
           }
          ],
          "parcoords": [
           {
            "line": {
             "colorbar": {
              "outlinewidth": 0,
              "ticks": ""
             }
            },
            "type": "parcoords"
           }
          ],
          "pie": [
           {
            "automargin": true,
            "type": "pie"
           }
          ],
          "scatter": [
           {
            "fillpattern": {
             "fillmode": "overlay",
             "size": 10,
             "solidity": 0.2
            },
            "type": "scatter"
           }
          ],
          "scatter3d": [
           {
            "line": {
             "colorbar": {
              "outlinewidth": 0,
              "ticks": ""
             }
            },
            "marker": {
             "colorbar": {
              "outlinewidth": 0,
              "ticks": ""
             }
            },
            "type": "scatter3d"
           }
          ],
          "scattercarpet": [
           {
            "marker": {
             "colorbar": {
              "outlinewidth": 0,
              "ticks": ""
             }
            },
            "type": "scattercarpet"
           }
          ],
          "scattergeo": [
           {
            "marker": {
             "colorbar": {
              "outlinewidth": 0,
              "ticks": ""
             }
            },
            "type": "scattergeo"
           }
          ],
          "scattergl": [
           {
            "marker": {
             "colorbar": {
              "outlinewidth": 0,
              "ticks": ""
             }
            },
            "type": "scattergl"
           }
          ],
          "scattermap": [
           {
            "marker": {
             "colorbar": {
              "outlinewidth": 0,
              "ticks": ""
             }
            },
            "type": "scattermap"
           }
          ],
          "scattermapbox": [
           {
            "marker": {
             "colorbar": {
              "outlinewidth": 0,
              "ticks": ""
             }
            },
            "type": "scattermapbox"
           }
          ],
          "scatterpolar": [
           {
            "marker": {
             "colorbar": {
              "outlinewidth": 0,
              "ticks": ""
             }
            },
            "type": "scatterpolar"
           }
          ],
          "scatterpolargl": [
           {
            "marker": {
             "colorbar": {
              "outlinewidth": 0,
              "ticks": ""
             }
            },
            "type": "scatterpolargl"
           }
          ],
          "scatterternary": [
           {
            "marker": {
             "colorbar": {
              "outlinewidth": 0,
              "ticks": ""
             }
            },
            "type": "scatterternary"
           }
          ],
          "surface": [
           {
            "colorbar": {
             "outlinewidth": 0,
             "ticks": ""
            },
            "colorscale": [
             [
              0,
              "#0d0887"
             ],
             [
              0.1111111111111111,
              "#46039f"
             ],
             [
              0.2222222222222222,
              "#7201a8"
             ],
             [
              0.3333333333333333,
              "#9c179e"
             ],
             [
              0.4444444444444444,
              "#bd3786"
             ],
             [
              0.5555555555555556,
              "#d8576b"
             ],
             [
              0.6666666666666666,
              "#ed7953"
             ],
             [
              0.7777777777777778,
              "#fb9f3a"
             ],
             [
              0.8888888888888888,
              "#fdca26"
             ],
             [
              1,
              "#f0f921"
             ]
            ],
            "type": "surface"
           }
          ],
          "table": [
           {
            "cells": {
             "fill": {
              "color": "#EBF0F8"
             },
             "line": {
              "color": "white"
             }
            },
            "header": {
             "fill": {
              "color": "#C8D4E3"
             },
             "line": {
              "color": "white"
             }
            },
            "type": "table"
           }
          ]
         },
         "layout": {
          "annotationdefaults": {
           "arrowcolor": "#2a3f5f",
           "arrowhead": 0,
           "arrowwidth": 1
          },
          "autotypenumbers": "strict",
          "coloraxis": {
           "colorbar": {
            "outlinewidth": 0,
            "ticks": ""
           }
          },
          "colorscale": {
           "diverging": [
            [
             0,
             "#8e0152"
            ],
            [
             0.1,
             "#c51b7d"
            ],
            [
             0.2,
             "#de77ae"
            ],
            [
             0.3,
             "#f1b6da"
            ],
            [
             0.4,
             "#fde0ef"
            ],
            [
             0.5,
             "#f7f7f7"
            ],
            [
             0.6,
             "#e6f5d0"
            ],
            [
             0.7,
             "#b8e186"
            ],
            [
             0.8,
             "#7fbc41"
            ],
            [
             0.9,
             "#4d9221"
            ],
            [
             1,
             "#276419"
            ]
           ],
           "sequential": [
            [
             0,
             "#0d0887"
            ],
            [
             0.1111111111111111,
             "#46039f"
            ],
            [
             0.2222222222222222,
             "#7201a8"
            ],
            [
             0.3333333333333333,
             "#9c179e"
            ],
            [
             0.4444444444444444,
             "#bd3786"
            ],
            [
             0.5555555555555556,
             "#d8576b"
            ],
            [
             0.6666666666666666,
             "#ed7953"
            ],
            [
             0.7777777777777778,
             "#fb9f3a"
            ],
            [
             0.8888888888888888,
             "#fdca26"
            ],
            [
             1,
             "#f0f921"
            ]
           ],
           "sequentialminus": [
            [
             0,
             "#0d0887"
            ],
            [
             0.1111111111111111,
             "#46039f"
            ],
            [
             0.2222222222222222,
             "#7201a8"
            ],
            [
             0.3333333333333333,
             "#9c179e"
            ],
            [
             0.4444444444444444,
             "#bd3786"
            ],
            [
             0.5555555555555556,
             "#d8576b"
            ],
            [
             0.6666666666666666,
             "#ed7953"
            ],
            [
             0.7777777777777778,
             "#fb9f3a"
            ],
            [
             0.8888888888888888,
             "#fdca26"
            ],
            [
             1,
             "#f0f921"
            ]
           ]
          },
          "colorway": [
           "#636efa",
           "#EF553B",
           "#00cc96",
           "#ab63fa",
           "#FFA15A",
           "#19d3f3",
           "#FF6692",
           "#B6E880",
           "#FF97FF",
           "#FECB52"
          ],
          "font": {
           "color": "#2a3f5f"
          },
          "geo": {
           "bgcolor": "white",
           "lakecolor": "white",
           "landcolor": "#E5ECF6",
           "showlakes": true,
           "showland": true,
           "subunitcolor": "white"
          },
          "hoverlabel": {
           "align": "left"
          },
          "hovermode": "closest",
          "mapbox": {
           "style": "light"
          },
          "paper_bgcolor": "white",
          "plot_bgcolor": "#E5ECF6",
          "polar": {
           "angularaxis": {
            "gridcolor": "white",
            "linecolor": "white",
            "ticks": ""
           },
           "bgcolor": "#E5ECF6",
           "radialaxis": {
            "gridcolor": "white",
            "linecolor": "white",
            "ticks": ""
           }
          },
          "scene": {
           "xaxis": {
            "backgroundcolor": "#E5ECF6",
            "gridcolor": "white",
            "gridwidth": 2,
            "linecolor": "white",
            "showbackground": true,
            "ticks": "",
            "zerolinecolor": "white"
           },
           "yaxis": {
            "backgroundcolor": "#E5ECF6",
            "gridcolor": "white",
            "gridwidth": 2,
            "linecolor": "white",
            "showbackground": true,
            "ticks": "",
            "zerolinecolor": "white"
           },
           "zaxis": {
            "backgroundcolor": "#E5ECF6",
            "gridcolor": "white",
            "gridwidth": 2,
            "linecolor": "white",
            "showbackground": true,
            "ticks": "",
            "zerolinecolor": "white"
           }
          },
          "shapedefaults": {
           "line": {
            "color": "#2a3f5f"
           }
          },
          "ternary": {
           "aaxis": {
            "gridcolor": "white",
            "linecolor": "white",
            "ticks": ""
           },
           "baxis": {
            "gridcolor": "white",
            "linecolor": "white",
            "ticks": ""
           },
           "bgcolor": "#E5ECF6",
           "caxis": {
            "gridcolor": "white",
            "linecolor": "white",
            "ticks": ""
           }
          },
          "title": {
           "x": 0.05
          },
          "xaxis": {
           "automargin": true,
           "gridcolor": "white",
           "linecolor": "white",
           "ticks": "",
           "title": {
            "standoff": 15
           },
           "zerolinecolor": "white",
           "zerolinewidth": 2
          },
          "yaxis": {
           "automargin": true,
           "gridcolor": "white",
           "linecolor": "white",
           "ticks": "",
           "title": {
            "standoff": 15
           },
           "zerolinecolor": "white",
           "zerolinewidth": 2
          }
         }
        },
        "title": {
         "text": "Extended Overall Record Comparison - Top 40 Players"
        },
        "xaxis": {
         "title": {
          "text": "Player"
         }
        },
        "yaxis": {
         "title": {
          "text": "Points"
         }
        }
       }
      }
     },
     "metadata": {},
     "output_type": "display_data"
    }
   ],
   "source": [
    "import plotly.graph_objects as go\n",
    "\n",
    "# Sum all columns to get the total score\n",
    "outDf['Total'] = outDf.sum(axis=1)\n",
    "\n",
    "# Sort by total score and fill N/A values with 0\n",
    "outDf = outDf.sort_values(by='Total', ascending=False).fillna(0)\n",
    "\n",
    "# Crop to top 10 players\n",
    "cropDf = outDf.head(40).copy()\n",
    "\n",
    "# Drop the 'Total' column for plotting\n",
    "cropDf = cropDf.drop(columns=['Total'])\n",
    "\n",
    "# Create a color palette\n",
    "color_palette = px.colors.qualitative.Safe\n",
    "\n",
    "# Create the stacked bar plot\n",
    "fig = go.Figure()\n",
    "\n",
    "cropDf = remove_duplicate_columns(cropDf)\n",
    "\n",
    "for column in cropDf.columns.difference(['Player']):\n",
    "    fig.add_trace(go.Bar(\n",
    "        x=cropDf.index,\n",
    "        y=cropDf[column],\n",
    "        name=column,\n",
    "        marker_color=color_palette[len(fig.data) % len(color_palette)]\n",
    "    ))\n",
    "\n",
    "# Update layout\n",
    "fig.update_layout(\n",
    "    barmode='stack',\n",
    "    title='Extended Overall Record Comparison - Top 40 Players',\n",
    "    xaxis=dict(title='Player'),\n",
    "    yaxis=dict(title='Points'),\n",
    "    #height=800,\n",
    "    #width=1000,\n",
    "    legend=dict(\n",
    "        x=1.05,\n",
    "        y=0.5,\n",
    "        traceorder='normal',\n",
    "        font=dict(size=12),\n",
    "        bgcolor='rgba(255, 255, 255, 0)',\n",
    "        bordercolor='rgba(0, 0, 0, 0)'\n",
    "    ),\n",
    "    margin=dict(r=200),  # Adjust right margin to make room for the legend\n",
    "    annotations=[\n",
    "        dict(\n",
    "            x=0.5,\n",
    "            y=1.1635,\n",
    "            xref='paper',\n",
    "            yref='paper',\n",
    "            text='Max 100 points per minigame. Records #1 through #10 of games & maps in the active pool are considered (#1: 100, #2: 90, ..., #10: 10). If a minigame has multiple maps, the 100 points are distributed equally. fflopse.github.io/MCP-Records/data-analysis/global-ranking.ipynb',\n",
    "            showarrow=False,\n",
    "            font=dict(size=12),\n",
    "            xanchor='center'\n",
    "        )\n",
    "    ]\n",
    ")\n",
    "\n",
    "fig.show()\n",
    "\n",
    "# save the plot as an html file\n",
    "\n",
    "fig.write_html('out/ext_overall_record_comparison.html')"
   ]
  },
  {
   "cell_type": "code",
   "execution_count": null,
   "metadata": {},
   "outputs": [
    {
     "data": {
      "application/vnd.plotly.v1+json": {
       "config": {
        "plotlyServerURL": "https://plot.ly"
       },
       "data": [
        {
         "marker": {
          "color": "rgb(136, 204, 238)"
         },
         "name": "Ampelrennen",
         "type": "bar",
         "x": [
          "Allooy",
          "cediiiiii_10",
          "_n3d",
          "qriezmannsOpa",
          "Muniix",
          "chrisihalt",
          "Fflopse",
          "Ex4cted",
          "Gobo9",
          "NewNormal0947",
          "Umgfoin",
          "HerrDante",
          "Pedrozockt",
          "rotmann2",
          "ReichesBrot",
          "Lelouch610",
          "Joe3346",
          "JennieKim",
          "Ninivee",
          "FrozenNoah",
          "Teesily",
          "Luxemburq",
          "CML_Justin",
          "JOW23",
          "DarkCobweb",
          "VendasTM",
          "Freeeedom",
          "GingerTeddy",
          "Squashgitter333",
          "KakaMC",
          "lizsyy",
          "2B9",
          "La_meleagro",
          "toxicplace",
          "yzvm",
          "Shiewk",
          "2wc",
          "Grapfen",
          "agowskyy",
          "miridis41",
          "Schmaarek",
          "TheFabo",
          "Vanillinchen",
          "MaxMitMaulkorb",
          "GermanPie",
          "ByNetherdude",
          "yiiq",
          "swiffle",
          "Feinberg",
          "Sey__",
          "Lubottus",
          "GeneralEnte06",
          "Stockinqs",
          "vKito",
          "zBro",
          "YBCM",
          "byTobi",
          "xBaumeisterin",
          "Mincheeen",
          "h4nnes",
          "Seemops_8",
          "camman18YT",
          "DaVinci_Son",
          "LeWi_100",
          "RasenLP",
          "unausgesprochen",
          "Ungluecklicher",
          "ffawks",
          "Wienerisch",
          "Persidieus",
          "LeMetin_",
          "marbrueck",
          "Ritokii",
          "Gerrygames",
          "LucaaOn",
          "DieserBear",
          "y9nic",
          "JOW24",
          "ZweitesIch",
          "xX_Dima_ggg_Xx6",
          "Flitzi_Dino",
          "Sthyq",
          "Txlentierter",
          "Hyxeed",
          "Gestimus",
          "lvlaurin",
          "M0osebumps",
          "BastiGHG",
          "NotLennart",
          "yachayubin",
          "deadfiight",
          "Morittz",
          "PixlNight",
          "Nervigerr",
          "Simlll",
          "Kyuudo",
          "BunnyKiko",
          "MaxOnTheRoad",
          "Gummibearchen",
          "Janne4k"
         ],
         "y": {
          "bdata": "AAAAAAAAAAAAAAAAAAAkQAAAAAAAAC5AAAAAAAAAAAAAAAAAAAAAAAAAAAAAAFRAAAAAAACAQUAAAAAAAIBRQAAAAAAAAElAAAAAAAAAAAAAAAAAAABJQAAAAAAAAAAAAAAAAACAS0AAAAAAAAAAAAAAAAAAAAAAAAAAAAAAAAAAAAAAAAAAAAAAAAAAAAAAAAAAAAAAAAAAAAAAAAAAAAAAAAAAAAAAAAAAAAAAAAAAAAAAAAAAAAAAAAAAgEZAAAAAAAAAAAAAAAAAAAAAAAAAAAAAAAAAAAAAAAAAAAAAAAAAAAAAAAAAAAAAAAAAAAAAAAAAAAAAAAAAAAAAAAAAAAAAAAAAAAAAAAAAAAAAAAAAAAAAAAAAAAAAAAAAAAAAAAAAAAAAAAAAAAAAAAAAAAAAAAAAAAAAAAAALkAAAAAAAAAAAAAAAAAAAAAAAAAAAAAANEAAAAAAAAAAAAAAAAAAADRAAAAAAAAAAAAAAAAAAAAAAAAAAAAAAAAAAAAAAAAAAAAAAAAAAIBBQAAAAAAAAAAAAAAAAAAAAAAAAAAAAAAAAAAAAAAAAAAAAAAAAAAAAAAAAAAAAAAAAAAAAAAAAAAAAAAAAAAAAAAAAAAAAAAAAAAAAAAAAAAAAAAAAAAAAAAAAAAAAAAAAAAAAAAAAAAAAAAAAAAAAAAAAAAAAAAAAAAAAAAAAAAAAAAAAAAAAAAAAAAAAAAAAAAAAAAAAAAAAAAAAAAAAAAAAAAAAAAAAAAAAAAAAAAAAAAAAAAAPkAAAAAAAAAAAAAAAAAAAAAAAAAAAAAAAAAAAAAAAAAAAAAAAAAAAAAAAAAAAAAAAAAAAAAAAAAAAAAAAAAAAAAAAAAAAAAAAAAAAAAAAAAAAAAAAAAAAAAAAAAAAAAAAAAAAAAAAAAAAAAAAAAAAAAAAAAAAAAAAAAAAAAAAAAAAAAAAAAAAAAAAAAAAAAAAAAAAAAAAAAAAAAAAAAAAAAAAAAAAAAAAAAAAAAAAAAAAAAAAAAAAAAAAAAAAAAAAAAAAAAAAAAAAAAAAAAAAAAAAAAAAAAAAAA=",
          "dtype": "f8"
         }
        },
        {
         "marker": {
          "color": "rgb(204, 102, 119)"
         },
         "name": "Blockhüpfer",
         "type": "bar",
         "x": [
          "Allooy",
          "cediiiiii_10",
          "_n3d",
          "qriezmannsOpa",
          "Muniix",
          "chrisihalt",
          "Fflopse",
          "Ex4cted",
          "Gobo9",
          "NewNormal0947",
          "Umgfoin",
          "HerrDante",
          "Pedrozockt",
          "rotmann2",
          "ReichesBrot",
          "Lelouch610",
          "Joe3346",
          "JennieKim",
          "Ninivee",
          "FrozenNoah",
          "Teesily",
          "Luxemburq",
          "CML_Justin",
          "JOW23",
          "DarkCobweb",
          "VendasTM",
          "Freeeedom",
          "GingerTeddy",
          "Squashgitter333",
          "KakaMC",
          "lizsyy",
          "2B9",
          "La_meleagro",
          "toxicplace",
          "yzvm",
          "Shiewk",
          "2wc",
          "Grapfen",
          "agowskyy",
          "miridis41",
          "Schmaarek",
          "TheFabo",
          "Vanillinchen",
          "MaxMitMaulkorb",
          "GermanPie",
          "ByNetherdude",
          "yiiq",
          "swiffle",
          "Feinberg",
          "Sey__",
          "Lubottus",
          "GeneralEnte06",
          "Stockinqs",
          "vKito",
          "zBro",
          "YBCM",
          "byTobi",
          "xBaumeisterin",
          "Mincheeen",
          "h4nnes",
          "Seemops_8",
          "camman18YT",
          "DaVinci_Son",
          "LeWi_100",
          "RasenLP",
          "unausgesprochen",
          "Ungluecklicher",
          "ffawks",
          "Wienerisch",
          "Persidieus",
          "LeMetin_",
          "marbrueck",
          "Ritokii",
          "Gerrygames",
          "LucaaOn",
          "DieserBear",
          "y9nic",
          "JOW24",
          "ZweitesIch",
          "xX_Dima_ggg_Xx6",
          "Flitzi_Dino",
          "Sthyq",
          "Txlentierter",
          "Hyxeed",
          "Gestimus",
          "lvlaurin",
          "M0osebumps",
          "BastiGHG",
          "NotLennart",
          "yachayubin",
          "deadfiight",
          "Morittz",
          "PixlNight",
          "Nervigerr",
          "Simlll",
          "Kyuudo",
          "BunnyKiko",
          "MaxOnTheRoad",
          "Gummibearchen",
          "Janne4k"
         ],
         "y": {
          "bdata": "AAAAAAAAVEAAAAAAAAAAAAAAAAAAAERAAAAAAAAAAAAAAAAAAAAAAAAAAAAAgFZAAAAAAACAUUAAAAAAAABOQAAAAAAAAAAAAAAAAAAASUAAAAAAAAAAAAAAAAAAAAAAAAAAAAAAAAAAAAAAAAAAAAAAAAAAAFlAAAAAAAAAAAAAAAAAAAAAAAAAAAAAAAAAAAAAAAAAAAAAAAAAAAAAAAAAAAAAAAAAAAAAAAAAAAAAAAAAAAA+QAAAAAAAAAAAAAAAAAAAAAAAAAAAAAAAAAAAAAAAAAAAAAAAAAAAAAAAAAAAAAAAAAAAAAAAAAAAAAAAAAAAAAAAAAAAAAAAAAAAAAAAAAAAAAAAAAAAAAAAAAAAAAAAAAAAAAAAAAAAAAAAAAAAAAAAAAAAAAAAAAAAAAAAAAAAAAAAAAAAAAAAAAAAAAAAAAAAAAAAAAAAAAAAAAAAAAAAAAAAAAAAAAAAAAAAAAAAAAAAAAAAAAAAAAAAAAAAAAAAAAAAAAAAAAAAAAAAAAAAAAAAAAAAAAAAAAAAAAAAAAAAAAAAAAAAAAAAAAAAAAAAAAAAAAAAAAAAAAAAAAAAAAAAAAAAAAAAAAAAAAAAAAAAAAAAAAAAAAAAAAAAAAAAAAAAAAAAAAAAAAAAAAAAAAAAAAAAAAAAAAAAAAAAAAAAAAAAAAAAAAAAAAAAAAAAAAAAAAAAAAAAAAAAAAAAAAAAAAAAAAAAAAAAAAAAAAAAAAAAAAAAAAAAAAA0QAAAAAAAAAAAAAAAAAAAAAAAAAAAAAAAAAAAAAAAAAAAAAAAAAAAAAAAAAAAAAAAAAAAAAAAAAAAAAAAAAAAAAAAAAAAAAAAAAAAAAAAAAAAAAAAAAAAAAAAAAAAAAAAAAAAAAAAAAAAAAAAAAAAAAAAAAAAAAAAAAAAAAAAAAAAAAAAAAAAAAAAAAAAAAAAAAAAAAAAAAAAAAAAAAAAAAAAAAAAAAAAAAAAAAAAAAAAAAAAAAAAAAAAAAAAAAAAAAAAAAAAAAAAAAAAAAAAAAAAAAAAAAAAAAAAAAAAAAAAAAAAAAAAAAA=",
          "dtype": "f8"
         }
        },
        {
         "marker": {
          "color": "rgb(221, 204, 119)"
         },
         "name": "Buntes Chaos",
         "type": "bar",
         "x": [
          "Allooy",
          "cediiiiii_10",
          "_n3d",
          "qriezmannsOpa",
          "Muniix",
          "chrisihalt",
          "Fflopse",
          "Ex4cted",
          "Gobo9",
          "NewNormal0947",
          "Umgfoin",
          "HerrDante",
          "Pedrozockt",
          "rotmann2",
          "ReichesBrot",
          "Lelouch610",
          "Joe3346",
          "JennieKim",
          "Ninivee",
          "FrozenNoah",
          "Teesily",
          "Luxemburq",
          "CML_Justin",
          "JOW23",
          "DarkCobweb",
          "VendasTM",
          "Freeeedom",
          "GingerTeddy",
          "Squashgitter333",
          "KakaMC",
          "lizsyy",
          "2B9",
          "La_meleagro",
          "toxicplace",
          "yzvm",
          "Shiewk",
          "2wc",
          "Grapfen",
          "agowskyy",
          "miridis41",
          "Schmaarek",
          "TheFabo",
          "Vanillinchen",
          "MaxMitMaulkorb",
          "GermanPie",
          "ByNetherdude",
          "yiiq",
          "swiffle",
          "Feinberg",
          "Sey__",
          "Lubottus",
          "GeneralEnte06",
          "Stockinqs",
          "vKito",
          "zBro",
          "YBCM",
          "byTobi",
          "xBaumeisterin",
          "Mincheeen",
          "h4nnes",
          "Seemops_8",
          "camman18YT",
          "DaVinci_Son",
          "LeWi_100",
          "RasenLP",
          "unausgesprochen",
          "Ungluecklicher",
          "ffawks",
          "Wienerisch",
          "Persidieus",
          "LeMetin_",
          "marbrueck",
          "Ritokii",
          "Gerrygames",
          "LucaaOn",
          "DieserBear",
          "y9nic",
          "JOW24",
          "ZweitesIch",
          "xX_Dima_ggg_Xx6",
          "Flitzi_Dino",
          "Sthyq",
          "Txlentierter",
          "Hyxeed",
          "Gestimus",
          "lvlaurin",
          "M0osebumps",
          "BastiGHG",
          "NotLennart",
          "yachayubin",
          "deadfiight",
          "Morittz",
          "PixlNight",
          "Nervigerr",
          "Simlll",
          "Kyuudo",
          "BunnyKiko",
          "MaxOnTheRoad",
          "Gummibearchen",
          "Janne4k"
         ],
         "y": {
          "bdata": "AAAAAAAAWUAAAAAAAABZQAAAAAAAAFlAAAAAAAAASUAAAAAAAABZQAAAAAAAAElAAAAAAAAAWUAAAAAAAABZQAAAAAAAAElAAAAAAAAASUAAAAAAAABZQAAAAAAAAFlAAAAAAAAAWUAAAAAAAABJQAAAAAAAAFlAAAAAAAAASUAAAAAAAAAAAAAAAAAAAElAAAAAAAAAWUAAAAAAAAAAAAAAAAAAAFlAAAAAAAAASUAAAAAAAABJQAAAAAAAAAAAAAAAAAAAAAAAAAAAAAAAAAAAAAAAAElAAAAAAAAAAAAAAAAAAABJQAAAAAAAAFlAAAAAAAAAWUAAAAAAAAAAAAAAAAAAAAAAAAAAAAAAAAAAAAAAAAAAAAAAAAAAAFlAAAAAAAAAAAAAAAAAAABJQAAAAAAAAAAAAAAAAAAAAAAAAAAAAABJQAAAAAAAAElAAAAAAAAASUAAAAAAAABJQAAAAAAAAElAAAAAAAAAAAAAAAAAAAAAAAAAAAAAAElAAAAAAAAASUAAAAAAAAAAAAAAAAAAAElAAAAAAAAASUAAAAAAAABJQAAAAAAAAAAAAAAAAAAAAAAAAAAAAABJQAAAAAAAAAAAAAAAAAAASUAAAAAAAABJQAAAAAAAAAAAAAAAAAAASUAAAAAAAAAAAAAAAAAAAAAAAAAAAAAAAAAAAAAAAAAAAAAAAAAAAAAAAAAAAAAAAAAAAAAAAAAAAAAAAAAAAAAAAAAAAAAAAAAAAAAAAAAAAAAAAAAAAAAAAAAAAAAAAAAAAAAAAAAAAAAAAAAAAAAAAAAAAAAAAAAAAAAAAAAAAAAAAAAAAAAAAAAAAAAAAAAAAAAAAAAAAAAAAAAAAAAAAAAAAAAAAAAAAAAAAAAAAAAAAAAAAAAAAAAAAAAAAAAAAAAAAAAAAAAAAAAAAAAAAAAAAAAAAAAAAAAAAAAAAAAAAAAAAAAAAAAAAAAAAAAAAAAAAAAAAAAAAAAAAAAAAAAAAAAAAAAAAAAAAAAAAAAAAAAAAAAAAAAAAAAAAAAAAAAAAAAAAAAAAAAAAAAAAAAAAAAAAAA=",
          "dtype": "f8"
         }
        },
        {
         "marker": {
          "color": "rgb(17, 119, 51)"
         },
         "name": "Drachenflucht",
         "type": "bar",
         "x": [
          "Allooy",
          "cediiiiii_10",
          "_n3d",
          "qriezmannsOpa",
          "Muniix",
          "chrisihalt",
          "Fflopse",
          "Ex4cted",
          "Gobo9",
          "NewNormal0947",
          "Umgfoin",
          "HerrDante",
          "Pedrozockt",
          "rotmann2",
          "ReichesBrot",
          "Lelouch610",
          "Joe3346",
          "JennieKim",
          "Ninivee",
          "FrozenNoah",
          "Teesily",
          "Luxemburq",
          "CML_Justin",
          "JOW23",
          "DarkCobweb",
          "VendasTM",
          "Freeeedom",
          "GingerTeddy",
          "Squashgitter333",
          "KakaMC",
          "lizsyy",
          "2B9",
          "La_meleagro",
          "toxicplace",
          "yzvm",
          "Shiewk",
          "2wc",
          "Grapfen",
          "agowskyy",
          "miridis41",
          "Schmaarek",
          "TheFabo",
          "Vanillinchen",
          "MaxMitMaulkorb",
          "GermanPie",
          "ByNetherdude",
          "yiiq",
          "swiffle",
          "Feinberg",
          "Sey__",
          "Lubottus",
          "GeneralEnte06",
          "Stockinqs",
          "vKito",
          "zBro",
          "YBCM",
          "byTobi",
          "xBaumeisterin",
          "Mincheeen",
          "h4nnes",
          "Seemops_8",
          "camman18YT",
          "DaVinci_Son",
          "LeWi_100",
          "RasenLP",
          "unausgesprochen",
          "Ungluecklicher",
          "ffawks",
          "Wienerisch",
          "Persidieus",
          "LeMetin_",
          "marbrueck",
          "Ritokii",
          "Gerrygames",
          "LucaaOn",
          "DieserBear",
          "y9nic",
          "JOW24",
          "ZweitesIch",
          "xX_Dima_ggg_Xx6",
          "Flitzi_Dino",
          "Sthyq",
          "Txlentierter",
          "Hyxeed",
          "Gestimus",
          "lvlaurin",
          "M0osebumps",
          "BastiGHG",
          "NotLennart",
          "yachayubin",
          "deadfiight",
          "Morittz",
          "PixlNight",
          "Nervigerr",
          "Simlll",
          "Kyuudo",
          "BunnyKiko",
          "MaxOnTheRoad",
          "Gummibearchen",
          "Janne4k"
         ],
         "y": {
          "bdata": "AAAAAACARkAAAAAAAABOQAAAAAAAAD5AAAAAAACAMUAAAAAAAAApQAAAAAAAAAAAAAAAAAAAAAAAAAAAAAAUQAAAAAAAAAAAAAAAAABASkAAAAAAAAA5QAAAAAAAAAAAAAAAAAAAAAAAAAAAAAAeQAAAAAAAAAAAAAAAAAAAAAAAAAAAAIAxQAAAAAAAAAAAAAAAAAAAHkAAAAAAAAAAAAAAAAAAwEJAAAAAAACAMUAAAAAAAABJQAAAAAAAAAAAAAAAAAAAAAAAAAAAAAAAAAAAAAAAAC5AAAAAAAAAAAAAAAAAAAAUQAAAAAAAAAAAAAAAAAAAAAAAAAAAAAAAAAAAAAAAAAAAAAAAAAAAAAAAAAAAAAAAAAAAAAAAAAAAAAAAAAAAAAAAAAAAAAAUQAAAAAAAAAAAAAAAAAAAAAAAAAAAAAAuQAAAAAAAAAAAAAAAAAAAAAAAAAAAAAAAAAAAAAAAAAAAAAAAAAAAAAAAAAAAAAAAAAAAAAAAAB5AAAAAAAAAAAAAAAAAAAAAAAAAAAAAAAAAAAAAAAAAAAAAAAAAAAAAAAAAAAAAAClAAAAAAAAAAAAAAAAAAAAAAAAAAAAAAAAAAAAAAAAAAAAAAAAAAAAAAAAAAAAAAB5AAAAAAAAAAAAAAAAAAAAAAAAAAAAAAAAAAAAAAAAAAAAAAAAAAAA5QAAAAAAAAAAAAAAAAAAAJEAAAAAAAAAAAAAAAAAAAClAAAAAAAAAAAAAAAAAAAAAAAAAAAAAAAAAAAAAAAAAAAAAAAAAAAAAAAAAAAAAAAAAAAAAAAAAAAAAAAAAAAAAAAAAAAAAAAAAAAAAAAAAAAAAAAAAAAAAAAAAAAAAAAAAAAAAAAAAAAAAAAAAAAAAAAAAAAAAAAAAAAAAAAAAAAAAAAAAAAAAAAAAAAAAAAAAAAAAAAAAAAAAAAAAAAAAAAAAAAAAADRAAAAAAAAANEAAAAAAAAAAAAAAAAAAAAAAAAAAAAAAAAAAAAAAAAAAAAAAAAAAAAAAAAAAAAAAAAAAAAAAAAAAAAAAAAAAAAAAAAAAAAAAAAA=",
          "dtype": "f8"
         }
        },
        {
         "marker": {
          "color": "rgb(51, 34, 136)"
         },
         "name": "Duelle",
         "type": "bar",
         "x": [
          "Allooy",
          "cediiiiii_10",
          "_n3d",
          "qriezmannsOpa",
          "Muniix",
          "chrisihalt",
          "Fflopse",
          "Ex4cted",
          "Gobo9",
          "NewNormal0947",
          "Umgfoin",
          "HerrDante",
          "Pedrozockt",
          "rotmann2",
          "ReichesBrot",
          "Lelouch610",
          "Joe3346",
          "JennieKim",
          "Ninivee",
          "FrozenNoah",
          "Teesily",
          "Luxemburq",
          "CML_Justin",
          "JOW23",
          "DarkCobweb",
          "VendasTM",
          "Freeeedom",
          "GingerTeddy",
          "Squashgitter333",
          "KakaMC",
          "lizsyy",
          "2B9",
          "La_meleagro",
          "toxicplace",
          "yzvm",
          "Shiewk",
          "2wc",
          "Grapfen",
          "agowskyy",
          "miridis41",
          "Schmaarek",
          "TheFabo",
          "Vanillinchen",
          "MaxMitMaulkorb",
          "GermanPie",
          "ByNetherdude",
          "yiiq",
          "swiffle",
          "Feinberg",
          "Sey__",
          "Lubottus",
          "GeneralEnte06",
          "Stockinqs",
          "vKito",
          "zBro",
          "YBCM",
          "byTobi",
          "xBaumeisterin",
          "Mincheeen",
          "h4nnes",
          "Seemops_8",
          "camman18YT",
          "DaVinci_Son",
          "LeWi_100",
          "RasenLP",
          "unausgesprochen",
          "Ungluecklicher",
          "ffawks",
          "Wienerisch",
          "Persidieus",
          "LeMetin_",
          "marbrueck",
          "Ritokii",
          "Gerrygames",
          "LucaaOn",
          "DieserBear",
          "y9nic",
          "JOW24",
          "ZweitesIch",
          "xX_Dima_ggg_Xx6",
          "Flitzi_Dino",
          "Sthyq",
          "Txlentierter",
          "Hyxeed",
          "Gestimus",
          "lvlaurin",
          "M0osebumps",
          "BastiGHG",
          "NotLennart",
          "yachayubin",
          "deadfiight",
          "Morittz",
          "PixlNight",
          "Nervigerr",
          "Simlll",
          "Kyuudo",
          "BunnyKiko",
          "MaxOnTheRoad",
          "Gummibearchen",
          "Janne4k"
         ],
         "y": {
          "bdata": "AAAAAAAAAAAAAAAAAABOQAAAAAAAAAAAAAAAAAAAAAAAAAAAAAAAAAAAAAAAAE5AAAAAAAAAAAAAAAAAAAAAAAAAAAAAAAAAAAAAAAAAAAAAAAAAAAAAAAAAAAAAAAAAAAAAAAAAAAAAAAAAAAAAAAAAAAAAAAAAAAAAAAAAAAAAAAAAAAAAAAAAAAAAAAAAAAAAAAAAAAAAAAAAAAAAAAAAAAAAAAAAAAAAAAAAAAAAAAAAAAAAAAAAAAAAAAAAAAAAAAAATkAAAAAAAAAAAAAAAAAAAAAAAAAAAAAAAAAAAAAAAAAAAAAAAAAAAAAAAAAAAAAAAAAAAAAAAABUQAAAAAAAAFlAAAAAAAAAWUAAAAAAAABOQAAAAAAAAAAAAAAAAAAATkAAAAAAAAAAAAAAAAAAAAAAAAAAAACAUUAAAAAAAAAAAAAAAAAAAAAAAAAAAAAAAAAAAAAAAAAAAAAAAAAAAAAAAAAAAAAAAAAAAAAAAAAAAAAAAAAAAAAAAAAAAAAAAAAAAAAAAAAAAAAAAAAAAAAAAAAAAAAAAAAAAAAAAAAAAAAAAAAAAAAAAAAAAAAAAAAAAAAAAAAAAAAAAAAAAAAAAAAAAAAAAAAAAAAAAAAAAAAAAAAAAAAAAAAAAAAAAAAAAAAAAAAAAAAAAAAAAAAAAAAAAAAAAAAAAAAAAAAAAAAAAAAAAAAAAAAAAAAAAAAAAAAAAAAAAAAAAAAAAAAAAAAAAAAAAAAAAAAAAAAAAAAAAAAAAAAAAAAAAAAAAAAAAAAAAAAAAAAAAAAAAAAAAAAAAAAAAAAAAAAAAAAAAAAAAAAAAAAAAAAAAAAAAAAAAAAAAAAAAAAAAAAAAAAAAAAAAAAAAAAAAAAAAAAAAAAAAAAAAAAAAAAAAAAAAAAAAAAAAAAAAAAAAAAAAAAAAAAAAAAAAAAAAAAAAAAAAAAAAAAAAAAAAAAAAAAAAAAAAAAAAAAAAAAAAAAAAAAAAAAAAAAAAAAAAAAAAAAAAAAAAAAAAAAAAAAAAAAAAAAAAAAAAAAAAAAAAAAAAAAAAAAAAAAAAAA=",
          "dtype": "f8"
         }
        },
        {
         "marker": {
          "color": "rgb(170, 68, 153)"
         },
         "name": "Einer im Köcher",
         "type": "bar",
         "x": [
          "Allooy",
          "cediiiiii_10",
          "_n3d",
          "qriezmannsOpa",
          "Muniix",
          "chrisihalt",
          "Fflopse",
          "Ex4cted",
          "Gobo9",
          "NewNormal0947",
          "Umgfoin",
          "HerrDante",
          "Pedrozockt",
          "rotmann2",
          "ReichesBrot",
          "Lelouch610",
          "Joe3346",
          "JennieKim",
          "Ninivee",
          "FrozenNoah",
          "Teesily",
          "Luxemburq",
          "CML_Justin",
          "JOW23",
          "DarkCobweb",
          "VendasTM",
          "Freeeedom",
          "GingerTeddy",
          "Squashgitter333",
          "KakaMC",
          "lizsyy",
          "2B9",
          "La_meleagro",
          "toxicplace",
          "yzvm",
          "Shiewk",
          "2wc",
          "Grapfen",
          "agowskyy",
          "miridis41",
          "Schmaarek",
          "TheFabo",
          "Vanillinchen",
          "MaxMitMaulkorb",
          "GermanPie",
          "ByNetherdude",
          "yiiq",
          "swiffle",
          "Feinberg",
          "Sey__",
          "Lubottus",
          "GeneralEnte06",
          "Stockinqs",
          "vKito",
          "zBro",
          "YBCM",
          "byTobi",
          "xBaumeisterin",
          "Mincheeen",
          "h4nnes",
          "Seemops_8",
          "camman18YT",
          "DaVinci_Son",
          "LeWi_100",
          "RasenLP",
          "unausgesprochen",
          "Ungluecklicher",
          "ffawks",
          "Wienerisch",
          "Persidieus",
          "LeMetin_",
          "marbrueck",
          "Ritokii",
          "Gerrygames",
          "LucaaOn",
          "DieserBear",
          "y9nic",
          "JOW24",
          "ZweitesIch",
          "xX_Dima_ggg_Xx6",
          "Flitzi_Dino",
          "Sthyq",
          "Txlentierter",
          "Hyxeed",
          "Gestimus",
          "lvlaurin",
          "M0osebumps",
          "BastiGHG",
          "NotLennart",
          "yachayubin",
          "deadfiight",
          "Morittz",
          "PixlNight",
          "Nervigerr",
          "Simlll",
          "Kyuudo",
          "BunnyKiko",
          "MaxOnTheRoad",
          "Gummibearchen",
          "Janne4k"
         ],
         "y": {
          "bdata": "AAAAAAAASUAAAAAAAAAkQAAAAAAAABBAAAAAAAAAAAAAAAAAAAAQQAAAAAAAAAAAAAAAAAAASEAAAAAAAAAwQAAAAAAAAAAAAAAAAAAAJEAAAAAAAAAAAAAAAAAAAERAAAAAAAAAAAAAAAAAAAAAAAAAAAAAAAAAAAAAAAAAEEAAAAAAAAAAAAAAAAAAAAAAAAAAAAAAAAAAAAAAAABGQAAAAAAAAChAAAAAAAAAAAAAAAAAAAAAAAAAAAAAABBAAAAAAAAAAAAAAAAAAAAAAAAAAAAAAD5AAAAAAAAAAAAAAAAAAAAAAAAAAAAAAAAAAAAAAAAAAAAAAAAAAAAyQAAAAAAAAAAAAAAAAAAAAAAAAAAAAAAAAAAAAAAAAAAAAAAAAAAAAAAAAAAAAAAAAAAAAAAAAAAAAAAAAAAAAAAAAAAAAAAAAAAAAAAAAAAAAAAAAAAAAAAAAAAAAAAAAAAAAAAAAAAAAAAAAAAAAAAAAAAAAAAAAAAAAAAAAAAAAAAAAAAAAAAAAAAAAAAAAAAAAAAAAAAAAAAAAAAAAAAAAAAAAAAAAAAAAAAAADJAAAAAAAAAAAAAAAAAAAAAAAAAAAAAADJAAAAAAAAAAAAAAAAAAAAAAAAAAAAAADxAAAAAAAAAAAAAAAAAAAAAAAAAAAAAADBAAAAAAAAAAAAAAAAAAAAAAAAAAAAAAAAAAAAAAAAAKEAAAAAAAAAAAAAAAAAAAAAAAAAAAAAAAAAAAAAAAAAAAAAAAAAAADBAAAAAAAAAAAAAAAAAAAAAAAAAAAAAACxAAAAAAAAAJEAAAAAAAAAAAAAAAAAAAAAAAAAAAAAAAAAAAAAAAAAAAAAAAAAAAAAAAAAAAAAAAAAAAAAAAAAYQAAAAAAAADRAAAAAAAAAIEAAAAAAAAAAAAAAAAAAACRAAAAAAAAANEAAAAAAAAAAAAAAAAAAAAAAAAAAAAAAAAAAAAAAAAAkQAAAAAAAAAAAAAAAAAAAAAAAAAAAAAAAAAAAAAAAAAAAAAAAAAAAAAAAAAAAAAAAAAAAAAAAAAAAAAAAAAAAAAA=",
          "dtype": "f8"
         }
        },
        {
         "marker": {
          "color": "rgb(68, 170, 153)"
         },
         "name": "Elytrarennen",
         "type": "bar",
         "x": [
          "Allooy",
          "cediiiiii_10",
          "_n3d",
          "qriezmannsOpa",
          "Muniix",
          "chrisihalt",
          "Fflopse",
          "Ex4cted",
          "Gobo9",
          "NewNormal0947",
          "Umgfoin",
          "HerrDante",
          "Pedrozockt",
          "rotmann2",
          "ReichesBrot",
          "Lelouch610",
          "Joe3346",
          "JennieKim",
          "Ninivee",
          "FrozenNoah",
          "Teesily",
          "Luxemburq",
          "CML_Justin",
          "JOW23",
          "DarkCobweb",
          "VendasTM",
          "Freeeedom",
          "GingerTeddy",
          "Squashgitter333",
          "KakaMC",
          "lizsyy",
          "2B9",
          "La_meleagro",
          "toxicplace",
          "yzvm",
          "Shiewk",
          "2wc",
          "Grapfen",
          "agowskyy",
          "miridis41",
          "Schmaarek",
          "TheFabo",
          "Vanillinchen",
          "MaxMitMaulkorb",
          "GermanPie",
          "ByNetherdude",
          "yiiq",
          "swiffle",
          "Feinberg",
          "Sey__",
          "Lubottus",
          "GeneralEnte06",
          "Stockinqs",
          "vKito",
          "zBro",
          "YBCM",
          "byTobi",
          "xBaumeisterin",
          "Mincheeen",
          "h4nnes",
          "Seemops_8",
          "camman18YT",
          "DaVinci_Son",
          "LeWi_100",
          "RasenLP",
          "unausgesprochen",
          "Ungluecklicher",
          "ffawks",
          "Wienerisch",
          "Persidieus",
          "LeMetin_",
          "marbrueck",
          "Ritokii",
          "Gerrygames",
          "LucaaOn",
          "DieserBear",
          "y9nic",
          "JOW24",
          "ZweitesIch",
          "xX_Dima_ggg_Xx6",
          "Flitzi_Dino",
          "Sthyq",
          "Txlentierter",
          "Hyxeed",
          "Gestimus",
          "lvlaurin",
          "M0osebumps",
          "BastiGHG",
          "NotLennart",
          "yachayubin",
          "deadfiight",
          "Morittz",
          "PixlNight",
          "Nervigerr",
          "Simlll",
          "Kyuudo",
          "BunnyKiko",
          "MaxOnTheRoad",
          "Gummibearchen",
          "Janne4k"
         ],
         "y": {
          "bdata": "AAAAAACAVkAAAAAAAEBFQAAAAAAAgEZAAAAAAABARUAAAAAAAAApQAAAAAAAQE9AAAAAAAAALkAAAAAAAAAAAAAAAAAAAAAAAAAAAAAAHkAAAAAAAAAAAAAAAAAAAAAAAAAAAAAAAAAAAAAAAAApQAAAAAAAADRAAAAAAAAAAAAAAAAAAIBRQAAAAAAAAAAAAAAAAAAAAAAAAAAAAAAAAAAAAAAAAAAAAAAAAAAAAAAAAAAAAAAuQAAAAAAAAAAAAAAAAAAAAAAAAAAAAAAUQAAAAAAAACRAAAAAAACAS0AAAAAAAAA+QAAAAAAAAAAAAAAAAAAAAAAAAAAAAAAAAAAAAAAAAAAAAAAAAAAAAAAAAAAAAAAAAAAAAAAAAAAAAAAAAAAAAAAAAAAAAAAAAAAAAAAAAAAAAAAAAAAAAAAAAAAAAAAAAAAAAAAAAAAAAAAAAAAAAAAAAAAAAAAAAAAAAAAAAAAAAAAAAAAAAAAAAAAAAAAAAAAAAAAAAAAAAAAAAAAAAAAAAAAAAAAAAAAAAAAAAAAAAAAAAAAAAAAAAAAAAAAAAAAAAAAAAAAAAAAAAAAAAAAAAAAAAAAAAAAAAAAAAAAAAAAAAAAAAAAAAAAAAAAAAAAAAAAAAAAAAAAAAAAAAAAAAAAAAAAAAAAAAAAAAAAAAAAAAAAAAAAAAAAAAAAUQAAAAAAAAAAAAAAAAAAAAAAAAAAAAAAAAAAAAAAAAAAAAAAAAAAAAAAAAAAAAAAAAAAAAAAAAAAAAAAAAAAAAAAAAAAAAAAAAAAAAAAAAAAAAAAAAAAAAAAAAAAAAAAAAAAAAAAAAAAAAAAAAAAAAAAAAAAAAAAAAAAAAAAAAAAAAAAAAAAAAAAAAAAAAAAAAAAAAAAAAAAAAAAAAAAAAAAAAAAAAAAAAAAAAAAAAAAAAAAAAAAAAAAAAAAAAAAAAAAAAAAAAAAAAAAAAAAAAAAAAAAAAAAAAAAAAAAAAAAAAAAAAAAAAAAAAAAAAAAAAAAAAAAAAAAAAAAAAAAAAAAAAAAAAAAAAAAAAAAAAAAAAAAAAAAAAAA=",
          "dtype": "f8"
         }
        },
        {
         "marker": {
          "color": "rgb(153, 153, 51)"
         },
         "name": "Freier Fall",
         "type": "bar",
         "x": [
          "Allooy",
          "cediiiiii_10",
          "_n3d",
          "qriezmannsOpa",
          "Muniix",
          "chrisihalt",
          "Fflopse",
          "Ex4cted",
          "Gobo9",
          "NewNormal0947",
          "Umgfoin",
          "HerrDante",
          "Pedrozockt",
          "rotmann2",
          "ReichesBrot",
          "Lelouch610",
          "Joe3346",
          "JennieKim",
          "Ninivee",
          "FrozenNoah",
          "Teesily",
          "Luxemburq",
          "CML_Justin",
          "JOW23",
          "DarkCobweb",
          "VendasTM",
          "Freeeedom",
          "GingerTeddy",
          "Squashgitter333",
          "KakaMC",
          "lizsyy",
          "2B9",
          "La_meleagro",
          "toxicplace",
          "yzvm",
          "Shiewk",
          "2wc",
          "Grapfen",
          "agowskyy",
          "miridis41",
          "Schmaarek",
          "TheFabo",
          "Vanillinchen",
          "MaxMitMaulkorb",
          "GermanPie",
          "ByNetherdude",
          "yiiq",
          "swiffle",
          "Feinberg",
          "Sey__",
          "Lubottus",
          "GeneralEnte06",
          "Stockinqs",
          "vKito",
          "zBro",
          "YBCM",
          "byTobi",
          "xBaumeisterin",
          "Mincheeen",
          "h4nnes",
          "Seemops_8",
          "camman18YT",
          "DaVinci_Son",
          "LeWi_100",
          "RasenLP",
          "unausgesprochen",
          "Ungluecklicher",
          "ffawks",
          "Wienerisch",
          "Persidieus",
          "LeMetin_",
          "marbrueck",
          "Ritokii",
          "Gerrygames",
          "LucaaOn",
          "DieserBear",
          "y9nic",
          "JOW24",
          "ZweitesIch",
          "xX_Dima_ggg_Xx6",
          "Flitzi_Dino",
          "Sthyq",
          "Txlentierter",
          "Hyxeed",
          "Gestimus",
          "lvlaurin",
          "M0osebumps",
          "BastiGHG",
          "NotLennart",
          "yachayubin",
          "deadfiight",
          "Morittz",
          "PixlNight",
          "Nervigerr",
          "Simlll",
          "Kyuudo",
          "BunnyKiko",
          "MaxOnTheRoad",
          "Gummibearchen",
          "Janne4k"
         ],
         "y": {
          "bdata": "AAAAAAAAAAAAAAAAAAAAAAAAAAAAAAAAAAAAAAAAAAAAAAAAAAAAAAAAAAAAAAAAAAAAAAAAAAAAAAAAAAAAAAAAAAAAAAAAAAAAAAAAAAAAAAAAAAAAAAAAAAAAAAAAAAAAAAAAAAAAAAAAAAAAAAAAAAAAAAAAAAAAAAAAAAAAAAAAAAAAAAAAAAAAAAAAAAAAAAAAAAAAAAAAAAAAAAAAAAAAAAAAAAAAAAAAAAAAAAAAAAAAAAAAAAAAAAAAAAAAAAAAAAAAAAAAAAAAAAAAAAAAAAAAAAAAAAAAAAAAAAAAAAAAAAAAAAAAAAAAAAAAAAAAAAAAAAAAAAAAAAAAAAAAAAAAAAAAAAAAAAAAAAAAAAAAAAAAAAAAAAAAAAAAAAAAAAAAAAAAAAAAAAAAAAAAAAAAAAAAAAAAAAAAAAAAAAAAAAAAAAAAAAAAAAAAAAAAAAAAAAAAAAAAAAAAAAAAAAAAAAAAAAAAAAAAAAAAAAAAAAAAAAAAAAAAAAAAAAAAAAAAAAAAAAAAAAAAAAAAAAAAAAAAAAAAAAAAAAAAAAAAAAAAAAAAAAAAAAAAAAAAAAAAAAAAAAAAAAAAAAAAAAAAAAAAAAAAAAAAAAAAAAAAAAAAAAAAAAAAAAAAAAAAAAAAAAAAAAAAAAAAAAAAAAAAAAAAAAAAAAAAAAAAAAAAAAAAAAAAAAAAAAAAAAAAAAAAAAAAAAAAAAAAAAAAAAAAAAAAAAAAAAAAAAAAAAAAAAAAAAAAAAAAAAAAAAAAAAAAAAAAAAAAAAAAAAAAAAAAAAAAAAAAAAAAAAAAAAAAAAAAAAAAAAAAAAAAAAAAAAAAAAAAAAAAAAAAAAAAAAAAAAAAAAAAAAAAAAAAAAAAAAAAAAAAAAAAAAAAAAAAAAAAAAAAAAAAAAAAAAAAAAAAAAAAAAAAAAAAAAAAAAAAAAAAAAAAAAAAAAAAAAAAAAAAAAAAAAAAAAAAAAAAAAAAAAAAAAAAAAAAAAAAAAAAAAAAAAAAAAAAAAAAAAAAAAAAAAAAAAAAAAAAAAAAAAAAAAAAAAAAAAA=",
          "dtype": "f8"
         }
        },
        {
         "marker": {
          "color": "rgb(136, 34, 85)"
         },
         "name": "Frostiger Pfad",
         "type": "bar",
         "x": [
          "Allooy",
          "cediiiiii_10",
          "_n3d",
          "qriezmannsOpa",
          "Muniix",
          "chrisihalt",
          "Fflopse",
          "Ex4cted",
          "Gobo9",
          "NewNormal0947",
          "Umgfoin",
          "HerrDante",
          "Pedrozockt",
          "rotmann2",
          "ReichesBrot",
          "Lelouch610",
          "Joe3346",
          "JennieKim",
          "Ninivee",
          "FrozenNoah",
          "Teesily",
          "Luxemburq",
          "CML_Justin",
          "JOW23",
          "DarkCobweb",
          "VendasTM",
          "Freeeedom",
          "GingerTeddy",
          "Squashgitter333",
          "KakaMC",
          "lizsyy",
          "2B9",
          "La_meleagro",
          "toxicplace",
          "yzvm",
          "Shiewk",
          "2wc",
          "Grapfen",
          "agowskyy",
          "miridis41",
          "Schmaarek",
          "TheFabo",
          "Vanillinchen",
          "MaxMitMaulkorb",
          "GermanPie",
          "ByNetherdude",
          "yiiq",
          "swiffle",
          "Feinberg",
          "Sey__",
          "Lubottus",
          "GeneralEnte06",
          "Stockinqs",
          "vKito",
          "zBro",
          "YBCM",
          "byTobi",
          "xBaumeisterin",
          "Mincheeen",
          "h4nnes",
          "Seemops_8",
          "camman18YT",
          "DaVinci_Son",
          "LeWi_100",
          "RasenLP",
          "unausgesprochen",
          "Ungluecklicher",
          "ffawks",
          "Wienerisch",
          "Persidieus",
          "LeMetin_",
          "marbrueck",
          "Ritokii",
          "Gerrygames",
          "LucaaOn",
          "DieserBear",
          "y9nic",
          "JOW24",
          "ZweitesIch",
          "xX_Dima_ggg_Xx6",
          "Flitzi_Dino",
          "Sthyq",
          "Txlentierter",
          "Hyxeed",
          "Gestimus",
          "lvlaurin",
          "M0osebumps",
          "BastiGHG",
          "NotLennart",
          "yachayubin",
          "deadfiight",
          "Morittz",
          "PixlNight",
          "Nervigerr",
          "Simlll",
          "Kyuudo",
          "BunnyKiko",
          "MaxOnTheRoad",
          "Gummibearchen",
          "Janne4k"
         ],
         "y": {
          "bdata": "AAAAAAAAAAAAAAAAAAAAAAAAAAAAAAAAAAAAAAAAAAAAAAAAAAAAAAAAAAAAAAAAAAAAAAAAAAAAAAAAAAAAAAAAAAAAAAAAAAAAAAAAAAAAAAAAAAAAAAAAAAAAAAAAAAAAAAAAAAAAAAAAAAAAAAAAAAAAAAAAAAAAAAAAAAAAAAAAAAAAAAAAAAAAAAAAAAAAAAAAAAAAAAAAAAAAAAAAAAAAAAAAAAAAAAAAAAAAAAAAAAAAAAAAAAAAAAAAAAAAAAAAAAAAAAAAAAAAAAAAAAAAAAAAAAAAAAAAAAAAAAAAAAAAAAAAAAAAAAAAAAAAAAAAAAAAAAAAAAAAAAAAAAAAAAAAAAAAAAAAAAAAAAAAAAAAAAAAAAAAAAAAAAAAAAAAAAAAAAAAAAAAAAAAAAAAAAAAAAAAAAAAAAAAAAAAAAAAAAAAAAAAAAAAAAAAAAAAAAAAAAAAAAAAAAAAAAAAAAAAAAAAAAAAAAAAAAAAAAAAAAAAAAAAAAAAAAAAAAAAAAAAAAAAAAAAAAAAAAAAAAAAAAAAAAAAAAAAAAAAAAAAAAAAAAAAAAAAAAAAAAAAAAAAAAAAAAAAAAAAAAAAAAAAAAAAAAAAAAAAAAAAAAAAAAAAAAAAAAAAAAAAAAAAAAAAAAAAAAAAAAAAAAAAAAAAAAAAAAAAAAAAAAAAAAAAAAAAAAAAAAAAAAAAAAAAAAAAAAAAAAAAAAAAAAAAAAAAAAAAAAAAAAAAAAAAAAAAAAAAAAAAAAAAAAAAAAAAAAAAAAAAAAAAAAAAAAAAAAAAAAAAAAAAAAAAAAAAAAAAAAAAAAAAAAAAAAAAAAAAAAAAAAAAAAAAAAAAAAAAAAAAAAAAAAAAAAAAAAAAAAAAAAAAAAAAAAAAAAAAAAAAAAAAAAAAAAAAAAAAAAAAAAAAAAAAAAAAAAAAAAAAAAAAAAAAAAAAAAAAAAAAAAAAAAAAAAAAAAAAAAAAAAAAAAAAAAAAAAAAAAAAAAAAAAAAAAAAAAAAAAAAAAAAAAAAAAAAAAAAAAAAAAAAAAAAAAAAAAAAAAAAAAA=",
          "dtype": "f8"
         }
        },
        {
         "marker": {
          "color": "rgb(102, 17, 0)"
         },
         "name": "Hoch hinaus",
         "type": "bar",
         "x": [
          "Allooy",
          "cediiiiii_10",
          "_n3d",
          "qriezmannsOpa",
          "Muniix",
          "chrisihalt",
          "Fflopse",
          "Ex4cted",
          "Gobo9",
          "NewNormal0947",
          "Umgfoin",
          "HerrDante",
          "Pedrozockt",
          "rotmann2",
          "ReichesBrot",
          "Lelouch610",
          "Joe3346",
          "JennieKim",
          "Ninivee",
          "FrozenNoah",
          "Teesily",
          "Luxemburq",
          "CML_Justin",
          "JOW23",
          "DarkCobweb",
          "VendasTM",
          "Freeeedom",
          "GingerTeddy",
          "Squashgitter333",
          "KakaMC",
          "lizsyy",
          "2B9",
          "La_meleagro",
          "toxicplace",
          "yzvm",
          "Shiewk",
          "2wc",
          "Grapfen",
          "agowskyy",
          "miridis41",
          "Schmaarek",
          "TheFabo",
          "Vanillinchen",
          "MaxMitMaulkorb",
          "GermanPie",
          "ByNetherdude",
          "yiiq",
          "swiffle",
          "Feinberg",
          "Sey__",
          "Lubottus",
          "GeneralEnte06",
          "Stockinqs",
          "vKito",
          "zBro",
          "YBCM",
          "byTobi",
          "xBaumeisterin",
          "Mincheeen",
          "h4nnes",
          "Seemops_8",
          "camman18YT",
          "DaVinci_Son",
          "LeWi_100",
          "RasenLP",
          "unausgesprochen",
          "Ungluecklicher",
          "ffawks",
          "Wienerisch",
          "Persidieus",
          "LeMetin_",
          "marbrueck",
          "Ritokii",
          "Gerrygames",
          "LucaaOn",
          "DieserBear",
          "y9nic",
          "JOW24",
          "ZweitesIch",
          "xX_Dima_ggg_Xx6",
          "Flitzi_Dino",
          "Sthyq",
          "Txlentierter",
          "Hyxeed",
          "Gestimus",
          "lvlaurin",
          "M0osebumps",
          "BastiGHG",
          "NotLennart",
          "yachayubin",
          "deadfiight",
          "Morittz",
          "PixlNight",
          "Nervigerr",
          "Simlll",
          "Kyuudo",
          "BunnyKiko",
          "MaxOnTheRoad",
          "Gummibearchen",
          "Janne4k"
         ],
         "y": {
          "bdata": "AAAAAAAAVEAAAAAAAAA0QAAAAAAAAAAAAAAAAAAAAAAAAAAAAAAAAAAAAAAAAERAAAAAAAAASUAAAAAAAIBWQAAAAAAAAAAAAAAAAAAAAAAAAAAAAAAAAAAAAAAAAAAAAAAAAAAATkAAAAAAAAAAAAAAAAAAAAAAAAAAAAAAAAAAAAAAAAAAAAAAAAAAAAAAAAAAAACAUUAAAAAAAAAAAAAAAAAAAAAAAAAAAAAAAAAAAAAAAAA+QAAAAAAAAAAAAAAAAAAAAAAAAAAAAAAAAAAAAAAAAAAAAAAAAAAAAAAAAAAAAAAAAAAAAAAAAAAAAAAAAAAAAAAAAAAAAAAAAAAAAAAAAAAAAAAAAAAAAAAAAAAAAAAAAAAAAAAAAAAAAAAAAAAAAAAAAAAAAAAAAAAAAAAAAAAAAAAAAAAAAAAAAAAAAAAAAAAAAAAAAAAAAAAAAAAAAAAAAAAAAAAAAAAAAAAAAAAAAAAAAAAAWUAAAAAAAAAAAAAAAAAAAAAAAAAAAAAAAAAAAAAAAAAAAAAAAAAAAAAAAAAAAAAAAAAAAAAAAAAAAAAAAAAAAAAAAAAAAAAAAAAAAAAAAAAAAAAAAAAAAAAAAAAAAAAAAAAAAAAAAAAAAAAAAAAAAAAAAAAAAAAAAAAAAAAAAAAAAAAAAAAAAAAAAAAAAAAAAAAAAAAAAAAAAAAAAAAAAAAAAAAAAAAAAAAAAAAAAAAAAAAAAAAAAAAAAAAAAAAAAAAAAAAAAAAAAAAAAAAAAAAAAAAAAAAAAAAAAAAAAAAAAAAAAAAAAAAAAAAAAAAAAAAAAAAAAAAAAAAAAAAAAAAAAAAAAAAAAAAAAAAAAAAAAAAAAAAAAAAAAAAAAAAAAAAAAAAAAAAAAAAAAAAAAAAAAAAAAAAAAAAAAAAAAAAAAAAAAAAAAAAAAAAAAAAAAAAAAAAAAAAAAAAAAAAAAAAAAAAAAAAAAAAAAAAAAAAAAAAAAAAAAAAAAAAAAAAAAAAAAAAAAAAAAAAAAAAAAAAAAAAAAAAAAAAAAAAAAAAAAAAAAAAAAAAAAAAAAAAAAAA=",
          "dtype": "f8"
         }
        },
        {
         "marker": {
          "color": "rgb(136, 136, 136)"
         },
         "name": "Jump and Run",
         "type": "bar",
         "x": [
          "Allooy",
          "cediiiiii_10",
          "_n3d",
          "qriezmannsOpa",
          "Muniix",
          "chrisihalt",
          "Fflopse",
          "Ex4cted",
          "Gobo9",
          "NewNormal0947",
          "Umgfoin",
          "HerrDante",
          "Pedrozockt",
          "rotmann2",
          "ReichesBrot",
          "Lelouch610",
          "Joe3346",
          "JennieKim",
          "Ninivee",
          "FrozenNoah",
          "Teesily",
          "Luxemburq",
          "CML_Justin",
          "JOW23",
          "DarkCobweb",
          "VendasTM",
          "Freeeedom",
          "GingerTeddy",
          "Squashgitter333",
          "KakaMC",
          "lizsyy",
          "2B9",
          "La_meleagro",
          "toxicplace",
          "yzvm",
          "Shiewk",
          "2wc",
          "Grapfen",
          "agowskyy",
          "miridis41",
          "Schmaarek",
          "TheFabo",
          "Vanillinchen",
          "MaxMitMaulkorb",
          "GermanPie",
          "ByNetherdude",
          "yiiq",
          "swiffle",
          "Feinberg",
          "Sey__",
          "Lubottus",
          "GeneralEnte06",
          "Stockinqs",
          "vKito",
          "zBro",
          "YBCM",
          "byTobi",
          "xBaumeisterin",
          "Mincheeen",
          "h4nnes",
          "Seemops_8",
          "camman18YT",
          "DaVinci_Son",
          "LeWi_100",
          "RasenLP",
          "unausgesprochen",
          "Ungluecklicher",
          "ffawks",
          "Wienerisch",
          "Persidieus",
          "LeMetin_",
          "marbrueck",
          "Ritokii",
          "Gerrygames",
          "LucaaOn",
          "DieserBear",
          "y9nic",
          "JOW24",
          "ZweitesIch",
          "xX_Dima_ggg_Xx6",
          "Flitzi_Dino",
          "Sthyq",
          "Txlentierter",
          "Hyxeed",
          "Gestimus",
          "lvlaurin",
          "M0osebumps",
          "BastiGHG",
          "NotLennart",
          "yachayubin",
          "deadfiight",
          "Morittz",
          "PixlNight",
          "Nervigerr",
          "Simlll",
          "Kyuudo",
          "BunnyKiko",
          "MaxOnTheRoad",
          "Gummibearchen",
          "Janne4k"
         ],
         "y": {
          "bdata": "AAAAAAAAAAAAAAAAAAAAAAAAAAAAAAAAAAAAAAAAAAAAAAAAAAAAAAAAAAAAAAAAAAAAAAAAAAAAAAAAAAAAAAAAAAAAAAAAAAAAAAAAAAAAAAAAAAAAAAAAAAAAAAAAAAAAAAAAAAAAAAAAAAAAAAAAAAAAAAAAAAAAAAAAAAAAAAAAAAAAAAAAAAAAAAAAAAAAAAAAAAAAAAAAAAAAAAAAAAAAAAAAAAAAAAAAAAAAAAAAAAAAAAAAAAAAAAAAAAAAAAAAAAAAAAAAAAAAAAAAAAAAAAAAAAAAAAAAAAAAAAAAAAAAAAAAAAAAAAAAAAAAAAAAAAAAAAAAAAAAAAAAAAAAAAAAAAAAAAAAAAAAAAAAAAAAAAAAAAAAAAAAAAAAAAAAAAAAAAAAAAAAAAAAAAAAAAAAAAAAAAAAAAAAAAAAAAAAAAAAAAAAAAAAAAAAAAAAAAAAAAAAAAAAAAAAAAAAAAAAAAAAAAAAAAAAAAAAAAAAAAAAAAAAAAAAAAAAAAAAAAAAAAAAAAAAAAAAAAAAAAAAAAAAAAAAAAAAAAAAAAAAAAAAAAAAAAAAAAAAAAAAAAAAAAAAAAAAAAAAAAAAAAAAAAAAAAAAAAAAAAAAAAAAAAAAAAAAAAAAAAAAAAAAAAAAAAAAAAAAAAAAAAAAAAAAAAAAAAAAAAAAAAAAAAAAAAAAAAAAAAAAAAAAAAAAAAAAAAAAAAAAAAAAAAAAAAAAAAAAAAAAAAAAAAAAAAAAAAAAAAAAAAAAAAAAAAAAAAAAAAAAAAAAAAAAAAAAAAAAAAAAAAAAAAAAAAAAAAAAAAAAAAAAAAAAAAAAAAAAAAAAAAAAAAAAAAAAAAAAAAAAAAAAAAAAAAAAAAAAAAAAAAAAAAAAAAAAAAAAAAAAAAAAAAAAAAAAAAAAAAAAAAAAAAAAAAAAAAAAAAAAAAAAAAAAAAAAAAAAAAAAAAAAAAAAAAAAAAAAAAAAAAAAAAAAAAAAAAAAAAAAAAAAAAAAAAAAAAAAAAAAAAAAAAAAAAAAAAAAAAAAAAAAAAAAAAAAAAAAAAAAAAA=",
          "dtype": "f8"
         }
        },
        {
         "marker": {
          "color": "rgb(136, 204, 238)"
         },
         "name": "Kletterkönig",
         "type": "bar",
         "x": [
          "Allooy",
          "cediiiiii_10",
          "_n3d",
          "qriezmannsOpa",
          "Muniix",
          "chrisihalt",
          "Fflopse",
          "Ex4cted",
          "Gobo9",
          "NewNormal0947",
          "Umgfoin",
          "HerrDante",
          "Pedrozockt",
          "rotmann2",
          "ReichesBrot",
          "Lelouch610",
          "Joe3346",
          "JennieKim",
          "Ninivee",
          "FrozenNoah",
          "Teesily",
          "Luxemburq",
          "CML_Justin",
          "JOW23",
          "DarkCobweb",
          "VendasTM",
          "Freeeedom",
          "GingerTeddy",
          "Squashgitter333",
          "KakaMC",
          "lizsyy",
          "2B9",
          "La_meleagro",
          "toxicplace",
          "yzvm",
          "Shiewk",
          "2wc",
          "Grapfen",
          "agowskyy",
          "miridis41",
          "Schmaarek",
          "TheFabo",
          "Vanillinchen",
          "MaxMitMaulkorb",
          "GermanPie",
          "ByNetherdude",
          "yiiq",
          "swiffle",
          "Feinberg",
          "Sey__",
          "Lubottus",
          "GeneralEnte06",
          "Stockinqs",
          "vKito",
          "zBro",
          "YBCM",
          "byTobi",
          "xBaumeisterin",
          "Mincheeen",
          "h4nnes",
          "Seemops_8",
          "camman18YT",
          "DaVinci_Son",
          "LeWi_100",
          "RasenLP",
          "unausgesprochen",
          "Ungluecklicher",
          "ffawks",
          "Wienerisch",
          "Persidieus",
          "LeMetin_",
          "marbrueck",
          "Ritokii",
          "Gerrygames",
          "LucaaOn",
          "DieserBear",
          "y9nic",
          "JOW24",
          "ZweitesIch",
          "xX_Dima_ggg_Xx6",
          "Flitzi_Dino",
          "Sthyq",
          "Txlentierter",
          "Hyxeed",
          "Gestimus",
          "lvlaurin",
          "M0osebumps",
          "BastiGHG",
          "NotLennart",
          "yachayubin",
          "deadfiight",
          "Morittz",
          "PixlNight",
          "Nervigerr",
          "Simlll",
          "Kyuudo",
          "BunnyKiko",
          "MaxOnTheRoad",
          "Gummibearchen",
          "Janne4k"
         ],
         "y": {
          "bdata": "VVVVVVVVN0BVVVVVVVU3QAAAAAAAADRAVVVVVVVVTEBVVVVVVVVHQAAAAAAAACRAVVVVVVVVR0AAAAAAAAAAAKuqqqqqqhpAq6qqqqqqKkAAAAAAAAAAAAAAAAAAACRAAAAAAAAAAAAAAAAAAAA0QKuqqqqqqlBAAAAAAAAAAAAAAAAAAAA+QAAAAAAAAAAAAAAAAAAAAAAAAAAAAAAAAAAAAAAAAAAAAAAAAAAAAAAAAAAAAAAAAAAAAAAAAAAAAAAAAAAAAAAAAAAAAAAAAAAAAAAAAAAAq6qqqqqqOkAAAAAAAAAAAAAAAAAAAAAAAAAAAAAAAAAAAAAAAAAAAAAAAAAAAAAAAAAAAAAAAAAAAAAAAAAAAAAAAAAAAAAAAAAAAAAAAAAAAAAAAAAAAAAAAAAAAAAAAAAAAAAAAAAAAAAAAAAAAAAAAAAAAAAAAAAAAAAAAAAAAAAAAAAAAAAAAAAAAAAAAAAAAAAAAAAAAAAAAABJQAAAAAAAAAAAq6qqqqqqKkAAAAAAAAAAAKuqqqqqqhpAAAAAAAAAAAAAAAAAAAAAAAAAAAAAAAAAAAAAAAAAAAAAAAAAAAAAAAAAAAAAAAAAAAAAAAAAAAAAAAAAAAAAAAAAAAAAAAAAAAAAAAAAAAAAAAAAAAA0QAAAAAAAAAAAAAAAAAAAJEAAAAAAAAAAAAAAAAAAAAAAAAAAAAAAAAAAAAAAAAAAAKuqqqqqqipAAAAAAAAAAAAAAAAAAAAAAAAAAAAAAAAAAAAAAAAAAAAAAAAAAAAAAAAAAAAAAAAAAAAAAAAAAAAAAAAAAAAAAAAAAAAAAAAAAAAAAAAAAACrqqqqqqo6QAAAAAAAAAAAAAAAAAAAAAAAAAAAAAAAAAAAAAAAAAAAAAAAAAAAAAAAAAAAAAAAAAAAAAAAAAAAAAAAAAAAAAAAAAAAAAAAAAAAAAAAAAAAAAAAAAAAAAAAAAAAAAAAAAAAAAAAAAAAAAAAAAAAAAAAAAAAAAAAAAAAAAAAAAAAAAAAAAAAAAAAAAAAAAAAAAAAAAAAAAAAAAAAAAAAAAA=",
          "dtype": "f8"
         }
        },
        {
         "marker": {
          "color": "rgb(204, 102, 119)"
         },
         "name": "Lasertag",
         "type": "bar",
         "x": [
          "Allooy",
          "cediiiiii_10",
          "_n3d",
          "qriezmannsOpa",
          "Muniix",
          "chrisihalt",
          "Fflopse",
          "Ex4cted",
          "Gobo9",
          "NewNormal0947",
          "Umgfoin",
          "HerrDante",
          "Pedrozockt",
          "rotmann2",
          "ReichesBrot",
          "Lelouch610",
          "Joe3346",
          "JennieKim",
          "Ninivee",
          "FrozenNoah",
          "Teesily",
          "Luxemburq",
          "CML_Justin",
          "JOW23",
          "DarkCobweb",
          "VendasTM",
          "Freeeedom",
          "GingerTeddy",
          "Squashgitter333",
          "KakaMC",
          "lizsyy",
          "2B9",
          "La_meleagro",
          "toxicplace",
          "yzvm",
          "Shiewk",
          "2wc",
          "Grapfen",
          "agowskyy",
          "miridis41",
          "Schmaarek",
          "TheFabo",
          "Vanillinchen",
          "MaxMitMaulkorb",
          "GermanPie",
          "ByNetherdude",
          "yiiq",
          "swiffle",
          "Feinberg",
          "Sey__",
          "Lubottus",
          "GeneralEnte06",
          "Stockinqs",
          "vKito",
          "zBro",
          "YBCM",
          "byTobi",
          "xBaumeisterin",
          "Mincheeen",
          "h4nnes",
          "Seemops_8",
          "camman18YT",
          "DaVinci_Son",
          "LeWi_100",
          "RasenLP",
          "unausgesprochen",
          "Ungluecklicher",
          "ffawks",
          "Wienerisch",
          "Persidieus",
          "LeMetin_",
          "marbrueck",
          "Ritokii",
          "Gerrygames",
          "LucaaOn",
          "DieserBear",
          "y9nic",
          "JOW24",
          "ZweitesIch",
          "xX_Dima_ggg_Xx6",
          "Flitzi_Dino",
          "Sthyq",
          "Txlentierter",
          "Hyxeed",
          "Gestimus",
          "lvlaurin",
          "M0osebumps",
          "BastiGHG",
          "NotLennart",
          "yachayubin",
          "deadfiight",
          "Morittz",
          "PixlNight",
          "Nervigerr",
          "Simlll",
          "Kyuudo",
          "BunnyKiko",
          "MaxOnTheRoad",
          "Gummibearchen",
          "Janne4k"
         ],
         "y": {
          "bdata": "AAAAAAAAAAAAAAAAAAAkQAAAAAAAAD5AAAAAAACAQUCrqqqqqqowQAAAAAAAAAAAAAAAAAAAREAAAAAAAAAuQAAAAAAAAAAAAAAAAAAAAABVVVVVVVU8QAAAAAAAAERAVVVVVVVVJ0AAAAAAAAAAAAAAAAAAABRAq6qqqqqqOkAAAAAAAAAAAFVVVVVVVTdAAAAAAAAAAAAAAAAAAAAAAAAAAAAAAAAAAAAAAAAANEAAAAAAAAAAAFVVVVVVVTJAAAAAAAAAAAAAAAAAAAAAAAAAAAAAAAAAAAAAAAAAAAAAAAAAAAAAAAAAAAAAAAAAAAAAAAAAAAAAAAAAAAAAAAAAAAAAAAAAAAAAAAAAAAAAAAAAAAAAAAAAAAAAAAAAVVVVVVVVJ0CrqqqqqqoKQAAAAAAAAAAAAAAAAAAAAAAAAAAAAAAAAKuqqqqqqjVAAAAAAAAAAAAAAAAAAAAAAAAAAAAAAAAAAAAAAAAAAAAAAAAAAAAAAAAAAAAAAAAAAAAAAAAAAAAAAAAAAAAAAAAAAAAAAAAAAAAAAAAAAAAAAAAAAAAAAKuqqqqqqjBAAAAAAAAAAAAAAAAAAAAAAAAAAAAAAAAAAAAAAAAAAAAAAAAAAAAAAAAAAAAAACRAAAAAAAAAAAAAAAAAAAAAAAAAAAAAABRAAAAAAAAAAAAAAAAAAAAAAFVVVVVVVSdAAAAAAAAAAACrqqqqqqoqQAAAAAAAAAAAAAAAAAAALkAAAAAAAAAAAAAAAAAAAAAAAAAAAAAAAAAAAAAAAAAAAAAAAAAAAAAAAAAAAAAAAAAAAAAAAAAAAKuqqqqqqjBAAAAAAAAAAAAAAAAAAAAAAAAAAAAAAAAAAAAAAAAAAAAAAAAAAAAAAAAAAAAAAAAAAAAAAAAAAACrqqqqqqowQAAAAAAAAAAAAAAAAAAAAAAAAAAAAAAAAAAAAAAAAAAAAAAAAAAAAAAAAAAAAAAAAAAAAAAAAAAAAAAAAAAAAAAAAAAAAAAAAAAAAAAAAAAAAAAAAAAAAACrqqqqqqowQAAAAAAAAAAAAAAAAAAAAAA=",
          "dtype": "f8"
         }
        },
        {
         "marker": {
          "color": "rgb(221, 204, 119)"
         },
         "name": "Mauerfall",
         "type": "bar",
         "x": [
          "Allooy",
          "cediiiiii_10",
          "_n3d",
          "qriezmannsOpa",
          "Muniix",
          "chrisihalt",
          "Fflopse",
          "Ex4cted",
          "Gobo9",
          "NewNormal0947",
          "Umgfoin",
          "HerrDante",
          "Pedrozockt",
          "rotmann2",
          "ReichesBrot",
          "Lelouch610",
          "Joe3346",
          "JennieKim",
          "Ninivee",
          "FrozenNoah",
          "Teesily",
          "Luxemburq",
          "CML_Justin",
          "JOW23",
          "DarkCobweb",
          "VendasTM",
          "Freeeedom",
          "GingerTeddy",
          "Squashgitter333",
          "KakaMC",
          "lizsyy",
          "2B9",
          "La_meleagro",
          "toxicplace",
          "yzvm",
          "Shiewk",
          "2wc",
          "Grapfen",
          "agowskyy",
          "miridis41",
          "Schmaarek",
          "TheFabo",
          "Vanillinchen",
          "MaxMitMaulkorb",
          "GermanPie",
          "ByNetherdude",
          "yiiq",
          "swiffle",
          "Feinberg",
          "Sey__",
          "Lubottus",
          "GeneralEnte06",
          "Stockinqs",
          "vKito",
          "zBro",
          "YBCM",
          "byTobi",
          "xBaumeisterin",
          "Mincheeen",
          "h4nnes",
          "Seemops_8",
          "camman18YT",
          "DaVinci_Son",
          "LeWi_100",
          "RasenLP",
          "unausgesprochen",
          "Ungluecklicher",
          "ffawks",
          "Wienerisch",
          "Persidieus",
          "LeMetin_",
          "marbrueck",
          "Ritokii",
          "Gerrygames",
          "LucaaOn",
          "DieserBear",
          "y9nic",
          "JOW24",
          "ZweitesIch",
          "xX_Dima_ggg_Xx6",
          "Flitzi_Dino",
          "Sthyq",
          "Txlentierter",
          "Hyxeed",
          "Gestimus",
          "lvlaurin",
          "M0osebumps",
          "BastiGHG",
          "NotLennart",
          "yachayubin",
          "deadfiight",
          "Morittz",
          "PixlNight",
          "Nervigerr",
          "Simlll",
          "Kyuudo",
          "BunnyKiko",
          "MaxOnTheRoad",
          "Gummibearchen",
          "Janne4k"
         ],
         "y": {
          "bdata": "btu2bdu2KUAlSZIkSZJCQCVJkiRJkixAAAAAAAAAAACSJEmSJEk4QAAAAAAAAAAAJUmSJEmSPEAAAAAAAAAAAG7btm3btilASZIkSZIkMUC3bdu2bdsWQCVJkiRJkixAAAAAAAAANEAAAAAAAAAAAAAAAAAAAAAAAAAAAAAAAAC3bdu2bdsWQAAAAAAAAAAAt23btm3bFkAAAAAAAAAAAAAAAAAAAAAAJUmSJEmSLEAAAAAAAAAAAG7btm3btilASZIkSZIkO0AAAAAAAAAAAAAAAAAAAAAAAAAAAAAAAAAAAAAAAAAAAG7btm3btilAAAAAAAAAAAAAAAAAAAAAALdt27Zt2yZAAAAAAAAAAAAlSZIkSZIsQAAAAAAAAAAAAAAAAAAAAABu27Zt27YpQLdt27Zt2wZAAAAAAAAAAAAAAAAAAAAAAAAAAAAAAAAAAAAAAAAAAAAAAAAAAAAAACVJkiRJkixAAAAAAAAAAAAAAAAAAAAAAAAAAAAAAAAAAAAAAAAAAAAAAAAAAAAAAAAAAAAAAAAAAAAAAAAAAAAAAAAAAAAAAAAAAAAAAAAAJUmSJEmSLEAAAAAAAAAAAEmSJEmSJDFAAAAAAAAAAAAAAAAAAAAAAAAAAAAAAAAAAAAAAAAAAAAlSZIkSZIsQLdt27Zt2wZAAAAAAAAAAAAAAAAAAAAAAAAAAAAAAAAAAAAAAAAAAAAAAAAAAAAAAAAAAAAAAAAAt23btm3bJkAAAAAAAAAAAAAAAAAAAAAAAAAAAAAAAAAAAAAAAAAAAAAAAAAAAAAAAAAAAAAAAAAAAAAAAAAAALdt27Zt2wZAbtu2bdu2KUAAAAAAAAAAACVJkiRJkixAAAAAAAAAAAAlSZIkSZIsQAAAAAAAAAAAAAAAAAAAAAAAAAAAAAAAAAAAAAAAAAAAAAAAAAAAAAC3bdu2bdsGQAAAAAAAAAAAAAAAAAAAAAC3bdu2bdsGQAAAAAAAAAAAAAAAAAAAAAAAAAAAAAAkQAAAAAAAAAAAt23btm3bBkAAAAAAAAAAALdt27Zt2xZAAAAAAAAAAAA=",
          "dtype": "f8"
         }
        },
        {
         "marker": {
          "color": "rgb(17, 119, 51)"
         },
         "name": "Minenfeld",
         "type": "bar",
         "x": [
          "Allooy",
          "cediiiiii_10",
          "_n3d",
          "qriezmannsOpa",
          "Muniix",
          "chrisihalt",
          "Fflopse",
          "Ex4cted",
          "Gobo9",
          "NewNormal0947",
          "Umgfoin",
          "HerrDante",
          "Pedrozockt",
          "rotmann2",
          "ReichesBrot",
          "Lelouch610",
          "Joe3346",
          "JennieKim",
          "Ninivee",
          "FrozenNoah",
          "Teesily",
          "Luxemburq",
          "CML_Justin",
          "JOW23",
          "DarkCobweb",
          "VendasTM",
          "Freeeedom",
          "GingerTeddy",
          "Squashgitter333",
          "KakaMC",
          "lizsyy",
          "2B9",
          "La_meleagro",
          "toxicplace",
          "yzvm",
          "Shiewk",
          "2wc",
          "Grapfen",
          "agowskyy",
          "miridis41",
          "Schmaarek",
          "TheFabo",
          "Vanillinchen",
          "MaxMitMaulkorb",
          "GermanPie",
          "ByNetherdude",
          "yiiq",
          "swiffle",
          "Feinberg",
          "Sey__",
          "Lubottus",
          "GeneralEnte06",
          "Stockinqs",
          "vKito",
          "zBro",
          "YBCM",
          "byTobi",
          "xBaumeisterin",
          "Mincheeen",
          "h4nnes",
          "Seemops_8",
          "camman18YT",
          "DaVinci_Son",
          "LeWi_100",
          "RasenLP",
          "unausgesprochen",
          "Ungluecklicher",
          "ffawks",
          "Wienerisch",
          "Persidieus",
          "LeMetin_",
          "marbrueck",
          "Ritokii",
          "Gerrygames",
          "LucaaOn",
          "DieserBear",
          "y9nic",
          "JOW24",
          "ZweitesIch",
          "xX_Dima_ggg_Xx6",
          "Flitzi_Dino",
          "Sthyq",
          "Txlentierter",
          "Hyxeed",
          "Gestimus",
          "lvlaurin",
          "M0osebumps",
          "BastiGHG",
          "NotLennart",
          "yachayubin",
          "deadfiight",
          "Morittz",
          "PixlNight",
          "Nervigerr",
          "Simlll",
          "Kyuudo",
          "BunnyKiko",
          "MaxOnTheRoad",
          "Gummibearchen",
          "Janne4k"
         ],
         "y": {
          "bdata": "AAAAAAAAJEAAAAAAAAAkQAAAAAAAAElAVVVVVVVVR0AAAAAAAAAAAKuqqqqqqkBAq6qqqqqqOkAAAAAAAAAAAAAAAAAAAAAAAAAAAAAAAAAAAAAAAAAAAAAAAAAAAD5AAAAAAAAAAAAAAAAAAAAAAKuqqqqqqjBAAAAAAAAAAABVVVVVVVU3QAAAAAAAAAAAq6qqqqqqGkCrqqqqqqowQAAAAAAAAAAAAAAAAAAAAAAAAAAAAAAAAAAAAAAAAAAAAAAAAAAAAAAAAAAAAAAAAFVVVVVVVTdAAAAAAAAAAAAAAAAAAAAAAAAAAAAAAAAAAAAAAAAAAACrqqqqqqoqQAAAAAAAAAAAq6qqqqqqGkAAAAAAAAAAAAAAAAAAAAAAAAAAAAAAAAAAAAAAAAAAAAAAAAAAAAAAAAAAAAAAAAAAAAAAAAAAAAAAAAAAAAAAAAAAAAAAAACrqqqqqqpAQAAAAAAAAAAAAAAAAAAAAAAAAAAAAAAAAAAAAAAAAAAAAAAAAAAAAACrqqqqqqpAQAAAAAAAAAAAAAAAAAAAAAAAAAAAAAAAAAAAAAAAAAAAVVVVVVVVR0AAAAAAAAAAAAAAAAAAAAAAAAAAAAAAAAAAAAAAAAAAAAAAAAAAAAAAAAAAAAAAAAAAAAAAAAAAAAAAAAAAAAAAVVVVVVVVN0AAAAAAAAAAAAAAAAAAAAAAAAAAAAAAAAAAAAAAAAAAAAAAAAAAAAAAAAAAAAAAAAAAAAAAAAA+QAAAAAAAAAAAAAAAAAAAAAAAAAAAAAAAAAAAAAAAAAAAAAAAAAAAAAAAAAAAAAA+QAAAAAAAAAAAAAAAAAAAAAAAAAAAAAAAAAAAAAAAAAAAAAAAAAAAAAAAAAAAAAAAAAAAAAAAAAAAAAAAAAAAAAAAAAAAAAAAAAAAAAAAAAAAAAAAAAAAAAAAAAAAAAAAAAAAAAAAAAAAAAAAAAAAAAAAAAAAAAAAAAAAAAAAADRAAAAAAAAAAAAAAAAAAAAAAAAAAAAAAAAAAAAAAAAAAAAAAAAAAAAAAAAAAAAAAAAAAAAAAAAAAAA=",
          "dtype": "f8"
         }
        },
        {
         "marker": {
          "color": "rgb(51, 34, 136)"
         },
         "name": "Minengefecht",
         "type": "bar",
         "x": [
          "Allooy",
          "cediiiiii_10",
          "_n3d",
          "qriezmannsOpa",
          "Muniix",
          "chrisihalt",
          "Fflopse",
          "Ex4cted",
          "Gobo9",
          "NewNormal0947",
          "Umgfoin",
          "HerrDante",
          "Pedrozockt",
          "rotmann2",
          "ReichesBrot",
          "Lelouch610",
          "Joe3346",
          "JennieKim",
          "Ninivee",
          "FrozenNoah",
          "Teesily",
          "Luxemburq",
          "CML_Justin",
          "JOW23",
          "DarkCobweb",
          "VendasTM",
          "Freeeedom",
          "GingerTeddy",
          "Squashgitter333",
          "KakaMC",
          "lizsyy",
          "2B9",
          "La_meleagro",
          "toxicplace",
          "yzvm",
          "Shiewk",
          "2wc",
          "Grapfen",
          "agowskyy",
          "miridis41",
          "Schmaarek",
          "TheFabo",
          "Vanillinchen",
          "MaxMitMaulkorb",
          "GermanPie",
          "ByNetherdude",
          "yiiq",
          "swiffle",
          "Feinberg",
          "Sey__",
          "Lubottus",
          "GeneralEnte06",
          "Stockinqs",
          "vKito",
          "zBro",
          "YBCM",
          "byTobi",
          "xBaumeisterin",
          "Mincheeen",
          "h4nnes",
          "Seemops_8",
          "camman18YT",
          "DaVinci_Son",
          "LeWi_100",
          "RasenLP",
          "unausgesprochen",
          "Ungluecklicher",
          "ffawks",
          "Wienerisch",
          "Persidieus",
          "LeMetin_",
          "marbrueck",
          "Ritokii",
          "Gerrygames",
          "LucaaOn",
          "DieserBear",
          "y9nic",
          "JOW24",
          "ZweitesIch",
          "xX_Dima_ggg_Xx6",
          "Flitzi_Dino",
          "Sthyq",
          "Txlentierter",
          "Hyxeed",
          "Gestimus",
          "lvlaurin",
          "M0osebumps",
          "BastiGHG",
          "NotLennart",
          "yachayubin",
          "deadfiight",
          "Morittz",
          "PixlNight",
          "Nervigerr",
          "Simlll",
          "Kyuudo",
          "BunnyKiko",
          "MaxOnTheRoad",
          "Gummibearchen",
          "Janne4k"
         ],
         "y": {
          "bdata": "AAAAAACANkAAAAAAAIBBQAAAAAAAgCtAAAAAAAAAJEAAAAAAAAAkQAAAAAAAgDZAAAAAAAAADkAAAAAAAAAAAAAAAAAAADRAAAAAAAAADkAAAAAAAAAAAAAAAAAAgCFAAAAAAAAAAAAAAAAAAAAkQAAAAAAAAA5AAAAAAAAAKUAAAAAAAAAAAAAAAAAAAAAAAAAAAAAAAAAAAAAAAAA5QAAAAAAAAAAAAAAAAAAAAAAAAAAAAAAAAAAAAAAAgDZAAAAAAACANkAAAAAAAAAAAAAAAAAAAAAAAAAAAAAAAAAAAAAAAAAAAAAAAAAAAAAAAAAAAAAAAAAAAAAAAIAmQAAAAAAAAAAAAAAAAAAAAAAAAAAAAAApQAAAAAAAAAAAAAAAAACAIUAAAAAAAAAOQAAAAAAAAAAAAAAAAAAAAAAAAAAAAAAkQAAAAAAAAAAAAAAAAAAAJEAAAAAAAAAAAAAAAAAAAAAAAAAAAAAAAAAAAAAAAIA2QAAAAAAAAAAAAAAAAAAAAAAAAAAAAAAAAAAAAAAAAAAAAAAAAAAAAAAAAAAAAAAAAAAAAAAAAAAAAAAAAAAAAAAAAAAAAAAAAAAAAAAAAAAAAAAAAAAAAAAAAAAAAAAAAAAAAAAAAAAAAAAAAAAAAAAAAAAAAAAAAAAAAAAAgCFAAAAAAAAAAAAAAAAAAAAAAAAAAAAAAAAAAAAAAAAAAAAAAAAAAAAAAAAAAAAAAAAAAAAAAACAJkAAAAAAAAAAAAAAAAAAAAAAAAAAAAAAAAAAAAAAAAAAAAAAAAAAgCZAAAAAAAAAAAAAAAAAAAAAAAAAAAAAAAAAAAAAAACAJkAAAAAAAAAAAAAAAAAAAClAAAAAAAAAAAAAAAAAAAAUQAAAAAAAAAAAAAAAAACAJkAAAAAAAAAAAAAAAAAAAAAAAAAAAAAAAAAAAAAAAIAhQAAAAAAAAAAAAAAAAAAAAAAAAAAAAAAAAAAAAAAAAAAAAAAAAAAAKUAAAAAAAAAAAAAAAAAAACRAAAAAAAAAJEAAAAAAAAAAAAAAAAAAAAAAAAAAAAAAJEA=",
          "dtype": "f8"
         }
        },
        {
         "marker": {
          "color": "rgb(170, 68, 153)"
         },
         "name": "Mini Survivalgames",
         "type": "bar",
         "x": [
          "Allooy",
          "cediiiiii_10",
          "_n3d",
          "qriezmannsOpa",
          "Muniix",
          "chrisihalt",
          "Fflopse",
          "Ex4cted",
          "Gobo9",
          "NewNormal0947",
          "Umgfoin",
          "HerrDante",
          "Pedrozockt",
          "rotmann2",
          "ReichesBrot",
          "Lelouch610",
          "Joe3346",
          "JennieKim",
          "Ninivee",
          "FrozenNoah",
          "Teesily",
          "Luxemburq",
          "CML_Justin",
          "JOW23",
          "DarkCobweb",
          "VendasTM",
          "Freeeedom",
          "GingerTeddy",
          "Squashgitter333",
          "KakaMC",
          "lizsyy",
          "2B9",
          "La_meleagro",
          "toxicplace",
          "yzvm",
          "Shiewk",
          "2wc",
          "Grapfen",
          "agowskyy",
          "miridis41",
          "Schmaarek",
          "TheFabo",
          "Vanillinchen",
          "MaxMitMaulkorb",
          "GermanPie",
          "ByNetherdude",
          "yiiq",
          "swiffle",
          "Feinberg",
          "Sey__",
          "Lubottus",
          "GeneralEnte06",
          "Stockinqs",
          "vKito",
          "zBro",
          "YBCM",
          "byTobi",
          "xBaumeisterin",
          "Mincheeen",
          "h4nnes",
          "Seemops_8",
          "camman18YT",
          "DaVinci_Son",
          "LeWi_100",
          "RasenLP",
          "unausgesprochen",
          "Ungluecklicher",
          "ffawks",
          "Wienerisch",
          "Persidieus",
          "LeMetin_",
          "marbrueck",
          "Ritokii",
          "Gerrygames",
          "LucaaOn",
          "DieserBear",
          "y9nic",
          "JOW24",
          "ZweitesIch",
          "xX_Dima_ggg_Xx6",
          "Flitzi_Dino",
          "Sthyq",
          "Txlentierter",
          "Hyxeed",
          "Gestimus",
          "lvlaurin",
          "M0osebumps",
          "BastiGHG",
          "NotLennart",
          "yachayubin",
          "deadfiight",
          "Morittz",
          "PixlNight",
          "Nervigerr",
          "Simlll",
          "Kyuudo",
          "BunnyKiko",
          "MaxOnTheRoad",
          "Gummibearchen",
          "Janne4k"
         ],
         "y": {
          "bdata": "AAAAAAAAAAAAAAAAAAAAAAAAAAAAAAAAAAAAAAAAAAAAAAAAAAAAAAAAAAAAAAAAAAAAAAAAAAAAAAAAAAAAAAAAAAAAAAAAAAAAAAAAAAAAAAAAAAAAAAAAAAAAAAAAAAAAAAAAAAAAAAAAAAAAAAAAAAAAAAAAAAAAAAAAAAAAAAAAAAAAAAAAAAAAAAAAAAAAAAAAAAAAAAAAAAAAAAAAAAAAAAAAAAAAAAAAAAAAAAAAAAAAAAAAAAAAAAAAAAAAAAAAAAAAAAAAAAAAAAAAAAAAAAAAAAAAAAAAAAAAAAAAAAAAAAAAAAAAAAAAAAAAAAAAAAAAAAAAAAAAAAAAAAAAAAAAAAAAAAAAAAAAAAAAAAAAAAAAAAAAAAAAAAAAAAAAAAAAAAAAAAAAAAAAAAAAAAAAAAAAAAAAAAAAAAAAAAAAAAAAAAAAAAAAAAAAAAAAAAAAAAAAAAAAAAAAAAAAAAAAAAAAAAAAAAAAAAAAAAAAAAAAAAAAAAAAAAAAAAAAAAAAAAAAAAAAAAAAAAAAAAAAAAAAAAAAAAAAAAAAAAAAAAAAAAAAAAAAAAAAAAAAAAAAAAAAAAAAAAAAAAAAAAAAAAAAAAAAAAAAAAAAAAAAAAAAAAAAAAAAAAAAAAAAAAAAAAAAAAAAAAAAAAAAAAAAAAAAAAAAAAAAAAAAAAAAAAAAAAAAAAAAAAAAAAAAAAAAAAAAAAAAAAAAAAAAAAAAAAAAAAAAAAAAAAAAAAAAAAAAAAAAAAAAAAAAAAAAAAAAAAAAAAAAAAAAAAAAAAAAAAAAAAAAAAAAAAAAAAAAAAAAAAAAAAAAAAAAAAAAAAAAAAAAAAAAAAAAAAAAAAAAAAAAAAAAAAAAAAAAAAAAAAAAAAAAAAAAAAAAAAAAAAAAAAAAAAAAAAAAAAAAAAAAAAAAAAAAAAAAAAAAAAAAAAAAAAAAAAAAAAAAAAAAAAAAAAAAAAAAAAAAAAAAAAAAAAAAAAAAAAAAAAAAAAAAAAAAAAAAAAAAAAAAAAAAAAAAAAAAAAAAAAAAAAAAAAAAAAAAAAAAAAA=",
          "dtype": "f8"
         }
        },
        {
         "marker": {
          "color": "rgb(68, 170, 153)"
         },
         "name": "Paintball",
         "type": "bar",
         "x": [
          "Allooy",
          "cediiiiii_10",
          "_n3d",
          "qriezmannsOpa",
          "Muniix",
          "chrisihalt",
          "Fflopse",
          "Ex4cted",
          "Gobo9",
          "NewNormal0947",
          "Umgfoin",
          "HerrDante",
          "Pedrozockt",
          "rotmann2",
          "ReichesBrot",
          "Lelouch610",
          "Joe3346",
          "JennieKim",
          "Ninivee",
          "FrozenNoah",
          "Teesily",
          "Luxemburq",
          "CML_Justin",
          "JOW23",
          "DarkCobweb",
          "VendasTM",
          "Freeeedom",
          "GingerTeddy",
          "Squashgitter333",
          "KakaMC",
          "lizsyy",
          "2B9",
          "La_meleagro",
          "toxicplace",
          "yzvm",
          "Shiewk",
          "2wc",
          "Grapfen",
          "agowskyy",
          "miridis41",
          "Schmaarek",
          "TheFabo",
          "Vanillinchen",
          "MaxMitMaulkorb",
          "GermanPie",
          "ByNetherdude",
          "yiiq",
          "swiffle",
          "Feinberg",
          "Sey__",
          "Lubottus",
          "GeneralEnte06",
          "Stockinqs",
          "vKito",
          "zBro",
          "YBCM",
          "byTobi",
          "xBaumeisterin",
          "Mincheeen",
          "h4nnes",
          "Seemops_8",
          "camman18YT",
          "DaVinci_Son",
          "LeWi_100",
          "RasenLP",
          "unausgesprochen",
          "Ungluecklicher",
          "ffawks",
          "Wienerisch",
          "Persidieus",
          "LeMetin_",
          "marbrueck",
          "Ritokii",
          "Gerrygames",
          "LucaaOn",
          "DieserBear",
          "y9nic",
          "JOW24",
          "ZweitesIch",
          "xX_Dima_ggg_Xx6",
          "Flitzi_Dino",
          "Sthyq",
          "Txlentierter",
          "Hyxeed",
          "Gestimus",
          "lvlaurin",
          "M0osebumps",
          "BastiGHG",
          "NotLennart",
          "yachayubin",
          "deadfiight",
          "Morittz",
          "PixlNight",
          "Nervigerr",
          "Simlll",
          "Kyuudo",
          "BunnyKiko",
          "MaxOnTheRoad",
          "Gummibearchen",
          "Janne4k"
         ],
         "y": {
          "bdata": "AAAAAAAAAAAAAAAAAAAAAAAAAAAAAAAAAAAAAAAAAAAAAAAAAAAAAAAAAAAAAAAAAAAAAAAAAAAAAAAAAAAAAAAAAAAAAAAAAAAAAAAAAAAAAAAAAAAAAAAAAAAAAAAAAAAAAAAAAAAAAAAAAAAAAAAAAAAAAAAAAAAAAAAAAAAAAAAAAAAAAAAAAAAAAAAAAAAAAAAAAAAAAAAAAAAAAAAAAAAAAAAAAAAAAAAAAAAAAAAAAAAAAAAAAAAAAAAAAAAAAAAAAAAAAAAAAAAAAAAAAAAAAAAAAAAAAAAAAAAAAAAAAAAAAAAAAAAAAAAAAAAAAAAAAAAAAAAAAAAAAAAAAAAAAAAAAAAAAAAAAAAAAAAAAAAAAAAAAAAAAAAAAAAAAAAAAAAAAAAAAAAAAAAAAAAAAAAAAAAAAAAAAAAAAAAAAAAAAAAAAAAAAAAAAAAAAAAAAAAAAAAAAAAAAAAAAAAAAAAAAAAAAAAAAAAAAAAAAAAAAAAAAAAAAAAAAAAAAAAAAAAAAAAAAAAAAAAAAAAAAAAAAAAAAAAAAAAAAAAAAAAAAAAAAAAAAAAAAAAAAAAAAAAAAAAAAAAAAAAAAAAAAAAAAAAAAAAAAAAAAAAAAAAAAAAAAAAAAAAAAAAAAAAAAAAAAAAAAAAAAAAAAAAAAAAAAAAAAAAAAAAAAAAAAAAAAAAAAAAAAAAAAAAAAAAAAAAAAAAAAAAAAAAAAAAAAAAAAAAAAAAAAAAAAAAAAAAAAAAAAAAAAAAAAAAAAAAAAAAAAAAAAAAAAAAAAAAAAAAAAAAAAAAAAAAAAAAAAAAAAAAAAAAAAAAAAAAAAAAAAAAAAAAAAAAAAAAAAAAAAAAAAAAAAAAAAAAAAAAAAAAAAAAAAAAAAAAAAAAAAAAAAAAAAAAAAAAAAAAAAAAAAAAAAAAAAAAAAAAAAAAAAAAAAAAAAAAAAAAAAAAAAAAAAAAAAAAAAAAAAAAAAAAAAAAAAAAAAAAAAAAAAAAAAAAAAAAAAAAAAAAAAAAAAAAAAAAAAAAAAAAAAAAAAAAAAAAAAAAAAAAAAAA=",
          "dtype": "f8"
         }
        },
        {
         "marker": {
          "color": "rgb(153, 153, 51)"
         },
         "name": "Parkour",
         "type": "bar",
         "x": [
          "Allooy",
          "cediiiiii_10",
          "_n3d",
          "qriezmannsOpa",
          "Muniix",
          "chrisihalt",
          "Fflopse",
          "Ex4cted",
          "Gobo9",
          "NewNormal0947",
          "Umgfoin",
          "HerrDante",
          "Pedrozockt",
          "rotmann2",
          "ReichesBrot",
          "Lelouch610",
          "Joe3346",
          "JennieKim",
          "Ninivee",
          "FrozenNoah",
          "Teesily",
          "Luxemburq",
          "CML_Justin",
          "JOW23",
          "DarkCobweb",
          "VendasTM",
          "Freeeedom",
          "GingerTeddy",
          "Squashgitter333",
          "KakaMC",
          "lizsyy",
          "2B9",
          "La_meleagro",
          "toxicplace",
          "yzvm",
          "Shiewk",
          "2wc",
          "Grapfen",
          "agowskyy",
          "miridis41",
          "Schmaarek",
          "TheFabo",
          "Vanillinchen",
          "MaxMitMaulkorb",
          "GermanPie",
          "ByNetherdude",
          "yiiq",
          "swiffle",
          "Feinberg",
          "Sey__",
          "Lubottus",
          "GeneralEnte06",
          "Stockinqs",
          "vKito",
          "zBro",
          "YBCM",
          "byTobi",
          "xBaumeisterin",
          "Mincheeen",
          "h4nnes",
          "Seemops_8",
          "camman18YT",
          "DaVinci_Son",
          "LeWi_100",
          "RasenLP",
          "unausgesprochen",
          "Ungluecklicher",
          "ffawks",
          "Wienerisch",
          "Persidieus",
          "LeMetin_",
          "marbrueck",
          "Ritokii",
          "Gerrygames",
          "LucaaOn",
          "DieserBear",
          "y9nic",
          "JOW24",
          "ZweitesIch",
          "xX_Dima_ggg_Xx6",
          "Flitzi_Dino",
          "Sthyq",
          "Txlentierter",
          "Hyxeed",
          "Gestimus",
          "lvlaurin",
          "M0osebumps",
          "BastiGHG",
          "NotLennart",
          "yachayubin",
          "deadfiight",
          "Morittz",
          "PixlNight",
          "Nervigerr",
          "Simlll",
          "Kyuudo",
          "BunnyKiko",
          "MaxOnTheRoad",
          "Gummibearchen",
          "Janne4k"
         ],
         "y": {
          "bdata": "AAAAAACgVEAAAAAAAIA7QAAAAAAAAC5AAAAAAABARUAAAAAAAEBAQAAAAAAAAD5AAAAAAACANkAAAAAAAAAAAAAAAAAAQE9AAAAAAAAAHkAAAAAAAAAAAAAAAAAAAAAAAAAAAAAAKUAAAAAAAAAAAAAAAAAAQFBAAAAAAAAAAAAAAAAAAAA0QAAAAAAAAAAAAAAAAAAAAAAAAAAAAAAAAAAAAAAAAClAAAAAAAAAAAAAAAAAAAAAAAAAAAAAAAAAAAAAAAAAAAAAAAAAAAA0QAAAAAAAAAAAAAAAAAAANEAAAAAAAAAAAAAAAAAAAAAAAAAAAAAAAAAAAAAAAAAAAAAAAAAAAAAAAAAAAAAAJEAAAAAAAAAAAAAAAAAAAAAAAAAAAAAAKUAAAAAAAAAAAAAAAAAAAAAAAAAAAAAAAAAAAAAAAAAAAAAAAAAAAAAAAAAAAAAAAAAAAAAAAAAAAAAAAAAAAAAAAAAAAAAAAAAAAAAAAAAAAAAAAAAAAAAAAAAAAAAAAAAAAAAAAAAkQAAAAAAAAAAAAAAAAAAAAAAAAAAAAAAAAAAAAAAAAAAAAAAAAAAAAAAAAAAAAAAAAAAAAAAAAAAAAAAAAAAAAAAAAAAAAAAAAAAAAAAAAAAAAAAAAAAAAAAAAAAAAIAxQAAAAAAAAAAAAAAAAACAMUAAAAAAAAAAAAAAAAAAAAAAAAAAAAAAAAAAAAAAAAAAAAAAAAAAAAAAAAAAAAAAAAAAAAAAAAAAAAAAAAAAAAAAAAAAAAAAAAAAAAAAAAAAAAAAAAAAAAAAAAAAAAAAAAAAAAAAAAAAAAAAAAAAAAAAAAAAAAAAAAAAAAAAAAAAAAAAAAAAAAAAAAAAAAAAAAAAAAAAAAAAAAAAAAAAAAAAAAAAAAAAAAAAAAAAAAAAAAAAAAAAAAAAAAAAAAAAAAAAAAAAAAAAAAAAAAAAAAAAAAAAAAAAAAAAAAAAAAAAAAAAAAAAAAAAAAAAAAAAAAAAAAAAAAAAAAAAAAAAAAAAAAAAAAAAAAAAAAAAAAAAAAAAAAAAAAAAAAAAAAAAAAA=",
          "dtype": "f8"
         }
        },
        {
         "marker": {
          "color": "rgb(136, 34, 85)"
         },
         "name": "Pferderennen",
         "type": "bar",
         "x": [
          "Allooy",
          "cediiiiii_10",
          "_n3d",
          "qriezmannsOpa",
          "Muniix",
          "chrisihalt",
          "Fflopse",
          "Ex4cted",
          "Gobo9",
          "NewNormal0947",
          "Umgfoin",
          "HerrDante",
          "Pedrozockt",
          "rotmann2",
          "ReichesBrot",
          "Lelouch610",
          "Joe3346",
          "JennieKim",
          "Ninivee",
          "FrozenNoah",
          "Teesily",
          "Luxemburq",
          "CML_Justin",
          "JOW23",
          "DarkCobweb",
          "VendasTM",
          "Freeeedom",
          "GingerTeddy",
          "Squashgitter333",
          "KakaMC",
          "lizsyy",
          "2B9",
          "La_meleagro",
          "toxicplace",
          "yzvm",
          "Shiewk",
          "2wc",
          "Grapfen",
          "agowskyy",
          "miridis41",
          "Schmaarek",
          "TheFabo",
          "Vanillinchen",
          "MaxMitMaulkorb",
          "GermanPie",
          "ByNetherdude",
          "yiiq",
          "swiffle",
          "Feinberg",
          "Sey__",
          "Lubottus",
          "GeneralEnte06",
          "Stockinqs",
          "vKito",
          "zBro",
          "YBCM",
          "byTobi",
          "xBaumeisterin",
          "Mincheeen",
          "h4nnes",
          "Seemops_8",
          "camman18YT",
          "DaVinci_Son",
          "LeWi_100",
          "RasenLP",
          "unausgesprochen",
          "Ungluecklicher",
          "ffawks",
          "Wienerisch",
          "Persidieus",
          "LeMetin_",
          "marbrueck",
          "Ritokii",
          "Gerrygames",
          "LucaaOn",
          "DieserBear",
          "y9nic",
          "JOW24",
          "ZweitesIch",
          "xX_Dima_ggg_Xx6",
          "Flitzi_Dino",
          "Sthyq",
          "Txlentierter",
          "Hyxeed",
          "Gestimus",
          "lvlaurin",
          "M0osebumps",
          "BastiGHG",
          "NotLennart",
          "yachayubin",
          "deadfiight",
          "Morittz",
          "PixlNight",
          "Nervigerr",
          "Simlll",
          "Kyuudo",
          "BunnyKiko",
          "MaxOnTheRoad",
          "Gummibearchen",
          "Janne4k"
         ],
         "y": {
          "bdata": "q6qqqqqqNUBVVVVVVdVJQAAAAAAAgEFAq6qqqqoqSEAAAAAAAAAUQKuqqqqqqkVAq6qqqqqqQEAAAAAAAAAAAAAAAAAAADlAq6qqqqqqKkCrqqqqqqoKQKuqqqqqqgpAVVVVVVVVJ0BVVVVVVVVHQKuqqqqqqjVAAAAAAAAAFECrqqqqqqoqQKuqqqqqqkVAAAAAAAAAAAAAAAAAAAAAAAAAAAAAAAAAAAAAAAAAAAAAAAAAAAAAAAAAAAAAAAAAAAAAAAAAAAAAAAAAAAAkQAAAAAAAAAAAAAAAAAAALkAAAAAAAAA5QAAAAAAAAAAAq6qqqqqqCkAAAAAAAAAAAAAAAAAAAAAAAAAAAAAAAACrqqqqqqoqQAAAAAAAAAAAAAAAAAAAAAAAAAAAAAAAAAAAAAAAAAAAAAAAAAAAAACrqqqqqqoaQAAAAAAAAAAAAAAAAAAAAAAAAAAAAAAAAAAAAAAAAAAAAAAAAAAAAAAAAAAAAAAAAAAAAAAAAAAAAAAAAAAAAAAAAAAAAAAAAAAAAAAAAAAAAAAAAAAAFEAAAAAAAAAAAAAAAAAAAAAAAAAAAAAAAAAAAAAAAAAAAAAAAAAAAAAAAAAAAAAAAAAAAAAAAAAAAAAAAAAAAAAAAAAAAAAAAAAAAAAAAAAAAAAAAAAAAAAAAAAAAAAAAACrqqqqqqowQAAAAAAAAAAAAAAAAAAAAABVVVVVVVUyQAAAAAAAAAAAAAAAAAAAAAAAAAAAAAAAAAAAAAAAAAAAAAAAAAAAAAAAAAAAAAAAAAAAAAAAAAAAAAAAAAAAAAAAAAAAAAAAAAAAAAAAAAAAAAAAAAAAAAAAAAAAAAAAAAAAAAAAAAAAAAAAAAAAAAAAAAAAAAAAAAAAAAAAAAAAAAAAAAAAAAAAAAAAAAAAAAAAAAAAAAAAAAAAAAAAAAAAAAAAAAAAAAAAAAAAAAAAAAAAAAAAAAAAAAAAAAAAAAAAAAAAAAAAAAAAAAAAAAAAAAAAAAAAAAAAAAAAAAAAAAAAAAAAFEAAAAAAAAAAAAAAAAAAAAAAAAAAAAAAAAA=",
          "dtype": "f8"
         }
        },
        {
         "marker": {
          "color": "rgb(102, 17, 0)"
         },
         "name": "Reihenfolge",
         "type": "bar",
         "x": [
          "Allooy",
          "cediiiiii_10",
          "_n3d",
          "qriezmannsOpa",
          "Muniix",
          "chrisihalt",
          "Fflopse",
          "Ex4cted",
          "Gobo9",
          "NewNormal0947",
          "Umgfoin",
          "HerrDante",
          "Pedrozockt",
          "rotmann2",
          "ReichesBrot",
          "Lelouch610",
          "Joe3346",
          "JennieKim",
          "Ninivee",
          "FrozenNoah",
          "Teesily",
          "Luxemburq",
          "CML_Justin",
          "JOW23",
          "DarkCobweb",
          "VendasTM",
          "Freeeedom",
          "GingerTeddy",
          "Squashgitter333",
          "KakaMC",
          "lizsyy",
          "2B9",
          "La_meleagro",
          "toxicplace",
          "yzvm",
          "Shiewk",
          "2wc",
          "Grapfen",
          "agowskyy",
          "miridis41",
          "Schmaarek",
          "TheFabo",
          "Vanillinchen",
          "MaxMitMaulkorb",
          "GermanPie",
          "ByNetherdude",
          "yiiq",
          "swiffle",
          "Feinberg",
          "Sey__",
          "Lubottus",
          "GeneralEnte06",
          "Stockinqs",
          "vKito",
          "zBro",
          "YBCM",
          "byTobi",
          "xBaumeisterin",
          "Mincheeen",
          "h4nnes",
          "Seemops_8",
          "camman18YT",
          "DaVinci_Son",
          "LeWi_100",
          "RasenLP",
          "unausgesprochen",
          "Ungluecklicher",
          "ffawks",
          "Wienerisch",
          "Persidieus",
          "LeMetin_",
          "marbrueck",
          "Ritokii",
          "Gerrygames",
          "LucaaOn",
          "DieserBear",
          "y9nic",
          "JOW24",
          "ZweitesIch",
          "xX_Dima_ggg_Xx6",
          "Flitzi_Dino",
          "Sthyq",
          "Txlentierter",
          "Hyxeed",
          "Gestimus",
          "lvlaurin",
          "M0osebumps",
          "BastiGHG",
          "NotLennart",
          "yachayubin",
          "deadfiight",
          "Morittz",
          "PixlNight",
          "Nervigerr",
          "Simlll",
          "Kyuudo",
          "BunnyKiko",
          "MaxOnTheRoad",
          "Gummibearchen",
          "Janne4k"
         ],
         "y": {
          "bdata": "AAAAAAAAAAAAAAAAAAAAAAAAAAAAAAAAAAAAAAAAAAAAAAAAAAAAAAAAAAAAAAAAAAAAAAAAAAAAAAAAAAAAAAAAAAAAAAAAAAAAAAAAAAAAAAAAAAAAAAAAAAAAAAAAAAAAAAAAAAAAAAAAAAAAAAAAAAAAAAAAAAAAAAAAAAAAAAAAAAAAAAAAAAAAAAAAAAAAAAAAAAAAAAAAAAAAAAAAAAAAAAAAAAAAAAAAAAAAAAAAAAAAAAAAAAAAAAAAAAAAAAAAAAAAAAAAAAAAAAAAAAAAAAAAAAAAAAAAAAAAAAAAAAAAAAAAAAAAAAAAAAAAAAAAAAAAAAAAAAAAAAAAAAAAAAAAAAAAAAAAAAAAAAAAAAAAAAAAAAAAAAAAAAAAAAAAAAAAAAAAAAAAAAAAAAAAAAAAAAAAAAAAAAAAAAAAAAAAAAAAAAAAAAAAAAAAAAAAAAAAAAAAAAAAAAAAAAAAAAAAAAAAAAAAAAAAAAAAAAAAAAAAAAAAAAAAAAAAAAAAAAAAAAAAAAAAAAAAAAAAAAAAAAAAAAAAAAAAAAAAAAAAAAAAAAAAAAAAAAAAAAAAAAAAAAAAAAAAAAAAAAAAAAAAAAAAAAAAAAAAAAAAAAAAAAAAAAAAAAAAAAAAAAAAAAAAAAAAAAAAAAAAAAAAAAAAAAAAAAAAAAAAAAAAAAAAAAAAAAAAAAAAAAAAAAAAAAAAAAAAAAAAAAAAAAAAAAAAAAAAAAAAAAAAAAAAAAAAAAAAAAAAAAAAAAAAAAAAAAAAAAAAAAAAAAAAAAAAAAAAAAAAAAAAAAAAAAAAAAAAAAAAAAAAAAAAAAAAAAAAAAAAAAAAAAAAAAAAAAAAAAAAAAAAAAAAAAAAAAAAAAAAAAAAAAAAAAAAAAAAAAAAAAAAAAAAAAAAAAAAAAAAAAAAAAAAAAAAAAAAAAAAAAAAAAAAAAAAAAAAAAAAAAAAAAAAAAAAAAAAAAAAAAAAAAAAAAAAAAAAAAAAAAAAAAAAAAAAAAAAAAAAAAAAAAAAAAAAAAAAAAAAAAAAAAAAAAAAAAAAAAAAAAA=",
          "dtype": "f8"
         }
        },
        {
         "marker": {
          "color": "rgb(136, 136, 136)"
         },
         "name": "Replika",
         "type": "bar",
         "x": [
          "Allooy",
          "cediiiiii_10",
          "_n3d",
          "qriezmannsOpa",
          "Muniix",
          "chrisihalt",
          "Fflopse",
          "Ex4cted",
          "Gobo9",
          "NewNormal0947",
          "Umgfoin",
          "HerrDante",
          "Pedrozockt",
          "rotmann2",
          "ReichesBrot",
          "Lelouch610",
          "Joe3346",
          "JennieKim",
          "Ninivee",
          "FrozenNoah",
          "Teesily",
          "Luxemburq",
          "CML_Justin",
          "JOW23",
          "DarkCobweb",
          "VendasTM",
          "Freeeedom",
          "GingerTeddy",
          "Squashgitter333",
          "KakaMC",
          "lizsyy",
          "2B9",
          "La_meleagro",
          "toxicplace",
          "yzvm",
          "Shiewk",
          "2wc",
          "Grapfen",
          "agowskyy",
          "miridis41",
          "Schmaarek",
          "TheFabo",
          "Vanillinchen",
          "MaxMitMaulkorb",
          "GermanPie",
          "ByNetherdude",
          "yiiq",
          "swiffle",
          "Feinberg",
          "Sey__",
          "Lubottus",
          "GeneralEnte06",
          "Stockinqs",
          "vKito",
          "zBro",
          "YBCM",
          "byTobi",
          "xBaumeisterin",
          "Mincheeen",
          "h4nnes",
          "Seemops_8",
          "camman18YT",
          "DaVinci_Son",
          "LeWi_100",
          "RasenLP",
          "unausgesprochen",
          "Ungluecklicher",
          "ffawks",
          "Wienerisch",
          "Persidieus",
          "LeMetin_",
          "marbrueck",
          "Ritokii",
          "Gerrygames",
          "LucaaOn",
          "DieserBear",
          "y9nic",
          "JOW24",
          "ZweitesIch",
          "xX_Dima_ggg_Xx6",
          "Flitzi_Dino",
          "Sthyq",
          "Txlentierter",
          "Hyxeed",
          "Gestimus",
          "lvlaurin",
          "M0osebumps",
          "BastiGHG",
          "NotLennart",
          "yachayubin",
          "deadfiight",
          "Morittz",
          "PixlNight",
          "Nervigerr",
          "Simlll",
          "Kyuudo",
          "BunnyKiko",
          "MaxOnTheRoad",
          "Gummibearchen",
          "Janne4k"
         ],
         "y": {
          "bdata": "NUiDNEgDV0AndmIndmJOQOqhHuqhHlJABEZgBEZgHEAjMAIjMAI7QI7jOI7jOCZACYzACIzAMEC6n/u5n/tEQBQ7sRM7sUtAq6qqqqqqGkCQBmmQBmngP23WZm3WZg1AdmIndmInKkCQBmmQBmngP33Lt3zLtwxAXuEVXuEV7j+QBmmQBmngP5u1WZu1Wds/Fl7hFV7hxT8AAAAAAAAAAHiFV3iFVzRARmAERmAEQ0ByHMdxHMcRQBZe4RVe4eU/m7VZm7VZ2z9iJ3ZiJ3YCQHIcx3Ecx/E/m7VZm7VZ2z9TMiVTMiUjQLzCK7zCKxRANUiDNEiD9D8AAAAAAAAAAAAAAAAAAAAAAAAAAAAAAAAAAAAAAAAAABZe4RVe4dU/AAAAAAAAAAAAAAAAAAAAAAAAAAAAAAAAAAAAAAAAAAAAAAAAAAAAAF7hFV7hFf4/XuEVXuEV7j8AAAAAAAAAAAAAAAAAAAAAAAAAAAAAAABP7MRO7MQOQBZe4RVe4fU/2Ymd2Imd+D8AAAAAAAAAABZe4RVe4dU/AAAAAAAAAACQBmmQBmnQPwAAAAAAAAAAAAAAAAAAAAAAAAAAAAAAAAAAAAAAAAAAAAAAAAAAAAAAAAAAAAAAAAAAAAAAAAAAAAAAAAAAAADZiZ3YiZ3oPwAAAAAAAAAAAAAAAAAAAACrqqqqqqoKQAAAAAAAAAAAkAZpkAZp0D+rqqqqqqoKQGIndmIndgJAAAAAAAAAAAAAAAAAAAAAABZe4RVe4eU/2Ymd2Imd6D+QBmmQBmkAQAAAAAAAAAAAFl7hFV7hxT8AAAAAAAAAAAAAAAAAAAAAAAAAAAAAAAAAAAAAAAAAAAAAAAAAAAAAAAAAAAAAAAAAAAAAAAAAAAAAAAAAAAAAAAAAAAAAAAAAAAAAAAAAAFMyJVMyJeM/AAAAAAAAAAAAAAAAAAAAAAAAAAAAAAAAFl7hFV7hxT8AAAAAAAAAAAAAAAAAAAAAAAAAAAAAAAAAAAAAAAAAAAAAAAAAAAAAAAAAAAAAAACbtVmbtVnbPwAAAAAAAAAAAAAAAAAAAAA=",
          "dtype": "f8"
         }
        },
        {
         "marker": {
          "color": "rgb(136, 204, 238)"
         },
         "name": "Runterpurzeln",
         "type": "bar",
         "x": [
          "Allooy",
          "cediiiiii_10",
          "_n3d",
          "qriezmannsOpa",
          "Muniix",
          "chrisihalt",
          "Fflopse",
          "Ex4cted",
          "Gobo9",
          "NewNormal0947",
          "Umgfoin",
          "HerrDante",
          "Pedrozockt",
          "rotmann2",
          "ReichesBrot",
          "Lelouch610",
          "Joe3346",
          "JennieKim",
          "Ninivee",
          "FrozenNoah",
          "Teesily",
          "Luxemburq",
          "CML_Justin",
          "JOW23",
          "DarkCobweb",
          "VendasTM",
          "Freeeedom",
          "GingerTeddy",
          "Squashgitter333",
          "KakaMC",
          "lizsyy",
          "2B9",
          "La_meleagro",
          "toxicplace",
          "yzvm",
          "Shiewk",
          "2wc",
          "Grapfen",
          "agowskyy",
          "miridis41",
          "Schmaarek",
          "TheFabo",
          "Vanillinchen",
          "MaxMitMaulkorb",
          "GermanPie",
          "ByNetherdude",
          "yiiq",
          "swiffle",
          "Feinberg",
          "Sey__",
          "Lubottus",
          "GeneralEnte06",
          "Stockinqs",
          "vKito",
          "zBro",
          "YBCM",
          "byTobi",
          "xBaumeisterin",
          "Mincheeen",
          "h4nnes",
          "Seemops_8",
          "camman18YT",
          "DaVinci_Son",
          "LeWi_100",
          "RasenLP",
          "unausgesprochen",
          "Ungluecklicher",
          "ffawks",
          "Wienerisch",
          "Persidieus",
          "LeMetin_",
          "marbrueck",
          "Ritokii",
          "Gerrygames",
          "LucaaOn",
          "DieserBear",
          "y9nic",
          "JOW24",
          "ZweitesIch",
          "xX_Dima_ggg_Xx6",
          "Flitzi_Dino",
          "Sthyq",
          "Txlentierter",
          "Hyxeed",
          "Gestimus",
          "lvlaurin",
          "M0osebumps",
          "BastiGHG",
          "NotLennart",
          "yachayubin",
          "deadfiight",
          "Morittz",
          "PixlNight",
          "Nervigerr",
          "Simlll",
          "Kyuudo",
          "BunnyKiko",
          "MaxOnTheRoad",
          "Gummibearchen",
          "Janne4k"
         ],
         "y": {
          "bdata": "AAAAAAAATkAAAAAAAABUQAAAAAAAAD5AAAAAAACAUUAAAAAAAABZQAAAAAAAAAAAAAAAAAAAAAAAAAAAAABEQAAAAAAAAAAAAAAAAAAASUAAAAAAAAAAAAAAAAAAAAAAAAAAAAAAAAAAAAAAAAAAAAAAAAAAAAAAAAAAAAAAAAAAAAAAAAAAAAAAAAAAADRAAAAAAAAAAAAAAAAAAAAAAAAAAAAAAAAAAAAAAAAAAAAAAAAAAAAAAAAAAAAAAAAAAAAAAAAAAAAAAAAAAAAAAAAAAAAAAAAAAAAAAAAAAAAAAAAAAAAAAAAAAAAAAAAAAAAAAAAAAAAAAAAAAAAAAAAAAAAAAAAAAAAAAAAAAAAAAAAAAAAAAAAAAAAAAAAAAAAAAAAAAAAAAAAAAAAAAAAAAAAAgFZAAAAAAAAAAAAAAAAAAAAAAAAAAAAAAAAAAAAAAAAAAAAAAAAAAAAAAAAAAAAAAAAAAAAAAAAAAAAAAAAAAAAAAAAAAAAAAAAAAAAAAAAAAAAAAAAAAAAAAAAAAAAAAAAAAAAAAAAAAAAAAAAAAAAAAAAAAAAAAAAAAAAAAAAAAAAAAAAAAAAAAAAAAAAAAAAAAAAAAAAAAAAAAAAAAAAAAAAAAAAAAAAAAAAAAAAAAAAAAAAAAAAAAAAAAAAAAAAAAAAAAAAAAAAAAAAAAAAAAAAAAAAAAAAAAAAAAAAAAAAAAAAAAAAAAAAAAAAAAAAAAAAAAAAAAAAAAAAAAAAAAAAAAAAAAAAAAAAAAAAAAAAAAAAAAAAAAAAAAAAAAAAAAAAAAAAAAAAAAAAAAAAAAAAAAAAAAAAAAAAAAAAAAAAAAAAAAAAAAAAAAAAAAAAAAAAAAAAAAAAAAAAAAAAAAAAAAAAAAAAAAAAAAAAAAAAAAAAAAAAAAAAAAAAAAAAAAAAAAAAAAAAAAAAAAAAAAAAAAAAAAAAAAAAAAAAAAAAAAAAAAAAAAAAAAAAAAAAAAAAAAAAAAAAAAAAAAAAAAAAAAAAAAAAAAAAAAAAAAAAAAAAAAAAAAAAAAAAAAAAAAAAAAAAAAAA=",
          "dtype": "f8"
         }
        },
        {
         "marker": {
          "color": "rgb(204, 102, 119)"
         },
         "name": "Sammelwahn",
         "type": "bar",
         "x": [
          "Allooy",
          "cediiiiii_10",
          "_n3d",
          "qriezmannsOpa",
          "Muniix",
          "chrisihalt",
          "Fflopse",
          "Ex4cted",
          "Gobo9",
          "NewNormal0947",
          "Umgfoin",
          "HerrDante",
          "Pedrozockt",
          "rotmann2",
          "ReichesBrot",
          "Lelouch610",
          "Joe3346",
          "JennieKim",
          "Ninivee",
          "FrozenNoah",
          "Teesily",
          "Luxemburq",
          "CML_Justin",
          "JOW23",
          "DarkCobweb",
          "VendasTM",
          "Freeeedom",
          "GingerTeddy",
          "Squashgitter333",
          "KakaMC",
          "lizsyy",
          "2B9",
          "La_meleagro",
          "toxicplace",
          "yzvm",
          "Shiewk",
          "2wc",
          "Grapfen",
          "agowskyy",
          "miridis41",
          "Schmaarek",
          "TheFabo",
          "Vanillinchen",
          "MaxMitMaulkorb",
          "GermanPie",
          "ByNetherdude",
          "yiiq",
          "swiffle",
          "Feinberg",
          "Sey__",
          "Lubottus",
          "GeneralEnte06",
          "Stockinqs",
          "vKito",
          "zBro",
          "YBCM",
          "byTobi",
          "xBaumeisterin",
          "Mincheeen",
          "h4nnes",
          "Seemops_8",
          "camman18YT",
          "DaVinci_Son",
          "LeWi_100",
          "RasenLP",
          "unausgesprochen",
          "Ungluecklicher",
          "ffawks",
          "Wienerisch",
          "Persidieus",
          "LeMetin_",
          "marbrueck",
          "Ritokii",
          "Gerrygames",
          "LucaaOn",
          "DieserBear",
          "y9nic",
          "JOW24",
          "ZweitesIch",
          "xX_Dima_ggg_Xx6",
          "Flitzi_Dino",
          "Sthyq",
          "Txlentierter",
          "Hyxeed",
          "Gestimus",
          "lvlaurin",
          "M0osebumps",
          "BastiGHG",
          "NotLennart",
          "yachayubin",
          "deadfiight",
          "Morittz",
          "PixlNight",
          "Nervigerr",
          "Simlll",
          "Kyuudo",
          "BunnyKiko",
          "MaxOnTheRoad",
          "Gummibearchen",
          "Janne4k"
         ],
         "y": {
          "bdata": "aZAGaZAGNUBP7MRO7MREQBQ7sRM7sTFAfcu3fMu3HEDSIA3SIA0mQAdpkAZpkBZASIM0SIM0LEAAAAAAAAA0QMu3fMu3fDNAsRM7sRM7M0AAAAAAAAAkQMu3fMu3fCNANUiDNEiDFECe2Imd2IkVQGIndmIndgJA2Ymd2Imd6D9iJ3ZiJ3YSQMu3fMu3fBNA2Ymd2Imd+D81SIM0SIMEQH3Lt3zLtwxA0iAN0iANJkDLt3zLt3wjQJAGaZAGaeA/Yid2Yid2AkA1SIM0SIMEQJAGaZAGaSBAfcu3fMu3/D/ZiZ3YiZ34P33Lt3zLtwxA2Ymd2ImdCEA1SIM0SIMEQGmQBmmQBiVAAAAAAAAAAAAAAAAAAAAAAAAAAAAAAAAAAAAAAAAAAACe2Imd2IkVQJAGaZAGaQBAQhqkQRqkGUCe2Imd2IkVQHD5lm/5lhdAAAAAAAAAAAB9y7d8y7f8P5AGaZAGaeA/AAAAAAAAAAAAAAAAAAAAAJAGaZAGaQBANUiDNEiDBED5lm/5lm8RQE/sxE7sxA5Ay7d8y7d8E0BP7MRO7MQeQGIndmIndgJAYid2Yid2AkAHaZAGaZAGQDVIgzRIg/Q/2Ymd2Imd+D81SIM0SIP0P5AGaZAGafA/AAAAAAAAAABiJ3ZiJ3YSQGIndmIndgJAAAAAAAAAAABP7MRO7MQOQH3Lt3zLt/w/Yid2Yid2AkAAAAAAAAAAAJ7YiZ3YiSVAkAZpkAZpAECQBmmQBmkAQJAGaZAGaRBAAAAAAAAAAAAAAAAAAAA0QAAAAAAAAAAAq6qqqqqqGkAAAAAAAAAAAJAGaZAGaeA/NUiDNEiDBECQBmmQBmngPwAAAAAAAAAAAAAAAAAAAAAAAAAAAAAAADVIgzRIgwRAAAAAAAAAAAB9y7d8y7f8PwdpkAZpkAZAAAAAAAAAAAAAAAAAAAAAAAAAAAAAAAAAAAAAAAAAAAAAAAAAAAAAAAAAAAAAAAAAAAAAAAAAAABiJ3ZiJ3YCQJAGaZAGafA/kAZpkAZp8D8AAAAAAAAAAAAAAAAAAAAAAAAAAAAAAAA=",
          "dtype": "f8"
         }
        },
        {
         "marker": {
          "color": "rgb(221, 204, 119)"
         },
         "name": "Schießstand",
         "type": "bar",
         "x": [
          "Allooy",
          "cediiiiii_10",
          "_n3d",
          "qriezmannsOpa",
          "Muniix",
          "chrisihalt",
          "Fflopse",
          "Ex4cted",
          "Gobo9",
          "NewNormal0947",
          "Umgfoin",
          "HerrDante",
          "Pedrozockt",
          "rotmann2",
          "ReichesBrot",
          "Lelouch610",
          "Joe3346",
          "JennieKim",
          "Ninivee",
          "FrozenNoah",
          "Teesily",
          "Luxemburq",
          "CML_Justin",
          "JOW23",
          "DarkCobweb",
          "VendasTM",
          "Freeeedom",
          "GingerTeddy",
          "Squashgitter333",
          "KakaMC",
          "lizsyy",
          "2B9",
          "La_meleagro",
          "toxicplace",
          "yzvm",
          "Shiewk",
          "2wc",
          "Grapfen",
          "agowskyy",
          "miridis41",
          "Schmaarek",
          "TheFabo",
          "Vanillinchen",
          "MaxMitMaulkorb",
          "GermanPie",
          "ByNetherdude",
          "yiiq",
          "swiffle",
          "Feinberg",
          "Sey__",
          "Lubottus",
          "GeneralEnte06",
          "Stockinqs",
          "vKito",
          "zBro",
          "YBCM",
          "byTobi",
          "xBaumeisterin",
          "Mincheeen",
          "h4nnes",
          "Seemops_8",
          "camman18YT",
          "DaVinci_Son",
          "LeWi_100",
          "RasenLP",
          "unausgesprochen",
          "Ungluecklicher",
          "ffawks",
          "Wienerisch",
          "Persidieus",
          "LeMetin_",
          "marbrueck",
          "Ritokii",
          "Gerrygames",
          "LucaaOn",
          "DieserBear",
          "y9nic",
          "JOW24",
          "ZweitesIch",
          "xX_Dima_ggg_Xx6",
          "Flitzi_Dino",
          "Sthyq",
          "Txlentierter",
          "Hyxeed",
          "Gestimus",
          "lvlaurin",
          "M0osebumps",
          "BastiGHG",
          "NotLennart",
          "yachayubin",
          "deadfiight",
          "Morittz",
          "PixlNight",
          "Nervigerr",
          "Simlll",
          "Kyuudo",
          "BunnyKiko",
          "MaxOnTheRoad",
          "Gummibearchen",
          "Janne4k"
         ],
         "y": {
          "bdata": "AAAAAAAAJEAAAAAAAMBHQAAAAAAAACRAAAAAAABARUAAAAAAAAA5QAAAAAAAAC5AAAAAAAAATkAAAAAAAOBQQAAAAAAAgDFAAAAAAAAAHkAAAAAAAAAAAAAAAAAAgEFAAAAAAAAAAAAAAAAAAIBGQAAAAAAAAAAAAAAAAAAAAAAAAAAAAAAAAAAAAAAAAAAAAAAAAAAAAAAAAAAAAAAAAAAAAAAAAAAAAAAAAAAAAAAAAAAAAAAuQAAAAAAAwEdAAAAAAAAAAAAAAAAAAAAAAAAAAAAAAAAAAAAAAAAAKUAAAAAAAAA5QAAAAAAAAAAAAAAAAAAALkAAAAAAAAAAAAAAAAAAAAAAAAAAAAAAAAAAAAAAAAAAAAAAAAAAAAAAAAAAAAAAAAAAAAAAAAAAAAAAAAAAAC5AAAAAAAAAAAAAAAAAAAAAAAAAAAAAAAAAAAAAAAAAAAAAAAAAAAAAAAAAAAAAAAAAAAAAAAAAAAAAAAAAAAAAAAAAAAAAAAAAAAAAAAAAAAAAAAAAAAAAAAAAAAAAAAAAAAAAAAAAAAAAAAAAAAAAAAAAAAAAAAAAAAAAAAAAAAAAAAAAAAAAAAAAAAAAAAAAAAAAAAAAAAAAAAAAAAAAAAAAAAAAAAAAAAAAAAAAAAAAAAAAAAAAAAAAAAAAACRAAAAAAAAAAAAAAAAAAAAAAAAAAAAAADRAAAAAAAAAAAAAAAAAAAAAAAAAAAAAAAAAAAAAAAAAAAAAAAAAAAAAAAAAAAAAAAAAAAAAAAAAAAAAAAAAAAAAAAAAAAAAAAAAAAAAAAAAFEAAAAAAAAAAAAAAAAAAAAAAAAAAAAAAAAAAAAAAAAAAAAAAAAAAAAAAAAAAAAAAAAAAAAAAAAAAAAAAAAAAAAAAAAAAAAAAAAAAAAAAAAAAAAAAAAAAAAAAAAAAAAAAAAAAAAAAAAAAAAAAAAAAAAAAAAAAAAAAAAAAAAAAAAAAAAAAAAAAAAAAAAAAAAAAAAAAAAAAAAAAAAAAAAAAAAAAAAAAAAAAAAAAAAAAAAAAAAAAAAAAAAAAAAAAAAAAAAA=",
          "dtype": "f8"
         }
        },
        {
         "marker": {
          "color": "rgb(17, 119, 51)"
         },
         "name": "Skywars",
         "type": "bar",
         "x": [
          "Allooy",
          "cediiiiii_10",
          "_n3d",
          "qriezmannsOpa",
          "Muniix",
          "chrisihalt",
          "Fflopse",
          "Ex4cted",
          "Gobo9",
          "NewNormal0947",
          "Umgfoin",
          "HerrDante",
          "Pedrozockt",
          "rotmann2",
          "ReichesBrot",
          "Lelouch610",
          "Joe3346",
          "JennieKim",
          "Ninivee",
          "FrozenNoah",
          "Teesily",
          "Luxemburq",
          "CML_Justin",
          "JOW23",
          "DarkCobweb",
          "VendasTM",
          "Freeeedom",
          "GingerTeddy",
          "Squashgitter333",
          "KakaMC",
          "lizsyy",
          "2B9",
          "La_meleagro",
          "toxicplace",
          "yzvm",
          "Shiewk",
          "2wc",
          "Grapfen",
          "agowskyy",
          "miridis41",
          "Schmaarek",
          "TheFabo",
          "Vanillinchen",
          "MaxMitMaulkorb",
          "GermanPie",
          "ByNetherdude",
          "yiiq",
          "swiffle",
          "Feinberg",
          "Sey__",
          "Lubottus",
          "GeneralEnte06",
          "Stockinqs",
          "vKito",
          "zBro",
          "YBCM",
          "byTobi",
          "xBaumeisterin",
          "Mincheeen",
          "h4nnes",
          "Seemops_8",
          "camman18YT",
          "DaVinci_Son",
          "LeWi_100",
          "RasenLP",
          "unausgesprochen",
          "Ungluecklicher",
          "ffawks",
          "Wienerisch",
          "Persidieus",
          "LeMetin_",
          "marbrueck",
          "Ritokii",
          "Gerrygames",
          "LucaaOn",
          "DieserBear",
          "y9nic",
          "JOW24",
          "ZweitesIch",
          "xX_Dima_ggg_Xx6",
          "Flitzi_Dino",
          "Sthyq",
          "Txlentierter",
          "Hyxeed",
          "Gestimus",
          "lvlaurin",
          "M0osebumps",
          "BastiGHG",
          "NotLennart",
          "yachayubin",
          "deadfiight",
          "Morittz",
          "PixlNight",
          "Nervigerr",
          "Simlll",
          "Kyuudo",
          "BunnyKiko",
          "MaxOnTheRoad",
          "Gummibearchen",
          "Janne4k"
         ],
         "y": {
          "bdata": "AAAAAAAANEBVVVVVVVVMQKuqqqqqqjpAAAAAAAAAPkCrqqqqqqpAQAAAAAAAAC5Aq6qqqqqqKkCrqqqqqqoKQKuqqqqqKk1Aq6qqqqqqNUCrqqqqqqo6QAAAAAAAAAAAq6qqqqqqKkAAAAAAAAAAAKuqqqqqqjBAAAAAAAAAAABVVVVVVVUnQAAAAAAAAAAAAAAAAAAAAAAAAAAAAAAkQAAAAAAAAAAAAAAAAAAAAACrqqqqqqoaQKuqqqqqqkBAq6qqqqqqOkAAAAAAAAA0QFVVVVVVVTxAAAAAAAAAAACrqqqqqqoKQKuqqqqqqjBAAAAAAAAAAAAAAAAAAAAAAAAAAAAAAAAAAAAAAAAAAAAAAAAAAAAAAAAAAAAAAAAAVVVVVVVVPEBVVVVVVVU3QAAAAAAAAAAAAAAAAAAAAACrqqqqqqoaQAAAAAAAAAAAAAAAAAAAAAAAAAAAAAAAAAAAAAAAAAAAAAAAAAAAAACrqqqqqqoaQAAAAAAAAAAAAAAAAAAAAAAAAAAAAAAAAAAAAAAAAAAAAAAAAAAAAAAAAAAAAAAAAAAAAAAAAD5AAAAAAAAAAACrqqqqqqowQKuqqqqqqjBAAAAAAAAAAAAAAAAAAAAAAAAAAAAAAAAAAAAAAAAAAAAAAAAAAAAAAAAAAAAAAAAAAAAAAAAAAAAAAAAAAAAAAKuqqqqqqipAAAAAAAAANECrqqqqqqowQKuqqqqqqhpAAAAAAAAAAAAAAAAAAAAAAKuqqqqqqjBAq6qqqqqqGkAAAAAAAAAAAFVVVVVVVTdAAAAAAAAAAAAAAAAAAAAAAAAAAAAAAAAAAAAAAAAAAAAAAAAAAAAAAAAAAAAAAAAAq6qqqqqqCkAAAAAAAAAAAAAAAAAAAAAAq6qqqqqqMEAAAAAAAAAAAKuqqqqqqjBAAAAAAAAAAABVVVVVVVUnQKuqqqqqqgpAAAAAAAAAAABVVVVVVVUyQAAAAAAAAAAAAAAAAAAAAAAAAAAAAAAAAKuqqqqqqhpAAAAAAAAAAAAAAAAAAAAAAKuqqqqqqhpAAAAAAAAAAAA=",
          "dtype": "f8"
         }
        },
        {
         "marker": {
          "color": "rgb(51, 34, 136)"
         },
         "name": "Spleef",
         "type": "bar",
         "x": [
          "Allooy",
          "cediiiiii_10",
          "_n3d",
          "qriezmannsOpa",
          "Muniix",
          "chrisihalt",
          "Fflopse",
          "Ex4cted",
          "Gobo9",
          "NewNormal0947",
          "Umgfoin",
          "HerrDante",
          "Pedrozockt",
          "rotmann2",
          "ReichesBrot",
          "Lelouch610",
          "Joe3346",
          "JennieKim",
          "Ninivee",
          "FrozenNoah",
          "Teesily",
          "Luxemburq",
          "CML_Justin",
          "JOW23",
          "DarkCobweb",
          "VendasTM",
          "Freeeedom",
          "GingerTeddy",
          "Squashgitter333",
          "KakaMC",
          "lizsyy",
          "2B9",
          "La_meleagro",
          "toxicplace",
          "yzvm",
          "Shiewk",
          "2wc",
          "Grapfen",
          "agowskyy",
          "miridis41",
          "Schmaarek",
          "TheFabo",
          "Vanillinchen",
          "MaxMitMaulkorb",
          "GermanPie",
          "ByNetherdude",
          "yiiq",
          "swiffle",
          "Feinberg",
          "Sey__",
          "Lubottus",
          "GeneralEnte06",
          "Stockinqs",
          "vKito",
          "zBro",
          "YBCM",
          "byTobi",
          "xBaumeisterin",
          "Mincheeen",
          "h4nnes",
          "Seemops_8",
          "camman18YT",
          "DaVinci_Son",
          "LeWi_100",
          "RasenLP",
          "unausgesprochen",
          "Ungluecklicher",
          "ffawks",
          "Wienerisch",
          "Persidieus",
          "LeMetin_",
          "marbrueck",
          "Ritokii",
          "Gerrygames",
          "LucaaOn",
          "DieserBear",
          "y9nic",
          "JOW24",
          "ZweitesIch",
          "xX_Dima_ggg_Xx6",
          "Flitzi_Dino",
          "Sthyq",
          "Txlentierter",
          "Hyxeed",
          "Gestimus",
          "lvlaurin",
          "M0osebumps",
          "BastiGHG",
          "NotLennart",
          "yachayubin",
          "deadfiight",
          "Morittz",
          "PixlNight",
          "Nervigerr",
          "Simlll",
          "Kyuudo",
          "BunnyKiko",
          "MaxOnTheRoad",
          "Gummibearchen",
          "Janne4k"
         ],
         "y": {
          "bdata": "AAAAAAAAWUAAAAAAAIBRQAAAAAAAgFZAAAAAAACAVkAAAAAAAIBRQAAAAAAAAAAAAAAAAAAAAAAAAAAAAAAAAAAAAAAAAAAAAAAAAACAUUAAAAAAAAA0QAAAAAAAAAAAAAAAAAAAAAAAAAAAAIBRQAAAAAAAAAAAAAAAAACAUUAAAAAAAAAAAAAAAAAAADRAAAAAAAAAAAAAAAAAAAAAAAAAAAAAAAAAAAAAAAAAAAAAAAAAAAAAAAAAAAAAAAAAAAAAAAAAAAAAAAAAAAA0QAAAAAAAAAAAAAAAAAAAAAAAAAAAAAAAAAAAAAAAAAAAAAAAAAAAAAAAAAAAAAAAAAAAAAAAAAAAAAAAAAAAAAAAAAAAAAAAAAAAAAAAAAAAAAAAAAAAAAAAAAAAAAAAAAAAAAAAAAAAAAAAAAAAAAAAAAAAAAAAAAAAAAAAAAAAAAAAAAAAAAAAAAAAAAAAAAAAAAAAAAAAAAAAAAAAAAAAAAAAAAAAAAAAAAAAAAAAAAAAAAAAAAAAAAAAAAAAAAAAAAAAAAAAAAAAAAAAAAAAAAAAAAAAAAAAAAAAAAAAAAAAAAAAAAAAAAAAAAAAAAAAAAAAAAAAAAAAAAAAAAAAAAAAAAAAAAAAAAAAAAAAAAAAAAAAAAAAAAAAAAAAAAAAAAAAAAAAAAAAAAAAAAAAAAAAAAAAAAAAAAAAAAAAAAAAAAAAAAAAAAAAAAAAAAAAAAAAAAAAAAAAAAAAAAAAAAAAAAAAAAAAAAAAAAAAAAAAAAAAAAAAAAAAAAAAAAAAAAAAAAAAAAAAAAAAAAAAAAAAAAAAAAAAAAAAAAAAAAAAAAAAAAAAAAAAAAAAAAAAAAAAAAAAAAAAAAAAAAAAAAAAAAAAAAAAAAAAAAAAAAAAAAAAAAAAAAAAAAAAAAAAAAAAAAAAAAAAAAAAAAAAAAAAAAAAAAAAAAAAAAAAAAAAAAAAAAAAAAAAAAAAAAAAAAAAAAAAAAAAAAAAAAAAAAAAAAAAAAAAAAAAAAAAAAAAAAAAAAAAAAAAAAAAAAAAAAAAAAAAAAAAAAAAAAA=",
          "dtype": "f8"
         }
        },
        {
         "marker": {
          "color": "rgb(170, 68, 153)"
         },
         "name": "Survivalgames",
         "type": "bar",
         "x": [
          "Allooy",
          "cediiiiii_10",
          "_n3d",
          "qriezmannsOpa",
          "Muniix",
          "chrisihalt",
          "Fflopse",
          "Ex4cted",
          "Gobo9",
          "NewNormal0947",
          "Umgfoin",
          "HerrDante",
          "Pedrozockt",
          "rotmann2",
          "ReichesBrot",
          "Lelouch610",
          "Joe3346",
          "JennieKim",
          "Ninivee",
          "FrozenNoah",
          "Teesily",
          "Luxemburq",
          "CML_Justin",
          "JOW23",
          "DarkCobweb",
          "VendasTM",
          "Freeeedom",
          "GingerTeddy",
          "Squashgitter333",
          "KakaMC",
          "lizsyy",
          "2B9",
          "La_meleagro",
          "toxicplace",
          "yzvm",
          "Shiewk",
          "2wc",
          "Grapfen",
          "agowskyy",
          "miridis41",
          "Schmaarek",
          "TheFabo",
          "Vanillinchen",
          "MaxMitMaulkorb",
          "GermanPie",
          "ByNetherdude",
          "yiiq",
          "swiffle",
          "Feinberg",
          "Sey__",
          "Lubottus",
          "GeneralEnte06",
          "Stockinqs",
          "vKito",
          "zBro",
          "YBCM",
          "byTobi",
          "xBaumeisterin",
          "Mincheeen",
          "h4nnes",
          "Seemops_8",
          "camman18YT",
          "DaVinci_Son",
          "LeWi_100",
          "RasenLP",
          "unausgesprochen",
          "Ungluecklicher",
          "ffawks",
          "Wienerisch",
          "Persidieus",
          "LeMetin_",
          "marbrueck",
          "Ritokii",
          "Gerrygames",
          "LucaaOn",
          "DieserBear",
          "y9nic",
          "JOW24",
          "ZweitesIch",
          "xX_Dima_ggg_Xx6",
          "Flitzi_Dino",
          "Sthyq",
          "Txlentierter",
          "Hyxeed",
          "Gestimus",
          "lvlaurin",
          "M0osebumps",
          "BastiGHG",
          "NotLennart",
          "yachayubin",
          "deadfiight",
          "Morittz",
          "PixlNight",
          "Nervigerr",
          "Simlll",
          "Kyuudo",
          "BunnyKiko",
          "MaxOnTheRoad",
          "Gummibearchen",
          "Janne4k"
         ],
         "y": {
          "bdata": "AAAAAABASkAAAAAAAIBGQAAAAAAAAB5AAAAAAACANkAAAAAAACBSQAAAAAAAgEZAAAAAAAAAAAAAAAAAAAAAAAAAAAAAACRAAAAAAAAASUAAAAAAAEBAQAAAAAAAAB5AAAAAAAAAAAAAAAAAAMBCQAAAAAAAgDZAAAAAAAAAAAAAAAAAAAAAAAAAAAAAQEBAAAAAAAAAFEAAAAAAAAA+QAAAAAAAAAAAAAAAAAAAAAAAAAAAAAAAAAAAAAAAABRAAAAAAAAAFEAAAAAAAAAeQAAAAAAAgDFAAAAAAAAAAAAAAAAAAAAeQAAAAAAAAAAAAAAAAAAAAAAAAAAAAAA5QAAAAAAAAAAAAAAAAAAAAAAAAAAAAAAAAAAAAAAAAAAAAAAAAAAANEAAAAAAAAA0QAAAAAAAAB5AAAAAAAAAFEAAAAAAAAAUQAAAAAAAAAAAAAAAAAAAAAAAAAAAAAAUQAAAAAAAAAAAAAAAAAAAAAAAAAAAAAAAAAAAAAAAgDZAAAAAAAAAAAAAAAAAAAAAAAAAAAAAAAAAAAAAAAAAAAAAAAAAAAAAAAAAAAAAACRAAAAAAAAAAAAAAAAAAAAAAAAAAAAAgDtAAAAAAAAAAAAAAAAAAAAAAAAAAAAAABRAAAAAAAAAAAAAAAAAAAA+QAAAAAAAABRAAAAAAAAAAAAAAAAAAAAAAAAAAAAAAAAAAAAAAABARUAAAAAAAAAAAAAAAAAAAAAAAAAAAAAAAAAAAAAAAIA2QAAAAAAAAAAAAAAAAAAAAAAAAAAAAAAAAAAAAAAAAAAAAAAAAAAAAAAAAAAAAAAAAAAAAAAAAAAAAAAAAAAAAAAAAAAAAAAAAAAAAAAAAAAAAAAAAAAAAAAAAAAAAAAAAAAAAAAAAAAAAAAAAAAAAAAAAAAAAAAAAAAAAAAAAAAAAAAAAAAAAAAAAAAAAAAAAAAAAAAAAAAAAAAAAAAAAAAAAAAAAAAUQAAAAAAAAAAAAAAAAAAAAAAAAAAAAAAAAAAAAAAAABRAAAAAAAAAAAAAAAAAAAAAAAAAAAAAAAAAAAAAAAAAAAA=",
          "dtype": "f8"
         }
        },
        {
         "marker": {
          "color": "rgb(68, 170, 153)"
         },
         "name": "Todeswürfel",
         "type": "bar",
         "x": [
          "Allooy",
          "cediiiiii_10",
          "_n3d",
          "qriezmannsOpa",
          "Muniix",
          "chrisihalt",
          "Fflopse",
          "Ex4cted",
          "Gobo9",
          "NewNormal0947",
          "Umgfoin",
          "HerrDante",
          "Pedrozockt",
          "rotmann2",
          "ReichesBrot",
          "Lelouch610",
          "Joe3346",
          "JennieKim",
          "Ninivee",
          "FrozenNoah",
          "Teesily",
          "Luxemburq",
          "CML_Justin",
          "JOW23",
          "DarkCobweb",
          "VendasTM",
          "Freeeedom",
          "GingerTeddy",
          "Squashgitter333",
          "KakaMC",
          "lizsyy",
          "2B9",
          "La_meleagro",
          "toxicplace",
          "yzvm",
          "Shiewk",
          "2wc",
          "Grapfen",
          "agowskyy",
          "miridis41",
          "Schmaarek",
          "TheFabo",
          "Vanillinchen",
          "MaxMitMaulkorb",
          "GermanPie",
          "ByNetherdude",
          "yiiq",
          "swiffle",
          "Feinberg",
          "Sey__",
          "Lubottus",
          "GeneralEnte06",
          "Stockinqs",
          "vKito",
          "zBro",
          "YBCM",
          "byTobi",
          "xBaumeisterin",
          "Mincheeen",
          "h4nnes",
          "Seemops_8",
          "camman18YT",
          "DaVinci_Son",
          "LeWi_100",
          "RasenLP",
          "unausgesprochen",
          "Ungluecklicher",
          "ffawks",
          "Wienerisch",
          "Persidieus",
          "LeMetin_",
          "marbrueck",
          "Ritokii",
          "Gerrygames",
          "LucaaOn",
          "DieserBear",
          "y9nic",
          "JOW24",
          "ZweitesIch",
          "xX_Dima_ggg_Xx6",
          "Flitzi_Dino",
          "Sthyq",
          "Txlentierter",
          "Hyxeed",
          "Gestimus",
          "lvlaurin",
          "M0osebumps",
          "BastiGHG",
          "NotLennart",
          "yachayubin",
          "deadfiight",
          "Morittz",
          "PixlNight",
          "Nervigerr",
          "Simlll",
          "Kyuudo",
          "BunnyKiko",
          "MaxOnTheRoad",
          "Gummibearchen",
          "Janne4k"
         ],
         "y": {
          "bdata": "AAAAAAAAAAAAAAAAAAAAAAAAAAAAAAAAAAAAAAAAAAAAAAAAAAAAAAAAAAAAAAAAAAAAAAAAAAAAAAAAAAAAAAAAAAAAAAAAAAAAAAAAAAAAAAAAAAAAAAAAAAAAAAAAAAAAAAAAAAAAAAAAAAAAAAAAAAAAAAAAAAAAAAAAAAAAAAAAAAAAAAAAAAAAAAAAAAAAAAAAAAAAAAAAAAAAAAAAAAAAAAAAAAAAAAAAAAAAAAAAAAAAAAAAAAAAAAAAAAAAAAAAAAAAAAAAAAAAAAAAAAAAAAAAAAAAAAAAAAAAAAAAAAAAAAAAAAAAAAAAAAAAAAAAAAAAAAAAAAAAAAAAAAAAAAAAAAAAAAAAAAAAAAAAAAAAAAAAAAAAAAAAAAAAAAAAAAAAAAAAAAAAAAAAAAAAAAAAAAAAAAAAAAAAAAAAAAAAAAAAAAAAAAAAAAAAAAAAAAAAAAAAAAAAAAAAAAAAAAAAAAAAAAAAAAAAAAAAAAAAAAAAAAAAAAAAAAAAAAAAAAAAAAAAAAAAAAAAAAAAAAAAAAAAAAAAAAAAAAAAAAAAAAAAAAAAAAAAAAAAAAAAAAAAAAAAAAAAAAAAAAAAAAAAAAAAAAAAAAAAAAAAAAAAAAAAAAAAAAAAAAAAAAAAAAAAAAAAAAAAAAAAAAAAAAAAAAAAAAAAAAAAAAAAAAAAAAAAAAAAAAAAAAAAAAAAAAAAAAAAAAAAAAAAAAAAAAAAAAAAAAAAAAAAAAAAAAAAAAAAAAAAAAAAAAAAAAAAAAAAAAAAAAAAAAAAAAAAAAAAAAAAAAAAAAAAAAAAAAAAAAAAAAAAAAAAAAAAAAAAAAAAAAAAAAAAAAAAAAAAAAAAAAAAAAAAAAAAAAAAAAAAAAAAAAAAAAAAAAAAAAAAAAAAAAAAAAAAAAAAAAAAAAAAAAAAAAAAAAAAAAAAAAAAAAAAAAAAAAAAAAAAAAAAAAAAAAAAAAAAAAAAAAAAAAAAAAAAAAAAAAAAAAAAAAAAAAAAAAAAAAAAAAAAAAAAAAAAAAAAAAAAAAAAAAAAAAAAAAAAAAAAAAA=",
          "dtype": "f8"
         }
        },
        {
         "marker": {
          "color": "rgb(153, 153, 51)"
         },
         "name": "Turmroulette",
         "type": "bar",
         "x": [
          "Allooy",
          "cediiiiii_10",
          "_n3d",
          "qriezmannsOpa",
          "Muniix",
          "chrisihalt",
          "Fflopse",
          "Ex4cted",
          "Gobo9",
          "NewNormal0947",
          "Umgfoin",
          "HerrDante",
          "Pedrozockt",
          "rotmann2",
          "ReichesBrot",
          "Lelouch610",
          "Joe3346",
          "JennieKim",
          "Ninivee",
          "FrozenNoah",
          "Teesily",
          "Luxemburq",
          "CML_Justin",
          "JOW23",
          "DarkCobweb",
          "VendasTM",
          "Freeeedom",
          "GingerTeddy",
          "Squashgitter333",
          "KakaMC",
          "lizsyy",
          "2B9",
          "La_meleagro",
          "toxicplace",
          "yzvm",
          "Shiewk",
          "2wc",
          "Grapfen",
          "agowskyy",
          "miridis41",
          "Schmaarek",
          "TheFabo",
          "Vanillinchen",
          "MaxMitMaulkorb",
          "GermanPie",
          "ByNetherdude",
          "yiiq",
          "swiffle",
          "Feinberg",
          "Sey__",
          "Lubottus",
          "GeneralEnte06",
          "Stockinqs",
          "vKito",
          "zBro",
          "YBCM",
          "byTobi",
          "xBaumeisterin",
          "Mincheeen",
          "h4nnes",
          "Seemops_8",
          "camman18YT",
          "DaVinci_Son",
          "LeWi_100",
          "RasenLP",
          "unausgesprochen",
          "Ungluecklicher",
          "ffawks",
          "Wienerisch",
          "Persidieus",
          "LeMetin_",
          "marbrueck",
          "Ritokii",
          "Gerrygames",
          "LucaaOn",
          "DieserBear",
          "y9nic",
          "JOW24",
          "ZweitesIch",
          "xX_Dima_ggg_Xx6",
          "Flitzi_Dino",
          "Sthyq",
          "Txlentierter",
          "Hyxeed",
          "Gestimus",
          "lvlaurin",
          "M0osebumps",
          "BastiGHG",
          "NotLennart",
          "yachayubin",
          "deadfiight",
          "Morittz",
          "PixlNight",
          "Nervigerr",
          "Simlll",
          "Kyuudo",
          "BunnyKiko",
          "MaxOnTheRoad",
          "Gummibearchen",
          "Janne4k"
         ],
         "y": {
          "bdata": "AAAAAACAUUAAAAAAAAAAAAAAAAAAADRAAAAAAACAUUAAAAAAAIBWQAAAAAAAgFZAAAAAAAAAAAAAAAAAAAAAAAAAAAAAAFlAAAAAAAAANEAAAAAAAIBRQAAAAAAAAAAAAAAAAAAAAAAAAAAAAAAAAAAAAAAAAAAAAAAAAAAANEAAAAAAAAA0QAAAAAAAAAAAAAAAAAAAAAAAAAAAAIBRQAAAAAAAAAAAAAAAAAAANEAAAAAAAAAAAAAAAAAAAAAAAAAAAAAANEAAAAAAAIBRQAAAAAAAAAAAAAAAAAAANEAAAAAAAAAAAAAAAAAAAAAAAAAAAAAAAAAAAAAAAAAAAAAAAAAAAAAAAAAAAAAAAAAAAAAAAAAAAAAAAAAAAAAAAAAAAAAAAAAAAAAAAAAAAAAAAAAAAAAAAAAAAAAAAAAAAAAAAAAAAAAAAAAAAAAAAAAAAAAAAAAAAAAAAAAAAAAAAAAAAAAAAAAAAAAAAAAAAAAAAAAAAAAAAAAAAAAAAAAAAAAAAAAAAAAAAAAAAAAAAAAAAAAAAAAAAAAAAAAAAAAAAAAAAAAAAAAAAAAAAAAAAAAAAAAAAAAAAAAAAAAAAAAAAAAAAAAAAAAAAAAAAAAAAAAAAAAAAAAAAAAAAAAAAAAAAAAAAAAAAAAAAAAAAAAAAAAAAAAAAAAAAAAAAAAAAAAAAAAAAAAAAAAAAAAAAAAAAAAAAAAAAAAAAAAAAAAAAAAAAAAAAAAAAAAAAAAAAAAAAAAAAAAAAAAAAAAAAAAAAAAAAAAAAAAAAAAAAAAAAAAAAAAAAAAAAAAAAAAAAAAAAAAAAAAAAAAAAAAAAAAAAAAAAAAAAAAAAAAAAAAAAAAAAAAAAAAANEAAAAAAAAAAAAAAAAAAAAAAAAAAAAAAAAAAAAAAAAAAAAAAAAAAAAAAAAAAAAAAAAAAAAAAAAAAAAAAAAAAAAAAAAAAAAAAAAAAAAAAAAAAAAAAAAAAAAAAAAAAAAAAAAAAAAAAAAAAAAAAAAAAAAAAAAAAAAAAAAAAAAAAAAAAAAAAAAAAAAAAAAAAAAAAAAA=",
          "dtype": "f8"
         }
        },
        {
         "marker": {
          "color": "rgb(136, 34, 85)"
         },
         "name": "Waffenfolge",
         "type": "bar",
         "x": [
          "Allooy",
          "cediiiiii_10",
          "_n3d",
          "qriezmannsOpa",
          "Muniix",
          "chrisihalt",
          "Fflopse",
          "Ex4cted",
          "Gobo9",
          "NewNormal0947",
          "Umgfoin",
          "HerrDante",
          "Pedrozockt",
          "rotmann2",
          "ReichesBrot",
          "Lelouch610",
          "Joe3346",
          "JennieKim",
          "Ninivee",
          "FrozenNoah",
          "Teesily",
          "Luxemburq",
          "CML_Justin",
          "JOW23",
          "DarkCobweb",
          "VendasTM",
          "Freeeedom",
          "GingerTeddy",
          "Squashgitter333",
          "KakaMC",
          "lizsyy",
          "2B9",
          "La_meleagro",
          "toxicplace",
          "yzvm",
          "Shiewk",
          "2wc",
          "Grapfen",
          "agowskyy",
          "miridis41",
          "Schmaarek",
          "TheFabo",
          "Vanillinchen",
          "MaxMitMaulkorb",
          "GermanPie",
          "ByNetherdude",
          "yiiq",
          "swiffle",
          "Feinberg",
          "Sey__",
          "Lubottus",
          "GeneralEnte06",
          "Stockinqs",
          "vKito",
          "zBro",
          "YBCM",
          "byTobi",
          "xBaumeisterin",
          "Mincheeen",
          "h4nnes",
          "Seemops_8",
          "camman18YT",
          "DaVinci_Son",
          "LeWi_100",
          "RasenLP",
          "unausgesprochen",
          "Ungluecklicher",
          "ffawks",
          "Wienerisch",
          "Persidieus",
          "LeMetin_",
          "marbrueck",
          "Ritokii",
          "Gerrygames",
          "LucaaOn",
          "DieserBear",
          "y9nic",
          "JOW24",
          "ZweitesIch",
          "xX_Dima_ggg_Xx6",
          "Flitzi_Dino",
          "Sthyq",
          "Txlentierter",
          "Hyxeed",
          "Gestimus",
          "lvlaurin",
          "M0osebumps",
          "BastiGHG",
          "NotLennart",
          "yachayubin",
          "deadfiight",
          "Morittz",
          "PixlNight",
          "Nervigerr",
          "Simlll",
          "Kyuudo",
          "BunnyKiko",
          "MaxOnTheRoad",
          "Gummibearchen",
          "Janne4k"
         ],
         "y": {
          "bdata": "AAAAAAAAAAAAAAAAAAAAAAAAAAAAAAAAAAAAAAAAAAAAAAAAAAAAAAAAAAAAAAAAAAAAAAAAAAAAAAAAAAAAAAAAAAAAAAAAAAAAAAAAAAAAAAAAAAAAAAAAAAAAAAAAAAAAAAAAAAAAAAAAAAAAAAAAAAAAAAAAAAAAAAAAAAAAAAAAAAAAAAAAAAAAAAAAAAAAAAAAAAAAAAAAAAAAAAAAAAAAAAAAAAAAAAAAAAAAAAAAAAAAAAAAAAAAAAAAAAAAAAAAAAAAAAAAAAAAAAAAAAAAAAAAAAAAAAAAAAAAAAAAAAAAAAAAAAAAAAAAAAAAAAAAAAAAAAAAAAAAAAAAAAAAAAAAAAAAAAAAAAAAAAAAAAAAAAAAAAAAAAAAAAAAAAAAAAAAAAAAAAAAAAAAAAAAAAAAAAAAAAAAAAAAAAAAAAAAAAAAAAAAAAAAAAAAAAAAAAAAAAAAAAAAAAAAAAAAAAAAAAAAAAAAAAAAAAAAAAAAAAAAAAAAAAAAAAAAAAAAAAAAAAAAAAAAAAAAAAAAAAAAAAAAAAAAAAAAAAAAAAAAAAAAAAAAAAAAAAAAAAAAAAAAAAAAAAAAAAAAAAAAAAAAAAAAAAAAAAAAAAAAAAAAAAAAAAAAAAAAAAAAAAAAAAAAAAAAAAAAAAAAAAAAAAAAAAAAAAAAAAAAAAAAAAAAAAAAAAAAAAAAAAAAAAAAAAAAAAAAAAAAAAAAAAAAAAAAAAAAAAAAAAAAAAAAAAAAAAAAAAAAAAAAAAAAAAAAAAAAAAAAAAAAAAAAAAAAAAAAAAAAAAAAAAAAAAAAAAAAAAAAAAAAAAAAAAAAAAAAAAAAAAAAAAAAAAAAAAAAAAAAAAAAAAAAAAAAAAAAAAAAAAAAAAAAAAAAAAAAAAAAAAAAAAAAAAAAAAAAAAAAAAAAAAAAAAAAAAAAAAAAAAAAAAAAAAAAAAAAAAAAAAAAAAAAAAAAAAAAAAAAAAAAAAAAAAAAAAAAAAAAAAAAAAAAAAAAAAAAAAAAAAAAAAAAAAAAAAAAAAAAAAAAAAAAAAAAAAAAAAAAAAA=",
          "dtype": "f8"
         }
        },
        {
         "marker": {
          "color": "rgb(102, 17, 0)"
         },
         "name": "Wettrennen",
         "type": "bar",
         "x": [
          "Allooy",
          "cediiiiii_10",
          "_n3d",
          "qriezmannsOpa",
          "Muniix",
          "chrisihalt",
          "Fflopse",
          "Ex4cted",
          "Gobo9",
          "NewNormal0947",
          "Umgfoin",
          "HerrDante",
          "Pedrozockt",
          "rotmann2",
          "ReichesBrot",
          "Lelouch610",
          "Joe3346",
          "JennieKim",
          "Ninivee",
          "FrozenNoah",
          "Teesily",
          "Luxemburq",
          "CML_Justin",
          "JOW23",
          "DarkCobweb",
          "VendasTM",
          "Freeeedom",
          "GingerTeddy",
          "Squashgitter333",
          "KakaMC",
          "lizsyy",
          "2B9",
          "La_meleagro",
          "toxicplace",
          "yzvm",
          "Shiewk",
          "2wc",
          "Grapfen",
          "agowskyy",
          "miridis41",
          "Schmaarek",
          "TheFabo",
          "Vanillinchen",
          "MaxMitMaulkorb",
          "GermanPie",
          "ByNetherdude",
          "yiiq",
          "swiffle",
          "Feinberg",
          "Sey__",
          "Lubottus",
          "GeneralEnte06",
          "Stockinqs",
          "vKito",
          "zBro",
          "YBCM",
          "byTobi",
          "xBaumeisterin",
          "Mincheeen",
          "h4nnes",
          "Seemops_8",
          "camman18YT",
          "DaVinci_Son",
          "LeWi_100",
          "RasenLP",
          "unausgesprochen",
          "Ungluecklicher",
          "ffawks",
          "Wienerisch",
          "Persidieus",
          "LeMetin_",
          "marbrueck",
          "Ritokii",
          "Gerrygames",
          "LucaaOn",
          "DieserBear",
          "y9nic",
          "JOW24",
          "ZweitesIch",
          "xX_Dima_ggg_Xx6",
          "Flitzi_Dino",
          "Sthyq",
          "Txlentierter",
          "Hyxeed",
          "Gestimus",
          "lvlaurin",
          "M0osebumps",
          "BastiGHG",
          "NotLennart",
          "yachayubin",
          "deadfiight",
          "Morittz",
          "PixlNight",
          "Nervigerr",
          "Simlll",
          "Kyuudo",
          "BunnyKiko",
          "MaxOnTheRoad",
          "Gummibearchen",
          "Janne4k"
         ],
         "y": {
          "bdata": "AAAAAAAATUAAAAAAAABCQAAAAAAAAEtAAAAAAAAAQEAAAAAAAABBQAAAAAAAgFNAAAAAAAAANEAAAAAAAAAkQAAAAAAAACxAAAAAAAAAIEAAAAAAAAAAAAAAAAAAABBAAAAAAAAAAAAAAAAAAAAAAAAAAAAAACxAAAAAAAAAAAAAAAAAAAA8QAAAAAAAAENAAAAAAAAAAAAAAAAAAAAAAAAAAAAAAAAAAAAAAAAAAAAAAAAAAAAgQAAAAAAAAAAAAAAAAAAAAAAAAAAAAAA+QAAAAAAAAAAAAAAAAAAAOEAAAAAAAAAAAAAAAAAAAAAAAAAAAAAAAAAAAAAAAAAAAAAAAAAAAAAAAAAAAAAAAAAAAAAAAAAAAAAAAAAAAAAAAAAAAAAAAAAAAAAAAAAAAAAAAAAAAAAAAAAAAAAAAAAAAAAAAAAAAAAAAAAAAAAAAAAAAAAAAAAAAAAAAAAAAAAAAAAAAAAAAAAAAAAAAAAAAAAAAAAQQAAAAAAAABhAAAAAAAAAAAAAAAAAAAAAAAAAAAAAAAAAAAAAAAAAAAAAAAAAAAAAAAAAAAAAAAAAAAAAAAAAAAAAAAAAAAAAAAAAAAAAAAAAAAAAAAAAAAAAAAAAAAAAAAAAAAAAAAAAAAAAAAAAAAAAAAAAAAAAAAAAAAAAAAAAAAAAAAAAMkAAAAAAAAAAAAAAAAAAAAAAAAAAAAAAAAAAAAAAAAAAAAAAAAAAAAAAAAAAAAAAAAAAAAAAAAAAAAAAAAAAAAAAAAAAAAAAAAAAAAAAAAAQQAAAAAAAAAAAAAAAAAAAAAAAAAAAAAAAAAAAAAAAAAAAAAAAAAAAAAAAAAAAAAAAAAAAAAAAAAAAAAAAAAAAAAAAAAAAAAAAAAAAAAAAAAAAAAAAAAAAAAAAAAAAAAAAAAAAAAAAAAAAAAAAAAAAAAAAAAAAAAAAAAAAAAAAAAAAAAAAAAAAAAAAAAAAAAAAAAAAAAAAAAAAAAAAAAAAAAAAAAAAAAAAAAAAAAAAAAAAAAAAAAAAAAAAAAAAAAAAAAAAAAAAABhAAAAAAAAAAAA=",
          "dtype": "f8"
         }
        }
       ],
       "layout": {
        "annotations": [
         {
          "font": {
           "size": 12
          },
          "showarrow": false,
          "text": "Max 100 points per minigame. Records #1 through #10 of games & maps in the active pool are considered (#1: 100, #2: 90, ..., #10: 10). If a minigame has multiple maps, the 100 points are distributed equally. fflopse.github.io/MCP-Records/data-analysis/global-ranking.ipynb",
          "x": 0.5,
          "xanchor": "center",
          "xref": "paper",
          "y": 1.1635,
          "yref": "paper"
         }
        ],
        "barmode": "stack",
        "legend": {
         "bgcolor": "rgba(255, 255, 255, 0)",
         "bordercolor": "rgba(0, 0, 0, 0)",
         "font": {
          "size": 12
         },
         "traceorder": "normal",
         "x": 1.05,
         "y": 0.5
        },
        "margin": {
         "r": 200
        },
        "template": {
         "data": {
          "bar": [
           {
            "error_x": {
             "color": "#2a3f5f"
            },
            "error_y": {
             "color": "#2a3f5f"
            },
            "marker": {
             "line": {
              "color": "#E5ECF6",
              "width": 0.5
             },
             "pattern": {
              "fillmode": "overlay",
              "size": 10,
              "solidity": 0.2
             }
            },
            "type": "bar"
           }
          ],
          "barpolar": [
           {
            "marker": {
             "line": {
              "color": "#E5ECF6",
              "width": 0.5
             },
             "pattern": {
              "fillmode": "overlay",
              "size": 10,
              "solidity": 0.2
             }
            },
            "type": "barpolar"
           }
          ],
          "carpet": [
           {
            "aaxis": {
             "endlinecolor": "#2a3f5f",
             "gridcolor": "white",
             "linecolor": "white",
             "minorgridcolor": "white",
             "startlinecolor": "#2a3f5f"
            },
            "baxis": {
             "endlinecolor": "#2a3f5f",
             "gridcolor": "white",
             "linecolor": "white",
             "minorgridcolor": "white",
             "startlinecolor": "#2a3f5f"
            },
            "type": "carpet"
           }
          ],
          "choropleth": [
           {
            "colorbar": {
             "outlinewidth": 0,
             "ticks": ""
            },
            "type": "choropleth"
           }
          ],
          "contour": [
           {
            "colorbar": {
             "outlinewidth": 0,
             "ticks": ""
            },
            "colorscale": [
             [
              0,
              "#0d0887"
             ],
             [
              0.1111111111111111,
              "#46039f"
             ],
             [
              0.2222222222222222,
              "#7201a8"
             ],
             [
              0.3333333333333333,
              "#9c179e"
             ],
             [
              0.4444444444444444,
              "#bd3786"
             ],
             [
              0.5555555555555556,
              "#d8576b"
             ],
             [
              0.6666666666666666,
              "#ed7953"
             ],
             [
              0.7777777777777778,
              "#fb9f3a"
             ],
             [
              0.8888888888888888,
              "#fdca26"
             ],
             [
              1,
              "#f0f921"
             ]
            ],
            "type": "contour"
           }
          ],
          "contourcarpet": [
           {
            "colorbar": {
             "outlinewidth": 0,
             "ticks": ""
            },
            "type": "contourcarpet"
           }
          ],
          "heatmap": [
           {
            "colorbar": {
             "outlinewidth": 0,
             "ticks": ""
            },
            "colorscale": [
             [
              0,
              "#0d0887"
             ],
             [
              0.1111111111111111,
              "#46039f"
             ],
             [
              0.2222222222222222,
              "#7201a8"
             ],
             [
              0.3333333333333333,
              "#9c179e"
             ],
             [
              0.4444444444444444,
              "#bd3786"
             ],
             [
              0.5555555555555556,
              "#d8576b"
             ],
             [
              0.6666666666666666,
              "#ed7953"
             ],
             [
              0.7777777777777778,
              "#fb9f3a"
             ],
             [
              0.8888888888888888,
              "#fdca26"
             ],
             [
              1,
              "#f0f921"
             ]
            ],
            "type": "heatmap"
           }
          ],
          "histogram": [
           {
            "marker": {
             "pattern": {
              "fillmode": "overlay",
              "size": 10,
              "solidity": 0.2
             }
            },
            "type": "histogram"
           }
          ],
          "histogram2d": [
           {
            "colorbar": {
             "outlinewidth": 0,
             "ticks": ""
            },
            "colorscale": [
             [
              0,
              "#0d0887"
             ],
             [
              0.1111111111111111,
              "#46039f"
             ],
             [
              0.2222222222222222,
              "#7201a8"
             ],
             [
              0.3333333333333333,
              "#9c179e"
             ],
             [
              0.4444444444444444,
              "#bd3786"
             ],
             [
              0.5555555555555556,
              "#d8576b"
             ],
             [
              0.6666666666666666,
              "#ed7953"
             ],
             [
              0.7777777777777778,
              "#fb9f3a"
             ],
             [
              0.8888888888888888,
              "#fdca26"
             ],
             [
              1,
              "#f0f921"
             ]
            ],
            "type": "histogram2d"
           }
          ],
          "histogram2dcontour": [
           {
            "colorbar": {
             "outlinewidth": 0,
             "ticks": ""
            },
            "colorscale": [
             [
              0,
              "#0d0887"
             ],
             [
              0.1111111111111111,
              "#46039f"
             ],
             [
              0.2222222222222222,
              "#7201a8"
             ],
             [
              0.3333333333333333,
              "#9c179e"
             ],
             [
              0.4444444444444444,
              "#bd3786"
             ],
             [
              0.5555555555555556,
              "#d8576b"
             ],
             [
              0.6666666666666666,
              "#ed7953"
             ],
             [
              0.7777777777777778,
              "#fb9f3a"
             ],
             [
              0.8888888888888888,
              "#fdca26"
             ],
             [
              1,
              "#f0f921"
             ]
            ],
            "type": "histogram2dcontour"
           }
          ],
          "mesh3d": [
           {
            "colorbar": {
             "outlinewidth": 0,
             "ticks": ""
            },
            "type": "mesh3d"
           }
          ],
          "parcoords": [
           {
            "line": {
             "colorbar": {
              "outlinewidth": 0,
              "ticks": ""
             }
            },
            "type": "parcoords"
           }
          ],
          "pie": [
           {
            "automargin": true,
            "type": "pie"
           }
          ],
          "scatter": [
           {
            "fillpattern": {
             "fillmode": "overlay",
             "size": 10,
             "solidity": 0.2
            },
            "type": "scatter"
           }
          ],
          "scatter3d": [
           {
            "line": {
             "colorbar": {
              "outlinewidth": 0,
              "ticks": ""
             }
            },
            "marker": {
             "colorbar": {
              "outlinewidth": 0,
              "ticks": ""
             }
            },
            "type": "scatter3d"
           }
          ],
          "scattercarpet": [
           {
            "marker": {
             "colorbar": {
              "outlinewidth": 0,
              "ticks": ""
             }
            },
            "type": "scattercarpet"
           }
          ],
          "scattergeo": [
           {
            "marker": {
             "colorbar": {
              "outlinewidth": 0,
              "ticks": ""
             }
            },
            "type": "scattergeo"
           }
          ],
          "scattergl": [
           {
            "marker": {
             "colorbar": {
              "outlinewidth": 0,
              "ticks": ""
             }
            },
            "type": "scattergl"
           }
          ],
          "scattermap": [
           {
            "marker": {
             "colorbar": {
              "outlinewidth": 0,
              "ticks": ""
             }
            },
            "type": "scattermap"
           }
          ],
          "scattermapbox": [
           {
            "marker": {
             "colorbar": {
              "outlinewidth": 0,
              "ticks": ""
             }
            },
            "type": "scattermapbox"
           }
          ],
          "scatterpolar": [
           {
            "marker": {
             "colorbar": {
              "outlinewidth": 0,
              "ticks": ""
             }
            },
            "type": "scatterpolar"
           }
          ],
          "scatterpolargl": [
           {
            "marker": {
             "colorbar": {
              "outlinewidth": 0,
              "ticks": ""
             }
            },
            "type": "scatterpolargl"
           }
          ],
          "scatterternary": [
           {
            "marker": {
             "colorbar": {
              "outlinewidth": 0,
              "ticks": ""
             }
            },
            "type": "scatterternary"
           }
          ],
          "surface": [
           {
            "colorbar": {
             "outlinewidth": 0,
             "ticks": ""
            },
            "colorscale": [
             [
              0,
              "#0d0887"
             ],
             [
              0.1111111111111111,
              "#46039f"
             ],
             [
              0.2222222222222222,
              "#7201a8"
             ],
             [
              0.3333333333333333,
              "#9c179e"
             ],
             [
              0.4444444444444444,
              "#bd3786"
             ],
             [
              0.5555555555555556,
              "#d8576b"
             ],
             [
              0.6666666666666666,
              "#ed7953"
             ],
             [
              0.7777777777777778,
              "#fb9f3a"
             ],
             [
              0.8888888888888888,
              "#fdca26"
             ],
             [
              1,
              "#f0f921"
             ]
            ],
            "type": "surface"
           }
          ],
          "table": [
           {
            "cells": {
             "fill": {
              "color": "#EBF0F8"
             },
             "line": {
              "color": "white"
             }
            },
            "header": {
             "fill": {
              "color": "#C8D4E3"
             },
             "line": {
              "color": "white"
             }
            },
            "type": "table"
           }
          ]
         },
         "layout": {
          "annotationdefaults": {
           "arrowcolor": "#2a3f5f",
           "arrowhead": 0,
           "arrowwidth": 1
          },
          "autotypenumbers": "strict",
          "coloraxis": {
           "colorbar": {
            "outlinewidth": 0,
            "ticks": ""
           }
          },
          "colorscale": {
           "diverging": [
            [
             0,
             "#8e0152"
            ],
            [
             0.1,
             "#c51b7d"
            ],
            [
             0.2,
             "#de77ae"
            ],
            [
             0.3,
             "#f1b6da"
            ],
            [
             0.4,
             "#fde0ef"
            ],
            [
             0.5,
             "#f7f7f7"
            ],
            [
             0.6,
             "#e6f5d0"
            ],
            [
             0.7,
             "#b8e186"
            ],
            [
             0.8,
             "#7fbc41"
            ],
            [
             0.9,
             "#4d9221"
            ],
            [
             1,
             "#276419"
            ]
           ],
           "sequential": [
            [
             0,
             "#0d0887"
            ],
            [
             0.1111111111111111,
             "#46039f"
            ],
            [
             0.2222222222222222,
             "#7201a8"
            ],
            [
             0.3333333333333333,
             "#9c179e"
            ],
            [
             0.4444444444444444,
             "#bd3786"
            ],
            [
             0.5555555555555556,
             "#d8576b"
            ],
            [
             0.6666666666666666,
             "#ed7953"
            ],
            [
             0.7777777777777778,
             "#fb9f3a"
            ],
            [
             0.8888888888888888,
             "#fdca26"
            ],
            [
             1,
             "#f0f921"
            ]
           ],
           "sequentialminus": [
            [
             0,
             "#0d0887"
            ],
            [
             0.1111111111111111,
             "#46039f"
            ],
            [
             0.2222222222222222,
             "#7201a8"
            ],
            [
             0.3333333333333333,
             "#9c179e"
            ],
            [
             0.4444444444444444,
             "#bd3786"
            ],
            [
             0.5555555555555556,
             "#d8576b"
            ],
            [
             0.6666666666666666,
             "#ed7953"
            ],
            [
             0.7777777777777778,
             "#fb9f3a"
            ],
            [
             0.8888888888888888,
             "#fdca26"
            ],
            [
             1,
             "#f0f921"
            ]
           ]
          },
          "colorway": [
           "#636efa",
           "#EF553B",
           "#00cc96",
           "#ab63fa",
           "#FFA15A",
           "#19d3f3",
           "#FF6692",
           "#B6E880",
           "#FF97FF",
           "#FECB52"
          ],
          "font": {
           "color": "#2a3f5f"
          },
          "geo": {
           "bgcolor": "white",
           "lakecolor": "white",
           "landcolor": "#E5ECF6",
           "showlakes": true,
           "showland": true,
           "subunitcolor": "white"
          },
          "hoverlabel": {
           "align": "left"
          },
          "hovermode": "closest",
          "mapbox": {
           "style": "light"
          },
          "paper_bgcolor": "white",
          "plot_bgcolor": "#E5ECF6",
          "polar": {
           "angularaxis": {
            "gridcolor": "white",
            "linecolor": "white",
            "ticks": ""
           },
           "bgcolor": "#E5ECF6",
           "radialaxis": {
            "gridcolor": "white",
            "linecolor": "white",
            "ticks": ""
           }
          },
          "scene": {
           "xaxis": {
            "backgroundcolor": "#E5ECF6",
            "gridcolor": "white",
            "gridwidth": 2,
            "linecolor": "white",
            "showbackground": true,
            "ticks": "",
            "zerolinecolor": "white"
           },
           "yaxis": {
            "backgroundcolor": "#E5ECF6",
            "gridcolor": "white",
            "gridwidth": 2,
            "linecolor": "white",
            "showbackground": true,
            "ticks": "",
            "zerolinecolor": "white"
           },
           "zaxis": {
            "backgroundcolor": "#E5ECF6",
            "gridcolor": "white",
            "gridwidth": 2,
            "linecolor": "white",
            "showbackground": true,
            "ticks": "",
            "zerolinecolor": "white"
           }
          },
          "shapedefaults": {
           "line": {
            "color": "#2a3f5f"
           }
          },
          "ternary": {
           "aaxis": {
            "gridcolor": "white",
            "linecolor": "white",
            "ticks": ""
           },
           "baxis": {
            "gridcolor": "white",
            "linecolor": "white",
            "ticks": ""
           },
           "bgcolor": "#E5ECF6",
           "caxis": {
            "gridcolor": "white",
            "linecolor": "white",
            "ticks": ""
           }
          },
          "title": {
           "x": 0.05
          },
          "xaxis": {
           "automargin": true,
           "gridcolor": "white",
           "linecolor": "white",
           "ticks": "",
           "title": {
            "standoff": 15
           },
           "zerolinecolor": "white",
           "zerolinewidth": 2
          },
          "yaxis": {
           "automargin": true,
           "gridcolor": "white",
           "linecolor": "white",
           "ticks": "",
           "title": {
            "standoff": 15
           },
           "zerolinecolor": "white",
           "zerolinewidth": 2
          }
         }
        },
        "title": {
         "text": "Extended Overall Record Comparison - Top 100 Players"
        },
        "xaxis": {
         "title": {
          "text": "Player"
         }
        },
        "yaxis": {
         "title": {
          "text": "Points"
         }
        }
       }
      }
     },
     "metadata": {},
     "output_type": "display_data"
    }
   ],
   "source": [
    "import plotly.graph_objects as go\n",
    "\n",
    "# Sum all columns to get the total score\n",
    "outDf['Total'] = outDf.sum(axis=1)\n",
    "\n",
    "outDf = remove_duplicate_columns(outDf)\n",
    "\n",
    "# Sort by total score and fill N/A values with 0\n",
    "outDf = outDf.sort_values(by='Total', ascending=False).fillna(0)\n",
    "\n",
    "# Crop to top 10 players\n",
    "cropDf = outDf.head(100).copy()\n",
    "\n",
    "# Drop the 'Total' column for plotting\n",
    "cropDf = cropDf.drop(columns=['Total'])\n",
    "\n",
    "# Create a color palette\n",
    "color_palette = px.colors.qualitative.Safe\n",
    "\n",
    "# Create the stacked bar plot\n",
    "fig = go.Figure()\n",
    "\n",
    "cropDf = remove_duplicate_columns(cropDf)\n",
    "\n",
    "for column in cropDf.columns.difference(['Player']):\n",
    "    fig.add_trace(go.Bar(\n",
    "        x=cropDf['Player'],\n",
    "        y=cropDf[column],\n",
    "        name=column,\n",
    "        marker_color=color_palette[len(fig.data) % len(color_palette)]\n",
    "    ))\n",
    "\n",
    "# Update layout\n",
    "fig.update_layout(\n",
    "    barmode='stack',\n",
    "    title='Extended Overall Record Comparison - Top 100 Players',\n",
    "    xaxis=dict(title='Player'),\n",
    "    yaxis=dict(title='Points'),\n",
    "    #height=800,\n",
    "    #width=1000,\n",
    "    legend=dict(\n",
    "        x=1.05,\n",
    "        y=0.5,\n",
    "        traceorder='normal',\n",
    "        font=dict(size=12),\n",
    "        bgcolor='rgba(255, 255, 255, 0)',\n",
    "        bordercolor='rgba(0, 0, 0, 0)'\n",
    "    ),\n",
    "    margin=dict(r=200),  # Adjust right margin to make room for the legend\n",
    "    annotations=[\n",
    "        dict(\n",
    "            x=0.5,\n",
    "            y=1.1635,\n",
    "            xref='paper',\n",
    "            yref='paper',\n",
    "            text='Max 100 points per minigame. Records #1 through #10 of games & maps in the active pool are considered (#1: 100, #2: 90, ..., #10: 10). If a minigame has multiple maps, the 100 points are distributed equally. fflopse.github.io/MCP-Records/data-analysis/global-ranking.ipynb',\n",
    "            showarrow=False,\n",
    "            font=dict(size=12),\n",
    "            xanchor='center'\n",
    "        )\n",
    "    ]\n",
    ")\n",
    "\n",
    "fig.show()\n",
    "\n",
    "# save the plot as an html file\n",
    "\n",
    "fig.write_html('out/full_overall_record_comparison.html')"
   ]
  },
  {
   "cell_type": "code",
   "execution_count": null,
   "metadata": {},
   "outputs": [],
   "source": []
  },
  {
   "cell_type": "code",
   "execution_count": null,
   "metadata": {},
   "outputs": [],
   "source": []
  },
  {
   "cell_type": "code",
   "execution_count": 216,
   "metadata": {},
   "outputs": [
    {
     "data": {
      "text/html": [
       "<div>\n",
       "<style scoped>\n",
       "    .dataframe tbody tr th:only-of-type {\n",
       "        vertical-align: middle;\n",
       "    }\n",
       "\n",
       "    .dataframe tbody tr th {\n",
       "        vertical-align: top;\n",
       "    }\n",
       "\n",
       "    .dataframe thead th {\n",
       "        text-align: right;\n",
       "    }\n",
       "</style>\n",
       "<table border=\"1\" class=\"dataframe\">\n",
       "  <thead>\n",
       "    <tr style=\"text-align: right;\">\n",
       "      <th></th>\n",
       "      <th>Sammelwahn</th>\n",
       "      <th>Schießstand</th>\n",
       "      <th>Mauerfall</th>\n",
       "      <th>Mini Survivalgames</th>\n",
       "      <th>Lasertag</th>\n",
       "      <th>Minengefecht</th>\n",
       "      <th>Einer im Köcher</th>\n",
       "      <th>Spleef</th>\n",
       "      <th>Buntes Chaos</th>\n",
       "      <th>Reihenfolge</th>\n",
       "      <th>...</th>\n",
       "      <th>Ampelrennen</th>\n",
       "      <th>Hoch hinaus</th>\n",
       "      <th>Frostiger Pfad</th>\n",
       "      <th>Runterpurzeln</th>\n",
       "      <th>Total</th>\n",
       "      <th>Parkour</th>\n",
       "      <th>Survivalgames</th>\n",
       "      <th>Skywars</th>\n",
       "      <th>Paintball</th>\n",
       "      <th>Blockhüpfer</th>\n",
       "    </tr>\n",
       "  </thead>\n",
       "  <tbody>\n",
       "    <tr>\n",
       "      <th>Allooy</th>\n",
       "      <td>21.025641</td>\n",
       "      <td>10.0</td>\n",
       "      <td>12.857143</td>\n",
       "      <td>0.0</td>\n",
       "      <td>0.000000</td>\n",
       "      <td>22.50</td>\n",
       "      <td>50.0</td>\n",
       "      <td>100.0</td>\n",
       "      <td>100.0</td>\n",
       "      <td>0.0</td>\n",
       "      <td>...</td>\n",
       "      <td>0.0</td>\n",
       "      <td>80.0</td>\n",
       "      <td>0.0</td>\n",
       "      <td>60.0</td>\n",
       "      <td>165249.492674</td>\n",
       "      <td>82.5</td>\n",
       "      <td>52.5</td>\n",
       "      <td>20.000000</td>\n",
       "      <td>0.0</td>\n",
       "      <td>80.0</td>\n",
       "    </tr>\n",
       "    <tr>\n",
       "      <th>cediiiiii_10</th>\n",
       "      <td>41.538462</td>\n",
       "      <td>47.5</td>\n",
       "      <td>37.142857</td>\n",
       "      <td>0.0</td>\n",
       "      <td>10.000000</td>\n",
       "      <td>35.00</td>\n",
       "      <td>10.0</td>\n",
       "      <td>70.0</td>\n",
       "      <td>100.0</td>\n",
       "      <td>0.0</td>\n",
       "      <td>...</td>\n",
       "      <td>10.0</td>\n",
       "      <td>20.0</td>\n",
       "      <td>0.0</td>\n",
       "      <td>80.0</td>\n",
       "      <td>154702.584249</td>\n",
       "      <td>27.5</td>\n",
       "      <td>45.0</td>\n",
       "      <td>56.666667</td>\n",
       "      <td>0.0</td>\n",
       "      <td>0.0</td>\n",
       "    </tr>\n",
       "    <tr>\n",
       "      <th>_n3d</th>\n",
       "      <td>17.692308</td>\n",
       "      <td>10.0</td>\n",
       "      <td>14.285714</td>\n",
       "      <td>0.0</td>\n",
       "      <td>30.000000</td>\n",
       "      <td>13.75</td>\n",
       "      <td>4.0</td>\n",
       "      <td>90.0</td>\n",
       "      <td>100.0</td>\n",
       "      <td>0.0</td>\n",
       "      <td>...</td>\n",
       "      <td>15.0</td>\n",
       "      <td>0.0</td>\n",
       "      <td>0.0</td>\n",
       "      <td>30.0</td>\n",
       "      <td>119704.873626</td>\n",
       "      <td>15.0</td>\n",
       "      <td>7.5</td>\n",
       "      <td>26.666667</td>\n",
       "      <td>0.0</td>\n",
       "      <td>40.0</td>\n",
       "    </tr>\n",
       "    <tr>\n",
       "      <th>qriezmannsOpa</th>\n",
       "      <td>7.179487</td>\n",
       "      <td>42.5</td>\n",
       "      <td>0.000000</td>\n",
       "      <td>0.0</td>\n",
       "      <td>35.000000</td>\n",
       "      <td>10.00</td>\n",
       "      <td>0.0</td>\n",
       "      <td>90.0</td>\n",
       "      <td>50.0</td>\n",
       "      <td>0.0</td>\n",
       "      <td>...</td>\n",
       "      <td>0.0</td>\n",
       "      <td>0.0</td>\n",
       "      <td>0.0</td>\n",
       "      <td>70.0</td>\n",
       "      <td>116560.782051</td>\n",
       "      <td>42.5</td>\n",
       "      <td>22.5</td>\n",
       "      <td>30.000000</td>\n",
       "      <td>0.0</td>\n",
       "      <td>0.0</td>\n",
       "    </tr>\n",
       "    <tr>\n",
       "      <th>Muniix</th>\n",
       "      <td>11.025641</td>\n",
       "      <td>25.0</td>\n",
       "      <td>24.285714</td>\n",
       "      <td>0.0</td>\n",
       "      <td>16.666667</td>\n",
       "      <td>10.00</td>\n",
       "      <td>4.0</td>\n",
       "      <td>70.0</td>\n",
       "      <td>100.0</td>\n",
       "      <td>0.0</td>\n",
       "      <td>...</td>\n",
       "      <td>0.0</td>\n",
       "      <td>0.0</td>\n",
       "      <td>0.0</td>\n",
       "      <td>100.0</td>\n",
       "      <td>116531.540293</td>\n",
       "      <td>32.5</td>\n",
       "      <td>72.5</td>\n",
       "      <td>33.333333</td>\n",
       "      <td>0.0</td>\n",
       "      <td>0.0</td>\n",
       "    </tr>\n",
       "    <tr>\n",
       "      <th>...</th>\n",
       "      <td>...</td>\n",
       "      <td>...</td>\n",
       "      <td>...</td>\n",
       "      <td>...</td>\n",
       "      <td>...</td>\n",
       "      <td>...</td>\n",
       "      <td>...</td>\n",
       "      <td>...</td>\n",
       "      <td>...</td>\n",
       "      <td>...</td>\n",
       "      <td>...</td>\n",
       "      <td>...</td>\n",
       "      <td>...</td>\n",
       "      <td>...</td>\n",
       "      <td>...</td>\n",
       "      <td>...</td>\n",
       "      <td>...</td>\n",
       "      <td>...</td>\n",
       "      <td>...</td>\n",
       "      <td>...</td>\n",
       "      <td>...</td>\n",
       "    </tr>\n",
       "    <tr>\n",
       "      <th>JayMinInSane</th>\n",
       "      <td>0.000000</td>\n",
       "      <td>0.0</td>\n",
       "      <td>0.000000</td>\n",
       "      <td>0.0</td>\n",
       "      <td>0.000000</td>\n",
       "      <td>0.00</td>\n",
       "      <td>0.0</td>\n",
       "      <td>0.0</td>\n",
       "      <td>0.0</td>\n",
       "      <td>0.0</td>\n",
       "      <td>...</td>\n",
       "      <td>0.0</td>\n",
       "      <td>0.0</td>\n",
       "      <td>0.0</td>\n",
       "      <td>0.0</td>\n",
       "      <td>0.000000</td>\n",
       "      <td>0.0</td>\n",
       "      <td>0.0</td>\n",
       "      <td>0.000000</td>\n",
       "      <td>0.0</td>\n",
       "      <td>0.0</td>\n",
       "    </tr>\n",
       "    <tr>\n",
       "      <th>G0at3D</th>\n",
       "      <td>0.000000</td>\n",
       "      <td>0.0</td>\n",
       "      <td>0.000000</td>\n",
       "      <td>0.0</td>\n",
       "      <td>0.000000</td>\n",
       "      <td>0.00</td>\n",
       "      <td>0.0</td>\n",
       "      <td>0.0</td>\n",
       "      <td>0.0</td>\n",
       "      <td>0.0</td>\n",
       "      <td>...</td>\n",
       "      <td>0.0</td>\n",
       "      <td>0.0</td>\n",
       "      <td>0.0</td>\n",
       "      <td>0.0</td>\n",
       "      <td>0.000000</td>\n",
       "      <td>0.0</td>\n",
       "      <td>0.0</td>\n",
       "      <td>0.000000</td>\n",
       "      <td>0.0</td>\n",
       "      <td>0.0</td>\n",
       "    </tr>\n",
       "    <tr>\n",
       "      <th>Anni808</th>\n",
       "      <td>0.000000</td>\n",
       "      <td>0.0</td>\n",
       "      <td>0.000000</td>\n",
       "      <td>0.0</td>\n",
       "      <td>0.000000</td>\n",
       "      <td>0.00</td>\n",
       "      <td>0.0</td>\n",
       "      <td>0.0</td>\n",
       "      <td>0.0</td>\n",
       "      <td>0.0</td>\n",
       "      <td>...</td>\n",
       "      <td>0.0</td>\n",
       "      <td>0.0</td>\n",
       "      <td>0.0</td>\n",
       "      <td>0.0</td>\n",
       "      <td>0.000000</td>\n",
       "      <td>0.0</td>\n",
       "      <td>0.0</td>\n",
       "      <td>0.000000</td>\n",
       "      <td>0.0</td>\n",
       "      <td>0.0</td>\n",
       "    </tr>\n",
       "    <tr>\n",
       "      <th>Kopfradio</th>\n",
       "      <td>0.000000</td>\n",
       "      <td>0.0</td>\n",
       "      <td>0.000000</td>\n",
       "      <td>0.0</td>\n",
       "      <td>0.000000</td>\n",
       "      <td>0.00</td>\n",
       "      <td>0.0</td>\n",
       "      <td>0.0</td>\n",
       "      <td>0.0</td>\n",
       "      <td>0.0</td>\n",
       "      <td>...</td>\n",
       "      <td>0.0</td>\n",
       "      <td>0.0</td>\n",
       "      <td>0.0</td>\n",
       "      <td>0.0</td>\n",
       "      <td>0.000000</td>\n",
       "      <td>0.0</td>\n",
       "      <td>0.0</td>\n",
       "      <td>0.000000</td>\n",
       "      <td>0.0</td>\n",
       "      <td>0.0</td>\n",
       "    </tr>\n",
       "    <tr>\n",
       "      <th>SmartyxD</th>\n",
       "      <td>0.000000</td>\n",
       "      <td>0.0</td>\n",
       "      <td>0.000000</td>\n",
       "      <td>0.0</td>\n",
       "      <td>0.000000</td>\n",
       "      <td>0.00</td>\n",
       "      <td>0.0</td>\n",
       "      <td>0.0</td>\n",
       "      <td>0.0</td>\n",
       "      <td>0.0</td>\n",
       "      <td>...</td>\n",
       "      <td>0.0</td>\n",
       "      <td>0.0</td>\n",
       "      <td>0.0</td>\n",
       "      <td>0.0</td>\n",
       "      <td>0.000000</td>\n",
       "      <td>0.0</td>\n",
       "      <td>0.0</td>\n",
       "      <td>0.000000</td>\n",
       "      <td>0.0</td>\n",
       "      <td>0.0</td>\n",
       "    </tr>\n",
       "  </tbody>\n",
       "</table>\n",
       "<p>228 rows × 33 columns</p>\n",
       "</div>"
      ],
      "text/plain": [
       "               Sammelwahn  Schießstand  Mauerfall  Mini Survivalgames  \\\n",
       "Allooy          21.025641         10.0  12.857143                 0.0   \n",
       "cediiiiii_10    41.538462         47.5  37.142857                 0.0   \n",
       "_n3d            17.692308         10.0  14.285714                 0.0   \n",
       "qriezmannsOpa    7.179487         42.5   0.000000                 0.0   \n",
       "Muniix          11.025641         25.0  24.285714                 0.0   \n",
       "...                   ...          ...        ...                 ...   \n",
       "JayMinInSane     0.000000          0.0   0.000000                 0.0   \n",
       "G0at3D           0.000000          0.0   0.000000                 0.0   \n",
       "Anni808          0.000000          0.0   0.000000                 0.0   \n",
       "Kopfradio        0.000000          0.0   0.000000                 0.0   \n",
       "SmartyxD         0.000000          0.0   0.000000                 0.0   \n",
       "\n",
       "                Lasertag  Minengefecht  Einer im Köcher  Spleef  Buntes Chaos  \\\n",
       "Allooy          0.000000         22.50             50.0   100.0         100.0   \n",
       "cediiiiii_10   10.000000         35.00             10.0    70.0         100.0   \n",
       "_n3d           30.000000         13.75              4.0    90.0         100.0   \n",
       "qriezmannsOpa  35.000000         10.00              0.0    90.0          50.0   \n",
       "Muniix         16.666667         10.00              4.0    70.0         100.0   \n",
       "...                  ...           ...              ...     ...           ...   \n",
       "JayMinInSane    0.000000          0.00              0.0     0.0           0.0   \n",
       "G0at3D          0.000000          0.00              0.0     0.0           0.0   \n",
       "Anni808         0.000000          0.00              0.0     0.0           0.0   \n",
       "Kopfradio       0.000000          0.00              0.0     0.0           0.0   \n",
       "SmartyxD        0.000000          0.00              0.0     0.0           0.0   \n",
       "\n",
       "               Reihenfolge  ...  Ampelrennen  Hoch hinaus  Frostiger Pfad  \\\n",
       "Allooy                 0.0  ...          0.0         80.0             0.0   \n",
       "cediiiiii_10           0.0  ...         10.0         20.0             0.0   \n",
       "_n3d                   0.0  ...         15.0          0.0             0.0   \n",
       "qriezmannsOpa          0.0  ...          0.0          0.0             0.0   \n",
       "Muniix                 0.0  ...          0.0          0.0             0.0   \n",
       "...                    ...  ...          ...          ...             ...   \n",
       "JayMinInSane           0.0  ...          0.0          0.0             0.0   \n",
       "G0at3D                 0.0  ...          0.0          0.0             0.0   \n",
       "Anni808                0.0  ...          0.0          0.0             0.0   \n",
       "Kopfradio              0.0  ...          0.0          0.0             0.0   \n",
       "SmartyxD               0.0  ...          0.0          0.0             0.0   \n",
       "\n",
       "               Runterpurzeln          Total  Parkour  Survivalgames  \\\n",
       "Allooy                  60.0  165249.492674     82.5           52.5   \n",
       "cediiiiii_10            80.0  154702.584249     27.5           45.0   \n",
       "_n3d                    30.0  119704.873626     15.0            7.5   \n",
       "qriezmannsOpa           70.0  116560.782051     42.5           22.5   \n",
       "Muniix                 100.0  116531.540293     32.5           72.5   \n",
       "...                      ...            ...      ...            ...   \n",
       "JayMinInSane             0.0       0.000000      0.0            0.0   \n",
       "G0at3D                   0.0       0.000000      0.0            0.0   \n",
       "Anni808                  0.0       0.000000      0.0            0.0   \n",
       "Kopfradio                0.0       0.000000      0.0            0.0   \n",
       "SmartyxD                 0.0       0.000000      0.0            0.0   \n",
       "\n",
       "                 Skywars  Paintball  Blockhüpfer  \n",
       "Allooy         20.000000        0.0         80.0  \n",
       "cediiiiii_10   56.666667        0.0          0.0  \n",
       "_n3d           26.666667        0.0         40.0  \n",
       "qriezmannsOpa  30.000000        0.0          0.0  \n",
       "Muniix         33.333333        0.0          0.0  \n",
       "...                  ...        ...          ...  \n",
       "JayMinInSane    0.000000        0.0          0.0  \n",
       "G0at3D          0.000000        0.0          0.0  \n",
       "Anni808         0.000000        0.0          0.0  \n",
       "Kopfradio       0.000000        0.0          0.0  \n",
       "SmartyxD        0.000000        0.0          0.0  \n",
       "\n",
       "[228 rows x 33 columns]"
      ]
     },
     "execution_count": 216,
     "metadata": {},
     "output_type": "execute_result"
    }
   ],
   "source": [
    "outDf"
   ]
  },
  {
   "cell_type": "code",
   "execution_count": null,
   "metadata": {},
   "outputs": [],
   "source": []
  },
  {
   "cell_type": "code",
   "execution_count": null,
   "metadata": {},
   "outputs": [],
   "source": []
  },
  {
   "cell_type": "code",
   "execution_count": null,
   "metadata": {},
   "outputs": [],
   "source": []
  }
 ],
 "metadata": {
  "kernelspec": {
   "display_name": ".venv",
   "language": "python",
   "name": "python3"
  },
  "language_info": {
   "codemirror_mode": {
    "name": "ipython",
    "version": 3
   },
   "file_extension": ".py",
   "mimetype": "text/x-python",
   "name": "python",
   "nbconvert_exporter": "python",
   "pygments_lexer": "ipython3",
   "version": "3.9.6"
  }
 },
 "nbformat": 4,
 "nbformat_minor": 2
}
