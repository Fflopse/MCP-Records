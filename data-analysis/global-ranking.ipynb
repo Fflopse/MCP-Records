{
 "cells": [
  {
   "cell_type": "code",
   "execution_count": 1,
   "metadata": {},
   "outputs": [],
   "source": [
    "import pandas as pd\n",
    "import numpy as np\n",
    "from collections import defaultdict\n",
    "\n",
    "def merge_duplicate_columns(df):\n",
    "    \"\"\"\n",
    "    Merges columns that are duplicates following the pattern:\n",
    "    - Base column (e.g., \"Oasis\")\n",
    "    - Kill variant (e.g., \"Kill Oasis\") \n",
    "    - Kills variant (e.g., \"Kills Oasis\")\n",
    "    \n",
    "    Priority: Base > Kills > Kill (first non-null value wins)\n",
    "    \"\"\"\n",
    "    df = df.copy()\n",
    "    column_groups = defaultdict(list)\n",
    "    \n",
    "    for col in df.columns:\n",
    "        if col.startswith(\"Kill \"):\n",
    "            base_name = col[5:]\n",
    "            column_groups[base_name].append((\"kill\", col))\n",
    "        elif col.startswith(\"Kills \"):\n",
    "            base_name = col[6:]\n",
    "            column_groups[base_name].append((\"kills\", col))\n",
    "        else:\n",
    "            column_groups[col].append((\"base\", col))\n",
    "    \n",
    "    columns_to_drop = []\n",
    "    \n",
    "    for base_name, variants in column_groups.items():\n",
    "        if len(variants) > 1:\n",
    "            base_col = None\n",
    "            kills_col = None\n",
    "            kill_col = None\n",
    "            \n",
    "            for variant_type, col_name in variants:\n",
    "                if variant_type == \"base\":\n",
    "                    base_col = col_name\n",
    "                elif variant_type == \"kills\":\n",
    "                    kills_col = col_name\n",
    "                elif variant_type == \"kill\":\n",
    "                    kill_col = col_name\n",
    "            \n",
    "            target_col = base_col or kills_col or kill_col\n",
    "            \n",
    "            for variant_type, col_name in variants:\n",
    "                if col_name != target_col:\n",
    "                    df[col_name] = df[col_name].replace(0, np.nan)\n",
    "            \n",
    "            if base_col and base_col != target_col:\n",
    "                df[base_col] = df[base_col].replace(0, np.nan)\n",
    "            \n",
    "            merge_order = []\n",
    "            if base_col: merge_order.append(base_col)\n",
    "            if kills_col: merge_order.append(kills_col)  \n",
    "            if kill_col: merge_order.append(kill_col)\n",
    "            \n",
    "            if len(merge_order) > 1:\n",
    "                for i in range(1, len(merge_order)):\n",
    "                    df[merge_order[0]] = df[merge_order[0]].fillna(df[merge_order[i]])\n",
    "                    columns_to_drop.append(merge_order[i])\n",
    "    \n",
    "    df.drop(columns=columns_to_drop, inplace=True, errors='ignore')\n",
    "    return df"
   ]
  },
  {
   "cell_type": "code",
   "execution_count": 2,
   "metadata": {},
   "outputs": [
    {
     "data": {
      "text/plain": [
       "'\\n    Each Minigame may yield a total of 100 points per player. \\n    Records #1 through #10 are considered \\n\\n    If a minigame has multiple maps, the 100 points are distributed equally. For Sammelwahn and Replika, the sum over all records is considered solely. \\n\\n    E.g. Frozen Path (1 Map Minigame)\\n    #1 player: 100 points\\n    #2 player: 90 points\\n    #3 player: 80 points\\n    ...\\n    #10 player: 10 points\\n\\n    E.g. Schießstand (3 Map Minigame)\\n    Map 1: \\n    #1 player: 100/3 (33.333) points\\n    #2 player: 90/3 (30) points\\n    ...\\n    Map 2:\\n    #1 player: 100/3 (33.333) points\\n    #2 player: 90/3 (30) points\\n    ...\\n    Map 3:\\n    #1 player: 100/3 (33.333) points\\n    #2 player: 90/3 (30) points\\n    ...\\n\\n    E.g. Speed Race (5 Map Minigame)\\n    Map 1:\\n    #1 player: 100/5 (20) points\\n    #2 player: 90/5 (18) points\\n    ...\\n    Map 2:\\n    #1 player: 100/5 (20) points\\n    #2 player: 90/5 (18) points\\n    ...\\n\\n    Thus, a player holding #1 records in a minigame will always be assigned 100 points. \\n'"
      ]
     },
     "execution_count": 2,
     "metadata": {},
     "output_type": "execute_result"
    }
   ],
   "source": [
    "# figuring out the best player over all minigames \n",
    "\n",
    "'''\n",
    "    Each Minigame may yield a total of 100 points per player. \n",
    "    Records #1 through #10 are considered \n",
    "\n",
    "    If a minigame has multiple maps, the 100 points are distributed equally. For Sammelwahn and Replika, the sum over all records is considered solely. \n",
    "\n",
    "    E.g. Frozen Path (1 Map Minigame)\n",
    "    #1 player: 100 points\n",
    "    #2 player: 90 points\n",
    "    #3 player: 80 points\n",
    "    ...\n",
    "    #10 player: 10 points\n",
    "\n",
    "    E.g. Schießstand (3 Map Minigame)\n",
    "    Map 1: \n",
    "    #1 player: 100/3 (33.333) points\n",
    "    #2 player: 90/3 (30) points\n",
    "    ...\n",
    "    Map 2:\n",
    "    #1 player: 100/3 (33.333) points\n",
    "    #2 player: 90/3 (30) points\n",
    "    ...\n",
    "    Map 3:\n",
    "    #1 player: 100/3 (33.333) points\n",
    "    #2 player: 90/3 (30) points\n",
    "    ...\n",
    "\n",
    "    E.g. Speed Race (5 Map Minigame)\n",
    "    Map 1:\n",
    "    #1 player: 100/5 (20) points\n",
    "    #2 player: 90/5 (18) points\n",
    "    ...\n",
    "    Map 2:\n",
    "    #1 player: 100/5 (20) points\n",
    "    #2 player: 90/5 (18) points\n",
    "    ...\n",
    "\n",
    "    Thus, a player holding #1 records in a minigame will always be assigned 100 points. \n",
    "'''"
   ]
  },
  {
   "cell_type": "code",
   "execution_count": 3,
   "metadata": {},
   "outputs": [],
   "source": [
    "def remove_duplicate_columns(df):\n",
    "    \"\"\"\n",
    "    Removes duplicate columns from DataFrame.\n",
    "    Keeps the first occurrence of each duplicate column.\n",
    "    \"\"\"\n",
    "    df = df.loc[:, ~df.columns.duplicated()]\n",
    "    return df"
   ]
  },
  {
   "cell_type": "code",
   "execution_count": 4,
   "metadata": {},
   "outputs": [],
   "source": [
    "import os\n",
    "import re \n",
    "import pandas as pd\n",
    "import seaborn as sns \n",
    "import numpy as np \n",
    "\n",
    "pointMiniGames = \"Sammelwahn, Schießstand, Mauerfall, Survivalgames, Skywars, Lasertag, Minengefecht, Einer im Köcher, Paintball, Spleef, Buntes Chaos, Reihenfolge, Duelle, Turmroulette\" \n",
    "timeMiniGames = \"Wettrennen, Parkour, Pferderennen, Drachenflucht, Replika, Blockhüpfer, Todeswürfel, Freier Fall, Elytrarennen, Waffenfolge, Minenfeld, Kletterkönig, Ampelrennen, Hoch hinaus, Frostiger Pfad, Runterpurzeln, Blockhüpfer\"\n",
    "\n",
    "def getPlayerPaths():\n",
    "    file_list = os.listdir('in-new')\n",
    "    print(file_list)\n",
    "    return file_list\n",
    "\n",
    "def read_file(file):\n",
    "    try:\n",
    "        with open('in-new/' + file, 'r', encoding='utf-8') as f:\n",
    "            data = f.read()\n",
    "    except UnicodeDecodeError:\n",
    "        # print(f'Error: {file} contains invalid characters for UTF-8. Trying with latin-1.')\n",
    "        try:\n",
    "            with open('in-new/' + file, 'r', encoding='latin-1') as f:\n",
    "                data = f.read()\n",
    "        except Exception as e:\n",
    "            print(f'Error: Could not read {file} with latin-1 encoding. {e}')\n",
    "            return None\n",
    "    except FileNotFoundError:\n",
    "        print(f'Error: {file} not found.')\n",
    "        return None\n",
    "    except Exception as e:\n",
    "        print(f'Error: An unexpected error occurred while reading {file}. {e}')\n",
    "        return None\n",
    "\n",
    "    if \"TooltipEvent\" not in data:\n",
    "        print(f'Error: {file} does not contain any TooltipEvent data')\n",
    "        return None\n",
    "    else:\n",
    "        data = data.replace('TooltipEvent, ', '')\n",
    "    \n",
    "    return data\n",
    "\n",
    "\n",
    "def getRecordData(playerPath, minigame):\n",
    "    # if read_file(playerPath) is None: return None\n",
    "\n",
    "    try: \n",
    "        data = read_file(playerPath).split('\\n')\n",
    "        for line in data: \n",
    "            if minigame in line: \n",
    "                minigameData = line\n",
    "                minigameData = minigameData.replace(minigame, '').strip()\n",
    "                return minigameData  # return the data instead of printing it\n",
    "    except: return None\n",
    "\n",
    "\n",
    "def create_dataframe(input_string, minigame):\n",
    "\n",
    "    # Define regular expression pattern to match map names and times\n",
    "    pattern = r'(\\w+\\s?\\w+)\\s*:\\s*(?:(\\d+)\\s*min\\s*)?(?:(\\d+)\\s*s\\s*)?(\\d+)\\s*ms'\n",
    "\n",
    "    # Find all matches in the input string\n",
    "    try: matches = re.findall(pattern, input_string)\n",
    "    except: matches = None\n",
    "\n",
    "    # Initialize data dictionary to store map names and times\n",
    "    data = {}\n",
    "\n",
    "    # Iterate over matches and populate data dictionary\n",
    "    if matches: \n",
    "        for match in matches:\n",
    "            map_name = match[0]\n",
    "            minutes = int(match[1] or 0)\n",
    "            seconds = int(match[2] or 0) + int(match[3]) / 1000\n",
    "            time_seconds = minutes * 60 + seconds\n",
    "            data[map_name] = time_seconds\n",
    "    else: return pd.DataFrame()\n",
    "\n",
    "    # Create DataFrame from data dictionary\n",
    "    df = pd.DataFrame(data, index=[0])\n",
    "\n",
    "\n",
    "    return df\n",
    "\n",
    "def createPointDataframe(input_string, minigame):\n",
    "    # Define regular expression pattern to match map names and times\n",
    "    pattern = r'(\\w+\\s?\\w+)\\s*:\\s*(\\d+)'\n",
    "\n",
    "    # Find all matches in the input string\n",
    "    matches = re.findall(pattern, input_string)\n",
    "\n",
    "    # Initialize data dictionary to store map names and times\n",
    "    data = {}\n",
    "\n",
    "    # Iterate over matches and populate data dictionary\n",
    "    for match in matches:\n",
    "        map_name = match[0]\n",
    "        time_value = int(match[1])\n",
    "        data[map_name] = time_value\n",
    "\n",
    "    # Create DataFrame from data dictionary\n",
    "    df = pd.DataFrame(data, index=[0])\n",
    "    return df.fillna(0)\n",
    "\n",
    "def getRecordsDataframe(minigame='Wettrennen', save=False, log=False, html=False, rank=True):\n",
    "\n",
    "    paths = getPlayerPaths()\n",
    "\n",
    "    outDf = pd.DataFrame()\n",
    "\n",
    "    if log:\n",
    "        print(f'processing {minigame}...')\n",
    "\n",
    "    if minigame in pointMiniGames: \n",
    "        pass\n",
    "    elif minigame in timeMiniGames:\n",
    "        pass\n",
    "    else: \n",
    "        ValueError('Not a valid minigame name')\n",
    "\n",
    "    for i in paths:\n",
    "        if minigame in timeMiniGames:\n",
    "            df = create_dataframe(getRecordData(playerPath=i, minigame=minigame), minigame)\n",
    "\n",
    "        if minigame in pointMiniGames:\n",
    "            try: \n",
    "                df = createPointDataframe(getRecordData(playerPath=i, minigame=minigame), minigame)\n",
    "                df.fillna(0, inplace=True)\n",
    "            except: \n",
    "                continue\n",
    "\n",
    "        if df is not None:  \n",
    "            df.index = [i.replace('.txt', '')]\n",
    "            outDf = pd.concat([outDf, df])\n",
    "\n",
    "    outPath = 'out/' + minigame + '.json'\n",
    "\n",
    "    '''\n",
    "        Minigame Specific changes to the df\n",
    "    '''\n",
    "\n",
    "    if (\"Replika\" in minigame): \n",
    "\n",
    "        replikaDf = outDf \n",
    "\n",
    "        # fillNa columns without \"ms\" with values from \"ms\", e.g. ms Arrow -> Arrow, then drop \"ms\" columns\n",
    "\n",
    "        try:\n",
    "            replikaDf[\"Arrow\"] = replikaDf[\"Arrow\"].fillna(replikaDf[\"ms Arrow\"])\n",
    "            replikaDf[\"Cow\"] = replikaDf[\"Cow\"].fillna(replikaDf[\"ms Cow\"])\n",
    "            replikaDf[\"Deadpool\"] = replikaDf[\"Deadpool\"].fillna(replikaDf[\"ms Deadpool\"])\n",
    "            replikaDf[\"Doge\"] = replikaDf[\"Doge\"].fillna(replikaDf[\"ms Doge\"])\n",
    "            replikaDf[\"Sonic\"] = replikaDf[\"Sonic\"].fillna(replikaDf[\"ms Sonic\"])\n",
    "\n",
    "            replikaDf.drop(columns=[\"ms Arrow\", \"ms Cow\", \"ms Deadpool\", \"ms Doge\", \"ms Sonic\"], inplace=True)\n",
    "        except: print(\"Warning, >ms< columns not found in ReplikaDf\")\n",
    "\n",
    "        replikaDf.fillna(25, inplace=True) # assigning a value to a never-played-before pattern, 17 perturbs worse player order and alt account stats lol, 27 is probably too much, difficult to choose an appropriate value here\n",
    "        row_sums = replikaDf.sum(axis=1)\n",
    "        \n",
    "        # Append the sum as a new column\n",
    "        replikaDf['Sum'] = row_sums\n",
    "\n",
    "        # Re-indexing\n",
    "        replikaDf = replikaDf.reindex(sorted(replikaDf.columns), axis=1)\n",
    "    \n",
    "        # Move 'Sum' column to the first position\n",
    "        cols = replikaDf.columns.tolist()\n",
    "        cols = ['Sum'] + [col for col in cols if col != 'Sum']\n",
    "        replikaDf = replikaDf[cols]\n",
    "\n",
    "        # replace 25 values again with None\n",
    "        replikaDf = replikaDf.replace(25, np.nan)\n",
    "\n",
    "        # replikaDf = replikaDf.reindex(sorted(replikaDf.columns), axis=1)\n",
    "\n",
    "\n",
    "        # Removing player data with too many NaNs (players that haven't played most of the patterns)\n",
    "        # replikaDf = replikaDf.drop(columns=[\"Ritokii\", \"Feinberg\", \"Sebi1801\"])\n",
    "\n",
    "        outDf = replikaDf\n",
    "\n",
    "    if (\"Sammelwahn\" in minigame):\n",
    "\n",
    "            row_sums = outDf.sum(axis=1)\n",
    "\n",
    "            # Append the sum as a new column\n",
    "            outDf['Sum'] = row_sums\n",
    "\n",
    "            # Re-indexing\n",
    "            outDf = outDf.reindex(sorted(outDf.columns), axis=1)\n",
    "\n",
    "            # Move 'Sum' column to the first position\n",
    "            cols = outDf.columns.tolist()\n",
    "            cols = ['Sum'] + [col.lstrip() for col in cols if col != 'Sum']\n",
    "            outDf = outDf[cols]\n",
    "\n",
    "            # remove \"Punkte\" from all columns\n",
    "            outDf.columns = outDf.columns.str.replace('Punkte', '')\n",
    "\n",
    "    if (\"Lasertag\" in minigame):\n",
    "        outDf = merge_duplicate_columns(outDf)\n",
    "\n",
    "    if (\"Einer im Köcher\" in minigame):\n",
    "        outDf = merge_duplicate_columns(outDf)\n",
    "        \n",
    "    if (\"Paintball\" in minigame):\n",
    "        outDf = merge_duplicate_columns(outDf)\n",
    "\n",
    "    if (\"Skywars\" in minigame):\n",
    "        outDf = merge_duplicate_columns(outDf)\n",
    "\n",
    "    if (\"Survivalgames\" in minigame and True):\n",
    "        outDf = merge_duplicate_columns(outDf)\n",
    "\n",
    "    if (\"Minengefecht\" in minigame):\n",
    "        outDf = merge_duplicate_columns(outDf)\n",
    "\n",
    "    if (\"Mauerfall\" in minigame):\n",
    "        outDf = merge_duplicate_columns(outDf)\n",
    "\n",
    "    if (\"Schie\" in minigame):\n",
    "        outDf[\"Punkte City\"] = outDf[\"Punkte City\"].replace(0, np.nan)\n",
    "        outDf[\"City\"] = outDf[\"City\"].replace(0, np.nan)\n",
    "\n",
    "        outDf[\"temp1\"] = outDf[\"City\"].fillna(outDf[\"Punkte City\"])\n",
    "        try: outDf.drop(columns=[\"City\", \"Punkte City\"], inplace=True)\n",
    "        except: pass\n",
    "\n",
    "        outDf[\"City\"] = outDf[\"temp1\"]\n",
    "\n",
    "        outDf[\"Punkte Jungle\"] = outDf[\"Punkte Jungle\"].replace(0, np.nan)\n",
    "\n",
    "        outDf[\"temp1\"] = outDf[\"Punkte Jungle\"]\n",
    "        try: outDf.drop(columns=[\"Punkte Jungle\"], inplace=True)\n",
    "        except: pass\n",
    "\n",
    "        outDf[\"Jungle\"] = outDf[\"temp1\"]\n",
    "\n",
    "        outDf.drop(columns=[\"temp1\"], inplace=True)\n",
    "        \n",
    "    if (\"Frostiger\" in minigame): \n",
    "        # remove values bigger than 100 with nan\n",
    "        outDf = outDf.where(outDf < 100, np.nan)\n",
    "\n",
    "    if (\"Duel\" in minigame): \n",
    "        outDf = outDf.where(outDf > 10, 0.0)\n",
    "\n",
    "    if (\"Einer im Köcher\" in minigame):\n",
    "\n",
    "        try:\n",
    "            outDf[\"Tötung Asia\"] = outDf[\"Tötung Asia\"].replace(0, np.nan)\n",
    "            outDf[\"Asia\"] = outDf[\"Asia\"].replace(0, np.nan)\n",
    "\n",
    "            outDf[\"temp1\"] = outDf[\"Asia\"].fillna(outDf[\"Tötung Asia\"])\n",
    "            outDf.drop(columns=[\"Asia\", \"Tötung Asia\"], inplace=True)\n",
    "            \n",
    "            outDf[\"Asia\"] = outDf[\"temp1\"]\n",
    "\n",
    "            outDf.drop(columns=[\"temp1\"], inplace=True)\n",
    "        except: pass\n",
    "\n",
    "    if (\"Buntes\" in minigame):\n",
    "        outDf = outDf.fillna(0)\n",
    "        \n",
    "        outDf['temp1'] = outDf[\"Runden Cyberpunk\"].fillna(outDf[\"Cyberpunk\"])\n",
    "        outDf.drop(columns=[\"Runden Cyberpunk\", \"Cyberpunk\"], inplace=True)\n",
    "\n",
    "        outDf['Cyberpunk'] = outDf['temp1']\n",
    "\n",
    "        outDf.drop(columns=[\"temp1\"], inplace=True)\n",
    "\n",
    "    if (\"Pferd\" in minigame):\n",
    "        outDf[\"s Arena\"] = outDf[\"s Arena\"].replace(0, np.nan)\n",
    "        outDf[\"Wario's Arena\"] = outDf[\"s Arena\"]\n",
    "\n",
    "        outDf.drop(columns=[\"s Arena\"], inplace=True)\n",
    "\n",
    "\n",
    "    # Sorting columns alphabetically for any outDf except if minigame == \"Replika\" (sum column)\n",
    "    \n",
    "    if (\"Replika\" not in minigame):\n",
    "        if (\"Sammelwahn\" not in minigame):\n",
    "            outDf = outDf.reindex(sorted(outDf.columns), axis=1)\n",
    "\n",
    "\n",
    "\n",
    "\n",
    "    '''\n",
    "        debugging options\n",
    "    '''\n",
    "        \n",
    "    if save: \n",
    "        if \"Replika\" in minigame: \n",
    "            json_df = outDf.iloc[:, 1:]\n",
    "            json_df.T.to_json(outPath)\n",
    "        \n",
    "        else: outDf.T.to_json(outPath) \n",
    "\n",
    "    if log: \n",
    "        print(f'{minigame} processed')\n",
    "    \n",
    "    if rank: \n",
    "        if minigame in pointMiniGames: \n",
    "            outDf = outDf.rank(ascending=False, method='min', axis=0)\n",
    "        if minigame in timeMiniGames:\n",
    "            if \"Drache\" in minigame: \n",
    "                outDf = outDf.rank(ascending=False, method='min', axis=0)\n",
    "            else:\n",
    "                outDf = outDf.rank(ascending=True, method='min', axis=0)\n",
    "\n",
    "    if html == False: \n",
    "        return outDf"
   ]
  },
  {
   "cell_type": "code",
   "execution_count": 5,
   "metadata": {},
   "outputs": [
    {
     "name": "stdout",
     "output_type": "stream",
     "text": [
      "['__egE.txt', 'Tammywood.txt', 'BunnyKiko.txt', 'SpeckyCut.txt', 'sirmigorius.txt', 'Hyxeed.txt', 'demiu.txt', 'SpinCrafter.txt', 'NanamiElvi.txt', '_n3d.txt', 'Sebi1801.txt', 'AnzeigeGehtRaus.txt', 'JayMinInSane.txt', 'Persidieus.txt', 'N3XV.txt', 'Wissender.txt', 'Gryzes.txt', 'jimmi4Life.txt', 'Gobo9.txt', 'Anni808.txt', 'LeWi_100.txt', '_Waldi_.txt', 'Grapfen.txt', 'PixlNight.txt', 'dossantosaveiro_.txt', 'agowskyy.txt', 'TheBreadHD.txt', 'Axollotel.txt', 'T_Niko_T.txt', 'Vanillinchen.txt', 'Odlaa.txt', 'D4rkCookie.txt', 'yzvm.txt', 'Tim_Voltia.txt', 'xBaumeisterin.txt', 'Ungluecklicher.txt', 'Lutorix.txt', 'Ninivee.txt', 'ArthurAlchemist.txt', 'redbrll.txt', 'Gfrasti.txt', 'Muniix.txt', 'Tomiokey.txt', 'Carl1_1.txt', 'DerAutist.txt', 'PolizeiDreamy.txt', 'xX_Dima_ggg_Xx6.txt', 'CuzImKnxck.txt', 'Falke23_5.txt', 'yVendas.txt', 'TheFabo.txt', 'DieserBear.txt', 'SWLegende.txt', 'Picutar.txt', '2B9.txt', 'Otronix.txt', 'Schmaarek.txt', 'musi1999.txt', 'PumiTheCat.txt', 'HerrDante.txt', 'KakaMC.txt', 'StaudammAusHolz.txt', 'Lelouch610.txt', 'Kyuudo.txt', 'twitchparaskiill.txt', 'G0at3D.txt', 'SecretAgent_K.txt', 'KMaxN.txt', 'Sey__.txt', 'ForceFox.txt', 'toxicplace.txt', 'Gestimus.txt', 'yachayubin.txt', 'Wolkenfarmer.txt', 'y9nic.txt', 'KINT0.txt', 'zBro.txt', 'qriezmannsOpa.txt', 'Harold_Sensemann.txt', 'JustAnyy.txt', 'PedroZockt.txt', 'MrNulfred.txt', 'Cytoox.txt', 'IchHolzDichWeg.txt', 'GingerTeddy.txt', 'Kopfradio.txt', 'loukrativ.txt', 'M0osebumps.txt', 'SmartyxD.txt', 'Kokochampo.txt', 'JennieKim.txt', 'Umgfoin.txt', 'ffawks.txt', 'Proofreader.txt', 'byTobi.txt', 'Shiewk.txt', 'La_meleagro.txt', 'Squashgitter333.txt', 'Luxemburq.txt', 'DarkCobweb.txt', 'Sackkerl.txt', 'Sthyq.txt', 'Acidey.txt', 'Laaaachs.txt', 'HerosHD.txt', 'Lennart0911.txt', 'Nor_Malo.txt', 'Gerrygames.txt', 'BusinessBent.txt', 'Simlll.txt', 'YBCM.txt', 'Txlentierter.txt', 'Dat_Klan.txt', 'Luis_XYZ.txt', 'NiklasMoWo.txt', 'MaxMitMaulkorb.txt', 'Oronor.txt', 'GamemasterNiki.txt', 'LordAlexos.txt', 'Pluto28.txt', 'GrafikKatze.txt', '_Einfallslos_.txt', 'cediiiiii_10.txt', 'Dokkkkko.txt', 'deadfiight.txt', 'Kanickelul.txt', 'crocodile1870.txt', 'Sower_.txt', 'Steavn.txt', 'EinfachEazy.txt', 'yiiq.txt', 'NotLennart.txt', 'Snitcherella.txt', 'Keenaai.txt', 'xd_Maiky.txt', 'Kklopse.txt', 'xIForgotMySkill.txt', 'ReichesBrot.txt', 'lolisamasan.txt', 'Raefinzs.txt', 'JOW24.txt', 'ByNetherdude.txt', 'ZweitesIch.txt', 'frutigall.txt', 'LilFueller.txt', 'xiooh.txt', 'qMika.txt', 'rotmann2.txt', 'FlyingKyubi.txt', 'Joy_8oy.txt', 'BauHD.txt', 'CML_Justin.txt', 'MoZadaTV.txt', 'BastiGHG.txt', 'Gummibearchen.txt', 'Lord_Weibull.txt', 'Stockinqs.txt', 'GlowyDusk.txt', 'Scuprum.txt', 'h4nnes.txt', 'cheesecake2901.txt', 'DrSpeed06.txt', 'Krusti.txt', 'marbrueck.txt', 'Vacted.txt', 'Janne4k.txt', 'Bartschii.txt', 'Mansuni.txt', 'SB387.txt', 'medisant.txt', 'Phoenix3000.txt', 'JOW23.txt', 'Ritokii.txt', 'Juti0n.txt', 'lvlaurin.txt', 'Bikoop.txt', 'FrozenNoah.txt', 'GeneralEnte06.txt', 'Dubbly.txt', 'revolverz.txt', 'Highsay.txt', 'ScreamingBlatz.txt', 'RyanxCole.txt', 'shellny.txt', 'kfc_man069.txt', 'TheKillerisback.txt', 'M0orey_0.txt', 'Mincheeen.txt', '2wc.txt', 'Feinberg.txt', 'Navex.txt', 'NewNormal0947.txt', 'Teesily.txt', 'linastunna.txt', 'SiLoHB.txt', 'Morittz.txt', 'cxl1lo.txt', 'LeMetin_.txt', 'unausgesprochen.txt', 'Freeeedom.txt', 'miridis41.txt', 'zLachs.txt', 'Joe3346.txt', 'Lingex.txt', 'xX_Masha_ggg_Xx9.txt', 'Julius16.txt', 'lizsyy.txt', 'camman18YT.txt', 'Jan2220.txt', 'Falke_01.txt', 'DaVinci_Son.txt', 'SatzdesPytag0ras.txt', 'Flitzi_Dino.txt', 'Wienerisch.txt', 'Seemops_8.txt', 'GermanPie.txt', 'Bildungsarten.txt', 'chrisihalt.txt', 'schwarzekater.txt', 'FluffyDragon2007.txt', 'LucaaOn.txt', 'Allooy.txt', 'Chander24.txt', 'Fflopse.txt', 'vKito.txt', 'bawskey.txt', 'RasenLP.txt', 'WshPasie.txt', 'Joel_the_king.txt', 'CladyNoClip_.txt', 'WirdNichtGeladen.txt', 'WuschigesEtwas.txt', 'OutcroYoutube.txt', 'HeIsJustAPoorBoy.txt', 'FlyingAutismus.txt', 'destr0yed_.txt', 'Ex4cted.txt', 'Mvsk_.txt', 'MaxOnTheRoad.txt', 'swiffle.txt', 'juvona.txt', 'Lubottus.txt', 'Nervigerr.txt', 'lolisamakun.txt', 'Martomias.txt', '20LeRe10.txt']\n",
      "processing Schießstand...\n",
      "Error: Tammywood.txt does not contain any TooltipEvent data\n",
      "Error: demiu.txt does not contain any TooltipEvent data\n",
      "Error: JayMinInSane.txt does not contain any TooltipEvent data\n",
      "Error: KINT0.txt does not contain any TooltipEvent data\n",
      "Error: SmartyxD.txt does not contain any TooltipEvent data\n",
      "Error: Lord_Weibull.txt does not contain any TooltipEvent data\n",
      "Error: Scuprum.txt does not contain any TooltipEvent data\n",
      "Error: Dubbly.txt does not contain any TooltipEvent data\n",
      "Error: destr0yed_.txt does not contain any TooltipEvent data\n",
      "Schießstand processed\n"
     ]
    },
    {
     "data": {
      "text/plain": [
       "City               2.0\n",
       "Farm               3.0\n",
       "Jungle             4.0\n",
       "Punkte Chambers    NaN\n",
       "Name: Fflopse, dtype: float64"
      ]
     },
     "execution_count": 5,
     "metadata": {},
     "output_type": "execute_result"
    }
   ],
   "source": [
    "df = getRecordsDataframe(minigame='Schießstand', save=False, log=True, html=False, rank=True)\n",
    "\n",
    "df.loc['Fflopse']\n",
    "\n",
    "# df.columns"
   ]
  },
  {
   "cell_type": "code",
   "execution_count": 6,
   "metadata": {},
   "outputs": [],
   "source": [
    "def getBestPlayer(minigame='Wettrennen'):\n",
    "    df = getRecordsDataframe(minigame=minigame, save=False, log=True, html=False, rank=True)\n",
    "\n",
    "    num_cols = len(df.columns) \n",
    "\n",
    "    '''\n",
    "    Each Minigame may yield a total of 100 points per player. \n",
    "    Records #1 through #10 are considered \n",
    "\n",
    "    If a minigame has multiple maps, the 100 points are distributed equally. For Sammelwahn and Replika, the sum over all records is considered solely. \n",
    "\n",
    "    E.g. Frozen Path (1 Map Minigame)\n",
    "    #1 player: 100 points\n",
    "    #2 player: 90 points\n",
    "    #3 player: 80 points\n",
    "    ...\n",
    "    #10 player: 10 points\n",
    "\n",
    "    E.g. Schießstand (3 Map Minigame)\n",
    "    Map 1: \n",
    "    #1 player: 100/3 (33.333) points\n",
    "    #2 player: 90/3 (30) points\n",
    "    ...\n",
    "    Map 2:\n",
    "    #1 player: 100/3 (33.333) points\n",
    "    #2 player: 90/3 (30) points\n",
    "    ...\n",
    "    Map 3:\n",
    "    #1 player: 100/3 (33.333) points\n",
    "    #2 player: 90/3 (30) points\n",
    "    ...\n",
    "\n",
    "    E.g. Speed Race (5 Map Minigame)\n",
    "    Map 1:\n",
    "    #1 player: 100/5 (20) points\n",
    "    #2 player: 90/5 (18) points\n",
    "    ...\n",
    "    Map 2:\n",
    "    #1 player: 100/5 (20) points\n",
    "    #2 player: 90/5 (18) points\n",
    "    ...\n",
    "\n",
    "    Thus, a player holding #1 records in a minigame will always be assigned 100 points. \n",
    "    '''\n",
    "\n",
    "    # fill values > 10.0 with 0\n",
    "    df = df.where(df < 10.0, 0)\n",
    "\n",
    "    # replace the rank values in the dataframe with the apprpriate score values\n",
    "\n",
    "    if minigame in pointMiniGames:\n",
    "        df = df.replace({1.0: 100, 2.0: 90, 3.0: 80, 4.0: 70, 5.0: 60, 6.0: 50, 7.0: 40, 8.0: 30, 9.0: 20, 10.0: 10})\n",
    "    if minigame in timeMiniGames:\n",
    "        df = df.replace({1.0: 100, 2.0: 90, 3.0: 80, 4.0: 70, 5.0: 60, 6.0: 50, 7.0: 40, 8.0: 30, 9.0: 20, 10.0: 10})\n",
    "\n",
    "    # sum the scores for each player\n",
    "    df['PointSum'] = df.sum(axis=1) / num_cols\n",
    "\n",
    "    # sort the dataframe by the PointSum column\n",
    "    df = df.sort_values(by='PointSum', ascending=False)\n",
    "\n",
    "    # for Sammelwahn and Replika, simply get the points from the sum column\n",
    "    if minigame in \"Sammelwahn Replika\":\n",
    "        df['Pointsum'] = df['Sum']\n",
    "\n",
    "    return df\n",
    "    "
   ]
  },
  {
   "cell_type": "code",
   "execution_count": 7,
   "metadata": {},
   "outputs": [],
   "source": [
    "# getBestPlayer(minigame='Wettrennen')"
   ]
  },
  {
   "cell_type": "code",
   "execution_count": 8,
   "metadata": {},
   "outputs": [
    {
     "name": "stdout",
     "output_type": "stream",
     "text": [
      "['__egE.txt', 'Tammywood.txt', 'BunnyKiko.txt', 'SpeckyCut.txt', 'sirmigorius.txt', 'Hyxeed.txt', 'demiu.txt', 'SpinCrafter.txt', 'NanamiElvi.txt', '_n3d.txt', 'Sebi1801.txt', 'AnzeigeGehtRaus.txt', 'JayMinInSane.txt', 'Persidieus.txt', 'N3XV.txt', 'Wissender.txt', 'Gryzes.txt', 'jimmi4Life.txt', 'Gobo9.txt', 'Anni808.txt', 'LeWi_100.txt', '_Waldi_.txt', 'Grapfen.txt', 'PixlNight.txt', 'dossantosaveiro_.txt', 'agowskyy.txt', 'TheBreadHD.txt', 'Axollotel.txt', 'T_Niko_T.txt', 'Vanillinchen.txt', 'Odlaa.txt', 'D4rkCookie.txt', 'yzvm.txt', 'Tim_Voltia.txt', 'xBaumeisterin.txt', 'Ungluecklicher.txt', 'Lutorix.txt', 'Ninivee.txt', 'ArthurAlchemist.txt', 'redbrll.txt', 'Gfrasti.txt', 'Muniix.txt', 'Tomiokey.txt', 'Carl1_1.txt', 'DerAutist.txt', 'PolizeiDreamy.txt', 'xX_Dima_ggg_Xx6.txt', 'CuzImKnxck.txt', 'Falke23_5.txt', 'yVendas.txt', 'TheFabo.txt', 'DieserBear.txt', 'SWLegende.txt', 'Picutar.txt', '2B9.txt', 'Otronix.txt', 'Schmaarek.txt', 'musi1999.txt', 'PumiTheCat.txt', 'HerrDante.txt', 'KakaMC.txt', 'StaudammAusHolz.txt', 'Lelouch610.txt', 'Kyuudo.txt', 'twitchparaskiill.txt', 'G0at3D.txt', 'SecretAgent_K.txt', 'KMaxN.txt', 'Sey__.txt', 'ForceFox.txt', 'toxicplace.txt', 'Gestimus.txt', 'yachayubin.txt', 'Wolkenfarmer.txt', 'y9nic.txt', 'KINT0.txt', 'zBro.txt', 'qriezmannsOpa.txt', 'Harold_Sensemann.txt', 'JustAnyy.txt', 'PedroZockt.txt', 'MrNulfred.txt', 'Cytoox.txt', 'IchHolzDichWeg.txt', 'GingerTeddy.txt', 'Kopfradio.txt', 'loukrativ.txt', 'M0osebumps.txt', 'SmartyxD.txt', 'Kokochampo.txt', 'JennieKim.txt', 'Umgfoin.txt', 'ffawks.txt', 'Proofreader.txt', 'byTobi.txt', 'Shiewk.txt', 'La_meleagro.txt', 'Squashgitter333.txt', 'Luxemburq.txt', 'DarkCobweb.txt', 'Sackkerl.txt', 'Sthyq.txt', 'Acidey.txt', 'Laaaachs.txt', 'HerosHD.txt', 'Lennart0911.txt', 'Nor_Malo.txt', 'Gerrygames.txt', 'BusinessBent.txt', 'Simlll.txt', 'YBCM.txt', 'Txlentierter.txt', 'Dat_Klan.txt', 'Luis_XYZ.txt', 'NiklasMoWo.txt', 'MaxMitMaulkorb.txt', 'Oronor.txt', 'GamemasterNiki.txt', 'LordAlexos.txt', 'Pluto28.txt', 'GrafikKatze.txt', '_Einfallslos_.txt', 'cediiiiii_10.txt', 'Dokkkkko.txt', 'deadfiight.txt', 'Kanickelul.txt', 'crocodile1870.txt', 'Sower_.txt', 'Steavn.txt', 'EinfachEazy.txt', 'yiiq.txt', 'NotLennart.txt', 'Snitcherella.txt', 'Keenaai.txt', 'xd_Maiky.txt', 'Kklopse.txt', 'xIForgotMySkill.txt', 'ReichesBrot.txt', 'lolisamasan.txt', 'Raefinzs.txt', 'JOW24.txt', 'ByNetherdude.txt', 'ZweitesIch.txt', 'frutigall.txt', 'LilFueller.txt', 'xiooh.txt', 'qMika.txt', 'rotmann2.txt', 'FlyingKyubi.txt', 'Joy_8oy.txt', 'BauHD.txt', 'CML_Justin.txt', 'MoZadaTV.txt', 'BastiGHG.txt', 'Gummibearchen.txt', 'Lord_Weibull.txt', 'Stockinqs.txt', 'GlowyDusk.txt', 'Scuprum.txt', 'h4nnes.txt', 'cheesecake2901.txt', 'DrSpeed06.txt', 'Krusti.txt', 'marbrueck.txt', 'Vacted.txt', 'Janne4k.txt', 'Bartschii.txt', 'Mansuni.txt', 'SB387.txt', 'medisant.txt', 'Phoenix3000.txt', 'JOW23.txt', 'Ritokii.txt', 'Juti0n.txt', 'lvlaurin.txt', 'Bikoop.txt', 'FrozenNoah.txt', 'GeneralEnte06.txt', 'Dubbly.txt', 'revolverz.txt', 'Highsay.txt', 'ScreamingBlatz.txt', 'RyanxCole.txt', 'shellny.txt', 'kfc_man069.txt', 'TheKillerisback.txt', 'M0orey_0.txt', 'Mincheeen.txt', '2wc.txt', 'Feinberg.txt', 'Navex.txt', 'NewNormal0947.txt', 'Teesily.txt', 'linastunna.txt', 'SiLoHB.txt', 'Morittz.txt', 'cxl1lo.txt', 'LeMetin_.txt', 'unausgesprochen.txt', 'Freeeedom.txt', 'miridis41.txt', 'zLachs.txt', 'Joe3346.txt', 'Lingex.txt', 'xX_Masha_ggg_Xx9.txt', 'Julius16.txt', 'lizsyy.txt', 'camman18YT.txt', 'Jan2220.txt', 'Falke_01.txt', 'DaVinci_Son.txt', 'SatzdesPytag0ras.txt', 'Flitzi_Dino.txt', 'Wienerisch.txt', 'Seemops_8.txt', 'GermanPie.txt', 'Bildungsarten.txt', 'chrisihalt.txt', 'schwarzekater.txt', 'FluffyDragon2007.txt', 'LucaaOn.txt', 'Allooy.txt', 'Chander24.txt', 'Fflopse.txt', 'vKito.txt', 'bawskey.txt', 'RasenLP.txt', 'WshPasie.txt', 'Joel_the_king.txt', 'CladyNoClip_.txt', 'WirdNichtGeladen.txt', 'WuschigesEtwas.txt', 'OutcroYoutube.txt', 'HeIsJustAPoorBoy.txt', 'FlyingAutismus.txt', 'destr0yed_.txt', 'Ex4cted.txt', 'Mvsk_.txt', 'MaxOnTheRoad.txt', 'swiffle.txt', 'juvona.txt', 'Lubottus.txt', 'Nervigerr.txt', 'lolisamakun.txt', 'Martomias.txt', '20LeRe10.txt']\n",
      "processing Sammelwahn...\n",
      "Error: Tammywood.txt does not contain any TooltipEvent data\n",
      "Error: demiu.txt does not contain any TooltipEvent data\n",
      "Error: JayMinInSane.txt does not contain any TooltipEvent data\n",
      "Error: KINT0.txt does not contain any TooltipEvent data\n",
      "Error: SmartyxD.txt does not contain any TooltipEvent data\n",
      "Error: Lord_Weibull.txt does not contain any TooltipEvent data\n",
      "Error: Scuprum.txt does not contain any TooltipEvent data\n",
      "Error: Dubbly.txt does not contain any TooltipEvent data\n",
      "Error: destr0yed_.txt does not contain any TooltipEvent data\n",
      "Sammelwahn processed\n",
      "['__egE.txt', 'Tammywood.txt', 'BunnyKiko.txt', 'SpeckyCut.txt', 'sirmigorius.txt', 'Hyxeed.txt', 'demiu.txt', 'SpinCrafter.txt', 'NanamiElvi.txt', '_n3d.txt', 'Sebi1801.txt', 'AnzeigeGehtRaus.txt', 'JayMinInSane.txt', 'Persidieus.txt', 'N3XV.txt', 'Wissender.txt', 'Gryzes.txt', 'jimmi4Life.txt', 'Gobo9.txt', 'Anni808.txt', 'LeWi_100.txt', '_Waldi_.txt', 'Grapfen.txt', 'PixlNight.txt', 'dossantosaveiro_.txt', 'agowskyy.txt', 'TheBreadHD.txt', 'Axollotel.txt', 'T_Niko_T.txt', 'Vanillinchen.txt', 'Odlaa.txt', 'D4rkCookie.txt', 'yzvm.txt', 'Tim_Voltia.txt', 'xBaumeisterin.txt', 'Ungluecklicher.txt', 'Lutorix.txt', 'Ninivee.txt', 'ArthurAlchemist.txt', 'redbrll.txt', 'Gfrasti.txt', 'Muniix.txt', 'Tomiokey.txt', 'Carl1_1.txt', 'DerAutist.txt', 'PolizeiDreamy.txt', 'xX_Dima_ggg_Xx6.txt', 'CuzImKnxck.txt', 'Falke23_5.txt', 'yVendas.txt', 'TheFabo.txt', 'DieserBear.txt', 'SWLegende.txt', 'Picutar.txt', '2B9.txt', 'Otronix.txt', 'Schmaarek.txt', 'musi1999.txt', 'PumiTheCat.txt', 'HerrDante.txt', 'KakaMC.txt', 'StaudammAusHolz.txt', 'Lelouch610.txt', 'Kyuudo.txt', 'twitchparaskiill.txt', 'G0at3D.txt', 'SecretAgent_K.txt', 'KMaxN.txt', 'Sey__.txt', 'ForceFox.txt', 'toxicplace.txt', 'Gestimus.txt', 'yachayubin.txt', 'Wolkenfarmer.txt', 'y9nic.txt', 'KINT0.txt', 'zBro.txt', 'qriezmannsOpa.txt', 'Harold_Sensemann.txt', 'JustAnyy.txt', 'PedroZockt.txt', 'MrNulfred.txt', 'Cytoox.txt', 'IchHolzDichWeg.txt', 'GingerTeddy.txt', 'Kopfradio.txt', 'loukrativ.txt', 'M0osebumps.txt', 'SmartyxD.txt', 'Kokochampo.txt', 'JennieKim.txt', 'Umgfoin.txt', 'ffawks.txt', 'Proofreader.txt', 'byTobi.txt', 'Shiewk.txt', 'La_meleagro.txt', 'Squashgitter333.txt', 'Luxemburq.txt', 'DarkCobweb.txt', 'Sackkerl.txt', 'Sthyq.txt', 'Acidey.txt', 'Laaaachs.txt', 'HerosHD.txt', 'Lennart0911.txt', 'Nor_Malo.txt', 'Gerrygames.txt', 'BusinessBent.txt', 'Simlll.txt', 'YBCM.txt', 'Txlentierter.txt', 'Dat_Klan.txt', 'Luis_XYZ.txt', 'NiklasMoWo.txt', 'MaxMitMaulkorb.txt', 'Oronor.txt', 'GamemasterNiki.txt', 'LordAlexos.txt', 'Pluto28.txt', 'GrafikKatze.txt', '_Einfallslos_.txt', 'cediiiiii_10.txt', 'Dokkkkko.txt', 'deadfiight.txt', 'Kanickelul.txt', 'crocodile1870.txt', 'Sower_.txt', 'Steavn.txt', 'EinfachEazy.txt', 'yiiq.txt', 'NotLennart.txt', 'Snitcherella.txt', 'Keenaai.txt', 'xd_Maiky.txt', 'Kklopse.txt', 'xIForgotMySkill.txt', 'ReichesBrot.txt', 'lolisamasan.txt', 'Raefinzs.txt', 'JOW24.txt', 'ByNetherdude.txt', 'ZweitesIch.txt', 'frutigall.txt', 'LilFueller.txt', 'xiooh.txt', 'qMika.txt', 'rotmann2.txt', 'FlyingKyubi.txt', 'Joy_8oy.txt', 'BauHD.txt', 'CML_Justin.txt', 'MoZadaTV.txt', 'BastiGHG.txt', 'Gummibearchen.txt', 'Lord_Weibull.txt', 'Stockinqs.txt', 'GlowyDusk.txt', 'Scuprum.txt', 'h4nnes.txt', 'cheesecake2901.txt', 'DrSpeed06.txt', 'Krusti.txt', 'marbrueck.txt', 'Vacted.txt', 'Janne4k.txt', 'Bartschii.txt', 'Mansuni.txt', 'SB387.txt', 'medisant.txt', 'Phoenix3000.txt', 'JOW23.txt', 'Ritokii.txt', 'Juti0n.txt', 'lvlaurin.txt', 'Bikoop.txt', 'FrozenNoah.txt', 'GeneralEnte06.txt', 'Dubbly.txt', 'revolverz.txt', 'Highsay.txt', 'ScreamingBlatz.txt', 'RyanxCole.txt', 'shellny.txt', 'kfc_man069.txt', 'TheKillerisback.txt', 'M0orey_0.txt', 'Mincheeen.txt', '2wc.txt', 'Feinberg.txt', 'Navex.txt', 'NewNormal0947.txt', 'Teesily.txt', 'linastunna.txt', 'SiLoHB.txt', 'Morittz.txt', 'cxl1lo.txt', 'LeMetin_.txt', 'unausgesprochen.txt', 'Freeeedom.txt', 'miridis41.txt', 'zLachs.txt', 'Joe3346.txt', 'Lingex.txt', 'xX_Masha_ggg_Xx9.txt', 'Julius16.txt', 'lizsyy.txt', 'camman18YT.txt', 'Jan2220.txt', 'Falke_01.txt', 'DaVinci_Son.txt', 'SatzdesPytag0ras.txt', 'Flitzi_Dino.txt', 'Wienerisch.txt', 'Seemops_8.txt', 'GermanPie.txt', 'Bildungsarten.txt', 'chrisihalt.txt', 'schwarzekater.txt', 'FluffyDragon2007.txt', 'LucaaOn.txt', 'Allooy.txt', 'Chander24.txt', 'Fflopse.txt', 'vKito.txt', 'bawskey.txt', 'RasenLP.txt', 'WshPasie.txt', 'Joel_the_king.txt', 'CladyNoClip_.txt', 'WirdNichtGeladen.txt', 'WuschigesEtwas.txt', 'OutcroYoutube.txt', 'HeIsJustAPoorBoy.txt', 'FlyingAutismus.txt', 'destr0yed_.txt', 'Ex4cted.txt', 'Mvsk_.txt', 'MaxOnTheRoad.txt', 'swiffle.txt', 'juvona.txt', 'Lubottus.txt', 'Nervigerr.txt', 'lolisamakun.txt', 'Martomias.txt', '20LeRe10.txt']\n",
      "processing Schießstand...\n",
      "Error: Tammywood.txt does not contain any TooltipEvent data\n",
      "Error: demiu.txt does not contain any TooltipEvent data\n",
      "Error: JayMinInSane.txt does not contain any TooltipEvent data\n",
      "Error: KINT0.txt does not contain any TooltipEvent data\n",
      "Error: SmartyxD.txt does not contain any TooltipEvent data\n",
      "Error: Lord_Weibull.txt does not contain any TooltipEvent data\n",
      "Error: Scuprum.txt does not contain any TooltipEvent data\n",
      "Error: Dubbly.txt does not contain any TooltipEvent data\n",
      "Error: destr0yed_.txt does not contain any TooltipEvent data\n",
      "Schießstand processed\n",
      "['__egE.txt', 'Tammywood.txt', 'BunnyKiko.txt', 'SpeckyCut.txt', 'sirmigorius.txt', 'Hyxeed.txt', 'demiu.txt', 'SpinCrafter.txt', 'NanamiElvi.txt', '_n3d.txt', 'Sebi1801.txt', 'AnzeigeGehtRaus.txt', 'JayMinInSane.txt', 'Persidieus.txt', 'N3XV.txt', 'Wissender.txt', 'Gryzes.txt', 'jimmi4Life.txt', 'Gobo9.txt', 'Anni808.txt', 'LeWi_100.txt', '_Waldi_.txt', 'Grapfen.txt', 'PixlNight.txt', 'dossantosaveiro_.txt', 'agowskyy.txt', 'TheBreadHD.txt', 'Axollotel.txt', 'T_Niko_T.txt', 'Vanillinchen.txt', 'Odlaa.txt', 'D4rkCookie.txt', 'yzvm.txt', 'Tim_Voltia.txt', 'xBaumeisterin.txt', 'Ungluecklicher.txt', 'Lutorix.txt', 'Ninivee.txt', 'ArthurAlchemist.txt', 'redbrll.txt', 'Gfrasti.txt', 'Muniix.txt', 'Tomiokey.txt', 'Carl1_1.txt', 'DerAutist.txt', 'PolizeiDreamy.txt', 'xX_Dima_ggg_Xx6.txt', 'CuzImKnxck.txt', 'Falke23_5.txt', 'yVendas.txt', 'TheFabo.txt', 'DieserBear.txt', 'SWLegende.txt', 'Picutar.txt', '2B9.txt', 'Otronix.txt', 'Schmaarek.txt', 'musi1999.txt', 'PumiTheCat.txt', 'HerrDante.txt', 'KakaMC.txt', 'StaudammAusHolz.txt', 'Lelouch610.txt', 'Kyuudo.txt', 'twitchparaskiill.txt', 'G0at3D.txt', 'SecretAgent_K.txt', 'KMaxN.txt', 'Sey__.txt', 'ForceFox.txt', 'toxicplace.txt', 'Gestimus.txt', 'yachayubin.txt', 'Wolkenfarmer.txt', 'y9nic.txt', 'KINT0.txt', 'zBro.txt', 'qriezmannsOpa.txt', 'Harold_Sensemann.txt', 'JustAnyy.txt', 'PedroZockt.txt', 'MrNulfred.txt', 'Cytoox.txt', 'IchHolzDichWeg.txt', 'GingerTeddy.txt', 'Kopfradio.txt', 'loukrativ.txt', 'M0osebumps.txt', 'SmartyxD.txt', 'Kokochampo.txt', 'JennieKim.txt', 'Umgfoin.txt', 'ffawks.txt', 'Proofreader.txt', 'byTobi.txt', 'Shiewk.txt', 'La_meleagro.txt', 'Squashgitter333.txt', 'Luxemburq.txt', 'DarkCobweb.txt', 'Sackkerl.txt', 'Sthyq.txt', 'Acidey.txt', 'Laaaachs.txt', 'HerosHD.txt', 'Lennart0911.txt', 'Nor_Malo.txt', 'Gerrygames.txt', 'BusinessBent.txt', 'Simlll.txt', 'YBCM.txt', 'Txlentierter.txt', 'Dat_Klan.txt', 'Luis_XYZ.txt', 'NiklasMoWo.txt', 'MaxMitMaulkorb.txt', 'Oronor.txt', 'GamemasterNiki.txt', 'LordAlexos.txt', 'Pluto28.txt', 'GrafikKatze.txt', '_Einfallslos_.txt', 'cediiiiii_10.txt', 'Dokkkkko.txt', 'deadfiight.txt', 'Kanickelul.txt', 'crocodile1870.txt', 'Sower_.txt', 'Steavn.txt', 'EinfachEazy.txt', 'yiiq.txt', 'NotLennart.txt', 'Snitcherella.txt', 'Keenaai.txt', 'xd_Maiky.txt', 'Kklopse.txt', 'xIForgotMySkill.txt', 'ReichesBrot.txt', 'lolisamasan.txt', 'Raefinzs.txt', 'JOW24.txt', 'ByNetherdude.txt', 'ZweitesIch.txt', 'frutigall.txt', 'LilFueller.txt', 'xiooh.txt', 'qMika.txt', 'rotmann2.txt', 'FlyingKyubi.txt', 'Joy_8oy.txt', 'BauHD.txt', 'CML_Justin.txt', 'MoZadaTV.txt', 'BastiGHG.txt', 'Gummibearchen.txt', 'Lord_Weibull.txt', 'Stockinqs.txt', 'GlowyDusk.txt', 'Scuprum.txt', 'h4nnes.txt', 'cheesecake2901.txt', 'DrSpeed06.txt', 'Krusti.txt', 'marbrueck.txt', 'Vacted.txt', 'Janne4k.txt', 'Bartschii.txt', 'Mansuni.txt', 'SB387.txt', 'medisant.txt', 'Phoenix3000.txt', 'JOW23.txt', 'Ritokii.txt', 'Juti0n.txt', 'lvlaurin.txt', 'Bikoop.txt', 'FrozenNoah.txt', 'GeneralEnte06.txt', 'Dubbly.txt', 'revolverz.txt', 'Highsay.txt', 'ScreamingBlatz.txt', 'RyanxCole.txt', 'shellny.txt', 'kfc_man069.txt', 'TheKillerisback.txt', 'M0orey_0.txt', 'Mincheeen.txt', '2wc.txt', 'Feinberg.txt', 'Navex.txt', 'NewNormal0947.txt', 'Teesily.txt', 'linastunna.txt', 'SiLoHB.txt', 'Morittz.txt', 'cxl1lo.txt', 'LeMetin_.txt', 'unausgesprochen.txt', 'Freeeedom.txt', 'miridis41.txt', 'zLachs.txt', 'Joe3346.txt', 'Lingex.txt', 'xX_Masha_ggg_Xx9.txt', 'Julius16.txt', 'lizsyy.txt', 'camman18YT.txt', 'Jan2220.txt', 'Falke_01.txt', 'DaVinci_Son.txt', 'SatzdesPytag0ras.txt', 'Flitzi_Dino.txt', 'Wienerisch.txt', 'Seemops_8.txt', 'GermanPie.txt', 'Bildungsarten.txt', 'chrisihalt.txt', 'schwarzekater.txt', 'FluffyDragon2007.txt', 'LucaaOn.txt', 'Allooy.txt', 'Chander24.txt', 'Fflopse.txt', 'vKito.txt', 'bawskey.txt', 'RasenLP.txt', 'WshPasie.txt', 'Joel_the_king.txt', 'CladyNoClip_.txt', 'WirdNichtGeladen.txt', 'WuschigesEtwas.txt', 'OutcroYoutube.txt', 'HeIsJustAPoorBoy.txt', 'FlyingAutismus.txt', 'destr0yed_.txt', 'Ex4cted.txt', 'Mvsk_.txt', 'MaxOnTheRoad.txt', 'swiffle.txt', 'juvona.txt', 'Lubottus.txt', 'Nervigerr.txt', 'lolisamakun.txt', 'Martomias.txt', '20LeRe10.txt']\n",
      "processing Mauerfall...\n",
      "Error: Tammywood.txt does not contain any TooltipEvent data\n",
      "Error: demiu.txt does not contain any TooltipEvent data\n",
      "Error: JayMinInSane.txt does not contain any TooltipEvent data\n",
      "Error: KINT0.txt does not contain any TooltipEvent data\n",
      "Error: SmartyxD.txt does not contain any TooltipEvent data\n",
      "Error: Lord_Weibull.txt does not contain any TooltipEvent data\n",
      "Error: Scuprum.txt does not contain any TooltipEvent data\n",
      "Error: Dubbly.txt does not contain any TooltipEvent data\n",
      "Error: destr0yed_.txt does not contain any TooltipEvent data\n",
      "Mauerfall processed\n",
      "['__egE.txt', 'Tammywood.txt', 'BunnyKiko.txt', 'SpeckyCut.txt', 'sirmigorius.txt', 'Hyxeed.txt', 'demiu.txt', 'SpinCrafter.txt', 'NanamiElvi.txt', '_n3d.txt', 'Sebi1801.txt', 'AnzeigeGehtRaus.txt', 'JayMinInSane.txt', 'Persidieus.txt', 'N3XV.txt', 'Wissender.txt', 'Gryzes.txt', 'jimmi4Life.txt', 'Gobo9.txt', 'Anni808.txt', 'LeWi_100.txt', '_Waldi_.txt', 'Grapfen.txt', 'PixlNight.txt', 'dossantosaveiro_.txt', 'agowskyy.txt', 'TheBreadHD.txt', 'Axollotel.txt', 'T_Niko_T.txt', 'Vanillinchen.txt', 'Odlaa.txt', 'D4rkCookie.txt', 'yzvm.txt', 'Tim_Voltia.txt', 'xBaumeisterin.txt', 'Ungluecklicher.txt', 'Lutorix.txt', 'Ninivee.txt', 'ArthurAlchemist.txt', 'redbrll.txt', 'Gfrasti.txt', 'Muniix.txt', 'Tomiokey.txt', 'Carl1_1.txt', 'DerAutist.txt', 'PolizeiDreamy.txt', 'xX_Dima_ggg_Xx6.txt', 'CuzImKnxck.txt', 'Falke23_5.txt', 'yVendas.txt', 'TheFabo.txt', 'DieserBear.txt', 'SWLegende.txt', 'Picutar.txt', '2B9.txt', 'Otronix.txt', 'Schmaarek.txt', 'musi1999.txt', 'PumiTheCat.txt', 'HerrDante.txt', 'KakaMC.txt', 'StaudammAusHolz.txt', 'Lelouch610.txt', 'Kyuudo.txt', 'twitchparaskiill.txt', 'G0at3D.txt', 'SecretAgent_K.txt', 'KMaxN.txt', 'Sey__.txt', 'ForceFox.txt', 'toxicplace.txt', 'Gestimus.txt', 'yachayubin.txt', 'Wolkenfarmer.txt', 'y9nic.txt', 'KINT0.txt', 'zBro.txt', 'qriezmannsOpa.txt', 'Harold_Sensemann.txt', 'JustAnyy.txt', 'PedroZockt.txt', 'MrNulfred.txt', 'Cytoox.txt', 'IchHolzDichWeg.txt', 'GingerTeddy.txt', 'Kopfradio.txt', 'loukrativ.txt', 'M0osebumps.txt', 'SmartyxD.txt', 'Kokochampo.txt', 'JennieKim.txt', 'Umgfoin.txt', 'ffawks.txt', 'Proofreader.txt', 'byTobi.txt', 'Shiewk.txt', 'La_meleagro.txt', 'Squashgitter333.txt', 'Luxemburq.txt', 'DarkCobweb.txt', 'Sackkerl.txt', 'Sthyq.txt', 'Acidey.txt', 'Laaaachs.txt', 'HerosHD.txt', 'Lennart0911.txt', 'Nor_Malo.txt', 'Gerrygames.txt', 'BusinessBent.txt', 'Simlll.txt', 'YBCM.txt', 'Txlentierter.txt', 'Dat_Klan.txt', 'Luis_XYZ.txt', 'NiklasMoWo.txt', 'MaxMitMaulkorb.txt', 'Oronor.txt', 'GamemasterNiki.txt', 'LordAlexos.txt', 'Pluto28.txt', 'GrafikKatze.txt', '_Einfallslos_.txt', 'cediiiiii_10.txt', 'Dokkkkko.txt', 'deadfiight.txt', 'Kanickelul.txt', 'crocodile1870.txt', 'Sower_.txt', 'Steavn.txt', 'EinfachEazy.txt', 'yiiq.txt', 'NotLennart.txt', 'Snitcherella.txt', 'Keenaai.txt', 'xd_Maiky.txt', 'Kklopse.txt', 'xIForgotMySkill.txt', 'ReichesBrot.txt', 'lolisamasan.txt', 'Raefinzs.txt', 'JOW24.txt', 'ByNetherdude.txt', 'ZweitesIch.txt', 'frutigall.txt', 'LilFueller.txt', 'xiooh.txt', 'qMika.txt', 'rotmann2.txt', 'FlyingKyubi.txt', 'Joy_8oy.txt', 'BauHD.txt', 'CML_Justin.txt', 'MoZadaTV.txt', 'BastiGHG.txt', 'Gummibearchen.txt', 'Lord_Weibull.txt', 'Stockinqs.txt', 'GlowyDusk.txt', 'Scuprum.txt', 'h4nnes.txt', 'cheesecake2901.txt', 'DrSpeed06.txt', 'Krusti.txt', 'marbrueck.txt', 'Vacted.txt', 'Janne4k.txt', 'Bartschii.txt', 'Mansuni.txt', 'SB387.txt', 'medisant.txt', 'Phoenix3000.txt', 'JOW23.txt', 'Ritokii.txt', 'Juti0n.txt', 'lvlaurin.txt', 'Bikoop.txt', 'FrozenNoah.txt', 'GeneralEnte06.txt', 'Dubbly.txt', 'revolverz.txt', 'Highsay.txt', 'ScreamingBlatz.txt', 'RyanxCole.txt', 'shellny.txt', 'kfc_man069.txt', 'TheKillerisback.txt', 'M0orey_0.txt', 'Mincheeen.txt', '2wc.txt', 'Feinberg.txt', 'Navex.txt', 'NewNormal0947.txt', 'Teesily.txt', 'linastunna.txt', 'SiLoHB.txt', 'Morittz.txt', 'cxl1lo.txt', 'LeMetin_.txt', 'unausgesprochen.txt', 'Freeeedom.txt', 'miridis41.txt', 'zLachs.txt', 'Joe3346.txt', 'Lingex.txt', 'xX_Masha_ggg_Xx9.txt', 'Julius16.txt', 'lizsyy.txt', 'camman18YT.txt', 'Jan2220.txt', 'Falke_01.txt', 'DaVinci_Son.txt', 'SatzdesPytag0ras.txt', 'Flitzi_Dino.txt', 'Wienerisch.txt', 'Seemops_8.txt', 'GermanPie.txt', 'Bildungsarten.txt', 'chrisihalt.txt', 'schwarzekater.txt', 'FluffyDragon2007.txt', 'LucaaOn.txt', 'Allooy.txt', 'Chander24.txt', 'Fflopse.txt', 'vKito.txt', 'bawskey.txt', 'RasenLP.txt', 'WshPasie.txt', 'Joel_the_king.txt', 'CladyNoClip_.txt', 'WirdNichtGeladen.txt', 'WuschigesEtwas.txt', 'OutcroYoutube.txt', 'HeIsJustAPoorBoy.txt', 'FlyingAutismus.txt', 'destr0yed_.txt', 'Ex4cted.txt', 'Mvsk_.txt', 'MaxOnTheRoad.txt', 'swiffle.txt', 'juvona.txt', 'Lubottus.txt', 'Nervigerr.txt', 'lolisamakun.txt', 'Martomias.txt', '20LeRe10.txt']\n",
      "processing Survivalgames...\n",
      "Error: Tammywood.txt does not contain any TooltipEvent data\n",
      "Error: demiu.txt does not contain any TooltipEvent data\n",
      "Error: JayMinInSane.txt does not contain any TooltipEvent data\n",
      "Error: KINT0.txt does not contain any TooltipEvent data\n",
      "Error: SmartyxD.txt does not contain any TooltipEvent data\n",
      "Error: Lord_Weibull.txt does not contain any TooltipEvent data\n",
      "Error: Scuprum.txt does not contain any TooltipEvent data\n",
      "Error: Dubbly.txt does not contain any TooltipEvent data\n",
      "Error: destr0yed_.txt does not contain any TooltipEvent data\n",
      "Survivalgames processed\n",
      "['__egE.txt', 'Tammywood.txt', 'BunnyKiko.txt', 'SpeckyCut.txt', 'sirmigorius.txt', 'Hyxeed.txt', 'demiu.txt', 'SpinCrafter.txt', 'NanamiElvi.txt', '_n3d.txt', 'Sebi1801.txt', 'AnzeigeGehtRaus.txt', 'JayMinInSane.txt', 'Persidieus.txt', 'N3XV.txt', 'Wissender.txt', 'Gryzes.txt', 'jimmi4Life.txt', 'Gobo9.txt', 'Anni808.txt', 'LeWi_100.txt', '_Waldi_.txt', 'Grapfen.txt', 'PixlNight.txt', 'dossantosaveiro_.txt', 'agowskyy.txt', 'TheBreadHD.txt', 'Axollotel.txt', 'T_Niko_T.txt', 'Vanillinchen.txt', 'Odlaa.txt', 'D4rkCookie.txt', 'yzvm.txt', 'Tim_Voltia.txt', 'xBaumeisterin.txt', 'Ungluecklicher.txt', 'Lutorix.txt', 'Ninivee.txt', 'ArthurAlchemist.txt', 'redbrll.txt', 'Gfrasti.txt', 'Muniix.txt', 'Tomiokey.txt', 'Carl1_1.txt', 'DerAutist.txt', 'PolizeiDreamy.txt', 'xX_Dima_ggg_Xx6.txt', 'CuzImKnxck.txt', 'Falke23_5.txt', 'yVendas.txt', 'TheFabo.txt', 'DieserBear.txt', 'SWLegende.txt', 'Picutar.txt', '2B9.txt', 'Otronix.txt', 'Schmaarek.txt', 'musi1999.txt', 'PumiTheCat.txt', 'HerrDante.txt', 'KakaMC.txt', 'StaudammAusHolz.txt', 'Lelouch610.txt', 'Kyuudo.txt', 'twitchparaskiill.txt', 'G0at3D.txt', 'SecretAgent_K.txt', 'KMaxN.txt', 'Sey__.txt', 'ForceFox.txt', 'toxicplace.txt', 'Gestimus.txt', 'yachayubin.txt', 'Wolkenfarmer.txt', 'y9nic.txt', 'KINT0.txt', 'zBro.txt', 'qriezmannsOpa.txt', 'Harold_Sensemann.txt', 'JustAnyy.txt', 'PedroZockt.txt', 'MrNulfred.txt', 'Cytoox.txt', 'IchHolzDichWeg.txt', 'GingerTeddy.txt', 'Kopfradio.txt', 'loukrativ.txt', 'M0osebumps.txt', 'SmartyxD.txt', 'Kokochampo.txt', 'JennieKim.txt', 'Umgfoin.txt', 'ffawks.txt', 'Proofreader.txt', 'byTobi.txt', 'Shiewk.txt', 'La_meleagro.txt', 'Squashgitter333.txt', 'Luxemburq.txt', 'DarkCobweb.txt', 'Sackkerl.txt', 'Sthyq.txt', 'Acidey.txt', 'Laaaachs.txt', 'HerosHD.txt', 'Lennart0911.txt', 'Nor_Malo.txt', 'Gerrygames.txt', 'BusinessBent.txt', 'Simlll.txt', 'YBCM.txt', 'Txlentierter.txt', 'Dat_Klan.txt', 'Luis_XYZ.txt', 'NiklasMoWo.txt', 'MaxMitMaulkorb.txt', 'Oronor.txt', 'GamemasterNiki.txt', 'LordAlexos.txt', 'Pluto28.txt', 'GrafikKatze.txt', '_Einfallslos_.txt', 'cediiiiii_10.txt', 'Dokkkkko.txt', 'deadfiight.txt', 'Kanickelul.txt', 'crocodile1870.txt', 'Sower_.txt', 'Steavn.txt', 'EinfachEazy.txt', 'yiiq.txt', 'NotLennart.txt', 'Snitcherella.txt', 'Keenaai.txt', 'xd_Maiky.txt', 'Kklopse.txt', 'xIForgotMySkill.txt', 'ReichesBrot.txt', 'lolisamasan.txt', 'Raefinzs.txt', 'JOW24.txt', 'ByNetherdude.txt', 'ZweitesIch.txt', 'frutigall.txt', 'LilFueller.txt', 'xiooh.txt', 'qMika.txt', 'rotmann2.txt', 'FlyingKyubi.txt', 'Joy_8oy.txt', 'BauHD.txt', 'CML_Justin.txt', 'MoZadaTV.txt', 'BastiGHG.txt', 'Gummibearchen.txt', 'Lord_Weibull.txt', 'Stockinqs.txt', 'GlowyDusk.txt', 'Scuprum.txt', 'h4nnes.txt', 'cheesecake2901.txt', 'DrSpeed06.txt', 'Krusti.txt', 'marbrueck.txt', 'Vacted.txt', 'Janne4k.txt', 'Bartschii.txt', 'Mansuni.txt', 'SB387.txt', 'medisant.txt', 'Phoenix3000.txt', 'JOW23.txt', 'Ritokii.txt', 'Juti0n.txt', 'lvlaurin.txt', 'Bikoop.txt', 'FrozenNoah.txt', 'GeneralEnte06.txt', 'Dubbly.txt', 'revolverz.txt', 'Highsay.txt', 'ScreamingBlatz.txt', 'RyanxCole.txt', 'shellny.txt', 'kfc_man069.txt', 'TheKillerisback.txt', 'M0orey_0.txt', 'Mincheeen.txt', '2wc.txt', 'Feinberg.txt', 'Navex.txt', 'NewNormal0947.txt', 'Teesily.txt', 'linastunna.txt', 'SiLoHB.txt', 'Morittz.txt', 'cxl1lo.txt', 'LeMetin_.txt', 'unausgesprochen.txt', 'Freeeedom.txt', 'miridis41.txt', 'zLachs.txt', 'Joe3346.txt', 'Lingex.txt', 'xX_Masha_ggg_Xx9.txt', 'Julius16.txt', 'lizsyy.txt', 'camman18YT.txt', 'Jan2220.txt', 'Falke_01.txt', 'DaVinci_Son.txt', 'SatzdesPytag0ras.txt', 'Flitzi_Dino.txt', 'Wienerisch.txt', 'Seemops_8.txt', 'GermanPie.txt', 'Bildungsarten.txt', 'chrisihalt.txt', 'schwarzekater.txt', 'FluffyDragon2007.txt', 'LucaaOn.txt', 'Allooy.txt', 'Chander24.txt', 'Fflopse.txt', 'vKito.txt', 'bawskey.txt', 'RasenLP.txt', 'WshPasie.txt', 'Joel_the_king.txt', 'CladyNoClip_.txt', 'WirdNichtGeladen.txt', 'WuschigesEtwas.txt', 'OutcroYoutube.txt', 'HeIsJustAPoorBoy.txt', 'FlyingAutismus.txt', 'destr0yed_.txt', 'Ex4cted.txt', 'Mvsk_.txt', 'MaxOnTheRoad.txt', 'swiffle.txt', 'juvona.txt', 'Lubottus.txt', 'Nervigerr.txt', 'lolisamakun.txt', 'Martomias.txt', '20LeRe10.txt']\n",
      "processing Skywars...\n",
      "Error: Tammywood.txt does not contain any TooltipEvent data\n",
      "Error: demiu.txt does not contain any TooltipEvent data\n",
      "Error: JayMinInSane.txt does not contain any TooltipEvent data\n",
      "Error: KINT0.txt does not contain any TooltipEvent data\n",
      "Error: SmartyxD.txt does not contain any TooltipEvent data\n",
      "Error: Lord_Weibull.txt does not contain any TooltipEvent data\n",
      "Error: Scuprum.txt does not contain any TooltipEvent data\n",
      "Error: Dubbly.txt does not contain any TooltipEvent data\n",
      "Error: destr0yed_.txt does not contain any TooltipEvent data\n",
      "Skywars processed\n",
      "['__egE.txt', 'Tammywood.txt', 'BunnyKiko.txt', 'SpeckyCut.txt', 'sirmigorius.txt', 'Hyxeed.txt', 'demiu.txt', 'SpinCrafter.txt', 'NanamiElvi.txt', '_n3d.txt', 'Sebi1801.txt', 'AnzeigeGehtRaus.txt', 'JayMinInSane.txt', 'Persidieus.txt', 'N3XV.txt', 'Wissender.txt', 'Gryzes.txt', 'jimmi4Life.txt', 'Gobo9.txt', 'Anni808.txt', 'LeWi_100.txt', '_Waldi_.txt', 'Grapfen.txt', 'PixlNight.txt', 'dossantosaveiro_.txt', 'agowskyy.txt', 'TheBreadHD.txt', 'Axollotel.txt', 'T_Niko_T.txt', 'Vanillinchen.txt', 'Odlaa.txt', 'D4rkCookie.txt', 'yzvm.txt', 'Tim_Voltia.txt', 'xBaumeisterin.txt', 'Ungluecklicher.txt', 'Lutorix.txt', 'Ninivee.txt', 'ArthurAlchemist.txt', 'redbrll.txt', 'Gfrasti.txt', 'Muniix.txt', 'Tomiokey.txt', 'Carl1_1.txt', 'DerAutist.txt', 'PolizeiDreamy.txt', 'xX_Dima_ggg_Xx6.txt', 'CuzImKnxck.txt', 'Falke23_5.txt', 'yVendas.txt', 'TheFabo.txt', 'DieserBear.txt', 'SWLegende.txt', 'Picutar.txt', '2B9.txt', 'Otronix.txt', 'Schmaarek.txt', 'musi1999.txt', 'PumiTheCat.txt', 'HerrDante.txt', 'KakaMC.txt', 'StaudammAusHolz.txt', 'Lelouch610.txt', 'Kyuudo.txt', 'twitchparaskiill.txt', 'G0at3D.txt', 'SecretAgent_K.txt', 'KMaxN.txt', 'Sey__.txt', 'ForceFox.txt', 'toxicplace.txt', 'Gestimus.txt', 'yachayubin.txt', 'Wolkenfarmer.txt', 'y9nic.txt', 'KINT0.txt', 'zBro.txt', 'qriezmannsOpa.txt', 'Harold_Sensemann.txt', 'JustAnyy.txt', 'PedroZockt.txt', 'MrNulfred.txt', 'Cytoox.txt', 'IchHolzDichWeg.txt', 'GingerTeddy.txt', 'Kopfradio.txt', 'loukrativ.txt', 'M0osebumps.txt', 'SmartyxD.txt', 'Kokochampo.txt', 'JennieKim.txt', 'Umgfoin.txt', 'ffawks.txt', 'Proofreader.txt', 'byTobi.txt', 'Shiewk.txt', 'La_meleagro.txt', 'Squashgitter333.txt', 'Luxemburq.txt', 'DarkCobweb.txt', 'Sackkerl.txt', 'Sthyq.txt', 'Acidey.txt', 'Laaaachs.txt', 'HerosHD.txt', 'Lennart0911.txt', 'Nor_Malo.txt', 'Gerrygames.txt', 'BusinessBent.txt', 'Simlll.txt', 'YBCM.txt', 'Txlentierter.txt', 'Dat_Klan.txt', 'Luis_XYZ.txt', 'NiklasMoWo.txt', 'MaxMitMaulkorb.txt', 'Oronor.txt', 'GamemasterNiki.txt', 'LordAlexos.txt', 'Pluto28.txt', 'GrafikKatze.txt', '_Einfallslos_.txt', 'cediiiiii_10.txt', 'Dokkkkko.txt', 'deadfiight.txt', 'Kanickelul.txt', 'crocodile1870.txt', 'Sower_.txt', 'Steavn.txt', 'EinfachEazy.txt', 'yiiq.txt', 'NotLennart.txt', 'Snitcherella.txt', 'Keenaai.txt', 'xd_Maiky.txt', 'Kklopse.txt', 'xIForgotMySkill.txt', 'ReichesBrot.txt', 'lolisamasan.txt', 'Raefinzs.txt', 'JOW24.txt', 'ByNetherdude.txt', 'ZweitesIch.txt', 'frutigall.txt', 'LilFueller.txt', 'xiooh.txt', 'qMika.txt', 'rotmann2.txt', 'FlyingKyubi.txt', 'Joy_8oy.txt', 'BauHD.txt', 'CML_Justin.txt', 'MoZadaTV.txt', 'BastiGHG.txt', 'Gummibearchen.txt', 'Lord_Weibull.txt', 'Stockinqs.txt', 'GlowyDusk.txt', 'Scuprum.txt', 'h4nnes.txt', 'cheesecake2901.txt', 'DrSpeed06.txt', 'Krusti.txt', 'marbrueck.txt', 'Vacted.txt', 'Janne4k.txt', 'Bartschii.txt', 'Mansuni.txt', 'SB387.txt', 'medisant.txt', 'Phoenix3000.txt', 'JOW23.txt', 'Ritokii.txt', 'Juti0n.txt', 'lvlaurin.txt', 'Bikoop.txt', 'FrozenNoah.txt', 'GeneralEnte06.txt', 'Dubbly.txt', 'revolverz.txt', 'Highsay.txt', 'ScreamingBlatz.txt', 'RyanxCole.txt', 'shellny.txt', 'kfc_man069.txt', 'TheKillerisback.txt', 'M0orey_0.txt', 'Mincheeen.txt', '2wc.txt', 'Feinberg.txt', 'Navex.txt', 'NewNormal0947.txt', 'Teesily.txt', 'linastunna.txt', 'SiLoHB.txt', 'Morittz.txt', 'cxl1lo.txt', 'LeMetin_.txt', 'unausgesprochen.txt', 'Freeeedom.txt', 'miridis41.txt', 'zLachs.txt', 'Joe3346.txt', 'Lingex.txt', 'xX_Masha_ggg_Xx9.txt', 'Julius16.txt', 'lizsyy.txt', 'camman18YT.txt', 'Jan2220.txt', 'Falke_01.txt', 'DaVinci_Son.txt', 'SatzdesPytag0ras.txt', 'Flitzi_Dino.txt', 'Wienerisch.txt', 'Seemops_8.txt', 'GermanPie.txt', 'Bildungsarten.txt', 'chrisihalt.txt', 'schwarzekater.txt', 'FluffyDragon2007.txt', 'LucaaOn.txt', 'Allooy.txt', 'Chander24.txt', 'Fflopse.txt', 'vKito.txt', 'bawskey.txt', 'RasenLP.txt', 'WshPasie.txt', 'Joel_the_king.txt', 'CladyNoClip_.txt', 'WirdNichtGeladen.txt', 'WuschigesEtwas.txt', 'OutcroYoutube.txt', 'HeIsJustAPoorBoy.txt', 'FlyingAutismus.txt', 'destr0yed_.txt', 'Ex4cted.txt', 'Mvsk_.txt', 'MaxOnTheRoad.txt', 'swiffle.txt', 'juvona.txt', 'Lubottus.txt', 'Nervigerr.txt', 'lolisamakun.txt', 'Martomias.txt', '20LeRe10.txt']\n",
      "processing Lasertag...\n",
      "Error: Tammywood.txt does not contain any TooltipEvent data\n",
      "Error: demiu.txt does not contain any TooltipEvent data\n",
      "Error: JayMinInSane.txt does not contain any TooltipEvent data\n",
      "Error: KINT0.txt does not contain any TooltipEvent data\n",
      "Error: SmartyxD.txt does not contain any TooltipEvent data\n",
      "Error: Lord_Weibull.txt does not contain any TooltipEvent data\n",
      "Error: Scuprum.txt does not contain any TooltipEvent data\n",
      "Error: Dubbly.txt does not contain any TooltipEvent data\n",
      "Error: destr0yed_.txt does not contain any TooltipEvent data\n",
      "Lasertag processed\n",
      "['__egE.txt', 'Tammywood.txt', 'BunnyKiko.txt', 'SpeckyCut.txt', 'sirmigorius.txt', 'Hyxeed.txt', 'demiu.txt', 'SpinCrafter.txt', 'NanamiElvi.txt', '_n3d.txt', 'Sebi1801.txt', 'AnzeigeGehtRaus.txt', 'JayMinInSane.txt', 'Persidieus.txt', 'N3XV.txt', 'Wissender.txt', 'Gryzes.txt', 'jimmi4Life.txt', 'Gobo9.txt', 'Anni808.txt', 'LeWi_100.txt', '_Waldi_.txt', 'Grapfen.txt', 'PixlNight.txt', 'dossantosaveiro_.txt', 'agowskyy.txt', 'TheBreadHD.txt', 'Axollotel.txt', 'T_Niko_T.txt', 'Vanillinchen.txt', 'Odlaa.txt', 'D4rkCookie.txt', 'yzvm.txt', 'Tim_Voltia.txt', 'xBaumeisterin.txt', 'Ungluecklicher.txt', 'Lutorix.txt', 'Ninivee.txt', 'ArthurAlchemist.txt', 'redbrll.txt', 'Gfrasti.txt', 'Muniix.txt', 'Tomiokey.txt', 'Carl1_1.txt', 'DerAutist.txt', 'PolizeiDreamy.txt', 'xX_Dima_ggg_Xx6.txt', 'CuzImKnxck.txt', 'Falke23_5.txt', 'yVendas.txt', 'TheFabo.txt', 'DieserBear.txt', 'SWLegende.txt', 'Picutar.txt', '2B9.txt', 'Otronix.txt', 'Schmaarek.txt', 'musi1999.txt', 'PumiTheCat.txt', 'HerrDante.txt', 'KakaMC.txt', 'StaudammAusHolz.txt', 'Lelouch610.txt', 'Kyuudo.txt', 'twitchparaskiill.txt', 'G0at3D.txt', 'SecretAgent_K.txt', 'KMaxN.txt', 'Sey__.txt', 'ForceFox.txt', 'toxicplace.txt', 'Gestimus.txt', 'yachayubin.txt', 'Wolkenfarmer.txt', 'y9nic.txt', 'KINT0.txt', 'zBro.txt', 'qriezmannsOpa.txt', 'Harold_Sensemann.txt', 'JustAnyy.txt', 'PedroZockt.txt', 'MrNulfred.txt', 'Cytoox.txt', 'IchHolzDichWeg.txt', 'GingerTeddy.txt', 'Kopfradio.txt', 'loukrativ.txt', 'M0osebumps.txt', 'SmartyxD.txt', 'Kokochampo.txt', 'JennieKim.txt', 'Umgfoin.txt', 'ffawks.txt', 'Proofreader.txt', 'byTobi.txt', 'Shiewk.txt', 'La_meleagro.txt', 'Squashgitter333.txt', 'Luxemburq.txt', 'DarkCobweb.txt', 'Sackkerl.txt', 'Sthyq.txt', 'Acidey.txt', 'Laaaachs.txt', 'HerosHD.txt', 'Lennart0911.txt', 'Nor_Malo.txt', 'Gerrygames.txt', 'BusinessBent.txt', 'Simlll.txt', 'YBCM.txt', 'Txlentierter.txt', 'Dat_Klan.txt', 'Luis_XYZ.txt', 'NiklasMoWo.txt', 'MaxMitMaulkorb.txt', 'Oronor.txt', 'GamemasterNiki.txt', 'LordAlexos.txt', 'Pluto28.txt', 'GrafikKatze.txt', '_Einfallslos_.txt', 'cediiiiii_10.txt', 'Dokkkkko.txt', 'deadfiight.txt', 'Kanickelul.txt', 'crocodile1870.txt', 'Sower_.txt', 'Steavn.txt', 'EinfachEazy.txt', 'yiiq.txt', 'NotLennart.txt', 'Snitcherella.txt', 'Keenaai.txt', 'xd_Maiky.txt', 'Kklopse.txt', 'xIForgotMySkill.txt', 'ReichesBrot.txt', 'lolisamasan.txt', 'Raefinzs.txt', 'JOW24.txt', 'ByNetherdude.txt', 'ZweitesIch.txt', 'frutigall.txt', 'LilFueller.txt', 'xiooh.txt', 'qMika.txt', 'rotmann2.txt', 'FlyingKyubi.txt', 'Joy_8oy.txt', 'BauHD.txt', 'CML_Justin.txt', 'MoZadaTV.txt', 'BastiGHG.txt', 'Gummibearchen.txt', 'Lord_Weibull.txt', 'Stockinqs.txt', 'GlowyDusk.txt', 'Scuprum.txt', 'h4nnes.txt', 'cheesecake2901.txt', 'DrSpeed06.txt', 'Krusti.txt', 'marbrueck.txt', 'Vacted.txt', 'Janne4k.txt', 'Bartschii.txt', 'Mansuni.txt', 'SB387.txt', 'medisant.txt', 'Phoenix3000.txt', 'JOW23.txt', 'Ritokii.txt', 'Juti0n.txt', 'lvlaurin.txt', 'Bikoop.txt', 'FrozenNoah.txt', 'GeneralEnte06.txt', 'Dubbly.txt', 'revolverz.txt', 'Highsay.txt', 'ScreamingBlatz.txt', 'RyanxCole.txt', 'shellny.txt', 'kfc_man069.txt', 'TheKillerisback.txt', 'M0orey_0.txt', 'Mincheeen.txt', '2wc.txt', 'Feinberg.txt', 'Navex.txt', 'NewNormal0947.txt', 'Teesily.txt', 'linastunna.txt', 'SiLoHB.txt', 'Morittz.txt', 'cxl1lo.txt', 'LeMetin_.txt', 'unausgesprochen.txt', 'Freeeedom.txt', 'miridis41.txt', 'zLachs.txt', 'Joe3346.txt', 'Lingex.txt', 'xX_Masha_ggg_Xx9.txt', 'Julius16.txt', 'lizsyy.txt', 'camman18YT.txt', 'Jan2220.txt', 'Falke_01.txt', 'DaVinci_Son.txt', 'SatzdesPytag0ras.txt', 'Flitzi_Dino.txt', 'Wienerisch.txt', 'Seemops_8.txt', 'GermanPie.txt', 'Bildungsarten.txt', 'chrisihalt.txt', 'schwarzekater.txt', 'FluffyDragon2007.txt', 'LucaaOn.txt', 'Allooy.txt', 'Chander24.txt', 'Fflopse.txt', 'vKito.txt', 'bawskey.txt', 'RasenLP.txt', 'WshPasie.txt', 'Joel_the_king.txt', 'CladyNoClip_.txt', 'WirdNichtGeladen.txt', 'WuschigesEtwas.txt', 'OutcroYoutube.txt', 'HeIsJustAPoorBoy.txt', 'FlyingAutismus.txt', 'destr0yed_.txt', 'Ex4cted.txt', 'Mvsk_.txt', 'MaxOnTheRoad.txt', 'swiffle.txt', 'juvona.txt', 'Lubottus.txt', 'Nervigerr.txt', 'lolisamakun.txt', 'Martomias.txt', '20LeRe10.txt']\n",
      "processing Minengefecht...\n",
      "Error: Tammywood.txt does not contain any TooltipEvent data\n",
      "Error: demiu.txt does not contain any TooltipEvent data\n",
      "Error: JayMinInSane.txt does not contain any TooltipEvent data\n",
      "Error: KINT0.txt does not contain any TooltipEvent data\n",
      "Error: SmartyxD.txt does not contain any TooltipEvent data\n",
      "Error: Lord_Weibull.txt does not contain any TooltipEvent data\n",
      "Error: Scuprum.txt does not contain any TooltipEvent data\n",
      "Error: Dubbly.txt does not contain any TooltipEvent data\n",
      "Error: destr0yed_.txt does not contain any TooltipEvent data\n",
      "Minengefecht processed\n",
      "['__egE.txt', 'Tammywood.txt', 'BunnyKiko.txt', 'SpeckyCut.txt', 'sirmigorius.txt', 'Hyxeed.txt', 'demiu.txt', 'SpinCrafter.txt', 'NanamiElvi.txt', '_n3d.txt', 'Sebi1801.txt', 'AnzeigeGehtRaus.txt', 'JayMinInSane.txt', 'Persidieus.txt', 'N3XV.txt', 'Wissender.txt', 'Gryzes.txt', 'jimmi4Life.txt', 'Gobo9.txt', 'Anni808.txt', 'LeWi_100.txt', '_Waldi_.txt', 'Grapfen.txt', 'PixlNight.txt', 'dossantosaveiro_.txt', 'agowskyy.txt', 'TheBreadHD.txt', 'Axollotel.txt', 'T_Niko_T.txt', 'Vanillinchen.txt', 'Odlaa.txt', 'D4rkCookie.txt', 'yzvm.txt', 'Tim_Voltia.txt', 'xBaumeisterin.txt', 'Ungluecklicher.txt', 'Lutorix.txt', 'Ninivee.txt', 'ArthurAlchemist.txt', 'redbrll.txt', 'Gfrasti.txt', 'Muniix.txt', 'Tomiokey.txt', 'Carl1_1.txt', 'DerAutist.txt', 'PolizeiDreamy.txt', 'xX_Dima_ggg_Xx6.txt', 'CuzImKnxck.txt', 'Falke23_5.txt', 'yVendas.txt', 'TheFabo.txt', 'DieserBear.txt', 'SWLegende.txt', 'Picutar.txt', '2B9.txt', 'Otronix.txt', 'Schmaarek.txt', 'musi1999.txt', 'PumiTheCat.txt', 'HerrDante.txt', 'KakaMC.txt', 'StaudammAusHolz.txt', 'Lelouch610.txt', 'Kyuudo.txt', 'twitchparaskiill.txt', 'G0at3D.txt', 'SecretAgent_K.txt', 'KMaxN.txt', 'Sey__.txt', 'ForceFox.txt', 'toxicplace.txt', 'Gestimus.txt', 'yachayubin.txt', 'Wolkenfarmer.txt', 'y9nic.txt', 'KINT0.txt', 'zBro.txt', 'qriezmannsOpa.txt', 'Harold_Sensemann.txt', 'JustAnyy.txt', 'PedroZockt.txt', 'MrNulfred.txt', 'Cytoox.txt', 'IchHolzDichWeg.txt', 'GingerTeddy.txt', 'Kopfradio.txt', 'loukrativ.txt', 'M0osebumps.txt', 'SmartyxD.txt', 'Kokochampo.txt', 'JennieKim.txt', 'Umgfoin.txt', 'ffawks.txt', 'Proofreader.txt', 'byTobi.txt', 'Shiewk.txt', 'La_meleagro.txt', 'Squashgitter333.txt', 'Luxemburq.txt', 'DarkCobweb.txt', 'Sackkerl.txt', 'Sthyq.txt', 'Acidey.txt', 'Laaaachs.txt', 'HerosHD.txt', 'Lennart0911.txt', 'Nor_Malo.txt', 'Gerrygames.txt', 'BusinessBent.txt', 'Simlll.txt', 'YBCM.txt', 'Txlentierter.txt', 'Dat_Klan.txt', 'Luis_XYZ.txt', 'NiklasMoWo.txt', 'MaxMitMaulkorb.txt', 'Oronor.txt', 'GamemasterNiki.txt', 'LordAlexos.txt', 'Pluto28.txt', 'GrafikKatze.txt', '_Einfallslos_.txt', 'cediiiiii_10.txt', 'Dokkkkko.txt', 'deadfiight.txt', 'Kanickelul.txt', 'crocodile1870.txt', 'Sower_.txt', 'Steavn.txt', 'EinfachEazy.txt', 'yiiq.txt', 'NotLennart.txt', 'Snitcherella.txt', 'Keenaai.txt', 'xd_Maiky.txt', 'Kklopse.txt', 'xIForgotMySkill.txt', 'ReichesBrot.txt', 'lolisamasan.txt', 'Raefinzs.txt', 'JOW24.txt', 'ByNetherdude.txt', 'ZweitesIch.txt', 'frutigall.txt', 'LilFueller.txt', 'xiooh.txt', 'qMika.txt', 'rotmann2.txt', 'FlyingKyubi.txt', 'Joy_8oy.txt', 'BauHD.txt', 'CML_Justin.txt', 'MoZadaTV.txt', 'BastiGHG.txt', 'Gummibearchen.txt', 'Lord_Weibull.txt', 'Stockinqs.txt', 'GlowyDusk.txt', 'Scuprum.txt', 'h4nnes.txt', 'cheesecake2901.txt', 'DrSpeed06.txt', 'Krusti.txt', 'marbrueck.txt', 'Vacted.txt', 'Janne4k.txt', 'Bartschii.txt', 'Mansuni.txt', 'SB387.txt', 'medisant.txt', 'Phoenix3000.txt', 'JOW23.txt', 'Ritokii.txt', 'Juti0n.txt', 'lvlaurin.txt', 'Bikoop.txt', 'FrozenNoah.txt', 'GeneralEnte06.txt', 'Dubbly.txt', 'revolverz.txt', 'Highsay.txt', 'ScreamingBlatz.txt', 'RyanxCole.txt', 'shellny.txt', 'kfc_man069.txt', 'TheKillerisback.txt', 'M0orey_0.txt', 'Mincheeen.txt', '2wc.txt', 'Feinberg.txt', 'Navex.txt', 'NewNormal0947.txt', 'Teesily.txt', 'linastunna.txt', 'SiLoHB.txt', 'Morittz.txt', 'cxl1lo.txt', 'LeMetin_.txt', 'unausgesprochen.txt', 'Freeeedom.txt', 'miridis41.txt', 'zLachs.txt', 'Joe3346.txt', 'Lingex.txt', 'xX_Masha_ggg_Xx9.txt', 'Julius16.txt', 'lizsyy.txt', 'camman18YT.txt', 'Jan2220.txt', 'Falke_01.txt', 'DaVinci_Son.txt', 'SatzdesPytag0ras.txt', 'Flitzi_Dino.txt', 'Wienerisch.txt', 'Seemops_8.txt', 'GermanPie.txt', 'Bildungsarten.txt', 'chrisihalt.txt', 'schwarzekater.txt', 'FluffyDragon2007.txt', 'LucaaOn.txt', 'Allooy.txt', 'Chander24.txt', 'Fflopse.txt', 'vKito.txt', 'bawskey.txt', 'RasenLP.txt', 'WshPasie.txt', 'Joel_the_king.txt', 'CladyNoClip_.txt', 'WirdNichtGeladen.txt', 'WuschigesEtwas.txt', 'OutcroYoutube.txt', 'HeIsJustAPoorBoy.txt', 'FlyingAutismus.txt', 'destr0yed_.txt', 'Ex4cted.txt', 'Mvsk_.txt', 'MaxOnTheRoad.txt', 'swiffle.txt', 'juvona.txt', 'Lubottus.txt', 'Nervigerr.txt', 'lolisamakun.txt', 'Martomias.txt', '20LeRe10.txt']\n",
      "processing Einer im Köcher...\n",
      "Error: Tammywood.txt does not contain any TooltipEvent data\n",
      "Error: demiu.txt does not contain any TooltipEvent data\n",
      "Error: JayMinInSane.txt does not contain any TooltipEvent data\n",
      "Error: KINT0.txt does not contain any TooltipEvent data\n",
      "Error: SmartyxD.txt does not contain any TooltipEvent data\n",
      "Error: Lord_Weibull.txt does not contain any TooltipEvent data\n",
      "Error: Scuprum.txt does not contain any TooltipEvent data\n",
      "Error: Dubbly.txt does not contain any TooltipEvent data\n",
      "Error: destr0yed_.txt does not contain any TooltipEvent data\n",
      "Einer im Köcher processed\n",
      "['__egE.txt', 'Tammywood.txt', 'BunnyKiko.txt', 'SpeckyCut.txt', 'sirmigorius.txt', 'Hyxeed.txt', 'demiu.txt', 'SpinCrafter.txt', 'NanamiElvi.txt', '_n3d.txt', 'Sebi1801.txt', 'AnzeigeGehtRaus.txt', 'JayMinInSane.txt', 'Persidieus.txt', 'N3XV.txt', 'Wissender.txt', 'Gryzes.txt', 'jimmi4Life.txt', 'Gobo9.txt', 'Anni808.txt', 'LeWi_100.txt', '_Waldi_.txt', 'Grapfen.txt', 'PixlNight.txt', 'dossantosaveiro_.txt', 'agowskyy.txt', 'TheBreadHD.txt', 'Axollotel.txt', 'T_Niko_T.txt', 'Vanillinchen.txt', 'Odlaa.txt', 'D4rkCookie.txt', 'yzvm.txt', 'Tim_Voltia.txt', 'xBaumeisterin.txt', 'Ungluecklicher.txt', 'Lutorix.txt', 'Ninivee.txt', 'ArthurAlchemist.txt', 'redbrll.txt', 'Gfrasti.txt', 'Muniix.txt', 'Tomiokey.txt', 'Carl1_1.txt', 'DerAutist.txt', 'PolizeiDreamy.txt', 'xX_Dima_ggg_Xx6.txt', 'CuzImKnxck.txt', 'Falke23_5.txt', 'yVendas.txt', 'TheFabo.txt', 'DieserBear.txt', 'SWLegende.txt', 'Picutar.txt', '2B9.txt', 'Otronix.txt', 'Schmaarek.txt', 'musi1999.txt', 'PumiTheCat.txt', 'HerrDante.txt', 'KakaMC.txt', 'StaudammAusHolz.txt', 'Lelouch610.txt', 'Kyuudo.txt', 'twitchparaskiill.txt', 'G0at3D.txt', 'SecretAgent_K.txt', 'KMaxN.txt', 'Sey__.txt', 'ForceFox.txt', 'toxicplace.txt', 'Gestimus.txt', 'yachayubin.txt', 'Wolkenfarmer.txt', 'y9nic.txt', 'KINT0.txt', 'zBro.txt', 'qriezmannsOpa.txt', 'Harold_Sensemann.txt', 'JustAnyy.txt', 'PedroZockt.txt', 'MrNulfred.txt', 'Cytoox.txt', 'IchHolzDichWeg.txt', 'GingerTeddy.txt', 'Kopfradio.txt', 'loukrativ.txt', 'M0osebumps.txt', 'SmartyxD.txt', 'Kokochampo.txt', 'JennieKim.txt', 'Umgfoin.txt', 'ffawks.txt', 'Proofreader.txt', 'byTobi.txt', 'Shiewk.txt', 'La_meleagro.txt', 'Squashgitter333.txt', 'Luxemburq.txt', 'DarkCobweb.txt', 'Sackkerl.txt', 'Sthyq.txt', 'Acidey.txt', 'Laaaachs.txt', 'HerosHD.txt', 'Lennart0911.txt', 'Nor_Malo.txt', 'Gerrygames.txt', 'BusinessBent.txt', 'Simlll.txt', 'YBCM.txt', 'Txlentierter.txt', 'Dat_Klan.txt', 'Luis_XYZ.txt', 'NiklasMoWo.txt', 'MaxMitMaulkorb.txt', 'Oronor.txt', 'GamemasterNiki.txt', 'LordAlexos.txt', 'Pluto28.txt', 'GrafikKatze.txt', '_Einfallslos_.txt', 'cediiiiii_10.txt', 'Dokkkkko.txt', 'deadfiight.txt', 'Kanickelul.txt', 'crocodile1870.txt', 'Sower_.txt', 'Steavn.txt', 'EinfachEazy.txt', 'yiiq.txt', 'NotLennart.txt', 'Snitcherella.txt', 'Keenaai.txt', 'xd_Maiky.txt', 'Kklopse.txt', 'xIForgotMySkill.txt', 'ReichesBrot.txt', 'lolisamasan.txt', 'Raefinzs.txt', 'JOW24.txt', 'ByNetherdude.txt', 'ZweitesIch.txt', 'frutigall.txt', 'LilFueller.txt', 'xiooh.txt', 'qMika.txt', 'rotmann2.txt', 'FlyingKyubi.txt', 'Joy_8oy.txt', 'BauHD.txt', 'CML_Justin.txt', 'MoZadaTV.txt', 'BastiGHG.txt', 'Gummibearchen.txt', 'Lord_Weibull.txt', 'Stockinqs.txt', 'GlowyDusk.txt', 'Scuprum.txt', 'h4nnes.txt', 'cheesecake2901.txt', 'DrSpeed06.txt', 'Krusti.txt', 'marbrueck.txt', 'Vacted.txt', 'Janne4k.txt', 'Bartschii.txt', 'Mansuni.txt', 'SB387.txt', 'medisant.txt', 'Phoenix3000.txt', 'JOW23.txt', 'Ritokii.txt', 'Juti0n.txt', 'lvlaurin.txt', 'Bikoop.txt', 'FrozenNoah.txt', 'GeneralEnte06.txt', 'Dubbly.txt', 'revolverz.txt', 'Highsay.txt', 'ScreamingBlatz.txt', 'RyanxCole.txt', 'shellny.txt', 'kfc_man069.txt', 'TheKillerisback.txt', 'M0orey_0.txt', 'Mincheeen.txt', '2wc.txt', 'Feinberg.txt', 'Navex.txt', 'NewNormal0947.txt', 'Teesily.txt', 'linastunna.txt', 'SiLoHB.txt', 'Morittz.txt', 'cxl1lo.txt', 'LeMetin_.txt', 'unausgesprochen.txt', 'Freeeedom.txt', 'miridis41.txt', 'zLachs.txt', 'Joe3346.txt', 'Lingex.txt', 'xX_Masha_ggg_Xx9.txt', 'Julius16.txt', 'lizsyy.txt', 'camman18YT.txt', 'Jan2220.txt', 'Falke_01.txt', 'DaVinci_Son.txt', 'SatzdesPytag0ras.txt', 'Flitzi_Dino.txt', 'Wienerisch.txt', 'Seemops_8.txt', 'GermanPie.txt', 'Bildungsarten.txt', 'chrisihalt.txt', 'schwarzekater.txt', 'FluffyDragon2007.txt', 'LucaaOn.txt', 'Allooy.txt', 'Chander24.txt', 'Fflopse.txt', 'vKito.txt', 'bawskey.txt', 'RasenLP.txt', 'WshPasie.txt', 'Joel_the_king.txt', 'CladyNoClip_.txt', 'WirdNichtGeladen.txt', 'WuschigesEtwas.txt', 'OutcroYoutube.txt', 'HeIsJustAPoorBoy.txt', 'FlyingAutismus.txt', 'destr0yed_.txt', 'Ex4cted.txt', 'Mvsk_.txt', 'MaxOnTheRoad.txt', 'swiffle.txt', 'juvona.txt', 'Lubottus.txt', 'Nervigerr.txt', 'lolisamakun.txt', 'Martomias.txt', '20LeRe10.txt']\n",
      "processing Paintball...\n",
      "Error: Tammywood.txt does not contain any TooltipEvent data\n",
      "Error: demiu.txt does not contain any TooltipEvent data\n",
      "Error: JayMinInSane.txt does not contain any TooltipEvent data\n",
      "Error: KINT0.txt does not contain any TooltipEvent data\n",
      "Error: SmartyxD.txt does not contain any TooltipEvent data\n",
      "Error: Lord_Weibull.txt does not contain any TooltipEvent data\n",
      "Error: Scuprum.txt does not contain any TooltipEvent data\n",
      "Error: Dubbly.txt does not contain any TooltipEvent data\n",
      "Error: destr0yed_.txt does not contain any TooltipEvent data\n",
      "Paintball processed\n",
      "['__egE.txt', 'Tammywood.txt', 'BunnyKiko.txt', 'SpeckyCut.txt', 'sirmigorius.txt', 'Hyxeed.txt', 'demiu.txt', 'SpinCrafter.txt', 'NanamiElvi.txt', '_n3d.txt', 'Sebi1801.txt', 'AnzeigeGehtRaus.txt', 'JayMinInSane.txt', 'Persidieus.txt', 'N3XV.txt', 'Wissender.txt', 'Gryzes.txt', 'jimmi4Life.txt', 'Gobo9.txt', 'Anni808.txt', 'LeWi_100.txt', '_Waldi_.txt', 'Grapfen.txt', 'PixlNight.txt', 'dossantosaveiro_.txt', 'agowskyy.txt', 'TheBreadHD.txt', 'Axollotel.txt', 'T_Niko_T.txt', 'Vanillinchen.txt', 'Odlaa.txt', 'D4rkCookie.txt', 'yzvm.txt', 'Tim_Voltia.txt', 'xBaumeisterin.txt', 'Ungluecklicher.txt', 'Lutorix.txt', 'Ninivee.txt', 'ArthurAlchemist.txt', 'redbrll.txt', 'Gfrasti.txt', 'Muniix.txt', 'Tomiokey.txt', 'Carl1_1.txt', 'DerAutist.txt', 'PolizeiDreamy.txt', 'xX_Dima_ggg_Xx6.txt', 'CuzImKnxck.txt', 'Falke23_5.txt', 'yVendas.txt', 'TheFabo.txt', 'DieserBear.txt', 'SWLegende.txt', 'Picutar.txt', '2B9.txt', 'Otronix.txt', 'Schmaarek.txt', 'musi1999.txt', 'PumiTheCat.txt', 'HerrDante.txt', 'KakaMC.txt', 'StaudammAusHolz.txt', 'Lelouch610.txt', 'Kyuudo.txt', 'twitchparaskiill.txt', 'G0at3D.txt', 'SecretAgent_K.txt', 'KMaxN.txt', 'Sey__.txt', 'ForceFox.txt', 'toxicplace.txt', 'Gestimus.txt', 'yachayubin.txt', 'Wolkenfarmer.txt', 'y9nic.txt', 'KINT0.txt', 'zBro.txt', 'qriezmannsOpa.txt', 'Harold_Sensemann.txt', 'JustAnyy.txt', 'PedroZockt.txt', 'MrNulfred.txt', 'Cytoox.txt', 'IchHolzDichWeg.txt', 'GingerTeddy.txt', 'Kopfradio.txt', 'loukrativ.txt', 'M0osebumps.txt', 'SmartyxD.txt', 'Kokochampo.txt', 'JennieKim.txt', 'Umgfoin.txt', 'ffawks.txt', 'Proofreader.txt', 'byTobi.txt', 'Shiewk.txt', 'La_meleagro.txt', 'Squashgitter333.txt', 'Luxemburq.txt', 'DarkCobweb.txt', 'Sackkerl.txt', 'Sthyq.txt', 'Acidey.txt', 'Laaaachs.txt', 'HerosHD.txt', 'Lennart0911.txt', 'Nor_Malo.txt', 'Gerrygames.txt', 'BusinessBent.txt', 'Simlll.txt', 'YBCM.txt', 'Txlentierter.txt', 'Dat_Klan.txt', 'Luis_XYZ.txt', 'NiklasMoWo.txt', 'MaxMitMaulkorb.txt', 'Oronor.txt', 'GamemasterNiki.txt', 'LordAlexos.txt', 'Pluto28.txt', 'GrafikKatze.txt', '_Einfallslos_.txt', 'cediiiiii_10.txt', 'Dokkkkko.txt', 'deadfiight.txt', 'Kanickelul.txt', 'crocodile1870.txt', 'Sower_.txt', 'Steavn.txt', 'EinfachEazy.txt', 'yiiq.txt', 'NotLennart.txt', 'Snitcherella.txt', 'Keenaai.txt', 'xd_Maiky.txt', 'Kklopse.txt', 'xIForgotMySkill.txt', 'ReichesBrot.txt', 'lolisamasan.txt', 'Raefinzs.txt', 'JOW24.txt', 'ByNetherdude.txt', 'ZweitesIch.txt', 'frutigall.txt', 'LilFueller.txt', 'xiooh.txt', 'qMika.txt', 'rotmann2.txt', 'FlyingKyubi.txt', 'Joy_8oy.txt', 'BauHD.txt', 'CML_Justin.txt', 'MoZadaTV.txt', 'BastiGHG.txt', 'Gummibearchen.txt', 'Lord_Weibull.txt', 'Stockinqs.txt', 'GlowyDusk.txt', 'Scuprum.txt', 'h4nnes.txt', 'cheesecake2901.txt', 'DrSpeed06.txt', 'Krusti.txt', 'marbrueck.txt', 'Vacted.txt', 'Janne4k.txt', 'Bartschii.txt', 'Mansuni.txt', 'SB387.txt', 'medisant.txt', 'Phoenix3000.txt', 'JOW23.txt', 'Ritokii.txt', 'Juti0n.txt', 'lvlaurin.txt', 'Bikoop.txt', 'FrozenNoah.txt', 'GeneralEnte06.txt', 'Dubbly.txt', 'revolverz.txt', 'Highsay.txt', 'ScreamingBlatz.txt', 'RyanxCole.txt', 'shellny.txt', 'kfc_man069.txt', 'TheKillerisback.txt', 'M0orey_0.txt', 'Mincheeen.txt', '2wc.txt', 'Feinberg.txt', 'Navex.txt', 'NewNormal0947.txt', 'Teesily.txt', 'linastunna.txt', 'SiLoHB.txt', 'Morittz.txt', 'cxl1lo.txt', 'LeMetin_.txt', 'unausgesprochen.txt', 'Freeeedom.txt', 'miridis41.txt', 'zLachs.txt', 'Joe3346.txt', 'Lingex.txt', 'xX_Masha_ggg_Xx9.txt', 'Julius16.txt', 'lizsyy.txt', 'camman18YT.txt', 'Jan2220.txt', 'Falke_01.txt', 'DaVinci_Son.txt', 'SatzdesPytag0ras.txt', 'Flitzi_Dino.txt', 'Wienerisch.txt', 'Seemops_8.txt', 'GermanPie.txt', 'Bildungsarten.txt', 'chrisihalt.txt', 'schwarzekater.txt', 'FluffyDragon2007.txt', 'LucaaOn.txt', 'Allooy.txt', 'Chander24.txt', 'Fflopse.txt', 'vKito.txt', 'bawskey.txt', 'RasenLP.txt', 'WshPasie.txt', 'Joel_the_king.txt', 'CladyNoClip_.txt', 'WirdNichtGeladen.txt', 'WuschigesEtwas.txt', 'OutcroYoutube.txt', 'HeIsJustAPoorBoy.txt', 'FlyingAutismus.txt', 'destr0yed_.txt', 'Ex4cted.txt', 'Mvsk_.txt', 'MaxOnTheRoad.txt', 'swiffle.txt', 'juvona.txt', 'Lubottus.txt', 'Nervigerr.txt', 'lolisamakun.txt', 'Martomias.txt', '20LeRe10.txt']\n",
      "processing Spleef...\n",
      "Error: Tammywood.txt does not contain any TooltipEvent data\n",
      "Error: demiu.txt does not contain any TooltipEvent data\n",
      "Error: JayMinInSane.txt does not contain any TooltipEvent data\n",
      "Error: KINT0.txt does not contain any TooltipEvent data\n",
      "Error: SmartyxD.txt does not contain any TooltipEvent data\n",
      "Error: Lord_Weibull.txt does not contain any TooltipEvent data\n",
      "Error: Scuprum.txt does not contain any TooltipEvent data\n",
      "Error: Dubbly.txt does not contain any TooltipEvent data\n",
      "Error: destr0yed_.txt does not contain any TooltipEvent data\n",
      "Spleef processed\n",
      "['__egE.txt', 'Tammywood.txt', 'BunnyKiko.txt', 'SpeckyCut.txt', 'sirmigorius.txt', 'Hyxeed.txt', 'demiu.txt', 'SpinCrafter.txt', 'NanamiElvi.txt', '_n3d.txt', 'Sebi1801.txt', 'AnzeigeGehtRaus.txt', 'JayMinInSane.txt', 'Persidieus.txt', 'N3XV.txt', 'Wissender.txt', 'Gryzes.txt', 'jimmi4Life.txt', 'Gobo9.txt', 'Anni808.txt', 'LeWi_100.txt', '_Waldi_.txt', 'Grapfen.txt', 'PixlNight.txt', 'dossantosaveiro_.txt', 'agowskyy.txt', 'TheBreadHD.txt', 'Axollotel.txt', 'T_Niko_T.txt', 'Vanillinchen.txt', 'Odlaa.txt', 'D4rkCookie.txt', 'yzvm.txt', 'Tim_Voltia.txt', 'xBaumeisterin.txt', 'Ungluecklicher.txt', 'Lutorix.txt', 'Ninivee.txt', 'ArthurAlchemist.txt', 'redbrll.txt', 'Gfrasti.txt', 'Muniix.txt', 'Tomiokey.txt', 'Carl1_1.txt', 'DerAutist.txt', 'PolizeiDreamy.txt', 'xX_Dima_ggg_Xx6.txt', 'CuzImKnxck.txt', 'Falke23_5.txt', 'yVendas.txt', 'TheFabo.txt', 'DieserBear.txt', 'SWLegende.txt', 'Picutar.txt', '2B9.txt', 'Otronix.txt', 'Schmaarek.txt', 'musi1999.txt', 'PumiTheCat.txt', 'HerrDante.txt', 'KakaMC.txt', 'StaudammAusHolz.txt', 'Lelouch610.txt', 'Kyuudo.txt', 'twitchparaskiill.txt', 'G0at3D.txt', 'SecretAgent_K.txt', 'KMaxN.txt', 'Sey__.txt', 'ForceFox.txt', 'toxicplace.txt', 'Gestimus.txt', 'yachayubin.txt', 'Wolkenfarmer.txt', 'y9nic.txt', 'KINT0.txt', 'zBro.txt', 'qriezmannsOpa.txt', 'Harold_Sensemann.txt', 'JustAnyy.txt', 'PedroZockt.txt', 'MrNulfred.txt', 'Cytoox.txt', 'IchHolzDichWeg.txt', 'GingerTeddy.txt', 'Kopfradio.txt', 'loukrativ.txt', 'M0osebumps.txt', 'SmartyxD.txt', 'Kokochampo.txt', 'JennieKim.txt', 'Umgfoin.txt', 'ffawks.txt', 'Proofreader.txt', 'byTobi.txt', 'Shiewk.txt', 'La_meleagro.txt', 'Squashgitter333.txt', 'Luxemburq.txt', 'DarkCobweb.txt', 'Sackkerl.txt', 'Sthyq.txt', 'Acidey.txt', 'Laaaachs.txt', 'HerosHD.txt', 'Lennart0911.txt', 'Nor_Malo.txt', 'Gerrygames.txt', 'BusinessBent.txt', 'Simlll.txt', 'YBCM.txt', 'Txlentierter.txt', 'Dat_Klan.txt', 'Luis_XYZ.txt', 'NiklasMoWo.txt', 'MaxMitMaulkorb.txt', 'Oronor.txt', 'GamemasterNiki.txt', 'LordAlexos.txt', 'Pluto28.txt', 'GrafikKatze.txt', '_Einfallslos_.txt', 'cediiiiii_10.txt', 'Dokkkkko.txt', 'deadfiight.txt', 'Kanickelul.txt', 'crocodile1870.txt', 'Sower_.txt', 'Steavn.txt', 'EinfachEazy.txt', 'yiiq.txt', 'NotLennart.txt', 'Snitcherella.txt', 'Keenaai.txt', 'xd_Maiky.txt', 'Kklopse.txt', 'xIForgotMySkill.txt', 'ReichesBrot.txt', 'lolisamasan.txt', 'Raefinzs.txt', 'JOW24.txt', 'ByNetherdude.txt', 'ZweitesIch.txt', 'frutigall.txt', 'LilFueller.txt', 'xiooh.txt', 'qMika.txt', 'rotmann2.txt', 'FlyingKyubi.txt', 'Joy_8oy.txt', 'BauHD.txt', 'CML_Justin.txt', 'MoZadaTV.txt', 'BastiGHG.txt', 'Gummibearchen.txt', 'Lord_Weibull.txt', 'Stockinqs.txt', 'GlowyDusk.txt', 'Scuprum.txt', 'h4nnes.txt', 'cheesecake2901.txt', 'DrSpeed06.txt', 'Krusti.txt', 'marbrueck.txt', 'Vacted.txt', 'Janne4k.txt', 'Bartschii.txt', 'Mansuni.txt', 'SB387.txt', 'medisant.txt', 'Phoenix3000.txt', 'JOW23.txt', 'Ritokii.txt', 'Juti0n.txt', 'lvlaurin.txt', 'Bikoop.txt', 'FrozenNoah.txt', 'GeneralEnte06.txt', 'Dubbly.txt', 'revolverz.txt', 'Highsay.txt', 'ScreamingBlatz.txt', 'RyanxCole.txt', 'shellny.txt', 'kfc_man069.txt', 'TheKillerisback.txt', 'M0orey_0.txt', 'Mincheeen.txt', '2wc.txt', 'Feinberg.txt', 'Navex.txt', 'NewNormal0947.txt', 'Teesily.txt', 'linastunna.txt', 'SiLoHB.txt', 'Morittz.txt', 'cxl1lo.txt', 'LeMetin_.txt', 'unausgesprochen.txt', 'Freeeedom.txt', 'miridis41.txt', 'zLachs.txt', 'Joe3346.txt', 'Lingex.txt', 'xX_Masha_ggg_Xx9.txt', 'Julius16.txt', 'lizsyy.txt', 'camman18YT.txt', 'Jan2220.txt', 'Falke_01.txt', 'DaVinci_Son.txt', 'SatzdesPytag0ras.txt', 'Flitzi_Dino.txt', 'Wienerisch.txt', 'Seemops_8.txt', 'GermanPie.txt', 'Bildungsarten.txt', 'chrisihalt.txt', 'schwarzekater.txt', 'FluffyDragon2007.txt', 'LucaaOn.txt', 'Allooy.txt', 'Chander24.txt', 'Fflopse.txt', 'vKito.txt', 'bawskey.txt', 'RasenLP.txt', 'WshPasie.txt', 'Joel_the_king.txt', 'CladyNoClip_.txt', 'WirdNichtGeladen.txt', 'WuschigesEtwas.txt', 'OutcroYoutube.txt', 'HeIsJustAPoorBoy.txt', 'FlyingAutismus.txt', 'destr0yed_.txt', 'Ex4cted.txt', 'Mvsk_.txt', 'MaxOnTheRoad.txt', 'swiffle.txt', 'juvona.txt', 'Lubottus.txt', 'Nervigerr.txt', 'lolisamakun.txt', 'Martomias.txt', '20LeRe10.txt']\n",
      "processing Buntes Chaos...\n",
      "Error: Tammywood.txt does not contain any TooltipEvent data\n",
      "Error: demiu.txt does not contain any TooltipEvent data\n",
      "Error: JayMinInSane.txt does not contain any TooltipEvent data\n",
      "Error: KINT0.txt does not contain any TooltipEvent data\n",
      "Error: SmartyxD.txt does not contain any TooltipEvent data\n",
      "Error: Lord_Weibull.txt does not contain any TooltipEvent data\n",
      "Error: Scuprum.txt does not contain any TooltipEvent data\n",
      "Error: Dubbly.txt does not contain any TooltipEvent data\n",
      "Error: destr0yed_.txt does not contain any TooltipEvent data\n",
      "Buntes Chaos processed\n",
      "['__egE.txt', 'Tammywood.txt', 'BunnyKiko.txt', 'SpeckyCut.txt', 'sirmigorius.txt', 'Hyxeed.txt', 'demiu.txt', 'SpinCrafter.txt', 'NanamiElvi.txt', '_n3d.txt', 'Sebi1801.txt', 'AnzeigeGehtRaus.txt', 'JayMinInSane.txt', 'Persidieus.txt', 'N3XV.txt', 'Wissender.txt', 'Gryzes.txt', 'jimmi4Life.txt', 'Gobo9.txt', 'Anni808.txt', 'LeWi_100.txt', '_Waldi_.txt', 'Grapfen.txt', 'PixlNight.txt', 'dossantosaveiro_.txt', 'agowskyy.txt', 'TheBreadHD.txt', 'Axollotel.txt', 'T_Niko_T.txt', 'Vanillinchen.txt', 'Odlaa.txt', 'D4rkCookie.txt', 'yzvm.txt', 'Tim_Voltia.txt', 'xBaumeisterin.txt', 'Ungluecklicher.txt', 'Lutorix.txt', 'Ninivee.txt', 'ArthurAlchemist.txt', 'redbrll.txt', 'Gfrasti.txt', 'Muniix.txt', 'Tomiokey.txt', 'Carl1_1.txt', 'DerAutist.txt', 'PolizeiDreamy.txt', 'xX_Dima_ggg_Xx6.txt', 'CuzImKnxck.txt', 'Falke23_5.txt', 'yVendas.txt', 'TheFabo.txt', 'DieserBear.txt', 'SWLegende.txt', 'Picutar.txt', '2B9.txt', 'Otronix.txt', 'Schmaarek.txt', 'musi1999.txt', 'PumiTheCat.txt', 'HerrDante.txt', 'KakaMC.txt', 'StaudammAusHolz.txt', 'Lelouch610.txt', 'Kyuudo.txt', 'twitchparaskiill.txt', 'G0at3D.txt', 'SecretAgent_K.txt', 'KMaxN.txt', 'Sey__.txt', 'ForceFox.txt', 'toxicplace.txt', 'Gestimus.txt', 'yachayubin.txt', 'Wolkenfarmer.txt', 'y9nic.txt', 'KINT0.txt', 'zBro.txt', 'qriezmannsOpa.txt', 'Harold_Sensemann.txt', 'JustAnyy.txt', 'PedroZockt.txt', 'MrNulfred.txt', 'Cytoox.txt', 'IchHolzDichWeg.txt', 'GingerTeddy.txt', 'Kopfradio.txt', 'loukrativ.txt', 'M0osebumps.txt', 'SmartyxD.txt', 'Kokochampo.txt', 'JennieKim.txt', 'Umgfoin.txt', 'ffawks.txt', 'Proofreader.txt', 'byTobi.txt', 'Shiewk.txt', 'La_meleagro.txt', 'Squashgitter333.txt', 'Luxemburq.txt', 'DarkCobweb.txt', 'Sackkerl.txt', 'Sthyq.txt', 'Acidey.txt', 'Laaaachs.txt', 'HerosHD.txt', 'Lennart0911.txt', 'Nor_Malo.txt', 'Gerrygames.txt', 'BusinessBent.txt', 'Simlll.txt', 'YBCM.txt', 'Txlentierter.txt', 'Dat_Klan.txt', 'Luis_XYZ.txt', 'NiklasMoWo.txt', 'MaxMitMaulkorb.txt', 'Oronor.txt', 'GamemasterNiki.txt', 'LordAlexos.txt', 'Pluto28.txt', 'GrafikKatze.txt', '_Einfallslos_.txt', 'cediiiiii_10.txt', 'Dokkkkko.txt', 'deadfiight.txt', 'Kanickelul.txt', 'crocodile1870.txt', 'Sower_.txt', 'Steavn.txt', 'EinfachEazy.txt', 'yiiq.txt', 'NotLennart.txt', 'Snitcherella.txt', 'Keenaai.txt', 'xd_Maiky.txt', 'Kklopse.txt', 'xIForgotMySkill.txt', 'ReichesBrot.txt', 'lolisamasan.txt', 'Raefinzs.txt', 'JOW24.txt', 'ByNetherdude.txt', 'ZweitesIch.txt', 'frutigall.txt', 'LilFueller.txt', 'xiooh.txt', 'qMika.txt', 'rotmann2.txt', 'FlyingKyubi.txt', 'Joy_8oy.txt', 'BauHD.txt', 'CML_Justin.txt', 'MoZadaTV.txt', 'BastiGHG.txt', 'Gummibearchen.txt', 'Lord_Weibull.txt', 'Stockinqs.txt', 'GlowyDusk.txt', 'Scuprum.txt', 'h4nnes.txt', 'cheesecake2901.txt', 'DrSpeed06.txt', 'Krusti.txt', 'marbrueck.txt', 'Vacted.txt', 'Janne4k.txt', 'Bartschii.txt', 'Mansuni.txt', 'SB387.txt', 'medisant.txt', 'Phoenix3000.txt', 'JOW23.txt', 'Ritokii.txt', 'Juti0n.txt', 'lvlaurin.txt', 'Bikoop.txt', 'FrozenNoah.txt', 'GeneralEnte06.txt', 'Dubbly.txt', 'revolverz.txt', 'Highsay.txt', 'ScreamingBlatz.txt', 'RyanxCole.txt', 'shellny.txt', 'kfc_man069.txt', 'TheKillerisback.txt', 'M0orey_0.txt', 'Mincheeen.txt', '2wc.txt', 'Feinberg.txt', 'Navex.txt', 'NewNormal0947.txt', 'Teesily.txt', 'linastunna.txt', 'SiLoHB.txt', 'Morittz.txt', 'cxl1lo.txt', 'LeMetin_.txt', 'unausgesprochen.txt', 'Freeeedom.txt', 'miridis41.txt', 'zLachs.txt', 'Joe3346.txt', 'Lingex.txt', 'xX_Masha_ggg_Xx9.txt', 'Julius16.txt', 'lizsyy.txt', 'camman18YT.txt', 'Jan2220.txt', 'Falke_01.txt', 'DaVinci_Son.txt', 'SatzdesPytag0ras.txt', 'Flitzi_Dino.txt', 'Wienerisch.txt', 'Seemops_8.txt', 'GermanPie.txt', 'Bildungsarten.txt', 'chrisihalt.txt', 'schwarzekater.txt', 'FluffyDragon2007.txt', 'LucaaOn.txt', 'Allooy.txt', 'Chander24.txt', 'Fflopse.txt', 'vKito.txt', 'bawskey.txt', 'RasenLP.txt', 'WshPasie.txt', 'Joel_the_king.txt', 'CladyNoClip_.txt', 'WirdNichtGeladen.txt', 'WuschigesEtwas.txt', 'OutcroYoutube.txt', 'HeIsJustAPoorBoy.txt', 'FlyingAutismus.txt', 'destr0yed_.txt', 'Ex4cted.txt', 'Mvsk_.txt', 'MaxOnTheRoad.txt', 'swiffle.txt', 'juvona.txt', 'Lubottus.txt', 'Nervigerr.txt', 'lolisamakun.txt', 'Martomias.txt', '20LeRe10.txt']\n",
      "processing Reihenfolge...\n",
      "Error: Tammywood.txt does not contain any TooltipEvent data\n",
      "Error: demiu.txt does not contain any TooltipEvent data\n",
      "Error: JayMinInSane.txt does not contain any TooltipEvent data\n",
      "Error: KINT0.txt does not contain any TooltipEvent data\n",
      "Error: SmartyxD.txt does not contain any TooltipEvent data\n",
      "Error: Lord_Weibull.txt does not contain any TooltipEvent data\n",
      "Error: Scuprum.txt does not contain any TooltipEvent data\n",
      "Error: Dubbly.txt does not contain any TooltipEvent data\n",
      "Error: destr0yed_.txt does not contain any TooltipEvent data\n",
      "Reihenfolge processed\n",
      "['__egE.txt', 'Tammywood.txt', 'BunnyKiko.txt', 'SpeckyCut.txt', 'sirmigorius.txt', 'Hyxeed.txt', 'demiu.txt', 'SpinCrafter.txt', 'NanamiElvi.txt', '_n3d.txt', 'Sebi1801.txt', 'AnzeigeGehtRaus.txt', 'JayMinInSane.txt', 'Persidieus.txt', 'N3XV.txt', 'Wissender.txt', 'Gryzes.txt', 'jimmi4Life.txt', 'Gobo9.txt', 'Anni808.txt', 'LeWi_100.txt', '_Waldi_.txt', 'Grapfen.txt', 'PixlNight.txt', 'dossantosaveiro_.txt', 'agowskyy.txt', 'TheBreadHD.txt', 'Axollotel.txt', 'T_Niko_T.txt', 'Vanillinchen.txt', 'Odlaa.txt', 'D4rkCookie.txt', 'yzvm.txt', 'Tim_Voltia.txt', 'xBaumeisterin.txt', 'Ungluecklicher.txt', 'Lutorix.txt', 'Ninivee.txt', 'ArthurAlchemist.txt', 'redbrll.txt', 'Gfrasti.txt', 'Muniix.txt', 'Tomiokey.txt', 'Carl1_1.txt', 'DerAutist.txt', 'PolizeiDreamy.txt', 'xX_Dima_ggg_Xx6.txt', 'CuzImKnxck.txt', 'Falke23_5.txt', 'yVendas.txt', 'TheFabo.txt', 'DieserBear.txt', 'SWLegende.txt', 'Picutar.txt', '2B9.txt', 'Otronix.txt', 'Schmaarek.txt', 'musi1999.txt', 'PumiTheCat.txt', 'HerrDante.txt', 'KakaMC.txt', 'StaudammAusHolz.txt', 'Lelouch610.txt', 'Kyuudo.txt', 'twitchparaskiill.txt', 'G0at3D.txt', 'SecretAgent_K.txt', 'KMaxN.txt', 'Sey__.txt', 'ForceFox.txt', 'toxicplace.txt', 'Gestimus.txt', 'yachayubin.txt', 'Wolkenfarmer.txt', 'y9nic.txt', 'KINT0.txt', 'zBro.txt', 'qriezmannsOpa.txt', 'Harold_Sensemann.txt', 'JustAnyy.txt', 'PedroZockt.txt', 'MrNulfred.txt', 'Cytoox.txt', 'IchHolzDichWeg.txt', 'GingerTeddy.txt', 'Kopfradio.txt', 'loukrativ.txt', 'M0osebumps.txt', 'SmartyxD.txt', 'Kokochampo.txt', 'JennieKim.txt', 'Umgfoin.txt', 'ffawks.txt', 'Proofreader.txt', 'byTobi.txt', 'Shiewk.txt', 'La_meleagro.txt', 'Squashgitter333.txt', 'Luxemburq.txt', 'DarkCobweb.txt', 'Sackkerl.txt', 'Sthyq.txt', 'Acidey.txt', 'Laaaachs.txt', 'HerosHD.txt', 'Lennart0911.txt', 'Nor_Malo.txt', 'Gerrygames.txt', 'BusinessBent.txt', 'Simlll.txt', 'YBCM.txt', 'Txlentierter.txt', 'Dat_Klan.txt', 'Luis_XYZ.txt', 'NiklasMoWo.txt', 'MaxMitMaulkorb.txt', 'Oronor.txt', 'GamemasterNiki.txt', 'LordAlexos.txt', 'Pluto28.txt', 'GrafikKatze.txt', '_Einfallslos_.txt', 'cediiiiii_10.txt', 'Dokkkkko.txt', 'deadfiight.txt', 'Kanickelul.txt', 'crocodile1870.txt', 'Sower_.txt', 'Steavn.txt', 'EinfachEazy.txt', 'yiiq.txt', 'NotLennart.txt', 'Snitcherella.txt', 'Keenaai.txt', 'xd_Maiky.txt', 'Kklopse.txt', 'xIForgotMySkill.txt', 'ReichesBrot.txt', 'lolisamasan.txt', 'Raefinzs.txt', 'JOW24.txt', 'ByNetherdude.txt', 'ZweitesIch.txt', 'frutigall.txt', 'LilFueller.txt', 'xiooh.txt', 'qMika.txt', 'rotmann2.txt', 'FlyingKyubi.txt', 'Joy_8oy.txt', 'BauHD.txt', 'CML_Justin.txt', 'MoZadaTV.txt', 'BastiGHG.txt', 'Gummibearchen.txt', 'Lord_Weibull.txt', 'Stockinqs.txt', 'GlowyDusk.txt', 'Scuprum.txt', 'h4nnes.txt', 'cheesecake2901.txt', 'DrSpeed06.txt', 'Krusti.txt', 'marbrueck.txt', 'Vacted.txt', 'Janne4k.txt', 'Bartschii.txt', 'Mansuni.txt', 'SB387.txt', 'medisant.txt', 'Phoenix3000.txt', 'JOW23.txt', 'Ritokii.txt', 'Juti0n.txt', 'lvlaurin.txt', 'Bikoop.txt', 'FrozenNoah.txt', 'GeneralEnte06.txt', 'Dubbly.txt', 'revolverz.txt', 'Highsay.txt', 'ScreamingBlatz.txt', 'RyanxCole.txt', 'shellny.txt', 'kfc_man069.txt', 'TheKillerisback.txt', 'M0orey_0.txt', 'Mincheeen.txt', '2wc.txt', 'Feinberg.txt', 'Navex.txt', 'NewNormal0947.txt', 'Teesily.txt', 'linastunna.txt', 'SiLoHB.txt', 'Morittz.txt', 'cxl1lo.txt', 'LeMetin_.txt', 'unausgesprochen.txt', 'Freeeedom.txt', 'miridis41.txt', 'zLachs.txt', 'Joe3346.txt', 'Lingex.txt', 'xX_Masha_ggg_Xx9.txt', 'Julius16.txt', 'lizsyy.txt', 'camman18YT.txt', 'Jan2220.txt', 'Falke_01.txt', 'DaVinci_Son.txt', 'SatzdesPytag0ras.txt', 'Flitzi_Dino.txt', 'Wienerisch.txt', 'Seemops_8.txt', 'GermanPie.txt', 'Bildungsarten.txt', 'chrisihalt.txt', 'schwarzekater.txt', 'FluffyDragon2007.txt', 'LucaaOn.txt', 'Allooy.txt', 'Chander24.txt', 'Fflopse.txt', 'vKito.txt', 'bawskey.txt', 'RasenLP.txt', 'WshPasie.txt', 'Joel_the_king.txt', 'CladyNoClip_.txt', 'WirdNichtGeladen.txt', 'WuschigesEtwas.txt', 'OutcroYoutube.txt', 'HeIsJustAPoorBoy.txt', 'FlyingAutismus.txt', 'destr0yed_.txt', 'Ex4cted.txt', 'Mvsk_.txt', 'MaxOnTheRoad.txt', 'swiffle.txt', 'juvona.txt', 'Lubottus.txt', 'Nervigerr.txt', 'lolisamakun.txt', 'Martomias.txt', '20LeRe10.txt']\n",
      "processing Duelle...\n",
      "Error: Tammywood.txt does not contain any TooltipEvent data\n",
      "Error: demiu.txt does not contain any TooltipEvent data\n",
      "Error: JayMinInSane.txt does not contain any TooltipEvent data\n",
      "Error: KINT0.txt does not contain any TooltipEvent data\n",
      "Error: SmartyxD.txt does not contain any TooltipEvent data\n",
      "Error: Lord_Weibull.txt does not contain any TooltipEvent data\n",
      "Error: Scuprum.txt does not contain any TooltipEvent data\n",
      "Error: Dubbly.txt does not contain any TooltipEvent data\n",
      "Error: destr0yed_.txt does not contain any TooltipEvent data\n",
      "Duelle processed\n",
      "['__egE.txt', 'Tammywood.txt', 'BunnyKiko.txt', 'SpeckyCut.txt', 'sirmigorius.txt', 'Hyxeed.txt', 'demiu.txt', 'SpinCrafter.txt', 'NanamiElvi.txt', '_n3d.txt', 'Sebi1801.txt', 'AnzeigeGehtRaus.txt', 'JayMinInSane.txt', 'Persidieus.txt', 'N3XV.txt', 'Wissender.txt', 'Gryzes.txt', 'jimmi4Life.txt', 'Gobo9.txt', 'Anni808.txt', 'LeWi_100.txt', '_Waldi_.txt', 'Grapfen.txt', 'PixlNight.txt', 'dossantosaveiro_.txt', 'agowskyy.txt', 'TheBreadHD.txt', 'Axollotel.txt', 'T_Niko_T.txt', 'Vanillinchen.txt', 'Odlaa.txt', 'D4rkCookie.txt', 'yzvm.txt', 'Tim_Voltia.txt', 'xBaumeisterin.txt', 'Ungluecklicher.txt', 'Lutorix.txt', 'Ninivee.txt', 'ArthurAlchemist.txt', 'redbrll.txt', 'Gfrasti.txt', 'Muniix.txt', 'Tomiokey.txt', 'Carl1_1.txt', 'DerAutist.txt', 'PolizeiDreamy.txt', 'xX_Dima_ggg_Xx6.txt', 'CuzImKnxck.txt', 'Falke23_5.txt', 'yVendas.txt', 'TheFabo.txt', 'DieserBear.txt', 'SWLegende.txt', 'Picutar.txt', '2B9.txt', 'Otronix.txt', 'Schmaarek.txt', 'musi1999.txt', 'PumiTheCat.txt', 'HerrDante.txt', 'KakaMC.txt', 'StaudammAusHolz.txt', 'Lelouch610.txt', 'Kyuudo.txt', 'twitchparaskiill.txt', 'G0at3D.txt', 'SecretAgent_K.txt', 'KMaxN.txt', 'Sey__.txt', 'ForceFox.txt', 'toxicplace.txt', 'Gestimus.txt', 'yachayubin.txt', 'Wolkenfarmer.txt', 'y9nic.txt', 'KINT0.txt', 'zBro.txt', 'qriezmannsOpa.txt', 'Harold_Sensemann.txt', 'JustAnyy.txt', 'PedroZockt.txt', 'MrNulfred.txt', 'Cytoox.txt', 'IchHolzDichWeg.txt', 'GingerTeddy.txt', 'Kopfradio.txt', 'loukrativ.txt', 'M0osebumps.txt', 'SmartyxD.txt', 'Kokochampo.txt', 'JennieKim.txt', 'Umgfoin.txt', 'ffawks.txt', 'Proofreader.txt', 'byTobi.txt', 'Shiewk.txt', 'La_meleagro.txt', 'Squashgitter333.txt', 'Luxemburq.txt', 'DarkCobweb.txt', 'Sackkerl.txt', 'Sthyq.txt', 'Acidey.txt', 'Laaaachs.txt', 'HerosHD.txt', 'Lennart0911.txt', 'Nor_Malo.txt', 'Gerrygames.txt', 'BusinessBent.txt', 'Simlll.txt', 'YBCM.txt', 'Txlentierter.txt', 'Dat_Klan.txt', 'Luis_XYZ.txt', 'NiklasMoWo.txt', 'MaxMitMaulkorb.txt', 'Oronor.txt', 'GamemasterNiki.txt', 'LordAlexos.txt', 'Pluto28.txt', 'GrafikKatze.txt', '_Einfallslos_.txt', 'cediiiiii_10.txt', 'Dokkkkko.txt', 'deadfiight.txt', 'Kanickelul.txt', 'crocodile1870.txt', 'Sower_.txt', 'Steavn.txt', 'EinfachEazy.txt', 'yiiq.txt', 'NotLennart.txt', 'Snitcherella.txt', 'Keenaai.txt', 'xd_Maiky.txt', 'Kklopse.txt', 'xIForgotMySkill.txt', 'ReichesBrot.txt', 'lolisamasan.txt', 'Raefinzs.txt', 'JOW24.txt', 'ByNetherdude.txt', 'ZweitesIch.txt', 'frutigall.txt', 'LilFueller.txt', 'xiooh.txt', 'qMika.txt', 'rotmann2.txt', 'FlyingKyubi.txt', 'Joy_8oy.txt', 'BauHD.txt', 'CML_Justin.txt', 'MoZadaTV.txt', 'BastiGHG.txt', 'Gummibearchen.txt', 'Lord_Weibull.txt', 'Stockinqs.txt', 'GlowyDusk.txt', 'Scuprum.txt', 'h4nnes.txt', 'cheesecake2901.txt', 'DrSpeed06.txt', 'Krusti.txt', 'marbrueck.txt', 'Vacted.txt', 'Janne4k.txt', 'Bartschii.txt', 'Mansuni.txt', 'SB387.txt', 'medisant.txt', 'Phoenix3000.txt', 'JOW23.txt', 'Ritokii.txt', 'Juti0n.txt', 'lvlaurin.txt', 'Bikoop.txt', 'FrozenNoah.txt', 'GeneralEnte06.txt', 'Dubbly.txt', 'revolverz.txt', 'Highsay.txt', 'ScreamingBlatz.txt', 'RyanxCole.txt', 'shellny.txt', 'kfc_man069.txt', 'TheKillerisback.txt', 'M0orey_0.txt', 'Mincheeen.txt', '2wc.txt', 'Feinberg.txt', 'Navex.txt', 'NewNormal0947.txt', 'Teesily.txt', 'linastunna.txt', 'SiLoHB.txt', 'Morittz.txt', 'cxl1lo.txt', 'LeMetin_.txt', 'unausgesprochen.txt', 'Freeeedom.txt', 'miridis41.txt', 'zLachs.txt', 'Joe3346.txt', 'Lingex.txt', 'xX_Masha_ggg_Xx9.txt', 'Julius16.txt', 'lizsyy.txt', 'camman18YT.txt', 'Jan2220.txt', 'Falke_01.txt', 'DaVinci_Son.txt', 'SatzdesPytag0ras.txt', 'Flitzi_Dino.txt', 'Wienerisch.txt', 'Seemops_8.txt', 'GermanPie.txt', 'Bildungsarten.txt', 'chrisihalt.txt', 'schwarzekater.txt', 'FluffyDragon2007.txt', 'LucaaOn.txt', 'Allooy.txt', 'Chander24.txt', 'Fflopse.txt', 'vKito.txt', 'bawskey.txt', 'RasenLP.txt', 'WshPasie.txt', 'Joel_the_king.txt', 'CladyNoClip_.txt', 'WirdNichtGeladen.txt', 'WuschigesEtwas.txt', 'OutcroYoutube.txt', 'HeIsJustAPoorBoy.txt', 'FlyingAutismus.txt', 'destr0yed_.txt', 'Ex4cted.txt', 'Mvsk_.txt', 'MaxOnTheRoad.txt', 'swiffle.txt', 'juvona.txt', 'Lubottus.txt', 'Nervigerr.txt', 'lolisamakun.txt', 'Martomias.txt', '20LeRe10.txt']\n",
      "processing Turmroulette...\n",
      "Error: Tammywood.txt does not contain any TooltipEvent data\n",
      "Error: demiu.txt does not contain any TooltipEvent data\n",
      "Error: JayMinInSane.txt does not contain any TooltipEvent data\n",
      "Error: KINT0.txt does not contain any TooltipEvent data\n",
      "Error: SmartyxD.txt does not contain any TooltipEvent data\n",
      "Error: Lord_Weibull.txt does not contain any TooltipEvent data\n",
      "Error: Scuprum.txt does not contain any TooltipEvent data\n",
      "Error: Dubbly.txt does not contain any TooltipEvent data\n",
      "Error: destr0yed_.txt does not contain any TooltipEvent data\n",
      "Turmroulette processed\n",
      "['__egE.txt', 'Tammywood.txt', 'BunnyKiko.txt', 'SpeckyCut.txt', 'sirmigorius.txt', 'Hyxeed.txt', 'demiu.txt', 'SpinCrafter.txt', 'NanamiElvi.txt', '_n3d.txt', 'Sebi1801.txt', 'AnzeigeGehtRaus.txt', 'JayMinInSane.txt', 'Persidieus.txt', 'N3XV.txt', 'Wissender.txt', 'Gryzes.txt', 'jimmi4Life.txt', 'Gobo9.txt', 'Anni808.txt', 'LeWi_100.txt', '_Waldi_.txt', 'Grapfen.txt', 'PixlNight.txt', 'dossantosaveiro_.txt', 'agowskyy.txt', 'TheBreadHD.txt', 'Axollotel.txt', 'T_Niko_T.txt', 'Vanillinchen.txt', 'Odlaa.txt', 'D4rkCookie.txt', 'yzvm.txt', 'Tim_Voltia.txt', 'xBaumeisterin.txt', 'Ungluecklicher.txt', 'Lutorix.txt', 'Ninivee.txt', 'ArthurAlchemist.txt', 'redbrll.txt', 'Gfrasti.txt', 'Muniix.txt', 'Tomiokey.txt', 'Carl1_1.txt', 'DerAutist.txt', 'PolizeiDreamy.txt', 'xX_Dima_ggg_Xx6.txt', 'CuzImKnxck.txt', 'Falke23_5.txt', 'yVendas.txt', 'TheFabo.txt', 'DieserBear.txt', 'SWLegende.txt', 'Picutar.txt', '2B9.txt', 'Otronix.txt', 'Schmaarek.txt', 'musi1999.txt', 'PumiTheCat.txt', 'HerrDante.txt', 'KakaMC.txt', 'StaudammAusHolz.txt', 'Lelouch610.txt', 'Kyuudo.txt', 'twitchparaskiill.txt', 'G0at3D.txt', 'SecretAgent_K.txt', 'KMaxN.txt', 'Sey__.txt', 'ForceFox.txt', 'toxicplace.txt', 'Gestimus.txt', 'yachayubin.txt', 'Wolkenfarmer.txt', 'y9nic.txt', 'KINT0.txt', 'zBro.txt', 'qriezmannsOpa.txt', 'Harold_Sensemann.txt', 'JustAnyy.txt', 'PedroZockt.txt', 'MrNulfred.txt', 'Cytoox.txt', 'IchHolzDichWeg.txt', 'GingerTeddy.txt', 'Kopfradio.txt', 'loukrativ.txt', 'M0osebumps.txt', 'SmartyxD.txt', 'Kokochampo.txt', 'JennieKim.txt', 'Umgfoin.txt', 'ffawks.txt', 'Proofreader.txt', 'byTobi.txt', 'Shiewk.txt', 'La_meleagro.txt', 'Squashgitter333.txt', 'Luxemburq.txt', 'DarkCobweb.txt', 'Sackkerl.txt', 'Sthyq.txt', 'Acidey.txt', 'Laaaachs.txt', 'HerosHD.txt', 'Lennart0911.txt', 'Nor_Malo.txt', 'Gerrygames.txt', 'BusinessBent.txt', 'Simlll.txt', 'YBCM.txt', 'Txlentierter.txt', 'Dat_Klan.txt', 'Luis_XYZ.txt', 'NiklasMoWo.txt', 'MaxMitMaulkorb.txt', 'Oronor.txt', 'GamemasterNiki.txt', 'LordAlexos.txt', 'Pluto28.txt', 'GrafikKatze.txt', '_Einfallslos_.txt', 'cediiiiii_10.txt', 'Dokkkkko.txt', 'deadfiight.txt', 'Kanickelul.txt', 'crocodile1870.txt', 'Sower_.txt', 'Steavn.txt', 'EinfachEazy.txt', 'yiiq.txt', 'NotLennart.txt', 'Snitcherella.txt', 'Keenaai.txt', 'xd_Maiky.txt', 'Kklopse.txt', 'xIForgotMySkill.txt', 'ReichesBrot.txt', 'lolisamasan.txt', 'Raefinzs.txt', 'JOW24.txt', 'ByNetherdude.txt', 'ZweitesIch.txt', 'frutigall.txt', 'LilFueller.txt', 'xiooh.txt', 'qMika.txt', 'rotmann2.txt', 'FlyingKyubi.txt', 'Joy_8oy.txt', 'BauHD.txt', 'CML_Justin.txt', 'MoZadaTV.txt', 'BastiGHG.txt', 'Gummibearchen.txt', 'Lord_Weibull.txt', 'Stockinqs.txt', 'GlowyDusk.txt', 'Scuprum.txt', 'h4nnes.txt', 'cheesecake2901.txt', 'DrSpeed06.txt', 'Krusti.txt', 'marbrueck.txt', 'Vacted.txt', 'Janne4k.txt', 'Bartschii.txt', 'Mansuni.txt', 'SB387.txt', 'medisant.txt', 'Phoenix3000.txt', 'JOW23.txt', 'Ritokii.txt', 'Juti0n.txt', 'lvlaurin.txt', 'Bikoop.txt', 'FrozenNoah.txt', 'GeneralEnte06.txt', 'Dubbly.txt', 'revolverz.txt', 'Highsay.txt', 'ScreamingBlatz.txt', 'RyanxCole.txt', 'shellny.txt', 'kfc_man069.txt', 'TheKillerisback.txt', 'M0orey_0.txt', 'Mincheeen.txt', '2wc.txt', 'Feinberg.txt', 'Navex.txt', 'NewNormal0947.txt', 'Teesily.txt', 'linastunna.txt', 'SiLoHB.txt', 'Morittz.txt', 'cxl1lo.txt', 'LeMetin_.txt', 'unausgesprochen.txt', 'Freeeedom.txt', 'miridis41.txt', 'zLachs.txt', 'Joe3346.txt', 'Lingex.txt', 'xX_Masha_ggg_Xx9.txt', 'Julius16.txt', 'lizsyy.txt', 'camman18YT.txt', 'Jan2220.txt', 'Falke_01.txt', 'DaVinci_Son.txt', 'SatzdesPytag0ras.txt', 'Flitzi_Dino.txt', 'Wienerisch.txt', 'Seemops_8.txt', 'GermanPie.txt', 'Bildungsarten.txt', 'chrisihalt.txt', 'schwarzekater.txt', 'FluffyDragon2007.txt', 'LucaaOn.txt', 'Allooy.txt', 'Chander24.txt', 'Fflopse.txt', 'vKito.txt', 'bawskey.txt', 'RasenLP.txt', 'WshPasie.txt', 'Joel_the_king.txt', 'CladyNoClip_.txt', 'WirdNichtGeladen.txt', 'WuschigesEtwas.txt', 'OutcroYoutube.txt', 'HeIsJustAPoorBoy.txt', 'FlyingAutismus.txt', 'destr0yed_.txt', 'Ex4cted.txt', 'Mvsk_.txt', 'MaxOnTheRoad.txt', 'swiffle.txt', 'juvona.txt', 'Lubottus.txt', 'Nervigerr.txt', 'lolisamakun.txt', 'Martomias.txt', '20LeRe10.txt']\n",
      "processing Wettrennen...\n",
      "Error: Tammywood.txt does not contain any TooltipEvent data\n",
      "Error: demiu.txt does not contain any TooltipEvent data\n",
      "Error: JayMinInSane.txt does not contain any TooltipEvent data\n",
      "Error: KINT0.txt does not contain any TooltipEvent data\n",
      "Error: SmartyxD.txt does not contain any TooltipEvent data\n",
      "Error: Lord_Weibull.txt does not contain any TooltipEvent data\n",
      "Error: Scuprum.txt does not contain any TooltipEvent data\n",
      "Error: Dubbly.txt does not contain any TooltipEvent data\n",
      "Error: destr0yed_.txt does not contain any TooltipEvent data\n",
      "Wettrennen processed\n",
      "['__egE.txt', 'Tammywood.txt', 'BunnyKiko.txt', 'SpeckyCut.txt', 'sirmigorius.txt', 'Hyxeed.txt', 'demiu.txt', 'SpinCrafter.txt', 'NanamiElvi.txt', '_n3d.txt', 'Sebi1801.txt', 'AnzeigeGehtRaus.txt', 'JayMinInSane.txt', 'Persidieus.txt', 'N3XV.txt', 'Wissender.txt', 'Gryzes.txt', 'jimmi4Life.txt', 'Gobo9.txt', 'Anni808.txt', 'LeWi_100.txt', '_Waldi_.txt', 'Grapfen.txt', 'PixlNight.txt', 'dossantosaveiro_.txt', 'agowskyy.txt', 'TheBreadHD.txt', 'Axollotel.txt', 'T_Niko_T.txt', 'Vanillinchen.txt', 'Odlaa.txt', 'D4rkCookie.txt', 'yzvm.txt', 'Tim_Voltia.txt', 'xBaumeisterin.txt', 'Ungluecklicher.txt', 'Lutorix.txt', 'Ninivee.txt', 'ArthurAlchemist.txt', 'redbrll.txt', 'Gfrasti.txt', 'Muniix.txt', 'Tomiokey.txt', 'Carl1_1.txt', 'DerAutist.txt', 'PolizeiDreamy.txt', 'xX_Dima_ggg_Xx6.txt', 'CuzImKnxck.txt', 'Falke23_5.txt', 'yVendas.txt', 'TheFabo.txt', 'DieserBear.txt', 'SWLegende.txt', 'Picutar.txt', '2B9.txt', 'Otronix.txt', 'Schmaarek.txt', 'musi1999.txt', 'PumiTheCat.txt', 'HerrDante.txt', 'KakaMC.txt', 'StaudammAusHolz.txt', 'Lelouch610.txt', 'Kyuudo.txt', 'twitchparaskiill.txt', 'G0at3D.txt', 'SecretAgent_K.txt', 'KMaxN.txt', 'Sey__.txt', 'ForceFox.txt', 'toxicplace.txt', 'Gestimus.txt', 'yachayubin.txt', 'Wolkenfarmer.txt', 'y9nic.txt', 'KINT0.txt', 'zBro.txt', 'qriezmannsOpa.txt', 'Harold_Sensemann.txt', 'JustAnyy.txt', 'PedroZockt.txt', 'MrNulfred.txt', 'Cytoox.txt', 'IchHolzDichWeg.txt', 'GingerTeddy.txt', 'Kopfradio.txt', 'loukrativ.txt', 'M0osebumps.txt', 'SmartyxD.txt', 'Kokochampo.txt', 'JennieKim.txt', 'Umgfoin.txt', 'ffawks.txt', 'Proofreader.txt', 'byTobi.txt', 'Shiewk.txt', 'La_meleagro.txt', 'Squashgitter333.txt', 'Luxemburq.txt', 'DarkCobweb.txt', 'Sackkerl.txt', 'Sthyq.txt', 'Acidey.txt', 'Laaaachs.txt', 'HerosHD.txt', 'Lennart0911.txt', 'Nor_Malo.txt', 'Gerrygames.txt', 'BusinessBent.txt', 'Simlll.txt', 'YBCM.txt', 'Txlentierter.txt', 'Dat_Klan.txt', 'Luis_XYZ.txt', 'NiklasMoWo.txt', 'MaxMitMaulkorb.txt', 'Oronor.txt', 'GamemasterNiki.txt', 'LordAlexos.txt', 'Pluto28.txt', 'GrafikKatze.txt', '_Einfallslos_.txt', 'cediiiiii_10.txt', 'Dokkkkko.txt', 'deadfiight.txt', 'Kanickelul.txt', 'crocodile1870.txt', 'Sower_.txt', 'Steavn.txt', 'EinfachEazy.txt', 'yiiq.txt', 'NotLennart.txt', 'Snitcherella.txt', 'Keenaai.txt', 'xd_Maiky.txt', 'Kklopse.txt', 'xIForgotMySkill.txt', 'ReichesBrot.txt', 'lolisamasan.txt', 'Raefinzs.txt', 'JOW24.txt', 'ByNetherdude.txt', 'ZweitesIch.txt', 'frutigall.txt', 'LilFueller.txt', 'xiooh.txt', 'qMika.txt', 'rotmann2.txt', 'FlyingKyubi.txt', 'Joy_8oy.txt', 'BauHD.txt', 'CML_Justin.txt', 'MoZadaTV.txt', 'BastiGHG.txt', 'Gummibearchen.txt', 'Lord_Weibull.txt', 'Stockinqs.txt', 'GlowyDusk.txt', 'Scuprum.txt', 'h4nnes.txt', 'cheesecake2901.txt', 'DrSpeed06.txt', 'Krusti.txt', 'marbrueck.txt', 'Vacted.txt', 'Janne4k.txt', 'Bartschii.txt', 'Mansuni.txt', 'SB387.txt', 'medisant.txt', 'Phoenix3000.txt', 'JOW23.txt', 'Ritokii.txt', 'Juti0n.txt', 'lvlaurin.txt', 'Bikoop.txt', 'FrozenNoah.txt', 'GeneralEnte06.txt', 'Dubbly.txt', 'revolverz.txt', 'Highsay.txt', 'ScreamingBlatz.txt', 'RyanxCole.txt', 'shellny.txt', 'kfc_man069.txt', 'TheKillerisback.txt', 'M0orey_0.txt', 'Mincheeen.txt', '2wc.txt', 'Feinberg.txt', 'Navex.txt', 'NewNormal0947.txt', 'Teesily.txt', 'linastunna.txt', 'SiLoHB.txt', 'Morittz.txt', 'cxl1lo.txt', 'LeMetin_.txt', 'unausgesprochen.txt', 'Freeeedom.txt', 'miridis41.txt', 'zLachs.txt', 'Joe3346.txt', 'Lingex.txt', 'xX_Masha_ggg_Xx9.txt', 'Julius16.txt', 'lizsyy.txt', 'camman18YT.txt', 'Jan2220.txt', 'Falke_01.txt', 'DaVinci_Son.txt', 'SatzdesPytag0ras.txt', 'Flitzi_Dino.txt', 'Wienerisch.txt', 'Seemops_8.txt', 'GermanPie.txt', 'Bildungsarten.txt', 'chrisihalt.txt', 'schwarzekater.txt', 'FluffyDragon2007.txt', 'LucaaOn.txt', 'Allooy.txt', 'Chander24.txt', 'Fflopse.txt', 'vKito.txt', 'bawskey.txt', 'RasenLP.txt', 'WshPasie.txt', 'Joel_the_king.txt', 'CladyNoClip_.txt', 'WirdNichtGeladen.txt', 'WuschigesEtwas.txt', 'OutcroYoutube.txt', 'HeIsJustAPoorBoy.txt', 'FlyingAutismus.txt', 'destr0yed_.txt', 'Ex4cted.txt', 'Mvsk_.txt', 'MaxOnTheRoad.txt', 'swiffle.txt', 'juvona.txt', 'Lubottus.txt', 'Nervigerr.txt', 'lolisamakun.txt', 'Martomias.txt', '20LeRe10.txt']\n",
      "processing Parkour...\n",
      "Error: Tammywood.txt does not contain any TooltipEvent data\n",
      "Error: demiu.txt does not contain any TooltipEvent data\n",
      "Error: JayMinInSane.txt does not contain any TooltipEvent data\n",
      "Error: KINT0.txt does not contain any TooltipEvent data\n",
      "Error: SmartyxD.txt does not contain any TooltipEvent data\n",
      "Error: Lord_Weibull.txt does not contain any TooltipEvent data\n",
      "Error: Scuprum.txt does not contain any TooltipEvent data\n",
      "Error: Dubbly.txt does not contain any TooltipEvent data\n",
      "Error: destr0yed_.txt does not contain any TooltipEvent data\n",
      "Parkour processed\n",
      "['__egE.txt', 'Tammywood.txt', 'BunnyKiko.txt', 'SpeckyCut.txt', 'sirmigorius.txt', 'Hyxeed.txt', 'demiu.txt', 'SpinCrafter.txt', 'NanamiElvi.txt', '_n3d.txt', 'Sebi1801.txt', 'AnzeigeGehtRaus.txt', 'JayMinInSane.txt', 'Persidieus.txt', 'N3XV.txt', 'Wissender.txt', 'Gryzes.txt', 'jimmi4Life.txt', 'Gobo9.txt', 'Anni808.txt', 'LeWi_100.txt', '_Waldi_.txt', 'Grapfen.txt', 'PixlNight.txt', 'dossantosaveiro_.txt', 'agowskyy.txt', 'TheBreadHD.txt', 'Axollotel.txt', 'T_Niko_T.txt', 'Vanillinchen.txt', 'Odlaa.txt', 'D4rkCookie.txt', 'yzvm.txt', 'Tim_Voltia.txt', 'xBaumeisterin.txt', 'Ungluecklicher.txt', 'Lutorix.txt', 'Ninivee.txt', 'ArthurAlchemist.txt', 'redbrll.txt', 'Gfrasti.txt', 'Muniix.txt', 'Tomiokey.txt', 'Carl1_1.txt', 'DerAutist.txt', 'PolizeiDreamy.txt', 'xX_Dima_ggg_Xx6.txt', 'CuzImKnxck.txt', 'Falke23_5.txt', 'yVendas.txt', 'TheFabo.txt', 'DieserBear.txt', 'SWLegende.txt', 'Picutar.txt', '2B9.txt', 'Otronix.txt', 'Schmaarek.txt', 'musi1999.txt', 'PumiTheCat.txt', 'HerrDante.txt', 'KakaMC.txt', 'StaudammAusHolz.txt', 'Lelouch610.txt', 'Kyuudo.txt', 'twitchparaskiill.txt', 'G0at3D.txt', 'SecretAgent_K.txt', 'KMaxN.txt', 'Sey__.txt', 'ForceFox.txt', 'toxicplace.txt', 'Gestimus.txt', 'yachayubin.txt', 'Wolkenfarmer.txt', 'y9nic.txt', 'KINT0.txt', 'zBro.txt', 'qriezmannsOpa.txt', 'Harold_Sensemann.txt', 'JustAnyy.txt', 'PedroZockt.txt', 'MrNulfred.txt', 'Cytoox.txt', 'IchHolzDichWeg.txt', 'GingerTeddy.txt', 'Kopfradio.txt', 'loukrativ.txt', 'M0osebumps.txt', 'SmartyxD.txt', 'Kokochampo.txt', 'JennieKim.txt', 'Umgfoin.txt', 'ffawks.txt', 'Proofreader.txt', 'byTobi.txt', 'Shiewk.txt', 'La_meleagro.txt', 'Squashgitter333.txt', 'Luxemburq.txt', 'DarkCobweb.txt', 'Sackkerl.txt', 'Sthyq.txt', 'Acidey.txt', 'Laaaachs.txt', 'HerosHD.txt', 'Lennart0911.txt', 'Nor_Malo.txt', 'Gerrygames.txt', 'BusinessBent.txt', 'Simlll.txt', 'YBCM.txt', 'Txlentierter.txt', 'Dat_Klan.txt', 'Luis_XYZ.txt', 'NiklasMoWo.txt', 'MaxMitMaulkorb.txt', 'Oronor.txt', 'GamemasterNiki.txt', 'LordAlexos.txt', 'Pluto28.txt', 'GrafikKatze.txt', '_Einfallslos_.txt', 'cediiiiii_10.txt', 'Dokkkkko.txt', 'deadfiight.txt', 'Kanickelul.txt', 'crocodile1870.txt', 'Sower_.txt', 'Steavn.txt', 'EinfachEazy.txt', 'yiiq.txt', 'NotLennart.txt', 'Snitcherella.txt', 'Keenaai.txt', 'xd_Maiky.txt', 'Kklopse.txt', 'xIForgotMySkill.txt', 'ReichesBrot.txt', 'lolisamasan.txt', 'Raefinzs.txt', 'JOW24.txt', 'ByNetherdude.txt', 'ZweitesIch.txt', 'frutigall.txt', 'LilFueller.txt', 'xiooh.txt', 'qMika.txt', 'rotmann2.txt', 'FlyingKyubi.txt', 'Joy_8oy.txt', 'BauHD.txt', 'CML_Justin.txt', 'MoZadaTV.txt', 'BastiGHG.txt', 'Gummibearchen.txt', 'Lord_Weibull.txt', 'Stockinqs.txt', 'GlowyDusk.txt', 'Scuprum.txt', 'h4nnes.txt', 'cheesecake2901.txt', 'DrSpeed06.txt', 'Krusti.txt', 'marbrueck.txt', 'Vacted.txt', 'Janne4k.txt', 'Bartschii.txt', 'Mansuni.txt', 'SB387.txt', 'medisant.txt', 'Phoenix3000.txt', 'JOW23.txt', 'Ritokii.txt', 'Juti0n.txt', 'lvlaurin.txt', 'Bikoop.txt', 'FrozenNoah.txt', 'GeneralEnte06.txt', 'Dubbly.txt', 'revolverz.txt', 'Highsay.txt', 'ScreamingBlatz.txt', 'RyanxCole.txt', 'shellny.txt', 'kfc_man069.txt', 'TheKillerisback.txt', 'M0orey_0.txt', 'Mincheeen.txt', '2wc.txt', 'Feinberg.txt', 'Navex.txt', 'NewNormal0947.txt', 'Teesily.txt', 'linastunna.txt', 'SiLoHB.txt', 'Morittz.txt', 'cxl1lo.txt', 'LeMetin_.txt', 'unausgesprochen.txt', 'Freeeedom.txt', 'miridis41.txt', 'zLachs.txt', 'Joe3346.txt', 'Lingex.txt', 'xX_Masha_ggg_Xx9.txt', 'Julius16.txt', 'lizsyy.txt', 'camman18YT.txt', 'Jan2220.txt', 'Falke_01.txt', 'DaVinci_Son.txt', 'SatzdesPytag0ras.txt', 'Flitzi_Dino.txt', 'Wienerisch.txt', 'Seemops_8.txt', 'GermanPie.txt', 'Bildungsarten.txt', 'chrisihalt.txt', 'schwarzekater.txt', 'FluffyDragon2007.txt', 'LucaaOn.txt', 'Allooy.txt', 'Chander24.txt', 'Fflopse.txt', 'vKito.txt', 'bawskey.txt', 'RasenLP.txt', 'WshPasie.txt', 'Joel_the_king.txt', 'CladyNoClip_.txt', 'WirdNichtGeladen.txt', 'WuschigesEtwas.txt', 'OutcroYoutube.txt', 'HeIsJustAPoorBoy.txt', 'FlyingAutismus.txt', 'destr0yed_.txt', 'Ex4cted.txt', 'Mvsk_.txt', 'MaxOnTheRoad.txt', 'swiffle.txt', 'juvona.txt', 'Lubottus.txt', 'Nervigerr.txt', 'lolisamakun.txt', 'Martomias.txt', '20LeRe10.txt']\n",
      "processing Pferderennen...\n",
      "Error: Tammywood.txt does not contain any TooltipEvent data\n",
      "Error: demiu.txt does not contain any TooltipEvent data\n",
      "Error: JayMinInSane.txt does not contain any TooltipEvent data\n",
      "Error: KINT0.txt does not contain any TooltipEvent data\n",
      "Error: SmartyxD.txt does not contain any TooltipEvent data\n",
      "Error: Lord_Weibull.txt does not contain any TooltipEvent data\n",
      "Error: Scuprum.txt does not contain any TooltipEvent data\n",
      "Error: Dubbly.txt does not contain any TooltipEvent data\n",
      "Error: destr0yed_.txt does not contain any TooltipEvent data\n",
      "Pferderennen processed\n",
      "['__egE.txt', 'Tammywood.txt', 'BunnyKiko.txt', 'SpeckyCut.txt', 'sirmigorius.txt', 'Hyxeed.txt', 'demiu.txt', 'SpinCrafter.txt', 'NanamiElvi.txt', '_n3d.txt', 'Sebi1801.txt', 'AnzeigeGehtRaus.txt', 'JayMinInSane.txt', 'Persidieus.txt', 'N3XV.txt', 'Wissender.txt', 'Gryzes.txt', 'jimmi4Life.txt', 'Gobo9.txt', 'Anni808.txt', 'LeWi_100.txt', '_Waldi_.txt', 'Grapfen.txt', 'PixlNight.txt', 'dossantosaveiro_.txt', 'agowskyy.txt', 'TheBreadHD.txt', 'Axollotel.txt', 'T_Niko_T.txt', 'Vanillinchen.txt', 'Odlaa.txt', 'D4rkCookie.txt', 'yzvm.txt', 'Tim_Voltia.txt', 'xBaumeisterin.txt', 'Ungluecklicher.txt', 'Lutorix.txt', 'Ninivee.txt', 'ArthurAlchemist.txt', 'redbrll.txt', 'Gfrasti.txt', 'Muniix.txt', 'Tomiokey.txt', 'Carl1_1.txt', 'DerAutist.txt', 'PolizeiDreamy.txt', 'xX_Dima_ggg_Xx6.txt', 'CuzImKnxck.txt', 'Falke23_5.txt', 'yVendas.txt', 'TheFabo.txt', 'DieserBear.txt', 'SWLegende.txt', 'Picutar.txt', '2B9.txt', 'Otronix.txt', 'Schmaarek.txt', 'musi1999.txt', 'PumiTheCat.txt', 'HerrDante.txt', 'KakaMC.txt', 'StaudammAusHolz.txt', 'Lelouch610.txt', 'Kyuudo.txt', 'twitchparaskiill.txt', 'G0at3D.txt', 'SecretAgent_K.txt', 'KMaxN.txt', 'Sey__.txt', 'ForceFox.txt', 'toxicplace.txt', 'Gestimus.txt', 'yachayubin.txt', 'Wolkenfarmer.txt', 'y9nic.txt', 'KINT0.txt', 'zBro.txt', 'qriezmannsOpa.txt', 'Harold_Sensemann.txt', 'JustAnyy.txt', 'PedroZockt.txt', 'MrNulfred.txt', 'Cytoox.txt', 'IchHolzDichWeg.txt', 'GingerTeddy.txt', 'Kopfradio.txt', 'loukrativ.txt', 'M0osebumps.txt', 'SmartyxD.txt', 'Kokochampo.txt', 'JennieKim.txt', 'Umgfoin.txt', 'ffawks.txt', 'Proofreader.txt', 'byTobi.txt', 'Shiewk.txt', 'La_meleagro.txt', 'Squashgitter333.txt', 'Luxemburq.txt', 'DarkCobweb.txt', 'Sackkerl.txt', 'Sthyq.txt', 'Acidey.txt', 'Laaaachs.txt', 'HerosHD.txt', 'Lennart0911.txt', 'Nor_Malo.txt', 'Gerrygames.txt', 'BusinessBent.txt', 'Simlll.txt', 'YBCM.txt', 'Txlentierter.txt', 'Dat_Klan.txt', 'Luis_XYZ.txt', 'NiklasMoWo.txt', 'MaxMitMaulkorb.txt', 'Oronor.txt', 'GamemasterNiki.txt', 'LordAlexos.txt', 'Pluto28.txt', 'GrafikKatze.txt', '_Einfallslos_.txt', 'cediiiiii_10.txt', 'Dokkkkko.txt', 'deadfiight.txt', 'Kanickelul.txt', 'crocodile1870.txt', 'Sower_.txt', 'Steavn.txt', 'EinfachEazy.txt', 'yiiq.txt', 'NotLennart.txt', 'Snitcherella.txt', 'Keenaai.txt', 'xd_Maiky.txt', 'Kklopse.txt', 'xIForgotMySkill.txt', 'ReichesBrot.txt', 'lolisamasan.txt', 'Raefinzs.txt', 'JOW24.txt', 'ByNetherdude.txt', 'ZweitesIch.txt', 'frutigall.txt', 'LilFueller.txt', 'xiooh.txt', 'qMika.txt', 'rotmann2.txt', 'FlyingKyubi.txt', 'Joy_8oy.txt', 'BauHD.txt', 'CML_Justin.txt', 'MoZadaTV.txt', 'BastiGHG.txt', 'Gummibearchen.txt', 'Lord_Weibull.txt', 'Stockinqs.txt', 'GlowyDusk.txt', 'Scuprum.txt', 'h4nnes.txt', 'cheesecake2901.txt', 'DrSpeed06.txt', 'Krusti.txt', 'marbrueck.txt', 'Vacted.txt', 'Janne4k.txt', 'Bartschii.txt', 'Mansuni.txt', 'SB387.txt', 'medisant.txt', 'Phoenix3000.txt', 'JOW23.txt', 'Ritokii.txt', 'Juti0n.txt', 'lvlaurin.txt', 'Bikoop.txt', 'FrozenNoah.txt', 'GeneralEnte06.txt', 'Dubbly.txt', 'revolverz.txt', 'Highsay.txt', 'ScreamingBlatz.txt', 'RyanxCole.txt', 'shellny.txt', 'kfc_man069.txt', 'TheKillerisback.txt', 'M0orey_0.txt', 'Mincheeen.txt', '2wc.txt', 'Feinberg.txt', 'Navex.txt', 'NewNormal0947.txt', 'Teesily.txt', 'linastunna.txt', 'SiLoHB.txt', 'Morittz.txt', 'cxl1lo.txt', 'LeMetin_.txt', 'unausgesprochen.txt', 'Freeeedom.txt', 'miridis41.txt', 'zLachs.txt', 'Joe3346.txt', 'Lingex.txt', 'xX_Masha_ggg_Xx9.txt', 'Julius16.txt', 'lizsyy.txt', 'camman18YT.txt', 'Jan2220.txt', 'Falke_01.txt', 'DaVinci_Son.txt', 'SatzdesPytag0ras.txt', 'Flitzi_Dino.txt', 'Wienerisch.txt', 'Seemops_8.txt', 'GermanPie.txt', 'Bildungsarten.txt', 'chrisihalt.txt', 'schwarzekater.txt', 'FluffyDragon2007.txt', 'LucaaOn.txt', 'Allooy.txt', 'Chander24.txt', 'Fflopse.txt', 'vKito.txt', 'bawskey.txt', 'RasenLP.txt', 'WshPasie.txt', 'Joel_the_king.txt', 'CladyNoClip_.txt', 'WirdNichtGeladen.txt', 'WuschigesEtwas.txt', 'OutcroYoutube.txt', 'HeIsJustAPoorBoy.txt', 'FlyingAutismus.txt', 'destr0yed_.txt', 'Ex4cted.txt', 'Mvsk_.txt', 'MaxOnTheRoad.txt', 'swiffle.txt', 'juvona.txt', 'Lubottus.txt', 'Nervigerr.txt', 'lolisamakun.txt', 'Martomias.txt', '20LeRe10.txt']\n",
      "processing Drachenflucht...\n",
      "Error: Tammywood.txt does not contain any TooltipEvent data\n",
      "Error: demiu.txt does not contain any TooltipEvent data\n",
      "Error: JayMinInSane.txt does not contain any TooltipEvent data\n",
      "Error: KINT0.txt does not contain any TooltipEvent data\n",
      "Error: SmartyxD.txt does not contain any TooltipEvent data\n",
      "Error: Lord_Weibull.txt does not contain any TooltipEvent data\n",
      "Error: Scuprum.txt does not contain any TooltipEvent data\n",
      "Error: Dubbly.txt does not contain any TooltipEvent data\n",
      "Error: destr0yed_.txt does not contain any TooltipEvent data\n",
      "Drachenflucht processed\n",
      "['__egE.txt', 'Tammywood.txt', 'BunnyKiko.txt', 'SpeckyCut.txt', 'sirmigorius.txt', 'Hyxeed.txt', 'demiu.txt', 'SpinCrafter.txt', 'NanamiElvi.txt', '_n3d.txt', 'Sebi1801.txt', 'AnzeigeGehtRaus.txt', 'JayMinInSane.txt', 'Persidieus.txt', 'N3XV.txt', 'Wissender.txt', 'Gryzes.txt', 'jimmi4Life.txt', 'Gobo9.txt', 'Anni808.txt', 'LeWi_100.txt', '_Waldi_.txt', 'Grapfen.txt', 'PixlNight.txt', 'dossantosaveiro_.txt', 'agowskyy.txt', 'TheBreadHD.txt', 'Axollotel.txt', 'T_Niko_T.txt', 'Vanillinchen.txt', 'Odlaa.txt', 'D4rkCookie.txt', 'yzvm.txt', 'Tim_Voltia.txt', 'xBaumeisterin.txt', 'Ungluecklicher.txt', 'Lutorix.txt', 'Ninivee.txt', 'ArthurAlchemist.txt', 'redbrll.txt', 'Gfrasti.txt', 'Muniix.txt', 'Tomiokey.txt', 'Carl1_1.txt', 'DerAutist.txt', 'PolizeiDreamy.txt', 'xX_Dima_ggg_Xx6.txt', 'CuzImKnxck.txt', 'Falke23_5.txt', 'yVendas.txt', 'TheFabo.txt', 'DieserBear.txt', 'SWLegende.txt', 'Picutar.txt', '2B9.txt', 'Otronix.txt', 'Schmaarek.txt', 'musi1999.txt', 'PumiTheCat.txt', 'HerrDante.txt', 'KakaMC.txt', 'StaudammAusHolz.txt', 'Lelouch610.txt', 'Kyuudo.txt', 'twitchparaskiill.txt', 'G0at3D.txt', 'SecretAgent_K.txt', 'KMaxN.txt', 'Sey__.txt', 'ForceFox.txt', 'toxicplace.txt', 'Gestimus.txt', 'yachayubin.txt', 'Wolkenfarmer.txt', 'y9nic.txt', 'KINT0.txt', 'zBro.txt', 'qriezmannsOpa.txt', 'Harold_Sensemann.txt', 'JustAnyy.txt', 'PedroZockt.txt', 'MrNulfred.txt', 'Cytoox.txt', 'IchHolzDichWeg.txt', 'GingerTeddy.txt', 'Kopfradio.txt', 'loukrativ.txt', 'M0osebumps.txt', 'SmartyxD.txt', 'Kokochampo.txt', 'JennieKim.txt', 'Umgfoin.txt', 'ffawks.txt', 'Proofreader.txt', 'byTobi.txt', 'Shiewk.txt', 'La_meleagro.txt', 'Squashgitter333.txt', 'Luxemburq.txt', 'DarkCobweb.txt', 'Sackkerl.txt', 'Sthyq.txt', 'Acidey.txt', 'Laaaachs.txt', 'HerosHD.txt', 'Lennart0911.txt', 'Nor_Malo.txt', 'Gerrygames.txt', 'BusinessBent.txt', 'Simlll.txt', 'YBCM.txt', 'Txlentierter.txt', 'Dat_Klan.txt', 'Luis_XYZ.txt', 'NiklasMoWo.txt', 'MaxMitMaulkorb.txt', 'Oronor.txt', 'GamemasterNiki.txt', 'LordAlexos.txt', 'Pluto28.txt', 'GrafikKatze.txt', '_Einfallslos_.txt', 'cediiiiii_10.txt', 'Dokkkkko.txt', 'deadfiight.txt', 'Kanickelul.txt', 'crocodile1870.txt', 'Sower_.txt', 'Steavn.txt', 'EinfachEazy.txt', 'yiiq.txt', 'NotLennart.txt', 'Snitcherella.txt', 'Keenaai.txt', 'xd_Maiky.txt', 'Kklopse.txt', 'xIForgotMySkill.txt', 'ReichesBrot.txt', 'lolisamasan.txt', 'Raefinzs.txt', 'JOW24.txt', 'ByNetherdude.txt', 'ZweitesIch.txt', 'frutigall.txt', 'LilFueller.txt', 'xiooh.txt', 'qMika.txt', 'rotmann2.txt', 'FlyingKyubi.txt', 'Joy_8oy.txt', 'BauHD.txt', 'CML_Justin.txt', 'MoZadaTV.txt', 'BastiGHG.txt', 'Gummibearchen.txt', 'Lord_Weibull.txt', 'Stockinqs.txt', 'GlowyDusk.txt', 'Scuprum.txt', 'h4nnes.txt', 'cheesecake2901.txt', 'DrSpeed06.txt', 'Krusti.txt', 'marbrueck.txt', 'Vacted.txt', 'Janne4k.txt', 'Bartschii.txt', 'Mansuni.txt', 'SB387.txt', 'medisant.txt', 'Phoenix3000.txt', 'JOW23.txt', 'Ritokii.txt', 'Juti0n.txt', 'lvlaurin.txt', 'Bikoop.txt', 'FrozenNoah.txt', 'GeneralEnte06.txt', 'Dubbly.txt', 'revolverz.txt', 'Highsay.txt', 'ScreamingBlatz.txt', 'RyanxCole.txt', 'shellny.txt', 'kfc_man069.txt', 'TheKillerisback.txt', 'M0orey_0.txt', 'Mincheeen.txt', '2wc.txt', 'Feinberg.txt', 'Navex.txt', 'NewNormal0947.txt', 'Teesily.txt', 'linastunna.txt', 'SiLoHB.txt', 'Morittz.txt', 'cxl1lo.txt', 'LeMetin_.txt', 'unausgesprochen.txt', 'Freeeedom.txt', 'miridis41.txt', 'zLachs.txt', 'Joe3346.txt', 'Lingex.txt', 'xX_Masha_ggg_Xx9.txt', 'Julius16.txt', 'lizsyy.txt', 'camman18YT.txt', 'Jan2220.txt', 'Falke_01.txt', 'DaVinci_Son.txt', 'SatzdesPytag0ras.txt', 'Flitzi_Dino.txt', 'Wienerisch.txt', 'Seemops_8.txt', 'GermanPie.txt', 'Bildungsarten.txt', 'chrisihalt.txt', 'schwarzekater.txt', 'FluffyDragon2007.txt', 'LucaaOn.txt', 'Allooy.txt', 'Chander24.txt', 'Fflopse.txt', 'vKito.txt', 'bawskey.txt', 'RasenLP.txt', 'WshPasie.txt', 'Joel_the_king.txt', 'CladyNoClip_.txt', 'WirdNichtGeladen.txt', 'WuschigesEtwas.txt', 'OutcroYoutube.txt', 'HeIsJustAPoorBoy.txt', 'FlyingAutismus.txt', 'destr0yed_.txt', 'Ex4cted.txt', 'Mvsk_.txt', 'MaxOnTheRoad.txt', 'swiffle.txt', 'juvona.txt', 'Lubottus.txt', 'Nervigerr.txt', 'lolisamakun.txt', 'Martomias.txt', '20LeRe10.txt']\n",
      "processing Replika...\n",
      "Error: Tammywood.txt does not contain any TooltipEvent data\n",
      "Error: demiu.txt does not contain any TooltipEvent data\n",
      "Error: JayMinInSane.txt does not contain any TooltipEvent data\n",
      "Error: KINT0.txt does not contain any TooltipEvent data\n",
      "Error: SmartyxD.txt does not contain any TooltipEvent data\n",
      "Error: Lord_Weibull.txt does not contain any TooltipEvent data\n",
      "Error: Scuprum.txt does not contain any TooltipEvent data\n",
      "Error: Dubbly.txt does not contain any TooltipEvent data\n",
      "Error: destr0yed_.txt does not contain any TooltipEvent data\n",
      "Replika processed\n",
      "['__egE.txt', 'Tammywood.txt', 'BunnyKiko.txt', 'SpeckyCut.txt', 'sirmigorius.txt', 'Hyxeed.txt', 'demiu.txt', 'SpinCrafter.txt', 'NanamiElvi.txt', '_n3d.txt', 'Sebi1801.txt', 'AnzeigeGehtRaus.txt', 'JayMinInSane.txt', 'Persidieus.txt', 'N3XV.txt', 'Wissender.txt', 'Gryzes.txt', 'jimmi4Life.txt', 'Gobo9.txt', 'Anni808.txt', 'LeWi_100.txt', '_Waldi_.txt', 'Grapfen.txt', 'PixlNight.txt', 'dossantosaveiro_.txt', 'agowskyy.txt', 'TheBreadHD.txt', 'Axollotel.txt', 'T_Niko_T.txt', 'Vanillinchen.txt', 'Odlaa.txt', 'D4rkCookie.txt', 'yzvm.txt', 'Tim_Voltia.txt', 'xBaumeisterin.txt', 'Ungluecklicher.txt', 'Lutorix.txt', 'Ninivee.txt', 'ArthurAlchemist.txt', 'redbrll.txt', 'Gfrasti.txt', 'Muniix.txt', 'Tomiokey.txt', 'Carl1_1.txt', 'DerAutist.txt', 'PolizeiDreamy.txt', 'xX_Dima_ggg_Xx6.txt', 'CuzImKnxck.txt', 'Falke23_5.txt', 'yVendas.txt', 'TheFabo.txt', 'DieserBear.txt', 'SWLegende.txt', 'Picutar.txt', '2B9.txt', 'Otronix.txt', 'Schmaarek.txt', 'musi1999.txt', 'PumiTheCat.txt', 'HerrDante.txt', 'KakaMC.txt', 'StaudammAusHolz.txt', 'Lelouch610.txt', 'Kyuudo.txt', 'twitchparaskiill.txt', 'G0at3D.txt', 'SecretAgent_K.txt', 'KMaxN.txt', 'Sey__.txt', 'ForceFox.txt', 'toxicplace.txt', 'Gestimus.txt', 'yachayubin.txt', 'Wolkenfarmer.txt', 'y9nic.txt', 'KINT0.txt', 'zBro.txt', 'qriezmannsOpa.txt', 'Harold_Sensemann.txt', 'JustAnyy.txt', 'PedroZockt.txt', 'MrNulfred.txt', 'Cytoox.txt', 'IchHolzDichWeg.txt', 'GingerTeddy.txt', 'Kopfradio.txt', 'loukrativ.txt', 'M0osebumps.txt', 'SmartyxD.txt', 'Kokochampo.txt', 'JennieKim.txt', 'Umgfoin.txt', 'ffawks.txt', 'Proofreader.txt', 'byTobi.txt', 'Shiewk.txt', 'La_meleagro.txt', 'Squashgitter333.txt', 'Luxemburq.txt', 'DarkCobweb.txt', 'Sackkerl.txt', 'Sthyq.txt', 'Acidey.txt', 'Laaaachs.txt', 'HerosHD.txt', 'Lennart0911.txt', 'Nor_Malo.txt', 'Gerrygames.txt', 'BusinessBent.txt', 'Simlll.txt', 'YBCM.txt', 'Txlentierter.txt', 'Dat_Klan.txt', 'Luis_XYZ.txt', 'NiklasMoWo.txt', 'MaxMitMaulkorb.txt', 'Oronor.txt', 'GamemasterNiki.txt', 'LordAlexos.txt', 'Pluto28.txt', 'GrafikKatze.txt', '_Einfallslos_.txt', 'cediiiiii_10.txt', 'Dokkkkko.txt', 'deadfiight.txt', 'Kanickelul.txt', 'crocodile1870.txt', 'Sower_.txt', 'Steavn.txt', 'EinfachEazy.txt', 'yiiq.txt', 'NotLennart.txt', 'Snitcherella.txt', 'Keenaai.txt', 'xd_Maiky.txt', 'Kklopse.txt', 'xIForgotMySkill.txt', 'ReichesBrot.txt', 'lolisamasan.txt', 'Raefinzs.txt', 'JOW24.txt', 'ByNetherdude.txt', 'ZweitesIch.txt', 'frutigall.txt', 'LilFueller.txt', 'xiooh.txt', 'qMika.txt', 'rotmann2.txt', 'FlyingKyubi.txt', 'Joy_8oy.txt', 'BauHD.txt', 'CML_Justin.txt', 'MoZadaTV.txt', 'BastiGHG.txt', 'Gummibearchen.txt', 'Lord_Weibull.txt', 'Stockinqs.txt', 'GlowyDusk.txt', 'Scuprum.txt', 'h4nnes.txt', 'cheesecake2901.txt', 'DrSpeed06.txt', 'Krusti.txt', 'marbrueck.txt', 'Vacted.txt', 'Janne4k.txt', 'Bartschii.txt', 'Mansuni.txt', 'SB387.txt', 'medisant.txt', 'Phoenix3000.txt', 'JOW23.txt', 'Ritokii.txt', 'Juti0n.txt', 'lvlaurin.txt', 'Bikoop.txt', 'FrozenNoah.txt', 'GeneralEnte06.txt', 'Dubbly.txt', 'revolverz.txt', 'Highsay.txt', 'ScreamingBlatz.txt', 'RyanxCole.txt', 'shellny.txt', 'kfc_man069.txt', 'TheKillerisback.txt', 'M0orey_0.txt', 'Mincheeen.txt', '2wc.txt', 'Feinberg.txt', 'Navex.txt', 'NewNormal0947.txt', 'Teesily.txt', 'linastunna.txt', 'SiLoHB.txt', 'Morittz.txt', 'cxl1lo.txt', 'LeMetin_.txt', 'unausgesprochen.txt', 'Freeeedom.txt', 'miridis41.txt', 'zLachs.txt', 'Joe3346.txt', 'Lingex.txt', 'xX_Masha_ggg_Xx9.txt', 'Julius16.txt', 'lizsyy.txt', 'camman18YT.txt', 'Jan2220.txt', 'Falke_01.txt', 'DaVinci_Son.txt', 'SatzdesPytag0ras.txt', 'Flitzi_Dino.txt', 'Wienerisch.txt', 'Seemops_8.txt', 'GermanPie.txt', 'Bildungsarten.txt', 'chrisihalt.txt', 'schwarzekater.txt', 'FluffyDragon2007.txt', 'LucaaOn.txt', 'Allooy.txt', 'Chander24.txt', 'Fflopse.txt', 'vKito.txt', 'bawskey.txt', 'RasenLP.txt', 'WshPasie.txt', 'Joel_the_king.txt', 'CladyNoClip_.txt', 'WirdNichtGeladen.txt', 'WuschigesEtwas.txt', 'OutcroYoutube.txt', 'HeIsJustAPoorBoy.txt', 'FlyingAutismus.txt', 'destr0yed_.txt', 'Ex4cted.txt', 'Mvsk_.txt', 'MaxOnTheRoad.txt', 'swiffle.txt', 'juvona.txt', 'Lubottus.txt', 'Nervigerr.txt', 'lolisamakun.txt', 'Martomias.txt', '20LeRe10.txt']\n",
      "processing Blockhüpfer...\n",
      "Error: Tammywood.txt does not contain any TooltipEvent data\n",
      "Error: demiu.txt does not contain any TooltipEvent data\n",
      "Error: JayMinInSane.txt does not contain any TooltipEvent data\n",
      "Error: KINT0.txt does not contain any TooltipEvent data\n",
      "Error: SmartyxD.txt does not contain any TooltipEvent data\n",
      "Error: Lord_Weibull.txt does not contain any TooltipEvent data\n",
      "Error: Scuprum.txt does not contain any TooltipEvent data\n",
      "Error: Dubbly.txt does not contain any TooltipEvent data\n",
      "Error: destr0yed_.txt does not contain any TooltipEvent data\n",
      "Blockhüpfer processed\n",
      "['__egE.txt', 'Tammywood.txt', 'BunnyKiko.txt', 'SpeckyCut.txt', 'sirmigorius.txt', 'Hyxeed.txt', 'demiu.txt', 'SpinCrafter.txt', 'NanamiElvi.txt', '_n3d.txt', 'Sebi1801.txt', 'AnzeigeGehtRaus.txt', 'JayMinInSane.txt', 'Persidieus.txt', 'N3XV.txt', 'Wissender.txt', 'Gryzes.txt', 'jimmi4Life.txt', 'Gobo9.txt', 'Anni808.txt', 'LeWi_100.txt', '_Waldi_.txt', 'Grapfen.txt', 'PixlNight.txt', 'dossantosaveiro_.txt', 'agowskyy.txt', 'TheBreadHD.txt', 'Axollotel.txt', 'T_Niko_T.txt', 'Vanillinchen.txt', 'Odlaa.txt', 'D4rkCookie.txt', 'yzvm.txt', 'Tim_Voltia.txt', 'xBaumeisterin.txt', 'Ungluecklicher.txt', 'Lutorix.txt', 'Ninivee.txt', 'ArthurAlchemist.txt', 'redbrll.txt', 'Gfrasti.txt', 'Muniix.txt', 'Tomiokey.txt', 'Carl1_1.txt', 'DerAutist.txt', 'PolizeiDreamy.txt', 'xX_Dima_ggg_Xx6.txt', 'CuzImKnxck.txt', 'Falke23_5.txt', 'yVendas.txt', 'TheFabo.txt', 'DieserBear.txt', 'SWLegende.txt', 'Picutar.txt', '2B9.txt', 'Otronix.txt', 'Schmaarek.txt', 'musi1999.txt', 'PumiTheCat.txt', 'HerrDante.txt', 'KakaMC.txt', 'StaudammAusHolz.txt', 'Lelouch610.txt', 'Kyuudo.txt', 'twitchparaskiill.txt', 'G0at3D.txt', 'SecretAgent_K.txt', 'KMaxN.txt', 'Sey__.txt', 'ForceFox.txt', 'toxicplace.txt', 'Gestimus.txt', 'yachayubin.txt', 'Wolkenfarmer.txt', 'y9nic.txt', 'KINT0.txt', 'zBro.txt', 'qriezmannsOpa.txt', 'Harold_Sensemann.txt', 'JustAnyy.txt', 'PedroZockt.txt', 'MrNulfred.txt', 'Cytoox.txt', 'IchHolzDichWeg.txt', 'GingerTeddy.txt', 'Kopfradio.txt', 'loukrativ.txt', 'M0osebumps.txt', 'SmartyxD.txt', 'Kokochampo.txt', 'JennieKim.txt', 'Umgfoin.txt', 'ffawks.txt', 'Proofreader.txt', 'byTobi.txt', 'Shiewk.txt', 'La_meleagro.txt', 'Squashgitter333.txt', 'Luxemburq.txt', 'DarkCobweb.txt', 'Sackkerl.txt', 'Sthyq.txt', 'Acidey.txt', 'Laaaachs.txt', 'HerosHD.txt', 'Lennart0911.txt', 'Nor_Malo.txt', 'Gerrygames.txt', 'BusinessBent.txt', 'Simlll.txt', 'YBCM.txt', 'Txlentierter.txt', 'Dat_Klan.txt', 'Luis_XYZ.txt', 'NiklasMoWo.txt', 'MaxMitMaulkorb.txt', 'Oronor.txt', 'GamemasterNiki.txt', 'LordAlexos.txt', 'Pluto28.txt', 'GrafikKatze.txt', '_Einfallslos_.txt', 'cediiiiii_10.txt', 'Dokkkkko.txt', 'deadfiight.txt', 'Kanickelul.txt', 'crocodile1870.txt', 'Sower_.txt', 'Steavn.txt', 'EinfachEazy.txt', 'yiiq.txt', 'NotLennart.txt', 'Snitcherella.txt', 'Keenaai.txt', 'xd_Maiky.txt', 'Kklopse.txt', 'xIForgotMySkill.txt', 'ReichesBrot.txt', 'lolisamasan.txt', 'Raefinzs.txt', 'JOW24.txt', 'ByNetherdude.txt', 'ZweitesIch.txt', 'frutigall.txt', 'LilFueller.txt', 'xiooh.txt', 'qMika.txt', 'rotmann2.txt', 'FlyingKyubi.txt', 'Joy_8oy.txt', 'BauHD.txt', 'CML_Justin.txt', 'MoZadaTV.txt', 'BastiGHG.txt', 'Gummibearchen.txt', 'Lord_Weibull.txt', 'Stockinqs.txt', 'GlowyDusk.txt', 'Scuprum.txt', 'h4nnes.txt', 'cheesecake2901.txt', 'DrSpeed06.txt', 'Krusti.txt', 'marbrueck.txt', 'Vacted.txt', 'Janne4k.txt', 'Bartschii.txt', 'Mansuni.txt', 'SB387.txt', 'medisant.txt', 'Phoenix3000.txt', 'JOW23.txt', 'Ritokii.txt', 'Juti0n.txt', 'lvlaurin.txt', 'Bikoop.txt', 'FrozenNoah.txt', 'GeneralEnte06.txt', 'Dubbly.txt', 'revolverz.txt', 'Highsay.txt', 'ScreamingBlatz.txt', 'RyanxCole.txt', 'shellny.txt', 'kfc_man069.txt', 'TheKillerisback.txt', 'M0orey_0.txt', 'Mincheeen.txt', '2wc.txt', 'Feinberg.txt', 'Navex.txt', 'NewNormal0947.txt', 'Teesily.txt', 'linastunna.txt', 'SiLoHB.txt', 'Morittz.txt', 'cxl1lo.txt', 'LeMetin_.txt', 'unausgesprochen.txt', 'Freeeedom.txt', 'miridis41.txt', 'zLachs.txt', 'Joe3346.txt', 'Lingex.txt', 'xX_Masha_ggg_Xx9.txt', 'Julius16.txt', 'lizsyy.txt', 'camman18YT.txt', 'Jan2220.txt', 'Falke_01.txt', 'DaVinci_Son.txt', 'SatzdesPytag0ras.txt', 'Flitzi_Dino.txt', 'Wienerisch.txt', 'Seemops_8.txt', 'GermanPie.txt', 'Bildungsarten.txt', 'chrisihalt.txt', 'schwarzekater.txt', 'FluffyDragon2007.txt', 'LucaaOn.txt', 'Allooy.txt', 'Chander24.txt', 'Fflopse.txt', 'vKito.txt', 'bawskey.txt', 'RasenLP.txt', 'WshPasie.txt', 'Joel_the_king.txt', 'CladyNoClip_.txt', 'WirdNichtGeladen.txt', 'WuschigesEtwas.txt', 'OutcroYoutube.txt', 'HeIsJustAPoorBoy.txt', 'FlyingAutismus.txt', 'destr0yed_.txt', 'Ex4cted.txt', 'Mvsk_.txt', 'MaxOnTheRoad.txt', 'swiffle.txt', 'juvona.txt', 'Lubottus.txt', 'Nervigerr.txt', 'lolisamakun.txt', 'Martomias.txt', '20LeRe10.txt']\n",
      "processing Todeswürfel...\n",
      "Error: Tammywood.txt does not contain any TooltipEvent data\n",
      "Error: demiu.txt does not contain any TooltipEvent data\n",
      "Error: JayMinInSane.txt does not contain any TooltipEvent data\n",
      "Error: KINT0.txt does not contain any TooltipEvent data\n",
      "Error: SmartyxD.txt does not contain any TooltipEvent data\n",
      "Error: Lord_Weibull.txt does not contain any TooltipEvent data\n",
      "Error: Scuprum.txt does not contain any TooltipEvent data\n",
      "Error: Dubbly.txt does not contain any TooltipEvent data\n",
      "Error: destr0yed_.txt does not contain any TooltipEvent data\n",
      "Todeswürfel processed\n",
      "['__egE.txt', 'Tammywood.txt', 'BunnyKiko.txt', 'SpeckyCut.txt', 'sirmigorius.txt', 'Hyxeed.txt', 'demiu.txt', 'SpinCrafter.txt', 'NanamiElvi.txt', '_n3d.txt', 'Sebi1801.txt', 'AnzeigeGehtRaus.txt', 'JayMinInSane.txt', 'Persidieus.txt', 'N3XV.txt', 'Wissender.txt', 'Gryzes.txt', 'jimmi4Life.txt', 'Gobo9.txt', 'Anni808.txt', 'LeWi_100.txt', '_Waldi_.txt', 'Grapfen.txt', 'PixlNight.txt', 'dossantosaveiro_.txt', 'agowskyy.txt', 'TheBreadHD.txt', 'Axollotel.txt', 'T_Niko_T.txt', 'Vanillinchen.txt', 'Odlaa.txt', 'D4rkCookie.txt', 'yzvm.txt', 'Tim_Voltia.txt', 'xBaumeisterin.txt', 'Ungluecklicher.txt', 'Lutorix.txt', 'Ninivee.txt', 'ArthurAlchemist.txt', 'redbrll.txt', 'Gfrasti.txt', 'Muniix.txt', 'Tomiokey.txt', 'Carl1_1.txt', 'DerAutist.txt', 'PolizeiDreamy.txt', 'xX_Dima_ggg_Xx6.txt', 'CuzImKnxck.txt', 'Falke23_5.txt', 'yVendas.txt', 'TheFabo.txt', 'DieserBear.txt', 'SWLegende.txt', 'Picutar.txt', '2B9.txt', 'Otronix.txt', 'Schmaarek.txt', 'musi1999.txt', 'PumiTheCat.txt', 'HerrDante.txt', 'KakaMC.txt', 'StaudammAusHolz.txt', 'Lelouch610.txt', 'Kyuudo.txt', 'twitchparaskiill.txt', 'G0at3D.txt', 'SecretAgent_K.txt', 'KMaxN.txt', 'Sey__.txt', 'ForceFox.txt', 'toxicplace.txt', 'Gestimus.txt', 'yachayubin.txt', 'Wolkenfarmer.txt', 'y9nic.txt', 'KINT0.txt', 'zBro.txt', 'qriezmannsOpa.txt', 'Harold_Sensemann.txt', 'JustAnyy.txt', 'PedroZockt.txt', 'MrNulfred.txt', 'Cytoox.txt', 'IchHolzDichWeg.txt', 'GingerTeddy.txt', 'Kopfradio.txt', 'loukrativ.txt', 'M0osebumps.txt', 'SmartyxD.txt', 'Kokochampo.txt', 'JennieKim.txt', 'Umgfoin.txt', 'ffawks.txt', 'Proofreader.txt', 'byTobi.txt', 'Shiewk.txt', 'La_meleagro.txt', 'Squashgitter333.txt', 'Luxemburq.txt', 'DarkCobweb.txt', 'Sackkerl.txt', 'Sthyq.txt', 'Acidey.txt', 'Laaaachs.txt', 'HerosHD.txt', 'Lennart0911.txt', 'Nor_Malo.txt', 'Gerrygames.txt', 'BusinessBent.txt', 'Simlll.txt', 'YBCM.txt', 'Txlentierter.txt', 'Dat_Klan.txt', 'Luis_XYZ.txt', 'NiklasMoWo.txt', 'MaxMitMaulkorb.txt', 'Oronor.txt', 'GamemasterNiki.txt', 'LordAlexos.txt', 'Pluto28.txt', 'GrafikKatze.txt', '_Einfallslos_.txt', 'cediiiiii_10.txt', 'Dokkkkko.txt', 'deadfiight.txt', 'Kanickelul.txt', 'crocodile1870.txt', 'Sower_.txt', 'Steavn.txt', 'EinfachEazy.txt', 'yiiq.txt', 'NotLennart.txt', 'Snitcherella.txt', 'Keenaai.txt', 'xd_Maiky.txt', 'Kklopse.txt', 'xIForgotMySkill.txt', 'ReichesBrot.txt', 'lolisamasan.txt', 'Raefinzs.txt', 'JOW24.txt', 'ByNetherdude.txt', 'ZweitesIch.txt', 'frutigall.txt', 'LilFueller.txt', 'xiooh.txt', 'qMika.txt', 'rotmann2.txt', 'FlyingKyubi.txt', 'Joy_8oy.txt', 'BauHD.txt', 'CML_Justin.txt', 'MoZadaTV.txt', 'BastiGHG.txt', 'Gummibearchen.txt', 'Lord_Weibull.txt', 'Stockinqs.txt', 'GlowyDusk.txt', 'Scuprum.txt', 'h4nnes.txt', 'cheesecake2901.txt', 'DrSpeed06.txt', 'Krusti.txt', 'marbrueck.txt', 'Vacted.txt', 'Janne4k.txt', 'Bartschii.txt', 'Mansuni.txt', 'SB387.txt', 'medisant.txt', 'Phoenix3000.txt', 'JOW23.txt', 'Ritokii.txt', 'Juti0n.txt', 'lvlaurin.txt', 'Bikoop.txt', 'FrozenNoah.txt', 'GeneralEnte06.txt', 'Dubbly.txt', 'revolverz.txt', 'Highsay.txt', 'ScreamingBlatz.txt', 'RyanxCole.txt', 'shellny.txt', 'kfc_man069.txt', 'TheKillerisback.txt', 'M0orey_0.txt', 'Mincheeen.txt', '2wc.txt', 'Feinberg.txt', 'Navex.txt', 'NewNormal0947.txt', 'Teesily.txt', 'linastunna.txt', 'SiLoHB.txt', 'Morittz.txt', 'cxl1lo.txt', 'LeMetin_.txt', 'unausgesprochen.txt', 'Freeeedom.txt', 'miridis41.txt', 'zLachs.txt', 'Joe3346.txt', 'Lingex.txt', 'xX_Masha_ggg_Xx9.txt', 'Julius16.txt', 'lizsyy.txt', 'camman18YT.txt', 'Jan2220.txt', 'Falke_01.txt', 'DaVinci_Son.txt', 'SatzdesPytag0ras.txt', 'Flitzi_Dino.txt', 'Wienerisch.txt', 'Seemops_8.txt', 'GermanPie.txt', 'Bildungsarten.txt', 'chrisihalt.txt', 'schwarzekater.txt', 'FluffyDragon2007.txt', 'LucaaOn.txt', 'Allooy.txt', 'Chander24.txt', 'Fflopse.txt', 'vKito.txt', 'bawskey.txt', 'RasenLP.txt', 'WshPasie.txt', 'Joel_the_king.txt', 'CladyNoClip_.txt', 'WirdNichtGeladen.txt', 'WuschigesEtwas.txt', 'OutcroYoutube.txt', 'HeIsJustAPoorBoy.txt', 'FlyingAutismus.txt', 'destr0yed_.txt', 'Ex4cted.txt', 'Mvsk_.txt', 'MaxOnTheRoad.txt', 'swiffle.txt', 'juvona.txt', 'Lubottus.txt', 'Nervigerr.txt', 'lolisamakun.txt', 'Martomias.txt', '20LeRe10.txt']\n",
      "processing Freier Fall...\n",
      "Error: Tammywood.txt does not contain any TooltipEvent data\n",
      "Error: demiu.txt does not contain any TooltipEvent data\n",
      "Error: JayMinInSane.txt does not contain any TooltipEvent data\n",
      "Error: KINT0.txt does not contain any TooltipEvent data\n",
      "Error: SmartyxD.txt does not contain any TooltipEvent data\n",
      "Error: Lord_Weibull.txt does not contain any TooltipEvent data\n",
      "Error: Scuprum.txt does not contain any TooltipEvent data\n",
      "Error: Dubbly.txt does not contain any TooltipEvent data\n",
      "Error: destr0yed_.txt does not contain any TooltipEvent data\n",
      "Freier Fall processed\n",
      "['__egE.txt', 'Tammywood.txt', 'BunnyKiko.txt', 'SpeckyCut.txt', 'sirmigorius.txt', 'Hyxeed.txt', 'demiu.txt', 'SpinCrafter.txt', 'NanamiElvi.txt', '_n3d.txt', 'Sebi1801.txt', 'AnzeigeGehtRaus.txt', 'JayMinInSane.txt', 'Persidieus.txt', 'N3XV.txt', 'Wissender.txt', 'Gryzes.txt', 'jimmi4Life.txt', 'Gobo9.txt', 'Anni808.txt', 'LeWi_100.txt', '_Waldi_.txt', 'Grapfen.txt', 'PixlNight.txt', 'dossantosaveiro_.txt', 'agowskyy.txt', 'TheBreadHD.txt', 'Axollotel.txt', 'T_Niko_T.txt', 'Vanillinchen.txt', 'Odlaa.txt', 'D4rkCookie.txt', 'yzvm.txt', 'Tim_Voltia.txt', 'xBaumeisterin.txt', 'Ungluecklicher.txt', 'Lutorix.txt', 'Ninivee.txt', 'ArthurAlchemist.txt', 'redbrll.txt', 'Gfrasti.txt', 'Muniix.txt', 'Tomiokey.txt', 'Carl1_1.txt', 'DerAutist.txt', 'PolizeiDreamy.txt', 'xX_Dima_ggg_Xx6.txt', 'CuzImKnxck.txt', 'Falke23_5.txt', 'yVendas.txt', 'TheFabo.txt', 'DieserBear.txt', 'SWLegende.txt', 'Picutar.txt', '2B9.txt', 'Otronix.txt', 'Schmaarek.txt', 'musi1999.txt', 'PumiTheCat.txt', 'HerrDante.txt', 'KakaMC.txt', 'StaudammAusHolz.txt', 'Lelouch610.txt', 'Kyuudo.txt', 'twitchparaskiill.txt', 'G0at3D.txt', 'SecretAgent_K.txt', 'KMaxN.txt', 'Sey__.txt', 'ForceFox.txt', 'toxicplace.txt', 'Gestimus.txt', 'yachayubin.txt', 'Wolkenfarmer.txt', 'y9nic.txt', 'KINT0.txt', 'zBro.txt', 'qriezmannsOpa.txt', 'Harold_Sensemann.txt', 'JustAnyy.txt', 'PedroZockt.txt', 'MrNulfred.txt', 'Cytoox.txt', 'IchHolzDichWeg.txt', 'GingerTeddy.txt', 'Kopfradio.txt', 'loukrativ.txt', 'M0osebumps.txt', 'SmartyxD.txt', 'Kokochampo.txt', 'JennieKim.txt', 'Umgfoin.txt', 'ffawks.txt', 'Proofreader.txt', 'byTobi.txt', 'Shiewk.txt', 'La_meleagro.txt', 'Squashgitter333.txt', 'Luxemburq.txt', 'DarkCobweb.txt', 'Sackkerl.txt', 'Sthyq.txt', 'Acidey.txt', 'Laaaachs.txt', 'HerosHD.txt', 'Lennart0911.txt', 'Nor_Malo.txt', 'Gerrygames.txt', 'BusinessBent.txt', 'Simlll.txt', 'YBCM.txt', 'Txlentierter.txt', 'Dat_Klan.txt', 'Luis_XYZ.txt', 'NiklasMoWo.txt', 'MaxMitMaulkorb.txt', 'Oronor.txt', 'GamemasterNiki.txt', 'LordAlexos.txt', 'Pluto28.txt', 'GrafikKatze.txt', '_Einfallslos_.txt', 'cediiiiii_10.txt', 'Dokkkkko.txt', 'deadfiight.txt', 'Kanickelul.txt', 'crocodile1870.txt', 'Sower_.txt', 'Steavn.txt', 'EinfachEazy.txt', 'yiiq.txt', 'NotLennart.txt', 'Snitcherella.txt', 'Keenaai.txt', 'xd_Maiky.txt', 'Kklopse.txt', 'xIForgotMySkill.txt', 'ReichesBrot.txt', 'lolisamasan.txt', 'Raefinzs.txt', 'JOW24.txt', 'ByNetherdude.txt', 'ZweitesIch.txt', 'frutigall.txt', 'LilFueller.txt', 'xiooh.txt', 'qMika.txt', 'rotmann2.txt', 'FlyingKyubi.txt', 'Joy_8oy.txt', 'BauHD.txt', 'CML_Justin.txt', 'MoZadaTV.txt', 'BastiGHG.txt', 'Gummibearchen.txt', 'Lord_Weibull.txt', 'Stockinqs.txt', 'GlowyDusk.txt', 'Scuprum.txt', 'h4nnes.txt', 'cheesecake2901.txt', 'DrSpeed06.txt', 'Krusti.txt', 'marbrueck.txt', 'Vacted.txt', 'Janne4k.txt', 'Bartschii.txt', 'Mansuni.txt', 'SB387.txt', 'medisant.txt', 'Phoenix3000.txt', 'JOW23.txt', 'Ritokii.txt', 'Juti0n.txt', 'lvlaurin.txt', 'Bikoop.txt', 'FrozenNoah.txt', 'GeneralEnte06.txt', 'Dubbly.txt', 'revolverz.txt', 'Highsay.txt', 'ScreamingBlatz.txt', 'RyanxCole.txt', 'shellny.txt', 'kfc_man069.txt', 'TheKillerisback.txt', 'M0orey_0.txt', 'Mincheeen.txt', '2wc.txt', 'Feinberg.txt', 'Navex.txt', 'NewNormal0947.txt', 'Teesily.txt', 'linastunna.txt', 'SiLoHB.txt', 'Morittz.txt', 'cxl1lo.txt', 'LeMetin_.txt', 'unausgesprochen.txt', 'Freeeedom.txt', 'miridis41.txt', 'zLachs.txt', 'Joe3346.txt', 'Lingex.txt', 'xX_Masha_ggg_Xx9.txt', 'Julius16.txt', 'lizsyy.txt', 'camman18YT.txt', 'Jan2220.txt', 'Falke_01.txt', 'DaVinci_Son.txt', 'SatzdesPytag0ras.txt', 'Flitzi_Dino.txt', 'Wienerisch.txt', 'Seemops_8.txt', 'GermanPie.txt', 'Bildungsarten.txt', 'chrisihalt.txt', 'schwarzekater.txt', 'FluffyDragon2007.txt', 'LucaaOn.txt', 'Allooy.txt', 'Chander24.txt', 'Fflopse.txt', 'vKito.txt', 'bawskey.txt', 'RasenLP.txt', 'WshPasie.txt', 'Joel_the_king.txt', 'CladyNoClip_.txt', 'WirdNichtGeladen.txt', 'WuschigesEtwas.txt', 'OutcroYoutube.txt', 'HeIsJustAPoorBoy.txt', 'FlyingAutismus.txt', 'destr0yed_.txt', 'Ex4cted.txt', 'Mvsk_.txt', 'MaxOnTheRoad.txt', 'swiffle.txt', 'juvona.txt', 'Lubottus.txt', 'Nervigerr.txt', 'lolisamakun.txt', 'Martomias.txt', '20LeRe10.txt']\n",
      "processing Elytrarennen...\n",
      "Error: Tammywood.txt does not contain any TooltipEvent data\n",
      "Error: demiu.txt does not contain any TooltipEvent data\n",
      "Error: JayMinInSane.txt does not contain any TooltipEvent data\n",
      "Error: KINT0.txt does not contain any TooltipEvent data\n",
      "Error: SmartyxD.txt does not contain any TooltipEvent data\n",
      "Error: Lord_Weibull.txt does not contain any TooltipEvent data\n",
      "Error: Scuprum.txt does not contain any TooltipEvent data\n",
      "Error: Dubbly.txt does not contain any TooltipEvent data\n",
      "Error: destr0yed_.txt does not contain any TooltipEvent data\n",
      "Elytrarennen processed\n",
      "['__egE.txt', 'Tammywood.txt', 'BunnyKiko.txt', 'SpeckyCut.txt', 'sirmigorius.txt', 'Hyxeed.txt', 'demiu.txt', 'SpinCrafter.txt', 'NanamiElvi.txt', '_n3d.txt', 'Sebi1801.txt', 'AnzeigeGehtRaus.txt', 'JayMinInSane.txt', 'Persidieus.txt', 'N3XV.txt', 'Wissender.txt', 'Gryzes.txt', 'jimmi4Life.txt', 'Gobo9.txt', 'Anni808.txt', 'LeWi_100.txt', '_Waldi_.txt', 'Grapfen.txt', 'PixlNight.txt', 'dossantosaveiro_.txt', 'agowskyy.txt', 'TheBreadHD.txt', 'Axollotel.txt', 'T_Niko_T.txt', 'Vanillinchen.txt', 'Odlaa.txt', 'D4rkCookie.txt', 'yzvm.txt', 'Tim_Voltia.txt', 'xBaumeisterin.txt', 'Ungluecklicher.txt', 'Lutorix.txt', 'Ninivee.txt', 'ArthurAlchemist.txt', 'redbrll.txt', 'Gfrasti.txt', 'Muniix.txt', 'Tomiokey.txt', 'Carl1_1.txt', 'DerAutist.txt', 'PolizeiDreamy.txt', 'xX_Dima_ggg_Xx6.txt', 'CuzImKnxck.txt', 'Falke23_5.txt', 'yVendas.txt', 'TheFabo.txt', 'DieserBear.txt', 'SWLegende.txt', 'Picutar.txt', '2B9.txt', 'Otronix.txt', 'Schmaarek.txt', 'musi1999.txt', 'PumiTheCat.txt', 'HerrDante.txt', 'KakaMC.txt', 'StaudammAusHolz.txt', 'Lelouch610.txt', 'Kyuudo.txt', 'twitchparaskiill.txt', 'G0at3D.txt', 'SecretAgent_K.txt', 'KMaxN.txt', 'Sey__.txt', 'ForceFox.txt', 'toxicplace.txt', 'Gestimus.txt', 'yachayubin.txt', 'Wolkenfarmer.txt', 'y9nic.txt', 'KINT0.txt', 'zBro.txt', 'qriezmannsOpa.txt', 'Harold_Sensemann.txt', 'JustAnyy.txt', 'PedroZockt.txt', 'MrNulfred.txt', 'Cytoox.txt', 'IchHolzDichWeg.txt', 'GingerTeddy.txt', 'Kopfradio.txt', 'loukrativ.txt', 'M0osebumps.txt', 'SmartyxD.txt', 'Kokochampo.txt', 'JennieKim.txt', 'Umgfoin.txt', 'ffawks.txt', 'Proofreader.txt', 'byTobi.txt', 'Shiewk.txt', 'La_meleagro.txt', 'Squashgitter333.txt', 'Luxemburq.txt', 'DarkCobweb.txt', 'Sackkerl.txt', 'Sthyq.txt', 'Acidey.txt', 'Laaaachs.txt', 'HerosHD.txt', 'Lennart0911.txt', 'Nor_Malo.txt', 'Gerrygames.txt', 'BusinessBent.txt', 'Simlll.txt', 'YBCM.txt', 'Txlentierter.txt', 'Dat_Klan.txt', 'Luis_XYZ.txt', 'NiklasMoWo.txt', 'MaxMitMaulkorb.txt', 'Oronor.txt', 'GamemasterNiki.txt', 'LordAlexos.txt', 'Pluto28.txt', 'GrafikKatze.txt', '_Einfallslos_.txt', 'cediiiiii_10.txt', 'Dokkkkko.txt', 'deadfiight.txt', 'Kanickelul.txt', 'crocodile1870.txt', 'Sower_.txt', 'Steavn.txt', 'EinfachEazy.txt', 'yiiq.txt', 'NotLennart.txt', 'Snitcherella.txt', 'Keenaai.txt', 'xd_Maiky.txt', 'Kklopse.txt', 'xIForgotMySkill.txt', 'ReichesBrot.txt', 'lolisamasan.txt', 'Raefinzs.txt', 'JOW24.txt', 'ByNetherdude.txt', 'ZweitesIch.txt', 'frutigall.txt', 'LilFueller.txt', 'xiooh.txt', 'qMika.txt', 'rotmann2.txt', 'FlyingKyubi.txt', 'Joy_8oy.txt', 'BauHD.txt', 'CML_Justin.txt', 'MoZadaTV.txt', 'BastiGHG.txt', 'Gummibearchen.txt', 'Lord_Weibull.txt', 'Stockinqs.txt', 'GlowyDusk.txt', 'Scuprum.txt', 'h4nnes.txt', 'cheesecake2901.txt', 'DrSpeed06.txt', 'Krusti.txt', 'marbrueck.txt', 'Vacted.txt', 'Janne4k.txt', 'Bartschii.txt', 'Mansuni.txt', 'SB387.txt', 'medisant.txt', 'Phoenix3000.txt', 'JOW23.txt', 'Ritokii.txt', 'Juti0n.txt', 'lvlaurin.txt', 'Bikoop.txt', 'FrozenNoah.txt', 'GeneralEnte06.txt', 'Dubbly.txt', 'revolverz.txt', 'Highsay.txt', 'ScreamingBlatz.txt', 'RyanxCole.txt', 'shellny.txt', 'kfc_man069.txt', 'TheKillerisback.txt', 'M0orey_0.txt', 'Mincheeen.txt', '2wc.txt', 'Feinberg.txt', 'Navex.txt', 'NewNormal0947.txt', 'Teesily.txt', 'linastunna.txt', 'SiLoHB.txt', 'Morittz.txt', 'cxl1lo.txt', 'LeMetin_.txt', 'unausgesprochen.txt', 'Freeeedom.txt', 'miridis41.txt', 'zLachs.txt', 'Joe3346.txt', 'Lingex.txt', 'xX_Masha_ggg_Xx9.txt', 'Julius16.txt', 'lizsyy.txt', 'camman18YT.txt', 'Jan2220.txt', 'Falke_01.txt', 'DaVinci_Son.txt', 'SatzdesPytag0ras.txt', 'Flitzi_Dino.txt', 'Wienerisch.txt', 'Seemops_8.txt', 'GermanPie.txt', 'Bildungsarten.txt', 'chrisihalt.txt', 'schwarzekater.txt', 'FluffyDragon2007.txt', 'LucaaOn.txt', 'Allooy.txt', 'Chander24.txt', 'Fflopse.txt', 'vKito.txt', 'bawskey.txt', 'RasenLP.txt', 'WshPasie.txt', 'Joel_the_king.txt', 'CladyNoClip_.txt', 'WirdNichtGeladen.txt', 'WuschigesEtwas.txt', 'OutcroYoutube.txt', 'HeIsJustAPoorBoy.txt', 'FlyingAutismus.txt', 'destr0yed_.txt', 'Ex4cted.txt', 'Mvsk_.txt', 'MaxOnTheRoad.txt', 'swiffle.txt', 'juvona.txt', 'Lubottus.txt', 'Nervigerr.txt', 'lolisamakun.txt', 'Martomias.txt', '20LeRe10.txt']\n",
      "processing Waffenfolge...\n",
      "Error: Tammywood.txt does not contain any TooltipEvent data\n",
      "Error: demiu.txt does not contain any TooltipEvent data\n",
      "Error: JayMinInSane.txt does not contain any TooltipEvent data\n",
      "Error: KINT0.txt does not contain any TooltipEvent data\n",
      "Error: SmartyxD.txt does not contain any TooltipEvent data\n",
      "Error: Lord_Weibull.txt does not contain any TooltipEvent data\n",
      "Error: Scuprum.txt does not contain any TooltipEvent data\n",
      "Error: Dubbly.txt does not contain any TooltipEvent data\n",
      "Error: destr0yed_.txt does not contain any TooltipEvent data\n",
      "Waffenfolge processed\n",
      "['__egE.txt', 'Tammywood.txt', 'BunnyKiko.txt', 'SpeckyCut.txt', 'sirmigorius.txt', 'Hyxeed.txt', 'demiu.txt', 'SpinCrafter.txt', 'NanamiElvi.txt', '_n3d.txt', 'Sebi1801.txt', 'AnzeigeGehtRaus.txt', 'JayMinInSane.txt', 'Persidieus.txt', 'N3XV.txt', 'Wissender.txt', 'Gryzes.txt', 'jimmi4Life.txt', 'Gobo9.txt', 'Anni808.txt', 'LeWi_100.txt', '_Waldi_.txt', 'Grapfen.txt', 'PixlNight.txt', 'dossantosaveiro_.txt', 'agowskyy.txt', 'TheBreadHD.txt', 'Axollotel.txt', 'T_Niko_T.txt', 'Vanillinchen.txt', 'Odlaa.txt', 'D4rkCookie.txt', 'yzvm.txt', 'Tim_Voltia.txt', 'xBaumeisterin.txt', 'Ungluecklicher.txt', 'Lutorix.txt', 'Ninivee.txt', 'ArthurAlchemist.txt', 'redbrll.txt', 'Gfrasti.txt', 'Muniix.txt', 'Tomiokey.txt', 'Carl1_1.txt', 'DerAutist.txt', 'PolizeiDreamy.txt', 'xX_Dima_ggg_Xx6.txt', 'CuzImKnxck.txt', 'Falke23_5.txt', 'yVendas.txt', 'TheFabo.txt', 'DieserBear.txt', 'SWLegende.txt', 'Picutar.txt', '2B9.txt', 'Otronix.txt', 'Schmaarek.txt', 'musi1999.txt', 'PumiTheCat.txt', 'HerrDante.txt', 'KakaMC.txt', 'StaudammAusHolz.txt', 'Lelouch610.txt', 'Kyuudo.txt', 'twitchparaskiill.txt', 'G0at3D.txt', 'SecretAgent_K.txt', 'KMaxN.txt', 'Sey__.txt', 'ForceFox.txt', 'toxicplace.txt', 'Gestimus.txt', 'yachayubin.txt', 'Wolkenfarmer.txt', 'y9nic.txt', 'KINT0.txt', 'zBro.txt', 'qriezmannsOpa.txt', 'Harold_Sensemann.txt', 'JustAnyy.txt', 'PedroZockt.txt', 'MrNulfred.txt', 'Cytoox.txt', 'IchHolzDichWeg.txt', 'GingerTeddy.txt', 'Kopfradio.txt', 'loukrativ.txt', 'M0osebumps.txt', 'SmartyxD.txt', 'Kokochampo.txt', 'JennieKim.txt', 'Umgfoin.txt', 'ffawks.txt', 'Proofreader.txt', 'byTobi.txt', 'Shiewk.txt', 'La_meleagro.txt', 'Squashgitter333.txt', 'Luxemburq.txt', 'DarkCobweb.txt', 'Sackkerl.txt', 'Sthyq.txt', 'Acidey.txt', 'Laaaachs.txt', 'HerosHD.txt', 'Lennart0911.txt', 'Nor_Malo.txt', 'Gerrygames.txt', 'BusinessBent.txt', 'Simlll.txt', 'YBCM.txt', 'Txlentierter.txt', 'Dat_Klan.txt', 'Luis_XYZ.txt', 'NiklasMoWo.txt', 'MaxMitMaulkorb.txt', 'Oronor.txt', 'GamemasterNiki.txt', 'LordAlexos.txt', 'Pluto28.txt', 'GrafikKatze.txt', '_Einfallslos_.txt', 'cediiiiii_10.txt', 'Dokkkkko.txt', 'deadfiight.txt', 'Kanickelul.txt', 'crocodile1870.txt', 'Sower_.txt', 'Steavn.txt', 'EinfachEazy.txt', 'yiiq.txt', 'NotLennart.txt', 'Snitcherella.txt', 'Keenaai.txt', 'xd_Maiky.txt', 'Kklopse.txt', 'xIForgotMySkill.txt', 'ReichesBrot.txt', 'lolisamasan.txt', 'Raefinzs.txt', 'JOW24.txt', 'ByNetherdude.txt', 'ZweitesIch.txt', 'frutigall.txt', 'LilFueller.txt', 'xiooh.txt', 'qMika.txt', 'rotmann2.txt', 'FlyingKyubi.txt', 'Joy_8oy.txt', 'BauHD.txt', 'CML_Justin.txt', 'MoZadaTV.txt', 'BastiGHG.txt', 'Gummibearchen.txt', 'Lord_Weibull.txt', 'Stockinqs.txt', 'GlowyDusk.txt', 'Scuprum.txt', 'h4nnes.txt', 'cheesecake2901.txt', 'DrSpeed06.txt', 'Krusti.txt', 'marbrueck.txt', 'Vacted.txt', 'Janne4k.txt', 'Bartschii.txt', 'Mansuni.txt', 'SB387.txt', 'medisant.txt', 'Phoenix3000.txt', 'JOW23.txt', 'Ritokii.txt', 'Juti0n.txt', 'lvlaurin.txt', 'Bikoop.txt', 'FrozenNoah.txt', 'GeneralEnte06.txt', 'Dubbly.txt', 'revolverz.txt', 'Highsay.txt', 'ScreamingBlatz.txt', 'RyanxCole.txt', 'shellny.txt', 'kfc_man069.txt', 'TheKillerisback.txt', 'M0orey_0.txt', 'Mincheeen.txt', '2wc.txt', 'Feinberg.txt', 'Navex.txt', 'NewNormal0947.txt', 'Teesily.txt', 'linastunna.txt', 'SiLoHB.txt', 'Morittz.txt', 'cxl1lo.txt', 'LeMetin_.txt', 'unausgesprochen.txt', 'Freeeedom.txt', 'miridis41.txt', 'zLachs.txt', 'Joe3346.txt', 'Lingex.txt', 'xX_Masha_ggg_Xx9.txt', 'Julius16.txt', 'lizsyy.txt', 'camman18YT.txt', 'Jan2220.txt', 'Falke_01.txt', 'DaVinci_Son.txt', 'SatzdesPytag0ras.txt', 'Flitzi_Dino.txt', 'Wienerisch.txt', 'Seemops_8.txt', 'GermanPie.txt', 'Bildungsarten.txt', 'chrisihalt.txt', 'schwarzekater.txt', 'FluffyDragon2007.txt', 'LucaaOn.txt', 'Allooy.txt', 'Chander24.txt', 'Fflopse.txt', 'vKito.txt', 'bawskey.txt', 'RasenLP.txt', 'WshPasie.txt', 'Joel_the_king.txt', 'CladyNoClip_.txt', 'WirdNichtGeladen.txt', 'WuschigesEtwas.txt', 'OutcroYoutube.txt', 'HeIsJustAPoorBoy.txt', 'FlyingAutismus.txt', 'destr0yed_.txt', 'Ex4cted.txt', 'Mvsk_.txt', 'MaxOnTheRoad.txt', 'swiffle.txt', 'juvona.txt', 'Lubottus.txt', 'Nervigerr.txt', 'lolisamakun.txt', 'Martomias.txt', '20LeRe10.txt']\n",
      "processing Minenfeld...\n",
      "Error: Tammywood.txt does not contain any TooltipEvent data\n",
      "Error: demiu.txt does not contain any TooltipEvent data\n",
      "Error: JayMinInSane.txt does not contain any TooltipEvent data\n",
      "Error: KINT0.txt does not contain any TooltipEvent data\n",
      "Error: SmartyxD.txt does not contain any TooltipEvent data\n",
      "Error: Lord_Weibull.txt does not contain any TooltipEvent data\n",
      "Error: Scuprum.txt does not contain any TooltipEvent data\n",
      "Error: Dubbly.txt does not contain any TooltipEvent data\n",
      "Error: destr0yed_.txt does not contain any TooltipEvent data\n",
      "Minenfeld processed\n",
      "['__egE.txt', 'Tammywood.txt', 'BunnyKiko.txt', 'SpeckyCut.txt', 'sirmigorius.txt', 'Hyxeed.txt', 'demiu.txt', 'SpinCrafter.txt', 'NanamiElvi.txt', '_n3d.txt', 'Sebi1801.txt', 'AnzeigeGehtRaus.txt', 'JayMinInSane.txt', 'Persidieus.txt', 'N3XV.txt', 'Wissender.txt', 'Gryzes.txt', 'jimmi4Life.txt', 'Gobo9.txt', 'Anni808.txt', 'LeWi_100.txt', '_Waldi_.txt', 'Grapfen.txt', 'PixlNight.txt', 'dossantosaveiro_.txt', 'agowskyy.txt', 'TheBreadHD.txt', 'Axollotel.txt', 'T_Niko_T.txt', 'Vanillinchen.txt', 'Odlaa.txt', 'D4rkCookie.txt', 'yzvm.txt', 'Tim_Voltia.txt', 'xBaumeisterin.txt', 'Ungluecklicher.txt', 'Lutorix.txt', 'Ninivee.txt', 'ArthurAlchemist.txt', 'redbrll.txt', 'Gfrasti.txt', 'Muniix.txt', 'Tomiokey.txt', 'Carl1_1.txt', 'DerAutist.txt', 'PolizeiDreamy.txt', 'xX_Dima_ggg_Xx6.txt', 'CuzImKnxck.txt', 'Falke23_5.txt', 'yVendas.txt', 'TheFabo.txt', 'DieserBear.txt', 'SWLegende.txt', 'Picutar.txt', '2B9.txt', 'Otronix.txt', 'Schmaarek.txt', 'musi1999.txt', 'PumiTheCat.txt', 'HerrDante.txt', 'KakaMC.txt', 'StaudammAusHolz.txt', 'Lelouch610.txt', 'Kyuudo.txt', 'twitchparaskiill.txt', 'G0at3D.txt', 'SecretAgent_K.txt', 'KMaxN.txt', 'Sey__.txt', 'ForceFox.txt', 'toxicplace.txt', 'Gestimus.txt', 'yachayubin.txt', 'Wolkenfarmer.txt', 'y9nic.txt', 'KINT0.txt', 'zBro.txt', 'qriezmannsOpa.txt', 'Harold_Sensemann.txt', 'JustAnyy.txt', 'PedroZockt.txt', 'MrNulfred.txt', 'Cytoox.txt', 'IchHolzDichWeg.txt', 'GingerTeddy.txt', 'Kopfradio.txt', 'loukrativ.txt', 'M0osebumps.txt', 'SmartyxD.txt', 'Kokochampo.txt', 'JennieKim.txt', 'Umgfoin.txt', 'ffawks.txt', 'Proofreader.txt', 'byTobi.txt', 'Shiewk.txt', 'La_meleagro.txt', 'Squashgitter333.txt', 'Luxemburq.txt', 'DarkCobweb.txt', 'Sackkerl.txt', 'Sthyq.txt', 'Acidey.txt', 'Laaaachs.txt', 'HerosHD.txt', 'Lennart0911.txt', 'Nor_Malo.txt', 'Gerrygames.txt', 'BusinessBent.txt', 'Simlll.txt', 'YBCM.txt', 'Txlentierter.txt', 'Dat_Klan.txt', 'Luis_XYZ.txt', 'NiklasMoWo.txt', 'MaxMitMaulkorb.txt', 'Oronor.txt', 'GamemasterNiki.txt', 'LordAlexos.txt', 'Pluto28.txt', 'GrafikKatze.txt', '_Einfallslos_.txt', 'cediiiiii_10.txt', 'Dokkkkko.txt', 'deadfiight.txt', 'Kanickelul.txt', 'crocodile1870.txt', 'Sower_.txt', 'Steavn.txt', 'EinfachEazy.txt', 'yiiq.txt', 'NotLennart.txt', 'Snitcherella.txt', 'Keenaai.txt', 'xd_Maiky.txt', 'Kklopse.txt', 'xIForgotMySkill.txt', 'ReichesBrot.txt', 'lolisamasan.txt', 'Raefinzs.txt', 'JOW24.txt', 'ByNetherdude.txt', 'ZweitesIch.txt', 'frutigall.txt', 'LilFueller.txt', 'xiooh.txt', 'qMika.txt', 'rotmann2.txt', 'FlyingKyubi.txt', 'Joy_8oy.txt', 'BauHD.txt', 'CML_Justin.txt', 'MoZadaTV.txt', 'BastiGHG.txt', 'Gummibearchen.txt', 'Lord_Weibull.txt', 'Stockinqs.txt', 'GlowyDusk.txt', 'Scuprum.txt', 'h4nnes.txt', 'cheesecake2901.txt', 'DrSpeed06.txt', 'Krusti.txt', 'marbrueck.txt', 'Vacted.txt', 'Janne4k.txt', 'Bartschii.txt', 'Mansuni.txt', 'SB387.txt', 'medisant.txt', 'Phoenix3000.txt', 'JOW23.txt', 'Ritokii.txt', 'Juti0n.txt', 'lvlaurin.txt', 'Bikoop.txt', 'FrozenNoah.txt', 'GeneralEnte06.txt', 'Dubbly.txt', 'revolverz.txt', 'Highsay.txt', 'ScreamingBlatz.txt', 'RyanxCole.txt', 'shellny.txt', 'kfc_man069.txt', 'TheKillerisback.txt', 'M0orey_0.txt', 'Mincheeen.txt', '2wc.txt', 'Feinberg.txt', 'Navex.txt', 'NewNormal0947.txt', 'Teesily.txt', 'linastunna.txt', 'SiLoHB.txt', 'Morittz.txt', 'cxl1lo.txt', 'LeMetin_.txt', 'unausgesprochen.txt', 'Freeeedom.txt', 'miridis41.txt', 'zLachs.txt', 'Joe3346.txt', 'Lingex.txt', 'xX_Masha_ggg_Xx9.txt', 'Julius16.txt', 'lizsyy.txt', 'camman18YT.txt', 'Jan2220.txt', 'Falke_01.txt', 'DaVinci_Son.txt', 'SatzdesPytag0ras.txt', 'Flitzi_Dino.txt', 'Wienerisch.txt', 'Seemops_8.txt', 'GermanPie.txt', 'Bildungsarten.txt', 'chrisihalt.txt', 'schwarzekater.txt', 'FluffyDragon2007.txt', 'LucaaOn.txt', 'Allooy.txt', 'Chander24.txt', 'Fflopse.txt', 'vKito.txt', 'bawskey.txt', 'RasenLP.txt', 'WshPasie.txt', 'Joel_the_king.txt', 'CladyNoClip_.txt', 'WirdNichtGeladen.txt', 'WuschigesEtwas.txt', 'OutcroYoutube.txt', 'HeIsJustAPoorBoy.txt', 'FlyingAutismus.txt', 'destr0yed_.txt', 'Ex4cted.txt', 'Mvsk_.txt', 'MaxOnTheRoad.txt', 'swiffle.txt', 'juvona.txt', 'Lubottus.txt', 'Nervigerr.txt', 'lolisamakun.txt', 'Martomias.txt', '20LeRe10.txt']\n",
      "processing Kletterkönig...\n",
      "Error: Tammywood.txt does not contain any TooltipEvent data\n",
      "Error: demiu.txt does not contain any TooltipEvent data\n",
      "Error: JayMinInSane.txt does not contain any TooltipEvent data\n",
      "Error: KINT0.txt does not contain any TooltipEvent data\n",
      "Error: SmartyxD.txt does not contain any TooltipEvent data\n",
      "Error: Lord_Weibull.txt does not contain any TooltipEvent data\n",
      "Error: Scuprum.txt does not contain any TooltipEvent data\n",
      "Error: Dubbly.txt does not contain any TooltipEvent data\n",
      "Error: destr0yed_.txt does not contain any TooltipEvent data\n",
      "Kletterkönig processed\n",
      "['__egE.txt', 'Tammywood.txt', 'BunnyKiko.txt', 'SpeckyCut.txt', 'sirmigorius.txt', 'Hyxeed.txt', 'demiu.txt', 'SpinCrafter.txt', 'NanamiElvi.txt', '_n3d.txt', 'Sebi1801.txt', 'AnzeigeGehtRaus.txt', 'JayMinInSane.txt', 'Persidieus.txt', 'N3XV.txt', 'Wissender.txt', 'Gryzes.txt', 'jimmi4Life.txt', 'Gobo9.txt', 'Anni808.txt', 'LeWi_100.txt', '_Waldi_.txt', 'Grapfen.txt', 'PixlNight.txt', 'dossantosaveiro_.txt', 'agowskyy.txt', 'TheBreadHD.txt', 'Axollotel.txt', 'T_Niko_T.txt', 'Vanillinchen.txt', 'Odlaa.txt', 'D4rkCookie.txt', 'yzvm.txt', 'Tim_Voltia.txt', 'xBaumeisterin.txt', 'Ungluecklicher.txt', 'Lutorix.txt', 'Ninivee.txt', 'ArthurAlchemist.txt', 'redbrll.txt', 'Gfrasti.txt', 'Muniix.txt', 'Tomiokey.txt', 'Carl1_1.txt', 'DerAutist.txt', 'PolizeiDreamy.txt', 'xX_Dima_ggg_Xx6.txt', 'CuzImKnxck.txt', 'Falke23_5.txt', 'yVendas.txt', 'TheFabo.txt', 'DieserBear.txt', 'SWLegende.txt', 'Picutar.txt', '2B9.txt', 'Otronix.txt', 'Schmaarek.txt', 'musi1999.txt', 'PumiTheCat.txt', 'HerrDante.txt', 'KakaMC.txt', 'StaudammAusHolz.txt', 'Lelouch610.txt', 'Kyuudo.txt', 'twitchparaskiill.txt', 'G0at3D.txt', 'SecretAgent_K.txt', 'KMaxN.txt', 'Sey__.txt', 'ForceFox.txt', 'toxicplace.txt', 'Gestimus.txt', 'yachayubin.txt', 'Wolkenfarmer.txt', 'y9nic.txt', 'KINT0.txt', 'zBro.txt', 'qriezmannsOpa.txt', 'Harold_Sensemann.txt', 'JustAnyy.txt', 'PedroZockt.txt', 'MrNulfred.txt', 'Cytoox.txt', 'IchHolzDichWeg.txt', 'GingerTeddy.txt', 'Kopfradio.txt', 'loukrativ.txt', 'M0osebumps.txt', 'SmartyxD.txt', 'Kokochampo.txt', 'JennieKim.txt', 'Umgfoin.txt', 'ffawks.txt', 'Proofreader.txt', 'byTobi.txt', 'Shiewk.txt', 'La_meleagro.txt', 'Squashgitter333.txt', 'Luxemburq.txt', 'DarkCobweb.txt', 'Sackkerl.txt', 'Sthyq.txt', 'Acidey.txt', 'Laaaachs.txt', 'HerosHD.txt', 'Lennart0911.txt', 'Nor_Malo.txt', 'Gerrygames.txt', 'BusinessBent.txt', 'Simlll.txt', 'YBCM.txt', 'Txlentierter.txt', 'Dat_Klan.txt', 'Luis_XYZ.txt', 'NiklasMoWo.txt', 'MaxMitMaulkorb.txt', 'Oronor.txt', 'GamemasterNiki.txt', 'LordAlexos.txt', 'Pluto28.txt', 'GrafikKatze.txt', '_Einfallslos_.txt', 'cediiiiii_10.txt', 'Dokkkkko.txt', 'deadfiight.txt', 'Kanickelul.txt', 'crocodile1870.txt', 'Sower_.txt', 'Steavn.txt', 'EinfachEazy.txt', 'yiiq.txt', 'NotLennart.txt', 'Snitcherella.txt', 'Keenaai.txt', 'xd_Maiky.txt', 'Kklopse.txt', 'xIForgotMySkill.txt', 'ReichesBrot.txt', 'lolisamasan.txt', 'Raefinzs.txt', 'JOW24.txt', 'ByNetherdude.txt', 'ZweitesIch.txt', 'frutigall.txt', 'LilFueller.txt', 'xiooh.txt', 'qMika.txt', 'rotmann2.txt', 'FlyingKyubi.txt', 'Joy_8oy.txt', 'BauHD.txt', 'CML_Justin.txt', 'MoZadaTV.txt', 'BastiGHG.txt', 'Gummibearchen.txt', 'Lord_Weibull.txt', 'Stockinqs.txt', 'GlowyDusk.txt', 'Scuprum.txt', 'h4nnes.txt', 'cheesecake2901.txt', 'DrSpeed06.txt', 'Krusti.txt', 'marbrueck.txt', 'Vacted.txt', 'Janne4k.txt', 'Bartschii.txt', 'Mansuni.txt', 'SB387.txt', 'medisant.txt', 'Phoenix3000.txt', 'JOW23.txt', 'Ritokii.txt', 'Juti0n.txt', 'lvlaurin.txt', 'Bikoop.txt', 'FrozenNoah.txt', 'GeneralEnte06.txt', 'Dubbly.txt', 'revolverz.txt', 'Highsay.txt', 'ScreamingBlatz.txt', 'RyanxCole.txt', 'shellny.txt', 'kfc_man069.txt', 'TheKillerisback.txt', 'M0orey_0.txt', 'Mincheeen.txt', '2wc.txt', 'Feinberg.txt', 'Navex.txt', 'NewNormal0947.txt', 'Teesily.txt', 'linastunna.txt', 'SiLoHB.txt', 'Morittz.txt', 'cxl1lo.txt', 'LeMetin_.txt', 'unausgesprochen.txt', 'Freeeedom.txt', 'miridis41.txt', 'zLachs.txt', 'Joe3346.txt', 'Lingex.txt', 'xX_Masha_ggg_Xx9.txt', 'Julius16.txt', 'lizsyy.txt', 'camman18YT.txt', 'Jan2220.txt', 'Falke_01.txt', 'DaVinci_Son.txt', 'SatzdesPytag0ras.txt', 'Flitzi_Dino.txt', 'Wienerisch.txt', 'Seemops_8.txt', 'GermanPie.txt', 'Bildungsarten.txt', 'chrisihalt.txt', 'schwarzekater.txt', 'FluffyDragon2007.txt', 'LucaaOn.txt', 'Allooy.txt', 'Chander24.txt', 'Fflopse.txt', 'vKito.txt', 'bawskey.txt', 'RasenLP.txt', 'WshPasie.txt', 'Joel_the_king.txt', 'CladyNoClip_.txt', 'WirdNichtGeladen.txt', 'WuschigesEtwas.txt', 'OutcroYoutube.txt', 'HeIsJustAPoorBoy.txt', 'FlyingAutismus.txt', 'destr0yed_.txt', 'Ex4cted.txt', 'Mvsk_.txt', 'MaxOnTheRoad.txt', 'swiffle.txt', 'juvona.txt', 'Lubottus.txt', 'Nervigerr.txt', 'lolisamakun.txt', 'Martomias.txt', '20LeRe10.txt']\n",
      "processing Ampelrennen...\n",
      "Error: Tammywood.txt does not contain any TooltipEvent data\n",
      "Error: demiu.txt does not contain any TooltipEvent data\n",
      "Error: JayMinInSane.txt does not contain any TooltipEvent data\n",
      "Error: KINT0.txt does not contain any TooltipEvent data\n",
      "Error: SmartyxD.txt does not contain any TooltipEvent data\n",
      "Error: Lord_Weibull.txt does not contain any TooltipEvent data\n",
      "Error: Scuprum.txt does not contain any TooltipEvent data\n",
      "Error: Dubbly.txt does not contain any TooltipEvent data\n",
      "Error: destr0yed_.txt does not contain any TooltipEvent data\n",
      "Ampelrennen processed\n",
      "['__egE.txt', 'Tammywood.txt', 'BunnyKiko.txt', 'SpeckyCut.txt', 'sirmigorius.txt', 'Hyxeed.txt', 'demiu.txt', 'SpinCrafter.txt', 'NanamiElvi.txt', '_n3d.txt', 'Sebi1801.txt', 'AnzeigeGehtRaus.txt', 'JayMinInSane.txt', 'Persidieus.txt', 'N3XV.txt', 'Wissender.txt', 'Gryzes.txt', 'jimmi4Life.txt', 'Gobo9.txt', 'Anni808.txt', 'LeWi_100.txt', '_Waldi_.txt', 'Grapfen.txt', 'PixlNight.txt', 'dossantosaveiro_.txt', 'agowskyy.txt', 'TheBreadHD.txt', 'Axollotel.txt', 'T_Niko_T.txt', 'Vanillinchen.txt', 'Odlaa.txt', 'D4rkCookie.txt', 'yzvm.txt', 'Tim_Voltia.txt', 'xBaumeisterin.txt', 'Ungluecklicher.txt', 'Lutorix.txt', 'Ninivee.txt', 'ArthurAlchemist.txt', 'redbrll.txt', 'Gfrasti.txt', 'Muniix.txt', 'Tomiokey.txt', 'Carl1_1.txt', 'DerAutist.txt', 'PolizeiDreamy.txt', 'xX_Dima_ggg_Xx6.txt', 'CuzImKnxck.txt', 'Falke23_5.txt', 'yVendas.txt', 'TheFabo.txt', 'DieserBear.txt', 'SWLegende.txt', 'Picutar.txt', '2B9.txt', 'Otronix.txt', 'Schmaarek.txt', 'musi1999.txt', 'PumiTheCat.txt', 'HerrDante.txt', 'KakaMC.txt', 'StaudammAusHolz.txt', 'Lelouch610.txt', 'Kyuudo.txt', 'twitchparaskiill.txt', 'G0at3D.txt', 'SecretAgent_K.txt', 'KMaxN.txt', 'Sey__.txt', 'ForceFox.txt', 'toxicplace.txt', 'Gestimus.txt', 'yachayubin.txt', 'Wolkenfarmer.txt', 'y9nic.txt', 'KINT0.txt', 'zBro.txt', 'qriezmannsOpa.txt', 'Harold_Sensemann.txt', 'JustAnyy.txt', 'PedroZockt.txt', 'MrNulfred.txt', 'Cytoox.txt', 'IchHolzDichWeg.txt', 'GingerTeddy.txt', 'Kopfradio.txt', 'loukrativ.txt', 'M0osebumps.txt', 'SmartyxD.txt', 'Kokochampo.txt', 'JennieKim.txt', 'Umgfoin.txt', 'ffawks.txt', 'Proofreader.txt', 'byTobi.txt', 'Shiewk.txt', 'La_meleagro.txt', 'Squashgitter333.txt', 'Luxemburq.txt', 'DarkCobweb.txt', 'Sackkerl.txt', 'Sthyq.txt', 'Acidey.txt', 'Laaaachs.txt', 'HerosHD.txt', 'Lennart0911.txt', 'Nor_Malo.txt', 'Gerrygames.txt', 'BusinessBent.txt', 'Simlll.txt', 'YBCM.txt', 'Txlentierter.txt', 'Dat_Klan.txt', 'Luis_XYZ.txt', 'NiklasMoWo.txt', 'MaxMitMaulkorb.txt', 'Oronor.txt', 'GamemasterNiki.txt', 'LordAlexos.txt', 'Pluto28.txt', 'GrafikKatze.txt', '_Einfallslos_.txt', 'cediiiiii_10.txt', 'Dokkkkko.txt', 'deadfiight.txt', 'Kanickelul.txt', 'crocodile1870.txt', 'Sower_.txt', 'Steavn.txt', 'EinfachEazy.txt', 'yiiq.txt', 'NotLennart.txt', 'Snitcherella.txt', 'Keenaai.txt', 'xd_Maiky.txt', 'Kklopse.txt', 'xIForgotMySkill.txt', 'ReichesBrot.txt', 'lolisamasan.txt', 'Raefinzs.txt', 'JOW24.txt', 'ByNetherdude.txt', 'ZweitesIch.txt', 'frutigall.txt', 'LilFueller.txt', 'xiooh.txt', 'qMika.txt', 'rotmann2.txt', 'FlyingKyubi.txt', 'Joy_8oy.txt', 'BauHD.txt', 'CML_Justin.txt', 'MoZadaTV.txt', 'BastiGHG.txt', 'Gummibearchen.txt', 'Lord_Weibull.txt', 'Stockinqs.txt', 'GlowyDusk.txt', 'Scuprum.txt', 'h4nnes.txt', 'cheesecake2901.txt', 'DrSpeed06.txt', 'Krusti.txt', 'marbrueck.txt', 'Vacted.txt', 'Janne4k.txt', 'Bartschii.txt', 'Mansuni.txt', 'SB387.txt', 'medisant.txt', 'Phoenix3000.txt', 'JOW23.txt', 'Ritokii.txt', 'Juti0n.txt', 'lvlaurin.txt', 'Bikoop.txt', 'FrozenNoah.txt', 'GeneralEnte06.txt', 'Dubbly.txt', 'revolverz.txt', 'Highsay.txt', 'ScreamingBlatz.txt', 'RyanxCole.txt', 'shellny.txt', 'kfc_man069.txt', 'TheKillerisback.txt', 'M0orey_0.txt', 'Mincheeen.txt', '2wc.txt', 'Feinberg.txt', 'Navex.txt', 'NewNormal0947.txt', 'Teesily.txt', 'linastunna.txt', 'SiLoHB.txt', 'Morittz.txt', 'cxl1lo.txt', 'LeMetin_.txt', 'unausgesprochen.txt', 'Freeeedom.txt', 'miridis41.txt', 'zLachs.txt', 'Joe3346.txt', 'Lingex.txt', 'xX_Masha_ggg_Xx9.txt', 'Julius16.txt', 'lizsyy.txt', 'camman18YT.txt', 'Jan2220.txt', 'Falke_01.txt', 'DaVinci_Son.txt', 'SatzdesPytag0ras.txt', 'Flitzi_Dino.txt', 'Wienerisch.txt', 'Seemops_8.txt', 'GermanPie.txt', 'Bildungsarten.txt', 'chrisihalt.txt', 'schwarzekater.txt', 'FluffyDragon2007.txt', 'LucaaOn.txt', 'Allooy.txt', 'Chander24.txt', 'Fflopse.txt', 'vKito.txt', 'bawskey.txt', 'RasenLP.txt', 'WshPasie.txt', 'Joel_the_king.txt', 'CladyNoClip_.txt', 'WirdNichtGeladen.txt', 'WuschigesEtwas.txt', 'OutcroYoutube.txt', 'HeIsJustAPoorBoy.txt', 'FlyingAutismus.txt', 'destr0yed_.txt', 'Ex4cted.txt', 'Mvsk_.txt', 'MaxOnTheRoad.txt', 'swiffle.txt', 'juvona.txt', 'Lubottus.txt', 'Nervigerr.txt', 'lolisamakun.txt', 'Martomias.txt', '20LeRe10.txt']\n",
      "processing Hoch hinaus...\n",
      "Error: Tammywood.txt does not contain any TooltipEvent data\n",
      "Error: demiu.txt does not contain any TooltipEvent data\n",
      "Error: JayMinInSane.txt does not contain any TooltipEvent data\n",
      "Error: KINT0.txt does not contain any TooltipEvent data\n",
      "Error: SmartyxD.txt does not contain any TooltipEvent data\n",
      "Error: Lord_Weibull.txt does not contain any TooltipEvent data\n",
      "Error: Scuprum.txt does not contain any TooltipEvent data\n",
      "Error: Dubbly.txt does not contain any TooltipEvent data\n",
      "Error: destr0yed_.txt does not contain any TooltipEvent data\n",
      "Hoch hinaus processed\n",
      "['__egE.txt', 'Tammywood.txt', 'BunnyKiko.txt', 'SpeckyCut.txt', 'sirmigorius.txt', 'Hyxeed.txt', 'demiu.txt', 'SpinCrafter.txt', 'NanamiElvi.txt', '_n3d.txt', 'Sebi1801.txt', 'AnzeigeGehtRaus.txt', 'JayMinInSane.txt', 'Persidieus.txt', 'N3XV.txt', 'Wissender.txt', 'Gryzes.txt', 'jimmi4Life.txt', 'Gobo9.txt', 'Anni808.txt', 'LeWi_100.txt', '_Waldi_.txt', 'Grapfen.txt', 'PixlNight.txt', 'dossantosaveiro_.txt', 'agowskyy.txt', 'TheBreadHD.txt', 'Axollotel.txt', 'T_Niko_T.txt', 'Vanillinchen.txt', 'Odlaa.txt', 'D4rkCookie.txt', 'yzvm.txt', 'Tim_Voltia.txt', 'xBaumeisterin.txt', 'Ungluecklicher.txt', 'Lutorix.txt', 'Ninivee.txt', 'ArthurAlchemist.txt', 'redbrll.txt', 'Gfrasti.txt', 'Muniix.txt', 'Tomiokey.txt', 'Carl1_1.txt', 'DerAutist.txt', 'PolizeiDreamy.txt', 'xX_Dima_ggg_Xx6.txt', 'CuzImKnxck.txt', 'Falke23_5.txt', 'yVendas.txt', 'TheFabo.txt', 'DieserBear.txt', 'SWLegende.txt', 'Picutar.txt', '2B9.txt', 'Otronix.txt', 'Schmaarek.txt', 'musi1999.txt', 'PumiTheCat.txt', 'HerrDante.txt', 'KakaMC.txt', 'StaudammAusHolz.txt', 'Lelouch610.txt', 'Kyuudo.txt', 'twitchparaskiill.txt', 'G0at3D.txt', 'SecretAgent_K.txt', 'KMaxN.txt', 'Sey__.txt', 'ForceFox.txt', 'toxicplace.txt', 'Gestimus.txt', 'yachayubin.txt', 'Wolkenfarmer.txt', 'y9nic.txt', 'KINT0.txt', 'zBro.txt', 'qriezmannsOpa.txt', 'Harold_Sensemann.txt', 'JustAnyy.txt', 'PedroZockt.txt', 'MrNulfred.txt', 'Cytoox.txt', 'IchHolzDichWeg.txt', 'GingerTeddy.txt', 'Kopfradio.txt', 'loukrativ.txt', 'M0osebumps.txt', 'SmartyxD.txt', 'Kokochampo.txt', 'JennieKim.txt', 'Umgfoin.txt', 'ffawks.txt', 'Proofreader.txt', 'byTobi.txt', 'Shiewk.txt', 'La_meleagro.txt', 'Squashgitter333.txt', 'Luxemburq.txt', 'DarkCobweb.txt', 'Sackkerl.txt', 'Sthyq.txt', 'Acidey.txt', 'Laaaachs.txt', 'HerosHD.txt', 'Lennart0911.txt', 'Nor_Malo.txt', 'Gerrygames.txt', 'BusinessBent.txt', 'Simlll.txt', 'YBCM.txt', 'Txlentierter.txt', 'Dat_Klan.txt', 'Luis_XYZ.txt', 'NiklasMoWo.txt', 'MaxMitMaulkorb.txt', 'Oronor.txt', 'GamemasterNiki.txt', 'LordAlexos.txt', 'Pluto28.txt', 'GrafikKatze.txt', '_Einfallslos_.txt', 'cediiiiii_10.txt', 'Dokkkkko.txt', 'deadfiight.txt', 'Kanickelul.txt', 'crocodile1870.txt', 'Sower_.txt', 'Steavn.txt', 'EinfachEazy.txt', 'yiiq.txt', 'NotLennart.txt', 'Snitcherella.txt', 'Keenaai.txt', 'xd_Maiky.txt', 'Kklopse.txt', 'xIForgotMySkill.txt', 'ReichesBrot.txt', 'lolisamasan.txt', 'Raefinzs.txt', 'JOW24.txt', 'ByNetherdude.txt', 'ZweitesIch.txt', 'frutigall.txt', 'LilFueller.txt', 'xiooh.txt', 'qMika.txt', 'rotmann2.txt', 'FlyingKyubi.txt', 'Joy_8oy.txt', 'BauHD.txt', 'CML_Justin.txt', 'MoZadaTV.txt', 'BastiGHG.txt', 'Gummibearchen.txt', 'Lord_Weibull.txt', 'Stockinqs.txt', 'GlowyDusk.txt', 'Scuprum.txt', 'h4nnes.txt', 'cheesecake2901.txt', 'DrSpeed06.txt', 'Krusti.txt', 'marbrueck.txt', 'Vacted.txt', 'Janne4k.txt', 'Bartschii.txt', 'Mansuni.txt', 'SB387.txt', 'medisant.txt', 'Phoenix3000.txt', 'JOW23.txt', 'Ritokii.txt', 'Juti0n.txt', 'lvlaurin.txt', 'Bikoop.txt', 'FrozenNoah.txt', 'GeneralEnte06.txt', 'Dubbly.txt', 'revolverz.txt', 'Highsay.txt', 'ScreamingBlatz.txt', 'RyanxCole.txt', 'shellny.txt', 'kfc_man069.txt', 'TheKillerisback.txt', 'M0orey_0.txt', 'Mincheeen.txt', '2wc.txt', 'Feinberg.txt', 'Navex.txt', 'NewNormal0947.txt', 'Teesily.txt', 'linastunna.txt', 'SiLoHB.txt', 'Morittz.txt', 'cxl1lo.txt', 'LeMetin_.txt', 'unausgesprochen.txt', 'Freeeedom.txt', 'miridis41.txt', 'zLachs.txt', 'Joe3346.txt', 'Lingex.txt', 'xX_Masha_ggg_Xx9.txt', 'Julius16.txt', 'lizsyy.txt', 'camman18YT.txt', 'Jan2220.txt', 'Falke_01.txt', 'DaVinci_Son.txt', 'SatzdesPytag0ras.txt', 'Flitzi_Dino.txt', 'Wienerisch.txt', 'Seemops_8.txt', 'GermanPie.txt', 'Bildungsarten.txt', 'chrisihalt.txt', 'schwarzekater.txt', 'FluffyDragon2007.txt', 'LucaaOn.txt', 'Allooy.txt', 'Chander24.txt', 'Fflopse.txt', 'vKito.txt', 'bawskey.txt', 'RasenLP.txt', 'WshPasie.txt', 'Joel_the_king.txt', 'CladyNoClip_.txt', 'WirdNichtGeladen.txt', 'WuschigesEtwas.txt', 'OutcroYoutube.txt', 'HeIsJustAPoorBoy.txt', 'FlyingAutismus.txt', 'destr0yed_.txt', 'Ex4cted.txt', 'Mvsk_.txt', 'MaxOnTheRoad.txt', 'swiffle.txt', 'juvona.txt', 'Lubottus.txt', 'Nervigerr.txt', 'lolisamakun.txt', 'Martomias.txt', '20LeRe10.txt']\n",
      "processing Frostiger Pfad...\n",
      "Error: Tammywood.txt does not contain any TooltipEvent data\n",
      "Error: demiu.txt does not contain any TooltipEvent data\n",
      "Error: JayMinInSane.txt does not contain any TooltipEvent data\n",
      "Error: KINT0.txt does not contain any TooltipEvent data\n",
      "Error: SmartyxD.txt does not contain any TooltipEvent data\n",
      "Error: Lord_Weibull.txt does not contain any TooltipEvent data\n",
      "Error: Scuprum.txt does not contain any TooltipEvent data\n",
      "Error: Dubbly.txt does not contain any TooltipEvent data\n",
      "Error: destr0yed_.txt does not contain any TooltipEvent data\n",
      "Frostiger Pfad processed\n",
      "['__egE.txt', 'Tammywood.txt', 'BunnyKiko.txt', 'SpeckyCut.txt', 'sirmigorius.txt', 'Hyxeed.txt', 'demiu.txt', 'SpinCrafter.txt', 'NanamiElvi.txt', '_n3d.txt', 'Sebi1801.txt', 'AnzeigeGehtRaus.txt', 'JayMinInSane.txt', 'Persidieus.txt', 'N3XV.txt', 'Wissender.txt', 'Gryzes.txt', 'jimmi4Life.txt', 'Gobo9.txt', 'Anni808.txt', 'LeWi_100.txt', '_Waldi_.txt', 'Grapfen.txt', 'PixlNight.txt', 'dossantosaveiro_.txt', 'agowskyy.txt', 'TheBreadHD.txt', 'Axollotel.txt', 'T_Niko_T.txt', 'Vanillinchen.txt', 'Odlaa.txt', 'D4rkCookie.txt', 'yzvm.txt', 'Tim_Voltia.txt', 'xBaumeisterin.txt', 'Ungluecklicher.txt', 'Lutorix.txt', 'Ninivee.txt', 'ArthurAlchemist.txt', 'redbrll.txt', 'Gfrasti.txt', 'Muniix.txt', 'Tomiokey.txt', 'Carl1_1.txt', 'DerAutist.txt', 'PolizeiDreamy.txt', 'xX_Dima_ggg_Xx6.txt', 'CuzImKnxck.txt', 'Falke23_5.txt', 'yVendas.txt', 'TheFabo.txt', 'DieserBear.txt', 'SWLegende.txt', 'Picutar.txt', '2B9.txt', 'Otronix.txt', 'Schmaarek.txt', 'musi1999.txt', 'PumiTheCat.txt', 'HerrDante.txt', 'KakaMC.txt', 'StaudammAusHolz.txt', 'Lelouch610.txt', 'Kyuudo.txt', 'twitchparaskiill.txt', 'G0at3D.txt', 'SecretAgent_K.txt', 'KMaxN.txt', 'Sey__.txt', 'ForceFox.txt', 'toxicplace.txt', 'Gestimus.txt', 'yachayubin.txt', 'Wolkenfarmer.txt', 'y9nic.txt', 'KINT0.txt', 'zBro.txt', 'qriezmannsOpa.txt', 'Harold_Sensemann.txt', 'JustAnyy.txt', 'PedroZockt.txt', 'MrNulfred.txt', 'Cytoox.txt', 'IchHolzDichWeg.txt', 'GingerTeddy.txt', 'Kopfradio.txt', 'loukrativ.txt', 'M0osebumps.txt', 'SmartyxD.txt', 'Kokochampo.txt', 'JennieKim.txt', 'Umgfoin.txt', 'ffawks.txt', 'Proofreader.txt', 'byTobi.txt', 'Shiewk.txt', 'La_meleagro.txt', 'Squashgitter333.txt', 'Luxemburq.txt', 'DarkCobweb.txt', 'Sackkerl.txt', 'Sthyq.txt', 'Acidey.txt', 'Laaaachs.txt', 'HerosHD.txt', 'Lennart0911.txt', 'Nor_Malo.txt', 'Gerrygames.txt', 'BusinessBent.txt', 'Simlll.txt', 'YBCM.txt', 'Txlentierter.txt', 'Dat_Klan.txt', 'Luis_XYZ.txt', 'NiklasMoWo.txt', 'MaxMitMaulkorb.txt', 'Oronor.txt', 'GamemasterNiki.txt', 'LordAlexos.txt', 'Pluto28.txt', 'GrafikKatze.txt', '_Einfallslos_.txt', 'cediiiiii_10.txt', 'Dokkkkko.txt', 'deadfiight.txt', 'Kanickelul.txt', 'crocodile1870.txt', 'Sower_.txt', 'Steavn.txt', 'EinfachEazy.txt', 'yiiq.txt', 'NotLennart.txt', 'Snitcherella.txt', 'Keenaai.txt', 'xd_Maiky.txt', 'Kklopse.txt', 'xIForgotMySkill.txt', 'ReichesBrot.txt', 'lolisamasan.txt', 'Raefinzs.txt', 'JOW24.txt', 'ByNetherdude.txt', 'ZweitesIch.txt', 'frutigall.txt', 'LilFueller.txt', 'xiooh.txt', 'qMika.txt', 'rotmann2.txt', 'FlyingKyubi.txt', 'Joy_8oy.txt', 'BauHD.txt', 'CML_Justin.txt', 'MoZadaTV.txt', 'BastiGHG.txt', 'Gummibearchen.txt', 'Lord_Weibull.txt', 'Stockinqs.txt', 'GlowyDusk.txt', 'Scuprum.txt', 'h4nnes.txt', 'cheesecake2901.txt', 'DrSpeed06.txt', 'Krusti.txt', 'marbrueck.txt', 'Vacted.txt', 'Janne4k.txt', 'Bartschii.txt', 'Mansuni.txt', 'SB387.txt', 'medisant.txt', 'Phoenix3000.txt', 'JOW23.txt', 'Ritokii.txt', 'Juti0n.txt', 'lvlaurin.txt', 'Bikoop.txt', 'FrozenNoah.txt', 'GeneralEnte06.txt', 'Dubbly.txt', 'revolverz.txt', 'Highsay.txt', 'ScreamingBlatz.txt', 'RyanxCole.txt', 'shellny.txt', 'kfc_man069.txt', 'TheKillerisback.txt', 'M0orey_0.txt', 'Mincheeen.txt', '2wc.txt', 'Feinberg.txt', 'Navex.txt', 'NewNormal0947.txt', 'Teesily.txt', 'linastunna.txt', 'SiLoHB.txt', 'Morittz.txt', 'cxl1lo.txt', 'LeMetin_.txt', 'unausgesprochen.txt', 'Freeeedom.txt', 'miridis41.txt', 'zLachs.txt', 'Joe3346.txt', 'Lingex.txt', 'xX_Masha_ggg_Xx9.txt', 'Julius16.txt', 'lizsyy.txt', 'camman18YT.txt', 'Jan2220.txt', 'Falke_01.txt', 'DaVinci_Son.txt', 'SatzdesPytag0ras.txt', 'Flitzi_Dino.txt', 'Wienerisch.txt', 'Seemops_8.txt', 'GermanPie.txt', 'Bildungsarten.txt', 'chrisihalt.txt', 'schwarzekater.txt', 'FluffyDragon2007.txt', 'LucaaOn.txt', 'Allooy.txt', 'Chander24.txt', 'Fflopse.txt', 'vKito.txt', 'bawskey.txt', 'RasenLP.txt', 'WshPasie.txt', 'Joel_the_king.txt', 'CladyNoClip_.txt', 'WirdNichtGeladen.txt', 'WuschigesEtwas.txt', 'OutcroYoutube.txt', 'HeIsJustAPoorBoy.txt', 'FlyingAutismus.txt', 'destr0yed_.txt', 'Ex4cted.txt', 'Mvsk_.txt', 'MaxOnTheRoad.txt', 'swiffle.txt', 'juvona.txt', 'Lubottus.txt', 'Nervigerr.txt', 'lolisamakun.txt', 'Martomias.txt', '20LeRe10.txt']\n",
      "processing Runterpurzeln...\n",
      "Error: Tammywood.txt does not contain any TooltipEvent data\n",
      "Error: demiu.txt does not contain any TooltipEvent data\n",
      "Error: JayMinInSane.txt does not contain any TooltipEvent data\n",
      "Error: KINT0.txt does not contain any TooltipEvent data\n",
      "Error: SmartyxD.txt does not contain any TooltipEvent data\n",
      "Error: Lord_Weibull.txt does not contain any TooltipEvent data\n",
      "Error: Scuprum.txt does not contain any TooltipEvent data\n",
      "Error: Dubbly.txt does not contain any TooltipEvent data\n",
      "Error: destr0yed_.txt does not contain any TooltipEvent data\n",
      "Runterpurzeln processed\n",
      "['__egE.txt', 'Tammywood.txt', 'BunnyKiko.txt', 'SpeckyCut.txt', 'sirmigorius.txt', 'Hyxeed.txt', 'demiu.txt', 'SpinCrafter.txt', 'NanamiElvi.txt', '_n3d.txt', 'Sebi1801.txt', 'AnzeigeGehtRaus.txt', 'JayMinInSane.txt', 'Persidieus.txt', 'N3XV.txt', 'Wissender.txt', 'Gryzes.txt', 'jimmi4Life.txt', 'Gobo9.txt', 'Anni808.txt', 'LeWi_100.txt', '_Waldi_.txt', 'Grapfen.txt', 'PixlNight.txt', 'dossantosaveiro_.txt', 'agowskyy.txt', 'TheBreadHD.txt', 'Axollotel.txt', 'T_Niko_T.txt', 'Vanillinchen.txt', 'Odlaa.txt', 'D4rkCookie.txt', 'yzvm.txt', 'Tim_Voltia.txt', 'xBaumeisterin.txt', 'Ungluecklicher.txt', 'Lutorix.txt', 'Ninivee.txt', 'ArthurAlchemist.txt', 'redbrll.txt', 'Gfrasti.txt', 'Muniix.txt', 'Tomiokey.txt', 'Carl1_1.txt', 'DerAutist.txt', 'PolizeiDreamy.txt', 'xX_Dima_ggg_Xx6.txt', 'CuzImKnxck.txt', 'Falke23_5.txt', 'yVendas.txt', 'TheFabo.txt', 'DieserBear.txt', 'SWLegende.txt', 'Picutar.txt', '2B9.txt', 'Otronix.txt', 'Schmaarek.txt', 'musi1999.txt', 'PumiTheCat.txt', 'HerrDante.txt', 'KakaMC.txt', 'StaudammAusHolz.txt', 'Lelouch610.txt', 'Kyuudo.txt', 'twitchparaskiill.txt', 'G0at3D.txt', 'SecretAgent_K.txt', 'KMaxN.txt', 'Sey__.txt', 'ForceFox.txt', 'toxicplace.txt', 'Gestimus.txt', 'yachayubin.txt', 'Wolkenfarmer.txt', 'y9nic.txt', 'KINT0.txt', 'zBro.txt', 'qriezmannsOpa.txt', 'Harold_Sensemann.txt', 'JustAnyy.txt', 'PedroZockt.txt', 'MrNulfred.txt', 'Cytoox.txt', 'IchHolzDichWeg.txt', 'GingerTeddy.txt', 'Kopfradio.txt', 'loukrativ.txt', 'M0osebumps.txt', 'SmartyxD.txt', 'Kokochampo.txt', 'JennieKim.txt', 'Umgfoin.txt', 'ffawks.txt', 'Proofreader.txt', 'byTobi.txt', 'Shiewk.txt', 'La_meleagro.txt', 'Squashgitter333.txt', 'Luxemburq.txt', 'DarkCobweb.txt', 'Sackkerl.txt', 'Sthyq.txt', 'Acidey.txt', 'Laaaachs.txt', 'HerosHD.txt', 'Lennart0911.txt', 'Nor_Malo.txt', 'Gerrygames.txt', 'BusinessBent.txt', 'Simlll.txt', 'YBCM.txt', 'Txlentierter.txt', 'Dat_Klan.txt', 'Luis_XYZ.txt', 'NiklasMoWo.txt', 'MaxMitMaulkorb.txt', 'Oronor.txt', 'GamemasterNiki.txt', 'LordAlexos.txt', 'Pluto28.txt', 'GrafikKatze.txt', '_Einfallslos_.txt', 'cediiiiii_10.txt', 'Dokkkkko.txt', 'deadfiight.txt', 'Kanickelul.txt', 'crocodile1870.txt', 'Sower_.txt', 'Steavn.txt', 'EinfachEazy.txt', 'yiiq.txt', 'NotLennart.txt', 'Snitcherella.txt', 'Keenaai.txt', 'xd_Maiky.txt', 'Kklopse.txt', 'xIForgotMySkill.txt', 'ReichesBrot.txt', 'lolisamasan.txt', 'Raefinzs.txt', 'JOW24.txt', 'ByNetherdude.txt', 'ZweitesIch.txt', 'frutigall.txt', 'LilFueller.txt', 'xiooh.txt', 'qMika.txt', 'rotmann2.txt', 'FlyingKyubi.txt', 'Joy_8oy.txt', 'BauHD.txt', 'CML_Justin.txt', 'MoZadaTV.txt', 'BastiGHG.txt', 'Gummibearchen.txt', 'Lord_Weibull.txt', 'Stockinqs.txt', 'GlowyDusk.txt', 'Scuprum.txt', 'h4nnes.txt', 'cheesecake2901.txt', 'DrSpeed06.txt', 'Krusti.txt', 'marbrueck.txt', 'Vacted.txt', 'Janne4k.txt', 'Bartschii.txt', 'Mansuni.txt', 'SB387.txt', 'medisant.txt', 'Phoenix3000.txt', 'JOW23.txt', 'Ritokii.txt', 'Juti0n.txt', 'lvlaurin.txt', 'Bikoop.txt', 'FrozenNoah.txt', 'GeneralEnte06.txt', 'Dubbly.txt', 'revolverz.txt', 'Highsay.txt', 'ScreamingBlatz.txt', 'RyanxCole.txt', 'shellny.txt', 'kfc_man069.txt', 'TheKillerisback.txt', 'M0orey_0.txt', 'Mincheeen.txt', '2wc.txt', 'Feinberg.txt', 'Navex.txt', 'NewNormal0947.txt', 'Teesily.txt', 'linastunna.txt', 'SiLoHB.txt', 'Morittz.txt', 'cxl1lo.txt', 'LeMetin_.txt', 'unausgesprochen.txt', 'Freeeedom.txt', 'miridis41.txt', 'zLachs.txt', 'Joe3346.txt', 'Lingex.txt', 'xX_Masha_ggg_Xx9.txt', 'Julius16.txt', 'lizsyy.txt', 'camman18YT.txt', 'Jan2220.txt', 'Falke_01.txt', 'DaVinci_Son.txt', 'SatzdesPytag0ras.txt', 'Flitzi_Dino.txt', 'Wienerisch.txt', 'Seemops_8.txt', 'GermanPie.txt', 'Bildungsarten.txt', 'chrisihalt.txt', 'schwarzekater.txt', 'FluffyDragon2007.txt', 'LucaaOn.txt', 'Allooy.txt', 'Chander24.txt', 'Fflopse.txt', 'vKito.txt', 'bawskey.txt', 'RasenLP.txt', 'WshPasie.txt', 'Joel_the_king.txt', 'CladyNoClip_.txt', 'WirdNichtGeladen.txt', 'WuschigesEtwas.txt', 'OutcroYoutube.txt', 'HeIsJustAPoorBoy.txt', 'FlyingAutismus.txt', 'destr0yed_.txt', 'Ex4cted.txt', 'Mvsk_.txt', 'MaxOnTheRoad.txt', 'swiffle.txt', 'juvona.txt', 'Lubottus.txt', 'Nervigerr.txt', 'lolisamakun.txt', 'Martomias.txt', '20LeRe10.txt']\n",
      "processing Blockhüpfer...\n",
      "Error: Tammywood.txt does not contain any TooltipEvent data\n",
      "Error: demiu.txt does not contain any TooltipEvent data\n",
      "Error: JayMinInSane.txt does not contain any TooltipEvent data\n",
      "Error: KINT0.txt does not contain any TooltipEvent data\n",
      "Error: SmartyxD.txt does not contain any TooltipEvent data\n",
      "Error: Lord_Weibull.txt does not contain any TooltipEvent data\n",
      "Error: Scuprum.txt does not contain any TooltipEvent data\n",
      "Error: Dubbly.txt does not contain any TooltipEvent data\n",
      "Error: destr0yed_.txt does not contain any TooltipEvent data\n",
      "Blockhüpfer processed\n"
     ]
    }
   ],
   "source": [
    "for minigame in (pointMiniGames + \", \" + timeMiniGames).split(', '): \n",
    "    temp = getBestPlayer(minigame=minigame)\n",
    "\n",
    "    # rename PointSum to minigame name\n",
    "    temp.rename(columns={'PointSum': minigame}, inplace=True)\n",
    "\n",
    "    # drop all columns but the pointDf column\n",
    "    temp = temp[[minigame]]\n",
    "\n",
    "    # concat all minigame dataframes\n",
    "    try: \n",
    "        outDf = pd.concat([outDf, temp], axis=1)\n",
    "    except: \n",
    "        outDf = temp\n"
   ]
  },
  {
   "cell_type": "code",
   "execution_count": 9,
   "metadata": {},
   "outputs": [
    {
     "data": {
      "text/plain": [
       "cediiiiii_10     60.0\n",
       "NewNormal0947     5.0\n",
       "Sower_            0.0\n",
       "_n3d              5.0\n",
       "Allooy           10.0\n",
       "                 ... \n",
       "demiu             NaN\n",
       "JayMinInSane      NaN\n",
       "Tammywood         NaN\n",
       "KINT0             NaN\n",
       "SmartyxD          NaN\n",
       "Name: Schießstand, Length: 246, dtype: float64"
      ]
     },
     "execution_count": 9,
     "metadata": {},
     "output_type": "execute_result"
    }
   ],
   "source": [
    "outDf['Schießstand']"
   ]
  },
  {
   "cell_type": "code",
   "execution_count": 10,
   "metadata": {},
   "outputs": [
    {
     "name": "stdout",
     "output_type": "stream",
     "text": [
      "['__egE.txt', 'Tammywood.txt', 'BunnyKiko.txt', 'SpeckyCut.txt', 'sirmigorius.txt', 'Hyxeed.txt', 'demiu.txt', 'SpinCrafter.txt', 'NanamiElvi.txt', '_n3d.txt', 'Sebi1801.txt', 'AnzeigeGehtRaus.txt', 'JayMinInSane.txt', 'Persidieus.txt', 'N3XV.txt', 'Wissender.txt', 'Gryzes.txt', 'jimmi4Life.txt', 'Gobo9.txt', 'Anni808.txt', 'LeWi_100.txt', '_Waldi_.txt', 'Grapfen.txt', 'PixlNight.txt', 'dossantosaveiro_.txt', 'agowskyy.txt', 'TheBreadHD.txt', 'Axollotel.txt', 'T_Niko_T.txt', 'Vanillinchen.txt', 'Odlaa.txt', 'D4rkCookie.txt', 'yzvm.txt', 'Tim_Voltia.txt', 'xBaumeisterin.txt', 'Ungluecklicher.txt', 'Lutorix.txt', 'Ninivee.txt', 'ArthurAlchemist.txt', 'redbrll.txt', 'Gfrasti.txt', 'Muniix.txt', 'Tomiokey.txt', 'Carl1_1.txt', 'DerAutist.txt', 'PolizeiDreamy.txt', 'xX_Dima_ggg_Xx6.txt', 'CuzImKnxck.txt', 'Falke23_5.txt', 'yVendas.txt', 'TheFabo.txt', 'DieserBear.txt', 'SWLegende.txt', 'Picutar.txt', '2B9.txt', 'Otronix.txt', 'Schmaarek.txt', 'musi1999.txt', 'PumiTheCat.txt', 'HerrDante.txt', 'KakaMC.txt', 'StaudammAusHolz.txt', 'Lelouch610.txt', 'Kyuudo.txt', 'twitchparaskiill.txt', 'G0at3D.txt', 'SecretAgent_K.txt', 'KMaxN.txt', 'Sey__.txt', 'ForceFox.txt', 'toxicplace.txt', 'Gestimus.txt', 'yachayubin.txt', 'Wolkenfarmer.txt', 'y9nic.txt', 'KINT0.txt', 'zBro.txt', 'qriezmannsOpa.txt', 'Harold_Sensemann.txt', 'JustAnyy.txt', 'PedroZockt.txt', 'MrNulfred.txt', 'Cytoox.txt', 'IchHolzDichWeg.txt', 'GingerTeddy.txt', 'Kopfradio.txt', 'loukrativ.txt', 'M0osebumps.txt', 'SmartyxD.txt', 'Kokochampo.txt', 'JennieKim.txt', 'Umgfoin.txt', 'ffawks.txt', 'Proofreader.txt', 'byTobi.txt', 'Shiewk.txt', 'La_meleagro.txt', 'Squashgitter333.txt', 'Luxemburq.txt', 'DarkCobweb.txt', 'Sackkerl.txt', 'Sthyq.txt', 'Acidey.txt', 'Laaaachs.txt', 'HerosHD.txt', 'Lennart0911.txt', 'Nor_Malo.txt', 'Gerrygames.txt', 'BusinessBent.txt', 'Simlll.txt', 'YBCM.txt', 'Txlentierter.txt', 'Dat_Klan.txt', 'Luis_XYZ.txt', 'NiklasMoWo.txt', 'MaxMitMaulkorb.txt', 'Oronor.txt', 'GamemasterNiki.txt', 'LordAlexos.txt', 'Pluto28.txt', 'GrafikKatze.txt', '_Einfallslos_.txt', 'cediiiiii_10.txt', 'Dokkkkko.txt', 'deadfiight.txt', 'Kanickelul.txt', 'crocodile1870.txt', 'Sower_.txt', 'Steavn.txt', 'EinfachEazy.txt', 'yiiq.txt', 'NotLennart.txt', 'Snitcherella.txt', 'Keenaai.txt', 'xd_Maiky.txt', 'Kklopse.txt', 'xIForgotMySkill.txt', 'ReichesBrot.txt', 'lolisamasan.txt', 'Raefinzs.txt', 'JOW24.txt', 'ByNetherdude.txt', 'ZweitesIch.txt', 'frutigall.txt', 'LilFueller.txt', 'xiooh.txt', 'qMika.txt', 'rotmann2.txt', 'FlyingKyubi.txt', 'Joy_8oy.txt', 'BauHD.txt', 'CML_Justin.txt', 'MoZadaTV.txt', 'BastiGHG.txt', 'Gummibearchen.txt', 'Lord_Weibull.txt', 'Stockinqs.txt', 'GlowyDusk.txt', 'Scuprum.txt', 'h4nnes.txt', 'cheesecake2901.txt', 'DrSpeed06.txt', 'Krusti.txt', 'marbrueck.txt', 'Vacted.txt', 'Janne4k.txt', 'Bartschii.txt', 'Mansuni.txt', 'SB387.txt', 'medisant.txt', 'Phoenix3000.txt', 'JOW23.txt', 'Ritokii.txt', 'Juti0n.txt', 'lvlaurin.txt', 'Bikoop.txt', 'FrozenNoah.txt', 'GeneralEnte06.txt', 'Dubbly.txt', 'revolverz.txt', 'Highsay.txt', 'ScreamingBlatz.txt', 'RyanxCole.txt', 'shellny.txt', 'kfc_man069.txt', 'TheKillerisback.txt', 'M0orey_0.txt', 'Mincheeen.txt', '2wc.txt', 'Feinberg.txt', 'Navex.txt', 'NewNormal0947.txt', 'Teesily.txt', 'linastunna.txt', 'SiLoHB.txt', 'Morittz.txt', 'cxl1lo.txt', 'LeMetin_.txt', 'unausgesprochen.txt', 'Freeeedom.txt', 'miridis41.txt', 'zLachs.txt', 'Joe3346.txt', 'Lingex.txt', 'xX_Masha_ggg_Xx9.txt', 'Julius16.txt', 'lizsyy.txt', 'camman18YT.txt', 'Jan2220.txt', 'Falke_01.txt', 'DaVinci_Son.txt', 'SatzdesPytag0ras.txt', 'Flitzi_Dino.txt', 'Wienerisch.txt', 'Seemops_8.txt', 'GermanPie.txt', 'Bildungsarten.txt', 'chrisihalt.txt', 'schwarzekater.txt', 'FluffyDragon2007.txt', 'LucaaOn.txt', 'Allooy.txt', 'Chander24.txt', 'Fflopse.txt', 'vKito.txt', 'bawskey.txt', 'RasenLP.txt', 'WshPasie.txt', 'Joel_the_king.txt', 'CladyNoClip_.txt', 'WirdNichtGeladen.txt', 'WuschigesEtwas.txt', 'OutcroYoutube.txt', 'HeIsJustAPoorBoy.txt', 'FlyingAutismus.txt', 'destr0yed_.txt', 'Ex4cted.txt', 'Mvsk_.txt', 'MaxOnTheRoad.txt', 'swiffle.txt', 'juvona.txt', 'Lubottus.txt', 'Nervigerr.txt', 'lolisamakun.txt', 'Martomias.txt', '20LeRe10.txt']\n",
      "processing Schießstand...\n",
      "Error: Tammywood.txt does not contain any TooltipEvent data\n",
      "Error: demiu.txt does not contain any TooltipEvent data\n",
      "Error: JayMinInSane.txt does not contain any TooltipEvent data\n",
      "Error: KINT0.txt does not contain any TooltipEvent data\n",
      "Error: SmartyxD.txt does not contain any TooltipEvent data\n",
      "Error: Lord_Weibull.txt does not contain any TooltipEvent data\n",
      "Error: Scuprum.txt does not contain any TooltipEvent data\n",
      "Error: Dubbly.txt does not contain any TooltipEvent data\n",
      "Error: destr0yed_.txt does not contain any TooltipEvent data\n",
      "Schießstand processed\n"
     ]
    },
    {
     "data": {
      "text/html": [
       "<div>\n",
       "<style scoped>\n",
       "    .dataframe tbody tr th:only-of-type {\n",
       "        vertical-align: middle;\n",
       "    }\n",
       "\n",
       "    .dataframe tbody tr th {\n",
       "        vertical-align: top;\n",
       "    }\n",
       "\n",
       "    .dataframe thead th {\n",
       "        text-align: right;\n",
       "    }\n",
       "</style>\n",
       "<table border=\"1\" class=\"dataframe\">\n",
       "  <thead>\n",
       "    <tr style=\"text-align: right;\">\n",
       "      <th></th>\n",
       "      <th>City</th>\n",
       "      <th>Farm</th>\n",
       "      <th>Jungle</th>\n",
       "      <th>Punkte Chambers</th>\n",
       "      <th>PointSum</th>\n",
       "    </tr>\n",
       "  </thead>\n",
       "  <tbody>\n",
       "    <tr>\n",
       "      <th>Ex4cted</th>\n",
       "      <td>100.0</td>\n",
       "      <td>60.0</td>\n",
       "      <td>30.0</td>\n",
       "      <td>60.0</td>\n",
       "      <td>62.5</td>\n",
       "    </tr>\n",
       "    <tr>\n",
       "      <th>cediiiiii_10</th>\n",
       "      <td>20.0</td>\n",
       "      <td>30.0</td>\n",
       "      <td>90.0</td>\n",
       "      <td>100.0</td>\n",
       "      <td>60.0</td>\n",
       "    </tr>\n",
       "    <tr>\n",
       "      <th>Fflopse</th>\n",
       "      <td>90.0</td>\n",
       "      <td>80.0</td>\n",
       "      <td>70.0</td>\n",
       "      <td>0.0</td>\n",
       "      <td>60.0</td>\n",
       "    </tr>\n",
       "    <tr>\n",
       "      <th>JOW23</th>\n",
       "      <td>30.0</td>\n",
       "      <td>80.0</td>\n",
       "      <td>80.0</td>\n",
       "      <td>0.0</td>\n",
       "      <td>47.5</td>\n",
       "    </tr>\n",
       "    <tr>\n",
       "      <th>rotmann2</th>\n",
       "      <td>0.0</td>\n",
       "      <td>90.0</td>\n",
       "      <td>0.0</td>\n",
       "      <td>70.0</td>\n",
       "      <td>40.0</td>\n",
       "    </tr>\n",
       "    <tr>\n",
       "      <th>...</th>\n",
       "      <td>...</td>\n",
       "      <td>...</td>\n",
       "      <td>...</td>\n",
       "      <td>...</td>\n",
       "      <td>...</td>\n",
       "    </tr>\n",
       "    <tr>\n",
       "      <th>byTobi</th>\n",
       "      <td>0.0</td>\n",
       "      <td>0.0</td>\n",
       "      <td>0.0</td>\n",
       "      <td>0.0</td>\n",
       "      <td>0.0</td>\n",
       "    </tr>\n",
       "    <tr>\n",
       "      <th>Shiewk</th>\n",
       "      <td>0.0</td>\n",
       "      <td>0.0</td>\n",
       "      <td>0.0</td>\n",
       "      <td>0.0</td>\n",
       "      <td>0.0</td>\n",
       "    </tr>\n",
       "    <tr>\n",
       "      <th>La_meleagro</th>\n",
       "      <td>0.0</td>\n",
       "      <td>0.0</td>\n",
       "      <td>0.0</td>\n",
       "      <td>0.0</td>\n",
       "      <td>0.0</td>\n",
       "    </tr>\n",
       "    <tr>\n",
       "      <th>Luxemburq</th>\n",
       "      <td>0.0</td>\n",
       "      <td>0.0</td>\n",
       "      <td>0.0</td>\n",
       "      <td>0.0</td>\n",
       "      <td>0.0</td>\n",
       "    </tr>\n",
       "    <tr>\n",
       "      <th>20LeRe10</th>\n",
       "      <td>0.0</td>\n",
       "      <td>0.0</td>\n",
       "      <td>0.0</td>\n",
       "      <td>0.0</td>\n",
       "      <td>0.0</td>\n",
       "    </tr>\n",
       "  </tbody>\n",
       "</table>\n",
       "<p>234 rows × 5 columns</p>\n",
       "</div>"
      ],
      "text/plain": [
       "               City  Farm  Jungle  Punkte Chambers  PointSum\n",
       "Ex4cted       100.0  60.0    30.0             60.0      62.5\n",
       "cediiiiii_10   20.0  30.0    90.0            100.0      60.0\n",
       "Fflopse        90.0  80.0    70.0              0.0      60.0\n",
       "JOW23          30.0  80.0    80.0              0.0      47.5\n",
       "rotmann2        0.0  90.0     0.0             70.0      40.0\n",
       "...             ...   ...     ...              ...       ...\n",
       "byTobi          0.0   0.0     0.0              0.0       0.0\n",
       "Shiewk          0.0   0.0     0.0              0.0       0.0\n",
       "La_meleagro     0.0   0.0     0.0              0.0       0.0\n",
       "Luxemburq       0.0   0.0     0.0              0.0       0.0\n",
       "20LeRe10        0.0   0.0     0.0              0.0       0.0\n",
       "\n",
       "[234 rows x 5 columns]"
      ]
     },
     "execution_count": 10,
     "metadata": {},
     "output_type": "execute_result"
    }
   ],
   "source": [
    "getBestPlayer(minigame='Schießstand')"
   ]
  },
  {
   "cell_type": "code",
   "execution_count": 11,
   "metadata": {},
   "outputs": [
    {
     "data": {
      "text/plain": [
       "Index(['Sammelwahn', 'Schießstand', 'Mauerfall', 'Survivalgames', 'Skywars',\n",
       "       'Lasertag', 'Minengefecht', 'Einer im Köcher', 'Paintball', 'Spleef',\n",
       "       'Buntes Chaos', 'Reihenfolge', 'Duelle', 'Turmroulette', 'Wettrennen',\n",
       "       'Parkour', 'Pferderennen', 'Drachenflucht', 'Replika', 'Blockhüpfer',\n",
       "       'Todeswürfel', 'Freier Fall', 'Elytrarennen', 'Waffenfolge',\n",
       "       'Minenfeld', 'Kletterkönig', 'Ampelrennen', 'Hoch hinaus',\n",
       "       'Frostiger Pfad', 'Runterpurzeln'],\n",
       "      dtype='object')"
      ]
     },
     "execution_count": 11,
     "metadata": {},
     "output_type": "execute_result"
    }
   ],
   "source": [
    "remove_duplicate_columns(outDf).columns"
   ]
  },
  {
   "cell_type": "code",
   "execution_count": 12,
   "metadata": {},
   "outputs": [
    {
     "data": {
      "image/png": "[encoded data removed]",
      "text/plain": [
       "<Figure size 2000x1400 with 1 Axes>"
      ]
     },
     "metadata": {},
     "output_type": "display_data"
    }
   ],
   "source": [
    "import matplotlib.pyplot as plt\n",
    "import plotly.express as px\n",
    "\n",
    "# print(outDf)\n",
    "\n",
    "# sum all lines to get the total score\n",
    "\n",
    "outDf['Total'] = outDf.sum(axis=1)\n",
    "\n",
    "outDf = outDf.sort_values(by='Total', ascending=False).fillna(0)\n",
    "\n",
    "# crop df to the top 10 players and plot the data, as a stacked barplot, place legend outside\n",
    "\n",
    "cropDf = outDf.head(10)\n",
    "\n",
    "cropDf = cropDf.drop(columns=['Total'])\n",
    "\n",
    "cropDf.plot(kind='bar', stacked=True, figsize=(20, 14))\n",
    "\n",
    "plt.legend(loc='center left', bbox_to_anchor=(1.0, 0.5))\n",
    "\n",
    "plt.show()"
   ]
  },
  {
   "cell_type": "code",
   "execution_count": 13,
   "metadata": {},
   "outputs": [
    {
     "data": {
      "text/html": [
       "<div>\n",
       "<style scoped>\n",
       "    .dataframe tbody tr th:only-of-type {\n",
       "        vertical-align: middle;\n",
       "    }\n",
       "\n",
       "    .dataframe tbody tr th {\n",
       "        vertical-align: top;\n",
       "    }\n",
       "\n",
       "    .dataframe thead th {\n",
       "        text-align: right;\n",
       "    }\n",
       "</style>\n",
       "<table border=\"1\" class=\"dataframe\">\n",
       "  <thead>\n",
       "    <tr style=\"text-align: right;\">\n",
       "      <th></th>\n",
       "      <th>Sammelwahn</th>\n",
       "      <th>Schießstand</th>\n",
       "      <th>Mauerfall</th>\n",
       "      <th>Survivalgames</th>\n",
       "      <th>Skywars</th>\n",
       "      <th>Lasertag</th>\n",
       "      <th>Minengefecht</th>\n",
       "      <th>Einer im Köcher</th>\n",
       "      <th>Paintball</th>\n",
       "      <th>Spleef</th>\n",
       "      <th>...</th>\n",
       "      <th>Elytrarennen</th>\n",
       "      <th>Waffenfolge</th>\n",
       "      <th>Minenfeld</th>\n",
       "      <th>Kletterkönig</th>\n",
       "      <th>Ampelrennen</th>\n",
       "      <th>Hoch hinaus</th>\n",
       "      <th>Frostiger Pfad</th>\n",
       "      <th>Runterpurzeln</th>\n",
       "      <th>Blockhüpfer</th>\n",
       "      <th>Total</th>\n",
       "    </tr>\n",
       "  </thead>\n",
       "  <tbody>\n",
       "    <tr>\n",
       "      <th>Allooy</th>\n",
       "      <td>18.139535</td>\n",
       "      <td>10.0</td>\n",
       "      <td>30.000000</td>\n",
       "      <td>50.0</td>\n",
       "      <td>18.333333</td>\n",
       "      <td>0.0</td>\n",
       "      <td>45.0</td>\n",
       "      <td>83.333333</td>\n",
       "      <td>0.0</td>\n",
       "      <td>100.0</td>\n",
       "      <td>...</td>\n",
       "      <td>87.5</td>\n",
       "      <td>0.0</td>\n",
       "      <td>10.000000</td>\n",
       "      <td>23.333333</td>\n",
       "      <td>0.0</td>\n",
       "      <td>80.0</td>\n",
       "      <td>0.0</td>\n",
       "      <td>60.0</td>\n",
       "      <td>80.0</td>\n",
       "      <td>1215.789108</td>\n",
       "    </tr>\n",
       "    <tr>\n",
       "      <th>cediiiiii_10</th>\n",
       "      <td>39.534884</td>\n",
       "      <td>60.0</td>\n",
       "      <td>86.666667</td>\n",
       "      <td>32.5</td>\n",
       "      <td>73.333333</td>\n",
       "      <td>15.0</td>\n",
       "      <td>70.0</td>\n",
       "      <td>10.000000</td>\n",
       "      <td>0.0</td>\n",
       "      <td>70.0</td>\n",
       "      <td>...</td>\n",
       "      <td>47.5</td>\n",
       "      <td>0.0</td>\n",
       "      <td>10.000000</td>\n",
       "      <td>23.333333</td>\n",
       "      <td>15.0</td>\n",
       "      <td>30.0</td>\n",
       "      <td>0.0</td>\n",
       "      <td>80.0</td>\n",
       "      <td>0.0</td>\n",
       "      <td>1063.244285</td>\n",
       "    </tr>\n",
       "    <tr>\n",
       "      <th>chrisihalt</th>\n",
       "      <td>4.883721</td>\n",
       "      <td>10.0</td>\n",
       "      <td>0.000000</td>\n",
       "      <td>45.0</td>\n",
       "      <td>13.333333</td>\n",
       "      <td>0.0</td>\n",
       "      <td>45.0</td>\n",
       "      <td>0.000000</td>\n",
       "      <td>0.0</td>\n",
       "      <td>0.0</td>\n",
       "      <td>...</td>\n",
       "      <td>60.0</td>\n",
       "      <td>0.0</td>\n",
       "      <td>33.333333</td>\n",
       "      <td>10.000000</td>\n",
       "      <td>80.0</td>\n",
       "      <td>40.0</td>\n",
       "      <td>0.0</td>\n",
       "      <td>0.0</td>\n",
       "      <td>90.0</td>\n",
       "      <td>879.178593</td>\n",
       "    </tr>\n",
       "    <tr>\n",
       "      <th>Fflopse</th>\n",
       "      <td>10.232558</td>\n",
       "      <td>60.0</td>\n",
       "      <td>66.666667</td>\n",
       "      <td>0.0</td>\n",
       "      <td>13.333333</td>\n",
       "      <td>60.0</td>\n",
       "      <td>5.0</td>\n",
       "      <td>80.000000</td>\n",
       "      <td>0.0</td>\n",
       "      <td>0.0</td>\n",
       "      <td>...</td>\n",
       "      <td>7.5</td>\n",
       "      <td>0.0</td>\n",
       "      <td>26.666667</td>\n",
       "      <td>46.666667</td>\n",
       "      <td>35.0</td>\n",
       "      <td>50.0</td>\n",
       "      <td>0.0</td>\n",
       "      <td>0.0</td>\n",
       "      <td>70.0</td>\n",
       "      <td>785.959054</td>\n",
       "    </tr>\n",
       "    <tr>\n",
       "      <th>Muniix</th>\n",
       "      <td>8.604651</td>\n",
       "      <td>20.0</td>\n",
       "      <td>56.666667</td>\n",
       "      <td>70.0</td>\n",
       "      <td>31.666667</td>\n",
       "      <td>25.0</td>\n",
       "      <td>20.0</td>\n",
       "      <td>0.000000</td>\n",
       "      <td>0.0</td>\n",
       "      <td>70.0</td>\n",
       "      <td>...</td>\n",
       "      <td>5.0</td>\n",
       "      <td>0.0</td>\n",
       "      <td>0.000000</td>\n",
       "      <td>46.666667</td>\n",
       "      <td>0.0</td>\n",
       "      <td>0.0</td>\n",
       "      <td>0.0</td>\n",
       "      <td>100.0</td>\n",
       "      <td>0.0</td>\n",
       "      <td>746.920890</td>\n",
       "    </tr>\n",
       "    <tr>\n",
       "      <th>...</th>\n",
       "      <td>...</td>\n",
       "      <td>...</td>\n",
       "      <td>...</td>\n",
       "      <td>...</td>\n",
       "      <td>...</td>\n",
       "      <td>...</td>\n",
       "      <td>...</td>\n",
       "      <td>...</td>\n",
       "      <td>...</td>\n",
       "      <td>...</td>\n",
       "      <td>...</td>\n",
       "      <td>...</td>\n",
       "      <td>...</td>\n",
       "      <td>...</td>\n",
       "      <td>...</td>\n",
       "      <td>...</td>\n",
       "      <td>...</td>\n",
       "      <td>...</td>\n",
       "      <td>...</td>\n",
       "      <td>...</td>\n",
       "      <td>...</td>\n",
       "    </tr>\n",
       "    <tr>\n",
       "      <th>Tomiokey</th>\n",
       "      <td>0.000000</td>\n",
       "      <td>0.0</td>\n",
       "      <td>0.000000</td>\n",
       "      <td>0.0</td>\n",
       "      <td>0.000000</td>\n",
       "      <td>0.0</td>\n",
       "      <td>0.0</td>\n",
       "      <td>0.000000</td>\n",
       "      <td>0.0</td>\n",
       "      <td>0.0</td>\n",
       "      <td>...</td>\n",
       "      <td>0.0</td>\n",
       "      <td>0.0</td>\n",
       "      <td>0.000000</td>\n",
       "      <td>0.000000</td>\n",
       "      <td>0.0</td>\n",
       "      <td>0.0</td>\n",
       "      <td>0.0</td>\n",
       "      <td>0.0</td>\n",
       "      <td>0.0</td>\n",
       "      <td>0.000000</td>\n",
       "    </tr>\n",
       "    <tr>\n",
       "      <th>SecretAgent_K</th>\n",
       "      <td>0.000000</td>\n",
       "      <td>0.0</td>\n",
       "      <td>0.000000</td>\n",
       "      <td>0.0</td>\n",
       "      <td>0.000000</td>\n",
       "      <td>0.0</td>\n",
       "      <td>0.0</td>\n",
       "      <td>0.000000</td>\n",
       "      <td>0.0</td>\n",
       "      <td>0.0</td>\n",
       "      <td>...</td>\n",
       "      <td>0.0</td>\n",
       "      <td>0.0</td>\n",
       "      <td>0.000000</td>\n",
       "      <td>0.000000</td>\n",
       "      <td>0.0</td>\n",
       "      <td>0.0</td>\n",
       "      <td>0.0</td>\n",
       "      <td>0.0</td>\n",
       "      <td>0.0</td>\n",
       "      <td>0.000000</td>\n",
       "    </tr>\n",
       "    <tr>\n",
       "      <th>StaudammAusHolz</th>\n",
       "      <td>0.000000</td>\n",
       "      <td>0.0</td>\n",
       "      <td>0.000000</td>\n",
       "      <td>0.0</td>\n",
       "      <td>0.000000</td>\n",
       "      <td>0.0</td>\n",
       "      <td>0.0</td>\n",
       "      <td>0.000000</td>\n",
       "      <td>0.0</td>\n",
       "      <td>0.0</td>\n",
       "      <td>...</td>\n",
       "      <td>0.0</td>\n",
       "      <td>0.0</td>\n",
       "      <td>0.000000</td>\n",
       "      <td>0.000000</td>\n",
       "      <td>0.0</td>\n",
       "      <td>0.0</td>\n",
       "      <td>0.0</td>\n",
       "      <td>0.0</td>\n",
       "      <td>0.0</td>\n",
       "      <td>0.000000</td>\n",
       "    </tr>\n",
       "    <tr>\n",
       "      <th>PumiTheCat</th>\n",
       "      <td>0.000000</td>\n",
       "      <td>0.0</td>\n",
       "      <td>0.000000</td>\n",
       "      <td>0.0</td>\n",
       "      <td>0.000000</td>\n",
       "      <td>0.0</td>\n",
       "      <td>0.0</td>\n",
       "      <td>0.000000</td>\n",
       "      <td>0.0</td>\n",
       "      <td>0.0</td>\n",
       "      <td>...</td>\n",
       "      <td>0.0</td>\n",
       "      <td>0.0</td>\n",
       "      <td>0.000000</td>\n",
       "      <td>0.000000</td>\n",
       "      <td>0.0</td>\n",
       "      <td>0.0</td>\n",
       "      <td>0.0</td>\n",
       "      <td>0.0</td>\n",
       "      <td>0.0</td>\n",
       "      <td>0.000000</td>\n",
       "    </tr>\n",
       "    <tr>\n",
       "      <th>SmartyxD</th>\n",
       "      <td>0.000000</td>\n",
       "      <td>0.0</td>\n",
       "      <td>0.000000</td>\n",
       "      <td>0.0</td>\n",
       "      <td>0.000000</td>\n",
       "      <td>0.0</td>\n",
       "      <td>0.0</td>\n",
       "      <td>0.000000</td>\n",
       "      <td>0.0</td>\n",
       "      <td>0.0</td>\n",
       "      <td>...</td>\n",
       "      <td>0.0</td>\n",
       "      <td>0.0</td>\n",
       "      <td>0.000000</td>\n",
       "      <td>0.000000</td>\n",
       "      <td>0.0</td>\n",
       "      <td>0.0</td>\n",
       "      <td>0.0</td>\n",
       "      <td>0.0</td>\n",
       "      <td>0.0</td>\n",
       "      <td>0.000000</td>\n",
       "    </tr>\n",
       "  </tbody>\n",
       "</table>\n",
       "<p>246 rows × 32 columns</p>\n",
       "</div>"
      ],
      "text/plain": [
       "                 Sammelwahn  Schießstand  Mauerfall  Survivalgames    Skywars  \\\n",
       "Allooy            18.139535         10.0  30.000000           50.0  18.333333   \n",
       "cediiiiii_10      39.534884         60.0  86.666667           32.5  73.333333   \n",
       "chrisihalt         4.883721         10.0   0.000000           45.0  13.333333   \n",
       "Fflopse           10.232558         60.0  66.666667            0.0  13.333333   \n",
       "Muniix             8.604651         20.0  56.666667           70.0  31.666667   \n",
       "...                     ...          ...        ...            ...        ...   \n",
       "Tomiokey           0.000000          0.0   0.000000            0.0   0.000000   \n",
       "SecretAgent_K      0.000000          0.0   0.000000            0.0   0.000000   \n",
       "StaudammAusHolz    0.000000          0.0   0.000000            0.0   0.000000   \n",
       "PumiTheCat         0.000000          0.0   0.000000            0.0   0.000000   \n",
       "SmartyxD           0.000000          0.0   0.000000            0.0   0.000000   \n",
       "\n",
       "                 Lasertag  Minengefecht  Einer im Köcher  Paintball  Spleef  \\\n",
       "Allooy                0.0          45.0        83.333333        0.0   100.0   \n",
       "cediiiiii_10         15.0          70.0        10.000000        0.0    70.0   \n",
       "chrisihalt            0.0          45.0         0.000000        0.0     0.0   \n",
       "Fflopse              60.0           5.0        80.000000        0.0     0.0   \n",
       "Muniix               25.0          20.0         0.000000        0.0    70.0   \n",
       "...                   ...           ...              ...        ...     ...   \n",
       "Tomiokey              0.0           0.0         0.000000        0.0     0.0   \n",
       "SecretAgent_K         0.0           0.0         0.000000        0.0     0.0   \n",
       "StaudammAusHolz       0.0           0.0         0.000000        0.0     0.0   \n",
       "PumiTheCat            0.0           0.0         0.000000        0.0     0.0   \n",
       "SmartyxD              0.0           0.0         0.000000        0.0     0.0   \n",
       "\n",
       "                 ...  Elytrarennen  Waffenfolge  Minenfeld  Kletterkönig  \\\n",
       "Allooy           ...          87.5          0.0  10.000000     23.333333   \n",
       "cediiiiii_10     ...          47.5          0.0  10.000000     23.333333   \n",
       "chrisihalt       ...          60.0          0.0  33.333333     10.000000   \n",
       "Fflopse          ...           7.5          0.0  26.666667     46.666667   \n",
       "Muniix           ...           5.0          0.0   0.000000     46.666667   \n",
       "...              ...           ...          ...        ...           ...   \n",
       "Tomiokey         ...           0.0          0.0   0.000000      0.000000   \n",
       "SecretAgent_K    ...           0.0          0.0   0.000000      0.000000   \n",
       "StaudammAusHolz  ...           0.0          0.0   0.000000      0.000000   \n",
       "PumiTheCat       ...           0.0          0.0   0.000000      0.000000   \n",
       "SmartyxD         ...           0.0          0.0   0.000000      0.000000   \n",
       "\n",
       "                 Ampelrennen  Hoch hinaus  Frostiger Pfad  Runterpurzeln  \\\n",
       "Allooy                   0.0         80.0             0.0           60.0   \n",
       "cediiiiii_10            15.0         30.0             0.0           80.0   \n",
       "chrisihalt              80.0         40.0             0.0            0.0   \n",
       "Fflopse                 35.0         50.0             0.0            0.0   \n",
       "Muniix                   0.0          0.0             0.0          100.0   \n",
       "...                      ...          ...             ...            ...   \n",
       "Tomiokey                 0.0          0.0             0.0            0.0   \n",
       "SecretAgent_K            0.0          0.0             0.0            0.0   \n",
       "StaudammAusHolz          0.0          0.0             0.0            0.0   \n",
       "PumiTheCat               0.0          0.0             0.0            0.0   \n",
       "SmartyxD                 0.0          0.0             0.0            0.0   \n",
       "\n",
       "                 Blockhüpfer        Total  \n",
       "Allooy                  80.0  1215.789108  \n",
       "cediiiiii_10             0.0  1063.244285  \n",
       "chrisihalt              90.0   879.178593  \n",
       "Fflopse                 70.0   785.959054  \n",
       "Muniix                   0.0   746.920890  \n",
       "...                      ...          ...  \n",
       "Tomiokey                 0.0     0.000000  \n",
       "SecretAgent_K            0.0     0.000000  \n",
       "StaudammAusHolz          0.0     0.000000  \n",
       "PumiTheCat               0.0     0.000000  \n",
       "SmartyxD                 0.0     0.000000  \n",
       "\n",
       "[246 rows x 32 columns]"
      ]
     },
     "execution_count": 13,
     "metadata": {},
     "output_type": "execute_result"
    }
   ],
   "source": [
    "outDf"
   ]
  },
  {
   "cell_type": "code",
   "execution_count": 14,
   "metadata": {},
   "outputs": [
    {
     "data": {
      "application/vnd.plotly.v1+json": {
       "config": {
        "plotlyServerURL": "https://plot.ly"
       },
       "data": [
        {
         "marker": {
          "color": "rgb(136, 204, 238)"
         },
         "name": "Ampelrennen",
         "type": "bar",
         "x": [
          "Allooy",
          "cediiiiii_10",
          "chrisihalt",
          "Fflopse",
          "Muniix",
          "_n3d",
          "qriezmannsOpa",
          "Ex4cted",
          "NewNormal0947",
          "ReichesBrot",
          "Gobo9",
          "HerrDante",
          "Umgfoin",
          "PedroZockt",
          "Joe3346",
          "rotmann2",
          "Ungluecklicher",
          "Luxemburq",
          "yVendas",
          "FrozenNoah"
         ],
         "y": {
          "bdata": "AAAAAAAAAAAAAAAAAAAuQAAAAAAAAFRAAAAAAACAQUAAAAAAAAAAAAAAAAAAACRAAAAAAAAAAAAAAAAAAIBRQAAAAAAAAC5AAAAAAAAAAAAAAAAAAABJQAAAAAAAAAAAAAAAAAAASUAAAAAAAIBLQAAAAAAAAAAAAAAAAAAAAAAAAAAAAAAAAAAAAAAAAAAAAAAAAAAAAAAAAAAAAAAAAA==",
          "dtype": "f8"
         }
        },
        {
         "marker": {
          "color": "rgb(204, 102, 119)"
         },
         "name": "Blockhüpfer",
         "type": "bar",
         "x": [
          "Allooy",
          "cediiiiii_10",
          "chrisihalt",
          "Fflopse",
          "Muniix",
          "_n3d",
          "qriezmannsOpa",
          "Ex4cted",
          "NewNormal0947",
          "ReichesBrot",
          "Gobo9",
          "HerrDante",
          "Umgfoin",
          "PedroZockt",
          "Joe3346",
          "rotmann2",
          "Ungluecklicher",
          "Luxemburq",
          "yVendas",
          "FrozenNoah"
         ],
         "y": {
          "bdata": "AAAAAAAAVEAAAAAAAAAAAAAAAAAAgFZAAAAAAACAUUAAAAAAAAAAAAAAAAAAAERAAAAAAAAAAAAAAAAAAABOQAAAAAAAAD5AAAAAAAAAWUAAAAAAAAAAAAAAAAAAAAAAAAAAAAAAAAAAAAAAAAAAAAAAAAAAAAAAAAAAAAAAAAAAAAAAAABJQAAAAAAAAAAAAAAAAAAAAAAAAAAAAAAAAA==",
          "dtype": "f8"
         }
        },
        {
         "marker": {
          "color": "rgb(221, 204, 119)"
         },
         "name": "Buntes Chaos",
         "type": "bar",
         "x": [
          "Allooy",
          "cediiiiii_10",
          "chrisihalt",
          "Fflopse",
          "Muniix",
          "_n3d",
          "qriezmannsOpa",
          "Ex4cted",
          "NewNormal0947",
          "ReichesBrot",
          "Gobo9",
          "HerrDante",
          "Umgfoin",
          "PedroZockt",
          "Joe3346",
          "rotmann2",
          "Ungluecklicher",
          "Luxemburq",
          "yVendas",
          "FrozenNoah"
         ],
         "y": {
          "bdata": "AAAAAAAAWUAAAAAAAABZQAAAAAAAAElAAAAAAAAAWUAAAAAAAABZQAAAAAAAAFlAAAAAAAAASUAAAAAAAABZQAAAAAAAAElAAAAAAAAAWUAAAAAAAABJQAAAAAAAAFlAAAAAAAAAWUAAAAAAAABZQAAAAAAAAAAAAAAAAAAASUAAAAAAAAAAAAAAAAAAAElAAAAAAAAAAAAAAAAAAAAAAA==",
          "dtype": "f8"
         }
        },
        {
         "marker": {
          "color": "rgb(17, 119, 51)"
         },
         "name": "Drachenflucht",
         "type": "bar",
         "x": [
          "Allooy",
          "cediiiiii_10",
          "chrisihalt",
          "Fflopse",
          "Muniix",
          "_n3d",
          "qriezmannsOpa",
          "Ex4cted",
          "NewNormal0947",
          "ReichesBrot",
          "Gobo9",
          "HerrDante",
          "Umgfoin",
          "PedroZockt",
          "Joe3346",
          "rotmann2",
          "Ungluecklicher",
          "Luxemburq",
          "yVendas",
          "FrozenNoah"
         ],
         "y": {
          "bdata": "AAAAAABARUAAAAAAAEBKQAAAAAAAAAAAAAAAAAAAAAAAAAAAAAA5QAAAAAAAADlAAAAAAACAMUAAAAAAAAAAAAAAAAAAwEdAAAAAAAAAAAAAAAAAAAAAAAAAAAAAAAAAAAAAAACANkAAAAAAAAAAAAAAAAAAAClAAAAAAAAAAAAAAAAAAAAAAAAAAAAAQEBAAAAAAAAAAAAAAAAAAAAAAA==",
          "dtype": "f8"
         }
        },
        {
         "marker": {
          "color": "rgb(51, 34, 136)"
         },
         "name": "Duelle",
         "type": "bar",
         "x": [
          "Allooy",
          "cediiiiii_10",
          "chrisihalt",
          "Fflopse",
          "Muniix",
          "_n3d",
          "qriezmannsOpa",
          "Ex4cted",
          "NewNormal0947",
          "ReichesBrot",
          "Gobo9",
          "HerrDante",
          "Umgfoin",
          "PedroZockt",
          "Joe3346",
          "rotmann2",
          "Ungluecklicher",
          "Luxemburq",
          "yVendas",
          "FrozenNoah"
         ],
         "y": {
          "bdata": "AAAAAAAAAAAAAAAAAABOQAAAAAAAAE5AAAAAAAAAAAAAAAAAAAAAAAAAAAAAAAAAAAAAAAAAAAAAAAAAAAAAAAAAAAAAAAAAAAAAAAAAAAAAAAAAAAAAAAAAAAAAAAAAAAAAAAAAAAAAAAAAAAAAAAAAAAAAAAAAAAAAAAAAAAAAAAAAAAAAAAAAAAAAAAAAAAAAAAAAAAAAAAAAAAAAAA==",
          "dtype": "f8"
         }
        },
        {
         "marker": {
          "color": "rgb(170, 68, 153)"
         },
         "name": "Einer im Köcher",
         "type": "bar",
         "x": [
          "Allooy",
          "cediiiiii_10",
          "chrisihalt",
          "Fflopse",
          "Muniix",
          "_n3d",
          "qriezmannsOpa",
          "Ex4cted",
          "NewNormal0947",
          "ReichesBrot",
          "Gobo9",
          "HerrDante",
          "Umgfoin",
          "PedroZockt",
          "Joe3346",
          "rotmann2",
          "Ungluecklicher",
          "Luxemburq",
          "yVendas",
          "FrozenNoah"
         ],
         "y": {
          "bdata": "VVVVVVXVVEAAAAAAAAAkQAAAAAAAAAAAAAAAAAAAVEAAAAAAAAAAAAAAAAAAAAAAAAAAAAAAAACrqqqqqqo6QKuqqqqqqkBAAAAAAAAAAAAAAAAAAAAAAKuqqqqqqlBAAAAAAAAAAAAAAAAAAAAAAAAAAAAAAAAAAAAAAAAAAAAAAAAAAAA0QAAAAAAAAAAAAAAAAAAAAABVVVVVVVVSQA==",
          "dtype": "f8"
         }
        },
        {
         "marker": {
          "color": "rgb(68, 170, 153)"
         },
         "name": "Elytrarennen",
         "type": "bar",
         "x": [
          "Allooy",
          "cediiiiii_10",
          "chrisihalt",
          "Fflopse",
          "Muniix",
          "_n3d",
          "qriezmannsOpa",
          "Ex4cted",
          "NewNormal0947",
          "ReichesBrot",
          "Gobo9",
          "HerrDante",
          "Umgfoin",
          "PedroZockt",
          "Joe3346",
          "rotmann2",
          "Ungluecklicher",
          "Luxemburq",
          "yVendas",
          "FrozenNoah"
         ],
         "y": {
          "bdata": "AAAAAADgVUAAAAAAAMBHQAAAAAAAAE5AAAAAAAAAHkAAAAAAAAAUQAAAAAAAAERAAAAAAABAQEAAAAAAAAAAAAAAAAAAAAAAAAAAAAAANEAAAAAAAAAAAAAAAAAAAAAAAAAAAAAAAAAAAAAAAAAAAAAAAAAAIFJAAAAAAAAAHkAAAAAAAAAAAAAAAAAAAAAAAAAAAAAAREAAAAAAAAAAAA==",
          "dtype": "f8"
         }
        },
        {
         "marker": {
          "color": "rgb(153, 153, 51)"
         },
         "name": "Freier Fall",
         "type": "bar",
         "x": [
          "Allooy",
          "cediiiiii_10",
          "chrisihalt",
          "Fflopse",
          "Muniix",
          "_n3d",
          "qriezmannsOpa",
          "Ex4cted",
          "NewNormal0947",
          "ReichesBrot",
          "Gobo9",
          "HerrDante",
          "Umgfoin",
          "PedroZockt",
          "Joe3346",
          "rotmann2",
          "Ungluecklicher",
          "Luxemburq",
          "yVendas",
          "FrozenNoah"
         ],
         "y": {
          "bdata": "AAAAAAAAAAAAAAAAAAAAAAAAAAAAAAAAAAAAAAAAAAAAAAAAAAAAAAAAAAAAAAAAAAAAAAAAAAAAAAAAAAAAAAAAAAAAAAAAAAAAAAAAAAAAAAAAAAAAAAAAAAAAAAAAAAAAAAAAAAAAAAAAAAAAAAAAAAAAAAAAAAAAAAAAAAAAAAAAAAAAAAAAAAAAAAAAAAAAAAAAAAAAAAAAAAAAAA==",
          "dtype": "f8"
         }
        },
        {
         "marker": {
          "color": "rgb(136, 34, 85)"
         },
         "name": "Frostiger Pfad",
         "type": "bar",
         "x": [
          "Allooy",
          "cediiiiii_10",
          "chrisihalt",
          "Fflopse",
          "Muniix",
          "_n3d",
          "qriezmannsOpa",
          "Ex4cted",
          "NewNormal0947",
          "ReichesBrot",
          "Gobo9",
          "HerrDante",
          "Umgfoin",
          "PedroZockt",
          "Joe3346",
          "rotmann2",
          "Ungluecklicher",
          "Luxemburq",
          "yVendas",
          "FrozenNoah"
         ],
         "y": {
          "bdata": "AAAAAAAAAAAAAAAAAAAAAAAAAAAAAAAAAAAAAAAAAAAAAAAAAAAAAAAAAAAAAAAAAAAAAAAAAAAAAAAAAAAAAAAAAAAAAAAAAAAAAAAAAAAAAAAAAAAAAAAAAAAAAAAAAAAAAAAAAAAAAAAAAAAAAAAAAAAAAAAAAAAAAAAAAAAAAAAAAAAAAAAAAAAAAAAAAAAAAAAAAAAAAAAAAAAAAA==",
          "dtype": "f8"
         }
        },
        {
         "marker": {
          "color": "rgb(102, 17, 0)"
         },
         "name": "Hoch hinaus",
         "type": "bar",
         "x": [
          "Allooy",
          "cediiiiii_10",
          "chrisihalt",
          "Fflopse",
          "Muniix",
          "_n3d",
          "qriezmannsOpa",
          "Ex4cted",
          "NewNormal0947",
          "ReichesBrot",
          "Gobo9",
          "HerrDante",
          "Umgfoin",
          "PedroZockt",
          "Joe3346",
          "rotmann2",
          "Ungluecklicher",
          "Luxemburq",
          "yVendas",
          "FrozenNoah"
         ],
         "y": {
          "bdata": "AAAAAAAAVEAAAAAAAAA+QAAAAAAAAERAAAAAAAAASUAAAAAAAAAAAAAAAAAAAAAAAAAAAAAAAAAAAAAAAIBWQAAAAAAAAAAAAAAAAAAAAAAAAAAAAAAAAAAAAAAAAAAAAAAAAAAANEAAAAAAAABOQAAAAAAAAAAAAAAAAAAAAAAAAAAAAAAAAAAAAAAAAAAAAAAAAAAAAAAAAAAAAAAAAA==",
          "dtype": "f8"
         }
        },
        {
         "marker": {
          "color": "rgb(136, 136, 136)"
         },
         "name": "Kletterkönig",
         "type": "bar",
         "x": [
          "Allooy",
          "cediiiiii_10",
          "chrisihalt",
          "Fflopse",
          "Muniix",
          "_n3d",
          "qriezmannsOpa",
          "Ex4cted",
          "NewNormal0947",
          "ReichesBrot",
          "Gobo9",
          "HerrDante",
          "Umgfoin",
          "PedroZockt",
          "Joe3346",
          "rotmann2",
          "Ungluecklicher",
          "Luxemburq",
          "yVendas",
          "FrozenNoah"
         ],
         "y": {
          "bdata": "VVVVVVVVN0BVVVVVVVU3QAAAAAAAACRAVVVVVVVVR0BVVVVVVVVHQAAAAAAAADRAVVVVVVVVTEAAAAAAAAAAAKuqqqqqqipAq6qqqqqqUECrqqqqqqoaQAAAAAAAACRAAAAAAAAAAAAAAAAAAAAAAAAAAAAAAD5AAAAAAAAANEAAAAAAAAAAAAAAAAAAAAAAAAAAAAAAAAAAAAAAAAAAAA==",
          "dtype": "f8"
         }
        },
        {
         "marker": {
          "color": "rgb(136, 204, 238)"
         },
         "name": "Lasertag",
         "type": "bar",
         "x": [
          "Allooy",
          "cediiiiii_10",
          "chrisihalt",
          "Fflopse",
          "Muniix",
          "_n3d",
          "qriezmannsOpa",
          "Ex4cted",
          "NewNormal0947",
          "ReichesBrot",
          "Gobo9",
          "HerrDante",
          "Umgfoin",
          "PedroZockt",
          "Joe3346",
          "rotmann2",
          "Ungluecklicher",
          "Luxemburq",
          "yVendas",
          "FrozenNoah"
         ],
         "y": {
          "bdata": "AAAAAAAAAAAAAAAAAAAuQAAAAAAAAAAAAAAAAAAATkAAAAAAAAA5QAAAAAAAAC5AAAAAAAAAOUAAAAAAAIA2QAAAAAAAAAAAAAAAAAAAHkAAAAAAAAAkQAAAAAAAAE5AAAAAAAAAOUAAAAAAAIAxQAAAAAAAAAAAAAAAAAAAAAAAAAAAAAAAAAAAAAAAAC5AAAAAAAAAAAAAAAAAAAAAAA==",
          "dtype": "f8"
         }
        },
        {
         "marker": {
          "color": "rgb(204, 102, 119)"
         },
         "name": "Mauerfall",
         "type": "bar",
         "x": [
          "Allooy",
          "cediiiiii_10",
          "chrisihalt",
          "Fflopse",
          "Muniix",
          "_n3d",
          "qriezmannsOpa",
          "Ex4cted",
          "NewNormal0947",
          "ReichesBrot",
          "Gobo9",
          "HerrDante",
          "Umgfoin",
          "PedroZockt",
          "Joe3346",
          "rotmann2",
          "Ungluecklicher",
          "Luxemburq",
          "yVendas",
          "FrozenNoah"
         ],
         "y": {
          "bdata": "AAAAAAAAPkCrqqqqqqpVQAAAAAAAAAAAq6qqqqqqUEBVVVVVVVVMQKuqqqqqqkBAAAAAAAAAAAAAAAAAAAAAAAAAAAAAAERAAAAAAAAAAAAAAAAAAAA+QKuqqqqqqkBAq6qqqqqqKkBVVVVVVVVHQKuqqqqqqipAAAAAAAAAAAAAAAAAAAAAAKuqqqqqqkBAAAAAAAAAAAAAAAAAAAAAAA==",
          "dtype": "f8"
         }
        },
        {
         "marker": {
          "color": "rgb(221, 204, 119)"
         },
         "name": "Minenfeld",
         "type": "bar",
         "x": [
          "Allooy",
          "cediiiiii_10",
          "chrisihalt",
          "Fflopse",
          "Muniix",
          "_n3d",
          "qriezmannsOpa",
          "Ex4cted",
          "NewNormal0947",
          "ReichesBrot",
          "Gobo9",
          "HerrDante",
          "Umgfoin",
          "PedroZockt",
          "Joe3346",
          "rotmann2",
          "Ungluecklicher",
          "Luxemburq",
          "yVendas",
          "FrozenNoah"
         ],
         "y": {
          "bdata": "AAAAAAAAJEAAAAAAAAAkQKuqqqqqqkBAq6qqqqqqOkAAAAAAAAAAAAAAAAAAAElAVVVVVVVVR0AAAAAAAAAAAAAAAAAAAAAAq6qqqqqqMEAAAAAAAAAAAAAAAAAAAD5AAAAAAAAAAAAAAAAAAAAAAFVVVVVVVTdAAAAAAAAAAAAAAAAAAAAAAAAAAAAAAAAAAAAAAAAAAACrqqqqqqowQA==",
          "dtype": "f8"
         }
        },
        {
         "marker": {
          "color": "rgb(17, 119, 51)"
         },
         "name": "Minengefecht",
         "type": "bar",
         "x": [
          "Allooy",
          "cediiiiii_10",
          "chrisihalt",
          "Fflopse",
          "Muniix",
          "_n3d",
          "qriezmannsOpa",
          "Ex4cted",
          "NewNormal0947",
          "ReichesBrot",
          "Gobo9",
          "HerrDante",
          "Umgfoin",
          "PedroZockt",
          "Joe3346",
          "rotmann2",
          "Ungluecklicher",
          "Luxemburq",
          "yVendas",
          "FrozenNoah"
         ],
         "y": {
          "bdata": "AAAAAACARkAAAAAAAIBRQAAAAAAAgEZAAAAAAAAAFEAAAAAAAAA0QAAAAAAAADlAAAAAAAAANEAAAAAAAAAAAAAAAAAAABRAAAAAAAAAFEAAAAAAAABEQAAAAAAAgDFAAAAAAAAAAAAAAAAAAAAAAAAAAAAAAAAAAAAAAAAANEAAAAAAAAAAAAAAAAAAAAAAAAAAAAAAAAAAAAAAAMBHQA==",
          "dtype": "f8"
         }
        },
        {
         "marker": {
          "color": "rgb(51, 34, 136)"
         },
         "name": "Paintball",
         "type": "bar",
         "x": [
          "Allooy",
          "cediiiiii_10",
          "chrisihalt",
          "Fflopse",
          "Muniix",
          "_n3d",
          "qriezmannsOpa",
          "Ex4cted",
          "NewNormal0947",
          "ReichesBrot",
          "Gobo9",
          "HerrDante",
          "Umgfoin",
          "PedroZockt",
          "Joe3346",
          "rotmann2",
          "Ungluecklicher",
          "Luxemburq",
          "yVendas",
          "FrozenNoah"
         ],
         "y": {
          "bdata": "AAAAAAAAAAAAAAAAAAAAAAAAAAAAAAAAAAAAAAAAAAAAAAAAAAAAAAAAAAAAAAAAAAAAAAAAAAAAAAAAAAAAAAAAAAAAAAAAAAAAAAAAAAAAAAAAAAAAAAAAAAAAAAAAAAAAAAAAAAAAAAAAAAAAAAAAAAAAAAAAAAAAAAAAAAAAAAAAAAAAAAAAAAAAAAAAAAAAAAAAAAAAAAAAAAAAAA==",
          "dtype": "f8"
         }
        },
        {
         "marker": {
          "color": "rgb(170, 68, 153)"
         },
         "name": "Parkour",
         "type": "bar",
         "x": [
          "Allooy",
          "cediiiiii_10",
          "chrisihalt",
          "Fflopse",
          "Muniix",
          "_n3d",
          "qriezmannsOpa",
          "Ex4cted",
          "NewNormal0947",
          "ReichesBrot",
          "Gobo9",
          "HerrDante",
          "Umgfoin",
          "PedroZockt",
          "Joe3346",
          "rotmann2",
          "Ungluecklicher",
          "Luxemburq",
          "yVendas",
          "FrozenNoah"
         ],
         "y": {
          "bdata": "AAAAAAAAVEAAAAAAAEBAQAAAAAAAwEJAAAAAAACANkAAAAAAAAA5QAAAAAAAAC5AAAAAAACARkAAAAAAAAAAAAAAAAAAAAAAAAAAAABAUEAAAAAAAEBPQAAAAAAAAAAAAAAAAAAAAAAAAAAAAAApQAAAAAAAACRAAAAAAAAAAAAAAAAAAAAAAAAAAAAAAAAAAAAAAAAAOUAAAAAAAAAAAA==",
          "dtype": "f8"
         }
        },
        {
         "marker": {
          "color": "rgb(68, 170, 153)"
         },
         "name": "Pferderennen",
         "type": "bar",
         "x": [
          "Allooy",
          "cediiiiii_10",
          "chrisihalt",
          "Fflopse",
          "Muniix",
          "_n3d",
          "qriezmannsOpa",
          "Ex4cted",
          "NewNormal0947",
          "ReichesBrot",
          "Gobo9",
          "HerrDante",
          "Umgfoin",
          "PedroZockt",
          "Joe3346",
          "rotmann2",
          "Ungluecklicher",
          "Luxemburq",
          "yVendas",
          "FrozenNoah"
         ],
         "y": {
          "bdata": "AAAAAAAALkBVVVVVVdVOQKuqqqqqKkNAq6qqqqqqOkAAAAAAAAAAAAAAAAAAgEFAq6qqqqqqRUAAAAAAAAAAAKuqqqqqqhpAq6qqqqqqNUAAAAAAAAA0QKuqqqqqqiBAq6qqqqqqCkCrqqqqqqogQFVVVVVVVTdAq6qqqqoqQ0AAAAAAAAAAAAAAAAAAAAAAq6qqqqqqOkAAAAAAAAAAAA==",
          "dtype": "f8"
         }
        },
        {
         "marker": {
          "color": "rgb(153, 153, 51)"
         },
         "name": "Reihenfolge",
         "type": "bar",
         "x": [
          "Allooy",
          "cediiiiii_10",
          "chrisihalt",
          "Fflopse",
          "Muniix",
          "_n3d",
          "qriezmannsOpa",
          "Ex4cted",
          "NewNormal0947",
          "ReichesBrot",
          "Gobo9",
          "HerrDante",
          "Umgfoin",
          "PedroZockt",
          "Joe3346",
          "rotmann2",
          "Ungluecklicher",
          "Luxemburq",
          "yVendas",
          "FrozenNoah"
         ],
         "y": {
          "bdata": "AAAAAAAAAAAAAAAAAAAAAAAAAAAAAAAAAAAAAAAAAAAAAAAAAAAAAAAAAAAAAAAAAAAAAAAAAAAAAAAAAAAAAAAAAAAAAAAAAAAAAAAAAAAAAAAAAAAAAAAAAAAAAAAAAAAAAAAAAAAAAAAAAAAAAAAAAAAAAAAAAAAAAAAAAAAAAAAAAAAAAAAAAAAAAAAAAAAAAAAAAAAAAAAAAAAAAA==",
          "dtype": "f8"
         }
        },
        {
         "marker": {
          "color": "rgb(136, 34, 85)"
         },
         "name": "Replika",
         "type": "bar",
         "x": [
          "Allooy",
          "cediiiiii_10",
          "chrisihalt",
          "Fflopse",
          "Muniix",
          "_n3d",
          "qriezmannsOpa",
          "Ex4cted",
          "NewNormal0947",
          "ReichesBrot",
          "Gobo9",
          "HerrDante",
          "Umgfoin",
          "PedroZockt",
          "Joe3346",
          "rotmann2",
          "Ungluecklicher",
          "Luxemburq",
          "yVendas",
          "FrozenNoah"
         ],
         "y": {
          "bdata": "mZIpmZIpV0CtzdqszdpOQHD5lm/5lidAP/dzP/dzL0AP9VAP9VA9QHD5lm/5llJAx3Ecx3EcH0DzLd/yLd9DQLqf+7mf+xlAup/7uZ/7CUCO4ziO4zhLQG3WZm3WZg1AFl7hFV7hxT+zNmuzNmsnQAAAAAAAAAAA2Ymd2Imd6D+btVmbtVnbPw3SIA3SIERAB2mQBmmQBkAAAAAAAAAAAA==",
          "dtype": "f8"
         }
        },
        {
         "marker": {
          "color": "rgb(102, 17, 0)"
         },
         "name": "Runterpurzeln",
         "type": "bar",
         "x": [
          "Allooy",
          "cediiiiii_10",
          "chrisihalt",
          "Fflopse",
          "Muniix",
          "_n3d",
          "qriezmannsOpa",
          "Ex4cted",
          "NewNormal0947",
          "ReichesBrot",
          "Gobo9",
          "HerrDante",
          "Umgfoin",
          "PedroZockt",
          "Joe3346",
          "rotmann2",
          "Ungluecklicher",
          "Luxemburq",
          "yVendas",
          "FrozenNoah"
         ],
         "y": {
          "bdata": "AAAAAAAATkAAAAAAAABUQAAAAAAAAAAAAAAAAAAAAAAAAAAAAABZQAAAAAAAAD5AAAAAAACAUUAAAAAAAABEQAAAAAAAAElAAAAAAAAAAAAAAAAAAAAAAAAAAAAAAAAAAAAAAAAAAAAAAAAAAAAAAAAAAAAAAAAAAAAAAAAAAAAAAAAAAAAAAAAAAAAAAAAAAAAAAAAAAAAAAAAAAAAAAA==",
          "dtype": "f8"
         }
        },
        {
         "marker": {
          "color": "rgb(136, 136, 136)"
         },
         "name": "Sammelwahn",
         "type": "bar",
         "x": [
          "Allooy",
          "cediiiiii_10",
          "chrisihalt",
          "Fflopse",
          "Muniix",
          "_n3d",
          "qriezmannsOpa",
          "Ex4cted",
          "NewNormal0947",
          "ReichesBrot",
          "Gobo9",
          "HerrDante",
          "Umgfoin",
          "PedroZockt",
          "Joe3346",
          "rotmann2",
          "Ungluecklicher",
          "Luxemburq",
          "yVendas",
          "FrozenNoah"
         ],
         "y": {
          "bdata": "iTvijrgjMkBxR9wRd8RDQOKOuCPuiBNAHnFH3BF3JEBNWVPWlDUhQOKOuCPuiDNAR9wRd8QdGUBrypqypqwxQDzijrgj7jRAMOgL+oK+AECPuCPuiDsuQBJ3xB1xRyBAxB1xR9wRI0CnrClrypoSQNAX9AV9QRdAa8qasqasEUCnrClrypryP8QdcUfcESNAa8qasqasEUCnrClrypoCQA==",
          "dtype": "f8"
         }
        },
        {
         "marker": {
          "color": "rgb(136, 204, 238)"
         },
         "name": "Schießstand",
         "type": "bar",
         "x": [
          "Allooy",
          "cediiiiii_10",
          "chrisihalt",
          "Fflopse",
          "Muniix",
          "_n3d",
          "qriezmannsOpa",
          "Ex4cted",
          "NewNormal0947",
          "ReichesBrot",
          "Gobo9",
          "HerrDante",
          "Umgfoin",
          "PedroZockt",
          "Joe3346",
          "rotmann2",
          "Ungluecklicher",
          "Luxemburq",
          "yVendas",
          "FrozenNoah"
         ],
         "y": {
          "bdata": "AAAAAAAAJEAAAAAAAABOQAAAAAAAACRAAAAAAAAATkAAAAAAAAA0QAAAAAAAABRAAAAAAADAQkAAAAAAAEBPQAAAAAAAABRAAAAAAAAAAAAAAAAAAIAxQAAAAAAAADlAAAAAAAAAAAAAAAAAAAAAAAAAAAAAAAAAAAAAAAAAREAAAAAAAAAeQAAAAAAAAAAAAAAAAACANkAAAAAAAAAAAA==",
          "dtype": "f8"
         }
        },
        {
         "marker": {
          "color": "rgb(204, 102, 119)"
         },
         "name": "Skywars",
         "type": "bar",
         "x": [
          "Allooy",
          "cediiiiii_10",
          "chrisihalt",
          "Fflopse",
          "Muniix",
          "_n3d",
          "qriezmannsOpa",
          "Ex4cted",
          "NewNormal0947",
          "ReichesBrot",
          "Gobo9",
          "HerrDante",
          "Umgfoin",
          "PedroZockt",
          "Joe3346",
          "rotmann2",
          "Ungluecklicher",
          "Luxemburq",
          "yVendas",
          "FrozenNoah"
         ],
         "y": {
          "bdata": "VVVVVVVVMkBVVVVVVVVSQKuqqqqqqipAq6qqqqqqKkCrqqqqqqo/QFVVVVVVVTdAq6qqqqqqP0CrqqqqqqoKQKuqqqqqqkBAq6qqqqqqMEAAAAAAAIBLQAAAAAAAAAAAAAAAAAAAOUCrqqqqqqoqQAAAAAAAACRAAAAAAAAAAAAAAAAAAAA0QAAAAAAAAAAAAAAAAAAANEAAAAAAAAAkQA==",
          "dtype": "f8"
         }
        },
        {
         "marker": {
          "color": "rgb(221, 204, 119)"
         },
         "name": "Spleef",
         "type": "bar",
         "x": [
          "Allooy",
          "cediiiiii_10",
          "chrisihalt",
          "Fflopse",
          "Muniix",
          "_n3d",
          "qriezmannsOpa",
          "Ex4cted",
          "NewNormal0947",
          "ReichesBrot",
          "Gobo9",
          "HerrDante",
          "Umgfoin",
          "PedroZockt",
          "Joe3346",
          "rotmann2",
          "Ungluecklicher",
          "Luxemburq",
          "yVendas",
          "FrozenNoah"
         ],
         "y": {
          "bdata": "AAAAAAAAWUAAAAAAAIBRQAAAAAAAAAAAAAAAAAAAAAAAAAAAAIBRQAAAAAAAgFZAAAAAAACAVkAAAAAAAAAAAAAAAAAAgFFAAAAAAAAAAAAAAAAAAAAAAAAAAAAAAAAAAAAAAAAAAAAAAAAAAAAAAAAAAAAAgFFAAAAAAACAUUAAAAAAAAAAAAAAAAAAAAAAAAAAAAAAAAAAAAAAAAAAAA==",
          "dtype": "f8"
         }
        },
        {
         "marker": {
          "color": "rgb(17, 119, 51)"
         },
         "name": "Survivalgames",
         "type": "bar",
         "x": [
          "Allooy",
          "cediiiiii_10",
          "chrisihalt",
          "Fflopse",
          "Muniix",
          "_n3d",
          "qriezmannsOpa",
          "Ex4cted",
          "NewNormal0947",
          "ReichesBrot",
          "Gobo9",
          "HerrDante",
          "Umgfoin",
          "PedroZockt",
          "Joe3346",
          "rotmann2",
          "Ungluecklicher",
          "Luxemburq",
          "yVendas",
          "FrozenNoah"
         ],
         "y": {
          "bdata": "AAAAAAAASUAAAAAAAEBAQAAAAAAAgEZAAAAAAAAAAAAAAAAAAIBRQAAAAAAAABRAAAAAAACANkAAAAAAAAAAAAAAAAAAAElAAAAAAACANkAAAAAAAAAeQAAAAAAAABRAAAAAAAAAPkAAAAAAAAAAAAAAAAAAAAAAAAAAAABAQEAAAAAAAEBFQAAAAAAAAAAAAAAAAAAAAAAAAAAAAIA7QA==",
          "dtype": "f8"
         }
        },
        {
         "marker": {
          "color": "rgb(51, 34, 136)"
         },
         "name": "Todeswürfel",
         "type": "bar",
         "x": [
          "Allooy",
          "cediiiiii_10",
          "chrisihalt",
          "Fflopse",
          "Muniix",
          "_n3d",
          "qriezmannsOpa",
          "Ex4cted",
          "NewNormal0947",
          "ReichesBrot",
          "Gobo9",
          "HerrDante",
          "Umgfoin",
          "PedroZockt",
          "Joe3346",
          "rotmann2",
          "Ungluecklicher",
          "Luxemburq",
          "yVendas",
          "FrozenNoah"
         ],
         "y": {
          "bdata": "AAAAAAAAAAAAAAAAAAAAAAAAAAAAAAAAAAAAAAAAAAAAAAAAAAAAAAAAAAAAAAAAAAAAAAAAAAAAAAAAAAAAAAAAAAAAAAAAAAAAAAAAAAAAAAAAAAAAAAAAAAAAAAAAAAAAAAAAAAAAAAAAAAAAAAAAAAAAAAAAAAAAAAAAAAAAAAAAAAAAAAAAAAAAAAAAAAAAAAAAAAAAAAAAAAAAAA==",
          "dtype": "f8"
         }
        },
        {
         "marker": {
          "color": "rgb(170, 68, 153)"
         },
         "name": "Turmroulette",
         "type": "bar",
         "x": [
          "Allooy",
          "cediiiiii_10",
          "chrisihalt",
          "Fflopse",
          "Muniix",
          "_n3d",
          "qriezmannsOpa",
          "Ex4cted",
          "NewNormal0947",
          "ReichesBrot",
          "Gobo9",
          "HerrDante",
          "Umgfoin",
          "PedroZockt",
          "Joe3346",
          "rotmann2",
          "Ungluecklicher",
          "Luxemburq",
          "yVendas",
          "FrozenNoah"
         ],
         "y": {
          "bdata": "AAAAAAAATkAAAAAAAAAAAAAAAAAAgFZAAAAAAAAAAAAAAAAAAIBWQAAAAAAAAAAAAAAAAAAATkAAAAAAAAAAAAAAAAAAAE5AAAAAAAAAAAAAAAAAAABZQAAAAAAAAAAAAAAAAAAATkAAAAAAAAAAAAAAAAAAAAAAAAAAAAAAAAAAAAAAAIBWQAAAAAAAAE5AAAAAAAAATkAAAAAAAABOQA==",
          "dtype": "f8"
         }
        },
        {
         "marker": {
          "color": "rgb(68, 170, 153)"
         },
         "name": "Waffenfolge",
         "type": "bar",
         "x": [
          "Allooy",
          "cediiiiii_10",
          "chrisihalt",
          "Fflopse",
          "Muniix",
          "_n3d",
          "qriezmannsOpa",
          "Ex4cted",
          "NewNormal0947",
          "ReichesBrot",
          "Gobo9",
          "HerrDante",
          "Umgfoin",
          "PedroZockt",
          "Joe3346",
          "rotmann2",
          "Ungluecklicher",
          "Luxemburq",
          "yVendas",
          "FrozenNoah"
         ],
         "y": {
          "bdata": "AAAAAAAAAAAAAAAAAAAAAAAAAAAAAAAAAAAAAAAAAAAAAAAAAAAAAAAAAAAAAAAAAAAAAAAAAAAAAAAAAAAAAAAAAAAAAAAAAAAAAAAAAAAAAAAAAAAAAAAAAAAAAAAAAAAAAAAAAAAAAAAAAAAAAAAAAAAAAAAAAAAAAAAAAAAAAAAAAAAAAAAAAAAAAAAAAAAAAAAAAAAAAAAAAAAAAA==",
          "dtype": "f8"
         }
        },
        {
         "marker": {
          "color": "rgb(153, 153, 51)"
         },
         "name": "Wettrennen",
         "type": "bar",
         "x": [
          "Allooy",
          "cediiiiii_10",
          "chrisihalt",
          "Fflopse",
          "Muniix",
          "_n3d",
          "qriezmannsOpa",
          "Ex4cted",
          "NewNormal0947",
          "ReichesBrot",
          "Gobo9",
          "HerrDante",
          "Umgfoin",
          "PedroZockt",
          "Joe3346",
          "rotmann2",
          "Ungluecklicher",
          "Luxemburq",
          "yVendas",
          "FrozenNoah"
         ],
         "y": {
          "bdata": "AAAAAAAASUAAAAAAAABAQAAAAAAAgFFAAAAAAAAANEAAAAAAAAA4QAAAAAAAAEZAAAAAAAAAQkAAAAAAAAAgQAAAAAAAABhAAAAAAAAAIEAAAAAAAAAsQAAAAAAAABhAAAAAAAAAAAAAAAAAAAAAAAAAAAAAAExAAAAAAAAAAAAAAAAAAAAAAAAAAAAAAAAAAAAAAAAAQ0AAAAAAAAAAAA==",
          "dtype": "f8"
         }
        }
       ],
       "layout": {
        "annotations": [
         {
          "font": {
           "size": 12
          },
          "showarrow": false,
          "text": "Max 100 points per minigame. Records #1 through #10 are considered (#1: 100, #2: 90, ..., #10: 10). If a minigame has multiple maps, the 100 points are distributed equally. fflopse.github.io/MCP-Records/data-analysis/global-ranking.ipynb",
          "x": 0.5,
          "xanchor": "center",
          "xref": "paper",
          "y": -0.235,
          "yref": "paper"
         }
        ],
        "barmode": "stack",
        "legend": {
         "bgcolor": "rgba(255, 255, 255, 0)",
         "bordercolor": "rgba(0, 0, 0, 0)",
         "font": {
          "size": 12
         },
         "traceorder": "normal",
         "x": 1.05,
         "y": 0.5
        },
        "margin": {
         "r": 200
        },
        "template": {
         "data": {
          "bar": [
           {
            "error_x": {
             "color": "#2a3f5f"
            },
            "error_y": {
             "color": "#2a3f5f"
            },
            "marker": {
             "line": {
              "color": "#E5ECF6",
              "width": 0.5
             },
             "pattern": {
              "fillmode": "overlay",
              "size": 10,
              "solidity": 0.2
             }
            },
            "type": "bar"
           }
          ],
          "barpolar": [
           {
            "marker": {
             "line": {
              "color": "#E5ECF6",
              "width": 0.5
             },
             "pattern": {
              "fillmode": "overlay",
              "size": 10,
              "solidity": 0.2
             }
            },
            "type": "barpolar"
           }
          ],
          "carpet": [
           {
            "aaxis": {
             "endlinecolor": "#2a3f5f",
             "gridcolor": "white",
             "linecolor": "white",
             "minorgridcolor": "white",
             "startlinecolor": "#2a3f5f"
            },
            "baxis": {
             "endlinecolor": "#2a3f5f",
             "gridcolor": "white",
             "linecolor": "white",
             "minorgridcolor": "white",
             "startlinecolor": "#2a3f5f"
            },
            "type": "carpet"
           }
          ],
          "choropleth": [
           {
            "colorbar": {
             "outlinewidth": 0,
             "ticks": ""
            },
            "type": "choropleth"
           }
          ],
          "contour": [
           {
            "colorbar": {
             "outlinewidth": 0,
             "ticks": ""
            },
            "colorscale": [
             [
              0,
              "#0d0887"
             ],
             [
              0.1111111111111111,
              "#46039f"
             ],
             [
              0.2222222222222222,
              "#7201a8"
             ],
             [
              0.3333333333333333,
              "#9c179e"
             ],
             [
              0.4444444444444444,
              "#bd3786"
             ],
             [
              0.5555555555555556,
              "#d8576b"
             ],
             [
              0.6666666666666666,
              "#ed7953"
             ],
             [
              0.7777777777777778,
              "#fb9f3a"
             ],
             [
              0.8888888888888888,
              "#fdca26"
             ],
             [
              1,
              "#f0f921"
             ]
            ],
            "type": "contour"
           }
          ],
          "contourcarpet": [
           {
            "colorbar": {
             "outlinewidth": 0,
             "ticks": ""
            },
            "type": "contourcarpet"
           }
          ],
          "heatmap": [
           {
            "colorbar": {
             "outlinewidth": 0,
             "ticks": ""
            },
            "colorscale": [
             [
              0,
              "#0d0887"
             ],
             [
              0.1111111111111111,
              "#46039f"
             ],
             [
              0.2222222222222222,
              "#7201a8"
             ],
             [
              0.3333333333333333,
              "#9c179e"
             ],
             [
              0.4444444444444444,
              "#bd3786"
             ],
             [
              0.5555555555555556,
              "#d8576b"
             ],
             [
              0.6666666666666666,
              "#ed7953"
             ],
             [
              0.7777777777777778,
              "#fb9f3a"
             ],
             [
              0.8888888888888888,
              "#fdca26"
             ],
             [
              1,
              "#f0f921"
             ]
            ],
            "type": "heatmap"
           }
          ],
          "histogram": [
           {
            "marker": {
             "pattern": {
              "fillmode": "overlay",
              "size": 10,
              "solidity": 0.2
             }
            },
            "type": "histogram"
           }
          ],
          "histogram2d": [
           {
            "colorbar": {
             "outlinewidth": 0,
             "ticks": ""
            },
            "colorscale": [
             [
              0,
              "#0d0887"
             ],
             [
              0.1111111111111111,
              "#46039f"
             ],
             [
              0.2222222222222222,
              "#7201a8"
             ],
             [
              0.3333333333333333,
              "#9c179e"
             ],
             [
              0.4444444444444444,
              "#bd3786"
             ],
             [
              0.5555555555555556,
              "#d8576b"
             ],
             [
              0.6666666666666666,
              "#ed7953"
             ],
             [
              0.7777777777777778,
              "#fb9f3a"
             ],
             [
              0.8888888888888888,
              "#fdca26"
             ],
             [
              1,
              "#f0f921"
             ]
            ],
            "type": "histogram2d"
           }
          ],
          "histogram2dcontour": [
           {
            "colorbar": {
             "outlinewidth": 0,
             "ticks": ""
            },
            "colorscale": [
             [
              0,
              "#0d0887"
             ],
             [
              0.1111111111111111,
              "#46039f"
             ],
             [
              0.2222222222222222,
              "#7201a8"
             ],
             [
              0.3333333333333333,
              "#9c179e"
             ],
             [
              0.4444444444444444,
              "#bd3786"
             ],
             [
              0.5555555555555556,
              "#d8576b"
             ],
             [
              0.6666666666666666,
              "#ed7953"
             ],
             [
              0.7777777777777778,
              "#fb9f3a"
             ],
             [
              0.8888888888888888,
              "#fdca26"
             ],
             [
              1,
              "#f0f921"
             ]
            ],
            "type": "histogram2dcontour"
           }
          ],
          "mesh3d": [
           {
            "colorbar": {
             "outlinewidth": 0,
             "ticks": ""
            },
            "type": "mesh3d"
           }
          ],
          "parcoords": [
           {
            "line": {
             "colorbar": {
              "outlinewidth": 0,
              "ticks": ""
             }
            },
            "type": "parcoords"
           }
          ],
          "pie": [
           {
            "automargin": true,
            "type": "pie"
           }
          ],
          "scatter": [
           {
            "fillpattern": {
             "fillmode": "overlay",
             "size": 10,
             "solidity": 0.2
            },
            "type": "scatter"
           }
          ],
          "scatter3d": [
           {
            "line": {
             "colorbar": {
              "outlinewidth": 0,
              "ticks": ""
             }
            },
            "marker": {
             "colorbar": {
              "outlinewidth": 0,
              "ticks": ""
             }
            },
            "type": "scatter3d"
           }
          ],
          "scattercarpet": [
           {
            "marker": {
             "colorbar": {
              "outlinewidth": 0,
              "ticks": ""
             }
            },
            "type": "scattercarpet"
           }
          ],
          "scattergeo": [
           {
            "marker": {
             "colorbar": {
              "outlinewidth": 0,
              "ticks": ""
             }
            },
            "type": "scattergeo"
           }
          ],
          "scattergl": [
           {
            "marker": {
             "colorbar": {
              "outlinewidth": 0,
              "ticks": ""
             }
            },
            "type": "scattergl"
           }
          ],
          "scattermap": [
           {
            "marker": {
             "colorbar": {
              "outlinewidth": 0,
              "ticks": ""
             }
            },
            "type": "scattermap"
           }
          ],
          "scattermapbox": [
           {
            "marker": {
             "colorbar": {
              "outlinewidth": 0,
              "ticks": ""
             }
            },
            "type": "scattermapbox"
           }
          ],
          "scatterpolar": [
           {
            "marker": {
             "colorbar": {
              "outlinewidth": 0,
              "ticks": ""
             }
            },
            "type": "scatterpolar"
           }
          ],
          "scatterpolargl": [
           {
            "marker": {
             "colorbar": {
              "outlinewidth": 0,
              "ticks": ""
             }
            },
            "type": "scatterpolargl"
           }
          ],
          "scatterternary": [
           {
            "marker": {
             "colorbar": {
              "outlinewidth": 0,
              "ticks": ""
             }
            },
            "type": "scatterternary"
           }
          ],
          "surface": [
           {
            "colorbar": {
             "outlinewidth": 0,
             "ticks": ""
            },
            "colorscale": [
             [
              0,
              "#0d0887"
             ],
             [
              0.1111111111111111,
              "#46039f"
             ],
             [
              0.2222222222222222,
              "#7201a8"
             ],
             [
              0.3333333333333333,
              "#9c179e"
             ],
             [
              0.4444444444444444,
              "#bd3786"
             ],
             [
              0.5555555555555556,
              "#d8576b"
             ],
             [
              0.6666666666666666,
              "#ed7953"
             ],
             [
              0.7777777777777778,
              "#fb9f3a"
             ],
             [
              0.8888888888888888,
              "#fdca26"
             ],
             [
              1,
              "#f0f921"
             ]
            ],
            "type": "surface"
           }
          ],
          "table": [
           {
            "cells": {
             "fill": {
              "color": "#EBF0F8"
             },
             "line": {
              "color": "white"
             }
            },
            "header": {
             "fill": {
              "color": "#C8D4E3"
             },
             "line": {
              "color": "white"
             }
            },
            "type": "table"
           }
          ]
         },
         "layout": {
          "annotationdefaults": {
           "arrowcolor": "#2a3f5f",
           "arrowhead": 0,
           "arrowwidth": 1
          },
          "autotypenumbers": "strict",
          "coloraxis": {
           "colorbar": {
            "outlinewidth": 0,
            "ticks": ""
           }
          },
          "colorscale": {
           "diverging": [
            [
             0,
             "#8e0152"
            ],
            [
             0.1,
             "#c51b7d"
            ],
            [
             0.2,
             "#de77ae"
            ],
            [
             0.3,
             "#f1b6da"
            ],
            [
             0.4,
             "#fde0ef"
            ],
            [
             0.5,
             "#f7f7f7"
            ],
            [
             0.6,
             "#e6f5d0"
            ],
            [
             0.7,
             "#b8e186"
            ],
            [
             0.8,
             "#7fbc41"
            ],
            [
             0.9,
             "#4d9221"
            ],
            [
             1,
             "#276419"
            ]
           ],
           "sequential": [
            [
             0,
             "#0d0887"
            ],
            [
             0.1111111111111111,
             "#46039f"
            ],
            [
             0.2222222222222222,
             "#7201a8"
            ],
            [
             0.3333333333333333,
             "#9c179e"
            ],
            [
             0.4444444444444444,
             "#bd3786"
            ],
            [
             0.5555555555555556,
             "#d8576b"
            ],
            [
             0.6666666666666666,
             "#ed7953"
            ],
            [
             0.7777777777777778,
             "#fb9f3a"
            ],
            [
             0.8888888888888888,
             "#fdca26"
            ],
            [
             1,
             "#f0f921"
            ]
           ],
           "sequentialminus": [
            [
             0,
             "#0d0887"
            ],
            [
             0.1111111111111111,
             "#46039f"
            ],
            [
             0.2222222222222222,
             "#7201a8"
            ],
            [
             0.3333333333333333,
             "#9c179e"
            ],
            [
             0.4444444444444444,
             "#bd3786"
            ],
            [
             0.5555555555555556,
             "#d8576b"
            ],
            [
             0.6666666666666666,
             "#ed7953"
            ],
            [
             0.7777777777777778,
             "#fb9f3a"
            ],
            [
             0.8888888888888888,
             "#fdca26"
            ],
            [
             1,
             "#f0f921"
            ]
           ]
          },
          "colorway": [
           "#636efa",
           "#EF553B",
           "#00cc96",
           "#ab63fa",
           "#FFA15A",
           "#19d3f3",
           "#FF6692",
           "#B6E880",
           "#FF97FF",
           "#FECB52"
          ],
          "font": {
           "color": "#2a3f5f"
          },
          "geo": {
           "bgcolor": "white",
           "lakecolor": "white",
           "landcolor": "#E5ECF6",
           "showlakes": true,
           "showland": true,
           "subunitcolor": "white"
          },
          "hoverlabel": {
           "align": "left"
          },
          "hovermode": "closest",
          "mapbox": {
           "style": "light"
          },
          "paper_bgcolor": "white",
          "plot_bgcolor": "#E5ECF6",
          "polar": {
           "angularaxis": {
            "gridcolor": "white",
            "linecolor": "white",
            "ticks": ""
           },
           "bgcolor": "#E5ECF6",
           "radialaxis": {
            "gridcolor": "white",
            "linecolor": "white",
            "ticks": ""
           }
          },
          "scene": {
           "xaxis": {
            "backgroundcolor": "#E5ECF6",
            "gridcolor": "white",
            "gridwidth": 2,
            "linecolor": "white",
            "showbackground": true,
            "ticks": "",
            "zerolinecolor": "white"
           },
           "yaxis": {
            "backgroundcolor": "#E5ECF6",
            "gridcolor": "white",
            "gridwidth": 2,
            "linecolor": "white",
            "showbackground": true,
            "ticks": "",
            "zerolinecolor": "white"
           },
           "zaxis": {
            "backgroundcolor": "#E5ECF6",
            "gridcolor": "white",
            "gridwidth": 2,
            "linecolor": "white",
            "showbackground": true,
            "ticks": "",
            "zerolinecolor": "white"
           }
          },
          "shapedefaults": {
           "line": {
            "color": "#2a3f5f"
           }
          },
          "ternary": {
           "aaxis": {
            "gridcolor": "white",
            "linecolor": "white",
            "ticks": ""
           },
           "baxis": {
            "gridcolor": "white",
            "linecolor": "white",
            "ticks": ""
           },
           "bgcolor": "#E5ECF6",
           "caxis": {
            "gridcolor": "white",
            "linecolor": "white",
            "ticks": ""
           }
          },
          "title": {
           "x": 0.05
          },
          "xaxis": {
           "automargin": true,
           "gridcolor": "white",
           "linecolor": "white",
           "ticks": "",
           "title": {
            "standoff": 15
           },
           "zerolinecolor": "white",
           "zerolinewidth": 2
          },
          "yaxis": {
           "automargin": true,
           "gridcolor": "white",
           "linecolor": "white",
           "ticks": "",
           "title": {
            "standoff": 15
           },
           "zerolinecolor": "white",
           "zerolinewidth": 2
          }
         }
        },
        "title": {
         "text": "Overall Record Comparison - Top 20 Players"
        },
        "xaxis": {
         "title": {
          "text": "Player"
         }
        },
        "yaxis": {
         "title": {
          "text": "Points"
         }
        }
       }
      }
     },
     "metadata": {},
     "output_type": "display_data"
    }
   ],
   "source": [
    "import plotly.graph_objects as go\n",
    "\n",
    "# Sum all columns to get the total score\n",
    "outDf['Total'] = outDf.sum(axis=1)\n",
    "\n",
    "# Sort by total score and fill N/A values with 0\n",
    "outDf = outDf.sort_values(by='Total', ascending=False).fillna(0)\n",
    "\n",
    "# Crop to top 10 players\n",
    "cropDf = outDf.head(20).copy()\n",
    "\n",
    "# Drop the 'Total' column for plotting\n",
    "cropDf = cropDf.drop(columns=['Total'])\n",
    "\n",
    "# Create a color palette\n",
    "color_palette = px.colors.qualitative.Safe\n",
    "\n",
    "# Create the stacked bar plot\n",
    "fig = go.Figure()\n",
    "\n",
    "cropDf = remove_duplicate_columns(cropDf)\n",
    "\n",
    "for column in cropDf.columns.difference(['Player']):\n",
    "    fig.add_trace(go.Bar(\n",
    "        x=cropDf.index,\n",
    "        y=cropDf[column],\n",
    "        name=column,\n",
    "        marker_color=color_palette[len(fig.data) % len(color_palette)]\n",
    "    ))\n",
    "\n",
    "# Update layout\n",
    "fig.update_layout(\n",
    "    barmode='stack',\n",
    "    title='Overall Record Comparison - Top 20 Players',\n",
    "    xaxis=dict(title='Player'),\n",
    "    yaxis=dict(title='Points'),\n",
    "    #height=800,\n",
    "    #width=1000,\n",
    "    legend=dict(\n",
    "        x=1.05,\n",
    "        y=0.5,\n",
    "        traceorder='normal',\n",
    "        font=dict(size=12),\n",
    "        bgcolor='rgba(255, 255, 255, 0)',\n",
    "        bordercolor='rgba(0, 0, 0, 0)'\n",
    "    ),\n",
    "    margin=dict(r=200),  # Adjust right margin to make room for the legend\n",
    "    annotations=[\n",
    "        dict(\n",
    "            x=0.5,\n",
    "            y=-0.235,\n",
    "            xref='paper',\n",
    "            yref='paper',\n",
    "            text='Max 100 points per minigame. Records #1 through #10 are considered (#1: 100, #2: 90, ..., #10: 10). If a minigame has multiple maps, the 100 points are distributed equally. fflopse.github.io/MCP-Records/data-analysis/global-ranking.ipynb',\n",
    "            showarrow=False,\n",
    "            font=dict(size=12),\n",
    "            xanchor='center'\n",
    "        )\n",
    "    ]\n",
    ")\n",
    "\n",
    "fig.show()\n",
    "\n",
    "# save the plot as an html file\n",
    "\n",
    "fig.write_html('out/overall_record_comparison.html')"
   ]
  },
  {
   "cell_type": "code",
   "execution_count": 15,
   "metadata": {},
   "outputs": [
    {
     "data": {
      "application/vnd.plotly.v1+json": {
       "config": {
        "plotlyServerURL": "https://plot.ly"
       },
       "data": [
        {
         "marker": {
          "color": "rgb(136, 204, 238)"
         },
         "name": "Ampelrennen",
         "type": "bar",
         "x": [
          "Allooy",
          "cediiiiii_10",
          "chrisihalt",
          "Fflopse",
          "Muniix",
          "_n3d",
          "qriezmannsOpa",
          "Ex4cted",
          "NewNormal0947",
          "ReichesBrot",
          "Gobo9",
          "HerrDante",
          "Umgfoin",
          "PedroZockt",
          "Joe3346",
          "rotmann2",
          "Ungluecklicher",
          "Luxemburq",
          "yVendas",
          "FrozenNoah",
          "JOW23",
          "JennieKim",
          "Ninivee",
          "DarkCobweb",
          "CML_Justin",
          "Teesily",
          "Freeeedom",
          "Lelouch610",
          "Nor_Malo",
          "2wc",
          "KakaMC",
          "GingerTeddy",
          "Squashgitter333",
          "Grapfen",
          "yzvm",
          "Proofreader",
          "lizsyy",
          "2B9",
          "agowskyy",
          "toxicplace"
         ],
         "y": {
          "bdata": "AAAAAAAAAAAAAAAAAAAuQAAAAAAAAFRAAAAAAACAQUAAAAAAAAAAAAAAAAAAACRAAAAAAAAAAAAAAAAAAIBRQAAAAAAAAC5AAAAAAAAAAAAAAAAAAABJQAAAAAAAAAAAAAAAAAAASUAAAAAAAIBLQAAAAAAAAAAAAAAAAAAAAAAAAAAAAAAAAAAAAAAAAAAAAAAAAAAAAAAAAAAAAAAAAAAAAAAAgEZAAAAAAAAAAAAAAAAAAAAAAAAAAAAAAAAAAAAAAAAAAAAAAAAAAAAAAAAAAAAAAAAAAAAAAAAAAAAAAAAAAAAAAAAAAAAAAAAAAAAAAAAAAAAAAAAAAAAAAAAAAAAAAAAAAAAAAAAAAAAAAAAAAAAAAAAAAAAAAAAAAAAAAAAAAAAAAAAAAAAAAAAAAAAAAAAAAAAAAAAAAAA=",
          "dtype": "f8"
         }
        },
        {
         "marker": {
          "color": "rgb(204, 102, 119)"
         },
         "name": "Blockhüpfer",
         "type": "bar",
         "x": [
          "Allooy",
          "cediiiiii_10",
          "chrisihalt",
          "Fflopse",
          "Muniix",
          "_n3d",
          "qriezmannsOpa",
          "Ex4cted",
          "NewNormal0947",
          "ReichesBrot",
          "Gobo9",
          "HerrDante",
          "Umgfoin",
          "PedroZockt",
          "Joe3346",
          "rotmann2",
          "Ungluecklicher",
          "Luxemburq",
          "yVendas",
          "FrozenNoah",
          "JOW23",
          "JennieKim",
          "Ninivee",
          "DarkCobweb",
          "CML_Justin",
          "Teesily",
          "Freeeedom",
          "Lelouch610",
          "Nor_Malo",
          "2wc",
          "KakaMC",
          "GingerTeddy",
          "Squashgitter333",
          "Grapfen",
          "yzvm",
          "Proofreader",
          "lizsyy",
          "2B9",
          "agowskyy",
          "toxicplace"
         ],
         "y": {
          "bdata": "AAAAAAAAVEAAAAAAAAAAAAAAAAAAgFZAAAAAAACAUUAAAAAAAAAAAAAAAAAAAERAAAAAAAAAAAAAAAAAAABOQAAAAAAAAD5AAAAAAAAAWUAAAAAAAAAAAAAAAAAAAAAAAAAAAAAAAAAAAAAAAAAAAAAAAAAAAAAAAAAAAAAAAAAAAAAAAABJQAAAAAAAAAAAAAAAAAAAAAAAAAAAAAAAAAAAAAAAAAAAAAAAAAAAAAAAAAAAAAAAAAAAAAAAAAAAAAAAAAAANEAAAAAAAAAAAAAAAAAAAAAAAAAAAAAAAAAAAAAAAAAAAAAAAAAAAAAAAAAAAAAAAAAAAAAAAAAAAAAAAAAAAAAAAAAAAAAAAAAAAAAAAAAAAAAAAAAAAAAAAAAAAAAAAAAAAAAAAAAAAAAAAAAAAAAAAAAAAAAAAAA=",
          "dtype": "f8"
         }
        },
        {
         "marker": {
          "color": "rgb(221, 204, 119)"
         },
         "name": "Buntes Chaos",
         "type": "bar",
         "x": [
          "Allooy",
          "cediiiiii_10",
          "chrisihalt",
          "Fflopse",
          "Muniix",
          "_n3d",
          "qriezmannsOpa",
          "Ex4cted",
          "NewNormal0947",
          "ReichesBrot",
          "Gobo9",
          "HerrDante",
          "Umgfoin",
          "PedroZockt",
          "Joe3346",
          "rotmann2",
          "Ungluecklicher",
          "Luxemburq",
          "yVendas",
          "FrozenNoah",
          "JOW23",
          "JennieKim",
          "Ninivee",
          "DarkCobweb",
          "CML_Justin",
          "Teesily",
          "Freeeedom",
          "Lelouch610",
          "Nor_Malo",
          "2wc",
          "KakaMC",
          "GingerTeddy",
          "Squashgitter333",
          "Grapfen",
          "yzvm",
          "Proofreader",
          "lizsyy",
          "2B9",
          "agowskyy",
          "toxicplace"
         ],
         "y": {
          "bdata": "AAAAAAAAWUAAAAAAAABZQAAAAAAAAElAAAAAAAAAWUAAAAAAAABZQAAAAAAAAFlAAAAAAAAASUAAAAAAAABZQAAAAAAAAElAAAAAAAAAWUAAAAAAAABJQAAAAAAAAFlAAAAAAAAAWUAAAAAAAABZQAAAAAAAAAAAAAAAAAAASUAAAAAAAAAAAAAAAAAAAElAAAAAAAAAAAAAAAAAAAAAAAAAAAAAAAAAAAAAAAAASUAAAAAAAABZQAAAAAAAAAAAAAAAAAAASUAAAAAAAABZQAAAAAAAAElAAAAAAAAASUAAAAAAAAAAAAAAAAAAAAAAAAAAAAAAWUAAAAAAAAAAAAAAAAAAAElAAAAAAAAASUAAAAAAAAAAAAAAAAAAAAAAAAAAAAAAWUAAAAAAAAAAAAAAAAAAAAAAAAAAAAAAAAA=",
          "dtype": "f8"
         }
        },
        {
         "marker": {
          "color": "rgb(17, 119, 51)"
         },
         "name": "Drachenflucht",
         "type": "bar",
         "x": [
          "Allooy",
          "cediiiiii_10",
          "chrisihalt",
          "Fflopse",
          "Muniix",
          "_n3d",
          "qriezmannsOpa",
          "Ex4cted",
          "NewNormal0947",
          "ReichesBrot",
          "Gobo9",
          "HerrDante",
          "Umgfoin",
          "PedroZockt",
          "Joe3346",
          "rotmann2",
          "Ungluecklicher",
          "Luxemburq",
          "yVendas",
          "FrozenNoah",
          "JOW23",
          "JennieKim",
          "Ninivee",
          "DarkCobweb",
          "CML_Justin",
          "Teesily",
          "Freeeedom",
          "Lelouch610",
          "Nor_Malo",
          "2wc",
          "KakaMC",
          "GingerTeddy",
          "Squashgitter333",
          "Grapfen",
          "yzvm",
          "Proofreader",
          "lizsyy",
          "2B9",
          "agowskyy",
          "toxicplace"
         ],
         "y": {
          "bdata": "AAAAAABARUAAAAAAAEBKQAAAAAAAAAAAAAAAAAAAAAAAAAAAAAA5QAAAAAAAADlAAAAAAACAMUAAAAAAAAAAAAAAAAAAwEdAAAAAAAAAAAAAAAAAAAAAAAAAAAAAAAAAAAAAAACANkAAAAAAAAAAAAAAAAAAAClAAAAAAAAAAAAAAAAAAAAAAAAAAAAAQEBAAAAAAAAAAAAAAAAAAAAAAAAAAAAAAAAAAAAAAAAAAAAAAAAAAAAeQAAAAAAAAAAAAAAAAAAASUAAAAAAAIBBQAAAAAAAACRAAAAAAAAAAAAAAAAAAAAAAAAAAAAAAAAAAAAAAAAAAAAAAAAAAAAAAAAAAAAAABRAAAAAAAAAFEAAAAAAAAAAAAAAAAAAADlAAAAAAAAAAAAAAAAAAAAAAAAAAAAAAAAAAAAAAAAAAAA=",
          "dtype": "f8"
         }
        },
        {
         "marker": {
          "color": "rgb(51, 34, 136)"
         },
         "name": "Duelle",
         "type": "bar",
         "x": [
          "Allooy",
          "cediiiiii_10",
          "chrisihalt",
          "Fflopse",
          "Muniix",
          "_n3d",
          "qriezmannsOpa",
          "Ex4cted",
          "NewNormal0947",
          "ReichesBrot",
          "Gobo9",
          "HerrDante",
          "Umgfoin",
          "PedroZockt",
          "Joe3346",
          "rotmann2",
          "Ungluecklicher",
          "Luxemburq",
          "yVendas",
          "FrozenNoah",
          "JOW23",
          "JennieKim",
          "Ninivee",
          "DarkCobweb",
          "CML_Justin",
          "Teesily",
          "Freeeedom",
          "Lelouch610",
          "Nor_Malo",
          "2wc",
          "KakaMC",
          "GingerTeddy",
          "Squashgitter333",
          "Grapfen",
          "yzvm",
          "Proofreader",
          "lizsyy",
          "2B9",
          "agowskyy",
          "toxicplace"
         ],
         "y": {
          "bdata": "AAAAAAAAAAAAAAAAAABOQAAAAAAAAE5AAAAAAAAAAAAAAAAAAAAAAAAAAAAAAAAAAAAAAAAAAAAAAAAAAAAAAAAAAAAAAAAAAAAAAAAAAAAAAAAAAAAAAAAAAAAAAAAAAAAAAAAAAAAAAAAAAAAAAAAAAAAAAAAAAAAAAAAAAAAAAAAAAAAAAAAAAAAAAAAAAAAAAAAAAAAAAAAAAAAAAAAAAAAAAAAAAAAAAAAAAAAAAAAAAAAAAAAAAAAAAE5AAAAAAAAAAAAAAAAAAAAAAAAAAAAAAAAAAAAAAAAAAAAAAAAAAAAAAAAAAAAAAE5AAAAAAAAAAAAAAAAAAAAAAAAAAAAAAAAAAAAAAAAAAAAAAAAAAABOQAAAAAAAAAAAAAAAAAAAAAAAAAAAAABUQAAAAAAAAAAAAAAAAAAAWUA=",
          "dtype": "f8"
         }
        },
        {
         "marker": {
          "color": "rgb(170, 68, 153)"
         },
         "name": "Einer im Köcher",
         "type": "bar",
         "x": [
          "Allooy",
          "cediiiiii_10",
          "chrisihalt",
          "Fflopse",
          "Muniix",
          "_n3d",
          "qriezmannsOpa",
          "Ex4cted",
          "NewNormal0947",
          "ReichesBrot",
          "Gobo9",
          "HerrDante",
          "Umgfoin",
          "PedroZockt",
          "Joe3346",
          "rotmann2",
          "Ungluecklicher",
          "Luxemburq",
          "yVendas",
          "FrozenNoah",
          "JOW23",
          "JennieKim",
          "Ninivee",
          "DarkCobweb",
          "CML_Justin",
          "Teesily",
          "Freeeedom",
          "Lelouch610",
          "Nor_Malo",
          "2wc",
          "KakaMC",
          "GingerTeddy",
          "Squashgitter333",
          "Grapfen",
          "yzvm",
          "Proofreader",
          "lizsyy",
          "2B9",
          "agowskyy",
          "toxicplace"
         ],
         "y": {
          "bdata": "VVVVVVXVVEAAAAAAAAAkQAAAAAAAAAAAAAAAAAAAVEAAAAAAAAAAAAAAAAAAAAAAAAAAAAAAAACrqqqqqqo6QKuqqqqqqkBAAAAAAAAAAAAAAAAAAAAAAKuqqqqqqlBAAAAAAAAAAAAAAAAAAAAAAAAAAAAAAAAAAAAAAAAAAAAAAAAAAAA0QAAAAAAAAAAAAAAAAAAAAABVVVVVVVVSQAAAAAAAAAAAAAAAAAAAAAAAAAAAAAAAAAAAAAAAAAAAAAAAAAAAAAAAAAAAAAA0QAAAAAAAAElAAAAAAAAAAAAAAAAAAAAAAAAAAAAAAAAAAAAAAAAAAAAAAAAAAAAAAAAAAAAAAAAAAAAAAAAAAAAAAAAAAAAAAAAAAAAAAAAAAAAAAAAAAAAAAAAAAAAAAAAAAAAAAAAAAAAAAAAAAAA=",
          "dtype": "f8"
         }
        },
        {
         "marker": {
          "color": "rgb(68, 170, 153)"
         },
         "name": "Elytrarennen",
         "type": "bar",
         "x": [
          "Allooy",
          "cediiiiii_10",
          "chrisihalt",
          "Fflopse",
          "Muniix",
          "_n3d",
          "qriezmannsOpa",
          "Ex4cted",
          "NewNormal0947",
          "ReichesBrot",
          "Gobo9",
          "HerrDante",
          "Umgfoin",
          "PedroZockt",
          "Joe3346",
          "rotmann2",
          "Ungluecklicher",
          "Luxemburq",
          "yVendas",
          "FrozenNoah",
          "JOW23",
          "JennieKim",
          "Ninivee",
          "DarkCobweb",
          "CML_Justin",
          "Teesily",
          "Freeeedom",
          "Lelouch610",
          "Nor_Malo",
          "2wc",
          "KakaMC",
          "GingerTeddy",
          "Squashgitter333",
          "Grapfen",
          "yzvm",
          "Proofreader",
          "lizsyy",
          "2B9",
          "agowskyy",
          "toxicplace"
         ],
         "y": {
          "bdata": "AAAAAADgVUAAAAAAAMBHQAAAAAAAAE5AAAAAAAAAHkAAAAAAAAAUQAAAAAAAAERAAAAAAABAQEAAAAAAAAAAAAAAAAAAAAAAAAAAAAAANEAAAAAAAAAAAAAAAAAAAAAAAAAAAAAAAAAAAAAAAAAAAAAAAAAAIFJAAAAAAAAAHkAAAAAAAAAAAAAAAAAAAAAAAAAAAAAAREAAAAAAAAAAAAAAAAAAAAAAAAAAAAAAAAAAAAAAAAAAAAAAAAAAAAAAAAAAAAAALkAAAAAAAAAAAAAAAAAAACRAAAAAAAAAAAAAAAAAAAApQAAAAAAAAAAAAAAAAAAAAAAAAAAAAEBKQAAAAAAAADlAAAAAAAAAAAAAAAAAAAAAAAAAAAAAAAAAAAAAAAAAAAAAAAAAAAAAAAAAAAAAAAAAAAAAAAAAAAA=",
          "dtype": "f8"
         }
        },
        {
         "marker": {
          "color": "rgb(153, 153, 51)"
         },
         "name": "Freier Fall",
         "type": "bar",
         "x": [
          "Allooy",
          "cediiiiii_10",
          "chrisihalt",
          "Fflopse",
          "Muniix",
          "_n3d",
          "qriezmannsOpa",
          "Ex4cted",
          "NewNormal0947",
          "ReichesBrot",
          "Gobo9",
          "HerrDante",
          "Umgfoin",
          "PedroZockt",
          "Joe3346",
          "rotmann2",
          "Ungluecklicher",
          "Luxemburq",
          "yVendas",
          "FrozenNoah",
          "JOW23",
          "JennieKim",
          "Ninivee",
          "DarkCobweb",
          "CML_Justin",
          "Teesily",
          "Freeeedom",
          "Lelouch610",
          "Nor_Malo",
          "2wc",
          "KakaMC",
          "GingerTeddy",
          "Squashgitter333",
          "Grapfen",
          "yzvm",
          "Proofreader",
          "lizsyy",
          "2B9",
          "agowskyy",
          "toxicplace"
         ],
         "y": {
          "bdata": "AAAAAAAAAAAAAAAAAAAAAAAAAAAAAAAAAAAAAAAAAAAAAAAAAAAAAAAAAAAAAAAAAAAAAAAAAAAAAAAAAAAAAAAAAAAAAAAAAAAAAAAAAAAAAAAAAAAAAAAAAAAAAAAAAAAAAAAAAAAAAAAAAAAAAAAAAAAAAAAAAAAAAAAAAAAAAAAAAAAAAAAAAAAAAAAAAAAAAAAAAAAAAAAAAAAAAAAAAAAAAAAAAAAAAAAAAAAAAAAAAAAAAAAAAAAAAAAAAAAAAAAAAAAAAAAAAAAAAAAAAAAAAAAAAAAAAAAAAAAAAAAAAAAAAAAAAAAAAAAAAAAAAAAAAAAAAAAAAAAAAAAAAAAAAAAAAAAAAAAAAAAAAAAAAAAAAAAAAAAAAAAAAAAAAAAAAAAAAAAAAAAAAAAAAAAAAAAAAAAAAAAAAAA=",
          "dtype": "f8"
         }
        },
        {
         "marker": {
          "color": "rgb(136, 34, 85)"
         },
         "name": "Frostiger Pfad",
         "type": "bar",
         "x": [
          "Allooy",
          "cediiiiii_10",
          "chrisihalt",
          "Fflopse",
          "Muniix",
          "_n3d",
          "qriezmannsOpa",
          "Ex4cted",
          "NewNormal0947",
          "ReichesBrot",
          "Gobo9",
          "HerrDante",
          "Umgfoin",
          "PedroZockt",
          "Joe3346",
          "rotmann2",
          "Ungluecklicher",
          "Luxemburq",
          "yVendas",
          "FrozenNoah",
          "JOW23",
          "JennieKim",
          "Ninivee",
          "DarkCobweb",
          "CML_Justin",
          "Teesily",
          "Freeeedom",
          "Lelouch610",
          "Nor_Malo",
          "2wc",
          "KakaMC",
          "GingerTeddy",
          "Squashgitter333",
          "Grapfen",
          "yzvm",
          "Proofreader",
          "lizsyy",
          "2B9",
          "agowskyy",
          "toxicplace"
         ],
         "y": {
          "bdata": "AAAAAAAAAAAAAAAAAAAAAAAAAAAAAAAAAAAAAAAAAAAAAAAAAAAAAAAAAAAAAAAAAAAAAAAAAAAAAAAAAAAAAAAAAAAAAAAAAAAAAAAAAAAAAAAAAAAAAAAAAAAAAAAAAAAAAAAAAAAAAAAAAAAAAAAAAAAAAAAAAAAAAAAAAAAAAAAAAAAAAAAAAAAAAAAAAAAAAAAAAAAAAAAAAAAAAAAAAAAAAAAAAAAAAAAAAAAAAAAAAAAAAAAAAAAAAAAAAAAAAAAAAAAAAAAAAAAAAAAAAAAAAAAAAAAAAAAAAAAAAAAAAAAAAAAAAAAAAAAAAAAAAAAAAAAAAAAAAAAAAAAAAAAAAAAAAAAAAAAAAAAAAAAAAAAAAAAAAAAAAAAAAAAAAAAAAAAAAAAAAAAAAAAAAAAAAAAAAAAAAAAAAAA=",
          "dtype": "f8"
         }
        },
        {
         "marker": {
          "color": "rgb(102, 17, 0)"
         },
         "name": "Hoch hinaus",
         "type": "bar",
         "x": [
          "Allooy",
          "cediiiiii_10",
          "chrisihalt",
          "Fflopse",
          "Muniix",
          "_n3d",
          "qriezmannsOpa",
          "Ex4cted",
          "NewNormal0947",
          "ReichesBrot",
          "Gobo9",
          "HerrDante",
          "Umgfoin",
          "PedroZockt",
          "Joe3346",
          "rotmann2",
          "Ungluecklicher",
          "Luxemburq",
          "yVendas",
          "FrozenNoah",
          "JOW23",
          "JennieKim",
          "Ninivee",
          "DarkCobweb",
          "CML_Justin",
          "Teesily",
          "Freeeedom",
          "Lelouch610",
          "Nor_Malo",
          "2wc",
          "KakaMC",
          "GingerTeddy",
          "Squashgitter333",
          "Grapfen",
          "yzvm",
          "Proofreader",
          "lizsyy",
          "2B9",
          "agowskyy",
          "toxicplace"
         ],
         "y": {
          "bdata": "AAAAAAAAVEAAAAAAAAA+QAAAAAAAAERAAAAAAAAASUAAAAAAAAAAAAAAAAAAAAAAAAAAAAAAAAAAAAAAAIBWQAAAAAAAAAAAAAAAAAAAAAAAAAAAAAAAAAAAAAAAAAAAAAAAAAAANEAAAAAAAABOQAAAAAAAAAAAAAAAAAAAAAAAAAAAAAAAAAAAAAAAAAAAAAAAAAAAAAAAAAAAAAAAAAAAAAAAAAAAAAAAAAAAAAAAAAAAAIBRQAAAAAAAAAAAAAAAAAAAAAAAAAAAAAAAAAAAAAAAAAAAAAAAAAAAAAAAAAAAAAAAAAAAAAAAAAAAAAAAAAAAAAAAAAAAAAAAAAAAAAAAAAAAAAAAAAAAAAAAAAAAAAAAAAAAAAAAAAAAAAAAAAAAAAAAAAAAAAAAAAAAAAAAAAAAAAAAAAAAAAA=",
          "dtype": "f8"
         }
        },
        {
         "marker": {
          "color": "rgb(136, 136, 136)"
         },
         "name": "Kletterkönig",
         "type": "bar",
         "x": [
          "Allooy",
          "cediiiiii_10",
          "chrisihalt",
          "Fflopse",
          "Muniix",
          "_n3d",
          "qriezmannsOpa",
          "Ex4cted",
          "NewNormal0947",
          "ReichesBrot",
          "Gobo9",
          "HerrDante",
          "Umgfoin",
          "PedroZockt",
          "Joe3346",
          "rotmann2",
          "Ungluecklicher",
          "Luxemburq",
          "yVendas",
          "FrozenNoah",
          "JOW23",
          "JennieKim",
          "Ninivee",
          "DarkCobweb",
          "CML_Justin",
          "Teesily",
          "Freeeedom",
          "Lelouch610",
          "Nor_Malo",
          "2wc",
          "KakaMC",
          "GingerTeddy",
          "Squashgitter333",
          "Grapfen",
          "yzvm",
          "Proofreader",
          "lizsyy",
          "2B9",
          "agowskyy",
          "toxicplace"
         ],
         "y": {
          "bdata": "VVVVVVVVN0BVVVVVVVU3QAAAAAAAACRAVVVVVVVVR0BVVVVVVVVHQAAAAAAAADRAVVVVVVVVTEAAAAAAAAAAAKuqqqqqqipAq6qqqqqqUECrqqqqqqoaQAAAAAAAACRAAAAAAAAAAAAAAAAAAAAAAAAAAAAAAD5AAAAAAAAANEAAAAAAAAAAAAAAAAAAAAAAAAAAAAAAAAAAAAAAAAAAAAAAAAAAAAAAAAAAAAAAAAAAAAAAAAAAAAAAAAAAAAAAAAAAAAAAAAAAAAAAAAAAAAAAAAAAAAAAAAAAAAAAAAAAAAAAAAAAAAAAAAAAAAAAAAAAAAAAAACrqqqqqqo6QAAAAAAAAAAAAAAAAAAAAAAAAAAAAAAAAAAAAAAAAAAAAAAAAAAAAAAAAAAAAAAAAAAAAAAAAAAAAAAAAAAAAAA=",
          "dtype": "f8"
         }
        },
        {
         "marker": {
          "color": "rgb(136, 204, 238)"
         },
         "name": "Lasertag",
         "type": "bar",
         "x": [
          "Allooy",
          "cediiiiii_10",
          "chrisihalt",
          "Fflopse",
          "Muniix",
          "_n3d",
          "qriezmannsOpa",
          "Ex4cted",
          "NewNormal0947",
          "ReichesBrot",
          "Gobo9",
          "HerrDante",
          "Umgfoin",
          "PedroZockt",
          "Joe3346",
          "rotmann2",
          "Ungluecklicher",
          "Luxemburq",
          "yVendas",
          "FrozenNoah",
          "JOW23",
          "JennieKim",
          "Ninivee",
          "DarkCobweb",
          "CML_Justin",
          "Teesily",
          "Freeeedom",
          "Lelouch610",
          "Nor_Malo",
          "2wc",
          "KakaMC",
          "GingerTeddy",
          "Squashgitter333",
          "Grapfen",
          "yzvm",
          "Proofreader",
          "lizsyy",
          "2B9",
          "agowskyy",
          "toxicplace"
         ],
         "y": {
          "bdata": "AAAAAAAAAAAAAAAAAAAuQAAAAAAAAAAAAAAAAAAATkAAAAAAAAA5QAAAAAAAAC5AAAAAAAAAOUAAAAAAAIA2QAAAAAAAAAAAAAAAAAAAHkAAAAAAAAAkQAAAAAAAAE5AAAAAAAAAOUAAAAAAAIAxQAAAAAAAAAAAAAAAAAAAAAAAAAAAAAAAAAAAAAAAAC5AAAAAAAAAAAAAAAAAAAAAAAAAAAAAgDtAAAAAAAAAFEAAAAAAAAAAAAAAAAAAAAAAAAAAAAAAAAAAAAAAAAAAAAAAAAAAAAAAAAAAAAAANEAAAAAAAAAAAAAAAAAAgDFAAAAAAAAAAAAAAAAAAAAAAAAAAAAAAAAAAAAAAAAAAAAAAAAAAAAAAAAAAAAAAAAAAAAAAAAAAAAAAAAAAAAAAAAAAAAAAAAAAAAAAAAAAAA=",
          "dtype": "f8"
         }
        },
        {
         "marker": {
          "color": "rgb(204, 102, 119)"
         },
         "name": "Mauerfall",
         "type": "bar",
         "x": [
          "Allooy",
          "cediiiiii_10",
          "chrisihalt",
          "Fflopse",
          "Muniix",
          "_n3d",
          "qriezmannsOpa",
          "Ex4cted",
          "NewNormal0947",
          "ReichesBrot",
          "Gobo9",
          "HerrDante",
          "Umgfoin",
          "PedroZockt",
          "Joe3346",
          "rotmann2",
          "Ungluecklicher",
          "Luxemburq",
          "yVendas",
          "FrozenNoah",
          "JOW23",
          "JennieKim",
          "Ninivee",
          "DarkCobweb",
          "CML_Justin",
          "Teesily",
          "Freeeedom",
          "Lelouch610",
          "Nor_Malo",
          "2wc",
          "KakaMC",
          "GingerTeddy",
          "Squashgitter333",
          "Grapfen",
          "yzvm",
          "Proofreader",
          "lizsyy",
          "2B9",
          "agowskyy",
          "toxicplace"
         ],
         "y": {
          "bdata": "AAAAAAAAPkCrqqqqqqpVQAAAAAAAAAAAq6qqqqqqUEBVVVVVVVVMQKuqqqqqqkBAAAAAAAAAAAAAAAAAAAAAAAAAAAAAAERAAAAAAAAAAAAAAAAAAAA+QKuqqqqqqkBAq6qqqqqqKkBVVVVVVVVHQKuqqqqqqipAAAAAAAAAAAAAAAAAAAAAAKuqqqqqqkBAAAAAAAAAAAAAAAAAAAAAAAAAAAAAAD5AAAAAAAAAAACrqqqqqqoqQKuqqqqqqk9AAAAAAAAAAAAAAAAAAAAAAAAAAAAAAAAAAAAAAAAAAAAAAAAAAAAAAAAAAAAAAAAAAAAAAAAAPkAAAAAAAAAAAAAAAAAAAAAAAAAAAAAAPkCrqqqqqqpAQAAAAAAAAAAAAAAAAAAAAAAAAAAAAAAAAKuqqqqqqhpAAAAAAAAAAAA=",
          "dtype": "f8"
         }
        },
        {
         "marker": {
          "color": "rgb(221, 204, 119)"
         },
         "name": "Minenfeld",
         "type": "bar",
         "x": [
          "Allooy",
          "cediiiiii_10",
          "chrisihalt",
          "Fflopse",
          "Muniix",
          "_n3d",
          "qriezmannsOpa",
          "Ex4cted",
          "NewNormal0947",
          "ReichesBrot",
          "Gobo9",
          "HerrDante",
          "Umgfoin",
          "PedroZockt",
          "Joe3346",
          "rotmann2",
          "Ungluecklicher",
          "Luxemburq",
          "yVendas",
          "FrozenNoah",
          "JOW23",
          "JennieKim",
          "Ninivee",
          "DarkCobweb",
          "CML_Justin",
          "Teesily",
          "Freeeedom",
          "Lelouch610",
          "Nor_Malo",
          "2wc",
          "KakaMC",
          "GingerTeddy",
          "Squashgitter333",
          "Grapfen",
          "yzvm",
          "Proofreader",
          "lizsyy",
          "2B9",
          "agowskyy",
          "toxicplace"
         ],
         "y": {
          "bdata": "AAAAAAAAJEAAAAAAAAAkQKuqqqqqqkBAq6qqqqqqOkAAAAAAAAAAAAAAAAAAAElAVVVVVVVVR0AAAAAAAAAAAAAAAAAAAAAAq6qqqqqqMEAAAAAAAAAAAAAAAAAAAD5AAAAAAAAAAAAAAAAAAAAAAFVVVVVVVTdAAAAAAAAAAAAAAAAAAAAAAAAAAAAAAAAAAAAAAAAAAACrqqqqqqowQAAAAAAAAAAAAAAAAAAAAACrqqqqqqoaQAAAAAAAAAAAAAAAAAAAAAAAAAAAAAAAAFVVVVVVVTdAAAAAAAAAAAAAAAAAAAAAAAAAAAAAAAAAAAAAAAAAAAAAAAAAAAAAAAAAAAAAAAAAAAAAAAAAAAAAAAAAAAAAAAAAAAAAAAAAAAAAAAAAAACrqqqqqqoqQAAAAAAAAAAAq6qqqqqqGkA=",
          "dtype": "f8"
         }
        },
        {
         "marker": {
          "color": "rgb(17, 119, 51)"
         },
         "name": "Minengefecht",
         "type": "bar",
         "x": [
          "Allooy",
          "cediiiiii_10",
          "chrisihalt",
          "Fflopse",
          "Muniix",
          "_n3d",
          "qriezmannsOpa",
          "Ex4cted",
          "NewNormal0947",
          "ReichesBrot",
          "Gobo9",
          "HerrDante",
          "Umgfoin",
          "PedroZockt",
          "Joe3346",
          "rotmann2",
          "Ungluecklicher",
          "Luxemburq",
          "yVendas",
          "FrozenNoah",
          "JOW23",
          "JennieKim",
          "Ninivee",
          "DarkCobweb",
          "CML_Justin",
          "Teesily",
          "Freeeedom",
          "Lelouch610",
          "Nor_Malo",
          "2wc",
          "KakaMC",
          "GingerTeddy",
          "Squashgitter333",
          "Grapfen",
          "yzvm",
          "Proofreader",
          "lizsyy",
          "2B9",
          "agowskyy",
          "toxicplace"
         ],
         "y": {
          "bdata": "AAAAAACARkAAAAAAAIBRQAAAAAAAgEZAAAAAAAAAFEAAAAAAAAA0QAAAAAAAADlAAAAAAAAANEAAAAAAAAAAAAAAAAAAABRAAAAAAAAAFEAAAAAAAABEQAAAAAAAgDFAAAAAAAAAAAAAAAAAAAAAAAAAAAAAAAAAAAAAAAAANEAAAAAAAAAAAAAAAAAAAAAAAAAAAAAAAAAAAAAAAMBHQAAAAAAAgEZAAAAAAAAAAAAAAAAAAAAAAAAAAAAAQEVAAAAAAAAAAAAAAAAAAAAAAAAAAAAAAAAAAAAAAAAAOUAAAAAAAAAAAAAAAAAAgDFAAAAAAAAAAAAAAAAAAAAAAAAAAAAAAAAAAAAAAAAAFEAAAAAAAIA2QAAAAAAAAAAAAAAAAAAAAAAAAAAAAAAAAAAAAAAAAAAAAAAAAAAAAAA=",
          "dtype": "f8"
         }
        },
        {
         "marker": {
          "color": "rgb(51, 34, 136)"
         },
         "name": "Paintball",
         "type": "bar",
         "x": [
          "Allooy",
          "cediiiiii_10",
          "chrisihalt",
          "Fflopse",
          "Muniix",
          "_n3d",
          "qriezmannsOpa",
          "Ex4cted",
          "NewNormal0947",
          "ReichesBrot",
          "Gobo9",
          "HerrDante",
          "Umgfoin",
          "PedroZockt",
          "Joe3346",
          "rotmann2",
          "Ungluecklicher",
          "Luxemburq",
          "yVendas",
          "FrozenNoah",
          "JOW23",
          "JennieKim",
          "Ninivee",
          "DarkCobweb",
          "CML_Justin",
          "Teesily",
          "Freeeedom",
          "Lelouch610",
          "Nor_Malo",
          "2wc",
          "KakaMC",
          "GingerTeddy",
          "Squashgitter333",
          "Grapfen",
          "yzvm",
          "Proofreader",
          "lizsyy",
          "2B9",
          "agowskyy",
          "toxicplace"
         ],
         "y": {
          "bdata": "AAAAAAAAAAAAAAAAAAAAAAAAAAAAAAAAAAAAAAAAAAAAAAAAAAAAAAAAAAAAAAAAAAAAAAAAAAAAAAAAAAAAAAAAAAAAAAAAAAAAAAAAAAAAAAAAAAAAAAAAAAAAAAAAAAAAAAAAAAAAAAAAAAAAAAAAAAAAAAAAAAAAAAAAAAAAAAAAAAAAAAAAAAAAAAAAAAAAAAAAAAAAAAAAAAAAAAAAAAAAAAAAAAAAAAAAAAAAAAAAAAAAAAAAAAAAAAAAAAAAAAAAAAAAAAAAAAAAAAAAAAAAAAAAAAAAAAAAAAAAAAAAAAAAAAAAAAAAAAAAAAAAAAAAAAAAAAAAAAAAAAAAAAAAAAAAAAAAAAAAAAAAAAAAAAAAAAAAAAAAAAAAAAAAAAAAAAAAAAAAAAAAAAAAAAAAAAAAAAAAAAAAAAA=",
          "dtype": "f8"
         }
        },
        {
         "marker": {
          "color": "rgb(170, 68, 153)"
         },
         "name": "Parkour",
         "type": "bar",
         "x": [
          "Allooy",
          "cediiiiii_10",
          "chrisihalt",
          "Fflopse",
          "Muniix",
          "_n3d",
          "qriezmannsOpa",
          "Ex4cted",
          "NewNormal0947",
          "ReichesBrot",
          "Gobo9",
          "HerrDante",
          "Umgfoin",
          "PedroZockt",
          "Joe3346",
          "rotmann2",
          "Ungluecklicher",
          "Luxemburq",
          "yVendas",
          "FrozenNoah",
          "JOW23",
          "JennieKim",
          "Ninivee",
          "DarkCobweb",
          "CML_Justin",
          "Teesily",
          "Freeeedom",
          "Lelouch610",
          "Nor_Malo",
          "2wc",
          "KakaMC",
          "GingerTeddy",
          "Squashgitter333",
          "Grapfen",
          "yzvm",
          "Proofreader",
          "lizsyy",
          "2B9",
          "agowskyy",
          "toxicplace"
         ],
         "y": {
          "bdata": "AAAAAAAAVEAAAAAAAEBAQAAAAAAAwEJAAAAAAACANkAAAAAAAAA5QAAAAAAAAC5AAAAAAACARkAAAAAAAAAAAAAAAAAAAAAAAAAAAABAUEAAAAAAAEBPQAAAAAAAAAAAAAAAAAAAAAAAAAAAAAApQAAAAAAAACRAAAAAAAAAAAAAAAAAAAAAAAAAAAAAAAAAAAAAAAAAOUAAAAAAAAAAAAAAAAAAAAAAAAAAAAAAAAAAAAAAAAAAAAAAAAAAAAAAAAAAAAAAAAAAAAAAAAApQAAAAAAAAAAAAAAAAAAAAAAAAAAAAAAuQAAAAAAAAClAAAAAAAAAAAAAAAAAAAAuQAAAAAAAAAAAAAAAAAAAAAAAAAAAAAAAAAAAAAAAAAAAAAAAAAAAAAAAAAAAAAAAAAAAAAAAAAAAAAAAAAAAJEA=",
          "dtype": "f8"
         }
        },
        {
         "marker": {
          "color": "rgb(68, 170, 153)"
         },
         "name": "Pferderennen",
         "type": "bar",
         "x": [
          "Allooy",
          "cediiiiii_10",
          "chrisihalt",
          "Fflopse",
          "Muniix",
          "_n3d",
          "qriezmannsOpa",
          "Ex4cted",
          "NewNormal0947",
          "ReichesBrot",
          "Gobo9",
          "HerrDante",
          "Umgfoin",
          "PedroZockt",
          "Joe3346",
          "rotmann2",
          "Ungluecklicher",
          "Luxemburq",
          "yVendas",
          "FrozenNoah",
          "JOW23",
          "JennieKim",
          "Ninivee",
          "DarkCobweb",
          "CML_Justin",
          "Teesily",
          "Freeeedom",
          "Lelouch610",
          "Nor_Malo",
          "2wc",
          "KakaMC",
          "GingerTeddy",
          "Squashgitter333",
          "Grapfen",
          "yzvm",
          "Proofreader",
          "lizsyy",
          "2B9",
          "agowskyy",
          "toxicplace"
         ],
         "y": {
          "bdata": "AAAAAAAALkBVVVVVVdVOQKuqqqqqKkNAq6qqqqqqOkAAAAAAAAAAAAAAAAAAgEFAq6qqqqqqRUAAAAAAAAAAAKuqqqqqqhpAq6qqqqqqNUAAAAAAAAA0QKuqqqqqqiBAq6qqqqqqCkCrqqqqqqogQFVVVVVVVTdAq6qqqqoqQ0AAAAAAAAAAAAAAAAAAAAAAq6qqqqqqOkAAAAAAAAAAAAAAAAAAAAAAAAAAAAAATkAAAAAAAAAAAAAAAAAAAAAAAAAAAAAAAAAAAAAAAAAAAAAAAAAAAAAAq6qqqqqqCkAAAAAAAAAAAAAAAAAAAAAAAAAAAAAAAAAAAAAAAAAuQFVVVVVVVTdAAAAAAAAAAACrqqqqqqoqQAAAAAAAAAAAq6qqqqqqCkAAAAAAAAAAAAAAAAAAAAAAAAAAAAAAAAA=",
          "dtype": "f8"
         }
        },
        {
         "marker": {
          "color": "rgb(153, 153, 51)"
         },
         "name": "Reihenfolge",
         "type": "bar",
         "x": [
          "Allooy",
          "cediiiiii_10",
          "chrisihalt",
          "Fflopse",
          "Muniix",
          "_n3d",
          "qriezmannsOpa",
          "Ex4cted",
          "NewNormal0947",
          "ReichesBrot",
          "Gobo9",
          "HerrDante",
          "Umgfoin",
          "PedroZockt",
          "Joe3346",
          "rotmann2",
          "Ungluecklicher",
          "Luxemburq",
          "yVendas",
          "FrozenNoah",
          "JOW23",
          "JennieKim",
          "Ninivee",
          "DarkCobweb",
          "CML_Justin",
          "Teesily",
          "Freeeedom",
          "Lelouch610",
          "Nor_Malo",
          "2wc",
          "KakaMC",
          "GingerTeddy",
          "Squashgitter333",
          "Grapfen",
          "yzvm",
          "Proofreader",
          "lizsyy",
          "2B9",
          "agowskyy",
          "toxicplace"
         ],
         "y": {
          "bdata": "AAAAAAAAAAAAAAAAAAAAAAAAAAAAAAAAAAAAAAAAAAAAAAAAAAAAAAAAAAAAAAAAAAAAAAAAAAAAAAAAAAAAAAAAAAAAAAAAAAAAAAAAAAAAAAAAAAAAAAAAAAAAAAAAAAAAAAAAAAAAAAAAAAAAAAAAAAAAAAAAAAAAAAAAAAAAAAAAAAAAAAAAAAAAAAAAAAAAAAAAAAAAAAAAAAAAAAAAAAAAAAAAAAAAAAAAAAAAAAAAAAAAAAAAAAAAAAAAAAAAAAAAAAAAAAAAAAAAAAAAAAAAAAAAAAAAAAAAAAAAAAAAAAAAAAAAAAAAAAAAAAAAAAAAAAAAAAAAAAAAAAAAAAAAAAAAAAAAAAAAAAAAAAAAAAAAAAAAAAAAAAAAAAAAAAAAAAAAAAAAAAAAAAAAAAAAAAAAAAAAAAAAAAA=",
          "dtype": "f8"
         }
        },
        {
         "marker": {
          "color": "rgb(136, 34, 85)"
         },
         "name": "Replika",
         "type": "bar",
         "x": [
          "Allooy",
          "cediiiiii_10",
          "chrisihalt",
          "Fflopse",
          "Muniix",
          "_n3d",
          "qriezmannsOpa",
          "Ex4cted",
          "NewNormal0947",
          "ReichesBrot",
          "Gobo9",
          "HerrDante",
          "Umgfoin",
          "PedroZockt",
          "Joe3346",
          "rotmann2",
          "Ungluecklicher",
          "Luxemburq",
          "yVendas",
          "FrozenNoah",
          "JOW23",
          "JennieKim",
          "Ninivee",
          "DarkCobweb",
          "CML_Justin",
          "Teesily",
          "Freeeedom",
          "Lelouch610",
          "Nor_Malo",
          "2wc",
          "KakaMC",
          "GingerTeddy",
          "Squashgitter333",
          "Grapfen",
          "yzvm",
          "Proofreader",
          "lizsyy",
          "2B9",
          "agowskyy",
          "toxicplace"
         ],
         "y": {
          "bdata": "mZIpmZIpV0CtzdqszdpOQHD5lm/5lidAP/dzP/dzL0AP9VAP9VA9QHD5lm/5llJAx3Ecx3EcH0DzLd/yLd9DQLqf+7mf+xlAup/7uZ/7CUCO4ziO4zhLQG3WZm3WZg1AFl7hFV7hxT+zNmuzNmsnQAAAAAAAAAAA2Ymd2Imd6D+btVmbtVnbPw3SIA3SIERAB2mQBmmQBkAAAAAAAAAAAJAGaZAGaeA/m7VZm7VZ+z8AAAAAAAAAAAAAAAAAAAAA+ZZv+ZZvEUDLt3zLt3wzQHIcx3Ecx/E/m7VZm7VZ6z8AAAAAAAAAAAAAAAAAAAAAYid2Yid2EkCQBmmQBmnQP/mWb/mWbyFAAAAAAAAAAAAAAAAAAAAAAAAAAAAAAAAAXuEVXuEV7j8AAAAAAAAAAAAAAAAAAAAAAAAAAAAAAAA=",
          "dtype": "f8"
         }
        },
        {
         "marker": {
          "color": "rgb(102, 17, 0)"
         },
         "name": "Runterpurzeln",
         "type": "bar",
         "x": [
          "Allooy",
          "cediiiiii_10",
          "chrisihalt",
          "Fflopse",
          "Muniix",
          "_n3d",
          "qriezmannsOpa",
          "Ex4cted",
          "NewNormal0947",
          "ReichesBrot",
          "Gobo9",
          "HerrDante",
          "Umgfoin",
          "PedroZockt",
          "Joe3346",
          "rotmann2",
          "Ungluecklicher",
          "Luxemburq",
          "yVendas",
          "FrozenNoah",
          "JOW23",
          "JennieKim",
          "Ninivee",
          "DarkCobweb",
          "CML_Justin",
          "Teesily",
          "Freeeedom",
          "Lelouch610",
          "Nor_Malo",
          "2wc",
          "KakaMC",
          "GingerTeddy",
          "Squashgitter333",
          "Grapfen",
          "yzvm",
          "Proofreader",
          "lizsyy",
          "2B9",
          "agowskyy",
          "toxicplace"
         ],
         "y": {
          "bdata": "AAAAAAAATkAAAAAAAABUQAAAAAAAAAAAAAAAAAAAAAAAAAAAAABZQAAAAAAAAD5AAAAAAACAUUAAAAAAAABEQAAAAAAAAElAAAAAAAAAAAAAAAAAAAAAAAAAAAAAAAAAAAAAAAAAAAAAAAAAAAAAAAAAAAAAAAAAAAAAAAAAAAAAAAAAAAAAAAAAAAAAAAAAAAAAAAAAAAAAAAAAAAAAAAAAAAAAAAAAAAAAAAAANEAAAAAAAAAAAAAAAAAAAAAAAAAAAAAAAAAAAAAAAAAAAAAAAAAAAAAAAAAAAAAAAAAAAAAAAAAAAAAAAAAAAAAAAAAAAAAAAAAAAAAAAAAAAAAAAAAAAAAAAAAAAAAAAAAAAAAAAAAAAAAAAAAAAAAAAAAAAAAAAAAAAAAAAAAAAAAAAAAAgFZAAAAAAAAAAAA=",
          "dtype": "f8"
         }
        },
        {
         "marker": {
          "color": "rgb(136, 136, 136)"
         },
         "name": "Sammelwahn",
         "type": "bar",
         "x": [
          "Allooy",
          "cediiiiii_10",
          "chrisihalt",
          "Fflopse",
          "Muniix",
          "_n3d",
          "qriezmannsOpa",
          "Ex4cted",
          "NewNormal0947",
          "ReichesBrot",
          "Gobo9",
          "HerrDante",
          "Umgfoin",
          "PedroZockt",
          "Joe3346",
          "rotmann2",
          "Ungluecklicher",
          "Luxemburq",
          "yVendas",
          "FrozenNoah",
          "JOW23",
          "JennieKim",
          "Ninivee",
          "DarkCobweb",
          "CML_Justin",
          "Teesily",
          "Freeeedom",
          "Lelouch610",
          "Nor_Malo",
          "2wc",
          "KakaMC",
          "GingerTeddy",
          "Squashgitter333",
          "Grapfen",
          "yzvm",
          "Proofreader",
          "lizsyy",
          "2B9",
          "agowskyy",
          "toxicplace"
         ],
         "y": {
          "bdata": "iTvijrgjMkBxR9wRd8RDQOKOuCPuiBNAHnFH3BF3JEBNWVPWlDUhQOKOuCPuiDNAR9wRd8QdGUBrypqypqwxQDzijrgj7jRAMOgL+oK+AECPuCPuiDsuQBJ3xB1xRyBAxB1xR9wRI0CnrClrypoSQNAX9AV9QRdAa8qasqasEUCnrClrypryP8QdcUfcESNAa8qasqasEUCnrClrypoCQHFH3BF3xN0/a8qasqasEUCVNWVNWVP2P5U1ZU1ZU/Y/cUfcEXfEHUCVNWVNWVMWQDZlTVlT1hxAcUfcEXfE3T/oC/qCvqAPQAAAAAAAAAAAlTVlTVlTBkCDvqAv6Av6P3FH3BF3xN0/4o64I+6IE0AAAAAAAAAAAAAAAAAAAAAAlTVlTVlTBkCnrClrypoCQHFH3BF3xP0/AAAAAAAAAAA=",
          "dtype": "f8"
         }
        },
        {
         "marker": {
          "color": "rgb(136, 204, 238)"
         },
         "name": "Schießstand",
         "type": "bar",
         "x": [
          "Allooy",
          "cediiiiii_10",
          "chrisihalt",
          "Fflopse",
          "Muniix",
          "_n3d",
          "qriezmannsOpa",
          "Ex4cted",
          "NewNormal0947",
          "ReichesBrot",
          "Gobo9",
          "HerrDante",
          "Umgfoin",
          "PedroZockt",
          "Joe3346",
          "rotmann2",
          "Ungluecklicher",
          "Luxemburq",
          "yVendas",
          "FrozenNoah",
          "JOW23",
          "JennieKim",
          "Ninivee",
          "DarkCobweb",
          "CML_Justin",
          "Teesily",
          "Freeeedom",
          "Lelouch610",
          "Nor_Malo",
          "2wc",
          "KakaMC",
          "GingerTeddy",
          "Squashgitter333",
          "Grapfen",
          "yzvm",
          "Proofreader",
          "lizsyy",
          "2B9",
          "agowskyy",
          "toxicplace"
         ],
         "y": {
          "bdata": "AAAAAAAAJEAAAAAAAABOQAAAAAAAACRAAAAAAAAATkAAAAAAAAA0QAAAAAAAABRAAAAAAADAQkAAAAAAAEBPQAAAAAAAABRAAAAAAAAAAAAAAAAAAIAxQAAAAAAAADlAAAAAAAAAAAAAAAAAAAAAAAAAAAAAAAAAAAAAAAAAREAAAAAAAAAeQAAAAAAAAAAAAAAAAACANkAAAAAAAAAAAAAAAAAAwEdAAAAAAAAAAAAAAAAAAAAAAAAAAAAAAAAAAAAAAAAALkAAAAAAAAAAAAAAAAAAAAAAAAAAAAAAAAAAAAAAAAAAAAAAAAAAAAAAAAAAAAAAAAAAAAAAAAApQAAAAAAAADlAAAAAAAAAAAAAAAAAAAAAAAAAAAAAAAAAAAAAAAAALkAAAAAAAAAAAAAAAAAAAC5AAAAAAAAAAAA=",
          "dtype": "f8"
         }
        },
        {
         "marker": {
          "color": "rgb(204, 102, 119)"
         },
         "name": "Skywars",
         "type": "bar",
         "x": [
          "Allooy",
          "cediiiiii_10",
          "chrisihalt",
          "Fflopse",
          "Muniix",
          "_n3d",
          "qriezmannsOpa",
          "Ex4cted",
          "NewNormal0947",
          "ReichesBrot",
          "Gobo9",
          "HerrDante",
          "Umgfoin",
          "PedroZockt",
          "Joe3346",
          "rotmann2",
          "Ungluecklicher",
          "Luxemburq",
          "yVendas",
          "FrozenNoah",
          "JOW23",
          "JennieKim",
          "Ninivee",
          "DarkCobweb",
          "CML_Justin",
          "Teesily",
          "Freeeedom",
          "Lelouch610",
          "Nor_Malo",
          "2wc",
          "KakaMC",
          "GingerTeddy",
          "Squashgitter333",
          "Grapfen",
          "yzvm",
          "Proofreader",
          "lizsyy",
          "2B9",
          "agowskyy",
          "toxicplace"
         ],
         "y": {
          "bdata": "VVVVVVVVMkBVVVVVVVVSQKuqqqqqqipAq6qqqqqqKkCrqqqqqqo/QFVVVVVVVTdAq6qqqqqqP0CrqqqqqqoKQKuqqqqqqkBAq6qqqqqqMEAAAAAAAIBLQAAAAAAAAAAAAAAAAAAAOUCrqqqqqqoqQAAAAAAAACRAAAAAAAAAAAAAAAAAAAA0QAAAAAAAAAAAAAAAAAAANEAAAAAAAAAkQKuqqqqqqkBAq6qqqqqqCkAAAAAAAAAAAKuqqqqqqjpAq6qqqqqqGkAAAAAAAAAAAFVVVVVVVTxAAAAAAAAAAABVVVVVVVUnQFVVVVVVVTxAq6qqqqqqMEAAAAAAAAAAAKuqqqqqqgpAVVVVVVVVN0AAAAAAAAAAAKuqqqqqqjVAAAAAAAAAAAAAAAAAAAAAAAAAAAAAAAAAAAAAAAAAAAA=",
          "dtype": "f8"
         }
        },
        {
         "marker": {
          "color": "rgb(221, 204, 119)"
         },
         "name": "Spleef",
         "type": "bar",
         "x": [
          "Allooy",
          "cediiiiii_10",
          "chrisihalt",
          "Fflopse",
          "Muniix",
          "_n3d",
          "qriezmannsOpa",
          "Ex4cted",
          "NewNormal0947",
          "ReichesBrot",
          "Gobo9",
          "HerrDante",
          "Umgfoin",
          "PedroZockt",
          "Joe3346",
          "rotmann2",
          "Ungluecklicher",
          "Luxemburq",
          "yVendas",
          "FrozenNoah",
          "JOW23",
          "JennieKim",
          "Ninivee",
          "DarkCobweb",
          "CML_Justin",
          "Teesily",
          "Freeeedom",
          "Lelouch610",
          "Nor_Malo",
          "2wc",
          "KakaMC",
          "GingerTeddy",
          "Squashgitter333",
          "Grapfen",
          "yzvm",
          "Proofreader",
          "lizsyy",
          "2B9",
          "agowskyy",
          "toxicplace"
         ],
         "y": {
          "bdata": "AAAAAAAAWUAAAAAAAIBRQAAAAAAAAAAAAAAAAAAAAAAAAAAAAIBRQAAAAAAAgFZAAAAAAACAVkAAAAAAAAAAAAAAAAAAgFFAAAAAAAAAAAAAAAAAAAAAAAAAAAAAAAAAAAAAAAAAAAAAAAAAAAAAAAAAAAAAgFFAAAAAAACAUUAAAAAAAAAAAAAAAAAAAAAAAAAAAAAAAAAAAAAAAAAAAAAAAAAAAAAAAAAAAAAAAAAAAAAAAAAAAAAAAAAAAAAAAAAAAAAAAAAAAAAAAAAAAAAAAAAAAAAAAAAAAACAUUAAAAAAAAAAAAAAAAAAAAAAAAAAAAAAAAAAAAAAAAAAAAAAAAAAAAAAAAAAAAAAAAAAAAAAAAAAAAAAAAAAAAAAAAAAAAAAAAAAAAAAAAAAAAAAAAAAAAAAAAAAAAAAAAA=",
          "dtype": "f8"
         }
        },
        {
         "marker": {
          "color": "rgb(17, 119, 51)"
         },
         "name": "Survivalgames",
         "type": "bar",
         "x": [
          "Allooy",
          "cediiiiii_10",
          "chrisihalt",
          "Fflopse",
          "Muniix",
          "_n3d",
          "qriezmannsOpa",
          "Ex4cted",
          "NewNormal0947",
          "ReichesBrot",
          "Gobo9",
          "HerrDante",
          "Umgfoin",
          "PedroZockt",
          "Joe3346",
          "rotmann2",
          "Ungluecklicher",
          "Luxemburq",
          "yVendas",
          "FrozenNoah",
          "JOW23",
          "JennieKim",
          "Ninivee",
          "DarkCobweb",
          "CML_Justin",
          "Teesily",
          "Freeeedom",
          "Lelouch610",
          "Nor_Malo",
          "2wc",
          "KakaMC",
          "GingerTeddy",
          "Squashgitter333",
          "Grapfen",
          "yzvm",
          "Proofreader",
          "lizsyy",
          "2B9",
          "agowskyy",
          "toxicplace"
         ],
         "y": {
          "bdata": "AAAAAAAASUAAAAAAAEBAQAAAAAAAgEZAAAAAAAAAAAAAAAAAAIBRQAAAAAAAABRAAAAAAACANkAAAAAAAAAAAAAAAAAAAElAAAAAAACANkAAAAAAAAAeQAAAAAAAABRAAAAAAAAAPkAAAAAAAAAAAAAAAAAAAAAAAAAAAABAQEAAAAAAAEBFQAAAAAAAAAAAAAAAAAAAAAAAAAAAAIA7QAAAAAAAABRAAAAAAAAAPkAAAAAAAAAUQAAAAAAAABRAAAAAAAAAAAAAAAAAAAAAAAAAAAAAAB5AAAAAAAAAAAAAAAAAAMBHQAAAAAAAADRAAAAAAAAAAAAAAAAAAAAAAAAAAAAAAAAAAAAAAAAANEAAAAAAAAAAAAAAAAAAADRAAAAAAAAAAAAAAAAAAAA5QAAAAAAAABRAAAAAAAAAAAA=",
          "dtype": "f8"
         }
        },
        {
         "marker": {
          "color": "rgb(51, 34, 136)"
         },
         "name": "Todeswürfel",
         "type": "bar",
         "x": [
          "Allooy",
          "cediiiiii_10",
          "chrisihalt",
          "Fflopse",
          "Muniix",
          "_n3d",
          "qriezmannsOpa",
          "Ex4cted",
          "NewNormal0947",
          "ReichesBrot",
          "Gobo9",
          "HerrDante",
          "Umgfoin",
          "PedroZockt",
          "Joe3346",
          "rotmann2",
          "Ungluecklicher",
          "Luxemburq",
          "yVendas",
          "FrozenNoah",
          "JOW23",
          "JennieKim",
          "Ninivee",
          "DarkCobweb",
          "CML_Justin",
          "Teesily",
          "Freeeedom",
          "Lelouch610",
          "Nor_Malo",
          "2wc",
          "KakaMC",
          "GingerTeddy",
          "Squashgitter333",
          "Grapfen",
          "yzvm",
          "Proofreader",
          "lizsyy",
          "2B9",
          "agowskyy",
          "toxicplace"
         ],
         "y": {
          "bdata": "AAAAAAAAAAAAAAAAAAAAAAAAAAAAAAAAAAAAAAAAAAAAAAAAAAAAAAAAAAAAAAAAAAAAAAAAAAAAAAAAAAAAAAAAAAAAAAAAAAAAAAAAAAAAAAAAAAAAAAAAAAAAAAAAAAAAAAAAAAAAAAAAAAAAAAAAAAAAAAAAAAAAAAAAAAAAAAAAAAAAAAAAAAAAAAAAAAAAAAAAAAAAAAAAAAAAAAAAAAAAAAAAAAAAAAAAAAAAAAAAAAAAAAAAAAAAAAAAAAAAAAAAAAAAAAAAAAAAAAAAAAAAAAAAAAAAAAAAAAAAAAAAAAAAAAAAAAAAAAAAAAAAAAAAAAAAAAAAAAAAAAAAAAAAAAAAAAAAAAAAAAAAAAAAAAAAAAAAAAAAAAAAAAAAAAAAAAAAAAAAAAAAAAAAAAAAAAAAAAAAAAAAAAA=",
          "dtype": "f8"
         }
        },
        {
         "marker": {
          "color": "rgb(170, 68, 153)"
         },
         "name": "Turmroulette",
         "type": "bar",
         "x": [
          "Allooy",
          "cediiiiii_10",
          "chrisihalt",
          "Fflopse",
          "Muniix",
          "_n3d",
          "qriezmannsOpa",
          "Ex4cted",
          "NewNormal0947",
          "ReichesBrot",
          "Gobo9",
          "HerrDante",
          "Umgfoin",
          "PedroZockt",
          "Joe3346",
          "rotmann2",
          "Ungluecklicher",
          "Luxemburq",
          "yVendas",
          "FrozenNoah",
          "JOW23",
          "JennieKim",
          "Ninivee",
          "DarkCobweb",
          "CML_Justin",
          "Teesily",
          "Freeeedom",
          "Lelouch610",
          "Nor_Malo",
          "2wc",
          "KakaMC",
          "GingerTeddy",
          "Squashgitter333",
          "Grapfen",
          "yzvm",
          "Proofreader",
          "lizsyy",
          "2B9",
          "agowskyy",
          "toxicplace"
         ],
         "y": {
          "bdata": "AAAAAAAATkAAAAAAAAAAAAAAAAAAgFZAAAAAAAAAAAAAAAAAAIBWQAAAAAAAAAAAAAAAAAAATkAAAAAAAAAAAAAAAAAAAE5AAAAAAAAAAAAAAAAAAABZQAAAAAAAAAAAAAAAAAAATkAAAAAAAAAAAAAAAAAAAAAAAAAAAAAAAAAAAAAAAIBWQAAAAAAAAE5AAAAAAAAATkAAAAAAAABOQAAAAAAAAAAAAAAAAAAAAAAAAAAAAAAAAAAAAAAAAAAAAAAAAAAAAAAAAAAAAAAAAAAAAAAAAAAAAAAAAAAAAAAAAAAAAABOQAAAAAAAAAAAAAAAAAAAAAAAAAAAAAAAAAAAAAAAAAAAAAAAAAAAAAAAAAAAAAAAAAAAAAAAAE5AAAAAAAAAAAAAAAAAAAAAAAAAAAAAAAAAAAAAAAAAAAA=",
          "dtype": "f8"
         }
        },
        {
         "marker": {
          "color": "rgb(68, 170, 153)"
         },
         "name": "Waffenfolge",
         "type": "bar",
         "x": [
          "Allooy",
          "cediiiiii_10",
          "chrisihalt",
          "Fflopse",
          "Muniix",
          "_n3d",
          "qriezmannsOpa",
          "Ex4cted",
          "NewNormal0947",
          "ReichesBrot",
          "Gobo9",
          "HerrDante",
          "Umgfoin",
          "PedroZockt",
          "Joe3346",
          "rotmann2",
          "Ungluecklicher",
          "Luxemburq",
          "yVendas",
          "FrozenNoah",
          "JOW23",
          "JennieKim",
          "Ninivee",
          "DarkCobweb",
          "CML_Justin",
          "Teesily",
          "Freeeedom",
          "Lelouch610",
          "Nor_Malo",
          "2wc",
          "KakaMC",
          "GingerTeddy",
          "Squashgitter333",
          "Grapfen",
          "yzvm",
          "Proofreader",
          "lizsyy",
          "2B9",
          "agowskyy",
          "toxicplace"
         ],
         "y": {
          "bdata": "AAAAAAAAAAAAAAAAAAAAAAAAAAAAAAAAAAAAAAAAAAAAAAAAAAAAAAAAAAAAAAAAAAAAAAAAAAAAAAAAAAAAAAAAAAAAAAAAAAAAAAAAAAAAAAAAAAAAAAAAAAAAAAAAAAAAAAAAAAAAAAAAAAAAAAAAAAAAAAAAAAAAAAAAAAAAAAAAAAAAAAAAAAAAAAAAAAAAAAAAAAAAAAAAAAAAAAAAAAAAAAAAAAAAAAAAAAAAAAAAAAAAAAAAAAAAAAAAAAAAAAAAAAAAAAAAAAAAAAAAAAAAAAAAAAAAAAAAAAAAAAAAAAAAAAAAAAAAAAAAAAAAAAAAAAAAAAAAAAAAAAAAAAAAAAAAAAAAAAAAAAAAAAAAAAAAAAAAAAAAAAAAAAAAAAAAAAAAAAAAAAAAAAAAAAAAAAAAAAAAAAAAAAA=",
          "dtype": "f8"
         }
        },
        {
         "marker": {
          "color": "rgb(153, 153, 51)"
         },
         "name": "Wettrennen",
         "type": "bar",
         "x": [
          "Allooy",
          "cediiiiii_10",
          "chrisihalt",
          "Fflopse",
          "Muniix",
          "_n3d",
          "qriezmannsOpa",
          "Ex4cted",
          "NewNormal0947",
          "ReichesBrot",
          "Gobo9",
          "HerrDante",
          "Umgfoin",
          "PedroZockt",
          "Joe3346",
          "rotmann2",
          "Ungluecklicher",
          "Luxemburq",
          "yVendas",
          "FrozenNoah",
          "JOW23",
          "JennieKim",
          "Ninivee",
          "DarkCobweb",
          "CML_Justin",
          "Teesily",
          "Freeeedom",
          "Lelouch610",
          "Nor_Malo",
          "2wc",
          "KakaMC",
          "GingerTeddy",
          "Squashgitter333",
          "Grapfen",
          "yzvm",
          "Proofreader",
          "lizsyy",
          "2B9",
          "agowskyy",
          "toxicplace"
         ],
         "y": {
          "bdata": "AAAAAAAASUAAAAAAAABAQAAAAAAAgFFAAAAAAAAANEAAAAAAAAA4QAAAAAAAAEZAAAAAAAAAQkAAAAAAAAAgQAAAAAAAABhAAAAAAAAAIEAAAAAAAAAsQAAAAAAAABhAAAAAAAAAAAAAAAAAAAAAAAAAAAAAAExAAAAAAAAAAAAAAAAAAAAAAAAAAAAAAAAAAAAAAAAAQ0AAAAAAAAAAAAAAAAAAAAAAAAAAAAAAQ0AAAAAAAAAAAAAAAAAAAAAAAAAAAAAAIEAAAAAAAAAAAAAAAAAAAAAAAAAAAAAAAAAAAAAAAAAoQAAAAAAAAAAAAAAAAAAAAAAAAAAAAAA0QAAAAAAAAAAAAAAAAAAAAAAAAAAAAAAAAAAAAAAAAAAAAAAAAAAAAAAAAAAAAAAAAAAAAAAAAAAAAAAAAAAAAAA=",
          "dtype": "f8"
         }
        }
       ],
       "layout": {
        "annotations": [
         {
          "font": {
           "size": 12
          },
          "showarrow": false,
          "text": "Max 100 points per minigame. Records #1 through #10 of games & maps in the active pool are considered (#1: 100, #2: 90, ..., #10: 10). If a minigame has multiple maps, the 100 points are distributed equally. fflopse.github.io/MCP-Records/data-analysis/global-ranking.ipynb",
          "x": 0.5,
          "xanchor": "center",
          "xref": "paper",
          "y": 1.1635,
          "yref": "paper"
         }
        ],
        "barmode": "stack",
        "legend": {
         "bgcolor": "rgba(255, 255, 255, 0)",
         "bordercolor": "rgba(0, 0, 0, 0)",
         "font": {
          "size": 12
         },
         "traceorder": "normal",
         "x": 1.05,
         "y": 0.5
        },
        "margin": {
         "r": 200
        },
        "template": {
         "data": {
          "bar": [
           {
            "error_x": {
             "color": "#2a3f5f"
            },
            "error_y": {
             "color": "#2a3f5f"
            },
            "marker": {
             "line": {
              "color": "#E5ECF6",
              "width": 0.5
             },
             "pattern": {
              "fillmode": "overlay",
              "size": 10,
              "solidity": 0.2
             }
            },
            "type": "bar"
           }
          ],
          "barpolar": [
           {
            "marker": {
             "line": {
              "color": "#E5ECF6",
              "width": 0.5
             },
             "pattern": {
              "fillmode": "overlay",
              "size": 10,
              "solidity": 0.2
             }
            },
            "type": "barpolar"
           }
          ],
          "carpet": [
           {
            "aaxis": {
             "endlinecolor": "#2a3f5f",
             "gridcolor": "white",
             "linecolor": "white",
             "minorgridcolor": "white",
             "startlinecolor": "#2a3f5f"
            },
            "baxis": {
             "endlinecolor": "#2a3f5f",
             "gridcolor": "white",
             "linecolor": "white",
             "minorgridcolor": "white",
             "startlinecolor": "#2a3f5f"
            },
            "type": "carpet"
           }
          ],
          "choropleth": [
           {
            "colorbar": {
             "outlinewidth": 0,
             "ticks": ""
            },
            "type": "choropleth"
           }
          ],
          "contour": [
           {
            "colorbar": {
             "outlinewidth": 0,
             "ticks": ""
            },
            "colorscale": [
             [
              0,
              "#0d0887"
             ],
             [
              0.1111111111111111,
              "#46039f"
             ],
             [
              0.2222222222222222,
              "#7201a8"
             ],
             [
              0.3333333333333333,
              "#9c179e"
             ],
             [
              0.4444444444444444,
              "#bd3786"
             ],
             [
              0.5555555555555556,
              "#d8576b"
             ],
             [
              0.6666666666666666,
              "#ed7953"
             ],
             [
              0.7777777777777778,
              "#fb9f3a"
             ],
             [
              0.8888888888888888,
              "#fdca26"
             ],
             [
              1,
              "#f0f921"
             ]
            ],
            "type": "contour"
           }
          ],
          "contourcarpet": [
           {
            "colorbar": {
             "outlinewidth": 0,
             "ticks": ""
            },
            "type": "contourcarpet"
           }
          ],
          "heatmap": [
           {
            "colorbar": {
             "outlinewidth": 0,
             "ticks": ""
            },
            "colorscale": [
             [
              0,
              "#0d0887"
             ],
             [
              0.1111111111111111,
              "#46039f"
             ],
             [
              0.2222222222222222,
              "#7201a8"
             ],
             [
              0.3333333333333333,
              "#9c179e"
             ],
             [
              0.4444444444444444,
              "#bd3786"
             ],
             [
              0.5555555555555556,
              "#d8576b"
             ],
             [
              0.6666666666666666,
              "#ed7953"
             ],
             [
              0.7777777777777778,
              "#fb9f3a"
             ],
             [
              0.8888888888888888,
              "#fdca26"
             ],
             [
              1,
              "#f0f921"
             ]
            ],
            "type": "heatmap"
           }
          ],
          "histogram": [
           {
            "marker": {
             "pattern": {
              "fillmode": "overlay",
              "size": 10,
              "solidity": 0.2
             }
            },
            "type": "histogram"
           }
          ],
          "histogram2d": [
           {
            "colorbar": {
             "outlinewidth": 0,
             "ticks": ""
            },
            "colorscale": [
             [
              0,
              "#0d0887"
             ],
             [
              0.1111111111111111,
              "#46039f"
             ],
             [
              0.2222222222222222,
              "#7201a8"
             ],
             [
              0.3333333333333333,
              "#9c179e"
             ],
             [
              0.4444444444444444,
              "#bd3786"
             ],
             [
              0.5555555555555556,
              "#d8576b"
             ],
             [
              0.6666666666666666,
              "#ed7953"
             ],
             [
              0.7777777777777778,
              "#fb9f3a"
             ],
             [
              0.8888888888888888,
              "#fdca26"
             ],
             [
              1,
              "#f0f921"
             ]
            ],
            "type": "histogram2d"
           }
          ],
          "histogram2dcontour": [
           {
            "colorbar": {
             "outlinewidth": 0,
             "ticks": ""
            },
            "colorscale": [
             [
              0,
              "#0d0887"
             ],
             [
              0.1111111111111111,
              "#46039f"
             ],
             [
              0.2222222222222222,
              "#7201a8"
             ],
             [
              0.3333333333333333,
              "#9c179e"
             ],
             [
              0.4444444444444444,
              "#bd3786"
             ],
             [
              0.5555555555555556,
              "#d8576b"
             ],
             [
              0.6666666666666666,
              "#ed7953"
             ],
             [
              0.7777777777777778,
              "#fb9f3a"
             ],
             [
              0.8888888888888888,
              "#fdca26"
             ],
             [
              1,
              "#f0f921"
             ]
            ],
            "type": "histogram2dcontour"
           }
          ],
          "mesh3d": [
           {
            "colorbar": {
             "outlinewidth": 0,
             "ticks": ""
            },
            "type": "mesh3d"
           }
          ],
          "parcoords": [
           {
            "line": {
             "colorbar": {
              "outlinewidth": 0,
              "ticks": ""
             }
            },
            "type": "parcoords"
           }
          ],
          "pie": [
           {
            "automargin": true,
            "type": "pie"
           }
          ],
          "scatter": [
           {
            "fillpattern": {
             "fillmode": "overlay",
             "size": 10,
             "solidity": 0.2
            },
            "type": "scatter"
           }
          ],
          "scatter3d": [
           {
            "line": {
             "colorbar": {
              "outlinewidth": 0,
              "ticks": ""
             }
            },
            "marker": {
             "colorbar": {
              "outlinewidth": 0,
              "ticks": ""
             }
            },
            "type": "scatter3d"
           }
          ],
          "scattercarpet": [
           {
            "marker": {
             "colorbar": {
              "outlinewidth": 0,
              "ticks": ""
             }
            },
            "type": "scattercarpet"
           }
          ],
          "scattergeo": [
           {
            "marker": {
             "colorbar": {
              "outlinewidth": 0,
              "ticks": ""
             }
            },
            "type": "scattergeo"
           }
          ],
          "scattergl": [
           {
            "marker": {
             "colorbar": {
              "outlinewidth": 0,
              "ticks": ""
             }
            },
            "type": "scattergl"
           }
          ],
          "scattermap": [
           {
            "marker": {
             "colorbar": {
              "outlinewidth": 0,
              "ticks": ""
             }
            },
            "type": "scattermap"
           }
          ],
          "scattermapbox": [
           {
            "marker": {
             "colorbar": {
              "outlinewidth": 0,
              "ticks": ""
             }
            },
            "type": "scattermapbox"
           }
          ],
          "scatterpolar": [
           {
            "marker": {
             "colorbar": {
              "outlinewidth": 0,
              "ticks": ""
             }
            },
            "type": "scatterpolar"
           }
          ],
          "scatterpolargl": [
           {
            "marker": {
             "colorbar": {
              "outlinewidth": 0,
              "ticks": ""
             }
            },
            "type": "scatterpolargl"
           }
          ],
          "scatterternary": [
           {
            "marker": {
             "colorbar": {
              "outlinewidth": 0,
              "ticks": ""
             }
            },
            "type": "scatterternary"
           }
          ],
          "surface": [
           {
            "colorbar": {
             "outlinewidth": 0,
             "ticks": ""
            },
            "colorscale": [
             [
              0,
              "#0d0887"
             ],
             [
              0.1111111111111111,
              "#46039f"
             ],
             [
              0.2222222222222222,
              "#7201a8"
             ],
             [
              0.3333333333333333,
              "#9c179e"
             ],
             [
              0.4444444444444444,
              "#bd3786"
             ],
             [
              0.5555555555555556,
              "#d8576b"
             ],
             [
              0.6666666666666666,
              "#ed7953"
             ],
             [
              0.7777777777777778,
              "#fb9f3a"
             ],
             [
              0.8888888888888888,
              "#fdca26"
             ],
             [
              1,
              "#f0f921"
             ]
            ],
            "type": "surface"
           }
          ],
          "table": [
           {
            "cells": {
             "fill": {
              "color": "#EBF0F8"
             },
             "line": {
              "color": "white"
             }
            },
            "header": {
             "fill": {
              "color": "#C8D4E3"
             },
             "line": {
              "color": "white"
             }
            },
            "type": "table"
           }
          ]
         },
         "layout": {
          "annotationdefaults": {
           "arrowcolor": "#2a3f5f",
           "arrowhead": 0,
           "arrowwidth": 1
          },
          "autotypenumbers": "strict",
          "coloraxis": {
           "colorbar": {
            "outlinewidth": 0,
            "ticks": ""
           }
          },
          "colorscale": {
           "diverging": [
            [
             0,
             "#8e0152"
            ],
            [
             0.1,
             "#c51b7d"
            ],
            [
             0.2,
             "#de77ae"
            ],
            [
             0.3,
             "#f1b6da"
            ],
            [
             0.4,
             "#fde0ef"
            ],
            [
             0.5,
             "#f7f7f7"
            ],
            [
             0.6,
             "#e6f5d0"
            ],
            [
             0.7,
             "#b8e186"
            ],
            [
             0.8,
             "#7fbc41"
            ],
            [
             0.9,
             "#4d9221"
            ],
            [
             1,
             "#276419"
            ]
           ],
           "sequential": [
            [
             0,
             "#0d0887"
            ],
            [
             0.1111111111111111,
             "#46039f"
            ],
            [
             0.2222222222222222,
             "#7201a8"
            ],
            [
             0.3333333333333333,
             "#9c179e"
            ],
            [
             0.4444444444444444,
             "#bd3786"
            ],
            [
             0.5555555555555556,
             "#d8576b"
            ],
            [
             0.6666666666666666,
             "#ed7953"
            ],
            [
             0.7777777777777778,
             "#fb9f3a"
            ],
            [
             0.8888888888888888,
             "#fdca26"
            ],
            [
             1,
             "#f0f921"
            ]
           ],
           "sequentialminus": [
            [
             0,
             "#0d0887"
            ],
            [
             0.1111111111111111,
             "#46039f"
            ],
            [
             0.2222222222222222,
             "#7201a8"
            ],
            [
             0.3333333333333333,
             "#9c179e"
            ],
            [
             0.4444444444444444,
             "#bd3786"
            ],
            [
             0.5555555555555556,
             "#d8576b"
            ],
            [
             0.6666666666666666,
             "#ed7953"
            ],
            [
             0.7777777777777778,
             "#fb9f3a"
            ],
            [
             0.8888888888888888,
             "#fdca26"
            ],
            [
             1,
             "#f0f921"
            ]
           ]
          },
          "colorway": [
           "#636efa",
           "#EF553B",
           "#00cc96",
           "#ab63fa",
           "#FFA15A",
           "#19d3f3",
           "#FF6692",
           "#B6E880",
           "#FF97FF",
           "#FECB52"
          ],
          "font": {
           "color": "#2a3f5f"
          },
          "geo": {
           "bgcolor": "white",
           "lakecolor": "white",
           "landcolor": "#E5ECF6",
           "showlakes": true,
           "showland": true,
           "subunitcolor": "white"
          },
          "hoverlabel": {
           "align": "left"
          },
          "hovermode": "closest",
          "mapbox": {
           "style": "light"
          },
          "paper_bgcolor": "white",
          "plot_bgcolor": "#E5ECF6",
          "polar": {
           "angularaxis": {
            "gridcolor": "white",
            "linecolor": "white",
            "ticks": ""
           },
           "bgcolor": "#E5ECF6",
           "radialaxis": {
            "gridcolor": "white",
            "linecolor": "white",
            "ticks": ""
           }
          },
          "scene": {
           "xaxis": {
            "backgroundcolor": "#E5ECF6",
            "gridcolor": "white",
            "gridwidth": 2,
            "linecolor": "white",
            "showbackground": true,
            "ticks": "",
            "zerolinecolor": "white"
           },
           "yaxis": {
            "backgroundcolor": "#E5ECF6",
            "gridcolor": "white",
            "gridwidth": 2,
            "linecolor": "white",
            "showbackground": true,
            "ticks": "",
            "zerolinecolor": "white"
           },
           "zaxis": {
            "backgroundcolor": "#E5ECF6",
            "gridcolor": "white",
            "gridwidth": 2,
            "linecolor": "white",
            "showbackground": true,
            "ticks": "",
            "zerolinecolor": "white"
           }
          },
          "shapedefaults": {
           "line": {
            "color": "#2a3f5f"
           }
          },
          "ternary": {
           "aaxis": {
            "gridcolor": "white",
            "linecolor": "white",
            "ticks": ""
           },
           "baxis": {
            "gridcolor": "white",
            "linecolor": "white",
            "ticks": ""
           },
           "bgcolor": "#E5ECF6",
           "caxis": {
            "gridcolor": "white",
            "linecolor": "white",
            "ticks": ""
           }
          },
          "title": {
           "x": 0.05
          },
          "xaxis": {
           "automargin": true,
           "gridcolor": "white",
           "linecolor": "white",
           "ticks": "",
           "title": {
            "standoff": 15
           },
           "zerolinecolor": "white",
           "zerolinewidth": 2
          },
          "yaxis": {
           "automargin": true,
           "gridcolor": "white",
           "linecolor": "white",
           "ticks": "",
           "title": {
            "standoff": 15
           },
           "zerolinecolor": "white",
           "zerolinewidth": 2
          }
         }
        },
        "title": {
         "text": "Extended Overall Record Comparison - Top 40 Players"
        },
        "xaxis": {
         "title": {
          "text": "Player"
         }
        },
        "yaxis": {
         "title": {
          "text": "Points"
         }
        }
       }
      }
     },
     "metadata": {},
     "output_type": "display_data"
    }
   ],
   "source": [
    "import plotly.graph_objects as go\n",
    "\n",
    "# Sum all columns to get the total score\n",
    "outDf['Total'] = outDf.sum(axis=1)\n",
    "\n",
    "# Sort by total score and fill N/A values with 0\n",
    "outDf = outDf.sort_values(by='Total', ascending=False).fillna(0)\n",
    "\n",
    "# Crop to top 10 players\n",
    "cropDf = outDf.head(40).copy()\n",
    "\n",
    "# Drop the 'Total' column for plotting\n",
    "cropDf = cropDf.drop(columns=['Total'])\n",
    "\n",
    "# Create a color palette\n",
    "color_palette = px.colors.qualitative.Safe\n",
    "\n",
    "# Create the stacked bar plot\n",
    "fig = go.Figure()\n",
    "\n",
    "cropDf = remove_duplicate_columns(cropDf)\n",
    "\n",
    "for column in cropDf.columns.difference(['Player']):\n",
    "    fig.add_trace(go.Bar(\n",
    "        x=cropDf.index,\n",
    "        y=cropDf[column],\n",
    "        name=column,\n",
    "        marker_color=color_palette[len(fig.data) % len(color_palette)]\n",
    "    ))\n",
    "\n",
    "# Update layout\n",
    "fig.update_layout(\n",
    "    barmode='stack',\n",
    "    title='Extended Overall Record Comparison - Top 40 Players',\n",
    "    xaxis=dict(title='Player'),\n",
    "    yaxis=dict(title='Points'),\n",
    "    #height=800,\n",
    "    #width=1000,\n",
    "    legend=dict(\n",
    "        x=1.05,\n",
    "        y=0.5,\n",
    "        traceorder='normal',\n",
    "        font=dict(size=12),\n",
    "        bgcolor='rgba(255, 255, 255, 0)',\n",
    "        bordercolor='rgba(0, 0, 0, 0)'\n",
    "    ),\n",
    "    margin=dict(r=200),  # Adjust right margin to make room for the legend\n",
    "    annotations=[\n",
    "        dict(\n",
    "            x=0.5,\n",
    "            y=1.1635,\n",
    "            xref='paper',\n",
    "            yref='paper',\n",
    "            text='Max 100 points per minigame. Records #1 through #10 of games & maps in the active pool are considered (#1: 100, #2: 90, ..., #10: 10). If a minigame has multiple maps, the 100 points are distributed equally. fflopse.github.io/MCP-Records/data-analysis/global-ranking.ipynb',\n",
    "            showarrow=False,\n",
    "            font=dict(size=12),\n",
    "            xanchor='center'\n",
    "        )\n",
    "    ]\n",
    ")\n",
    "\n",
    "fig.show()\n",
    "\n",
    "# save the plot as an html file\n",
    "\n",
    "fig.write_html('out/ext_overall_record_comparison.html')"
   ]
  },
  {
   "cell_type": "code",
   "execution_count": 16,
   "metadata": {},
   "outputs": [
    {
     "data": {
      "application/vnd.plotly.v1+json": {
       "config": {
        "plotlyServerURL": "https://plot.ly"
       },
       "data": [
        {
         "marker": {
          "color": "rgb(136, 204, 238)"
         },
         "name": "Sammelwahn",
         "type": "bar",
         "x": [
          0,
          1,
          2,
          3,
          4,
          5,
          6,
          7,
          8,
          9,
          10,
          11,
          12,
          13,
          14,
          15,
          16,
          17,
          18,
          19,
          20,
          21,
          22,
          23,
          24,
          25,
          26,
          27,
          28,
          29,
          30,
          31,
          32,
          33,
          34,
          35,
          36,
          37,
          38,
          39,
          40,
          41,
          42,
          43,
          44,
          45,
          46,
          47,
          48,
          49,
          50,
          51,
          52,
          53,
          54,
          55,
          56,
          57,
          58,
          59,
          60,
          61,
          62,
          63,
          64,
          65,
          66,
          67,
          68,
          69,
          70,
          71,
          72,
          73,
          74,
          75,
          76,
          77,
          78,
          79,
          80,
          81,
          82,
          83,
          84,
          85,
          86,
          87,
          88,
          89,
          90,
          91,
          92,
          93,
          94,
          95,
          96,
          97,
          98,
          99
         ],
         "y": {
          "bdata": "iTvijrgjMkBxR9wRd8RDQOKOuCPuiBNATVlT1pQ1IUAecUfcEXckQOKOuCPuiDNAR9wRd8QdGUA84o64I+40QGvKmrKmrDFAj7gj7og7LkAw6Av6gr4AQBJ3xB1xRyBAxB1xR9wRI0CnrClrypoSQNAX9AV9QRdAa8qasqasEUDEHXFH3BEjQGvKmrKmrBFAp6wpa8qaAkBxR9wRd8TdP6esKWvKmvI/a8qasqasEUCVNWVNWVP2P5U1ZU1ZU/Y/lTVlTVlTFkA2ZU1ZU9YcQHFH3BF3xB1AcUfcEXfE3T/oC/qCvqAPQAAAAAAAAAAAlTVlTVlTBkCDvqAv6Av6P3FH3BF3xN0/4o64I+6IE0AAAAAAAAAAAAAAAAAAAAAAlTVlTVlTBkCnrClrypoCQHFH3BF3xP0/AAAAAAAAAACnrClrypryP6esKWvKmiJAcUfcEXfEDUAAAAAAAAAAADDoC/qCvhBAMOgL+oK+AEAAAAAAAAAAAAAAAAAAAAAA0Bf0BX1BF0AAAAAAAAAAAIO+oC/oC/o/cUfcEXfE/T/ijrgj7ogTQDDoC/qCvgBAcUfcEXfE3T9xR9wRd8QNQHFH3BF3xN0/HnFH3BF3BEAAAAAAAAAAAKesKWvKmgJAHnFH3BF3BEBxR9wRd8QNQPqCvqAv6BtAAAAAAAAAAABxR9wRd8T9P/qCvqAv6AtAlTVlTVlT9j+VNWVNWVP2P3FH3BF3xN0/AAAAAAAAAAAw6Av6gr4AQIO+oC/oC/o/lTVlTVlTBkCVNWVNWVP2P9AX9AV9QSdAAAAAAAAAAAAecUfcEXcEQAAAAAAAAAAAcUfcEXfE7T+VNWVNWVP2PwAAAAAAAAAAAAAAAAAAAAAAAAAAAAAAAHFH3BF3xN0/AAAAAAAAAAAAAAAAAAAAAKesKWvKmhJAAAAAAAAAAACVNWVNWVP2PzDoC/qCvgBAAAAAAAAAAAAAAAAAAAAAAHFH3BF3xO0/AAAAAAAAAAAAAAAAAAAAAAAAAAAAAAAAAAAAAAAAAACPuCPuiDs0QAAAAAAAAAAAAAAAAAAAAAA=",
          "dtype": "f8"
         }
        },
        {
         "marker": {
          "color": "rgb(204, 102, 119)"
         },
         "name": "Schießstand",
         "type": "bar",
         "x": [
          0,
          1,
          2,
          3,
          4,
          5,
          6,
          7,
          8,
          9,
          10,
          11,
          12,
          13,
          14,
          15,
          16,
          17,
          18,
          19,
          20,
          21,
          22,
          23,
          24,
          25,
          26,
          27,
          28,
          29,
          30,
          31,
          32,
          33,
          34,
          35,
          36,
          37,
          38,
          39,
          40,
          41,
          42,
          43,
          44,
          45,
          46,
          47,
          48,
          49,
          50,
          51,
          52,
          53,
          54,
          55,
          56,
          57,
          58,
          59,
          60,
          61,
          62,
          63,
          64,
          65,
          66,
          67,
          68,
          69,
          70,
          71,
          72,
          73,
          74,
          75,
          76,
          77,
          78,
          79,
          80,
          81,
          82,
          83,
          84,
          85,
          86,
          87,
          88,
          89,
          90,
          91,
          92,
          93,
          94,
          95,
          96,
          97,
          98,
          99
         ],
         "y": {
          "bdata": "AAAAAAAAJEAAAAAAAABOQAAAAAAAACRAAAAAAAAANEAAAAAAAABOQAAAAAAAABRAAAAAAADAQkAAAAAAAAAUQAAAAAAAQE9AAAAAAACAMUAAAAAAAAAAAAAAAAAAADlAAAAAAAAAAAAAAAAAAAAAAAAAAAAAAAAAAAAAAAAAREAAAAAAAAAAAAAAAAAAgDZAAAAAAAAAAAAAAAAAAMBHQAAAAAAAAB5AAAAAAAAAAAAAAAAAAAAAAAAAAAAAAAAAAAAAAAAAAAAAAAAAAAAAAAAAAAAAAC5AAAAAAAAAAAAAAAAAAAAAAAAAAAAAAAAAAAAAAAAAAAAAAAAAAAApQAAAAAAAADlAAAAAAAAAAAAAAAAAAAAAAAAAAAAAAAAAAAAAAAAALkAAAAAAAAAAAAAAAAAAAC5AAAAAAAAAAAAAAAAAAAAAAAAAAAAAAAAAAAAAAAAAAAAAAAAAAAAAAAAAAAAAAAAAAAAAAAAAAAAAAAAAAAAAAAAAAAAAAAAAAAAAAAAAAAAAAAAAAAAAAAAAAAAAAAAAAAAAAAAAAAAAAAAAAAAAAAAAAAAAAAAAAAAAAAAAAAAAAAAAAAAAAAAAAAAAAAAAAAAAAAAAAAAAAAAAAAAAAAAAAAAAAAAAAAAAAAAAAAAAAAAAAAAAAAAAAAAAAAAAAAAAAAAAAAAAAAAAAAAAAAAAAAAAAAAAAAAAAAAAAAAAAAAAAAAAAAAAAAAAAAAAAAAAAAAAAAAAAAAAAAAkQAAAAAAAADRAAAAAAAAAAAAAAAAAAAAAAAAAAAAAAAAAAAAAAAAAAAAAAAAAAAAAAAAAAAAAAAAAAAAAAAAAAAAAAAAAAAAAAAAAAAAAAAAAAAAAAAAAAAAAAAAAAAAAAAAAAAAAAAAAAAAAAAAAAAAAAAAAAAAAAAAAAAAAABRAAAAAAAAAAAAAAAAAAAAAAAAAAAAAAAAAAAAAAAAAAAAAAAAAAAAAAAAAAAAAAAAAAAAAAAAAAAAAAAAAAAAAAAAAAAAAAAAAAAAAAAAAAAAAAAAAAAAAAAAAAAAAAAAAAAAAAAAAAAA=",
          "dtype": "f8"
         }
        },
        {
         "marker": {
          "color": "rgb(221, 204, 119)"
         },
         "name": "Mauerfall",
         "type": "bar",
         "x": [
          0,
          1,
          2,
          3,
          4,
          5,
          6,
          7,
          8,
          9,
          10,
          11,
          12,
          13,
          14,
          15,
          16,
          17,
          18,
          19,
          20,
          21,
          22,
          23,
          24,
          25,
          26,
          27,
          28,
          29,
          30,
          31,
          32,
          33,
          34,
          35,
          36,
          37,
          38,
          39,
          40,
          41,
          42,
          43,
          44,
          45,
          46,
          47,
          48,
          49,
          50,
          51,
          52,
          53,
          54,
          55,
          56,
          57,
          58,
          59,
          60,
          61,
          62,
          63,
          64,
          65,
          66,
          67,
          68,
          69,
          70,
          71,
          72,
          73,
          74,
          75,
          76,
          77,
          78,
          79,
          80,
          81,
          82,
          83,
          84,
          85,
          86,
          87,
          88,
          89,
          90,
          91,
          92,
          93,
          94,
          95,
          96,
          97,
          98,
          99
         ],
         "y": {
          "bdata": "AAAAAAAAPkCrqqqqqqpVQAAAAAAAAAAAVVVVVVVVTECrqqqqqqpQQKuqqqqqqkBAAAAAAAAAAAAAAAAAAABEQAAAAAAAAAAAAAAAAAAAPkAAAAAAAAAAAKuqqqqqqkBAq6qqqqqqKkBVVVVVVVVHQKuqqqqqqipAAAAAAAAAAACrqqqqqqpAQAAAAAAAAAAAAAAAAAAAAAAAAAAAAAA+QAAAAAAAAAAAAAAAAAAAAACrqqqqqqoqQKuqqqqqqk9AAAAAAAAAAAAAAAAAAAAAAAAAAAAAAAAAAAAAAAAAAAAAAAAAAAAAAAAAAAAAAAAAAAAAAAAAPkAAAAAAAAAAAAAAAAAAAAAAAAAAAAAAPkCrqqqqqqpAQAAAAAAAAAAAAAAAAAAAAAAAAAAAAAAAAKuqqqqqqhpAAAAAAAAAAAAAAAAAAABEQAAAAAAAAAAAAAAAAAAAAAAAAAAAAAAAAKuqqqqqqkBAAAAAAAAAAAAAAAAAAAAAAAAAAAAAAAAAAAAAAAAAAAAAAAAAAAAAAAAAAAAAAAAAAAAAAAAAAAAAAAAAAAAAAKuqqqqqqkBAAAAAAAAAAAAAAAAAAAAAAAAAAAAAAAAAAAAAAAAAAAAAAAAAAAAAAAAAAAAAAAAAAAAAAAAAAAAAAAAAAAAAAAAAAAAAAAAAAAAAAAAAAAAAAAAAAAAAAAAAAAAAAAAAAAAAAAAAAAAAAAAAAAAAAAAAAAAAAAAAAAAAAAAAAACrqqqqqqoaQAAAAAAAAAAAAAAAAAAAAAAAAAAAAAAAAAAAAAAAAAAAAAAAAAAAAAAAAAAAAAAAAKuqqqqqqhpAAAAAAAAAAAAAAAAAAAAAAAAAAAAAAAAAAAAAAAAAAACrqqqqqqoaQAAAAAAAAAAAq6qqqqqqGkAAAAAAAAAAAAAAAAAAAAAAq6qqqqqqKkAAAAAAAAAAAFVVVVVVVTdAAAAAAAAAAAAAAAAAAAAAAAAAAAAAAAAAAAAAAAAAAAAAAAAAAAAAAAAAAAAAAAAAAAAAAAAAAAAAAAAAAAAAAAAAAAAAAAAAAAAAAAAAAAA=",
          "dtype": "f8"
         }
        },
        {
         "marker": {
          "color": "rgb(17, 119, 51)"
         },
         "name": "Survivalgames",
         "type": "bar",
         "x": [
          0,
          1,
          2,
          3,
          4,
          5,
          6,
          7,
          8,
          9,
          10,
          11,
          12,
          13,
          14,
          15,
          16,
          17,
          18,
          19,
          20,
          21,
          22,
          23,
          24,
          25,
          26,
          27,
          28,
          29,
          30,
          31,
          32,
          33,
          34,
          35,
          36,
          37,
          38,
          39,
          40,
          41,
          42,
          43,
          44,
          45,
          46,
          47,
          48,
          49,
          50,
          51,
          52,
          53,
          54,
          55,
          56,
          57,
          58,
          59,
          60,
          61,
          62,
          63,
          64,
          65,
          66,
          67,
          68,
          69,
          70,
          71,
          72,
          73,
          74,
          75,
          76,
          77,
          78,
          79,
          80,
          81,
          82,
          83,
          84,
          85,
          86,
          87,
          88,
          89,
          90,
          91,
          92,
          93,
          94,
          95,
          96,
          97,
          98,
          99
         ],
         "y": {
          "bdata": "AAAAAAAASUAAAAAAAEBAQAAAAAAAgEZAAAAAAACAUUAAAAAAAAAAAAAAAAAAABRAAAAAAACANkAAAAAAAABJQAAAAAAAAAAAAAAAAAAAHkAAAAAAAIA2QAAAAAAAABRAAAAAAAAAPkAAAAAAAAAAAAAAAAAAAAAAAAAAAABAQEAAAAAAAAAAAAAAAAAAAAAAAAAAAACAO0AAAAAAAAAUQAAAAAAAQEVAAAAAAAAAPkAAAAAAAAAUQAAAAAAAABRAAAAAAAAAAAAAAAAAAAAeQAAAAAAAAAAAAAAAAAAAAAAAAAAAAMBHQAAAAAAAADRAAAAAAAAAAAAAAAAAAAAAAAAAAAAAAAAAAAAAAAAANEAAAAAAAAAAAAAAAAAAADRAAAAAAAAAAAAAAAAAAAA5QAAAAAAAABRAAAAAAAAAAAAAAAAAAIA7QAAAAAAAAAAAAAAAAAAAFEAAAAAAAAAAAAAAAAAAgDtAAAAAAAAAHkAAAAAAAAAAAAAAAAAAAAAAAAAAAAAAFEAAAAAAAAAAAAAAAAAAABRAAAAAAACANkAAAAAAAAAAAAAAAAAAAAAAAAAAAAAAFEAAAAAAAAAAAAAAAAAAAAAAAAAAAAAAAAAAAAAAAAAAAAAAAAAAAAAAAAAAAAAAAAAAAAAAAAAAAAAAAAAAAAAAAAAAAAAAAAAAAAAAAIA2QAAAAAAAAAAAAAAAAAAAAAAAAAAAAAAAAAAAAAAAAAAAAAAAAAAAAAAAAAAAAAAUQAAAAAAAAAAAAAAAAAAAAAAAAAAAAIA2QAAAAAAAAAAAAAAAAAAAAAAAAAAAAAAAAAAAAAAAAAAAAAAAAAAAFEAAAAAAAAAeQAAAAAAAABRAAAAAAAAAAAAAAAAAAAAUQAAAAAAAAAAAAAAAAAAAAAAAAAAAAAAAAAAAAAAAAAAAAAAAAAAAAAAAAAAAAAAAAAAAAAAAAAAAAAAAAAAAAAAAAAAAAAA5QAAAAAAAAAAAAAAAAAAAAAAAAAAAAAAAAAAAAAAAgDZAAAAAAAAAAAAAAAAAAAAAAAAAAAAAAAAAAAAAAAAANEA=",
          "dtype": "f8"
         }
        },
        {
         "marker": {
          "color": "rgb(51, 34, 136)"
         },
         "name": "Skywars",
         "type": "bar",
         "x": [
          0,
          1,
          2,
          3,
          4,
          5,
          6,
          7,
          8,
          9,
          10,
          11,
          12,
          13,
          14,
          15,
          16,
          17,
          18,
          19,
          20,
          21,
          22,
          23,
          24,
          25,
          26,
          27,
          28,
          29,
          30,
          31,
          32,
          33,
          34,
          35,
          36,
          37,
          38,
          39,
          40,
          41,
          42,
          43,
          44,
          45,
          46,
          47,
          48,
          49,
          50,
          51,
          52,
          53,
          54,
          55,
          56,
          57,
          58,
          59,
          60,
          61,
          62,
          63,
          64,
          65,
          66,
          67,
          68,
          69,
          70,
          71,
          72,
          73,
          74,
          75,
          76,
          77,
          78,
          79,
          80,
          81,
          82,
          83,
          84,
          85,
          86,
          87,
          88,
          89,
          90,
          91,
          92,
          93,
          94,
          95,
          96,
          97,
          98,
          99
         ],
         "y": {
          "bdata": "VVVVVVVVMkBVVVVVVVVSQKuqqqqqqipAq6qqqqqqP0CrqqqqqqoqQFVVVVVVVTdAq6qqqqqqP0CrqqqqqqpAQKuqqqqqqgpAAAAAAACAS0CrqqqqqqowQAAAAAAAAAAAAAAAAAAAOUCrqqqqqqoqQAAAAAAAACRAAAAAAAAAAAAAAAAAAAAAAAAAAAAAADRAAAAAAAAAJECrqqqqqqpAQAAAAAAAADRAq6qqqqqqCkAAAAAAAAAAAKuqqqqqqjpAAAAAAAAAAABVVVVVVVU8QKuqqqqqqhpAAAAAAAAAAABVVVVVVVUnQFVVVVVVVTxAq6qqqqqqMEAAAAAAAAAAAKuqqqqqqgpAVVVVVVVVN0AAAAAAAAAAAKuqqqqqqjVAAAAAAAAAAAAAAAAAAAAAAAAAAAAAAAAAAAAAAAAAAACrqqqqqqowQAAAAAAAAAAAq6qqqqqqGkCrqqqqqqoaQAAAAAAAAAAAq6qqqqqqOkAAAAAAAAAAAAAAAAAAAAAAAAAAAAAAAAAAAAAAAAAAAAAAAAAAAAAAAAAAAAAAAAAAAAAAAAAAAAAAAAAAAAAAAAAAAAAAAAAAAAAAAAAAAAAAAAAAAAAAq6qqqqqqMEAAAAAAAAAAAAAAAAAAAAAAAAAAAAAAAAAAAAAAAAAAAAAAAAAAAAAAq6qqqqqqMEAAAAAAAAAAAAAAAAAAAAAAAAAAAAAAAAAAAAAAAAAAAAAAAAAAAAAAAAAAAAAAAAAAAAAAAAAAAKuqqqqqqipAq6qqqqqqMECrqqqqqqowQKuqqqqqqgpAq6qqqqqqGkCrqqqqqqowQFVVVVVVVSdAq6qqqqqqGkAAAAAAAAAAAKuqqqqqqjBAAAAAAAAAAABVVVVVVVUyQAAAAAAAAAAAAAAAAAAAAACrqqqqqqo6QAAAAAAAAAAAq6qqqqqqGkCrqqqqqqowQAAAAAAAAAAAAAAAAAAAAAAAAAAAAAAAAAAAAAAAAAAAq6qqqqqqCkBVVVVVVVU3QAAAAAAAAAAAVVVVVVVVJ0AAAAAAAAAAAAAAAAAAAAAAAAAAAAAAAAA=",
          "dtype": "f8"
         }
        },
        {
         "marker": {
          "color": "rgb(170, 68, 153)"
         },
         "name": "Lasertag",
         "type": "bar",
         "x": [
          0,
          1,
          2,
          3,
          4,
          5,
          6,
          7,
          8,
          9,
          10,
          11,
          12,
          13,
          14,
          15,
          16,
          17,
          18,
          19,
          20,
          21,
          22,
          23,
          24,
          25,
          26,
          27,
          28,
          29,
          30,
          31,
          32,
          33,
          34,
          35,
          36,
          37,
          38,
          39,
          40,
          41,
          42,
          43,
          44,
          45,
          46,
          47,
          48,
          49,
          50,
          51,
          52,
          53,
          54,
          55,
          56,
          57,
          58,
          59,
          60,
          61,
          62,
          63,
          64,
          65,
          66,
          67,
          68,
          69,
          70,
          71,
          72,
          73,
          74,
          75,
          76,
          77,
          78,
          79,
          80,
          81,
          82,
          83,
          84,
          85,
          86,
          87,
          88,
          89,
          90,
          91,
          92,
          93,
          94,
          95,
          96,
          97,
          98,
          99
         ],
         "y": {
          "bdata": "AAAAAAAAAAAAAAAAAAAuQAAAAAAAAAAAAAAAAAAAOUAAAAAAAABOQAAAAAAAAC5AAAAAAAAAOUAAAAAAAAAAAAAAAAAAgDZAAAAAAAAAJEAAAAAAAAAeQAAAAAAAAE5AAAAAAAAAOUAAAAAAAIAxQAAAAAAAAAAAAAAAAAAAAAAAAAAAAAAuQAAAAAAAAAAAAAAAAAAAAAAAAAAAAIA7QAAAAAAAAAAAAAAAAAAAFEAAAAAAAAAAAAAAAAAAAAAAAAAAAAAAAAAAAAAAAAAAAAAAAAAAAAAAAAAAAAAANEAAAAAAAAAAAAAAAAAAgDFAAAAAAAAAAAAAAAAAAAAAAAAAAAAAAAAAAAAAAAAAAAAAAAAAAAAAAAAAAAAAAAAAAAAAAAAAAAAAAAAAAAAAAAAAAAAAAAAAAAAAAAAAAAAAAAAAAAAAAAAAAAAAAAAAAAAAAAAAAAAAAAAAAAAAAAAAAAAAAAAAAAAAAACANkAAAAAAAAAAAAAAAAAAAAAAAAAAAAAAAAAAAAAAAAAAAAAAAAAAAAAAAAAAAAAAAAAAAAAAAEBAQAAAAAAAAAAAAAAAAAAALkAAAAAAAAAAAAAAAAAAAAAAAAAAAAAAAAAAAAAAAAAAAAAAAAAAAAAAAAAAAAAAAAAAAAAAAAAAAAAAAAAAAAAAAAAAAAAANEAAAAAAAAAAAAAAAAAAAAAAAAAAAAAAAAAAAAAAAAAAAAAAAAAAAAAAAAAAAAAAAAAAAAAAAAAeQAAAAAAAAClAAAAAAAAAAAAAAAAAAAAAAAAAAAAAAAAAAAAAAAAAAAAAAAAAAAAAAAAAAAAAAAAAAAAAAAAAAAAAAAAAAAAAAAAAAAAAAAAAAAAAAAAAAAAAAAAAAAAAAAAAAAAAAAAAAAAAAAAANEAAAAAAAAAAAAAAAAAAAAAAAAAAAAAAAAAAAAAAAAAeQAAAAAAAAAAAAAAAAAAAAAAAAAAAAAAAAAAAAAAAgDZAAAAAAAAAAAAAAAAAAAAAAAAAAAAAAAAAAAAAAAAAAAAAAAAAAAAAAAAAAAAAAAAAAAAAAAAAAAA=",
          "dtype": "f8"
         }
        },
        {
         "marker": {
          "color": "rgb(68, 170, 153)"
         },
         "name": "Minengefecht",
         "type": "bar",
         "x": [
          0,
          1,
          2,
          3,
          4,
          5,
          6,
          7,
          8,
          9,
          10,
          11,
          12,
          13,
          14,
          15,
          16,
          17,
          18,
          19,
          20,
          21,
          22,
          23,
          24,
          25,
          26,
          27,
          28,
          29,
          30,
          31,
          32,
          33,
          34,
          35,
          36,
          37,
          38,
          39,
          40,
          41,
          42,
          43,
          44,
          45,
          46,
          47,
          48,
          49,
          50,
          51,
          52,
          53,
          54,
          55,
          56,
          57,
          58,
          59,
          60,
          61,
          62,
          63,
          64,
          65,
          66,
          67,
          68,
          69,
          70,
          71,
          72,
          73,
          74,
          75,
          76,
          77,
          78,
          79,
          80,
          81,
          82,
          83,
          84,
          85,
          86,
          87,
          88,
          89,
          90,
          91,
          92,
          93,
          94,
          95,
          96,
          97,
          98,
          99
         ],
         "y": {
          "bdata": "AAAAAACARkAAAAAAAIBRQAAAAAAAgEZAAAAAAAAANEAAAAAAAAAUQAAAAAAAADlAAAAAAAAANEAAAAAAAAAUQAAAAAAAAAAAAAAAAAAAREAAAAAAAAAUQAAAAAAAgDFAAAAAAAAAAAAAAAAAAAAAAAAAAAAAAAAAAAAAAAAANEAAAAAAAAAAAAAAAAAAAAAAAAAAAADAR0AAAAAAAIBGQAAAAAAAAAAAAAAAAAAAAAAAAAAAAAAAAAAAAAAAQEVAAAAAAAAAAAAAAAAAAAAAAAAAAAAAAAAAAAAAAAAAOUAAAAAAAAAAAAAAAAAAgDFAAAAAAAAAAAAAAAAAAAAAAAAAAAAAAAAAAAAAAAAAFEAAAAAAAIA2QAAAAAAAAAAAAAAAAAAAAAAAAAAAAAAAAAAAAAAAAAAAAAAAAAAAAAAAAAAAAAAAAAAAAAAAAAAAAAAAAAAANEAAAAAAAIBGQAAAAAAAAAAAAAAAAAAAAAAAAAAAAAAAAAAAAAAAAAAAAAAAAAAAAAAAAAAAAAA0QAAAAAAAAAAAAAAAAAAAAAAAAAAAAAAAAAAAAAAAAAAAAAAAAAAAAAAAAAAAAAAAAAAAAAAAAAAAAAAAAAAAAAAAAAAAAAAAAAAAAAAAAAAAAAAAAAAAAAAAAAAAAAAAAAAAAAAAAAAAAAAAAAAAAAAAAAAAAAAAAAAAAAAAAAAAAAAAAAAAAAAAAAAAAAAAAAAAAAAAAAAAAAAAAAAAAAAAAAAAAIAxQAAAAAAAAAAAAAAAAAAAAAAAAAAAAAAAAAAAAAAAAAAAAAAAAAAAAAAAAAAAAAAAAAAAAAAAgDFAAAAAAAAANEAAAAAAAAA0QAAAAAAAAAAAAAAAAAAAAAAAAAAAAAAAAAAAAAAAAAAAAAAAAAAAAAAAAAAAAAAAAAAAAAAAAAAAAAAAAAAAAAAAAAAAAAAAAAAAAAAAAAAAAAAAAAAAOUAAAAAAAAAAAAAAAAAAAAAAAAAAAAAAAAAAAAAAAAAAAAAAAAAAAAAAAAAAAAAAAAAAAAAAAAAAAAAAAAAAADRAAAAAAAAAAAA=",
          "dtype": "f8"
         }
        },
        {
         "marker": {
          "color": "rgb(153, 153, 51)"
         },
         "name": "Einer im Köcher",
         "type": "bar",
         "x": [
          0,
          1,
          2,
          3,
          4,
          5,
          6,
          7,
          8,
          9,
          10,
          11,
          12,
          13,
          14,
          15,
          16,
          17,
          18,
          19,
          20,
          21,
          22,
          23,
          24,
          25,
          26,
          27,
          28,
          29,
          30,
          31,
          32,
          33,
          34,
          35,
          36,
          37,
          38,
          39,
          40,
          41,
          42,
          43,
          44,
          45,
          46,
          47,
          48,
          49,
          50,
          51,
          52,
          53,
          54,
          55,
          56,
          57,
          58,
          59,
          60,
          61,
          62,
          63,
          64,
          65,
          66,
          67,
          68,
          69,
          70,
          71,
          72,
          73,
          74,
          75,
          76,
          77,
          78,
          79,
          80,
          81,
          82,
          83,
          84,
          85,
          86,
          87,
          88,
          89,
          90,
          91,
          92,
          93,
          94,
          95,
          96,
          97,
          98,
          99
         ],
         "y": {
          "bdata": "VVVVVVXVVEAAAAAAAAAkQAAAAAAAAAAAAAAAAAAAAAAAAAAAAABUQAAAAAAAAAAAAAAAAAAAAACrqqqqqqpAQKuqqqqqqjpAAAAAAAAAAAAAAAAAAAAAAKuqqqqqqlBAAAAAAAAAAAAAAAAAAAAAAAAAAAAAAAAAAAAAAAAAAAAAAAAAAAAAAAAAAAAAAAAAVVVVVVVVUkAAAAAAAAAAAAAAAAAAADRAAAAAAAAAAAAAAAAAAAAAAAAAAAAAAAAAAAAAAAAANEAAAAAAAABJQAAAAAAAAAAAAAAAAAAAAAAAAAAAAAAAAAAAAAAAAAAAAAAAAAAAAAAAAAAAAAAAAAAAAAAAAAAAAAAAAAAAAAAAAAAAAAAAAAAAAAAAAAAAAAAAAAAAAAAAAAAAAAAAAAAAAAAAAAAAAAAAAAAAAAAAAAAAAAA+QAAAAAAAAAAAAAAAAAAAAAAAAAAAAAAAAAAAAAAAAAAAAAAAAAAAPkAAAAAAAAAAAAAAAAAAAAAAAAAAAAAAAAAAAAAAAAAAAAAAAAAAAAAAAAAAAAAAAAAAAAAAAAAAAAAAAAAAAAAAVVVVVVVVR0AAAAAAAAAAAAAAAAAAAAAAAAAAAAAAAAAAAAAAAAAAAAAAAAAAAAAAAAAAAAAAAAAAAAAAAAAAAAAAAAAAAAAAAAAAAAAAAAAAAAAAAAAAAAAAAAAAAAAAAAAAAAAAAAAAAAAAAAAAAAAAAAAAAAAAAAAAAAAAAAAAAAAAAAAAAAAAAAAAAAAAq6qqqqqqOkAAAAAAAAAAAAAAAAAAAAAAAAAAAAAAAACrqqqqqqowQAAAAAAAAAAAAAAAAAAAAAAAAAAAAAAAAAAAAAAAAAAAAAAAAAAAAAAAAAAAAAAAAAAAAAAAAAAAAAAAAAAAAAAAAAAAAAAAAKuqqqqqqjBAAAAAAAAAAAAAAAAAAAAAAAAAAAAAAAAAAAAAAAAAAAAAAAAAAAAAAAAAAAAAAAAAAAAAAAAAAAAAAAAAAAAAAAAAAAAAAAAAAAAAAAAAJEAAAAAAAAAAAAAAAAAAAAAAAAAAAAAAAAA=",
          "dtype": "f8"
         }
        },
        {
         "marker": {
          "color": "rgb(136, 34, 85)"
         },
         "name": "Paintball",
         "type": "bar",
         "x": [
          0,
          1,
          2,
          3,
          4,
          5,
          6,
          7,
          8,
          9,
          10,
          11,
          12,
          13,
          14,
          15,
          16,
          17,
          18,
          19,
          20,
          21,
          22,
          23,
          24,
          25,
          26,
          27,
          28,
          29,
          30,
          31,
          32,
          33,
          34,
          35,
          36,
          37,
          38,
          39,
          40,
          41,
          42,
          43,
          44,
          45,
          46,
          47,
          48,
          49,
          50,
          51,
          52,
          53,
          54,
          55,
          56,
          57,
          58,
          59,
          60,
          61,
          62,
          63,
          64,
          65,
          66,
          67,
          68,
          69,
          70,
          71,
          72,
          73,
          74,
          75,
          76,
          77,
          78,
          79,
          80,
          81,
          82,
          83,
          84,
          85,
          86,
          87,
          88,
          89,
          90,
          91,
          92,
          93,
          94,
          95,
          96,
          97,
          98,
          99
         ],
         "y": {
          "bdata": "AAAAAAAAAAAAAAAAAAAAAAAAAAAAAAAAAAAAAAAAAAAAAAAAAAAAAAAAAAAAAAAAAAAAAAAAAAAAAAAAAAAAAAAAAAAAAAAAAAAAAAAAAAAAAAAAAAAAAAAAAAAAAAAAAAAAAAAAAAAAAAAAAAAAAAAAAAAAAAAAAAAAAAAAAAAAAAAAAAAAAAAAAAAAAAAAAAAAAAAAAAAAAAAAAAAAAAAAAAAAAAAAAAAAAAAAAAAAAAAAAAAAAAAAAAAAAAAAAAAAAAAAAAAAAAAAAAAAAAAAAAAAAAAAAAAAAAAAAAAAAAAAAAAAAAAAAAAAAAAAAAAAAAAAAAAAAAAAAAAAAAAAAAAAAAAAAAAAAAAAAAAAAAAAAAAAAAAAAAAAAAAAAAAAAAAAAAAAAAAAAAAAAAAAAAAAAAAAAAAAAAAAAAAAAAAAAAAAAAAAAAAAAAAAAAAAAAAAAAAAAAAAAAAAAAAAAAAAAAAAAAAAAAAAAAAAAAAAAAAAAAAAAAAAAAAAAAAAAAAAAAAAAAAAAAAAAAAAAAAAAAAAAAAAAAAAAAAAAAAAAAAAAAAAAAAAAAAAAAAAAAAAAAAAAAAAAAAAAAAAAAAAAAAAAAAAAAAAAAAAAAAAAAAAAAAAAAAAAAAAAAAAAAAAAAAAAAAAAAAAAAAAAAAAAAAAAAAAAAAAAAAAAAAAAAAAAAAAAAAAAAAAAAAAAAAAAAAAAAAAAAAAAAAAAAAAAAAAAAAAAAAAAAAAAAAAAAAAAAAAAAAAAAAAAAAAAAAAAAAAAAAAAAAAAAAAAAAAAAAAAAAAAAAAAAAAAAAAAAAAAAAAAAAAAAAAAAAAAAAAAAAAAAAAAAAAAAAAAAAAAAAAAAAAAAAAAAAAAAAAAAAAAAAAAAAAAAAAAAAAAAAAAAAAAAAAAAAAAAAAAAAAAAAAAAAAAAAAAAAAAAAAAAAAAAAAAAAAAAAAAAAAAAAAAAAAAAAAAAAAAAAAAAAAAAAAAAAAAAAAAAAAAAAAAAAAAAAAAAAAAAAAAAAAAAAAAAAAAAAAAAAAAAAAAAAAAAAAAAAAAAAAAAA=",
          "dtype": "f8"
         }
        },
        {
         "marker": {
          "color": "rgb(102, 17, 0)"
         },
         "name": "Spleef",
         "type": "bar",
         "x": [
          0,
          1,
          2,
          3,
          4,
          5,
          6,
          7,
          8,
          9,
          10,
          11,
          12,
          13,
          14,
          15,
          16,
          17,
          18,
          19,
          20,
          21,
          22,
          23,
          24,
          25,
          26,
          27,
          28,
          29,
          30,
          31,
          32,
          33,
          34,
          35,
          36,
          37,
          38,
          39,
          40,
          41,
          42,
          43,
          44,
          45,
          46,
          47,
          48,
          49,
          50,
          51,
          52,
          53,
          54,
          55,
          56,
          57,
          58,
          59,
          60,
          61,
          62,
          63,
          64,
          65,
          66,
          67,
          68,
          69,
          70,
          71,
          72,
          73,
          74,
          75,
          76,
          77,
          78,
          79,
          80,
          81,
          82,
          83,
          84,
          85,
          86,
          87,
          88,
          89,
          90,
          91,
          92,
          93,
          94,
          95,
          96,
          97,
          98,
          99
         ],
         "y": {
          "bdata": "AAAAAAAAWUAAAAAAAIBRQAAAAAAAAAAAAAAAAACAUUAAAAAAAAAAAAAAAAAAgFZAAAAAAACAVkAAAAAAAIBRQAAAAAAAAAAAAAAAAAAAAAAAAAAAAAAAAAAAAAAAAAAAAAAAAAAAAAAAAAAAAAAAAAAAAAAAgFFAAAAAAACAUUAAAAAAAAAAAAAAAAAAAAAAAAAAAAAAAAAAAAAAAAAAAAAAAAAAAAAAAAAAAAAAAAAAAAAAAAAAAAAAAAAAAAAAAAAAAAAAAAAAAAAAAAAAAAAAAAAAAAAAAAAAAACAUUAAAAAAAAAAAAAAAAAAAAAAAAAAAAAAAAAAAAAAAAAAAAAAAAAAAAAAAAAAAAAAAAAAAAAAAAAAAAAAAAAAAAAAAAAAAAAAAAAAAAAAAAAAAAAAAAAAAAAAAAAAAAAAAAAAAAAAAAAAAAAAAAAAAAAAAAAAAAAAAAAAAAAAAAAAAAAAAAAAAAAAAAAAAAAAAAAAAAAAAAAAAAAAAAAAAAAAAAAAAAAAAAAAAAAAAAAAAAAAAAAAAAAAAAAAAAAAAAAAAAAAAAAAAAAAAAAAAAAAAAAAAAAAAAAAAAAAAAAAAAAAAAAAAAAAAAAAAAAAAAAAAAAAAAAAAAAAAAAAAAAAAAAAAAAAAAAAAAAAAAAAAAAAAAAAAAAAAAAAAAAAAAAAAAAAAAAAAAAAAAAAAAAAAAAAAAAAAAAAAAAAAAAAAAAAAAAAAAAAAAAAAAAAAAAAAAAAAAAAAAAAAAAAAAAAAAAAAAAAAAAAAAAAAAAAAAAAAAAAAAAAAAAAAAAAAAAAAAAAAAAAAAAAAAAAAAAAAAAAAAAAAAAAAAAAAAAAAAAAAAAAAAAAAAAAAAAAAAAAAAAAAAAAAAAAAAAAAAAAAAAAAAAAAAAAAAAAAAAAAAAAAAAAAAAAAAAAAAAAAAAAAAAAAAAAAAAAAAAAAAAAAAAAAAAAAAAAAAAAAAAAAAAAAAAAAAAAAAAAAAAAAAAAAAAAAAAAAAAAAAAAAAAAAAAAAAAAAAAAAAAAAAAAAAAAAAAAAAAAAAAAAAAAAAA=",
          "dtype": "f8"
         }
        },
        {
         "marker": {
          "color": "rgb(136, 136, 136)"
         },
         "name": "Buntes Chaos",
         "type": "bar",
         "x": [
          0,
          1,
          2,
          3,
          4,
          5,
          6,
          7,
          8,
          9,
          10,
          11,
          12,
          13,
          14,
          15,
          16,
          17,
          18,
          19,
          20,
          21,
          22,
          23,
          24,
          25,
          26,
          27,
          28,
          29,
          30,
          31,
          32,
          33,
          34,
          35,
          36,
          37,
          38,
          39,
          40,
          41,
          42,
          43,
          44,
          45,
          46,
          47,
          48,
          49,
          50,
          51,
          52,
          53,
          54,
          55,
          56,
          57,
          58,
          59,
          60,
          61,
          62,
          63,
          64,
          65,
          66,
          67,
          68,
          69,
          70,
          71,
          72,
          73,
          74,
          75,
          76,
          77,
          78,
          79,
          80,
          81,
          82,
          83,
          84,
          85,
          86,
          87,
          88,
          89,
          90,
          91,
          92,
          93,
          94,
          95,
          96,
          97,
          98,
          99
         ],
         "y": {
          "bdata": "AAAAAAAAWUAAAAAAAABZQAAAAAAAAElAAAAAAAAAWUAAAAAAAABZQAAAAAAAAFlAAAAAAAAASUAAAAAAAABJQAAAAAAAAFlAAAAAAAAASUAAAAAAAABZQAAAAAAAAFlAAAAAAAAAWUAAAAAAAABZQAAAAAAAAAAAAAAAAAAASUAAAAAAAABJQAAAAAAAAAAAAAAAAAAAAAAAAAAAAAAAAAAAAAAAAAAAAAAAAAAASUAAAAAAAABZQAAAAAAAAAAAAAAAAAAAWUAAAAAAAABJQAAAAAAAAElAAAAAAAAASUAAAAAAAAAAAAAAAAAAAAAAAAAAAAAAWUAAAAAAAAAAAAAAAAAAAElAAAAAAAAASUAAAAAAAAAAAAAAAAAAAAAAAAAAAAAAWUAAAAAAAAAAAAAAAAAAAAAAAAAAAAAAAAAAAAAAAAAAAAAAAAAAAAAAAAAAAAAASUAAAAAAAAAAAAAAAAAAAAAAAAAAAAAAAAAAAAAAAABZQAAAAAAAAAAAAAAAAAAAAAAAAAAAAABJQAAAAAAAAElAAAAAAAAASUAAAAAAAABJQAAAAAAAAAAAAAAAAAAAAAAAAAAAAAAAAAAAAAAAAElAAAAAAAAASUAAAAAAAAAAAAAAAAAAAElAAAAAAAAASUAAAAAAAABJQAAAAAAAAElAAAAAAAAAAAAAAAAAAAAAAAAAAAAAAAAAAAAAAAAASUAAAAAAAABJQAAAAAAAAElAAAAAAAAASUAAAAAAAAAAAAAAAAAAAAAAAAAAAAAAAAAAAAAAAAAAAAAAAAAAAAAAAAAAAAAAAAAAAAAAAAAAAAAAAAAAAAAAAAAAAAAAAAAAAAAAAAAAAAAAAAAAAAAAAAAAAAAAAAAAAAAAAAAAAAAAAAAAAAAAAAAAAAAAAAAAAAAAAAAAAAAAAAAAAAAAAAAAAAAAAAAAAAAAAAAAAAAAAAAAAAAAAAAAAAAAAAAAAAAAAAAAAAAAAAAAAAAAAAAAAAAAAAAAAAAAAAAAAAAAAAAAAAAAAAAAAAAAAAAAAAAAAAAAAAAAAAAAAAAAAAAAAAAAAAA=",
          "dtype": "f8"
         }
        },
        {
         "marker": {
          "color": "rgb(136, 204, 238)"
         },
         "name": "Reihenfolge",
         "type": "bar",
         "x": [
          0,
          1,
          2,
          3,
          4,
          5,
          6,
          7,
          8,
          9,
          10,
          11,
          12,
          13,
          14,
          15,
          16,
          17,
          18,
          19,
          20,
          21,
          22,
          23,
          24,
          25,
          26,
          27,
          28,
          29,
          30,
          31,
          32,
          33,
          34,
          35,
          36,
          37,
          38,
          39,
          40,
          41,
          42,
          43,
          44,
          45,
          46,
          47,
          48,
          49,
          50,
          51,
          52,
          53,
          54,
          55,
          56,
          57,
          58,
          59,
          60,
          61,
          62,
          63,
          64,
          65,
          66,
          67,
          68,
          69,
          70,
          71,
          72,
          73,
          74,
          75,
          76,
          77,
          78,
          79,
          80,
          81,
          82,
          83,
          84,
          85,
          86,
          87,
          88,
          89,
          90,
          91,
          92,
          93,
          94,
          95,
          96,
          97,
          98,
          99
         ],
         "y": {
          "bdata": "AAAAAAAAAAAAAAAAAAAAAAAAAAAAAAAAAAAAAAAAAAAAAAAAAAAAAAAAAAAAAAAAAAAAAAAAAAAAAAAAAAAAAAAAAAAAAAAAAAAAAAAAAAAAAAAAAAAAAAAAAAAAAAAAAAAAAAAAAAAAAAAAAAAAAAAAAAAAAAAAAAAAAAAAAAAAAAAAAAAAAAAAAAAAAAAAAAAAAAAAAAAAAAAAAAAAAAAAAAAAAAAAAAAAAAAAAAAAAAAAAAAAAAAAAAAAAAAAAAAAAAAAAAAAAAAAAAAAAAAAAAAAAAAAAAAAAAAAAAAAAAAAAAAAAAAAAAAAAAAAAAAAAAAAAAAAAAAAAAAAAAAAAAAAAAAAAAAAAAAAAAAAAAAAAAAAAAAAAAAAAAAAAAAAAAAAAAAAAAAAAAAAAAAAAAAAAAAAAAAAAAAAAAAAAAAAAAAAAAAAAAAAAAAAAAAAAAAAAAAAAAAAAAAAAAAAAAAAAAAAAAAAAAAAAAAAAAAAAAAAAAAAAAAAAAAAAAAAAAAAAAAAAAAAAAAAAAAAAAAAAAAAAAAAAAAAAAAAAAAAAAAAAAAAAAAAAAAAAAAAAAAAAAAAAAAAAAAAAAAAAAAAAAAAAAAAAAAAAAAAAAAAAAAAAAAAAAAAAAAAAAAAAAAAAAAAAAAAAAAAAAAAAAAAAAAAAAAAAAAAAAAAAAAAAAAAAAAAAAAAAAAAAAAAAAAAAAAAAAAAAAAAAAAAAAAAAAAAAAAAAAAAAAAAAAAAAAAAAAAAAAAAAAAAAAAAAAAAAAAAAAAAAAAAAAAAAAAAAAAAAAAAAAAAAAAAAAAAAAAAAAAAAAAAAAAAAAAAAAAAAAAAAAAAAAAAAAAAAAAAAAAAAAAAAAAAAAAAAAAAAAAAAAAAAAAAAAAAAAAAAAAAAAAAAAAAAAAAAAAAAAAAAAAAAAAAAAAAAAAAAAAAAAAAAAAAAAAAAAAAAAAAAAAAAAAAAAAAAAAAAAAAAAAAAAAAAAAAAAAAAAAAAAAAAAAAAAAAAAAAAAAAAAAAAAAAAAAAAAAAAAAAAAAAAAAAAAAAAAAAAAAAAAA=",
          "dtype": "f8"
         }
        },
        {
         "marker": {
          "color": "rgb(204, 102, 119)"
         },
         "name": "Duelle",
         "type": "bar",
         "x": [
          0,
          1,
          2,
          3,
          4,
          5,
          6,
          7,
          8,
          9,
          10,
          11,
          12,
          13,
          14,
          15,
          16,
          17,
          18,
          19,
          20,
          21,
          22,
          23,
          24,
          25,
          26,
          27,
          28,
          29,
          30,
          31,
          32,
          33,
          34,
          35,
          36,
          37,
          38,
          39,
          40,
          41,
          42,
          43,
          44,
          45,
          46,
          47,
          48,
          49,
          50,
          51,
          52,
          53,
          54,
          55,
          56,
          57,
          58,
          59,
          60,
          61,
          62,
          63,
          64,
          65,
          66,
          67,
          68,
          69,
          70,
          71,
          72,
          73,
          74,
          75,
          76,
          77,
          78,
          79,
          80,
          81,
          82,
          83,
          84,
          85,
          86,
          87,
          88,
          89,
          90,
          91,
          92,
          93,
          94,
          95,
          96,
          97,
          98,
          99
         ],
         "y": {
          "bdata": "AAAAAAAAAAAAAAAAAABOQAAAAAAAAE5AAAAAAAAAAAAAAAAAAAAAAAAAAAAAAAAAAAAAAAAAAAAAAAAAAAAAAAAAAAAAAAAAAAAAAAAAAAAAAAAAAAAAAAAAAAAAAAAAAAAAAAAAAAAAAAAAAAAAAAAAAAAAAAAAAAAAAAAAAAAAAAAAAAAAAAAAAAAAAAAAAAAAAAAAAAAAAAAAAAAAAAAAAAAAAAAAAAAAAAAAAAAAAAAAAAAAAAAAAAAAAE5AAAAAAAAAAAAAAAAAAAAAAAAAAAAAAAAAAAAAAAAAAAAAAAAAAAAAAAAAAAAAAE5AAAAAAAAAAAAAAAAAAAAAAAAAAAAAAAAAAAAAAAAAAAAAAAAAAABOQAAAAAAAAAAAAAAAAAAAAAAAAAAAAABUQAAAAAAAAAAAAAAAAAAAWUAAAAAAAAAAAAAAAAAAAFlAAAAAAAAAAAAAAAAAAAAAAAAAAAAAAAAAAAAAAAAAAAAAAAAAAAAAAAAAAAAAAAAAAAAAAACAUUAAAAAAAAAAAAAAAAAAAAAAAAAAAAAAAAAAAAAAAAAAAAAAAAAAAAAAAAAAAAAAAAAAAAAAAAAAAAAAAAAAAAAAAAAAAAAAAAAAAAAAAAAAAAAAAAAAAAAAAAAAAAAAAAAAAAAAAAAAAAAAAAAAAAAAAAAAAAAAAAAAAAAAAAAAAAAAAAAAAAAAAAAAAAAAAAAAAAAAAAAAAAAAAAAAAAAAAAAAAAAAAAAAAAAAAAAAAAAAAAAAAAAAAAAAAAAAAAAAAAAAAAAAAAAAAAAAAAAAAAAAAAAAAAAAAAAAAAAAAAAAAAAAAAAAAAAAAAAAAAAAAAAAAAAAAAAAAAAAAAAAAAAAAAAAAAAAAAAAAAAAAAAAAAAAAAAAAAAAAAAAAAAAAAAAAAAAAAAAAAAAAAAAAAAAAAAAAAAAAAAAAAAAAAAAAAAAAAAAAAAAAAAAAAAAAAAAAAAAAAAAAAAAAAAAAAAAAAAAAAAAAAAAAAAAAAAAAAAAAAAAAAAAAAAAAAAAAAAAAAAAAAAAAAAAAAAAAAAAAAAAAAA=",
          "dtype": "f8"
         }
        },
        {
         "marker": {
          "color": "rgb(221, 204, 119)"
         },
         "name": "Turmroulette",
         "type": "bar",
         "x": [
          0,
          1,
          2,
          3,
          4,
          5,
          6,
          7,
          8,
          9,
          10,
          11,
          12,
          13,
          14,
          15,
          16,
          17,
          18,
          19,
          20,
          21,
          22,
          23,
          24,
          25,
          26,
          27,
          28,
          29,
          30,
          31,
          32,
          33,
          34,
          35,
          36,
          37,
          38,
          39,
          40,
          41,
          42,
          43,
          44,
          45,
          46,
          47,
          48,
          49,
          50,
          51,
          52,
          53,
          54,
          55,
          56,
          57,
          58,
          59,
          60,
          61,
          62,
          63,
          64,
          65,
          66,
          67,
          68,
          69,
          70,
          71,
          72,
          73,
          74,
          75,
          76,
          77,
          78,
          79,
          80,
          81,
          82,
          83,
          84,
          85,
          86,
          87,
          88,
          89,
          90,
          91,
          92,
          93,
          94,
          95,
          96,
          97,
          98,
          99
         ],
         "y": {
          "bdata": "AAAAAAAATkAAAAAAAAAAAAAAAAAAgFZAAAAAAACAVkAAAAAAAAAAAAAAAAAAAAAAAAAAAAAATkAAAAAAAABOQAAAAAAAAAAAAAAAAAAAWUAAAAAAAAAAAAAAAAAAAAAAAAAAAAAATkAAAAAAAAAAAAAAAAAAAAAAAAAAAAAAAAAAAAAAAABOQAAAAAAAAE5AAAAAAAAATkAAAAAAAAAAAAAAAAAAgFZAAAAAAAAAAAAAAAAAAAAAAAAAAAAAAAAAAAAAAAAAAAAAAAAAAAAAAAAAAAAAAAAAAAAAAAAAAAAAAAAAAABOQAAAAAAAAAAAAAAAAAAAAAAAAAAAAAAAAAAAAAAAAAAAAAAAAAAAAAAAAAAAAAAAAAAAAAAAAE5AAAAAAAAAAAAAAAAAAAAAAAAAAAAAAAAAAAAAAAAAAAAAAAAAAAAAAAAAAAAAAAAAAAAAAAAAAAAAAAAAAAAAAAAAAAAAAAAAAAAAAAAAAAAAAAAAAAAAAAAAAAAAAAAAAAAAAAAAAAAAAAAAAAAAAAAAAAAAAAAAAAAAAAAAAAAAAAAAAAAAAAAAAAAAAAAAAAAAAAAAAAAAAAAAAAAAAAAAAAAAAAAAAAAAAAAAAAAAAAAAAAAAAAAAAAAAAAAAAAAAAAAAAAAAAAAAAAAAAAAAAAAAAAAAAAAAAAAAAAAAAAAAAAAAAAAAAAAAAAAAAAAAAAAAAAAAAAAAAAAAAAAAAAAAAAAAAAAAAAAAAAAAAAAAAAAAAAAAAAAAAAAAAAAAAAAAAAAAAAAAAAAAAAAAAAAAAAAAAAAAAAAAAAAAAAAAAAAAAAAAAAAAAAAAAAAAAAAAAAAAAAAAAAAAAAAAAAAAAAAAAAAAAAAAAAAAAAAAAAAAAAAAAAAAAAAAAAAAAAAAAAAAAAAAAAAAAAAAAAAAAAAAAAAAAAAAAAAAAAAAAAAAAAAAAAAAAAAAAAAAAAAAAAAAAAAAAAAAAAAAAAAAAAAAAAAAAAAAAAAAAAAAAAAAAAAAAAAAAAAAAAAAAAAAAAAAAAAAAAAAAAAAAAAAAAAAAAAAAAAAAAA=",
          "dtype": "f8"
         }
        },
        {
         "marker": {
          "color": "rgb(17, 119, 51)"
         },
         "name": "Wettrennen",
         "type": "bar",
         "x": [
          0,
          1,
          2,
          3,
          4,
          5,
          6,
          7,
          8,
          9,
          10,
          11,
          12,
          13,
          14,
          15,
          16,
          17,
          18,
          19,
          20,
          21,
          22,
          23,
          24,
          25,
          26,
          27,
          28,
          29,
          30,
          31,
          32,
          33,
          34,
          35,
          36,
          37,
          38,
          39,
          40,
          41,
          42,
          43,
          44,
          45,
          46,
          47,
          48,
          49,
          50,
          51,
          52,
          53,
          54,
          55,
          56,
          57,
          58,
          59,
          60,
          61,
          62,
          63,
          64,
          65,
          66,
          67,
          68,
          69,
          70,
          71,
          72,
          73,
          74,
          75,
          76,
          77,
          78,
          79,
          80,
          81,
          82,
          83,
          84,
          85,
          86,
          87,
          88,
          89,
          90,
          91,
          92,
          93,
          94,
          95,
          96,
          97,
          98,
          99
         ],
         "y": {
          "bdata": "AAAAAAAASUAAAAAAAABAQAAAAAAAgFFAAAAAAAAAOEAAAAAAAAA0QAAAAAAAAEZAAAAAAAAAQkAAAAAAAAAYQAAAAAAAACBAAAAAAAAALEAAAAAAAAAgQAAAAAAAABhAAAAAAAAAAAAAAAAAAAAAAAAAAAAAAExAAAAAAAAAAAAAAAAAAAAAAAAAAAAAAENAAAAAAAAAAAAAAAAAAAAAAAAAAAAAAAAAAAAAAAAAQ0AAAAAAAAAAAAAAAAAAAAAAAAAAAAAAAAAAAAAAAAAAAAAAAAAAACBAAAAAAAAAAAAAAAAAAAAoQAAAAAAAAAAAAAAAAAAAAAAAAAAAAAA0QAAAAAAAAAAAAAAAAAAAAAAAAAAAAAAAAAAAAAAAAAAAAAAAAAAAAAAAAAAAAAAAAAAAAAAAAAAAAAAAAAAAAAAAAAAAAAAAAAAAAAAAAAAAAAAAAAAAAAAAAAAAAAAAAAAAAAAAAAAAAAAAAAAAAAAAAAAAAAAAAAAAAAAAAAAAAAAAAAAAAAAAAAAAAAAAAAAAAAAAAAAAAAAAAAAAGEAAAAAAAAAAAAAAAAAAAAAAAAAAAAAAAAAAAAAAAAAAAAAAAAAAAAAAAAAAAAAAAAAAAAAAAAAyQAAAAAAAAAAAAAAAAAAAAAAAAAAAAAAAAAAAAAAAAAAAAAAAAAAAAAAAAAAAAAAAAAAAAAAAAAAAAAAAAAAAAAAAAAAAAAAAAAAAAAAAAAAAAAAAAAAAAAAAAAAAAAAAAAAAAAAAAAAAAAAAAAAAAAAAAAAAAAAAAAAAAAAAAAAAAAAAAAAAAAAAAAAAAAAAAAAAAAAAAAAAAAAAAAAAAAAAAAAAAAAAAAAAAAAAAAAAAAAAAAAAAAAAAAAAAAAAAAAAAAAAAAAAAAAAAAAAAAAAAAAAAAAAAAAAAAAAAAAAAAAAAAAAGEAAAAAAAAAAAAAAAAAAAAAAAAAAAAAAAAAAAAAAAAAAAAAAAAAAAAAAAAAAAAAAAAAAAAAAAAAAAAAAAAAAAAAAAAAAAAAAAAAAAAAAAAAAAAAAAAAAAAAAAAAAAAAAAAA=",
          "dtype": "f8"
         }
        },
        {
         "marker": {
          "color": "rgb(51, 34, 136)"
         },
         "name": "Parkour",
         "type": "bar",
         "x": [
          0,
          1,
          2,
          3,
          4,
          5,
          6,
          7,
          8,
          9,
          10,
          11,
          12,
          13,
          14,
          15,
          16,
          17,
          18,
          19,
          20,
          21,
          22,
          23,
          24,
          25,
          26,
          27,
          28,
          29,
          30,
          31,
          32,
          33,
          34,
          35,
          36,
          37,
          38,
          39,
          40,
          41,
          42,
          43,
          44,
          45,
          46,
          47,
          48,
          49,
          50,
          51,
          52,
          53,
          54,
          55,
          56,
          57,
          58,
          59,
          60,
          61,
          62,
          63,
          64,
          65,
          66,
          67,
          68,
          69,
          70,
          71,
          72,
          73,
          74,
          75,
          76,
          77,
          78,
          79,
          80,
          81,
          82,
          83,
          84,
          85,
          86,
          87,
          88,
          89,
          90,
          91,
          92,
          93,
          94,
          95,
          96,
          97,
          98,
          99
         ],
         "y": {
          "bdata": "AAAAAAAAVEAAAAAAAEBAQAAAAAAAwEJAAAAAAAAAOUAAAAAAAIA2QAAAAAAAAC5AAAAAAACARkAAAAAAAAAAAAAAAAAAAAAAAAAAAABAT0AAAAAAAEBQQAAAAAAAAAAAAAAAAAAAAAAAAAAAAAApQAAAAAAAACRAAAAAAAAAAAAAAAAAAAAAAAAAAAAAADlAAAAAAAAAAAAAAAAAAAAAAAAAAAAAAAAAAAAAAAAAAAAAAAAAAAAAAAAAAAAAAAAAAAAAAAAAKUAAAAAAAAAAAAAAAAAAAAAAAAAAAAAAAAAAAAAAAAAuQAAAAAAAAClAAAAAAAAAAAAAAAAAAAAuQAAAAAAAAAAAAAAAAAAAAAAAAAAAAAAAAAAAAAAAAAAAAAAAAAAAAAAAAAAAAAAAAAAAAAAAAAAAAAAAAAAAJEAAAAAAAAAAAAAAAAAAAAAAAAAAAAAAAAAAAAAAAAAAAAAAAAAAgDFAAAAAAAAAAAAAAAAAAAAAAAAAAAAAAAAAAAAAAAAAAAAAAAAAAAAAAAAAAAAAAAAAAAAAAAAAHkAAAAAAAAAAAAAAAAAAAAAAAAAAAAAAAAAAAAAAAAAAAAAAAAAAAAAAAAAAAAAAAAAAAAAAAIAxQAAAAAAAAAAAAAAAAAAAAAAAAAAAAAAAAAAAAAAAAAAAAAAAAAAAAAAAAAAAAAAAAAAAAAAAAAAAAAAAAAAAAAAAAAAAAAAAAAAAAAAAAAAAAAAAAAAAAAAAAAAAAAAAAAAAAAAAAAAAAAAAAAAAAAAAAAAAAAAAAAAAAAAAAAAAAAAAAAAAAAAAAAAAAAAAAAAAAAAAAAAAAAAAAAAAAAAAAAAAAAAAAAAAAAAAAAAAAAAAAAAAAAAAAAAAAAAAAAAAAAAAAAAAAAAAAAAAAAAAAAAAAAAAAAAAAAAAAAAAAAAAAAAAAAAAAAAAAAAAAAAAAAAAAAAAAAAAAAAAAAAAAAAAAAAAAAAAAAAAAAAAAAAAAAAAAAAAAAAAAAAAAAAAAAAAAAAAAAAAAAAAAAAAAAAAAAAAAAAAAAAAAAAAAAAAAAAAAAA=",
          "dtype": "f8"
         }
        },
        {
         "marker": {
          "color": "rgb(170, 68, 153)"
         },
         "name": "Pferderennen",
         "type": "bar",
         "x": [
          0,
          1,
          2,
          3,
          4,
          5,
          6,
          7,
          8,
          9,
          10,
          11,
          12,
          13,
          14,
          15,
          16,
          17,
          18,
          19,
          20,
          21,
          22,
          23,
          24,
          25,
          26,
          27,
          28,
          29,
          30,
          31,
          32,
          33,
          34,
          35,
          36,
          37,
          38,
          39,
          40,
          41,
          42,
          43,
          44,
          45,
          46,
          47,
          48,
          49,
          50,
          51,
          52,
          53,
          54,
          55,
          56,
          57,
          58,
          59,
          60,
          61,
          62,
          63,
          64,
          65,
          66,
          67,
          68,
          69,
          70,
          71,
          72,
          73,
          74,
          75,
          76,
          77,
          78,
          79,
          80,
          81,
          82,
          83,
          84,
          85,
          86,
          87,
          88,
          89,
          90,
          91,
          92,
          93,
          94,
          95,
          96,
          97,
          98,
          99
         ],
         "y": {
          "bdata": "AAAAAAAALkBVVVVVVdVOQKuqqqqqKkNAAAAAAAAAAACrqqqqqqo6QAAAAAAAgEFAq6qqqqqqRUCrqqqqqqoaQAAAAAAAAAAAAAAAAAAANECrqqqqqqo1QKuqqqqqqiBAq6qqqqqqCkCrqqqqqqogQFVVVVVVVTdAq6qqqqoqQ0AAAAAAAAAAAKuqqqqqqjpAAAAAAAAAAAAAAAAAAAAAAAAAAAAAAAAAAAAAAAAATkAAAAAAAAAAAAAAAAAAAAAAAAAAAAAAAAAAAAAAAAAAAAAAAAAAAAAAq6qqqqqqCkAAAAAAAAAAAAAAAAAAAAAAAAAAAAAAAAAAAAAAAAAuQFVVVVVVVTdAAAAAAAAAAACrqqqqqqoqQAAAAAAAAAAAq6qqqqqqCkAAAAAAAAAAAAAAAAAAAAAAAAAAAAAAAAAAAAAAAAAAAAAAAAAAAAAAq6qqqqqqGkAAAAAAAAAAAAAAAAAAAAAAAAAAAAAAAAAAAAAAAAAAAAAAAAAAAAAAAAAAAAAAAAAAAAAAAAAAAAAAAAAAAAAAAAAAAAAAAAAAAAAAAAAAAAAAAAAAAAAAAAAAAAAAAAAAAAAAAAAAAAAAAAAAAAAAAAAAAAAAAAAAAAAAAAAAAAAAAAAAAAAAAAAAAAAAAAAAAAAAAAAUQAAAAAAAAAAAAAAAAAAALkAAAAAAAAAAAKuqqqqqqjBAAAAAAAAAAAAAAAAAAAAAAAAAAAAAAAAAAAAAAAAAAAAAAAAAAAAAAAAAAAAAAAAAAAAAAAAAAAAAAAAAAAAAAAAAAAAAAAAAAAAAAAAAAAAAAAAAAAAAAAAAAAAAAAAAAAAAAAAAAAAAAAAAAAAAAAAAAAAAAAAAAAAAAAAAAAAAAAAAAAAAAAAAAAAAAAAAAAAAAAAAAAAAAAAAAAAAAAAAAAAAAAAAAAAAAAAAAAAAAAAAAAAAAAAAAAAAAAAAAAAAAAAAAAAAAAAAAAAAAAAAAAAAAAAAAAAAAAAAAAAAAAAAAAAAAAAAAAAAAAAAAAAAAAAAAAAAAAAAAAAAAAAAAAAAAAAAAAAAAAAAAAA=",
          "dtype": "f8"
         }
        },
        {
         "marker": {
          "color": "rgb(68, 170, 153)"
         },
         "name": "Drachenflucht",
         "type": "bar",
         "x": [
          0,
          1,
          2,
          3,
          4,
          5,
          6,
          7,
          8,
          9,
          10,
          11,
          12,
          13,
          14,
          15,
          16,
          17,
          18,
          19,
          20,
          21,
          22,
          23,
          24,
          25,
          26,
          27,
          28,
          29,
          30,
          31,
          32,
          33,
          34,
          35,
          36,
          37,
          38,
          39,
          40,
          41,
          42,
          43,
          44,
          45,
          46,
          47,
          48,
          49,
          50,
          51,
          52,
          53,
          54,
          55,
          56,
          57,
          58,
          59,
          60,
          61,
          62,
          63,
          64,
          65,
          66,
          67,
          68,
          69,
          70,
          71,
          72,
          73,
          74,
          75,
          76,
          77,
          78,
          79,
          80,
          81,
          82,
          83,
          84,
          85,
          86,
          87,
          88,
          89,
          90,
          91,
          92,
          93,
          94,
          95,
          96,
          97,
          98,
          99
         ],
         "y": {
          "bdata": "AAAAAABARUAAAAAAAEBKQAAAAAAAAAAAAAAAAAAAOUAAAAAAAAAAAAAAAAAAADlAAAAAAACAMUAAAAAAAMBHQAAAAAAAAAAAAAAAAAAAAAAAAAAAAAAAAAAAAAAAAAAAAAAAAACANkAAAAAAAAAAAAAAAAAAAClAAAAAAAAAAAAAAAAAAEBAQAAAAAAAAAAAAAAAAAAAAAAAAAAAAAAAAAAAAAAAAAAAAAAAAAAAAAAAAAAAAAAeQAAAAAAAAAAAAAAAAACAQUAAAAAAAAAkQAAAAAAAAElAAAAAAAAAAAAAAAAAAAAAAAAAAAAAAAAAAAAAAAAAAAAAAAAAAAAAAAAAAAAAABRAAAAAAAAAFEAAAAAAAAAAAAAAAAAAADlAAAAAAAAAAAAAAAAAAAAAAAAAAAAAAAAAAAAAAAAAAAAAAAAAAAAAAAAAAAAAAAAAAAAAAAAALkAAAAAAAAAAAAAAAAAAAAAAAAAAAAAAKUAAAAAAAAAAAAAAAAAAAAAAAAAAAAAAAAAAAAAAAAAAAAAAAAAAAAAAAAAAAAAAAAAAAAAAAAAAAAAAAAAAAAAAAAAAAAAAHkAAAAAAAAAAAAAAAAAAAAAAAAAAAAAAAAAAAAAAAAAAAAAAAAAAAAAAAAAAAAAAAAAAAAAAAAAAAAAAAAAAAAAAAAAAAAAAAAAAAAAAAAAAAAAAAAAAgDZAAAAAAAAAAAAAAAAAAAAAAAAAAAAAAAAAAAAAAAAAAAAAAAAAAAAAAAAAAAAAAAAAAAAAAAAAAAAAAAAAAAAAAAAAAAAAACRAAAAAAAAAAAAAAAAAAAAAAAAAAAAAAAAAAAAAAAAAAAAAAAAAAAAAAAAAAAAAAAAAAAAAAAAAAAAAAAAAAAAAAAAAAAAAAAAAAAAAAAAAAAAAAAAAAAAAAAAAAAAAAAAAAAAAAAAAAAAAAAAAAAAAAAAAAAAAAAAAAAAAAAAAAAAAAAAAAAAAAAAAAAAAAAAAAAAAAAAANEAAAAAAAAAAAAAAAAAAAAAAAAAAAAAAAAAAAAAAAAAAAAAAAAAAAAAAAAAAAAAAAAA=",
          "dtype": "f8"
         }
        },
        {
         "marker": {
          "color": "rgb(153, 153, 51)"
         },
         "name": "Replika",
         "type": "bar",
         "x": [
          0,
          1,
          2,
          3,
          4,
          5,
          6,
          7,
          8,
          9,
          10,
          11,
          12,
          13,
          14,
          15,
          16,
          17,
          18,
          19,
          20,
          21,
          22,
          23,
          24,
          25,
          26,
          27,
          28,
          29,
          30,
          31,
          32,
          33,
          34,
          35,
          36,
          37,
          38,
          39,
          40,
          41,
          42,
          43,
          44,
          45,
          46,
          47,
          48,
          49,
          50,
          51,
          52,
          53,
          54,
          55,
          56,
          57,
          58,
          59,
          60,
          61,
          62,
          63,
          64,
          65,
          66,
          67,
          68,
          69,
          70,
          71,
          72,
          73,
          74,
          75,
          76,
          77,
          78,
          79,
          80,
          81,
          82,
          83,
          84,
          85,
          86,
          87,
          88,
          89,
          90,
          91,
          92,
          93,
          94,
          95,
          96,
          97,
          98,
          99
         ],
         "y": {
          "bdata": "mZIpmZIpV0CtzdqszdpOQHD5lm/5lidAD/VQD/VQPUA/93M/93MvQHD5lm/5llJAx3Ecx3EcH0C6n/u5n/sZQPMt3/It30NAjuM4juM4S0C6n/u5n/sJQG3WZm3WZg1AFl7hFV7hxT+zNmuzNmsnQAAAAAAAAAAA2Ymd2Imd6D8N0iAN0iBEQAdpkAZpkAZAAAAAAAAAAACQBmmQBmngP5u1WZu1Wds/m7VZm7VZ+z8AAAAAAAAAAAAAAAAAAAAAy7d8y7d8M0ByHMdxHMfxP/mWb/mWbxFAm7VZm7VZ6z8AAAAAAAAAAAAAAAAAAAAAYid2Yid2EkCQBmmQBmnQP/mWb/mWbyFAAAAAAAAAAAAAAAAAAAAAAAAAAAAAAAAAXuEVXuEV7j8AAAAAAAAAAAAAAAAAAAAAAAAAAAAAAAAAAAAAAAAAAAAAAAAAAAAAAAAAAAAAAACMwAiMwAgMQNmJndiJneg/AAAAAAAAAACQBmmQBmnQPwAAAAAAAAAAAAAAAAAAAAAWXuEVXuHlPwAAAAAAAAAAkAZpkAZp8D/3cz/3cz/3PwAAAAAAAAAAAAAAAAAAAAAAAAAAAAAAAAAAAAAAAAAAAAAAAAAAAAAAAAAAAAAAABZe4RVe4fU/kAZpkAZp0D8AAAAAAAAAAJAGaZAGadA/B2mQBmmQBkAAAAAAAAAAADVIgzRIgxRAAAAAAAAAAAAAAAAAAAAAAAAAAAAAAAAAAAAAAAAAAAAAAAAAAAAAAAAAAAAAAAAAkAZpkAZp0D8AAAAAAAAAAF7hFV7hFf4/2Ymd2Imd6D+QBmmQBmngPwAAAAAAAAAAAAAAAAAAAACBERiBERgBQHIcx3EcxyFAAAAAAAAAAAAAAAAAAAAAAAAAAAAAAAAAAAAAAAAAAAAAAAAAAAAAABZe4RVe4cU/AAAAAAAAAAAAAAAAAAAAAAAAAAAAAAAAAAAAAAAAAAAAAAAAAAAAAAAAAAAAAAAAAAAAAAAAAAAAAAAAAAAAAAAAAAAAAAAAAAAAAAAAAAAAAAAAAAAAAAAAAAAAAAAAAAAAAAAAAAA=",
          "dtype": "f8"
         }
        },
        {
         "marker": {
          "color": "rgb(136, 34, 85)"
         },
         "name": "Blockhüpfer",
         "type": "bar",
         "x": [
          0,
          1,
          2,
          3,
          4,
          5,
          6,
          7,
          8,
          9,
          10,
          11,
          12,
          13,
          14,
          15,
          16,
          17,
          18,
          19,
          20,
          21,
          22,
          23,
          24,
          25,
          26,
          27,
          28,
          29,
          30,
          31,
          32,
          33,
          34,
          35,
          36,
          37,
          38,
          39,
          40,
          41,
          42,
          43,
          44,
          45,
          46,
          47,
          48,
          49,
          50,
          51,
          52,
          53,
          54,
          55,
          56,
          57,
          58,
          59,
          60,
          61,
          62,
          63,
          64,
          65,
          66,
          67,
          68,
          69,
          70,
          71,
          72,
          73,
          74,
          75,
          76,
          77,
          78,
          79,
          80,
          81,
          82,
          83,
          84,
          85,
          86,
          87,
          88,
          89,
          90,
          91,
          92,
          93,
          94,
          95,
          96,
          97,
          98,
          99
         ],
         "y": {
          "bdata": "AAAAAAAAVEAAAAAAAAAAAAAAAAAAgFZAAAAAAAAAAAAAAAAAAIBRQAAAAAAAAERAAAAAAAAAAAAAAAAAAAA+QAAAAAAAAE5AAAAAAAAAAAAAAAAAAABZQAAAAAAAAAAAAAAAAAAAAAAAAAAAAAAAAAAAAAAAAAAAAAAAAAAAAAAAAAAAAAAAAAAAAAAAAAAAAAAAAAAAAAAAAAAAAAAAAAAAAAAAAElAAAAAAAAAAAAAAAAAAAAAAAAAAAAAAAAAAAAAAAAAAAAAAAAAAAAAAAAAAAAAADRAAAAAAAAAAAAAAAAAAAAAAAAAAAAAAAAAAAAAAAAAAAAAAAAAAAAAAAAAAAAAAAAAAAAAAAAAAAAAAAAAAAAAAAAAAAAAAAAAAAAAAAAAAAAAAAAAAAAAAAAAAAAAAAAAAAAAAAAAAAAAAAAAAAAAAAAAAAAAAAAAAAAAAAAAAAAAAAAAAAAAAAAAAAAAAAAAAAAAAAAAAAAAAAAAAAAAAAAAAAAAAAAAAAAAAAAAAAAAAAAAAAAAAAAAAAAAAAAAAAAAAAAAAAAAAAAAAAAAAAAAAAAAAAAAAAAAAAAAAAAAAAAAAAAAAAAAAAAAAAAAAAAAAAAAAAAAAAAAAAAAAAAAAAAAAAAAAAAAAAAAAAAAAAAAAAAAAAAAAAAAAAAAAAAAAAAAAAAAAAAAAAAAAAAAAAAAAAAAAAAAAAAAAAAAAAAAAAAAAAAAAAAAAAAAAAAAAAAAAAAAAAAAAAAAAAAAAAAAAAAAAAAAAAAAAAAAAAAAAAAAAAAAAAAAAAAAAAAAAAAAAAAAAAAAAAAAAAAAAAAAAAAAAAAAAAAAAAAAAAAAAAAAAAAAAAAAAAAAAAAAAAAAAAAAAAAAAAAAAAAAAAAAAAAAAAAAAAAAAAAAAAAAAAAAAAAAAAAAAAAAAAAAAAAAAAAAAAAAAAAAAAAAAAAAAAAAAAAAAAAAAAAAAAAAAAAAAAAAAAAAAAAAAAAAAAAAAAAAAAAAAAAAAAAAAAAAAAAAAAAAAAAAAAAAAAAAAAAAAAAAAAAAAAAAAAAAAAAAAAA=",
          "dtype": "f8"
         }
        },
        {
         "marker": {
          "color": "rgb(102, 17, 0)"
         },
         "name": "Todeswürfel",
         "type": "bar",
         "x": [
          0,
          1,
          2,
          3,
          4,
          5,
          6,
          7,
          8,
          9,
          10,
          11,
          12,
          13,
          14,
          15,
          16,
          17,
          18,
          19,
          20,
          21,
          22,
          23,
          24,
          25,
          26,
          27,
          28,
          29,
          30,
          31,
          32,
          33,
          34,
          35,
          36,
          37,
          38,
          39,
          40,
          41,
          42,
          43,
          44,
          45,
          46,
          47,
          48,
          49,
          50,
          51,
          52,
          53,
          54,
          55,
          56,
          57,
          58,
          59,
          60,
          61,
          62,
          63,
          64,
          65,
          66,
          67,
          68,
          69,
          70,
          71,
          72,
          73,
          74,
          75,
          76,
          77,
          78,
          79,
          80,
          81,
          82,
          83,
          84,
          85,
          86,
          87,
          88,
          89,
          90,
          91,
          92,
          93,
          94,
          95,
          96,
          97,
          98,
          99
         ],
         "y": {
          "bdata": "AAAAAAAAAAAAAAAAAAAAAAAAAAAAAAAAAAAAAAAAAAAAAAAAAAAAAAAAAAAAAAAAAAAAAAAAAAAAAAAAAAAAAAAAAAAAAAAAAAAAAAAAAAAAAAAAAAAAAAAAAAAAAAAAAAAAAAAAAAAAAAAAAAAAAAAAAAAAAAAAAAAAAAAAAAAAAAAAAAAAAAAAAAAAAAAAAAAAAAAAAAAAAAAAAAAAAAAAAAAAAAAAAAAAAAAAAAAAAAAAAAAAAAAAAAAAAAAAAAAAAAAAAAAAAAAAAAAAAAAAAAAAAAAAAAAAAAAAAAAAAAAAAAAAAAAAAAAAAAAAAAAAAAAAAAAAAAAAAAAAAAAAAAAAAAAAAAAAAAAAAAAAAAAAAAAAAAAAAAAAAAAAAAAAAAAAAAAAAAAAAAAAAAAAAAAAAAAAAAAAAAAAAAAAAAAAAAAAAAAAAAAAAAAAAAAAAAAAAAAAAAAAAAAAAAAAAAAAAAAAAAAAAAAAAAAAAAAAAAAAAAAAAAAAAAAAAAAAAAAAAAAAAAAAAAAAAAAAAAAAAAAAAAAAAAAAAAAAAAAAAAAAAAAAAAAAAAAAAAAAAAAAAAAAAAAAAAAAAAAAAAAAAAAAAAAAAAAAAAAAAAAAAAAAAAAAAAAAAAAAAAAAAAAAAAAAAAAAAAAAAAAAAAAAAAAAAAAAAAAAAAAAAAAAAAAAAAAAAAAAAAAAAAAAAAAAAAAAAAAAAAAAAAAAAAAAAAAAAAAAAAAAAAAAAAAAAAAAAAAAAAAAAAAAAAAAAAAAAAAAAAAAAAAAAAAAAAAAAAAAAAAAAAAAAAAAAAAAAAAAAAAAAAAAAAAAAAAAAAAAAAAAAAAAAAAAAAAAAAAAAAAAAAAAAAAAAAAAAAAAAAAAAAAAAAAAAAAAAAAAAAAAAAAAAAAAAAAAAAAAAAAAAAAAAAAAAAAAAAAAAAAAAAAAAAAAAAAAAAAAAAAAAAAAAAAAAAAAAAAAAAAAAAAAAAAAAAAAAAAAAAAAAAAAAAAAAAAAAAAAAAAAAAAAAAAAAAAAAAAAAAAAAAAAAAAAAAAAAAAAAAAAAAA=",
          "dtype": "f8"
         }
        },
        {
         "marker": {
          "color": "rgb(136, 136, 136)"
         },
         "name": "Freier Fall",
         "type": "bar",
         "x": [
          0,
          1,
          2,
          3,
          4,
          5,
          6,
          7,
          8,
          9,
          10,
          11,
          12,
          13,
          14,
          15,
          16,
          17,
          18,
          19,
          20,
          21,
          22,
          23,
          24,
          25,
          26,
          27,
          28,
          29,
          30,
          31,
          32,
          33,
          34,
          35,
          36,
          37,
          38,
          39,
          40,
          41,
          42,
          43,
          44,
          45,
          46,
          47,
          48,
          49,
          50,
          51,
          52,
          53,
          54,
          55,
          56,
          57,
          58,
          59,
          60,
          61,
          62,
          63,
          64,
          65,
          66,
          67,
          68,
          69,
          70,
          71,
          72,
          73,
          74,
          75,
          76,
          77,
          78,
          79,
          80,
          81,
          82,
          83,
          84,
          85,
          86,
          87,
          88,
          89,
          90,
          91,
          92,
          93,
          94,
          95,
          96,
          97,
          98,
          99
         ],
         "y": {
          "bdata": "AAAAAAAAAAAAAAAAAAAAAAAAAAAAAAAAAAAAAAAAAAAAAAAAAAAAAAAAAAAAAAAAAAAAAAAAAAAAAAAAAAAAAAAAAAAAAAAAAAAAAAAAAAAAAAAAAAAAAAAAAAAAAAAAAAAAAAAAAAAAAAAAAAAAAAAAAAAAAAAAAAAAAAAAAAAAAAAAAAAAAAAAAAAAAAAAAAAAAAAAAAAAAAAAAAAAAAAAAAAAAAAAAAAAAAAAAAAAAAAAAAAAAAAAAAAAAAAAAAAAAAAAAAAAAAAAAAAAAAAAAAAAAAAAAAAAAAAAAAAAAAAAAAAAAAAAAAAAAAAAAAAAAAAAAAAAAAAAAAAAAAAAAAAAAAAAAAAAAAAAAAAAAAAAAAAAAAAAAAAAAAAAAAAAAAAAAAAAAAAAAAAAAAAAAAAAAAAAAAAAAAAAAAAAAAAAAAAAAAAAAAAAAAAAAAAAAAAAAAAAAAAAAAAAAAAAAAAAAAAAAAAAAAAAAAAAAAAAAAAAAAAAAAAAAAAAAAAAAAAAAAAAAAAAAAAAAAAAAAAAAAAAAAAAAAAAAAAAAAAAAAAAAAAAAAAAAAAAAAAAAAAAAAAAAAAAAAAAAAAAAAAAAAAAAAAAAAAAAAAAAAAAAAAAAAAAAAAAAAAAAAAAAAAAAAAAAAAAAAAAAAAAAAAAAAAAAAAAAAAAAAAAAAAAAAAAAAAAAAAAAAAAAAAAAAAAAAAAAAAAAAAAAAAAAAAAAAAAAAAAAAAAAAAAAAAAAAAAAAAAAAAAAAAAAAAAAAAAAAAAAAAAAAAAAAAAAAAAAAAAAAAAAAAAAAAAAAAAAAAAAAAAAAAAAAAAAAAAAAAAAAAAAAAAAAAAAAAAAAAAAAAAAAAAAAAAAAAAAAAAAAAAAAAAAAAAAAAAAAAAAAAAAAAAAAAAAAAAAAAAAAAAAAAAAAAAAAAAAAAAAAAAAAAAAAAAAAAAAAAAAAAAAAAAAAAAAAAAAAAAAAAAAAAAAAAAAAAAAAAAAAAAAAAAAAAAAAAAAAAAAAAAAAAAAAAAAAAAAAAAAAAAAAAAAAAAAAAAAAAAAAAAAAA=",
          "dtype": "f8"
         }
        },
        {
         "marker": {
          "color": "rgb(136, 204, 238)"
         },
         "name": "Elytrarennen",
         "type": "bar",
         "x": [
          0,
          1,
          2,
          3,
          4,
          5,
          6,
          7,
          8,
          9,
          10,
          11,
          12,
          13,
          14,
          15,
          16,
          17,
          18,
          19,
          20,
          21,
          22,
          23,
          24,
          25,
          26,
          27,
          28,
          29,
          30,
          31,
          32,
          33,
          34,
          35,
          36,
          37,
          38,
          39,
          40,
          41,
          42,
          43,
          44,
          45,
          46,
          47,
          48,
          49,
          50,
          51,
          52,
          53,
          54,
          55,
          56,
          57,
          58,
          59,
          60,
          61,
          62,
          63,
          64,
          65,
          66,
          67,
          68,
          69,
          70,
          71,
          72,
          73,
          74,
          75,
          76,
          77,
          78,
          79,
          80,
          81,
          82,
          83,
          84,
          85,
          86,
          87,
          88,
          89,
          90,
          91,
          92,
          93,
          94,
          95,
          96,
          97,
          98,
          99
         ],
         "y": {
          "bdata": "AAAAAADgVUAAAAAAAMBHQAAAAAAAAE5AAAAAAAAAFEAAAAAAAAAeQAAAAAAAAERAAAAAAABAQEAAAAAAAAAAAAAAAAAAAAAAAAAAAAAAAAAAAAAAAAA0QAAAAAAAAAAAAAAAAAAAAAAAAAAAAAAAAAAAAAAAIFJAAAAAAAAAHkAAAAAAAAAAAAAAAAAAAERAAAAAAAAAAAAAAAAAAAAAAAAAAAAAAAAAAAAAAAAAAAAAAAAAAAAAAAAAAAAAAAAAAAAAAAAAAAAAAAAAAAAkQAAAAAAAAC5AAAAAAAAAAAAAAAAAAAApQAAAAAAAAAAAAAAAAAAAAAAAAAAAAEBKQAAAAAAAADlAAAAAAAAAAAAAAAAAAAAAAAAAAAAAAAAAAAAAAAAAAAAAAAAAAAAAAAAAAAAAAAAAAAAAAAAAAAAAAAAAAAAAAAAAAAAAAAAAAAAAAAAAAAAAAAAAAAAAAAAAAAAAAAAAAAAAAAAAAAAAAAAAAAAAAAAAAAAAAAAAAAAAAAAAAAAAAAAAAAAAAAAAAAAAAAAAAAAAAAAAAAAAAAAAAAAAAAAAAAAAAAAAAAAAAAAAAAAAAAAAAAAAAAAAAAAAAAAAAAAAAAAAAAAAAAAAAAAAAAAAAAAAAAAAAAAAAAAAAAAAAAAAAAAAAAAAAAAAAAAAAAAAAAAAAAAAAAAAAAAAAAAAAAAAABRAAAAAAAAAAAAAAAAAAAAAAAAAAAAAAAAAAAAAAAAAAAAAAAAAAAAAAAAAAAAAAAAAAAAAAAAAAAAAAAAAAAAAAAAAAAAAAAAAAAAAAAAAAAAAAAAAAAAAAAAAAAAAAAAAAAAAAAAAAAAAAAAAAAAAAAAAAAAAAAAAAAAAAAAAAAAAAAAAAAAAAAAAAAAAAAAAAAAAAAAAAAAAAAAAAAAAAAAAAAAAAAAAAAAAAAAAAAAAAAAAAAAAAAAAAAAAAAAAAAAAAAAAAAAAAAAAAAAAAAAAAAAAAAAAAAAAAAAAAAAAAAAAAAAAAAAAAAAAAAAAAAAAAAAAAAAAAAAAAAAAAAAAAAAAAAAAAAAAAAAAAAA=",
          "dtype": "f8"
         }
        },
        {
         "marker": {
          "color": "rgb(204, 102, 119)"
         },
         "name": "Waffenfolge",
         "type": "bar",
         "x": [
          0,
          1,
          2,
          3,
          4,
          5,
          6,
          7,
          8,
          9,
          10,
          11,
          12,
          13,
          14,
          15,
          16,
          17,
          18,
          19,
          20,
          21,
          22,
          23,
          24,
          25,
          26,
          27,
          28,
          29,
          30,
          31,
          32,
          33,
          34,
          35,
          36,
          37,
          38,
          39,
          40,
          41,
          42,
          43,
          44,
          45,
          46,
          47,
          48,
          49,
          50,
          51,
          52,
          53,
          54,
          55,
          56,
          57,
          58,
          59,
          60,
          61,
          62,
          63,
          64,
          65,
          66,
          67,
          68,
          69,
          70,
          71,
          72,
          73,
          74,
          75,
          76,
          77,
          78,
          79,
          80,
          81,
          82,
          83,
          84,
          85,
          86,
          87,
          88,
          89,
          90,
          91,
          92,
          93,
          94,
          95,
          96,
          97,
          98,
          99
         ],
         "y": {
          "bdata": "AAAAAAAAAAAAAAAAAAAAAAAAAAAAAAAAAAAAAAAAAAAAAAAAAAAAAAAAAAAAAAAAAAAAAAAAAAAAAAAAAAAAAAAAAAAAAAAAAAAAAAAAAAAAAAAAAAAAAAAAAAAAAAAAAAAAAAAAAAAAAAAAAAAAAAAAAAAAAAAAAAAAAAAAAAAAAAAAAAAAAAAAAAAAAAAAAAAAAAAAAAAAAAAAAAAAAAAAAAAAAAAAAAAAAAAAAAAAAAAAAAAAAAAAAAAAAAAAAAAAAAAAAAAAAAAAAAAAAAAAAAAAAAAAAAAAAAAAAAAAAAAAAAAAAAAAAAAAAAAAAAAAAAAAAAAAAAAAAAAAAAAAAAAAAAAAAAAAAAAAAAAAAAAAAAAAAAAAAAAAAAAAAAAAAAAAAAAAAAAAAAAAAAAAAAAAAAAAAAAAAAAAAAAAAAAAAAAAAAAAAAAAAAAAAAAAAAAAAAAAAAAAAAAAAAAAAAAAAAAAAAAAAAAAAAAAAAAAAAAAAAAAAAAAAAAAAAAAAAAAAAAAAAAAAAAAAAAAAAAAAAAAAAAAAAAAAAAAAAAAAAAAAAAAAAAAAAAAAAAAAAAAAAAAAAAAAAAAAAAAAAAAAAAAAAAAAAAAAAAAAAAAAAAAAAAAAAAAAAAAAAAAAAAAAAAAAAAAAAAAAAAAAAAAAAAAAAAAAAAAAAAAAAAAAAAAAAAAAAAAAAAAAAAAAAAAAAAAAAAAAAAAAAAAAAAAAAAAAAAAAAAAAAAAAAAAAAAAAAAAAAAAAAAAAAAAAAAAAAAAAAAAAAAAAAAAAAAAAAAAAAAAAAAAAAAAAAAAAAAAAAAAAAAAAAAAAAAAAAAAAAAAAAAAAAAAAAAAAAAAAAAAAAAAAAAAAAAAAAAAAAAAAAAAAAAAAAAAAAAAAAAAAAAAAAAAAAAAAAAAAAAAAAAAAAAAAAAAAAAAAAAAAAAAAAAAAAAAAAAAAAAAAAAAAAAAAAAAAAAAAAAAAAAAAAAAAAAAAAAAAAAAAAAAAAAAAAAAAAAAAAAAAAAAAAAAAAAAAAAAAAAAAAAAAAAAAAAAAAAAAAAAAAA=",
          "dtype": "f8"
         }
        },
        {
         "marker": {
          "color": "rgb(221, 204, 119)"
         },
         "name": "Minenfeld",
         "type": "bar",
         "x": [
          0,
          1,
          2,
          3,
          4,
          5,
          6,
          7,
          8,
          9,
          10,
          11,
          12,
          13,
          14,
          15,
          16,
          17,
          18,
          19,
          20,
          21,
          22,
          23,
          24,
          25,
          26,
          27,
          28,
          29,
          30,
          31,
          32,
          33,
          34,
          35,
          36,
          37,
          38,
          39,
          40,
          41,
          42,
          43,
          44,
          45,
          46,
          47,
          48,
          49,
          50,
          51,
          52,
          53,
          54,
          55,
          56,
          57,
          58,
          59,
          60,
          61,
          62,
          63,
          64,
          65,
          66,
          67,
          68,
          69,
          70,
          71,
          72,
          73,
          74,
          75,
          76,
          77,
          78,
          79,
          80,
          81,
          82,
          83,
          84,
          85,
          86,
          87,
          88,
          89,
          90,
          91,
          92,
          93,
          94,
          95,
          96,
          97,
          98,
          99
         ],
         "y": {
          "bdata": "AAAAAAAAJEAAAAAAAAAkQKuqqqqqqkBAAAAAAAAAAACrqqqqqqo6QAAAAAAAAElAVVVVVVVVR0AAAAAAAAAAAAAAAAAAAAAAAAAAAAAAAACrqqqqqqowQAAAAAAAAD5AAAAAAAAAAAAAAAAAAAAAAFVVVVVVVTdAAAAAAAAAAAAAAAAAAAAAAAAAAAAAAAAAq6qqqqqqMEAAAAAAAAAAAAAAAAAAAAAAAAAAAAAAAACrqqqqqqoaQAAAAAAAAAAAAAAAAAAAAABVVVVVVVU3QAAAAAAAAAAAAAAAAAAAAAAAAAAAAAAAAAAAAAAAAAAAAAAAAAAAAAAAAAAAAAAAAAAAAAAAAAAAAAAAAAAAAAAAAAAAAAAAAAAAAAAAAAAAAAAAAAAAAACrqqqqqqoqQAAAAAAAAAAAq6qqqqqqGkAAAAAAAAAAAAAAAAAAAAAAAAAAAAAAAAAAAAAAAAAAAAAAAAAAAAAAAAAAAAAAAAAAAAAAAAAAAAAAAAAAAAAAAAAAAAAAAAAAAAAAAAAAAKuqqqqqqkBAAAAAAAAAAAAAAAAAAAAAAFVVVVVVVUdAAAAAAAAAAACrqqqqqqpAQAAAAAAAAAAAAAAAAAAAAABVVVVVVVU3QAAAAAAAAAAAAAAAAAAAAAAAAAAAAAAAAAAAAAAAAAAAAAAAAAAAAAAAAAAAAAA+QAAAAAAAAAAAAAAAAAAAAAAAAAAAAAAAAAAAAAAAAAAAAAAAAAAAAAAAAAAAAAAAAAAAAAAAAAAAAAAAAAAAAAAAAAAAAAAAAAAAAAAAAAAAAAAAAAAAAAAAAAAAAAAAAAAAAAAAAAAAAAAAAAAAAAAAAAAAAAAAAAAAAAAAAAAAAAAAAAAAPkAAAAAAAAAAAAAAAAAAAAAAAAAAAAAAAAAAAAAAAAAAAAAAAAAAAAAAAAAAAAAAAAAAAAAAAAAAAAAAAAAAAAAAAAAAAAAAAAAAAAAAAAAAAAAAAAAAAAAAAAAAAAAAAAAAAAAAAAAAAAAAAAAAAAAAAAAAAAAAAAAAAAAAAAAAAAAAAAAAAAAAAAAAAAAAAAA=",
          "dtype": "f8"
         }
        },
        {
         "marker": {
          "color": "rgb(17, 119, 51)"
         },
         "name": "Kletterkönig",
         "type": "bar",
         "x": [
          0,
          1,
          2,
          3,
          4,
          5,
          6,
          7,
          8,
          9,
          10,
          11,
          12,
          13,
          14,
          15,
          16,
          17,
          18,
          19,
          20,
          21,
          22,
          23,
          24,
          25,
          26,
          27,
          28,
          29,
          30,
          31,
          32,
          33,
          34,
          35,
          36,
          37,
          38,
          39,
          40,
          41,
          42,
          43,
          44,
          45,
          46,
          47,
          48,
          49,
          50,
          51,
          52,
          53,
          54,
          55,
          56,
          57,
          58,
          59,
          60,
          61,
          62,
          63,
          64,
          65,
          66,
          67,
          68,
          69,
          70,
          71,
          72,
          73,
          74,
          75,
          76,
          77,
          78,
          79,
          80,
          81,
          82,
          83,
          84,
          85,
          86,
          87,
          88,
          89,
          90,
          91,
          92,
          93,
          94,
          95,
          96,
          97,
          98,
          99
         ],
         "y": {
          "bdata": "VVVVVVVVN0BVVVVVVVU3QAAAAAAAACRAVVVVVVVVR0BVVVVVVVVHQAAAAAAAADRAVVVVVVVVTECrqqqqqqoqQAAAAAAAAAAAq6qqqqqqGkCrqqqqqqpQQAAAAAAAACRAAAAAAAAAAAAAAAAAAAAAAAAAAAAAAD5AAAAAAAAANEAAAAAAAAAAAAAAAAAAAAAAAAAAAAAAAAAAAAAAAAAAAAAAAAAAAAAAAAAAAAAAAAAAAAAAAAAAAAAAAAAAAAAAAAAAAAAAAAAAAAAAAAAAAAAAAAAAAAAAAAAAAAAAAAAAAAAAAAAAAAAAAAAAAAAAAAAAAAAAAACrqqqqqqo6QAAAAAAAAAAAAAAAAAAAAAAAAAAAAAAAAAAAAAAAAAAAAAAAAAAAAAAAAAAAAAAAAAAAAAAAAAAAAAAAAAAAAAAAAAAAAAAAAAAAAAAAAAAAAAAAAAAAAAAAAAAAAABJQAAAAAAAADRAAAAAAAAAAAAAAAAAAAAAAAAAAAAAAAAAAAAAAAAAAAAAAAAAAAAAAAAAAAAAAAAAAAAAAAAAAAAAAAAAAAAAAAAAAAAAAAAAAAAAAAAAAAAAAAAAAAAAAAAAAAAAAAAAAAAAAAAAAAAAAAAAAAAkQKuqqqqqqipAq6qqqqqqGkAAAAAAAAAAAAAAAAAAAAAAAAAAAAAAAAAAAAAAAAAAAAAAAAAAAAAAAAAAAAAAAAAAAAAAAAAAAAAAAAAAAAAAAAAAAAAAAAAAAAAAAAAAAAAAAAAAAAAAAAAAAAAAAAAAAAAAAAAAAKuqqqqqqipAAAAAAAAAAAAAAAAAAAAAAAAAAAAAAAAAAAAAAAAAAAAAAAAAAAAAAAAAAAAAAAAAAAAAAAAAAAAAAAAAAAAAAKuqqqqqqjpAAAAAAAAAAAAAAAAAAAAAAAAAAAAAAAAAAAAAAAAAAAAAAAAAAAAAAAAAAAAAAAAAAAAAAAAAAAAAAAAAAAAAAAAAAAAAAAAAAAAAAAAAAAAAAAAAAAAAAAAAAAAAAAAAAAAAAAAAAAAAAAAAAAAAAAAAAAAAAAAAAAAAAAAAAAA=",
          "dtype": "f8"
         }
        },
        {
         "marker": {
          "color": "rgb(51, 34, 136)"
         },
         "name": "Ampelrennen",
         "type": "bar",
         "x": [
          0,
          1,
          2,
          3,
          4,
          5,
          6,
          7,
          8,
          9,
          10,
          11,
          12,
          13,
          14,
          15,
          16,
          17,
          18,
          19,
          20,
          21,
          22,
          23,
          24,
          25,
          26,
          27,
          28,
          29,
          30,
          31,
          32,
          33,
          34,
          35,
          36,
          37,
          38,
          39,
          40,
          41,
          42,
          43,
          44,
          45,
          46,
          47,
          48,
          49,
          50,
          51,
          52,
          53,
          54,
          55,
          56,
          57,
          58,
          59,
          60,
          61,
          62,
          63,
          64,
          65,
          66,
          67,
          68,
          69,
          70,
          71,
          72,
          73,
          74,
          75,
          76,
          77,
          78,
          79,
          80,
          81,
          82,
          83,
          84,
          85,
          86,
          87,
          88,
          89,
          90,
          91,
          92,
          93,
          94,
          95,
          96,
          97,
          98,
          99
         ],
         "y": {
          "bdata": "AAAAAAAAAAAAAAAAAAAuQAAAAAAAAFRAAAAAAAAAAAAAAAAAAIBBQAAAAAAAACRAAAAAAAAAAAAAAAAAAAAuQAAAAAAAgFFAAAAAAAAASUAAAAAAAAAAAAAAAAAAAAAAAAAAAAAASUAAAAAAAIBLQAAAAAAAAAAAAAAAAAAAAAAAAAAAAAAAAAAAAAAAAAAAAAAAAAAAAAAAAAAAAIBGQAAAAAAAAAAAAAAAAAAAAAAAAAAAAAAAAAAAAAAAAAAAAAAAAAAAAAAAAAAAAAAAAAAAAAAAAAAAAAAAAAAAAAAAAAAAAAAAAAAAAAAAAAAAAAAAAAAAAAAAAAAAAAAAAAAAAAAAAAAAAAAAAAAAAAAAAAAAAAAAAAAAAAAAAAAAAAAAAAAAAAAAAAAAAAAAAAAAAAAAAAAAAAAAAAAAAAAAAAAAAAAAAAAAAAAAAAAAAAAAAAAAAAAAAAAAAAAAAAAAAAAAAAAAAAAAAAAAAAAAAAAAAAAAAAAAAAAAAAAAAAAAAAAAJEAAAAAAAAA0QAAAAAAAAAAAAAAAAAAAAAAAAAAAAAAAAAAAAAAAAAAAAAAAAAAAAAAAAAAAAIBBQAAAAAAAADRAAAAAAAAAAAAAAAAAAAAAAAAAAAAAAAAAAAAAAAAAAAAAAAAAAAAAAAAAAAAAAAAAAAAAAAAAAAAAAAAAAAAAAAAAAAAAAAAAAAAAAAAAAAAAAAAAAAAAAAAAAAAAAAAAAAAAAAAAAAAAAAAAAAAAAAAAAAAAAAAAAAAAAAAAAAAAAAAAAAAAAAAAAAAAAAAAAAAAAAAAPkAAAAAAAAAAAAAAAAAAAAAAAAAAAAAAAAAAAAAAAAAAAAAAAAAAAAAAAAAAAAAAAAAAAAAAAAAAAAAAAAAAAAAAAAAAAAAAAAAAAAAAAAAAAAAAAAAAAAAAAAAAAAAAAAAAAAAAAAAAAAAAAAAAAAAAAAAAAAAAAAAAAAAAAAAAAAAAAAAAAAAAAAAAAAAAAAAAAAAAAAAAAAAAAAAAAAAAAAAAAAAAAAAAAAAAAAAAAAAAAAAAAAAAAAAAAAAAAAA=",
          "dtype": "f8"
         }
        },
        {
         "marker": {
          "color": "rgb(170, 68, 153)"
         },
         "name": "Hoch hinaus",
         "type": "bar",
         "x": [
          0,
          1,
          2,
          3,
          4,
          5,
          6,
          7,
          8,
          9,
          10,
          11,
          12,
          13,
          14,
          15,
          16,
          17,
          18,
          19,
          20,
          21,
          22,
          23,
          24,
          25,
          26,
          27,
          28,
          29,
          30,
          31,
          32,
          33,
          34,
          35,
          36,
          37,
          38,
          39,
          40,
          41,
          42,
          43,
          44,
          45,
          46,
          47,
          48,
          49,
          50,
          51,
          52,
          53,
          54,
          55,
          56,
          57,
          58,
          59,
          60,
          61,
          62,
          63,
          64,
          65,
          66,
          67,
          68,
          69,
          70,
          71,
          72,
          73,
          74,
          75,
          76,
          77,
          78,
          79,
          80,
          81,
          82,
          83,
          84,
          85,
          86,
          87,
          88,
          89,
          90,
          91,
          92,
          93,
          94,
          95,
          96,
          97,
          98,
          99
         ],
         "y": {
          "bdata": "AAAAAAAAVEAAAAAAAAA+QAAAAAAAAERAAAAAAAAAAAAAAAAAAABJQAAAAAAAAAAAAAAAAAAAAAAAAAAAAAAAAAAAAAAAgFZAAAAAAAAAAAAAAAAAAAAAAAAAAAAAAAAAAAAAAAAANEAAAAAAAABOQAAAAAAAAAAAAAAAAAAAAAAAAAAAAAAAAAAAAAAAAAAAAAAAAAAAAAAAAAAAAAAAAAAAAAAAAAAAAAAAAAAAAAAAAAAAAIBRQAAAAAAAAAAAAAAAAAAAAAAAAAAAAAAAAAAAAAAAAAAAAAAAAAAAAAAAAAAAAAAAAAAAAAAAAAAAAAAAAAAAAAAAAAAAAAAAAAAAAAAAAAAAAAAAAAAAAAAAAAAAAAAAAAAAAAAAAAAAAAAAAAAAAAAAAAAAAAAAAAAAAAAAAAAAAAAAAAAAAAAAAAAAAAAAAAAAAAAAAAAAAAAAAAAAAAAAAAAAAAAAAAAAAAAAAAAAAAAAAAAAAAAAAAAAAAAAAAAAAAAAAFlAAAAAAAAAAAAAAAAAAAAAAAAAAAAAAAAAAAAAAAAAAAAAAAAAAAAAAAAAAAAAAAAAAAAAAAAAAAAAAAAAAAAAAAAAAAAAAAAAAAAAAAAAAAAAAAAAAAAAAAAAAAAAAAAAAAAAAAAAAAAAAAAAAAAAAAAAAAAAAAAAAAAAAAAAAAAAAAAAAAAAAAAAAAAAAAAAAAAAAAAAAAAAAAAAAAAAAAAAAAAAAAAAAAAAAAAAAAAAAAAAAAAAAAAAAAAAAAAAAAAAAAAAAAAAAAAAAAAAAAAAAAAAAAAAAAAAAAAAAAAAAAAAAAAAAAAAAAAAAAAAAAAAAAAAAAAAAAAAAAAAAAAAAAAAAAAAAAAAAAAAAAAAAAAAAAAAAAAAAAAAAAAAAAAAAAAAAAAAAAAAAAAAAAAAAAAAAAAAAAAAAAAAAAAAAAAAAAAAAAAAAAAAAAAAAAAAAAAAAAAAAAAAAAAAAAAAAAAAAAAAAAAAAAAAAAAAAAAAAAAAAAAAAAAAAAAAAAAAAAAAAAAAAAAAAAAAAAAAAAAAAAAAAAAAAAAAAAA=",
          "dtype": "f8"
         }
        },
        {
         "marker": {
          "color": "rgb(68, 170, 153)"
         },
         "name": "Frostiger Pfad",
         "type": "bar",
         "x": [
          0,
          1,
          2,
          3,
          4,
          5,
          6,
          7,
          8,
          9,
          10,
          11,
          12,
          13,
          14,
          15,
          16,
          17,
          18,
          19,
          20,
          21,
          22,
          23,
          24,
          25,
          26,
          27,
          28,
          29,
          30,
          31,
          32,
          33,
          34,
          35,
          36,
          37,
          38,
          39,
          40,
          41,
          42,
          43,
          44,
          45,
          46,
          47,
          48,
          49,
          50,
          51,
          52,
          53,
          54,
          55,
          56,
          57,
          58,
          59,
          60,
          61,
          62,
          63,
          64,
          65,
          66,
          67,
          68,
          69,
          70,
          71,
          72,
          73,
          74,
          75,
          76,
          77,
          78,
          79,
          80,
          81,
          82,
          83,
          84,
          85,
          86,
          87,
          88,
          89,
          90,
          91,
          92,
          93,
          94,
          95,
          96,
          97,
          98,
          99
         ],
         "y": {
          "bdata": "AAAAAAAAAAAAAAAAAAAAAAAAAAAAAAAAAAAAAAAAAAAAAAAAAAAAAAAAAAAAAAAAAAAAAAAAAAAAAAAAAAAAAAAAAAAAAAAAAAAAAAAAAAAAAAAAAAAAAAAAAAAAAAAAAAAAAAAAAAAAAAAAAAAAAAAAAAAAAAAAAAAAAAAAAAAAAAAAAAAAAAAAAAAAAAAAAAAAAAAAAAAAAAAAAAAAAAAAAAAAAAAAAAAAAAAAAAAAAAAAAAAAAAAAAAAAAAAAAAAAAAAAAAAAAAAAAAAAAAAAAAAAAAAAAAAAAAAAAAAAAAAAAAAAAAAAAAAAAAAAAAAAAAAAAAAAAAAAAAAAAAAAAAAAAAAAAAAAAAAAAAAAAAAAAAAAAAAAAAAAAAAAAAAAAAAAAAAAAAAAAAAAAAAAAAAAAAAAAAAAAAAAAAAAAAAAAAAAAAAAAAAAAAAAAAAAAAAAAAAAAAAAAAAAAAAAAAAAAAAAAAAAAAAAAAAAAAAAAAAAAAAAAAAAAAAAAAAAAAAAAAAAAAAAAAAAAAAAAAAAAAAAAAAAAAAAAAAAAAAAAAAAAAAAAAAAAAAAAAAAAAAAAAAAAAAAAAAAAAAAAAAAAAAAAAAAAAAAAAAAAAAAAAAAAAAAAAAAAAAAAAAAAAAAAAAAAAAAAAAAAAAAAAAAAAAAAAAAAAAAAAAAAAAAAAAAAAAAAAAAAAAAAAAAAAAAAAAAAAAAAAAAAAAAAAAAAAAAAAAAAAAAAAAAAAAAAAAAAAAAAAAAAAAAAAAAAAAAAAAAAAAAAAAAAAAAAAAAAAAAAAAAAAAAAAAAAAAAAAAAAAAAAAAAAAAAAAAAAAAAAAAAAAAAAAAAAAAAAAAAAAAAAAAAAAAAAAAAAAAAAAAAAAAAAAAAAAAAAAAAAAAAAAAAAAAAAAAAAAAAAAAAAAAAAAAAAAAAAAAAAAAAAAAAAAAAAAAAAAAAAAAAAAAAAAAAAAAAAAAAAAAAAAAAAAAAAAAAAAAAAAAAAAAAAAAAAAAAAAAAAAAAAAAAAAAAAAAAAAAAAAAAAAAAAAAAAAAAAAAAAAAAAAA=",
          "dtype": "f8"
         }
        },
        {
         "marker": {
          "color": "rgb(153, 153, 51)"
         },
         "name": "Runterpurzeln",
         "type": "bar",
         "x": [
          0,
          1,
          2,
          3,
          4,
          5,
          6,
          7,
          8,
          9,
          10,
          11,
          12,
          13,
          14,
          15,
          16,
          17,
          18,
          19,
          20,
          21,
          22,
          23,
          24,
          25,
          26,
          27,
          28,
          29,
          30,
          31,
          32,
          33,
          34,
          35,
          36,
          37,
          38,
          39,
          40,
          41,
          42,
          43,
          44,
          45,
          46,
          47,
          48,
          49,
          50,
          51,
          52,
          53,
          54,
          55,
          56,
          57,
          58,
          59,
          60,
          61,
          62,
          63,
          64,
          65,
          66,
          67,
          68,
          69,
          70,
          71,
          72,
          73,
          74,
          75,
          76,
          77,
          78,
          79,
          80,
          81,
          82,
          83,
          84,
          85,
          86,
          87,
          88,
          89,
          90,
          91,
          92,
          93,
          94,
          95,
          96,
          97,
          98,
          99
         ],
         "y": {
          "bdata": "AAAAAAAATkAAAAAAAABUQAAAAAAAAAAAAAAAAAAAWUAAAAAAAAAAAAAAAAAAAD5AAAAAAACAUUAAAAAAAABJQAAAAAAAAERAAAAAAAAAAAAAAAAAAAAAAAAAAAAAAAAAAAAAAAAAAAAAAAAAAAAAAAAAAAAAAAAAAAAAAAAAAAAAAAAAAAAAAAAAAAAAAAAAAAAAAAAAAAAAAAAAAAAAAAAAAAAAAAAAAAAAAAAANEAAAAAAAAAAAAAAAAAAAAAAAAAAAAAAAAAAAAAAAAAAAAAAAAAAAAAAAAAAAAAAAAAAAAAAAAAAAAAAAAAAAAAAAAAAAAAAAAAAAAAAAAAAAAAAAAAAAAAAAAAAAAAAAAAAAAAAAAAAAAAAAAAAAAAAAAAAAAAAAAAAAAAAAAAAAAAAAAAAgFZAAAAAAAAAAAAAAAAAAAAAAAAAAAAAAAAAAAAAAAAAAAAAAAAAAAAAAAAAAAAAAAAAAAAAAAAAAAAAAAAAAAAAAAAAAAAAAAAAAAAAAAAAAAAAAAAAAAAAAAAAAAAAAAAAAAAAAAAAAAAAAAAAAAAAAAAAAAAAAAAAAAAAAAAAAAAAAAAAAAAAAAAAAAAAAAAAAAAAAAAAAAAAAAAAAAAAAAAAAAAAAAAAAAAAAAAAAAAAAAAAAAAAAAAAAAAAAAAAAAAAAAAAAAAAAAAAAAAAAAAAAAAAAAAAAAAAAAAAAAAAAAAAAAAAAAAAAAAAAAAAAAAAAAAAAAAAAAAAAAAAAAAAAAAAAAAAAAAAAAAAAAAAAAAAAAAAAAAAAAAAAAAAAAAAAAAAAAAAAAAAAAAAAAAAAAAAAAAAAAAAAAAAAAAAAAAAAAAAAAAAAAAAAAAAAAAAAAAAAAAAAAAAAAAAAAAAAAAAAAAAAAAAAAAAAAAAAAAAAAAAAAAAAAAAAAAAAAAAAAAAAAAAAAAAAAAAAAAAAAAAAAAAAAAAAAAAAAAAAAAAAAAAAAAAAAAAAAAAAAAAAAAAAAAAAAAAAAAAAAAAAAAAAAAAAAAAAAAAAAAAAAAAAAAAAAAAAAAAAAAAAAAAAAAAAAA=",
          "dtype": "f8"
         }
        }
       ],
       "layout": {
        "annotations": [
         {
          "font": {
           "size": 12
          },
          "showarrow": false,
          "text": "Max 100 points per minigame. Records #1 through #10 of games & maps in the active pool are considered (#1: 100, #2: 90, ..., #10: 10). If a minigame has multiple maps, the 100 points are distributed equally. fflopse.github.io/MCP-Records/data-analysis/global-ranking.ipynb",
          "x": 0.5,
          "xanchor": "center",
          "xref": "paper",
          "y": 1.1635,
          "yref": "paper"
         }
        ],
        "barmode": "stack",
        "legend": {
         "bgcolor": "rgba(255, 255, 255, 0)",
         "bordercolor": "rgba(0, 0, 0, 0)",
         "font": {
          "size": 12
         },
         "traceorder": "normal",
         "x": 1.05,
         "y": 0.5
        },
        "margin": {
         "r": 200
        },
        "template": {
         "data": {
          "bar": [
           {
            "error_x": {
             "color": "#2a3f5f"
            },
            "error_y": {
             "color": "#2a3f5f"
            },
            "marker": {
             "line": {
              "color": "#E5ECF6",
              "width": 0.5
             },
             "pattern": {
              "fillmode": "overlay",
              "size": 10,
              "solidity": 0.2
             }
            },
            "type": "bar"
           }
          ],
          "barpolar": [
           {
            "marker": {
             "line": {
              "color": "#E5ECF6",
              "width": 0.5
             },
             "pattern": {
              "fillmode": "overlay",
              "size": 10,
              "solidity": 0.2
             }
            },
            "type": "barpolar"
           }
          ],
          "carpet": [
           {
            "aaxis": {
             "endlinecolor": "#2a3f5f",
             "gridcolor": "white",
             "linecolor": "white",
             "minorgridcolor": "white",
             "startlinecolor": "#2a3f5f"
            },
            "baxis": {
             "endlinecolor": "#2a3f5f",
             "gridcolor": "white",
             "linecolor": "white",
             "minorgridcolor": "white",
             "startlinecolor": "#2a3f5f"
            },
            "type": "carpet"
           }
          ],
          "choropleth": [
           {
            "colorbar": {
             "outlinewidth": 0,
             "ticks": ""
            },
            "type": "choropleth"
           }
          ],
          "contour": [
           {
            "colorbar": {
             "outlinewidth": 0,
             "ticks": ""
            },
            "colorscale": [
             [
              0,
              "#0d0887"
             ],
             [
              0.1111111111111111,
              "#46039f"
             ],
             [
              0.2222222222222222,
              "#7201a8"
             ],
             [
              0.3333333333333333,
              "#9c179e"
             ],
             [
              0.4444444444444444,
              "#bd3786"
             ],
             [
              0.5555555555555556,
              "#d8576b"
             ],
             [
              0.6666666666666666,
              "#ed7953"
             ],
             [
              0.7777777777777778,
              "#fb9f3a"
             ],
             [
              0.8888888888888888,
              "#fdca26"
             ],
             [
              1,
              "#f0f921"
             ]
            ],
            "type": "contour"
           }
          ],
          "contourcarpet": [
           {
            "colorbar": {
             "outlinewidth": 0,
             "ticks": ""
            },
            "type": "contourcarpet"
           }
          ],
          "heatmap": [
           {
            "colorbar": {
             "outlinewidth": 0,
             "ticks": ""
            },
            "colorscale": [
             [
              0,
              "#0d0887"
             ],
             [
              0.1111111111111111,
              "#46039f"
             ],
             [
              0.2222222222222222,
              "#7201a8"
             ],
             [
              0.3333333333333333,
              "#9c179e"
             ],
             [
              0.4444444444444444,
              "#bd3786"
             ],
             [
              0.5555555555555556,
              "#d8576b"
             ],
             [
              0.6666666666666666,
              "#ed7953"
             ],
             [
              0.7777777777777778,
              "#fb9f3a"
             ],
             [
              0.8888888888888888,
              "#fdca26"
             ],
             [
              1,
              "#f0f921"
             ]
            ],
            "type": "heatmap"
           }
          ],
          "histogram": [
           {
            "marker": {
             "pattern": {
              "fillmode": "overlay",
              "size": 10,
              "solidity": 0.2
             }
            },
            "type": "histogram"
           }
          ],
          "histogram2d": [
           {
            "colorbar": {
             "outlinewidth": 0,
             "ticks": ""
            },
            "colorscale": [
             [
              0,
              "#0d0887"
             ],
             [
              0.1111111111111111,
              "#46039f"
             ],
             [
              0.2222222222222222,
              "#7201a8"
             ],
             [
              0.3333333333333333,
              "#9c179e"
             ],
             [
              0.4444444444444444,
              "#bd3786"
             ],
             [
              0.5555555555555556,
              "#d8576b"
             ],
             [
              0.6666666666666666,
              "#ed7953"
             ],
             [
              0.7777777777777778,
              "#fb9f3a"
             ],
             [
              0.8888888888888888,
              "#fdca26"
             ],
             [
              1,
              "#f0f921"
             ]
            ],
            "type": "histogram2d"
           }
          ],
          "histogram2dcontour": [
           {
            "colorbar": {
             "outlinewidth": 0,
             "ticks": ""
            },
            "colorscale": [
             [
              0,
              "#0d0887"
             ],
             [
              0.1111111111111111,
              "#46039f"
             ],
             [
              0.2222222222222222,
              "#7201a8"
             ],
             [
              0.3333333333333333,
              "#9c179e"
             ],
             [
              0.4444444444444444,
              "#bd3786"
             ],
             [
              0.5555555555555556,
              "#d8576b"
             ],
             [
              0.6666666666666666,
              "#ed7953"
             ],
             [
              0.7777777777777778,
              "#fb9f3a"
             ],
             [
              0.8888888888888888,
              "#fdca26"
             ],
             [
              1,
              "#f0f921"
             ]
            ],
            "type": "histogram2dcontour"
           }
          ],
          "mesh3d": [
           {
            "colorbar": {
             "outlinewidth": 0,
             "ticks": ""
            },
            "type": "mesh3d"
           }
          ],
          "parcoords": [
           {
            "line": {
             "colorbar": {
              "outlinewidth": 0,
              "ticks": ""
             }
            },
            "type": "parcoords"
           }
          ],
          "pie": [
           {
            "automargin": true,
            "type": "pie"
           }
          ],
          "scatter": [
           {
            "fillpattern": {
             "fillmode": "overlay",
             "size": 10,
             "solidity": 0.2
            },
            "type": "scatter"
           }
          ],
          "scatter3d": [
           {
            "line": {
             "colorbar": {
              "outlinewidth": 0,
              "ticks": ""
             }
            },
            "marker": {
             "colorbar": {
              "outlinewidth": 0,
              "ticks": ""
             }
            },
            "type": "scatter3d"
           }
          ],
          "scattercarpet": [
           {
            "marker": {
             "colorbar": {
              "outlinewidth": 0,
              "ticks": ""
             }
            },
            "type": "scattercarpet"
           }
          ],
          "scattergeo": [
           {
            "marker": {
             "colorbar": {
              "outlinewidth": 0,
              "ticks": ""
             }
            },
            "type": "scattergeo"
           }
          ],
          "scattergl": [
           {
            "marker": {
             "colorbar": {
              "outlinewidth": 0,
              "ticks": ""
             }
            },
            "type": "scattergl"
           }
          ],
          "scattermap": [
           {
            "marker": {
             "colorbar": {
              "outlinewidth": 0,
              "ticks": ""
             }
            },
            "type": "scattermap"
           }
          ],
          "scattermapbox": [
           {
            "marker": {
             "colorbar": {
              "outlinewidth": 0,
              "ticks": ""
             }
            },
            "type": "scattermapbox"
           }
          ],
          "scatterpolar": [
           {
            "marker": {
             "colorbar": {
              "outlinewidth": 0,
              "ticks": ""
             }
            },
            "type": "scatterpolar"
           }
          ],
          "scatterpolargl": [
           {
            "marker": {
             "colorbar": {
              "outlinewidth": 0,
              "ticks": ""
             }
            },
            "type": "scatterpolargl"
           }
          ],
          "scatterternary": [
           {
            "marker": {
             "colorbar": {
              "outlinewidth": 0,
              "ticks": ""
             }
            },
            "type": "scatterternary"
           }
          ],
          "surface": [
           {
            "colorbar": {
             "outlinewidth": 0,
             "ticks": ""
            },
            "colorscale": [
             [
              0,
              "#0d0887"
             ],
             [
              0.1111111111111111,
              "#46039f"
             ],
             [
              0.2222222222222222,
              "#7201a8"
             ],
             [
              0.3333333333333333,
              "#9c179e"
             ],
             [
              0.4444444444444444,
              "#bd3786"
             ],
             [
              0.5555555555555556,
              "#d8576b"
             ],
             [
              0.6666666666666666,
              "#ed7953"
             ],
             [
              0.7777777777777778,
              "#fb9f3a"
             ],
             [
              0.8888888888888888,
              "#fdca26"
             ],
             [
              1,
              "#f0f921"
             ]
            ],
            "type": "surface"
           }
          ],
          "table": [
           {
            "cells": {
             "fill": {
              "color": "#EBF0F8"
             },
             "line": {
              "color": "white"
             }
            },
            "header": {
             "fill": {
              "color": "#C8D4E3"
             },
             "line": {
              "color": "white"
             }
            },
            "type": "table"
           }
          ]
         },
         "layout": {
          "annotationdefaults": {
           "arrowcolor": "#2a3f5f",
           "arrowhead": 0,
           "arrowwidth": 1
          },
          "autotypenumbers": "strict",
          "coloraxis": {
           "colorbar": {
            "outlinewidth": 0,
            "ticks": ""
           }
          },
          "colorscale": {
           "diverging": [
            [
             0,
             "#8e0152"
            ],
            [
             0.1,
             "#c51b7d"
            ],
            [
             0.2,
             "#de77ae"
            ],
            [
             0.3,
             "#f1b6da"
            ],
            [
             0.4,
             "#fde0ef"
            ],
            [
             0.5,
             "#f7f7f7"
            ],
            [
             0.6,
             "#e6f5d0"
            ],
            [
             0.7,
             "#b8e186"
            ],
            [
             0.8,
             "#7fbc41"
            ],
            [
             0.9,
             "#4d9221"
            ],
            [
             1,
             "#276419"
            ]
           ],
           "sequential": [
            [
             0,
             "#0d0887"
            ],
            [
             0.1111111111111111,
             "#46039f"
            ],
            [
             0.2222222222222222,
             "#7201a8"
            ],
            [
             0.3333333333333333,
             "#9c179e"
            ],
            [
             0.4444444444444444,
             "#bd3786"
            ],
            [
             0.5555555555555556,
             "#d8576b"
            ],
            [
             0.6666666666666666,
             "#ed7953"
            ],
            [
             0.7777777777777778,
             "#fb9f3a"
            ],
            [
             0.8888888888888888,
             "#fdca26"
            ],
            [
             1,
             "#f0f921"
            ]
           ],
           "sequentialminus": [
            [
             0,
             "#0d0887"
            ],
            [
             0.1111111111111111,
             "#46039f"
            ],
            [
             0.2222222222222222,
             "#7201a8"
            ],
            [
             0.3333333333333333,
             "#9c179e"
            ],
            [
             0.4444444444444444,
             "#bd3786"
            ],
            [
             0.5555555555555556,
             "#d8576b"
            ],
            [
             0.6666666666666666,
             "#ed7953"
            ],
            [
             0.7777777777777778,
             "#fb9f3a"
            ],
            [
             0.8888888888888888,
             "#fdca26"
            ],
            [
             1,
             "#f0f921"
            ]
           ]
          },
          "colorway": [
           "#636efa",
           "#EF553B",
           "#00cc96",
           "#ab63fa",
           "#FFA15A",
           "#19d3f3",
           "#FF6692",
           "#B6E880",
           "#FF97FF",
           "#FECB52"
          ],
          "font": {
           "color": "#2a3f5f"
          },
          "geo": {
           "bgcolor": "white",
           "lakecolor": "white",
           "landcolor": "#E5ECF6",
           "showlakes": true,
           "showland": true,
           "subunitcolor": "white"
          },
          "hoverlabel": {
           "align": "left"
          },
          "hovermode": "closest",
          "mapbox": {
           "style": "light"
          },
          "paper_bgcolor": "white",
          "plot_bgcolor": "#E5ECF6",
          "polar": {
           "angularaxis": {
            "gridcolor": "white",
            "linecolor": "white",
            "ticks": ""
           },
           "bgcolor": "#E5ECF6",
           "radialaxis": {
            "gridcolor": "white",
            "linecolor": "white",
            "ticks": ""
           }
          },
          "scene": {
           "xaxis": {
            "backgroundcolor": "#E5ECF6",
            "gridcolor": "white",
            "gridwidth": 2,
            "linecolor": "white",
            "showbackground": true,
            "ticks": "",
            "zerolinecolor": "white"
           },
           "yaxis": {
            "backgroundcolor": "#E5ECF6",
            "gridcolor": "white",
            "gridwidth": 2,
            "linecolor": "white",
            "showbackground": true,
            "ticks": "",
            "zerolinecolor": "white"
           },
           "zaxis": {
            "backgroundcolor": "#E5ECF6",
            "gridcolor": "white",
            "gridwidth": 2,
            "linecolor": "white",
            "showbackground": true,
            "ticks": "",
            "zerolinecolor": "white"
           }
          },
          "shapedefaults": {
           "line": {
            "color": "#2a3f5f"
           }
          },
          "ternary": {
           "aaxis": {
            "gridcolor": "white",
            "linecolor": "white",
            "ticks": ""
           },
           "baxis": {
            "gridcolor": "white",
            "linecolor": "white",
            "ticks": ""
           },
           "bgcolor": "#E5ECF6",
           "caxis": {
            "gridcolor": "white",
            "linecolor": "white",
            "ticks": ""
           }
          },
          "title": {
           "x": 0.05
          },
          "xaxis": {
           "automargin": true,
           "gridcolor": "white",
           "linecolor": "white",
           "ticks": "",
           "title": {
            "standoff": 15
           },
           "zerolinecolor": "white",
           "zerolinewidth": 2
          },
          "yaxis": {
           "automargin": true,
           "gridcolor": "white",
           "linecolor": "white",
           "ticks": "",
           "title": {
            "standoff": 15
           },
           "zerolinecolor": "white",
           "zerolinewidth": 2
          }
         }
        },
        "title": {
         "text": "Extended Overall Record Comparison - Top 100 Players"
        },
        "xaxis": {
         "tickmode": "array",
         "ticktext": [
          "Allooy",
          "cediiiiii_10",
          "chrisihalt",
          "Muniix",
          "Fflopse",
          "_n3d",
          "qriezmannsOpa",
          "NewNormal0947",
          "Ex4cted",
          "Gobo9",
          "ReichesBrot",
          "HerrDante",
          "Umgfoin",
          "PedroZockt",
          "Joe3346",
          "rotmann2",
          "Luxemburq",
          "yVendas",
          "FrozenNoah",
          "JOW23",
          "Ungluecklicher",
          "JennieKim",
          "Ninivee",
          "DarkCobweb",
          "Teesily",
          "Freeeedom",
          "CML_Justin",
          "Lelouch610",
          "Nor_Malo",
          "2wc",
          "KakaMC",
          "GingerTeddy",
          "Squashgitter333",
          "Grapfen",
          "yzvm",
          "Proofreader",
          "lizsyy",
          "2B9",
          "agowskyy",
          "toxicplace",
          "byTobi",
          "La_meleagro",
          "Schmaarek",
          "yiiq",
          "camman18YT",
          "vKito",
          "Shiewk",
          "ByNetherdude",
          "miridis41",
          "Vanillinchen",
          "MaxMitMaulkorb",
          "swiffle",
          "TheFabo",
          "zBro",
          "h4nnes",
          "Sey__",
          "GermanPie",
          "YBCM",
          "LeWi_100",
          "Feinberg",
          "Lubottus",
          "GeneralEnte06",
          "Stockinqs",
          "ffawks",
          "LeMetin_",
          "RasenLP",
          "AnzeigeGehtRaus",
          "xBaumeisterin",
          "Mincheeen",
          "Seemops_8",
          "DaVinci_Son",
          "unausgesprochen",
          "marbrueck",
          "Bildungsarten",
          "Wienerisch",
          "Ritokii",
          "M0osebumps",
          "NotLennart",
          "Kyuudo",
          "zLachs",
          "GamemasterNiki",
          "y9nic",
          "Morittz",
          "xX_Dima_ggg_Xx6",
          "JOW24",
          "HeIsJustAPoorBoy",
          "DieserBear",
          "Gummibearchen",
          "Gryzes",
          "Simlll",
          "Nervigerr",
          "TheBreadHD",
          "CladyNoClip_",
          "yachayubin",
          "LucaaOn",
          "SatzdesPytag0ras",
          "Bikoop",
          "Sower_",
          "Janne4k",
          "Lingex"
         ],
         "tickvals": [
          0,
          1,
          2,
          3,
          4,
          5,
          6,
          7,
          8,
          9,
          10,
          11,
          12,
          13,
          14,
          15,
          16,
          17,
          18,
          19,
          20,
          21,
          22,
          23,
          24,
          25,
          26,
          27,
          28,
          29,
          30,
          31,
          32,
          33,
          34,
          35,
          36,
          37,
          38,
          39,
          40,
          41,
          42,
          43,
          44,
          45,
          46,
          47,
          48,
          49,
          50,
          51,
          52,
          53,
          54,
          55,
          56,
          57,
          58,
          59,
          60,
          61,
          62,
          63,
          64,
          65,
          66,
          67,
          68,
          69,
          70,
          71,
          72,
          73,
          74,
          75,
          76,
          77,
          78,
          79,
          80,
          81,
          82,
          83,
          84,
          85,
          86,
          87,
          88,
          89,
          90,
          91,
          92,
          93,
          94,
          95,
          96,
          97,
          98,
          99
         ],
         "title": {
          "text": "Player"
         }
        },
        "yaxis": {
         "title": {
          "text": "Points"
         }
        }
       }
      }
     },
     "metadata": {},
     "output_type": "display_data"
    }
   ],
   "source": [
    "import plotly.graph_objects as go\n",
    "import plotly.express as px\n",
    "\n",
    "# Sum all columns to get the total score\n",
    "outDf['Total'] = outDf.sum(axis=1)\n",
    "\n",
    "outDf = remove_duplicate_columns(outDf)\n",
    "\n",
    "# Sort by total score and fill N/A values with 0\n",
    "outDf = outDf.sort_values(by='Total', ascending=False).fillna(0)\n",
    "\n",
    "# Crop to top 100 players\n",
    "cropDf = outDf.head(100).copy()\n",
    "\n",
    "# Compute Total again for the cropped data\n",
    "cropDf['Total'] = cropDf.drop(columns=['Total']).sum(axis=1)\n",
    "\n",
    "# Sort the cropped data by Total\n",
    "cropDf = cropDf.sort_values(by='Total', ascending=False)\n",
    "\n",
    "# Drop the 'Total' column for plotting\n",
    "cropDf = cropDf.drop(columns=['Total'])\n",
    "\n",
    "# Create integer positions and player names\n",
    "positions = list(range(len(cropDf)))\n",
    "player_names = list(cropDf.index)\n",
    "\n",
    "# Create a color palette\n",
    "color_palette = px.colors.qualitative.Safe\n",
    "\n",
    "# Create the stacked bar plot\n",
    "fig = go.Figure()\n",
    "\n",
    "cropDf = remove_duplicate_columns(cropDf)\n",
    "\n",
    "for column in cropDf.columns:\n",
    "   fig.add_trace(go.Bar(\n",
    "       x=positions,\n",
    "       y=cropDf[column],\n",
    "       name=column,\n",
    "       marker_color=color_palette[len(fig.data) % len(color_palette)]\n",
    "   ))\n",
    "\n",
    "# Update layout\n",
    "fig.update_layout(\n",
    "   barmode='stack',\n",
    "   title='Extended Overall Record Comparison - Top 100 Players',\n",
    "   xaxis=dict(\n",
    "       title='Player',\n",
    "       tickmode='array',\n",
    "       tickvals=positions,\n",
    "       ticktext=player_names\n",
    "   ),\n",
    "   yaxis=dict(title='Points'),\n",
    "   legend=dict(\n",
    "       x=1.05,\n",
    "       y=0.5,\n",
    "       traceorder='normal',\n",
    "       font=dict(size=12),\n",
    "       bgcolor='rgba(255, 255, 255, 0)',\n",
    "       bordercolor='rgba(0, 0, 0, 0)'\n",
    "   ),\n",
    "   margin=dict(r=200),\n",
    "   annotations=[\n",
    "       dict(\n",
    "           x=0.5,\n",
    "           y=1.1635,\n",
    "           xref='paper',\n",
    "           yref='paper',\n",
    "           text='Max 100 points per minigame. Records #1 through #10 of games & maps in the active pool are considered (#1: 100, #2: 90, ..., #10: 10). If a minigame has multiple maps, the 100 points are distributed equally. fflopse.github.io/MCP-Records/data-analysis/global-ranking.ipynb',\n",
    "           showarrow=False,\n",
    "           font=dict(size=12),\n",
    "           xanchor='center'\n",
    "       )\n",
    "   ]\n",
    ")\n",
    "\n",
    "fig.show()\n",
    "\n",
    "fig.write_html('out/full_overall_record_comparison.html')"
   ]
  },
  {
   "cell_type": "code",
   "execution_count": 17,
   "metadata": {},
   "outputs": [
    {
     "data": {
      "text/html": [
       "<div>\n",
       "<style scoped>\n",
       "    .dataframe tbody tr th:only-of-type {\n",
       "        vertical-align: middle;\n",
       "    }\n",
       "\n",
       "    .dataframe tbody tr th {\n",
       "        vertical-align: top;\n",
       "    }\n",
       "\n",
       "    .dataframe thead th {\n",
       "        text-align: right;\n",
       "    }\n",
       "</style>\n",
       "<table border=\"1\" class=\"dataframe\">\n",
       "  <thead>\n",
       "    <tr style=\"text-align: right;\">\n",
       "      <th></th>\n",
       "      <th>Sammelwahn</th>\n",
       "      <th>Schießstand</th>\n",
       "      <th>Mauerfall</th>\n",
       "      <th>Survivalgames</th>\n",
       "      <th>Skywars</th>\n",
       "      <th>Lasertag</th>\n",
       "      <th>Minengefecht</th>\n",
       "      <th>Einer im Köcher</th>\n",
       "      <th>Paintball</th>\n",
       "      <th>Spleef</th>\n",
       "      <th>...</th>\n",
       "      <th>Todeswürfel</th>\n",
       "      <th>Freier Fall</th>\n",
       "      <th>Elytrarennen</th>\n",
       "      <th>Waffenfolge</th>\n",
       "      <th>Minenfeld</th>\n",
       "      <th>Kletterkönig</th>\n",
       "      <th>Ampelrennen</th>\n",
       "      <th>Hoch hinaus</th>\n",
       "      <th>Frostiger Pfad</th>\n",
       "      <th>Runterpurzeln</th>\n",
       "    </tr>\n",
       "  </thead>\n",
       "  <tbody>\n",
       "    <tr>\n",
       "      <th>Allooy</th>\n",
       "      <td>18.139535</td>\n",
       "      <td>10.0</td>\n",
       "      <td>30.000000</td>\n",
       "      <td>50.0</td>\n",
       "      <td>18.333333</td>\n",
       "      <td>0.0</td>\n",
       "      <td>45.0</td>\n",
       "      <td>83.333333</td>\n",
       "      <td>0.0</td>\n",
       "      <td>100.0</td>\n",
       "      <td>...</td>\n",
       "      <td>0.0</td>\n",
       "      <td>0.0</td>\n",
       "      <td>87.5</td>\n",
       "      <td>0.0</td>\n",
       "      <td>10.000000</td>\n",
       "      <td>23.333333</td>\n",
       "      <td>0.0</td>\n",
       "      <td>80.0</td>\n",
       "      <td>0.0</td>\n",
       "      <td>60.0</td>\n",
       "    </tr>\n",
       "    <tr>\n",
       "      <th>cediiiiii_10</th>\n",
       "      <td>39.534884</td>\n",
       "      <td>60.0</td>\n",
       "      <td>86.666667</td>\n",
       "      <td>32.5</td>\n",
       "      <td>73.333333</td>\n",
       "      <td>15.0</td>\n",
       "      <td>70.0</td>\n",
       "      <td>10.000000</td>\n",
       "      <td>0.0</td>\n",
       "      <td>70.0</td>\n",
       "      <td>...</td>\n",
       "      <td>0.0</td>\n",
       "      <td>0.0</td>\n",
       "      <td>47.5</td>\n",
       "      <td>0.0</td>\n",
       "      <td>10.000000</td>\n",
       "      <td>23.333333</td>\n",
       "      <td>15.0</td>\n",
       "      <td>30.0</td>\n",
       "      <td>0.0</td>\n",
       "      <td>80.0</td>\n",
       "    </tr>\n",
       "    <tr>\n",
       "      <th>chrisihalt</th>\n",
       "      <td>4.883721</td>\n",
       "      <td>10.0</td>\n",
       "      <td>0.000000</td>\n",
       "      <td>45.0</td>\n",
       "      <td>13.333333</td>\n",
       "      <td>0.0</td>\n",
       "      <td>45.0</td>\n",
       "      <td>0.000000</td>\n",
       "      <td>0.0</td>\n",
       "      <td>0.0</td>\n",
       "      <td>...</td>\n",
       "      <td>0.0</td>\n",
       "      <td>0.0</td>\n",
       "      <td>60.0</td>\n",
       "      <td>0.0</td>\n",
       "      <td>33.333333</td>\n",
       "      <td>10.000000</td>\n",
       "      <td>80.0</td>\n",
       "      <td>40.0</td>\n",
       "      <td>0.0</td>\n",
       "      <td>0.0</td>\n",
       "    </tr>\n",
       "    <tr>\n",
       "      <th>Muniix</th>\n",
       "      <td>8.604651</td>\n",
       "      <td>20.0</td>\n",
       "      <td>56.666667</td>\n",
       "      <td>70.0</td>\n",
       "      <td>31.666667</td>\n",
       "      <td>25.0</td>\n",
       "      <td>20.0</td>\n",
       "      <td>0.000000</td>\n",
       "      <td>0.0</td>\n",
       "      <td>70.0</td>\n",
       "      <td>...</td>\n",
       "      <td>0.0</td>\n",
       "      <td>0.0</td>\n",
       "      <td>5.0</td>\n",
       "      <td>0.0</td>\n",
       "      <td>0.000000</td>\n",
       "      <td>46.666667</td>\n",
       "      <td>0.0</td>\n",
       "      <td>0.0</td>\n",
       "      <td>0.0</td>\n",
       "      <td>100.0</td>\n",
       "    </tr>\n",
       "    <tr>\n",
       "      <th>Fflopse</th>\n",
       "      <td>10.232558</td>\n",
       "      <td>60.0</td>\n",
       "      <td>66.666667</td>\n",
       "      <td>0.0</td>\n",
       "      <td>13.333333</td>\n",
       "      <td>60.0</td>\n",
       "      <td>5.0</td>\n",
       "      <td>80.000000</td>\n",
       "      <td>0.0</td>\n",
       "      <td>0.0</td>\n",
       "      <td>...</td>\n",
       "      <td>0.0</td>\n",
       "      <td>0.0</td>\n",
       "      <td>7.5</td>\n",
       "      <td>0.0</td>\n",
       "      <td>26.666667</td>\n",
       "      <td>46.666667</td>\n",
       "      <td>35.0</td>\n",
       "      <td>50.0</td>\n",
       "      <td>0.0</td>\n",
       "      <td>0.0</td>\n",
       "    </tr>\n",
       "    <tr>\n",
       "      <th>...</th>\n",
       "      <td>...</td>\n",
       "      <td>...</td>\n",
       "      <td>...</td>\n",
       "      <td>...</td>\n",
       "      <td>...</td>\n",
       "      <td>...</td>\n",
       "      <td>...</td>\n",
       "      <td>...</td>\n",
       "      <td>...</td>\n",
       "      <td>...</td>\n",
       "      <td>...</td>\n",
       "      <td>...</td>\n",
       "      <td>...</td>\n",
       "      <td>...</td>\n",
       "      <td>...</td>\n",
       "      <td>...</td>\n",
       "      <td>...</td>\n",
       "      <td>...</td>\n",
       "      <td>...</td>\n",
       "      <td>...</td>\n",
       "      <td>...</td>\n",
       "    </tr>\n",
       "    <tr>\n",
       "      <th>SatzdesPytag0ras</th>\n",
       "      <td>0.000000</td>\n",
       "      <td>0.0</td>\n",
       "      <td>0.000000</td>\n",
       "      <td>22.5</td>\n",
       "      <td>0.000000</td>\n",
       "      <td>0.0</td>\n",
       "      <td>0.0</td>\n",
       "      <td>0.000000</td>\n",
       "      <td>0.0</td>\n",
       "      <td>0.0</td>\n",
       "      <td>...</td>\n",
       "      <td>0.0</td>\n",
       "      <td>0.0</td>\n",
       "      <td>0.0</td>\n",
       "      <td>0.0</td>\n",
       "      <td>0.000000</td>\n",
       "      <td>0.000000</td>\n",
       "      <td>0.0</td>\n",
       "      <td>0.0</td>\n",
       "      <td>0.0</td>\n",
       "      <td>0.0</td>\n",
       "    </tr>\n",
       "    <tr>\n",
       "      <th>Bikoop</th>\n",
       "      <td>0.000000</td>\n",
       "      <td>0.0</td>\n",
       "      <td>0.000000</td>\n",
       "      <td>0.0</td>\n",
       "      <td>11.666667</td>\n",
       "      <td>0.0</td>\n",
       "      <td>0.0</td>\n",
       "      <td>10.000000</td>\n",
       "      <td>0.0</td>\n",
       "      <td>0.0</td>\n",
       "      <td>...</td>\n",
       "      <td>0.0</td>\n",
       "      <td>0.0</td>\n",
       "      <td>0.0</td>\n",
       "      <td>0.0</td>\n",
       "      <td>0.000000</td>\n",
       "      <td>0.000000</td>\n",
       "      <td>0.0</td>\n",
       "      <td>0.0</td>\n",
       "      <td>0.0</td>\n",
       "      <td>0.0</td>\n",
       "    </tr>\n",
       "    <tr>\n",
       "      <th>Sower_</th>\n",
       "      <td>20.232558</td>\n",
       "      <td>0.0</td>\n",
       "      <td>0.000000</td>\n",
       "      <td>0.0</td>\n",
       "      <td>0.000000</td>\n",
       "      <td>0.0</td>\n",
       "      <td>0.0</td>\n",
       "      <td>0.000000</td>\n",
       "      <td>0.0</td>\n",
       "      <td>0.0</td>\n",
       "      <td>...</td>\n",
       "      <td>0.0</td>\n",
       "      <td>0.0</td>\n",
       "      <td>0.0</td>\n",
       "      <td>0.0</td>\n",
       "      <td>0.000000</td>\n",
       "      <td>0.000000</td>\n",
       "      <td>0.0</td>\n",
       "      <td>0.0</td>\n",
       "      <td>0.0</td>\n",
       "      <td>0.0</td>\n",
       "    </tr>\n",
       "    <tr>\n",
       "      <th>Janne4k</th>\n",
       "      <td>0.000000</td>\n",
       "      <td>0.0</td>\n",
       "      <td>0.000000</td>\n",
       "      <td>0.0</td>\n",
       "      <td>0.000000</td>\n",
       "      <td>0.0</td>\n",
       "      <td>20.0</td>\n",
       "      <td>0.000000</td>\n",
       "      <td>0.0</td>\n",
       "      <td>0.0</td>\n",
       "      <td>...</td>\n",
       "      <td>0.0</td>\n",
       "      <td>0.0</td>\n",
       "      <td>0.0</td>\n",
       "      <td>0.0</td>\n",
       "      <td>0.000000</td>\n",
       "      <td>0.000000</td>\n",
       "      <td>0.0</td>\n",
       "      <td>0.0</td>\n",
       "      <td>0.0</td>\n",
       "      <td>0.0</td>\n",
       "    </tr>\n",
       "    <tr>\n",
       "      <th>Lingex</th>\n",
       "      <td>0.000000</td>\n",
       "      <td>0.0</td>\n",
       "      <td>0.000000</td>\n",
       "      <td>20.0</td>\n",
       "      <td>0.000000</td>\n",
       "      <td>0.0</td>\n",
       "      <td>0.0</td>\n",
       "      <td>0.000000</td>\n",
       "      <td>0.0</td>\n",
       "      <td>0.0</td>\n",
       "      <td>...</td>\n",
       "      <td>0.0</td>\n",
       "      <td>0.0</td>\n",
       "      <td>0.0</td>\n",
       "      <td>0.0</td>\n",
       "      <td>0.000000</td>\n",
       "      <td>0.000000</td>\n",
       "      <td>0.0</td>\n",
       "      <td>0.0</td>\n",
       "      <td>0.0</td>\n",
       "      <td>0.0</td>\n",
       "    </tr>\n",
       "  </tbody>\n",
       "</table>\n",
       "<p>100 rows × 30 columns</p>\n",
       "</div>"
      ],
      "text/plain": [
       "                  Sammelwahn  Schießstand  Mauerfall  Survivalgames  \\\n",
       "Allooy             18.139535         10.0  30.000000           50.0   \n",
       "cediiiiii_10       39.534884         60.0  86.666667           32.5   \n",
       "chrisihalt          4.883721         10.0   0.000000           45.0   \n",
       "Muniix              8.604651         20.0  56.666667           70.0   \n",
       "Fflopse            10.232558         60.0  66.666667            0.0   \n",
       "...                      ...          ...        ...            ...   \n",
       "SatzdesPytag0ras    0.000000          0.0   0.000000           22.5   \n",
       "Bikoop              0.000000          0.0   0.000000            0.0   \n",
       "Sower_             20.232558          0.0   0.000000            0.0   \n",
       "Janne4k             0.000000          0.0   0.000000            0.0   \n",
       "Lingex              0.000000          0.0   0.000000           20.0   \n",
       "\n",
       "                    Skywars  Lasertag  Minengefecht  Einer im Köcher  \\\n",
       "Allooy            18.333333       0.0          45.0        83.333333   \n",
       "cediiiiii_10      73.333333      15.0          70.0        10.000000   \n",
       "chrisihalt        13.333333       0.0          45.0         0.000000   \n",
       "Muniix            31.666667      25.0          20.0         0.000000   \n",
       "Fflopse           13.333333      60.0           5.0        80.000000   \n",
       "...                     ...       ...           ...              ...   \n",
       "SatzdesPytag0ras   0.000000       0.0           0.0         0.000000   \n",
       "Bikoop            11.666667       0.0           0.0        10.000000   \n",
       "Sower_             0.000000       0.0           0.0         0.000000   \n",
       "Janne4k            0.000000       0.0          20.0         0.000000   \n",
       "Lingex             0.000000       0.0           0.0         0.000000   \n",
       "\n",
       "                  Paintball  Spleef  ...  Todeswürfel  Freier Fall  \\\n",
       "Allooy                  0.0   100.0  ...          0.0          0.0   \n",
       "cediiiiii_10            0.0    70.0  ...          0.0          0.0   \n",
       "chrisihalt              0.0     0.0  ...          0.0          0.0   \n",
       "Muniix                  0.0    70.0  ...          0.0          0.0   \n",
       "Fflopse                 0.0     0.0  ...          0.0          0.0   \n",
       "...                     ...     ...  ...          ...          ...   \n",
       "SatzdesPytag0ras        0.0     0.0  ...          0.0          0.0   \n",
       "Bikoop                  0.0     0.0  ...          0.0          0.0   \n",
       "Sower_                  0.0     0.0  ...          0.0          0.0   \n",
       "Janne4k                 0.0     0.0  ...          0.0          0.0   \n",
       "Lingex                  0.0     0.0  ...          0.0          0.0   \n",
       "\n",
       "                  Elytrarennen  Waffenfolge  Minenfeld  Kletterkönig  \\\n",
       "Allooy                    87.5          0.0  10.000000     23.333333   \n",
       "cediiiiii_10              47.5          0.0  10.000000     23.333333   \n",
       "chrisihalt                60.0          0.0  33.333333     10.000000   \n",
       "Muniix                     5.0          0.0   0.000000     46.666667   \n",
       "Fflopse                    7.5          0.0  26.666667     46.666667   \n",
       "...                        ...          ...        ...           ...   \n",
       "SatzdesPytag0ras           0.0          0.0   0.000000      0.000000   \n",
       "Bikoop                     0.0          0.0   0.000000      0.000000   \n",
       "Sower_                     0.0          0.0   0.000000      0.000000   \n",
       "Janne4k                    0.0          0.0   0.000000      0.000000   \n",
       "Lingex                     0.0          0.0   0.000000      0.000000   \n",
       "\n",
       "                  Ampelrennen  Hoch hinaus  Frostiger Pfad  Runterpurzeln  \n",
       "Allooy                    0.0         80.0             0.0           60.0  \n",
       "cediiiiii_10             15.0         30.0             0.0           80.0  \n",
       "chrisihalt               80.0         40.0             0.0            0.0  \n",
       "Muniix                    0.0          0.0             0.0          100.0  \n",
       "Fflopse                  35.0         50.0             0.0            0.0  \n",
       "...                       ...          ...             ...            ...  \n",
       "SatzdesPytag0ras          0.0          0.0             0.0            0.0  \n",
       "Bikoop                    0.0          0.0             0.0            0.0  \n",
       "Sower_                    0.0          0.0             0.0            0.0  \n",
       "Janne4k                   0.0          0.0             0.0            0.0  \n",
       "Lingex                    0.0          0.0             0.0            0.0  \n",
       "\n",
       "[100 rows x 30 columns]"
      ]
     },
     "execution_count": 17,
     "metadata": {},
     "output_type": "execute_result"
    }
   ],
   "source": [
    "cropDf"
   ]
  },
  {
   "cell_type": "code",
   "execution_count": null,
   "metadata": {},
   "outputs": [],
   "source": []
  },
  {
   "cell_type": "code",
   "execution_count": 18,
   "metadata": {},
   "outputs": [
    {
     "data": {
      "text/html": [
       "<div>\n",
       "<style scoped>\n",
       "    .dataframe tbody tr th:only-of-type {\n",
       "        vertical-align: middle;\n",
       "    }\n",
       "\n",
       "    .dataframe tbody tr th {\n",
       "        vertical-align: top;\n",
       "    }\n",
       "\n",
       "    .dataframe thead th {\n",
       "        text-align: right;\n",
       "    }\n",
       "</style>\n",
       "<table border=\"1\" class=\"dataframe\">\n",
       "  <thead>\n",
       "    <tr style=\"text-align: right;\">\n",
       "      <th></th>\n",
       "      <th>Sammelwahn</th>\n",
       "      <th>Schießstand</th>\n",
       "      <th>Mauerfall</th>\n",
       "      <th>Survivalgames</th>\n",
       "      <th>Skywars</th>\n",
       "      <th>Lasertag</th>\n",
       "      <th>Minengefecht</th>\n",
       "      <th>Einer im Köcher</th>\n",
       "      <th>Paintball</th>\n",
       "      <th>Spleef</th>\n",
       "      <th>...</th>\n",
       "      <th>Freier Fall</th>\n",
       "      <th>Elytrarennen</th>\n",
       "      <th>Waffenfolge</th>\n",
       "      <th>Minenfeld</th>\n",
       "      <th>Kletterkönig</th>\n",
       "      <th>Ampelrennen</th>\n",
       "      <th>Hoch hinaus</th>\n",
       "      <th>Frostiger Pfad</th>\n",
       "      <th>Runterpurzeln</th>\n",
       "      <th>Total</th>\n",
       "    </tr>\n",
       "  </thead>\n",
       "  <tbody>\n",
       "    <tr>\n",
       "      <th>Allooy</th>\n",
       "      <td>18.139535</td>\n",
       "      <td>10.0</td>\n",
       "      <td>30.000000</td>\n",
       "      <td>50.0</td>\n",
       "      <td>18.333333</td>\n",
       "      <td>0.0</td>\n",
       "      <td>45.0</td>\n",
       "      <td>83.333333</td>\n",
       "      <td>0.0</td>\n",
       "      <td>100.0</td>\n",
       "      <td>...</td>\n",
       "      <td>0.0</td>\n",
       "      <td>87.5</td>\n",
       "      <td>0.0</td>\n",
       "      <td>10.000000</td>\n",
       "      <td>23.333333</td>\n",
       "      <td>0.0</td>\n",
       "      <td>80.0</td>\n",
       "      <td>0.0</td>\n",
       "      <td>60.0</td>\n",
       "      <td>4863.156430</td>\n",
       "    </tr>\n",
       "    <tr>\n",
       "      <th>cediiiiii_10</th>\n",
       "      <td>39.534884</td>\n",
       "      <td>60.0</td>\n",
       "      <td>86.666667</td>\n",
       "      <td>32.5</td>\n",
       "      <td>73.333333</td>\n",
       "      <td>15.0</td>\n",
       "      <td>70.0</td>\n",
       "      <td>10.000000</td>\n",
       "      <td>0.0</td>\n",
       "      <td>70.0</td>\n",
       "      <td>...</td>\n",
       "      <td>0.0</td>\n",
       "      <td>47.5</td>\n",
       "      <td>0.0</td>\n",
       "      <td>10.000000</td>\n",
       "      <td>23.333333</td>\n",
       "      <td>15.0</td>\n",
       "      <td>30.0</td>\n",
       "      <td>0.0</td>\n",
       "      <td>80.0</td>\n",
       "      <td>4252.977142</td>\n",
       "    </tr>\n",
       "    <tr>\n",
       "      <th>chrisihalt</th>\n",
       "      <td>4.883721</td>\n",
       "      <td>10.0</td>\n",
       "      <td>0.000000</td>\n",
       "      <td>45.0</td>\n",
       "      <td>13.333333</td>\n",
       "      <td>0.0</td>\n",
       "      <td>45.0</td>\n",
       "      <td>0.000000</td>\n",
       "      <td>0.0</td>\n",
       "      <td>0.0</td>\n",
       "      <td>...</td>\n",
       "      <td>0.0</td>\n",
       "      <td>60.0</td>\n",
       "      <td>0.0</td>\n",
       "      <td>33.333333</td>\n",
       "      <td>10.000000</td>\n",
       "      <td>80.0</td>\n",
       "      <td>40.0</td>\n",
       "      <td>0.0</td>\n",
       "      <td>0.0</td>\n",
       "      <td>3516.714371</td>\n",
       "    </tr>\n",
       "    <tr>\n",
       "      <th>Fflopse</th>\n",
       "      <td>10.232558</td>\n",
       "      <td>60.0</td>\n",
       "      <td>66.666667</td>\n",
       "      <td>0.0</td>\n",
       "      <td>13.333333</td>\n",
       "      <td>60.0</td>\n",
       "      <td>5.0</td>\n",
       "      <td>80.000000</td>\n",
       "      <td>0.0</td>\n",
       "      <td>0.0</td>\n",
       "      <td>...</td>\n",
       "      <td>0.0</td>\n",
       "      <td>7.5</td>\n",
       "      <td>0.0</td>\n",
       "      <td>26.666667</td>\n",
       "      <td>46.666667</td>\n",
       "      <td>35.0</td>\n",
       "      <td>50.0</td>\n",
       "      <td>0.0</td>\n",
       "      <td>0.0</td>\n",
       "      <td>3143.836215</td>\n",
       "    </tr>\n",
       "    <tr>\n",
       "      <th>Muniix</th>\n",
       "      <td>8.604651</td>\n",
       "      <td>20.0</td>\n",
       "      <td>56.666667</td>\n",
       "      <td>70.0</td>\n",
       "      <td>31.666667</td>\n",
       "      <td>25.0</td>\n",
       "      <td>20.0</td>\n",
       "      <td>0.000000</td>\n",
       "      <td>0.0</td>\n",
       "      <td>70.0</td>\n",
       "      <td>...</td>\n",
       "      <td>0.0</td>\n",
       "      <td>5.0</td>\n",
       "      <td>0.0</td>\n",
       "      <td>0.000000</td>\n",
       "      <td>46.666667</td>\n",
       "      <td>0.0</td>\n",
       "      <td>0.0</td>\n",
       "      <td>0.0</td>\n",
       "      <td>100.0</td>\n",
       "      <td>2987.683562</td>\n",
       "    </tr>\n",
       "    <tr>\n",
       "      <th>...</th>\n",
       "      <td>...</td>\n",
       "      <td>...</td>\n",
       "      <td>...</td>\n",
       "      <td>...</td>\n",
       "      <td>...</td>\n",
       "      <td>...</td>\n",
       "      <td>...</td>\n",
       "      <td>...</td>\n",
       "      <td>...</td>\n",
       "      <td>...</td>\n",
       "      <td>...</td>\n",
       "      <td>...</td>\n",
       "      <td>...</td>\n",
       "      <td>...</td>\n",
       "      <td>...</td>\n",
       "      <td>...</td>\n",
       "      <td>...</td>\n",
       "      <td>...</td>\n",
       "      <td>...</td>\n",
       "      <td>...</td>\n",
       "      <td>...</td>\n",
       "    </tr>\n",
       "    <tr>\n",
       "      <th>Scuprum</th>\n",
       "      <td>0.000000</td>\n",
       "      <td>0.0</td>\n",
       "      <td>0.000000</td>\n",
       "      <td>0.0</td>\n",
       "      <td>0.000000</td>\n",
       "      <td>0.0</td>\n",
       "      <td>0.0</td>\n",
       "      <td>0.000000</td>\n",
       "      <td>0.0</td>\n",
       "      <td>0.0</td>\n",
       "      <td>...</td>\n",
       "      <td>0.0</td>\n",
       "      <td>0.0</td>\n",
       "      <td>0.0</td>\n",
       "      <td>0.000000</td>\n",
       "      <td>0.000000</td>\n",
       "      <td>0.0</td>\n",
       "      <td>0.0</td>\n",
       "      <td>0.0</td>\n",
       "      <td>0.0</td>\n",
       "      <td>0.000000</td>\n",
       "    </tr>\n",
       "    <tr>\n",
       "      <th>BastiGHG</th>\n",
       "      <td>0.000000</td>\n",
       "      <td>0.0</td>\n",
       "      <td>0.000000</td>\n",
       "      <td>0.0</td>\n",
       "      <td>0.000000</td>\n",
       "      <td>0.0</td>\n",
       "      <td>0.0</td>\n",
       "      <td>0.000000</td>\n",
       "      <td>0.0</td>\n",
       "      <td>0.0</td>\n",
       "      <td>...</td>\n",
       "      <td>0.0</td>\n",
       "      <td>0.0</td>\n",
       "      <td>0.0</td>\n",
       "      <td>0.000000</td>\n",
       "      <td>0.000000</td>\n",
       "      <td>0.0</td>\n",
       "      <td>0.0</td>\n",
       "      <td>0.0</td>\n",
       "      <td>0.0</td>\n",
       "      <td>0.000000</td>\n",
       "    </tr>\n",
       "    <tr>\n",
       "      <th>Dubbly</th>\n",
       "      <td>0.000000</td>\n",
       "      <td>0.0</td>\n",
       "      <td>0.000000</td>\n",
       "      <td>0.0</td>\n",
       "      <td>0.000000</td>\n",
       "      <td>0.0</td>\n",
       "      <td>0.0</td>\n",
       "      <td>0.000000</td>\n",
       "      <td>0.0</td>\n",
       "      <td>0.0</td>\n",
       "      <td>...</td>\n",
       "      <td>0.0</td>\n",
       "      <td>0.0</td>\n",
       "      <td>0.0</td>\n",
       "      <td>0.000000</td>\n",
       "      <td>0.000000</td>\n",
       "      <td>0.0</td>\n",
       "      <td>0.0</td>\n",
       "      <td>0.0</td>\n",
       "      <td>0.0</td>\n",
       "      <td>0.000000</td>\n",
       "    </tr>\n",
       "    <tr>\n",
       "      <th>cheesecake2901</th>\n",
       "      <td>0.000000</td>\n",
       "      <td>0.0</td>\n",
       "      <td>0.000000</td>\n",
       "      <td>0.0</td>\n",
       "      <td>0.000000</td>\n",
       "      <td>0.0</td>\n",
       "      <td>0.0</td>\n",
       "      <td>0.000000</td>\n",
       "      <td>0.0</td>\n",
       "      <td>0.0</td>\n",
       "      <td>...</td>\n",
       "      <td>0.0</td>\n",
       "      <td>0.0</td>\n",
       "      <td>0.0</td>\n",
       "      <td>0.000000</td>\n",
       "      <td>0.000000</td>\n",
       "      <td>0.0</td>\n",
       "      <td>0.0</td>\n",
       "      <td>0.0</td>\n",
       "      <td>0.0</td>\n",
       "      <td>0.000000</td>\n",
       "    </tr>\n",
       "    <tr>\n",
       "      <th>SmartyxD</th>\n",
       "      <td>0.000000</td>\n",
       "      <td>0.0</td>\n",
       "      <td>0.000000</td>\n",
       "      <td>0.0</td>\n",
       "      <td>0.000000</td>\n",
       "      <td>0.0</td>\n",
       "      <td>0.0</td>\n",
       "      <td>0.000000</td>\n",
       "      <td>0.0</td>\n",
       "      <td>0.0</td>\n",
       "      <td>...</td>\n",
       "      <td>0.0</td>\n",
       "      <td>0.0</td>\n",
       "      <td>0.0</td>\n",
       "      <td>0.000000</td>\n",
       "      <td>0.000000</td>\n",
       "      <td>0.0</td>\n",
       "      <td>0.0</td>\n",
       "      <td>0.0</td>\n",
       "      <td>0.0</td>\n",
       "      <td>0.000000</td>\n",
       "    </tr>\n",
       "  </tbody>\n",
       "</table>\n",
       "<p>246 rows × 31 columns</p>\n",
       "</div>"
      ],
      "text/plain": [
       "                Sammelwahn  Schießstand  Mauerfall  Survivalgames    Skywars  \\\n",
       "Allooy           18.139535         10.0  30.000000           50.0  18.333333   \n",
       "cediiiiii_10     39.534884         60.0  86.666667           32.5  73.333333   \n",
       "chrisihalt        4.883721         10.0   0.000000           45.0  13.333333   \n",
       "Fflopse          10.232558         60.0  66.666667            0.0  13.333333   \n",
       "Muniix            8.604651         20.0  56.666667           70.0  31.666667   \n",
       "...                    ...          ...        ...            ...        ...   \n",
       "Scuprum           0.000000          0.0   0.000000            0.0   0.000000   \n",
       "BastiGHG          0.000000          0.0   0.000000            0.0   0.000000   \n",
       "Dubbly            0.000000          0.0   0.000000            0.0   0.000000   \n",
       "cheesecake2901    0.000000          0.0   0.000000            0.0   0.000000   \n",
       "SmartyxD          0.000000          0.0   0.000000            0.0   0.000000   \n",
       "\n",
       "                Lasertag  Minengefecht  Einer im Köcher  Paintball  Spleef  \\\n",
       "Allooy               0.0          45.0        83.333333        0.0   100.0   \n",
       "cediiiiii_10        15.0          70.0        10.000000        0.0    70.0   \n",
       "chrisihalt           0.0          45.0         0.000000        0.0     0.0   \n",
       "Fflopse             60.0           5.0        80.000000        0.0     0.0   \n",
       "Muniix              25.0          20.0         0.000000        0.0    70.0   \n",
       "...                  ...           ...              ...        ...     ...   \n",
       "Scuprum              0.0           0.0         0.000000        0.0     0.0   \n",
       "BastiGHG             0.0           0.0         0.000000        0.0     0.0   \n",
       "Dubbly               0.0           0.0         0.000000        0.0     0.0   \n",
       "cheesecake2901       0.0           0.0         0.000000        0.0     0.0   \n",
       "SmartyxD             0.0           0.0         0.000000        0.0     0.0   \n",
       "\n",
       "                ...  Freier Fall  Elytrarennen  Waffenfolge  Minenfeld  \\\n",
       "Allooy          ...          0.0          87.5          0.0  10.000000   \n",
       "cediiiiii_10    ...          0.0          47.5          0.0  10.000000   \n",
       "chrisihalt      ...          0.0          60.0          0.0  33.333333   \n",
       "Fflopse         ...          0.0           7.5          0.0  26.666667   \n",
       "Muniix          ...          0.0           5.0          0.0   0.000000   \n",
       "...             ...          ...           ...          ...        ...   \n",
       "Scuprum         ...          0.0           0.0          0.0   0.000000   \n",
       "BastiGHG        ...          0.0           0.0          0.0   0.000000   \n",
       "Dubbly          ...          0.0           0.0          0.0   0.000000   \n",
       "cheesecake2901  ...          0.0           0.0          0.0   0.000000   \n",
       "SmartyxD        ...          0.0           0.0          0.0   0.000000   \n",
       "\n",
       "                Kletterkönig  Ampelrennen  Hoch hinaus  Frostiger Pfad  \\\n",
       "Allooy             23.333333          0.0         80.0             0.0   \n",
       "cediiiiii_10       23.333333         15.0         30.0             0.0   \n",
       "chrisihalt         10.000000         80.0         40.0             0.0   \n",
       "Fflopse            46.666667         35.0         50.0             0.0   \n",
       "Muniix             46.666667          0.0          0.0             0.0   \n",
       "...                      ...          ...          ...             ...   \n",
       "Scuprum             0.000000          0.0          0.0             0.0   \n",
       "BastiGHG            0.000000          0.0          0.0             0.0   \n",
       "Dubbly              0.000000          0.0          0.0             0.0   \n",
       "cheesecake2901      0.000000          0.0          0.0             0.0   \n",
       "SmartyxD            0.000000          0.0          0.0             0.0   \n",
       "\n",
       "                Runterpurzeln        Total  \n",
       "Allooy                   60.0  4863.156430  \n",
       "cediiiiii_10             80.0  4252.977142  \n",
       "chrisihalt                0.0  3516.714371  \n",
       "Fflopse                   0.0  3143.836215  \n",
       "Muniix                  100.0  2987.683562  \n",
       "...                       ...          ...  \n",
       "Scuprum                   0.0     0.000000  \n",
       "BastiGHG                  0.0     0.000000  \n",
       "Dubbly                    0.0     0.000000  \n",
       "cheesecake2901            0.0     0.000000  \n",
       "SmartyxD                  0.0     0.000000  \n",
       "\n",
       "[246 rows x 31 columns]"
      ]
     },
     "execution_count": 18,
     "metadata": {},
     "output_type": "execute_result"
    }
   ],
   "source": [
    "outDf"
   ]
  },
  {
   "cell_type": "code",
   "execution_count": 19,
   "metadata": {},
   "outputs": [
    {
     "name": "stdout",
     "output_type": "stream",
     "text": [
      "Allooy           4863.156430\n",
      "cediiiiii_10     4252.977142\n",
      "chrisihalt       3516.714371\n",
      "Fflopse          3143.836215\n",
      "Muniix           2987.683562\n",
      "_n3d             2958.242099\n",
      "qriezmannsOpa    2793.560724\n",
      "Ex4cted          2401.672033\n",
      "NewNormal0947    2290.370503\n",
      "ReichesBrot      2220.030213\n",
      "Name: Total, dtype: float64\n"
     ]
    }
   ],
   "source": [
    "print(outDf['Total'].head(10))  # Should show descending values"
   ]
  },
  {
   "cell_type": "code",
   "execution_count": 20,
   "metadata": {},
   "outputs": [
    {
     "name": "stdout",
     "output_type": "stream",
     "text": [
      "Index(['Allooy', 'cediiiiii_10', 'chrisihalt', 'Muniix', 'Fflopse', '_n3d',\n",
      "       'qriezmannsOpa', 'NewNormal0947', 'Ex4cted', 'Gobo9'],\n",
      "      dtype='object')\n"
     ]
    }
   ],
   "source": [
    "print(cropDf.index[:10])  # Should show the top 10 player names"
   ]
  },
  {
   "cell_type": "code",
   "execution_count": 21,
   "metadata": {},
   "outputs": [
    {
     "data": {
      "text/html": [
       "<div>\n",
       "<style scoped>\n",
       "    .dataframe tbody tr th:only-of-type {\n",
       "        vertical-align: middle;\n",
       "    }\n",
       "\n",
       "    .dataframe tbody tr th {\n",
       "        vertical-align: top;\n",
       "    }\n",
       "\n",
       "    .dataframe thead th {\n",
       "        text-align: right;\n",
       "    }\n",
       "</style>\n",
       "<table border=\"1\" class=\"dataframe\">\n",
       "  <thead>\n",
       "    <tr style=\"text-align: right;\">\n",
       "      <th></th>\n",
       "      <th>Sammelwahn</th>\n",
       "      <th>Schießstand</th>\n",
       "      <th>Mauerfall</th>\n",
       "      <th>Survivalgames</th>\n",
       "      <th>Skywars</th>\n",
       "      <th>Lasertag</th>\n",
       "      <th>Minengefecht</th>\n",
       "      <th>Einer im Köcher</th>\n",
       "      <th>Paintball</th>\n",
       "      <th>Spleef</th>\n",
       "      <th>...</th>\n",
       "      <th>Freier Fall</th>\n",
       "      <th>Elytrarennen</th>\n",
       "      <th>Waffenfolge</th>\n",
       "      <th>Minenfeld</th>\n",
       "      <th>Kletterkönig</th>\n",
       "      <th>Ampelrennen</th>\n",
       "      <th>Hoch hinaus</th>\n",
       "      <th>Frostiger Pfad</th>\n",
       "      <th>Runterpurzeln</th>\n",
       "      <th>Total</th>\n",
       "    </tr>\n",
       "  </thead>\n",
       "  <tbody>\n",
       "    <tr>\n",
       "      <th>Allooy</th>\n",
       "      <td>18.139535</td>\n",
       "      <td>10.0</td>\n",
       "      <td>30.000000</td>\n",
       "      <td>50.0</td>\n",
       "      <td>18.333333</td>\n",
       "      <td>0.0</td>\n",
       "      <td>45.0</td>\n",
       "      <td>83.333333</td>\n",
       "      <td>0.0</td>\n",
       "      <td>100.0</td>\n",
       "      <td>...</td>\n",
       "      <td>0.0</td>\n",
       "      <td>87.5</td>\n",
       "      <td>0.0</td>\n",
       "      <td>10.000000</td>\n",
       "      <td>23.333333</td>\n",
       "      <td>0.0</td>\n",
       "      <td>80.0</td>\n",
       "      <td>0.0</td>\n",
       "      <td>60.0</td>\n",
       "      <td>4863.156430</td>\n",
       "    </tr>\n",
       "    <tr>\n",
       "      <th>cediiiiii_10</th>\n",
       "      <td>39.534884</td>\n",
       "      <td>60.0</td>\n",
       "      <td>86.666667</td>\n",
       "      <td>32.5</td>\n",
       "      <td>73.333333</td>\n",
       "      <td>15.0</td>\n",
       "      <td>70.0</td>\n",
       "      <td>10.000000</td>\n",
       "      <td>0.0</td>\n",
       "      <td>70.0</td>\n",
       "      <td>...</td>\n",
       "      <td>0.0</td>\n",
       "      <td>47.5</td>\n",
       "      <td>0.0</td>\n",
       "      <td>10.000000</td>\n",
       "      <td>23.333333</td>\n",
       "      <td>15.0</td>\n",
       "      <td>30.0</td>\n",
       "      <td>0.0</td>\n",
       "      <td>80.0</td>\n",
       "      <td>4252.977142</td>\n",
       "    </tr>\n",
       "    <tr>\n",
       "      <th>chrisihalt</th>\n",
       "      <td>4.883721</td>\n",
       "      <td>10.0</td>\n",
       "      <td>0.000000</td>\n",
       "      <td>45.0</td>\n",
       "      <td>13.333333</td>\n",
       "      <td>0.0</td>\n",
       "      <td>45.0</td>\n",
       "      <td>0.000000</td>\n",
       "      <td>0.0</td>\n",
       "      <td>0.0</td>\n",
       "      <td>...</td>\n",
       "      <td>0.0</td>\n",
       "      <td>60.0</td>\n",
       "      <td>0.0</td>\n",
       "      <td>33.333333</td>\n",
       "      <td>10.000000</td>\n",
       "      <td>80.0</td>\n",
       "      <td>40.0</td>\n",
       "      <td>0.0</td>\n",
       "      <td>0.0</td>\n",
       "      <td>3516.714371</td>\n",
       "    </tr>\n",
       "    <tr>\n",
       "      <th>Fflopse</th>\n",
       "      <td>10.232558</td>\n",
       "      <td>60.0</td>\n",
       "      <td>66.666667</td>\n",
       "      <td>0.0</td>\n",
       "      <td>13.333333</td>\n",
       "      <td>60.0</td>\n",
       "      <td>5.0</td>\n",
       "      <td>80.000000</td>\n",
       "      <td>0.0</td>\n",
       "      <td>0.0</td>\n",
       "      <td>...</td>\n",
       "      <td>0.0</td>\n",
       "      <td>7.5</td>\n",
       "      <td>0.0</td>\n",
       "      <td>26.666667</td>\n",
       "      <td>46.666667</td>\n",
       "      <td>35.0</td>\n",
       "      <td>50.0</td>\n",
       "      <td>0.0</td>\n",
       "      <td>0.0</td>\n",
       "      <td>3143.836215</td>\n",
       "    </tr>\n",
       "    <tr>\n",
       "      <th>Muniix</th>\n",
       "      <td>8.604651</td>\n",
       "      <td>20.0</td>\n",
       "      <td>56.666667</td>\n",
       "      <td>70.0</td>\n",
       "      <td>31.666667</td>\n",
       "      <td>25.0</td>\n",
       "      <td>20.0</td>\n",
       "      <td>0.000000</td>\n",
       "      <td>0.0</td>\n",
       "      <td>70.0</td>\n",
       "      <td>...</td>\n",
       "      <td>0.0</td>\n",
       "      <td>5.0</td>\n",
       "      <td>0.0</td>\n",
       "      <td>0.000000</td>\n",
       "      <td>46.666667</td>\n",
       "      <td>0.0</td>\n",
       "      <td>0.0</td>\n",
       "      <td>0.0</td>\n",
       "      <td>100.0</td>\n",
       "      <td>2987.683562</td>\n",
       "    </tr>\n",
       "    <tr>\n",
       "      <th>...</th>\n",
       "      <td>...</td>\n",
       "      <td>...</td>\n",
       "      <td>...</td>\n",
       "      <td>...</td>\n",
       "      <td>...</td>\n",
       "      <td>...</td>\n",
       "      <td>...</td>\n",
       "      <td>...</td>\n",
       "      <td>...</td>\n",
       "      <td>...</td>\n",
       "      <td>...</td>\n",
       "      <td>...</td>\n",
       "      <td>...</td>\n",
       "      <td>...</td>\n",
       "      <td>...</td>\n",
       "      <td>...</td>\n",
       "      <td>...</td>\n",
       "      <td>...</td>\n",
       "      <td>...</td>\n",
       "      <td>...</td>\n",
       "      <td>...</td>\n",
       "    </tr>\n",
       "    <tr>\n",
       "      <th>Scuprum</th>\n",
       "      <td>0.000000</td>\n",
       "      <td>0.0</td>\n",
       "      <td>0.000000</td>\n",
       "      <td>0.0</td>\n",
       "      <td>0.000000</td>\n",
       "      <td>0.0</td>\n",
       "      <td>0.0</td>\n",
       "      <td>0.000000</td>\n",
       "      <td>0.0</td>\n",
       "      <td>0.0</td>\n",
       "      <td>...</td>\n",
       "      <td>0.0</td>\n",
       "      <td>0.0</td>\n",
       "      <td>0.0</td>\n",
       "      <td>0.000000</td>\n",
       "      <td>0.000000</td>\n",
       "      <td>0.0</td>\n",
       "      <td>0.0</td>\n",
       "      <td>0.0</td>\n",
       "      <td>0.0</td>\n",
       "      <td>0.000000</td>\n",
       "    </tr>\n",
       "    <tr>\n",
       "      <th>BastiGHG</th>\n",
       "      <td>0.000000</td>\n",
       "      <td>0.0</td>\n",
       "      <td>0.000000</td>\n",
       "      <td>0.0</td>\n",
       "      <td>0.000000</td>\n",
       "      <td>0.0</td>\n",
       "      <td>0.0</td>\n",
       "      <td>0.000000</td>\n",
       "      <td>0.0</td>\n",
       "      <td>0.0</td>\n",
       "      <td>...</td>\n",
       "      <td>0.0</td>\n",
       "      <td>0.0</td>\n",
       "      <td>0.0</td>\n",
       "      <td>0.000000</td>\n",
       "      <td>0.000000</td>\n",
       "      <td>0.0</td>\n",
       "      <td>0.0</td>\n",
       "      <td>0.0</td>\n",
       "      <td>0.0</td>\n",
       "      <td>0.000000</td>\n",
       "    </tr>\n",
       "    <tr>\n",
       "      <th>Dubbly</th>\n",
       "      <td>0.000000</td>\n",
       "      <td>0.0</td>\n",
       "      <td>0.000000</td>\n",
       "      <td>0.0</td>\n",
       "      <td>0.000000</td>\n",
       "      <td>0.0</td>\n",
       "      <td>0.0</td>\n",
       "      <td>0.000000</td>\n",
       "      <td>0.0</td>\n",
       "      <td>0.0</td>\n",
       "      <td>...</td>\n",
       "      <td>0.0</td>\n",
       "      <td>0.0</td>\n",
       "      <td>0.0</td>\n",
       "      <td>0.000000</td>\n",
       "      <td>0.000000</td>\n",
       "      <td>0.0</td>\n",
       "      <td>0.0</td>\n",
       "      <td>0.0</td>\n",
       "      <td>0.0</td>\n",
       "      <td>0.000000</td>\n",
       "    </tr>\n",
       "    <tr>\n",
       "      <th>cheesecake2901</th>\n",
       "      <td>0.000000</td>\n",
       "      <td>0.0</td>\n",
       "      <td>0.000000</td>\n",
       "      <td>0.0</td>\n",
       "      <td>0.000000</td>\n",
       "      <td>0.0</td>\n",
       "      <td>0.0</td>\n",
       "      <td>0.000000</td>\n",
       "      <td>0.0</td>\n",
       "      <td>0.0</td>\n",
       "      <td>...</td>\n",
       "      <td>0.0</td>\n",
       "      <td>0.0</td>\n",
       "      <td>0.0</td>\n",
       "      <td>0.000000</td>\n",
       "      <td>0.000000</td>\n",
       "      <td>0.0</td>\n",
       "      <td>0.0</td>\n",
       "      <td>0.0</td>\n",
       "      <td>0.0</td>\n",
       "      <td>0.000000</td>\n",
       "    </tr>\n",
       "    <tr>\n",
       "      <th>SmartyxD</th>\n",
       "      <td>0.000000</td>\n",
       "      <td>0.0</td>\n",
       "      <td>0.000000</td>\n",
       "      <td>0.0</td>\n",
       "      <td>0.000000</td>\n",
       "      <td>0.0</td>\n",
       "      <td>0.0</td>\n",
       "      <td>0.000000</td>\n",
       "      <td>0.0</td>\n",
       "      <td>0.0</td>\n",
       "      <td>...</td>\n",
       "      <td>0.0</td>\n",
       "      <td>0.0</td>\n",
       "      <td>0.0</td>\n",
       "      <td>0.000000</td>\n",
       "      <td>0.000000</td>\n",
       "      <td>0.0</td>\n",
       "      <td>0.0</td>\n",
       "      <td>0.0</td>\n",
       "      <td>0.0</td>\n",
       "      <td>0.000000</td>\n",
       "    </tr>\n",
       "  </tbody>\n",
       "</table>\n",
       "<p>246 rows × 31 columns</p>\n",
       "</div>"
      ],
      "text/plain": [
       "                Sammelwahn  Schießstand  Mauerfall  Survivalgames    Skywars  \\\n",
       "Allooy           18.139535         10.0  30.000000           50.0  18.333333   \n",
       "cediiiiii_10     39.534884         60.0  86.666667           32.5  73.333333   \n",
       "chrisihalt        4.883721         10.0   0.000000           45.0  13.333333   \n",
       "Fflopse          10.232558         60.0  66.666667            0.0  13.333333   \n",
       "Muniix            8.604651         20.0  56.666667           70.0  31.666667   \n",
       "...                    ...          ...        ...            ...        ...   \n",
       "Scuprum           0.000000          0.0   0.000000            0.0   0.000000   \n",
       "BastiGHG          0.000000          0.0   0.000000            0.0   0.000000   \n",
       "Dubbly            0.000000          0.0   0.000000            0.0   0.000000   \n",
       "cheesecake2901    0.000000          0.0   0.000000            0.0   0.000000   \n",
       "SmartyxD          0.000000          0.0   0.000000            0.0   0.000000   \n",
       "\n",
       "                Lasertag  Minengefecht  Einer im Köcher  Paintball  Spleef  \\\n",
       "Allooy               0.0          45.0        83.333333        0.0   100.0   \n",
       "cediiiiii_10        15.0          70.0        10.000000        0.0    70.0   \n",
       "chrisihalt           0.0          45.0         0.000000        0.0     0.0   \n",
       "Fflopse             60.0           5.0        80.000000        0.0     0.0   \n",
       "Muniix              25.0          20.0         0.000000        0.0    70.0   \n",
       "...                  ...           ...              ...        ...     ...   \n",
       "Scuprum              0.0           0.0         0.000000        0.0     0.0   \n",
       "BastiGHG             0.0           0.0         0.000000        0.0     0.0   \n",
       "Dubbly               0.0           0.0         0.000000        0.0     0.0   \n",
       "cheesecake2901       0.0           0.0         0.000000        0.0     0.0   \n",
       "SmartyxD             0.0           0.0         0.000000        0.0     0.0   \n",
       "\n",
       "                ...  Freier Fall  Elytrarennen  Waffenfolge  Minenfeld  \\\n",
       "Allooy          ...          0.0          87.5          0.0  10.000000   \n",
       "cediiiiii_10    ...          0.0          47.5          0.0  10.000000   \n",
       "chrisihalt      ...          0.0          60.0          0.0  33.333333   \n",
       "Fflopse         ...          0.0           7.5          0.0  26.666667   \n",
       "Muniix          ...          0.0           5.0          0.0   0.000000   \n",
       "...             ...          ...           ...          ...        ...   \n",
       "Scuprum         ...          0.0           0.0          0.0   0.000000   \n",
       "BastiGHG        ...          0.0           0.0          0.0   0.000000   \n",
       "Dubbly          ...          0.0           0.0          0.0   0.000000   \n",
       "cheesecake2901  ...          0.0           0.0          0.0   0.000000   \n",
       "SmartyxD        ...          0.0           0.0          0.0   0.000000   \n",
       "\n",
       "                Kletterkönig  Ampelrennen  Hoch hinaus  Frostiger Pfad  \\\n",
       "Allooy             23.333333          0.0         80.0             0.0   \n",
       "cediiiiii_10       23.333333         15.0         30.0             0.0   \n",
       "chrisihalt         10.000000         80.0         40.0             0.0   \n",
       "Fflopse            46.666667         35.0         50.0             0.0   \n",
       "Muniix             46.666667          0.0          0.0             0.0   \n",
       "...                      ...          ...          ...             ...   \n",
       "Scuprum             0.000000          0.0          0.0             0.0   \n",
       "BastiGHG            0.000000          0.0          0.0             0.0   \n",
       "Dubbly              0.000000          0.0          0.0             0.0   \n",
       "cheesecake2901      0.000000          0.0          0.0             0.0   \n",
       "SmartyxD            0.000000          0.0          0.0             0.0   \n",
       "\n",
       "                Runterpurzeln        Total  \n",
       "Allooy                   60.0  4863.156430  \n",
       "cediiiiii_10             80.0  4252.977142  \n",
       "chrisihalt                0.0  3516.714371  \n",
       "Fflopse                   0.0  3143.836215  \n",
       "Muniix                  100.0  2987.683562  \n",
       "...                       ...          ...  \n",
       "Scuprum                   0.0     0.000000  \n",
       "BastiGHG                  0.0     0.000000  \n",
       "Dubbly                    0.0     0.000000  \n",
       "cheesecake2901            0.0     0.000000  \n",
       "SmartyxD                  0.0     0.000000  \n",
       "\n",
       "[246 rows x 31 columns]"
      ]
     },
     "execution_count": 21,
     "metadata": {},
     "output_type": "execute_result"
    }
   ],
   "source": [
    "outDf"
   ]
  },
  {
   "cell_type": "code",
   "execution_count": 22,
   "metadata": {},
   "outputs": [
    {
     "data": {
      "text/plain": [
       "Index(['Sammelwahn', 'Schießstand', 'Mauerfall', 'Survivalgames', 'Skywars',\n",
       "       'Lasertag', 'Minengefecht', 'Einer im Köcher', 'Paintball', 'Spleef',\n",
       "       'Buntes Chaos', 'Reihenfolge', 'Duelle', 'Turmroulette', 'Wettrennen',\n",
       "       'Parkour', 'Pferderennen', 'Drachenflucht', 'Replika', 'Blockhüpfer',\n",
       "       'Todeswürfel', 'Freier Fall', 'Elytrarennen', 'Waffenfolge',\n",
       "       'Minenfeld', 'Kletterkönig', 'Ampelrennen', 'Hoch hinaus',\n",
       "       'Frostiger Pfad', 'Runterpurzeln', 'Total'],\n",
       "      dtype='object')"
      ]
     },
     "execution_count": 22,
     "metadata": {},
     "output_type": "execute_result"
    }
   ],
   "source": [
    "outDf.columns"
   ]
  },
  {
   "cell_type": "code",
   "execution_count": 23,
   "metadata": {},
   "outputs": [
    {
     "data": {
      "text/plain": [
       "Allooy            4863.156430\n",
       "cediiiiii_10      4252.977142\n",
       "chrisihalt        3516.714371\n",
       "Fflopse           3143.836215\n",
       "Muniix            2987.683562\n",
       "                     ...     \n",
       "Scuprum              0.000000\n",
       "BastiGHG             0.000000\n",
       "Dubbly               0.000000\n",
       "cheesecake2901       0.000000\n",
       "SmartyxD             0.000000\n",
       "Name: Total, Length: 246, dtype: float64"
      ]
     },
     "execution_count": 23,
     "metadata": {},
     "output_type": "execute_result"
    }
   ],
   "source": [
    "outDf['Total']"
   ]
  },
  {
   "cell_type": "code",
   "execution_count": 24,
   "metadata": {},
   "outputs": [],
   "source": [
    "try: outDf = outDf.drop(columns=['Total'])\n",
    "except: pass\n",
    "\n",
    "totalDf = outDf.sum(axis=1)"
   ]
  },
  {
   "cell_type": "code",
   "execution_count": 25,
   "metadata": {},
   "outputs": [],
   "source": [
    "totalDf.to_json('TotalRankingScores.json')"
   ]
  },
  {
   "cell_type": "code",
   "execution_count": null,
   "metadata": {},
   "outputs": [],
   "source": []
  }
 ],
 "metadata": {
  "kernelspec": {
   "display_name": ".venv",
   "language": "python",
   "name": "python3"
  },
  "language_info": {
   "codemirror_mode": {
    "name": "ipython",
    "version": 3
   },
   "file_extension": ".py",
   "mimetype": "text/x-python",
   "name": "python",
   "nbconvert_exporter": "python",
   "pygments_lexer": "ipython3",
   "version": "3.9.6"
  }
 },
 "nbformat": 4,
 "nbformat_minor": 2
}
