{
 "cells": [
  {
   "cell_type": "code",
   "execution_count": 52,
   "metadata": {},
   "outputs": [
    {
     "data": {
      "text/plain": [
       "'\\n    Each Minigame may yield a total of 100 points per player. \\n    Records #1 through #10 are considered \\n\\n    If a minigame has multiple maps, the 100 points are distributed equally. For Sammelwahn and Replika, the sum over all records is considered solely. \\n\\n    E.g. Frozen Path (1 Map Minigame)\\n    #1 player: 100 points\\n    #2 player: 90 points\\n    #3 player: 80 points\\n    ...\\n    #10 player: 10 points\\n\\n    E.g. Schießstand (3 Map Minigame)\\n    Map 1: \\n    #1 player: 100/3 (33.333) points\\n    #2 player: 90/3 (30) points\\n    ...\\n    Map 2:\\n    #1 player: 100/3 (33.333) points\\n    #2 player: 90/3 (30) points\\n    ...\\n    Map 3:\\n    #1 player: 100/3 (33.333) points\\n    #2 player: 90/3 (30) points\\n    ...\\n\\n    E.g. Speed Race (5 Map Minigame)\\n    Map 1:\\n    #1 player: 100/5 (20) points\\n    #2 player: 90/5 (18) points\\n    ...\\n    Map 2:\\n    #1 player: 100/5 (20) points\\n    #2 player: 90/5 (18) points\\n    ...\\n\\n    Thus, a player holding #1 records in a minigame will always be assigned 100 points. \\n'"
      ]
     },
     "execution_count": 52,
     "metadata": {},
     "output_type": "execute_result"
    }
   ],
   "source": [
    "# figuring out the best player over all minigames \n",
    "\n",
    "'''\n",
    "    Each Minigame may yield a total of 100 points per player. \n",
    "    Records #1 through #10 are considered \n",
    "\n",
    "    If a minigame has multiple maps, the 100 points are distributed equally. For Sammelwahn and Replika, the sum over all records is considered solely. \n",
    "\n",
    "    E.g. Frozen Path (1 Map Minigame)\n",
    "    #1 player: 100 points\n",
    "    #2 player: 90 points\n",
    "    #3 player: 80 points\n",
    "    ...\n",
    "    #10 player: 10 points\n",
    "\n",
    "    E.g. Schießstand (3 Map Minigame)\n",
    "    Map 1: \n",
    "    #1 player: 100/3 (33.333) points\n",
    "    #2 player: 90/3 (30) points\n",
    "    ...\n",
    "    Map 2:\n",
    "    #1 player: 100/3 (33.333) points\n",
    "    #2 player: 90/3 (30) points\n",
    "    ...\n",
    "    Map 3:\n",
    "    #1 player: 100/3 (33.333) points\n",
    "    #2 player: 90/3 (30) points\n",
    "    ...\n",
    "\n",
    "    E.g. Speed Race (5 Map Minigame)\n",
    "    Map 1:\n",
    "    #1 player: 100/5 (20) points\n",
    "    #2 player: 90/5 (18) points\n",
    "    ...\n",
    "    Map 2:\n",
    "    #1 player: 100/5 (20) points\n",
    "    #2 player: 90/5 (18) points\n",
    "    ...\n",
    "\n",
    "    Thus, a player holding #1 records in a minigame will always be assigned 100 points. \n",
    "'''"
   ]
  },
  {
   "cell_type": "code",
   "execution_count": 53,
   "metadata": {},
   "outputs": [],
   "source": [
    "def remove_duplicate_columns(df):\n",
    "    \"\"\"\n",
    "    Removes duplicate columns from DataFrame.\n",
    "    Keeps the first occurrence of each duplicate column.\n",
    "    \"\"\"\n",
    "    df = df.loc[:, ~df.columns.duplicated()]\n",
    "    return df"
   ]
  },
  {
   "cell_type": "code",
   "execution_count": 54,
   "metadata": {},
   "outputs": [],
   "source": [
    "import os\n",
    "import re \n",
    "import pandas as pd\n",
    "import seaborn as sns \n",
    "import numpy as np \n",
    "\n",
    "pointMiniGames = \"Sammelwahn, Schießstand, Mauerfall, Mini Survivalgames, Mini Skywars, Lasertag, Minengefecht, Einer im Köcher, Paintball, Spleef, Buntes Chaos, Reihenfolge, Duelle, Turmroulette\" \n",
    "timeMiniGames = \"Wettrennen, Jump and Run, Pferderennen, Drachenflucht, Replika, Blockhüpfer, Todeswürfel, Freier Fall, Elytrarennen, Waffenfolge, Minenfeld, Kletterkönig, Ampelrennen, Hoch hinaus, Frostiger Pfad, Runterpurzeln\"\n",
    "\n",
    "def getPlayerPaths():\n",
    "    file_list = os.listdir('in-new')\n",
    "    print(file_list)\n",
    "    return file_list\n",
    "\n",
    "def read_file(file):\n",
    "    try:\n",
    "        with open('in-new/' + file, 'r', encoding='utf-8') as f:\n",
    "            data = f.read()\n",
    "    except UnicodeDecodeError:\n",
    "        # print(f'Error: {file} contains invalid characters for UTF-8. Trying with latin-1.')\n",
    "        try:\n",
    "            with open('in-new/' + file, 'r', encoding='latin-1') as f:\n",
    "                data = f.read()\n",
    "        except Exception as e:\n",
    "            print(f'Error: Could not read {file} with latin-1 encoding. {e}')\n",
    "            return None\n",
    "    except FileNotFoundError:\n",
    "        print(f'Error: {file} not found.')\n",
    "        return None\n",
    "    except Exception as e:\n",
    "        print(f'Error: An unexpected error occurred while reading {file}. {e}')\n",
    "        return None\n",
    "\n",
    "    if \"TooltipEvent\" not in data:\n",
    "        print(f'Error: {file} does not contain any TooltipEvent data')\n",
    "        return None\n",
    "    else:\n",
    "        data = data.replace('TooltipEvent, ', '')\n",
    "    \n",
    "    return data\n",
    "\n",
    "\n",
    "def getRecordData(playerPath, minigame):\n",
    "    # if read_file(playerPath) is None: return None\n",
    "\n",
    "    try: \n",
    "        data = read_file(playerPath).split('\\n')\n",
    "        for line in data: \n",
    "            if minigame in line: \n",
    "                minigameData = line\n",
    "                minigameData = minigameData.replace(minigame, '').strip()\n",
    "                return minigameData  # return the data instead of printing it\n",
    "    except: return None\n",
    "\n",
    "\n",
    "def create_dataframe(input_string, minigame):\n",
    "\n",
    "    # Define regular expression pattern to match map names and times\n",
    "    pattern = r'(\\w+\\s?\\w+)\\s*:\\s*(?:(\\d+)\\s*min\\s*)?(?:(\\d+)\\s*s\\s*)?(\\d+)\\s*ms'\n",
    "\n",
    "    # Find all matches in the input string\n",
    "    try: matches = re.findall(pattern, input_string)\n",
    "    except: matches = None\n",
    "\n",
    "    # Initialize data dictionary to store map names and times\n",
    "    data = {}\n",
    "\n",
    "    # Iterate over matches and populate data dictionary\n",
    "    if matches: \n",
    "        for match in matches:\n",
    "            map_name = match[0]\n",
    "            minutes = int(match[1] or 0)\n",
    "            seconds = int(match[2] or 0) + int(match[3]) / 1000\n",
    "            time_seconds = minutes * 60 + seconds\n",
    "            data[map_name] = time_seconds\n",
    "    else: return pd.DataFrame()\n",
    "\n",
    "    # Create DataFrame from data dictionary\n",
    "    df = pd.DataFrame(data, index=[0])\n",
    "\n",
    "\n",
    "    return df\n",
    "\n",
    "def createPointDataframe(input_string, minigame):\n",
    "    # Define regular expression pattern to match map names and times\n",
    "    pattern = r'(\\w+\\s?\\w+)\\s*:\\s*(\\d+)'\n",
    "\n",
    "    # Find all matches in the input string\n",
    "    matches = re.findall(pattern, input_string)\n",
    "\n",
    "    # Initialize data dictionary to store map names and times\n",
    "    data = {}\n",
    "\n",
    "    # Iterate over matches and populate data dictionary\n",
    "    for match in matches:\n",
    "        map_name = match[0]\n",
    "        time_value = int(match[1])\n",
    "        data[map_name] = time_value\n",
    "\n",
    "    # Create DataFrame from data dictionary\n",
    "    df = pd.DataFrame(data, index=[0])\n",
    "    return df.fillna(0)\n",
    "\n",
    "def getRecordsDataframe(minigame='Wettrennen', save=False, log=False, html=False, rank=True):\n",
    "\n",
    "    paths = getPlayerPaths()\n",
    "\n",
    "    outDf = pd.DataFrame()\n",
    "\n",
    "    if log:\n",
    "        print(f'processing {minigame}...')\n",
    "\n",
    "    if minigame in pointMiniGames: \n",
    "        pass\n",
    "    elif minigame in timeMiniGames:\n",
    "        pass\n",
    "    else: \n",
    "        ValueError('Not a valid minigame name')\n",
    "\n",
    "    for i in paths:\n",
    "        if minigame in timeMiniGames:\n",
    "            df = create_dataframe(getRecordData(playerPath=i, minigame=minigame), minigame)\n",
    "\n",
    "        if minigame in pointMiniGames:\n",
    "            try: \n",
    "                df = createPointDataframe(getRecordData(playerPath=i, minigame=minigame), minigame)\n",
    "                df.fillna(0, inplace=True)\n",
    "            except: \n",
    "                continue\n",
    "\n",
    "        if df is not None:  \n",
    "            df.index = [i.replace('.txt', '')]\n",
    "            outDf = pd.concat([outDf, df])\n",
    "\n",
    "    outPath = 'out/' + minigame + '.json'\n",
    "\n",
    "    '''\n",
    "        Minigame Specific changes to the df\n",
    "    '''\n",
    "\n",
    "    if (\"Replika\" in minigame): \n",
    "\n",
    "        replikaDf = outDf \n",
    "\n",
    "        # fillNa columns without \"ms\" with values from \"ms\", e.g. ms Arrow -> Arrow, then drop \"ms\" columns\n",
    "\n",
    "        try:\n",
    "            replikaDf[\"Arrow\"] = replikaDf[\"Arrow\"].fillna(replikaDf[\"ms Arrow\"])\n",
    "            replikaDf[\"Cow\"] = replikaDf[\"Cow\"].fillna(replikaDf[\"ms Cow\"])\n",
    "            replikaDf[\"Deadpool\"] = replikaDf[\"Deadpool\"].fillna(replikaDf[\"ms Deadpool\"])\n",
    "            replikaDf[\"Doge\"] = replikaDf[\"Doge\"].fillna(replikaDf[\"ms Doge\"])\n",
    "            replikaDf[\"Sonic\"] = replikaDf[\"Sonic\"].fillna(replikaDf[\"ms Sonic\"])\n",
    "\n",
    "            replikaDf.drop(columns=[\"ms Arrow\", \"ms Cow\", \"ms Deadpool\", \"ms Doge\", \"ms Sonic\"], inplace=True)\n",
    "        except: print(\"Warning, >ms< columns not found in ReplikaDf\")\n",
    "\n",
    "        replikaDf.fillna(25, inplace=True) # assigning a value to a never-played-before pattern, 17 perturbs worse player order and alt account stats lol, 27 is probably too much, difficult to choose an appropriate value here\n",
    "        row_sums = replikaDf.sum(axis=1)\n",
    "        \n",
    "        # Append the sum as a new column\n",
    "        replikaDf['Sum'] = row_sums\n",
    "\n",
    "        # Re-indexing\n",
    "        replikaDf = replikaDf.reindex(sorted(replikaDf.columns), axis=1)\n",
    "    \n",
    "        # Move 'Sum' column to the first position\n",
    "        cols = replikaDf.columns.tolist()\n",
    "        cols = ['Sum'] + [col for col in cols if col != 'Sum']\n",
    "        replikaDf = replikaDf[cols]\n",
    "\n",
    "        # replace 25 values again with None\n",
    "        replikaDf = replikaDf.replace(25, np.nan)\n",
    "\n",
    "        # replikaDf = replikaDf.reindex(sorted(replikaDf.columns), axis=1)\n",
    "\n",
    "\n",
    "        # Removing player data with too many NaNs (players that haven't played most of the patterns)\n",
    "        # replikaDf = replikaDf.drop(columns=[\"Ritokii\", \"Feinberg\", \"Sebi1801\"])\n",
    "\n",
    "        outDf = replikaDf\n",
    "\n",
    "    if (\"Sammelwahn\" in minigame):\n",
    "\n",
    "            row_sums = outDf.sum(axis=1)\n",
    "\n",
    "            # Append the sum as a new column\n",
    "            outDf['Sum'] = row_sums\n",
    "\n",
    "            # Re-indexing\n",
    "            outDf = outDf.reindex(sorted(outDf.columns), axis=1)\n",
    "\n",
    "            # Move 'Sum' column to the first position\n",
    "            cols = outDf.columns.tolist()\n",
    "            cols = ['Sum'] + [col.lstrip() for col in cols if col != 'Sum']\n",
    "            outDf = outDf[cols]\n",
    "\n",
    "            # remove \"Punkte\" from all columns\n",
    "            outDf.columns = outDf.columns.str.replace('Punkte', '')\n",
    "\n",
    "    if (\"Lasertag\" in minigame):\n",
    "        # Merge the columns \"tungen Port\" and \"Port\" into one column\n",
    "        \n",
    "        # debug \n",
    "        # print(outDf.columns)\n",
    "\n",
    "        try:\n",
    "\n",
    "            outDf[\"Tötungen Port\"] = outDf[\"Tötungen Port\"].replace(0, np.nan)\n",
    "\n",
    "            outDf[\"temp1\"] = outDf[\"Tötungen Port\"]\n",
    "            try: outDf.drop(columns=[\"Port\"], inplace=True)\n",
    "            except: pass\n",
    "            outDf[\"Port\"] = outDf[\"temp1\"]\n",
    "\n",
    "            outDf[\"Tötungen Neon\"] = outDf[\"Tötungen Neon\"].replace(0, np.nan)\n",
    "\n",
    "            outDf[\"temp2\"] = outDf[\"Tötungen Neon\"]\n",
    "            try: outDf.drop(columns=[\"Neon\"], inplace=True)\n",
    "            except: pass\n",
    "            outDf[\"Neon\"] = outDf[\"temp2\"]\n",
    "\n",
    "            outDf.drop(columns=[\"temp1\", \"temp2\", \"Tötungen Neon\", \"Tötungen Port\"], inplace=True)  \n",
    "\n",
    "        except: pass\n",
    "\n",
    "    if (\"Einer im Köcher\" in minigame):\n",
    "        try:\n",
    "            outDf[\"Tötungen Asia\"] = outDf[\"Tötungen Asia\"].replace(0, np.nan)\n",
    "            outDf[\"Asia\"] = outDf[\"Asia\"].replace(0, np.nan)\n",
    "\n",
    "            outDf[\"temp1\"] = outDf[\"Asia\"].fillna(outDf[\"Tötungen Asia\"])\n",
    "            outDf.drop(columns=[\"Asia\", \"Tötungen Asia\"], inplace=True)\n",
    "        except: pass\n",
    "            \n",
    "        try:\n",
    "            outDf[\"Asia\"] = outDf[\"temp1\"]\n",
    "\n",
    "            outDf[\"Tötungen Japan\"] = outDf[\"Tötungen Japan\"].replace(0, np.nan)\n",
    "            outDf[\"Japan\"] = outDf[\"Tötungen Japan\"]\n",
    "\n",
    "            outDf.drop(columns=[\"temp1\", \"Tötungen Japan\"], inplace=True)\n",
    "        except: pass\n",
    "        \n",
    "    if (\"Paintball\" in minigame):\n",
    "        outDf[\"Tötungen Arabic\"] = outDf[\"Tötungen Arabic\"].replace(0, np.nan)\n",
    "\n",
    "        outDf[\"temp1\"] = outDf[\"Tötungen Arabic\"]\n",
    "        try: outDf.drop(columns=[\"Tötungen Arabic\"], inplace=True)\n",
    "        except: pass\n",
    "        outDf[\"Arabic\"] = outDf[\"temp1\"]\n",
    "\n",
    "        outDf.drop(columns=[\"temp1\"], inplace=True)\n",
    "\n",
    "        # SW Columns: Swamp', 'Tötung Asia', 'Tötungen Asia', 'Tötungen Coconut', 'Wild West', 'tung Asia', 'tungen Asia'\n",
    "\n",
    "    if (\"Mini Skywars\" in minigame):\n",
    "\n",
    "        print(outDf.columns)\n",
    "\n",
    "        outDf[\"Tötungen Asia\"] = outDf[\"Tötungen Asia\"].replace(0, np.nan)\n",
    "        outDf[\"Tötung Asia\"] = outDf[\"Tötung Asia\"].replace(0, np.nan)\n",
    "        outDf[\"Asia\"] = outDf[\"Asia\"].replace(0, np.nan)\n",
    "        #outDf[\"tung Asia\"] = outDf[\"tung Asia\"].replace(0, np.nan)\n",
    "        \n",
    "        outDf[\"temp1\"] = outDf[\"Tötung Asia\"]\n",
    "\n",
    "        outDf[\"temp1\"] = outDf[\"Tötungen Asia\"].fillna(outDf[\"Tötung Asia\"])\n",
    "        outDf[\"temp1\"] = outDf[\"temp1\"].fillna(outDf[\"Asia\"])\n",
    "        #outDf[\"temp1\"] = outDf[\"Tötungen Asia\"].fillna(outDf[\"tung Asia\"])\n",
    "        try: outDf.drop(columns=[\"Tötung Asia\", \"Tötungen Asia\", \"Asia\"], inplace=True)\n",
    "        except: pass\n",
    "        outDf[\"Asia\"] = outDf[\"temp1\"]\n",
    "\n",
    "        outDf[\"Tötungen Coconut\"] = outDf[\"Tötungen Coconut\"].replace(0, np.nan)\n",
    "        #outDf[\"tungen Coconut\"] = outDf[\"tungen Coconut\"].replace(0, np.nan)\n",
    "\n",
    "        #outDf[\"temp2\"] = outDf[\"tungen Coconut\"].fillna(outDf[\"Tötungen Coconut\"])\n",
    "        try: outDf.drop(columns=[\"tungen Coconut\", \"Tötungen Coconut\"], inplace=True)\n",
    "        except: pass\n",
    "        #outDf[\"Coconut\"] = outDf[\"temp2\"]\n",
    "\n",
    "        outDf[\"Rust\"] = outDf[\"Tötungen Rust\"]\n",
    "        outDf.drop(columns=[\"Tötungen Rust\"], inplace=True)\n",
    "\n",
    "        outDf.drop(columns=[\"temp1\"], inplace=True)\n",
    "\n",
    "        outDf[\"Tötungen Coconut\"] = outDf[\"Tötungen Coconut\"].replace(0, np.nan).fillna(outDf[\"Tötung Coconut\"])\n",
    "\n",
    "        outDf[\"temp1\"] = outDf[\"Tötungen Coconut\"]\n",
    "        try: outDf.drop(columns=[\"Tötungen Coconut\"], inplace=True)\n",
    "        except: pass\n",
    "        outDf[\"Coconut\"] = outDf[\"temp1\"]\n",
    "\n",
    "        outDf.drop(columns=[\"temp1\", \"Tötung Coconut\"], inplace=True)\n",
    "\n",
    "        outDf[\"Tötung Rust\"] = outDf[\"Tötung Rust\"].replace(0, np.nan)\n",
    "        outDf[\"Rust\"] = outDf[\"Rust\"].fillna(outDf[\"Tötung Rust\"])\n",
    "\n",
    "        try: \n",
    "            outDf.drop(columns=[\"Tötung Rust\"], inplace=True)\n",
    "        except: pass\n",
    "\n",
    "    if (\"Mini Survivalgames\" in minigame and True):\n",
    "\n",
    "        try: \n",
    "            #outDf[\"Tötungen Prison\"] = outDf[\"Tótungen Prison\"].replace(0, np.nan)\n",
    "            outDf[\"Tötung Prison\"] = outDf[\"Tötung Prison\"].replace(0, np.nan)\n",
    "            outDf[\"Prison\"] = outDf[\"Prison\"].replace(0, np.nan)\n",
    "            # outDf[\"Prison\"] = outDf[\"Prison\"].fillna(outDf[\"Tötungen Prison\"])\n",
    "            outDf[\"Prison\"] = outDf[\"Prison\"].fillna(outDf[\"Tötung Prison\"])\n",
    "\n",
    "            try:\n",
    "                outDf.drop(columns=[\"Tötungen Prison\", \"Tötung Prison\"], inplace=True)\n",
    "            except: pass\n",
    "        except: pass\n",
    "\n",
    "    if (\"Minengefecht\" in minigame):\n",
    "        try: \n",
    "            outDf[\"Tötungen Overworld\"] = outDf[\"Tötungen Overworld\"].replace(0, np.nan)\n",
    "            outDf[\"Overworld\"] = outDf[\"Overworld\"].replace(0, np.nan)\n",
    "\n",
    "            outDf[\"temp1\"] = outDf[\"Overworld\"].fillna(outDf[\"Tötungen Overworld\"])\n",
    "            outDf[\"temp1\"] = outDf[\"temp1\"]\n",
    "\n",
    "            try: outDf.drop(columns=[\"Overworld\", \"Tötungen Overworld\"], inplace=True)\n",
    "            except: pass\n",
    "            outDf[\"Overworld\"] = outDf[\"temp1\"]\n",
    "\n",
    "            outDf.drop(columns=[\"temp1\"], inplace=True)\n",
    "            \n",
    "            outDf[\"Tötungen Ruin\"] = outDf[\"Tötungen Ruin\"].replace(0, np.nan)\n",
    "\n",
    "            outDf[\"temp2\"] = outDf[\"Tötungen Ruin\"]\n",
    "            try: outDf.drop(columns=[\"Tötungen Ruin\"], inplace=True)\n",
    "            except: pass\n",
    "            outDf[\"Ruin\"] = outDf[\"temp2\"]\n",
    "\n",
    "            outDf.drop(columns=[\"temp2\"], inplace=True)\n",
    "\n",
    "            try: outDf.drop(columns=[\"Tötung Overworld\", \"Tötung Ruin\"], inplace=True)\n",
    "            except: pass\n",
    "        except: pass\n",
    "\n",
    "    if (\"Mauerfall\" in minigame):\n",
    "            \n",
    "        try:\n",
    "        \n",
    "            outDf[\"Tötungen Grass\"] = outDf[\"Tötungen Grass\"].replace(0, np.nan)\n",
    "            outDf[\"Grass\"] = outDf[\"Grass\"].replace(0, np.nan)\n",
    "            outDf[\"Tötung Grass\"] = outDf[\"Tötung Grass\"].replace(0, np.nan)\n",
    "\n",
    "            outDf[\"temp1\"] = outDf[\"Grass\"].fillna(outDf[\"Tötungen Grass\"])\n",
    "            outDf[\"temp1\"] = outDf[\"temp1\"].fillna(outDf[\"Tötung Grass\"])\n",
    "\n",
    "            try: outDf.drop(columns=[\"Grass\", \"Tötungen Grass\", \"Tötung Grass\"], inplace=True)\n",
    "            except: pass\n",
    "\n",
    "            outDf[\"Grass\"] = outDf[\"temp1\"]\n",
    "\n",
    "            outDf.drop(columns=[\"temp1\"], inplace=True)\n",
    "            \n",
    "            outDf[\"Tötungen Vulcano\"] = outDf[\"Tötungen Vulcano\"].replace(0, np.nan)\n",
    "\n",
    "            outDf[\"temp2\"] = outDf[\"Tötungen Vulcano\"]\n",
    "            try: outDf.drop(columns=[\"Tötungen Vulcano\"], inplace=True)\n",
    "            except: pass\n",
    "            outDf[\"Vulcano\"] = outDf[\"temp2\"]\n",
    "\n",
    "            outDf.drop(columns=[\"temp2\"], inplace=True)\n",
    "\n",
    "            try: outDf.drop(columns=[\"Tötung Vulcano\"], inplace=True)\n",
    "            except: pass\n",
    "        \n",
    "        except: pass\n",
    "\n",
    "    if (\"Schie\" in minigame):\n",
    "        outDf[\"Punkte City\"] = outDf[\"Punkte City\"].replace(0, np.nan)\n",
    "        outDf[\"City\"] = outDf[\"City\"].replace(0, np.nan)\n",
    "\n",
    "        outDf[\"temp1\"] = outDf[\"City\"].fillna(outDf[\"Punkte City\"])\n",
    "        try: outDf.drop(columns=[\"City\", \"Punkte City\"], inplace=True)\n",
    "        except: pass\n",
    "\n",
    "        outDf[\"City\"] = outDf[\"temp1\"]\n",
    "\n",
    "        outDf[\"Punkte Jungle\"] = outDf[\"Punkte Jungle\"].replace(0, np.nan)\n",
    "\n",
    "        outDf[\"temp1\"] = outDf[\"Punkte Jungle\"]\n",
    "        try: outDf.drop(columns=[\"Punkte Jungle\"], inplace=True)\n",
    "        except: pass\n",
    "\n",
    "        outDf[\"Jungle\"] = outDf[\"temp1\"]\n",
    "\n",
    "        outDf.drop(columns=[\"temp1\"], inplace=True)\n",
    "        \n",
    "    if (\"Frostiger\" in minigame): \n",
    "        # remove values bigger than 100 with nan\n",
    "        outDf = outDf.where(outDf < 100, np.nan)\n",
    "\n",
    "    if (\"Duel\" in minigame): \n",
    "        outDf = outDf.where(outDf > 10, 0.0)\n",
    "\n",
    "    if (\"Einer im Köcher\" in minigame):\n",
    "\n",
    "        try:\n",
    "            outDf[\"Tötung Asia\"] = outDf[\"Tötung Asia\"].replace(0, np.nan)\n",
    "            outDf[\"Asia\"] = outDf[\"Asia\"].replace(0, np.nan)\n",
    "\n",
    "            outDf[\"temp1\"] = outDf[\"Asia\"].fillna(outDf[\"Tötung Asia\"])\n",
    "            outDf.drop(columns=[\"Asia\", \"Tötung Asia\"], inplace=True)\n",
    "            \n",
    "            outDf[\"Asia\"] = outDf[\"temp1\"]\n",
    "\n",
    "            outDf.drop(columns=[\"temp1\"], inplace=True)\n",
    "        except: pass\n",
    "\n",
    "    if (\"Buntes\" in minigame):\n",
    "        outDf = outDf.fillna(0)\n",
    "        \n",
    "        outDf['temp1'] = outDf[\"Runden Cyberpunk\"].fillna(outDf[\"Cyberpunk\"])\n",
    "        outDf.drop(columns=[\"Runden Cyberpunk\", \"Cyberpunk\"], inplace=True)\n",
    "\n",
    "        outDf['Cyberpunk'] = outDf['temp1']\n",
    "\n",
    "        outDf.drop(columns=[\"temp1\"], inplace=True)\n",
    "\n",
    "    if (\"Pferd\" in minigame):\n",
    "        outDf[\"s Arena\"] = outDf[\"s Arena\"].replace(0, np.nan)\n",
    "        outDf[\"Wario's Arena\"] = outDf[\"s Arena\"]\n",
    "\n",
    "        outDf.drop(columns=[\"s Arena\"], inplace=True)\n",
    "\n",
    "\n",
    "    # Sorting columns alphabetically for any outDf except if minigame == \"Replika\" (sum column)\n",
    "    \n",
    "    if (\"Replika\" not in minigame):\n",
    "        if (\"Sammelwahn\" not in minigame):\n",
    "            outDf = outDf.reindex(sorted(outDf.columns), axis=1)\n",
    "\n",
    "\n",
    "\n",
    "\n",
    "    '''\n",
    "        debugging options\n",
    "    '''\n",
    "        \n",
    "    if save: \n",
    "        if \"Replika\" in minigame: \n",
    "            json_df = outDf.iloc[:, 1:]\n",
    "            json_df.T.to_json(outPath)\n",
    "        \n",
    "        else: outDf.T.to_json(outPath) \n",
    "\n",
    "    if log: \n",
    "        print(f'{minigame} processed')\n",
    "    \n",
    "    if rank: \n",
    "        if minigame in pointMiniGames: \n",
    "            outDf = outDf.rank(ascending=False, method='min', axis=0)\n",
    "        if minigame in timeMiniGames:\n",
    "            if \"Drache\" in minigame: \n",
    "                outDf = outDf.rank(ascending=False, method='min', axis=0)\n",
    "            else:\n",
    "                outDf = outDf.rank(ascending=True, method='min', axis=0)\n",
    "\n",
    "    if html == False: \n",
    "        return outDf"
   ]
  },
  {
   "cell_type": "code",
   "execution_count": 55,
   "metadata": {},
   "outputs": [
    {
     "name": "stdout",
     "output_type": "stream",
     "text": [
      "['__egE.txt', 'Tammywood.txt', 'BunnyKiko.txt', 'SpeckyCut.txt', 'Hyxeed.txt', 'demiu.txt', 'SpinCrafter.txt', 'NanamiElvi.txt', '_n3d.txt', 'Sebi1801.txt', 'JayMinInSane.txt', 'Persidieus.txt', 'N3XV.txt', 'Wissender.txt', 'Gryzes.txt', 'jimmi4Life.txt', 'Gobo9.txt', 'Anni808.txt', 'LeWi_100.txt', '_Waldi_.txt', 'Grapfen.txt', 'PixlNight.txt', 'dossantosaveiro_.txt', 'agowskyy.txt', 'TheBreadHD.txt', 'Axollotel.txt', 'T_Niko_T.txt', 'Vanillinchen.txt', 'Odlaa.txt', 'D4rkCookie.txt', 'yzvm.txt', 'Tim_Voltia.txt', 'xBaumeisterin.txt', 'Ungluecklicher.txt', 'Lutorix.txt', 'Ninivee.txt', 'ArthurAlchemist.txt', 'redbrll.txt', 'Gfrasti.txt', 'Muniix.txt', 'Tomiokey.txt', 'Carl1_1.txt', 'DerAutist.txt', 'PolizeiDreamy.txt', 'xX_Dima_ggg_Xx6.txt', 'Falke23_5.txt', 'TheFabo.txt', 'DieserBear.txt', 'Picutar.txt', '2B9.txt', 'Schmaarek.txt', 'musi1999.txt', 'PumiTheCat.txt', 'HerrDante.txt', 'KakaMC.txt', 'StaudammAusHolz.txt', 'Lelouch610.txt', 'Kyuudo.txt', 'twitchparaskiill.txt', 'G0at3D.txt', 'SecretAgent_K.txt', 'KMaxN.txt', 'Sey__.txt', 'ForceFox.txt', 'toxicplace.txt', 'Gestimus.txt', 'yachayubin.txt', 'Wolkenfarmer.txt', 'y9nic.txt', 'KINT0.txt', 'zBro.txt', 'qriezmannsOpa.txt', 'Harold_Sensemann.txt', 'Pedrozockt.txt', 'MrNulfred.txt', 'Cytoox.txt', 'IchHolzDichWeg.txt', 'GingerTeddy.txt', 'Kopfradio.txt', 'loukrativ.txt', 'M0osebumps.txt', 'SmartyxD.txt', 'Kokochampo.txt', 'JennieKim.txt', 'Umgfoin.txt', 'ffawks.txt', 'byTobi.txt', 'Shiewk.txt', 'La_meleagro.txt', 'Squashgitter333.txt', 'Luxemburq.txt', 'DarkCobweb.txt', 'Sackkerl.txt', 'Sthyq.txt', 'Acidey.txt', 'Laaaachs.txt', 'HerosHD.txt', 'Lennart0911.txt', 'Gerrygames.txt', 'BusinessBent.txt', 'Simlll.txt', 'YBCM.txt', 'Txlentierter.txt', 'Dat_Klan.txt', 'Luis_XYZ.txt', 'NiklasMoWo.txt', 'MaxMitMaulkorb.txt', 'Oronor.txt', 'GamemasterNiki.txt', 'LordAlexos.txt', 'Pluto28.txt', 'GrafikKatze.txt', '_Einfallslos_.txt', 'cediiiiii_10.txt', 'Dokkkkko.txt', 'deadfiight.txt', 'Kanickelul.txt', 'crocodile1870.txt', 'Sower_.txt', 'Steavn.txt', 'EinfachEazy.txt', 'yiiq.txt', 'NotLennart.txt', 'Snitcherella.txt', 'Keenaai.txt', 'xd_Maiky.txt', 'ReichesBrot.txt', 'lolisamasan.txt', 'Raefinzs.txt', 'JOW24.txt', 'ByNetherdude.txt', 'ZweitesIch.txt', 'frutigall.txt', 'LilFueller.txt', 'xiooh.txt', 'rotmann2.txt', 'FlyingKyubi.txt', 'Joy_8oy.txt', 'BauHD.txt', 'CML_Justin.txt', 'MoZadaTV.txt', 'BastiGHG.txt', 'Gummibearchen.txt', 'Lord_Weibull.txt', 'VendasTM.txt', 'Stockinqs.txt', 'GlowyDusk.txt', 'Scuprum.txt', 'h4nnes.txt', 'cheesecake2901.txt', 'DrSpeed06.txt', 'Krusti.txt', 'marbrueck.txt', 'Vacted.txt', 'Janne4k.txt', 'Bartschii.txt', 'Mansuni.txt', 'SB387.txt', 'medisant.txt', 'Phoenix3000.txt', 'JOW23.txt', 'Ritokii.txt', 'Juti0n.txt', 'lvlaurin.txt', 'Bikoop.txt', 'FrozenNoah.txt', 'GeneralEnte06.txt', 'Dubbly.txt', 'revolverz.txt', 'Highsay.txt', 'ScreamingBlatz.txt', 'RyanxCole.txt', 'shellny.txt', 'TheKillerisback.txt', 'M0orey_0.txt', 'Mincheeen.txt', '2wc.txt', 'Feinberg.txt', 'Navex.txt', 'NewNormal0947.txt', 'Teesily.txt', 'SiLoHB.txt', 'Morittz.txt', 'cxl1lo.txt', 'LeMetin_.txt', 'unausgesprochen.txt', 'Freeeedom.txt', 'miridis41.txt', 'Joe3346.txt', 'Lingex.txt', 'xX_Masha_ggg_Xx9.txt', 'Julius16.txt', 'lizsyy.txt', 'camman18YT.txt', 'Jan2220.txt', 'Falke_01.txt', 'DaVinci_Son.txt', 'SatzdesPytag0ras.txt', 'Flitzi_Dino.txt', 'Wienerisch.txt', 'Seemops_8.txt', 'GermanPie.txt', 'chrisihalt.txt', 'FluffyDragon2007.txt', 'LucaaOn.txt', 'Allooy.txt', 'Chander24.txt', 'Fflopse.txt', 'bikop.txt', 'vKito.txt', 'bawskey.txt', 'RasenLP.txt', 'WirdNichtGeladen.txt', 'WuschigesEtwas.txt', 'OutcroYoutube.txt', 'HeIsJustAPoorBoy.txt', 'FlyingAutismus.txt', 'destr0yed_.txt', 'Ex4cted.txt', 'Mvsk_.txt', 'MaxOnTheRoad.txt', 'swiffle.txt', 'juvona.txt', 'Lubottus.txt', 'Nervigerr.txt', 'lolisamakun.txt', 'Martomias.txt', '20LeRe10.txt']\n",
      "processing Schießstand...\n",
      "Error: Tammywood.txt does not contain any TooltipEvent data\n",
      "Error: demiu.txt does not contain any TooltipEvent data\n",
      "Error: JayMinInSane.txt does not contain any TooltipEvent data\n",
      "Error: KINT0.txt does not contain any TooltipEvent data\n",
      "Error: SmartyxD.txt does not contain any TooltipEvent data\n",
      "Error: Sower_.txt does not contain any TooltipEvent data\n",
      "Error: Lord_Weibull.txt does not contain any TooltipEvent data\n",
      "Error: Scuprum.txt does not contain any TooltipEvent data\n",
      "Error: Dubbly.txt does not contain any TooltipEvent data\n",
      "Error: bikop.txt does not contain any TooltipEvent data\n",
      "Error: destr0yed_.txt does not contain any TooltipEvent data\n",
      "Schießstand processed\n"
     ]
    },
    {
     "data": {
      "text/plain": [
       "City               2.0\n",
       "Farm               3.0\n",
       "Jungle             4.0\n",
       "Punkte Chambers    NaN\n",
       "Name: Fflopse, dtype: float64"
      ]
     },
     "execution_count": 55,
     "metadata": {},
     "output_type": "execute_result"
    }
   ],
   "source": [
    "df = getRecordsDataframe(minigame='Schießstand', save=False, log=True, html=False, rank=True)\n",
    "\n",
    "df.loc['Fflopse']\n",
    "\n",
    "# df.columns"
   ]
  },
  {
   "cell_type": "code",
   "execution_count": 56,
   "metadata": {},
   "outputs": [],
   "source": [
    "def getBestPlayer(minigame='Wettrennen'):\n",
    "    df = getRecordsDataframe(minigame=minigame, save=False, log=True, html=False, rank=True)\n",
    "\n",
    "    num_cols = len(df.columns) \n",
    "\n",
    "    '''\n",
    "    Each Minigame may yield a total of 100 points per player. \n",
    "    Records #1 through #10 are considered \n",
    "\n",
    "    If a minigame has multiple maps, the 100 points are distributed equally. For Sammelwahn and Replika, the sum over all records is considered solely. \n",
    "\n",
    "    E.g. Frozen Path (1 Map Minigame)\n",
    "    #1 player: 100 points\n",
    "    #2 player: 90 points\n",
    "    #3 player: 80 points\n",
    "    ...\n",
    "    #10 player: 10 points\n",
    "\n",
    "    E.g. Schießstand (3 Map Minigame)\n",
    "    Map 1: \n",
    "    #1 player: 100/3 (33.333) points\n",
    "    #2 player: 90/3 (30) points\n",
    "    ...\n",
    "    Map 2:\n",
    "    #1 player: 100/3 (33.333) points\n",
    "    #2 player: 90/3 (30) points\n",
    "    ...\n",
    "    Map 3:\n",
    "    #1 player: 100/3 (33.333) points\n",
    "    #2 player: 90/3 (30) points\n",
    "    ...\n",
    "\n",
    "    E.g. Speed Race (5 Map Minigame)\n",
    "    Map 1:\n",
    "    #1 player: 100/5 (20) points\n",
    "    #2 player: 90/5 (18) points\n",
    "    ...\n",
    "    Map 2:\n",
    "    #1 player: 100/5 (20) points\n",
    "    #2 player: 90/5 (18) points\n",
    "    ...\n",
    "\n",
    "    Thus, a player holding #1 records in a minigame will always be assigned 100 points. \n",
    "    '''\n",
    "\n",
    "    # fill values > 10.0 with 0\n",
    "    df = df.where(df < 10.0, 0)\n",
    "\n",
    "    # replace the rank values in the dataframe with the apprpriate score values\n",
    "\n",
    "    if minigame in pointMiniGames:\n",
    "        df = df.replace({1.0: 100, 2.0: 90, 3.0: 80, 4.0: 70, 5.0: 60, 6.0: 50, 7.0: 40, 8.0: 30, 9.0: 20, 10.0: 10})\n",
    "    if minigame in timeMiniGames:\n",
    "        df = df.replace({1.0: 100, 2.0: 90, 3.0: 80, 4.0: 70, 5.0: 60, 6.0: 50, 7.0: 40, 8.0: 30, 9.0: 20, 10.0: 10})\n",
    "\n",
    "    # sum the scores for each player\n",
    "    df['PointSum'] = df.sum(axis=1) / num_cols\n",
    "\n",
    "    # sort the dataframe by the PointSum column\n",
    "    df = df.sort_values(by='PointSum', ascending=False)\n",
    "\n",
    "    # for Sammelwahn and Replika, simply get the points from the sum column\n",
    "    if minigame in \"Sammelwahn Replika\":\n",
    "        df['Pointsum'] = df['Sum']\n",
    "\n",
    "    return df\n",
    "    "
   ]
  },
  {
   "cell_type": "code",
   "execution_count": 57,
   "metadata": {},
   "outputs": [],
   "source": [
    "# getBestPlayer(minigame='Wettrennen')"
   ]
  },
  {
   "cell_type": "code",
   "execution_count": 58,
   "metadata": {},
   "outputs": [
    {
     "name": "stdout",
     "output_type": "stream",
     "text": [
      "['__egE.txt', 'Tammywood.txt', 'BunnyKiko.txt', 'SpeckyCut.txt', 'Hyxeed.txt', 'demiu.txt', 'SpinCrafter.txt', 'NanamiElvi.txt', '_n3d.txt', 'Sebi1801.txt', 'JayMinInSane.txt', 'Persidieus.txt', 'N3XV.txt', 'Wissender.txt', 'Gryzes.txt', 'jimmi4Life.txt', 'Gobo9.txt', 'Anni808.txt', 'LeWi_100.txt', '_Waldi_.txt', 'Grapfen.txt', 'PixlNight.txt', 'dossantosaveiro_.txt', 'agowskyy.txt', 'TheBreadHD.txt', 'Axollotel.txt', 'T_Niko_T.txt', 'Vanillinchen.txt', 'Odlaa.txt', 'D4rkCookie.txt', 'yzvm.txt', 'Tim_Voltia.txt', 'xBaumeisterin.txt', 'Ungluecklicher.txt', 'Lutorix.txt', 'Ninivee.txt', 'ArthurAlchemist.txt', 'redbrll.txt', 'Gfrasti.txt', 'Muniix.txt', 'Tomiokey.txt', 'Carl1_1.txt', 'DerAutist.txt', 'PolizeiDreamy.txt', 'xX_Dima_ggg_Xx6.txt', 'Falke23_5.txt', 'TheFabo.txt', 'DieserBear.txt', 'Picutar.txt', '2B9.txt', 'Schmaarek.txt', 'musi1999.txt', 'PumiTheCat.txt', 'HerrDante.txt', 'KakaMC.txt', 'StaudammAusHolz.txt', 'Lelouch610.txt', 'Kyuudo.txt', 'twitchparaskiill.txt', 'G0at3D.txt', 'SecretAgent_K.txt', 'KMaxN.txt', 'Sey__.txt', 'ForceFox.txt', 'toxicplace.txt', 'Gestimus.txt', 'yachayubin.txt', 'Wolkenfarmer.txt', 'y9nic.txt', 'KINT0.txt', 'zBro.txt', 'qriezmannsOpa.txt', 'Harold_Sensemann.txt', 'Pedrozockt.txt', 'MrNulfred.txt', 'Cytoox.txt', 'IchHolzDichWeg.txt', 'GingerTeddy.txt', 'Kopfradio.txt', 'loukrativ.txt', 'M0osebumps.txt', 'SmartyxD.txt', 'Kokochampo.txt', 'JennieKim.txt', 'Umgfoin.txt', 'ffawks.txt', 'byTobi.txt', 'Shiewk.txt', 'La_meleagro.txt', 'Squashgitter333.txt', 'Luxemburq.txt', 'DarkCobweb.txt', 'Sackkerl.txt', 'Sthyq.txt', 'Acidey.txt', 'Laaaachs.txt', 'HerosHD.txt', 'Lennart0911.txt', 'Gerrygames.txt', 'BusinessBent.txt', 'Simlll.txt', 'YBCM.txt', 'Txlentierter.txt', 'Dat_Klan.txt', 'Luis_XYZ.txt', 'NiklasMoWo.txt', 'MaxMitMaulkorb.txt', 'Oronor.txt', 'GamemasterNiki.txt', 'LordAlexos.txt', 'Pluto28.txt', 'GrafikKatze.txt', '_Einfallslos_.txt', 'cediiiiii_10.txt', 'Dokkkkko.txt', 'deadfiight.txt', 'Kanickelul.txt', 'crocodile1870.txt', 'Sower_.txt', 'Steavn.txt', 'EinfachEazy.txt', 'yiiq.txt', 'NotLennart.txt', 'Snitcherella.txt', 'Keenaai.txt', 'xd_Maiky.txt', 'ReichesBrot.txt', 'lolisamasan.txt', 'Raefinzs.txt', 'JOW24.txt', 'ByNetherdude.txt', 'ZweitesIch.txt', 'frutigall.txt', 'LilFueller.txt', 'xiooh.txt', 'rotmann2.txt', 'FlyingKyubi.txt', 'Joy_8oy.txt', 'BauHD.txt', 'CML_Justin.txt', 'MoZadaTV.txt', 'BastiGHG.txt', 'Gummibearchen.txt', 'Lord_Weibull.txt', 'VendasTM.txt', 'Stockinqs.txt', 'GlowyDusk.txt', 'Scuprum.txt', 'h4nnes.txt', 'cheesecake2901.txt', 'DrSpeed06.txt', 'Krusti.txt', 'marbrueck.txt', 'Vacted.txt', 'Janne4k.txt', 'Bartschii.txt', 'Mansuni.txt', 'SB387.txt', 'medisant.txt', 'Phoenix3000.txt', 'JOW23.txt', 'Ritokii.txt', 'Juti0n.txt', 'lvlaurin.txt', 'Bikoop.txt', 'FrozenNoah.txt', 'GeneralEnte06.txt', 'Dubbly.txt', 'revolverz.txt', 'Highsay.txt', 'ScreamingBlatz.txt', 'RyanxCole.txt', 'shellny.txt', 'TheKillerisback.txt', 'M0orey_0.txt', 'Mincheeen.txt', '2wc.txt', 'Feinberg.txt', 'Navex.txt', 'NewNormal0947.txt', 'Teesily.txt', 'SiLoHB.txt', 'Morittz.txt', 'cxl1lo.txt', 'LeMetin_.txt', 'unausgesprochen.txt', 'Freeeedom.txt', 'miridis41.txt', 'Joe3346.txt', 'Lingex.txt', 'xX_Masha_ggg_Xx9.txt', 'Julius16.txt', 'lizsyy.txt', 'camman18YT.txt', 'Jan2220.txt', 'Falke_01.txt', 'DaVinci_Son.txt', 'SatzdesPytag0ras.txt', 'Flitzi_Dino.txt', 'Wienerisch.txt', 'Seemops_8.txt', 'GermanPie.txt', 'chrisihalt.txt', 'FluffyDragon2007.txt', 'LucaaOn.txt', 'Allooy.txt', 'Chander24.txt', 'Fflopse.txt', 'bikop.txt', 'vKito.txt', 'bawskey.txt', 'RasenLP.txt', 'WirdNichtGeladen.txt', 'WuschigesEtwas.txt', 'OutcroYoutube.txt', 'HeIsJustAPoorBoy.txt', 'FlyingAutismus.txt', 'destr0yed_.txt', 'Ex4cted.txt', 'Mvsk_.txt', 'MaxOnTheRoad.txt', 'swiffle.txt', 'juvona.txt', 'Lubottus.txt', 'Nervigerr.txt', 'lolisamakun.txt', 'Martomias.txt', '20LeRe10.txt']\n",
      "processing Sammelwahn...\n",
      "Error: Tammywood.txt does not contain any TooltipEvent data\n",
      "Error: demiu.txt does not contain any TooltipEvent data\n",
      "Error: JayMinInSane.txt does not contain any TooltipEvent data\n",
      "Error: KINT0.txt does not contain any TooltipEvent data\n",
      "Error: SmartyxD.txt does not contain any TooltipEvent data\n",
      "Error: Sower_.txt does not contain any TooltipEvent data\n",
      "Error: Lord_Weibull.txt does not contain any TooltipEvent data\n",
      "Error: Scuprum.txt does not contain any TooltipEvent data\n",
      "Error: Dubbly.txt does not contain any TooltipEvent data\n",
      "Error: bikop.txt does not contain any TooltipEvent data\n",
      "Error: destr0yed_.txt does not contain any TooltipEvent data\n",
      "Sammelwahn processed\n",
      "['__egE.txt', 'Tammywood.txt', 'BunnyKiko.txt', 'SpeckyCut.txt', 'Hyxeed.txt', 'demiu.txt', 'SpinCrafter.txt', 'NanamiElvi.txt', '_n3d.txt', 'Sebi1801.txt', 'JayMinInSane.txt', 'Persidieus.txt', 'N3XV.txt', 'Wissender.txt', 'Gryzes.txt', 'jimmi4Life.txt', 'Gobo9.txt', 'Anni808.txt', 'LeWi_100.txt', '_Waldi_.txt', 'Grapfen.txt', 'PixlNight.txt', 'dossantosaveiro_.txt', 'agowskyy.txt', 'TheBreadHD.txt', 'Axollotel.txt', 'T_Niko_T.txt', 'Vanillinchen.txt', 'Odlaa.txt', 'D4rkCookie.txt', 'yzvm.txt', 'Tim_Voltia.txt', 'xBaumeisterin.txt', 'Ungluecklicher.txt', 'Lutorix.txt', 'Ninivee.txt', 'ArthurAlchemist.txt', 'redbrll.txt', 'Gfrasti.txt', 'Muniix.txt', 'Tomiokey.txt', 'Carl1_1.txt', 'DerAutist.txt', 'PolizeiDreamy.txt', 'xX_Dima_ggg_Xx6.txt', 'Falke23_5.txt', 'TheFabo.txt', 'DieserBear.txt', 'Picutar.txt', '2B9.txt', 'Schmaarek.txt', 'musi1999.txt', 'PumiTheCat.txt', 'HerrDante.txt', 'KakaMC.txt', 'StaudammAusHolz.txt', 'Lelouch610.txt', 'Kyuudo.txt', 'twitchparaskiill.txt', 'G0at3D.txt', 'SecretAgent_K.txt', 'KMaxN.txt', 'Sey__.txt', 'ForceFox.txt', 'toxicplace.txt', 'Gestimus.txt', 'yachayubin.txt', 'Wolkenfarmer.txt', 'y9nic.txt', 'KINT0.txt', 'zBro.txt', 'qriezmannsOpa.txt', 'Harold_Sensemann.txt', 'Pedrozockt.txt', 'MrNulfred.txt', 'Cytoox.txt', 'IchHolzDichWeg.txt', 'GingerTeddy.txt', 'Kopfradio.txt', 'loukrativ.txt', 'M0osebumps.txt', 'SmartyxD.txt', 'Kokochampo.txt', 'JennieKim.txt', 'Umgfoin.txt', 'ffawks.txt', 'byTobi.txt', 'Shiewk.txt', 'La_meleagro.txt', 'Squashgitter333.txt', 'Luxemburq.txt', 'DarkCobweb.txt', 'Sackkerl.txt', 'Sthyq.txt', 'Acidey.txt', 'Laaaachs.txt', 'HerosHD.txt', 'Lennart0911.txt', 'Gerrygames.txt', 'BusinessBent.txt', 'Simlll.txt', 'YBCM.txt', 'Txlentierter.txt', 'Dat_Klan.txt', 'Luis_XYZ.txt', 'NiklasMoWo.txt', 'MaxMitMaulkorb.txt', 'Oronor.txt', 'GamemasterNiki.txt', 'LordAlexos.txt', 'Pluto28.txt', 'GrafikKatze.txt', '_Einfallslos_.txt', 'cediiiiii_10.txt', 'Dokkkkko.txt', 'deadfiight.txt', 'Kanickelul.txt', 'crocodile1870.txt', 'Sower_.txt', 'Steavn.txt', 'EinfachEazy.txt', 'yiiq.txt', 'NotLennart.txt', 'Snitcherella.txt', 'Keenaai.txt', 'xd_Maiky.txt', 'ReichesBrot.txt', 'lolisamasan.txt', 'Raefinzs.txt', 'JOW24.txt', 'ByNetherdude.txt', 'ZweitesIch.txt', 'frutigall.txt', 'LilFueller.txt', 'xiooh.txt', 'rotmann2.txt', 'FlyingKyubi.txt', 'Joy_8oy.txt', 'BauHD.txt', 'CML_Justin.txt', 'MoZadaTV.txt', 'BastiGHG.txt', 'Gummibearchen.txt', 'Lord_Weibull.txt', 'VendasTM.txt', 'Stockinqs.txt', 'GlowyDusk.txt', 'Scuprum.txt', 'h4nnes.txt', 'cheesecake2901.txt', 'DrSpeed06.txt', 'Krusti.txt', 'marbrueck.txt', 'Vacted.txt', 'Janne4k.txt', 'Bartschii.txt', 'Mansuni.txt', 'SB387.txt', 'medisant.txt', 'Phoenix3000.txt', 'JOW23.txt', 'Ritokii.txt', 'Juti0n.txt', 'lvlaurin.txt', 'Bikoop.txt', 'FrozenNoah.txt', 'GeneralEnte06.txt', 'Dubbly.txt', 'revolverz.txt', 'Highsay.txt', 'ScreamingBlatz.txt', 'RyanxCole.txt', 'shellny.txt', 'TheKillerisback.txt', 'M0orey_0.txt', 'Mincheeen.txt', '2wc.txt', 'Feinberg.txt', 'Navex.txt', 'NewNormal0947.txt', 'Teesily.txt', 'SiLoHB.txt', 'Morittz.txt', 'cxl1lo.txt', 'LeMetin_.txt', 'unausgesprochen.txt', 'Freeeedom.txt', 'miridis41.txt', 'Joe3346.txt', 'Lingex.txt', 'xX_Masha_ggg_Xx9.txt', 'Julius16.txt', 'lizsyy.txt', 'camman18YT.txt', 'Jan2220.txt', 'Falke_01.txt', 'DaVinci_Son.txt', 'SatzdesPytag0ras.txt', 'Flitzi_Dino.txt', 'Wienerisch.txt', 'Seemops_8.txt', 'GermanPie.txt', 'chrisihalt.txt', 'FluffyDragon2007.txt', 'LucaaOn.txt', 'Allooy.txt', 'Chander24.txt', 'Fflopse.txt', 'bikop.txt', 'vKito.txt', 'bawskey.txt', 'RasenLP.txt', 'WirdNichtGeladen.txt', 'WuschigesEtwas.txt', 'OutcroYoutube.txt', 'HeIsJustAPoorBoy.txt', 'FlyingAutismus.txt', 'destr0yed_.txt', 'Ex4cted.txt', 'Mvsk_.txt', 'MaxOnTheRoad.txt', 'swiffle.txt', 'juvona.txt', 'Lubottus.txt', 'Nervigerr.txt', 'lolisamakun.txt', 'Martomias.txt', '20LeRe10.txt']\n",
      "processing Schießstand...\n",
      "Error: Tammywood.txt does not contain any TooltipEvent data\n",
      "Error: demiu.txt does not contain any TooltipEvent data\n",
      "Error: JayMinInSane.txt does not contain any TooltipEvent data\n",
      "Error: KINT0.txt does not contain any TooltipEvent data\n",
      "Error: SmartyxD.txt does not contain any TooltipEvent data\n",
      "Error: Sower_.txt does not contain any TooltipEvent data\n",
      "Error: Lord_Weibull.txt does not contain any TooltipEvent data\n",
      "Error: Scuprum.txt does not contain any TooltipEvent data\n",
      "Error: Dubbly.txt does not contain any TooltipEvent data\n",
      "Error: bikop.txt does not contain any TooltipEvent data\n",
      "Error: destr0yed_.txt does not contain any TooltipEvent data\n",
      "Schießstand processed\n",
      "['__egE.txt', 'Tammywood.txt', 'BunnyKiko.txt', 'SpeckyCut.txt', 'Hyxeed.txt', 'demiu.txt', 'SpinCrafter.txt', 'NanamiElvi.txt', '_n3d.txt', 'Sebi1801.txt', 'JayMinInSane.txt', 'Persidieus.txt', 'N3XV.txt', 'Wissender.txt', 'Gryzes.txt', 'jimmi4Life.txt', 'Gobo9.txt', 'Anni808.txt', 'LeWi_100.txt', '_Waldi_.txt', 'Grapfen.txt', 'PixlNight.txt', 'dossantosaveiro_.txt', 'agowskyy.txt', 'TheBreadHD.txt', 'Axollotel.txt', 'T_Niko_T.txt', 'Vanillinchen.txt', 'Odlaa.txt', 'D4rkCookie.txt', 'yzvm.txt', 'Tim_Voltia.txt', 'xBaumeisterin.txt', 'Ungluecklicher.txt', 'Lutorix.txt', 'Ninivee.txt', 'ArthurAlchemist.txt', 'redbrll.txt', 'Gfrasti.txt', 'Muniix.txt', 'Tomiokey.txt', 'Carl1_1.txt', 'DerAutist.txt', 'PolizeiDreamy.txt', 'xX_Dima_ggg_Xx6.txt', 'Falke23_5.txt', 'TheFabo.txt', 'DieserBear.txt', 'Picutar.txt', '2B9.txt', 'Schmaarek.txt', 'musi1999.txt', 'PumiTheCat.txt', 'HerrDante.txt', 'KakaMC.txt', 'StaudammAusHolz.txt', 'Lelouch610.txt', 'Kyuudo.txt', 'twitchparaskiill.txt', 'G0at3D.txt', 'SecretAgent_K.txt', 'KMaxN.txt', 'Sey__.txt', 'ForceFox.txt', 'toxicplace.txt', 'Gestimus.txt', 'yachayubin.txt', 'Wolkenfarmer.txt', 'y9nic.txt', 'KINT0.txt', 'zBro.txt', 'qriezmannsOpa.txt', 'Harold_Sensemann.txt', 'Pedrozockt.txt', 'MrNulfred.txt', 'Cytoox.txt', 'IchHolzDichWeg.txt', 'GingerTeddy.txt', 'Kopfradio.txt', 'loukrativ.txt', 'M0osebumps.txt', 'SmartyxD.txt', 'Kokochampo.txt', 'JennieKim.txt', 'Umgfoin.txt', 'ffawks.txt', 'byTobi.txt', 'Shiewk.txt', 'La_meleagro.txt', 'Squashgitter333.txt', 'Luxemburq.txt', 'DarkCobweb.txt', 'Sackkerl.txt', 'Sthyq.txt', 'Acidey.txt', 'Laaaachs.txt', 'HerosHD.txt', 'Lennart0911.txt', 'Gerrygames.txt', 'BusinessBent.txt', 'Simlll.txt', 'YBCM.txt', 'Txlentierter.txt', 'Dat_Klan.txt', 'Luis_XYZ.txt', 'NiklasMoWo.txt', 'MaxMitMaulkorb.txt', 'Oronor.txt', 'GamemasterNiki.txt', 'LordAlexos.txt', 'Pluto28.txt', 'GrafikKatze.txt', '_Einfallslos_.txt', 'cediiiiii_10.txt', 'Dokkkkko.txt', 'deadfiight.txt', 'Kanickelul.txt', 'crocodile1870.txt', 'Sower_.txt', 'Steavn.txt', 'EinfachEazy.txt', 'yiiq.txt', 'NotLennart.txt', 'Snitcherella.txt', 'Keenaai.txt', 'xd_Maiky.txt', 'ReichesBrot.txt', 'lolisamasan.txt', 'Raefinzs.txt', 'JOW24.txt', 'ByNetherdude.txt', 'ZweitesIch.txt', 'frutigall.txt', 'LilFueller.txt', 'xiooh.txt', 'rotmann2.txt', 'FlyingKyubi.txt', 'Joy_8oy.txt', 'BauHD.txt', 'CML_Justin.txt', 'MoZadaTV.txt', 'BastiGHG.txt', 'Gummibearchen.txt', 'Lord_Weibull.txt', 'VendasTM.txt', 'Stockinqs.txt', 'GlowyDusk.txt', 'Scuprum.txt', 'h4nnes.txt', 'cheesecake2901.txt', 'DrSpeed06.txt', 'Krusti.txt', 'marbrueck.txt', 'Vacted.txt', 'Janne4k.txt', 'Bartschii.txt', 'Mansuni.txt', 'SB387.txt', 'medisant.txt', 'Phoenix3000.txt', 'JOW23.txt', 'Ritokii.txt', 'Juti0n.txt', 'lvlaurin.txt', 'Bikoop.txt', 'FrozenNoah.txt', 'GeneralEnte06.txt', 'Dubbly.txt', 'revolverz.txt', 'Highsay.txt', 'ScreamingBlatz.txt', 'RyanxCole.txt', 'shellny.txt', 'TheKillerisback.txt', 'M0orey_0.txt', 'Mincheeen.txt', '2wc.txt', 'Feinberg.txt', 'Navex.txt', 'NewNormal0947.txt', 'Teesily.txt', 'SiLoHB.txt', 'Morittz.txt', 'cxl1lo.txt', 'LeMetin_.txt', 'unausgesprochen.txt', 'Freeeedom.txt', 'miridis41.txt', 'Joe3346.txt', 'Lingex.txt', 'xX_Masha_ggg_Xx9.txt', 'Julius16.txt', 'lizsyy.txt', 'camman18YT.txt', 'Jan2220.txt', 'Falke_01.txt', 'DaVinci_Son.txt', 'SatzdesPytag0ras.txt', 'Flitzi_Dino.txt', 'Wienerisch.txt', 'Seemops_8.txt', 'GermanPie.txt', 'chrisihalt.txt', 'FluffyDragon2007.txt', 'LucaaOn.txt', 'Allooy.txt', 'Chander24.txt', 'Fflopse.txt', 'bikop.txt', 'vKito.txt', 'bawskey.txt', 'RasenLP.txt', 'WirdNichtGeladen.txt', 'WuschigesEtwas.txt', 'OutcroYoutube.txt', 'HeIsJustAPoorBoy.txt', 'FlyingAutismus.txt', 'destr0yed_.txt', 'Ex4cted.txt', 'Mvsk_.txt', 'MaxOnTheRoad.txt', 'swiffle.txt', 'juvona.txt', 'Lubottus.txt', 'Nervigerr.txt', 'lolisamakun.txt', 'Martomias.txt', '20LeRe10.txt']\n",
      "processing Mauerfall...\n",
      "Error: Tammywood.txt does not contain any TooltipEvent data\n",
      "Error: demiu.txt does not contain any TooltipEvent data\n",
      "Error: JayMinInSane.txt does not contain any TooltipEvent data\n",
      "Error: KINT0.txt does not contain any TooltipEvent data\n",
      "Error: SmartyxD.txt does not contain any TooltipEvent data\n",
      "Error: Sower_.txt does not contain any TooltipEvent data\n",
      "Error: Lord_Weibull.txt does not contain any TooltipEvent data\n",
      "Error: Scuprum.txt does not contain any TooltipEvent data\n",
      "Error: Dubbly.txt does not contain any TooltipEvent data\n",
      "Error: bikop.txt does not contain any TooltipEvent data\n",
      "Error: destr0yed_.txt does not contain any TooltipEvent data\n",
      "Mauerfall processed\n",
      "['__egE.txt', 'Tammywood.txt', 'BunnyKiko.txt', 'SpeckyCut.txt', 'Hyxeed.txt', 'demiu.txt', 'SpinCrafter.txt', 'NanamiElvi.txt', '_n3d.txt', 'Sebi1801.txt', 'JayMinInSane.txt', 'Persidieus.txt', 'N3XV.txt', 'Wissender.txt', 'Gryzes.txt', 'jimmi4Life.txt', 'Gobo9.txt', 'Anni808.txt', 'LeWi_100.txt', '_Waldi_.txt', 'Grapfen.txt', 'PixlNight.txt', 'dossantosaveiro_.txt', 'agowskyy.txt', 'TheBreadHD.txt', 'Axollotel.txt', 'T_Niko_T.txt', 'Vanillinchen.txt', 'Odlaa.txt', 'D4rkCookie.txt', 'yzvm.txt', 'Tim_Voltia.txt', 'xBaumeisterin.txt', 'Ungluecklicher.txt', 'Lutorix.txt', 'Ninivee.txt', 'ArthurAlchemist.txt', 'redbrll.txt', 'Gfrasti.txt', 'Muniix.txt', 'Tomiokey.txt', 'Carl1_1.txt', 'DerAutist.txt', 'PolizeiDreamy.txt', 'xX_Dima_ggg_Xx6.txt', 'Falke23_5.txt', 'TheFabo.txt', 'DieserBear.txt', 'Picutar.txt', '2B9.txt', 'Schmaarek.txt', 'musi1999.txt', 'PumiTheCat.txt', 'HerrDante.txt', 'KakaMC.txt', 'StaudammAusHolz.txt', 'Lelouch610.txt', 'Kyuudo.txt', 'twitchparaskiill.txt', 'G0at3D.txt', 'SecretAgent_K.txt', 'KMaxN.txt', 'Sey__.txt', 'ForceFox.txt', 'toxicplace.txt', 'Gestimus.txt', 'yachayubin.txt', 'Wolkenfarmer.txt', 'y9nic.txt', 'KINT0.txt', 'zBro.txt', 'qriezmannsOpa.txt', 'Harold_Sensemann.txt', 'Pedrozockt.txt', 'MrNulfred.txt', 'Cytoox.txt', 'IchHolzDichWeg.txt', 'GingerTeddy.txt', 'Kopfradio.txt', 'loukrativ.txt', 'M0osebumps.txt', 'SmartyxD.txt', 'Kokochampo.txt', 'JennieKim.txt', 'Umgfoin.txt', 'ffawks.txt', 'byTobi.txt', 'Shiewk.txt', 'La_meleagro.txt', 'Squashgitter333.txt', 'Luxemburq.txt', 'DarkCobweb.txt', 'Sackkerl.txt', 'Sthyq.txt', 'Acidey.txt', 'Laaaachs.txt', 'HerosHD.txt', 'Lennart0911.txt', 'Gerrygames.txt', 'BusinessBent.txt', 'Simlll.txt', 'YBCM.txt', 'Txlentierter.txt', 'Dat_Klan.txt', 'Luis_XYZ.txt', 'NiklasMoWo.txt', 'MaxMitMaulkorb.txt', 'Oronor.txt', 'GamemasterNiki.txt', 'LordAlexos.txt', 'Pluto28.txt', 'GrafikKatze.txt', '_Einfallslos_.txt', 'cediiiiii_10.txt', 'Dokkkkko.txt', 'deadfiight.txt', 'Kanickelul.txt', 'crocodile1870.txt', 'Sower_.txt', 'Steavn.txt', 'EinfachEazy.txt', 'yiiq.txt', 'NotLennart.txt', 'Snitcherella.txt', 'Keenaai.txt', 'xd_Maiky.txt', 'ReichesBrot.txt', 'lolisamasan.txt', 'Raefinzs.txt', 'JOW24.txt', 'ByNetherdude.txt', 'ZweitesIch.txt', 'frutigall.txt', 'LilFueller.txt', 'xiooh.txt', 'rotmann2.txt', 'FlyingKyubi.txt', 'Joy_8oy.txt', 'BauHD.txt', 'CML_Justin.txt', 'MoZadaTV.txt', 'BastiGHG.txt', 'Gummibearchen.txt', 'Lord_Weibull.txt', 'VendasTM.txt', 'Stockinqs.txt', 'GlowyDusk.txt', 'Scuprum.txt', 'h4nnes.txt', 'cheesecake2901.txt', 'DrSpeed06.txt', 'Krusti.txt', 'marbrueck.txt', 'Vacted.txt', 'Janne4k.txt', 'Bartschii.txt', 'Mansuni.txt', 'SB387.txt', 'medisant.txt', 'Phoenix3000.txt', 'JOW23.txt', 'Ritokii.txt', 'Juti0n.txt', 'lvlaurin.txt', 'Bikoop.txt', 'FrozenNoah.txt', 'GeneralEnte06.txt', 'Dubbly.txt', 'revolverz.txt', 'Highsay.txt', 'ScreamingBlatz.txt', 'RyanxCole.txt', 'shellny.txt', 'TheKillerisback.txt', 'M0orey_0.txt', 'Mincheeen.txt', '2wc.txt', 'Feinberg.txt', 'Navex.txt', 'NewNormal0947.txt', 'Teesily.txt', 'SiLoHB.txt', 'Morittz.txt', 'cxl1lo.txt', 'LeMetin_.txt', 'unausgesprochen.txt', 'Freeeedom.txt', 'miridis41.txt', 'Joe3346.txt', 'Lingex.txt', 'xX_Masha_ggg_Xx9.txt', 'Julius16.txt', 'lizsyy.txt', 'camman18YT.txt', 'Jan2220.txt', 'Falke_01.txt', 'DaVinci_Son.txt', 'SatzdesPytag0ras.txt', 'Flitzi_Dino.txt', 'Wienerisch.txt', 'Seemops_8.txt', 'GermanPie.txt', 'chrisihalt.txt', 'FluffyDragon2007.txt', 'LucaaOn.txt', 'Allooy.txt', 'Chander24.txt', 'Fflopse.txt', 'bikop.txt', 'vKito.txt', 'bawskey.txt', 'RasenLP.txt', 'WirdNichtGeladen.txt', 'WuschigesEtwas.txt', 'OutcroYoutube.txt', 'HeIsJustAPoorBoy.txt', 'FlyingAutismus.txt', 'destr0yed_.txt', 'Ex4cted.txt', 'Mvsk_.txt', 'MaxOnTheRoad.txt', 'swiffle.txt', 'juvona.txt', 'Lubottus.txt', 'Nervigerr.txt', 'lolisamakun.txt', 'Martomias.txt', '20LeRe10.txt']\n",
      "processing Mini Survivalgames...\n",
      "Error: Tammywood.txt does not contain any TooltipEvent data\n",
      "Error: demiu.txt does not contain any TooltipEvent data\n",
      "Error: JayMinInSane.txt does not contain any TooltipEvent data\n",
      "Error: KINT0.txt does not contain any TooltipEvent data\n",
      "Error: SmartyxD.txt does not contain any TooltipEvent data\n",
      "Error: Sower_.txt does not contain any TooltipEvent data\n",
      "Error: Lord_Weibull.txt does not contain any TooltipEvent data\n",
      "Error: Scuprum.txt does not contain any TooltipEvent data\n",
      "Error: Dubbly.txt does not contain any TooltipEvent data\n",
      "Error: bikop.txt does not contain any TooltipEvent data\n",
      "Error: destr0yed_.txt does not contain any TooltipEvent data\n",
      "Mini Survivalgames processed\n",
      "['__egE.txt', 'Tammywood.txt', 'BunnyKiko.txt', 'SpeckyCut.txt', 'Hyxeed.txt', 'demiu.txt', 'SpinCrafter.txt', 'NanamiElvi.txt', '_n3d.txt', 'Sebi1801.txt', 'JayMinInSane.txt', 'Persidieus.txt', 'N3XV.txt', 'Wissender.txt', 'Gryzes.txt', 'jimmi4Life.txt', 'Gobo9.txt', 'Anni808.txt', 'LeWi_100.txt', '_Waldi_.txt', 'Grapfen.txt', 'PixlNight.txt', 'dossantosaveiro_.txt', 'agowskyy.txt', 'TheBreadHD.txt', 'Axollotel.txt', 'T_Niko_T.txt', 'Vanillinchen.txt', 'Odlaa.txt', 'D4rkCookie.txt', 'yzvm.txt', 'Tim_Voltia.txt', 'xBaumeisterin.txt', 'Ungluecklicher.txt', 'Lutorix.txt', 'Ninivee.txt', 'ArthurAlchemist.txt', 'redbrll.txt', 'Gfrasti.txt', 'Muniix.txt', 'Tomiokey.txt', 'Carl1_1.txt', 'DerAutist.txt', 'PolizeiDreamy.txt', 'xX_Dima_ggg_Xx6.txt', 'Falke23_5.txt', 'TheFabo.txt', 'DieserBear.txt', 'Picutar.txt', '2B9.txt', 'Schmaarek.txt', 'musi1999.txt', 'PumiTheCat.txt', 'HerrDante.txt', 'KakaMC.txt', 'StaudammAusHolz.txt', 'Lelouch610.txt', 'Kyuudo.txt', 'twitchparaskiill.txt', 'G0at3D.txt', 'SecretAgent_K.txt', 'KMaxN.txt', 'Sey__.txt', 'ForceFox.txt', 'toxicplace.txt', 'Gestimus.txt', 'yachayubin.txt', 'Wolkenfarmer.txt', 'y9nic.txt', 'KINT0.txt', 'zBro.txt', 'qriezmannsOpa.txt', 'Harold_Sensemann.txt', 'Pedrozockt.txt', 'MrNulfred.txt', 'Cytoox.txt', 'IchHolzDichWeg.txt', 'GingerTeddy.txt', 'Kopfradio.txt', 'loukrativ.txt', 'M0osebumps.txt', 'SmartyxD.txt', 'Kokochampo.txt', 'JennieKim.txt', 'Umgfoin.txt', 'ffawks.txt', 'byTobi.txt', 'Shiewk.txt', 'La_meleagro.txt', 'Squashgitter333.txt', 'Luxemburq.txt', 'DarkCobweb.txt', 'Sackkerl.txt', 'Sthyq.txt', 'Acidey.txt', 'Laaaachs.txt', 'HerosHD.txt', 'Lennart0911.txt', 'Gerrygames.txt', 'BusinessBent.txt', 'Simlll.txt', 'YBCM.txt', 'Txlentierter.txt', 'Dat_Klan.txt', 'Luis_XYZ.txt', 'NiklasMoWo.txt', 'MaxMitMaulkorb.txt', 'Oronor.txt', 'GamemasterNiki.txt', 'LordAlexos.txt', 'Pluto28.txt', 'GrafikKatze.txt', '_Einfallslos_.txt', 'cediiiiii_10.txt', 'Dokkkkko.txt', 'deadfiight.txt', 'Kanickelul.txt', 'crocodile1870.txt', 'Sower_.txt', 'Steavn.txt', 'EinfachEazy.txt', 'yiiq.txt', 'NotLennart.txt', 'Snitcherella.txt', 'Keenaai.txt', 'xd_Maiky.txt', 'ReichesBrot.txt', 'lolisamasan.txt', 'Raefinzs.txt', 'JOW24.txt', 'ByNetherdude.txt', 'ZweitesIch.txt', 'frutigall.txt', 'LilFueller.txt', 'xiooh.txt', 'rotmann2.txt', 'FlyingKyubi.txt', 'Joy_8oy.txt', 'BauHD.txt', 'CML_Justin.txt', 'MoZadaTV.txt', 'BastiGHG.txt', 'Gummibearchen.txt', 'Lord_Weibull.txt', 'VendasTM.txt', 'Stockinqs.txt', 'GlowyDusk.txt', 'Scuprum.txt', 'h4nnes.txt', 'cheesecake2901.txt', 'DrSpeed06.txt', 'Krusti.txt', 'marbrueck.txt', 'Vacted.txt', 'Janne4k.txt', 'Bartschii.txt', 'Mansuni.txt', 'SB387.txt', 'medisant.txt', 'Phoenix3000.txt', 'JOW23.txt', 'Ritokii.txt', 'Juti0n.txt', 'lvlaurin.txt', 'Bikoop.txt', 'FrozenNoah.txt', 'GeneralEnte06.txt', 'Dubbly.txt', 'revolverz.txt', 'Highsay.txt', 'ScreamingBlatz.txt', 'RyanxCole.txt', 'shellny.txt', 'TheKillerisback.txt', 'M0orey_0.txt', 'Mincheeen.txt', '2wc.txt', 'Feinberg.txt', 'Navex.txt', 'NewNormal0947.txt', 'Teesily.txt', 'SiLoHB.txt', 'Morittz.txt', 'cxl1lo.txt', 'LeMetin_.txt', 'unausgesprochen.txt', 'Freeeedom.txt', 'miridis41.txt', 'Joe3346.txt', 'Lingex.txt', 'xX_Masha_ggg_Xx9.txt', 'Julius16.txt', 'lizsyy.txt', 'camman18YT.txt', 'Jan2220.txt', 'Falke_01.txt', 'DaVinci_Son.txt', 'SatzdesPytag0ras.txt', 'Flitzi_Dino.txt', 'Wienerisch.txt', 'Seemops_8.txt', 'GermanPie.txt', 'chrisihalt.txt', 'FluffyDragon2007.txt', 'LucaaOn.txt', 'Allooy.txt', 'Chander24.txt', 'Fflopse.txt', 'bikop.txt', 'vKito.txt', 'bawskey.txt', 'RasenLP.txt', 'WirdNichtGeladen.txt', 'WuschigesEtwas.txt', 'OutcroYoutube.txt', 'HeIsJustAPoorBoy.txt', 'FlyingAutismus.txt', 'destr0yed_.txt', 'Ex4cted.txt', 'Mvsk_.txt', 'MaxOnTheRoad.txt', 'swiffle.txt', 'juvona.txt', 'Lubottus.txt', 'Nervigerr.txt', 'lolisamakun.txt', 'Martomias.txt', '20LeRe10.txt']\n",
      "processing Lasertag...\n",
      "Error: Tammywood.txt does not contain any TooltipEvent data\n",
      "Error: demiu.txt does not contain any TooltipEvent data\n",
      "Error: JayMinInSane.txt does not contain any TooltipEvent data\n",
      "Error: KINT0.txt does not contain any TooltipEvent data\n",
      "Error: SmartyxD.txt does not contain any TooltipEvent data\n",
      "Error: Sower_.txt does not contain any TooltipEvent data\n",
      "Error: Lord_Weibull.txt does not contain any TooltipEvent data\n",
      "Error: Scuprum.txt does not contain any TooltipEvent data\n",
      "Error: Dubbly.txt does not contain any TooltipEvent data\n",
      "Error: bikop.txt does not contain any TooltipEvent data\n",
      "Error: destr0yed_.txt does not contain any TooltipEvent data\n",
      "Lasertag processed\n",
      "['__egE.txt', 'Tammywood.txt', 'BunnyKiko.txt', 'SpeckyCut.txt', 'Hyxeed.txt', 'demiu.txt', 'SpinCrafter.txt', 'NanamiElvi.txt', '_n3d.txt', 'Sebi1801.txt', 'JayMinInSane.txt', 'Persidieus.txt', 'N3XV.txt', 'Wissender.txt', 'Gryzes.txt', 'jimmi4Life.txt', 'Gobo9.txt', 'Anni808.txt', 'LeWi_100.txt', '_Waldi_.txt', 'Grapfen.txt', 'PixlNight.txt', 'dossantosaveiro_.txt', 'agowskyy.txt', 'TheBreadHD.txt', 'Axollotel.txt', 'T_Niko_T.txt', 'Vanillinchen.txt', 'Odlaa.txt', 'D4rkCookie.txt', 'yzvm.txt', 'Tim_Voltia.txt', 'xBaumeisterin.txt', 'Ungluecklicher.txt', 'Lutorix.txt', 'Ninivee.txt', 'ArthurAlchemist.txt', 'redbrll.txt', 'Gfrasti.txt', 'Muniix.txt', 'Tomiokey.txt', 'Carl1_1.txt', 'DerAutist.txt', 'PolizeiDreamy.txt', 'xX_Dima_ggg_Xx6.txt', 'Falke23_5.txt', 'TheFabo.txt', 'DieserBear.txt', 'Picutar.txt', '2B9.txt', 'Schmaarek.txt', 'musi1999.txt', 'PumiTheCat.txt', 'HerrDante.txt', 'KakaMC.txt', 'StaudammAusHolz.txt', 'Lelouch610.txt', 'Kyuudo.txt', 'twitchparaskiill.txt', 'G0at3D.txt', 'SecretAgent_K.txt', 'KMaxN.txt', 'Sey__.txt', 'ForceFox.txt', 'toxicplace.txt', 'Gestimus.txt', 'yachayubin.txt', 'Wolkenfarmer.txt', 'y9nic.txt', 'KINT0.txt', 'zBro.txt', 'qriezmannsOpa.txt', 'Harold_Sensemann.txt', 'Pedrozockt.txt', 'MrNulfred.txt', 'Cytoox.txt', 'IchHolzDichWeg.txt', 'GingerTeddy.txt', 'Kopfradio.txt', 'loukrativ.txt', 'M0osebumps.txt', 'SmartyxD.txt', 'Kokochampo.txt', 'JennieKim.txt', 'Umgfoin.txt', 'ffawks.txt', 'byTobi.txt', 'Shiewk.txt', 'La_meleagro.txt', 'Squashgitter333.txt', 'Luxemburq.txt', 'DarkCobweb.txt', 'Sackkerl.txt', 'Sthyq.txt', 'Acidey.txt', 'Laaaachs.txt', 'HerosHD.txt', 'Lennart0911.txt', 'Gerrygames.txt', 'BusinessBent.txt', 'Simlll.txt', 'YBCM.txt', 'Txlentierter.txt', 'Dat_Klan.txt', 'Luis_XYZ.txt', 'NiklasMoWo.txt', 'MaxMitMaulkorb.txt', 'Oronor.txt', 'GamemasterNiki.txt', 'LordAlexos.txt', 'Pluto28.txt', 'GrafikKatze.txt', '_Einfallslos_.txt', 'cediiiiii_10.txt', 'Dokkkkko.txt', 'deadfiight.txt', 'Kanickelul.txt', 'crocodile1870.txt', 'Sower_.txt', 'Steavn.txt', 'EinfachEazy.txt', 'yiiq.txt', 'NotLennart.txt', 'Snitcherella.txt', 'Keenaai.txt', 'xd_Maiky.txt', 'ReichesBrot.txt', 'lolisamasan.txt', 'Raefinzs.txt', 'JOW24.txt', 'ByNetherdude.txt', 'ZweitesIch.txt', 'frutigall.txt', 'LilFueller.txt', 'xiooh.txt', 'rotmann2.txt', 'FlyingKyubi.txt', 'Joy_8oy.txt', 'BauHD.txt', 'CML_Justin.txt', 'MoZadaTV.txt', 'BastiGHG.txt', 'Gummibearchen.txt', 'Lord_Weibull.txt', 'VendasTM.txt', 'Stockinqs.txt', 'GlowyDusk.txt', 'Scuprum.txt', 'h4nnes.txt', 'cheesecake2901.txt', 'DrSpeed06.txt', 'Krusti.txt', 'marbrueck.txt', 'Vacted.txt', 'Janne4k.txt', 'Bartschii.txt', 'Mansuni.txt', 'SB387.txt', 'medisant.txt', 'Phoenix3000.txt', 'JOW23.txt', 'Ritokii.txt', 'Juti0n.txt', 'lvlaurin.txt', 'Bikoop.txt', 'FrozenNoah.txt', 'GeneralEnte06.txt', 'Dubbly.txt', 'revolverz.txt', 'Highsay.txt', 'ScreamingBlatz.txt', 'RyanxCole.txt', 'shellny.txt', 'TheKillerisback.txt', 'M0orey_0.txt', 'Mincheeen.txt', '2wc.txt', 'Feinberg.txt', 'Navex.txt', 'NewNormal0947.txt', 'Teesily.txt', 'SiLoHB.txt', 'Morittz.txt', 'cxl1lo.txt', 'LeMetin_.txt', 'unausgesprochen.txt', 'Freeeedom.txt', 'miridis41.txt', 'Joe3346.txt', 'Lingex.txt', 'xX_Masha_ggg_Xx9.txt', 'Julius16.txt', 'lizsyy.txt', 'camman18YT.txt', 'Jan2220.txt', 'Falke_01.txt', 'DaVinci_Son.txt', 'SatzdesPytag0ras.txt', 'Flitzi_Dino.txt', 'Wienerisch.txt', 'Seemops_8.txt', 'GermanPie.txt', 'chrisihalt.txt', 'FluffyDragon2007.txt', 'LucaaOn.txt', 'Allooy.txt', 'Chander24.txt', 'Fflopse.txt', 'bikop.txt', 'vKito.txt', 'bawskey.txt', 'RasenLP.txt', 'WirdNichtGeladen.txt', 'WuschigesEtwas.txt', 'OutcroYoutube.txt', 'HeIsJustAPoorBoy.txt', 'FlyingAutismus.txt', 'destr0yed_.txt', 'Ex4cted.txt', 'Mvsk_.txt', 'MaxOnTheRoad.txt', 'swiffle.txt', 'juvona.txt', 'Lubottus.txt', 'Nervigerr.txt', 'lolisamakun.txt', 'Martomias.txt', '20LeRe10.txt']\n",
      "processing Minengefecht...\n",
      "Error: Tammywood.txt does not contain any TooltipEvent data\n",
      "Error: demiu.txt does not contain any TooltipEvent data\n",
      "Error: JayMinInSane.txt does not contain any TooltipEvent data\n",
      "Error: KINT0.txt does not contain any TooltipEvent data\n",
      "Error: SmartyxD.txt does not contain any TooltipEvent data\n",
      "Error: Sower_.txt does not contain any TooltipEvent data\n",
      "Error: Lord_Weibull.txt does not contain any TooltipEvent data\n",
      "Error: Scuprum.txt does not contain any TooltipEvent data\n",
      "Error: Dubbly.txt does not contain any TooltipEvent data\n",
      "Error: bikop.txt does not contain any TooltipEvent data\n",
      "Error: destr0yed_.txt does not contain any TooltipEvent data\n",
      "Minengefecht processed\n",
      "['__egE.txt', 'Tammywood.txt', 'BunnyKiko.txt', 'SpeckyCut.txt', 'Hyxeed.txt', 'demiu.txt', 'SpinCrafter.txt', 'NanamiElvi.txt', '_n3d.txt', 'Sebi1801.txt', 'JayMinInSane.txt', 'Persidieus.txt', 'N3XV.txt', 'Wissender.txt', 'Gryzes.txt', 'jimmi4Life.txt', 'Gobo9.txt', 'Anni808.txt', 'LeWi_100.txt', '_Waldi_.txt', 'Grapfen.txt', 'PixlNight.txt', 'dossantosaveiro_.txt', 'agowskyy.txt', 'TheBreadHD.txt', 'Axollotel.txt', 'T_Niko_T.txt', 'Vanillinchen.txt', 'Odlaa.txt', 'D4rkCookie.txt', 'yzvm.txt', 'Tim_Voltia.txt', 'xBaumeisterin.txt', 'Ungluecklicher.txt', 'Lutorix.txt', 'Ninivee.txt', 'ArthurAlchemist.txt', 'redbrll.txt', 'Gfrasti.txt', 'Muniix.txt', 'Tomiokey.txt', 'Carl1_1.txt', 'DerAutist.txt', 'PolizeiDreamy.txt', 'xX_Dima_ggg_Xx6.txt', 'Falke23_5.txt', 'TheFabo.txt', 'DieserBear.txt', 'Picutar.txt', '2B9.txt', 'Schmaarek.txt', 'musi1999.txt', 'PumiTheCat.txt', 'HerrDante.txt', 'KakaMC.txt', 'StaudammAusHolz.txt', 'Lelouch610.txt', 'Kyuudo.txt', 'twitchparaskiill.txt', 'G0at3D.txt', 'SecretAgent_K.txt', 'KMaxN.txt', 'Sey__.txt', 'ForceFox.txt', 'toxicplace.txt', 'Gestimus.txt', 'yachayubin.txt', 'Wolkenfarmer.txt', 'y9nic.txt', 'KINT0.txt', 'zBro.txt', 'qriezmannsOpa.txt', 'Harold_Sensemann.txt', 'Pedrozockt.txt', 'MrNulfred.txt', 'Cytoox.txt', 'IchHolzDichWeg.txt', 'GingerTeddy.txt', 'Kopfradio.txt', 'loukrativ.txt', 'M0osebumps.txt', 'SmartyxD.txt', 'Kokochampo.txt', 'JennieKim.txt', 'Umgfoin.txt', 'ffawks.txt', 'byTobi.txt', 'Shiewk.txt', 'La_meleagro.txt', 'Squashgitter333.txt', 'Luxemburq.txt', 'DarkCobweb.txt', 'Sackkerl.txt', 'Sthyq.txt', 'Acidey.txt', 'Laaaachs.txt', 'HerosHD.txt', 'Lennart0911.txt', 'Gerrygames.txt', 'BusinessBent.txt', 'Simlll.txt', 'YBCM.txt', 'Txlentierter.txt', 'Dat_Klan.txt', 'Luis_XYZ.txt', 'NiklasMoWo.txt', 'MaxMitMaulkorb.txt', 'Oronor.txt', 'GamemasterNiki.txt', 'LordAlexos.txt', 'Pluto28.txt', 'GrafikKatze.txt', '_Einfallslos_.txt', 'cediiiiii_10.txt', 'Dokkkkko.txt', 'deadfiight.txt', 'Kanickelul.txt', 'crocodile1870.txt', 'Sower_.txt', 'Steavn.txt', 'EinfachEazy.txt', 'yiiq.txt', 'NotLennart.txt', 'Snitcherella.txt', 'Keenaai.txt', 'xd_Maiky.txt', 'ReichesBrot.txt', 'lolisamasan.txt', 'Raefinzs.txt', 'JOW24.txt', 'ByNetherdude.txt', 'ZweitesIch.txt', 'frutigall.txt', 'LilFueller.txt', 'xiooh.txt', 'rotmann2.txt', 'FlyingKyubi.txt', 'Joy_8oy.txt', 'BauHD.txt', 'CML_Justin.txt', 'MoZadaTV.txt', 'BastiGHG.txt', 'Gummibearchen.txt', 'Lord_Weibull.txt', 'VendasTM.txt', 'Stockinqs.txt', 'GlowyDusk.txt', 'Scuprum.txt', 'h4nnes.txt', 'cheesecake2901.txt', 'DrSpeed06.txt', 'Krusti.txt', 'marbrueck.txt', 'Vacted.txt', 'Janne4k.txt', 'Bartschii.txt', 'Mansuni.txt', 'SB387.txt', 'medisant.txt', 'Phoenix3000.txt', 'JOW23.txt', 'Ritokii.txt', 'Juti0n.txt', 'lvlaurin.txt', 'Bikoop.txt', 'FrozenNoah.txt', 'GeneralEnte06.txt', 'Dubbly.txt', 'revolverz.txt', 'Highsay.txt', 'ScreamingBlatz.txt', 'RyanxCole.txt', 'shellny.txt', 'TheKillerisback.txt', 'M0orey_0.txt', 'Mincheeen.txt', '2wc.txt', 'Feinberg.txt', 'Navex.txt', 'NewNormal0947.txt', 'Teesily.txt', 'SiLoHB.txt', 'Morittz.txt', 'cxl1lo.txt', 'LeMetin_.txt', 'unausgesprochen.txt', 'Freeeedom.txt', 'miridis41.txt', 'Joe3346.txt', 'Lingex.txt', 'xX_Masha_ggg_Xx9.txt', 'Julius16.txt', 'lizsyy.txt', 'camman18YT.txt', 'Jan2220.txt', 'Falke_01.txt', 'DaVinci_Son.txt', 'SatzdesPytag0ras.txt', 'Flitzi_Dino.txt', 'Wienerisch.txt', 'Seemops_8.txt', 'GermanPie.txt', 'chrisihalt.txt', 'FluffyDragon2007.txt', 'LucaaOn.txt', 'Allooy.txt', 'Chander24.txt', 'Fflopse.txt', 'bikop.txt', 'vKito.txt', 'bawskey.txt', 'RasenLP.txt', 'WirdNichtGeladen.txt', 'WuschigesEtwas.txt', 'OutcroYoutube.txt', 'HeIsJustAPoorBoy.txt', 'FlyingAutismus.txt', 'destr0yed_.txt', 'Ex4cted.txt', 'Mvsk_.txt', 'MaxOnTheRoad.txt', 'swiffle.txt', 'juvona.txt', 'Lubottus.txt', 'Nervigerr.txt', 'lolisamakun.txt', 'Martomias.txt', '20LeRe10.txt']\n",
      "processing Einer im Köcher...\n",
      "Error: Tammywood.txt does not contain any TooltipEvent data\n",
      "Error: demiu.txt does not contain any TooltipEvent data\n",
      "Error: JayMinInSane.txt does not contain any TooltipEvent data\n",
      "Error: KINT0.txt does not contain any TooltipEvent data\n",
      "Error: SmartyxD.txt does not contain any TooltipEvent data\n",
      "Error: Sower_.txt does not contain any TooltipEvent data\n",
      "Error: Lord_Weibull.txt does not contain any TooltipEvent data\n",
      "Error: Scuprum.txt does not contain any TooltipEvent data\n",
      "Error: Dubbly.txt does not contain any TooltipEvent data\n",
      "Error: bikop.txt does not contain any TooltipEvent data\n",
      "Error: destr0yed_.txt does not contain any TooltipEvent data\n",
      "Einer im Köcher processed\n",
      "['__egE.txt', 'Tammywood.txt', 'BunnyKiko.txt', 'SpeckyCut.txt', 'Hyxeed.txt', 'demiu.txt', 'SpinCrafter.txt', 'NanamiElvi.txt', '_n3d.txt', 'Sebi1801.txt', 'JayMinInSane.txt', 'Persidieus.txt', 'N3XV.txt', 'Wissender.txt', 'Gryzes.txt', 'jimmi4Life.txt', 'Gobo9.txt', 'Anni808.txt', 'LeWi_100.txt', '_Waldi_.txt', 'Grapfen.txt', 'PixlNight.txt', 'dossantosaveiro_.txt', 'agowskyy.txt', 'TheBreadHD.txt', 'Axollotel.txt', 'T_Niko_T.txt', 'Vanillinchen.txt', 'Odlaa.txt', 'D4rkCookie.txt', 'yzvm.txt', 'Tim_Voltia.txt', 'xBaumeisterin.txt', 'Ungluecklicher.txt', 'Lutorix.txt', 'Ninivee.txt', 'ArthurAlchemist.txt', 'redbrll.txt', 'Gfrasti.txt', 'Muniix.txt', 'Tomiokey.txt', 'Carl1_1.txt', 'DerAutist.txt', 'PolizeiDreamy.txt', 'xX_Dima_ggg_Xx6.txt', 'Falke23_5.txt', 'TheFabo.txt', 'DieserBear.txt', 'Picutar.txt', '2B9.txt', 'Schmaarek.txt', 'musi1999.txt', 'PumiTheCat.txt', 'HerrDante.txt', 'KakaMC.txt', 'StaudammAusHolz.txt', 'Lelouch610.txt', 'Kyuudo.txt', 'twitchparaskiill.txt', 'G0at3D.txt', 'SecretAgent_K.txt', 'KMaxN.txt', 'Sey__.txt', 'ForceFox.txt', 'toxicplace.txt', 'Gestimus.txt', 'yachayubin.txt', 'Wolkenfarmer.txt', 'y9nic.txt', 'KINT0.txt', 'zBro.txt', 'qriezmannsOpa.txt', 'Harold_Sensemann.txt', 'Pedrozockt.txt', 'MrNulfred.txt', 'Cytoox.txt', 'IchHolzDichWeg.txt', 'GingerTeddy.txt', 'Kopfradio.txt', 'loukrativ.txt', 'M0osebumps.txt', 'SmartyxD.txt', 'Kokochampo.txt', 'JennieKim.txt', 'Umgfoin.txt', 'ffawks.txt', 'byTobi.txt', 'Shiewk.txt', 'La_meleagro.txt', 'Squashgitter333.txt', 'Luxemburq.txt', 'DarkCobweb.txt', 'Sackkerl.txt', 'Sthyq.txt', 'Acidey.txt', 'Laaaachs.txt', 'HerosHD.txt', 'Lennart0911.txt', 'Gerrygames.txt', 'BusinessBent.txt', 'Simlll.txt', 'YBCM.txt', 'Txlentierter.txt', 'Dat_Klan.txt', 'Luis_XYZ.txt', 'NiklasMoWo.txt', 'MaxMitMaulkorb.txt', 'Oronor.txt', 'GamemasterNiki.txt', 'LordAlexos.txt', 'Pluto28.txt', 'GrafikKatze.txt', '_Einfallslos_.txt', 'cediiiiii_10.txt', 'Dokkkkko.txt', 'deadfiight.txt', 'Kanickelul.txt', 'crocodile1870.txt', 'Sower_.txt', 'Steavn.txt', 'EinfachEazy.txt', 'yiiq.txt', 'NotLennart.txt', 'Snitcherella.txt', 'Keenaai.txt', 'xd_Maiky.txt', 'ReichesBrot.txt', 'lolisamasan.txt', 'Raefinzs.txt', 'JOW24.txt', 'ByNetherdude.txt', 'ZweitesIch.txt', 'frutigall.txt', 'LilFueller.txt', 'xiooh.txt', 'rotmann2.txt', 'FlyingKyubi.txt', 'Joy_8oy.txt', 'BauHD.txt', 'CML_Justin.txt', 'MoZadaTV.txt', 'BastiGHG.txt', 'Gummibearchen.txt', 'Lord_Weibull.txt', 'VendasTM.txt', 'Stockinqs.txt', 'GlowyDusk.txt', 'Scuprum.txt', 'h4nnes.txt', 'cheesecake2901.txt', 'DrSpeed06.txt', 'Krusti.txt', 'marbrueck.txt', 'Vacted.txt', 'Janne4k.txt', 'Bartschii.txt', 'Mansuni.txt', 'SB387.txt', 'medisant.txt', 'Phoenix3000.txt', 'JOW23.txt', 'Ritokii.txt', 'Juti0n.txt', 'lvlaurin.txt', 'Bikoop.txt', 'FrozenNoah.txt', 'GeneralEnte06.txt', 'Dubbly.txt', 'revolverz.txt', 'Highsay.txt', 'ScreamingBlatz.txt', 'RyanxCole.txt', 'shellny.txt', 'TheKillerisback.txt', 'M0orey_0.txt', 'Mincheeen.txt', '2wc.txt', 'Feinberg.txt', 'Navex.txt', 'NewNormal0947.txt', 'Teesily.txt', 'SiLoHB.txt', 'Morittz.txt', 'cxl1lo.txt', 'LeMetin_.txt', 'unausgesprochen.txt', 'Freeeedom.txt', 'miridis41.txt', 'Joe3346.txt', 'Lingex.txt', 'xX_Masha_ggg_Xx9.txt', 'Julius16.txt', 'lizsyy.txt', 'camman18YT.txt', 'Jan2220.txt', 'Falke_01.txt', 'DaVinci_Son.txt', 'SatzdesPytag0ras.txt', 'Flitzi_Dino.txt', 'Wienerisch.txt', 'Seemops_8.txt', 'GermanPie.txt', 'chrisihalt.txt', 'FluffyDragon2007.txt', 'LucaaOn.txt', 'Allooy.txt', 'Chander24.txt', 'Fflopse.txt', 'bikop.txt', 'vKito.txt', 'bawskey.txt', 'RasenLP.txt', 'WirdNichtGeladen.txt', 'WuschigesEtwas.txt', 'OutcroYoutube.txt', 'HeIsJustAPoorBoy.txt', 'FlyingAutismus.txt', 'destr0yed_.txt', 'Ex4cted.txt', 'Mvsk_.txt', 'MaxOnTheRoad.txt', 'swiffle.txt', 'juvona.txt', 'Lubottus.txt', 'Nervigerr.txt', 'lolisamakun.txt', 'Martomias.txt', '20LeRe10.txt']\n",
      "processing Spleef...\n",
      "Error: Tammywood.txt does not contain any TooltipEvent data\n",
      "Error: demiu.txt does not contain any TooltipEvent data\n",
      "Error: JayMinInSane.txt does not contain any TooltipEvent data\n",
      "Error: KINT0.txt does not contain any TooltipEvent data\n",
      "Error: SmartyxD.txt does not contain any TooltipEvent data\n",
      "Error: Sower_.txt does not contain any TooltipEvent data\n",
      "Error: Lord_Weibull.txt does not contain any TooltipEvent data\n",
      "Error: Scuprum.txt does not contain any TooltipEvent data\n",
      "Error: Dubbly.txt does not contain any TooltipEvent data\n",
      "Error: bikop.txt does not contain any TooltipEvent data\n",
      "Error: destr0yed_.txt does not contain any TooltipEvent data\n",
      "Spleef processed\n",
      "['__egE.txt', 'Tammywood.txt', 'BunnyKiko.txt', 'SpeckyCut.txt', 'Hyxeed.txt', 'demiu.txt', 'SpinCrafter.txt', 'NanamiElvi.txt', '_n3d.txt', 'Sebi1801.txt', 'JayMinInSane.txt', 'Persidieus.txt', 'N3XV.txt', 'Wissender.txt', 'Gryzes.txt', 'jimmi4Life.txt', 'Gobo9.txt', 'Anni808.txt', 'LeWi_100.txt', '_Waldi_.txt', 'Grapfen.txt', 'PixlNight.txt', 'dossantosaveiro_.txt', 'agowskyy.txt', 'TheBreadHD.txt', 'Axollotel.txt', 'T_Niko_T.txt', 'Vanillinchen.txt', 'Odlaa.txt', 'D4rkCookie.txt', 'yzvm.txt', 'Tim_Voltia.txt', 'xBaumeisterin.txt', 'Ungluecklicher.txt', 'Lutorix.txt', 'Ninivee.txt', 'ArthurAlchemist.txt', 'redbrll.txt', 'Gfrasti.txt', 'Muniix.txt', 'Tomiokey.txt', 'Carl1_1.txt', 'DerAutist.txt', 'PolizeiDreamy.txt', 'xX_Dima_ggg_Xx6.txt', 'Falke23_5.txt', 'TheFabo.txt', 'DieserBear.txt', 'Picutar.txt', '2B9.txt', 'Schmaarek.txt', 'musi1999.txt', 'PumiTheCat.txt', 'HerrDante.txt', 'KakaMC.txt', 'StaudammAusHolz.txt', 'Lelouch610.txt', 'Kyuudo.txt', 'twitchparaskiill.txt', 'G0at3D.txt', 'SecretAgent_K.txt', 'KMaxN.txt', 'Sey__.txt', 'ForceFox.txt', 'toxicplace.txt', 'Gestimus.txt', 'yachayubin.txt', 'Wolkenfarmer.txt', 'y9nic.txt', 'KINT0.txt', 'zBro.txt', 'qriezmannsOpa.txt', 'Harold_Sensemann.txt', 'Pedrozockt.txt', 'MrNulfred.txt', 'Cytoox.txt', 'IchHolzDichWeg.txt', 'GingerTeddy.txt', 'Kopfradio.txt', 'loukrativ.txt', 'M0osebumps.txt', 'SmartyxD.txt', 'Kokochampo.txt', 'JennieKim.txt', 'Umgfoin.txt', 'ffawks.txt', 'byTobi.txt', 'Shiewk.txt', 'La_meleagro.txt', 'Squashgitter333.txt', 'Luxemburq.txt', 'DarkCobweb.txt', 'Sackkerl.txt', 'Sthyq.txt', 'Acidey.txt', 'Laaaachs.txt', 'HerosHD.txt', 'Lennart0911.txt', 'Gerrygames.txt', 'BusinessBent.txt', 'Simlll.txt', 'YBCM.txt', 'Txlentierter.txt', 'Dat_Klan.txt', 'Luis_XYZ.txt', 'NiklasMoWo.txt', 'MaxMitMaulkorb.txt', 'Oronor.txt', 'GamemasterNiki.txt', 'LordAlexos.txt', 'Pluto28.txt', 'GrafikKatze.txt', '_Einfallslos_.txt', 'cediiiiii_10.txt', 'Dokkkkko.txt', 'deadfiight.txt', 'Kanickelul.txt', 'crocodile1870.txt', 'Sower_.txt', 'Steavn.txt', 'EinfachEazy.txt', 'yiiq.txt', 'NotLennart.txt', 'Snitcherella.txt', 'Keenaai.txt', 'xd_Maiky.txt', 'ReichesBrot.txt', 'lolisamasan.txt', 'Raefinzs.txt', 'JOW24.txt', 'ByNetherdude.txt', 'ZweitesIch.txt', 'frutigall.txt', 'LilFueller.txt', 'xiooh.txt', 'rotmann2.txt', 'FlyingKyubi.txt', 'Joy_8oy.txt', 'BauHD.txt', 'CML_Justin.txt', 'MoZadaTV.txt', 'BastiGHG.txt', 'Gummibearchen.txt', 'Lord_Weibull.txt', 'VendasTM.txt', 'Stockinqs.txt', 'GlowyDusk.txt', 'Scuprum.txt', 'h4nnes.txt', 'cheesecake2901.txt', 'DrSpeed06.txt', 'Krusti.txt', 'marbrueck.txt', 'Vacted.txt', 'Janne4k.txt', 'Bartschii.txt', 'Mansuni.txt', 'SB387.txt', 'medisant.txt', 'Phoenix3000.txt', 'JOW23.txt', 'Ritokii.txt', 'Juti0n.txt', 'lvlaurin.txt', 'Bikoop.txt', 'FrozenNoah.txt', 'GeneralEnte06.txt', 'Dubbly.txt', 'revolverz.txt', 'Highsay.txt', 'ScreamingBlatz.txt', 'RyanxCole.txt', 'shellny.txt', 'TheKillerisback.txt', 'M0orey_0.txt', 'Mincheeen.txt', '2wc.txt', 'Feinberg.txt', 'Navex.txt', 'NewNormal0947.txt', 'Teesily.txt', 'SiLoHB.txt', 'Morittz.txt', 'cxl1lo.txt', 'LeMetin_.txt', 'unausgesprochen.txt', 'Freeeedom.txt', 'miridis41.txt', 'Joe3346.txt', 'Lingex.txt', 'xX_Masha_ggg_Xx9.txt', 'Julius16.txt', 'lizsyy.txt', 'camman18YT.txt', 'Jan2220.txt', 'Falke_01.txt', 'DaVinci_Son.txt', 'SatzdesPytag0ras.txt', 'Flitzi_Dino.txt', 'Wienerisch.txt', 'Seemops_8.txt', 'GermanPie.txt', 'chrisihalt.txt', 'FluffyDragon2007.txt', 'LucaaOn.txt', 'Allooy.txt', 'Chander24.txt', 'Fflopse.txt', 'bikop.txt', 'vKito.txt', 'bawskey.txt', 'RasenLP.txt', 'WirdNichtGeladen.txt', 'WuschigesEtwas.txt', 'OutcroYoutube.txt', 'HeIsJustAPoorBoy.txt', 'FlyingAutismus.txt', 'destr0yed_.txt', 'Ex4cted.txt', 'Mvsk_.txt', 'MaxOnTheRoad.txt', 'swiffle.txt', 'juvona.txt', 'Lubottus.txt', 'Nervigerr.txt', 'lolisamakun.txt', 'Martomias.txt', '20LeRe10.txt']\n",
      "processing Buntes Chaos...\n",
      "Error: Tammywood.txt does not contain any TooltipEvent data\n",
      "Error: demiu.txt does not contain any TooltipEvent data\n",
      "Error: JayMinInSane.txt does not contain any TooltipEvent data\n",
      "Error: KINT0.txt does not contain any TooltipEvent data\n",
      "Error: SmartyxD.txt does not contain any TooltipEvent data\n",
      "Error: Sower_.txt does not contain any TooltipEvent data\n",
      "Error: Lord_Weibull.txt does not contain any TooltipEvent data\n",
      "Error: Scuprum.txt does not contain any TooltipEvent data\n",
      "Error: Dubbly.txt does not contain any TooltipEvent data\n",
      "Error: bikop.txt does not contain any TooltipEvent data\n",
      "Error: destr0yed_.txt does not contain any TooltipEvent data\n",
      "Buntes Chaos processed\n",
      "['__egE.txt', 'Tammywood.txt', 'BunnyKiko.txt', 'SpeckyCut.txt', 'Hyxeed.txt', 'demiu.txt', 'SpinCrafter.txt', 'NanamiElvi.txt', '_n3d.txt', 'Sebi1801.txt', 'JayMinInSane.txt', 'Persidieus.txt', 'N3XV.txt', 'Wissender.txt', 'Gryzes.txt', 'jimmi4Life.txt', 'Gobo9.txt', 'Anni808.txt', 'LeWi_100.txt', '_Waldi_.txt', 'Grapfen.txt', 'PixlNight.txt', 'dossantosaveiro_.txt', 'agowskyy.txt', 'TheBreadHD.txt', 'Axollotel.txt', 'T_Niko_T.txt', 'Vanillinchen.txt', 'Odlaa.txt', 'D4rkCookie.txt', 'yzvm.txt', 'Tim_Voltia.txt', 'xBaumeisterin.txt', 'Ungluecklicher.txt', 'Lutorix.txt', 'Ninivee.txt', 'ArthurAlchemist.txt', 'redbrll.txt', 'Gfrasti.txt', 'Muniix.txt', 'Tomiokey.txt', 'Carl1_1.txt', 'DerAutist.txt', 'PolizeiDreamy.txt', 'xX_Dima_ggg_Xx6.txt', 'Falke23_5.txt', 'TheFabo.txt', 'DieserBear.txt', 'Picutar.txt', '2B9.txt', 'Schmaarek.txt', 'musi1999.txt', 'PumiTheCat.txt', 'HerrDante.txt', 'KakaMC.txt', 'StaudammAusHolz.txt', 'Lelouch610.txt', 'Kyuudo.txt', 'twitchparaskiill.txt', 'G0at3D.txt', 'SecretAgent_K.txt', 'KMaxN.txt', 'Sey__.txt', 'ForceFox.txt', 'toxicplace.txt', 'Gestimus.txt', 'yachayubin.txt', 'Wolkenfarmer.txt', 'y9nic.txt', 'KINT0.txt', 'zBro.txt', 'qriezmannsOpa.txt', 'Harold_Sensemann.txt', 'Pedrozockt.txt', 'MrNulfred.txt', 'Cytoox.txt', 'IchHolzDichWeg.txt', 'GingerTeddy.txt', 'Kopfradio.txt', 'loukrativ.txt', 'M0osebumps.txt', 'SmartyxD.txt', 'Kokochampo.txt', 'JennieKim.txt', 'Umgfoin.txt', 'ffawks.txt', 'byTobi.txt', 'Shiewk.txt', 'La_meleagro.txt', 'Squashgitter333.txt', 'Luxemburq.txt', 'DarkCobweb.txt', 'Sackkerl.txt', 'Sthyq.txt', 'Acidey.txt', 'Laaaachs.txt', 'HerosHD.txt', 'Lennart0911.txt', 'Gerrygames.txt', 'BusinessBent.txt', 'Simlll.txt', 'YBCM.txt', 'Txlentierter.txt', 'Dat_Klan.txt', 'Luis_XYZ.txt', 'NiklasMoWo.txt', 'MaxMitMaulkorb.txt', 'Oronor.txt', 'GamemasterNiki.txt', 'LordAlexos.txt', 'Pluto28.txt', 'GrafikKatze.txt', '_Einfallslos_.txt', 'cediiiiii_10.txt', 'Dokkkkko.txt', 'deadfiight.txt', 'Kanickelul.txt', 'crocodile1870.txt', 'Sower_.txt', 'Steavn.txt', 'EinfachEazy.txt', 'yiiq.txt', 'NotLennart.txt', 'Snitcherella.txt', 'Keenaai.txt', 'xd_Maiky.txt', 'ReichesBrot.txt', 'lolisamasan.txt', 'Raefinzs.txt', 'JOW24.txt', 'ByNetherdude.txt', 'ZweitesIch.txt', 'frutigall.txt', 'LilFueller.txt', 'xiooh.txt', 'rotmann2.txt', 'FlyingKyubi.txt', 'Joy_8oy.txt', 'BauHD.txt', 'CML_Justin.txt', 'MoZadaTV.txt', 'BastiGHG.txt', 'Gummibearchen.txt', 'Lord_Weibull.txt', 'VendasTM.txt', 'Stockinqs.txt', 'GlowyDusk.txt', 'Scuprum.txt', 'h4nnes.txt', 'cheesecake2901.txt', 'DrSpeed06.txt', 'Krusti.txt', 'marbrueck.txt', 'Vacted.txt', 'Janne4k.txt', 'Bartschii.txt', 'Mansuni.txt', 'SB387.txt', 'medisant.txt', 'Phoenix3000.txt', 'JOW23.txt', 'Ritokii.txt', 'Juti0n.txt', 'lvlaurin.txt', 'Bikoop.txt', 'FrozenNoah.txt', 'GeneralEnte06.txt', 'Dubbly.txt', 'revolverz.txt', 'Highsay.txt', 'ScreamingBlatz.txt', 'RyanxCole.txt', 'shellny.txt', 'TheKillerisback.txt', 'M0orey_0.txt', 'Mincheeen.txt', '2wc.txt', 'Feinberg.txt', 'Navex.txt', 'NewNormal0947.txt', 'Teesily.txt', 'SiLoHB.txt', 'Morittz.txt', 'cxl1lo.txt', 'LeMetin_.txt', 'unausgesprochen.txt', 'Freeeedom.txt', 'miridis41.txt', 'Joe3346.txt', 'Lingex.txt', 'xX_Masha_ggg_Xx9.txt', 'Julius16.txt', 'lizsyy.txt', 'camman18YT.txt', 'Jan2220.txt', 'Falke_01.txt', 'DaVinci_Son.txt', 'SatzdesPytag0ras.txt', 'Flitzi_Dino.txt', 'Wienerisch.txt', 'Seemops_8.txt', 'GermanPie.txt', 'chrisihalt.txt', 'FluffyDragon2007.txt', 'LucaaOn.txt', 'Allooy.txt', 'Chander24.txt', 'Fflopse.txt', 'bikop.txt', 'vKito.txt', 'bawskey.txt', 'RasenLP.txt', 'WirdNichtGeladen.txt', 'WuschigesEtwas.txt', 'OutcroYoutube.txt', 'HeIsJustAPoorBoy.txt', 'FlyingAutismus.txt', 'destr0yed_.txt', 'Ex4cted.txt', 'Mvsk_.txt', 'MaxOnTheRoad.txt', 'swiffle.txt', 'juvona.txt', 'Lubottus.txt', 'Nervigerr.txt', 'lolisamakun.txt', 'Martomias.txt', '20LeRe10.txt']\n",
      "processing Reihenfolge...\n",
      "Error: Tammywood.txt does not contain any TooltipEvent data\n",
      "Error: demiu.txt does not contain any TooltipEvent data\n",
      "Error: JayMinInSane.txt does not contain any TooltipEvent data\n",
      "Error: KINT0.txt does not contain any TooltipEvent data\n",
      "Error: SmartyxD.txt does not contain any TooltipEvent data\n",
      "Error: Sower_.txt does not contain any TooltipEvent data\n",
      "Error: Lord_Weibull.txt does not contain any TooltipEvent data\n",
      "Error: Scuprum.txt does not contain any TooltipEvent data\n",
      "Error: Dubbly.txt does not contain any TooltipEvent data\n",
      "Error: bikop.txt does not contain any TooltipEvent data\n",
      "Error: destr0yed_.txt does not contain any TooltipEvent data\n",
      "Reihenfolge processed\n",
      "['__egE.txt', 'Tammywood.txt', 'BunnyKiko.txt', 'SpeckyCut.txt', 'Hyxeed.txt', 'demiu.txt', 'SpinCrafter.txt', 'NanamiElvi.txt', '_n3d.txt', 'Sebi1801.txt', 'JayMinInSane.txt', 'Persidieus.txt', 'N3XV.txt', 'Wissender.txt', 'Gryzes.txt', 'jimmi4Life.txt', 'Gobo9.txt', 'Anni808.txt', 'LeWi_100.txt', '_Waldi_.txt', 'Grapfen.txt', 'PixlNight.txt', 'dossantosaveiro_.txt', 'agowskyy.txt', 'TheBreadHD.txt', 'Axollotel.txt', 'T_Niko_T.txt', 'Vanillinchen.txt', 'Odlaa.txt', 'D4rkCookie.txt', 'yzvm.txt', 'Tim_Voltia.txt', 'xBaumeisterin.txt', 'Ungluecklicher.txt', 'Lutorix.txt', 'Ninivee.txt', 'ArthurAlchemist.txt', 'redbrll.txt', 'Gfrasti.txt', 'Muniix.txt', 'Tomiokey.txt', 'Carl1_1.txt', 'DerAutist.txt', 'PolizeiDreamy.txt', 'xX_Dima_ggg_Xx6.txt', 'Falke23_5.txt', 'TheFabo.txt', 'DieserBear.txt', 'Picutar.txt', '2B9.txt', 'Schmaarek.txt', 'musi1999.txt', 'PumiTheCat.txt', 'HerrDante.txt', 'KakaMC.txt', 'StaudammAusHolz.txt', 'Lelouch610.txt', 'Kyuudo.txt', 'twitchparaskiill.txt', 'G0at3D.txt', 'SecretAgent_K.txt', 'KMaxN.txt', 'Sey__.txt', 'ForceFox.txt', 'toxicplace.txt', 'Gestimus.txt', 'yachayubin.txt', 'Wolkenfarmer.txt', 'y9nic.txt', 'KINT0.txt', 'zBro.txt', 'qriezmannsOpa.txt', 'Harold_Sensemann.txt', 'Pedrozockt.txt', 'MrNulfred.txt', 'Cytoox.txt', 'IchHolzDichWeg.txt', 'GingerTeddy.txt', 'Kopfradio.txt', 'loukrativ.txt', 'M0osebumps.txt', 'SmartyxD.txt', 'Kokochampo.txt', 'JennieKim.txt', 'Umgfoin.txt', 'ffawks.txt', 'byTobi.txt', 'Shiewk.txt', 'La_meleagro.txt', 'Squashgitter333.txt', 'Luxemburq.txt', 'DarkCobweb.txt', 'Sackkerl.txt', 'Sthyq.txt', 'Acidey.txt', 'Laaaachs.txt', 'HerosHD.txt', 'Lennart0911.txt', 'Gerrygames.txt', 'BusinessBent.txt', 'Simlll.txt', 'YBCM.txt', 'Txlentierter.txt', 'Dat_Klan.txt', 'Luis_XYZ.txt', 'NiklasMoWo.txt', 'MaxMitMaulkorb.txt', 'Oronor.txt', 'GamemasterNiki.txt', 'LordAlexos.txt', 'Pluto28.txt', 'GrafikKatze.txt', '_Einfallslos_.txt', 'cediiiiii_10.txt', 'Dokkkkko.txt', 'deadfiight.txt', 'Kanickelul.txt', 'crocodile1870.txt', 'Sower_.txt', 'Steavn.txt', 'EinfachEazy.txt', 'yiiq.txt', 'NotLennart.txt', 'Snitcherella.txt', 'Keenaai.txt', 'xd_Maiky.txt', 'ReichesBrot.txt', 'lolisamasan.txt', 'Raefinzs.txt', 'JOW24.txt', 'ByNetherdude.txt', 'ZweitesIch.txt', 'frutigall.txt', 'LilFueller.txt', 'xiooh.txt', 'rotmann2.txt', 'FlyingKyubi.txt', 'Joy_8oy.txt', 'BauHD.txt', 'CML_Justin.txt', 'MoZadaTV.txt', 'BastiGHG.txt', 'Gummibearchen.txt', 'Lord_Weibull.txt', 'VendasTM.txt', 'Stockinqs.txt', 'GlowyDusk.txt', 'Scuprum.txt', 'h4nnes.txt', 'cheesecake2901.txt', 'DrSpeed06.txt', 'Krusti.txt', 'marbrueck.txt', 'Vacted.txt', 'Janne4k.txt', 'Bartschii.txt', 'Mansuni.txt', 'SB387.txt', 'medisant.txt', 'Phoenix3000.txt', 'JOW23.txt', 'Ritokii.txt', 'Juti0n.txt', 'lvlaurin.txt', 'Bikoop.txt', 'FrozenNoah.txt', 'GeneralEnte06.txt', 'Dubbly.txt', 'revolverz.txt', 'Highsay.txt', 'ScreamingBlatz.txt', 'RyanxCole.txt', 'shellny.txt', 'TheKillerisback.txt', 'M0orey_0.txt', 'Mincheeen.txt', '2wc.txt', 'Feinberg.txt', 'Navex.txt', 'NewNormal0947.txt', 'Teesily.txt', 'SiLoHB.txt', 'Morittz.txt', 'cxl1lo.txt', 'LeMetin_.txt', 'unausgesprochen.txt', 'Freeeedom.txt', 'miridis41.txt', 'Joe3346.txt', 'Lingex.txt', 'xX_Masha_ggg_Xx9.txt', 'Julius16.txt', 'lizsyy.txt', 'camman18YT.txt', 'Jan2220.txt', 'Falke_01.txt', 'DaVinci_Son.txt', 'SatzdesPytag0ras.txt', 'Flitzi_Dino.txt', 'Wienerisch.txt', 'Seemops_8.txt', 'GermanPie.txt', 'chrisihalt.txt', 'FluffyDragon2007.txt', 'LucaaOn.txt', 'Allooy.txt', 'Chander24.txt', 'Fflopse.txt', 'bikop.txt', 'vKito.txt', 'bawskey.txt', 'RasenLP.txt', 'WirdNichtGeladen.txt', 'WuschigesEtwas.txt', 'OutcroYoutube.txt', 'HeIsJustAPoorBoy.txt', 'FlyingAutismus.txt', 'destr0yed_.txt', 'Ex4cted.txt', 'Mvsk_.txt', 'MaxOnTheRoad.txt', 'swiffle.txt', 'juvona.txt', 'Lubottus.txt', 'Nervigerr.txt', 'lolisamakun.txt', 'Martomias.txt', '20LeRe10.txt']\n",
      "processing Duelle...\n",
      "Error: Tammywood.txt does not contain any TooltipEvent data\n",
      "Error: demiu.txt does not contain any TooltipEvent data\n",
      "Error: JayMinInSane.txt does not contain any TooltipEvent data\n",
      "Error: KINT0.txt does not contain any TooltipEvent data\n",
      "Error: SmartyxD.txt does not contain any TooltipEvent data\n",
      "Error: Sower_.txt does not contain any TooltipEvent data\n",
      "Error: Lord_Weibull.txt does not contain any TooltipEvent data\n",
      "Error: Scuprum.txt does not contain any TooltipEvent data\n",
      "Error: Dubbly.txt does not contain any TooltipEvent data\n",
      "Error: bikop.txt does not contain any TooltipEvent data\n",
      "Error: destr0yed_.txt does not contain any TooltipEvent data\n",
      "Duelle processed\n",
      "['__egE.txt', 'Tammywood.txt', 'BunnyKiko.txt', 'SpeckyCut.txt', 'Hyxeed.txt', 'demiu.txt', 'SpinCrafter.txt', 'NanamiElvi.txt', '_n3d.txt', 'Sebi1801.txt', 'JayMinInSane.txt', 'Persidieus.txt', 'N3XV.txt', 'Wissender.txt', 'Gryzes.txt', 'jimmi4Life.txt', 'Gobo9.txt', 'Anni808.txt', 'LeWi_100.txt', '_Waldi_.txt', 'Grapfen.txt', 'PixlNight.txt', 'dossantosaveiro_.txt', 'agowskyy.txt', 'TheBreadHD.txt', 'Axollotel.txt', 'T_Niko_T.txt', 'Vanillinchen.txt', 'Odlaa.txt', 'D4rkCookie.txt', 'yzvm.txt', 'Tim_Voltia.txt', 'xBaumeisterin.txt', 'Ungluecklicher.txt', 'Lutorix.txt', 'Ninivee.txt', 'ArthurAlchemist.txt', 'redbrll.txt', 'Gfrasti.txt', 'Muniix.txt', 'Tomiokey.txt', 'Carl1_1.txt', 'DerAutist.txt', 'PolizeiDreamy.txt', 'xX_Dima_ggg_Xx6.txt', 'Falke23_5.txt', 'TheFabo.txt', 'DieserBear.txt', 'Picutar.txt', '2B9.txt', 'Schmaarek.txt', 'musi1999.txt', 'PumiTheCat.txt', 'HerrDante.txt', 'KakaMC.txt', 'StaudammAusHolz.txt', 'Lelouch610.txt', 'Kyuudo.txt', 'twitchparaskiill.txt', 'G0at3D.txt', 'SecretAgent_K.txt', 'KMaxN.txt', 'Sey__.txt', 'ForceFox.txt', 'toxicplace.txt', 'Gestimus.txt', 'yachayubin.txt', 'Wolkenfarmer.txt', 'y9nic.txt', 'KINT0.txt', 'zBro.txt', 'qriezmannsOpa.txt', 'Harold_Sensemann.txt', 'Pedrozockt.txt', 'MrNulfred.txt', 'Cytoox.txt', 'IchHolzDichWeg.txt', 'GingerTeddy.txt', 'Kopfradio.txt', 'loukrativ.txt', 'M0osebumps.txt', 'SmartyxD.txt', 'Kokochampo.txt', 'JennieKim.txt', 'Umgfoin.txt', 'ffawks.txt', 'byTobi.txt', 'Shiewk.txt', 'La_meleagro.txt', 'Squashgitter333.txt', 'Luxemburq.txt', 'DarkCobweb.txt', 'Sackkerl.txt', 'Sthyq.txt', 'Acidey.txt', 'Laaaachs.txt', 'HerosHD.txt', 'Lennart0911.txt', 'Gerrygames.txt', 'BusinessBent.txt', 'Simlll.txt', 'YBCM.txt', 'Txlentierter.txt', 'Dat_Klan.txt', 'Luis_XYZ.txt', 'NiklasMoWo.txt', 'MaxMitMaulkorb.txt', 'Oronor.txt', 'GamemasterNiki.txt', 'LordAlexos.txt', 'Pluto28.txt', 'GrafikKatze.txt', '_Einfallslos_.txt', 'cediiiiii_10.txt', 'Dokkkkko.txt', 'deadfiight.txt', 'Kanickelul.txt', 'crocodile1870.txt', 'Sower_.txt', 'Steavn.txt', 'EinfachEazy.txt', 'yiiq.txt', 'NotLennart.txt', 'Snitcherella.txt', 'Keenaai.txt', 'xd_Maiky.txt', 'ReichesBrot.txt', 'lolisamasan.txt', 'Raefinzs.txt', 'JOW24.txt', 'ByNetherdude.txt', 'ZweitesIch.txt', 'frutigall.txt', 'LilFueller.txt', 'xiooh.txt', 'rotmann2.txt', 'FlyingKyubi.txt', 'Joy_8oy.txt', 'BauHD.txt', 'CML_Justin.txt', 'MoZadaTV.txt', 'BastiGHG.txt', 'Gummibearchen.txt', 'Lord_Weibull.txt', 'VendasTM.txt', 'Stockinqs.txt', 'GlowyDusk.txt', 'Scuprum.txt', 'h4nnes.txt', 'cheesecake2901.txt', 'DrSpeed06.txt', 'Krusti.txt', 'marbrueck.txt', 'Vacted.txt', 'Janne4k.txt', 'Bartschii.txt', 'Mansuni.txt', 'SB387.txt', 'medisant.txt', 'Phoenix3000.txt', 'JOW23.txt', 'Ritokii.txt', 'Juti0n.txt', 'lvlaurin.txt', 'Bikoop.txt', 'FrozenNoah.txt', 'GeneralEnte06.txt', 'Dubbly.txt', 'revolverz.txt', 'Highsay.txt', 'ScreamingBlatz.txt', 'RyanxCole.txt', 'shellny.txt', 'TheKillerisback.txt', 'M0orey_0.txt', 'Mincheeen.txt', '2wc.txt', 'Feinberg.txt', 'Navex.txt', 'NewNormal0947.txt', 'Teesily.txt', 'SiLoHB.txt', 'Morittz.txt', 'cxl1lo.txt', 'LeMetin_.txt', 'unausgesprochen.txt', 'Freeeedom.txt', 'miridis41.txt', 'Joe3346.txt', 'Lingex.txt', 'xX_Masha_ggg_Xx9.txt', 'Julius16.txt', 'lizsyy.txt', 'camman18YT.txt', 'Jan2220.txt', 'Falke_01.txt', 'DaVinci_Son.txt', 'SatzdesPytag0ras.txt', 'Flitzi_Dino.txt', 'Wienerisch.txt', 'Seemops_8.txt', 'GermanPie.txt', 'chrisihalt.txt', 'FluffyDragon2007.txt', 'LucaaOn.txt', 'Allooy.txt', 'Chander24.txt', 'Fflopse.txt', 'bikop.txt', 'vKito.txt', 'bawskey.txt', 'RasenLP.txt', 'WirdNichtGeladen.txt', 'WuschigesEtwas.txt', 'OutcroYoutube.txt', 'HeIsJustAPoorBoy.txt', 'FlyingAutismus.txt', 'destr0yed_.txt', 'Ex4cted.txt', 'Mvsk_.txt', 'MaxOnTheRoad.txt', 'swiffle.txt', 'juvona.txt', 'Lubottus.txt', 'Nervigerr.txt', 'lolisamakun.txt', 'Martomias.txt', '20LeRe10.txt']\n",
      "processing Turmroulette...\n",
      "Error: Tammywood.txt does not contain any TooltipEvent data\n",
      "Error: demiu.txt does not contain any TooltipEvent data\n",
      "Error: JayMinInSane.txt does not contain any TooltipEvent data\n",
      "Error: KINT0.txt does not contain any TooltipEvent data\n",
      "Error: SmartyxD.txt does not contain any TooltipEvent data\n",
      "Error: Sower_.txt does not contain any TooltipEvent data\n",
      "Error: Lord_Weibull.txt does not contain any TooltipEvent data\n",
      "Error: Scuprum.txt does not contain any TooltipEvent data\n",
      "Error: Dubbly.txt does not contain any TooltipEvent data\n",
      "Error: bikop.txt does not contain any TooltipEvent data\n",
      "Error: destr0yed_.txt does not contain any TooltipEvent data\n",
      "Turmroulette processed\n",
      "['__egE.txt', 'Tammywood.txt', 'BunnyKiko.txt', 'SpeckyCut.txt', 'Hyxeed.txt', 'demiu.txt', 'SpinCrafter.txt', 'NanamiElvi.txt', '_n3d.txt', 'Sebi1801.txt', 'JayMinInSane.txt', 'Persidieus.txt', 'N3XV.txt', 'Wissender.txt', 'Gryzes.txt', 'jimmi4Life.txt', 'Gobo9.txt', 'Anni808.txt', 'LeWi_100.txt', '_Waldi_.txt', 'Grapfen.txt', 'PixlNight.txt', 'dossantosaveiro_.txt', 'agowskyy.txt', 'TheBreadHD.txt', 'Axollotel.txt', 'T_Niko_T.txt', 'Vanillinchen.txt', 'Odlaa.txt', 'D4rkCookie.txt', 'yzvm.txt', 'Tim_Voltia.txt', 'xBaumeisterin.txt', 'Ungluecklicher.txt', 'Lutorix.txt', 'Ninivee.txt', 'ArthurAlchemist.txt', 'redbrll.txt', 'Gfrasti.txt', 'Muniix.txt', 'Tomiokey.txt', 'Carl1_1.txt', 'DerAutist.txt', 'PolizeiDreamy.txt', 'xX_Dima_ggg_Xx6.txt', 'Falke23_5.txt', 'TheFabo.txt', 'DieserBear.txt', 'Picutar.txt', '2B9.txt', 'Schmaarek.txt', 'musi1999.txt', 'PumiTheCat.txt', 'HerrDante.txt', 'KakaMC.txt', 'StaudammAusHolz.txt', 'Lelouch610.txt', 'Kyuudo.txt', 'twitchparaskiill.txt', 'G0at3D.txt', 'SecretAgent_K.txt', 'KMaxN.txt', 'Sey__.txt', 'ForceFox.txt', 'toxicplace.txt', 'Gestimus.txt', 'yachayubin.txt', 'Wolkenfarmer.txt', 'y9nic.txt', 'KINT0.txt', 'zBro.txt', 'qriezmannsOpa.txt', 'Harold_Sensemann.txt', 'Pedrozockt.txt', 'MrNulfred.txt', 'Cytoox.txt', 'IchHolzDichWeg.txt', 'GingerTeddy.txt', 'Kopfradio.txt', 'loukrativ.txt', 'M0osebumps.txt', 'SmartyxD.txt', 'Kokochampo.txt', 'JennieKim.txt', 'Umgfoin.txt', 'ffawks.txt', 'byTobi.txt', 'Shiewk.txt', 'La_meleagro.txt', 'Squashgitter333.txt', 'Luxemburq.txt', 'DarkCobweb.txt', 'Sackkerl.txt', 'Sthyq.txt', 'Acidey.txt', 'Laaaachs.txt', 'HerosHD.txt', 'Lennart0911.txt', 'Gerrygames.txt', 'BusinessBent.txt', 'Simlll.txt', 'YBCM.txt', 'Txlentierter.txt', 'Dat_Klan.txt', 'Luis_XYZ.txt', 'NiklasMoWo.txt', 'MaxMitMaulkorb.txt', 'Oronor.txt', 'GamemasterNiki.txt', 'LordAlexos.txt', 'Pluto28.txt', 'GrafikKatze.txt', '_Einfallslos_.txt', 'cediiiiii_10.txt', 'Dokkkkko.txt', 'deadfiight.txt', 'Kanickelul.txt', 'crocodile1870.txt', 'Sower_.txt', 'Steavn.txt', 'EinfachEazy.txt', 'yiiq.txt', 'NotLennart.txt', 'Snitcherella.txt', 'Keenaai.txt', 'xd_Maiky.txt', 'ReichesBrot.txt', 'lolisamasan.txt', 'Raefinzs.txt', 'JOW24.txt', 'ByNetherdude.txt', 'ZweitesIch.txt', 'frutigall.txt', 'LilFueller.txt', 'xiooh.txt', 'rotmann2.txt', 'FlyingKyubi.txt', 'Joy_8oy.txt', 'BauHD.txt', 'CML_Justin.txt', 'MoZadaTV.txt', 'BastiGHG.txt', 'Gummibearchen.txt', 'Lord_Weibull.txt', 'VendasTM.txt', 'Stockinqs.txt', 'GlowyDusk.txt', 'Scuprum.txt', 'h4nnes.txt', 'cheesecake2901.txt', 'DrSpeed06.txt', 'Krusti.txt', 'marbrueck.txt', 'Vacted.txt', 'Janne4k.txt', 'Bartschii.txt', 'Mansuni.txt', 'SB387.txt', 'medisant.txt', 'Phoenix3000.txt', 'JOW23.txt', 'Ritokii.txt', 'Juti0n.txt', 'lvlaurin.txt', 'Bikoop.txt', 'FrozenNoah.txt', 'GeneralEnte06.txt', 'Dubbly.txt', 'revolverz.txt', 'Highsay.txt', 'ScreamingBlatz.txt', 'RyanxCole.txt', 'shellny.txt', 'TheKillerisback.txt', 'M0orey_0.txt', 'Mincheeen.txt', '2wc.txt', 'Feinberg.txt', 'Navex.txt', 'NewNormal0947.txt', 'Teesily.txt', 'SiLoHB.txt', 'Morittz.txt', 'cxl1lo.txt', 'LeMetin_.txt', 'unausgesprochen.txt', 'Freeeedom.txt', 'miridis41.txt', 'Joe3346.txt', 'Lingex.txt', 'xX_Masha_ggg_Xx9.txt', 'Julius16.txt', 'lizsyy.txt', 'camman18YT.txt', 'Jan2220.txt', 'Falke_01.txt', 'DaVinci_Son.txt', 'SatzdesPytag0ras.txt', 'Flitzi_Dino.txt', 'Wienerisch.txt', 'Seemops_8.txt', 'GermanPie.txt', 'chrisihalt.txt', 'FluffyDragon2007.txt', 'LucaaOn.txt', 'Allooy.txt', 'Chander24.txt', 'Fflopse.txt', 'bikop.txt', 'vKito.txt', 'bawskey.txt', 'RasenLP.txt', 'WirdNichtGeladen.txt', 'WuschigesEtwas.txt', 'OutcroYoutube.txt', 'HeIsJustAPoorBoy.txt', 'FlyingAutismus.txt', 'destr0yed_.txt', 'Ex4cted.txt', 'Mvsk_.txt', 'MaxOnTheRoad.txt', 'swiffle.txt', 'juvona.txt', 'Lubottus.txt', 'Nervigerr.txt', 'lolisamakun.txt', 'Martomias.txt', '20LeRe10.txt']\n",
      "processing Wettrennen...\n",
      "Error: Tammywood.txt does not contain any TooltipEvent data\n",
      "Error: demiu.txt does not contain any TooltipEvent data\n",
      "Error: JayMinInSane.txt does not contain any TooltipEvent data\n",
      "Error: KINT0.txt does not contain any TooltipEvent data\n",
      "Error: SmartyxD.txt does not contain any TooltipEvent data\n",
      "Error: Sower_.txt does not contain any TooltipEvent data\n",
      "Error: Lord_Weibull.txt does not contain any TooltipEvent data\n",
      "Error: Scuprum.txt does not contain any TooltipEvent data\n",
      "Error: Dubbly.txt does not contain any TooltipEvent data\n",
      "Error: bikop.txt does not contain any TooltipEvent data\n",
      "Error: destr0yed_.txt does not contain any TooltipEvent data\n",
      "Wettrennen processed\n",
      "['__egE.txt', 'Tammywood.txt', 'BunnyKiko.txt', 'SpeckyCut.txt', 'Hyxeed.txt', 'demiu.txt', 'SpinCrafter.txt', 'NanamiElvi.txt', '_n3d.txt', 'Sebi1801.txt', 'JayMinInSane.txt', 'Persidieus.txt', 'N3XV.txt', 'Wissender.txt', 'Gryzes.txt', 'jimmi4Life.txt', 'Gobo9.txt', 'Anni808.txt', 'LeWi_100.txt', '_Waldi_.txt', 'Grapfen.txt', 'PixlNight.txt', 'dossantosaveiro_.txt', 'agowskyy.txt', 'TheBreadHD.txt', 'Axollotel.txt', 'T_Niko_T.txt', 'Vanillinchen.txt', 'Odlaa.txt', 'D4rkCookie.txt', 'yzvm.txt', 'Tim_Voltia.txt', 'xBaumeisterin.txt', 'Ungluecklicher.txt', 'Lutorix.txt', 'Ninivee.txt', 'ArthurAlchemist.txt', 'redbrll.txt', 'Gfrasti.txt', 'Muniix.txt', 'Tomiokey.txt', 'Carl1_1.txt', 'DerAutist.txt', 'PolizeiDreamy.txt', 'xX_Dima_ggg_Xx6.txt', 'Falke23_5.txt', 'TheFabo.txt', 'DieserBear.txt', 'Picutar.txt', '2B9.txt', 'Schmaarek.txt', 'musi1999.txt', 'PumiTheCat.txt', 'HerrDante.txt', 'KakaMC.txt', 'StaudammAusHolz.txt', 'Lelouch610.txt', 'Kyuudo.txt', 'twitchparaskiill.txt', 'G0at3D.txt', 'SecretAgent_K.txt', 'KMaxN.txt', 'Sey__.txt', 'ForceFox.txt', 'toxicplace.txt', 'Gestimus.txt', 'yachayubin.txt', 'Wolkenfarmer.txt', 'y9nic.txt', 'KINT0.txt', 'zBro.txt', 'qriezmannsOpa.txt', 'Harold_Sensemann.txt', 'Pedrozockt.txt', 'MrNulfred.txt', 'Cytoox.txt', 'IchHolzDichWeg.txt', 'GingerTeddy.txt', 'Kopfradio.txt', 'loukrativ.txt', 'M0osebumps.txt', 'SmartyxD.txt', 'Kokochampo.txt', 'JennieKim.txt', 'Umgfoin.txt', 'ffawks.txt', 'byTobi.txt', 'Shiewk.txt', 'La_meleagro.txt', 'Squashgitter333.txt', 'Luxemburq.txt', 'DarkCobweb.txt', 'Sackkerl.txt', 'Sthyq.txt', 'Acidey.txt', 'Laaaachs.txt', 'HerosHD.txt', 'Lennart0911.txt', 'Gerrygames.txt', 'BusinessBent.txt', 'Simlll.txt', 'YBCM.txt', 'Txlentierter.txt', 'Dat_Klan.txt', 'Luis_XYZ.txt', 'NiklasMoWo.txt', 'MaxMitMaulkorb.txt', 'Oronor.txt', 'GamemasterNiki.txt', 'LordAlexos.txt', 'Pluto28.txt', 'GrafikKatze.txt', '_Einfallslos_.txt', 'cediiiiii_10.txt', 'Dokkkkko.txt', 'deadfiight.txt', 'Kanickelul.txt', 'crocodile1870.txt', 'Sower_.txt', 'Steavn.txt', 'EinfachEazy.txt', 'yiiq.txt', 'NotLennart.txt', 'Snitcherella.txt', 'Keenaai.txt', 'xd_Maiky.txt', 'ReichesBrot.txt', 'lolisamasan.txt', 'Raefinzs.txt', 'JOW24.txt', 'ByNetherdude.txt', 'ZweitesIch.txt', 'frutigall.txt', 'LilFueller.txt', 'xiooh.txt', 'rotmann2.txt', 'FlyingKyubi.txt', 'Joy_8oy.txt', 'BauHD.txt', 'CML_Justin.txt', 'MoZadaTV.txt', 'BastiGHG.txt', 'Gummibearchen.txt', 'Lord_Weibull.txt', 'VendasTM.txt', 'Stockinqs.txt', 'GlowyDusk.txt', 'Scuprum.txt', 'h4nnes.txt', 'cheesecake2901.txt', 'DrSpeed06.txt', 'Krusti.txt', 'marbrueck.txt', 'Vacted.txt', 'Janne4k.txt', 'Bartschii.txt', 'Mansuni.txt', 'SB387.txt', 'medisant.txt', 'Phoenix3000.txt', 'JOW23.txt', 'Ritokii.txt', 'Juti0n.txt', 'lvlaurin.txt', 'Bikoop.txt', 'FrozenNoah.txt', 'GeneralEnte06.txt', 'Dubbly.txt', 'revolverz.txt', 'Highsay.txt', 'ScreamingBlatz.txt', 'RyanxCole.txt', 'shellny.txt', 'TheKillerisback.txt', 'M0orey_0.txt', 'Mincheeen.txt', '2wc.txt', 'Feinberg.txt', 'Navex.txt', 'NewNormal0947.txt', 'Teesily.txt', 'SiLoHB.txt', 'Morittz.txt', 'cxl1lo.txt', 'LeMetin_.txt', 'unausgesprochen.txt', 'Freeeedom.txt', 'miridis41.txt', 'Joe3346.txt', 'Lingex.txt', 'xX_Masha_ggg_Xx9.txt', 'Julius16.txt', 'lizsyy.txt', 'camman18YT.txt', 'Jan2220.txt', 'Falke_01.txt', 'DaVinci_Son.txt', 'SatzdesPytag0ras.txt', 'Flitzi_Dino.txt', 'Wienerisch.txt', 'Seemops_8.txt', 'GermanPie.txt', 'chrisihalt.txt', 'FluffyDragon2007.txt', 'LucaaOn.txt', 'Allooy.txt', 'Chander24.txt', 'Fflopse.txt', 'bikop.txt', 'vKito.txt', 'bawskey.txt', 'RasenLP.txt', 'WirdNichtGeladen.txt', 'WuschigesEtwas.txt', 'OutcroYoutube.txt', 'HeIsJustAPoorBoy.txt', 'FlyingAutismus.txt', 'destr0yed_.txt', 'Ex4cted.txt', 'Mvsk_.txt', 'MaxOnTheRoad.txt', 'swiffle.txt', 'juvona.txt', 'Lubottus.txt', 'Nervigerr.txt', 'lolisamakun.txt', 'Martomias.txt', '20LeRe10.txt']\n",
      "processing Jump and Run...\n",
      "Error: Tammywood.txt does not contain any TooltipEvent data\n",
      "Error: demiu.txt does not contain any TooltipEvent data\n",
      "Error: JayMinInSane.txt does not contain any TooltipEvent data\n",
      "Error: KINT0.txt does not contain any TooltipEvent data\n",
      "Error: SmartyxD.txt does not contain any TooltipEvent data\n",
      "Error: Sower_.txt does not contain any TooltipEvent data\n",
      "Error: Lord_Weibull.txt does not contain any TooltipEvent data\n",
      "Error: Scuprum.txt does not contain any TooltipEvent data\n",
      "Error: Dubbly.txt does not contain any TooltipEvent data\n",
      "Error: bikop.txt does not contain any TooltipEvent data\n",
      "Error: destr0yed_.txt does not contain any TooltipEvent data\n",
      "Jump and Run processed\n",
      "['__egE.txt', 'Tammywood.txt', 'BunnyKiko.txt', 'SpeckyCut.txt', 'Hyxeed.txt', 'demiu.txt', 'SpinCrafter.txt', 'NanamiElvi.txt', '_n3d.txt', 'Sebi1801.txt', 'JayMinInSane.txt', 'Persidieus.txt', 'N3XV.txt', 'Wissender.txt', 'Gryzes.txt', 'jimmi4Life.txt', 'Gobo9.txt', 'Anni808.txt', 'LeWi_100.txt', '_Waldi_.txt', 'Grapfen.txt', 'PixlNight.txt', 'dossantosaveiro_.txt', 'agowskyy.txt', 'TheBreadHD.txt', 'Axollotel.txt', 'T_Niko_T.txt', 'Vanillinchen.txt', 'Odlaa.txt', 'D4rkCookie.txt', 'yzvm.txt', 'Tim_Voltia.txt', 'xBaumeisterin.txt', 'Ungluecklicher.txt', 'Lutorix.txt', 'Ninivee.txt', 'ArthurAlchemist.txt', 'redbrll.txt', 'Gfrasti.txt', 'Muniix.txt', 'Tomiokey.txt', 'Carl1_1.txt', 'DerAutist.txt', 'PolizeiDreamy.txt', 'xX_Dima_ggg_Xx6.txt', 'Falke23_5.txt', 'TheFabo.txt', 'DieserBear.txt', 'Picutar.txt', '2B9.txt', 'Schmaarek.txt', 'musi1999.txt', 'PumiTheCat.txt', 'HerrDante.txt', 'KakaMC.txt', 'StaudammAusHolz.txt', 'Lelouch610.txt', 'Kyuudo.txt', 'twitchparaskiill.txt', 'G0at3D.txt', 'SecretAgent_K.txt', 'KMaxN.txt', 'Sey__.txt', 'ForceFox.txt', 'toxicplace.txt', 'Gestimus.txt', 'yachayubin.txt', 'Wolkenfarmer.txt', 'y9nic.txt', 'KINT0.txt', 'zBro.txt', 'qriezmannsOpa.txt', 'Harold_Sensemann.txt', 'Pedrozockt.txt', 'MrNulfred.txt', 'Cytoox.txt', 'IchHolzDichWeg.txt', 'GingerTeddy.txt', 'Kopfradio.txt', 'loukrativ.txt', 'M0osebumps.txt', 'SmartyxD.txt', 'Kokochampo.txt', 'JennieKim.txt', 'Umgfoin.txt', 'ffawks.txt', 'byTobi.txt', 'Shiewk.txt', 'La_meleagro.txt', 'Squashgitter333.txt', 'Luxemburq.txt', 'DarkCobweb.txt', 'Sackkerl.txt', 'Sthyq.txt', 'Acidey.txt', 'Laaaachs.txt', 'HerosHD.txt', 'Lennart0911.txt', 'Gerrygames.txt', 'BusinessBent.txt', 'Simlll.txt', 'YBCM.txt', 'Txlentierter.txt', 'Dat_Klan.txt', 'Luis_XYZ.txt', 'NiklasMoWo.txt', 'MaxMitMaulkorb.txt', 'Oronor.txt', 'GamemasterNiki.txt', 'LordAlexos.txt', 'Pluto28.txt', 'GrafikKatze.txt', '_Einfallslos_.txt', 'cediiiiii_10.txt', 'Dokkkkko.txt', 'deadfiight.txt', 'Kanickelul.txt', 'crocodile1870.txt', 'Sower_.txt', 'Steavn.txt', 'EinfachEazy.txt', 'yiiq.txt', 'NotLennart.txt', 'Snitcherella.txt', 'Keenaai.txt', 'xd_Maiky.txt', 'ReichesBrot.txt', 'lolisamasan.txt', 'Raefinzs.txt', 'JOW24.txt', 'ByNetherdude.txt', 'ZweitesIch.txt', 'frutigall.txt', 'LilFueller.txt', 'xiooh.txt', 'rotmann2.txt', 'FlyingKyubi.txt', 'Joy_8oy.txt', 'BauHD.txt', 'CML_Justin.txt', 'MoZadaTV.txt', 'BastiGHG.txt', 'Gummibearchen.txt', 'Lord_Weibull.txt', 'VendasTM.txt', 'Stockinqs.txt', 'GlowyDusk.txt', 'Scuprum.txt', 'h4nnes.txt', 'cheesecake2901.txt', 'DrSpeed06.txt', 'Krusti.txt', 'marbrueck.txt', 'Vacted.txt', 'Janne4k.txt', 'Bartschii.txt', 'Mansuni.txt', 'SB387.txt', 'medisant.txt', 'Phoenix3000.txt', 'JOW23.txt', 'Ritokii.txt', 'Juti0n.txt', 'lvlaurin.txt', 'Bikoop.txt', 'FrozenNoah.txt', 'GeneralEnte06.txt', 'Dubbly.txt', 'revolverz.txt', 'Highsay.txt', 'ScreamingBlatz.txt', 'RyanxCole.txt', 'shellny.txt', 'TheKillerisback.txt', 'M0orey_0.txt', 'Mincheeen.txt', '2wc.txt', 'Feinberg.txt', 'Navex.txt', 'NewNormal0947.txt', 'Teesily.txt', 'SiLoHB.txt', 'Morittz.txt', 'cxl1lo.txt', 'LeMetin_.txt', 'unausgesprochen.txt', 'Freeeedom.txt', 'miridis41.txt', 'Joe3346.txt', 'Lingex.txt', 'xX_Masha_ggg_Xx9.txt', 'Julius16.txt', 'lizsyy.txt', 'camman18YT.txt', 'Jan2220.txt', 'Falke_01.txt', 'DaVinci_Son.txt', 'SatzdesPytag0ras.txt', 'Flitzi_Dino.txt', 'Wienerisch.txt', 'Seemops_8.txt', 'GermanPie.txt', 'chrisihalt.txt', 'FluffyDragon2007.txt', 'LucaaOn.txt', 'Allooy.txt', 'Chander24.txt', 'Fflopse.txt', 'bikop.txt', 'vKito.txt', 'bawskey.txt', 'RasenLP.txt', 'WirdNichtGeladen.txt', 'WuschigesEtwas.txt', 'OutcroYoutube.txt', 'HeIsJustAPoorBoy.txt', 'FlyingAutismus.txt', 'destr0yed_.txt', 'Ex4cted.txt', 'Mvsk_.txt', 'MaxOnTheRoad.txt', 'swiffle.txt', 'juvona.txt', 'Lubottus.txt', 'Nervigerr.txt', 'lolisamakun.txt', 'Martomias.txt', '20LeRe10.txt']\n",
      "processing Pferderennen...\n",
      "Error: Tammywood.txt does not contain any TooltipEvent data\n",
      "Error: demiu.txt does not contain any TooltipEvent data\n",
      "Error: JayMinInSane.txt does not contain any TooltipEvent data\n",
      "Error: KINT0.txt does not contain any TooltipEvent data\n",
      "Error: SmartyxD.txt does not contain any TooltipEvent data\n",
      "Error: Sower_.txt does not contain any TooltipEvent data\n",
      "Error: Lord_Weibull.txt does not contain any TooltipEvent data\n",
      "Error: Scuprum.txt does not contain any TooltipEvent data\n",
      "Error: Dubbly.txt does not contain any TooltipEvent data\n",
      "Error: bikop.txt does not contain any TooltipEvent data\n",
      "Error: destr0yed_.txt does not contain any TooltipEvent data\n",
      "Pferderennen processed\n",
      "['__egE.txt', 'Tammywood.txt', 'BunnyKiko.txt', 'SpeckyCut.txt', 'Hyxeed.txt', 'demiu.txt', 'SpinCrafter.txt', 'NanamiElvi.txt', '_n3d.txt', 'Sebi1801.txt', 'JayMinInSane.txt', 'Persidieus.txt', 'N3XV.txt', 'Wissender.txt', 'Gryzes.txt', 'jimmi4Life.txt', 'Gobo9.txt', 'Anni808.txt', 'LeWi_100.txt', '_Waldi_.txt', 'Grapfen.txt', 'PixlNight.txt', 'dossantosaveiro_.txt', 'agowskyy.txt', 'TheBreadHD.txt', 'Axollotel.txt', 'T_Niko_T.txt', 'Vanillinchen.txt', 'Odlaa.txt', 'D4rkCookie.txt', 'yzvm.txt', 'Tim_Voltia.txt', 'xBaumeisterin.txt', 'Ungluecklicher.txt', 'Lutorix.txt', 'Ninivee.txt', 'ArthurAlchemist.txt', 'redbrll.txt', 'Gfrasti.txt', 'Muniix.txt', 'Tomiokey.txt', 'Carl1_1.txt', 'DerAutist.txt', 'PolizeiDreamy.txt', 'xX_Dima_ggg_Xx6.txt', 'Falke23_5.txt', 'TheFabo.txt', 'DieserBear.txt', 'Picutar.txt', '2B9.txt', 'Schmaarek.txt', 'musi1999.txt', 'PumiTheCat.txt', 'HerrDante.txt', 'KakaMC.txt', 'StaudammAusHolz.txt', 'Lelouch610.txt', 'Kyuudo.txt', 'twitchparaskiill.txt', 'G0at3D.txt', 'SecretAgent_K.txt', 'KMaxN.txt', 'Sey__.txt', 'ForceFox.txt', 'toxicplace.txt', 'Gestimus.txt', 'yachayubin.txt', 'Wolkenfarmer.txt', 'y9nic.txt', 'KINT0.txt', 'zBro.txt', 'qriezmannsOpa.txt', 'Harold_Sensemann.txt', 'Pedrozockt.txt', 'MrNulfred.txt', 'Cytoox.txt', 'IchHolzDichWeg.txt', 'GingerTeddy.txt', 'Kopfradio.txt', 'loukrativ.txt', 'M0osebumps.txt', 'SmartyxD.txt', 'Kokochampo.txt', 'JennieKim.txt', 'Umgfoin.txt', 'ffawks.txt', 'byTobi.txt', 'Shiewk.txt', 'La_meleagro.txt', 'Squashgitter333.txt', 'Luxemburq.txt', 'DarkCobweb.txt', 'Sackkerl.txt', 'Sthyq.txt', 'Acidey.txt', 'Laaaachs.txt', 'HerosHD.txt', 'Lennart0911.txt', 'Gerrygames.txt', 'BusinessBent.txt', 'Simlll.txt', 'YBCM.txt', 'Txlentierter.txt', 'Dat_Klan.txt', 'Luis_XYZ.txt', 'NiklasMoWo.txt', 'MaxMitMaulkorb.txt', 'Oronor.txt', 'GamemasterNiki.txt', 'LordAlexos.txt', 'Pluto28.txt', 'GrafikKatze.txt', '_Einfallslos_.txt', 'cediiiiii_10.txt', 'Dokkkkko.txt', 'deadfiight.txt', 'Kanickelul.txt', 'crocodile1870.txt', 'Sower_.txt', 'Steavn.txt', 'EinfachEazy.txt', 'yiiq.txt', 'NotLennart.txt', 'Snitcherella.txt', 'Keenaai.txt', 'xd_Maiky.txt', 'ReichesBrot.txt', 'lolisamasan.txt', 'Raefinzs.txt', 'JOW24.txt', 'ByNetherdude.txt', 'ZweitesIch.txt', 'frutigall.txt', 'LilFueller.txt', 'xiooh.txt', 'rotmann2.txt', 'FlyingKyubi.txt', 'Joy_8oy.txt', 'BauHD.txt', 'CML_Justin.txt', 'MoZadaTV.txt', 'BastiGHG.txt', 'Gummibearchen.txt', 'Lord_Weibull.txt', 'VendasTM.txt', 'Stockinqs.txt', 'GlowyDusk.txt', 'Scuprum.txt', 'h4nnes.txt', 'cheesecake2901.txt', 'DrSpeed06.txt', 'Krusti.txt', 'marbrueck.txt', 'Vacted.txt', 'Janne4k.txt', 'Bartschii.txt', 'Mansuni.txt', 'SB387.txt', 'medisant.txt', 'Phoenix3000.txt', 'JOW23.txt', 'Ritokii.txt', 'Juti0n.txt', 'lvlaurin.txt', 'Bikoop.txt', 'FrozenNoah.txt', 'GeneralEnte06.txt', 'Dubbly.txt', 'revolverz.txt', 'Highsay.txt', 'ScreamingBlatz.txt', 'RyanxCole.txt', 'shellny.txt', 'TheKillerisback.txt', 'M0orey_0.txt', 'Mincheeen.txt', '2wc.txt', 'Feinberg.txt', 'Navex.txt', 'NewNormal0947.txt', 'Teesily.txt', 'SiLoHB.txt', 'Morittz.txt', 'cxl1lo.txt', 'LeMetin_.txt', 'unausgesprochen.txt', 'Freeeedom.txt', 'miridis41.txt', 'Joe3346.txt', 'Lingex.txt', 'xX_Masha_ggg_Xx9.txt', 'Julius16.txt', 'lizsyy.txt', 'camman18YT.txt', 'Jan2220.txt', 'Falke_01.txt', 'DaVinci_Son.txt', 'SatzdesPytag0ras.txt', 'Flitzi_Dino.txt', 'Wienerisch.txt', 'Seemops_8.txt', 'GermanPie.txt', 'chrisihalt.txt', 'FluffyDragon2007.txt', 'LucaaOn.txt', 'Allooy.txt', 'Chander24.txt', 'Fflopse.txt', 'bikop.txt', 'vKito.txt', 'bawskey.txt', 'RasenLP.txt', 'WirdNichtGeladen.txt', 'WuschigesEtwas.txt', 'OutcroYoutube.txt', 'HeIsJustAPoorBoy.txt', 'FlyingAutismus.txt', 'destr0yed_.txt', 'Ex4cted.txt', 'Mvsk_.txt', 'MaxOnTheRoad.txt', 'swiffle.txt', 'juvona.txt', 'Lubottus.txt', 'Nervigerr.txt', 'lolisamakun.txt', 'Martomias.txt', '20LeRe10.txt']\n",
      "processing Drachenflucht...\n",
      "Error: Tammywood.txt does not contain any TooltipEvent data\n",
      "Error: demiu.txt does not contain any TooltipEvent data\n",
      "Error: JayMinInSane.txt does not contain any TooltipEvent data\n",
      "Error: KINT0.txt does not contain any TooltipEvent data\n",
      "Error: SmartyxD.txt does not contain any TooltipEvent data\n",
      "Error: Sower_.txt does not contain any TooltipEvent data\n",
      "Error: Lord_Weibull.txt does not contain any TooltipEvent data\n",
      "Error: Scuprum.txt does not contain any TooltipEvent data\n",
      "Error: Dubbly.txt does not contain any TooltipEvent data\n",
      "Error: bikop.txt does not contain any TooltipEvent data\n",
      "Error: destr0yed_.txt does not contain any TooltipEvent data\n",
      "Drachenflucht processed\n",
      "['__egE.txt', 'Tammywood.txt', 'BunnyKiko.txt', 'SpeckyCut.txt', 'Hyxeed.txt', 'demiu.txt', 'SpinCrafter.txt', 'NanamiElvi.txt', '_n3d.txt', 'Sebi1801.txt', 'JayMinInSane.txt', 'Persidieus.txt', 'N3XV.txt', 'Wissender.txt', 'Gryzes.txt', 'jimmi4Life.txt', 'Gobo9.txt', 'Anni808.txt', 'LeWi_100.txt', '_Waldi_.txt', 'Grapfen.txt', 'PixlNight.txt', 'dossantosaveiro_.txt', 'agowskyy.txt', 'TheBreadHD.txt', 'Axollotel.txt', 'T_Niko_T.txt', 'Vanillinchen.txt', 'Odlaa.txt', 'D4rkCookie.txt', 'yzvm.txt', 'Tim_Voltia.txt', 'xBaumeisterin.txt', 'Ungluecklicher.txt', 'Lutorix.txt', 'Ninivee.txt', 'ArthurAlchemist.txt', 'redbrll.txt', 'Gfrasti.txt', 'Muniix.txt', 'Tomiokey.txt', 'Carl1_1.txt', 'DerAutist.txt', 'PolizeiDreamy.txt', 'xX_Dima_ggg_Xx6.txt', 'Falke23_5.txt', 'TheFabo.txt', 'DieserBear.txt', 'Picutar.txt', '2B9.txt', 'Schmaarek.txt', 'musi1999.txt', 'PumiTheCat.txt', 'HerrDante.txt', 'KakaMC.txt', 'StaudammAusHolz.txt', 'Lelouch610.txt', 'Kyuudo.txt', 'twitchparaskiill.txt', 'G0at3D.txt', 'SecretAgent_K.txt', 'KMaxN.txt', 'Sey__.txt', 'ForceFox.txt', 'toxicplace.txt', 'Gestimus.txt', 'yachayubin.txt', 'Wolkenfarmer.txt', 'y9nic.txt', 'KINT0.txt', 'zBro.txt', 'qriezmannsOpa.txt', 'Harold_Sensemann.txt', 'Pedrozockt.txt', 'MrNulfred.txt', 'Cytoox.txt', 'IchHolzDichWeg.txt', 'GingerTeddy.txt', 'Kopfradio.txt', 'loukrativ.txt', 'M0osebumps.txt', 'SmartyxD.txt', 'Kokochampo.txt', 'JennieKim.txt', 'Umgfoin.txt', 'ffawks.txt', 'byTobi.txt', 'Shiewk.txt', 'La_meleagro.txt', 'Squashgitter333.txt', 'Luxemburq.txt', 'DarkCobweb.txt', 'Sackkerl.txt', 'Sthyq.txt', 'Acidey.txt', 'Laaaachs.txt', 'HerosHD.txt', 'Lennart0911.txt', 'Gerrygames.txt', 'BusinessBent.txt', 'Simlll.txt', 'YBCM.txt', 'Txlentierter.txt', 'Dat_Klan.txt', 'Luis_XYZ.txt', 'NiklasMoWo.txt', 'MaxMitMaulkorb.txt', 'Oronor.txt', 'GamemasterNiki.txt', 'LordAlexos.txt', 'Pluto28.txt', 'GrafikKatze.txt', '_Einfallslos_.txt', 'cediiiiii_10.txt', 'Dokkkkko.txt', 'deadfiight.txt', 'Kanickelul.txt', 'crocodile1870.txt', 'Sower_.txt', 'Steavn.txt', 'EinfachEazy.txt', 'yiiq.txt', 'NotLennart.txt', 'Snitcherella.txt', 'Keenaai.txt', 'xd_Maiky.txt', 'ReichesBrot.txt', 'lolisamasan.txt', 'Raefinzs.txt', 'JOW24.txt', 'ByNetherdude.txt', 'ZweitesIch.txt', 'frutigall.txt', 'LilFueller.txt', 'xiooh.txt', 'rotmann2.txt', 'FlyingKyubi.txt', 'Joy_8oy.txt', 'BauHD.txt', 'CML_Justin.txt', 'MoZadaTV.txt', 'BastiGHG.txt', 'Gummibearchen.txt', 'Lord_Weibull.txt', 'VendasTM.txt', 'Stockinqs.txt', 'GlowyDusk.txt', 'Scuprum.txt', 'h4nnes.txt', 'cheesecake2901.txt', 'DrSpeed06.txt', 'Krusti.txt', 'marbrueck.txt', 'Vacted.txt', 'Janne4k.txt', 'Bartschii.txt', 'Mansuni.txt', 'SB387.txt', 'medisant.txt', 'Phoenix3000.txt', 'JOW23.txt', 'Ritokii.txt', 'Juti0n.txt', 'lvlaurin.txt', 'Bikoop.txt', 'FrozenNoah.txt', 'GeneralEnte06.txt', 'Dubbly.txt', 'revolverz.txt', 'Highsay.txt', 'ScreamingBlatz.txt', 'RyanxCole.txt', 'shellny.txt', 'TheKillerisback.txt', 'M0orey_0.txt', 'Mincheeen.txt', '2wc.txt', 'Feinberg.txt', 'Navex.txt', 'NewNormal0947.txt', 'Teesily.txt', 'SiLoHB.txt', 'Morittz.txt', 'cxl1lo.txt', 'LeMetin_.txt', 'unausgesprochen.txt', 'Freeeedom.txt', 'miridis41.txt', 'Joe3346.txt', 'Lingex.txt', 'xX_Masha_ggg_Xx9.txt', 'Julius16.txt', 'lizsyy.txt', 'camman18YT.txt', 'Jan2220.txt', 'Falke_01.txt', 'DaVinci_Son.txt', 'SatzdesPytag0ras.txt', 'Flitzi_Dino.txt', 'Wienerisch.txt', 'Seemops_8.txt', 'GermanPie.txt', 'chrisihalt.txt', 'FluffyDragon2007.txt', 'LucaaOn.txt', 'Allooy.txt', 'Chander24.txt', 'Fflopse.txt', 'bikop.txt', 'vKito.txt', 'bawskey.txt', 'RasenLP.txt', 'WirdNichtGeladen.txt', 'WuschigesEtwas.txt', 'OutcroYoutube.txt', 'HeIsJustAPoorBoy.txt', 'FlyingAutismus.txt', 'destr0yed_.txt', 'Ex4cted.txt', 'Mvsk_.txt', 'MaxOnTheRoad.txt', 'swiffle.txt', 'juvona.txt', 'Lubottus.txt', 'Nervigerr.txt', 'lolisamakun.txt', 'Martomias.txt', '20LeRe10.txt']\n",
      "processing Replika...\n",
      "Error: Tammywood.txt does not contain any TooltipEvent data\n",
      "Error: demiu.txt does not contain any TooltipEvent data\n",
      "Error: JayMinInSane.txt does not contain any TooltipEvent data\n",
      "Error: KINT0.txt does not contain any TooltipEvent data\n",
      "Error: SmartyxD.txt does not contain any TooltipEvent data\n",
      "Error: Sower_.txt does not contain any TooltipEvent data\n",
      "Error: Lord_Weibull.txt does not contain any TooltipEvent data\n",
      "Error: Scuprum.txt does not contain any TooltipEvent data\n",
      "Error: Dubbly.txt does not contain any TooltipEvent data\n",
      "Error: bikop.txt does not contain any TooltipEvent data\n",
      "Error: destr0yed_.txt does not contain any TooltipEvent data\n",
      "Replika processed\n",
      "['__egE.txt', 'Tammywood.txt', 'BunnyKiko.txt', 'SpeckyCut.txt', 'Hyxeed.txt', 'demiu.txt', 'SpinCrafter.txt', 'NanamiElvi.txt', '_n3d.txt', 'Sebi1801.txt', 'JayMinInSane.txt', 'Persidieus.txt', 'N3XV.txt', 'Wissender.txt', 'Gryzes.txt', 'jimmi4Life.txt', 'Gobo9.txt', 'Anni808.txt', 'LeWi_100.txt', '_Waldi_.txt', 'Grapfen.txt', 'PixlNight.txt', 'dossantosaveiro_.txt', 'agowskyy.txt', 'TheBreadHD.txt', 'Axollotel.txt', 'T_Niko_T.txt', 'Vanillinchen.txt', 'Odlaa.txt', 'D4rkCookie.txt', 'yzvm.txt', 'Tim_Voltia.txt', 'xBaumeisterin.txt', 'Ungluecklicher.txt', 'Lutorix.txt', 'Ninivee.txt', 'ArthurAlchemist.txt', 'redbrll.txt', 'Gfrasti.txt', 'Muniix.txt', 'Tomiokey.txt', 'Carl1_1.txt', 'DerAutist.txt', 'PolizeiDreamy.txt', 'xX_Dima_ggg_Xx6.txt', 'Falke23_5.txt', 'TheFabo.txt', 'DieserBear.txt', 'Picutar.txt', '2B9.txt', 'Schmaarek.txt', 'musi1999.txt', 'PumiTheCat.txt', 'HerrDante.txt', 'KakaMC.txt', 'StaudammAusHolz.txt', 'Lelouch610.txt', 'Kyuudo.txt', 'twitchparaskiill.txt', 'G0at3D.txt', 'SecretAgent_K.txt', 'KMaxN.txt', 'Sey__.txt', 'ForceFox.txt', 'toxicplace.txt', 'Gestimus.txt', 'yachayubin.txt', 'Wolkenfarmer.txt', 'y9nic.txt', 'KINT0.txt', 'zBro.txt', 'qriezmannsOpa.txt', 'Harold_Sensemann.txt', 'Pedrozockt.txt', 'MrNulfred.txt', 'Cytoox.txt', 'IchHolzDichWeg.txt', 'GingerTeddy.txt', 'Kopfradio.txt', 'loukrativ.txt', 'M0osebumps.txt', 'SmartyxD.txt', 'Kokochampo.txt', 'JennieKim.txt', 'Umgfoin.txt', 'ffawks.txt', 'byTobi.txt', 'Shiewk.txt', 'La_meleagro.txt', 'Squashgitter333.txt', 'Luxemburq.txt', 'DarkCobweb.txt', 'Sackkerl.txt', 'Sthyq.txt', 'Acidey.txt', 'Laaaachs.txt', 'HerosHD.txt', 'Lennart0911.txt', 'Gerrygames.txt', 'BusinessBent.txt', 'Simlll.txt', 'YBCM.txt', 'Txlentierter.txt', 'Dat_Klan.txt', 'Luis_XYZ.txt', 'NiklasMoWo.txt', 'MaxMitMaulkorb.txt', 'Oronor.txt', 'GamemasterNiki.txt', 'LordAlexos.txt', 'Pluto28.txt', 'GrafikKatze.txt', '_Einfallslos_.txt', 'cediiiiii_10.txt', 'Dokkkkko.txt', 'deadfiight.txt', 'Kanickelul.txt', 'crocodile1870.txt', 'Sower_.txt', 'Steavn.txt', 'EinfachEazy.txt', 'yiiq.txt', 'NotLennart.txt', 'Snitcherella.txt', 'Keenaai.txt', 'xd_Maiky.txt', 'ReichesBrot.txt', 'lolisamasan.txt', 'Raefinzs.txt', 'JOW24.txt', 'ByNetherdude.txt', 'ZweitesIch.txt', 'frutigall.txt', 'LilFueller.txt', 'xiooh.txt', 'rotmann2.txt', 'FlyingKyubi.txt', 'Joy_8oy.txt', 'BauHD.txt', 'CML_Justin.txt', 'MoZadaTV.txt', 'BastiGHG.txt', 'Gummibearchen.txt', 'Lord_Weibull.txt', 'VendasTM.txt', 'Stockinqs.txt', 'GlowyDusk.txt', 'Scuprum.txt', 'h4nnes.txt', 'cheesecake2901.txt', 'DrSpeed06.txt', 'Krusti.txt', 'marbrueck.txt', 'Vacted.txt', 'Janne4k.txt', 'Bartschii.txt', 'Mansuni.txt', 'SB387.txt', 'medisant.txt', 'Phoenix3000.txt', 'JOW23.txt', 'Ritokii.txt', 'Juti0n.txt', 'lvlaurin.txt', 'Bikoop.txt', 'FrozenNoah.txt', 'GeneralEnte06.txt', 'Dubbly.txt', 'revolverz.txt', 'Highsay.txt', 'ScreamingBlatz.txt', 'RyanxCole.txt', 'shellny.txt', 'TheKillerisback.txt', 'M0orey_0.txt', 'Mincheeen.txt', '2wc.txt', 'Feinberg.txt', 'Navex.txt', 'NewNormal0947.txt', 'Teesily.txt', 'SiLoHB.txt', 'Morittz.txt', 'cxl1lo.txt', 'LeMetin_.txt', 'unausgesprochen.txt', 'Freeeedom.txt', 'miridis41.txt', 'Joe3346.txt', 'Lingex.txt', 'xX_Masha_ggg_Xx9.txt', 'Julius16.txt', 'lizsyy.txt', 'camman18YT.txt', 'Jan2220.txt', 'Falke_01.txt', 'DaVinci_Son.txt', 'SatzdesPytag0ras.txt', 'Flitzi_Dino.txt', 'Wienerisch.txt', 'Seemops_8.txt', 'GermanPie.txt', 'chrisihalt.txt', 'FluffyDragon2007.txt', 'LucaaOn.txt', 'Allooy.txt', 'Chander24.txt', 'Fflopse.txt', 'bikop.txt', 'vKito.txt', 'bawskey.txt', 'RasenLP.txt', 'WirdNichtGeladen.txt', 'WuschigesEtwas.txt', 'OutcroYoutube.txt', 'HeIsJustAPoorBoy.txt', 'FlyingAutismus.txt', 'destr0yed_.txt', 'Ex4cted.txt', 'Mvsk_.txt', 'MaxOnTheRoad.txt', 'swiffle.txt', 'juvona.txt', 'Lubottus.txt', 'Nervigerr.txt', 'lolisamakun.txt', 'Martomias.txt', '20LeRe10.txt']\n",
      "processing Todeswürfel...\n",
      "Error: Tammywood.txt does not contain any TooltipEvent data\n",
      "Error: demiu.txt does not contain any TooltipEvent data\n",
      "Error: JayMinInSane.txt does not contain any TooltipEvent data\n",
      "Error: KINT0.txt does not contain any TooltipEvent data\n",
      "Error: SmartyxD.txt does not contain any TooltipEvent data\n",
      "Error: Sower_.txt does not contain any TooltipEvent data\n",
      "Error: Lord_Weibull.txt does not contain any TooltipEvent data\n",
      "Error: Scuprum.txt does not contain any TooltipEvent data\n",
      "Error: Dubbly.txt does not contain any TooltipEvent data\n",
      "Error: bikop.txt does not contain any TooltipEvent data\n",
      "Error: destr0yed_.txt does not contain any TooltipEvent data\n",
      "Todeswürfel processed\n",
      "['__egE.txt', 'Tammywood.txt', 'BunnyKiko.txt', 'SpeckyCut.txt', 'Hyxeed.txt', 'demiu.txt', 'SpinCrafter.txt', 'NanamiElvi.txt', '_n3d.txt', 'Sebi1801.txt', 'JayMinInSane.txt', 'Persidieus.txt', 'N3XV.txt', 'Wissender.txt', 'Gryzes.txt', 'jimmi4Life.txt', 'Gobo9.txt', 'Anni808.txt', 'LeWi_100.txt', '_Waldi_.txt', 'Grapfen.txt', 'PixlNight.txt', 'dossantosaveiro_.txt', 'agowskyy.txt', 'TheBreadHD.txt', 'Axollotel.txt', 'T_Niko_T.txt', 'Vanillinchen.txt', 'Odlaa.txt', 'D4rkCookie.txt', 'yzvm.txt', 'Tim_Voltia.txt', 'xBaumeisterin.txt', 'Ungluecklicher.txt', 'Lutorix.txt', 'Ninivee.txt', 'ArthurAlchemist.txt', 'redbrll.txt', 'Gfrasti.txt', 'Muniix.txt', 'Tomiokey.txt', 'Carl1_1.txt', 'DerAutist.txt', 'PolizeiDreamy.txt', 'xX_Dima_ggg_Xx6.txt', 'Falke23_5.txt', 'TheFabo.txt', 'DieserBear.txt', 'Picutar.txt', '2B9.txt', 'Schmaarek.txt', 'musi1999.txt', 'PumiTheCat.txt', 'HerrDante.txt', 'KakaMC.txt', 'StaudammAusHolz.txt', 'Lelouch610.txt', 'Kyuudo.txt', 'twitchparaskiill.txt', 'G0at3D.txt', 'SecretAgent_K.txt', 'KMaxN.txt', 'Sey__.txt', 'ForceFox.txt', 'toxicplace.txt', 'Gestimus.txt', 'yachayubin.txt', 'Wolkenfarmer.txt', 'y9nic.txt', 'KINT0.txt', 'zBro.txt', 'qriezmannsOpa.txt', 'Harold_Sensemann.txt', 'Pedrozockt.txt', 'MrNulfred.txt', 'Cytoox.txt', 'IchHolzDichWeg.txt', 'GingerTeddy.txt', 'Kopfradio.txt', 'loukrativ.txt', 'M0osebumps.txt', 'SmartyxD.txt', 'Kokochampo.txt', 'JennieKim.txt', 'Umgfoin.txt', 'ffawks.txt', 'byTobi.txt', 'Shiewk.txt', 'La_meleagro.txt', 'Squashgitter333.txt', 'Luxemburq.txt', 'DarkCobweb.txt', 'Sackkerl.txt', 'Sthyq.txt', 'Acidey.txt', 'Laaaachs.txt', 'HerosHD.txt', 'Lennart0911.txt', 'Gerrygames.txt', 'BusinessBent.txt', 'Simlll.txt', 'YBCM.txt', 'Txlentierter.txt', 'Dat_Klan.txt', 'Luis_XYZ.txt', 'NiklasMoWo.txt', 'MaxMitMaulkorb.txt', 'Oronor.txt', 'GamemasterNiki.txt', 'LordAlexos.txt', 'Pluto28.txt', 'GrafikKatze.txt', '_Einfallslos_.txt', 'cediiiiii_10.txt', 'Dokkkkko.txt', 'deadfiight.txt', 'Kanickelul.txt', 'crocodile1870.txt', 'Sower_.txt', 'Steavn.txt', 'EinfachEazy.txt', 'yiiq.txt', 'NotLennart.txt', 'Snitcherella.txt', 'Keenaai.txt', 'xd_Maiky.txt', 'ReichesBrot.txt', 'lolisamasan.txt', 'Raefinzs.txt', 'JOW24.txt', 'ByNetherdude.txt', 'ZweitesIch.txt', 'frutigall.txt', 'LilFueller.txt', 'xiooh.txt', 'rotmann2.txt', 'FlyingKyubi.txt', 'Joy_8oy.txt', 'BauHD.txt', 'CML_Justin.txt', 'MoZadaTV.txt', 'BastiGHG.txt', 'Gummibearchen.txt', 'Lord_Weibull.txt', 'VendasTM.txt', 'Stockinqs.txt', 'GlowyDusk.txt', 'Scuprum.txt', 'h4nnes.txt', 'cheesecake2901.txt', 'DrSpeed06.txt', 'Krusti.txt', 'marbrueck.txt', 'Vacted.txt', 'Janne4k.txt', 'Bartschii.txt', 'Mansuni.txt', 'SB387.txt', 'medisant.txt', 'Phoenix3000.txt', 'JOW23.txt', 'Ritokii.txt', 'Juti0n.txt', 'lvlaurin.txt', 'Bikoop.txt', 'FrozenNoah.txt', 'GeneralEnte06.txt', 'Dubbly.txt', 'revolverz.txt', 'Highsay.txt', 'ScreamingBlatz.txt', 'RyanxCole.txt', 'shellny.txt', 'TheKillerisback.txt', 'M0orey_0.txt', 'Mincheeen.txt', '2wc.txt', 'Feinberg.txt', 'Navex.txt', 'NewNormal0947.txt', 'Teesily.txt', 'SiLoHB.txt', 'Morittz.txt', 'cxl1lo.txt', 'LeMetin_.txt', 'unausgesprochen.txt', 'Freeeedom.txt', 'miridis41.txt', 'Joe3346.txt', 'Lingex.txt', 'xX_Masha_ggg_Xx9.txt', 'Julius16.txt', 'lizsyy.txt', 'camman18YT.txt', 'Jan2220.txt', 'Falke_01.txt', 'DaVinci_Son.txt', 'SatzdesPytag0ras.txt', 'Flitzi_Dino.txt', 'Wienerisch.txt', 'Seemops_8.txt', 'GermanPie.txt', 'chrisihalt.txt', 'FluffyDragon2007.txt', 'LucaaOn.txt', 'Allooy.txt', 'Chander24.txt', 'Fflopse.txt', 'bikop.txt', 'vKito.txt', 'bawskey.txt', 'RasenLP.txt', 'WirdNichtGeladen.txt', 'WuschigesEtwas.txt', 'OutcroYoutube.txt', 'HeIsJustAPoorBoy.txt', 'FlyingAutismus.txt', 'destr0yed_.txt', 'Ex4cted.txt', 'Mvsk_.txt', 'MaxOnTheRoad.txt', 'swiffle.txt', 'juvona.txt', 'Lubottus.txt', 'Nervigerr.txt', 'lolisamakun.txt', 'Martomias.txt', '20LeRe10.txt']\n",
      "processing Freier Fall...\n",
      "Error: Tammywood.txt does not contain any TooltipEvent data\n",
      "Error: demiu.txt does not contain any TooltipEvent data\n",
      "Error: JayMinInSane.txt does not contain any TooltipEvent data\n",
      "Error: KINT0.txt does not contain any TooltipEvent data\n",
      "Error: SmartyxD.txt does not contain any TooltipEvent data\n",
      "Error: Sower_.txt does not contain any TooltipEvent data\n",
      "Error: Lord_Weibull.txt does not contain any TooltipEvent data\n",
      "Error: Scuprum.txt does not contain any TooltipEvent data\n",
      "Error: Dubbly.txt does not contain any TooltipEvent data\n",
      "Error: bikop.txt does not contain any TooltipEvent data\n",
      "Error: destr0yed_.txt does not contain any TooltipEvent data\n",
      "Freier Fall processed\n",
      "['__egE.txt', 'Tammywood.txt', 'BunnyKiko.txt', 'SpeckyCut.txt', 'Hyxeed.txt', 'demiu.txt', 'SpinCrafter.txt', 'NanamiElvi.txt', '_n3d.txt', 'Sebi1801.txt', 'JayMinInSane.txt', 'Persidieus.txt', 'N3XV.txt', 'Wissender.txt', 'Gryzes.txt', 'jimmi4Life.txt', 'Gobo9.txt', 'Anni808.txt', 'LeWi_100.txt', '_Waldi_.txt', 'Grapfen.txt', 'PixlNight.txt', 'dossantosaveiro_.txt', 'agowskyy.txt', 'TheBreadHD.txt', 'Axollotel.txt', 'T_Niko_T.txt', 'Vanillinchen.txt', 'Odlaa.txt', 'D4rkCookie.txt', 'yzvm.txt', 'Tim_Voltia.txt', 'xBaumeisterin.txt', 'Ungluecklicher.txt', 'Lutorix.txt', 'Ninivee.txt', 'ArthurAlchemist.txt', 'redbrll.txt', 'Gfrasti.txt', 'Muniix.txt', 'Tomiokey.txt', 'Carl1_1.txt', 'DerAutist.txt', 'PolizeiDreamy.txt', 'xX_Dima_ggg_Xx6.txt', 'Falke23_5.txt', 'TheFabo.txt', 'DieserBear.txt', 'Picutar.txt', '2B9.txt', 'Schmaarek.txt', 'musi1999.txt', 'PumiTheCat.txt', 'HerrDante.txt', 'KakaMC.txt', 'StaudammAusHolz.txt', 'Lelouch610.txt', 'Kyuudo.txt', 'twitchparaskiill.txt', 'G0at3D.txt', 'SecretAgent_K.txt', 'KMaxN.txt', 'Sey__.txt', 'ForceFox.txt', 'toxicplace.txt', 'Gestimus.txt', 'yachayubin.txt', 'Wolkenfarmer.txt', 'y9nic.txt', 'KINT0.txt', 'zBro.txt', 'qriezmannsOpa.txt', 'Harold_Sensemann.txt', 'Pedrozockt.txt', 'MrNulfred.txt', 'Cytoox.txt', 'IchHolzDichWeg.txt', 'GingerTeddy.txt', 'Kopfradio.txt', 'loukrativ.txt', 'M0osebumps.txt', 'SmartyxD.txt', 'Kokochampo.txt', 'JennieKim.txt', 'Umgfoin.txt', 'ffawks.txt', 'byTobi.txt', 'Shiewk.txt', 'La_meleagro.txt', 'Squashgitter333.txt', 'Luxemburq.txt', 'DarkCobweb.txt', 'Sackkerl.txt', 'Sthyq.txt', 'Acidey.txt', 'Laaaachs.txt', 'HerosHD.txt', 'Lennart0911.txt', 'Gerrygames.txt', 'BusinessBent.txt', 'Simlll.txt', 'YBCM.txt', 'Txlentierter.txt', 'Dat_Klan.txt', 'Luis_XYZ.txt', 'NiklasMoWo.txt', 'MaxMitMaulkorb.txt', 'Oronor.txt', 'GamemasterNiki.txt', 'LordAlexos.txt', 'Pluto28.txt', 'GrafikKatze.txt', '_Einfallslos_.txt', 'cediiiiii_10.txt', 'Dokkkkko.txt', 'deadfiight.txt', 'Kanickelul.txt', 'crocodile1870.txt', 'Sower_.txt', 'Steavn.txt', 'EinfachEazy.txt', 'yiiq.txt', 'NotLennart.txt', 'Snitcherella.txt', 'Keenaai.txt', 'xd_Maiky.txt', 'ReichesBrot.txt', 'lolisamasan.txt', 'Raefinzs.txt', 'JOW24.txt', 'ByNetherdude.txt', 'ZweitesIch.txt', 'frutigall.txt', 'LilFueller.txt', 'xiooh.txt', 'rotmann2.txt', 'FlyingKyubi.txt', 'Joy_8oy.txt', 'BauHD.txt', 'CML_Justin.txt', 'MoZadaTV.txt', 'BastiGHG.txt', 'Gummibearchen.txt', 'Lord_Weibull.txt', 'VendasTM.txt', 'Stockinqs.txt', 'GlowyDusk.txt', 'Scuprum.txt', 'h4nnes.txt', 'cheesecake2901.txt', 'DrSpeed06.txt', 'Krusti.txt', 'marbrueck.txt', 'Vacted.txt', 'Janne4k.txt', 'Bartschii.txt', 'Mansuni.txt', 'SB387.txt', 'medisant.txt', 'Phoenix3000.txt', 'JOW23.txt', 'Ritokii.txt', 'Juti0n.txt', 'lvlaurin.txt', 'Bikoop.txt', 'FrozenNoah.txt', 'GeneralEnte06.txt', 'Dubbly.txt', 'revolverz.txt', 'Highsay.txt', 'ScreamingBlatz.txt', 'RyanxCole.txt', 'shellny.txt', 'TheKillerisback.txt', 'M0orey_0.txt', 'Mincheeen.txt', '2wc.txt', 'Feinberg.txt', 'Navex.txt', 'NewNormal0947.txt', 'Teesily.txt', 'SiLoHB.txt', 'Morittz.txt', 'cxl1lo.txt', 'LeMetin_.txt', 'unausgesprochen.txt', 'Freeeedom.txt', 'miridis41.txt', 'Joe3346.txt', 'Lingex.txt', 'xX_Masha_ggg_Xx9.txt', 'Julius16.txt', 'lizsyy.txt', 'camman18YT.txt', 'Jan2220.txt', 'Falke_01.txt', 'DaVinci_Son.txt', 'SatzdesPytag0ras.txt', 'Flitzi_Dino.txt', 'Wienerisch.txt', 'Seemops_8.txt', 'GermanPie.txt', 'chrisihalt.txt', 'FluffyDragon2007.txt', 'LucaaOn.txt', 'Allooy.txt', 'Chander24.txt', 'Fflopse.txt', 'bikop.txt', 'vKito.txt', 'bawskey.txt', 'RasenLP.txt', 'WirdNichtGeladen.txt', 'WuschigesEtwas.txt', 'OutcroYoutube.txt', 'HeIsJustAPoorBoy.txt', 'FlyingAutismus.txt', 'destr0yed_.txt', 'Ex4cted.txt', 'Mvsk_.txt', 'MaxOnTheRoad.txt', 'swiffle.txt', 'juvona.txt', 'Lubottus.txt', 'Nervigerr.txt', 'lolisamakun.txt', 'Martomias.txt', '20LeRe10.txt']\n",
      "processing Elytrarennen...\n",
      "Error: Tammywood.txt does not contain any TooltipEvent data\n",
      "Error: demiu.txt does not contain any TooltipEvent data\n",
      "Error: JayMinInSane.txt does not contain any TooltipEvent data\n",
      "Error: KINT0.txt does not contain any TooltipEvent data\n",
      "Error: SmartyxD.txt does not contain any TooltipEvent data\n",
      "Error: Sower_.txt does not contain any TooltipEvent data\n",
      "Error: Lord_Weibull.txt does not contain any TooltipEvent data\n",
      "Error: Scuprum.txt does not contain any TooltipEvent data\n",
      "Error: Dubbly.txt does not contain any TooltipEvent data\n",
      "Error: bikop.txt does not contain any TooltipEvent data\n",
      "Error: destr0yed_.txt does not contain any TooltipEvent data\n",
      "Elytrarennen processed\n",
      "['__egE.txt', 'Tammywood.txt', 'BunnyKiko.txt', 'SpeckyCut.txt', 'Hyxeed.txt', 'demiu.txt', 'SpinCrafter.txt', 'NanamiElvi.txt', '_n3d.txt', 'Sebi1801.txt', 'JayMinInSane.txt', 'Persidieus.txt', 'N3XV.txt', 'Wissender.txt', 'Gryzes.txt', 'jimmi4Life.txt', 'Gobo9.txt', 'Anni808.txt', 'LeWi_100.txt', '_Waldi_.txt', 'Grapfen.txt', 'PixlNight.txt', 'dossantosaveiro_.txt', 'agowskyy.txt', 'TheBreadHD.txt', 'Axollotel.txt', 'T_Niko_T.txt', 'Vanillinchen.txt', 'Odlaa.txt', 'D4rkCookie.txt', 'yzvm.txt', 'Tim_Voltia.txt', 'xBaumeisterin.txt', 'Ungluecklicher.txt', 'Lutorix.txt', 'Ninivee.txt', 'ArthurAlchemist.txt', 'redbrll.txt', 'Gfrasti.txt', 'Muniix.txt', 'Tomiokey.txt', 'Carl1_1.txt', 'DerAutist.txt', 'PolizeiDreamy.txt', 'xX_Dima_ggg_Xx6.txt', 'Falke23_5.txt', 'TheFabo.txt', 'DieserBear.txt', 'Picutar.txt', '2B9.txt', 'Schmaarek.txt', 'musi1999.txt', 'PumiTheCat.txt', 'HerrDante.txt', 'KakaMC.txt', 'StaudammAusHolz.txt', 'Lelouch610.txt', 'Kyuudo.txt', 'twitchparaskiill.txt', 'G0at3D.txt', 'SecretAgent_K.txt', 'KMaxN.txt', 'Sey__.txt', 'ForceFox.txt', 'toxicplace.txt', 'Gestimus.txt', 'yachayubin.txt', 'Wolkenfarmer.txt', 'y9nic.txt', 'KINT0.txt', 'zBro.txt', 'qriezmannsOpa.txt', 'Harold_Sensemann.txt', 'Pedrozockt.txt', 'MrNulfred.txt', 'Cytoox.txt', 'IchHolzDichWeg.txt', 'GingerTeddy.txt', 'Kopfradio.txt', 'loukrativ.txt', 'M0osebumps.txt', 'SmartyxD.txt', 'Kokochampo.txt', 'JennieKim.txt', 'Umgfoin.txt', 'ffawks.txt', 'byTobi.txt', 'Shiewk.txt', 'La_meleagro.txt', 'Squashgitter333.txt', 'Luxemburq.txt', 'DarkCobweb.txt', 'Sackkerl.txt', 'Sthyq.txt', 'Acidey.txt', 'Laaaachs.txt', 'HerosHD.txt', 'Lennart0911.txt', 'Gerrygames.txt', 'BusinessBent.txt', 'Simlll.txt', 'YBCM.txt', 'Txlentierter.txt', 'Dat_Klan.txt', 'Luis_XYZ.txt', 'NiklasMoWo.txt', 'MaxMitMaulkorb.txt', 'Oronor.txt', 'GamemasterNiki.txt', 'LordAlexos.txt', 'Pluto28.txt', 'GrafikKatze.txt', '_Einfallslos_.txt', 'cediiiiii_10.txt', 'Dokkkkko.txt', 'deadfiight.txt', 'Kanickelul.txt', 'crocodile1870.txt', 'Sower_.txt', 'Steavn.txt', 'EinfachEazy.txt', 'yiiq.txt', 'NotLennart.txt', 'Snitcherella.txt', 'Keenaai.txt', 'xd_Maiky.txt', 'ReichesBrot.txt', 'lolisamasan.txt', 'Raefinzs.txt', 'JOW24.txt', 'ByNetherdude.txt', 'ZweitesIch.txt', 'frutigall.txt', 'LilFueller.txt', 'xiooh.txt', 'rotmann2.txt', 'FlyingKyubi.txt', 'Joy_8oy.txt', 'BauHD.txt', 'CML_Justin.txt', 'MoZadaTV.txt', 'BastiGHG.txt', 'Gummibearchen.txt', 'Lord_Weibull.txt', 'VendasTM.txt', 'Stockinqs.txt', 'GlowyDusk.txt', 'Scuprum.txt', 'h4nnes.txt', 'cheesecake2901.txt', 'DrSpeed06.txt', 'Krusti.txt', 'marbrueck.txt', 'Vacted.txt', 'Janne4k.txt', 'Bartschii.txt', 'Mansuni.txt', 'SB387.txt', 'medisant.txt', 'Phoenix3000.txt', 'JOW23.txt', 'Ritokii.txt', 'Juti0n.txt', 'lvlaurin.txt', 'Bikoop.txt', 'FrozenNoah.txt', 'GeneralEnte06.txt', 'Dubbly.txt', 'revolverz.txt', 'Highsay.txt', 'ScreamingBlatz.txt', 'RyanxCole.txt', 'shellny.txt', 'TheKillerisback.txt', 'M0orey_0.txt', 'Mincheeen.txt', '2wc.txt', 'Feinberg.txt', 'Navex.txt', 'NewNormal0947.txt', 'Teesily.txt', 'SiLoHB.txt', 'Morittz.txt', 'cxl1lo.txt', 'LeMetin_.txt', 'unausgesprochen.txt', 'Freeeedom.txt', 'miridis41.txt', 'Joe3346.txt', 'Lingex.txt', 'xX_Masha_ggg_Xx9.txt', 'Julius16.txt', 'lizsyy.txt', 'camman18YT.txt', 'Jan2220.txt', 'Falke_01.txt', 'DaVinci_Son.txt', 'SatzdesPytag0ras.txt', 'Flitzi_Dino.txt', 'Wienerisch.txt', 'Seemops_8.txt', 'GermanPie.txt', 'chrisihalt.txt', 'FluffyDragon2007.txt', 'LucaaOn.txt', 'Allooy.txt', 'Chander24.txt', 'Fflopse.txt', 'bikop.txt', 'vKito.txt', 'bawskey.txt', 'RasenLP.txt', 'WirdNichtGeladen.txt', 'WuschigesEtwas.txt', 'OutcroYoutube.txt', 'HeIsJustAPoorBoy.txt', 'FlyingAutismus.txt', 'destr0yed_.txt', 'Ex4cted.txt', 'Mvsk_.txt', 'MaxOnTheRoad.txt', 'swiffle.txt', 'juvona.txt', 'Lubottus.txt', 'Nervigerr.txt', 'lolisamakun.txt', 'Martomias.txt', '20LeRe10.txt']\n",
      "processing Waffenfolge...\n",
      "Error: Tammywood.txt does not contain any TooltipEvent data\n",
      "Error: demiu.txt does not contain any TooltipEvent data\n",
      "Error: JayMinInSane.txt does not contain any TooltipEvent data\n",
      "Error: KINT0.txt does not contain any TooltipEvent data\n",
      "Error: SmartyxD.txt does not contain any TooltipEvent data\n",
      "Error: Sower_.txt does not contain any TooltipEvent data\n",
      "Error: Lord_Weibull.txt does not contain any TooltipEvent data\n",
      "Error: Scuprum.txt does not contain any TooltipEvent data\n",
      "Error: Dubbly.txt does not contain any TooltipEvent data\n",
      "Error: bikop.txt does not contain any TooltipEvent data\n",
      "Error: destr0yed_.txt does not contain any TooltipEvent data\n",
      "Waffenfolge processed\n",
      "['__egE.txt', 'Tammywood.txt', 'BunnyKiko.txt', 'SpeckyCut.txt', 'Hyxeed.txt', 'demiu.txt', 'SpinCrafter.txt', 'NanamiElvi.txt', '_n3d.txt', 'Sebi1801.txt', 'JayMinInSane.txt', 'Persidieus.txt', 'N3XV.txt', 'Wissender.txt', 'Gryzes.txt', 'jimmi4Life.txt', 'Gobo9.txt', 'Anni808.txt', 'LeWi_100.txt', '_Waldi_.txt', 'Grapfen.txt', 'PixlNight.txt', 'dossantosaveiro_.txt', 'agowskyy.txt', 'TheBreadHD.txt', 'Axollotel.txt', 'T_Niko_T.txt', 'Vanillinchen.txt', 'Odlaa.txt', 'D4rkCookie.txt', 'yzvm.txt', 'Tim_Voltia.txt', 'xBaumeisterin.txt', 'Ungluecklicher.txt', 'Lutorix.txt', 'Ninivee.txt', 'ArthurAlchemist.txt', 'redbrll.txt', 'Gfrasti.txt', 'Muniix.txt', 'Tomiokey.txt', 'Carl1_1.txt', 'DerAutist.txt', 'PolizeiDreamy.txt', 'xX_Dima_ggg_Xx6.txt', 'Falke23_5.txt', 'TheFabo.txt', 'DieserBear.txt', 'Picutar.txt', '2B9.txt', 'Schmaarek.txt', 'musi1999.txt', 'PumiTheCat.txt', 'HerrDante.txt', 'KakaMC.txt', 'StaudammAusHolz.txt', 'Lelouch610.txt', 'Kyuudo.txt', 'twitchparaskiill.txt', 'G0at3D.txt', 'SecretAgent_K.txt', 'KMaxN.txt', 'Sey__.txt', 'ForceFox.txt', 'toxicplace.txt', 'Gestimus.txt', 'yachayubin.txt', 'Wolkenfarmer.txt', 'y9nic.txt', 'KINT0.txt', 'zBro.txt', 'qriezmannsOpa.txt', 'Harold_Sensemann.txt', 'Pedrozockt.txt', 'MrNulfred.txt', 'Cytoox.txt', 'IchHolzDichWeg.txt', 'GingerTeddy.txt', 'Kopfradio.txt', 'loukrativ.txt', 'M0osebumps.txt', 'SmartyxD.txt', 'Kokochampo.txt', 'JennieKim.txt', 'Umgfoin.txt', 'ffawks.txt', 'byTobi.txt', 'Shiewk.txt', 'La_meleagro.txt', 'Squashgitter333.txt', 'Luxemburq.txt', 'DarkCobweb.txt', 'Sackkerl.txt', 'Sthyq.txt', 'Acidey.txt', 'Laaaachs.txt', 'HerosHD.txt', 'Lennart0911.txt', 'Gerrygames.txt', 'BusinessBent.txt', 'Simlll.txt', 'YBCM.txt', 'Txlentierter.txt', 'Dat_Klan.txt', 'Luis_XYZ.txt', 'NiklasMoWo.txt', 'MaxMitMaulkorb.txt', 'Oronor.txt', 'GamemasterNiki.txt', 'LordAlexos.txt', 'Pluto28.txt', 'GrafikKatze.txt', '_Einfallslos_.txt', 'cediiiiii_10.txt', 'Dokkkkko.txt', 'deadfiight.txt', 'Kanickelul.txt', 'crocodile1870.txt', 'Sower_.txt', 'Steavn.txt', 'EinfachEazy.txt', 'yiiq.txt', 'NotLennart.txt', 'Snitcherella.txt', 'Keenaai.txt', 'xd_Maiky.txt', 'ReichesBrot.txt', 'lolisamasan.txt', 'Raefinzs.txt', 'JOW24.txt', 'ByNetherdude.txt', 'ZweitesIch.txt', 'frutigall.txt', 'LilFueller.txt', 'xiooh.txt', 'rotmann2.txt', 'FlyingKyubi.txt', 'Joy_8oy.txt', 'BauHD.txt', 'CML_Justin.txt', 'MoZadaTV.txt', 'BastiGHG.txt', 'Gummibearchen.txt', 'Lord_Weibull.txt', 'VendasTM.txt', 'Stockinqs.txt', 'GlowyDusk.txt', 'Scuprum.txt', 'h4nnes.txt', 'cheesecake2901.txt', 'DrSpeed06.txt', 'Krusti.txt', 'marbrueck.txt', 'Vacted.txt', 'Janne4k.txt', 'Bartschii.txt', 'Mansuni.txt', 'SB387.txt', 'medisant.txt', 'Phoenix3000.txt', 'JOW23.txt', 'Ritokii.txt', 'Juti0n.txt', 'lvlaurin.txt', 'Bikoop.txt', 'FrozenNoah.txt', 'GeneralEnte06.txt', 'Dubbly.txt', 'revolverz.txt', 'Highsay.txt', 'ScreamingBlatz.txt', 'RyanxCole.txt', 'shellny.txt', 'TheKillerisback.txt', 'M0orey_0.txt', 'Mincheeen.txt', '2wc.txt', 'Feinberg.txt', 'Navex.txt', 'NewNormal0947.txt', 'Teesily.txt', 'SiLoHB.txt', 'Morittz.txt', 'cxl1lo.txt', 'LeMetin_.txt', 'unausgesprochen.txt', 'Freeeedom.txt', 'miridis41.txt', 'Joe3346.txt', 'Lingex.txt', 'xX_Masha_ggg_Xx9.txt', 'Julius16.txt', 'lizsyy.txt', 'camman18YT.txt', 'Jan2220.txt', 'Falke_01.txt', 'DaVinci_Son.txt', 'SatzdesPytag0ras.txt', 'Flitzi_Dino.txt', 'Wienerisch.txt', 'Seemops_8.txt', 'GermanPie.txt', 'chrisihalt.txt', 'FluffyDragon2007.txt', 'LucaaOn.txt', 'Allooy.txt', 'Chander24.txt', 'Fflopse.txt', 'bikop.txt', 'vKito.txt', 'bawskey.txt', 'RasenLP.txt', 'WirdNichtGeladen.txt', 'WuschigesEtwas.txt', 'OutcroYoutube.txt', 'HeIsJustAPoorBoy.txt', 'FlyingAutismus.txt', 'destr0yed_.txt', 'Ex4cted.txt', 'Mvsk_.txt', 'MaxOnTheRoad.txt', 'swiffle.txt', 'juvona.txt', 'Lubottus.txt', 'Nervigerr.txt', 'lolisamakun.txt', 'Martomias.txt', '20LeRe10.txt']\n",
      "processing Minenfeld...\n",
      "Error: Tammywood.txt does not contain any TooltipEvent data\n",
      "Error: demiu.txt does not contain any TooltipEvent data\n",
      "Error: JayMinInSane.txt does not contain any TooltipEvent data\n",
      "Error: KINT0.txt does not contain any TooltipEvent data\n",
      "Error: SmartyxD.txt does not contain any TooltipEvent data\n",
      "Error: Sower_.txt does not contain any TooltipEvent data\n",
      "Error: Lord_Weibull.txt does not contain any TooltipEvent data\n",
      "Error: Scuprum.txt does not contain any TooltipEvent data\n",
      "Error: Dubbly.txt does not contain any TooltipEvent data\n",
      "Error: bikop.txt does not contain any TooltipEvent data\n",
      "Error: destr0yed_.txt does not contain any TooltipEvent data\n",
      "Minenfeld processed\n",
      "['__egE.txt', 'Tammywood.txt', 'BunnyKiko.txt', 'SpeckyCut.txt', 'Hyxeed.txt', 'demiu.txt', 'SpinCrafter.txt', 'NanamiElvi.txt', '_n3d.txt', 'Sebi1801.txt', 'JayMinInSane.txt', 'Persidieus.txt', 'N3XV.txt', 'Wissender.txt', 'Gryzes.txt', 'jimmi4Life.txt', 'Gobo9.txt', 'Anni808.txt', 'LeWi_100.txt', '_Waldi_.txt', 'Grapfen.txt', 'PixlNight.txt', 'dossantosaveiro_.txt', 'agowskyy.txt', 'TheBreadHD.txt', 'Axollotel.txt', 'T_Niko_T.txt', 'Vanillinchen.txt', 'Odlaa.txt', 'D4rkCookie.txt', 'yzvm.txt', 'Tim_Voltia.txt', 'xBaumeisterin.txt', 'Ungluecklicher.txt', 'Lutorix.txt', 'Ninivee.txt', 'ArthurAlchemist.txt', 'redbrll.txt', 'Gfrasti.txt', 'Muniix.txt', 'Tomiokey.txt', 'Carl1_1.txt', 'DerAutist.txt', 'PolizeiDreamy.txt', 'xX_Dima_ggg_Xx6.txt', 'Falke23_5.txt', 'TheFabo.txt', 'DieserBear.txt', 'Picutar.txt', '2B9.txt', 'Schmaarek.txt', 'musi1999.txt', 'PumiTheCat.txt', 'HerrDante.txt', 'KakaMC.txt', 'StaudammAusHolz.txt', 'Lelouch610.txt', 'Kyuudo.txt', 'twitchparaskiill.txt', 'G0at3D.txt', 'SecretAgent_K.txt', 'KMaxN.txt', 'Sey__.txt', 'ForceFox.txt', 'toxicplace.txt', 'Gestimus.txt', 'yachayubin.txt', 'Wolkenfarmer.txt', 'y9nic.txt', 'KINT0.txt', 'zBro.txt', 'qriezmannsOpa.txt', 'Harold_Sensemann.txt', 'Pedrozockt.txt', 'MrNulfred.txt', 'Cytoox.txt', 'IchHolzDichWeg.txt', 'GingerTeddy.txt', 'Kopfradio.txt', 'loukrativ.txt', 'M0osebumps.txt', 'SmartyxD.txt', 'Kokochampo.txt', 'JennieKim.txt', 'Umgfoin.txt', 'ffawks.txt', 'byTobi.txt', 'Shiewk.txt', 'La_meleagro.txt', 'Squashgitter333.txt', 'Luxemburq.txt', 'DarkCobweb.txt', 'Sackkerl.txt', 'Sthyq.txt', 'Acidey.txt', 'Laaaachs.txt', 'HerosHD.txt', 'Lennart0911.txt', 'Gerrygames.txt', 'BusinessBent.txt', 'Simlll.txt', 'YBCM.txt', 'Txlentierter.txt', 'Dat_Klan.txt', 'Luis_XYZ.txt', 'NiklasMoWo.txt', 'MaxMitMaulkorb.txt', 'Oronor.txt', 'GamemasterNiki.txt', 'LordAlexos.txt', 'Pluto28.txt', 'GrafikKatze.txt', '_Einfallslos_.txt', 'cediiiiii_10.txt', 'Dokkkkko.txt', 'deadfiight.txt', 'Kanickelul.txt', 'crocodile1870.txt', 'Sower_.txt', 'Steavn.txt', 'EinfachEazy.txt', 'yiiq.txt', 'NotLennart.txt', 'Snitcherella.txt', 'Keenaai.txt', 'xd_Maiky.txt', 'ReichesBrot.txt', 'lolisamasan.txt', 'Raefinzs.txt', 'JOW24.txt', 'ByNetherdude.txt', 'ZweitesIch.txt', 'frutigall.txt', 'LilFueller.txt', 'xiooh.txt', 'rotmann2.txt', 'FlyingKyubi.txt', 'Joy_8oy.txt', 'BauHD.txt', 'CML_Justin.txt', 'MoZadaTV.txt', 'BastiGHG.txt', 'Gummibearchen.txt', 'Lord_Weibull.txt', 'VendasTM.txt', 'Stockinqs.txt', 'GlowyDusk.txt', 'Scuprum.txt', 'h4nnes.txt', 'cheesecake2901.txt', 'DrSpeed06.txt', 'Krusti.txt', 'marbrueck.txt', 'Vacted.txt', 'Janne4k.txt', 'Bartschii.txt', 'Mansuni.txt', 'SB387.txt', 'medisant.txt', 'Phoenix3000.txt', 'JOW23.txt', 'Ritokii.txt', 'Juti0n.txt', 'lvlaurin.txt', 'Bikoop.txt', 'FrozenNoah.txt', 'GeneralEnte06.txt', 'Dubbly.txt', 'revolverz.txt', 'Highsay.txt', 'ScreamingBlatz.txt', 'RyanxCole.txt', 'shellny.txt', 'TheKillerisback.txt', 'M0orey_0.txt', 'Mincheeen.txt', '2wc.txt', 'Feinberg.txt', 'Navex.txt', 'NewNormal0947.txt', 'Teesily.txt', 'SiLoHB.txt', 'Morittz.txt', 'cxl1lo.txt', 'LeMetin_.txt', 'unausgesprochen.txt', 'Freeeedom.txt', 'miridis41.txt', 'Joe3346.txt', 'Lingex.txt', 'xX_Masha_ggg_Xx9.txt', 'Julius16.txt', 'lizsyy.txt', 'camman18YT.txt', 'Jan2220.txt', 'Falke_01.txt', 'DaVinci_Son.txt', 'SatzdesPytag0ras.txt', 'Flitzi_Dino.txt', 'Wienerisch.txt', 'Seemops_8.txt', 'GermanPie.txt', 'chrisihalt.txt', 'FluffyDragon2007.txt', 'LucaaOn.txt', 'Allooy.txt', 'Chander24.txt', 'Fflopse.txt', 'bikop.txt', 'vKito.txt', 'bawskey.txt', 'RasenLP.txt', 'WirdNichtGeladen.txt', 'WuschigesEtwas.txt', 'OutcroYoutube.txt', 'HeIsJustAPoorBoy.txt', 'FlyingAutismus.txt', 'destr0yed_.txt', 'Ex4cted.txt', 'Mvsk_.txt', 'MaxOnTheRoad.txt', 'swiffle.txt', 'juvona.txt', 'Lubottus.txt', 'Nervigerr.txt', 'lolisamakun.txt', 'Martomias.txt', '20LeRe10.txt']\n",
      "processing Kletterkönig...\n",
      "Error: Tammywood.txt does not contain any TooltipEvent data\n",
      "Error: demiu.txt does not contain any TooltipEvent data\n",
      "Error: JayMinInSane.txt does not contain any TooltipEvent data\n",
      "Error: KINT0.txt does not contain any TooltipEvent data\n",
      "Error: SmartyxD.txt does not contain any TooltipEvent data\n",
      "Error: Sower_.txt does not contain any TooltipEvent data\n",
      "Error: Lord_Weibull.txt does not contain any TooltipEvent data\n",
      "Error: Scuprum.txt does not contain any TooltipEvent data\n",
      "Error: Dubbly.txt does not contain any TooltipEvent data\n",
      "Error: bikop.txt does not contain any TooltipEvent data\n",
      "Error: destr0yed_.txt does not contain any TooltipEvent data\n",
      "Kletterkönig processed\n",
      "['__egE.txt', 'Tammywood.txt', 'BunnyKiko.txt', 'SpeckyCut.txt', 'Hyxeed.txt', 'demiu.txt', 'SpinCrafter.txt', 'NanamiElvi.txt', '_n3d.txt', 'Sebi1801.txt', 'JayMinInSane.txt', 'Persidieus.txt', 'N3XV.txt', 'Wissender.txt', 'Gryzes.txt', 'jimmi4Life.txt', 'Gobo9.txt', 'Anni808.txt', 'LeWi_100.txt', '_Waldi_.txt', 'Grapfen.txt', 'PixlNight.txt', 'dossantosaveiro_.txt', 'agowskyy.txt', 'TheBreadHD.txt', 'Axollotel.txt', 'T_Niko_T.txt', 'Vanillinchen.txt', 'Odlaa.txt', 'D4rkCookie.txt', 'yzvm.txt', 'Tim_Voltia.txt', 'xBaumeisterin.txt', 'Ungluecklicher.txt', 'Lutorix.txt', 'Ninivee.txt', 'ArthurAlchemist.txt', 'redbrll.txt', 'Gfrasti.txt', 'Muniix.txt', 'Tomiokey.txt', 'Carl1_1.txt', 'DerAutist.txt', 'PolizeiDreamy.txt', 'xX_Dima_ggg_Xx6.txt', 'Falke23_5.txt', 'TheFabo.txt', 'DieserBear.txt', 'Picutar.txt', '2B9.txt', 'Schmaarek.txt', 'musi1999.txt', 'PumiTheCat.txt', 'HerrDante.txt', 'KakaMC.txt', 'StaudammAusHolz.txt', 'Lelouch610.txt', 'Kyuudo.txt', 'twitchparaskiill.txt', 'G0at3D.txt', 'SecretAgent_K.txt', 'KMaxN.txt', 'Sey__.txt', 'ForceFox.txt', 'toxicplace.txt', 'Gestimus.txt', 'yachayubin.txt', 'Wolkenfarmer.txt', 'y9nic.txt', 'KINT0.txt', 'zBro.txt', 'qriezmannsOpa.txt', 'Harold_Sensemann.txt', 'Pedrozockt.txt', 'MrNulfred.txt', 'Cytoox.txt', 'IchHolzDichWeg.txt', 'GingerTeddy.txt', 'Kopfradio.txt', 'loukrativ.txt', 'M0osebumps.txt', 'SmartyxD.txt', 'Kokochampo.txt', 'JennieKim.txt', 'Umgfoin.txt', 'ffawks.txt', 'byTobi.txt', 'Shiewk.txt', 'La_meleagro.txt', 'Squashgitter333.txt', 'Luxemburq.txt', 'DarkCobweb.txt', 'Sackkerl.txt', 'Sthyq.txt', 'Acidey.txt', 'Laaaachs.txt', 'HerosHD.txt', 'Lennart0911.txt', 'Gerrygames.txt', 'BusinessBent.txt', 'Simlll.txt', 'YBCM.txt', 'Txlentierter.txt', 'Dat_Klan.txt', 'Luis_XYZ.txt', 'NiklasMoWo.txt', 'MaxMitMaulkorb.txt', 'Oronor.txt', 'GamemasterNiki.txt', 'LordAlexos.txt', 'Pluto28.txt', 'GrafikKatze.txt', '_Einfallslos_.txt', 'cediiiiii_10.txt', 'Dokkkkko.txt', 'deadfiight.txt', 'Kanickelul.txt', 'crocodile1870.txt', 'Sower_.txt', 'Steavn.txt', 'EinfachEazy.txt', 'yiiq.txt', 'NotLennart.txt', 'Snitcherella.txt', 'Keenaai.txt', 'xd_Maiky.txt', 'ReichesBrot.txt', 'lolisamasan.txt', 'Raefinzs.txt', 'JOW24.txt', 'ByNetherdude.txt', 'ZweitesIch.txt', 'frutigall.txt', 'LilFueller.txt', 'xiooh.txt', 'rotmann2.txt', 'FlyingKyubi.txt', 'Joy_8oy.txt', 'BauHD.txt', 'CML_Justin.txt', 'MoZadaTV.txt', 'BastiGHG.txt', 'Gummibearchen.txt', 'Lord_Weibull.txt', 'VendasTM.txt', 'Stockinqs.txt', 'GlowyDusk.txt', 'Scuprum.txt', 'h4nnes.txt', 'cheesecake2901.txt', 'DrSpeed06.txt', 'Krusti.txt', 'marbrueck.txt', 'Vacted.txt', 'Janne4k.txt', 'Bartschii.txt', 'Mansuni.txt', 'SB387.txt', 'medisant.txt', 'Phoenix3000.txt', 'JOW23.txt', 'Ritokii.txt', 'Juti0n.txt', 'lvlaurin.txt', 'Bikoop.txt', 'FrozenNoah.txt', 'GeneralEnte06.txt', 'Dubbly.txt', 'revolverz.txt', 'Highsay.txt', 'ScreamingBlatz.txt', 'RyanxCole.txt', 'shellny.txt', 'TheKillerisback.txt', 'M0orey_0.txt', 'Mincheeen.txt', '2wc.txt', 'Feinberg.txt', 'Navex.txt', 'NewNormal0947.txt', 'Teesily.txt', 'SiLoHB.txt', 'Morittz.txt', 'cxl1lo.txt', 'LeMetin_.txt', 'unausgesprochen.txt', 'Freeeedom.txt', 'miridis41.txt', 'Joe3346.txt', 'Lingex.txt', 'xX_Masha_ggg_Xx9.txt', 'Julius16.txt', 'lizsyy.txt', 'camman18YT.txt', 'Jan2220.txt', 'Falke_01.txt', 'DaVinci_Son.txt', 'SatzdesPytag0ras.txt', 'Flitzi_Dino.txt', 'Wienerisch.txt', 'Seemops_8.txt', 'GermanPie.txt', 'chrisihalt.txt', 'FluffyDragon2007.txt', 'LucaaOn.txt', 'Allooy.txt', 'Chander24.txt', 'Fflopse.txt', 'bikop.txt', 'vKito.txt', 'bawskey.txt', 'RasenLP.txt', 'WirdNichtGeladen.txt', 'WuschigesEtwas.txt', 'OutcroYoutube.txt', 'HeIsJustAPoorBoy.txt', 'FlyingAutismus.txt', 'destr0yed_.txt', 'Ex4cted.txt', 'Mvsk_.txt', 'MaxOnTheRoad.txt', 'swiffle.txt', 'juvona.txt', 'Lubottus.txt', 'Nervigerr.txt', 'lolisamakun.txt', 'Martomias.txt', '20LeRe10.txt']\n",
      "processing Ampelrennen...\n",
      "Error: Tammywood.txt does not contain any TooltipEvent data\n",
      "Error: demiu.txt does not contain any TooltipEvent data\n",
      "Error: JayMinInSane.txt does not contain any TooltipEvent data\n",
      "Error: KINT0.txt does not contain any TooltipEvent data\n",
      "Error: SmartyxD.txt does not contain any TooltipEvent data\n",
      "Error: Sower_.txt does not contain any TooltipEvent data\n",
      "Error: Lord_Weibull.txt does not contain any TooltipEvent data\n",
      "Error: Scuprum.txt does not contain any TooltipEvent data\n",
      "Error: Dubbly.txt does not contain any TooltipEvent data\n",
      "Error: bikop.txt does not contain any TooltipEvent data\n",
      "Error: destr0yed_.txt does not contain any TooltipEvent data\n",
      "Ampelrennen processed\n",
      "['__egE.txt', 'Tammywood.txt', 'BunnyKiko.txt', 'SpeckyCut.txt', 'Hyxeed.txt', 'demiu.txt', 'SpinCrafter.txt', 'NanamiElvi.txt', '_n3d.txt', 'Sebi1801.txt', 'JayMinInSane.txt', 'Persidieus.txt', 'N3XV.txt', 'Wissender.txt', 'Gryzes.txt', 'jimmi4Life.txt', 'Gobo9.txt', 'Anni808.txt', 'LeWi_100.txt', '_Waldi_.txt', 'Grapfen.txt', 'PixlNight.txt', 'dossantosaveiro_.txt', 'agowskyy.txt', 'TheBreadHD.txt', 'Axollotel.txt', 'T_Niko_T.txt', 'Vanillinchen.txt', 'Odlaa.txt', 'D4rkCookie.txt', 'yzvm.txt', 'Tim_Voltia.txt', 'xBaumeisterin.txt', 'Ungluecklicher.txt', 'Lutorix.txt', 'Ninivee.txt', 'ArthurAlchemist.txt', 'redbrll.txt', 'Gfrasti.txt', 'Muniix.txt', 'Tomiokey.txt', 'Carl1_1.txt', 'DerAutist.txt', 'PolizeiDreamy.txt', 'xX_Dima_ggg_Xx6.txt', 'Falke23_5.txt', 'TheFabo.txt', 'DieserBear.txt', 'Picutar.txt', '2B9.txt', 'Schmaarek.txt', 'musi1999.txt', 'PumiTheCat.txt', 'HerrDante.txt', 'KakaMC.txt', 'StaudammAusHolz.txt', 'Lelouch610.txt', 'Kyuudo.txt', 'twitchparaskiill.txt', 'G0at3D.txt', 'SecretAgent_K.txt', 'KMaxN.txt', 'Sey__.txt', 'ForceFox.txt', 'toxicplace.txt', 'Gestimus.txt', 'yachayubin.txt', 'Wolkenfarmer.txt', 'y9nic.txt', 'KINT0.txt', 'zBro.txt', 'qriezmannsOpa.txt', 'Harold_Sensemann.txt', 'Pedrozockt.txt', 'MrNulfred.txt', 'Cytoox.txt', 'IchHolzDichWeg.txt', 'GingerTeddy.txt', 'Kopfradio.txt', 'loukrativ.txt', 'M0osebumps.txt', 'SmartyxD.txt', 'Kokochampo.txt', 'JennieKim.txt', 'Umgfoin.txt', 'ffawks.txt', 'byTobi.txt', 'Shiewk.txt', 'La_meleagro.txt', 'Squashgitter333.txt', 'Luxemburq.txt', 'DarkCobweb.txt', 'Sackkerl.txt', 'Sthyq.txt', 'Acidey.txt', 'Laaaachs.txt', 'HerosHD.txt', 'Lennart0911.txt', 'Gerrygames.txt', 'BusinessBent.txt', 'Simlll.txt', 'YBCM.txt', 'Txlentierter.txt', 'Dat_Klan.txt', 'Luis_XYZ.txt', 'NiklasMoWo.txt', 'MaxMitMaulkorb.txt', 'Oronor.txt', 'GamemasterNiki.txt', 'LordAlexos.txt', 'Pluto28.txt', 'GrafikKatze.txt', '_Einfallslos_.txt', 'cediiiiii_10.txt', 'Dokkkkko.txt', 'deadfiight.txt', 'Kanickelul.txt', 'crocodile1870.txt', 'Sower_.txt', 'Steavn.txt', 'EinfachEazy.txt', 'yiiq.txt', 'NotLennart.txt', 'Snitcherella.txt', 'Keenaai.txt', 'xd_Maiky.txt', 'ReichesBrot.txt', 'lolisamasan.txt', 'Raefinzs.txt', 'JOW24.txt', 'ByNetherdude.txt', 'ZweitesIch.txt', 'frutigall.txt', 'LilFueller.txt', 'xiooh.txt', 'rotmann2.txt', 'FlyingKyubi.txt', 'Joy_8oy.txt', 'BauHD.txt', 'CML_Justin.txt', 'MoZadaTV.txt', 'BastiGHG.txt', 'Gummibearchen.txt', 'Lord_Weibull.txt', 'VendasTM.txt', 'Stockinqs.txt', 'GlowyDusk.txt', 'Scuprum.txt', 'h4nnes.txt', 'cheesecake2901.txt', 'DrSpeed06.txt', 'Krusti.txt', 'marbrueck.txt', 'Vacted.txt', 'Janne4k.txt', 'Bartschii.txt', 'Mansuni.txt', 'SB387.txt', 'medisant.txt', 'Phoenix3000.txt', 'JOW23.txt', 'Ritokii.txt', 'Juti0n.txt', 'lvlaurin.txt', 'Bikoop.txt', 'FrozenNoah.txt', 'GeneralEnte06.txt', 'Dubbly.txt', 'revolverz.txt', 'Highsay.txt', 'ScreamingBlatz.txt', 'RyanxCole.txt', 'shellny.txt', 'TheKillerisback.txt', 'M0orey_0.txt', 'Mincheeen.txt', '2wc.txt', 'Feinberg.txt', 'Navex.txt', 'NewNormal0947.txt', 'Teesily.txt', 'SiLoHB.txt', 'Morittz.txt', 'cxl1lo.txt', 'LeMetin_.txt', 'unausgesprochen.txt', 'Freeeedom.txt', 'miridis41.txt', 'Joe3346.txt', 'Lingex.txt', 'xX_Masha_ggg_Xx9.txt', 'Julius16.txt', 'lizsyy.txt', 'camman18YT.txt', 'Jan2220.txt', 'Falke_01.txt', 'DaVinci_Son.txt', 'SatzdesPytag0ras.txt', 'Flitzi_Dino.txt', 'Wienerisch.txt', 'Seemops_8.txt', 'GermanPie.txt', 'chrisihalt.txt', 'FluffyDragon2007.txt', 'LucaaOn.txt', 'Allooy.txt', 'Chander24.txt', 'Fflopse.txt', 'bikop.txt', 'vKito.txt', 'bawskey.txt', 'RasenLP.txt', 'WirdNichtGeladen.txt', 'WuschigesEtwas.txt', 'OutcroYoutube.txt', 'HeIsJustAPoorBoy.txt', 'FlyingAutismus.txt', 'destr0yed_.txt', 'Ex4cted.txt', 'Mvsk_.txt', 'MaxOnTheRoad.txt', 'swiffle.txt', 'juvona.txt', 'Lubottus.txt', 'Nervigerr.txt', 'lolisamakun.txt', 'Martomias.txt', '20LeRe10.txt']\n",
      "processing Hoch hinaus...\n",
      "Error: Tammywood.txt does not contain any TooltipEvent data\n",
      "Error: demiu.txt does not contain any TooltipEvent data\n",
      "Error: JayMinInSane.txt does not contain any TooltipEvent data\n",
      "Error: KINT0.txt does not contain any TooltipEvent data\n",
      "Error: SmartyxD.txt does not contain any TooltipEvent data\n",
      "Error: Sower_.txt does not contain any TooltipEvent data\n",
      "Error: Lord_Weibull.txt does not contain any TooltipEvent data\n",
      "Error: Scuprum.txt does not contain any TooltipEvent data\n",
      "Error: Dubbly.txt does not contain any TooltipEvent data\n",
      "Error: bikop.txt does not contain any TooltipEvent data\n",
      "Error: destr0yed_.txt does not contain any TooltipEvent data\n",
      "Hoch hinaus processed\n",
      "['__egE.txt', 'Tammywood.txt', 'BunnyKiko.txt', 'SpeckyCut.txt', 'Hyxeed.txt', 'demiu.txt', 'SpinCrafter.txt', 'NanamiElvi.txt', '_n3d.txt', 'Sebi1801.txt', 'JayMinInSane.txt', 'Persidieus.txt', 'N3XV.txt', 'Wissender.txt', 'Gryzes.txt', 'jimmi4Life.txt', 'Gobo9.txt', 'Anni808.txt', 'LeWi_100.txt', '_Waldi_.txt', 'Grapfen.txt', 'PixlNight.txt', 'dossantosaveiro_.txt', 'agowskyy.txt', 'TheBreadHD.txt', 'Axollotel.txt', 'T_Niko_T.txt', 'Vanillinchen.txt', 'Odlaa.txt', 'D4rkCookie.txt', 'yzvm.txt', 'Tim_Voltia.txt', 'xBaumeisterin.txt', 'Ungluecklicher.txt', 'Lutorix.txt', 'Ninivee.txt', 'ArthurAlchemist.txt', 'redbrll.txt', 'Gfrasti.txt', 'Muniix.txt', 'Tomiokey.txt', 'Carl1_1.txt', 'DerAutist.txt', 'PolizeiDreamy.txt', 'xX_Dima_ggg_Xx6.txt', 'Falke23_5.txt', 'TheFabo.txt', 'DieserBear.txt', 'Picutar.txt', '2B9.txt', 'Schmaarek.txt', 'musi1999.txt', 'PumiTheCat.txt', 'HerrDante.txt', 'KakaMC.txt', 'StaudammAusHolz.txt', 'Lelouch610.txt', 'Kyuudo.txt', 'twitchparaskiill.txt', 'G0at3D.txt', 'SecretAgent_K.txt', 'KMaxN.txt', 'Sey__.txt', 'ForceFox.txt', 'toxicplace.txt', 'Gestimus.txt', 'yachayubin.txt', 'Wolkenfarmer.txt', 'y9nic.txt', 'KINT0.txt', 'zBro.txt', 'qriezmannsOpa.txt', 'Harold_Sensemann.txt', 'Pedrozockt.txt', 'MrNulfred.txt', 'Cytoox.txt', 'IchHolzDichWeg.txt', 'GingerTeddy.txt', 'Kopfradio.txt', 'loukrativ.txt', 'M0osebumps.txt', 'SmartyxD.txt', 'Kokochampo.txt', 'JennieKim.txt', 'Umgfoin.txt', 'ffawks.txt', 'byTobi.txt', 'Shiewk.txt', 'La_meleagro.txt', 'Squashgitter333.txt', 'Luxemburq.txt', 'DarkCobweb.txt', 'Sackkerl.txt', 'Sthyq.txt', 'Acidey.txt', 'Laaaachs.txt', 'HerosHD.txt', 'Lennart0911.txt', 'Gerrygames.txt', 'BusinessBent.txt', 'Simlll.txt', 'YBCM.txt', 'Txlentierter.txt', 'Dat_Klan.txt', 'Luis_XYZ.txt', 'NiklasMoWo.txt', 'MaxMitMaulkorb.txt', 'Oronor.txt', 'GamemasterNiki.txt', 'LordAlexos.txt', 'Pluto28.txt', 'GrafikKatze.txt', '_Einfallslos_.txt', 'cediiiiii_10.txt', 'Dokkkkko.txt', 'deadfiight.txt', 'Kanickelul.txt', 'crocodile1870.txt', 'Sower_.txt', 'Steavn.txt', 'EinfachEazy.txt', 'yiiq.txt', 'NotLennart.txt', 'Snitcherella.txt', 'Keenaai.txt', 'xd_Maiky.txt', 'ReichesBrot.txt', 'lolisamasan.txt', 'Raefinzs.txt', 'JOW24.txt', 'ByNetherdude.txt', 'ZweitesIch.txt', 'frutigall.txt', 'LilFueller.txt', 'xiooh.txt', 'rotmann2.txt', 'FlyingKyubi.txt', 'Joy_8oy.txt', 'BauHD.txt', 'CML_Justin.txt', 'MoZadaTV.txt', 'BastiGHG.txt', 'Gummibearchen.txt', 'Lord_Weibull.txt', 'VendasTM.txt', 'Stockinqs.txt', 'GlowyDusk.txt', 'Scuprum.txt', 'h4nnes.txt', 'cheesecake2901.txt', 'DrSpeed06.txt', 'Krusti.txt', 'marbrueck.txt', 'Vacted.txt', 'Janne4k.txt', 'Bartschii.txt', 'Mansuni.txt', 'SB387.txt', 'medisant.txt', 'Phoenix3000.txt', 'JOW23.txt', 'Ritokii.txt', 'Juti0n.txt', 'lvlaurin.txt', 'Bikoop.txt', 'FrozenNoah.txt', 'GeneralEnte06.txt', 'Dubbly.txt', 'revolverz.txt', 'Highsay.txt', 'ScreamingBlatz.txt', 'RyanxCole.txt', 'shellny.txt', 'TheKillerisback.txt', 'M0orey_0.txt', 'Mincheeen.txt', '2wc.txt', 'Feinberg.txt', 'Navex.txt', 'NewNormal0947.txt', 'Teesily.txt', 'SiLoHB.txt', 'Morittz.txt', 'cxl1lo.txt', 'LeMetin_.txt', 'unausgesprochen.txt', 'Freeeedom.txt', 'miridis41.txt', 'Joe3346.txt', 'Lingex.txt', 'xX_Masha_ggg_Xx9.txt', 'Julius16.txt', 'lizsyy.txt', 'camman18YT.txt', 'Jan2220.txt', 'Falke_01.txt', 'DaVinci_Son.txt', 'SatzdesPytag0ras.txt', 'Flitzi_Dino.txt', 'Wienerisch.txt', 'Seemops_8.txt', 'GermanPie.txt', 'chrisihalt.txt', 'FluffyDragon2007.txt', 'LucaaOn.txt', 'Allooy.txt', 'Chander24.txt', 'Fflopse.txt', 'bikop.txt', 'vKito.txt', 'bawskey.txt', 'RasenLP.txt', 'WirdNichtGeladen.txt', 'WuschigesEtwas.txt', 'OutcroYoutube.txt', 'HeIsJustAPoorBoy.txt', 'FlyingAutismus.txt', 'destr0yed_.txt', 'Ex4cted.txt', 'Mvsk_.txt', 'MaxOnTheRoad.txt', 'swiffle.txt', 'juvona.txt', 'Lubottus.txt', 'Nervigerr.txt', 'lolisamakun.txt', 'Martomias.txt', '20LeRe10.txt']\n",
      "processing Frostiger Pfad...\n",
      "Error: Tammywood.txt does not contain any TooltipEvent data\n",
      "Error: demiu.txt does not contain any TooltipEvent data\n",
      "Error: JayMinInSane.txt does not contain any TooltipEvent data\n",
      "Error: KINT0.txt does not contain any TooltipEvent data\n",
      "Error: SmartyxD.txt does not contain any TooltipEvent data\n",
      "Error: Sower_.txt does not contain any TooltipEvent data\n",
      "Error: Lord_Weibull.txt does not contain any TooltipEvent data\n",
      "Error: Scuprum.txt does not contain any TooltipEvent data\n",
      "Error: Dubbly.txt does not contain any TooltipEvent data\n",
      "Error: bikop.txt does not contain any TooltipEvent data\n",
      "Error: destr0yed_.txt does not contain any TooltipEvent data\n",
      "Frostiger Pfad processed\n",
      "['__egE.txt', 'Tammywood.txt', 'BunnyKiko.txt', 'SpeckyCut.txt', 'Hyxeed.txt', 'demiu.txt', 'SpinCrafter.txt', 'NanamiElvi.txt', '_n3d.txt', 'Sebi1801.txt', 'JayMinInSane.txt', 'Persidieus.txt', 'N3XV.txt', 'Wissender.txt', 'Gryzes.txt', 'jimmi4Life.txt', 'Gobo9.txt', 'Anni808.txt', 'LeWi_100.txt', '_Waldi_.txt', 'Grapfen.txt', 'PixlNight.txt', 'dossantosaveiro_.txt', 'agowskyy.txt', 'TheBreadHD.txt', 'Axollotel.txt', 'T_Niko_T.txt', 'Vanillinchen.txt', 'Odlaa.txt', 'D4rkCookie.txt', 'yzvm.txt', 'Tim_Voltia.txt', 'xBaumeisterin.txt', 'Ungluecklicher.txt', 'Lutorix.txt', 'Ninivee.txt', 'ArthurAlchemist.txt', 'redbrll.txt', 'Gfrasti.txt', 'Muniix.txt', 'Tomiokey.txt', 'Carl1_1.txt', 'DerAutist.txt', 'PolizeiDreamy.txt', 'xX_Dima_ggg_Xx6.txt', 'Falke23_5.txt', 'TheFabo.txt', 'DieserBear.txt', 'Picutar.txt', '2B9.txt', 'Schmaarek.txt', 'musi1999.txt', 'PumiTheCat.txt', 'HerrDante.txt', 'KakaMC.txt', 'StaudammAusHolz.txt', 'Lelouch610.txt', 'Kyuudo.txt', 'twitchparaskiill.txt', 'G0at3D.txt', 'SecretAgent_K.txt', 'KMaxN.txt', 'Sey__.txt', 'ForceFox.txt', 'toxicplace.txt', 'Gestimus.txt', 'yachayubin.txt', 'Wolkenfarmer.txt', 'y9nic.txt', 'KINT0.txt', 'zBro.txt', 'qriezmannsOpa.txt', 'Harold_Sensemann.txt', 'Pedrozockt.txt', 'MrNulfred.txt', 'Cytoox.txt', 'IchHolzDichWeg.txt', 'GingerTeddy.txt', 'Kopfradio.txt', 'loukrativ.txt', 'M0osebumps.txt', 'SmartyxD.txt', 'Kokochampo.txt', 'JennieKim.txt', 'Umgfoin.txt', 'ffawks.txt', 'byTobi.txt', 'Shiewk.txt', 'La_meleagro.txt', 'Squashgitter333.txt', 'Luxemburq.txt', 'DarkCobweb.txt', 'Sackkerl.txt', 'Sthyq.txt', 'Acidey.txt', 'Laaaachs.txt', 'HerosHD.txt', 'Lennart0911.txt', 'Gerrygames.txt', 'BusinessBent.txt', 'Simlll.txt', 'YBCM.txt', 'Txlentierter.txt', 'Dat_Klan.txt', 'Luis_XYZ.txt', 'NiklasMoWo.txt', 'MaxMitMaulkorb.txt', 'Oronor.txt', 'GamemasterNiki.txt', 'LordAlexos.txt', 'Pluto28.txt', 'GrafikKatze.txt', '_Einfallslos_.txt', 'cediiiiii_10.txt', 'Dokkkkko.txt', 'deadfiight.txt', 'Kanickelul.txt', 'crocodile1870.txt', 'Sower_.txt', 'Steavn.txt', 'EinfachEazy.txt', 'yiiq.txt', 'NotLennart.txt', 'Snitcherella.txt', 'Keenaai.txt', 'xd_Maiky.txt', 'ReichesBrot.txt', 'lolisamasan.txt', 'Raefinzs.txt', 'JOW24.txt', 'ByNetherdude.txt', 'ZweitesIch.txt', 'frutigall.txt', 'LilFueller.txt', 'xiooh.txt', 'rotmann2.txt', 'FlyingKyubi.txt', 'Joy_8oy.txt', 'BauHD.txt', 'CML_Justin.txt', 'MoZadaTV.txt', 'BastiGHG.txt', 'Gummibearchen.txt', 'Lord_Weibull.txt', 'VendasTM.txt', 'Stockinqs.txt', 'GlowyDusk.txt', 'Scuprum.txt', 'h4nnes.txt', 'cheesecake2901.txt', 'DrSpeed06.txt', 'Krusti.txt', 'marbrueck.txt', 'Vacted.txt', 'Janne4k.txt', 'Bartschii.txt', 'Mansuni.txt', 'SB387.txt', 'medisant.txt', 'Phoenix3000.txt', 'JOW23.txt', 'Ritokii.txt', 'Juti0n.txt', 'lvlaurin.txt', 'Bikoop.txt', 'FrozenNoah.txt', 'GeneralEnte06.txt', 'Dubbly.txt', 'revolverz.txt', 'Highsay.txt', 'ScreamingBlatz.txt', 'RyanxCole.txt', 'shellny.txt', 'TheKillerisback.txt', 'M0orey_0.txt', 'Mincheeen.txt', '2wc.txt', 'Feinberg.txt', 'Navex.txt', 'NewNormal0947.txt', 'Teesily.txt', 'SiLoHB.txt', 'Morittz.txt', 'cxl1lo.txt', 'LeMetin_.txt', 'unausgesprochen.txt', 'Freeeedom.txt', 'miridis41.txt', 'Joe3346.txt', 'Lingex.txt', 'xX_Masha_ggg_Xx9.txt', 'Julius16.txt', 'lizsyy.txt', 'camman18YT.txt', 'Jan2220.txt', 'Falke_01.txt', 'DaVinci_Son.txt', 'SatzdesPytag0ras.txt', 'Flitzi_Dino.txt', 'Wienerisch.txt', 'Seemops_8.txt', 'GermanPie.txt', 'chrisihalt.txt', 'FluffyDragon2007.txt', 'LucaaOn.txt', 'Allooy.txt', 'Chander24.txt', 'Fflopse.txt', 'bikop.txt', 'vKito.txt', 'bawskey.txt', 'RasenLP.txt', 'WirdNichtGeladen.txt', 'WuschigesEtwas.txt', 'OutcroYoutube.txt', 'HeIsJustAPoorBoy.txt', 'FlyingAutismus.txt', 'destr0yed_.txt', 'Ex4cted.txt', 'Mvsk_.txt', 'MaxOnTheRoad.txt', 'swiffle.txt', 'juvona.txt', 'Lubottus.txt', 'Nervigerr.txt', 'lolisamakun.txt', 'Martomias.txt', '20LeRe10.txt']\n",
      "processing Runterpurzeln...\n",
      "Error: Tammywood.txt does not contain any TooltipEvent data\n",
      "Error: demiu.txt does not contain any TooltipEvent data\n",
      "Error: JayMinInSane.txt does not contain any TooltipEvent data\n",
      "Error: KINT0.txt does not contain any TooltipEvent data\n",
      "Error: SmartyxD.txt does not contain any TooltipEvent data\n",
      "Error: Sower_.txt does not contain any TooltipEvent data\n",
      "Error: Lord_Weibull.txt does not contain any TooltipEvent data\n",
      "Error: Scuprum.txt does not contain any TooltipEvent data\n",
      "Error: Dubbly.txt does not contain any TooltipEvent data\n",
      "Error: bikop.txt does not contain any TooltipEvent data\n",
      "Error: destr0yed_.txt does not contain any TooltipEvent data\n",
      "Runterpurzeln processed\n"
     ]
    }
   ],
   "source": [
    "for minigame in (pointMiniGames + \", \" + timeMiniGames).split(', '): \n",
    "    if minigame not in [\"Mini Skywars\", \"Blockhüpfer\", \"Paintball\"]:\n",
    "        temp = getBestPlayer(minigame=minigame)\n",
    "\n",
    "        # rename PointSum to minigame name\n",
    "        temp.rename(columns={'PointSum': minigame}, inplace=True)\n",
    "\n",
    "        # drop all columns but the pointDf column\n",
    "        temp = temp[[minigame]]\n",
    "\n",
    "        # concat all minigame dataframes\n",
    "        try: \n",
    "            outDf = pd.concat([outDf, temp], axis=1)\n",
    "        except: \n",
    "            outDf = temp\n"
   ]
  },
  {
   "cell_type": "code",
   "execution_count": 59,
   "metadata": {},
   "outputs": [
    {
     "data": {
      "text/html": [
       "<div>\n",
       "<style scoped>\n",
       "    .dataframe tbody tr th:only-of-type {\n",
       "        vertical-align: middle;\n",
       "    }\n",
       "\n",
       "    .dataframe tbody tr th {\n",
       "        vertical-align: top;\n",
       "    }\n",
       "\n",
       "    .dataframe thead th {\n",
       "        text-align: right;\n",
       "    }\n",
       "</style>\n",
       "<table border=\"1\" class=\"dataframe\">\n",
       "  <thead>\n",
       "    <tr style=\"text-align: right;\">\n",
       "      <th></th>\n",
       "      <th>Schießstand</th>\n",
       "      <th>Schießstand</th>\n",
       "      <th>Schießstand</th>\n",
       "      <th>Schießstand</th>\n",
       "      <th>Schießstand</th>\n",
       "      <th>Schießstand</th>\n",
       "    </tr>\n",
       "  </thead>\n",
       "  <tbody>\n",
       "    <tr>\n",
       "      <th>Allooy</th>\n",
       "      <td>10.0</td>\n",
       "      <td>10.0</td>\n",
       "      <td>10.0</td>\n",
       "      <td>10.0</td>\n",
       "      <td>10.0</td>\n",
       "      <td>10.0</td>\n",
       "    </tr>\n",
       "    <tr>\n",
       "      <th>cediiiiii_10</th>\n",
       "      <td>47.5</td>\n",
       "      <td>47.5</td>\n",
       "      <td>47.5</td>\n",
       "      <td>47.5</td>\n",
       "      <td>47.5</td>\n",
       "      <td>47.5</td>\n",
       "    </tr>\n",
       "    <tr>\n",
       "      <th>_n3d</th>\n",
       "      <td>10.0</td>\n",
       "      <td>10.0</td>\n",
       "      <td>10.0</td>\n",
       "      <td>10.0</td>\n",
       "      <td>10.0</td>\n",
       "      <td>10.0</td>\n",
       "    </tr>\n",
       "    <tr>\n",
       "      <th>Muniix</th>\n",
       "      <td>25.0</td>\n",
       "      <td>25.0</td>\n",
       "      <td>25.0</td>\n",
       "      <td>25.0</td>\n",
       "      <td>25.0</td>\n",
       "      <td>25.0</td>\n",
       "    </tr>\n",
       "    <tr>\n",
       "      <th>qriezmannsOpa</th>\n",
       "      <td>42.5</td>\n",
       "      <td>42.5</td>\n",
       "      <td>42.5</td>\n",
       "      <td>42.5</td>\n",
       "      <td>42.5</td>\n",
       "      <td>42.5</td>\n",
       "    </tr>\n",
       "    <tr>\n",
       "      <th>...</th>\n",
       "      <td>...</td>\n",
       "      <td>...</td>\n",
       "      <td>...</td>\n",
       "      <td>...</td>\n",
       "      <td>...</td>\n",
       "      <td>...</td>\n",
       "    </tr>\n",
       "    <tr>\n",
       "      <th>dossantosaveiro_</th>\n",
       "      <td>0.0</td>\n",
       "      <td>0.0</td>\n",
       "      <td>0.0</td>\n",
       "      <td>0.0</td>\n",
       "      <td>0.0</td>\n",
       "      <td>0.0</td>\n",
       "    </tr>\n",
       "    <tr>\n",
       "      <th>TheBreadHD</th>\n",
       "      <td>0.0</td>\n",
       "      <td>0.0</td>\n",
       "      <td>0.0</td>\n",
       "      <td>0.0</td>\n",
       "      <td>0.0</td>\n",
       "      <td>0.0</td>\n",
       "    </tr>\n",
       "    <tr>\n",
       "      <th>Axollotel</th>\n",
       "      <td>0.0</td>\n",
       "      <td>0.0</td>\n",
       "      <td>0.0</td>\n",
       "      <td>0.0</td>\n",
       "      <td>0.0</td>\n",
       "      <td>0.0</td>\n",
       "    </tr>\n",
       "    <tr>\n",
       "      <th>redbrll</th>\n",
       "      <td>0.0</td>\n",
       "      <td>0.0</td>\n",
       "      <td>0.0</td>\n",
       "      <td>0.0</td>\n",
       "      <td>0.0</td>\n",
       "      <td>0.0</td>\n",
       "    </tr>\n",
       "    <tr>\n",
       "      <th>SmartyxD</th>\n",
       "      <td>0.0</td>\n",
       "      <td>0.0</td>\n",
       "      <td>0.0</td>\n",
       "      <td>0.0</td>\n",
       "      <td>0.0</td>\n",
       "      <td>NaN</td>\n",
       "    </tr>\n",
       "  </tbody>\n",
       "</table>\n",
       "<p>228 rows × 6 columns</p>\n",
       "</div>"
      ],
      "text/plain": [
       "                  Schießstand  Schießstand  Schießstand  Schießstand  \\\n",
       "Allooy                   10.0         10.0         10.0         10.0   \n",
       "cediiiiii_10             47.5         47.5         47.5         47.5   \n",
       "_n3d                     10.0         10.0         10.0         10.0   \n",
       "Muniix                   25.0         25.0         25.0         25.0   \n",
       "qriezmannsOpa            42.5         42.5         42.5         42.5   \n",
       "...                       ...          ...          ...          ...   \n",
       "dossantosaveiro_          0.0          0.0          0.0          0.0   \n",
       "TheBreadHD                0.0          0.0          0.0          0.0   \n",
       "Axollotel                 0.0          0.0          0.0          0.0   \n",
       "redbrll                   0.0          0.0          0.0          0.0   \n",
       "SmartyxD                  0.0          0.0          0.0          0.0   \n",
       "\n",
       "                  Schießstand  Schießstand  \n",
       "Allooy                   10.0         10.0  \n",
       "cediiiiii_10             47.5         47.5  \n",
       "_n3d                     10.0         10.0  \n",
       "Muniix                   25.0         25.0  \n",
       "qriezmannsOpa            42.5         42.5  \n",
       "...                       ...          ...  \n",
       "dossantosaveiro_          0.0          0.0  \n",
       "TheBreadHD                0.0          0.0  \n",
       "Axollotel                 0.0          0.0  \n",
       "redbrll                   0.0          0.0  \n",
       "SmartyxD                  0.0          NaN  \n",
       "\n",
       "[228 rows x 6 columns]"
      ]
     },
     "execution_count": 59,
     "metadata": {},
     "output_type": "execute_result"
    }
   ],
   "source": [
    "outDf['Schießstand']"
   ]
  },
  {
   "cell_type": "code",
   "execution_count": 60,
   "metadata": {},
   "outputs": [
    {
     "name": "stdout",
     "output_type": "stream",
     "text": [
      "['__egE.txt', 'Tammywood.txt', 'BunnyKiko.txt', 'SpeckyCut.txt', 'Hyxeed.txt', 'demiu.txt', 'SpinCrafter.txt', 'NanamiElvi.txt', '_n3d.txt', 'Sebi1801.txt', 'JayMinInSane.txt', 'Persidieus.txt', 'N3XV.txt', 'Wissender.txt', 'Gryzes.txt', 'jimmi4Life.txt', 'Gobo9.txt', 'Anni808.txt', 'LeWi_100.txt', '_Waldi_.txt', 'Grapfen.txt', 'PixlNight.txt', 'dossantosaveiro_.txt', 'agowskyy.txt', 'TheBreadHD.txt', 'Axollotel.txt', 'T_Niko_T.txt', 'Vanillinchen.txt', 'Odlaa.txt', 'D4rkCookie.txt', 'yzvm.txt', 'Tim_Voltia.txt', 'xBaumeisterin.txt', 'Ungluecklicher.txt', 'Lutorix.txt', 'Ninivee.txt', 'ArthurAlchemist.txt', 'redbrll.txt', 'Gfrasti.txt', 'Muniix.txt', 'Tomiokey.txt', 'Carl1_1.txt', 'DerAutist.txt', 'PolizeiDreamy.txt', 'xX_Dima_ggg_Xx6.txt', 'Falke23_5.txt', 'TheFabo.txt', 'DieserBear.txt', 'Picutar.txt', '2B9.txt', 'Schmaarek.txt', 'musi1999.txt', 'PumiTheCat.txt', 'HerrDante.txt', 'KakaMC.txt', 'StaudammAusHolz.txt', 'Lelouch610.txt', 'Kyuudo.txt', 'twitchparaskiill.txt', 'G0at3D.txt', 'SecretAgent_K.txt', 'KMaxN.txt', 'Sey__.txt', 'ForceFox.txt', 'toxicplace.txt', 'Gestimus.txt', 'yachayubin.txt', 'Wolkenfarmer.txt', 'y9nic.txt', 'KINT0.txt', 'zBro.txt', 'qriezmannsOpa.txt', 'Harold_Sensemann.txt', 'Pedrozockt.txt', 'MrNulfred.txt', 'Cytoox.txt', 'IchHolzDichWeg.txt', 'GingerTeddy.txt', 'Kopfradio.txt', 'loukrativ.txt', 'M0osebumps.txt', 'SmartyxD.txt', 'Kokochampo.txt', 'JennieKim.txt', 'Umgfoin.txt', 'ffawks.txt', 'byTobi.txt', 'Shiewk.txt', 'La_meleagro.txt', 'Squashgitter333.txt', 'Luxemburq.txt', 'DarkCobweb.txt', 'Sackkerl.txt', 'Sthyq.txt', 'Acidey.txt', 'Laaaachs.txt', 'HerosHD.txt', 'Lennart0911.txt', 'Gerrygames.txt', 'BusinessBent.txt', 'Simlll.txt', 'YBCM.txt', 'Txlentierter.txt', 'Dat_Klan.txt', 'Luis_XYZ.txt', 'NiklasMoWo.txt', 'MaxMitMaulkorb.txt', 'Oronor.txt', 'GamemasterNiki.txt', 'LordAlexos.txt', 'Pluto28.txt', 'GrafikKatze.txt', '_Einfallslos_.txt', 'cediiiiii_10.txt', 'Dokkkkko.txt', 'deadfiight.txt', 'Kanickelul.txt', 'crocodile1870.txt', 'Sower_.txt', 'Steavn.txt', 'EinfachEazy.txt', 'yiiq.txt', 'NotLennart.txt', 'Snitcherella.txt', 'Keenaai.txt', 'xd_Maiky.txt', 'ReichesBrot.txt', 'lolisamasan.txt', 'Raefinzs.txt', 'JOW24.txt', 'ByNetherdude.txt', 'ZweitesIch.txt', 'frutigall.txt', 'LilFueller.txt', 'xiooh.txt', 'rotmann2.txt', 'FlyingKyubi.txt', 'Joy_8oy.txt', 'BauHD.txt', 'CML_Justin.txt', 'MoZadaTV.txt', 'BastiGHG.txt', 'Gummibearchen.txt', 'Lord_Weibull.txt', 'VendasTM.txt', 'Stockinqs.txt', 'GlowyDusk.txt', 'Scuprum.txt', 'h4nnes.txt', 'cheesecake2901.txt', 'DrSpeed06.txt', 'Krusti.txt', 'marbrueck.txt', 'Vacted.txt', 'Janne4k.txt', 'Bartschii.txt', 'Mansuni.txt', 'SB387.txt', 'medisant.txt', 'Phoenix3000.txt', 'JOW23.txt', 'Ritokii.txt', 'Juti0n.txt', 'lvlaurin.txt', 'Bikoop.txt', 'FrozenNoah.txt', 'GeneralEnte06.txt', 'Dubbly.txt', 'revolverz.txt', 'Highsay.txt', 'ScreamingBlatz.txt', 'RyanxCole.txt', 'shellny.txt', 'TheKillerisback.txt', 'M0orey_0.txt', 'Mincheeen.txt', '2wc.txt', 'Feinberg.txt', 'Navex.txt', 'NewNormal0947.txt', 'Teesily.txt', 'SiLoHB.txt', 'Morittz.txt', 'cxl1lo.txt', 'LeMetin_.txt', 'unausgesprochen.txt', 'Freeeedom.txt', 'miridis41.txt', 'Joe3346.txt', 'Lingex.txt', 'xX_Masha_ggg_Xx9.txt', 'Julius16.txt', 'lizsyy.txt', 'camman18YT.txt', 'Jan2220.txt', 'Falke_01.txt', 'DaVinci_Son.txt', 'SatzdesPytag0ras.txt', 'Flitzi_Dino.txt', 'Wienerisch.txt', 'Seemops_8.txt', 'GermanPie.txt', 'chrisihalt.txt', 'FluffyDragon2007.txt', 'LucaaOn.txt', 'Allooy.txt', 'Chander24.txt', 'Fflopse.txt', 'bikop.txt', 'vKito.txt', 'bawskey.txt', 'RasenLP.txt', 'WirdNichtGeladen.txt', 'WuschigesEtwas.txt', 'OutcroYoutube.txt', 'HeIsJustAPoorBoy.txt', 'FlyingAutismus.txt', 'destr0yed_.txt', 'Ex4cted.txt', 'Mvsk_.txt', 'MaxOnTheRoad.txt', 'swiffle.txt', 'juvona.txt', 'Lubottus.txt', 'Nervigerr.txt', 'lolisamakun.txt', 'Martomias.txt', '20LeRe10.txt']\n",
      "processing Schießstand...\n",
      "Error: Tammywood.txt does not contain any TooltipEvent data\n",
      "Error: demiu.txt does not contain any TooltipEvent data\n",
      "Error: JayMinInSane.txt does not contain any TooltipEvent data\n",
      "Error: KINT0.txt does not contain any TooltipEvent data\n",
      "Error: SmartyxD.txt does not contain any TooltipEvent data\n",
      "Error: Sower_.txt does not contain any TooltipEvent data\n",
      "Error: Lord_Weibull.txt does not contain any TooltipEvent data\n",
      "Error: Scuprum.txt does not contain any TooltipEvent data\n",
      "Error: Dubbly.txt does not contain any TooltipEvent data\n",
      "Error: bikop.txt does not contain any TooltipEvent data\n",
      "Error: destr0yed_.txt does not contain any TooltipEvent data\n",
      "Schießstand processed\n"
     ]
    },
    {
     "data": {
      "text/html": [
       "<div>\n",
       "<style scoped>\n",
       "    .dataframe tbody tr th:only-of-type {\n",
       "        vertical-align: middle;\n",
       "    }\n",
       "\n",
       "    .dataframe tbody tr th {\n",
       "        vertical-align: top;\n",
       "    }\n",
       "\n",
       "    .dataframe thead th {\n",
       "        text-align: right;\n",
       "    }\n",
       "</style>\n",
       "<table border=\"1\" class=\"dataframe\">\n",
       "  <thead>\n",
       "    <tr style=\"text-align: right;\">\n",
       "      <th></th>\n",
       "      <th>City</th>\n",
       "      <th>Farm</th>\n",
       "      <th>Jungle</th>\n",
       "      <th>Punkte Chambers</th>\n",
       "      <th>PointSum</th>\n",
       "    </tr>\n",
       "  </thead>\n",
       "  <tbody>\n",
       "    <tr>\n",
       "      <th>Ex4cted</th>\n",
       "      <td>100.0</td>\n",
       "      <td>60.0</td>\n",
       "      <td>30.0</td>\n",
       "      <td>80.0</td>\n",
       "      <td>67.5</td>\n",
       "    </tr>\n",
       "    <tr>\n",
       "      <th>Fflopse</th>\n",
       "      <td>90.0</td>\n",
       "      <td>80.0</td>\n",
       "      <td>70.0</td>\n",
       "      <td>0.0</td>\n",
       "      <td>60.0</td>\n",
       "    </tr>\n",
       "    <tr>\n",
       "      <th>cediiiiii_10</th>\n",
       "      <td>20.0</td>\n",
       "      <td>30.0</td>\n",
       "      <td>90.0</td>\n",
       "      <td>50.0</td>\n",
       "      <td>47.5</td>\n",
       "    </tr>\n",
       "    <tr>\n",
       "      <th>JOW23</th>\n",
       "      <td>30.0</td>\n",
       "      <td>80.0</td>\n",
       "      <td>80.0</td>\n",
       "      <td>0.0</td>\n",
       "      <td>47.5</td>\n",
       "    </tr>\n",
       "    <tr>\n",
       "      <th>rotmann2</th>\n",
       "      <td>0.0</td>\n",
       "      <td>90.0</td>\n",
       "      <td>0.0</td>\n",
       "      <td>90.0</td>\n",
       "      <td>45.0</td>\n",
       "    </tr>\n",
       "    <tr>\n",
       "      <th>...</th>\n",
       "      <td>...</td>\n",
       "      <td>...</td>\n",
       "      <td>...</td>\n",
       "      <td>...</td>\n",
       "      <td>...</td>\n",
       "    </tr>\n",
       "    <tr>\n",
       "      <th>ffawks</th>\n",
       "      <td>0.0</td>\n",
       "      <td>0.0</td>\n",
       "      <td>0.0</td>\n",
       "      <td>0.0</td>\n",
       "      <td>0.0</td>\n",
       "    </tr>\n",
       "    <tr>\n",
       "      <th>byTobi</th>\n",
       "      <td>0.0</td>\n",
       "      <td>0.0</td>\n",
       "      <td>0.0</td>\n",
       "      <td>0.0</td>\n",
       "      <td>0.0</td>\n",
       "    </tr>\n",
       "    <tr>\n",
       "      <th>Shiewk</th>\n",
       "      <td>0.0</td>\n",
       "      <td>0.0</td>\n",
       "      <td>0.0</td>\n",
       "      <td>0.0</td>\n",
       "      <td>0.0</td>\n",
       "    </tr>\n",
       "    <tr>\n",
       "      <th>La_meleagro</th>\n",
       "      <td>0.0</td>\n",
       "      <td>0.0</td>\n",
       "      <td>0.0</td>\n",
       "      <td>0.0</td>\n",
       "      <td>0.0</td>\n",
       "    </tr>\n",
       "    <tr>\n",
       "      <th>20LeRe10</th>\n",
       "      <td>0.0</td>\n",
       "      <td>0.0</td>\n",
       "      <td>0.0</td>\n",
       "      <td>0.0</td>\n",
       "      <td>0.0</td>\n",
       "    </tr>\n",
       "  </tbody>\n",
       "</table>\n",
       "<p>214 rows × 5 columns</p>\n",
       "</div>"
      ],
      "text/plain": [
       "               City  Farm  Jungle  Punkte Chambers  PointSum\n",
       "Ex4cted       100.0  60.0    30.0             80.0      67.5\n",
       "Fflopse        90.0  80.0    70.0              0.0      60.0\n",
       "cediiiiii_10   20.0  30.0    90.0             50.0      47.5\n",
       "JOW23          30.0  80.0    80.0              0.0      47.5\n",
       "rotmann2        0.0  90.0     0.0             90.0      45.0\n",
       "...             ...   ...     ...              ...       ...\n",
       "ffawks          0.0   0.0     0.0              0.0       0.0\n",
       "byTobi          0.0   0.0     0.0              0.0       0.0\n",
       "Shiewk          0.0   0.0     0.0              0.0       0.0\n",
       "La_meleagro     0.0   0.0     0.0              0.0       0.0\n",
       "20LeRe10        0.0   0.0     0.0              0.0       0.0\n",
       "\n",
       "[214 rows x 5 columns]"
      ]
     },
     "execution_count": 60,
     "metadata": {},
     "output_type": "execute_result"
    }
   ],
   "source": [
    "getBestPlayer(minigame='Schießstand')"
   ]
  },
  {
   "cell_type": "code",
   "execution_count": 61,
   "metadata": {},
   "outputs": [
    {
     "data": {
      "text/plain": [
       "Index(['Sammelwahn', 'Schießstand', 'Mauerfall', 'Mini Survivalgames',\n",
       "       'Lasertag', 'Minengefecht', 'Einer im Köcher', 'Spleef', 'Buntes Chaos',\n",
       "       'Reihenfolge', 'Duelle', 'Turmroulette', 'Wettrennen', 'Jump and Run',\n",
       "       'Pferderennen', 'Drachenflucht', 'Replika', 'Todeswürfel',\n",
       "       'Freier Fall', 'Elytrarennen', 'Waffenfolge', 'Minenfeld',\n",
       "       'Kletterkönig', 'Ampelrennen', 'Hoch hinaus', 'Frostiger Pfad',\n",
       "       'Runterpurzeln', 'Total'],\n",
       "      dtype='object')"
      ]
     },
     "execution_count": 61,
     "metadata": {},
     "output_type": "execute_result"
    }
   ],
   "source": [
    "remove_duplicate_columns(outDf).columns"
   ]
  },
  {
   "cell_type": "code",
   "execution_count": 62,
   "metadata": {},
   "outputs": [
    {
     "data": {
      "image/png": "[encoded data removed]",
      "text/plain": [
       "<Figure size 2000x1400 with 1 Axes>"
      ]
     },
     "metadata": {},
     "output_type": "display_data"
    }
   ],
   "source": [
    "import matplotlib.pyplot as plt\n",
    "import plotly.express as px\n",
    "\n",
    "# print(outDf)\n",
    "\n",
    "# sum all lines to get the total score\n",
    "\n",
    "outDf['Total'] = outDf.sum(axis=1)\n",
    "\n",
    "outDf = outDf.sort_values(by='Total', ascending=False).fillna(0)\n",
    "\n",
    "# crop df to the top 10 players and plot the data, as a stacked barplot, place legend outside\n",
    "\n",
    "cropDf = outDf.head(10)\n",
    "\n",
    "cropDf = cropDf.drop(columns=['Total'])\n",
    "\n",
    "cropDf.plot(kind='bar', stacked=True, figsize=(20, 14))\n",
    "\n",
    "plt.legend(loc='center left', bbox_to_anchor=(1.0, 0.5))\n",
    "\n",
    "plt.show()"
   ]
  },
  {
   "cell_type": "code",
   "execution_count": 63,
   "metadata": {},
   "outputs": [
    {
     "data": {
      "text/html": [
       "<div>\n",
       "<style scoped>\n",
       "    .dataframe tbody tr th:only-of-type {\n",
       "        vertical-align: middle;\n",
       "    }\n",
       "\n",
       "    .dataframe tbody tr th {\n",
       "        vertical-align: top;\n",
       "    }\n",
       "\n",
       "    .dataframe thead th {\n",
       "        text-align: right;\n",
       "    }\n",
       "</style>\n",
       "<table border=\"1\" class=\"dataframe\">\n",
       "  <thead>\n",
       "    <tr style=\"text-align: right;\">\n",
       "      <th></th>\n",
       "      <th>Sammelwahn</th>\n",
       "      <th>Schießstand</th>\n",
       "      <th>Mauerfall</th>\n",
       "      <th>Mini Survivalgames</th>\n",
       "      <th>Lasertag</th>\n",
       "      <th>Minengefecht</th>\n",
       "      <th>Einer im Köcher</th>\n",
       "      <th>Spleef</th>\n",
       "      <th>Buntes Chaos</th>\n",
       "      <th>Reihenfolge</th>\n",
       "      <th>...</th>\n",
       "      <th>Todeswürfel</th>\n",
       "      <th>Freier Fall</th>\n",
       "      <th>Elytrarennen</th>\n",
       "      <th>Waffenfolge</th>\n",
       "      <th>Minenfeld</th>\n",
       "      <th>Kletterkönig</th>\n",
       "      <th>Ampelrennen</th>\n",
       "      <th>Hoch hinaus</th>\n",
       "      <th>Frostiger Pfad</th>\n",
       "      <th>Runterpurzeln</th>\n",
       "    </tr>\n",
       "  </thead>\n",
       "  <tbody>\n",
       "    <tr>\n",
       "      <th>Allooy</th>\n",
       "      <td>21.025641</td>\n",
       "      <td>10.0</td>\n",
       "      <td>12.857143</td>\n",
       "      <td>0.0</td>\n",
       "      <td>0.000000</td>\n",
       "      <td>22.50</td>\n",
       "      <td>50.0</td>\n",
       "      <td>100.0</td>\n",
       "      <td>100.0</td>\n",
       "      <td>0.0</td>\n",
       "      <td>...</td>\n",
       "      <td>0.0</td>\n",
       "      <td>0.0</td>\n",
       "      <td>90.0</td>\n",
       "      <td>0.0</td>\n",
       "      <td>10.000000</td>\n",
       "      <td>23.333333</td>\n",
       "      <td>0.0</td>\n",
       "      <td>80.0</td>\n",
       "      <td>0.0</td>\n",
       "      <td>60.0</td>\n",
       "    </tr>\n",
       "    <tr>\n",
       "      <th>cediiiiii_10</th>\n",
       "      <td>41.538462</td>\n",
       "      <td>47.5</td>\n",
       "      <td>37.142857</td>\n",
       "      <td>0.0</td>\n",
       "      <td>10.000000</td>\n",
       "      <td>35.00</td>\n",
       "      <td>10.0</td>\n",
       "      <td>70.0</td>\n",
       "      <td>100.0</td>\n",
       "      <td>0.0</td>\n",
       "      <td>...</td>\n",
       "      <td>0.0</td>\n",
       "      <td>0.0</td>\n",
       "      <td>42.5</td>\n",
       "      <td>0.0</td>\n",
       "      <td>10.000000</td>\n",
       "      <td>23.333333</td>\n",
       "      <td>10.0</td>\n",
       "      <td>20.0</td>\n",
       "      <td>0.0</td>\n",
       "      <td>80.0</td>\n",
       "    </tr>\n",
       "    <tr>\n",
       "      <th>_n3d</th>\n",
       "      <td>17.692308</td>\n",
       "      <td>10.0</td>\n",
       "      <td>14.285714</td>\n",
       "      <td>0.0</td>\n",
       "      <td>30.000000</td>\n",
       "      <td>13.75</td>\n",
       "      <td>4.0</td>\n",
       "      <td>90.0</td>\n",
       "      <td>100.0</td>\n",
       "      <td>0.0</td>\n",
       "      <td>...</td>\n",
       "      <td>0.0</td>\n",
       "      <td>0.0</td>\n",
       "      <td>45.0</td>\n",
       "      <td>0.0</td>\n",
       "      <td>50.000000</td>\n",
       "      <td>20.000000</td>\n",
       "      <td>15.0</td>\n",
       "      <td>0.0</td>\n",
       "      <td>0.0</td>\n",
       "      <td>30.0</td>\n",
       "    </tr>\n",
       "    <tr>\n",
       "      <th>Muniix</th>\n",
       "      <td>11.025641</td>\n",
       "      <td>25.0</td>\n",
       "      <td>24.285714</td>\n",
       "      <td>0.0</td>\n",
       "      <td>16.666667</td>\n",
       "      <td>10.00</td>\n",
       "      <td>4.0</td>\n",
       "      <td>70.0</td>\n",
       "      <td>100.0</td>\n",
       "      <td>0.0</td>\n",
       "      <td>...</td>\n",
       "      <td>0.0</td>\n",
       "      <td>0.0</td>\n",
       "      <td>12.5</td>\n",
       "      <td>0.0</td>\n",
       "      <td>0.000000</td>\n",
       "      <td>46.666667</td>\n",
       "      <td>0.0</td>\n",
       "      <td>0.0</td>\n",
       "      <td>0.0</td>\n",
       "      <td>100.0</td>\n",
       "    </tr>\n",
       "    <tr>\n",
       "      <th>qriezmannsOpa</th>\n",
       "      <td>7.179487</td>\n",
       "      <td>42.5</td>\n",
       "      <td>0.000000</td>\n",
       "      <td>0.0</td>\n",
       "      <td>35.000000</td>\n",
       "      <td>10.00</td>\n",
       "      <td>0.0</td>\n",
       "      <td>90.0</td>\n",
       "      <td>50.0</td>\n",
       "      <td>0.0</td>\n",
       "      <td>...</td>\n",
       "      <td>0.0</td>\n",
       "      <td>0.0</td>\n",
       "      <td>42.5</td>\n",
       "      <td>0.0</td>\n",
       "      <td>46.666667</td>\n",
       "      <td>56.666667</td>\n",
       "      <td>0.0</td>\n",
       "      <td>0.0</td>\n",
       "      <td>0.0</td>\n",
       "      <td>70.0</td>\n",
       "    </tr>\n",
       "    <tr>\n",
       "      <th>...</th>\n",
       "      <td>...</td>\n",
       "      <td>...</td>\n",
       "      <td>...</td>\n",
       "      <td>...</td>\n",
       "      <td>...</td>\n",
       "      <td>...</td>\n",
       "      <td>...</td>\n",
       "      <td>...</td>\n",
       "      <td>...</td>\n",
       "      <td>...</td>\n",
       "      <td>...</td>\n",
       "      <td>...</td>\n",
       "      <td>...</td>\n",
       "      <td>...</td>\n",
       "      <td>...</td>\n",
       "      <td>...</td>\n",
       "      <td>...</td>\n",
       "      <td>...</td>\n",
       "      <td>...</td>\n",
       "      <td>...</td>\n",
       "      <td>...</td>\n",
       "    </tr>\n",
       "    <tr>\n",
       "      <th>Raefinzs</th>\n",
       "      <td>0.000000</td>\n",
       "      <td>0.0</td>\n",
       "      <td>0.000000</td>\n",
       "      <td>0.0</td>\n",
       "      <td>0.000000</td>\n",
       "      <td>0.00</td>\n",
       "      <td>0.0</td>\n",
       "      <td>0.0</td>\n",
       "      <td>0.0</td>\n",
       "      <td>0.0</td>\n",
       "      <td>...</td>\n",
       "      <td>0.0</td>\n",
       "      <td>0.0</td>\n",
       "      <td>0.0</td>\n",
       "      <td>0.0</td>\n",
       "      <td>0.000000</td>\n",
       "      <td>0.000000</td>\n",
       "      <td>0.0</td>\n",
       "      <td>0.0</td>\n",
       "      <td>0.0</td>\n",
       "      <td>0.0</td>\n",
       "    </tr>\n",
       "    <tr>\n",
       "      <th>Jan2220</th>\n",
       "      <td>0.000000</td>\n",
       "      <td>0.0</td>\n",
       "      <td>0.000000</td>\n",
       "      <td>0.0</td>\n",
       "      <td>0.000000</td>\n",
       "      <td>0.00</td>\n",
       "      <td>0.0</td>\n",
       "      <td>0.0</td>\n",
       "      <td>0.0</td>\n",
       "      <td>0.0</td>\n",
       "      <td>...</td>\n",
       "      <td>0.0</td>\n",
       "      <td>0.0</td>\n",
       "      <td>0.0</td>\n",
       "      <td>0.0</td>\n",
       "      <td>0.000000</td>\n",
       "      <td>0.000000</td>\n",
       "      <td>0.0</td>\n",
       "      <td>0.0</td>\n",
       "      <td>0.0</td>\n",
       "      <td>0.0</td>\n",
       "    </tr>\n",
       "    <tr>\n",
       "      <th>M0orey_0</th>\n",
       "      <td>0.000000</td>\n",
       "      <td>0.0</td>\n",
       "      <td>0.000000</td>\n",
       "      <td>0.0</td>\n",
       "      <td>0.000000</td>\n",
       "      <td>0.00</td>\n",
       "      <td>0.0</td>\n",
       "      <td>0.0</td>\n",
       "      <td>0.0</td>\n",
       "      <td>0.0</td>\n",
       "      <td>...</td>\n",
       "      <td>0.0</td>\n",
       "      <td>0.0</td>\n",
       "      <td>0.0</td>\n",
       "      <td>0.0</td>\n",
       "      <td>0.000000</td>\n",
       "      <td>0.000000</td>\n",
       "      <td>0.0</td>\n",
       "      <td>0.0</td>\n",
       "      <td>0.0</td>\n",
       "      <td>0.0</td>\n",
       "    </tr>\n",
       "    <tr>\n",
       "      <th>Mvsk_</th>\n",
       "      <td>0.000000</td>\n",
       "      <td>0.0</td>\n",
       "      <td>0.000000</td>\n",
       "      <td>0.0</td>\n",
       "      <td>0.000000</td>\n",
       "      <td>0.00</td>\n",
       "      <td>0.0</td>\n",
       "      <td>0.0</td>\n",
       "      <td>0.0</td>\n",
       "      <td>0.0</td>\n",
       "      <td>...</td>\n",
       "      <td>0.0</td>\n",
       "      <td>0.0</td>\n",
       "      <td>0.0</td>\n",
       "      <td>0.0</td>\n",
       "      <td>0.000000</td>\n",
       "      <td>0.000000</td>\n",
       "      <td>0.0</td>\n",
       "      <td>0.0</td>\n",
       "      <td>0.0</td>\n",
       "      <td>0.0</td>\n",
       "    </tr>\n",
       "    <tr>\n",
       "      <th>SmartyxD</th>\n",
       "      <td>0.000000</td>\n",
       "      <td>0.0</td>\n",
       "      <td>0.000000</td>\n",
       "      <td>0.0</td>\n",
       "      <td>0.000000</td>\n",
       "      <td>0.00</td>\n",
       "      <td>0.0</td>\n",
       "      <td>0.0</td>\n",
       "      <td>0.0</td>\n",
       "      <td>0.0</td>\n",
       "      <td>...</td>\n",
       "      <td>0.0</td>\n",
       "      <td>0.0</td>\n",
       "      <td>0.0</td>\n",
       "      <td>0.0</td>\n",
       "      <td>0.000000</td>\n",
       "      <td>0.000000</td>\n",
       "      <td>0.0</td>\n",
       "      <td>0.0</td>\n",
       "      <td>0.0</td>\n",
       "      <td>0.0</td>\n",
       "    </tr>\n",
       "  </tbody>\n",
       "</table>\n",
       "<p>228 rows × 133 columns</p>\n",
       "</div>"
      ],
      "text/plain": [
       "               Sammelwahn  Schießstand  Mauerfall  Mini Survivalgames  \\\n",
       "Allooy          21.025641         10.0  12.857143                 0.0   \n",
       "cediiiiii_10    41.538462         47.5  37.142857                 0.0   \n",
       "_n3d            17.692308         10.0  14.285714                 0.0   \n",
       "Muniix          11.025641         25.0  24.285714                 0.0   \n",
       "qriezmannsOpa    7.179487         42.5   0.000000                 0.0   \n",
       "...                   ...          ...        ...                 ...   \n",
       "Raefinzs         0.000000          0.0   0.000000                 0.0   \n",
       "Jan2220          0.000000          0.0   0.000000                 0.0   \n",
       "M0orey_0         0.000000          0.0   0.000000                 0.0   \n",
       "Mvsk_            0.000000          0.0   0.000000                 0.0   \n",
       "SmartyxD         0.000000          0.0   0.000000                 0.0   \n",
       "\n",
       "                Lasertag  Minengefecht  Einer im Köcher  Spleef  Buntes Chaos  \\\n",
       "Allooy          0.000000         22.50             50.0   100.0         100.0   \n",
       "cediiiiii_10   10.000000         35.00             10.0    70.0         100.0   \n",
       "_n3d           30.000000         13.75              4.0    90.0         100.0   \n",
       "Muniix         16.666667         10.00              4.0    70.0         100.0   \n",
       "qriezmannsOpa  35.000000         10.00              0.0    90.0          50.0   \n",
       "...                  ...           ...              ...     ...           ...   \n",
       "Raefinzs        0.000000          0.00              0.0     0.0           0.0   \n",
       "Jan2220         0.000000          0.00              0.0     0.0           0.0   \n",
       "M0orey_0        0.000000          0.00              0.0     0.0           0.0   \n",
       "Mvsk_           0.000000          0.00              0.0     0.0           0.0   \n",
       "SmartyxD        0.000000          0.00              0.0     0.0           0.0   \n",
       "\n",
       "               Reihenfolge  ...  Todeswürfel  Freier Fall  Elytrarennen  \\\n",
       "Allooy                 0.0  ...          0.0          0.0          90.0   \n",
       "cediiiiii_10           0.0  ...          0.0          0.0          42.5   \n",
       "_n3d                   0.0  ...          0.0          0.0          45.0   \n",
       "Muniix                 0.0  ...          0.0          0.0          12.5   \n",
       "qriezmannsOpa          0.0  ...          0.0          0.0          42.5   \n",
       "...                    ...  ...          ...          ...           ...   \n",
       "Raefinzs               0.0  ...          0.0          0.0           0.0   \n",
       "Jan2220                0.0  ...          0.0          0.0           0.0   \n",
       "M0orey_0               0.0  ...          0.0          0.0           0.0   \n",
       "Mvsk_                  0.0  ...          0.0          0.0           0.0   \n",
       "SmartyxD               0.0  ...          0.0          0.0           0.0   \n",
       "\n",
       "               Waffenfolge  Minenfeld  Kletterkönig  Ampelrennen  Hoch hinaus  \\\n",
       "Allooy                 0.0  10.000000     23.333333          0.0         80.0   \n",
       "cediiiiii_10           0.0  10.000000     23.333333         10.0         20.0   \n",
       "_n3d                   0.0  50.000000     20.000000         15.0          0.0   \n",
       "Muniix                 0.0   0.000000     46.666667          0.0          0.0   \n",
       "qriezmannsOpa          0.0  46.666667     56.666667          0.0          0.0   \n",
       "...                    ...        ...           ...          ...          ...   \n",
       "Raefinzs               0.0   0.000000      0.000000          0.0          0.0   \n",
       "Jan2220                0.0   0.000000      0.000000          0.0          0.0   \n",
       "M0orey_0               0.0   0.000000      0.000000          0.0          0.0   \n",
       "Mvsk_                  0.0   0.000000      0.000000          0.0          0.0   \n",
       "SmartyxD               0.0   0.000000      0.000000          0.0          0.0   \n",
       "\n",
       "               Frostiger Pfad  Runterpurzeln  \n",
       "Allooy                    0.0           60.0  \n",
       "cediiiiii_10              0.0           80.0  \n",
       "_n3d                      0.0           30.0  \n",
       "Muniix                    0.0          100.0  \n",
       "qriezmannsOpa             0.0           70.0  \n",
       "...                       ...            ...  \n",
       "Raefinzs                  0.0            0.0  \n",
       "Jan2220                   0.0            0.0  \n",
       "M0orey_0                  0.0            0.0  \n",
       "Mvsk_                     0.0            0.0  \n",
       "SmartyxD                  0.0            0.0  \n",
       "\n",
       "[228 rows x 133 columns]"
      ]
     },
     "execution_count": 63,
     "metadata": {},
     "output_type": "execute_result"
    }
   ],
   "source": [
    "outDf"
   ]
  },
  {
   "cell_type": "code",
   "execution_count": 66,
   "metadata": {},
   "outputs": [
    {
     "data": {
      "application/vnd.plotly.v1+json": {
       "config": {
        "plotlyServerURL": "https://plot.ly"
       },
       "data": [
        {
         "marker": {
          "color": "rgb(136, 204, 238)"
         },
         "name": "Ampelrennen",
         "type": "bar",
         "x": [
          "Allooy",
          "cediiiiii_10",
          "_n3d",
          "qriezmannsOpa",
          "Muniix",
          "chrisihalt",
          "Fflopse",
          "Ex4cted",
          "Gobo9",
          "NewNormal0947",
          "Umgfoin",
          "HerrDante",
          "rotmann2",
          "Pedrozockt",
          "ReichesBrot",
          "Lelouch610",
          "JennieKim",
          "Ninivee",
          "FrozenNoah",
          "Teesily"
         ],
         "y": {
          "bdata": "AAAAAAAAAAAAAAAAAAAkQAAAAAAAAC5AAAAAAAAAAAAAAAAAAAAAAAAAAAAAAFRAAAAAAACAQUAAAAAAAIBRQAAAAAAAAElAAAAAAAAAAAAAAAAAAABJQAAAAAAAAAAAAAAAAAAAAAAAAAAAAIBLQAAAAAAAAAAAAAAAAAAAAAAAAAAAAAAAAAAAAAAAAAAAAAAAAAAAAAAAAAAAAAAAAA==",
          "dtype": "f8"
         }
        },
        {
         "marker": {
          "color": "rgb(204, 102, 119)"
         },
         "name": "Buntes Chaos",
         "type": "bar",
         "x": [
          "Allooy",
          "cediiiiii_10",
          "_n3d",
          "qriezmannsOpa",
          "Muniix",
          "chrisihalt",
          "Fflopse",
          "Ex4cted",
          "Gobo9",
          "NewNormal0947",
          "Umgfoin",
          "HerrDante",
          "rotmann2",
          "Pedrozockt",
          "ReichesBrot",
          "Lelouch610",
          "JennieKim",
          "Ninivee",
          "FrozenNoah",
          "Teesily"
         ],
         "y": {
          "bdata": "AAAAAAAAWUAAAAAAAABZQAAAAAAAAFlAAAAAAAAASUAAAAAAAABZQAAAAAAAAElAAAAAAAAAWUAAAAAAAABZQAAAAAAAAElAAAAAAAAASUAAAAAAAABZQAAAAAAAAFlAAAAAAAAASUAAAAAAAABZQAAAAAAAAFlAAAAAAAAASUAAAAAAAABJQAAAAAAAAFlAAAAAAAAAAAAAAAAAAABZQA==",
          "dtype": "f8"
         }
        },
        {
         "marker": {
          "color": "rgb(221, 204, 119)"
         },
         "name": "Drachenflucht",
         "type": "bar",
         "x": [
          "Allooy",
          "cediiiiii_10",
          "_n3d",
          "qriezmannsOpa",
          "Muniix",
          "chrisihalt",
          "Fflopse",
          "Ex4cted",
          "Gobo9",
          "NewNormal0947",
          "Umgfoin",
          "HerrDante",
          "rotmann2",
          "Pedrozockt",
          "ReichesBrot",
          "Lelouch610",
          "JennieKim",
          "Ninivee",
          "FrozenNoah",
          "Teesily"
         ],
         "y": {
          "bdata": "AAAAAACARkAAAAAAAABOQAAAAAAAAD5AAAAAAACAMUAAAAAAAAApQAAAAAAAAAAAAAAAAAAAAAAAAAAAAAAUQAAAAAAAAAAAAAAAAABASkAAAAAAAAA5QAAAAAAAAAAAAAAAAAAAHkAAAAAAAAAAAAAAAAAAAAAAAAAAAAAAAAAAAAAAAAAAAAAAAAAAAB5AAAAAAAAAAAAAAAAAAMBCQA==",
          "dtype": "f8"
         }
        },
        {
         "marker": {
          "color": "rgb(17, 119, 51)"
         },
         "name": "Duelle",
         "type": "bar",
         "x": [
          "Allooy",
          "cediiiiii_10",
          "_n3d",
          "qriezmannsOpa",
          "Muniix",
          "chrisihalt",
          "Fflopse",
          "Ex4cted",
          "Gobo9",
          "NewNormal0947",
          "Umgfoin",
          "HerrDante",
          "rotmann2",
          "Pedrozockt",
          "ReichesBrot",
          "Lelouch610",
          "JennieKim",
          "Ninivee",
          "FrozenNoah",
          "Teesily"
         ],
         "y": {
          "bdata": "AAAAAAAAAAAAAAAAAABOQAAAAAAAAAAAAAAAAAAAAAAAAAAAAAAAAAAAAAAAAE5AAAAAAAAAAAAAAAAAAAAAAAAAAAAAAAAAAAAAAAAAAAAAAAAAAAAAAAAAAAAAAAAAAAAAAAAAAAAAAAAAAAAAAAAAAAAAAAAAAAAAAAAAAAAAAAAAAAAAAAAAAAAAAAAAAAAAAAAAAAAAAAAAAAAAAA==",
          "dtype": "f8"
         }
        },
        {
         "marker": {
          "color": "rgb(51, 34, 136)"
         },
         "name": "Einer im Köcher",
         "type": "bar",
         "x": [
          "Allooy",
          "cediiiiii_10",
          "_n3d",
          "qriezmannsOpa",
          "Muniix",
          "chrisihalt",
          "Fflopse",
          "Ex4cted",
          "Gobo9",
          "NewNormal0947",
          "Umgfoin",
          "HerrDante",
          "rotmann2",
          "Pedrozockt",
          "ReichesBrot",
          "Lelouch610",
          "JennieKim",
          "Ninivee",
          "FrozenNoah",
          "Teesily"
         ],
         "y": {
          "bdata": "AAAAAAAASUAAAAAAAAAkQAAAAAAAABBAAAAAAAAAAAAAAAAAAAAQQAAAAAAAAAAAAAAAAAAASEAAAAAAAAAwQAAAAAAAAAAAAAAAAAAAJEAAAAAAAAAAAAAAAAAAAERAAAAAAAAAAAAAAAAAAAAAAAAAAAAAAAAAAAAAAAAAEEAAAAAAAAAAAAAAAAAAAAAAAAAAAAAARkAAAAAAAAAoQA==",
          "dtype": "f8"
         }
        },
        {
         "marker": {
          "color": "rgb(170, 68, 153)"
         },
         "name": "Elytrarennen",
         "type": "bar",
         "x": [
          "Allooy",
          "cediiiiii_10",
          "_n3d",
          "qriezmannsOpa",
          "Muniix",
          "chrisihalt",
          "Fflopse",
          "Ex4cted",
          "Gobo9",
          "NewNormal0947",
          "Umgfoin",
          "HerrDante",
          "rotmann2",
          "Pedrozockt",
          "ReichesBrot",
          "Lelouch610",
          "JennieKim",
          "Ninivee",
          "FrozenNoah",
          "Teesily"
         ],
         "y": {
          "bdata": "AAAAAACAVkAAAAAAAEBFQAAAAAAAgEZAAAAAAABARUAAAAAAAAApQAAAAAAAQE9AAAAAAAAALkAAAAAAAAAAAAAAAAAAAAAAAAAAAAAAHkAAAAAAAAAAAAAAAAAAAAAAAAAAAAAAKUAAAAAAAAAAAAAAAAAAADRAAAAAAAAAAAAAAAAAAAAAAAAAAAAAAAAAAAAAAAAAAAAAAAAAAAAAAA==",
          "dtype": "f8"
         }
        },
        {
         "marker": {
          "color": "rgb(68, 170, 153)"
         },
         "name": "Freier Fall",
         "type": "bar",
         "x": [
          "Allooy",
          "cediiiiii_10",
          "_n3d",
          "qriezmannsOpa",
          "Muniix",
          "chrisihalt",
          "Fflopse",
          "Ex4cted",
          "Gobo9",
          "NewNormal0947",
          "Umgfoin",
          "HerrDante",
          "rotmann2",
          "Pedrozockt",
          "ReichesBrot",
          "Lelouch610",
          "JennieKim",
          "Ninivee",
          "FrozenNoah",
          "Teesily"
         ],
         "y": {
          "bdata": "AAAAAAAAAAAAAAAAAAAAAAAAAAAAAAAAAAAAAAAAAAAAAAAAAAAAAAAAAAAAAAAAAAAAAAAAAAAAAAAAAAAAAAAAAAAAAAAAAAAAAAAAAAAAAAAAAAAAAAAAAAAAAAAAAAAAAAAAAAAAAAAAAAAAAAAAAAAAAAAAAAAAAAAAAAAAAAAAAAAAAAAAAAAAAAAAAAAAAAAAAAAAAAAAAAAAAA==",
          "dtype": "f8"
         }
        },
        {
         "marker": {
          "color": "rgb(153, 153, 51)"
         },
         "name": "Frostiger Pfad",
         "type": "bar",
         "x": [
          "Allooy",
          "cediiiiii_10",
          "_n3d",
          "qriezmannsOpa",
          "Muniix",
          "chrisihalt",
          "Fflopse",
          "Ex4cted",
          "Gobo9",
          "NewNormal0947",
          "Umgfoin",
          "HerrDante",
          "rotmann2",
          "Pedrozockt",
          "ReichesBrot",
          "Lelouch610",
          "JennieKim",
          "Ninivee",
          "FrozenNoah",
          "Teesily"
         ],
         "y": {
          "bdata": "AAAAAAAAAAAAAAAAAAAAAAAAAAAAAAAAAAAAAAAAAAAAAAAAAAAAAAAAAAAAAAAAAAAAAAAAAAAAAAAAAAAAAAAAAAAAAAAAAAAAAAAAAAAAAAAAAAAAAAAAAAAAAAAAAAAAAAAAAAAAAAAAAAAAAAAAAAAAAAAAAAAAAAAAAAAAAAAAAAAAAAAAAAAAAAAAAAAAAAAAAAAAAAAAAAAAAA==",
          "dtype": "f8"
         }
        },
        {
         "marker": {
          "color": "rgb(136, 34, 85)"
         },
         "name": "Hoch hinaus",
         "type": "bar",
         "x": [
          "Allooy",
          "cediiiiii_10",
          "_n3d",
          "qriezmannsOpa",
          "Muniix",
          "chrisihalt",
          "Fflopse",
          "Ex4cted",
          "Gobo9",
          "NewNormal0947",
          "Umgfoin",
          "HerrDante",
          "rotmann2",
          "Pedrozockt",
          "ReichesBrot",
          "Lelouch610",
          "JennieKim",
          "Ninivee",
          "FrozenNoah",
          "Teesily"
         ],
         "y": {
          "bdata": "AAAAAAAAVEAAAAAAAAA0QAAAAAAAAAAAAAAAAAAAAAAAAAAAAAAAAAAAAAAAAERAAAAAAAAASUAAAAAAAIBWQAAAAAAAAAAAAAAAAAAAAAAAAAAAAAAAAAAAAAAAAAAAAAAAAAAAAAAAAAAAAABOQAAAAAAAAAAAAAAAAAAAAAAAAAAAAAAAAAAAAAAAgFFAAAAAAAAAAAAAAAAAAAAAAA==",
          "dtype": "f8"
         }
        },
        {
         "marker": {
          "color": "rgb(102, 17, 0)"
         },
         "name": "Jump and Run",
         "type": "bar",
         "x": [
          "Allooy",
          "cediiiiii_10",
          "_n3d",
          "qriezmannsOpa",
          "Muniix",
          "chrisihalt",
          "Fflopse",
          "Ex4cted",
          "Gobo9",
          "NewNormal0947",
          "Umgfoin",
          "HerrDante",
          "rotmann2",
          "Pedrozockt",
          "ReichesBrot",
          "Lelouch610",
          "JennieKim",
          "Ninivee",
          "FrozenNoah",
          "Teesily"
         ],
         "y": {
          "bdata": "AAAAAAAAAAAAAAAAAAAAAAAAAAAAAAAAAAAAAAAAAAAAAAAAAAAAAAAAAAAAAAAAAAAAAAAAAAAAAAAAAAAAAAAAAAAAAAAAAAAAAAAAAAAAAAAAAAAAAAAAAAAAAAAAAAAAAAAAAAAAAAAAAAAAAAAAAAAAAAAAAAAAAAAAAAAAAAAAAAAAAAAAAAAAAAAAAAAAAAAAAAAAAAAAAAAAAA==",
          "dtype": "f8"
         }
        },
        {
         "marker": {
          "color": "rgb(136, 136, 136)"
         },
         "name": "Kletterkönig",
         "type": "bar",
         "x": [
          "Allooy",
          "cediiiiii_10",
          "_n3d",
          "qriezmannsOpa",
          "Muniix",
          "chrisihalt",
          "Fflopse",
          "Ex4cted",
          "Gobo9",
          "NewNormal0947",
          "Umgfoin",
          "HerrDante",
          "rotmann2",
          "Pedrozockt",
          "ReichesBrot",
          "Lelouch610",
          "JennieKim",
          "Ninivee",
          "FrozenNoah",
          "Teesily"
         ],
         "y": {
          "bdata": "VVVVVVVVN0BVVVVVVVU3QAAAAAAAADRAVVVVVVVVTEBVVVVVVVVHQAAAAAAAACRAVVVVVVVVR0AAAAAAAAAAAKuqqqqqqhpAq6qqqqqqKkAAAAAAAAAAAAAAAAAAACRAAAAAAAAANEAAAAAAAAAAAKuqqqqqqlBAAAAAAAAAAAAAAAAAAAAAAAAAAAAAAAAAAAAAAAAAAAAAAAAAAAAAAA==",
          "dtype": "f8"
         }
        },
        {
         "marker": {
          "color": "rgb(136, 204, 238)"
         },
         "name": "Lasertag",
         "type": "bar",
         "x": [
          "Allooy",
          "cediiiiii_10",
          "_n3d",
          "qriezmannsOpa",
          "Muniix",
          "chrisihalt",
          "Fflopse",
          "Ex4cted",
          "Gobo9",
          "NewNormal0947",
          "Umgfoin",
          "HerrDante",
          "rotmann2",
          "Pedrozockt",
          "ReichesBrot",
          "Lelouch610",
          "JennieKim",
          "Ninivee",
          "FrozenNoah",
          "Teesily"
         ],
         "y": {
          "bdata": "AAAAAAAAAAAAAAAAAAAkQAAAAAAAAD5AAAAAAACAQUCrqqqqqqowQAAAAAAAAAAAAAAAAAAAREAAAAAAAAAuQAAAAAAAAAAAAAAAAAAAAABVVVVVVVU8QAAAAAAAAERAAAAAAAAAAABVVVVVVVUnQAAAAAAAABRAq6qqqqqqOkBVVVVVVVU3QAAAAAAAAAAAAAAAAAAAAAAAAAAAAAAAAA==",
          "dtype": "f8"
         }
        },
        {
         "marker": {
          "color": "rgb(204, 102, 119)"
         },
         "name": "Mauerfall",
         "type": "bar",
         "x": [
          "Allooy",
          "cediiiiii_10",
          "_n3d",
          "qriezmannsOpa",
          "Muniix",
          "chrisihalt",
          "Fflopse",
          "Ex4cted",
          "Gobo9",
          "NewNormal0947",
          "Umgfoin",
          "HerrDante",
          "rotmann2",
          "Pedrozockt",
          "ReichesBrot",
          "Lelouch610",
          "JennieKim",
          "Ninivee",
          "FrozenNoah",
          "Teesily"
         ],
         "y": {
          "bdata": "btu2bdu2KUAlSZIkSZJCQCVJkiRJkixAAAAAAAAAAACSJEmSJEk4QAAAAAAAAAAAJUmSJEmSPEAAAAAAAAAAAG7btm3btilASZIkSZIkMUC3bdu2bdsWQCVJkiRJkixAAAAAAAAAAAAAAAAAAAA0QAAAAAAAAAAAAAAAAAAAAAAAAAAAAAAAALdt27Zt2xZAAAAAAAAAAAAAAAAAAAAAAA==",
          "dtype": "f8"
         }
        },
        {
         "marker": {
          "color": "rgb(221, 204, 119)"
         },
         "name": "Minenfeld",
         "type": "bar",
         "x": [
          "Allooy",
          "cediiiiii_10",
          "_n3d",
          "qriezmannsOpa",
          "Muniix",
          "chrisihalt",
          "Fflopse",
          "Ex4cted",
          "Gobo9",
          "NewNormal0947",
          "Umgfoin",
          "HerrDante",
          "rotmann2",
          "Pedrozockt",
          "ReichesBrot",
          "Lelouch610",
          "JennieKim",
          "Ninivee",
          "FrozenNoah",
          "Teesily"
         ],
         "y": {
          "bdata": "AAAAAAAAJEAAAAAAAAAkQAAAAAAAAElAVVVVVVVVR0AAAAAAAAAAAKuqqqqqqkBAq6qqqqqqOkAAAAAAAAAAAAAAAAAAAAAAAAAAAAAAAAAAAAAAAAAAAAAAAAAAAD5AAAAAAAAAAAAAAAAAAAAAAKuqqqqqqjBAAAAAAAAAAAAAAAAAAAAAAKuqqqqqqhpAq6qqqqqqMEAAAAAAAAAAAA==",
          "dtype": "f8"
         }
        },
        {
         "marker": {
          "color": "rgb(17, 119, 51)"
         },
         "name": "Minengefecht",
         "type": "bar",
         "x": [
          "Allooy",
          "cediiiiii_10",
          "_n3d",
          "qriezmannsOpa",
          "Muniix",
          "chrisihalt",
          "Fflopse",
          "Ex4cted",
          "Gobo9",
          "NewNormal0947",
          "Umgfoin",
          "HerrDante",
          "rotmann2",
          "Pedrozockt",
          "ReichesBrot",
          "Lelouch610",
          "JennieKim",
          "Ninivee",
          "FrozenNoah",
          "Teesily"
         ],
         "y": {
          "bdata": "AAAAAACANkAAAAAAAIBBQAAAAAAAgCtAAAAAAAAAJEAAAAAAAAAkQAAAAAAAgDZAAAAAAAAADkAAAAAAAAAAAAAAAAAAADRAAAAAAAAADkAAAAAAAAAAAAAAAAAAgCFAAAAAAAAAJEAAAAAAAAAAAAAAAAAAAA5AAAAAAAAAKUAAAAAAAAAAAAAAAAAAAAAAAAAAAAAAOUAAAAAAAAAAAA==",
          "dtype": "f8"
         }
        },
        {
         "marker": {
          "color": "rgb(51, 34, 136)"
         },
         "name": "Mini Survivalgames",
         "type": "bar",
         "x": [
          "Allooy",
          "cediiiiii_10",
          "_n3d",
          "qriezmannsOpa",
          "Muniix",
          "chrisihalt",
          "Fflopse",
          "Ex4cted",
          "Gobo9",
          "NewNormal0947",
          "Umgfoin",
          "HerrDante",
          "rotmann2",
          "Pedrozockt",
          "ReichesBrot",
          "Lelouch610",
          "JennieKim",
          "Ninivee",
          "FrozenNoah",
          "Teesily"
         ],
         "y": {
          "bdata": "AAAAAAAAAAAAAAAAAAAAAAAAAAAAAAAAAAAAAAAAAAAAAAAAAAAAAAAAAAAAAAAAAAAAAAAAAAAAAAAAAAAAAAAAAAAAAAAAAAAAAAAAAAAAAAAAAAAAAAAAAAAAAAAAAAAAAAAAAAAAAAAAAAAAAAAAAAAAAAAAAAAAAAAAAAAAAAAAAAAAAAAAAAAAAAAAAAAAAAAAAAAAAAAAAAAAAA==",
          "dtype": "f8"
         }
        },
        {
         "marker": {
          "color": "rgb(170, 68, 153)"
         },
         "name": "Pferderennen",
         "type": "bar",
         "x": [
          "Allooy",
          "cediiiiii_10",
          "_n3d",
          "qriezmannsOpa",
          "Muniix",
          "chrisihalt",
          "Fflopse",
          "Ex4cted",
          "Gobo9",
          "NewNormal0947",
          "Umgfoin",
          "HerrDante",
          "rotmann2",
          "Pedrozockt",
          "ReichesBrot",
          "Lelouch610",
          "JennieKim",
          "Ninivee",
          "FrozenNoah",
          "Teesily"
         ],
         "y": {
          "bdata": "q6qqqqqqNUBVVVVVVdVJQAAAAAAAgEFAq6qqqqoqSEAAAAAAAAAUQKuqqqqqqkVAq6qqqqqqQEAAAAAAAAAAAAAAAAAAADlAq6qqqqqqKkCrqqqqqqoKQKuqqqqqqgpAVVVVVVVVR0BVVVVVVVUnQKuqqqqqqjVAAAAAAAAAFECrqqqqqqpFQAAAAAAAAAAAAAAAAAAAAAAAAAAAAAAAAA==",
          "dtype": "f8"
         }
        },
        {
         "marker": {
          "color": "rgb(68, 170, 153)"
         },
         "name": "Reihenfolge",
         "type": "bar",
         "x": [
          "Allooy",
          "cediiiiii_10",
          "_n3d",
          "qriezmannsOpa",
          "Muniix",
          "chrisihalt",
          "Fflopse",
          "Ex4cted",
          "Gobo9",
          "NewNormal0947",
          "Umgfoin",
          "HerrDante",
          "rotmann2",
          "Pedrozockt",
          "ReichesBrot",
          "Lelouch610",
          "JennieKim",
          "Ninivee",
          "FrozenNoah",
          "Teesily"
         ],
         "y": {
          "bdata": "AAAAAAAAAAAAAAAAAAAAAAAAAAAAAAAAAAAAAAAAAAAAAAAAAAAAAAAAAAAAAAAAAAAAAAAAAAAAAAAAAAAAAAAAAAAAAAAAAAAAAAAAAAAAAAAAAAAAAAAAAAAAAAAAAAAAAAAAAAAAAAAAAAAAAAAAAAAAAAAAAAAAAAAAAAAAAAAAAAAAAAAAAAAAAAAAAAAAAAAAAAAAAAAAAAAAAA==",
          "dtype": "f8"
         }
        },
        {
         "marker": {
          "color": "rgb(153, 153, 51)"
         },
         "name": "Replika",
         "type": "bar",
         "x": [
          "Allooy",
          "cediiiiii_10",
          "_n3d",
          "qriezmannsOpa",
          "Muniix",
          "chrisihalt",
          "Fflopse",
          "Ex4cted",
          "Gobo9",
          "NewNormal0947",
          "Umgfoin",
          "HerrDante",
          "rotmann2",
          "Pedrozockt",
          "ReichesBrot",
          "Lelouch610",
          "JennieKim",
          "Ninivee",
          "FrozenNoah",
          "Teesily"
         ],
         "y": {
          "bdata": "NUiDNEgDV0AndmIndmJOQOqhHuqhHlJABEZgBEZgHEAjMAIjMAI7QI7jOI7jOCZACYzACIzAMEC6n/u5n/tEQBQ7sRM7sUtAq6qqqqqqGkCQBmmQBmngP23WZm3WZg1AkAZpkAZp4D92Yid2YicqQH3Lt3zLtwxAXuEVXuEV7j+btVmbtVnbPxZe4RVe4cU/AAAAAAAAAAB4hVd4hVc0QA==",
          "dtype": "f8"
         }
        },
        {
         "marker": {
          "color": "rgb(136, 34, 85)"
         },
         "name": "Runterpurzeln",
         "type": "bar",
         "x": [
          "Allooy",
          "cediiiiii_10",
          "_n3d",
          "qriezmannsOpa",
          "Muniix",
          "chrisihalt",
          "Fflopse",
          "Ex4cted",
          "Gobo9",
          "NewNormal0947",
          "Umgfoin",
          "HerrDante",
          "rotmann2",
          "Pedrozockt",
          "ReichesBrot",
          "Lelouch610",
          "JennieKim",
          "Ninivee",
          "FrozenNoah",
          "Teesily"
         ],
         "y": {
          "bdata": "AAAAAAAATkAAAAAAAABUQAAAAAAAAD5AAAAAAACAUUAAAAAAAABZQAAAAAAAAAAAAAAAAAAAAAAAAAAAAABEQAAAAAAAAAAAAAAAAAAASUAAAAAAAAAAAAAAAAAAAAAAAAAAAAAAAAAAAAAAAAAAAAAAAAAAAAAAAAAAAAAAAAAAAAAAAAA0QAAAAAAAAAAAAAAAAAAAAAAAAAAAAAAAAA==",
          "dtype": "f8"
         }
        },
        {
         "marker": {
          "color": "rgb(102, 17, 0)"
         },
         "name": "Sammelwahn",
         "type": "bar",
         "x": [
          "Allooy",
          "cediiiiii_10",
          "_n3d",
          "qriezmannsOpa",
          "Muniix",
          "chrisihalt",
          "Fflopse",
          "Ex4cted",
          "Gobo9",
          "NewNormal0947",
          "Umgfoin",
          "HerrDante",
          "rotmann2",
          "Pedrozockt",
          "ReichesBrot",
          "Lelouch610",
          "JennieKim",
          "Ninivee",
          "FrozenNoah",
          "Teesily"
         ],
         "y": {
          "bdata": "aZAGaZAGNUBP7MRO7MREQBQ7sRM7sTFAfcu3fMu3HEDSIA3SIA0mQAdpkAZpkBZASIM0SIM0LEAAAAAAAAA0QMu3fMu3fDNAsRM7sRM7M0AAAAAAAAAkQMu3fMu3fCNAntiJndiJFUA1SIM0SIMUQGIndmIndgJA2Ymd2Imd6D/Lt3zLt3wTQNmJndiJnfg/NUiDNEiDBEB9y7d8y7cMQA==",
          "dtype": "f8"
         }
        },
        {
         "marker": {
          "color": "rgb(136, 136, 136)"
         },
         "name": "Schießstand",
         "type": "bar",
         "x": [
          "Allooy",
          "cediiiiii_10",
          "_n3d",
          "qriezmannsOpa",
          "Muniix",
          "chrisihalt",
          "Fflopse",
          "Ex4cted",
          "Gobo9",
          "NewNormal0947",
          "Umgfoin",
          "HerrDante",
          "rotmann2",
          "Pedrozockt",
          "ReichesBrot",
          "Lelouch610",
          "JennieKim",
          "Ninivee",
          "FrozenNoah",
          "Teesily"
         ],
         "y": {
          "bdata": "AAAAAAAAJEAAAAAAAMBHQAAAAAAAACRAAAAAAABARUAAAAAAAAA5QAAAAAAAAC5AAAAAAAAATkAAAAAAAOBQQAAAAAAAgDFAAAAAAAAAHkAAAAAAAAAAAAAAAAAAgEFAAAAAAACARkAAAAAAAAAAAAAAAAAAAAAAAAAAAAAAAAAAAAAAAAAAAAAAAAAAAAAAAAAAAAAAAAAAAAAAAAAAAA==",
          "dtype": "f8"
         }
        },
        {
         "marker": {
          "color": "rgb(136, 204, 238)"
         },
         "name": "Spleef",
         "type": "bar",
         "x": [
          "Allooy",
          "cediiiiii_10",
          "_n3d",
          "qriezmannsOpa",
          "Muniix",
          "chrisihalt",
          "Fflopse",
          "Ex4cted",
          "Gobo9",
          "NewNormal0947",
          "Umgfoin",
          "HerrDante",
          "rotmann2",
          "Pedrozockt",
          "ReichesBrot",
          "Lelouch610",
          "JennieKim",
          "Ninivee",
          "FrozenNoah",
          "Teesily"
         ],
         "y": {
          "bdata": "AAAAAAAAWUAAAAAAAIBRQAAAAAAAgFZAAAAAAACAVkAAAAAAAIBRQAAAAAAAAAAAAAAAAAAAAAAAAAAAAAAAAAAAAAAAAAAAAAAAAACAUUAAAAAAAAA0QAAAAAAAAAAAAAAAAACAUUAAAAAAAAAAAAAAAAAAAAAAAAAAAACAUUAAAAAAAAA0QAAAAAAAAAAAAAAAAAAAAAAAAAAAAAAAAA==",
          "dtype": "f8"
         }
        },
        {
         "marker": {
          "color": "rgb(204, 102, 119)"
         },
         "name": "Todeswürfel",
         "type": "bar",
         "x": [
          "Allooy",
          "cediiiiii_10",
          "_n3d",
          "qriezmannsOpa",
          "Muniix",
          "chrisihalt",
          "Fflopse",
          "Ex4cted",
          "Gobo9",
          "NewNormal0947",
          "Umgfoin",
          "HerrDante",
          "rotmann2",
          "Pedrozockt",
          "ReichesBrot",
          "Lelouch610",
          "JennieKim",
          "Ninivee",
          "FrozenNoah",
          "Teesily"
         ],
         "y": {
          "bdata": "AAAAAAAAAAAAAAAAAAAAAAAAAAAAAAAAAAAAAAAAAAAAAAAAAAAAAAAAAAAAAAAAAAAAAAAAAAAAAAAAAAAAAAAAAAAAAAAAAAAAAAAAAAAAAAAAAAAAAAAAAAAAAAAAAAAAAAAAAAAAAAAAAAAAAAAAAAAAAAAAAAAAAAAAAAAAAAAAAAAAAAAAAAAAAAAAAAAAAAAAAAAAAAAAAAAAAA==",
          "dtype": "f8"
         }
        },
        {
         "marker": {
          "color": "rgb(221, 204, 119)"
         },
         "name": "Turmroulette",
         "type": "bar",
         "x": [
          "Allooy",
          "cediiiiii_10",
          "_n3d",
          "qriezmannsOpa",
          "Muniix",
          "chrisihalt",
          "Fflopse",
          "Ex4cted",
          "Gobo9",
          "NewNormal0947",
          "Umgfoin",
          "HerrDante",
          "rotmann2",
          "Pedrozockt",
          "ReichesBrot",
          "Lelouch610",
          "JennieKim",
          "Ninivee",
          "FrozenNoah",
          "Teesily"
         ],
         "y": {
          "bdata": "AAAAAACAUUAAAAAAAAAAAAAAAAAAADRAAAAAAACAUUAAAAAAAIBWQAAAAAAAgFZAAAAAAAAAAAAAAAAAAAAAAAAAAAAAAFlAAAAAAAAANEAAAAAAAIBRQAAAAAAAAAAAAAAAAAAAAAAAAAAAAAAAAAAAAAAAAAAAAAAAAAAANEAAAAAAAAAAAAAAAAAAAAAAAAAAAACAUUAAAAAAAAAAAA==",
          "dtype": "f8"
         }
        },
        {
         "marker": {
          "color": "rgb(17, 119, 51)"
         },
         "name": "Waffenfolge",
         "type": "bar",
         "x": [
          "Allooy",
          "cediiiiii_10",
          "_n3d",
          "qriezmannsOpa",
          "Muniix",
          "chrisihalt",
          "Fflopse",
          "Ex4cted",
          "Gobo9",
          "NewNormal0947",
          "Umgfoin",
          "HerrDante",
          "rotmann2",
          "Pedrozockt",
          "ReichesBrot",
          "Lelouch610",
          "JennieKim",
          "Ninivee",
          "FrozenNoah",
          "Teesily"
         ],
         "y": {
          "bdata": "AAAAAAAAAAAAAAAAAAAAAAAAAAAAAAAAAAAAAAAAAAAAAAAAAAAAAAAAAAAAAAAAAAAAAAAAAAAAAAAAAAAAAAAAAAAAAAAAAAAAAAAAAAAAAAAAAAAAAAAAAAAAAAAAAAAAAAAAAAAAAAAAAAAAAAAAAAAAAAAAAAAAAAAAAAAAAAAAAAAAAAAAAAAAAAAAAAAAAAAAAAAAAAAAAAAAAA==",
          "dtype": "f8"
         }
        },
        {
         "marker": {
          "color": "rgb(51, 34, 136)"
         },
         "name": "Wettrennen",
         "type": "bar",
         "x": [
          "Allooy",
          "cediiiiii_10",
          "_n3d",
          "qriezmannsOpa",
          "Muniix",
          "chrisihalt",
          "Fflopse",
          "Ex4cted",
          "Gobo9",
          "NewNormal0947",
          "Umgfoin",
          "HerrDante",
          "rotmann2",
          "Pedrozockt",
          "ReichesBrot",
          "Lelouch610",
          "JennieKim",
          "Ninivee",
          "FrozenNoah",
          "Teesily"
         ],
         "y": {
          "bdata": "AAAAAAAATUAAAAAAAABCQAAAAAAAAEtAAAAAAAAAQEAAAAAAAABBQAAAAAAAgFNAAAAAAAAANEAAAAAAAAAkQAAAAAAAACxAAAAAAAAAIEAAAAAAAAAAAAAAAAAAABBAAAAAAAAAAAAAAAAAAAAAAAAAAAAAACxAAAAAAAAAAAAAAAAAAABDQAAAAAAAAAAAAAAAAAAAAAAAAAAAAAAAAA==",
          "dtype": "f8"
         }
        }
       ],
       "layout": {
        "annotations": [
         {
          "font": {
           "size": 12
          },
          "showarrow": false,
          "text": "Max 100 points per minigame. Records #1 through #10 are considered (#1: 100, #2: 90, ..., #10: 10). If a minigame has multiple maps, the 100 points are distributed equally. fflopse.github.io/MCP-Records/data-analysis/global-ranking.ipynb",
          "x": 0.5,
          "xanchor": "center",
          "xref": "paper",
          "y": -0.235,
          "yref": "paper"
         }
        ],
        "barmode": "stack",
        "legend": {
         "bgcolor": "rgba(255, 255, 255, 0)",
         "bordercolor": "rgba(0, 0, 0, 0)",
         "font": {
          "size": 12
         },
         "traceorder": "normal",
         "x": 1.05,
         "y": 0.5
        },
        "margin": {
         "r": 200
        },
        "template": {
         "data": {
          "bar": [
           {
            "error_x": {
             "color": "#2a3f5f"
            },
            "error_y": {
             "color": "#2a3f5f"
            },
            "marker": {
             "line": {
              "color": "#E5ECF6",
              "width": 0.5
             },
             "pattern": {
              "fillmode": "overlay",
              "size": 10,
              "solidity": 0.2
             }
            },
            "type": "bar"
           }
          ],
          "barpolar": [
           {
            "marker": {
             "line": {
              "color": "#E5ECF6",
              "width": 0.5
             },
             "pattern": {
              "fillmode": "overlay",
              "size": 10,
              "solidity": 0.2
             }
            },
            "type": "barpolar"
           }
          ],
          "carpet": [
           {
            "aaxis": {
             "endlinecolor": "#2a3f5f",
             "gridcolor": "white",
             "linecolor": "white",
             "minorgridcolor": "white",
             "startlinecolor": "#2a3f5f"
            },
            "baxis": {
             "endlinecolor": "#2a3f5f",
             "gridcolor": "white",
             "linecolor": "white",
             "minorgridcolor": "white",
             "startlinecolor": "#2a3f5f"
            },
            "type": "carpet"
           }
          ],
          "choropleth": [
           {
            "colorbar": {
             "outlinewidth": 0,
             "ticks": ""
            },
            "type": "choropleth"
           }
          ],
          "contour": [
           {
            "colorbar": {
             "outlinewidth": 0,
             "ticks": ""
            },
            "colorscale": [
             [
              0,
              "#0d0887"
             ],
             [
              0.1111111111111111,
              "#46039f"
             ],
             [
              0.2222222222222222,
              "#7201a8"
             ],
             [
              0.3333333333333333,
              "#9c179e"
             ],
             [
              0.4444444444444444,
              "#bd3786"
             ],
             [
              0.5555555555555556,
              "#d8576b"
             ],
             [
              0.6666666666666666,
              "#ed7953"
             ],
             [
              0.7777777777777778,
              "#fb9f3a"
             ],
             [
              0.8888888888888888,
              "#fdca26"
             ],
             [
              1,
              "#f0f921"
             ]
            ],
            "type": "contour"
           }
          ],
          "contourcarpet": [
           {
            "colorbar": {
             "outlinewidth": 0,
             "ticks": ""
            },
            "type": "contourcarpet"
           }
          ],
          "heatmap": [
           {
            "colorbar": {
             "outlinewidth": 0,
             "ticks": ""
            },
            "colorscale": [
             [
              0,
              "#0d0887"
             ],
             [
              0.1111111111111111,
              "#46039f"
             ],
             [
              0.2222222222222222,
              "#7201a8"
             ],
             [
              0.3333333333333333,
              "#9c179e"
             ],
             [
              0.4444444444444444,
              "#bd3786"
             ],
             [
              0.5555555555555556,
              "#d8576b"
             ],
             [
              0.6666666666666666,
              "#ed7953"
             ],
             [
              0.7777777777777778,
              "#fb9f3a"
             ],
             [
              0.8888888888888888,
              "#fdca26"
             ],
             [
              1,
              "#f0f921"
             ]
            ],
            "type": "heatmap"
           }
          ],
          "histogram": [
           {
            "marker": {
             "pattern": {
              "fillmode": "overlay",
              "size": 10,
              "solidity": 0.2
             }
            },
            "type": "histogram"
           }
          ],
          "histogram2d": [
           {
            "colorbar": {
             "outlinewidth": 0,
             "ticks": ""
            },
            "colorscale": [
             [
              0,
              "#0d0887"
             ],
             [
              0.1111111111111111,
              "#46039f"
             ],
             [
              0.2222222222222222,
              "#7201a8"
             ],
             [
              0.3333333333333333,
              "#9c179e"
             ],
             [
              0.4444444444444444,
              "#bd3786"
             ],
             [
              0.5555555555555556,
              "#d8576b"
             ],
             [
              0.6666666666666666,
              "#ed7953"
             ],
             [
              0.7777777777777778,
              "#fb9f3a"
             ],
             [
              0.8888888888888888,
              "#fdca26"
             ],
             [
              1,
              "#f0f921"
             ]
            ],
            "type": "histogram2d"
           }
          ],
          "histogram2dcontour": [
           {
            "colorbar": {
             "outlinewidth": 0,
             "ticks": ""
            },
            "colorscale": [
             [
              0,
              "#0d0887"
             ],
             [
              0.1111111111111111,
              "#46039f"
             ],
             [
              0.2222222222222222,
              "#7201a8"
             ],
             [
              0.3333333333333333,
              "#9c179e"
             ],
             [
              0.4444444444444444,
              "#bd3786"
             ],
             [
              0.5555555555555556,
              "#d8576b"
             ],
             [
              0.6666666666666666,
              "#ed7953"
             ],
             [
              0.7777777777777778,
              "#fb9f3a"
             ],
             [
              0.8888888888888888,
              "#fdca26"
             ],
             [
              1,
              "#f0f921"
             ]
            ],
            "type": "histogram2dcontour"
           }
          ],
          "mesh3d": [
           {
            "colorbar": {
             "outlinewidth": 0,
             "ticks": ""
            },
            "type": "mesh3d"
           }
          ],
          "parcoords": [
           {
            "line": {
             "colorbar": {
              "outlinewidth": 0,
              "ticks": ""
             }
            },
            "type": "parcoords"
           }
          ],
          "pie": [
           {
            "automargin": true,
            "type": "pie"
           }
          ],
          "scatter": [
           {
            "fillpattern": {
             "fillmode": "overlay",
             "size": 10,
             "solidity": 0.2
            },
            "type": "scatter"
           }
          ],
          "scatter3d": [
           {
            "line": {
             "colorbar": {
              "outlinewidth": 0,
              "ticks": ""
             }
            },
            "marker": {
             "colorbar": {
              "outlinewidth": 0,
              "ticks": ""
             }
            },
            "type": "scatter3d"
           }
          ],
          "scattercarpet": [
           {
            "marker": {
             "colorbar": {
              "outlinewidth": 0,
              "ticks": ""
             }
            },
            "type": "scattercarpet"
           }
          ],
          "scattergeo": [
           {
            "marker": {
             "colorbar": {
              "outlinewidth": 0,
              "ticks": ""
             }
            },
            "type": "scattergeo"
           }
          ],
          "scattergl": [
           {
            "marker": {
             "colorbar": {
              "outlinewidth": 0,
              "ticks": ""
             }
            },
            "type": "scattergl"
           }
          ],
          "scattermap": [
           {
            "marker": {
             "colorbar": {
              "outlinewidth": 0,
              "ticks": ""
             }
            },
            "type": "scattermap"
           }
          ],
          "scattermapbox": [
           {
            "marker": {
             "colorbar": {
              "outlinewidth": 0,
              "ticks": ""
             }
            },
            "type": "scattermapbox"
           }
          ],
          "scatterpolar": [
           {
            "marker": {
             "colorbar": {
              "outlinewidth": 0,
              "ticks": ""
             }
            },
            "type": "scatterpolar"
           }
          ],
          "scatterpolargl": [
           {
            "marker": {
             "colorbar": {
              "outlinewidth": 0,
              "ticks": ""
             }
            },
            "type": "scatterpolargl"
           }
          ],
          "scatterternary": [
           {
            "marker": {
             "colorbar": {
              "outlinewidth": 0,
              "ticks": ""
             }
            },
            "type": "scatterternary"
           }
          ],
          "surface": [
           {
            "colorbar": {
             "outlinewidth": 0,
             "ticks": ""
            },
            "colorscale": [
             [
              0,
              "#0d0887"
             ],
             [
              0.1111111111111111,
              "#46039f"
             ],
             [
              0.2222222222222222,
              "#7201a8"
             ],
             [
              0.3333333333333333,
              "#9c179e"
             ],
             [
              0.4444444444444444,
              "#bd3786"
             ],
             [
              0.5555555555555556,
              "#d8576b"
             ],
             [
              0.6666666666666666,
              "#ed7953"
             ],
             [
              0.7777777777777778,
              "#fb9f3a"
             ],
             [
              0.8888888888888888,
              "#fdca26"
             ],
             [
              1,
              "#f0f921"
             ]
            ],
            "type": "surface"
           }
          ],
          "table": [
           {
            "cells": {
             "fill": {
              "color": "#EBF0F8"
             },
             "line": {
              "color": "white"
             }
            },
            "header": {
             "fill": {
              "color": "#C8D4E3"
             },
             "line": {
              "color": "white"
             }
            },
            "type": "table"
           }
          ]
         },
         "layout": {
          "annotationdefaults": {
           "arrowcolor": "#2a3f5f",
           "arrowhead": 0,
           "arrowwidth": 1
          },
          "autotypenumbers": "strict",
          "coloraxis": {
           "colorbar": {
            "outlinewidth": 0,
            "ticks": ""
           }
          },
          "colorscale": {
           "diverging": [
            [
             0,
             "#8e0152"
            ],
            [
             0.1,
             "#c51b7d"
            ],
            [
             0.2,
             "#de77ae"
            ],
            [
             0.3,
             "#f1b6da"
            ],
            [
             0.4,
             "#fde0ef"
            ],
            [
             0.5,
             "#f7f7f7"
            ],
            [
             0.6,
             "#e6f5d0"
            ],
            [
             0.7,
             "#b8e186"
            ],
            [
             0.8,
             "#7fbc41"
            ],
            [
             0.9,
             "#4d9221"
            ],
            [
             1,
             "#276419"
            ]
           ],
           "sequential": [
            [
             0,
             "#0d0887"
            ],
            [
             0.1111111111111111,
             "#46039f"
            ],
            [
             0.2222222222222222,
             "#7201a8"
            ],
            [
             0.3333333333333333,
             "#9c179e"
            ],
            [
             0.4444444444444444,
             "#bd3786"
            ],
            [
             0.5555555555555556,
             "#d8576b"
            ],
            [
             0.6666666666666666,
             "#ed7953"
            ],
            [
             0.7777777777777778,
             "#fb9f3a"
            ],
            [
             0.8888888888888888,
             "#fdca26"
            ],
            [
             1,
             "#f0f921"
            ]
           ],
           "sequentialminus": [
            [
             0,
             "#0d0887"
            ],
            [
             0.1111111111111111,
             "#46039f"
            ],
            [
             0.2222222222222222,
             "#7201a8"
            ],
            [
             0.3333333333333333,
             "#9c179e"
            ],
            [
             0.4444444444444444,
             "#bd3786"
            ],
            [
             0.5555555555555556,
             "#d8576b"
            ],
            [
             0.6666666666666666,
             "#ed7953"
            ],
            [
             0.7777777777777778,
             "#fb9f3a"
            ],
            [
             0.8888888888888888,
             "#fdca26"
            ],
            [
             1,
             "#f0f921"
            ]
           ]
          },
          "colorway": [
           "#636efa",
           "#EF553B",
           "#00cc96",
           "#ab63fa",
           "#FFA15A",
           "#19d3f3",
           "#FF6692",
           "#B6E880",
           "#FF97FF",
           "#FECB52"
          ],
          "font": {
           "color": "#2a3f5f"
          },
          "geo": {
           "bgcolor": "white",
           "lakecolor": "white",
           "landcolor": "#E5ECF6",
           "showlakes": true,
           "showland": true,
           "subunitcolor": "white"
          },
          "hoverlabel": {
           "align": "left"
          },
          "hovermode": "closest",
          "mapbox": {
           "style": "light"
          },
          "paper_bgcolor": "white",
          "plot_bgcolor": "#E5ECF6",
          "polar": {
           "angularaxis": {
            "gridcolor": "white",
            "linecolor": "white",
            "ticks": ""
           },
           "bgcolor": "#E5ECF6",
           "radialaxis": {
            "gridcolor": "white",
            "linecolor": "white",
            "ticks": ""
           }
          },
          "scene": {
           "xaxis": {
            "backgroundcolor": "#E5ECF6",
            "gridcolor": "white",
            "gridwidth": 2,
            "linecolor": "white",
            "showbackground": true,
            "ticks": "",
            "zerolinecolor": "white"
           },
           "yaxis": {
            "backgroundcolor": "#E5ECF6",
            "gridcolor": "white",
            "gridwidth": 2,
            "linecolor": "white",
            "showbackground": true,
            "ticks": "",
            "zerolinecolor": "white"
           },
           "zaxis": {
            "backgroundcolor": "#E5ECF6",
            "gridcolor": "white",
            "gridwidth": 2,
            "linecolor": "white",
            "showbackground": true,
            "ticks": "",
            "zerolinecolor": "white"
           }
          },
          "shapedefaults": {
           "line": {
            "color": "#2a3f5f"
           }
          },
          "ternary": {
           "aaxis": {
            "gridcolor": "white",
            "linecolor": "white",
            "ticks": ""
           },
           "baxis": {
            "gridcolor": "white",
            "linecolor": "white",
            "ticks": ""
           },
           "bgcolor": "#E5ECF6",
           "caxis": {
            "gridcolor": "white",
            "linecolor": "white",
            "ticks": ""
           }
          },
          "title": {
           "x": 0.05
          },
          "xaxis": {
           "automargin": true,
           "gridcolor": "white",
           "linecolor": "white",
           "ticks": "",
           "title": {
            "standoff": 15
           },
           "zerolinecolor": "white",
           "zerolinewidth": 2
          },
          "yaxis": {
           "automargin": true,
           "gridcolor": "white",
           "linecolor": "white",
           "ticks": "",
           "title": {
            "standoff": 15
           },
           "zerolinecolor": "white",
           "zerolinewidth": 2
          }
         }
        },
        "title": {
         "text": "Overall Record Comparison - Top 20 Players"
        },
        "xaxis": {
         "title": {
          "text": "Player"
         }
        },
        "yaxis": {
         "title": {
          "text": "Points"
         }
        }
       }
      }
     },
     "metadata": {},
     "output_type": "display_data"
    }
   ],
   "source": [
    "import plotly.graph_objects as go\n",
    "\n",
    "# Sum all columns to get the total score\n",
    "outDf['Total'] = outDf.sum(axis=1)\n",
    "\n",
    "# Sort by total score and fill N/A values with 0\n",
    "outDf = outDf.sort_values(by='Total', ascending=False).fillna(0)\n",
    "\n",
    "# Crop to top 10 players\n",
    "cropDf = outDf.head(20).copy()\n",
    "\n",
    "# Drop the 'Total' column for plotting\n",
    "cropDf = cropDf.drop(columns=['Total'])\n",
    "\n",
    "# Create a color palette\n",
    "color_palette = px.colors.qualitative.Safe\n",
    "\n",
    "# Create the stacked bar plot\n",
    "fig = go.Figure()\n",
    "\n",
    "cropDf = remove_duplicate_columns(cropDf)\n",
    "\n",
    "for column in cropDf.columns.difference(['Player']):\n",
    "    fig.add_trace(go.Bar(\n",
    "        x=cropDf.index,\n",
    "        y=cropDf[column],\n",
    "        name=column,\n",
    "        marker_color=color_palette[len(fig.data) % len(color_palette)]\n",
    "    ))\n",
    "\n",
    "# Update layout\n",
    "fig.update_layout(\n",
    "    barmode='stack',\n",
    "    title='Overall Record Comparison - Top 20 Players',\n",
    "    xaxis=dict(title='Player'),\n",
    "    yaxis=dict(title='Points'),\n",
    "    #height=800,\n",
    "    #width=1000,\n",
    "    legend=dict(\n",
    "        x=1.05,\n",
    "        y=0.5,\n",
    "        traceorder='normal',\n",
    "        font=dict(size=12),\n",
    "        bgcolor='rgba(255, 255, 255, 0)',\n",
    "        bordercolor='rgba(0, 0, 0, 0)'\n",
    "    ),\n",
    "    margin=dict(r=200),  # Adjust right margin to make room for the legend\n",
    "    annotations=[\n",
    "        dict(\n",
    "            x=0.5,\n",
    "            y=-0.235,\n",
    "            xref='paper',\n",
    "            yref='paper',\n",
    "            text='Max 100 points per minigame. Records #1 through #10 are considered (#1: 100, #2: 90, ..., #10: 10). If a minigame has multiple maps, the 100 points are distributed equally. fflopse.github.io/MCP-Records/data-analysis/global-ranking.ipynb',\n",
    "            showarrow=False,\n",
    "            font=dict(size=12),\n",
    "            xanchor='center'\n",
    "        )\n",
    "    ]\n",
    ")\n",
    "\n",
    "fig.show()\n",
    "\n",
    "# save the plot as an html file\n",
    "\n",
    "fig.write_html('out/overall_record_comparison.html')"
   ]
  },
  {
   "cell_type": "code",
   "execution_count": 67,
   "metadata": {},
   "outputs": [
    {
     "data": {
      "application/vnd.plotly.v1+json": {
       "config": {
        "plotlyServerURL": "https://plot.ly"
       },
       "data": [
        {
         "marker": {
          "color": "rgb(136, 204, 238)"
         },
         "name": "Ampelrennen",
         "type": "bar",
         "x": [
          "Allooy",
          "cediiiiii_10",
          "_n3d",
          "qriezmannsOpa",
          "Muniix",
          "chrisihalt",
          "Fflopse",
          "Ex4cted",
          "Gobo9",
          "NewNormal0947",
          "Umgfoin",
          "HerrDante",
          "rotmann2",
          "Pedrozockt",
          "ReichesBrot",
          "Lelouch610",
          "JennieKim",
          "Ninivee",
          "FrozenNoah",
          "Teesily",
          "Luxemburq",
          "CML_Justin",
          "Joe3346",
          "DarkCobweb",
          "JOW23",
          "La_meleagro",
          "lizsyy",
          "VendasTM",
          "2B9",
          "KakaMC",
          "Freeeedom",
          "Squashgitter333",
          "GingerTeddy",
          "toxicplace",
          "Shiewk",
          "yzvm",
          "miridis41",
          "2wc",
          "TheFabo",
          "Grapfen"
         ],
         "y": {
          "bdata": "AAAAAAAAAAAAAAAAAAAkQAAAAAAAAC5AAAAAAAAAAAAAAAAAAAAAAAAAAAAAAFRAAAAAAACAQUAAAAAAAIBRQAAAAAAAAElAAAAAAAAAAAAAAAAAAABJQAAAAAAAAAAAAAAAAAAAAAAAAAAAAIBLQAAAAAAAAAAAAAAAAAAAAAAAAAAAAAAAAAAAAAAAAAAAAAAAAAAAAAAAAAAAAAAAAAAAAAAAAAAAAAAAAAAAAAAAAAAAAAAAAAAAAAAAAAAAAAAAAACARkAAAAAAAAAAAAAAAAAAAAAAAAAAAAAAAAAAAAAAAAAAAAAAAAAAAAAAAAAAAAAAAAAAAAAAAAAAAAAAAAAAAAAAAAAAAAAAAAAAAAAAAAAAAAAAAAAAAAAAAAAAAAAALkAAAAAAAAAAAAAAAAAAAAAAAAAAAAAAAAA=",
          "dtype": "f8"
         }
        },
        {
         "marker": {
          "color": "rgb(204, 102, 119)"
         },
         "name": "Buntes Chaos",
         "type": "bar",
         "x": [
          "Allooy",
          "cediiiiii_10",
          "_n3d",
          "qriezmannsOpa",
          "Muniix",
          "chrisihalt",
          "Fflopse",
          "Ex4cted",
          "Gobo9",
          "NewNormal0947",
          "Umgfoin",
          "HerrDante",
          "rotmann2",
          "Pedrozockt",
          "ReichesBrot",
          "Lelouch610",
          "JennieKim",
          "Ninivee",
          "FrozenNoah",
          "Teesily",
          "Luxemburq",
          "CML_Justin",
          "Joe3346",
          "DarkCobweb",
          "JOW23",
          "La_meleagro",
          "lizsyy",
          "VendasTM",
          "2B9",
          "KakaMC",
          "Freeeedom",
          "Squashgitter333",
          "GingerTeddy",
          "toxicplace",
          "Shiewk",
          "yzvm",
          "miridis41",
          "2wc",
          "TheFabo",
          "Grapfen"
         ],
         "y": {
          "bdata": "AAAAAAAAWUAAAAAAAABZQAAAAAAAAFlAAAAAAAAASUAAAAAAAABZQAAAAAAAAElAAAAAAAAAWUAAAAAAAABZQAAAAAAAAElAAAAAAAAASUAAAAAAAABZQAAAAAAAAFlAAAAAAAAASUAAAAAAAABZQAAAAAAAAFlAAAAAAAAASUAAAAAAAABJQAAAAAAAAFlAAAAAAAAAAAAAAAAAAABZQAAAAAAAAElAAAAAAAAASUAAAAAAAAAAAAAAAAAAAAAAAAAAAAAAAAAAAAAAAAAAAAAAAAAAAFlAAAAAAAAAAAAAAAAAAAAAAAAAAAAAAFlAAAAAAAAASUAAAAAAAABJQAAAAAAAAAAAAAAAAAAAAAAAAAAAAABZQAAAAAAAAAAAAAAAAAAAAAAAAAAAAAAAAAAAAAAAAElAAAAAAAAASUA=",
          "dtype": "f8"
         }
        },
        {
         "marker": {
          "color": "rgb(221, 204, 119)"
         },
         "name": "Drachenflucht",
         "type": "bar",
         "x": [
          "Allooy",
          "cediiiiii_10",
          "_n3d",
          "qriezmannsOpa",
          "Muniix",
          "chrisihalt",
          "Fflopse",
          "Ex4cted",
          "Gobo9",
          "NewNormal0947",
          "Umgfoin",
          "HerrDante",
          "rotmann2",
          "Pedrozockt",
          "ReichesBrot",
          "Lelouch610",
          "JennieKim",
          "Ninivee",
          "FrozenNoah",
          "Teesily",
          "Luxemburq",
          "CML_Justin",
          "Joe3346",
          "DarkCobweb",
          "JOW23",
          "La_meleagro",
          "lizsyy",
          "VendasTM",
          "2B9",
          "KakaMC",
          "Freeeedom",
          "Squashgitter333",
          "GingerTeddy",
          "toxicplace",
          "Shiewk",
          "yzvm",
          "miridis41",
          "2wc",
          "TheFabo",
          "Grapfen"
         ],
         "y": {
          "bdata": "AAAAAACARkAAAAAAAABOQAAAAAAAAD5AAAAAAACAMUAAAAAAAAApQAAAAAAAAAAAAAAAAAAAAAAAAAAAAAAUQAAAAAAAAAAAAAAAAABASkAAAAAAAAA5QAAAAAAAAAAAAAAAAAAAHkAAAAAAAAAAAAAAAAAAAAAAAAAAAAAAAAAAAAAAAAAAAAAAAAAAAB5AAAAAAAAAAAAAAAAAAMBCQAAAAAAAgDFAAAAAAAAASUAAAAAAAIAxQAAAAAAAAAAAAAAAAAAAAAAAAAAAAAAAAAAAAAAAAAAAAAAAAAAAAAAAAAAAAAAAAAAAAAAAAAAAAAAAAAAALkAAAAAAAAAUQAAAAAAAAAAAAAAAAAAAAAAAAAAAAAAAAAAAAAAAAAAAAAAAAAAAAAAAAAAAAAAAAAAAAAAAAAAAAAAAAAAAFEA=",
          "dtype": "f8"
         }
        },
        {
         "marker": {
          "color": "rgb(17, 119, 51)"
         },
         "name": "Duelle",
         "type": "bar",
         "x": [
          "Allooy",
          "cediiiiii_10",
          "_n3d",
          "qriezmannsOpa",
          "Muniix",
          "chrisihalt",
          "Fflopse",
          "Ex4cted",
          "Gobo9",
          "NewNormal0947",
          "Umgfoin",
          "HerrDante",
          "rotmann2",
          "Pedrozockt",
          "ReichesBrot",
          "Lelouch610",
          "JennieKim",
          "Ninivee",
          "FrozenNoah",
          "Teesily",
          "Luxemburq",
          "CML_Justin",
          "Joe3346",
          "DarkCobweb",
          "JOW23",
          "La_meleagro",
          "lizsyy",
          "VendasTM",
          "2B9",
          "KakaMC",
          "Freeeedom",
          "Squashgitter333",
          "GingerTeddy",
          "toxicplace",
          "Shiewk",
          "yzvm",
          "miridis41",
          "2wc",
          "TheFabo",
          "Grapfen"
         ],
         "y": {
          "bdata": "AAAAAAAAAAAAAAAAAABOQAAAAAAAAAAAAAAAAAAAAAAAAAAAAAAAAAAAAAAAAE5AAAAAAAAAAAAAAAAAAAAAAAAAAAAAAAAAAAAAAAAAAAAAAAAAAAAAAAAAAAAAAAAAAAAAAAAAAAAAAAAAAAAAAAAAAAAAAAAAAAAAAAAAAAAAAAAAAAAAAAAAAAAAAAAAAAAAAAAAAAAAAAAAAAAAAAAAAAAAAAAAAAAAAAAAAAAAAAAAAAAAAAAAAAAAAE5AAAAAAAAAAAAAAAAAAABZQAAAAAAAAAAAAAAAAAAAAAAAAAAAAABUQAAAAAAAAAAAAAAAAAAAAAAAAAAAAAAAAAAAAAAAAAAAAAAAAAAAWUAAAAAAAAAAAAAAAAAAAE5AAAAAAACAUUAAAAAAAABOQAAAAAAAAAAAAAAAAAAAAAA=",
          "dtype": "f8"
         }
        },
        {
         "marker": {
          "color": "rgb(51, 34, 136)"
         },
         "name": "Einer im Köcher",
         "type": "bar",
         "x": [
          "Allooy",
          "cediiiiii_10",
          "_n3d",
          "qriezmannsOpa",
          "Muniix",
          "chrisihalt",
          "Fflopse",
          "Ex4cted",
          "Gobo9",
          "NewNormal0947",
          "Umgfoin",
          "HerrDante",
          "rotmann2",
          "Pedrozockt",
          "ReichesBrot",
          "Lelouch610",
          "JennieKim",
          "Ninivee",
          "FrozenNoah",
          "Teesily",
          "Luxemburq",
          "CML_Justin",
          "Joe3346",
          "DarkCobweb",
          "JOW23",
          "La_meleagro",
          "lizsyy",
          "VendasTM",
          "2B9",
          "KakaMC",
          "Freeeedom",
          "Squashgitter333",
          "GingerTeddy",
          "toxicplace",
          "Shiewk",
          "yzvm",
          "miridis41",
          "2wc",
          "TheFabo",
          "Grapfen"
         ],
         "y": {
          "bdata": "AAAAAAAASUAAAAAAAAAkQAAAAAAAABBAAAAAAAAAAAAAAAAAAAAQQAAAAAAAAAAAAAAAAAAASEAAAAAAAAAwQAAAAAAAAAAAAAAAAAAAJEAAAAAAAAAAAAAAAAAAAERAAAAAAAAAAAAAAAAAAAAAAAAAAAAAAAAAAAAAAAAAEEAAAAAAAAAAAAAAAAAAAAAAAAAAAAAARkAAAAAAAAAoQAAAAAAAAAAAAAAAAAAAAAAAAAAAAAAAAAAAAAAAAAAAAAAAAAAAEEAAAAAAAAAAAAAAAAAAAAAAAAAAAAAAAAAAAAAAAAAyQAAAAAAAAAAAAAAAAAAAPkAAAAAAAAAAAAAAAAAAAAAAAAAAAAAAAAAAAAAAAAAAAAAAAAAAAAAAAAAAAAAAAAAAAAAAAAAAAAAAAAAAAAAAAAAAAAAAAAA=",
          "dtype": "f8"
         }
        },
        {
         "marker": {
          "color": "rgb(170, 68, 153)"
         },
         "name": "Elytrarennen",
         "type": "bar",
         "x": [
          "Allooy",
          "cediiiiii_10",
          "_n3d",
          "qriezmannsOpa",
          "Muniix",
          "chrisihalt",
          "Fflopse",
          "Ex4cted",
          "Gobo9",
          "NewNormal0947",
          "Umgfoin",
          "HerrDante",
          "rotmann2",
          "Pedrozockt",
          "ReichesBrot",
          "Lelouch610",
          "JennieKim",
          "Ninivee",
          "FrozenNoah",
          "Teesily",
          "Luxemburq",
          "CML_Justin",
          "Joe3346",
          "DarkCobweb",
          "JOW23",
          "La_meleagro",
          "lizsyy",
          "VendasTM",
          "2B9",
          "KakaMC",
          "Freeeedom",
          "Squashgitter333",
          "GingerTeddy",
          "toxicplace",
          "Shiewk",
          "yzvm",
          "miridis41",
          "2wc",
          "TheFabo",
          "Grapfen"
         ],
         "y": {
          "bdata": "AAAAAACAVkAAAAAAAEBFQAAAAAAAgEZAAAAAAABARUAAAAAAAAApQAAAAAAAQE9AAAAAAAAALkAAAAAAAAAAAAAAAAAAAAAAAAAAAAAAHkAAAAAAAAAAAAAAAAAAAAAAAAAAAAAAKUAAAAAAAAAAAAAAAAAAADRAAAAAAAAAAAAAAAAAAAAAAAAAAAAAAAAAAAAAAAAAAAAAAAAAAAAAAAAAAAAAAAAAAAAAAAAALkAAAAAAAIBRQAAAAAAAAAAAAAAAAAAAAAAAAAAAAAAAAAAAAAAAAAAAAAAAAAAAFEAAAAAAAAAAAAAAAAAAAAAAAAAAAAAAJEAAAAAAAAA+QAAAAAAAgEtAAAAAAAAAAAAAAAAAAAAAAAAAAAAAAAAAAAAAAAAAAAAAAAAAAAAAAAAAAAAAAAAAAAAAAAAAAAA=",
          "dtype": "f8"
         }
        },
        {
         "marker": {
          "color": "rgb(68, 170, 153)"
         },
         "name": "Freier Fall",
         "type": "bar",
         "x": [
          "Allooy",
          "cediiiiii_10",
          "_n3d",
          "qriezmannsOpa",
          "Muniix",
          "chrisihalt",
          "Fflopse",
          "Ex4cted",
          "Gobo9",
          "NewNormal0947",
          "Umgfoin",
          "HerrDante",
          "rotmann2",
          "Pedrozockt",
          "ReichesBrot",
          "Lelouch610",
          "JennieKim",
          "Ninivee",
          "FrozenNoah",
          "Teesily",
          "Luxemburq",
          "CML_Justin",
          "Joe3346",
          "DarkCobweb",
          "JOW23",
          "La_meleagro",
          "lizsyy",
          "VendasTM",
          "2B9",
          "KakaMC",
          "Freeeedom",
          "Squashgitter333",
          "GingerTeddy",
          "toxicplace",
          "Shiewk",
          "yzvm",
          "miridis41",
          "2wc",
          "TheFabo",
          "Grapfen"
         ],
         "y": {
          "bdata": "AAAAAAAAAAAAAAAAAAAAAAAAAAAAAAAAAAAAAAAAAAAAAAAAAAAAAAAAAAAAAAAAAAAAAAAAAAAAAAAAAAAAAAAAAAAAAAAAAAAAAAAAAAAAAAAAAAAAAAAAAAAAAAAAAAAAAAAAAAAAAAAAAAAAAAAAAAAAAAAAAAAAAAAAAAAAAAAAAAAAAAAAAAAAAAAAAAAAAAAAAAAAAAAAAAAAAAAAAAAAAAAAAAAAAAAAAAAAAAAAAAAAAAAAAAAAAAAAAAAAAAAAAAAAAAAAAAAAAAAAAAAAAAAAAAAAAAAAAAAAAAAAAAAAAAAAAAAAAAAAAAAAAAAAAAAAAAAAAAAAAAAAAAAAAAAAAAAAAAAAAAAAAAAAAAAAAAAAAAAAAAAAAAAAAAAAAAAAAAAAAAAAAAAAAAAAAAAAAAAAAAAAAAA=",
          "dtype": "f8"
         }
        },
        {
         "marker": {
          "color": "rgb(153, 153, 51)"
         },
         "name": "Frostiger Pfad",
         "type": "bar",
         "x": [
          "Allooy",
          "cediiiiii_10",
          "_n3d",
          "qriezmannsOpa",
          "Muniix",
          "chrisihalt",
          "Fflopse",
          "Ex4cted",
          "Gobo9",
          "NewNormal0947",
          "Umgfoin",
          "HerrDante",
          "rotmann2",
          "Pedrozockt",
          "ReichesBrot",
          "Lelouch610",
          "JennieKim",
          "Ninivee",
          "FrozenNoah",
          "Teesily",
          "Luxemburq",
          "CML_Justin",
          "Joe3346",
          "DarkCobweb",
          "JOW23",
          "La_meleagro",
          "lizsyy",
          "VendasTM",
          "2B9",
          "KakaMC",
          "Freeeedom",
          "Squashgitter333",
          "GingerTeddy",
          "toxicplace",
          "Shiewk",
          "yzvm",
          "miridis41",
          "2wc",
          "TheFabo",
          "Grapfen"
         ],
         "y": {
          "bdata": "AAAAAAAAAAAAAAAAAAAAAAAAAAAAAAAAAAAAAAAAAAAAAAAAAAAAAAAAAAAAAAAAAAAAAAAAAAAAAAAAAAAAAAAAAAAAAAAAAAAAAAAAAAAAAAAAAAAAAAAAAAAAAAAAAAAAAAAAAAAAAAAAAAAAAAAAAAAAAAAAAAAAAAAAAAAAAAAAAAAAAAAAAAAAAAAAAAAAAAAAAAAAAAAAAAAAAAAAAAAAAAAAAAAAAAAAAAAAAAAAAAAAAAAAAAAAAAAAAAAAAAAAAAAAAAAAAAAAAAAAAAAAAAAAAAAAAAAAAAAAAAAAAAAAAAAAAAAAAAAAAAAAAAAAAAAAAAAAAAAAAAAAAAAAAAAAAAAAAAAAAAAAAAAAAAAAAAAAAAAAAAAAAAAAAAAAAAAAAAAAAAAAAAAAAAAAAAAAAAAAAAAAAAA=",
          "dtype": "f8"
         }
        },
        {
         "marker": {
          "color": "rgb(136, 34, 85)"
         },
         "name": "Hoch hinaus",
         "type": "bar",
         "x": [
          "Allooy",
          "cediiiiii_10",
          "_n3d",
          "qriezmannsOpa",
          "Muniix",
          "chrisihalt",
          "Fflopse",
          "Ex4cted",
          "Gobo9",
          "NewNormal0947",
          "Umgfoin",
          "HerrDante",
          "rotmann2",
          "Pedrozockt",
          "ReichesBrot",
          "Lelouch610",
          "JennieKim",
          "Ninivee",
          "FrozenNoah",
          "Teesily",
          "Luxemburq",
          "CML_Justin",
          "Joe3346",
          "DarkCobweb",
          "JOW23",
          "La_meleagro",
          "lizsyy",
          "VendasTM",
          "2B9",
          "KakaMC",
          "Freeeedom",
          "Squashgitter333",
          "GingerTeddy",
          "toxicplace",
          "Shiewk",
          "yzvm",
          "miridis41",
          "2wc",
          "TheFabo",
          "Grapfen"
         ],
         "y": {
          "bdata": "AAAAAAAAVEAAAAAAAAA0QAAAAAAAAAAAAAAAAAAAAAAAAAAAAAAAAAAAAAAAAERAAAAAAAAASUAAAAAAAIBWQAAAAAAAAAAAAAAAAAAAAAAAAAAAAAAAAAAAAAAAAAAAAAAAAAAAAAAAAAAAAABOQAAAAAAAAAAAAAAAAAAAAAAAAAAAAAAAAAAAAAAAgFFAAAAAAAAAAAAAAAAAAAAAAAAAAAAAAAAAAAAAAAAAPkAAAAAAAAAAAAAAAAAAAAAAAAAAAAAAAAAAAAAAAAAAAAAAAAAAAAAAAAAAAAAAAAAAAAAAAAAAAAAAAAAAAAAAAAAAAAAAAAAAAAAAAAAAAAAAAAAAAAAAAAAAAAAAAAAAAAAAAAAAAAAAAAAAAAAAAAAAAAAAAAAAAAAAAAAAAAAAAAAAAAAAAAAAAAAAAAA=",
          "dtype": "f8"
         }
        },
        {
         "marker": {
          "color": "rgb(102, 17, 0)"
         },
         "name": "Jump and Run",
         "type": "bar",
         "x": [
          "Allooy",
          "cediiiiii_10",
          "_n3d",
          "qriezmannsOpa",
          "Muniix",
          "chrisihalt",
          "Fflopse",
          "Ex4cted",
          "Gobo9",
          "NewNormal0947",
          "Umgfoin",
          "HerrDante",
          "rotmann2",
          "Pedrozockt",
          "ReichesBrot",
          "Lelouch610",
          "JennieKim",
          "Ninivee",
          "FrozenNoah",
          "Teesily",
          "Luxemburq",
          "CML_Justin",
          "Joe3346",
          "DarkCobweb",
          "JOW23",
          "La_meleagro",
          "lizsyy",
          "VendasTM",
          "2B9",
          "KakaMC",
          "Freeeedom",
          "Squashgitter333",
          "GingerTeddy",
          "toxicplace",
          "Shiewk",
          "yzvm",
          "miridis41",
          "2wc",
          "TheFabo",
          "Grapfen"
         ],
         "y": {
          "bdata": "AAAAAAAAAAAAAAAAAAAAAAAAAAAAAAAAAAAAAAAAAAAAAAAAAAAAAAAAAAAAAAAAAAAAAAAAAAAAAAAAAAAAAAAAAAAAAAAAAAAAAAAAAAAAAAAAAAAAAAAAAAAAAAAAAAAAAAAAAAAAAAAAAAAAAAAAAAAAAAAAAAAAAAAAAAAAAAAAAAAAAAAAAAAAAAAAAAAAAAAAAAAAAAAAAAAAAAAAAAAAAAAAAAAAAAAAAAAAAAAAAAAAAAAAAAAAAAAAAAAAAAAAAAAAAAAAAAAAAAAAAAAAAAAAAAAAAAAAAAAAAAAAAAAAAAAAAAAAAAAAAAAAAAAAAAAAAAAAAAAAAAAAAAAAAAAAAAAAAAAAAAAAAAAAAAAAAAAAAAAAAAAAAAAAAAAAAAAAAAAAAAAAAAAAAAAAAAAAAAAAAAAAAAA=",
          "dtype": "f8"
         }
        },
        {
         "marker": {
          "color": "rgb(136, 136, 136)"
         },
         "name": "Kletterkönig",
         "type": "bar",
         "x": [
          "Allooy",
          "cediiiiii_10",
          "_n3d",
          "qriezmannsOpa",
          "Muniix",
          "chrisihalt",
          "Fflopse",
          "Ex4cted",
          "Gobo9",
          "NewNormal0947",
          "Umgfoin",
          "HerrDante",
          "rotmann2",
          "Pedrozockt",
          "ReichesBrot",
          "Lelouch610",
          "JennieKim",
          "Ninivee",
          "FrozenNoah",
          "Teesily",
          "Luxemburq",
          "CML_Justin",
          "Joe3346",
          "DarkCobweb",
          "JOW23",
          "La_meleagro",
          "lizsyy",
          "VendasTM",
          "2B9",
          "KakaMC",
          "Freeeedom",
          "Squashgitter333",
          "GingerTeddy",
          "toxicplace",
          "Shiewk",
          "yzvm",
          "miridis41",
          "2wc",
          "TheFabo",
          "Grapfen"
         ],
         "y": {
          "bdata": "VVVVVVVVN0BVVVVVVVU3QAAAAAAAADRAVVVVVVVVTEBVVVVVVVVHQAAAAAAAACRAVVVVVVVVR0AAAAAAAAAAAKuqqqqqqhpAq6qqqqqqKkAAAAAAAAAAAAAAAAAAACRAAAAAAAAANEAAAAAAAAAAAKuqqqqqqlBAAAAAAAAAAAAAAAAAAAAAAAAAAAAAAAAAAAAAAAAAAAAAAAAAAAAAAAAAAAAAAAAAAAAAAAAAAAAAAAAAAAA+QAAAAAAAAAAAAAAAAAAAAAAAAAAAAAAAAAAAAAAAAAAAAAAAAAAAAAAAAAAAAAAAAAAAAAAAAAAAAAAAAAAAAAAAAAAAAAAAAKuqqqqqqjpAAAAAAAAAAAAAAAAAAAAAAAAAAAAAAAAAAAAAAAAAAAAAAAAAAAAAAAAAAAAAAAAAAAAAAAAAAAA=",
          "dtype": "f8"
         }
        },
        {
         "marker": {
          "color": "rgb(136, 204, 238)"
         },
         "name": "Lasertag",
         "type": "bar",
         "x": [
          "Allooy",
          "cediiiiii_10",
          "_n3d",
          "qriezmannsOpa",
          "Muniix",
          "chrisihalt",
          "Fflopse",
          "Ex4cted",
          "Gobo9",
          "NewNormal0947",
          "Umgfoin",
          "HerrDante",
          "rotmann2",
          "Pedrozockt",
          "ReichesBrot",
          "Lelouch610",
          "JennieKim",
          "Ninivee",
          "FrozenNoah",
          "Teesily",
          "Luxemburq",
          "CML_Justin",
          "Joe3346",
          "DarkCobweb",
          "JOW23",
          "La_meleagro",
          "lizsyy",
          "VendasTM",
          "2B9",
          "KakaMC",
          "Freeeedom",
          "Squashgitter333",
          "GingerTeddy",
          "toxicplace",
          "Shiewk",
          "yzvm",
          "miridis41",
          "2wc",
          "TheFabo",
          "Grapfen"
         ],
         "y": {
          "bdata": "AAAAAAAAAAAAAAAAAAAkQAAAAAAAAD5AAAAAAACAQUCrqqqqqqowQAAAAAAAAAAAAAAAAAAAREAAAAAAAAAuQAAAAAAAAAAAAAAAAAAAAABVVVVVVVU8QAAAAAAAAERAAAAAAAAAAABVVVVVVVUnQAAAAAAAABRAq6qqqqqqOkBVVVVVVVU3QAAAAAAAAAAAAAAAAAAAAAAAAAAAAAAAAAAAAAAAADRAAAAAAAAAAAAAAAAAAAAAAAAAAAAAAAAAVVVVVVVVMkAAAAAAAAAAAAAAAAAAAAAAAAAAAAAAAAAAAAAAAAAAAAAAAAAAAAAAAAAAAAAAAAAAAAAAAAAAAAAAAAAAAAAAAAAAAAAAAAAAAAAAAAAAAAAAAAAAAAAAAAAAAAAAAABVVVVVVVUnQKuqqqqqqjVAq6qqqqqqCkA=",
          "dtype": "f8"
         }
        },
        {
         "marker": {
          "color": "rgb(204, 102, 119)"
         },
         "name": "Mauerfall",
         "type": "bar",
         "x": [
          "Allooy",
          "cediiiiii_10",
          "_n3d",
          "qriezmannsOpa",
          "Muniix",
          "chrisihalt",
          "Fflopse",
          "Ex4cted",
          "Gobo9",
          "NewNormal0947",
          "Umgfoin",
          "HerrDante",
          "rotmann2",
          "Pedrozockt",
          "ReichesBrot",
          "Lelouch610",
          "JennieKim",
          "Ninivee",
          "FrozenNoah",
          "Teesily",
          "Luxemburq",
          "CML_Justin",
          "Joe3346",
          "DarkCobweb",
          "JOW23",
          "La_meleagro",
          "lizsyy",
          "VendasTM",
          "2B9",
          "KakaMC",
          "Freeeedom",
          "Squashgitter333",
          "GingerTeddy",
          "toxicplace",
          "Shiewk",
          "yzvm",
          "miridis41",
          "2wc",
          "TheFabo",
          "Grapfen"
         ],
         "y": {
          "bdata": "btu2bdu2KUAlSZIkSZJCQCVJkiRJkixAAAAAAAAAAACSJEmSJEk4QAAAAAAAAAAAJUmSJEmSPEAAAAAAAAAAAG7btm3btilASZIkSZIkMUC3bdu2bdsWQCVJkiRJkixAAAAAAAAAAAAAAAAAAAA0QAAAAAAAAAAAAAAAAAAAAAAAAAAAAAAAALdt27Zt2xZAAAAAAAAAAAAAAAAAAAAAACVJkiRJkixAAAAAAAAAAAC3bdu2bdsWQEmSJEmSJDtAbtu2bdu2KUC3bdu2bdsmQAAAAAAAAAAAAAAAAAAAAAAAAAAAAAAAAG7btm3btilAAAAAAAAAAAAAAAAAAAAAAAAAAAAAAAAAAAAAAAAAAAAAAAAAAAAAACVJkiRJkixAAAAAAAAAAAAAAAAAAAAAAAAAAAAAAAAAbtu2bdu2KUA=",
          "dtype": "f8"
         }
        },
        {
         "marker": {
          "color": "rgb(221, 204, 119)"
         },
         "name": "Minenfeld",
         "type": "bar",
         "x": [
          "Allooy",
          "cediiiiii_10",
          "_n3d",
          "qriezmannsOpa",
          "Muniix",
          "chrisihalt",
          "Fflopse",
          "Ex4cted",
          "Gobo9",
          "NewNormal0947",
          "Umgfoin",
          "HerrDante",
          "rotmann2",
          "Pedrozockt",
          "ReichesBrot",
          "Lelouch610",
          "JennieKim",
          "Ninivee",
          "FrozenNoah",
          "Teesily",
          "Luxemburq",
          "CML_Justin",
          "Joe3346",
          "DarkCobweb",
          "JOW23",
          "La_meleagro",
          "lizsyy",
          "VendasTM",
          "2B9",
          "KakaMC",
          "Freeeedom",
          "Squashgitter333",
          "GingerTeddy",
          "toxicplace",
          "Shiewk",
          "yzvm",
          "miridis41",
          "2wc",
          "TheFabo",
          "Grapfen"
         ],
         "y": {
          "bdata": "AAAAAAAAJEAAAAAAAAAkQAAAAAAAAElAVVVVVVVVR0AAAAAAAAAAAKuqqqqqqkBAq6qqqqqqOkAAAAAAAAAAAAAAAAAAAAAAAAAAAAAAAAAAAAAAAAAAAAAAAAAAAD5AAAAAAAAAAAAAAAAAAAAAAKuqqqqqqjBAAAAAAAAAAAAAAAAAAAAAAKuqqqqqqhpAq6qqqqqqMEAAAAAAAAAAAAAAAAAAAAAAAAAAAAAAAABVVVVVVVU3QAAAAAAAAAAAAAAAAAAAAAAAAAAAAAAAAAAAAAAAAAAAAAAAAAAAAACrqqqqqqoqQAAAAAAAAAAAVVVVVVVVN0AAAAAAAAAAAAAAAAAAAAAAq6qqqqqqGkAAAAAAAAAAAAAAAAAAAAAAAAAAAAAAAAAAAAAAAAAAAAAAAAAAAAAAAAAAAAAAAAA=",
          "dtype": "f8"
         }
        },
        {
         "marker": {
          "color": "rgb(17, 119, 51)"
         },
         "name": "Minengefecht",
         "type": "bar",
         "x": [
          "Allooy",
          "cediiiiii_10",
          "_n3d",
          "qriezmannsOpa",
          "Muniix",
          "chrisihalt",
          "Fflopse",
          "Ex4cted",
          "Gobo9",
          "NewNormal0947",
          "Umgfoin",
          "HerrDante",
          "rotmann2",
          "Pedrozockt",
          "ReichesBrot",
          "Lelouch610",
          "JennieKim",
          "Ninivee",
          "FrozenNoah",
          "Teesily",
          "Luxemburq",
          "CML_Justin",
          "Joe3346",
          "DarkCobweb",
          "JOW23",
          "La_meleagro",
          "lizsyy",
          "VendasTM",
          "2B9",
          "KakaMC",
          "Freeeedom",
          "Squashgitter333",
          "GingerTeddy",
          "toxicplace",
          "Shiewk",
          "yzvm",
          "miridis41",
          "2wc",
          "TheFabo",
          "Grapfen"
         ],
         "y": {
          "bdata": "AAAAAACANkAAAAAAAIBBQAAAAAAAgCtAAAAAAAAAJEAAAAAAAAAkQAAAAAAAgDZAAAAAAAAADkAAAAAAAAAAAAAAAAAAADRAAAAAAAAADkAAAAAAAAAAAAAAAAAAgCFAAAAAAAAAJEAAAAAAAAAAAAAAAAAAAA5AAAAAAAAAKUAAAAAAAAAAAAAAAAAAAAAAAAAAAAAAOUAAAAAAAAAAAAAAAAAAAAAAAAAAAAAAAAAAAAAAAAAAAAAAAAAAgDZAAAAAAACANkAAAAAAAAAAAAAAAAAAAAAAAAAAAAAAAAAAAAAAAIAmQAAAAAAAAAAAAAAAAAAAAAAAAAAAAAAAAAAAAAAAAAAAAAAAAAAAAAAAAAAAAAAAAAAAAAAAAClAAAAAAAAAAAAAAAAAAIAhQAAAAAAAAAAAAAAAAAAADkA=",
          "dtype": "f8"
         }
        },
        {
         "marker": {
          "color": "rgb(51, 34, 136)"
         },
         "name": "Mini Survivalgames",
         "type": "bar",
         "x": [
          "Allooy",
          "cediiiiii_10",
          "_n3d",
          "qriezmannsOpa",
          "Muniix",
          "chrisihalt",
          "Fflopse",
          "Ex4cted",
          "Gobo9",
          "NewNormal0947",
          "Umgfoin",
          "HerrDante",
          "rotmann2",
          "Pedrozockt",
          "ReichesBrot",
          "Lelouch610",
          "JennieKim",
          "Ninivee",
          "FrozenNoah",
          "Teesily",
          "Luxemburq",
          "CML_Justin",
          "Joe3346",
          "DarkCobweb",
          "JOW23",
          "La_meleagro",
          "lizsyy",
          "VendasTM",
          "2B9",
          "KakaMC",
          "Freeeedom",
          "Squashgitter333",
          "GingerTeddy",
          "toxicplace",
          "Shiewk",
          "yzvm",
          "miridis41",
          "2wc",
          "TheFabo",
          "Grapfen"
         ],
         "y": {
          "bdata": "AAAAAAAAAAAAAAAAAAAAAAAAAAAAAAAAAAAAAAAAAAAAAAAAAAAAAAAAAAAAAAAAAAAAAAAAAAAAAAAAAAAAAAAAAAAAAAAAAAAAAAAAAAAAAAAAAAAAAAAAAAAAAAAAAAAAAAAAAAAAAAAAAAAAAAAAAAAAAAAAAAAAAAAAAAAAAAAAAAAAAAAAAAAAAAAAAAAAAAAAAAAAAAAAAAAAAAAAAAAAAAAAAAAAAAAAAAAAAAAAAAAAAAAAAAAAAAAAAAAAAAAAAAAAAAAAAAAAAAAAAAAAAAAAAAAAAAAAAAAAAAAAAAAAAAAAAAAAAAAAAAAAAAAAAAAAAAAAAAAAAAAAAAAAAAAAAAAAAAAAAAAAAAAAAAAAAAAAAAAAAAAAAAAAAAAAAAAAAAAAAAAAAAAAAAAAAAAAAAAAAAAAAAA=",
          "dtype": "f8"
         }
        },
        {
         "marker": {
          "color": "rgb(170, 68, 153)"
         },
         "name": "Pferderennen",
         "type": "bar",
         "x": [
          "Allooy",
          "cediiiiii_10",
          "_n3d",
          "qriezmannsOpa",
          "Muniix",
          "chrisihalt",
          "Fflopse",
          "Ex4cted",
          "Gobo9",
          "NewNormal0947",
          "Umgfoin",
          "HerrDante",
          "rotmann2",
          "Pedrozockt",
          "ReichesBrot",
          "Lelouch610",
          "JennieKim",
          "Ninivee",
          "FrozenNoah",
          "Teesily",
          "Luxemburq",
          "CML_Justin",
          "Joe3346",
          "DarkCobweb",
          "JOW23",
          "La_meleagro",
          "lizsyy",
          "VendasTM",
          "2B9",
          "KakaMC",
          "Freeeedom",
          "Squashgitter333",
          "GingerTeddy",
          "toxicplace",
          "Shiewk",
          "yzvm",
          "miridis41",
          "2wc",
          "TheFabo",
          "Grapfen"
         ],
         "y": {
          "bdata": "q6qqqqqqNUBVVVVVVdVJQAAAAAAAgEFAq6qqqqoqSEAAAAAAAAAUQKuqqqqqqkVAq6qqqqqqQEAAAAAAAAAAAAAAAAAAADlAq6qqqqqqKkCrqqqqqqoKQKuqqqqqqgpAVVVVVVVVR0BVVVVVVVUnQKuqqqqqqjVAAAAAAAAAFECrqqqqqqpFQAAAAAAAAAAAAAAAAAAAAAAAAAAAAAAAAAAAAAAAAAAAAAAAAAAAAACrqqqqqqoqQAAAAAAAAAAAAAAAAAAAAAAAAAAAAAAAAKuqqqqqqgpAAAAAAAAAJEAAAAAAAAAAAAAAAAAAAAAAAAAAAAAAAAAAAAAAAAA5QAAAAAAAAC5AAAAAAAAAAAAAAAAAAAAAAKuqqqqqqipAAAAAAAAAAAAAAAAAAAAAAAAAAAAAAAAAAAAAAAAAAAA=",
          "dtype": "f8"
         }
        },
        {
         "marker": {
          "color": "rgb(68, 170, 153)"
         },
         "name": "Reihenfolge",
         "type": "bar",
         "x": [
          "Allooy",
          "cediiiiii_10",
          "_n3d",
          "qriezmannsOpa",
          "Muniix",
          "chrisihalt",
          "Fflopse",
          "Ex4cted",
          "Gobo9",
          "NewNormal0947",
          "Umgfoin",
          "HerrDante",
          "rotmann2",
          "Pedrozockt",
          "ReichesBrot",
          "Lelouch610",
          "JennieKim",
          "Ninivee",
          "FrozenNoah",
          "Teesily",
          "Luxemburq",
          "CML_Justin",
          "Joe3346",
          "DarkCobweb",
          "JOW23",
          "La_meleagro",
          "lizsyy",
          "VendasTM",
          "2B9",
          "KakaMC",
          "Freeeedom",
          "Squashgitter333",
          "GingerTeddy",
          "toxicplace",
          "Shiewk",
          "yzvm",
          "miridis41",
          "2wc",
          "TheFabo",
          "Grapfen"
         ],
         "y": {
          "bdata": "AAAAAAAAAAAAAAAAAAAAAAAAAAAAAAAAAAAAAAAAAAAAAAAAAAAAAAAAAAAAAAAAAAAAAAAAAAAAAAAAAAAAAAAAAAAAAAAAAAAAAAAAAAAAAAAAAAAAAAAAAAAAAAAAAAAAAAAAAAAAAAAAAAAAAAAAAAAAAAAAAAAAAAAAAAAAAAAAAAAAAAAAAAAAAAAAAAAAAAAAAAAAAAAAAAAAAAAAAAAAAAAAAAAAAAAAAAAAAAAAAAAAAAAAAAAAAAAAAAAAAAAAAAAAAAAAAAAAAAAAAAAAAAAAAAAAAAAAAAAAAAAAAAAAAAAAAAAAAAAAAAAAAAAAAAAAAAAAAAAAAAAAAAAAAAAAAAAAAAAAAAAAAAAAAAAAAAAAAAAAAAAAAAAAAAAAAAAAAAAAAAAAAAAAAAAAAAAAAAAAAAAAAAA=",
          "dtype": "f8"
         }
        },
        {
         "marker": {
          "color": "rgb(153, 153, 51)"
         },
         "name": "Replika",
         "type": "bar",
         "x": [
          "Allooy",
          "cediiiiii_10",
          "_n3d",
          "qriezmannsOpa",
          "Muniix",
          "chrisihalt",
          "Fflopse",
          "Ex4cted",
          "Gobo9",
          "NewNormal0947",
          "Umgfoin",
          "HerrDante",
          "rotmann2",
          "Pedrozockt",
          "ReichesBrot",
          "Lelouch610",
          "JennieKim",
          "Ninivee",
          "FrozenNoah",
          "Teesily",
          "Luxemburq",
          "CML_Justin",
          "Joe3346",
          "DarkCobweb",
          "JOW23",
          "La_meleagro",
          "lizsyy",
          "VendasTM",
          "2B9",
          "KakaMC",
          "Freeeedom",
          "Squashgitter333",
          "GingerTeddy",
          "toxicplace",
          "Shiewk",
          "yzvm",
          "miridis41",
          "2wc",
          "TheFabo",
          "Grapfen"
         ],
         "y": {
          "bdata": "NUiDNEgDV0AndmIndmJOQOqhHuqhHlJABEZgBEZgHEAjMAIjMAI7QI7jOI7jOCZACYzACIzAMEC6n/u5n/tEQBQ7sRM7sUtAq6qqqqqqGkCQBmmQBmngP23WZm3WZg1AkAZpkAZp4D92Yid2YicqQH3Lt3zLtwxAXuEVXuEV7j+btVmbtVnbPxZe4RVe4cU/AAAAAAAAAAB4hVd4hVc0QEZgBEZgBENAchzHcRzHEUCQBmmQBmngP5u1WZu1Wds/Fl7hFV7h5T8AAAAAAAAAADVIgzRIg/Q/Yid2Yid2AkAAAAAAAAAAALzCK7zCKxRAchzHcRzH8T9TMiVTMiUjQJu1WZu1Wds/AAAAAAAAAAAWXuEVXuHVPwAAAAAAAAAAAAAAAAAAAAAAAAAAAAAAAF7hFV7hFf4/AAAAAAAAAAA=",
          "dtype": "f8"
         }
        },
        {
         "marker": {
          "color": "rgb(136, 34, 85)"
         },
         "name": "Runterpurzeln",
         "type": "bar",
         "x": [
          "Allooy",
          "cediiiiii_10",
          "_n3d",
          "qriezmannsOpa",
          "Muniix",
          "chrisihalt",
          "Fflopse",
          "Ex4cted",
          "Gobo9",
          "NewNormal0947",
          "Umgfoin",
          "HerrDante",
          "rotmann2",
          "Pedrozockt",
          "ReichesBrot",
          "Lelouch610",
          "JennieKim",
          "Ninivee",
          "FrozenNoah",
          "Teesily",
          "Luxemburq",
          "CML_Justin",
          "Joe3346",
          "DarkCobweb",
          "JOW23",
          "La_meleagro",
          "lizsyy",
          "VendasTM",
          "2B9",
          "KakaMC",
          "Freeeedom",
          "Squashgitter333",
          "GingerTeddy",
          "toxicplace",
          "Shiewk",
          "yzvm",
          "miridis41",
          "2wc",
          "TheFabo",
          "Grapfen"
         ],
         "y": {
          "bdata": "AAAAAAAATkAAAAAAAABUQAAAAAAAAD5AAAAAAACAUUAAAAAAAABZQAAAAAAAAAAAAAAAAAAAAAAAAAAAAABEQAAAAAAAAAAAAAAAAAAASUAAAAAAAAAAAAAAAAAAAAAAAAAAAAAAAAAAAAAAAAAAAAAAAAAAAAAAAAAAAAAAAAAAAAAAAAA0QAAAAAAAAAAAAAAAAAAAAAAAAAAAAAAAAAAAAAAAAAAAAAAAAAAAAAAAAAAAAAAAAAAAAAAAAAAAAAAAAAAAAAAAAAAAAAAAAAAAAAAAAAAAAAAAAAAAAAAAAAAAAAAAAAAAAAAAAAAAAAAAAAAAAAAAAAAAAAAAAAAAAAAAAAAAAAAAAAAAAAAAAAAAAAAAAAAAAAAAAAAAAAAAAAAAAAAAAAAAAAAAAAAAAAAAAAAAAAAAAAAAAAA=",
          "dtype": "f8"
         }
        },
        {
         "marker": {
          "color": "rgb(102, 17, 0)"
         },
         "name": "Sammelwahn",
         "type": "bar",
         "x": [
          "Allooy",
          "cediiiiii_10",
          "_n3d",
          "qriezmannsOpa",
          "Muniix",
          "chrisihalt",
          "Fflopse",
          "Ex4cted",
          "Gobo9",
          "NewNormal0947",
          "Umgfoin",
          "HerrDante",
          "rotmann2",
          "Pedrozockt",
          "ReichesBrot",
          "Lelouch610",
          "JennieKim",
          "Ninivee",
          "FrozenNoah",
          "Teesily",
          "Luxemburq",
          "CML_Justin",
          "Joe3346",
          "DarkCobweb",
          "JOW23",
          "La_meleagro",
          "lizsyy",
          "VendasTM",
          "2B9",
          "KakaMC",
          "Freeeedom",
          "Squashgitter333",
          "GingerTeddy",
          "toxicplace",
          "Shiewk",
          "yzvm",
          "miridis41",
          "2wc",
          "TheFabo",
          "Grapfen"
         ],
         "y": {
          "bdata": "aZAGaZAGNUBP7MRO7MREQBQ7sRM7sTFAfcu3fMu3HEDSIA3SIA0mQAdpkAZpkBZASIM0SIM0LEAAAAAAAAA0QMu3fMu3fDNAsRM7sRM7M0AAAAAAAAAkQMu3fMu3fCNAntiJndiJFUA1SIM0SIMUQGIndmIndgJA2Ymd2Imd6D/Lt3zLt3wTQNmJndiJnfg/NUiDNEiDBEB9y7d8y7cMQNIgDdIgDSZAy7d8y7d8I0BiJ3ZiJ3YSQGIndmIndgJAkAZpkAZp4D9pkAZpkAYlQNmJndiJnQhANUiDNEiDBEA1SIM0SIMEQH3Lt3zLtwxAkAZpkAZpIEDZiZ3YiZ34P33Lt3zLt/w/AAAAAAAAAAAAAAAAAAAAAAAAAAAAAAAAQhqkQRqkGUAAAAAAAAAAAHD5lm/5lhdAntiJndiJFUA=",
          "dtype": "f8"
         }
        },
        {
         "marker": {
          "color": "rgb(136, 136, 136)"
         },
         "name": "Schießstand",
         "type": "bar",
         "x": [
          "Allooy",
          "cediiiiii_10",
          "_n3d",
          "qriezmannsOpa",
          "Muniix",
          "chrisihalt",
          "Fflopse",
          "Ex4cted",
          "Gobo9",
          "NewNormal0947",
          "Umgfoin",
          "HerrDante",
          "rotmann2",
          "Pedrozockt",
          "ReichesBrot",
          "Lelouch610",
          "JennieKim",
          "Ninivee",
          "FrozenNoah",
          "Teesily",
          "Luxemburq",
          "CML_Justin",
          "Joe3346",
          "DarkCobweb",
          "JOW23",
          "La_meleagro",
          "lizsyy",
          "VendasTM",
          "2B9",
          "KakaMC",
          "Freeeedom",
          "Squashgitter333",
          "GingerTeddy",
          "toxicplace",
          "Shiewk",
          "yzvm",
          "miridis41",
          "2wc",
          "TheFabo",
          "Grapfen"
         ],
         "y": {
          "bdata": "AAAAAAAAJEAAAAAAAMBHQAAAAAAAACRAAAAAAABARUAAAAAAAAA5QAAAAAAAAC5AAAAAAAAATkAAAAAAAOBQQAAAAAAAgDFAAAAAAAAAHkAAAAAAAAAAAAAAAAAAgEFAAAAAAACARkAAAAAAAAAAAAAAAAAAAAAAAAAAAAAAAAAAAAAAAAAAAAAAAAAAAAAAAAAAAAAAAAAAAAAAAAAAAAAAAAAAAAAAAAAAAAAALkAAAAAAAAAAAAAAAAAAAAAAAAAAAADAR0AAAAAAAAAAAAAAAAAAAC5AAAAAAAAAAAAAAAAAAAAAAAAAAAAAAAAAAAAAAAAAAAAAAAAAAAA5QAAAAAAAAClAAAAAAAAAAAAAAAAAAAAAAAAAAAAAAAAAAAAAAAAAAAAAAAAAAAAAAAAAAAAAAAAAAAAAAAAAAAA=",
          "dtype": "f8"
         }
        },
        {
         "marker": {
          "color": "rgb(136, 204, 238)"
         },
         "name": "Spleef",
         "type": "bar",
         "x": [
          "Allooy",
          "cediiiiii_10",
          "_n3d",
          "qriezmannsOpa",
          "Muniix",
          "chrisihalt",
          "Fflopse",
          "Ex4cted",
          "Gobo9",
          "NewNormal0947",
          "Umgfoin",
          "HerrDante",
          "rotmann2",
          "Pedrozockt",
          "ReichesBrot",
          "Lelouch610",
          "JennieKim",
          "Ninivee",
          "FrozenNoah",
          "Teesily",
          "Luxemburq",
          "CML_Justin",
          "Joe3346",
          "DarkCobweb",
          "JOW23",
          "La_meleagro",
          "lizsyy",
          "VendasTM",
          "2B9",
          "KakaMC",
          "Freeeedom",
          "Squashgitter333",
          "GingerTeddy",
          "toxicplace",
          "Shiewk",
          "yzvm",
          "miridis41",
          "2wc",
          "TheFabo",
          "Grapfen"
         ],
         "y": {
          "bdata": "AAAAAAAAWUAAAAAAAIBRQAAAAAAAgFZAAAAAAACAVkAAAAAAAIBRQAAAAAAAAAAAAAAAAAAAAAAAAAAAAAAAAAAAAAAAAAAAAAAAAACAUUAAAAAAAAA0QAAAAAAAAAAAAAAAAACAUUAAAAAAAAAAAAAAAAAAAAAAAAAAAACAUUAAAAAAAAA0QAAAAAAAAAAAAAAAAAAAAAAAAAAAAAAAAAAAAAAAAAAAAAAAAAAAAAAAAAAAAAAAAAAAAAAAAAAAAAAAAAAAAAAAAAAAAAAAAAAAAAAAAAAAAAAAAAAANEAAAAAAAAAAAAAAAAAAAAAAAAAAAAAAAAAAAAAAAAAAAAAAAAAAAAAAAAAAAAAAAAAAAAAAAAAAAAAAAAAAAAAAAAAAAAAAAAAAAAAAAAAAAAAAAAAAAAAAAAAAAAAAAAA=",
          "dtype": "f8"
         }
        },
        {
         "marker": {
          "color": "rgb(204, 102, 119)"
         },
         "name": "Todeswürfel",
         "type": "bar",
         "x": [
          "Allooy",
          "cediiiiii_10",
          "_n3d",
          "qriezmannsOpa",
          "Muniix",
          "chrisihalt",
          "Fflopse",
          "Ex4cted",
          "Gobo9",
          "NewNormal0947",
          "Umgfoin",
          "HerrDante",
          "rotmann2",
          "Pedrozockt",
          "ReichesBrot",
          "Lelouch610",
          "JennieKim",
          "Ninivee",
          "FrozenNoah",
          "Teesily",
          "Luxemburq",
          "CML_Justin",
          "Joe3346",
          "DarkCobweb",
          "JOW23",
          "La_meleagro",
          "lizsyy",
          "VendasTM",
          "2B9",
          "KakaMC",
          "Freeeedom",
          "Squashgitter333",
          "GingerTeddy",
          "toxicplace",
          "Shiewk",
          "yzvm",
          "miridis41",
          "2wc",
          "TheFabo",
          "Grapfen"
         ],
         "y": {
          "bdata": "AAAAAAAAAAAAAAAAAAAAAAAAAAAAAAAAAAAAAAAAAAAAAAAAAAAAAAAAAAAAAAAAAAAAAAAAAAAAAAAAAAAAAAAAAAAAAAAAAAAAAAAAAAAAAAAAAAAAAAAAAAAAAAAAAAAAAAAAAAAAAAAAAAAAAAAAAAAAAAAAAAAAAAAAAAAAAAAAAAAAAAAAAAAAAAAAAAAAAAAAAAAAAAAAAAAAAAAAAAAAAAAAAAAAAAAAAAAAAAAAAAAAAAAAAAAAAAAAAAAAAAAAAAAAAAAAAAAAAAAAAAAAAAAAAAAAAAAAAAAAAAAAAAAAAAAAAAAAAAAAAAAAAAAAAAAAAAAAAAAAAAAAAAAAAAAAAAAAAAAAAAAAAAAAAAAAAAAAAAAAAAAAAAAAAAAAAAAAAAAAAAAAAAAAAAAAAAAAAAAAAAAAAAA=",
          "dtype": "f8"
         }
        },
        {
         "marker": {
          "color": "rgb(221, 204, 119)"
         },
         "name": "Turmroulette",
         "type": "bar",
         "x": [
          "Allooy",
          "cediiiiii_10",
          "_n3d",
          "qriezmannsOpa",
          "Muniix",
          "chrisihalt",
          "Fflopse",
          "Ex4cted",
          "Gobo9",
          "NewNormal0947",
          "Umgfoin",
          "HerrDante",
          "rotmann2",
          "Pedrozockt",
          "ReichesBrot",
          "Lelouch610",
          "JennieKim",
          "Ninivee",
          "FrozenNoah",
          "Teesily",
          "Luxemburq",
          "CML_Justin",
          "Joe3346",
          "DarkCobweb",
          "JOW23",
          "La_meleagro",
          "lizsyy",
          "VendasTM",
          "2B9",
          "KakaMC",
          "Freeeedom",
          "Squashgitter333",
          "GingerTeddy",
          "toxicplace",
          "Shiewk",
          "yzvm",
          "miridis41",
          "2wc",
          "TheFabo",
          "Grapfen"
         ],
         "y": {
          "bdata": "AAAAAACAUUAAAAAAAAAAAAAAAAAAADRAAAAAAACAUUAAAAAAAIBWQAAAAAAAgFZAAAAAAAAAAAAAAAAAAAAAAAAAAAAAAFlAAAAAAAAANEAAAAAAAIBRQAAAAAAAAAAAAAAAAAAAAAAAAAAAAAAAAAAAAAAAAAAAAAAAAAAANEAAAAAAAAAAAAAAAAAAAAAAAAAAAACAUUAAAAAAAAAAAAAAAAAAADRAAAAAAAAAAAAAAAAAAAA0QAAAAAAAADRAAAAAAAAAAAAAAAAAAAAAAAAAAAAAAAAAAAAAAACAUUAAAAAAAAAAAAAAAAAAAAAAAAAAAAAAAAAAAAAAAAAAAAAAAAAAADRAAAAAAAAAAAAAAAAAAAAAAAAAAAAAAAAAAAAAAAAAAAAAAAAAAAAAAAAAAAAAAAAAAAAAAAAAAAA=",
          "dtype": "f8"
         }
        },
        {
         "marker": {
          "color": "rgb(17, 119, 51)"
         },
         "name": "Waffenfolge",
         "type": "bar",
         "x": [
          "Allooy",
          "cediiiiii_10",
          "_n3d",
          "qriezmannsOpa",
          "Muniix",
          "chrisihalt",
          "Fflopse",
          "Ex4cted",
          "Gobo9",
          "NewNormal0947",
          "Umgfoin",
          "HerrDante",
          "rotmann2",
          "Pedrozockt",
          "ReichesBrot",
          "Lelouch610",
          "JennieKim",
          "Ninivee",
          "FrozenNoah",
          "Teesily",
          "Luxemburq",
          "CML_Justin",
          "Joe3346",
          "DarkCobweb",
          "JOW23",
          "La_meleagro",
          "lizsyy",
          "VendasTM",
          "2B9",
          "KakaMC",
          "Freeeedom",
          "Squashgitter333",
          "GingerTeddy",
          "toxicplace",
          "Shiewk",
          "yzvm",
          "miridis41",
          "2wc",
          "TheFabo",
          "Grapfen"
         ],
         "y": {
          "bdata": "AAAAAAAAAAAAAAAAAAAAAAAAAAAAAAAAAAAAAAAAAAAAAAAAAAAAAAAAAAAAAAAAAAAAAAAAAAAAAAAAAAAAAAAAAAAAAAAAAAAAAAAAAAAAAAAAAAAAAAAAAAAAAAAAAAAAAAAAAAAAAAAAAAAAAAAAAAAAAAAAAAAAAAAAAAAAAAAAAAAAAAAAAAAAAAAAAAAAAAAAAAAAAAAAAAAAAAAAAAAAAAAAAAAAAAAAAAAAAAAAAAAAAAAAAAAAAAAAAAAAAAAAAAAAAAAAAAAAAAAAAAAAAAAAAAAAAAAAAAAAAAAAAAAAAAAAAAAAAAAAAAAAAAAAAAAAAAAAAAAAAAAAAAAAAAAAAAAAAAAAAAAAAAAAAAAAAAAAAAAAAAAAAAAAAAAAAAAAAAAAAAAAAAAAAAAAAAAAAAAAAAAAAAA=",
          "dtype": "f8"
         }
        },
        {
         "marker": {
          "color": "rgb(51, 34, 136)"
         },
         "name": "Wettrennen",
         "type": "bar",
         "x": [
          "Allooy",
          "cediiiiii_10",
          "_n3d",
          "qriezmannsOpa",
          "Muniix",
          "chrisihalt",
          "Fflopse",
          "Ex4cted",
          "Gobo9",
          "NewNormal0947",
          "Umgfoin",
          "HerrDante",
          "rotmann2",
          "Pedrozockt",
          "ReichesBrot",
          "Lelouch610",
          "JennieKim",
          "Ninivee",
          "FrozenNoah",
          "Teesily",
          "Luxemburq",
          "CML_Justin",
          "Joe3346",
          "DarkCobweb",
          "JOW23",
          "La_meleagro",
          "lizsyy",
          "VendasTM",
          "2B9",
          "KakaMC",
          "Freeeedom",
          "Squashgitter333",
          "GingerTeddy",
          "toxicplace",
          "Shiewk",
          "yzvm",
          "miridis41",
          "2wc",
          "TheFabo",
          "Grapfen"
         ],
         "y": {
          "bdata": "AAAAAAAATUAAAAAAAABCQAAAAAAAAEtAAAAAAAAAQEAAAAAAAABBQAAAAAAAgFNAAAAAAAAANEAAAAAAAAAkQAAAAAAAACxAAAAAAAAAIEAAAAAAAAAAAAAAAAAAABBAAAAAAAAAAAAAAAAAAAAAAAAAAAAAACxAAAAAAAAAAAAAAAAAAABDQAAAAAAAAAAAAAAAAAAAAAAAAAAAAAAAAAAAAAAAAAAAAAAAAAAAIEAAAAAAAAA8QAAAAAAAAAAAAAAAAAAAAAAAAAAAAAAAAAAAAAAAAAAAAAAAAAAAPkAAAAAAAAAAAAAAAAAAAAAAAAAAAAAAAAAAAAAAAAAAAAAAAAAAADhAAAAAAAAAAAAAAAAAAAAAAAAAAAAAAAAAAAAAAAAAAAAAAAAAAAAAAAAAAAAAAAAAAAAAAAAAAAA=",
          "dtype": "f8"
         }
        }
       ],
       "layout": {
        "annotations": [
         {
          "font": {
           "size": 12
          },
          "showarrow": false,
          "text": "Max 100 points per minigame. Records #1 through #10 of games & maps in the active pool are considered (#1: 100, #2: 90, ..., #10: 10). If a minigame has multiple maps, the 100 points are distributed equally. fflopse.github.io/MCP-Records/data-analysis/global-ranking.ipynb",
          "x": 0.5,
          "xanchor": "center",
          "xref": "paper",
          "y": 1.1635,
          "yref": "paper"
         }
        ],
        "barmode": "stack",
        "legend": {
         "bgcolor": "rgba(255, 255, 255, 0)",
         "bordercolor": "rgba(0, 0, 0, 0)",
         "font": {
          "size": 12
         },
         "traceorder": "normal",
         "x": 1.05,
         "y": 0.5
        },
        "margin": {
         "r": 200
        },
        "template": {
         "data": {
          "bar": [
           {
            "error_x": {
             "color": "#2a3f5f"
            },
            "error_y": {
             "color": "#2a3f5f"
            },
            "marker": {
             "line": {
              "color": "#E5ECF6",
              "width": 0.5
             },
             "pattern": {
              "fillmode": "overlay",
              "size": 10,
              "solidity": 0.2
             }
            },
            "type": "bar"
           }
          ],
          "barpolar": [
           {
            "marker": {
             "line": {
              "color": "#E5ECF6",
              "width": 0.5
             },
             "pattern": {
              "fillmode": "overlay",
              "size": 10,
              "solidity": 0.2
             }
            },
            "type": "barpolar"
           }
          ],
          "carpet": [
           {
            "aaxis": {
             "endlinecolor": "#2a3f5f",
             "gridcolor": "white",
             "linecolor": "white",
             "minorgridcolor": "white",
             "startlinecolor": "#2a3f5f"
            },
            "baxis": {
             "endlinecolor": "#2a3f5f",
             "gridcolor": "white",
             "linecolor": "white",
             "minorgridcolor": "white",
             "startlinecolor": "#2a3f5f"
            },
            "type": "carpet"
           }
          ],
          "choropleth": [
           {
            "colorbar": {
             "outlinewidth": 0,
             "ticks": ""
            },
            "type": "choropleth"
           }
          ],
          "contour": [
           {
            "colorbar": {
             "outlinewidth": 0,
             "ticks": ""
            },
            "colorscale": [
             [
              0,
              "#0d0887"
             ],
             [
              0.1111111111111111,
              "#46039f"
             ],
             [
              0.2222222222222222,
              "#7201a8"
             ],
             [
              0.3333333333333333,
              "#9c179e"
             ],
             [
              0.4444444444444444,
              "#bd3786"
             ],
             [
              0.5555555555555556,
              "#d8576b"
             ],
             [
              0.6666666666666666,
              "#ed7953"
             ],
             [
              0.7777777777777778,
              "#fb9f3a"
             ],
             [
              0.8888888888888888,
              "#fdca26"
             ],
             [
              1,
              "#f0f921"
             ]
            ],
            "type": "contour"
           }
          ],
          "contourcarpet": [
           {
            "colorbar": {
             "outlinewidth": 0,
             "ticks": ""
            },
            "type": "contourcarpet"
           }
          ],
          "heatmap": [
           {
            "colorbar": {
             "outlinewidth": 0,
             "ticks": ""
            },
            "colorscale": [
             [
              0,
              "#0d0887"
             ],
             [
              0.1111111111111111,
              "#46039f"
             ],
             [
              0.2222222222222222,
              "#7201a8"
             ],
             [
              0.3333333333333333,
              "#9c179e"
             ],
             [
              0.4444444444444444,
              "#bd3786"
             ],
             [
              0.5555555555555556,
              "#d8576b"
             ],
             [
              0.6666666666666666,
              "#ed7953"
             ],
             [
              0.7777777777777778,
              "#fb9f3a"
             ],
             [
              0.8888888888888888,
              "#fdca26"
             ],
             [
              1,
              "#f0f921"
             ]
            ],
            "type": "heatmap"
           }
          ],
          "histogram": [
           {
            "marker": {
             "pattern": {
              "fillmode": "overlay",
              "size": 10,
              "solidity": 0.2
             }
            },
            "type": "histogram"
           }
          ],
          "histogram2d": [
           {
            "colorbar": {
             "outlinewidth": 0,
             "ticks": ""
            },
            "colorscale": [
             [
              0,
              "#0d0887"
             ],
             [
              0.1111111111111111,
              "#46039f"
             ],
             [
              0.2222222222222222,
              "#7201a8"
             ],
             [
              0.3333333333333333,
              "#9c179e"
             ],
             [
              0.4444444444444444,
              "#bd3786"
             ],
             [
              0.5555555555555556,
              "#d8576b"
             ],
             [
              0.6666666666666666,
              "#ed7953"
             ],
             [
              0.7777777777777778,
              "#fb9f3a"
             ],
             [
              0.8888888888888888,
              "#fdca26"
             ],
             [
              1,
              "#f0f921"
             ]
            ],
            "type": "histogram2d"
           }
          ],
          "histogram2dcontour": [
           {
            "colorbar": {
             "outlinewidth": 0,
             "ticks": ""
            },
            "colorscale": [
             [
              0,
              "#0d0887"
             ],
             [
              0.1111111111111111,
              "#46039f"
             ],
             [
              0.2222222222222222,
              "#7201a8"
             ],
             [
              0.3333333333333333,
              "#9c179e"
             ],
             [
              0.4444444444444444,
              "#bd3786"
             ],
             [
              0.5555555555555556,
              "#d8576b"
             ],
             [
              0.6666666666666666,
              "#ed7953"
             ],
             [
              0.7777777777777778,
              "#fb9f3a"
             ],
             [
              0.8888888888888888,
              "#fdca26"
             ],
             [
              1,
              "#f0f921"
             ]
            ],
            "type": "histogram2dcontour"
           }
          ],
          "mesh3d": [
           {
            "colorbar": {
             "outlinewidth": 0,
             "ticks": ""
            },
            "type": "mesh3d"
           }
          ],
          "parcoords": [
           {
            "line": {
             "colorbar": {
              "outlinewidth": 0,
              "ticks": ""
             }
            },
            "type": "parcoords"
           }
          ],
          "pie": [
           {
            "automargin": true,
            "type": "pie"
           }
          ],
          "scatter": [
           {
            "fillpattern": {
             "fillmode": "overlay",
             "size": 10,
             "solidity": 0.2
            },
            "type": "scatter"
           }
          ],
          "scatter3d": [
           {
            "line": {
             "colorbar": {
              "outlinewidth": 0,
              "ticks": ""
             }
            },
            "marker": {
             "colorbar": {
              "outlinewidth": 0,
              "ticks": ""
             }
            },
            "type": "scatter3d"
           }
          ],
          "scattercarpet": [
           {
            "marker": {
             "colorbar": {
              "outlinewidth": 0,
              "ticks": ""
             }
            },
            "type": "scattercarpet"
           }
          ],
          "scattergeo": [
           {
            "marker": {
             "colorbar": {
              "outlinewidth": 0,
              "ticks": ""
             }
            },
            "type": "scattergeo"
           }
          ],
          "scattergl": [
           {
            "marker": {
             "colorbar": {
              "outlinewidth": 0,
              "ticks": ""
             }
            },
            "type": "scattergl"
           }
          ],
          "scattermap": [
           {
            "marker": {
             "colorbar": {
              "outlinewidth": 0,
              "ticks": ""
             }
            },
            "type": "scattermap"
           }
          ],
          "scattermapbox": [
           {
            "marker": {
             "colorbar": {
              "outlinewidth": 0,
              "ticks": ""
             }
            },
            "type": "scattermapbox"
           }
          ],
          "scatterpolar": [
           {
            "marker": {
             "colorbar": {
              "outlinewidth": 0,
              "ticks": ""
             }
            },
            "type": "scatterpolar"
           }
          ],
          "scatterpolargl": [
           {
            "marker": {
             "colorbar": {
              "outlinewidth": 0,
              "ticks": ""
             }
            },
            "type": "scatterpolargl"
           }
          ],
          "scatterternary": [
           {
            "marker": {
             "colorbar": {
              "outlinewidth": 0,
              "ticks": ""
             }
            },
            "type": "scatterternary"
           }
          ],
          "surface": [
           {
            "colorbar": {
             "outlinewidth": 0,
             "ticks": ""
            },
            "colorscale": [
             [
              0,
              "#0d0887"
             ],
             [
              0.1111111111111111,
              "#46039f"
             ],
             [
              0.2222222222222222,
              "#7201a8"
             ],
             [
              0.3333333333333333,
              "#9c179e"
             ],
             [
              0.4444444444444444,
              "#bd3786"
             ],
             [
              0.5555555555555556,
              "#d8576b"
             ],
             [
              0.6666666666666666,
              "#ed7953"
             ],
             [
              0.7777777777777778,
              "#fb9f3a"
             ],
             [
              0.8888888888888888,
              "#fdca26"
             ],
             [
              1,
              "#f0f921"
             ]
            ],
            "type": "surface"
           }
          ],
          "table": [
           {
            "cells": {
             "fill": {
              "color": "#EBF0F8"
             },
             "line": {
              "color": "white"
             }
            },
            "header": {
             "fill": {
              "color": "#C8D4E3"
             },
             "line": {
              "color": "white"
             }
            },
            "type": "table"
           }
          ]
         },
         "layout": {
          "annotationdefaults": {
           "arrowcolor": "#2a3f5f",
           "arrowhead": 0,
           "arrowwidth": 1
          },
          "autotypenumbers": "strict",
          "coloraxis": {
           "colorbar": {
            "outlinewidth": 0,
            "ticks": ""
           }
          },
          "colorscale": {
           "diverging": [
            [
             0,
             "#8e0152"
            ],
            [
             0.1,
             "#c51b7d"
            ],
            [
             0.2,
             "#de77ae"
            ],
            [
             0.3,
             "#f1b6da"
            ],
            [
             0.4,
             "#fde0ef"
            ],
            [
             0.5,
             "#f7f7f7"
            ],
            [
             0.6,
             "#e6f5d0"
            ],
            [
             0.7,
             "#b8e186"
            ],
            [
             0.8,
             "#7fbc41"
            ],
            [
             0.9,
             "#4d9221"
            ],
            [
             1,
             "#276419"
            ]
           ],
           "sequential": [
            [
             0,
             "#0d0887"
            ],
            [
             0.1111111111111111,
             "#46039f"
            ],
            [
             0.2222222222222222,
             "#7201a8"
            ],
            [
             0.3333333333333333,
             "#9c179e"
            ],
            [
             0.4444444444444444,
             "#bd3786"
            ],
            [
             0.5555555555555556,
             "#d8576b"
            ],
            [
             0.6666666666666666,
             "#ed7953"
            ],
            [
             0.7777777777777778,
             "#fb9f3a"
            ],
            [
             0.8888888888888888,
             "#fdca26"
            ],
            [
             1,
             "#f0f921"
            ]
           ],
           "sequentialminus": [
            [
             0,
             "#0d0887"
            ],
            [
             0.1111111111111111,
             "#46039f"
            ],
            [
             0.2222222222222222,
             "#7201a8"
            ],
            [
             0.3333333333333333,
             "#9c179e"
            ],
            [
             0.4444444444444444,
             "#bd3786"
            ],
            [
             0.5555555555555556,
             "#d8576b"
            ],
            [
             0.6666666666666666,
             "#ed7953"
            ],
            [
             0.7777777777777778,
             "#fb9f3a"
            ],
            [
             0.8888888888888888,
             "#fdca26"
            ],
            [
             1,
             "#f0f921"
            ]
           ]
          },
          "colorway": [
           "#636efa",
           "#EF553B",
           "#00cc96",
           "#ab63fa",
           "#FFA15A",
           "#19d3f3",
           "#FF6692",
           "#B6E880",
           "#FF97FF",
           "#FECB52"
          ],
          "font": {
           "color": "#2a3f5f"
          },
          "geo": {
           "bgcolor": "white",
           "lakecolor": "white",
           "landcolor": "#E5ECF6",
           "showlakes": true,
           "showland": true,
           "subunitcolor": "white"
          },
          "hoverlabel": {
           "align": "left"
          },
          "hovermode": "closest",
          "mapbox": {
           "style": "light"
          },
          "paper_bgcolor": "white",
          "plot_bgcolor": "#E5ECF6",
          "polar": {
           "angularaxis": {
            "gridcolor": "white",
            "linecolor": "white",
            "ticks": ""
           },
           "bgcolor": "#E5ECF6",
           "radialaxis": {
            "gridcolor": "white",
            "linecolor": "white",
            "ticks": ""
           }
          },
          "scene": {
           "xaxis": {
            "backgroundcolor": "#E5ECF6",
            "gridcolor": "white",
            "gridwidth": 2,
            "linecolor": "white",
            "showbackground": true,
            "ticks": "",
            "zerolinecolor": "white"
           },
           "yaxis": {
            "backgroundcolor": "#E5ECF6",
            "gridcolor": "white",
            "gridwidth": 2,
            "linecolor": "white",
            "showbackground": true,
            "ticks": "",
            "zerolinecolor": "white"
           },
           "zaxis": {
            "backgroundcolor": "#E5ECF6",
            "gridcolor": "white",
            "gridwidth": 2,
            "linecolor": "white",
            "showbackground": true,
            "ticks": "",
            "zerolinecolor": "white"
           }
          },
          "shapedefaults": {
           "line": {
            "color": "#2a3f5f"
           }
          },
          "ternary": {
           "aaxis": {
            "gridcolor": "white",
            "linecolor": "white",
            "ticks": ""
           },
           "baxis": {
            "gridcolor": "white",
            "linecolor": "white",
            "ticks": ""
           },
           "bgcolor": "#E5ECF6",
           "caxis": {
            "gridcolor": "white",
            "linecolor": "white",
            "ticks": ""
           }
          },
          "title": {
           "x": 0.05
          },
          "xaxis": {
           "automargin": true,
           "gridcolor": "white",
           "linecolor": "white",
           "ticks": "",
           "title": {
            "standoff": 15
           },
           "zerolinecolor": "white",
           "zerolinewidth": 2
          },
          "yaxis": {
           "automargin": true,
           "gridcolor": "white",
           "linecolor": "white",
           "ticks": "",
           "title": {
            "standoff": 15
           },
           "zerolinecolor": "white",
           "zerolinewidth": 2
          }
         }
        },
        "title": {
         "text": "Extended Overall Record Comparison - Top 40 Players"
        },
        "xaxis": {
         "title": {
          "text": "Player"
         }
        },
        "yaxis": {
         "title": {
          "text": "Points"
         }
        }
       }
      }
     },
     "metadata": {},
     "output_type": "display_data"
    }
   ],
   "source": [
    "import plotly.graph_objects as go\n",
    "\n",
    "# Sum all columns to get the total score\n",
    "outDf['Total'] = outDf.sum(axis=1)\n",
    "\n",
    "# Sort by total score and fill N/A values with 0\n",
    "outDf = outDf.sort_values(by='Total', ascending=False).fillna(0)\n",
    "\n",
    "# Crop to top 10 players\n",
    "cropDf = outDf.head(40).copy()\n",
    "\n",
    "# Drop the 'Total' column for plotting\n",
    "cropDf = cropDf.drop(columns=['Total'])\n",
    "\n",
    "# Create a color palette\n",
    "color_palette = px.colors.qualitative.Safe\n",
    "\n",
    "# Create the stacked bar plot\n",
    "fig = go.Figure()\n",
    "\n",
    "cropDf = remove_duplicate_columns(cropDf)\n",
    "\n",
    "for column in cropDf.columns.difference(['Player']):\n",
    "    fig.add_trace(go.Bar(\n",
    "        x=cropDf.index,\n",
    "        y=cropDf[column],\n",
    "        name=column,\n",
    "        marker_color=color_palette[len(fig.data) % len(color_palette)]\n",
    "    ))\n",
    "\n",
    "# Update layout\n",
    "fig.update_layout(\n",
    "    barmode='stack',\n",
    "    title='Extended Overall Record Comparison - Top 40 Players',\n",
    "    xaxis=dict(title='Player'),\n",
    "    yaxis=dict(title='Points'),\n",
    "    #height=800,\n",
    "    #width=1000,\n",
    "    legend=dict(\n",
    "        x=1.05,\n",
    "        y=0.5,\n",
    "        traceorder='normal',\n",
    "        font=dict(size=12),\n",
    "        bgcolor='rgba(255, 255, 255, 0)',\n",
    "        bordercolor='rgba(0, 0, 0, 0)'\n",
    "    ),\n",
    "    margin=dict(r=200),  # Adjust right margin to make room for the legend\n",
    "    annotations=[\n",
    "        dict(\n",
    "            x=0.5,\n",
    "            y=1.1635,\n",
    "            xref='paper',\n",
    "            yref='paper',\n",
    "            text='Max 100 points per minigame. Records #1 through #10 of games & maps in the active pool are considered (#1: 100, #2: 90, ..., #10: 10). If a minigame has multiple maps, the 100 points are distributed equally. fflopse.github.io/MCP-Records/data-analysis/global-ranking.ipynb',\n",
    "            showarrow=False,\n",
    "            font=dict(size=12),\n",
    "            xanchor='center'\n",
    "        )\n",
    "    ]\n",
    ")\n",
    "\n",
    "fig.show()\n",
    "\n",
    "# save the plot as an html file\n",
    "\n",
    "fig.write_html('out/ext_overall_record_comparison.html')"
   ]
  },
  {
   "cell_type": "code",
   "execution_count": 68,
   "metadata": {},
   "outputs": [
    {
     "data": {
      "application/vnd.plotly.v1+json": {
       "config": {
        "plotlyServerURL": "https://plot.ly"
       },
       "data": [
        {
         "marker": {
          "color": "rgb(136, 204, 238)"
         },
         "name": "Ampelrennen",
         "type": "bar",
         "x": [
          "Allooy",
          "cediiiiii_10",
          "_n3d",
          "qriezmannsOpa",
          "Muniix",
          "chrisihalt",
          "Fflopse",
          "Ex4cted",
          "Gobo9",
          "NewNormal0947",
          "Umgfoin",
          "HerrDante",
          "rotmann2",
          "Pedrozockt",
          "ReichesBrot",
          "Lelouch610",
          "JennieKim",
          "Ninivee",
          "FrozenNoah",
          "Teesily",
          "Luxemburq",
          "CML_Justin",
          "Joe3346",
          "JOW23",
          "DarkCobweb",
          "La_meleagro",
          "lizsyy",
          "VendasTM",
          "2B9",
          "KakaMC",
          "Squashgitter333",
          "Freeeedom",
          "GingerTeddy",
          "toxicplace",
          "Shiewk",
          "yzvm",
          "miridis41",
          "2wc",
          "TheFabo",
          "Grapfen",
          "Schmaarek",
          "GermanPie",
          "agowskyy",
          "Vanillinchen",
          "MaxMitMaulkorb",
          "Feinberg",
          "swiffle",
          "ByNetherdude",
          "Lubottus",
          "Stockinqs",
          "GeneralEnte06",
          "yiiq",
          "YBCM",
          "xBaumeisterin",
          "Mincheeen",
          "Seemops_8",
          "DaVinci_Son",
          "Sey__",
          "vKito",
          "zBro",
          "h4nnes",
          "Persidieus",
          "byTobi",
          "unausgesprochen",
          "RasenLP",
          "camman18YT",
          "LeWi_100",
          "Wienerisch",
          "Flitzi_Dino",
          "ZweitesIch",
          "ffawks",
          "Txlentierter",
          "LucaaOn",
          "Gerrygames",
          "Hyxeed",
          "DieserBear",
          "marbrueck",
          "Ungluecklicher",
          "JOW24",
          "Sthyq",
          "BastiGHG",
          "LeMetin_",
          "Gestimus",
          "lvlaurin",
          "Ritokii",
          "y9nic",
          "MaxOnTheRoad",
          "BunnyKiko",
          "xX_Dima_ggg_Xx6",
          "Steavn",
          "FlyingKyubi",
          "Wolkenfarmer",
          "DerAutist",
          "Mansuni",
          "ArthurAlchemist",
          "Bartschii",
          "Lutorix",
          "M0osebumps",
          "Morittz",
          "juvona"
         ],
         "y": {
          "bdata": "AAAAAAAAAAAAAAAAAAAkQAAAAAAAAC5AAAAAAAAAAAAAAAAAAAAAAAAAAAAAAFRAAAAAAACAQUAAAAAAAIBRQAAAAAAAAElAAAAAAAAAAAAAAAAAAABJQAAAAAAAAAAAAAAAAAAAAAAAAAAAAIBLQAAAAAAAAAAAAAAAAAAAAAAAAAAAAAAAAAAAAAAAAAAAAAAAAAAAAAAAAAAAAAAAAAAAAAAAAAAAAAAAAAAAAAAAAAAAAAAAAAAAAAAAgEZAAAAAAAAAAAAAAAAAAAAAAAAAAAAAAAAAAAAAAAAAAAAAAAAAAAAAAAAAAAAAAAAAAAAAAAAAAAAAAAAAAAAAAAAAAAAAAAAAAAAAAAAAAAAAAAAAAAAAAAAAAAAAAAAAAAAAAAAALkAAAAAAAAAAAAAAAAAAAAAAAAAAAAAAAAAAAAAAAAAAAAAAAAAAADRAAAAAAAAAAAAAAAAAAAA0QAAAAAAAAAAAAAAAAAAAAAAAAAAAAAAAAAAAAAAAAAAAAAAAAAAAAAAAAAAAAAAAAAAAAAAAAAAAAAAAAAAAAAAAAAAAAAAAAAAAAAAAAAAAAAAAAAAAAAAAAAAAAAAAAAAAAAAAAAAAAAAAAACAQUAAAAAAAAAAAAAAAAAAAAAAAAAAAAAAAAAAAAAAAAAAAAAAAAAAAAAAAAAAAAAAAAAAAAAAAAAAAAAAAAAAAAAAAAAAAAAAAAAAAAAAAAAAAAAAAAAAAAAAAAAAAAAAAAAAAAAAAAAAAAAAAAAAAAAAAAAAAAAAAAAAAAAAAAAAAAAAAAAAAAAAAAAAAAAAAAAAAAAAAAAAAAAAAAAAAAAAAAAAAAAAAAAAAAAAAAAAAAAAAAAAAAAAAAAAAAAAAAAAAAAAAAAAAAAAAAAAAAAAAAAAAAAAPkAAAAAAAAAAAAAAAAAAAAAAAAAAAAAAAAAAAAAAAAAAAAAAAAAAAAAAAAAAAAAAAAAAAAAAAAAAAAAAAAAAAAAAAAAAAAAAAAAAAAAAAAAAAAAAAAAAAAAAAAAAAAAAAAAAAAAAAAAAAAAAAAAAAAAAAAAAAAAAAAA=",
          "dtype": "f8"
         }
        },
        {
         "marker": {
          "color": "rgb(204, 102, 119)"
         },
         "name": "Buntes Chaos",
         "type": "bar",
         "x": [
          "Allooy",
          "cediiiiii_10",
          "_n3d",
          "qriezmannsOpa",
          "Muniix",
          "chrisihalt",
          "Fflopse",
          "Ex4cted",
          "Gobo9",
          "NewNormal0947",
          "Umgfoin",
          "HerrDante",
          "rotmann2",
          "Pedrozockt",
          "ReichesBrot",
          "Lelouch610",
          "JennieKim",
          "Ninivee",
          "FrozenNoah",
          "Teesily",
          "Luxemburq",
          "CML_Justin",
          "Joe3346",
          "JOW23",
          "DarkCobweb",
          "La_meleagro",
          "lizsyy",
          "VendasTM",
          "2B9",
          "KakaMC",
          "Squashgitter333",
          "Freeeedom",
          "GingerTeddy",
          "toxicplace",
          "Shiewk",
          "yzvm",
          "miridis41",
          "2wc",
          "TheFabo",
          "Grapfen",
          "Schmaarek",
          "GermanPie",
          "agowskyy",
          "Vanillinchen",
          "MaxMitMaulkorb",
          "Feinberg",
          "swiffle",
          "ByNetherdude",
          "Lubottus",
          "Stockinqs",
          "GeneralEnte06",
          "yiiq",
          "YBCM",
          "xBaumeisterin",
          "Mincheeen",
          "Seemops_8",
          "DaVinci_Son",
          "Sey__",
          "vKito",
          "zBro",
          "h4nnes",
          "Persidieus",
          "byTobi",
          "unausgesprochen",
          "RasenLP",
          "camman18YT",
          "LeWi_100",
          "Wienerisch",
          "Flitzi_Dino",
          "ZweitesIch",
          "ffawks",
          "Txlentierter",
          "LucaaOn",
          "Gerrygames",
          "Hyxeed",
          "DieserBear",
          "marbrueck",
          "Ungluecklicher",
          "JOW24",
          "Sthyq",
          "BastiGHG",
          "LeMetin_",
          "Gestimus",
          "lvlaurin",
          "Ritokii",
          "y9nic",
          "MaxOnTheRoad",
          "BunnyKiko",
          "xX_Dima_ggg_Xx6",
          "Steavn",
          "FlyingKyubi",
          "Wolkenfarmer",
          "DerAutist",
          "Mansuni",
          "ArthurAlchemist",
          "Bartschii",
          "Lutorix",
          "M0osebumps",
          "Morittz",
          "juvona"
         ],
         "y": {
          "bdata": "AAAAAAAAWUAAAAAAAABZQAAAAAAAAFlAAAAAAAAASUAAAAAAAABZQAAAAAAAAElAAAAAAAAAWUAAAAAAAABZQAAAAAAAAElAAAAAAAAASUAAAAAAAABZQAAAAAAAAFlAAAAAAAAASUAAAAAAAABZQAAAAAAAAFlAAAAAAAAASUAAAAAAAABJQAAAAAAAAFlAAAAAAAAAAAAAAAAAAABZQAAAAAAAAElAAAAAAAAASUAAAAAAAAAAAAAAAAAAAAAAAAAAAAAAAAAAAAAAAAAAAAAAAAAAAFlAAAAAAAAAAAAAAAAAAAAAAAAAAAAAAFlAAAAAAAAASUAAAAAAAABJQAAAAAAAAAAAAAAAAAAAAAAAAAAAAABZQAAAAAAAAAAAAAAAAAAAAAAAAAAAAAAAAAAAAAAAAElAAAAAAAAASUAAAAAAAABJQAAAAAAAAElAAAAAAAAAAAAAAAAAAABJQAAAAAAAAElAAAAAAAAASUAAAAAAAABJQAAAAAAAAAAAAAAAAAAASUAAAAAAAABJQAAAAAAAAElAAAAAAAAAAAAAAAAAAABJQAAAAAAAAElAAAAAAAAASUAAAAAAAABJQAAAAAAAAAAAAAAAAAAAAAAAAAAAAAAAAAAAAAAAAAAAAAAAAAAAAAAAAAAAAAAAAAAAAAAAAAAAAAAAAAAAAAAAAAAAAAAAAAAAAAAAAAAAAAAAAAAAAAAAAAAAAAAAAAAAAAAAAAAAAAAAAAAAAAAAAAAAAAAAAAAAAAAAAAAAAAAAAAAAAAAAAAAAAAAAAAAAAAAAAAAAAAAAAAAAAAAAAAAAAAAAAAAAAAAAAAAAAAAAAAAAAAAAAAAAAAAAAAAAAAAAAAAAAAAAAAAAAAAAAAAAAAAAAAAAAAAAAAAAAAAAAAAAAAAAAAAAAAAAAAAAAAAAAAAAAAAAAAAAAAAAAAAAAAAAAAAAAAAAAAAAAAAAAAAAAAAAAAAAAAAAAAAAAAAAAAAAAAAAAAAAAAAAAAAAAAAAAAAAAAAAAAAAAAAAAAAAAAAAAAAAAAAAAAAAAAAAAAAAAAAAAAAAAAA=",
          "dtype": "f8"
         }
        },
        {
         "marker": {
          "color": "rgb(221, 204, 119)"
         },
         "name": "Drachenflucht",
         "type": "bar",
         "x": [
          "Allooy",
          "cediiiiii_10",
          "_n3d",
          "qriezmannsOpa",
          "Muniix",
          "chrisihalt",
          "Fflopse",
          "Ex4cted",
          "Gobo9",
          "NewNormal0947",
          "Umgfoin",
          "HerrDante",
          "rotmann2",
          "Pedrozockt",
          "ReichesBrot",
          "Lelouch610",
          "JennieKim",
          "Ninivee",
          "FrozenNoah",
          "Teesily",
          "Luxemburq",
          "CML_Justin",
          "Joe3346",
          "JOW23",
          "DarkCobweb",
          "La_meleagro",
          "lizsyy",
          "VendasTM",
          "2B9",
          "KakaMC",
          "Squashgitter333",
          "Freeeedom",
          "GingerTeddy",
          "toxicplace",
          "Shiewk",
          "yzvm",
          "miridis41",
          "2wc",
          "TheFabo",
          "Grapfen",
          "Schmaarek",
          "GermanPie",
          "agowskyy",
          "Vanillinchen",
          "MaxMitMaulkorb",
          "Feinberg",
          "swiffle",
          "ByNetherdude",
          "Lubottus",
          "Stockinqs",
          "GeneralEnte06",
          "yiiq",
          "YBCM",
          "xBaumeisterin",
          "Mincheeen",
          "Seemops_8",
          "DaVinci_Son",
          "Sey__",
          "vKito",
          "zBro",
          "h4nnes",
          "Persidieus",
          "byTobi",
          "unausgesprochen",
          "RasenLP",
          "camman18YT",
          "LeWi_100",
          "Wienerisch",
          "Flitzi_Dino",
          "ZweitesIch",
          "ffawks",
          "Txlentierter",
          "LucaaOn",
          "Gerrygames",
          "Hyxeed",
          "DieserBear",
          "marbrueck",
          "Ungluecklicher",
          "JOW24",
          "Sthyq",
          "BastiGHG",
          "LeMetin_",
          "Gestimus",
          "lvlaurin",
          "Ritokii",
          "y9nic",
          "MaxOnTheRoad",
          "BunnyKiko",
          "xX_Dima_ggg_Xx6",
          "Steavn",
          "FlyingKyubi",
          "Wolkenfarmer",
          "DerAutist",
          "Mansuni",
          "ArthurAlchemist",
          "Bartschii",
          "Lutorix",
          "M0osebumps",
          "Morittz",
          "juvona"
         ],
         "y": {
          "bdata": "AAAAAACARkAAAAAAAABOQAAAAAAAAD5AAAAAAACAMUAAAAAAAAApQAAAAAAAAAAAAAAAAAAAAAAAAAAAAAAUQAAAAAAAAAAAAAAAAABASkAAAAAAAAA5QAAAAAAAAAAAAAAAAAAAHkAAAAAAAAAAAAAAAAAAAAAAAAAAAAAAAAAAAAAAAAAAAAAAAAAAAB5AAAAAAAAAAAAAAAAAAMBCQAAAAAAAgDFAAAAAAAAASUAAAAAAAIAxQAAAAAAAAAAAAAAAAAAAAAAAAAAAAAAAAAAAAAAAAAAAAAAAAAAAAAAAAAAAAAAAAAAAAAAAAAAAAAAAAAAAFEAAAAAAAAAuQAAAAAAAAAAAAAAAAAAAAAAAAAAAAAAAAAAAAAAAAAAAAAAAAAAAAAAAAAAAAAAAAAAAAAAAAAAAAAAAAAAAFEAAAAAAAAAuQAAAAAAAAAAAAAAAAAAAAAAAAAAAAAAAAAAAAAAAAAAAAAAAAAAAAAAAAAAAAAAeQAAAAAAAAAAAAAAAAAAAAAAAAAAAAAAAAAAAAAAAAAAAAAAAAAAAAAAAAAAAAAAAAAAAAAAAAAAAAAAAAAAAAAAAAAAAAAAAAAAAAAAAAAAAAAAAAAAAAAAAAAAAAAApQAAAAAAAAAAAAAAAAAAAHkAAAAAAAAAAAAAAAAAAAAAAAAAAAAAAAAAAAAAAAAA5QAAAAAAAAAAAAAAAAAAAAAAAAAAAAAApQAAAAAAAAAAAAAAAAAAAAAAAAAAAAAAAAAAAAAAAAAAAAAAAAAAAAAAAAAAAAAAAAAAAAAAAAAAAAAAAAAAAAAAAAAAAAAAAAAAAAAAAACRAAAAAAAAAAAAAAAAAAAAAAAAAAAAAAAAAAAAAAAAAAAAAAAAAAAAAAAAAAAAAAAAAAAAAAAAAAAAAAAAAAAAAAAAAAAAAAAAAAAAAAAAAAAAAAAAAAAAAAAAAAAAAAAAAAAAAAAAAAAAAAAAAAAAAAAAAAAAAAAAAAAAAAAAAAAAAAAAAAAAAAAAAAAAAAAAAAAAAAAAAAAAAAAAAAAAAAAAAAAAAAAAAAAAAAAAAAAA=",
          "dtype": "f8"
         }
        },
        {
         "marker": {
          "color": "rgb(17, 119, 51)"
         },
         "name": "Duelle",
         "type": "bar",
         "x": [
          "Allooy",
          "cediiiiii_10",
          "_n3d",
          "qriezmannsOpa",
          "Muniix",
          "chrisihalt",
          "Fflopse",
          "Ex4cted",
          "Gobo9",
          "NewNormal0947",
          "Umgfoin",
          "HerrDante",
          "rotmann2",
          "Pedrozockt",
          "ReichesBrot",
          "Lelouch610",
          "JennieKim",
          "Ninivee",
          "FrozenNoah",
          "Teesily",
          "Luxemburq",
          "CML_Justin",
          "Joe3346",
          "JOW23",
          "DarkCobweb",
          "La_meleagro",
          "lizsyy",
          "VendasTM",
          "2B9",
          "KakaMC",
          "Squashgitter333",
          "Freeeedom",
          "GingerTeddy",
          "toxicplace",
          "Shiewk",
          "yzvm",
          "miridis41",
          "2wc",
          "TheFabo",
          "Grapfen",
          "Schmaarek",
          "GermanPie",
          "agowskyy",
          "Vanillinchen",
          "MaxMitMaulkorb",
          "Feinberg",
          "swiffle",
          "ByNetherdude",
          "Lubottus",
          "Stockinqs",
          "GeneralEnte06",
          "yiiq",
          "YBCM",
          "xBaumeisterin",
          "Mincheeen",
          "Seemops_8",
          "DaVinci_Son",
          "Sey__",
          "vKito",
          "zBro",
          "h4nnes",
          "Persidieus",
          "byTobi",
          "unausgesprochen",
          "RasenLP",
          "camman18YT",
          "LeWi_100",
          "Wienerisch",
          "Flitzi_Dino",
          "ZweitesIch",
          "ffawks",
          "Txlentierter",
          "LucaaOn",
          "Gerrygames",
          "Hyxeed",
          "DieserBear",
          "marbrueck",
          "Ungluecklicher",
          "JOW24",
          "Sthyq",
          "BastiGHG",
          "LeMetin_",
          "Gestimus",
          "lvlaurin",
          "Ritokii",
          "y9nic",
          "MaxOnTheRoad",
          "BunnyKiko",
          "xX_Dima_ggg_Xx6",
          "Steavn",
          "FlyingKyubi",
          "Wolkenfarmer",
          "DerAutist",
          "Mansuni",
          "ArthurAlchemist",
          "Bartschii",
          "Lutorix",
          "M0osebumps",
          "Morittz",
          "juvona"
         ],
         "y": {
          "bdata": "AAAAAAAAAAAAAAAAAABOQAAAAAAAAAAAAAAAAAAAAAAAAAAAAAAAAAAAAAAAAE5AAAAAAAAAAAAAAAAAAAAAAAAAAAAAAAAAAAAAAAAAAAAAAAAAAAAAAAAAAAAAAAAAAAAAAAAAAAAAAAAAAAAAAAAAAAAAAAAAAAAAAAAAAAAAAAAAAAAAAAAAAAAAAAAAAAAAAAAAAAAAAAAAAAAAAAAAAAAAAAAAAAAAAAAAAAAAAAAAAAAAAAAAAAAAAAAAAAAAAAAATkAAAAAAAABZQAAAAAAAAAAAAAAAAAAAAAAAAAAAAABUQAAAAAAAAAAAAAAAAAAAAAAAAAAAAAAAAAAAAAAAAAAAAAAAAAAAWUAAAAAAAAAAAAAAAAAAAE5AAAAAAACAUUAAAAAAAABOQAAAAAAAAAAAAAAAAAAAAAAAAAAAAAAAAAAAAAAAAAAAAAAAAAAAAAAAAAAAAAAAAAAAAAAAAAAAAAAAAAAAAAAAAAAAAAAAAAAAAAAAAAAAAAAAAAAAAAAAAAAAAAAAAAAAAAAAAAAAAAAAAAAAAAAAAAAAAAAAAAAAAAAAAAAAAAAAAAAAAAAAAAAAAAAAAAAAAAAAAAAAAAAAAAAAAAAAAAAAAAAAAAAAAAAAAAAAAAAAAAAAAAAAAAAAAAAAAAAAAAAAAAAAAAAAAAAAAAAAAAAAAAAAAAAAAAAAAAAAAAAAAAAAAAAAAAAAAAAAAAAAAAAAAAAAAAAAAAAAAAAAAAAAAAAAAAAAAAAAAAAAAAAAAAAAAAAAAAAAAAAAAAAAAAAAAAAAAAAAAAAAAAAAAAAAAAAAAAAAAAAAAAAAAAAAAAAAAAAAAAAAAAAAAAAAAAAAAAAAAAAAAAAAAAAAAAAAAAAAAAAAAAAAAAAAAAAAAAAAAAAAAAAAAAAAAAAAAAAAAAAAAAAAAAAAAAAAAAAAAAAAAAAAAAAAAAAAAAAAAAAAAAAAAAAAAAAAAAAAAAAAAAAAAAAAAAAAAAAAAAAAAAAAAAAAAAAAAAAAAAAAAAAAAAAAAAAAAAAAAAAAAAAAAAAAAAAAAAAAAAA=",
          "dtype": "f8"
         }
        },
        {
         "marker": {
          "color": "rgb(51, 34, 136)"
         },
         "name": "Einer im Köcher",
         "type": "bar",
         "x": [
          "Allooy",
          "cediiiiii_10",
          "_n3d",
          "qriezmannsOpa",
          "Muniix",
          "chrisihalt",
          "Fflopse",
          "Ex4cted",
          "Gobo9",
          "NewNormal0947",
          "Umgfoin",
          "HerrDante",
          "rotmann2",
          "Pedrozockt",
          "ReichesBrot",
          "Lelouch610",
          "JennieKim",
          "Ninivee",
          "FrozenNoah",
          "Teesily",
          "Luxemburq",
          "CML_Justin",
          "Joe3346",
          "JOW23",
          "DarkCobweb",
          "La_meleagro",
          "lizsyy",
          "VendasTM",
          "2B9",
          "KakaMC",
          "Squashgitter333",
          "Freeeedom",
          "GingerTeddy",
          "toxicplace",
          "Shiewk",
          "yzvm",
          "miridis41",
          "2wc",
          "TheFabo",
          "Grapfen",
          "Schmaarek",
          "GermanPie",
          "agowskyy",
          "Vanillinchen",
          "MaxMitMaulkorb",
          "Feinberg",
          "swiffle",
          "ByNetherdude",
          "Lubottus",
          "Stockinqs",
          "GeneralEnte06",
          "yiiq",
          "YBCM",
          "xBaumeisterin",
          "Mincheeen",
          "Seemops_8",
          "DaVinci_Son",
          "Sey__",
          "vKito",
          "zBro",
          "h4nnes",
          "Persidieus",
          "byTobi",
          "unausgesprochen",
          "RasenLP",
          "camman18YT",
          "LeWi_100",
          "Wienerisch",
          "Flitzi_Dino",
          "ZweitesIch",
          "ffawks",
          "Txlentierter",
          "LucaaOn",
          "Gerrygames",
          "Hyxeed",
          "DieserBear",
          "marbrueck",
          "Ungluecklicher",
          "JOW24",
          "Sthyq",
          "BastiGHG",
          "LeMetin_",
          "Gestimus",
          "lvlaurin",
          "Ritokii",
          "y9nic",
          "MaxOnTheRoad",
          "BunnyKiko",
          "xX_Dima_ggg_Xx6",
          "Steavn",
          "FlyingKyubi",
          "Wolkenfarmer",
          "DerAutist",
          "Mansuni",
          "ArthurAlchemist",
          "Bartschii",
          "Lutorix",
          "M0osebumps",
          "Morittz",
          "juvona"
         ],
         "y": {
          "bdata": "AAAAAAAASUAAAAAAAAAkQAAAAAAAABBAAAAAAAAAAAAAAAAAAAAQQAAAAAAAAAAAAAAAAAAASEAAAAAAAAAwQAAAAAAAAAAAAAAAAAAAJEAAAAAAAAAAAAAAAAAAAERAAAAAAAAAAAAAAAAAAAAAAAAAAAAAAAAAAAAAAAAAEEAAAAAAAAAAAAAAAAAAAAAAAAAAAAAARkAAAAAAAAAoQAAAAAAAAAAAAAAAAAAAAAAAAAAAAAAAAAAAAAAAABBAAAAAAAAAAAAAAAAAAAAAAAAAAAAAAAAAAAAAAAAAAAAAAAAAAAAyQAAAAAAAAAAAAAAAAAAAAAAAAAAAAAA+QAAAAAAAAAAAAAAAAAAAAAAAAAAAAAAAAAAAAAAAAAAAAAAAAAAAAAAAAAAAAAAAAAAAAAAAAAAAAAAAAAAAAAAAAAAAAAAAAAAAAAAAAAAAAAAAAAAAAAAAAAAAAAAAAAAAAAAAAAAAAAAAAAAAAAAAAAAAAAAAAAAAAAAAAAAAAAAAAAAAAAAAAAAAAAAAAAAAAAAAAAAAAAAAAAAAAAAAAAAAAAAAAAAAAAAAAAAAAAAAAAAAAAAAAAAAAAAAAAAAAAAAADBAAAAAAAAAAAAAAAAAAAAyQAAAAAAAAAAAAAAAAAAAPEAAAAAAAAAAAAAAAAAAADJAAAAAAAAAAAAAAAAAAAAAAAAAAAAAAAAAAAAAAAAAAAAAAAAAAAAAAAAAAAAAAAAAAAAAAAAAAAAAAAAAAAAAAAAAAAAAABhAAAAAAAAALEAAAAAAAAAAAAAAAAAAADRAAAAAAAAAJEAAAAAAAAAwQAAAAAAAAChAAAAAAAAAAAAAAAAAAAAAAAAAAAAAADRAAAAAAAAAAAAAAAAAAAAgQAAAAAAAAAAAAAAAAAAAAAAAAAAAAAAAAAAAAAAAAAAAAAAAAAAAAAAAAAAAAAAAAAAAAAAAAAAAAAAAAAAALEAAAAAAAAAAAAAAAAAAAAAAAAAAAAAAAAAAAAAAAAAAAAAAAAAAAAAAAAAAAAAAAAAAAAAAAAAkQAAAAAAAACRAAAAAAAAAAAA=",
          "dtype": "f8"
         }
        },
        {
         "marker": {
          "color": "rgb(170, 68, 153)"
         },
         "name": "Elytrarennen",
         "type": "bar",
         "x": [
          "Allooy",
          "cediiiiii_10",
          "_n3d",
          "qriezmannsOpa",
          "Muniix",
          "chrisihalt",
          "Fflopse",
          "Ex4cted",
          "Gobo9",
          "NewNormal0947",
          "Umgfoin",
          "HerrDante",
          "rotmann2",
          "Pedrozockt",
          "ReichesBrot",
          "Lelouch610",
          "JennieKim",
          "Ninivee",
          "FrozenNoah",
          "Teesily",
          "Luxemburq",
          "CML_Justin",
          "Joe3346",
          "JOW23",
          "DarkCobweb",
          "La_meleagro",
          "lizsyy",
          "VendasTM",
          "2B9",
          "KakaMC",
          "Squashgitter333",
          "Freeeedom",
          "GingerTeddy",
          "toxicplace",
          "Shiewk",
          "yzvm",
          "miridis41",
          "2wc",
          "TheFabo",
          "Grapfen",
          "Schmaarek",
          "GermanPie",
          "agowskyy",
          "Vanillinchen",
          "MaxMitMaulkorb",
          "Feinberg",
          "swiffle",
          "ByNetherdude",
          "Lubottus",
          "Stockinqs",
          "GeneralEnte06",
          "yiiq",
          "YBCM",
          "xBaumeisterin",
          "Mincheeen",
          "Seemops_8",
          "DaVinci_Son",
          "Sey__",
          "vKito",
          "zBro",
          "h4nnes",
          "Persidieus",
          "byTobi",
          "unausgesprochen",
          "RasenLP",
          "camman18YT",
          "LeWi_100",
          "Wienerisch",
          "Flitzi_Dino",
          "ZweitesIch",
          "ffawks",
          "Txlentierter",
          "LucaaOn",
          "Gerrygames",
          "Hyxeed",
          "DieserBear",
          "marbrueck",
          "Ungluecklicher",
          "JOW24",
          "Sthyq",
          "BastiGHG",
          "LeMetin_",
          "Gestimus",
          "lvlaurin",
          "Ritokii",
          "y9nic",
          "MaxOnTheRoad",
          "BunnyKiko",
          "xX_Dima_ggg_Xx6",
          "Steavn",
          "FlyingKyubi",
          "Wolkenfarmer",
          "DerAutist",
          "Mansuni",
          "ArthurAlchemist",
          "Bartschii",
          "Lutorix",
          "M0osebumps",
          "Morittz",
          "juvona"
         ],
         "y": {
          "bdata": "AAAAAACAVkAAAAAAAEBFQAAAAAAAgEZAAAAAAABARUAAAAAAAAApQAAAAAAAQE9AAAAAAAAALkAAAAAAAAAAAAAAAAAAAAAAAAAAAAAAHkAAAAAAAAAAAAAAAAAAAAAAAAAAAAAAKUAAAAAAAAAAAAAAAAAAADRAAAAAAAAAAAAAAAAAAAAAAAAAAAAAAAAAAAAAAAAAAAAAAAAAAAAAAAAAAAAAAAAAAAAAAAAALkAAAAAAAIBRQAAAAAAAAAAAAAAAAAAAAAAAAAAAAAAAAAAAAAAAAAAAAAAAAAAAFEAAAAAAAAAAAAAAAAAAAAAAAAAAAAAAPkAAAAAAAAAkQAAAAAAAgEtAAAAAAAAAAAAAAAAAAAAAAAAAAAAAAAAAAAAAAAAAAAAAAAAAAAAAAAAAAAAAAAAAAAAAAAAAAAAAAAAAAAAAAAAAAAAAAAAAAAAAAAAAAAAAAAAAAAAAAAAAAAAAAAAAAAAAAAAAAAAAAAAAAAAAAAAAAAAAAAAAAAAAAAAAAAAAAAAAAAAAAAAAAAAAAAAAAAAAAAAAAAAAAAAAAAAAAAAAAAAAAAAAAAAAAAAAAAAAAAAAAAAAAAAAAAAAAAAAAAAAAAAAAAAAAAAAAAAAAAAAAAAAAAAAAAAAAAAAAAAAAAAAAAAAAAAAAAAAAAAAAAAAAAAAAAAAAAAAAAAUQAAAAAAAAAAAAAAAAAAAAAAAAAAAAAAAAAAAAAAAAAAAAAAAAAAAAAAAAAAAAAAAAAAAAAAAAAAAAAAAAAAAAAAAAAAAAAAAAAAAAAAAAAAAAAAAAAAAAAAAAAAAAAAAAAAAAAAAAAAAAAAAAAAAAAAAAAAAAAAAAAAAAAAAAAAAAAAAAAAAAAAAAAAAAAAAAAAAAAAAAAAAAAAAAAAAAAAAAAAAAAAAAAAAAAAAAAAAAAAAAAAAAAAAAAAAAAAAAAAAAAAAAAAAAAAAAAAAAAAAAAAAAAAAAAAAAAAAAAAAAAAAAAAAAAAAAAAAAAAAAAAAAAAAAAAAAAAAAAAAAAAAAAAAAAAAAAAAAAAAAAAAAAAAAAAAAAA=",
          "dtype": "f8"
         }
        },
        {
         "marker": {
          "color": "rgb(68, 170, 153)"
         },
         "name": "Freier Fall",
         "type": "bar",
         "x": [
          "Allooy",
          "cediiiiii_10",
          "_n3d",
          "qriezmannsOpa",
          "Muniix",
          "chrisihalt",
          "Fflopse",
          "Ex4cted",
          "Gobo9",
          "NewNormal0947",
          "Umgfoin",
          "HerrDante",
          "rotmann2",
          "Pedrozockt",
          "ReichesBrot",
          "Lelouch610",
          "JennieKim",
          "Ninivee",
          "FrozenNoah",
          "Teesily",
          "Luxemburq",
          "CML_Justin",
          "Joe3346",
          "JOW23",
          "DarkCobweb",
          "La_meleagro",
          "lizsyy",
          "VendasTM",
          "2B9",
          "KakaMC",
          "Squashgitter333",
          "Freeeedom",
          "GingerTeddy",
          "toxicplace",
          "Shiewk",
          "yzvm",
          "miridis41",
          "2wc",
          "TheFabo",
          "Grapfen",
          "Schmaarek",
          "GermanPie",
          "agowskyy",
          "Vanillinchen",
          "MaxMitMaulkorb",
          "Feinberg",
          "swiffle",
          "ByNetherdude",
          "Lubottus",
          "Stockinqs",
          "GeneralEnte06",
          "yiiq",
          "YBCM",
          "xBaumeisterin",
          "Mincheeen",
          "Seemops_8",
          "DaVinci_Son",
          "Sey__",
          "vKito",
          "zBro",
          "h4nnes",
          "Persidieus",
          "byTobi",
          "unausgesprochen",
          "RasenLP",
          "camman18YT",
          "LeWi_100",
          "Wienerisch",
          "Flitzi_Dino",
          "ZweitesIch",
          "ffawks",
          "Txlentierter",
          "LucaaOn",
          "Gerrygames",
          "Hyxeed",
          "DieserBear",
          "marbrueck",
          "Ungluecklicher",
          "JOW24",
          "Sthyq",
          "BastiGHG",
          "LeMetin_",
          "Gestimus",
          "lvlaurin",
          "Ritokii",
          "y9nic",
          "MaxOnTheRoad",
          "BunnyKiko",
          "xX_Dima_ggg_Xx6",
          "Steavn",
          "FlyingKyubi",
          "Wolkenfarmer",
          "DerAutist",
          "Mansuni",
          "ArthurAlchemist",
          "Bartschii",
          "Lutorix",
          "M0osebumps",
          "Morittz",
          "juvona"
         ],
         "y": {
          "bdata": "AAAAAAAAAAAAAAAAAAAAAAAAAAAAAAAAAAAAAAAAAAAAAAAAAAAAAAAAAAAAAAAAAAAAAAAAAAAAAAAAAAAAAAAAAAAAAAAAAAAAAAAAAAAAAAAAAAAAAAAAAAAAAAAAAAAAAAAAAAAAAAAAAAAAAAAAAAAAAAAAAAAAAAAAAAAAAAAAAAAAAAAAAAAAAAAAAAAAAAAAAAAAAAAAAAAAAAAAAAAAAAAAAAAAAAAAAAAAAAAAAAAAAAAAAAAAAAAAAAAAAAAAAAAAAAAAAAAAAAAAAAAAAAAAAAAAAAAAAAAAAAAAAAAAAAAAAAAAAAAAAAAAAAAAAAAAAAAAAAAAAAAAAAAAAAAAAAAAAAAAAAAAAAAAAAAAAAAAAAAAAAAAAAAAAAAAAAAAAAAAAAAAAAAAAAAAAAAAAAAAAAAAAAAAAAAAAAAAAAAAAAAAAAAAAAAAAAAAAAAAAAAAAAAAAAAAAAAAAAAAAAAAAAAAAAAAAAAAAAAAAAAAAAAAAAAAAAAAAAAAAAAAAAAAAAAAAAAAAAAAAAAAAAAAAAAAAAAAAAAAAAAAAAAAAAAAAAAAAAAAAAAAAAAAAAAAAAAAAAAAAAAAAAAAAAAAAAAAAAAAAAAAAAAAAAAAAAAAAAAAAAAAAAAAAAAAAAAAAAAAAAAAAAAAAAAAAAAAAAAAAAAAAAAAAAAAAAAAAAAAAAAAAAAAAAAAAAAAAAAAAAAAAAAAAAAAAAAAAAAAAAAAAAAAAAAAAAAAAAAAAAAAAAAAAAAAAAAAAAAAAAAAAAAAAAAAAAAAAAAAAAAAAAAAAAAAAAAAAAAAAAAAAAAAAAAAAAAAAAAAAAAAAAAAAAAAAAAAAAAAAAAAAAAAAAAAAAAAAAAAAAAAAAAAAAAAAAAAAAAAAAAAAAAAAAAAAAAAAAAAAAAAAAAAAAAAAAAAAAAAAAAAAAAAAAAAAAAAAAAAAAAAAAAAAAAAAAAAAAAAAAAAAAAAAAAAAAAAAAAAAAAAAAAAAAAAAAAAAAAAAAAAAAAAAAAAAAAAAAAAAAAAAAAAAAAAAAAAAAAAAAAAAAA=",
          "dtype": "f8"
         }
        },
        {
         "marker": {
          "color": "rgb(153, 153, 51)"
         },
         "name": "Frostiger Pfad",
         "type": "bar",
         "x": [
          "Allooy",
          "cediiiiii_10",
          "_n3d",
          "qriezmannsOpa",
          "Muniix",
          "chrisihalt",
          "Fflopse",
          "Ex4cted",
          "Gobo9",
          "NewNormal0947",
          "Umgfoin",
          "HerrDante",
          "rotmann2",
          "Pedrozockt",
          "ReichesBrot",
          "Lelouch610",
          "JennieKim",
          "Ninivee",
          "FrozenNoah",
          "Teesily",
          "Luxemburq",
          "CML_Justin",
          "Joe3346",
          "JOW23",
          "DarkCobweb",
          "La_meleagro",
          "lizsyy",
          "VendasTM",
          "2B9",
          "KakaMC",
          "Squashgitter333",
          "Freeeedom",
          "GingerTeddy",
          "toxicplace",
          "Shiewk",
          "yzvm",
          "miridis41",
          "2wc",
          "TheFabo",
          "Grapfen",
          "Schmaarek",
          "GermanPie",
          "agowskyy",
          "Vanillinchen",
          "MaxMitMaulkorb",
          "Feinberg",
          "swiffle",
          "ByNetherdude",
          "Lubottus",
          "Stockinqs",
          "GeneralEnte06",
          "yiiq",
          "YBCM",
          "xBaumeisterin",
          "Mincheeen",
          "Seemops_8",
          "DaVinci_Son",
          "Sey__",
          "vKito",
          "zBro",
          "h4nnes",
          "Persidieus",
          "byTobi",
          "unausgesprochen",
          "RasenLP",
          "camman18YT",
          "LeWi_100",
          "Wienerisch",
          "Flitzi_Dino",
          "ZweitesIch",
          "ffawks",
          "Txlentierter",
          "LucaaOn",
          "Gerrygames",
          "Hyxeed",
          "DieserBear",
          "marbrueck",
          "Ungluecklicher",
          "JOW24",
          "Sthyq",
          "BastiGHG",
          "LeMetin_",
          "Gestimus",
          "lvlaurin",
          "Ritokii",
          "y9nic",
          "MaxOnTheRoad",
          "BunnyKiko",
          "xX_Dima_ggg_Xx6",
          "Steavn",
          "FlyingKyubi",
          "Wolkenfarmer",
          "DerAutist",
          "Mansuni",
          "ArthurAlchemist",
          "Bartschii",
          "Lutorix",
          "M0osebumps",
          "Morittz",
          "juvona"
         ],
         "y": {
          "bdata": "AAAAAAAAAAAAAAAAAAAAAAAAAAAAAAAAAAAAAAAAAAAAAAAAAAAAAAAAAAAAAAAAAAAAAAAAAAAAAAAAAAAAAAAAAAAAAAAAAAAAAAAAAAAAAAAAAAAAAAAAAAAAAAAAAAAAAAAAAAAAAAAAAAAAAAAAAAAAAAAAAAAAAAAAAAAAAAAAAAAAAAAAAAAAAAAAAAAAAAAAAAAAAAAAAAAAAAAAAAAAAAAAAAAAAAAAAAAAAAAAAAAAAAAAAAAAAAAAAAAAAAAAAAAAAAAAAAAAAAAAAAAAAAAAAAAAAAAAAAAAAAAAAAAAAAAAAAAAAAAAAAAAAAAAAAAAAAAAAAAAAAAAAAAAAAAAAAAAAAAAAAAAAAAAAAAAAAAAAAAAAAAAAAAAAAAAAAAAAAAAAAAAAAAAAAAAAAAAAAAAAAAAAAAAAAAAAAAAAAAAAAAAAAAAAAAAAAAAAAAAAAAAAAAAAAAAAAAAAAAAAAAAAAAAAAAAAAAAAAAAAAAAAAAAAAAAAAAAAAAAAAAAAAAAAAAAAAAAAAAAAAAAAAAAAAAAAAAAAAAAAAAAAAAAAAAAAAAAAAAAAAAAAAAAAAAAAAAAAAAAAAAAAAAAAAAAAAAAAAAAAAAAAAAAAAAAAAAAAAAAAAAAAAAAAAAAAAAAAAAAAAAAAAAAAAAAAAAAAAAAAAAAAAAAAAAAAAAAAAAAAAAAAAAAAAAAAAAAAAAAAAAAAAAAAAAAAAAAAAAAAAAAAAAAAAAAAAAAAAAAAAAAAAAAAAAAAAAAAAAAAAAAAAAAAAAAAAAAAAAAAAAAAAAAAAAAAAAAAAAAAAAAAAAAAAAAAAAAAAAAAAAAAAAAAAAAAAAAAAAAAAAAAAAAAAAAAAAAAAAAAAAAAAAAAAAAAAAAAAAAAAAAAAAAAAAAAAAAAAAAAAAAAAAAAAAAAAAAAAAAAAAAAAAAAAAAAAAAAAAAAAAAAAAAAAAAAAAAAAAAAAAAAAAAAAAAAAAAAAAAAAAAAAAAAAAAAAAAAAAAAAAAAAAAAAAAAAAAAAAAAAAAAAAAAAAAAAAAAAAAAAAAAAA=",
          "dtype": "f8"
         }
        },
        {
         "marker": {
          "color": "rgb(136, 34, 85)"
         },
         "name": "Hoch hinaus",
         "type": "bar",
         "x": [
          "Allooy",
          "cediiiiii_10",
          "_n3d",
          "qriezmannsOpa",
          "Muniix",
          "chrisihalt",
          "Fflopse",
          "Ex4cted",
          "Gobo9",
          "NewNormal0947",
          "Umgfoin",
          "HerrDante",
          "rotmann2",
          "Pedrozockt",
          "ReichesBrot",
          "Lelouch610",
          "JennieKim",
          "Ninivee",
          "FrozenNoah",
          "Teesily",
          "Luxemburq",
          "CML_Justin",
          "Joe3346",
          "JOW23",
          "DarkCobweb",
          "La_meleagro",
          "lizsyy",
          "VendasTM",
          "2B9",
          "KakaMC",
          "Squashgitter333",
          "Freeeedom",
          "GingerTeddy",
          "toxicplace",
          "Shiewk",
          "yzvm",
          "miridis41",
          "2wc",
          "TheFabo",
          "Grapfen",
          "Schmaarek",
          "GermanPie",
          "agowskyy",
          "Vanillinchen",
          "MaxMitMaulkorb",
          "Feinberg",
          "swiffle",
          "ByNetherdude",
          "Lubottus",
          "Stockinqs",
          "GeneralEnte06",
          "yiiq",
          "YBCM",
          "xBaumeisterin",
          "Mincheeen",
          "Seemops_8",
          "DaVinci_Son",
          "Sey__",
          "vKito",
          "zBro",
          "h4nnes",
          "Persidieus",
          "byTobi",
          "unausgesprochen",
          "RasenLP",
          "camman18YT",
          "LeWi_100",
          "Wienerisch",
          "Flitzi_Dino",
          "ZweitesIch",
          "ffawks",
          "Txlentierter",
          "LucaaOn",
          "Gerrygames",
          "Hyxeed",
          "DieserBear",
          "marbrueck",
          "Ungluecklicher",
          "JOW24",
          "Sthyq",
          "BastiGHG",
          "LeMetin_",
          "Gestimus",
          "lvlaurin",
          "Ritokii",
          "y9nic",
          "MaxOnTheRoad",
          "BunnyKiko",
          "xX_Dima_ggg_Xx6",
          "Steavn",
          "FlyingKyubi",
          "Wolkenfarmer",
          "DerAutist",
          "Mansuni",
          "ArthurAlchemist",
          "Bartschii",
          "Lutorix",
          "M0osebumps",
          "Morittz",
          "juvona"
         ],
         "y": {
          "bdata": "AAAAAAAAVEAAAAAAAAA0QAAAAAAAAAAAAAAAAAAAAAAAAAAAAAAAAAAAAAAAAERAAAAAAAAASUAAAAAAAIBWQAAAAAAAAAAAAAAAAAAAAAAAAAAAAAAAAAAAAAAAAAAAAAAAAAAAAAAAAAAAAABOQAAAAAAAAAAAAAAAAAAAAAAAAAAAAAAAAAAAAAAAgFFAAAAAAAAAAAAAAAAAAAAAAAAAAAAAAAAAAAAAAAAAPkAAAAAAAAAAAAAAAAAAAAAAAAAAAAAAAAAAAAAAAAAAAAAAAAAAAAAAAAAAAAAAAAAAAAAAAAAAAAAAAAAAAAAAAAAAAAAAAAAAAAAAAAAAAAAAAAAAAAAAAAAAAAAAAAAAAAAAAAAAAAAAAAAAAAAAAAAAAAAAAAAAAAAAAAAAAAAAAAAAAAAAAAAAAAAAAAAAAAAAAAAAAAAAAAAAAAAAAAAAAAAAAAAAAAAAAAAAAAAAAAAAAAAAAAAAAAAAAAAAAAAAAAAAAAAAAAAAAFlAAAAAAAAAAAAAAAAAAAAAAAAAAAAAAAAAAAAAAAAAAAAAAAAAAAAAAAAAAAAAAAAAAAAAAAAAAAAAAAAAAAAAAAAAAAAAAAAAAAAAAAAAAAAAAAAAAAAAAAAAAAAAAAAAAAAAAAAAAAAAAAAAAAAAAAAAAAAAAAAAAAAAAAAAAAAAAAAAAAAAAAAAAAAAAAAAAAAAAAAAAAAAAAAAAAAAAAAAAAAAAAAAAAAAAAAAAAAAAAAAAAAAAAAAAAAAAAAAAAAAAAAAAAAAAAAAAAAAAAAAAAAAAAAAAAAAAAAAAAAAAAAAAAAAAAAAAAAAAAAAAAAAAAAAAAAAAAAAAAAAAAAAAAAAAAAAAAAAAAAAAAAAAAAAAAAAAAAAAAAAAAAAAAAAAAAAAAAAAAAAAAAAAAAAAAAAAAAAAAAAAAAAAAAAAAAAAAAAAAAAAAAAAAAAAAAAAAAAAAAAAAAAAAAAAAAAAAAAAAAAAAAAAAAAAAAAAAAAAAAAAAAAAAAAAAAAAAAAAAAAAAAAAAAAAAAAAAAAAAAAAAAAAAAAAAAAAAA=",
          "dtype": "f8"
         }
        },
        {
         "marker": {
          "color": "rgb(102, 17, 0)"
         },
         "name": "Jump and Run",
         "type": "bar",
         "x": [
          "Allooy",
          "cediiiiii_10",
          "_n3d",
          "qriezmannsOpa",
          "Muniix",
          "chrisihalt",
          "Fflopse",
          "Ex4cted",
          "Gobo9",
          "NewNormal0947",
          "Umgfoin",
          "HerrDante",
          "rotmann2",
          "Pedrozockt",
          "ReichesBrot",
          "Lelouch610",
          "JennieKim",
          "Ninivee",
          "FrozenNoah",
          "Teesily",
          "Luxemburq",
          "CML_Justin",
          "Joe3346",
          "JOW23",
          "DarkCobweb",
          "La_meleagro",
          "lizsyy",
          "VendasTM",
          "2B9",
          "KakaMC",
          "Squashgitter333",
          "Freeeedom",
          "GingerTeddy",
          "toxicplace",
          "Shiewk",
          "yzvm",
          "miridis41",
          "2wc",
          "TheFabo",
          "Grapfen",
          "Schmaarek",
          "GermanPie",
          "agowskyy",
          "Vanillinchen",
          "MaxMitMaulkorb",
          "Feinberg",
          "swiffle",
          "ByNetherdude",
          "Lubottus",
          "Stockinqs",
          "GeneralEnte06",
          "yiiq",
          "YBCM",
          "xBaumeisterin",
          "Mincheeen",
          "Seemops_8",
          "DaVinci_Son",
          "Sey__",
          "vKito",
          "zBro",
          "h4nnes",
          "Persidieus",
          "byTobi",
          "unausgesprochen",
          "RasenLP",
          "camman18YT",
          "LeWi_100",
          "Wienerisch",
          "Flitzi_Dino",
          "ZweitesIch",
          "ffawks",
          "Txlentierter",
          "LucaaOn",
          "Gerrygames",
          "Hyxeed",
          "DieserBear",
          "marbrueck",
          "Ungluecklicher",
          "JOW24",
          "Sthyq",
          "BastiGHG",
          "LeMetin_",
          "Gestimus",
          "lvlaurin",
          "Ritokii",
          "y9nic",
          "MaxOnTheRoad",
          "BunnyKiko",
          "xX_Dima_ggg_Xx6",
          "Steavn",
          "FlyingKyubi",
          "Wolkenfarmer",
          "DerAutist",
          "Mansuni",
          "ArthurAlchemist",
          "Bartschii",
          "Lutorix",
          "M0osebumps",
          "Morittz",
          "juvona"
         ],
         "y": {
          "bdata": "AAAAAAAAAAAAAAAAAAAAAAAAAAAAAAAAAAAAAAAAAAAAAAAAAAAAAAAAAAAAAAAAAAAAAAAAAAAAAAAAAAAAAAAAAAAAAAAAAAAAAAAAAAAAAAAAAAAAAAAAAAAAAAAAAAAAAAAAAAAAAAAAAAAAAAAAAAAAAAAAAAAAAAAAAAAAAAAAAAAAAAAAAAAAAAAAAAAAAAAAAAAAAAAAAAAAAAAAAAAAAAAAAAAAAAAAAAAAAAAAAAAAAAAAAAAAAAAAAAAAAAAAAAAAAAAAAAAAAAAAAAAAAAAAAAAAAAAAAAAAAAAAAAAAAAAAAAAAAAAAAAAAAAAAAAAAAAAAAAAAAAAAAAAAAAAAAAAAAAAAAAAAAAAAAAAAAAAAAAAAAAAAAAAAAAAAAAAAAAAAAAAAAAAAAAAAAAAAAAAAAAAAAAAAAAAAAAAAAAAAAAAAAAAAAAAAAAAAAAAAAAAAAAAAAAAAAAAAAAAAAAAAAAAAAAAAAAAAAAAAAAAAAAAAAAAAAAAAAAAAAAAAAAAAAAAAAAAAAAAAAAAAAAAAAAAAAAAAAAAAAAAAAAAAAAAAAAAAAAAAAAAAAAAAAAAAAAAAAAAAAAAAAAAAAAAAAAAAAAAAAAAAAAAAAAAAAAAAAAAAAAAAAAAAAAAAAAAAAAAAAAAAAAAAAAAAAAAAAAAAAAAAAAAAAAAAAAAAAAAAAAAAAAAAAAAAAAAAAAAAAAAAAAAAAAAAAAAAAAAAAAAAAAAAAAAAAAAAAAAAAAAAAAAAAAAAAAAAAAAAAAAAAAAAAAAAAAAAAAAAAAAAAAAAAAAAAAAAAAAAAAAAAAAAAAAAAAAAAAAAAAAAAAAAAAAAAAAAAAAAAAAAAAAAAAAAAAAAAAAAAAAAAAAAAAAAAAAAAAAAAAAAAAAAAAAAAAAAAAAAAAAAAAAAAAAAAAAAAAAAAAAAAAAAAAAAAAAAAAAAAAAAAAAAAAAAAAAAAAAAAAAAAAAAAAAAAAAAAAAAAAAAAAAAAAAAAAAAAAAAAAAAAAAAAAAAAAAAAAAAAAAAAAAAAAAAAAAAAAAAAAAAAAA=",
          "dtype": "f8"
         }
        },
        {
         "marker": {
          "color": "rgb(136, 136, 136)"
         },
         "name": "Kletterkönig",
         "type": "bar",
         "x": [
          "Allooy",
          "cediiiiii_10",
          "_n3d",
          "qriezmannsOpa",
          "Muniix",
          "chrisihalt",
          "Fflopse",
          "Ex4cted",
          "Gobo9",
          "NewNormal0947",
          "Umgfoin",
          "HerrDante",
          "rotmann2",
          "Pedrozockt",
          "ReichesBrot",
          "Lelouch610",
          "JennieKim",
          "Ninivee",
          "FrozenNoah",
          "Teesily",
          "Luxemburq",
          "CML_Justin",
          "Joe3346",
          "JOW23",
          "DarkCobweb",
          "La_meleagro",
          "lizsyy",
          "VendasTM",
          "2B9",
          "KakaMC",
          "Squashgitter333",
          "Freeeedom",
          "GingerTeddy",
          "toxicplace",
          "Shiewk",
          "yzvm",
          "miridis41",
          "2wc",
          "TheFabo",
          "Grapfen",
          "Schmaarek",
          "GermanPie",
          "agowskyy",
          "Vanillinchen",
          "MaxMitMaulkorb",
          "Feinberg",
          "swiffle",
          "ByNetherdude",
          "Lubottus",
          "Stockinqs",
          "GeneralEnte06",
          "yiiq",
          "YBCM",
          "xBaumeisterin",
          "Mincheeen",
          "Seemops_8",
          "DaVinci_Son",
          "Sey__",
          "vKito",
          "zBro",
          "h4nnes",
          "Persidieus",
          "byTobi",
          "unausgesprochen",
          "RasenLP",
          "camman18YT",
          "LeWi_100",
          "Wienerisch",
          "Flitzi_Dino",
          "ZweitesIch",
          "ffawks",
          "Txlentierter",
          "LucaaOn",
          "Gerrygames",
          "Hyxeed",
          "DieserBear",
          "marbrueck",
          "Ungluecklicher",
          "JOW24",
          "Sthyq",
          "BastiGHG",
          "LeMetin_",
          "Gestimus",
          "lvlaurin",
          "Ritokii",
          "y9nic",
          "MaxOnTheRoad",
          "BunnyKiko",
          "xX_Dima_ggg_Xx6",
          "Steavn",
          "FlyingKyubi",
          "Wolkenfarmer",
          "DerAutist",
          "Mansuni",
          "ArthurAlchemist",
          "Bartschii",
          "Lutorix",
          "M0osebumps",
          "Morittz",
          "juvona"
         ],
         "y": {
          "bdata": "VVVVVVVVN0BVVVVVVVU3QAAAAAAAADRAVVVVVVVVTEBVVVVVVVVHQAAAAAAAACRAVVVVVVVVR0AAAAAAAAAAAKuqqqqqqhpAq6qqqqqqKkAAAAAAAAAAAAAAAAAAACRAAAAAAAAANEAAAAAAAAAAAKuqqqqqqlBAAAAAAAAAAAAAAAAAAAAAAAAAAAAAAAAAAAAAAAAAAAAAAAAAAAAAAAAAAAAAAAAAAAAAAAAAAAAAAAAAAAA+QAAAAAAAAAAAAAAAAAAAAAAAAAAAAAAAAAAAAAAAAAAAAAAAAAAAAAAAAAAAAAAAAAAAAAAAAAAAAAAAAAAAAAAAAAAAAAAAAKuqqqqqqjpAAAAAAAAAAAAAAAAAAAAAAAAAAAAAAAAAAAAAAAAAAAAAAAAAAAAAAAAAAAAAAAAAAAAAAAAAAAAAAAAAAAAAAAAAAAAAAAAAAAAAAAAAAAAAAAAAAAAAAAAAAAAAAAAAq6qqqqqqKkAAAAAAAAAAAAAAAAAAAAAAq6qqqqqqGkAAAAAAAAAAAAAAAAAAAAAAAAAAAAAASUAAAAAAAAAAAAAAAAAAAAAAAAAAAAAAAAAAAAAAAAAAAAAAAAAAAAAAAAAAAAAAAAAAAAAAAAAAAAAAAAAAAAAAAAAAAAAAAAAAAAAAAAAAAAAAAAAAAAAAAAAAAAAAAAAAAAAAAAAAAAAAAAAAADRAAAAAAAAAJECrqqqqqqoqQAAAAAAAAAAAAAAAAAAAAAAAAAAAAAAAAAAAAAAAAAAAAAAAAAAAAAAAAAAAAAAAAAAAAAAAAAAAAAAAAAAAAAAAAAAAAAAAAAAAAAAAAAAAAAAAAAAAAAAAAAAAAAAAAAAAAAAAAAAAAAAAAAAAAAAAAAAAAAAAAAAAAAAAAAAAAAAAAAAAAAAAAAAAAAAAAAAAAAAAAAAAAAAAAAAAAACrqqqqqqo6QAAAAAAAAAAAAAAAAAAAAAAAAAAAAAAAAAAAAAAAAAAAAAAAAAAAAAAAAAAAAAAAAAAAAAAAAAAAAAAAAAAAAAAAAAAAAAAAAAAAAAAAAAAAAAAAAAAAAAA=",
          "dtype": "f8"
         }
        },
        {
         "marker": {
          "color": "rgb(136, 204, 238)"
         },
         "name": "Lasertag",
         "type": "bar",
         "x": [
          "Allooy",
          "cediiiiii_10",
          "_n3d",
          "qriezmannsOpa",
          "Muniix",
          "chrisihalt",
          "Fflopse",
          "Ex4cted",
          "Gobo9",
          "NewNormal0947",
          "Umgfoin",
          "HerrDante",
          "rotmann2",
          "Pedrozockt",
          "ReichesBrot",
          "Lelouch610",
          "JennieKim",
          "Ninivee",
          "FrozenNoah",
          "Teesily",
          "Luxemburq",
          "CML_Justin",
          "Joe3346",
          "JOW23",
          "DarkCobweb",
          "La_meleagro",
          "lizsyy",
          "VendasTM",
          "2B9",
          "KakaMC",
          "Squashgitter333",
          "Freeeedom",
          "GingerTeddy",
          "toxicplace",
          "Shiewk",
          "yzvm",
          "miridis41",
          "2wc",
          "TheFabo",
          "Grapfen",
          "Schmaarek",
          "GermanPie",
          "agowskyy",
          "Vanillinchen",
          "MaxMitMaulkorb",
          "Feinberg",
          "swiffle",
          "ByNetherdude",
          "Lubottus",
          "Stockinqs",
          "GeneralEnte06",
          "yiiq",
          "YBCM",
          "xBaumeisterin",
          "Mincheeen",
          "Seemops_8",
          "DaVinci_Son",
          "Sey__",
          "vKito",
          "zBro",
          "h4nnes",
          "Persidieus",
          "byTobi",
          "unausgesprochen",
          "RasenLP",
          "camman18YT",
          "LeWi_100",
          "Wienerisch",
          "Flitzi_Dino",
          "ZweitesIch",
          "ffawks",
          "Txlentierter",
          "LucaaOn",
          "Gerrygames",
          "Hyxeed",
          "DieserBear",
          "marbrueck",
          "Ungluecklicher",
          "JOW24",
          "Sthyq",
          "BastiGHG",
          "LeMetin_",
          "Gestimus",
          "lvlaurin",
          "Ritokii",
          "y9nic",
          "MaxOnTheRoad",
          "BunnyKiko",
          "xX_Dima_ggg_Xx6",
          "Steavn",
          "FlyingKyubi",
          "Wolkenfarmer",
          "DerAutist",
          "Mansuni",
          "ArthurAlchemist",
          "Bartschii",
          "Lutorix",
          "M0osebumps",
          "Morittz",
          "juvona"
         ],
         "y": {
          "bdata": "AAAAAAAAAAAAAAAAAAAkQAAAAAAAAD5AAAAAAACAQUCrqqqqqqowQAAAAAAAAAAAAAAAAAAAREAAAAAAAAAuQAAAAAAAAAAAAAAAAAAAAABVVVVVVVU8QAAAAAAAAERAAAAAAAAAAABVVVVVVVUnQAAAAAAAABRAq6qqqqqqOkBVVVVVVVU3QAAAAAAAAAAAAAAAAAAAAAAAAAAAAAAAAAAAAAAAADRAAAAAAAAAAAAAAAAAAAAAAFVVVVVVVTJAAAAAAAAAAAAAAAAAAAAAAAAAAAAAAAAAAAAAAAAAAAAAAAAAAAAAAAAAAAAAAAAAAAAAAAAAAAAAAAAAAAAAAAAAAAAAAAAAAAAAAAAAAAAAAAAAAAAAAAAAAAAAAAAAAAAAAAAAAABVVVVVVVUnQKuqqqqqqjVAq6qqqqqqCkAAAAAAAAAAAAAAAAAAAAAAAAAAAAAAAAAAAAAAAAAAAAAAAAAAAAAAAAAAAAAAAAAAAAAAAAAAAAAAAAAAAAAAAAAAAAAAAAAAAAAAAAAAAAAAAAAAAAAAAAAAAAAAAAAAAAAAAAAAAAAAAAAAAAAAAAAAAAAAAAAAAAAAAAAAAAAAAAAAABRAAAAAAAAAAACrqqqqqqowQAAAAAAAAAAAAAAAAAAAJEAAAAAAAAAuQAAAAAAAAAAAVVVVVVVVJ0AAAAAAAAAAAAAAAAAAAAAAAAAAAAAAAAAAAAAAAAAAAAAAAAAAAAAAAAAAAAAAAACrqqqqqqoqQAAAAAAAAAAAAAAAAAAAAAAAAAAAAAAAAAAAAAAAAAAAAAAAAAAAAAAAAAAAAAAAAAAAAAAAAAAAq6qqqqqqMEAAAAAAAAAAAAAAAAAAAAAAAAAAAAAAAAAAAAAAAAAAAKuqqqqqqjBAAAAAAAAAAAAAAAAAAAAAAKuqqqqqqjBAAAAAAAAAAAAAAAAAAAAAAAAAAAAAAAAAAAAAAAAAAAAAAAAAAAAAAAAAAAAAAAAAAAAAAAAAAAAAAAAAAAAAAAAAAAAAAAAAAAAAAAAAAAAAAAAAAAAAAAAAAAAAAAAAAAAAAAAAAAA=",
          "dtype": "f8"
         }
        },
        {
         "marker": {
          "color": "rgb(204, 102, 119)"
         },
         "name": "Mauerfall",
         "type": "bar",
         "x": [
          "Allooy",
          "cediiiiii_10",
          "_n3d",
          "qriezmannsOpa",
          "Muniix",
          "chrisihalt",
          "Fflopse",
          "Ex4cted",
          "Gobo9",
          "NewNormal0947",
          "Umgfoin",
          "HerrDante",
          "rotmann2",
          "Pedrozockt",
          "ReichesBrot",
          "Lelouch610",
          "JennieKim",
          "Ninivee",
          "FrozenNoah",
          "Teesily",
          "Luxemburq",
          "CML_Justin",
          "Joe3346",
          "JOW23",
          "DarkCobweb",
          "La_meleagro",
          "lizsyy",
          "VendasTM",
          "2B9",
          "KakaMC",
          "Squashgitter333",
          "Freeeedom",
          "GingerTeddy",
          "toxicplace",
          "Shiewk",
          "yzvm",
          "miridis41",
          "2wc",
          "TheFabo",
          "Grapfen",
          "Schmaarek",
          "GermanPie",
          "agowskyy",
          "Vanillinchen",
          "MaxMitMaulkorb",
          "Feinberg",
          "swiffle",
          "ByNetherdude",
          "Lubottus",
          "Stockinqs",
          "GeneralEnte06",
          "yiiq",
          "YBCM",
          "xBaumeisterin",
          "Mincheeen",
          "Seemops_8",
          "DaVinci_Son",
          "Sey__",
          "vKito",
          "zBro",
          "h4nnes",
          "Persidieus",
          "byTobi",
          "unausgesprochen",
          "RasenLP",
          "camman18YT",
          "LeWi_100",
          "Wienerisch",
          "Flitzi_Dino",
          "ZweitesIch",
          "ffawks",
          "Txlentierter",
          "LucaaOn",
          "Gerrygames",
          "Hyxeed",
          "DieserBear",
          "marbrueck",
          "Ungluecklicher",
          "JOW24",
          "Sthyq",
          "BastiGHG",
          "LeMetin_",
          "Gestimus",
          "lvlaurin",
          "Ritokii",
          "y9nic",
          "MaxOnTheRoad",
          "BunnyKiko",
          "xX_Dima_ggg_Xx6",
          "Steavn",
          "FlyingKyubi",
          "Wolkenfarmer",
          "DerAutist",
          "Mansuni",
          "ArthurAlchemist",
          "Bartschii",
          "Lutorix",
          "M0osebumps",
          "Morittz",
          "juvona"
         ],
         "y": {
          "bdata": "btu2bdu2KUAlSZIkSZJCQCVJkiRJkixAAAAAAAAAAACSJEmSJEk4QAAAAAAAAAAAJUmSJEmSPEAAAAAAAAAAAG7btm3btilASZIkSZIkMUC3bdu2bdsWQCVJkiRJkixAAAAAAAAAAAAAAAAAAAA0QAAAAAAAAAAAAAAAAAAAAAAAAAAAAAAAALdt27Zt2xZAAAAAAAAAAAAAAAAAAAAAACVJkiRJkixAAAAAAAAAAAC3bdu2bdsWQG7btm3btilASZIkSZIkO0C3bdu2bdsmQAAAAAAAAAAAAAAAAAAAAAAAAAAAAAAAAG7btm3btilAAAAAAAAAAAAAAAAAAAAAAAAAAAAAAAAAAAAAAAAAAAAAAAAAAAAAACVJkiRJkixAAAAAAAAAAAAAAAAAAAAAAAAAAAAAAAAAbtu2bdu2KUAAAAAAAAAAACVJkiRJkixAt23btm3bBkAAAAAAAAAAAAAAAAAAAAAAAAAAAAAAAAAAAAAAAAAAAAAAAAAAAAAAAAAAAAAAAAAAAAAAAAAAAAAAAAAAAAAAAAAAAAAAAAAAAAAAAAAAAAAAAAAAAAAAAAAAAAAAAAAAAAAAAAAAALdt27Zt2wZAAAAAAAAAAAAAAAAAAAAAACVJkiRJkixAAAAAAAAAAAC3bdu2bdsmQEmSJEmSJDFAAAAAAAAAAAAAAAAAAAAAACVJkiRJkixAAAAAAAAAAAAAAAAAAAAAACVJkiRJkixAbtu2bdu2KUAAAAAAAAAAACVJkiRJkixAAAAAAAAAAAAAAAAAAAAAAAAAAAAAAAAAAAAAAAAAAAAAAAAAAAAAAAAAAAAAAAAAt23btm3bBkAAAAAAAAAAAAAAAAAAAAAAAAAAAAAAAAAAAAAAAAAAAAAAAAAAAAAAAAAAAAAAAAAAAAAAAAAAAAAAAAAAAAAAt23btm3bBkAAAAAAAAAAALdt27Zt2wZAAAAAAAAAAAAAAAAAAAAAACVJkiRJkixAJUmSJEmSLEAlSZIkSZIsQCVJkiRJkhxAAAAAAAAAAAAAAAAAAAAAALdt27Zt2wZAAAAAAAAAAAA=",
          "dtype": "f8"
         }
        },
        {
         "marker": {
          "color": "rgb(221, 204, 119)"
         },
         "name": "Minenfeld",
         "type": "bar",
         "x": [
          "Allooy",
          "cediiiiii_10",
          "_n3d",
          "qriezmannsOpa",
          "Muniix",
          "chrisihalt",
          "Fflopse",
          "Ex4cted",
          "Gobo9",
          "NewNormal0947",
          "Umgfoin",
          "HerrDante",
          "rotmann2",
          "Pedrozockt",
          "ReichesBrot",
          "Lelouch610",
          "JennieKim",
          "Ninivee",
          "FrozenNoah",
          "Teesily",
          "Luxemburq",
          "CML_Justin",
          "Joe3346",
          "JOW23",
          "DarkCobweb",
          "La_meleagro",
          "lizsyy",
          "VendasTM",
          "2B9",
          "KakaMC",
          "Squashgitter333",
          "Freeeedom",
          "GingerTeddy",
          "toxicplace",
          "Shiewk",
          "yzvm",
          "miridis41",
          "2wc",
          "TheFabo",
          "Grapfen",
          "Schmaarek",
          "GermanPie",
          "agowskyy",
          "Vanillinchen",
          "MaxMitMaulkorb",
          "Feinberg",
          "swiffle",
          "ByNetherdude",
          "Lubottus",
          "Stockinqs",
          "GeneralEnte06",
          "yiiq",
          "YBCM",
          "xBaumeisterin",
          "Mincheeen",
          "Seemops_8",
          "DaVinci_Son",
          "Sey__",
          "vKito",
          "zBro",
          "h4nnes",
          "Persidieus",
          "byTobi",
          "unausgesprochen",
          "RasenLP",
          "camman18YT",
          "LeWi_100",
          "Wienerisch",
          "Flitzi_Dino",
          "ZweitesIch",
          "ffawks",
          "Txlentierter",
          "LucaaOn",
          "Gerrygames",
          "Hyxeed",
          "DieserBear",
          "marbrueck",
          "Ungluecklicher",
          "JOW24",
          "Sthyq",
          "BastiGHG",
          "LeMetin_",
          "Gestimus",
          "lvlaurin",
          "Ritokii",
          "y9nic",
          "MaxOnTheRoad",
          "BunnyKiko",
          "xX_Dima_ggg_Xx6",
          "Steavn",
          "FlyingKyubi",
          "Wolkenfarmer",
          "DerAutist",
          "Mansuni",
          "ArthurAlchemist",
          "Bartschii",
          "Lutorix",
          "M0osebumps",
          "Morittz",
          "juvona"
         ],
         "y": {
          "bdata": "AAAAAAAAJEAAAAAAAAAkQAAAAAAAAElAVVVVVVVVR0AAAAAAAAAAAKuqqqqqqkBAq6qqqqqqOkAAAAAAAAAAAAAAAAAAAAAAAAAAAAAAAAAAAAAAAAAAAAAAAAAAAD5AAAAAAAAAAAAAAAAAAAAAAKuqqqqqqjBAAAAAAAAAAAAAAAAAAAAAAKuqqqqqqhpAq6qqqqqqMEAAAAAAAAAAAAAAAAAAAAAAAAAAAAAAAABVVVVVVVU3QAAAAAAAAAAAAAAAAAAAAAAAAAAAAAAAAAAAAAAAAAAAAAAAAAAAAACrqqqqqqoqQAAAAAAAAAAAAAAAAAAAAABVVVVVVVU3QAAAAAAAAAAAq6qqqqqqGkAAAAAAAAAAAAAAAAAAAAAAAAAAAAAAAAAAAAAAAAAAAAAAAAAAAAAAAAAAAAAAAAAAAAAAAAAAAAAAAAAAAAAAAAAAAAAAAAAAAAAAAAAAAKuqqqqqqkBAAAAAAAAAAAAAAAAAAAAAAAAAAAAAAAAAAAAAAAAAAAAAAAAAAAAAAAAAAAAAAAAAAAAAAAAAAAAAAAAAAAAAAAAAAAAAAAAAAAAAAAAAAAAAAAAAAAAAAAAAAAAAAAAAq6qqqqqqQEAAAAAAAAAAAFVVVVVVVUdAAAAAAAAAAAAAAAAAAAAAAAAAAAAAAAAAAAAAAAAAAAAAAAAAAAAAAAAAAAAAAAAAVVVVVVVVN0AAAAAAAAAAAAAAAAAAAAAAAAAAAAAAAAAAAAAAAAAAAAAAAAAAAAAAAAAAAAAAAAAAAAAAAAAAAAAAAAAAAAAAAAAAAAAAAAAAAAAAAAAAAAAAAAAAAAAAAAAAAAAAAAAAAAAAAAAAAAAAAAAAAAAAAAAAAAAAPkAAAAAAAAAAAAAAAAAAAAAAAAAAAAAAAAAAAAAAAAA+QAAAAAAAAAAAAAAAAAAAAAAAAAAAAAAAAAAAAAAAAAAAAAAAAAAAAAAAAAAAAAAAAAAAAAAAAAAAAAAAAAAAAAAAAAAAAAAAAAAAAAAAAAAAAAAAAAAAAAAAAAAAAAAAAAAAAAAAAAAAAAAAAAAAAAA=",
          "dtype": "f8"
         }
        },
        {
         "marker": {
          "color": "rgb(17, 119, 51)"
         },
         "name": "Minengefecht",
         "type": "bar",
         "x": [
          "Allooy",
          "cediiiiii_10",
          "_n3d",
          "qriezmannsOpa",
          "Muniix",
          "chrisihalt",
          "Fflopse",
          "Ex4cted",
          "Gobo9",
          "NewNormal0947",
          "Umgfoin",
          "HerrDante",
          "rotmann2",
          "Pedrozockt",
          "ReichesBrot",
          "Lelouch610",
          "JennieKim",
          "Ninivee",
          "FrozenNoah",
          "Teesily",
          "Luxemburq",
          "CML_Justin",
          "Joe3346",
          "JOW23",
          "DarkCobweb",
          "La_meleagro",
          "lizsyy",
          "VendasTM",
          "2B9",
          "KakaMC",
          "Squashgitter333",
          "Freeeedom",
          "GingerTeddy",
          "toxicplace",
          "Shiewk",
          "yzvm",
          "miridis41",
          "2wc",
          "TheFabo",
          "Grapfen",
          "Schmaarek",
          "GermanPie",
          "agowskyy",
          "Vanillinchen",
          "MaxMitMaulkorb",
          "Feinberg",
          "swiffle",
          "ByNetherdude",
          "Lubottus",
          "Stockinqs",
          "GeneralEnte06",
          "yiiq",
          "YBCM",
          "xBaumeisterin",
          "Mincheeen",
          "Seemops_8",
          "DaVinci_Son",
          "Sey__",
          "vKito",
          "zBro",
          "h4nnes",
          "Persidieus",
          "byTobi",
          "unausgesprochen",
          "RasenLP",
          "camman18YT",
          "LeWi_100",
          "Wienerisch",
          "Flitzi_Dino",
          "ZweitesIch",
          "ffawks",
          "Txlentierter",
          "LucaaOn",
          "Gerrygames",
          "Hyxeed",
          "DieserBear",
          "marbrueck",
          "Ungluecklicher",
          "JOW24",
          "Sthyq",
          "BastiGHG",
          "LeMetin_",
          "Gestimus",
          "lvlaurin",
          "Ritokii",
          "y9nic",
          "MaxOnTheRoad",
          "BunnyKiko",
          "xX_Dima_ggg_Xx6",
          "Steavn",
          "FlyingKyubi",
          "Wolkenfarmer",
          "DerAutist",
          "Mansuni",
          "ArthurAlchemist",
          "Bartschii",
          "Lutorix",
          "M0osebumps",
          "Morittz",
          "juvona"
         ],
         "y": {
          "bdata": "AAAAAACANkAAAAAAAIBBQAAAAAAAgCtAAAAAAAAAJEAAAAAAAAAkQAAAAAAAgDZAAAAAAAAADkAAAAAAAAAAAAAAAAAAADRAAAAAAAAADkAAAAAAAAAAAAAAAAAAgCFAAAAAAAAAJEAAAAAAAAAAAAAAAAAAAA5AAAAAAAAAKUAAAAAAAAAAAAAAAAAAAAAAAAAAAAAAOUAAAAAAAAAAAAAAAAAAAAAAAAAAAAAAAAAAAAAAAAAAAAAAAAAAgDZAAAAAAACANkAAAAAAAAAAAAAAAAAAAAAAAAAAAAAAAAAAAAAAAIAmQAAAAAAAAAAAAAAAAAAAAAAAAAAAAAAAAAAAAAAAAAAAAAAAAAAAAAAAAAAAAAAAAAAAAAAAAClAAAAAAAAAAAAAAAAAAIAhQAAAAAAAAAAAAAAAAAAADkAAAAAAAAAkQAAAAAAAAAAAAAAAAAAAAAAAAAAAAAAkQAAAAAAAAAAAAAAAAAAAAAAAAAAAAAAAAAAAAAAAAAAAAAAAAAAAAAAAAAAAAAAAAAAAAAAAAAAAAAAAAACANkAAAAAAAAAAAAAAAAAAAAAAAAAAAAAAAAAAAAAAAAAAAAAAAAAAgCFAAAAAAAAAAAAAAAAAAAAAAAAAAAAAAAAAAAAAAAAAAAAAAAAAAIAmQAAAAAAAAAAAAAAAAAAAAAAAAAAAAAAAAAAAAAAAAAAAAAAAAAAAAAAAAAAAAAAAAAAAAAAAAClAAAAAAACAJkAAAAAAAAAAAAAAAAAAABRAAAAAAACAJkAAAAAAAAAAAAAAAAAAAAAAAAAAAAAAAAAAAAAAAAAAAAAAAAAAAAAAAAAAAAAAAAAAAAAAAAAAAAAAAAAAAAAAAAAAAAAAAAAAAAAAAIAmQAAAAAAAAAAAAAAAAAAAAAAAAAAAAAAAAAAAAAAAAAAAAAAAAAAAJEAAAAAAAAAAAAAAAAAAAClAAAAAAAAAAAAAAAAAAAApQAAAAAAAAAAAAAAAAAAAAAAAAAAAAAAAAAAAAAAAABRAAAAAAACAJkAAAAAAAAAAAAAAAAAAAAAAAAAAAACAJkA=",
          "dtype": "f8"
         }
        },
        {
         "marker": {
          "color": "rgb(51, 34, 136)"
         },
         "name": "Mini Survivalgames",
         "type": "bar",
         "x": [
          "Allooy",
          "cediiiiii_10",
          "_n3d",
          "qriezmannsOpa",
          "Muniix",
          "chrisihalt",
          "Fflopse",
          "Ex4cted",
          "Gobo9",
          "NewNormal0947",
          "Umgfoin",
          "HerrDante",
          "rotmann2",
          "Pedrozockt",
          "ReichesBrot",
          "Lelouch610",
          "JennieKim",
          "Ninivee",
          "FrozenNoah",
          "Teesily",
          "Luxemburq",
          "CML_Justin",
          "Joe3346",
          "JOW23",
          "DarkCobweb",
          "La_meleagro",
          "lizsyy",
          "VendasTM",
          "2B9",
          "KakaMC",
          "Squashgitter333",
          "Freeeedom",
          "GingerTeddy",
          "toxicplace",
          "Shiewk",
          "yzvm",
          "miridis41",
          "2wc",
          "TheFabo",
          "Grapfen",
          "Schmaarek",
          "GermanPie",
          "agowskyy",
          "Vanillinchen",
          "MaxMitMaulkorb",
          "Feinberg",
          "swiffle",
          "ByNetherdude",
          "Lubottus",
          "Stockinqs",
          "GeneralEnte06",
          "yiiq",
          "YBCM",
          "xBaumeisterin",
          "Mincheeen",
          "Seemops_8",
          "DaVinci_Son",
          "Sey__",
          "vKito",
          "zBro",
          "h4nnes",
          "Persidieus",
          "byTobi",
          "unausgesprochen",
          "RasenLP",
          "camman18YT",
          "LeWi_100",
          "Wienerisch",
          "Flitzi_Dino",
          "ZweitesIch",
          "ffawks",
          "Txlentierter",
          "LucaaOn",
          "Gerrygames",
          "Hyxeed",
          "DieserBear",
          "marbrueck",
          "Ungluecklicher",
          "JOW24",
          "Sthyq",
          "BastiGHG",
          "LeMetin_",
          "Gestimus",
          "lvlaurin",
          "Ritokii",
          "y9nic",
          "MaxOnTheRoad",
          "BunnyKiko",
          "xX_Dima_ggg_Xx6",
          "Steavn",
          "FlyingKyubi",
          "Wolkenfarmer",
          "DerAutist",
          "Mansuni",
          "ArthurAlchemist",
          "Bartschii",
          "Lutorix",
          "M0osebumps",
          "Morittz",
          "juvona"
         ],
         "y": {
          "bdata": "AAAAAAAAAAAAAAAAAAAAAAAAAAAAAAAAAAAAAAAAAAAAAAAAAAAAAAAAAAAAAAAAAAAAAAAAAAAAAAAAAAAAAAAAAAAAAAAAAAAAAAAAAAAAAAAAAAAAAAAAAAAAAAAAAAAAAAAAAAAAAAAAAAAAAAAAAAAAAAAAAAAAAAAAAAAAAAAAAAAAAAAAAAAAAAAAAAAAAAAAAAAAAAAAAAAAAAAAAAAAAAAAAAAAAAAAAAAAAAAAAAAAAAAAAAAAAAAAAAAAAAAAAAAAAAAAAAAAAAAAAAAAAAAAAAAAAAAAAAAAAAAAAAAAAAAAAAAAAAAAAAAAAAAAAAAAAAAAAAAAAAAAAAAAAAAAAAAAAAAAAAAAAAAAAAAAAAAAAAAAAAAAAAAAAAAAAAAAAAAAAAAAAAAAAAAAAAAAAAAAAAAAAAAAAAAAAAAAAAAAAAAAAAAAAAAAAAAAAAAAAAAAAAAAAAAAAAAAAAAAAAAAAAAAAAAAAAAAAAAAAAAAAAAAAAAAAAAAAAAAAAAAAAAAAAAAAAAAAAAAAAAAAAAAAAAAAAAAAAAAAAAAAAAAAAAAAAAAAAAAAAAAAAAAAAAAAAAAAAAAAAAAAAAAAAAAAAAAAAAAAAAAAAAAAAAAAAAAAAAAAAAAAAAAAAAAAAAAAAAAAAAAAAAAAAAAAAAAAAAAAAAAAAAAAAAAAAAAAAAAAAAAAAAAAAAAAAAAAAAAAAAAAAAAAAAAAAAAAAAAAAAAAAAAAAAAAAAAAAAAAAAAAAAAAAAAAAAAAAAAAAAAAAAAAAAAAAAAAAAAAAAAAAAAAAAAAAAAAAAAAAAAAAAAAAAAAAAAAAAAAAAAAAAAAAAAAAAAAAAAAAAAAAAAAAAAAAAAAAAAAAAAAAAAAAAAAAAAAAAAAAAAAAAAAAAAAAAAAAAAAAAAAAAAAAAAAAAAAAAAAAAAAAAAAAAAAAAAAAAAAAAAAAAAAAAAAAAAAAAAAAAAAAAAAAAAAAAAAAAAAAAAAAAAAAAAAAAAAAAAAAAAAAAAAAAAAAAAAAAAAAAAAAAAAAAAAAAAAAAAAAAAAAA=",
          "dtype": "f8"
         }
        },
        {
         "marker": {
          "color": "rgb(170, 68, 153)"
         },
         "name": "Pferderennen",
         "type": "bar",
         "x": [
          "Allooy",
          "cediiiiii_10",
          "_n3d",
          "qriezmannsOpa",
          "Muniix",
          "chrisihalt",
          "Fflopse",
          "Ex4cted",
          "Gobo9",
          "NewNormal0947",
          "Umgfoin",
          "HerrDante",
          "rotmann2",
          "Pedrozockt",
          "ReichesBrot",
          "Lelouch610",
          "JennieKim",
          "Ninivee",
          "FrozenNoah",
          "Teesily",
          "Luxemburq",
          "CML_Justin",
          "Joe3346",
          "JOW23",
          "DarkCobweb",
          "La_meleagro",
          "lizsyy",
          "VendasTM",
          "2B9",
          "KakaMC",
          "Squashgitter333",
          "Freeeedom",
          "GingerTeddy",
          "toxicplace",
          "Shiewk",
          "yzvm",
          "miridis41",
          "2wc",
          "TheFabo",
          "Grapfen",
          "Schmaarek",
          "GermanPie",
          "agowskyy",
          "Vanillinchen",
          "MaxMitMaulkorb",
          "Feinberg",
          "swiffle",
          "ByNetherdude",
          "Lubottus",
          "Stockinqs",
          "GeneralEnte06",
          "yiiq",
          "YBCM",
          "xBaumeisterin",
          "Mincheeen",
          "Seemops_8",
          "DaVinci_Son",
          "Sey__",
          "vKito",
          "zBro",
          "h4nnes",
          "Persidieus",
          "byTobi",
          "unausgesprochen",
          "RasenLP",
          "camman18YT",
          "LeWi_100",
          "Wienerisch",
          "Flitzi_Dino",
          "ZweitesIch",
          "ffawks",
          "Txlentierter",
          "LucaaOn",
          "Gerrygames",
          "Hyxeed",
          "DieserBear",
          "marbrueck",
          "Ungluecklicher",
          "JOW24",
          "Sthyq",
          "BastiGHG",
          "LeMetin_",
          "Gestimus",
          "lvlaurin",
          "Ritokii",
          "y9nic",
          "MaxOnTheRoad",
          "BunnyKiko",
          "xX_Dima_ggg_Xx6",
          "Steavn",
          "FlyingKyubi",
          "Wolkenfarmer",
          "DerAutist",
          "Mansuni",
          "ArthurAlchemist",
          "Bartschii",
          "Lutorix",
          "M0osebumps",
          "Morittz",
          "juvona"
         ],
         "y": {
          "bdata": "q6qqqqqqNUBVVVVVVdVJQAAAAAAAgEFAq6qqqqoqSEAAAAAAAAAUQKuqqqqqqkVAq6qqqqqqQEAAAAAAAAAAAAAAAAAAADlAq6qqqqqqKkCrqqqqqqoKQKuqqqqqqgpAVVVVVVVVR0BVVVVVVVUnQKuqqqqqqjVAAAAAAAAAFECrqqqqqqpFQAAAAAAAAAAAAAAAAAAAAAAAAAAAAAAAAAAAAAAAAAAAAAAAAAAAAACrqqqqqqoqQAAAAAAAAAAAAAAAAAAAAAAAAAAAAAAAAKuqqqqqqgpAAAAAAAAAJEAAAAAAAAAAAAAAAAAAAAAAAAAAAAAAOUAAAAAAAAAAAAAAAAAAAC5AAAAAAAAAAAAAAAAAAAAAAKuqqqqqqipAAAAAAAAAAAAAAAAAAAAAAAAAAAAAAAAAAAAAAAAAAACrqqqqqqoaQAAAAAAAAAAAAAAAAAAAAAAAAAAAAAAAAAAAAAAAAAAAAAAAAAAAAAAAAAAAAAAAAAAAAAAAAAAAAAAAAAAAAAAAAAAAAAAAAAAAAAAAABRAAAAAAAAAAAAAAAAAAAAAAAAAAAAAAAAAAAAAAAAAAAAAAAAAAAAAAAAAAAAAAAAAAAAAAAAAAAAAAAAAAAAAAAAAAAAAAAAAAAAAAAAAAAAAAAAAAAAAAAAAAAAAAAAAAAAAAAAAAACrqqqqqqowQAAAAAAAAAAAAAAAAAAAAAAAAAAAAAAAAAAAAAAAAAAAAAAAAAAAAABVVVVVVVUyQAAAAAAAAAAAAAAAAAAAAAAAAAAAAAAAAAAAAAAAAAAAAAAAAAAAAAAAAAAAAAAAAAAAAAAAAAAAAAAAAAAAAAAAAAAAAAAAAAAAAAAAAAAAAAAAAAAAAAAAAAAAAAAAAAAAAAAAAAAAAAAAAAAAAAAAAAAAAAAAAAAAAAAAAAAAAAAAAAAAFEAAAAAAAAAAAAAAAAAAAAAAAAAAAAAAAAAAAAAAAAAAAAAAAAAAAAAAAAAAAAAAAAAAAAAAAAAAAAAAAAAAAAAAAAAAAAAAAAAAAAAAAAAAAAAAAAAAAAAAAAAAAAAAAAA=",
          "dtype": "f8"
         }
        },
        {
         "marker": {
          "color": "rgb(68, 170, 153)"
         },
         "name": "Reihenfolge",
         "type": "bar",
         "x": [
          "Allooy",
          "cediiiiii_10",
          "_n3d",
          "qriezmannsOpa",
          "Muniix",
          "chrisihalt",
          "Fflopse",
          "Ex4cted",
          "Gobo9",
          "NewNormal0947",
          "Umgfoin",
          "HerrDante",
          "rotmann2",
          "Pedrozockt",
          "ReichesBrot",
          "Lelouch610",
          "JennieKim",
          "Ninivee",
          "FrozenNoah",
          "Teesily",
          "Luxemburq",
          "CML_Justin",
          "Joe3346",
          "JOW23",
          "DarkCobweb",
          "La_meleagro",
          "lizsyy",
          "VendasTM",
          "2B9",
          "KakaMC",
          "Squashgitter333",
          "Freeeedom",
          "GingerTeddy",
          "toxicplace",
          "Shiewk",
          "yzvm",
          "miridis41",
          "2wc",
          "TheFabo",
          "Grapfen",
          "Schmaarek",
          "GermanPie",
          "agowskyy",
          "Vanillinchen",
          "MaxMitMaulkorb",
          "Feinberg",
          "swiffle",
          "ByNetherdude",
          "Lubottus",
          "Stockinqs",
          "GeneralEnte06",
          "yiiq",
          "YBCM",
          "xBaumeisterin",
          "Mincheeen",
          "Seemops_8",
          "DaVinci_Son",
          "Sey__",
          "vKito",
          "zBro",
          "h4nnes",
          "Persidieus",
          "byTobi",
          "unausgesprochen",
          "RasenLP",
          "camman18YT",
          "LeWi_100",
          "Wienerisch",
          "Flitzi_Dino",
          "ZweitesIch",
          "ffawks",
          "Txlentierter",
          "LucaaOn",
          "Gerrygames",
          "Hyxeed",
          "DieserBear",
          "marbrueck",
          "Ungluecklicher",
          "JOW24",
          "Sthyq",
          "BastiGHG",
          "LeMetin_",
          "Gestimus",
          "lvlaurin",
          "Ritokii",
          "y9nic",
          "MaxOnTheRoad",
          "BunnyKiko",
          "xX_Dima_ggg_Xx6",
          "Steavn",
          "FlyingKyubi",
          "Wolkenfarmer",
          "DerAutist",
          "Mansuni",
          "ArthurAlchemist",
          "Bartschii",
          "Lutorix",
          "M0osebumps",
          "Morittz",
          "juvona"
         ],
         "y": {
          "bdata": "AAAAAAAAAAAAAAAAAAAAAAAAAAAAAAAAAAAAAAAAAAAAAAAAAAAAAAAAAAAAAAAAAAAAAAAAAAAAAAAAAAAAAAAAAAAAAAAAAAAAAAAAAAAAAAAAAAAAAAAAAAAAAAAAAAAAAAAAAAAAAAAAAAAAAAAAAAAAAAAAAAAAAAAAAAAAAAAAAAAAAAAAAAAAAAAAAAAAAAAAAAAAAAAAAAAAAAAAAAAAAAAAAAAAAAAAAAAAAAAAAAAAAAAAAAAAAAAAAAAAAAAAAAAAAAAAAAAAAAAAAAAAAAAAAAAAAAAAAAAAAAAAAAAAAAAAAAAAAAAAAAAAAAAAAAAAAAAAAAAAAAAAAAAAAAAAAAAAAAAAAAAAAAAAAAAAAAAAAAAAAAAAAAAAAAAAAAAAAAAAAAAAAAAAAAAAAAAAAAAAAAAAAAAAAAAAAAAAAAAAAAAAAAAAAAAAAAAAAAAAAAAAAAAAAAAAAAAAAAAAAAAAAAAAAAAAAAAAAAAAAAAAAAAAAAAAAAAAAAAAAAAAAAAAAAAAAAAAAAAAAAAAAAAAAAAAAAAAAAAAAAAAAAAAAAAAAAAAAAAAAAAAAAAAAAAAAAAAAAAAAAAAAAAAAAAAAAAAAAAAAAAAAAAAAAAAAAAAAAAAAAAAAAAAAAAAAAAAAAAAAAAAAAAAAAAAAAAAAAAAAAAAAAAAAAAAAAAAAAAAAAAAAAAAAAAAAAAAAAAAAAAAAAAAAAAAAAAAAAAAAAAAAAAAAAAAAAAAAAAAAAAAAAAAAAAAAAAAAAAAAAAAAAAAAAAAAAAAAAAAAAAAAAAAAAAAAAAAAAAAAAAAAAAAAAAAAAAAAAAAAAAAAAAAAAAAAAAAAAAAAAAAAAAAAAAAAAAAAAAAAAAAAAAAAAAAAAAAAAAAAAAAAAAAAAAAAAAAAAAAAAAAAAAAAAAAAAAAAAAAAAAAAAAAAAAAAAAAAAAAAAAAAAAAAAAAAAAAAAAAAAAAAAAAAAAAAAAAAAAAAAAAAAAAAAAAAAAAAAAAAAAAAAAAAAAAAAAAAAAAAAAAAAAAAAAAAAAAAAAAAAAAAAA=",
          "dtype": "f8"
         }
        },
        {
         "marker": {
          "color": "rgb(153, 153, 51)"
         },
         "name": "Replika",
         "type": "bar",
         "x": [
          "Allooy",
          "cediiiiii_10",
          "_n3d",
          "qriezmannsOpa",
          "Muniix",
          "chrisihalt",
          "Fflopse",
          "Ex4cted",
          "Gobo9",
          "NewNormal0947",
          "Umgfoin",
          "HerrDante",
          "rotmann2",
          "Pedrozockt",
          "ReichesBrot",
          "Lelouch610",
          "JennieKim",
          "Ninivee",
          "FrozenNoah",
          "Teesily",
          "Luxemburq",
          "CML_Justin",
          "Joe3346",
          "JOW23",
          "DarkCobweb",
          "La_meleagro",
          "lizsyy",
          "VendasTM",
          "2B9",
          "KakaMC",
          "Squashgitter333",
          "Freeeedom",
          "GingerTeddy",
          "toxicplace",
          "Shiewk",
          "yzvm",
          "miridis41",
          "2wc",
          "TheFabo",
          "Grapfen",
          "Schmaarek",
          "GermanPie",
          "agowskyy",
          "Vanillinchen",
          "MaxMitMaulkorb",
          "Feinberg",
          "swiffle",
          "ByNetherdude",
          "Lubottus",
          "Stockinqs",
          "GeneralEnte06",
          "yiiq",
          "YBCM",
          "xBaumeisterin",
          "Mincheeen",
          "Seemops_8",
          "DaVinci_Son",
          "Sey__",
          "vKito",
          "zBro",
          "h4nnes",
          "Persidieus",
          "byTobi",
          "unausgesprochen",
          "RasenLP",
          "camman18YT",
          "LeWi_100",
          "Wienerisch",
          "Flitzi_Dino",
          "ZweitesIch",
          "ffawks",
          "Txlentierter",
          "LucaaOn",
          "Gerrygames",
          "Hyxeed",
          "DieserBear",
          "marbrueck",
          "Ungluecklicher",
          "JOW24",
          "Sthyq",
          "BastiGHG",
          "LeMetin_",
          "Gestimus",
          "lvlaurin",
          "Ritokii",
          "y9nic",
          "MaxOnTheRoad",
          "BunnyKiko",
          "xX_Dima_ggg_Xx6",
          "Steavn",
          "FlyingKyubi",
          "Wolkenfarmer",
          "DerAutist",
          "Mansuni",
          "ArthurAlchemist",
          "Bartschii",
          "Lutorix",
          "M0osebumps",
          "Morittz",
          "juvona"
         ],
         "y": {
          "bdata": "NUiDNEgDV0AndmIndmJOQOqhHuqhHlJABEZgBEZgHEAjMAIjMAI7QI7jOI7jOCZACYzACIzAMEC6n/u5n/tEQBQ7sRM7sUtAq6qqqqqqGkCQBmmQBmngP23WZm3WZg1AkAZpkAZp4D92Yid2YicqQH3Lt3zLtwxAXuEVXuEV7j+btVmbtVnbPxZe4RVe4cU/AAAAAAAAAAB4hVd4hVc0QEZgBEZgBENAchzHcRzHEUCQBmmQBmngPxZe4RVe4eU/m7VZm7VZ2z8AAAAAAAAAADVIgzRIg/Q/Yid2Yid2AkAAAAAAAAAAALzCK7zCKxRAUzIlUzIlI0ByHMdxHMfxP5u1WZu1Wds/AAAAAAAAAAAWXuEVXuHVPwAAAAAAAAAAAAAAAAAAAAAAAAAAAAAAAF7hFV7hFf4/AAAAAAAAAAAAAAAAAAAAAAAAAAAAAAAAAAAAAAAAAABe4RVe4RXuPwAAAAAAAAAA2Ymd2Imd+D8WXuEVXuH1PwAAAAAAAAAAFl7hFV7h1T+QBmmQBmnQPwAAAAAAAAAAT+zETuzEDkAAAAAAAAAAAAAAAAAAAAAAAAAAAAAAAAAAAAAAAAAAAAAAAAAAAAAAAAAAAAAAAAAAAAAAAAAAAAAAAAAAAAAAAAAAAAAAAAAAAAAAAAAAAAAAAAAAAAAAAAAAAAAAAACrqqqqqqoKQNmJndiJneg/AAAAAAAAAABiJ3ZiJ3YCQAAAAAAAAAAAAAAAAAAAAACrqqqqqqoKQAAAAAAAAAAAAAAAAAAAAACQBmmQBmkAQAAAAAAAAAAAFl7hFV7hxT8WXuEVXuHlP5AGaZAGadA/AAAAAAAAAAAAAAAAAAAAAAAAAAAAAAAAAAAAAAAAAAAAAAAAAAAAAAAAAAAAAAAA2Ymd2Imd6D8AAAAAAAAAAJu1WZu1Wds/AAAAAAAAAAAAAAAAAAAAAAAAAAAAAAAAAAAAAAAAAAAAAAAAAAAAAAAAAAAAAAAAAAAAAAAAAAAAAAAAAAAAAAAAAAAAAAAAAAAAAAAAAABTMiVTMiXjPwAAAAAAAAAAAAAAAAAAAAA=",
          "dtype": "f8"
         }
        },
        {
         "marker": {
          "color": "rgb(136, 34, 85)"
         },
         "name": "Runterpurzeln",
         "type": "bar",
         "x": [
          "Allooy",
          "cediiiiii_10",
          "_n3d",
          "qriezmannsOpa",
          "Muniix",
          "chrisihalt",
          "Fflopse",
          "Ex4cted",
          "Gobo9",
          "NewNormal0947",
          "Umgfoin",
          "HerrDante",
          "rotmann2",
          "Pedrozockt",
          "ReichesBrot",
          "Lelouch610",
          "JennieKim",
          "Ninivee",
          "FrozenNoah",
          "Teesily",
          "Luxemburq",
          "CML_Justin",
          "Joe3346",
          "JOW23",
          "DarkCobweb",
          "La_meleagro",
          "lizsyy",
          "VendasTM",
          "2B9",
          "KakaMC",
          "Squashgitter333",
          "Freeeedom",
          "GingerTeddy",
          "toxicplace",
          "Shiewk",
          "yzvm",
          "miridis41",
          "2wc",
          "TheFabo",
          "Grapfen",
          "Schmaarek",
          "GermanPie",
          "agowskyy",
          "Vanillinchen",
          "MaxMitMaulkorb",
          "Feinberg",
          "swiffle",
          "ByNetherdude",
          "Lubottus",
          "Stockinqs",
          "GeneralEnte06",
          "yiiq",
          "YBCM",
          "xBaumeisterin",
          "Mincheeen",
          "Seemops_8",
          "DaVinci_Son",
          "Sey__",
          "vKito",
          "zBro",
          "h4nnes",
          "Persidieus",
          "byTobi",
          "unausgesprochen",
          "RasenLP",
          "camman18YT",
          "LeWi_100",
          "Wienerisch",
          "Flitzi_Dino",
          "ZweitesIch",
          "ffawks",
          "Txlentierter",
          "LucaaOn",
          "Gerrygames",
          "Hyxeed",
          "DieserBear",
          "marbrueck",
          "Ungluecklicher",
          "JOW24",
          "Sthyq",
          "BastiGHG",
          "LeMetin_",
          "Gestimus",
          "lvlaurin",
          "Ritokii",
          "y9nic",
          "MaxOnTheRoad",
          "BunnyKiko",
          "xX_Dima_ggg_Xx6",
          "Steavn",
          "FlyingKyubi",
          "Wolkenfarmer",
          "DerAutist",
          "Mansuni",
          "ArthurAlchemist",
          "Bartschii",
          "Lutorix",
          "M0osebumps",
          "Morittz",
          "juvona"
         ],
         "y": {
          "bdata": "AAAAAAAATkAAAAAAAABUQAAAAAAAAD5AAAAAAACAUUAAAAAAAABZQAAAAAAAAAAAAAAAAAAAAAAAAAAAAABEQAAAAAAAAAAAAAAAAAAASUAAAAAAAAAAAAAAAAAAAAAAAAAAAAAAAAAAAAAAAAAAAAAAAAAAAAAAAAAAAAAAAAAAAAAAAAA0QAAAAAAAAAAAAAAAAAAAAAAAAAAAAAAAAAAAAAAAAAAAAAAAAAAAAAAAAAAAAAAAAAAAAAAAAAAAAAAAAAAAAAAAAAAAAAAAAAAAAAAAAAAAAAAAAAAAAAAAAAAAAAAAAAAAAAAAAAAAAAAAAAAAAAAAAAAAAAAAAAAAAAAAAAAAAAAAAAAAAAAAAAAAAAAAAAAAAAAAAAAAAAAAAAAAAAAAAAAAAAAAAAAAAAAAAAAAAAAAAAAAAAAAAAAAAAAAAAAAAAAAAAAAAAAAAACAVkAAAAAAAAAAAAAAAAAAAAAAAAAAAAAAAAAAAAAAAAAAAAAAAAAAAAAAAAAAAAAAAAAAAAAAAAAAAAAAAAAAAAAAAAAAAAAAAAAAAAAAAAAAAAAAAAAAAAAAAAAAAAAAAAAAAAAAAAAAAAAAAAAAAAAAAAAAAAAAAAAAAAAAAAAAAAAAAAAAAAAAAAAAAAAAAAAAAAAAAAAAAAAAAAAAAAAAAAAAAAAAAAAAAAAAAAAAAAAAAAAAAAAAAAAAAAAAAAAAAAAAAAAAAAAAAAAAAAAAAAAAAAAAAAAAAAAAAAAAAAAAAAAAAAAAAAAAAAAAAAAAAAAAAAAAAAAAAAAAAAAAAAAAAAAAAAAAAAAAAAAAAAAAAAAAAAAAAAAAAAAAAAAAAAAAAAAAAAAAAAAAAAAAAAAAAAAAAAAAAAAAAAAAAAAAAAAAAAAAAAAAAAAAAAAAAAAAAAAAAAAAAAAAAAAAAAAAAAAAAAAAAAAAAAAAAAAAAAAAAAAAAAAAAAAAAAAAAAAAAAAAAAAAAAAAAAAAAAAAAAAAAAAAAAAAAAAAAAAAAAAAAAAAAAAAAAAAAAAAAAAAAAAAAAAAAAAAAAAAAAAAAAAAAAA=",
          "dtype": "f8"
         }
        },
        {
         "marker": {
          "color": "rgb(102, 17, 0)"
         },
         "name": "Sammelwahn",
         "type": "bar",
         "x": [
          "Allooy",
          "cediiiiii_10",
          "_n3d",
          "qriezmannsOpa",
          "Muniix",
          "chrisihalt",
          "Fflopse",
          "Ex4cted",
          "Gobo9",
          "NewNormal0947",
          "Umgfoin",
          "HerrDante",
          "rotmann2",
          "Pedrozockt",
          "ReichesBrot",
          "Lelouch610",
          "JennieKim",
          "Ninivee",
          "FrozenNoah",
          "Teesily",
          "Luxemburq",
          "CML_Justin",
          "Joe3346",
          "JOW23",
          "DarkCobweb",
          "La_meleagro",
          "lizsyy",
          "VendasTM",
          "2B9",
          "KakaMC",
          "Squashgitter333",
          "Freeeedom",
          "GingerTeddy",
          "toxicplace",
          "Shiewk",
          "yzvm",
          "miridis41",
          "2wc",
          "TheFabo",
          "Grapfen",
          "Schmaarek",
          "GermanPie",
          "agowskyy",
          "Vanillinchen",
          "MaxMitMaulkorb",
          "Feinberg",
          "swiffle",
          "ByNetherdude",
          "Lubottus",
          "Stockinqs",
          "GeneralEnte06",
          "yiiq",
          "YBCM",
          "xBaumeisterin",
          "Mincheeen",
          "Seemops_8",
          "DaVinci_Son",
          "Sey__",
          "vKito",
          "zBro",
          "h4nnes",
          "Persidieus",
          "byTobi",
          "unausgesprochen",
          "RasenLP",
          "camman18YT",
          "LeWi_100",
          "Wienerisch",
          "Flitzi_Dino",
          "ZweitesIch",
          "ffawks",
          "Txlentierter",
          "LucaaOn",
          "Gerrygames",
          "Hyxeed",
          "DieserBear",
          "marbrueck",
          "Ungluecklicher",
          "JOW24",
          "Sthyq",
          "BastiGHG",
          "LeMetin_",
          "Gestimus",
          "lvlaurin",
          "Ritokii",
          "y9nic",
          "MaxOnTheRoad",
          "BunnyKiko",
          "xX_Dima_ggg_Xx6",
          "Steavn",
          "FlyingKyubi",
          "Wolkenfarmer",
          "DerAutist",
          "Mansuni",
          "ArthurAlchemist",
          "Bartschii",
          "Lutorix",
          "M0osebumps",
          "Morittz",
          "juvona"
         ],
         "y": {
          "bdata": "aZAGaZAGNUBP7MRO7MREQBQ7sRM7sTFAfcu3fMu3HEDSIA3SIA0mQAdpkAZpkBZASIM0SIM0LEAAAAAAAAA0QMu3fMu3fDNAsRM7sRM7M0AAAAAAAAAkQMu3fMu3fCNAntiJndiJFUA1SIM0SIMUQGIndmIndgJA2Ymd2Imd6D/Lt3zLt3wTQNmJndiJnfg/NUiDNEiDBEB9y7d8y7cMQNIgDdIgDSZAy7d8y7d8I0BiJ3ZiJ3YSQJAGaZAGaeA/Yid2Yid2AkBpkAZpkAYlQNmJndiJnQhANUiDNEiDBEA1SIM0SIMEQH3Lt3zLtwxA2Ymd2Imd+D+QBmmQBmkgQH3Lt3zLt/w/AAAAAAAAAAAAAAAAAAAAAAAAAAAAAAAAQhqkQRqkGUAAAAAAAAAAAHD5lm/5lhdAntiJndiJFUCe2Imd2IkVQJAGaZAGaeA/kAZpkAZpAEAAAAAAAAAAAH3Lt3zLt/w/NUiDNEiDBECQBmmQBmkAQAAAAAAAAAAAT+zETuzEDkBP7MRO7MQeQMu3fMu3fBNAAAAAAAAAAAAHaZAGaZAGQNmJndiJnfg/NUiDNEiD9D8AAAAAAAAAAGIndmIndgJA+ZZv+ZZvEUBiJ3ZiJ3YCQGIndmIndgJAkAZpkAZp8D+QBmmQBmkAQDVIgzRIg/Q/fcu3fMu3/D9P7MRO7MQOQGIndmIndhJAAAAAAAAAAACe2Imd2IklQAAAAAAAAAAANUiDNEiDBEAAAAAAAAAAAAAAAAAAAAAAAAAAAAAAAAAAAAAAAAA0QDVIgzRIgwRAq6qqqqqqGkCQBmmQBmkQQGIndmIndgJAkAZpkAZp4D8AAAAAAAAAAAAAAAAAAAAAkAZpkAZpAEAAAAAAAAAAAH3Lt3zLt/w/AAAAAAAAAAAAAAAAAAAAAAAAAAAAAAAAkAZpkAZp8D+QBmmQBmngPwAAAAAAAAAAkAZpkAZp8D9iJ3ZiJ3YCQAAAAAAAAAAAAAAAAAAAAAAAAAAAAAAAAJAGaZAGaQBAkAZpkAZpAEAHaZAGaZAGQAAAAAAAAAAA2Ymd2Imd+D8=",
          "dtype": "f8"
         }
        },
        {
         "marker": {
          "color": "rgb(136, 136, 136)"
         },
         "name": "Schießstand",
         "type": "bar",
         "x": [
          "Allooy",
          "cediiiiii_10",
          "_n3d",
          "qriezmannsOpa",
          "Muniix",
          "chrisihalt",
          "Fflopse",
          "Ex4cted",
          "Gobo9",
          "NewNormal0947",
          "Umgfoin",
          "HerrDante",
          "rotmann2",
          "Pedrozockt",
          "ReichesBrot",
          "Lelouch610",
          "JennieKim",
          "Ninivee",
          "FrozenNoah",
          "Teesily",
          "Luxemburq",
          "CML_Justin",
          "Joe3346",
          "JOW23",
          "DarkCobweb",
          "La_meleagro",
          "lizsyy",
          "VendasTM",
          "2B9",
          "KakaMC",
          "Squashgitter333",
          "Freeeedom",
          "GingerTeddy",
          "toxicplace",
          "Shiewk",
          "yzvm",
          "miridis41",
          "2wc",
          "TheFabo",
          "Grapfen",
          "Schmaarek",
          "GermanPie",
          "agowskyy",
          "Vanillinchen",
          "MaxMitMaulkorb",
          "Feinberg",
          "swiffle",
          "ByNetherdude",
          "Lubottus",
          "Stockinqs",
          "GeneralEnte06",
          "yiiq",
          "YBCM",
          "xBaumeisterin",
          "Mincheeen",
          "Seemops_8",
          "DaVinci_Son",
          "Sey__",
          "vKito",
          "zBro",
          "h4nnes",
          "Persidieus",
          "byTobi",
          "unausgesprochen",
          "RasenLP",
          "camman18YT",
          "LeWi_100",
          "Wienerisch",
          "Flitzi_Dino",
          "ZweitesIch",
          "ffawks",
          "Txlentierter",
          "LucaaOn",
          "Gerrygames",
          "Hyxeed",
          "DieserBear",
          "marbrueck",
          "Ungluecklicher",
          "JOW24",
          "Sthyq",
          "BastiGHG",
          "LeMetin_",
          "Gestimus",
          "lvlaurin",
          "Ritokii",
          "y9nic",
          "MaxOnTheRoad",
          "BunnyKiko",
          "xX_Dima_ggg_Xx6",
          "Steavn",
          "FlyingKyubi",
          "Wolkenfarmer",
          "DerAutist",
          "Mansuni",
          "ArthurAlchemist",
          "Bartschii",
          "Lutorix",
          "M0osebumps",
          "Morittz",
          "juvona"
         ],
         "y": {
          "bdata": "AAAAAAAAJEAAAAAAAMBHQAAAAAAAACRAAAAAAABARUAAAAAAAAA5QAAAAAAAAC5AAAAAAAAATkAAAAAAAOBQQAAAAAAAgDFAAAAAAAAAHkAAAAAAAAAAAAAAAAAAgEFAAAAAAACARkAAAAAAAAAAAAAAAAAAAAAAAAAAAAAAAAAAAAAAAAAAAAAAAAAAAAAAAAAAAAAAAAAAAAAAAAAAAAAAAAAAAAAAAAAAAAAALkAAAAAAAAAAAAAAAAAAwEdAAAAAAAAAAAAAAAAAAAAAAAAAAAAAAC5AAAAAAAAAAAAAAAAAAAAAAAAAAAAAAAAAAAAAAAAAOUAAAAAAAAAAAAAAAAAAAClAAAAAAAAAAAAAAAAAAAAAAAAAAAAAAAAAAAAAAAAAAAAAAAAAAAAAAAAAAAAAAAAAAAAAAAAAAAAAAAAAAAAAAAAAAAAAAAAAAAAAAAAALkAAAAAAAAAAAAAAAAAAAAAAAAAAAAAAAAAAAAAAAAAAAAAAAAAAAAAAAAAAAAAAAAAAAAAAAAAAAAAAAAAAAAAAAAAAAAAAAAAAAAAAAAAAAAAAAAAAAAAAAAAAAAAAAAAAAAAAAAAAAAAAAAAAACRAAAAAAAAAAAAAAAAAAAAAAAAAAAAAAAAAAAAAAAAAAAAAAAAAAAAAAAAAAAAAAAAAAAAAAAAANEAAAAAAAAAAAAAAAAAAAAAAAAAAAAAAAAAAAAAAAAAAAAAAAAAAAAAAAAAAAAAAAAAAAAAAAAAAAAAAAAAAAAAAAAAAAAAAAAAAAAAAAAAAAAAAAAAAAAAAAAAAAAAAFEAAAAAAAAAAAAAAAAAAAAAAAAAAAAAAAAAAAAAAAAAAAAAAAAAAAAAAAAAAAAAAAAAAAAAAAAAAAAAAAAAAAAAAAAAAAAAAAAAAAAAAAAAAAAAAAAAAAAAAAAAAAAAAAAAAAAAAAAAAAAAAAAAAAAAAAAAAAAAAAAAAAAAAAAAAAAAAAAAAAAAAAAAAAAAAAAAAAAAAAAAAAAAAAAAAAAAAAAAAAAAAAAAAAAAAAAAAAAAAAAAAAAAAAAAAAAAAAAA=",
          "dtype": "f8"
         }
        },
        {
         "marker": {
          "color": "rgb(136, 204, 238)"
         },
         "name": "Spleef",
         "type": "bar",
         "x": [
          "Allooy",
          "cediiiiii_10",
          "_n3d",
          "qriezmannsOpa",
          "Muniix",
          "chrisihalt",
          "Fflopse",
          "Ex4cted",
          "Gobo9",
          "NewNormal0947",
          "Umgfoin",
          "HerrDante",
          "rotmann2",
          "Pedrozockt",
          "ReichesBrot",
          "Lelouch610",
          "JennieKim",
          "Ninivee",
          "FrozenNoah",
          "Teesily",
          "Luxemburq",
          "CML_Justin",
          "Joe3346",
          "JOW23",
          "DarkCobweb",
          "La_meleagro",
          "lizsyy",
          "VendasTM",
          "2B9",
          "KakaMC",
          "Squashgitter333",
          "Freeeedom",
          "GingerTeddy",
          "toxicplace",
          "Shiewk",
          "yzvm",
          "miridis41",
          "2wc",
          "TheFabo",
          "Grapfen",
          "Schmaarek",
          "GermanPie",
          "agowskyy",
          "Vanillinchen",
          "MaxMitMaulkorb",
          "Feinberg",
          "swiffle",
          "ByNetherdude",
          "Lubottus",
          "Stockinqs",
          "GeneralEnte06",
          "yiiq",
          "YBCM",
          "xBaumeisterin",
          "Mincheeen",
          "Seemops_8",
          "DaVinci_Son",
          "Sey__",
          "vKito",
          "zBro",
          "h4nnes",
          "Persidieus",
          "byTobi",
          "unausgesprochen",
          "RasenLP",
          "camman18YT",
          "LeWi_100",
          "Wienerisch",
          "Flitzi_Dino",
          "ZweitesIch",
          "ffawks",
          "Txlentierter",
          "LucaaOn",
          "Gerrygames",
          "Hyxeed",
          "DieserBear",
          "marbrueck",
          "Ungluecklicher",
          "JOW24",
          "Sthyq",
          "BastiGHG",
          "LeMetin_",
          "Gestimus",
          "lvlaurin",
          "Ritokii",
          "y9nic",
          "MaxOnTheRoad",
          "BunnyKiko",
          "xX_Dima_ggg_Xx6",
          "Steavn",
          "FlyingKyubi",
          "Wolkenfarmer",
          "DerAutist",
          "Mansuni",
          "ArthurAlchemist",
          "Bartschii",
          "Lutorix",
          "M0osebumps",
          "Morittz",
          "juvona"
         ],
         "y": {
          "bdata": "AAAAAAAAWUAAAAAAAIBRQAAAAAAAgFZAAAAAAACAVkAAAAAAAIBRQAAAAAAAAAAAAAAAAAAAAAAAAAAAAAAAAAAAAAAAAAAAAAAAAACAUUAAAAAAAAA0QAAAAAAAAAAAAAAAAACAUUAAAAAAAAAAAAAAAAAAAAAAAAAAAACAUUAAAAAAAAA0QAAAAAAAAAAAAAAAAAAAAAAAAAAAAAAAAAAAAAAAAAAAAAAAAAAAAAAAAAAAAAAAAAAAAAAAAAAAAAAAAAAAAAAAAAAAAAAAAAAAAAAAAAAAAAAAAAAANEAAAAAAAAAAAAAAAAAAAAAAAAAAAAAAAAAAAAAAAAAAAAAAAAAAAAAAAAAAAAAAAAAAAAAAAAAAAAAAAAAAAAAAAAAAAAAAAAAAAAAAAAAAAAAAAAAAAAAAAAAAAAAAAAAAAAAAAAAAAAAAAAAAAAAAAAAAAAAAAAAAAAAAAAAAAAAAAAAAAAAAAAAAAAAAAAAAAAAAAAAAAAAAAAAAAAAAAAAAAAAAAAAAAAAAAAAAAAAAAAAAAAAAAAAAAAAAAAAAAAAAAAAAAAAAAAAAAAAAAAAAAAAAAAAAAAAAAAAAAAAAAAAAAAAAAAAAAAAAAAAAAAAAAAAAAAAAAAAAAAAAAAAAAAAAAAAAAAAAAAAAAAAAAAAAAAAAAAAAAAAAAAAAAAAAAAAAAAAAAAAAAAAAAAAAAAAAAAAAAAAAAAAAAAAAAAAAAAAAAAAAAAAAAAAAAAAAAAAAAAAAAAAAAAAAAAAAAAAAAAAAAAAAAAAAAAAAAAAAAAAAAAAAAAAAAAAAAAAAAAAAAAAAAAAAAAAAAAAAAAAAAAAAAAAAAAAAAAAAAAAAAAAAAAAAAAAAAAAAAAAAAAAAAAAAAAAAAAAAAAAAAAAAAAAAAAAAAAAAAAAAAAAAAAAAAAAAAAAAAAAAAAAAAAAAAAAAAAAAAAAAAAAAAAAAAAAAAAAAAAAAAAAAAAAAAAAAAAAAAAAAAAAAAAAAAAAAAAAAAAAAAAAAAAAAAAAAAAAAAAAAAAAAAAAAAAAAAAAAAAAAAAAAAAA=",
          "dtype": "f8"
         }
        },
        {
         "marker": {
          "color": "rgb(204, 102, 119)"
         },
         "name": "Todeswürfel",
         "type": "bar",
         "x": [
          "Allooy",
          "cediiiiii_10",
          "_n3d",
          "qriezmannsOpa",
          "Muniix",
          "chrisihalt",
          "Fflopse",
          "Ex4cted",
          "Gobo9",
          "NewNormal0947",
          "Umgfoin",
          "HerrDante",
          "rotmann2",
          "Pedrozockt",
          "ReichesBrot",
          "Lelouch610",
          "JennieKim",
          "Ninivee",
          "FrozenNoah",
          "Teesily",
          "Luxemburq",
          "CML_Justin",
          "Joe3346",
          "JOW23",
          "DarkCobweb",
          "La_meleagro",
          "lizsyy",
          "VendasTM",
          "2B9",
          "KakaMC",
          "Squashgitter333",
          "Freeeedom",
          "GingerTeddy",
          "toxicplace",
          "Shiewk",
          "yzvm",
          "miridis41",
          "2wc",
          "TheFabo",
          "Grapfen",
          "Schmaarek",
          "GermanPie",
          "agowskyy",
          "Vanillinchen",
          "MaxMitMaulkorb",
          "Feinberg",
          "swiffle",
          "ByNetherdude",
          "Lubottus",
          "Stockinqs",
          "GeneralEnte06",
          "yiiq",
          "YBCM",
          "xBaumeisterin",
          "Mincheeen",
          "Seemops_8",
          "DaVinci_Son",
          "Sey__",
          "vKito",
          "zBro",
          "h4nnes",
          "Persidieus",
          "byTobi",
          "unausgesprochen",
          "RasenLP",
          "camman18YT",
          "LeWi_100",
          "Wienerisch",
          "Flitzi_Dino",
          "ZweitesIch",
          "ffawks",
          "Txlentierter",
          "LucaaOn",
          "Gerrygames",
          "Hyxeed",
          "DieserBear",
          "marbrueck",
          "Ungluecklicher",
          "JOW24",
          "Sthyq",
          "BastiGHG",
          "LeMetin_",
          "Gestimus",
          "lvlaurin",
          "Ritokii",
          "y9nic",
          "MaxOnTheRoad",
          "BunnyKiko",
          "xX_Dima_ggg_Xx6",
          "Steavn",
          "FlyingKyubi",
          "Wolkenfarmer",
          "DerAutist",
          "Mansuni",
          "ArthurAlchemist",
          "Bartschii",
          "Lutorix",
          "M0osebumps",
          "Morittz",
          "juvona"
         ],
         "y": {
          "bdata": "AAAAAAAAAAAAAAAAAAAAAAAAAAAAAAAAAAAAAAAAAAAAAAAAAAAAAAAAAAAAAAAAAAAAAAAAAAAAAAAAAAAAAAAAAAAAAAAAAAAAAAAAAAAAAAAAAAAAAAAAAAAAAAAAAAAAAAAAAAAAAAAAAAAAAAAAAAAAAAAAAAAAAAAAAAAAAAAAAAAAAAAAAAAAAAAAAAAAAAAAAAAAAAAAAAAAAAAAAAAAAAAAAAAAAAAAAAAAAAAAAAAAAAAAAAAAAAAAAAAAAAAAAAAAAAAAAAAAAAAAAAAAAAAAAAAAAAAAAAAAAAAAAAAAAAAAAAAAAAAAAAAAAAAAAAAAAAAAAAAAAAAAAAAAAAAAAAAAAAAAAAAAAAAAAAAAAAAAAAAAAAAAAAAAAAAAAAAAAAAAAAAAAAAAAAAAAAAAAAAAAAAAAAAAAAAAAAAAAAAAAAAAAAAAAAAAAAAAAAAAAAAAAAAAAAAAAAAAAAAAAAAAAAAAAAAAAAAAAAAAAAAAAAAAAAAAAAAAAAAAAAAAAAAAAAAAAAAAAAAAAAAAAAAAAAAAAAAAAAAAAAAAAAAAAAAAAAAAAAAAAAAAAAAAAAAAAAAAAAAAAAAAAAAAAAAAAAAAAAAAAAAAAAAAAAAAAAAAAAAAAAAAAAAAAAAAAAAAAAAAAAAAAAAAAAAAAAAAAAAAAAAAAAAAAAAAAAAAAAAAAAAAAAAAAAAAAAAAAAAAAAAAAAAAAAAAAAAAAAAAAAAAAAAAAAAAAAAAAAAAAAAAAAAAAAAAAAAAAAAAAAAAAAAAAAAAAAAAAAAAAAAAAAAAAAAAAAAAAAAAAAAAAAAAAAAAAAAAAAAAAAAAAAAAAAAAAAAAAAAAAAAAAAAAAAAAAAAAAAAAAAAAAAAAAAAAAAAAAAAAAAAAAAAAAAAAAAAAAAAAAAAAAAAAAAAAAAAAAAAAAAAAAAAAAAAAAAAAAAAAAAAAAAAAAAAAAAAAAAAAAAAAAAAAAAAAAAAAAAAAAAAAAAAAAAAAAAAAAAAAAAAAAAAAAAAAAAAAAAAAAAAAAAAAAAAAAAAAAAAAAAAAAAA=",
          "dtype": "f8"
         }
        },
        {
         "marker": {
          "color": "rgb(221, 204, 119)"
         },
         "name": "Turmroulette",
         "type": "bar",
         "x": [
          "Allooy",
          "cediiiiii_10",
          "_n3d",
          "qriezmannsOpa",
          "Muniix",
          "chrisihalt",
          "Fflopse",
          "Ex4cted",
          "Gobo9",
          "NewNormal0947",
          "Umgfoin",
          "HerrDante",
          "rotmann2",
          "Pedrozockt",
          "ReichesBrot",
          "Lelouch610",
          "JennieKim",
          "Ninivee",
          "FrozenNoah",
          "Teesily",
          "Luxemburq",
          "CML_Justin",
          "Joe3346",
          "JOW23",
          "DarkCobweb",
          "La_meleagro",
          "lizsyy",
          "VendasTM",
          "2B9",
          "KakaMC",
          "Squashgitter333",
          "Freeeedom",
          "GingerTeddy",
          "toxicplace",
          "Shiewk",
          "yzvm",
          "miridis41",
          "2wc",
          "TheFabo",
          "Grapfen",
          "Schmaarek",
          "GermanPie",
          "agowskyy",
          "Vanillinchen",
          "MaxMitMaulkorb",
          "Feinberg",
          "swiffle",
          "ByNetherdude",
          "Lubottus",
          "Stockinqs",
          "GeneralEnte06",
          "yiiq",
          "YBCM",
          "xBaumeisterin",
          "Mincheeen",
          "Seemops_8",
          "DaVinci_Son",
          "Sey__",
          "vKito",
          "zBro",
          "h4nnes",
          "Persidieus",
          "byTobi",
          "unausgesprochen",
          "RasenLP",
          "camman18YT",
          "LeWi_100",
          "Wienerisch",
          "Flitzi_Dino",
          "ZweitesIch",
          "ffawks",
          "Txlentierter",
          "LucaaOn",
          "Gerrygames",
          "Hyxeed",
          "DieserBear",
          "marbrueck",
          "Ungluecklicher",
          "JOW24",
          "Sthyq",
          "BastiGHG",
          "LeMetin_",
          "Gestimus",
          "lvlaurin",
          "Ritokii",
          "y9nic",
          "MaxOnTheRoad",
          "BunnyKiko",
          "xX_Dima_ggg_Xx6",
          "Steavn",
          "FlyingKyubi",
          "Wolkenfarmer",
          "DerAutist",
          "Mansuni",
          "ArthurAlchemist",
          "Bartschii",
          "Lutorix",
          "M0osebumps",
          "Morittz",
          "juvona"
         ],
         "y": {
          "bdata": "AAAAAACAUUAAAAAAAAAAAAAAAAAAADRAAAAAAACAUUAAAAAAAIBWQAAAAAAAgFZAAAAAAAAAAAAAAAAAAAAAAAAAAAAAAFlAAAAAAAAANEAAAAAAAIBRQAAAAAAAAAAAAAAAAAAAAAAAAAAAAAAAAAAAAAAAAAAAAAAAAAAANEAAAAAAAAAAAAAAAAAAAAAAAAAAAACAUUAAAAAAAAAAAAAAAAAAADRAAAAAAAAAAAAAAAAAAAA0QAAAAAAAAAAAAAAAAAAANEAAAAAAAAAAAAAAAAAAAAAAAAAAAACAUUAAAAAAAAAAAAAAAAAAAAAAAAAAAAAAAAAAAAAAAAAAAAAAAAAAADRAAAAAAAAAAAAAAAAAAAAAAAAAAAAAAAAAAAAAAAAAAAAAAAAAAAAAAAAAAAAAAAAAAAAAAAAAAAAAAAAAAAAAAAAAAAAAAAAAAAAAAAAAAAAAAAAAAAAAAAAAAAAAAAAAAAAAAAAAAAAAAAAAAAAAAAAAAAAAAAAAAAAAAAAAAAAAAAAAAAAAAAAAAAAAAAAAAAAAAAAAAAAAAAAAAAAAAAAAAAAAAAAAAAAAAAAAAAAAAAAAAAAAAAAAAAAAAAAAAAAAAAAAAAAAAAAAAAAAAAAAAAAAAAAAAAAAAAAAAAAAAAAAAAAAAAAAAAAAAAAAAAAAAAAAAAAAAAAAAAAAAAAAAAAAAAAAAAAAAAAAAAAAAAAAAAAAAAAAAAAAAAAAAAAAAAAAAAAAAAAAAAAAAAAAAAAAAAAAAAAAAAAAAAAAAAAAAAAAAAAAAAAAAAAAAAAAAAAAAAAAAAAAAAAAAAAAAAAAAAAAAAAAAAAAAAAAAAAAAAA0QAAAAAAAAAAAAAAAAAAAAAAAAAAAAAAAAAAAAAAAAAAAAAAAAAAAAAAAAAAAAAAAAAAAAAAAAAAAAAAAAAAAAAAAAAAAAAAAAAAAAAAAAAAAAAAAAAAAAAAAAAAAAAAAAAAAAAAAAAAAAAAAAAAAAAAAAAAAAAAAAAAAAAAAAAAAAAAAAAAAAAAAAAAAAAAAAAAAAAAAAAAAAAAAAAAAAAA=",
          "dtype": "f8"
         }
        },
        {
         "marker": {
          "color": "rgb(17, 119, 51)"
         },
         "name": "Waffenfolge",
         "type": "bar",
         "x": [
          "Allooy",
          "cediiiiii_10",
          "_n3d",
          "qriezmannsOpa",
          "Muniix",
          "chrisihalt",
          "Fflopse",
          "Ex4cted",
          "Gobo9",
          "NewNormal0947",
          "Umgfoin",
          "HerrDante",
          "rotmann2",
          "Pedrozockt",
          "ReichesBrot",
          "Lelouch610",
          "JennieKim",
          "Ninivee",
          "FrozenNoah",
          "Teesily",
          "Luxemburq",
          "CML_Justin",
          "Joe3346",
          "JOW23",
          "DarkCobweb",
          "La_meleagro",
          "lizsyy",
          "VendasTM",
          "2B9",
          "KakaMC",
          "Squashgitter333",
          "Freeeedom",
          "GingerTeddy",
          "toxicplace",
          "Shiewk",
          "yzvm",
          "miridis41",
          "2wc",
          "TheFabo",
          "Grapfen",
          "Schmaarek",
          "GermanPie",
          "agowskyy",
          "Vanillinchen",
          "MaxMitMaulkorb",
          "Feinberg",
          "swiffle",
          "ByNetherdude",
          "Lubottus",
          "Stockinqs",
          "GeneralEnte06",
          "yiiq",
          "YBCM",
          "xBaumeisterin",
          "Mincheeen",
          "Seemops_8",
          "DaVinci_Son",
          "Sey__",
          "vKito",
          "zBro",
          "h4nnes",
          "Persidieus",
          "byTobi",
          "unausgesprochen",
          "RasenLP",
          "camman18YT",
          "LeWi_100",
          "Wienerisch",
          "Flitzi_Dino",
          "ZweitesIch",
          "ffawks",
          "Txlentierter",
          "LucaaOn",
          "Gerrygames",
          "Hyxeed",
          "DieserBear",
          "marbrueck",
          "Ungluecklicher",
          "JOW24",
          "Sthyq",
          "BastiGHG",
          "LeMetin_",
          "Gestimus",
          "lvlaurin",
          "Ritokii",
          "y9nic",
          "MaxOnTheRoad",
          "BunnyKiko",
          "xX_Dima_ggg_Xx6",
          "Steavn",
          "FlyingKyubi",
          "Wolkenfarmer",
          "DerAutist",
          "Mansuni",
          "ArthurAlchemist",
          "Bartschii",
          "Lutorix",
          "M0osebumps",
          "Morittz",
          "juvona"
         ],
         "y": {
          "bdata": "AAAAAAAAAAAAAAAAAAAAAAAAAAAAAAAAAAAAAAAAAAAAAAAAAAAAAAAAAAAAAAAAAAAAAAAAAAAAAAAAAAAAAAAAAAAAAAAAAAAAAAAAAAAAAAAAAAAAAAAAAAAAAAAAAAAAAAAAAAAAAAAAAAAAAAAAAAAAAAAAAAAAAAAAAAAAAAAAAAAAAAAAAAAAAAAAAAAAAAAAAAAAAAAAAAAAAAAAAAAAAAAAAAAAAAAAAAAAAAAAAAAAAAAAAAAAAAAAAAAAAAAAAAAAAAAAAAAAAAAAAAAAAAAAAAAAAAAAAAAAAAAAAAAAAAAAAAAAAAAAAAAAAAAAAAAAAAAAAAAAAAAAAAAAAAAAAAAAAAAAAAAAAAAAAAAAAAAAAAAAAAAAAAAAAAAAAAAAAAAAAAAAAAAAAAAAAAAAAAAAAAAAAAAAAAAAAAAAAAAAAAAAAAAAAAAAAAAAAAAAAAAAAAAAAAAAAAAAAAAAAAAAAAAAAAAAAAAAAAAAAAAAAAAAAAAAAAAAAAAAAAAAAAAAAAAAAAAAAAAAAAAAAAAAAAAAAAAAAAAAAAAAAAAAAAAAAAAAAAAAAAAAAAAAAAAAAAAAAAAAAAAAAAAAAAAAAAAAAAAAAAAAAAAAAAAAAAAAAAAAAAAAAAAAAAAAAAAAAAAAAAAAAAAAAAAAAAAAAAAAAAAAAAAAAAAAAAAAAAAAAAAAAAAAAAAAAAAAAAAAAAAAAAAAAAAAAAAAAAAAAAAAAAAAAAAAAAAAAAAAAAAAAAAAAAAAAAAAAAAAAAAAAAAAAAAAAAAAAAAAAAAAAAAAAAAAAAAAAAAAAAAAAAAAAAAAAAAAAAAAAAAAAAAAAAAAAAAAAAAAAAAAAAAAAAAAAAAAAAAAAAAAAAAAAAAAAAAAAAAAAAAAAAAAAAAAAAAAAAAAAAAAAAAAAAAAAAAAAAAAAAAAAAAAAAAAAAAAAAAAAAAAAAAAAAAAAAAAAAAAAAAAAAAAAAAAAAAAAAAAAAAAAAAAAAAAAAAAAAAAAAAAAAAAAAAAAAAAAAAAAAAAAAAAAAAAAAAAAAAAAAAAAAA=",
          "dtype": "f8"
         }
        },
        {
         "marker": {
          "color": "rgb(51, 34, 136)"
         },
         "name": "Wettrennen",
         "type": "bar",
         "x": [
          "Allooy",
          "cediiiiii_10",
          "_n3d",
          "qriezmannsOpa",
          "Muniix",
          "chrisihalt",
          "Fflopse",
          "Ex4cted",
          "Gobo9",
          "NewNormal0947",
          "Umgfoin",
          "HerrDante",
          "rotmann2",
          "Pedrozockt",
          "ReichesBrot",
          "Lelouch610",
          "JennieKim",
          "Ninivee",
          "FrozenNoah",
          "Teesily",
          "Luxemburq",
          "CML_Justin",
          "Joe3346",
          "JOW23",
          "DarkCobweb",
          "La_meleagro",
          "lizsyy",
          "VendasTM",
          "2B9",
          "KakaMC",
          "Squashgitter333",
          "Freeeedom",
          "GingerTeddy",
          "toxicplace",
          "Shiewk",
          "yzvm",
          "miridis41",
          "2wc",
          "TheFabo",
          "Grapfen",
          "Schmaarek",
          "GermanPie",
          "agowskyy",
          "Vanillinchen",
          "MaxMitMaulkorb",
          "Feinberg",
          "swiffle",
          "ByNetherdude",
          "Lubottus",
          "Stockinqs",
          "GeneralEnte06",
          "yiiq",
          "YBCM",
          "xBaumeisterin",
          "Mincheeen",
          "Seemops_8",
          "DaVinci_Son",
          "Sey__",
          "vKito",
          "zBro",
          "h4nnes",
          "Persidieus",
          "byTobi",
          "unausgesprochen",
          "RasenLP",
          "camman18YT",
          "LeWi_100",
          "Wienerisch",
          "Flitzi_Dino",
          "ZweitesIch",
          "ffawks",
          "Txlentierter",
          "LucaaOn",
          "Gerrygames",
          "Hyxeed",
          "DieserBear",
          "marbrueck",
          "Ungluecklicher",
          "JOW24",
          "Sthyq",
          "BastiGHG",
          "LeMetin_",
          "Gestimus",
          "lvlaurin",
          "Ritokii",
          "y9nic",
          "MaxOnTheRoad",
          "BunnyKiko",
          "xX_Dima_ggg_Xx6",
          "Steavn",
          "FlyingKyubi",
          "Wolkenfarmer",
          "DerAutist",
          "Mansuni",
          "ArthurAlchemist",
          "Bartschii",
          "Lutorix",
          "M0osebumps",
          "Morittz",
          "juvona"
         ],
         "y": {
          "bdata": "AAAAAAAATUAAAAAAAABCQAAAAAAAAEtAAAAAAAAAQEAAAAAAAABBQAAAAAAAgFNAAAAAAAAANEAAAAAAAAAkQAAAAAAAACxAAAAAAAAAIEAAAAAAAAAAAAAAAAAAABBAAAAAAAAAAAAAAAAAAAAAAAAAAAAAACxAAAAAAAAAAAAAAAAAAABDQAAAAAAAAAAAAAAAAAAAAAAAAAAAAAAAAAAAAAAAAAAAAAAAAAAAIEAAAAAAAAA8QAAAAAAAAAAAAAAAAAAAAAAAAAAAAAAAAAAAAAAAAAAAAAAAAAAAPkAAAAAAAAAAAAAAAAAAAAAAAAAAAAAAAAAAAAAAAAAAAAAAAAAAADhAAAAAAAAAAAAAAAAAAAAAAAAAAAAAAAAAAAAAAAAAAAAAAAAAAAAAAAAAAAAAAAAAAAAAAAAAAAAAAAAAAAAAAAAAAAAAAAAAAAAAAAAAAAAAAAAAAAAAAAAAAAAAAAAAAAAAAAAAAAAAAAAAAAAYQAAAAAAAAAAAAAAAAAAAAAAAAAAAAAAAAAAAAAAAAAAAAAAAAAAAEEAAAAAAAAAAAAAAAAAAAAAAAAAAAAAAAAAAAAAAAAAAAAAAAAAAAAAAAAAAAAAAAAAAAAAAAAAAAAAAAAAAAAAAAAAAAAAAAAAAAAAAAAAAAAAAAAAAAAAAAAAAAAAAAAAAAAAAAAAAAAAAAAAAAAAAAAAAAAAAMkAAAAAAAAAAAAAAAAAAAAAAAAAAAAAAAAAAAAAAAAAAAAAAAAAAAAAAAAAAAAAAAAAAAAAAAAAQQAAAAAAAAAAAAAAAAAAAAAAAAAAAAAAAAAAAAAAAAAAAAAAAAAAAAAAAAAAAAAAAAAAAAAAAAAAAAAAAAAAAAAAAAAAAAAAAAAAAAAAAAAAAAAAAAAAAAAAAAAAAAAAAAAAAAAAAAAAAAAAAAAAAAAAAAAAAAAAAAAAAAAAAAAAAAAAAAAAAAAAAAAAAAAAAAAAAAAAAAAAAAAAAAAAAAAAAAAAAAAAAAAAAAAAAAAAAAAAAAAAAAAAAAAAAAAAAAAAAAAAAAAAAAAAAAAAAAAA=",
          "dtype": "f8"
         }
        }
       ],
       "layout": {
        "annotations": [
         {
          "font": {
           "size": 12
          },
          "showarrow": false,
          "text": "Max 100 points per minigame. Records #1 through #10 of games & maps in the active pool are considered (#1: 100, #2: 90, ..., #10: 10). If a minigame has multiple maps, the 100 points are distributed equally. fflopse.github.io/MCP-Records/data-analysis/global-ranking.ipynb",
          "x": 0.5,
          "xanchor": "center",
          "xref": "paper",
          "y": 1.1635,
          "yref": "paper"
         }
        ],
        "barmode": "stack",
        "legend": {
         "bgcolor": "rgba(255, 255, 255, 0)",
         "bordercolor": "rgba(0, 0, 0, 0)",
         "font": {
          "size": 12
         },
         "traceorder": "normal",
         "x": 1.05,
         "y": 0.5
        },
        "margin": {
         "r": 200
        },
        "template": {
         "data": {
          "bar": [
           {
            "error_x": {
             "color": "#2a3f5f"
            },
            "error_y": {
             "color": "#2a3f5f"
            },
            "marker": {
             "line": {
              "color": "#E5ECF6",
              "width": 0.5
             },
             "pattern": {
              "fillmode": "overlay",
              "size": 10,
              "solidity": 0.2
             }
            },
            "type": "bar"
           }
          ],
          "barpolar": [
           {
            "marker": {
             "line": {
              "color": "#E5ECF6",
              "width": 0.5
             },
             "pattern": {
              "fillmode": "overlay",
              "size": 10,
              "solidity": 0.2
             }
            },
            "type": "barpolar"
           }
          ],
          "carpet": [
           {
            "aaxis": {
             "endlinecolor": "#2a3f5f",
             "gridcolor": "white",
             "linecolor": "white",
             "minorgridcolor": "white",
             "startlinecolor": "#2a3f5f"
            },
            "baxis": {
             "endlinecolor": "#2a3f5f",
             "gridcolor": "white",
             "linecolor": "white",
             "minorgridcolor": "white",
             "startlinecolor": "#2a3f5f"
            },
            "type": "carpet"
           }
          ],
          "choropleth": [
           {
            "colorbar": {
             "outlinewidth": 0,
             "ticks": ""
            },
            "type": "choropleth"
           }
          ],
          "contour": [
           {
            "colorbar": {
             "outlinewidth": 0,
             "ticks": ""
            },
            "colorscale": [
             [
              0,
              "#0d0887"
             ],
             [
              0.1111111111111111,
              "#46039f"
             ],
             [
              0.2222222222222222,
              "#7201a8"
             ],
             [
              0.3333333333333333,
              "#9c179e"
             ],
             [
              0.4444444444444444,
              "#bd3786"
             ],
             [
              0.5555555555555556,
              "#d8576b"
             ],
             [
              0.6666666666666666,
              "#ed7953"
             ],
             [
              0.7777777777777778,
              "#fb9f3a"
             ],
             [
              0.8888888888888888,
              "#fdca26"
             ],
             [
              1,
              "#f0f921"
             ]
            ],
            "type": "contour"
           }
          ],
          "contourcarpet": [
           {
            "colorbar": {
             "outlinewidth": 0,
             "ticks": ""
            },
            "type": "contourcarpet"
           }
          ],
          "heatmap": [
           {
            "colorbar": {
             "outlinewidth": 0,
             "ticks": ""
            },
            "colorscale": [
             [
              0,
              "#0d0887"
             ],
             [
              0.1111111111111111,
              "#46039f"
             ],
             [
              0.2222222222222222,
              "#7201a8"
             ],
             [
              0.3333333333333333,
              "#9c179e"
             ],
             [
              0.4444444444444444,
              "#bd3786"
             ],
             [
              0.5555555555555556,
              "#d8576b"
             ],
             [
              0.6666666666666666,
              "#ed7953"
             ],
             [
              0.7777777777777778,
              "#fb9f3a"
             ],
             [
              0.8888888888888888,
              "#fdca26"
             ],
             [
              1,
              "#f0f921"
             ]
            ],
            "type": "heatmap"
           }
          ],
          "histogram": [
           {
            "marker": {
             "pattern": {
              "fillmode": "overlay",
              "size": 10,
              "solidity": 0.2
             }
            },
            "type": "histogram"
           }
          ],
          "histogram2d": [
           {
            "colorbar": {
             "outlinewidth": 0,
             "ticks": ""
            },
            "colorscale": [
             [
              0,
              "#0d0887"
             ],
             [
              0.1111111111111111,
              "#46039f"
             ],
             [
              0.2222222222222222,
              "#7201a8"
             ],
             [
              0.3333333333333333,
              "#9c179e"
             ],
             [
              0.4444444444444444,
              "#bd3786"
             ],
             [
              0.5555555555555556,
              "#d8576b"
             ],
             [
              0.6666666666666666,
              "#ed7953"
             ],
             [
              0.7777777777777778,
              "#fb9f3a"
             ],
             [
              0.8888888888888888,
              "#fdca26"
             ],
             [
              1,
              "#f0f921"
             ]
            ],
            "type": "histogram2d"
           }
          ],
          "histogram2dcontour": [
           {
            "colorbar": {
             "outlinewidth": 0,
             "ticks": ""
            },
            "colorscale": [
             [
              0,
              "#0d0887"
             ],
             [
              0.1111111111111111,
              "#46039f"
             ],
             [
              0.2222222222222222,
              "#7201a8"
             ],
             [
              0.3333333333333333,
              "#9c179e"
             ],
             [
              0.4444444444444444,
              "#bd3786"
             ],
             [
              0.5555555555555556,
              "#d8576b"
             ],
             [
              0.6666666666666666,
              "#ed7953"
             ],
             [
              0.7777777777777778,
              "#fb9f3a"
             ],
             [
              0.8888888888888888,
              "#fdca26"
             ],
             [
              1,
              "#f0f921"
             ]
            ],
            "type": "histogram2dcontour"
           }
          ],
          "mesh3d": [
           {
            "colorbar": {
             "outlinewidth": 0,
             "ticks": ""
            },
            "type": "mesh3d"
           }
          ],
          "parcoords": [
           {
            "line": {
             "colorbar": {
              "outlinewidth": 0,
              "ticks": ""
             }
            },
            "type": "parcoords"
           }
          ],
          "pie": [
           {
            "automargin": true,
            "type": "pie"
           }
          ],
          "scatter": [
           {
            "fillpattern": {
             "fillmode": "overlay",
             "size": 10,
             "solidity": 0.2
            },
            "type": "scatter"
           }
          ],
          "scatter3d": [
           {
            "line": {
             "colorbar": {
              "outlinewidth": 0,
              "ticks": ""
             }
            },
            "marker": {
             "colorbar": {
              "outlinewidth": 0,
              "ticks": ""
             }
            },
            "type": "scatter3d"
           }
          ],
          "scattercarpet": [
           {
            "marker": {
             "colorbar": {
              "outlinewidth": 0,
              "ticks": ""
             }
            },
            "type": "scattercarpet"
           }
          ],
          "scattergeo": [
           {
            "marker": {
             "colorbar": {
              "outlinewidth": 0,
              "ticks": ""
             }
            },
            "type": "scattergeo"
           }
          ],
          "scattergl": [
           {
            "marker": {
             "colorbar": {
              "outlinewidth": 0,
              "ticks": ""
             }
            },
            "type": "scattergl"
           }
          ],
          "scattermap": [
           {
            "marker": {
             "colorbar": {
              "outlinewidth": 0,
              "ticks": ""
             }
            },
            "type": "scattermap"
           }
          ],
          "scattermapbox": [
           {
            "marker": {
             "colorbar": {
              "outlinewidth": 0,
              "ticks": ""
             }
            },
            "type": "scattermapbox"
           }
          ],
          "scatterpolar": [
           {
            "marker": {
             "colorbar": {
              "outlinewidth": 0,
              "ticks": ""
             }
            },
            "type": "scatterpolar"
           }
          ],
          "scatterpolargl": [
           {
            "marker": {
             "colorbar": {
              "outlinewidth": 0,
              "ticks": ""
             }
            },
            "type": "scatterpolargl"
           }
          ],
          "scatterternary": [
           {
            "marker": {
             "colorbar": {
              "outlinewidth": 0,
              "ticks": ""
             }
            },
            "type": "scatterternary"
           }
          ],
          "surface": [
           {
            "colorbar": {
             "outlinewidth": 0,
             "ticks": ""
            },
            "colorscale": [
             [
              0,
              "#0d0887"
             ],
             [
              0.1111111111111111,
              "#46039f"
             ],
             [
              0.2222222222222222,
              "#7201a8"
             ],
             [
              0.3333333333333333,
              "#9c179e"
             ],
             [
              0.4444444444444444,
              "#bd3786"
             ],
             [
              0.5555555555555556,
              "#d8576b"
             ],
             [
              0.6666666666666666,
              "#ed7953"
             ],
             [
              0.7777777777777778,
              "#fb9f3a"
             ],
             [
              0.8888888888888888,
              "#fdca26"
             ],
             [
              1,
              "#f0f921"
             ]
            ],
            "type": "surface"
           }
          ],
          "table": [
           {
            "cells": {
             "fill": {
              "color": "#EBF0F8"
             },
             "line": {
              "color": "white"
             }
            },
            "header": {
             "fill": {
              "color": "#C8D4E3"
             },
             "line": {
              "color": "white"
             }
            },
            "type": "table"
           }
          ]
         },
         "layout": {
          "annotationdefaults": {
           "arrowcolor": "#2a3f5f",
           "arrowhead": 0,
           "arrowwidth": 1
          },
          "autotypenumbers": "strict",
          "coloraxis": {
           "colorbar": {
            "outlinewidth": 0,
            "ticks": ""
           }
          },
          "colorscale": {
           "diverging": [
            [
             0,
             "#8e0152"
            ],
            [
             0.1,
             "#c51b7d"
            ],
            [
             0.2,
             "#de77ae"
            ],
            [
             0.3,
             "#f1b6da"
            ],
            [
             0.4,
             "#fde0ef"
            ],
            [
             0.5,
             "#f7f7f7"
            ],
            [
             0.6,
             "#e6f5d0"
            ],
            [
             0.7,
             "#b8e186"
            ],
            [
             0.8,
             "#7fbc41"
            ],
            [
             0.9,
             "#4d9221"
            ],
            [
             1,
             "#276419"
            ]
           ],
           "sequential": [
            [
             0,
             "#0d0887"
            ],
            [
             0.1111111111111111,
             "#46039f"
            ],
            [
             0.2222222222222222,
             "#7201a8"
            ],
            [
             0.3333333333333333,
             "#9c179e"
            ],
            [
             0.4444444444444444,
             "#bd3786"
            ],
            [
             0.5555555555555556,
             "#d8576b"
            ],
            [
             0.6666666666666666,
             "#ed7953"
            ],
            [
             0.7777777777777778,
             "#fb9f3a"
            ],
            [
             0.8888888888888888,
             "#fdca26"
            ],
            [
             1,
             "#f0f921"
            ]
           ],
           "sequentialminus": [
            [
             0,
             "#0d0887"
            ],
            [
             0.1111111111111111,
             "#46039f"
            ],
            [
             0.2222222222222222,
             "#7201a8"
            ],
            [
             0.3333333333333333,
             "#9c179e"
            ],
            [
             0.4444444444444444,
             "#bd3786"
            ],
            [
             0.5555555555555556,
             "#d8576b"
            ],
            [
             0.6666666666666666,
             "#ed7953"
            ],
            [
             0.7777777777777778,
             "#fb9f3a"
            ],
            [
             0.8888888888888888,
             "#fdca26"
            ],
            [
             1,
             "#f0f921"
            ]
           ]
          },
          "colorway": [
           "#636efa",
           "#EF553B",
           "#00cc96",
           "#ab63fa",
           "#FFA15A",
           "#19d3f3",
           "#FF6692",
           "#B6E880",
           "#FF97FF",
           "#FECB52"
          ],
          "font": {
           "color": "#2a3f5f"
          },
          "geo": {
           "bgcolor": "white",
           "lakecolor": "white",
           "landcolor": "#E5ECF6",
           "showlakes": true,
           "showland": true,
           "subunitcolor": "white"
          },
          "hoverlabel": {
           "align": "left"
          },
          "hovermode": "closest",
          "mapbox": {
           "style": "light"
          },
          "paper_bgcolor": "white",
          "plot_bgcolor": "#E5ECF6",
          "polar": {
           "angularaxis": {
            "gridcolor": "white",
            "linecolor": "white",
            "ticks": ""
           },
           "bgcolor": "#E5ECF6",
           "radialaxis": {
            "gridcolor": "white",
            "linecolor": "white",
            "ticks": ""
           }
          },
          "scene": {
           "xaxis": {
            "backgroundcolor": "#E5ECF6",
            "gridcolor": "white",
            "gridwidth": 2,
            "linecolor": "white",
            "showbackground": true,
            "ticks": "",
            "zerolinecolor": "white"
           },
           "yaxis": {
            "backgroundcolor": "#E5ECF6",
            "gridcolor": "white",
            "gridwidth": 2,
            "linecolor": "white",
            "showbackground": true,
            "ticks": "",
            "zerolinecolor": "white"
           },
           "zaxis": {
            "backgroundcolor": "#E5ECF6",
            "gridcolor": "white",
            "gridwidth": 2,
            "linecolor": "white",
            "showbackground": true,
            "ticks": "",
            "zerolinecolor": "white"
           }
          },
          "shapedefaults": {
           "line": {
            "color": "#2a3f5f"
           }
          },
          "ternary": {
           "aaxis": {
            "gridcolor": "white",
            "linecolor": "white",
            "ticks": ""
           },
           "baxis": {
            "gridcolor": "white",
            "linecolor": "white",
            "ticks": ""
           },
           "bgcolor": "#E5ECF6",
           "caxis": {
            "gridcolor": "white",
            "linecolor": "white",
            "ticks": ""
           }
          },
          "title": {
           "x": 0.05
          },
          "xaxis": {
           "automargin": true,
           "gridcolor": "white",
           "linecolor": "white",
           "ticks": "",
           "title": {
            "standoff": 15
           },
           "zerolinecolor": "white",
           "zerolinewidth": 2
          },
          "yaxis": {
           "automargin": true,
           "gridcolor": "white",
           "linecolor": "white",
           "ticks": "",
           "title": {
            "standoff": 15
           },
           "zerolinecolor": "white",
           "zerolinewidth": 2
          }
         }
        },
        "title": {
         "text": "Extended Overall Record Comparison - Top 100 Players"
        },
        "xaxis": {
         "title": {
          "text": "Player"
         }
        },
        "yaxis": {
         "title": {
          "text": "Points"
         }
        }
       }
      }
     },
     "metadata": {},
     "output_type": "display_data"
    }
   ],
   "source": [
    "import plotly.graph_objects as go\n",
    "\n",
    "# Sum all columns to get the total score\n",
    "outDf['Total'] = outDf.sum(axis=1)\n",
    "\n",
    "# Sort by total score and fill N/A values with 0\n",
    "outDf = outDf.sort_values(by='Total', ascending=False).fillna(0)\n",
    "\n",
    "# Crop to top 10 players\n",
    "cropDf = outDf.head(100).copy()\n",
    "\n",
    "# Drop the 'Total' column for plotting\n",
    "cropDf = cropDf.drop(columns=['Total'])\n",
    "\n",
    "# Create a color palette\n",
    "color_palette = px.colors.qualitative.Safe\n",
    "\n",
    "# Create the stacked bar plot\n",
    "fig = go.Figure()\n",
    "\n",
    "cropDf = remove_duplicate_columns(cropDf)\n",
    "\n",
    "for column in cropDf.columns.difference(['Player']):\n",
    "    fig.add_trace(go.Bar(\n",
    "        x=cropDf.index,\n",
    "        y=cropDf[column],\n",
    "        name=column,\n",
    "        marker_color=color_palette[len(fig.data) % len(color_palette)]\n",
    "    ))\n",
    "\n",
    "# Update layout\n",
    "fig.update_layout(\n",
    "    barmode='stack',\n",
    "    title='Extended Overall Record Comparison - Top 100 Players',\n",
    "    xaxis=dict(title='Player'),\n",
    "    yaxis=dict(title='Points'),\n",
    "    #height=800,\n",
    "    #width=1000,\n",
    "    legend=dict(\n",
    "        x=1.05,\n",
    "        y=0.5,\n",
    "        traceorder='normal',\n",
    "        font=dict(size=12),\n",
    "        bgcolor='rgba(255, 255, 255, 0)',\n",
    "        bordercolor='rgba(0, 0, 0, 0)'\n",
    "    ),\n",
    "    margin=dict(r=200),  # Adjust right margin to make room for the legend\n",
    "    annotations=[\n",
    "        dict(\n",
    "            x=0.5,\n",
    "            y=1.1635,\n",
    "            xref='paper',\n",
    "            yref='paper',\n",
    "            text='Max 100 points per minigame. Records #1 through #10 of games & maps in the active pool are considered (#1: 100, #2: 90, ..., #10: 10). If a minigame has multiple maps, the 100 points are distributed equally. fflopse.github.io/MCP-Records/data-analysis/global-ranking.ipynb',\n",
    "            showarrow=False,\n",
    "            font=dict(size=12),\n",
    "            xanchor='center'\n",
    "        )\n",
    "    ]\n",
    ")\n",
    "\n",
    "fig.show()\n",
    "\n",
    "# save the plot as an html file\n",
    "\n",
    "fig.write_html('out/full_overall_record_comparison.html')"
   ]
  },
  {
   "cell_type": "code",
   "execution_count": null,
   "metadata": {},
   "outputs": [
    {
     "data": {
      "text/html": [
       "<div>\n",
       "<style scoped>\n",
       "    .dataframe tbody tr th:only-of-type {\n",
       "        vertical-align: middle;\n",
       "    }\n",
       "\n",
       "    .dataframe tbody tr th {\n",
       "        vertical-align: top;\n",
       "    }\n",
       "\n",
       "    .dataframe thead th {\n",
       "        text-align: right;\n",
       "    }\n",
       "</style>\n",
       "<table border=\"1\" class=\"dataframe\">\n",
       "  <thead>\n",
       "    <tr style=\"text-align: right;\">\n",
       "      <th></th>\n",
       "      <th>Buntes Chaos</th>\n",
       "      <th>Buntes Chaos</th>\n",
       "      <th>Buntes Chaos</th>\n",
       "    </tr>\n",
       "  </thead>\n",
       "  <tbody>\n",
       "    <tr>\n",
       "      <th>Allooy</th>\n",
       "      <td>100.0</td>\n",
       "      <td>100.0</td>\n",
       "      <td>100.0</td>\n",
       "    </tr>\n",
       "    <tr>\n",
       "      <th>cediiiiii_10</th>\n",
       "      <td>100.0</td>\n",
       "      <td>100.0</td>\n",
       "      <td>100.0</td>\n",
       "    </tr>\n",
       "    <tr>\n",
       "      <th>Muniix</th>\n",
       "      <td>100.0</td>\n",
       "      <td>100.0</td>\n",
       "      <td>100.0</td>\n",
       "    </tr>\n",
       "    <tr>\n",
       "      <th>_n3d</th>\n",
       "      <td>100.0</td>\n",
       "      <td>100.0</td>\n",
       "      <td>100.0</td>\n",
       "    </tr>\n",
       "    <tr>\n",
       "      <th>qriezmannsOpa</th>\n",
       "      <td>50.0</td>\n",
       "      <td>50.0</td>\n",
       "      <td>50.0</td>\n",
       "    </tr>\n",
       "    <tr>\n",
       "      <th>...</th>\n",
       "      <td>...</td>\n",
       "      <td>...</td>\n",
       "      <td>...</td>\n",
       "    </tr>\n",
       "    <tr>\n",
       "      <th>Axollotel</th>\n",
       "      <td>0.0</td>\n",
       "      <td>0.0</td>\n",
       "      <td>0.0</td>\n",
       "    </tr>\n",
       "    <tr>\n",
       "      <th>redbrll</th>\n",
       "      <td>0.0</td>\n",
       "      <td>0.0</td>\n",
       "      <td>0.0</td>\n",
       "    </tr>\n",
       "    <tr>\n",
       "      <th>Gfrasti</th>\n",
       "      <td>0.0</td>\n",
       "      <td>0.0</td>\n",
       "      <td>0.0</td>\n",
       "    </tr>\n",
       "    <tr>\n",
       "      <th>IchHolzDichWeg</th>\n",
       "      <td>0.0</td>\n",
       "      <td>0.0</td>\n",
       "      <td>0.0</td>\n",
       "    </tr>\n",
       "    <tr>\n",
       "      <th>SmartyxD</th>\n",
       "      <td>0.0</td>\n",
       "      <td>0.0</td>\n",
       "      <td>0.0</td>\n",
       "    </tr>\n",
       "  </tbody>\n",
       "</table>\n",
       "<p>228 rows × 3 columns</p>\n",
       "</div>"
      ],
      "text/plain": [
       "                Buntes Chaos  Buntes Chaos  Buntes Chaos\n",
       "Allooy                 100.0         100.0         100.0\n",
       "cediiiiii_10           100.0         100.0         100.0\n",
       "Muniix                 100.0         100.0         100.0\n",
       "_n3d                   100.0         100.0         100.0\n",
       "qriezmannsOpa           50.0          50.0          50.0\n",
       "...                      ...           ...           ...\n",
       "Axollotel                0.0           0.0           0.0\n",
       "redbrll                  0.0           0.0           0.0\n",
       "Gfrasti                  0.0           0.0           0.0\n",
       "IchHolzDichWeg           0.0           0.0           0.0\n",
       "SmartyxD                 0.0           0.0           0.0\n",
       "\n",
       "[228 rows x 3 columns]"
      ]
     },
     "execution_count": 21,
     "metadata": {},
     "output_type": "execute_result"
    }
   ],
   "source": []
  },
  {
   "cell_type": "code",
   "execution_count": null,
   "metadata": {},
   "outputs": [],
   "source": []
  },
  {
   "cell_type": "code",
   "execution_count": null,
   "metadata": {},
   "outputs": [
    {
     "data": {
      "text/html": [
       "<div>\n",
       "<style scoped>\n",
       "    .dataframe tbody tr th:only-of-type {\n",
       "        vertical-align: middle;\n",
       "    }\n",
       "\n",
       "    .dataframe tbody tr th {\n",
       "        vertical-align: top;\n",
       "    }\n",
       "\n",
       "    .dataframe thead th {\n",
       "        text-align: right;\n",
       "    }\n",
       "</style>\n",
       "<table border=\"1\" class=\"dataframe\">\n",
       "  <thead>\n",
       "    <tr style=\"text-align: right;\">\n",
       "      <th></th>\n",
       "      <th>Sammelwahn</th>\n",
       "      <th>Schießstand</th>\n",
       "      <th>Mauerfall</th>\n",
       "      <th>Mini Survivalgames</th>\n",
       "      <th>Lasertag</th>\n",
       "      <th>Minengefecht</th>\n",
       "      <th>Einer im Köcher</th>\n",
       "      <th>Spleef</th>\n",
       "      <th>Buntes Chaos</th>\n",
       "      <th>Reihenfolge</th>\n",
       "      <th>...</th>\n",
       "      <th>Todeswürfel</th>\n",
       "      <th>Freier Fall</th>\n",
       "      <th>Elytrarennen</th>\n",
       "      <th>Waffenfolge</th>\n",
       "      <th>Minenfeld</th>\n",
       "      <th>Kletterkönig</th>\n",
       "      <th>Ampelrennen</th>\n",
       "      <th>Hoch hinaus</th>\n",
       "      <th>Frostiger Pfad</th>\n",
       "      <th>Runterpurzeln</th>\n",
       "    </tr>\n",
       "  </thead>\n",
       "  <tbody>\n",
       "    <tr>\n",
       "      <th>Allooy</th>\n",
       "      <td>21.025641</td>\n",
       "      <td>10.0</td>\n",
       "      <td>12.857143</td>\n",
       "      <td>0.0</td>\n",
       "      <td>0.000000</td>\n",
       "      <td>22.50</td>\n",
       "      <td>50.0</td>\n",
       "      <td>100.0</td>\n",
       "      <td>100.0</td>\n",
       "      <td>0.0</td>\n",
       "      <td>...</td>\n",
       "      <td>0.0</td>\n",
       "      <td>0.0</td>\n",
       "      <td>90.0</td>\n",
       "      <td>0.0</td>\n",
       "      <td>10.000000</td>\n",
       "      <td>23.333333</td>\n",
       "      <td>0.0</td>\n",
       "      <td>80.0</td>\n",
       "      <td>0.0</td>\n",
       "      <td>60.0</td>\n",
       "    </tr>\n",
       "    <tr>\n",
       "      <th>cediiiiii_10</th>\n",
       "      <td>41.538462</td>\n",
       "      <td>47.5</td>\n",
       "      <td>37.142857</td>\n",
       "      <td>0.0</td>\n",
       "      <td>10.000000</td>\n",
       "      <td>35.00</td>\n",
       "      <td>10.0</td>\n",
       "      <td>70.0</td>\n",
       "      <td>100.0</td>\n",
       "      <td>0.0</td>\n",
       "      <td>...</td>\n",
       "      <td>0.0</td>\n",
       "      <td>0.0</td>\n",
       "      <td>42.5</td>\n",
       "      <td>0.0</td>\n",
       "      <td>10.000000</td>\n",
       "      <td>23.333333</td>\n",
       "      <td>10.0</td>\n",
       "      <td>20.0</td>\n",
       "      <td>0.0</td>\n",
       "      <td>80.0</td>\n",
       "    </tr>\n",
       "    <tr>\n",
       "      <th>Muniix</th>\n",
       "      <td>11.025641</td>\n",
       "      <td>25.0</td>\n",
       "      <td>24.285714</td>\n",
       "      <td>0.0</td>\n",
       "      <td>16.666667</td>\n",
       "      <td>10.00</td>\n",
       "      <td>4.0</td>\n",
       "      <td>70.0</td>\n",
       "      <td>100.0</td>\n",
       "      <td>0.0</td>\n",
       "      <td>...</td>\n",
       "      <td>0.0</td>\n",
       "      <td>0.0</td>\n",
       "      <td>12.5</td>\n",
       "      <td>0.0</td>\n",
       "      <td>0.000000</td>\n",
       "      <td>46.666667</td>\n",
       "      <td>0.0</td>\n",
       "      <td>0.0</td>\n",
       "      <td>0.0</td>\n",
       "      <td>100.0</td>\n",
       "    </tr>\n",
       "    <tr>\n",
       "      <th>_n3d</th>\n",
       "      <td>17.692308</td>\n",
       "      <td>10.0</td>\n",
       "      <td>14.285714</td>\n",
       "      <td>0.0</td>\n",
       "      <td>30.000000</td>\n",
       "      <td>13.75</td>\n",
       "      <td>4.0</td>\n",
       "      <td>90.0</td>\n",
       "      <td>100.0</td>\n",
       "      <td>0.0</td>\n",
       "      <td>...</td>\n",
       "      <td>0.0</td>\n",
       "      <td>0.0</td>\n",
       "      <td>45.0</td>\n",
       "      <td>0.0</td>\n",
       "      <td>50.000000</td>\n",
       "      <td>20.000000</td>\n",
       "      <td>15.0</td>\n",
       "      <td>0.0</td>\n",
       "      <td>0.0</td>\n",
       "      <td>30.0</td>\n",
       "    </tr>\n",
       "    <tr>\n",
       "      <th>qriezmannsOpa</th>\n",
       "      <td>7.179487</td>\n",
       "      <td>42.5</td>\n",
       "      <td>0.000000</td>\n",
       "      <td>0.0</td>\n",
       "      <td>35.000000</td>\n",
       "      <td>10.00</td>\n",
       "      <td>0.0</td>\n",
       "      <td>90.0</td>\n",
       "      <td>50.0</td>\n",
       "      <td>0.0</td>\n",
       "      <td>...</td>\n",
       "      <td>0.0</td>\n",
       "      <td>0.0</td>\n",
       "      <td>42.5</td>\n",
       "      <td>0.0</td>\n",
       "      <td>46.666667</td>\n",
       "      <td>56.666667</td>\n",
       "      <td>0.0</td>\n",
       "      <td>0.0</td>\n",
       "      <td>0.0</td>\n",
       "      <td>70.0</td>\n",
       "    </tr>\n",
       "    <tr>\n",
       "      <th>...</th>\n",
       "      <td>...</td>\n",
       "      <td>...</td>\n",
       "      <td>...</td>\n",
       "      <td>...</td>\n",
       "      <td>...</td>\n",
       "      <td>...</td>\n",
       "      <td>...</td>\n",
       "      <td>...</td>\n",
       "      <td>...</td>\n",
       "      <td>...</td>\n",
       "      <td>...</td>\n",
       "      <td>...</td>\n",
       "      <td>...</td>\n",
       "      <td>...</td>\n",
       "      <td>...</td>\n",
       "      <td>...</td>\n",
       "      <td>...</td>\n",
       "      <td>...</td>\n",
       "      <td>...</td>\n",
       "      <td>...</td>\n",
       "      <td>...</td>\n",
       "    </tr>\n",
       "    <tr>\n",
       "      <th>TheBreadHD</th>\n",
       "      <td>0.000000</td>\n",
       "      <td>0.0</td>\n",
       "      <td>0.000000</td>\n",
       "      <td>0.0</td>\n",
       "      <td>0.000000</td>\n",
       "      <td>0.00</td>\n",
       "      <td>0.0</td>\n",
       "      <td>0.0</td>\n",
       "      <td>0.0</td>\n",
       "      <td>0.0</td>\n",
       "      <td>...</td>\n",
       "      <td>0.0</td>\n",
       "      <td>0.0</td>\n",
       "      <td>0.0</td>\n",
       "      <td>0.0</td>\n",
       "      <td>0.000000</td>\n",
       "      <td>0.000000</td>\n",
       "      <td>0.0</td>\n",
       "      <td>0.0</td>\n",
       "      <td>0.0</td>\n",
       "      <td>0.0</td>\n",
       "    </tr>\n",
       "    <tr>\n",
       "      <th>Axollotel</th>\n",
       "      <td>0.000000</td>\n",
       "      <td>0.0</td>\n",
       "      <td>0.000000</td>\n",
       "      <td>0.0</td>\n",
       "      <td>0.000000</td>\n",
       "      <td>0.00</td>\n",
       "      <td>0.0</td>\n",
       "      <td>0.0</td>\n",
       "      <td>0.0</td>\n",
       "      <td>0.0</td>\n",
       "      <td>...</td>\n",
       "      <td>0.0</td>\n",
       "      <td>0.0</td>\n",
       "      <td>0.0</td>\n",
       "      <td>0.0</td>\n",
       "      <td>0.000000</td>\n",
       "      <td>0.000000</td>\n",
       "      <td>0.0</td>\n",
       "      <td>0.0</td>\n",
       "      <td>0.0</td>\n",
       "      <td>0.0</td>\n",
       "    </tr>\n",
       "    <tr>\n",
       "      <th>redbrll</th>\n",
       "      <td>0.000000</td>\n",
       "      <td>0.0</td>\n",
       "      <td>0.000000</td>\n",
       "      <td>0.0</td>\n",
       "      <td>0.000000</td>\n",
       "      <td>0.00</td>\n",
       "      <td>0.0</td>\n",
       "      <td>0.0</td>\n",
       "      <td>0.0</td>\n",
       "      <td>0.0</td>\n",
       "      <td>...</td>\n",
       "      <td>0.0</td>\n",
       "      <td>0.0</td>\n",
       "      <td>0.0</td>\n",
       "      <td>0.0</td>\n",
       "      <td>0.000000</td>\n",
       "      <td>0.000000</td>\n",
       "      <td>0.0</td>\n",
       "      <td>0.0</td>\n",
       "      <td>0.0</td>\n",
       "      <td>0.0</td>\n",
       "    </tr>\n",
       "    <tr>\n",
       "      <th>Gfrasti</th>\n",
       "      <td>0.000000</td>\n",
       "      <td>0.0</td>\n",
       "      <td>0.000000</td>\n",
       "      <td>0.0</td>\n",
       "      <td>0.000000</td>\n",
       "      <td>0.00</td>\n",
       "      <td>0.0</td>\n",
       "      <td>0.0</td>\n",
       "      <td>0.0</td>\n",
       "      <td>0.0</td>\n",
       "      <td>...</td>\n",
       "      <td>0.0</td>\n",
       "      <td>0.0</td>\n",
       "      <td>0.0</td>\n",
       "      <td>0.0</td>\n",
       "      <td>0.000000</td>\n",
       "      <td>0.000000</td>\n",
       "      <td>0.0</td>\n",
       "      <td>0.0</td>\n",
       "      <td>0.0</td>\n",
       "      <td>0.0</td>\n",
       "    </tr>\n",
       "    <tr>\n",
       "      <th>SmartyxD</th>\n",
       "      <td>0.000000</td>\n",
       "      <td>0.0</td>\n",
       "      <td>0.000000</td>\n",
       "      <td>0.0</td>\n",
       "      <td>0.000000</td>\n",
       "      <td>0.00</td>\n",
       "      <td>0.0</td>\n",
       "      <td>0.0</td>\n",
       "      <td>0.0</td>\n",
       "      <td>0.0</td>\n",
       "      <td>...</td>\n",
       "      <td>0.0</td>\n",
       "      <td>0.0</td>\n",
       "      <td>0.0</td>\n",
       "      <td>0.0</td>\n",
       "      <td>0.000000</td>\n",
       "      <td>0.000000</td>\n",
       "      <td>0.0</td>\n",
       "      <td>0.0</td>\n",
       "      <td>0.0</td>\n",
       "      <td>0.0</td>\n",
       "    </tr>\n",
       "  </tbody>\n",
       "</table>\n",
       "<p>228 rows × 79 columns</p>\n",
       "</div>"
      ],
      "text/plain": [
       "               Sammelwahn  Schießstand  Mauerfall  Mini Survivalgames  \\\n",
       "Allooy          21.025641         10.0  12.857143                 0.0   \n",
       "cediiiiii_10    41.538462         47.5  37.142857                 0.0   \n",
       "Muniix          11.025641         25.0  24.285714                 0.0   \n",
       "_n3d            17.692308         10.0  14.285714                 0.0   \n",
       "qriezmannsOpa    7.179487         42.5   0.000000                 0.0   \n",
       "...                   ...          ...        ...                 ...   \n",
       "TheBreadHD       0.000000          0.0   0.000000                 0.0   \n",
       "Axollotel        0.000000          0.0   0.000000                 0.0   \n",
       "redbrll          0.000000          0.0   0.000000                 0.0   \n",
       "Gfrasti          0.000000          0.0   0.000000                 0.0   \n",
       "SmartyxD         0.000000          0.0   0.000000                 0.0   \n",
       "\n",
       "                Lasertag  Minengefecht  Einer im Köcher  Spleef  Buntes Chaos  \\\n",
       "Allooy          0.000000         22.50             50.0   100.0         100.0   \n",
       "cediiiiii_10   10.000000         35.00             10.0    70.0         100.0   \n",
       "Muniix         16.666667         10.00              4.0    70.0         100.0   \n",
       "_n3d           30.000000         13.75              4.0    90.0         100.0   \n",
       "qriezmannsOpa  35.000000         10.00              0.0    90.0          50.0   \n",
       "...                  ...           ...              ...     ...           ...   \n",
       "TheBreadHD      0.000000          0.00              0.0     0.0           0.0   \n",
       "Axollotel       0.000000          0.00              0.0     0.0           0.0   \n",
       "redbrll         0.000000          0.00              0.0     0.0           0.0   \n",
       "Gfrasti         0.000000          0.00              0.0     0.0           0.0   \n",
       "SmartyxD        0.000000          0.00              0.0     0.0           0.0   \n",
       "\n",
       "               Reihenfolge  ...  Todeswürfel  Freier Fall  Elytrarennen  \\\n",
       "Allooy                 0.0  ...          0.0          0.0          90.0   \n",
       "cediiiiii_10           0.0  ...          0.0          0.0          42.5   \n",
       "Muniix                 0.0  ...          0.0          0.0          12.5   \n",
       "_n3d                   0.0  ...          0.0          0.0          45.0   \n",
       "qriezmannsOpa          0.0  ...          0.0          0.0          42.5   \n",
       "...                    ...  ...          ...          ...           ...   \n",
       "TheBreadHD             0.0  ...          0.0          0.0           0.0   \n",
       "Axollotel              0.0  ...          0.0          0.0           0.0   \n",
       "redbrll                0.0  ...          0.0          0.0           0.0   \n",
       "Gfrasti                0.0  ...          0.0          0.0           0.0   \n",
       "SmartyxD               0.0  ...          0.0          0.0           0.0   \n",
       "\n",
       "               Waffenfolge  Minenfeld  Kletterkönig  Ampelrennen  Hoch hinaus  \\\n",
       "Allooy                 0.0  10.000000     23.333333          0.0         80.0   \n",
       "cediiiiii_10           0.0  10.000000     23.333333         10.0         20.0   \n",
       "Muniix                 0.0   0.000000     46.666667          0.0          0.0   \n",
       "_n3d                   0.0  50.000000     20.000000         15.0          0.0   \n",
       "qriezmannsOpa          0.0  46.666667     56.666667          0.0          0.0   \n",
       "...                    ...        ...           ...          ...          ...   \n",
       "TheBreadHD             0.0   0.000000      0.000000          0.0          0.0   \n",
       "Axollotel              0.0   0.000000      0.000000          0.0          0.0   \n",
       "redbrll                0.0   0.000000      0.000000          0.0          0.0   \n",
       "Gfrasti                0.0   0.000000      0.000000          0.0          0.0   \n",
       "SmartyxD               0.0   0.000000      0.000000          0.0          0.0   \n",
       "\n",
       "               Frostiger Pfad  Runterpurzeln  \n",
       "Allooy                    0.0           60.0  \n",
       "cediiiiii_10              0.0           80.0  \n",
       "Muniix                    0.0          100.0  \n",
       "_n3d                      0.0           30.0  \n",
       "qriezmannsOpa             0.0           70.0  \n",
       "...                       ...            ...  \n",
       "TheBreadHD                0.0            0.0  \n",
       "Axollotel                 0.0            0.0  \n",
       "redbrll                   0.0            0.0  \n",
       "Gfrasti                   0.0            0.0  \n",
       "SmartyxD                  0.0            0.0  \n",
       "\n",
       "[228 rows x 79 columns]"
      ]
     },
     "execution_count": 33,
     "metadata": {},
     "output_type": "execute_result"
    }
   ],
   "source": [
    "outDf"
   ]
  },
  {
   "cell_type": "code",
   "execution_count": null,
   "metadata": {},
   "outputs": [
    {
     "data": {
      "text/plain": [
       "Index(['Sammelwahn', 'Schießstand', 'Mauerfall', 'Mini Survivalgames',\n",
       "       'Lasertag', 'Minengefecht', 'Einer im Köcher', 'Spleef', 'Buntes Chaos',\n",
       "       'Reihenfolge', 'Duelle', 'Turmroulette', 'Sammelwahn', 'Schießstand',\n",
       "       'Mauerfall', 'Mini Survivalgames', 'Lasertag', 'Minengefecht',\n",
       "       'Einer im Köcher', 'Spleef', 'Buntes Chaos', 'Reihenfolge', 'Duelle',\n",
       "       'Turmroulette', 'Sammelwahn', 'Schießstand', 'Mauerfall',\n",
       "       'Mini Survivalgames', 'Lasertag', 'Minengefecht', 'Einer im Köcher',\n",
       "       'Spleef', 'Buntes Chaos', 'Reihenfolge', 'Duelle', 'Turmroulette',\n",
       "       'Wettrennen', 'Jump and Run', 'Pferderennen', 'Drachenflucht',\n",
       "       'Replika', 'Todeswürfel', 'Freier Fall', 'Elytrarennen', 'Waffenfolge',\n",
       "       'Minenfeld', 'Kletterkönig', 'Ampelrennen', 'Hoch hinaus',\n",
       "       'Frostiger Pfad', 'Runterpurzeln', 'Total', 'Sammelwahn', 'Schießstand',\n",
       "       'Mauerfall', 'Mini Survivalgames', 'Lasertag', 'Minengefecht',\n",
       "       'Einer im Köcher', 'Spleef', 'Buntes Chaos', 'Reihenfolge', 'Duelle',\n",
       "       'Turmroulette', 'Wettrennen', 'Jump and Run', 'Pferderennen',\n",
       "       'Drachenflucht', 'Replika', 'Todeswürfel', 'Freier Fall',\n",
       "       'Elytrarennen', 'Waffenfolge', 'Minenfeld', 'Kletterkönig',\n",
       "       'Ampelrennen', 'Hoch hinaus', 'Frostiger Pfad', 'Runterpurzeln'],\n",
       "      dtype='object')"
      ]
     },
     "execution_count": 34,
     "metadata": {},
     "output_type": "execute_result"
    }
   ],
   "source": []
  },
  {
   "cell_type": "code",
   "execution_count": null,
   "metadata": {},
   "outputs": [
    {
     "data": {
      "text/plain": [
       "Index(['Sammelwahn', 'Schießstand', 'Mauerfall', 'Mini Survivalgames',\n",
       "       'Lasertag', 'Minengefecht', 'Einer im Köcher', 'Spleef', 'Buntes Chaos',\n",
       "       'Reihenfolge', 'Duelle', 'Turmroulette', 'Wettrennen', 'Jump and Run',\n",
       "       'Pferderennen', 'Drachenflucht', 'Replika', 'Todeswürfel',\n",
       "       'Freier Fall', 'Elytrarennen', 'Waffenfolge', 'Minenfeld',\n",
       "       'Kletterkönig', 'Ampelrennen', 'Hoch hinaus', 'Frostiger Pfad',\n",
       "       'Runterpurzeln', 'Total'],\n",
       "      dtype='object')"
      ]
     },
     "execution_count": 36,
     "metadata": {},
     "output_type": "execute_result"
    }
   ],
   "source": []
  },
  {
   "cell_type": "code",
   "execution_count": null,
   "metadata": {},
   "outputs": [],
   "source": []
  }
 ],
 "metadata": {
  "kernelspec": {
   "display_name": ".venv",
   "language": "python",
   "name": "python3"
  },
  "language_info": {
   "codemirror_mode": {
    "name": "ipython",
    "version": 3
   },
   "file_extension": ".py",
   "mimetype": "text/x-python",
   "name": "python",
   "nbconvert_exporter": "python",
   "pygments_lexer": "ipython3",
   "version": "3.9.6"
  }
 },
 "nbformat": 4,
 "nbformat_minor": 2
}
